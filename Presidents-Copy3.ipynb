{
 "cells": [
  {
   "cell_type": "code",
   "execution_count": 1,
   "metadata": {},
   "outputs": [
    {
     "ename": "ImportError",
     "evalue": "No module named node2vec",
     "output_type": "error",
     "traceback": [
      "\u001b[0;31m----------------------------------------------------------\u001b[0m",
      "\u001b[0;31mImportError\u001b[0m              Traceback (most recent call last)",
      "\u001b[0;32m<ipython-input-1-6865397add35>\u001b[0m in \u001b[0;36m<module>\u001b[0;34m()\u001b[0m\n\u001b[1;32m      1\u001b[0m \u001b[0;32mimport\u001b[0m \u001b[0mmatplotlib\u001b[0m\u001b[0;34m.\u001b[0m\u001b[0mpyplot\u001b[0m \u001b[0;32mas\u001b[0m \u001b[0mmpl\u001b[0m\u001b[0;34m\u001b[0m\u001b[0m\n\u001b[0;32m----> 2\u001b[0;31m \u001b[0;32mfrom\u001b[0m \u001b[0manalyze\u001b[0m \u001b[0;32mimport\u001b[0m \u001b[0;34m*\u001b[0m\u001b[0;34m\u001b[0m\u001b[0m\n\u001b[0m\u001b[1;32m      3\u001b[0m \u001b[0;32mfrom\u001b[0m \u001b[0mutils\u001b[0m \u001b[0;32mimport\u001b[0m \u001b[0;34m*\u001b[0m\u001b[0;34m\u001b[0m\u001b[0m\n\u001b[1;32m      4\u001b[0m \u001b[0;32mfrom\u001b[0m \u001b[0mTextPOSDirected\u001b[0m \u001b[0;32mimport\u001b[0m \u001b[0mTextPOSDirected\u001b[0m \u001b[0;32mas\u001b[0m \u001b[0mGraphGenerator\u001b[0m\u001b[0;34m\u001b[0m\u001b[0m\n\u001b[1;32m      5\u001b[0m \u001b[0;32mfrom\u001b[0m \u001b[0mmultiprocessing\u001b[0m \u001b[0;32mimport\u001b[0m \u001b[0mPool\u001b[0m\u001b[0;34m\u001b[0m\u001b[0m\n",
      "\u001b[0;32m/Volumes/HAL/Homework/CS 224W/textnet/analyze.py\u001b[0m in \u001b[0;36m<module>\u001b[0;34m()\u001b[0m\n\u001b[1;32m     17\u001b[0m \u001b[0;32mimport\u001b[0m \u001b[0mrandom\u001b[0m\u001b[0;34m\u001b[0m\u001b[0m\n\u001b[1;32m     18\u001b[0m \u001b[0;32mfrom\u001b[0m \u001b[0mutils\u001b[0m \u001b[0;32mimport\u001b[0m \u001b[0;34m*\u001b[0m\u001b[0;34m\u001b[0m\u001b[0m\n\u001b[0;32m---> 19\u001b[0;31m \u001b[0;32mfrom\u001b[0m \u001b[0mnode2vec\u001b[0m \u001b[0;32mimport\u001b[0m \u001b[0mNode2Vec\u001b[0m\u001b[0;34m\u001b[0m\u001b[0m\n\u001b[0m\u001b[1;32m     20\u001b[0m \u001b[0;32mfrom\u001b[0m \u001b[0mTextPOSDirected\u001b[0m \u001b[0;32mimport\u001b[0m \u001b[0mTextPOSDirected\u001b[0m \u001b[0;32mas\u001b[0m \u001b[0mGraphGenerator\u001b[0m\u001b[0;34m\u001b[0m\u001b[0m\n\u001b[1;32m     21\u001b[0m \u001b[0;32mimport\u001b[0m \u001b[0mmatplotlib\u001b[0m\u001b[0;34m.\u001b[0m\u001b[0mpyplot\u001b[0m \u001b[0;32mas\u001b[0m \u001b[0mplt\u001b[0m\u001b[0;34m\u001b[0m\u001b[0m\n",
      "\u001b[0;31mImportError\u001b[0m: No module named node2vec"
     ]
    }
   ],
   "source": [
    "import matplotlib.pyplot as mpl\n",
    "from analyze import *\n",
    "from utils import *\n",
    "from TextPOS import TextPOS as GraphGenerator\n",
    "from multiprocessing import Pool\n",
    "\n",
    "N_CORES = 8\n",
    "emb, word2id_dict, id2word_dict  = load_embeddings()"
   ]
  },
  {
   "cell_type": "code",
   "execution_count": 2,
   "metadata": {},
   "outputs": [
    {
     "name": "stdout",
     "output_type": "stream",
     "text": [
      "<function gen_style_vec at 0x7fb028499510>\n"
     ]
    }
   ],
   "source": [
    "print(gen_style_vec)"
   ]
  },
  {
   "cell_type": "code",
   "execution_count": 3,
   "metadata": {
    "scrolled": true
   },
   "outputs": [
    {
     "name": "stdout",
     "output_type": "stream",
     "text": [
      "Unk percentage: 0.0034482758620689655\n",
      "Unk percentage: 0.004667444574095682\n",
      "Unk percentage: 0.0016129032258064516\n",
      "Unk percentage: 0.007863340563991324\n",
      "Unk percentage: 0.00375\n",
      "Unk percentage: 0.006648608717064762\n",
      "Unk percentage: 0.006265322800326887\n",
      "Unk percentage: 0.0052323791935980305\n"
     ]
    },
    {
     "name": "stderr",
     "output_type": "stream",
     "text": [
      "/home/amanjuna/.local/lib/python3.6/site-packages/networkx/drawing/nx_pylab.py:611: MatplotlibDeprecationWarning: isinstance(..., numbers.Number)\n",
      "  if cb.is_numlike(alpha):\n"
     ]
    },
    {
     "name": "stdout",
     "output_type": "stream",
     "text": [
      "cluster began\n",
      "Unk percentage: 0.0016129032258064516\n",
      "cluster end\n",
      "Unk percentage: 0.0012539184952978057\n",
      "Unk percentage: 0.0037369207772795215\n"
     ]
    },
    {
     "name": "stderr",
     "output_type": "stream",
     "text": [
      "/home/amanjuna/.local/lib/python3.6/site-packages/networkx/drawing/nx_pylab.py:611: MatplotlibDeprecationWarning: isinstance(..., numbers.Number)\n",
      "  if cb.is_numlike(alpha):\n"
     ]
    },
    {
     "name": "stdout",
     "output_type": "stream",
     "text": [
      "[(('increase', 'NN'), 61.35000000000013), (('act', 'NN'), 62.0166666666668), (('force', 'NN'), 62.60000000000013), (('it', 'PRP'), 63.433333333333444), (('should', 'MD'), 63.976190476190595), ((\"''\", \"''\"), 65.85000000000012), (('will', 'MD'), 65.93333333333345), (('number', 'NN'), 68.51666666666675), (('to', 'TO'), 81.23333333333322)] (300,)\n"
     ]
    },
    {
     "name": "stderr",
     "output_type": "stream",
     "text": [
      "\r",
      "Computing transition probabilities:   0%|          | 0/144 [00:00<?, ?it/s]"
     ]
    },
    {
     "name": "stdout",
     "output_type": "stream",
     "text": [
      "cluster began\n",
      "cluster end\n"
     ]
    },
    {
     "name": "stderr",
     "output_type": "stream",
     "text": [
      "\r",
      "Computing transition probabilities:  51%|█████▏    | 74/144 [00:00<00:00, 736.71it/s]"
     ]
    },
    {
     "name": "stdout",
     "output_type": "stream",
     "text": [
      "Unk percentage: 0.007863247863247864\n",
      "Unk percentage: 0.007782101167315175\n"
     ]
    },
    {
     "name": "stderr",
     "output_type": "stream",
     "text": [
      "Computing transition probabilities: 100%|██████████| 144/144 [00:00<00:00, 724.19it/s]\n",
      "Generating walks (CPU: 1):   0%|          | 0/10 [00:00<?, ?it/s]"
     ]
    },
    {
     "name": "stdout",
     "output_type": "stream",
     "text": [
      "Unk percentage: 0.0031466331025802393\n"
     ]
    },
    {
     "name": "stderr",
     "output_type": "stream",
     "text": [
      "/home/amanjuna/.local/lib/python3.6/site-packages/networkx/drawing/nx_pylab.py:611: MatplotlibDeprecationWarning: isinstance(..., numbers.Number)\n",
      "  if cb.is_numlike(alpha):\n",
      "/home/amanjuna/.local/lib/python3.6/site-packages/networkx/drawing/nx_pylab.py:611: MatplotlibDeprecationWarning: isinstance(..., numbers.Number)\n",
      "  if cb.is_numlike(alpha):\n"
     ]
    },
    {
     "name": "stdout",
     "output_type": "stream",
     "text": [
      "Unk percentage: 0.007282772476142642\n"
     ]
    },
    {
     "name": "stderr",
     "output_type": "stream",
     "text": [
      "/home/amanjuna/.local/lib/python3.6/site-packages/networkx/drawing/nx_pylab.py:611: MatplotlibDeprecationWarning: isinstance(..., numbers.Number)\n",
      "  if cb.is_numlike(alpha):\n"
     ]
    },
    {
     "name": "stdout",
     "output_type": "stream",
     "text": [
      "cluster began\n",
      "cluster end\n",
      "cluster began\n",
      "cluster end\n",
      "[(('america', 'NN'), 98.51666666666665), (('katzenbach', 'NN'), 98.78333333333329), (('klan', 'NN'), 99.75952380952378), (('they', 'PRP'), 99.87619047619042), (('will', 'MD'), 102.22619047619035), (('law', 'NN'), 103.51666666666644), (('their', 'PRP$'), 103.63333333333313), (('legislation', 'NN'), 105.8499999999997), (('to', 'TO'), 119.51666666666625)] (300,)\n"
     ]
    },
    {
     "name": "stderr",
     "output_type": "stream",
     "text": [
      "/home/amanjuna/.local/lib/python3.6/site-packages/networkx/drawing/nx_pylab.py:611: MatplotlibDeprecationWarning: isinstance(..., numbers.Number)\n",
      "  if cb.is_numlike(alpha):\n",
      "Computing transition probabilities:   0%|          | 0/271 [00:00<?, ?it/s]"
     ]
    },
    {
     "name": "stdout",
     "output_type": "stream",
     "text": [
      "cluster began\n",
      "cluster end\n",
      "[(('application', 'NN'), 51.428968253968364), (('proclamation', 'NN'), 51.428968253968364), (('such', 'JJ'), 51.495634920635034), (('legislature', 'NN'), 51.9623015873017), (('laws', 'NNS'), 52.49285714285726), (('shall', 'MD'), 52.98452380952392), (('states', 'NNS'), 58.04285714285722), (('state', 'NN'), 62.58452380952388), (('to', 'TO'), 68.21785714285717)] (300,)\n"
     ]
    },
    {
     "name": "stderr",
     "output_type": "stream",
     "text": [
      "Computing transition probabilities:  20%|█▉        | 53/271 [00:00<00:00, 526.74it/s]"
     ]
    },
    {
     "name": "stdout",
     "output_type": "stream",
     "text": [
      "cluster began\n",
      "cluster end\n"
     ]
    },
    {
     "name": "stderr",
     "output_type": "stream",
     "text": [
      "\r",
      "Computing transition probabilities:  43%|████▎     | 54/126 [00:00<00:00, 540.00it/s]"
     ]
    },
    {
     "name": "stdout",
     "output_type": "stream",
     "text": [
      "Unk percentage: 0.0011492051331162612\n"
     ]
    },
    {
     "name": "stderr",
     "output_type": "stream",
     "text": [
      "/home/amanjuna/.local/lib/python3.6/site-packages/networkx/drawing/nx_pylab.py:611: MatplotlibDeprecationWarning: isinstance(..., numbers.Number)\n",
      "  if cb.is_numlike(alpha):\n",
      "Computing transition probabilities: 100%|██████████| 126/126 [00:00<00:00, 483.42it/s]"
     ]
    },
    {
     "name": "stdout",
     "output_type": "stream",
     "text": [
      "cluster began\n"
     ]
    },
    {
     "name": "stderr",
     "output_type": "stream",
     "text": [
      "\n",
      "Generating walks (CPU: 1):   0%|          | 0/10 [00:00<?, ?it/s]"
     ]
    },
    {
     "name": "stdout",
     "output_type": "stream",
     "text": [
      "cluster end\n"
     ]
    },
    {
     "name": "stderr",
     "output_type": "stream",
     "text": [
      "Generating walks (CPU: 1):  20%|██        | 2/10 [00:00<00:03,  2.22it/s], 404.30it/s]"
     ]
    },
    {
     "name": "stdout",
     "output_type": "stream",
     "text": [
      "[(('outrages', 'NNS'), 130.99999999999937), (('executive', 'NN'), 131.41666666666603), (('their', 'PRP$'), 132.0999999999992), (('power', 'NN'), 134.2333333333327), (('lives', 'NNS'), 135.0499999999994), (('our', 'PRP$'), 137.1333333333327), (('not', 'RB'), 137.2999999999994), (('can', 'MD'), 139.23333333333275), (('to', 'TO'), 180.68333333333396)] (300,)\n"
     ]
    },
    {
     "name": "stderr",
     "output_type": "stream",
     "text": [
      "\r",
      "Computing transition probabilities:   0%|          | 0/321 [00:00<?, ?it/s]"
     ]
    },
    {
     "name": "stdout",
     "output_type": "stream",
     "text": [
      "Unk percentage: 0.004638833664678595\n"
     ]
    },
    {
     "name": "stderr",
     "output_type": "stream",
     "text": [
      "Computing transition probabilities: 100%|██████████| 271/271 [00:00<00:00, 437.89it/s]\n",
      "Computing transition probabilities:  30%|███       | 97/321 [00:00<00:00, 471.92it/s]"
     ]
    },
    {
     "name": "stdout",
     "output_type": "stream",
     "text": [
      "[(('9/11', 'CD'), 151.44285714285695), (('people', 'NNS'), 151.99285714285708), (('attacks', 'NNS'), 152.15952380952373), (('it', 'PRP'), 152.52619047619038), (('us', 'PRP'), 154.2928571428572), (('who', 'WP'), 165.75952380952452), (('we', 'PRP'), 177.97619047619114), (('our', 'PRP$'), 188.27619047619118), (('to', 'TO'), 193.67619047619107)] (300,)\n"
     ]
    },
    {
     "name": "stderr",
     "output_type": "stream",
     "text": [
      "\r",
      "Computing transition probabilities:   0%|          | 0/365 [00:00<?, ?it/s]"
     ]
    },
    {
     "name": "stdout",
     "output_type": "stream",
     "text": [
      "[(('commitment', 'NN'), 154.0813492063488), (('country', 'NN'), 156.38134920634892), (('will', 'MD'), 156.73849206349175), (('peace', 'NN'), 156.77023809523777), (('it', 'PRP'), 159.75515873015863), (('people', 'NNS'), 160.33134920634913), (('we', 'PRP'), 172.63452380952438), (('our', 'PRP$'), 180.16071428571522), (('to', 'TO'), 197.49404761904827)] (300,)\n"
     ]
    },
    {
     "name": "stderr",
     "output_type": "stream",
     "text": [
      "Generating walks (CPU: 1):  20%|██        | 2/10 [00:00<00:02,  3.69it/s] 305.97it/s]]"
     ]
    },
    {
     "name": "stdout",
     "output_type": "stream",
     "text": [
      "[(('will', 'MD'), 141.33333333333297), (('authority', 'NN'), 143.71666666666647), (('it', 'PRP'), 144.4999999999998), (('act', 'NN'), 144.4999999999998), (('treaty', 'NN'), 145.0333333333332), (('law', 'NN'), 145.49999999999983), (('state', 'NN'), 146.4166666666666), (('states', 'NNS'), 148.75000000000006), (('to', 'TO'), 195.6500000000005)] (300,)\n"
     ]
    },
    {
     "name": "stderr",
     "output_type": "stream",
     "text": [
      "Computing transition probabilities:  21%|██        | 82/388 [00:00<00:00, 403.60it/s]]"
     ]
    },
    {
     "name": "stdout",
     "output_type": "stream",
     "text": [
      "Unk percentage: 0.0075551151845429775\n"
     ]
    },
    {
     "name": "stderr",
     "output_type": "stream",
     "text": [
      "Computing transition probabilities: 100%|██████████| 321/321 [00:00<00:00, 429.22it/s]\n",
      "Computing transition probabilities:  51%|█████     | 196/388 [00:00<00:00, 304.83it/s]"
     ]
    },
    {
     "name": "stdout",
     "output_type": "stream",
     "text": [
      "Unk percentage: 0.008880994671403197\n"
     ]
    },
    {
     "name": "stderr",
     "output_type": "stream",
     "text": [
      "Computing transition probabilities:  95%|█████████▍| 345/365 [00:00<00:00, 385.52it/s]"
     ]
    },
    {
     "name": "stdout",
     "output_type": "stream",
     "text": [
      "Unk percentage: 0.006640381821954763\n"
     ]
    },
    {
     "name": "stderr",
     "output_type": "stream",
     "text": [
      "Computing transition probabilities: 100%|██████████| 365/365 [00:00<00:00, 374.42it/s]\n",
      "Computing transition probabilities: 100%|██████████| 329/329 [00:00<00:00, 374.34it/s]\n",
      "Computing transition probabilities: 100%|██████████| 388/388 [00:01<00:00, 349.33it/s]\n",
      "Generating walks (CPU: 1):   0%|          | 0/10 [00:00<?, ?it/s]"
     ]
    },
    {
     "name": "stdout",
     "output_type": "stream",
     "text": [
      "Unk percentage: 0.001839587932303164\n"
     ]
    },
    {
     "name": "stderr",
     "output_type": "stream",
     "text": [
      "Generating walks (CPU: 1):  20%|██        | 2/10 [00:01<00:05,  1.45it/s]"
     ]
    },
    {
     "name": "stdout",
     "output_type": "stream",
     "text": [
      "Unk percentage: 0.0013434841021047917\n",
      "Unk percentage: 0.002932551319648094\n"
     ]
    },
    {
     "name": "stderr",
     "output_type": "stream",
     "text": [
      "Generating walks (CPU: 1):  50%|█████     | 5/10 [00:02<00:02,  2.25it/s]"
     ]
    },
    {
     "name": "stdout",
     "output_type": "stream",
     "text": [
      "Unk percentage: 0.0014537902388369677\n",
      "Unk percentage: 0.0009683666881859264\n"
     ]
    },
    {
     "name": "stderr",
     "output_type": "stream",
     "text": [
      "Generating walks (CPU: 1):  60%|██████    | 6/10 [00:02<00:01,  2.03it/s]"
     ]
    },
    {
     "name": "stdout",
     "output_type": "stream",
     "text": [
      "Unk percentage: 0.0011267028577281574\n"
     ]
    },
    {
     "name": "stderr",
     "output_type": "stream",
     "text": [
      "Generating walks (CPU: 1):  20%|██        | 2/10 [00:01<00:07,  1.10it/s]"
     ]
    },
    {
     "name": "stdout",
     "output_type": "stream",
     "text": [
      "Unk percentage: 0.0005983724269985639\n"
     ]
    },
    {
     "name": "stderr",
     "output_type": "stream",
     "text": [
      "Generating walks (CPU: 1):  80%|████████  | 8/10 [00:04<00:01,  1.74it/s]"
     ]
    },
    {
     "name": "stdout",
     "output_type": "stream",
     "text": [
      "Unk percentage: 0.0021617497456765007\n"
     ]
    },
    {
     "name": "stderr",
     "output_type": "stream",
     "text": [
      "Generating walks (CPU: 1):  30%|███       | 3/10 [00:03<00:07,  1.01s/it]"
     ]
    },
    {
     "name": "stdout",
     "output_type": "stream",
     "text": [
      "Unk percentage: 0.001936108422071636\n"
     ]
    },
    {
     "name": "stderr",
     "output_type": "stream",
     "text": [
      "Generating walks (CPU: 1):  90%|█████████ | 9/10 [00:04<00:00,  1.84it/s]/home/amanjuna/.local/lib/python3.6/site-packages/networkx/drawing/nx_pylab.py:611: MatplotlibDeprecationWarning: isinstance(..., numbers.Number)\n",
      "  if cb.is_numlike(alpha):\n",
      "Generating walks (CPU: 1):  30%|███       | 3/10 [00:03<00:07,  1.07s/it]"
     ]
    },
    {
     "name": "stdout",
     "output_type": "stream",
     "text": [
      "cluster began\n",
      "cluster end\n"
     ]
    },
    {
     "name": "stderr",
     "output_type": "stream",
     "text": [
      "Generating walks (CPU: 1): 100%|██████████| 10/10 [00:05<00:00,  1.83it/s]"
     ]
    },
    {
     "name": "stdout",
     "output_type": "stream",
     "text": [
      "[(('i', 'JJ'), 117.98333333333277), (('who', 'WP'), 119.54999999999943), (('bill', 'NN'), 119.76666666666605), (('our', 'PRP$'), 120.4166666666661), (('she', 'PRP'), 126.5333333333328), (('her', 'PRP$'), 128.83333333333272), (('it', 'PRP'), 132.76666666666614), (('--', ':'), 137.41666666666615), (('to', 'TO'), 146.93333333333345)] (300,)\n"
     ]
    },
    {
     "name": "stderr",
     "output_type": "stream",
     "text": [
      "Computing transition probabilities:  54%|█████▍    | 164/301 [00:00<00:00, 538.47it/s]\n",
      "\n",
      "Computing transition probabilities: 100%|██████████| 301/301 [00:00<00:00, 524.76it/s]\n",
      "Generating walks (CPU: 1):  50%|█████     | 5/10 [00:05<00:05,  1.15s/it]"
     ]
    },
    {
     "name": "stdout",
     "output_type": "stream",
     "text": [
      "Unk percentage: 0.00459194322688374\n",
      "Unk percentage: 0.004968944099378882\n",
      "cluster began\n",
      "cluster end\n"
     ]
    },
    {
     "name": "stderr",
     "output_type": "stream",
     "text": [
      "\r",
      "Generating walks (CPU: 1):  40%|████      | 4/10 [00:04<00:07,  1.26s/it]"
     ]
    },
    {
     "name": "stdout",
     "output_type": "stream",
     "text": [
      "Unk percentage: 0.0021164021164021165\n",
      "[(('may', 'MD'), 92.76666666666652), (('laws', 'NNS'), 93.23333333333312), (('it', 'PRP'), 96.14999999999971), ((\"''\", \"''\"), 96.5666666666664), (('they', 'PRP'), 98.34999999999967), (('oregon', 'NN'), 98.98333333333296), (('government', 'NN'), 100.89999999999968), (('their', 'PRP$'), 108.78333333333302), (('to', 'TO'), 124.74999999999979)] (300,)\n"
     ]
    },
    {
     "name": "stderr",
     "output_type": "stream",
     "text": [
      "Computing transition probabilities:  74%|███████▍  | 172/231 [00:00<00:00, 536.76it/s]"
     ]
    },
    {
     "name": "stdout",
     "output_type": "stream",
     "text": [
      "cluster began\n",
      "cluster end\n"
     ]
    },
    {
     "name": "stderr",
     "output_type": "stream",
     "text": [
      "Computing transition probabilities: 100%|██████████| 231/231 [00:00<00:00, 522.37it/s]\n",
      "Generating walks (CPU: 1):  20%|██        | 2/10 [00:01<00:06,  1.26it/s]"
     ]
    },
    {
     "name": "stdout",
     "output_type": "stream",
     "text": [
      "[(('other', 'JJ'), 144.26904761904737), (('vessel', 'NN'), 145.09404761904742), (('war', 'NN'), 146.9357142857142), (('united', 'JJ'), 147.21785714285693), (('not', 'RB'), 148.0190476190476), ((';', ':'), 148.31071428571428), (('shall', 'MD'), 152.10238095238114), (('states', 'NNS'), 154.81071428571468), (('to', 'TO'), 182.18571428571485)] (300,)\n"
     ]
    },
    {
     "name": "stderr",
     "output_type": "stream",
     "text": [
      "Computing transition probabilities: 100%|██████████| 353/353 [00:00<00:00, 374.18it/s]\n",
      "Generating walks (CPU: 1):  70%|███████   | 7/10 [00:11<00:05,  1.68s/it]]\n",
      "Generating walks (CPU: 1):  90%|█████████ | 9/10 [00:12<00:01,  1.47s/it]"
     ]
    },
    {
     "name": "stdout",
     "output_type": "stream",
     "text": [
      "Unk percentage: 0.013078826440438318\n"
     ]
    },
    {
     "name": "stderr",
     "output_type": "stream",
     "text": [
      "Generating walks (CPU: 1):  80%|████████  | 8/10 [00:12<00:03,  1.64s/it]"
     ]
    },
    {
     "name": "stdout",
     "output_type": "stream",
     "text": [
      "Unk percentage: 0.005255527364987314\n"
     ]
    },
    {
     "name": "stderr",
     "output_type": "stream",
     "text": [
      "Generating walks (CPU: 1): 100%|██████████| 10/10 [00:13<00:00,  1.41s/it]"
     ]
    },
    {
     "name": "stdout",
     "output_type": "stream",
     "text": [
      "Unk percentage: 0.009847198641765705\n"
     ]
    },
    {
     "name": "stderr",
     "output_type": "stream",
     "text": [
      "\r",
      "Generating walks (CPU: 1):  80%|████████  | 8/10 [00:12<00:03,  1.72s/it]"
     ]
    },
    {
     "name": "stdout",
     "output_type": "stream",
     "text": [
      "Unk percentage: 0.007611241217798595\n",
      "Unk percentage: 0.00603090840557859\n"
     ]
    },
    {
     "name": "stderr",
     "output_type": "stream",
     "text": [
      "Generating walks (CPU: 1): 100%|██████████| 10/10 [00:13<00:00,  1.47s/it]"
     ]
    },
    {
     "name": "stdout",
     "output_type": "stream",
     "text": [
      "Unk percentage: 0.0033250207813798837\n"
     ]
    },
    {
     "name": "stderr",
     "output_type": "stream",
     "text": [
      "\r",
      "Generating walks (CPU: 1):  50%|█████     | 5/10 [00:07<00:07,  1.45s/it]"
     ]
    },
    {
     "name": "stdout",
     "output_type": "stream",
     "text": [
      "Unk percentage: 0.00468448608432075\n"
     ]
    },
    {
     "name": "stderr",
     "output_type": "stream",
     "text": [
      "\r",
      "Generating walks (CPU: 1):  80%|████████  | 8/10 [00:09<00:02,  1.32s/it]"
     ]
    },
    {
     "name": "stdout",
     "output_type": "stream",
     "text": [
      "Unk percentage: 0.005012531328320802\n"
     ]
    },
    {
     "name": "stderr",
     "output_type": "stream",
     "text": [
      "\n",
      "Generating walks (CPU: 1):  90%|█████████ | 9/10 [00:14<00:01,  1.70s/it]"
     ]
    },
    {
     "name": "stdout",
     "output_type": "stream",
     "text": [
      "Unk percentage: 0.008960855211444742\n"
     ]
    },
    {
     "name": "stderr",
     "output_type": "stream",
     "text": [
      "Generating walks (CPU: 1):  90%|█████████ | 9/10 [00:14<00:01,  1.74s/it]]"
     ]
    },
    {
     "name": "stdout",
     "output_type": "stream",
     "text": [
      "Unk percentage: 0.002577319587628866\n",
      "cluster began\n",
      "cluster end\n"
     ]
    },
    {
     "name": "stderr",
     "output_type": "stream",
     "text": [
      "\n",
      "Generating walks (CPU: 1):  60%|██████    | 6/10 [00:08<00:06,  1.55s/it]"
     ]
    },
    {
     "name": "stdout",
     "output_type": "stream",
     "text": [
      "[(('generation', 'NN'), 132.2345238095231), (('nation', 'NN'), 132.5678571428564), (('i', 'NN'), 132.76904761904686), (('law', 'NN'), 135.45952380952306), (('it', 'PRP'), 135.92738095238025), (('freedom', 'NN'), 137.03452380952314), (('not', 'RB'), 140.9607142857137), (('our', 'PRP$'), 149.167857142857), ((',', ','), 175.64285714285782)] (300,)\n"
     ]
    },
    {
     "name": "stderr",
     "output_type": "stream",
     "text": [
      "Computing transition probabilities:   0%|          | 0/331 [00:00<?, ?it/s]\n",
      "Computing transition probabilities:  11%|█▏        | 38/331 [00:00<00:00, 377.68it/s]"
     ]
    },
    {
     "name": "stdout",
     "output_type": "stream",
     "text": [
      "Unk percentage: 0.0031545741324921135\n"
     ]
    },
    {
     "name": "stderr",
     "output_type": "stream",
     "text": [
      "Computing transition probabilities:  76%|███████▌  | 250/331 [00:00<00:00, 410.34it/s]"
     ]
    },
    {
     "name": "stdout",
     "output_type": "stream",
     "text": [
      "cluster began\n",
      "cluster end\n"
     ]
    },
    {
     "name": "stderr",
     "output_type": "stream",
     "text": [
      "Computing transition probabilities: 100%|██████████| 331/331 [00:00<00:00, 397.36it/s]\n",
      "Generating walks (CPU: 1): 100%|██████████| 10/10 [00:16<00:00,  1.80s/it]"
     ]
    },
    {
     "name": "stdout",
     "output_type": "stream",
     "text": [
      "Unk percentage: 0.0037926675094816687\n",
      "Unk percentage: 0.004243281471004243\n",
      "Unk percentage: 0.0043821209465381246\n",
      "cluster began\n",
      "cluster end\n",
      "[(('he', 'PRP'), 151.66785714285703), (('$', '$'), 151.78452380952368), (('africa', 'NN'), 151.83452380952372), (('congress', 'NN'), 152.32619047619036), (('them', 'PRP'), 154.45119047619048), (('it', 'PRP'), 157.36785714285728), (('negroes', 'NNS'), 159.0011904761908), (('may', 'MD'), 159.30119047619078), (('to', 'TO'), 206.60952380952435)] (300,)\n"
     ]
    },
    {
     "name": "stderr",
     "output_type": "stream",
     "text": [
      "Computing transition probabilities:  11%|█         | 40/360 [00:00<00:00, 399.08it/s]"
     ]
    },
    {
     "name": "stdout",
     "output_type": "stream",
     "text": [
      "[(('it', 'PRP'), 78.95000000000002), (('may', 'MD'), 79.46666666666671), (('my', 'PRP$'), 79.94999999999999), ((\"''\", \"''\"), 80.03333333333333), (('proposal', 'NN'), 80.06666666666663), (('advice', 'NN'), 82.31666666666658), (('their', 'PRP$'), 82.68333333333322), (('senate', 'NN'), 86.0999999999998), (('to', 'TO'), 101.34999999999978)] (300,)\n"
     ]
    },
    {
     "name": "stderr",
     "output_type": "stream",
     "text": [
      "\r",
      "Computing transition probabilities:   0%|          | 0/191 [00:00<?, ?it/s]"
     ]
    },
    {
     "name": "stdout",
     "output_type": "stream",
     "text": [
      "cluster began\n",
      "cluster end\n"
     ]
    },
    {
     "name": "stderr",
     "output_type": "stream",
     "text": [
      "Computing transition probabilities: 100%|██████████| 191/191 [00:00<00:00, 605.39it/s]\n",
      "Computing transition probabilities:  74%|███████▍  | 266/360 [00:00<00:00, 390.18it/s]"
     ]
    },
    {
     "name": "stdout",
     "output_type": "stream",
     "text": [
      "[(('senate', 'NN'), 127.0301587301582), (('subject', 'NN'), 128.74682539682487), (('their', 'PRP$'), 132.3007936507929), (('them', 'PRP'), 133.24960317460253), (('nations', 'NNS'), 134.71349206349146), (('it', 'PRP'), 135.68571428571366), (('will', 'MD'), 136.81626984126925), (('they', 'PRP'), 137.92460317460265), ((',', ','), 170.83293650793723)] (300,)\n"
     ]
    },
    {
     "name": "stderr",
     "output_type": "stream",
     "text": [
      "Computing transition probabilities:  86%|████████▌ | 308/360 [00:00<00:00, 398.49it/s]\n",
      "Computing transition probabilities: 100%|██████████| 360/360 [00:00<00:00, 369.45it/s]\n",
      "Computing transition probabilities:  88%|████████▊ | 284/321 [00:00<00:00, 457.02it/s]\n",
      "Computing transition probabilities: 100%|██████████| 321/321 [00:00<00:00, 450.63it/s]\n",
      "Generating walks (CPU: 1):   0%|          | 0/10 [00:00<?, ?it/s]\n",
      "Generating walks (CPU: 1):  80%|████████  | 8/10 [00:12<00:03,  1.71s/it]"
     ]
    },
    {
     "name": "stdout",
     "output_type": "stream",
     "text": [
      "Unk percentage: 0.0019342359767891683\n"
     ]
    },
    {
     "name": "stderr",
     "output_type": "stream",
     "text": [
      "Generating walks (CPU: 1):  20%|██        | 2/10 [00:01<00:07,  1.14it/s]"
     ]
    },
    {
     "name": "stdout",
     "output_type": "stream",
     "text": [
      "Unk percentage: 0.008267568583239383\n",
      "Unk percentage: 0.005190311418685121\n"
     ]
    },
    {
     "name": "stderr",
     "output_type": "stream",
     "text": [
      "\r",
      "Generating walks (CPU: 1):  40%|████      | 4/10 [00:02<00:03,  1.56it/s]"
     ]
    },
    {
     "name": "stdout",
     "output_type": "stream",
     "text": [
      "Unk percentage: 0.007361671811921159\n"
     ]
    },
    {
     "name": "stderr",
     "output_type": "stream",
     "text": [
      "\r",
      "Generating walks (CPU: 1):  20%|██        | 2/10 [00:01<00:06,  1.23it/s]"
     ]
    },
    {
     "name": "stdout",
     "output_type": "stream",
     "text": [
      "Unk percentage: 0.0013764624913971094\n",
      "Unk percentage: 0.006128702757916241\n",
      "Unk percentage: 0.0012277470841006752\n",
      "Unk percentage: 0.0022624434389140274\n",
      "Unk percentage: 0.012782159369050857\n",
      "cluster began\n",
      "cluster end\n",
      "Unk percentage: 0.013194788058716806\n"
     ]
    },
    {
     "name": "stderr",
     "output_type": "stream",
     "text": [
      "\r",
      "Generating walks (CPU: 1):  50%|█████     | 5/10 [00:03<00:03,  1.38it/s]"
     ]
    },
    {
     "name": "stdout",
     "output_type": "stream",
     "text": [
      "cluster began\n",
      "cluster end\n",
      "[(('president', 'NN'), 113.90156232656189), (('country', 'NN'), 115.31822899322862), (('department', 'NN'), 115.68489565989526), (('congress', 'NN'), 115.83489565989521), (('it', 'PRP'), 116.26822899322858), (('will', 'MD'), 117.1301337551333), (('transportation', 'NN'), 123.94680042180006), (('our', 'PRP$'), 127.38654401154365), (('to', 'TO'), 138.36346708846682)] (300,)\n"
     ]
    },
    {
     "name": "stderr",
     "output_type": "stream",
     "text": [
      "Computing transition probabilities:  15%|█▍        | 42/284 [00:00<00:00, 418.49it/s]"
     ]
    },
    {
     "name": "stdout",
     "output_type": "stream",
     "text": [
      "Unk percentage: 0.004280243298040099\n"
     ]
    },
    {
     "name": "stderr",
     "output_type": "stream",
     "text": [
      "\r",
      "Computing transition probabilities:  31%|███▏      | 89/284 [00:00<00:00, 429.87it/s]"
     ]
    },
    {
     "name": "stdout",
     "output_type": "stream",
     "text": [
      "[(('more', 'JJR'), 127.35952380952332), (('deficit', 'NN'), 128.44285714285664), (('not', 'RB'), 129.38333333333279), (('we', 'PRP'), 130.4761904761899), (('our', 'PRP$'), 130.54999999999947), (('you', 'PRP'), 131.10952380952324), (('agreement', 'NN'), 137.04999999999967), (('will', 'MD'), 137.43333333333297), (('to', 'TO'), 152.96666666666712)] (300,)\n"
     ]
    },
    {
     "name": "stderr",
     "output_type": "stream",
     "text": [
      "Computing transition probabilities:  68%|██████▊   | 192/284 [00:00<00:00, 468.85it/s]"
     ]
    },
    {
     "name": "stdout",
     "output_type": "stream",
     "text": [
      "Unk percentage: 0.0016501650165016502\n"
     ]
    },
    {
     "name": "stderr",
     "output_type": "stream",
     "text": [
      "Computing transition probabilities: 100%|██████████| 284/284 [00:00<00:00, 471.21it/s]\n",
      "Computing transition probabilities:  63%|██████▎   | 187/295 [00:00<00:00, 458.50it/s]"
     ]
    },
    {
     "name": "stdout",
     "output_type": "stream",
     "text": [
      "Unk percentage: 0.0018034265103697023\n"
     ]
    },
    {
     "name": "stderr",
     "output_type": "stream",
     "text": [
      "Computing transition probabilities: 100%|██████████| 295/295 [00:00<00:00, 432.91it/s]\n",
      "Generating walks (CPU: 1):   0%|          | 0/10 [00:00<?, ?it/s]"
     ]
    },
    {
     "name": "stdout",
     "output_type": "stream",
     "text": [
      "cluster began\n",
      "cluster end\n"
     ]
    },
    {
     "name": "stderr",
     "output_type": "stream",
     "text": [
      "\r",
      "Generating walks (CPU: 1):  70%|███████   | 7/10 [00:05<00:02,  1.26it/s]"
     ]
    },
    {
     "name": "stdout",
     "output_type": "stream",
     "text": [
      "[(('i', 'NN'), 115.76666666666621), (('their', 'PRP$'), 118.68333333333281), (('war', 'NN'), 120.09999999999957), (('--', ':'), 121.81666666666615), (('will', 'MD'), 130.16666666666606), (('we', 'PRP'), 132.06666666666612), (('iraq', 'NN'), 135.7166666666662), (('to', 'TO'), 138.4499999999995), (('our', 'PRP$'), 140.03333333333313)] (300,)\n"
     ]
    },
    {
     "name": "stderr",
     "output_type": "stream",
     "text": [
      "Computing transition probabilities: 100%|██████████| 292/292 [00:00<00:00, 418.86it/s]\n",
      "Generating walks (CPU: 1):  50%|█████     | 5/10 [00:06<00:06,  1.29s/it]\n",
      "Generating walks (CPU: 1):  50%|█████     | 5/10 [00:07<00:07,  1.51s/it]]\n",
      "Generating walks (CPU: 1):  30%|███       | 3/10 [00:02<00:06,  1.11it/s]"
     ]
    },
    {
     "name": "stdout",
     "output_type": "stream",
     "text": [
      "Unk percentage: 0.001652892561983471\n"
     ]
    },
    {
     "name": "stderr",
     "output_type": "stream",
     "text": [
      "Generating walks (CPU: 1):  40%|████      | 4/10 [00:04<00:06,  1.10s/it]"
     ]
    },
    {
     "name": "stdout",
     "output_type": "stream",
     "text": [
      "Unk percentage: 0.00267379679144385\n",
      "cluster began\n",
      "cluster end\n",
      "cluster began\n",
      "cluster end\n",
      "[(('duty', 'NN'), 74.80515873015892), (('cherokees', 'NNS'), 75.43849206349226), (('them', 'PRP'), 77.2218253968255), (('commissioners', 'NNS'), 78.47182539682548), (('may', 'MD'), 78.53849206349213), (('i', 'NN'), 78.85515873015882), (('it', 'PRP'), 81.81230158730156), (('their', 'PRP$'), 83.77182539682532), (('to', 'TO'), 101.68849206349185)] (300,)\n"
     ]
    },
    {
     "name": "stderr",
     "output_type": "stream",
     "text": [
      "Computing transition probabilities: 100%|██████████| 198/198 [00:00<00:00, 685.46it/s]\n",
      "Generating walks (CPU: 1):   0%|          | 0/10 [00:00<?, ?it/s]"
     ]
    },
    {
     "name": "stdout",
     "output_type": "stream",
     "text": [
      "[(('country', 'NN'), 147.06666666666598), ((';', ':'), 149.24285714285634), (('annexation', 'NN'), 150.25952380952333), (('us', 'PRP'), 158.2761904761906), (('treaty', 'NN'), 159.7261904761906), (('will', 'MD'), 162.02619047619075), (('it', 'PRP'), 165.94285714285766), (('our', 'PRP$'), 169.3261904761911), (('to', 'TO'), 206.92619047619115)] (300,)\n"
     ]
    },
    {
     "name": "stderr",
     "output_type": "stream",
     "text": [
      "Computing transition probabilities: 100%|██████████| 374/374 [00:00<00:00, 427.33it/s]\n",
      "Generating walks (CPU: 1):  90%|█████████ | 9/10 [00:14<00:01,  1.72s/it]]\n",
      "Generating walks (CPU: 1): 100%|██████████| 10/10 [00:12<00:00,  1.33s/it]\n",
      "Generating walks (CPU: 1):  90%|█████████ | 9/10 [00:10<00:01,  1.33s/it]]"
     ]
    },
    {
     "name": "stdout",
     "output_type": "stream",
     "text": [
      "Unk percentage: 0.006331976481230212\n"
     ]
    },
    {
     "name": "stderr",
     "output_type": "stream",
     "text": [
      "\r",
      "Generating walks (CPU: 1): 100%|██████████| 10/10 [00:12<00:00,  1.32s/it]"
     ]
    },
    {
     "name": "stdout",
     "output_type": "stream",
     "text": [
      "Unk percentage: 0.0017237664296487825\n",
      "Unk percentage: 0.009585330277141072\n"
     ]
    },
    {
     "name": "stderr",
     "output_type": "stream",
     "text": [
      "\r",
      "Generating walks (CPU: 1): 100%|██████████| 10/10 [00:07<00:00,  1.10it/s]"
     ]
    },
    {
     "name": "stdout",
     "output_type": "stream",
     "text": [
      "Unk percentage: 0.0016741071428571428\n"
     ]
    },
    {
     "name": "stderr",
     "output_type": "stream",
     "text": [
      "\n"
     ]
    },
    {
     "name": "stdout",
     "output_type": "stream",
     "text": [
      "Unk percentage: 0.002457002457002457\n",
      "Unk percentage: 0.0015503875968992248\n"
     ]
    },
    {
     "name": "stderr",
     "output_type": "stream",
     "text": [
      "\r",
      "Generating walks (CPU: 1):  50%|█████     | 5/10 [00:07<00:07,  1.60s/it]"
     ]
    },
    {
     "name": "stdout",
     "output_type": "stream",
     "text": [
      "Unk percentage: 0.010437575270975512\n"
     ]
    },
    {
     "name": "stderr",
     "output_type": "stream",
     "text": [
      "Generating walks (CPU: 1): 100%|██████████| 10/10 [00:12<00:00,  1.46s/it]\n"
     ]
    },
    {
     "name": "stdout",
     "output_type": "stream",
     "text": [
      "cluster began\n",
      "cluster end\n"
     ]
    },
    {
     "name": "stderr",
     "output_type": "stream",
     "text": [
      "\n",
      "\n"
     ]
    },
    {
     "name": "stdout",
     "output_type": "stream",
     "text": [
      "Unk percentage: 0.014760147601476014\n",
      "cluster began\n",
      "cluster end\n",
      "[(('freedom', 'NN'), 72.95000000000006), (('voice', 'NN'), 73.06666666666672), (('shield', 'NN'), 73.15000000000005), (('would', 'MD'), 74.45000000000002), (('will', 'MD'), 75.56666666666663), (('UNK', 'NNP'), 79.03333333333322), (('she', 'PRP'), 80.1166666666665), (('to', 'TO'), 83.44999999999978), (('her', 'PRP$'), 85.6166666666664)] (300,)\n"
     ]
    },
    {
     "name": "stderr",
     "output_type": "stream",
     "text": [
      "\r",
      "Computing transition probabilities:   0%|          | 0/174 [00:00<?, ?it/s]"
     ]
    },
    {
     "name": "stdout",
     "output_type": "stream",
     "text": [
      "[(('security', 'NN'), 131.254761904761), (('nuclear', 'JJ'), 134.3452380952372), (('it', 'PRP'), 135.72857142857063), (('we', 'PRP'), 138.6285714285706), (('nations', 'NNS'), 139.2880952380944), (('not', 'RB'), 149.27619047619038), (('treaty', 'NN'), 153.3357142857143), (('--', ':'), 155.8857142857145), ((',', ','), 169.24285714285796)] (300,)\n"
     ]
    },
    {
     "name": "stderr",
     "output_type": "stream",
     "text": [
      "Computing transition probabilities:  21%|██▏       | 72/336 [00:00<00:00, 351.46it/s]]"
     ]
    },
    {
     "name": "stdout",
     "output_type": "stream",
     "text": [
      "Unk percentage: 0.0011960421876698925\n"
     ]
    },
    {
     "name": "stderr",
     "output_type": "stream",
     "text": [
      "Computing transition probabilities: 100%|██████████| 174/174 [00:00<00:00, 528.61it/s]\n",
      "Computing transition probabilities:  84%|████████▎ | 281/336 [00:00<00:00, 393.12it/s]\n"
     ]
    },
    {
     "name": "stdout",
     "output_type": "stream",
     "text": [
      "Unk percentage: 0.0034252344320287497\n",
      "Unk percentage: 0.008830869648684968\n"
     ]
    },
    {
     "name": "stderr",
     "output_type": "stream",
     "text": [
      "Computing transition probabilities: 100%|██████████| 336/336 [00:00<00:00, 382.20it/s]\n",
      "Generating walks (CPU: 1):   0%|          | 0/10 [00:00<?, ?it/s]"
     ]
    },
    {
     "name": "stdout",
     "output_type": "stream",
     "text": [
      "Unk percentage: 0.007042253521126761\n"
     ]
    },
    {
     "name": "stderr",
     "output_type": "stream",
     "text": [
      "Generating walks (CPU: 1):  20%|██        | 2/10 [00:00<00:03,  2.10it/s]"
     ]
    },
    {
     "name": "stdout",
     "output_type": "stream",
     "text": [
      "cluster began\n",
      "cluster end\n",
      "Unk percentage: 0.00135464643727987\n",
      "[(('troops', 'NNS'), 32.81468253968252), ((',', ','), 32.85634920634919), (('their', 'PRP$'), 33.28134920634918), (('necessary', 'JJ'), 34.271825396825385), (('american', 'JJ'), 34.938492063492056), (('i', 'NN'), 35.49563492063489), (('just', 'RB'), 35.75515873015872), (('republic', 'NN'), 36.74404761904761), (('dominican', 'JJ'), 37.70238095238095)] (300,)\n"
     ]
    },
    {
     "name": "stderr",
     "output_type": "stream",
     "text": [
      "Computing transition probabilities: 100%|██████████| 104/104 [00:00<00:00, 1007.46it/s]\n",
      "Generating walks (CPU: 1):   0%|          | 0/10 [00:00<?, ?it/s]"
     ]
    },
    {
     "name": "stdout",
     "output_type": "stream",
     "text": [
      "Unk percentage: 0.0022696323195642307\n",
      "Unk percentage: 0.010169491525423728\n",
      "Unk percentage: 0.002053388090349076\n"
     ]
    },
    {
     "name": "stderr",
     "output_type": "stream",
     "text": [
      "\r",
      "Generating walks (CPU: 1):  20%|██        | 2/10 [00:00<00:02,  3.79it/s]"
     ]
    },
    {
     "name": "stdout",
     "output_type": "stream",
     "text": [
      "cluster began\n",
      "cluster end\n",
      "[(('4th', 'CD'), 35.34563492063491), (('february', 'NN'), 35.34563492063491), (('america', 'NN'), 35.41785714285714), (('peace', 'NN'), 35.56230158730158), (('president', 'NN'), 36.159523809523805), (('to', 'TO'), 37.60119047619047), (('july', 'NN'), 37.64563492063492), (('states', 'NNS'), 37.976190476190474), (('treaty', 'NN'), 38.24563492063493)] (300,)\n"
     ]
    },
    {
     "name": "stderr",
     "output_type": "stream",
     "text": [
      "Computing transition probabilities: 100%|██████████| 92/92 [00:00<00:00, 855.80it/s]\n",
      "Generating walks (CPU: 1):  30%|███       | 3/10 [00:02<00:04,  1.54it/s]"
     ]
    },
    {
     "name": "stdout",
     "output_type": "stream",
     "text": [
      "Unk percentage: 0.0009549578226961642\n",
      "Unk percentage: 0.001977587343441002\n",
      "Unk percentage: 0.004227642276422764\n"
     ]
    },
    {
     "name": "stderr",
     "output_type": "stream",
     "text": [
      "Generating walks (CPU: 1):  20%|██        | 2/10 [00:00<00:01,  4.27it/s]"
     ]
    },
    {
     "name": "stdout",
     "output_type": "stream",
     "text": [
      "Unk percentage: 0.000656024491581019\n"
     ]
    },
    {
     "name": "stderr",
     "output_type": "stream",
     "text": [
      "\r",
      "Generating walks (CPU: 1):  20%|██        | 2/10 [00:01<00:07,  1.02it/s]"
     ]
    },
    {
     "name": "stdout",
     "output_type": "stream",
     "text": [
      "Unk percentage: 0.0037712771379064315\n"
     ]
    },
    {
     "name": "stderr",
     "output_type": "stream",
     "text": [
      "\r",
      "Generating walks (CPU: 1):  40%|████      | 4/10 [00:01<00:02,  2.53it/s]"
     ]
    },
    {
     "name": "stdout",
     "output_type": "stream",
     "text": [
      "Unk percentage: 0.004411764705882353\n"
     ]
    },
    {
     "name": "stderr",
     "output_type": "stream",
     "text": [
      "\r",
      "Generating walks (CPU: 1):  30%|███       | 3/10 [00:00<00:02,  3.15it/s]"
     ]
    },
    {
     "name": "stdout",
     "output_type": "stream",
     "text": [
      "Unk percentage: 0.003885381253035454\n"
     ]
    },
    {
     "name": "stderr",
     "output_type": "stream",
     "text": [
      "\r",
      "Generating walks (CPU: 1):  40%|████      | 4/10 [00:03<00:04,  1.28it/s]"
     ]
    },
    {
     "name": "stdout",
     "output_type": "stream",
     "text": [
      "Unk percentage: 0.0006563833278634722\n"
     ]
    },
    {
     "name": "stderr",
     "output_type": "stream",
     "text": [
      "Generating walks (CPU: 1):  40%|████      | 4/10 [00:01<00:02,  2.82it/s]"
     ]
    },
    {
     "name": "stdout",
     "output_type": "stream",
     "text": [
      "Unk percentage: 0.0073200488003253355\n",
      "Unk percentage: 0.0030865929625680452\n",
      "Unk percentage: 0.006675567423230975\n"
     ]
    },
    {
     "name": "stderr",
     "output_type": "stream",
     "text": [
      "\r",
      "Generating walks (CPU: 1):  50%|█████     | 5/10 [00:01<00:01,  2.69it/s]"
     ]
    },
    {
     "name": "stdout",
     "output_type": "stream",
     "text": [
      "Unk percentage: 0.0010479983232026828\n"
     ]
    },
    {
     "name": "stderr",
     "output_type": "stream",
     "text": [
      "\r",
      "Generating walks (CPU: 1):  60%|██████    | 6/10 [00:02<00:01,  2.02it/s]"
     ]
    },
    {
     "name": "stdout",
     "output_type": "stream",
     "text": [
      "Unk percentage: 0.0009637006103437199\n",
      "Unk percentage: 0.0072602216278181125\n"
     ]
    },
    {
     "name": "stderr",
     "output_type": "stream",
     "text": [
      "Generating walks (CPU: 1):  50%|█████     | 5/10 [00:04<00:04,  1.10it/s]"
     ]
    },
    {
     "name": "stdout",
     "output_type": "stream",
     "text": [
      "Unk percentage: 0.0027220142905750254\n"
     ]
    },
    {
     "name": "stderr",
     "output_type": "stream",
     "text": [
      "Generating walks (CPU: 1):  30%|███       | 3/10 [00:03<00:08,  1.24s/it]"
     ]
    },
    {
     "name": "stdout",
     "output_type": "stream",
     "text": [
      "Unk percentage: 0.0012340600575894694\n",
      "Unk percentage: 0.0035460992907801418\n",
      "Unk percentage: 0.001349527665317139\n"
     ]
    },
    {
     "name": "stderr",
     "output_type": "stream",
     "text": [
      "\r",
      "Generating walks (CPU: 1):  70%|███████   | 7/10 [00:02<00:01,  2.40it/s]"
     ]
    },
    {
     "name": "stdout",
     "output_type": "stream",
     "text": [
      "Unk percentage: 0.0022471910112359553\n",
      "cluster began\n",
      "cluster end\n",
      "Unk percentage: 0.0011799410029498525\n"
     ]
    },
    {
     "name": "stderr",
     "output_type": "stream",
     "text": [
      "\r",
      "Generating walks (CPU: 1):  80%|████████  | 8/10 [00:03<00:01,  1.96it/s]"
     ]
    },
    {
     "name": "stdout",
     "output_type": "stream",
     "text": [
      "cluster began\n",
      "cluster end\n",
      "[(('means', 'NNS'), 93.51666666666647), ((\"''\", \"''\"), 93.71666666666654), (('they', 'PRP'), 94.29999999999977), (('such', 'JJ'), 96.04999999999971), (('so', 'RB'), 96.51666666666637), (('will', 'MD'), 100.68333333333301), (('virginia', 'NN'), 102.68333333333308), (('states', 'NNS'), 104.01666666666638), (('to', 'TO'), 125.74999999999977)] (300,)\n"
     ]
    },
    {
     "name": "stderr",
     "output_type": "stream",
     "text": [
      "Computing transition probabilities:  20%|█▉        | 46/233 [00:00<00:00, 455.51it/s]"
     ]
    },
    {
     "name": "stdout",
     "output_type": "stream",
     "text": [
      "Unk percentage: 0.010966693744922826\n"
     ]
    },
    {
     "name": "stderr",
     "output_type": "stream",
     "text": [
      "Computing transition probabilities:  41%|████      | 95/233 [00:00<00:00, 463.90it/s]"
     ]
    },
    {
     "name": "stdout",
     "output_type": "stream",
     "text": [
      "[(('time', 'NN'), 99.51230158730127), (('we', 'PRP'), 99.78452380952353), (('iraq', 'NN'), 100.91785714285682), (('war', 'NN'), 101.99563492063454), (('not', 'RB'), 103.01230158730121), (('will', 'MD'), 103.1623015873012), (('coalition', 'NN'), 103.86230158730118), (('our', 'PRP$'), 114.3456349206346), (('to', 'TO'), 119.21230158730116)] (300,)\n"
     ]
    },
    {
     "name": "stderr",
     "output_type": "stream",
     "text": [
      "Computing transition probabilities:  87%|████████▋ | 203/233 [00:00<00:00, 498.42it/s]"
     ]
    },
    {
     "name": "stdout",
     "output_type": "stream",
     "text": [
      "Unk percentage: 0.012325390304026294\n"
     ]
    },
    {
     "name": "stderr",
     "output_type": "stream",
     "text": [
      "Computing transition probabilities: 100%|██████████| 233/233 [00:00<00:00, 498.70it/s]\n",
      "Computing transition probabilities: 100%|██████████| 249/249 [00:00<00:00, 530.80it/s]\n",
      "Generating walks (CPU: 1): 100%|██████████| 10/10 [00:04<00:00,  2.21it/s]"
     ]
    },
    {
     "name": "stdout",
     "output_type": "stream",
     "text": [
      "cluster began\n",
      "cluster end\n"
     ]
    },
    {
     "name": "stderr",
     "output_type": "stream",
     "text": [
      "Generating walks (CPU: 1):  70%|███████   | 7/10 [00:06<00:02,  1.07it/s]\n",
      "Generating walks (CPU: 1):  40%|████      | 4/10 [00:05<00:08,  1.49s/it]\n"
     ]
    },
    {
     "name": "stdout",
     "output_type": "stream",
     "text": [
      "[(('united', 'JJ'), 105.14285714285708), (('not', 'RB'), 106.13452380952371), (('our', 'PRP$'), 113.63571428571392), (('--', ':'), 113.92619047619014), (('it', 'PRP'), 114.21071428571385), (('aggression', 'NN'), 115.70952380952336), (('peace', 'NN'), 121.49999999999957), (('we', 'PRP'), 130.4999999999995), (('to', 'TO'), 131.53571428571374)] (300,)\n"
     ]
    },
    {
     "name": "stderr",
     "output_type": "stream",
     "text": [
      "Computing transition probabilities:  17%|█▋        | 50/294 [00:00<00:00, 495.28it/s]"
     ]
    },
    {
     "name": "stdout",
     "output_type": "stream",
     "text": [
      "Unk percentage: 0.005076142131979695\n"
     ]
    },
    {
     "name": "stderr",
     "output_type": "stream",
     "text": [
      "\r",
      "Computing transition probabilities:  35%|███▍      | 102/294 [00:00<00:00, 502.35it/s]"
     ]
    },
    {
     "name": "stdout",
     "output_type": "stream",
     "text": [
      "Unk percentage: 0.0016155088852988692\n"
     ]
    },
    {
     "name": "stderr",
     "output_type": "stream",
     "text": [
      "Generating walks (CPU: 1):  20%|██        | 2/10 [00:01<00:05,  1.52it/s], 491.33it/s]"
     ]
    },
    {
     "name": "stdout",
     "output_type": "stream",
     "text": [
      "Unk percentage: 0.011982570806100218\n"
     ]
    },
    {
     "name": "stderr",
     "output_type": "stream",
     "text": [
      "Generating walks (CPU: 1):  80%|████████  | 8/10 [00:07<00:01,  1.09it/s], 498.52it/s]"
     ]
    },
    {
     "name": "stdout",
     "output_type": "stream",
     "text": [
      "cluster began\n",
      "cluster end\n"
     ]
    },
    {
     "name": "stderr",
     "output_type": "stream",
     "text": [
      "Computing transition probabilities: 100%|██████████| 294/294 [00:00<00:00, 460.28it/s]\n"
     ]
    },
    {
     "name": "stdout",
     "output_type": "stream",
     "text": [
      "Unk percentage: 0.009102730819245773\n"
     ]
    },
    {
     "name": "stderr",
     "output_type": "stream",
     "text": [
      "\r",
      "Generating walks (CPU: 1):   0%|          | 0/10 [00:00<?, ?it/s]"
     ]
    },
    {
     "name": "stdout",
     "output_type": "stream",
     "text": [
      "[(('government', 'NN'), 47.56031746031748), (('mountains', 'NNS'), 49.6746031746032), (('whole', 'NN'), 49.70079365079369), (('especially', 'RB'), 50.95634920634928), (('territory', 'NN'), 51.90634920634927), (('emigrants', 'NNS'), 52.106349206349286), (('our', 'PRP$'), 55.67301587301598), (('should', 'MD'), 58.080158730158885), (('to', 'TO'), 61.4273809523811)] (300,)\n"
     ]
    },
    {
     "name": "stderr",
     "output_type": "stream",
     "text": [
      "Computing transition probabilities: 100%|██████████| 151/151 [00:00<00:00, 883.61it/s]\n",
      "Generating walks (CPU: 1):  90%|█████████ | 9/10 [00:16<00:02,  2.06s/it]"
     ]
    },
    {
     "name": "stdout",
     "output_type": "stream",
     "text": [
      "Unk percentage: 0.007866813025978778\n",
      "Unk percentage: 0.001284796573875803\n"
     ]
    },
    {
     "name": "stderr",
     "output_type": "stream",
     "text": [
      "Generating walks (CPU: 1):  30%|███       | 3/10 [00:02<00:05,  1.19it/s]"
     ]
    },
    {
     "name": "stdout",
     "output_type": "stream",
     "text": [
      "Unk percentage: 0.001415762151958471\n"
     ]
    },
    {
     "name": "stderr",
     "output_type": "stream",
     "text": [
      "Generating walks (CPU: 1):  50%|█████     | 5/10 [00:07<00:08,  1.64s/it]"
     ]
    },
    {
     "name": "stdout",
     "output_type": "stream",
     "text": [
      "Unk percentage: 0.006316218418907905\n"
     ]
    },
    {
     "name": "stderr",
     "output_type": "stream",
     "text": [
      "\r",
      "Generating walks (CPU: 1):  30%|███       | 3/10 [00:02<00:06,  1.15it/s]"
     ]
    },
    {
     "name": "stdout",
     "output_type": "stream",
     "text": [
      "Unk percentage: 0.009852216748768473\n"
     ]
    },
    {
     "name": "stderr",
     "output_type": "stream",
     "text": [
      "Generating walks (CPU: 1):  30%|███       | 3/10 [00:01<00:03,  1.85it/s]]"
     ]
    },
    {
     "name": "stdout",
     "output_type": "stream",
     "text": [
      "cluster began\n",
      "cluster end\n",
      "[(('adversaries', 'NNS'), 68.76587301587325), (('will', 'MD'), 68.79087301587323), (('hostile', 'JJ'), 69.03690476190498), (('today', 'NN'), 70.22539682539707), (('forces', 'NNS'), 71.31547619047642), (('government', 'NN'), 72.43253968253991), (('UNK', 'NNP'), 72.55515873015896), (('americans', 'NNS'), 73.02182539682563), (('to', 'TO'), 93.1369047619046)] (300,)\n"
     ]
    },
    {
     "name": "stderr",
     "output_type": "stream",
     "text": [
      "Computing transition probabilities: 100%|██████████| 198/198 [00:00<00:00, 631.56it/s]\n",
      "Generating walks (CPU: 1):  40%|████      | 4/10 [00:03<00:05,  1.01it/s]\n",
      "Generating walks (CPU: 1):  50%|█████     | 5/10 [00:05<00:05,  1.12s/it]"
     ]
    },
    {
     "name": "stdout",
     "output_type": "stream",
     "text": [
      "Unk percentage: 0.006090279436350609\n"
     ]
    },
    {
     "name": "stderr",
     "output_type": "stream",
     "text": [
      "Generating walks (CPU: 1):  60%|██████    | 6/10 [00:03<00:02,  1.43it/s]"
     ]
    },
    {
     "name": "stdout",
     "output_type": "stream",
     "text": [
      "Unk percentage: 0.0077391524993656435\n"
     ]
    },
    {
     "name": "stderr",
     "output_type": "stream",
     "text": [
      "\n",
      "Generating walks (CPU: 1):  30%|███       | 3/10 [00:02<00:04,  1.41it/s]"
     ]
    },
    {
     "name": "stdout",
     "output_type": "stream",
     "text": [
      "Unk percentage: 0.006356544351343542\n"
     ]
    },
    {
     "name": "stderr",
     "output_type": "stream",
     "text": [
      "Generating walks (CPU: 1):  60%|██████    | 6/10 [00:06<00:04,  1.24s/it]"
     ]
    },
    {
     "name": "stdout",
     "output_type": "stream",
     "text": [
      "Unk percentage: 0.0014291547570436914\n"
     ]
    },
    {
     "name": "stderr",
     "output_type": "stream",
     "text": [
      "Generating walks (CPU: 1):  80%|████████  | 8/10 [00:05<00:01,  1.42it/s]"
     ]
    },
    {
     "name": "stdout",
     "output_type": "stream",
     "text": [
      "Unk percentage: 0.0016884761502743773\n"
     ]
    },
    {
     "name": "stderr",
     "output_type": "stream",
     "text": [
      "\r",
      "Generating walks (CPU: 1):  40%|████      | 4/10 [00:03<00:04,  1.21it/s]"
     ]
    },
    {
     "name": "stdout",
     "output_type": "stream",
     "text": [
      "Unk percentage: 0.0033326798666928055\n",
      "Unk percentage: 0.0018929150892374256\n"
     ]
    },
    {
     "name": "stderr",
     "output_type": "stream",
     "text": [
      "\r",
      "Generating walks (CPU: 1):  90%|█████████ | 9/10 [00:06<00:00,  1.36it/s]"
     ]
    },
    {
     "name": "stdout",
     "output_type": "stream",
     "text": [
      "Unk percentage: 0.0016542597187758478\n"
     ]
    },
    {
     "name": "stderr",
     "output_type": "stream",
     "text": [
      "Generating walks (CPU: 1):  50%|█████     | 5/10 [00:06<00:06,  1.39s/it]"
     ]
    },
    {
     "name": "stdout",
     "output_type": "stream",
     "text": [
      "Unk percentage: 0.003951319740793425\n"
     ]
    },
    {
     "name": "stderr",
     "output_type": "stream",
     "text": [
      "Generating walks (CPU: 1):  70%|███████   | 7/10 [00:08<00:03,  1.26s/it]"
     ]
    },
    {
     "name": "stdout",
     "output_type": "stream",
     "text": [
      "Unk percentage: 0.002851033499643621\n",
      "Unk percentage: 0.005562913907284768\n"
     ]
    },
    {
     "name": "stderr",
     "output_type": "stream",
     "text": [
      "\r",
      "Generating walks (CPU: 1): 100%|██████████| 10/10 [00:06<00:00,  1.36it/s]"
     ]
    },
    {
     "name": "stdout",
     "output_type": "stream",
     "text": [
      "Unk percentage: 0.0029411764705882353\n",
      "Unk percentage: 0.0032634032634032634\n"
     ]
    },
    {
     "name": "stderr",
     "output_type": "stream",
     "text": [
      "Generating walks (CPU: 1):  60%|██████    | 6/10 [00:05<00:03,  1.07it/s]"
     ]
    },
    {
     "name": "stdout",
     "output_type": "stream",
     "text": [
      "Unk percentage: 0.00407134548274525\n"
     ]
    },
    {
     "name": "stderr",
     "output_type": "stream",
     "text": [
      "\n"
     ]
    },
    {
     "name": "stdout",
     "output_type": "stream",
     "text": [
      "Unk percentage: 0.0030902348578491965\n"
     ]
    },
    {
     "name": "stderr",
     "output_type": "stream",
     "text": [
      "\r",
      "Generating walks (CPU: 1):  80%|████████  | 8/10 [00:09<00:02,  1.28s/it]"
     ]
    },
    {
     "name": "stdout",
     "output_type": "stream",
     "text": [
      "Unk percentage: 0.012377138696760102\n"
     ]
    },
    {
     "name": "stderr",
     "output_type": "stream",
     "text": [
      "Generating walks (CPU: 1):  90%|█████████ | 9/10 [00:15<00:01,  1.77s/it]"
     ]
    },
    {
     "name": "stdout",
     "output_type": "stream",
     "text": [
      "Unk percentage: 0.00430416068866571\n",
      "cluster began\n",
      "cluster end\n",
      "cluster began\n",
      "Unk percentage: 0.0018031013342949874\n",
      "cluster end\n"
     ]
    },
    {
     "name": "stderr",
     "output_type": "stream",
     "text": [
      "Generating walks (CPU: 1):  90%|█████████ | 9/10 [00:10<00:01,  1.25s/it]"
     ]
    },
    {
     "name": "stdout",
     "output_type": "stream",
     "text": [
      "Unk percentage: 0.003003003003003003\n",
      "[(('peace', 'NN'), 75.08333333333344), (('indemnity', 'NN'), 75.25000000000007), (('senate', 'NN'), 76.9166666666667), (('mexico', 'NN'), 77.75000000000004), (('treaty', 'NN'), 77.9166666666667), (('states', 'NNS'), 78.33333333333333), (('it', 'PRP'), 78.71666666666665), (('might', 'MD'), 79.43333333333327), (('to', 'TO'), 98.14999999999978)] (300,)\n"
     ]
    },
    {
     "name": "stderr",
     "output_type": "stream",
     "text": [
      "Computing transition probabilities:  39%|███▉      | 72/185 [00:00<00:00, 713.74it/s]"
     ]
    },
    {
     "name": "stdout",
     "output_type": "stream",
     "text": [
      "cluster began\n"
     ]
    },
    {
     "name": "stderr",
     "output_type": "stream",
     "text": [
      "\r",
      "Computing transition probabilities:  77%|███████▋  | 142/185 [00:00<00:00, 707.39it/s]"
     ]
    },
    {
     "name": "stdout",
     "output_type": "stream",
     "text": [
      "cluster end\n"
     ]
    },
    {
     "name": "stderr",
     "output_type": "stream",
     "text": [
      "Computing transition probabilities: 100%|██████████| 185/185 [00:00<00:00, 576.26it/s]\n",
      "Generating walks (CPU: 1):   0%|          | 0/10 [00:00<?, ?it/s]"
     ]
    },
    {
     "name": "stdout",
     "output_type": "stream",
     "text": [
      "[(('positions', 'NNS'), 157.74285714285762), (('rules', 'NNS'), 158.54285714285766), (('persons', 'NNS'), 160.12619047619108), (('appointment', 'NN'), 160.1261904761911), (('board', 'NN'), 160.54285714285777), (('service', 'NN'), 161.37619047619117), (('such', 'JJ'), 166.79285714285803), (('shall', 'MD'), 174.29285714285794), (('to', 'TO'), 193.5928571428578)] (300,)\n"
     ]
    },
    {
     "name": "stderr",
     "output_type": "stream",
     "text": [
      "Generating walks (CPU: 1):  90%|█████████ | 9/10 [00:10<00:01,  1.28s/it]s]"
     ]
    },
    {
     "name": "stdout",
     "output_type": "stream",
     "text": [
      "[(('constitution', 'NN'), 73.60000000000018), (('states', 'NNS'), 73.63333333333348), (('desirable', 'JJ'), 73.73333333333348), (('state', 'NN'), 76.55000000000008), (('such', 'JJ'), 76.65000000000005), (('its', 'PRP$'), 79.86666666666663), (('it', 'PRP'), 79.96666666666661), (('people', 'NNS'), 80.54999999999994), (('to', 'TO'), 100.14999999999982)] (300,)\n"
     ]
    },
    {
     "name": "stderr",
     "output_type": "stream",
     "text": [
      "Computing transition probabilities: 100%|██████████| 183/183 [00:00<00:00, 708.73it/s]\n",
      "Computing transition probabilities: 100%|██████████| 369/369 [00:01<00:00, 338.47it/s]\n",
      "Generating walks (CPU: 1):  30%|███       | 3/10 [00:01<00:04,  1.57it/s]]\n",
      "Generating walks (CPU: 1): 100%|██████████| 10/10 [00:09<00:00,  1.01it/s]\n",
      "Generating walks (CPU: 1):  40%|████      | 4/10 [00:02<00:04,  1.38it/s]\n",
      "Generating walks (CPU: 1):  90%|█████████ | 9/10 [00:12<00:01,  1.51s/it]"
     ]
    },
    {
     "name": "stdout",
     "output_type": "stream",
     "text": [
      "Unk percentage: 0.004524886877828055\n"
     ]
    },
    {
     "name": "stderr",
     "output_type": "stream",
     "text": [
      "\n"
     ]
    },
    {
     "name": "stdout",
     "output_type": "stream",
     "text": [
      "cluster began\n",
      "cluster end\n"
     ]
    },
    {
     "name": "stderr",
     "output_type": "stream",
     "text": [
      "\r",
      "Generating walks (CPU: 1):  50%|█████     | 5/10 [00:03<00:03,  1.28it/s]"
     ]
    },
    {
     "name": "stdout",
     "output_type": "stream",
     "text": [
      "[(('house', 'NN'), 72.78654401154418), (('washington', 'NN'), 72.90321067821084), (('states', 'NNS'), 73.25321067821082), (('government', 'NN'), 73.33654401154415), ((\"''\", \"''\"), 73.6865440115442), (('here', 'RB'), 76.66987734487738), (('not', 'RB'), 78.50321067821066), (('city', 'NN'), 79.4698773448773), (('to', 'TO'), 83.89606782106775)] (300,)\n"
     ]
    },
    {
     "name": "stderr",
     "output_type": "stream",
     "text": [
      "Computing transition probabilities:  39%|███▉      | 73/185 [00:00<00:00, 726.44it/s]"
     ]
    },
    {
     "name": "stdout",
     "output_type": "stream",
     "text": [
      "Unk percentage: 0.0021344717182497333\n"
     ]
    },
    {
     "name": "stderr",
     "output_type": "stream",
     "text": [
      "Computing transition probabilities: 100%|██████████| 185/185 [00:00<00:00, 689.30it/s]\n",
      "Generating walks (CPU: 1):   0%|          | 0/10 [00:00<?, ?it/s]"
     ]
    },
    {
     "name": "stdout",
     "output_type": "stream",
     "text": [
      "Unk percentage: 0.001813647698934482\n",
      "Unk percentage: 0.0009832841691248771\n",
      "Unk percentage: 0.0015625\n",
      "Unk percentage: 0.007061592781482934\n"
     ]
    },
    {
     "name": "stderr",
     "output_type": "stream",
     "text": [
      "\r",
      "Generating walks (CPU: 1):  60%|██████    | 6/10 [00:04<00:03,  1.21it/s]"
     ]
    },
    {
     "name": "stdout",
     "output_type": "stream",
     "text": [
      "Unk percentage: 0.008518269446312485\n",
      "Unk percentage: 0.0011409013120365088\n",
      "Unk percentage: 0.002277904328018223\n"
     ]
    },
    {
     "name": "stderr",
     "output_type": "stream",
     "text": [
      "Generating walks (CPU: 1):  60%|██████    | 6/10 [00:04<00:03,  1.22it/s]]"
     ]
    },
    {
     "name": "stdout",
     "output_type": "stream",
     "text": [
      "Unk percentage: 0.006360219716681122\n",
      "Unk percentage: 0.00584668687743612\n"
     ]
    },
    {
     "name": "stderr",
     "output_type": "stream",
     "text": [
      "\r",
      "Generating walks (CPU: 1):  20%|██        | 2/10 [00:00<00:03,  2.25it/s]"
     ]
    },
    {
     "name": "stdout",
     "output_type": "stream",
     "text": [
      "cluster began\n",
      "cluster end\n",
      "Unk percentage: 0.009578024758290412\n"
     ]
    },
    {
     "name": "stderr",
     "output_type": "stream",
     "text": [
      "\r",
      "Generating walks (CPU: 1):  30%|███       | 3/10 [00:04<00:09,  1.41s/it]"
     ]
    },
    {
     "name": "stdout",
     "output_type": "stream",
     "text": [
      "Unk percentage: 0.0019723865877712033\n"
     ]
    },
    {
     "name": "stderr",
     "output_type": "stream",
     "text": [
      "\r",
      "Generating walks (CPU: 1):  70%|███████   | 7/10 [00:05<00:02,  1.17it/s]"
     ]
    },
    {
     "name": "stdout",
     "output_type": "stream",
     "text": [
      "[(('general', 'JJ'), 94.96666666666646), (('noriega', 'NN'), 95.54999999999977), (('democracy', 'NN'), 95.69999999999975), (('canal', 'NN'), 96.03333333333309), (('states', 'NNS'), 97.56666666666638), (('forces', 'NNS'), 102.0166666666663), (('i', 'NN'), 102.18333333333301), (('panama', 'NN'), 106.21666666666633), (('to', 'TO'), 131.98333333333306)] (300,)\n"
     ]
    },
    {
     "name": "stderr",
     "output_type": "stream",
     "text": [
      "Computing transition probabilities:  44%|████▍     | 105/239 [00:00<00:00, 528.78it/s]"
     ]
    },
    {
     "name": "stdout",
     "output_type": "stream",
     "text": [
      "cluster began\n",
      "cluster end\n"
     ]
    },
    {
     "name": "stderr",
     "output_type": "stream",
     "text": [
      "Generating walks (CPU: 1):  70%|███████   | 7/10 [00:05<00:02,  1.12it/s], 470.88it/s]"
     ]
    },
    {
     "name": "stdout",
     "output_type": "stream",
     "text": [
      "Unk percentage: 0.0014405762304921968\n"
     ]
    },
    {
     "name": "stderr",
     "output_type": "stream",
     "text": [
      "Computing transition probabilities: 100%|██████████| 239/239 [00:00<00:00, 406.04it/s]\n",
      "Generating walks (CPU: 1):   0%|          | 0/10 [00:00<?, ?it/s]"
     ]
    },
    {
     "name": "stdout",
     "output_type": "stream",
     "text": [
      "[(('throckmorton', 'NN'), 97.51904761904744), (('hours', 'NNS'), 98.30238095238076), (('--', ':'), 98.5035714285713), (('law', 'NN'), 98.80238095238073), (('me', 'PRP'), 100.11904761904736), (('it', 'PRP'), 101.35476190476165), (('governor', 'NN'), 101.95238095238071), (('troops', 'NNS'), 106.7928571428568), (('to', 'TO'), 130.20952380952343)] (300,)\n",
      "Unk percentage: 0.0011365481409319695\n"
     ]
    },
    {
     "name": "stderr",
     "output_type": "stream",
     "text": [
      "Computing transition probabilities:   0%|          | 0/257 [00:00<?, ?it/s]\n",
      "Generating walks (CPU: 1):  80%|████████  | 8/10 [00:06<00:01,  1.10it/s], 536.73it/s]"
     ]
    },
    {
     "name": "stdout",
     "output_type": "stream",
     "text": [
      "Unk percentage: 0.0018610421836228288\n"
     ]
    },
    {
     "name": "stderr",
     "output_type": "stream",
     "text": [
      "Computing transition probabilities: 100%|██████████| 257/257 [00:00<00:00, 486.06it/s]\n",
      "Generating walks (CPU: 1):   0%|          | 0/10 [00:00<?, ?it/s]"
     ]
    },
    {
     "name": "stdout",
     "output_type": "stream",
     "text": [
      "Unk percentage: 0.00236833904643191\n"
     ]
    },
    {
     "name": "stderr",
     "output_type": "stream",
     "text": [
      "Generating walks (CPU: 1):  40%|████      | 4/10 [00:06<00:09,  1.63s/it]"
     ]
    },
    {
     "name": "stdout",
     "output_type": "stream",
     "text": [
      "Unk percentage: 0.0009161704076958314\n"
     ]
    },
    {
     "name": "stderr",
     "output_type": "stream",
     "text": [
      "Generating walks (CPU: 1):  90%|█████████ | 9/10 [00:07<00:00,  1.09it/s]"
     ]
    },
    {
     "name": "stdout",
     "output_type": "stream",
     "text": [
      "Unk percentage: 0.003121488325633662\n",
      "Unk percentage: 0.0037561398439757295\n"
     ]
    },
    {
     "name": "stderr",
     "output_type": "stream",
     "text": [
      "\r",
      "Generating walks (CPU: 1):  20%|██        | 2/10 [00:01<00:05,  1.58it/s]"
     ]
    },
    {
     "name": "stdout",
     "output_type": "stream",
     "text": [
      "Unk percentage: 0.005389126644476145\n"
     ]
    },
    {
     "name": "stderr",
     "output_type": "stream",
     "text": [
      "\r",
      "Generating walks (CPU: 1): 100%|██████████| 10/10 [00:08<00:00,  1.12it/s]"
     ]
    },
    {
     "name": "stdout",
     "output_type": "stream",
     "text": [
      "Unk percentage: 0.0014086310667178897\n"
     ]
    },
    {
     "name": "stderr",
     "output_type": "stream",
     "text": [
      "\r",
      "Generating walks (CPU: 1):  30%|███       | 3/10 [00:02<00:05,  1.30it/s]"
     ]
    },
    {
     "name": "stdout",
     "output_type": "stream",
     "text": [
      "Unk percentage: 0.005791505791505791\n",
      "Unk percentage: 0.003125\n"
     ]
    },
    {
     "name": "stderr",
     "output_type": "stream",
     "text": [
      "Generating walks (CPU: 1): 100%|██████████| 10/10 [00:08<00:00,  1.08it/s]"
     ]
    },
    {
     "name": "stdout",
     "output_type": "stream",
     "text": [
      "cluster began\n",
      "cluster end\n",
      "cluster began\n",
      "cluster end\n"
     ]
    },
    {
     "name": "stderr",
     "output_type": "stream",
     "text": [
      "\n"
     ]
    },
    {
     "name": "stdout",
     "output_type": "stream",
     "text": [
      "[(('our', 'PRP$'), 75.60000000000008), (('questions', 'NNS'), 75.8333333333334), (('me', 'PRP'), 76.10000000000002), (('you', 'PRP'), 76.48333333333338), (('it', 'PRP'), 77.85000000000001), (('i', 'JJ'), 78.26666666666664), (('i', 'NN'), 79.99999999999996), (('my', 'PRP$'), 90.61666666666643), (('to', 'TO'), 93.73333333333312)] (300,)\n"
     ]
    },
    {
     "name": "stderr",
     "output_type": "stream",
     "text": [
      "Computing transition probabilities:  36%|███▌      | 66/184 [00:00<00:00, 659.40it/s]"
     ]
    },
    {
     "name": "stdout",
     "output_type": "stream",
     "text": [
      "[(('members', 'NNS'), 110.04999999999961), (('first', 'JJ'), 111.42619047619004), (('now', 'RB'), 112.19404761904717), (('great', 'JJ'), 112.87738095238049), (('it', 'PRP'), 113.32738095238052), (('space', 'NN'), 115.32619047619), (('here', 'RB'), 115.5857142857138), (('to', 'TO'), 119.44285714285664), (('we', 'PRP'), 129.7690476190471)] (300,)\n"
     ]
    },
    {
     "name": "stderr",
     "output_type": "stream",
     "text": [
      "Computing transition probabilities: 100%|██████████| 184/184 [00:00<00:00, 645.03it/s]\n",
      "Generating walks (CPU: 1):  50%|█████     | 5/10 [00:08<00:09,  1.80s/it] 480.42it/s]\n",
      "Computing transition probabilities: 100%|██████████| 282/282 [00:00<00:00, 491.70it/s]\n",
      "Generating walks (CPU: 1):   0%|          | 0/10 [00:00<?, ?it/s]"
     ]
    },
    {
     "name": "stdout",
     "output_type": "stream",
     "text": [
      "Unk percentage: 0.0035842293906810036\n",
      "cluster began\n",
      "cluster end\n",
      "[(('promptly', 'RB'), 59.592857142857255), (('should', 'MD'), 61.50952380952394), (('officers', 'NNS'), 64.91666666666684), (('necessary', 'JJ'), 65.30952380952398), (('field', 'NN'), 65.53333333333352), (('it', 'PRP'), 66.37619047619066), (('army', 'NN'), 68.50952380952398), (('war', 'NN'), 68.60952380952398), (('to', 'TO'), 80.79285714285702)] (300,)\n"
     ]
    },
    {
     "name": "stderr",
     "output_type": "stream",
     "text": [
      "Generating walks (CPU: 1):  20%|██        | 2/10 [00:01<00:04,  1.96it/s]s]"
     ]
    },
    {
     "name": "stdout",
     "output_type": "stream",
     "text": [
      "Unk percentage: 0.005149330587023687\n"
     ]
    },
    {
     "name": "stderr",
     "output_type": "stream",
     "text": [
      "Computing transition probabilities: 100%|██████████| 168/168 [00:00<00:00, 751.25it/s]\n",
      "Generating walks (CPU: 1):   0%|          | 0/10 [00:00<?, ?it/s]"
     ]
    },
    {
     "name": "stdout",
     "output_type": "stream",
     "text": [
      "cluster began\n",
      "cluster end\n"
     ]
    },
    {
     "name": "stderr",
     "output_type": "stream",
     "text": [
      "\r",
      "Generating walks (CPU: 1):  50%|█████     | 5/10 [00:04<00:05,  1.03s/it]"
     ]
    },
    {
     "name": "stdout",
     "output_type": "stream",
     "text": [
      "[(('UNK', 'NNP'), 100.41666666666633), (('states', 'NNS'), 102.78333333333302), ((':', ':'), 103.08333333333297), (('united', 'JJ'), 103.24999999999967), (('vote', 'NN'), 104.49999999999969), (('state', 'NN'), 104.91666666666633), (('constitution', 'NN'), 106.99999999999969), (('i', 'NN'), 107.49999999999973), (('to', 'TO'), 117.33333333333309)] (300,)\n"
     ]
    },
    {
     "name": "stderr",
     "output_type": "stream",
     "text": [
      "Computing transition probabilities: 100%|██████████| 231/231 [00:00<00:00, 527.26it/s]\n",
      "Generating walks (CPU: 1):  50%|█████     | 5/10 [00:03<00:03,  1.36it/s]]\n",
      "Generating walks (CPU: 1):  60%|██████    | 6/10 [00:04<00:03,  1.30it/s]"
     ]
    },
    {
     "name": "stdout",
     "output_type": "stream",
     "text": [
      "Unk percentage: 0.004090740052063964\n"
     ]
    },
    {
     "name": "stderr",
     "output_type": "stream",
     "text": [
      "Generating walks (CPU: 1):  70%|███████   | 7/10 [00:07<00:03,  1.14s/it]"
     ]
    },
    {
     "name": "stdout",
     "output_type": "stream",
     "text": [
      "Unk percentage: 0.006696428571428571\n",
      "cluster began\n"
     ]
    },
    {
     "name": "stderr",
     "output_type": "stream",
     "text": [
      "\r",
      "Generating walks (CPU: 1):  80%|████████  | 8/10 [00:08<00:02,  1.13s/it]"
     ]
    },
    {
     "name": "stdout",
     "output_type": "stream",
     "text": [
      "cluster end\n"
     ]
    },
    {
     "name": "stderr",
     "output_type": "stream",
     "text": [
      "\r",
      "Generating walks (CPU: 1):  60%|██████    | 6/10 [00:03<00:02,  1.44it/s]"
     ]
    },
    {
     "name": "stdout",
     "output_type": "stream",
     "text": [
      "[(('their', 'PRP$'), 55.550000000000104), (('government', 'NN'), 56.083333333333464), (('will', 'MD'), 56.28333333333346), (('united', 'JJ'), 56.30000000000013), (('who', 'WP'), 57.683333333333465), ((';', ':'), 58.75000000000012), (('citizens', 'NNS'), 62.65000000000011), (('states', 'NNS'), 63.85000000000011), (('to', 'TO'), 66.6000000000001)] (300,)\n"
     ]
    },
    {
     "name": "stderr",
     "output_type": "stream",
     "text": [
      "Computing transition probabilities: 100%|██████████| 143/143 [00:00<00:00, 763.10it/s]\n",
      "Generating walks (CPU: 1): 100%|██████████| 10/10 [00:11<00:00,  1.24s/it]\n",
      "\n",
      "Generating walks (CPU: 1):  70%|███████   | 7/10 [00:08<00:03,  1.32s/it]\n",
      "Generating walks (CPU: 1):  70%|███████   | 7/10 [00:04<00:02,  1.45it/s]"
     ]
    },
    {
     "name": "stdout",
     "output_type": "stream",
     "text": [
      "Unk percentage: 0.002311604253351826\n"
     ]
    },
    {
     "name": "stderr",
     "output_type": "stream",
     "text": [
      "\n"
     ]
    },
    {
     "name": "stdout",
     "output_type": "stream",
     "text": [
      "Unk percentage: 0.0014204545454545455\n",
      "Unk percentage: 0.001541277333590213\n",
      "Unk percentage: 0.0019695613249776185\n",
      "Unk percentage: 0.0035971223021582736\n"
     ]
    },
    {
     "name": "stderr",
     "output_type": "stream",
     "text": [
      "Generating walks (CPU: 1): 100%|██████████| 10/10 [00:18<00:00,  2.05s/it]"
     ]
    },
    {
     "name": "stdout",
     "output_type": "stream",
     "text": [
      "cluster began\n",
      "cluster end\n"
     ]
    },
    {
     "name": "stderr",
     "output_type": "stream",
     "text": [
      "\r",
      "Generating walks (CPU: 1):  80%|████████  | 8/10 [00:05<00:01,  1.44it/s]"
     ]
    },
    {
     "name": "stdout",
     "output_type": "stream",
     "text": [
      "Unk percentage: 0.002208155454143972\n"
     ]
    },
    {
     "name": "stderr",
     "output_type": "stream",
     "text": [
      "\r",
      "Generating walks (CPU: 1):  80%|████████  | 8/10 [00:10<00:02,  1.41s/it]"
     ]
    },
    {
     "name": "stdout",
     "output_type": "stream",
     "text": [
      "[(('establishment', 'NN'), 68.47896825396846), (('government', 'NN'), 69.18452380952401), (('great', 'JJ'), 70.109523809524), (('their', 'PRP$'), 72.81230158730177), (('france', 'NN'), 73.034523809524), (('people', 'NNS'), 74.16785714285732), (('free', 'JJ'), 76.24285714285723), (('our', 'PRP$'), 76.72896825396838), (('to', 'TO'), 85.68452380952367)] (300,)\n"
     ]
    },
    {
     "name": "stderr",
     "output_type": "stream",
     "text": [
      "Computing transition probabilities:  31%|███       | 58/186 [00:00<00:00, 568.16it/s]"
     ]
    },
    {
     "name": "stdout",
     "output_type": "stream",
     "text": [
      "Unk percentage: 0.0007019514249613927\n"
     ]
    },
    {
     "name": "stderr",
     "output_type": "stream",
     "text": [
      "Computing transition probabilities: 100%|██████████| 186/186 [00:00<00:00, 623.43it/s]\n",
      "Generating walks (CPU: 1):   0%|          | 0/10 [00:00<?, ?it/s]"
     ]
    },
    {
     "name": "stdout",
     "output_type": "stream",
     "text": [
      "Unk percentage: 0.0010845986984815619\n"
     ]
    },
    {
     "name": "stderr",
     "output_type": "stream",
     "text": [
      "\r",
      "Generating walks (CPU: 1):  90%|█████████ | 9/10 [00:05<00:00,  1.38it/s]"
     ]
    },
    {
     "name": "stdout",
     "output_type": "stream",
     "text": [
      "Unk percentage: 0.00353045013239188\n",
      "Unk percentage: 0.0021253985122210413\n",
      "Unk percentage: 0.005590900327742433\n"
     ]
    },
    {
     "name": "stderr",
     "output_type": "stream",
     "text": [
      "\r",
      "Generating walks (CPU: 1):  90%|█████████ | 9/10 [00:09<00:01,  1.17s/it]"
     ]
    },
    {
     "name": "stdout",
     "output_type": "stream",
     "text": [
      "Unk percentage: 0.002040122407344441\n",
      "cluster began\n",
      "cluster end\n",
      "Unk percentage: 0.002344207853096308\n"
     ]
    },
    {
     "name": "stderr",
     "output_type": "stream",
     "text": [
      "\r",
      "Generating walks (CPU: 1):  20%|██        | 2/10 [00:00<00:03,  2.12it/s]"
     ]
    },
    {
     "name": "stdout",
     "output_type": "stream",
     "text": [
      "Unk percentage: 0.0023023791250959325\n"
     ]
    },
    {
     "name": "stderr",
     "output_type": "stream",
     "text": [
      "\r",
      "Generating walks (CPU: 1): 100%|██████████| 10/10 [00:06<00:00,  1.32it/s]"
     ]
    },
    {
     "name": "stdout",
     "output_type": "stream",
     "text": [
      "Unk percentage: 0.001630561378989052\n",
      "[(('people', 'NNS'), 114.92619047619), (('general', 'JJ'), 115.31785714285664), (('not', 'RB'), 117.80119047618992), (('force', 'NN'), 119.85119047618993), (('world', 'NN'), 121.40119047618994), (('can', 'MD'), 126.02619047618998), (('we', 'PRP'), 127.29999999999943), (('you', 'PRP'), 139.91785714285695), (('to', 'TO'), 147.2845238095239)] (300,)\n"
     ]
    },
    {
     "name": "stderr",
     "output_type": "stream",
     "text": [
      "Computing transition probabilities:  12%|█▎        | 37/296 [00:00<00:00, 366.22it/s]"
     ]
    },
    {
     "name": "stdout",
     "output_type": "stream",
     "text": [
      "Unk percentage: 0.00550812448361333\n",
      "cluster began\n",
      "cluster end\n"
     ]
    },
    {
     "name": "stderr",
     "output_type": "stream",
     "text": [
      "Computing transition probabilities:  28%|██▊       | 82/296 [00:00<00:00, 386.23it/s]\n",
      "Generating walks (CPU: 1):  30%|███       | 3/10 [00:01<00:04,  1.59it/s], 342.65it/s]"
     ]
    },
    {
     "name": "stdout",
     "output_type": "stream",
     "text": [
      "Unk percentage: 0.009052631578947368\n"
     ]
    },
    {
     "name": "stderr",
     "output_type": "stream",
     "text": [
      "Generating walks (CPU: 1): 100%|██████████| 10/10 [00:10<00:00,  1.26s/it] 326.22it/s]\n",
      "Computing transition probabilities:  93%|█████████▎| 274/296 [00:00<00:00, 310.67it/s]"
     ]
    },
    {
     "name": "stdout",
     "output_type": "stream",
     "text": [
      "[(('mission', 'NN'), 137.82619047618968), (('force', 'NN'), 139.44999999999925), (('i', 'NN'), 140.53333333333262), (('people', 'NNS'), 141.11666666666594), (('food', 'NN'), 142.18333333333263), (('not', 'RB'), 144.6333333333329), (('we', 'PRP'), 148.53333333333302), (('somalia', 'NN'), 149.08333333333312), (('to', 'TO'), 182.45000000000067)] (300,)\n"
     ]
    },
    {
     "name": "stderr",
     "output_type": "stream",
     "text": [
      "Computing transition probabilities: 100%|██████████| 296/296 [00:00<00:00, 327.07it/s]\n",
      "Computing transition probabilities:  11%|█▏        | 39/342 [00:00<00:00, 380.96it/s]"
     ]
    },
    {
     "name": "stdout",
     "output_type": "stream",
     "text": [
      "Unk percentage: 0.0013536379018612521\n"
     ]
    },
    {
     "name": "stderr",
     "output_type": "stream",
     "text": [
      "Computing transition probabilities:  31%|███       | 105/342 [00:00<00:00, 349.13it/s]"
     ]
    },
    {
     "name": "stdout",
     "output_type": "stream",
     "text": [
      "Unk percentage: 0.0025929127052722557\n"
     ]
    },
    {
     "name": "stderr",
     "output_type": "stream",
     "text": [
      "\r",
      "Computing transition probabilities:  40%|████      | 138/342 [00:00<00:00, 342.73it/s]"
     ]
    },
    {
     "name": "stdout",
     "output_type": "stream",
     "text": [
      "Unk percentage: 0.002549087151222873\n"
     ]
    },
    {
     "name": "stderr",
     "output_type": "stream",
     "text": [
      "Generating walks (CPU: 1): 100%|██████████| 10/10 [00:13<00:00,  1.58s/it] 370.59it/s]"
     ]
    },
    {
     "name": "stdout",
     "output_type": "stream",
     "text": [
      "cluster began\n",
      "cluster end\n"
     ]
    },
    {
     "name": "stderr",
     "output_type": "stream",
     "text": [
      "\n",
      "Computing transition probabilities: 100%|██████████| 342/342 [00:01<00:00, 327.91it/s]\n",
      "Generating walks (CPU: 1):   0%|          | 0/10 [00:00<?, ?it/s]"
     ]
    },
    {
     "name": "stdout",
     "output_type": "stream",
     "text": [
      "Unk percentage: 0.003051881993896236\n",
      "[(('i', 'NN'), 117.64606782106728), (('when', 'WRB'), 118.1960678210673), (('not', 'RB'), 120.7655122655118), (('president', 'NN'), 121.10440115440063), (('his', 'PRP$'), 125.89884559884516), (('we', 'PRP'), 134.31349206349154), (('us', 'PRP'), 134.4877344877339), (('our', 'PRP$'), 141.41273448773416), (('to', 'TO'), 151.67106782106816)] (300,)\n"
     ]
    },
    {
     "name": "stderr",
     "output_type": "stream",
     "text": [
      "Generating walks (CPU: 1):  20%|██        | 2/10 [00:01<00:06,  1.28it/s] 394.58it/s]"
     ]
    },
    {
     "name": "stdout",
     "output_type": "stream",
     "text": [
      "cluster began\n"
     ]
    },
    {
     "name": "stderr",
     "output_type": "stream",
     "text": [
      "\r",
      "Computing transition probabilities:  32%|███▏      | 96/302 [00:00<00:00, 303.31it/s]"
     ]
    },
    {
     "name": "stdout",
     "output_type": "stream",
     "text": [
      "cluster end\n"
     ]
    },
    {
     "name": "stderr",
     "output_type": "stream",
     "text": [
      "\r",
      "Generating walks (CPU: 1):  50%|█████     | 5/10 [00:04<00:04,  1.18it/s]"
     ]
    },
    {
     "name": "stdout",
     "output_type": "stream",
     "text": [
      "Unk percentage: 0.003205128205128205\n"
     ]
    },
    {
     "name": "stderr",
     "output_type": "stream",
     "text": [
      "Computing transition probabilities:  64%|██████▍   | 194/302 [00:00<00:00, 317.04it/s]"
     ]
    },
    {
     "name": "stdout",
     "output_type": "stream",
     "text": [
      "[(('26th', 'CD'), 101.51666666666632), (('forsyth', 'NN'), 101.79999999999966), (('same', 'JJ'), 103.68333333333297), (('i', 'NN'), 104.68333333333295), (('states', 'NNS'), 104.73333333333296), (('it', 'PRP'), 105.18333333333297), (('you', 'PRP'), 105.3166666666663), (('her', 'PRP$'), 109.0166666666663), (('to', 'TO'), 134.9666666666664)] (300,)\n",
      "cluster began\n",
      "cluster end\n"
     ]
    },
    {
     "name": "stderr",
     "output_type": "stream",
     "text": [
      "Computing transition probabilities:  87%|████████▋ | 263/302 [00:00<00:00, 326.94it/s]"
     ]
    },
    {
     "name": "stdout",
     "output_type": "stream",
     "text": [
      "Unk percentage: 0.024553571428571428\n",
      "[(('privileges', 'NNS'), 76.28333333333329), (('his', 'PRP$'), 76.8666666666666), (('shall', 'MD'), 77.73333333333326), (('president', 'NN'), 79.11666666666653), (('conspiracies', 'NNS'), 79.78333333333319), (('state', 'NN'), 81.11666666666649), (('states', 'NNS'), 82.4499999999998), (('such', 'JJ'), 85.61666666666646), (('to', 'TO'), 90.94999999999982)] (300,)\n"
     ]
    },
    {
     "name": "stderr",
     "output_type": "stream",
     "text": [
      "Computing transition probabilities: 100%|██████████| 302/302 [00:00<00:00, 332.03it/s]\n",
      "Computing transition probabilities: 100%|██████████| 175/175 [00:00<00:00, 556.66it/s]\n",
      "\n"
     ]
    },
    {
     "name": "stdout",
     "output_type": "stream",
     "text": [
      "Unk percentage: 0.004201680672268907\n"
     ]
    },
    {
     "name": "stderr",
     "output_type": "stream",
     "text": [
      "Computing transition probabilities: 100%|██████████| 257/257 [00:00<00:00, 427.12it/s]\n",
      "Generating walks (CPU: 1):  20%|██        | 2/10 [00:02<00:08,  1.04s/it]"
     ]
    },
    {
     "name": "stdout",
     "output_type": "stream",
     "text": [
      "cluster began\n",
      "cluster end\n"
     ]
    },
    {
     "name": "stderr",
     "output_type": "stream",
     "text": [
      "Generating walks (CPU: 1):  20%|██        | 2/10 [00:00<00:03,  2.20it/s]"
     ]
    },
    {
     "name": "stdout",
     "output_type": "stream",
     "text": [
      "[(('treasury', 'NN'), 126.41666666666613), (('resumption', 'NN'), 127.36666666666615), (('out', 'RP'), 127.4333333333328), (('UNK', 'NNP'), 127.56666666666617), (('currency', 'NN'), 127.766666666666), (('premium', 'NN'), 131.29999999999941), (('silver', 'NN'), 131.98333333333278), (('it', 'PRP'), 138.89999999999972), (('to', 'TO'), 177.06666666666717)] (300,)\n"
     ]
    },
    {
     "name": "stderr",
     "output_type": "stream",
     "text": [
      "Computing transition probabilities:  61%|██████▏   | 189/308 [00:00<00:00, 368.76it/s]"
     ]
    },
    {
     "name": "stdout",
     "output_type": "stream",
     "text": [
      "Unk percentage: 0.002551020408163265\n"
     ]
    },
    {
     "name": "stderr",
     "output_type": "stream",
     "text": [
      "Computing transition probabilities: 100%|██████████| 308/308 [00:00<00:00, 384.32it/s]\n",
      "Generating walks (CPU: 1):   0%|          | 0/10 [00:00<?, ?it/s]"
     ]
    },
    {
     "name": "stdout",
     "output_type": "stream",
     "text": [
      "cluster began\n",
      "cluster end\n"
     ]
    },
    {
     "name": "stderr",
     "output_type": "stream",
     "text": [
      "Generating walks (CPU: 1):  40%|████      | 4/10 [00:04<00:07,  1.21s/it]"
     ]
    },
    {
     "name": "stdout",
     "output_type": "stream",
     "text": [
      "[(('not', 'RB'), 79.32896825396853), (('congress', 'NN'), 79.91230158730183), (('when', 'WRB'), 79.91230158730184), (('afternoon', 'NN'), 80.3384920634923), (('i', 'NN'), 82.24563492063511), (('we', 'PRP'), 82.35515873015892), (('it', 'PRP'), 83.61230158730173), (('--', ':'), 84.70515873015889), (('to', 'TO'), 88.99563492063496)] (300,)\n"
     ]
    },
    {
     "name": "stderr",
     "output_type": "stream",
     "text": [
      "Computing transition probabilities: 100%|██████████| 221/221 [00:00<00:00, 613.33it/s]\n",
      "Generating walks (CPU: 1):  40%|████      | 4/10 [00:06<00:09,  1.54s/it]]\n",
      "Generating walks (CPU: 1):  50%|█████     | 5/10 [00:05<00:05,  1.13s/it]"
     ]
    },
    {
     "name": "stdout",
     "output_type": "stream",
     "text": [
      "Unk percentage: 0.005338078291814947\n",
      "cluster began\n",
      "cluster end\n"
     ]
    },
    {
     "name": "stderr",
     "output_type": "stream",
     "text": [
      "\r",
      "Generating walks (CPU: 1):  40%|████      | 4/10 [00:03<00:04,  1.22it/s]"
     ]
    },
    {
     "name": "stdout",
     "output_type": "stream",
     "text": [
      "[(('state', 'NN'), 62.40000000000015), (('misapprehension', 'NN'), 62.40000000000015), ((\"''\", \"''\"), 63.08333333333349), (('existing', 'VBG'), 63.65000000000015), (('i', 'NN'), 67.23333333333348), (('may', 'MD'), 67.60000000000016), (('appropriation', 'NN'), 67.73333333333348), (('it', 'PRP'), 74.94999999999995), ((',', ','), 86.1499999999998)] (300,)\n"
     ]
    },
    {
     "name": "stderr",
     "output_type": "stream",
     "text": [
      "Computing transition probabilities: 100%|██████████| 160/160 [00:00<00:00, 679.23it/s]\n",
      "Generating walks (CPU: 1):  50%|█████     | 5/10 [00:06<00:06,  1.39s/it]]\n",
      "Generating walks (CPU: 1):  90%|█████████ | 9/10 [00:12<00:01,  1.52s/it]"
     ]
    },
    {
     "name": "stdout",
     "output_type": "stream",
     "text": [
      "Unk percentage: 0.006514657980456026\n",
      "cluster began\n",
      "cluster end\n"
     ]
    },
    {
     "name": "stderr",
     "output_type": "stream",
     "text": [
      "Generating walks (CPU: 1):  70%|███████   | 7/10 [00:12<00:05,  1.81s/it]"
     ]
    },
    {
     "name": "stdout",
     "output_type": "stream",
     "text": [
      "[(('institutions', 'NNS'), 67.58452380952401), (('not', 'RB'), 68.25119047619069), (('american', 'JJ'), 68.76785714285734), (('country', 'NN'), 68.83452380952401), (('people', 'NNS'), 73.209523809524), (('government', 'NN'), 73.39285714285734), (('germany', 'NN'), 74.5511904761906), (('union', 'NN'), 76.96785714285718), ((',', ','), 93.26785714285694)] (300,)\n"
     ]
    },
    {
     "name": "stderr",
     "output_type": "stream",
     "text": [
      "Computing transition probabilities: 100%|██████████| 182/182 [00:00<00:00, 661.14it/s]\n",
      "Generating walks (CPU: 1): 100%|██████████| 10/10 [00:10<00:00,  1.10s/it]\n",
      "Generating walks (CPU: 1):  40%|████      | 4/10 [00:02<00:04,  1.45it/s]]\n",
      "Generating walks (CPU: 1):  80%|████████  | 8/10 [00:11<00:03,  1.57s/it]\n",
      "Generating walks (CPU: 1):  90%|█████████ | 9/10 [00:15<00:01,  1.80s/it]\n",
      "Generating walks (CPU: 1):  50%|█████     | 5/10 [00:03<00:03,  1.31it/s]]"
     ]
    },
    {
     "name": "stdout",
     "output_type": "stream",
     "text": [
      "Unk percentage: 0.002080856123662307\n",
      "Unk percentage: 0.0018351028968410013\n",
      "Unk percentage: 0.006279434850863423\n",
      "Unk percentage: 0.0017332387930355314\n",
      "Unk percentage: 0.002933780385582565\n"
     ]
    },
    {
     "name": "stderr",
     "output_type": "stream",
     "text": [
      "Generating walks (CPU: 1):  90%|█████████ | 9/10 [00:13<00:01,  1.60s/it]"
     ]
    },
    {
     "name": "stdout",
     "output_type": "stream",
     "text": [
      "Unk percentage: 0.0018365472910927456\n",
      "Unk percentage: 0.0028685018368476674\n",
      "cluster began\n",
      "cluster end\n",
      "cluster began\n",
      "cluster end\n"
     ]
    },
    {
     "name": "stderr",
     "output_type": "stream",
     "text": [
      "\r",
      "Generating walks (CPU: 1): 100%|██████████| 10/10 [00:17<00:00,  1.85s/it]"
     ]
    },
    {
     "name": "stdout",
     "output_type": "stream",
     "text": [
      "Unk percentage: 0.0036413659168150186\n"
     ]
    },
    {
     "name": "stderr",
     "output_type": "stream",
     "text": [
      "\n"
     ]
    },
    {
     "name": "stdout",
     "output_type": "stream",
     "text": [
      "[(('white', 'JJ'), 131.6666666666659), (('men', 'NNS'), 133.01666666666588), (('--', ':'), 133.04285714285626), (('they', 'PRP'), 134.01666666666597), (('our', 'PRP$'), 137.7833333333326), (('you', 'PRP'), 140.7333333333327), (('i', 'NN'), 142.9833333333329), (('we', 'PRP'), 143.8666666666663), (('to', 'TO'), 176.53333333333387)] (300,)\n"
     ]
    },
    {
     "name": "stderr",
     "output_type": "stream",
     "text": [
      "Computing transition probabilities:  12%|█▏        | 41/331 [00:00<00:00, 409.07it/s]"
     ]
    },
    {
     "name": "stdout",
     "output_type": "stream",
     "text": [
      "[(('will', 'MD'), 121.26666666666611), (('kids', 'NNS'), 121.5499999999995), (('you', 'PRP'), 124.06666666666618), (('very', 'RB'), 124.48333333333284), (('we', 'PRP'), 125.71666666666619), (('i', 'JJ'), 127.09999999999954), (('our', 'PRP$'), 128.31666666666615), (('it', 'PRP'), 129.31666666666612), ((',', ','), 166.61666666666716)] (300,)\n"
     ]
    },
    {
     "name": "stderr",
     "output_type": "stream",
     "text": [
      "Computing transition probabilities:  43%|████▎     | 128/300 [00:00<00:00, 433.85it/s]"
     ]
    },
    {
     "name": "stdout",
     "output_type": "stream",
     "text": [
      "Unk percentage: 0.003061849357011635\n",
      "Unk percentage: 0.004499799116110888\n"
     ]
    },
    {
     "name": "stderr",
     "output_type": "stream",
     "text": [
      "Computing transition probabilities:  77%|███████▋  | 255/331 [00:00<00:00, 363.64it/s]"
     ]
    },
    {
     "name": "stdout",
     "output_type": "stream",
     "text": [
      "Unk percentage: 0.008021390374331552\n"
     ]
    },
    {
     "name": "stderr",
     "output_type": "stream",
     "text": [
      "Computing transition probabilities:  99%|█████████▉| 327/331 [00:00<00:00, 323.55it/s]"
     ]
    },
    {
     "name": "stdout",
     "output_type": "stream",
     "text": [
      "cluster began\n"
     ]
    },
    {
     "name": "stderr",
     "output_type": "stream",
     "text": [
      "\r",
      "Computing transition probabilities:  97%|█████████▋| 291/300 [00:00<00:00, 343.90it/s]"
     ]
    },
    {
     "name": "stdout",
     "output_type": "stream",
     "text": [
      "cluster end\n"
     ]
    },
    {
     "name": "stderr",
     "output_type": "stream",
     "text": [
      "Computing transition probabilities: 100%|██████████| 331/331 [00:00<00:00, 353.50it/s]\n",
      "Computing transition probabilities: 100%|██████████| 300/300 [00:00<00:00, 364.09it/s]\n",
      "Generating walks (CPU: 1):   0%|          | 0/10 [00:00<?, ?it/s]1.69s/it]"
     ]
    },
    {
     "name": "stdout",
     "output_type": "stream",
     "text": [
      "[(('not', 'RB'), 44.04285714285714), (('i', 'NNS'), 44.12619047619047), (('business', 'NN'), 46.09285714285716), (('other', 'JJ'), 48.46666666666673), (('present', 'JJ'), 48.66666666666674), (('it', 'PRP'), 49.16666666666675), (('revision', 'NN'), 50.133333333333425), (('session', 'NN'), 50.38333333333343), (('to', 'TO'), 60.63333333333345)] (300,)\n"
     ]
    },
    {
     "name": "stderr",
     "output_type": "stream",
     "text": [
      "Computing transition probabilities:  58%|█████▊    | 77/133 [00:00<00:00, 769.17it/s]"
     ]
    },
    {
     "name": "stdout",
     "output_type": "stream",
     "text": [
      "Unk percentage: 0.006872852233676976\n"
     ]
    },
    {
     "name": "stderr",
     "output_type": "stream",
     "text": [
      "Computing transition probabilities: 100%|██████████| 133/133 [00:00<00:00, 706.16it/s]\n",
      "Generating walks (CPU: 1):   0%|          | 0/10 [00:00<?, ?it/s]"
     ]
    },
    {
     "name": "stdout",
     "output_type": "stream",
     "text": [
      "cluster began\n",
      "cluster end\n",
      "[(('proclamation', 'NN'), 74.2666666666668), (('disregard', 'NN'), 75.43333333333342), (('states', 'NNS'), 76.48333333333339), (('who', 'WP'), 76.6833333333334), (('their', 'PRP$'), 77.73333333333343), (('they', 'PRP'), 78.28333333333335), (('government', 'NN'), 78.98333333333335), (('country', 'NN'), 79.73333333333325), (('to', 'TO'), 100.96666666666647)] (300,)\n",
      "Unk percentage: 0.0061777600637704265\n"
     ]
    },
    {
     "name": "stderr",
     "output_type": "stream",
     "text": [
      "Computing transition probabilities:   0%|          | 0/189 [00:00<?, ?it/s]\n",
      "Computing transition probabilities: 100%|██████████| 189/189 [00:00<00:00, 560.05it/s]"
     ]
    },
    {
     "name": "stdout",
     "output_type": "stream",
     "text": [
      "Unk percentage: 0.004098360655737705\n"
     ]
    },
    {
     "name": "stderr",
     "output_type": "stream",
     "text": [
      "\n",
      "Generating walks (CPU: 1):  90%|█████████ | 9/10 [00:07<00:00,  1.06it/s]"
     ]
    },
    {
     "name": "stdout",
     "output_type": "stream",
     "text": [
      "Unk percentage: 0.005361930294906166\n",
      "cluster began\n",
      "cluster end\n"
     ]
    },
    {
     "name": "stderr",
     "output_type": "stream",
     "text": [
      "\n"
     ]
    },
    {
     "name": "stdout",
     "output_type": "stream",
     "text": [
      "[(('nations', 'NNS'), 44.907142857142865), (('people', 'NNS'), 45.07380952380953), (('beginning', 'VBG'), 45.685714285714305), (('civil', 'JJ'), 45.685714285714305), (('leaders', 'NNS'), 46.173809523809545), (('morning', 'NN'), 47.56904761904766), (('i', 'NN'), 50.069047619047694), (('their', 'PRP$'), 54.535714285714384), (('to', 'TO'), 61.9000000000001)] (300,)\n"
     ]
    },
    {
     "name": "stderr",
     "output_type": "stream",
     "text": [
      "Computing transition probabilities: 100%|██████████| 133/133 [00:00<00:00, 852.87it/s] \n",
      "Generating walks (CPU: 1):  20%|██        | 2/10 [00:00<00:02,  3.51it/s]]"
     ]
    },
    {
     "name": "stdout",
     "output_type": "stream",
     "text": [
      "Unk percentage: 0.0010554089709762533\n"
     ]
    },
    {
     "name": "stderr",
     "output_type": "stream",
     "text": [
      "\r",
      "Generating walks (CPU: 1):  50%|█████     | 5/10 [00:02<00:02,  1.81it/s]"
     ]
    },
    {
     "name": "stdout",
     "output_type": "stream",
     "text": [
      "Unk percentage: 0.0011111111111111111\n"
     ]
    },
    {
     "name": "stderr",
     "output_type": "stream",
     "text": [
      "\n",
      "Generating walks (CPU: 1):  30%|███       | 3/10 [00:02<00:04,  1.44it/s]"
     ]
    },
    {
     "name": "stdout",
     "output_type": "stream",
     "text": [
      "Unk percentage: 0.0032858707557502738\n"
     ]
    },
    {
     "name": "stderr",
     "output_type": "stream",
     "text": [
      "Generating walks (CPU: 1):  60%|██████    | 6/10 [00:03<00:02,  1.77it/s]"
     ]
    },
    {
     "name": "stdout",
     "output_type": "stream",
     "text": [
      "Unk percentage: 0.004726456339359565\n",
      "Unk percentage: 0.0055927588490691\n"
     ]
    },
    {
     "name": "stderr",
     "output_type": "stream",
     "text": [
      "\r",
      "Generating walks (CPU: 1):  40%|████      | 4/10 [00:01<00:02,  2.12it/s]"
     ]
    },
    {
     "name": "stdout",
     "output_type": "stream",
     "text": [
      "Unk percentage: 0.002103049421661409\n",
      "Unk percentage: 0.0032076984763432237\n"
     ]
    },
    {
     "name": "stderr",
     "output_type": "stream",
     "text": [
      "Generating walks (CPU: 1):  40%|████      | 4/10 [00:03<00:04,  1.27it/s]"
     ]
    },
    {
     "name": "stdout",
     "output_type": "stream",
     "text": [
      "cluster began\n",
      "cluster end\n"
     ]
    },
    {
     "name": "stderr",
     "output_type": "stream",
     "text": [
      "\r",
      "Generating walks (CPU: 1):  50%|█████     | 5/10 [00:02<00:02,  1.82it/s]"
     ]
    },
    {
     "name": "stdout",
     "output_type": "stream",
     "text": [
      "Unk percentage: 0.004485806106052491\n",
      "cluster began\n",
      "cluster end\n",
      "[(('now', 'RB'), 103.14999999999962), (('bill', 'NN'), 103.40952380952344), (('right', 'NN'), 103.5761904761901), (('not', 'RB'), 103.97619047619014), (('two', 'CD'), 104.24285714285675), (('its', 'PRP$'), 107.69999999999958), (('constitution', 'NN'), 108.76666666666628), (('it', 'PRP'), 111.23333333333294), (('to', 'TO'), 124.53333333333292)] (300,)\n"
     ]
    },
    {
     "name": "stderr",
     "output_type": "stream",
     "text": [
      "Computing transition probabilities:  97%|█████████▋| 249/258 [00:00<00:00, 410.08it/s]"
     ]
    },
    {
     "name": "stdout",
     "output_type": "stream",
     "text": [
      "[(('dollar', 'NN'), 139.3289682539675), (('them', 'PRP'), 140.1289682539675), (('us', 'PRP'), 140.16230158730087), (('now', 'RB'), 143.71230158730094), (('country', 'NN'), 145.32896825396767), (('should', 'MD'), 148.04563492063448), (('it', 'PRP'), 150.678968253968), (('will', 'MD'), 156.24563492063498), (('to', 'TO'), 191.97896825396896)] (300,)\n"
     ]
    },
    {
     "name": "stderr",
     "output_type": "stream",
     "text": [
      "Computing transition probabilities: 100%|██████████| 258/258 [00:00<00:00, 387.92it/s]\n",
      "Computing transition probabilities:  11%|█         | 38/353 [00:00<00:00, 379.72it/s]"
     ]
    },
    {
     "name": "stdout",
     "output_type": "stream",
     "text": [
      "Unk percentage: 0.0005828864537188156\n"
     ]
    },
    {
     "name": "stderr",
     "output_type": "stream",
     "text": [
      "Computing transition probabilities:  57%|█████▋    | 200/353 [00:00<00:00, 321.28it/s]"
     ]
    },
    {
     "name": "stdout",
     "output_type": "stream",
     "text": [
      "Unk percentage: 0.00319693094629156\n"
     ]
    },
    {
     "name": "stderr",
     "output_type": "stream",
     "text": [
      "Computing transition probabilities:  92%|█████████▏| 324/353 [00:01<00:00, 291.04it/s]"
     ]
    },
    {
     "name": "stdout",
     "output_type": "stream",
     "text": [
      "Unk percentage: 0.0014668492079014277\n"
     ]
    },
    {
     "name": "stderr",
     "output_type": "stream",
     "text": [
      "Computing transition probabilities: 100%|██████████| 353/353 [00:01<00:00, 309.17it/s]\n",
      "Generating walks (CPU: 1):  50%|█████     | 5/10 [00:06<00:07,  1.42s/it]\n",
      "Generating walks (CPU: 1):  50%|█████     | 5/10 [00:07<00:07,  1.55s/it]"
     ]
    },
    {
     "name": "stdout",
     "output_type": "stream",
     "text": [
      "Unk percentage: 0.002336448598130841\n",
      "Unk percentage: 0.0014353085913471396\n"
     ]
    },
    {
     "name": "stderr",
     "output_type": "stream",
     "text": [
      "\r",
      "Generating walks (CPU: 1): 100%|██████████| 10/10 [00:06<00:00,  1.58it/s]"
     ]
    },
    {
     "name": "stdout",
     "output_type": "stream",
     "text": [
      "Unk percentage: 0.0019747235387045812\n",
      "cluster began\n",
      "cluster end\n"
     ]
    },
    {
     "name": "stderr",
     "output_type": "stream",
     "text": [
      "\r",
      "Generating walks (CPU: 1):  80%|████████  | 8/10 [00:07<00:01,  1.03it/s]"
     ]
    },
    {
     "name": "stdout",
     "output_type": "stream",
     "text": [
      "Unk percentage: 0.0009208103130755065\n"
     ]
    },
    {
     "name": "stderr",
     "output_type": "stream",
     "text": [
      "Generating walks (CPU: 1):  30%|███       | 3/10 [00:02<00:06,  1.05it/s]\n"
     ]
    },
    {
     "name": "stdout",
     "output_type": "stream",
     "text": [
      "Unk percentage: 0.001313119255103259\n"
     ]
    },
    {
     "name": "stderr",
     "output_type": "stream",
     "text": [
      "\r",
      "Generating walks (CPU: 1):  60%|██████    | 6/10 [00:08<00:06,  1.52s/it]"
     ]
    },
    {
     "name": "stdout",
     "output_type": "stream",
     "text": [
      "[(('congress', 'NN'), 132.39999999999927), (('federal', 'JJ'), 133.98333333333267), (('states', 'NNS'), 135.28333333333265), (('power', 'NN'), 137.51666666666603), (('it', 'PRP'), 137.69999999999925), (('income', 'NN'), 138.3333333333327), (('tax', 'NN'), 140.86666666666594), (('not', 'RB'), 144.31666666666632), (('to', 'TO'), 177.6000000000007)] (300,)\n"
     ]
    },
    {
     "name": "stderr",
     "output_type": "stream",
     "text": [
      "Computing transition probabilities:  32%|███▏      | 104/329 [00:00<00:00, 346.24it/s]"
     ]
    },
    {
     "name": "stdout",
     "output_type": "stream",
     "text": [
      "Unk percentage: 0.0005725190839694657\n",
      "Unk percentage: 0.0049261083743842365\n"
     ]
    },
    {
     "name": "stderr",
     "output_type": "stream",
     "text": [
      "Computing transition probabilities:  61%|██████▏   | 202/329 [00:00<00:00, 329.95it/s]"
     ]
    },
    {
     "name": "stdout",
     "output_type": "stream",
     "text": [
      "Unk percentage: 0.0024449877750611247\n"
     ]
    },
    {
     "name": "stderr",
     "output_type": "stream",
     "text": [
      "\r",
      "Computing transition probabilities:  70%|███████   | 231/329 [00:00<00:00, 286.65it/s]"
     ]
    },
    {
     "name": "stdout",
     "output_type": "stream",
     "text": [
      "cluster began\n",
      "cluster end\n"
     ]
    },
    {
     "name": "stderr",
     "output_type": "stream",
     "text": [
      "Computing transition probabilities:  89%|████████▉ | 292/329 [00:00<00:00, 281.91it/s]"
     ]
    },
    {
     "name": "stdout",
     "output_type": "stream",
     "text": [
      "[(('negro', 'NN'), 75.21666666666675), (('vigil', 'NN'), 76.71666666666665), (('law', 'NN'), 77.51666666666668), (('it', 'PRP'), 79.08333333333329), (('our', 'PRP$'), 79.96666666666665), (('we', 'PRP'), 82.19999999999985), (('not', 'RB'), 86.09999999999977), (('--', ':'), 87.14999999999976), (('to', 'TO'), 93.39999999999978)] (300,)\n"
     ]
    },
    {
     "name": "stderr",
     "output_type": "stream",
     "text": [
      "\r",
      "Computing transition probabilities:   0%|          | 0/180 [00:00<?, ?it/s]"
     ]
    },
    {
     "name": "stdout",
     "output_type": "stream",
     "text": [
      "cluster began\n",
      "cluster end\n"
     ]
    },
    {
     "name": "stderr",
     "output_type": "stream",
     "text": [
      "Computing transition probabilities: 100%|██████████| 329/329 [00:01<00:00, 283.08it/s]\n",
      "Computing transition probabilities: 100%|██████████| 180/180 [00:00<00:00, 604.73it/s]\n",
      "Generating walks (CPU: 1):  70%|███████   | 7/10 [00:10<00:04,  1.57s/it]"
     ]
    },
    {
     "name": "stdout",
     "output_type": "stream",
     "text": [
      "[(('children', 'NNS'), 124.98333333333285), (('here', 'RB'), 125.39999999999948), (('kennedy', 'NN'), 127.6833333333328), (('his', 'PRP$'), 130.69999999999953), (('us', 'PRP'), 130.89999999999952), (('not', 'RB'), 131.7333333333329), (('we', 'PRP'), 136.81666666666644), (('he', 'PRP'), 146.33333333333366), (('to', 'TO'), 150.9500000000005)] (300,)\n"
     ]
    },
    {
     "name": "stderr",
     "output_type": "stream",
     "text": [
      "Computing transition probabilities: 100%|██████████| 288/288 [00:00<00:00, 316.79it/s]\n",
      "Generating walks (CPU: 1):  20%|██        | 2/10 [00:01<00:06,  1.23it/s]\n",
      "Generating walks (CPU: 1):  30%|███       | 3/10 [00:01<00:04,  1.74it/s]"
     ]
    },
    {
     "name": "stdout",
     "output_type": "stream",
     "text": [
      "Unk percentage: 0.0027772063361448263\n"
     ]
    },
    {
     "name": "stderr",
     "output_type": "stream",
     "text": [
      "Generating walks (CPU: 1):  30%|███       | 3/10 [00:03<00:07,  1.05s/it]"
     ]
    },
    {
     "name": "stdout",
     "output_type": "stream",
     "text": [
      "Unk percentage: 0.003592814371257485\n"
     ]
    },
    {
     "name": "stderr",
     "output_type": "stream",
     "text": [
      "Generating walks (CPU: 1):  90%|█████████ | 9/10 [00:13<00:01,  1.60s/it]"
     ]
    },
    {
     "name": "stdout",
     "output_type": "stream",
     "text": [
      "Unk percentage: 0.0021987686895338612\n",
      "Unk percentage: 0.001834862385321101\n"
     ]
    },
    {
     "name": "stderr",
     "output_type": "stream",
     "text": [
      "\r",
      "Generating walks (CPU: 1):  50%|█████     | 5/10 [00:03<00:03,  1.32it/s]"
     ]
    },
    {
     "name": "stdout",
     "output_type": "stream",
     "text": [
      "cluster began\n",
      "cluster end\n"
     ]
    },
    {
     "name": "stderr",
     "output_type": "stream",
     "text": [
      "Generating walks (CPU: 1):  60%|██████    | 6/10 [00:04<00:03,  1.29it/s]"
     ]
    },
    {
     "name": "stdout",
     "output_type": "stream",
     "text": [
      "[(('government', 'NN'), 107.24285714285676), (('it', 'PRP'), 107.74285714285669), (('party', 'NN'), 108.32619047619009), (('such', 'JJ'), 108.77619047619011), (('country', 'NN'), 109.19285714285681), (('parties', 'NNS'), 111.00952380952343), (('they', 'PRP'), 112.15952380952345), (('will', 'MD'), 113.09285714285677), (('to', 'TO'), 139.99285714285705)] (300,)\n"
     ]
    },
    {
     "name": "stderr",
     "output_type": "stream",
     "text": [
      "Computing transition probabilities: 100%|██████████| 266/266 [00:00<00:00, 368.68it/s]\n",
      "Generating walks (CPU: 1):  40%|████      | 4/10 [00:05<00:07,  1.31s/it]\n",
      "Generating walks (CPU: 1):  30%|███       | 3/10 [00:02<00:06,  1.10it/s]]"
     ]
    },
    {
     "name": "stdout",
     "output_type": "stream",
     "text": [
      "Unk percentage: 0.001651073197578426\n",
      "Unk percentage: 0.008998875140607425\n"
     ]
    },
    {
     "name": "stderr",
     "output_type": "stream",
     "text": [
      "Generating walks (CPU: 1): 100%|██████████| 10/10 [00:13<00:00,  1.42s/it]\n"
     ]
    },
    {
     "name": "stdout",
     "output_type": "stream",
     "text": [
      "cluster began\n"
     ]
    },
    {
     "name": "stderr",
     "output_type": "stream",
     "text": [
      "\n"
     ]
    },
    {
     "name": "stdout",
     "output_type": "stream",
     "text": [
      "cluster end\n"
     ]
    },
    {
     "name": "stderr",
     "output_type": "stream",
     "text": [
      "\r",
      "Generating walks (CPU: 1):  70%|███████   | 7/10 [00:12<00:05,  1.85s/it]"
     ]
    },
    {
     "name": "stdout",
     "output_type": "stream",
     "text": [
      "[(('new', 'JJ'), 98.98333333333306), (('our', 'PRP$'), 100.79999999999967), (('berlin', 'NN'), 100.84999999999967), (('europe', 'NN'), 101.96666666666627), (('we', 'PRP'), 102.63333333333296), (('courage', 'NN'), 103.79999999999959), (('your', 'PRP$'), 104.9333333333329), (('you', 'PRP'), 109.76666666666628), (('to', 'TO'), 112.79999999999963)] (300,)\n"
     ]
    },
    {
     "name": "stderr",
     "output_type": "stream",
     "text": [
      "Computing transition probabilities: 100%|██████████| 250/250 [00:00<00:00, 476.15it/s]\n"
     ]
    },
    {
     "name": "stdout",
     "output_type": "stream",
     "text": [
      "Unk percentage: 0.004098360655737705\n"
     ]
    },
    {
     "name": "stderr",
     "output_type": "stream",
     "text": [
      "Generating walks (CPU: 1):  70%|███████   | 7/10 [00:10<00:04,  1.55s/it]\n"
     ]
    },
    {
     "name": "stdout",
     "output_type": "stream",
     "text": [
      "cluster began\n",
      "cluster end\n",
      "[(('now', 'RB'), 36.04999999999997), (('accordingly', 'RB'), 36.21666666666663), (('government', 'NN'), 36.64999999999998), (('i', 'NN'), 37.28333333333331), (('vietnam', 'NNS'), 38.16666666666665), (('united', 'JJ'), 38.183333333333316), (('its', 'PRP$'), 38.76666666666666), (('representatives', 'NNS'), 40.51666666666669), (('to', 'TO'), 45.7333333333334)] (300,)\n"
     ]
    },
    {
     "name": "stderr",
     "output_type": "stream",
     "text": [
      "Computing transition probabilities: 100%|██████████| 94/94 [00:00<00:00, 1167.11it/s]\n",
      "Generating walks (CPU: 1):  20%|██        | 2/10 [00:00<00:01,  5.08it/s]"
     ]
    },
    {
     "name": "stdout",
     "output_type": "stream",
     "text": [
      "Unk percentage: 0.0011716461628588166\n"
     ]
    },
    {
     "name": "stderr",
     "output_type": "stream",
     "text": [
      "Generating walks (CPU: 1):  70%|███████   | 7/10 [00:10<00:04,  1.50s/it]"
     ]
    },
    {
     "name": "stdout",
     "output_type": "stream",
     "text": [
      "Unk percentage: 0.006369426751592357\n",
      "cluster began\n",
      "cluster end\n"
     ]
    },
    {
     "name": "stderr",
     "output_type": "stream",
     "text": [
      "\r",
      "Generating walks (CPU: 1):  40%|████      | 4/10 [00:01<00:01,  3.14it/s]"
     ]
    },
    {
     "name": "stdout",
     "output_type": "stream",
     "text": [
      "cluster began\n",
      "cluster end\n"
     ]
    },
    {
     "name": "stderr",
     "output_type": "stream",
     "text": [
      "\r",
      "Generating walks (CPU: 1):  80%|████████  | 8/10 [00:12<00:03,  1.68s/it]"
     ]
    },
    {
     "name": "stdout",
     "output_type": "stream",
     "text": [
      "[(('$', '$'), 58.9964285714287), (('office', 'NN'), 59.48809523809539), ((\"''\", \"''\"), 59.636904761904894), (('not', 'RB'), 60.22976190476205), (('constitution', 'NN'), 60.32142857142872), (('salary', 'NN'), 61.32738095238109), (('time', 'NN'), 62.07857142857157), (('it', 'PRP'), 66.27857142857157), (('to', 'TO'), 74.31904761904768)] (300,)\n"
     ]
    },
    {
     "name": "stderr",
     "output_type": "stream",
     "text": [
      "Computing transition probabilities: 100%|██████████| 158/158 [00:00<00:00, 802.69it/s]\n",
      "Generating walks (CPU: 1):   0%|          | 0/10 [00:00<?, ?it/s]"
     ]
    },
    {
     "name": "stdout",
     "output_type": "stream",
     "text": [
      "[(('us', 'PRP'), 164.5833333333337), (('nation', 'NN'), 165.9500000000005), (('who', 'WP'), 166.58333333333383), (('people', 'NNS'), 169.06666666666743), (('must', 'MD'), 172.1166666666676), (('it', 'PRP'), 173.78333333333435), (('we', 'PRP'), 183.55000000000098), (('our', 'PRP$'), 193.2833333333342), (('to', 'TO'), 196.283333333334)] (300,)\n"
     ]
    },
    {
     "name": "stderr",
     "output_type": "stream",
     "text": [
      "Computing transition probabilities: 100%|██████████| 384/384 [00:01<00:00, 286.53it/s]\n",
      "Generating walks (CPU: 1):  40%|████      | 4/10 [00:02<00:03,  1.68it/s]]\n",
      "Generating walks (CPU: 1): 100%|██████████| 10/10 [00:18<00:00,  1.95s/it]"
     ]
    },
    {
     "name": "stdout",
     "output_type": "stream",
     "text": [
      "Unk percentage: 0.006884343036978757\n"
     ]
    },
    {
     "name": "stderr",
     "output_type": "stream",
     "text": [
      "Generating walks (CPU: 1):  80%|████████  | 8/10 [00:09<00:02,  1.35s/it]]"
     ]
    },
    {
     "name": "stdout",
     "output_type": "stream",
     "text": [
      "Unk percentage: 0.0011195700850873264\n"
     ]
    },
    {
     "name": "stderr",
     "output_type": "stream",
     "text": [
      "\r",
      "Generating walks (CPU: 1): 100%|██████████| 10/10 [00:14<00:00,  1.48s/it]"
     ]
    },
    {
     "name": "stdout",
     "output_type": "stream",
     "text": [
      "Unk percentage: 0.0014265335235378032\n"
     ]
    },
    {
     "name": "stderr",
     "output_type": "stream",
     "text": [
      "Generating walks (CPU: 1):  60%|██████    | 6/10 [00:03<00:02,  1.46it/s]"
     ]
    },
    {
     "name": "stdout",
     "output_type": "stream",
     "text": [
      "cluster began\n",
      "cluster end\n"
     ]
    },
    {
     "name": "stderr",
     "output_type": "stream",
     "text": [
      "\r",
      "Generating walks (CPU: 1):  60%|██████    | 6/10 [00:06<00:04,  1.17s/it]"
     ]
    },
    {
     "name": "stdout",
     "output_type": "stream",
     "text": [
      "[(('it', 'PRP'), 126.24999999999953), (('we', 'PRP'), 126.55952380952327), (('agreement', 'NN'), 129.3428571428566), (('would', 'MD'), 132.44999999999942), (('who', 'WP'), 133.25952380952324), (('will', 'MD'), 133.59999999999943), (('war', 'NN'), 134.6095238095232), (('peace', 'NN'), 147.81666666666672), (('to', 'TO'), 161.60000000000056)] (300,)\n"
     ]
    },
    {
     "name": "stderr",
     "output_type": "stream",
     "text": [
      "Generating walks (CPU: 1):  90%|█████████ | 9/10 [00:11<00:01,  1.43s/it] 379.89it/s]\n",
      "Computing transition probabilities:  27%|██▋       | 82/303 [00:00<00:00, 394.16it/s]\n",
      "Computing transition probabilities:  38%|███▊      | 114/303 [00:00<00:00, 367.83it/s]\n",
      "Computing transition probabilities: 100%|██████████| 303/303 [00:00<00:00, 378.06it/s]\n",
      "Generating walks (CPU: 1):  90%|█████████ | 9/10 [00:06<00:00,  1.27it/s]]"
     ]
    },
    {
     "name": "stdout",
     "output_type": "stream",
     "text": [
      "Unk percentage: 0.005159958720330237\n",
      "Unk percentage: 0.0012493993272465161\n",
      "Unk percentage: 0.006644518272425249\n"
     ]
    },
    {
     "name": "stderr",
     "output_type": "stream",
     "text": [
      "\r",
      "Generating walks (CPU: 1):  80%|████████  | 8/10 [00:09<00:02,  1.22s/it]"
     ]
    },
    {
     "name": "stdout",
     "output_type": "stream",
     "text": [
      "Unk percentage: 0.004220803053659253\n",
      "cluster began\n",
      "cluster end\n",
      "[(('persons', 'NNS'), 36.53333333333332), (('oath', 'NN'), 36.949999999999974), (('``', '``'), 37.06666666666666), (('not', 'RB'), 37.86666666666667), (('law', 'NN'), 38.316666666666684), (('it', 'PRP'), 38.733333333333356), (('who', 'WP'), 39.83333333333336), ((\"''\", \"''\"), 40.366666666666696), (('to', 'TO'), 47.150000000000055)] (300,)\n"
     ]
    },
    {
     "name": "stderr",
     "output_type": "stream",
     "text": [
      "Computing transition probabilities: 100%|██████████| 86/86 [00:00<00:00, 1222.73it/s]\n",
      "Generating walks (CPU: 1):   0%|          | 0/10 [00:00<?, ?it/s].15it/s]"
     ]
    },
    {
     "name": "stdout",
     "output_type": "stream",
     "text": [
      "Unk percentage: 0.0006201165819174004\n"
     ]
    },
    {
     "name": "stderr",
     "output_type": "stream",
     "text": [
      "Generating walks (CPU: 1):  20%|██        | 2/10 [00:00<00:01,  4.63it/s]\n"
     ]
    },
    {
     "name": "stdout",
     "output_type": "stream",
     "text": [
      "Unk percentage: 0.0050578034682080926\n"
     ]
    },
    {
     "name": "stderr",
     "output_type": "stream",
     "text": [
      "\n",
      "Generating walks (CPU: 1):  30%|███       | 3/10 [00:00<00:02,  3.43it/s]"
     ]
    },
    {
     "name": "stdout",
     "output_type": "stream",
     "text": [
      "cluster began\n",
      "cluster end\n"
     ]
    },
    {
     "name": "stderr",
     "output_type": "stream",
     "text": [
      "Generating walks (CPU: 1):  40%|████      | 4/10 [00:06<00:10,  1.72s/it]"
     ]
    },
    {
     "name": "stdout",
     "output_type": "stream",
     "text": [
      "Unk percentage: 0.001984914648670107\n"
     ]
    },
    {
     "name": "stderr",
     "output_type": "stream",
     "text": [
      "\r",
      "Generating walks (CPU: 1):  40%|████      | 4/10 [00:01<00:01,  3.06it/s]"
     ]
    },
    {
     "name": "stdout",
     "output_type": "stream",
     "text": [
      "Unk percentage: 0.009615384615384616\n",
      "[((\"''\", \"''\"), 126.43333333333278), (('would', 'MD'), 128.91666666666612), (('it', 'PRP'), 129.24999999999937), (('act', 'NN'), 129.74999999999943), (('now', 'RB'), 130.28333333333276), (('not', 'RB'), 134.36666666666613), (('will', 'MD'), 134.94999999999948), (('passengers', 'NNS'), 137.0333333333329), (('to', 'TO'), 165.51666666666722)] (300,)\n"
     ]
    },
    {
     "name": "stderr",
     "output_type": "stream",
     "text": [
      "\r",
      "Computing transition probabilities:   0%|          | 0/300 [00:00<?, ?it/s]"
     ]
    },
    {
     "name": "stdout",
     "output_type": "stream",
     "text": [
      "Unk percentage: 0.005338672005338672\n"
     ]
    },
    {
     "name": "stderr",
     "output_type": "stream",
     "text": [
      "Computing transition probabilities:  14%|█▍        | 42/300 [00:00<00:00, 418.51it/s]"
     ]
    },
    {
     "name": "stdout",
     "output_type": "stream",
     "text": [
      "cluster began\n",
      "cluster end\n"
     ]
    },
    {
     "name": "stderr",
     "output_type": "stream",
     "text": [
      "\r",
      "Computing transition probabilities:  26%|██▌       | 78/300 [00:00<00:00, 395.72it/s]"
     ]
    },
    {
     "name": "stdout",
     "output_type": "stream",
     "text": [
      "[(('my', 'PRP$'), 35.749999999999986), (('i', 'NN'), 36.52619047619046), (('aiding', 'VBG'), 36.67619047619045), (('may', 'MD'), 37.87619047619048), (('president', 'NN'), 38.84285714285714), (('persons', 'NNS'), 39.71666666666665), (('united', 'JJ'), 40.99999999999998), (('to', 'TO'), 45.63333333333338), (('states', 'NNS'), 45.766666666666744)] (300,)\n"
     ]
    },
    {
     "name": "stderr",
     "output_type": "stream",
     "text": [
      "\r",
      "Computing transition probabilities:   0%|          | 0/103 [00:00<?, ?it/s]"
     ]
    },
    {
     "name": "stdout",
     "output_type": "stream",
     "text": [
      "Unk percentage: 0.009230769230769232\n"
     ]
    },
    {
     "name": "stderr",
     "output_type": "stream",
     "text": [
      "Computing transition probabilities: 100%|██████████| 103/103 [00:00<00:00, 923.53it/s]\n",
      "Generating walks (CPU: 1):  60%|██████    | 6/10 [00:02<00:01,  2.53it/s], 349.92it/s]"
     ]
    },
    {
     "name": "stdout",
     "output_type": "stream",
     "text": [
      "cluster began\n",
      "cluster end\n"
     ]
    },
    {
     "name": "stderr",
     "output_type": "stream",
     "text": [
      "\r",
      "Computing transition probabilities:  74%|███████▍  | 222/300 [00:00<00:00, 319.63it/s]"
     ]
    },
    {
     "name": "stdout",
     "output_type": "stream",
     "text": [
      "[(('1846', 'CD'), 43.3166666666667), ((';', ':'), 43.35000000000003), (('them', 'PRP'), 43.60000000000003), (('their', 'PRP$'), 44.05000000000005), (('president', 'NN'), 45.316666666666734), (('authority', 'NN'), 45.433333333333394), (('they', 'PRP'), 46.40000000000008), (('states', 'NNS'), 47.23333333333341), (('may', 'MD'), 47.90000000000008)] (300,)\n"
     ]
    },
    {
     "name": "stderr",
     "output_type": "stream",
     "text": [
      "Computing transition probabilities: 100%|██████████| 108/108 [00:00<00:00, 922.14it/s]\n",
      "Computing transition probabilities: 100%|██████████| 300/300 [00:00<00:00, 340.22it/s]\n",
      "Generating walks (CPU: 1):  30%|███       | 3/10 [00:01<00:02,  2.89it/s]]"
     ]
    },
    {
     "name": "stdout",
     "output_type": "stream",
     "text": [
      "Unk percentage: 0.007587253414264037\n"
     ]
    },
    {
     "name": "stderr",
     "output_type": "stream",
     "text": [
      "Generating walks (CPU: 1): 100%|██████████| 10/10 [00:03<00:00,  2.34it/s]\n",
      "Generating walks (CPU: 1):  20%|██        | 2/10 [00:01<00:06,  1.29it/s]"
     ]
    },
    {
     "name": "stdout",
     "output_type": "stream",
     "text": [
      "Unk percentage: 0.0013710368466152527\n"
     ]
    },
    {
     "name": "stderr",
     "output_type": "stream",
     "text": [
      "Generating walks (CPU: 1):  50%|█████     | 5/10 [00:02<00:02,  2.27it/s]\n"
     ]
    },
    {
     "name": "stdout",
     "output_type": "stream",
     "text": [
      "Unk percentage: 0.0031876138433515485\n"
     ]
    },
    {
     "name": "stderr",
     "output_type": "stream",
     "text": [
      "Generating walks (CPU: 1):  60%|██████    | 6/10 [00:02<00:01,  2.23it/s]"
     ]
    },
    {
     "name": "stdout",
     "output_type": "stream",
     "text": [
      "Unk percentage: 0.009523809523809525\n",
      "Unk percentage: 0.0028140477262494374\n",
      "cluster began\n"
     ]
    },
    {
     "name": "stderr",
     "output_type": "stream",
     "text": [
      "\r",
      "Generating walks (CPU: 1):  50%|█████     | 5/10 [00:06<00:06,  1.39s/it]"
     ]
    },
    {
     "name": "stdout",
     "output_type": "stream",
     "text": [
      "cluster end\n",
      "[(('mechanics', 'NNS'), 26.649999999999974), (('i', 'NN'), 26.683333333333305), (('date', 'NN'), 26.733333333333306), (('laborers', 'NNS'), 26.98333333333331), (('1869', 'CD'), 27.19999999999997), (('eight', 'CD'), 28.283333333333307), (('states', 'NNS'), 28.533333333333307), (('may', 'MD'), 28.91666666666664), (('president', 'NN'), 29.41666666666664)] (300,)\n"
     ]
    },
    {
     "name": "stderr",
     "output_type": "stream",
     "text": [
      "Computing transition probabilities: 100%|██████████| 67/67 [00:00<00:00, 1160.23it/s]\n",
      "Generating walks (CPU: 1):  20%|██        | 2/10 [00:00<00:01,  6.18it/s]"
     ]
    },
    {
     "name": "stdout",
     "output_type": "stream",
     "text": [
      "Unk percentage: 0.002661698163428267\n",
      "Unk percentage: 0.002364394993045897\n"
     ]
    },
    {
     "name": "stderr",
     "output_type": "stream",
     "text": [
      "Generating walks (CPU: 1):  30%|███       | 3/10 [00:03<00:07,  1.10s/it]"
     ]
    },
    {
     "name": "stdout",
     "output_type": "stream",
     "text": [
      "Unk percentage: 0.0009057971014492754\n"
     ]
    },
    {
     "name": "stderr",
     "output_type": "stream",
     "text": [
      "Generating walks (CPU: 1):  80%|████████  | 8/10 [00:03<00:00,  2.03it/s]"
     ]
    },
    {
     "name": "stdout",
     "output_type": "stream",
     "text": [
      "Unk percentage: 0.0035236081747709656\n"
     ]
    },
    {
     "name": "stderr",
     "output_type": "stream",
     "text": [
      "Generating walks (CPU: 1):  50%|█████     | 5/10 [00:01<00:01,  4.03it/s]"
     ]
    },
    {
     "name": "stdout",
     "output_type": "stream",
     "text": [
      "Unk percentage: 0.004429721505334925\n"
     ]
    },
    {
     "name": "stderr",
     "output_type": "stream",
     "text": [
      "\r",
      "Generating walks (CPU: 1):  60%|██████    | 6/10 [00:01<00:01,  3.66it/s]"
     ]
    },
    {
     "name": "stdout",
     "output_type": "stream",
     "text": [
      "cluster began\n",
      "cluster end\n"
     ]
    },
    {
     "name": "stderr",
     "output_type": "stream",
     "text": [
      "Generating walks (CPU: 1):  80%|████████  | 8/10 [00:02<00:00,  3.55it/s]]"
     ]
    },
    {
     "name": "stdout",
     "output_type": "stream",
     "text": [
      "[(('i', 'JJ'), 140.61666666666622), (('going', 'VBG'), 141.2499999999996), (('people', 'NNS'), 141.31666666666615), (('very', 'RB'), 143.1166666666663), (('i', 'NN'), 143.61666666666636), (('our', 'PRP$'), 145.78333333333316), (('we', 'PRP'), 149.75000000000006), (('you', 'PRP'), 162.16666666666737), (('to', 'TO'), 178.7666666666673)] (300,)\n"
     ]
    },
    {
     "name": "stderr",
     "output_type": "stream",
     "text": [
      "Computing transition probabilities:   0%|          | 0/332 [00:00<?, ?it/s]\n",
      "Computing transition probabilities:  51%|█████     | 168/332 [00:00<00:00, 335.01it/s]"
     ]
    },
    {
     "name": "stdout",
     "output_type": "stream",
     "text": [
      "Unk percentage: 0.002243409983174425\n"
     ]
    },
    {
     "name": "stderr",
     "output_type": "stream",
     "text": [
      "\r",
      "Computing transition probabilities:  59%|█████▉    | 196/332 [00:00<00:00, 315.25it/s]"
     ]
    },
    {
     "name": "stdout",
     "output_type": "stream",
     "text": [
      "Unk percentage: 0.0029128388976025093\n"
     ]
    },
    {
     "name": "stderr",
     "output_type": "stream",
     "text": [
      "\n",
      "\n",
      "Computing transition probabilities:  78%|███████▊  | 260/332 [00:00<00:00, 295.08it/s]"
     ]
    },
    {
     "name": "stdout",
     "output_type": "stream",
     "text": [
      "Unk percentage: 0.0026936026936026937\n"
     ]
    },
    {
     "name": "stderr",
     "output_type": "stream",
     "text": [
      "\r",
      "Computing transition probabilities:  88%|████████▊ | 293/332 [00:00<00:00, 301.82it/s]"
     ]
    },
    {
     "name": "stdout",
     "output_type": "stream",
     "text": [
      "Unk percentage: 0.002183406113537118\n",
      "Unk percentage: 0.0053475935828877\n"
     ]
    },
    {
     "name": "stderr",
     "output_type": "stream",
     "text": [
      "Computing transition probabilities: 100%|██████████| 332/332 [00:01<00:00, 310.42it/s]\n",
      "Generating walks (CPU: 1):  70%|███████   | 7/10 [00:10<00:04,  1.58s/it]"
     ]
    },
    {
     "name": "stdout",
     "output_type": "stream",
     "text": [
      "Unk percentage: 0.0036510376633358955\n",
      "cluster began\n",
      "cluster began\n",
      "cluster end\n",
      "cluster end\n",
      "[(('laws', 'NNS'), 62.47619047619062), (('my', 'PRP$'), 63.42619047619063), (('may', 'MD'), 63.75238095238112), ((\"''\", \"''\"), 64.58571428571446), (('reluctant', 'JJ'), 65.2428571428573), (('constitution', 'NN'), 70.20952380952396), (('states', 'NNS'), 70.2928571428573), (('citizens', 'NNS'), 72.79285714285724), (('to', 'TO'), 91.04999999999981)] (300,)\n"
     ]
    },
    {
     "name": "stderr",
     "output_type": "stream",
     "text": [
      "\r",
      "Computing transition probabilities:   0%|          | 0/175 [00:00<?, ?it/s]"
     ]
    },
    {
     "name": "stdout",
     "output_type": "stream",
     "text": [
      "cluster began\n",
      "cluster end\n"
     ]
    },
    {
     "name": "stderr",
     "output_type": "stream",
     "text": [
      "Computing transition probabilities:  85%|████████▌ | 149/175 [00:00<00:00, 757.99it/s]"
     ]
    },
    {
     "name": "stdout",
     "output_type": "stream",
     "text": [
      "[(('morning', 'NN'), 93.75952380952367), (('men', 'NNS'), 94.05952380952364), (('vietnam', 'NNS'), 95.84285714285691), (('government', 'NN'), 95.84285714285694), (('efforts', 'NNS'), 97.11666666666642), (('we', 'PRP'), 98.49285714285685), (('peace', 'NN'), 101.19999999999969), (('our', 'PRP$'), 101.49999999999964), (('to', 'TO'), 122.09285714285687)] (300,)\n",
      "Unk percentage: 0.002793296089385475\n"
     ]
    },
    {
     "name": "stderr",
     "output_type": "stream",
     "text": [
      "Computing transition probabilities: 100%|██████████| 175/175 [00:00<00:00, 719.21it/s]\n",
      "Computing transition probabilities: 100%|██████████| 241/241 [00:00<00:00, 503.21it/s]\n",
      "Generating walks (CPU: 1):   0%|          | 0/10 [00:00<?, ?it/s]"
     ]
    },
    {
     "name": "stdout",
     "output_type": "stream",
     "text": [
      "[((';', ':'), 158.38571428571413), (('him', 'PRP'), 158.71904761904744), (('can', 'MD'), 159.2690476190476), (('subject', 'NN'), 159.3523809523809), (('our', 'PRP$'), 159.58690476190444), (('it', 'PRP'), 165.45952380952417), (('i', 'NN'), 172.61666666666747), (('my', 'PRP$'), 173.11666666666738), (('to', 'TO'), 204.20000000000093)] (300,)\n"
     ]
    },
    {
     "name": "stderr",
     "output_type": "stream",
     "text": [
      "Generating walks (CPU: 1):  20%|██        | 2/10 [00:00<00:03,  2.52it/s] 334.94it/s]"
     ]
    },
    {
     "name": "stdout",
     "output_type": "stream",
     "text": [
      "Unk percentage: 0.001534526854219949\n"
     ]
    },
    {
     "name": "stderr",
     "output_type": "stream",
     "text": [
      "Computing transition probabilities:  56%|█████▌    | 221/393 [00:00<00:00, 275.57it/s]"
     ]
    },
    {
     "name": "stdout",
     "output_type": "stream",
     "text": [
      "cluster began\n",
      "cluster end\n"
     ]
    },
    {
     "name": "stderr",
     "output_type": "stream",
     "text": [
      "Computing transition probabilities: 100%|██████████| 393/393 [00:01<00:00, 302.60it/s]\n",
      "Generating walks (CPU: 1):  60%|██████    | 6/10 [00:08<00:06,  1.55s/it]"
     ]
    },
    {
     "name": "stdout",
     "output_type": "stream",
     "text": [
      "[(('such', 'JJ'), 163.3595238095241), (('``', '``'), 165.52619047619086), (('not', 'RB'), 168.65952380952444), ((\"''\", \"''\"), 169.0833333333339), (('it', 'PRP'), 169.22619047619114), (('may', 'MD'), 172.07619047619124), (('would', 'MD'), 174.88333333333432), (('war', 'NN'), 181.31666666666789), ((',', ','), 220.18333333333408)] (300,)\n"
     ]
    },
    {
     "name": "stderr",
     "output_type": "stream",
     "text": [
      "Computing transition probabilities: 100%|██████████| 389/389 [00:01<00:00, 314.33it/s]\n",
      "Generating walks (CPU: 1):  80%|████████  | 8/10 [00:05<00:01,  1.27it/s]]\n",
      "Generating walks (CPU: 1):  90%|█████████ | 9/10 [00:13<00:01,  1.63s/it]\n",
      "Generating walks (CPU: 1):  30%|███       | 3/10 [00:04<00:09,  1.38s/it]]"
     ]
    },
    {
     "name": "stdout",
     "output_type": "stream",
     "text": [
      "Unk percentage: 0.0005247507433968865\n"
     ]
    },
    {
     "name": "stderr",
     "output_type": "stream",
     "text": [
      "Generating walks (CPU: 1):  60%|██████    | 6/10 [00:09<00:06,  1.60s/it]\n"
     ]
    },
    {
     "name": "stdout",
     "output_type": "stream",
     "text": [
      "Unk percentage: 0.0012934518997574779\n",
      "Unk percentage: 0.006211180124223602\n"
     ]
    },
    {
     "name": "stderr",
     "output_type": "stream",
     "text": [
      "Generating walks (CPU: 1):  40%|████      | 4/10 [00:06<00:10,  1.73s/it]]"
     ]
    },
    {
     "name": "stdout",
     "output_type": "stream",
     "text": [
      "cluster began\n",
      "cluster end\n",
      "[(('strategic', 'JJ'), 41.292857142857116), (('governments', 'NNS'), 41.54285714285713), (('limitation', 'NN'), 42.783333333333324), (('agreement', 'NN'), 42.89285714285713), (('abms', 'NN'), 43.11666666666668), (('announcing', 'VBG'), 43.56666666666668), (('negotiations', 'NNS'), 46.41666666666673), (('will', 'MD'), 48.63333333333342), (('to', 'TO'), 53.183333333333415)] (300,)\n",
      "Unk percentage: 0.002425712553062462\n"
     ]
    },
    {
     "name": "stderr",
     "output_type": "stream",
     "text": [
      "Computing transition probabilities: 100%|██████████| 116/116 [00:00<00:00, 1116.41it/s]\n",
      "Generating walks (CPU: 1):   0%|          | 0/10 [00:00<?, ?it/s]"
     ]
    },
    {
     "name": "stdout",
     "output_type": "stream",
     "text": [
      "Unk percentage: 0.006069035276267543\n",
      "cluster began\n",
      "cluster end\n"
     ]
    },
    {
     "name": "stderr",
     "output_type": "stream",
     "text": [
      "Generating walks (CPU: 1):  70%|███████   | 7/10 [00:10<00:05,  1.72s/it]\n",
      "Generating walks (CPU: 1):  30%|███       | 3/10 [00:01<00:02,  2.46it/s]"
     ]
    },
    {
     "name": "stdout",
     "output_type": "stream",
     "text": [
      "Unk percentage: 0.009433962264150943\n",
      "[(('can', 'MD'), 167.01666666666748), (('obligations', 'NNS'), 167.93333333333416), (('``', '``'), 168.26666666666748), (('measure', 'NN'), 168.68333333333413), (('states', 'NNS'), 169.26666666666756), (('currency', 'NN'), 171.06666666666766), (('it', 'PRP'), 172.31666666666752), (('such', 'JJ'), 172.60000000000105), (('to', 'TO'), 231.40000000000063)] (300,)\n"
     ]
    },
    {
     "name": "stderr",
     "output_type": "stream",
     "text": [
      "Computing transition probabilities:  10%|█         | 40/383 [00:00<00:01, 198.38it/s]"
     ]
    },
    {
     "name": "stdout",
     "output_type": "stream",
     "text": [
      "cluster began\n",
      "cluster end\n"
     ]
    },
    {
     "name": "stderr",
     "output_type": "stream",
     "text": [
      "\r",
      "Computing transition probabilities:  18%|█▊        | 70/383 [00:00<00:01, 220.26it/s]"
     ]
    },
    {
     "name": "stdout",
     "output_type": "stream",
     "text": [
      "[(('government', 'NN'), 51.083333333333414), (('service', 'NN'), 51.41666666666676), (('hereby', 'RB'), 51.416666666666764), (('president', 'NN'), 51.5500000000001), (('citizens', 'NNS'), 53.166666666666785), (('united', 'JJ'), 53.783333333333445), (('such', 'JJ'), 55.40000000000014), (('states', 'NNS'), 58.68333333333344), (('to', 'TO'), 67.41666666666673)] (300,)\n"
     ]
    },
    {
     "name": "stderr",
     "output_type": "stream",
     "text": [
      "Computing transition probabilities: 100%|██████████| 131/131 [00:00<00:00, 715.49it/s]\n",
      "Computing transition probabilities: 100%|██████████| 383/383 [00:01<00:00, 255.06it/s]\n",
      "Generating walks (CPU: 1):  80%|████████  | 8/10 [00:12<00:03,  1.80s/it]"
     ]
    },
    {
     "name": "stdout",
     "output_type": "stream",
     "text": [
      "Unk percentage: 0.011987250554323725\n"
     ]
    },
    {
     "name": "stderr",
     "output_type": "stream",
     "text": [
      "Generating walks (CPU: 1):  50%|█████     | 5/10 [00:08<00:09,  1.84s/it]\n",
      "Generating walks (CPU: 1):  70%|███████   | 7/10 [00:03<00:01,  1.78it/s]"
     ]
    },
    {
     "name": "stdout",
     "output_type": "stream",
     "text": [
      "Unk percentage: 0.010443864229765013\n"
     ]
    },
    {
     "name": "stderr",
     "output_type": "stream",
     "text": [
      "\r",
      "Generating walks (CPU: 1):  40%|████      | 4/10 [00:01<00:02,  2.04it/s]"
     ]
    },
    {
     "name": "stdout",
     "output_type": "stream",
     "text": [
      "cluster began\n",
      "cluster end\n",
      "[(('july', 'NN'), 39.995634920634906), (('united', 'JJ'), 39.99999999999996), (('country', 'NN'), 41.74563492063494), (('president', 'NN'), 41.89285714285715), (('such', 'JJ'), 43.99563492063497), (('states', 'NNS'), 46.9095238095239), (('indian', 'JJ'), 46.928968253968335), (('territory', 'NN'), 48.65119047619055), (('to', 'TO'), 49.15119047619056)] (300,)\n"
     ]
    },
    {
     "name": "stderr",
     "output_type": "stream",
     "text": [
      "Computing transition probabilities: 100%|██████████| 108/108 [00:00<00:00, 951.89it/s]\n",
      "Generating walks (CPU: 1):  50%|█████     | 5/10 [00:02<00:02,  1.86it/s]"
     ]
    },
    {
     "name": "stdout",
     "output_type": "stream",
     "text": [
      "Unk percentage: 0.0032989690721649486\n"
     ]
    },
    {
     "name": "stderr",
     "output_type": "stream",
     "text": [
      "Generating walks (CPU: 1):  20%|██        | 2/10 [00:02<00:09,  1.13s/it]"
     ]
    },
    {
     "name": "stdout",
     "output_type": "stream",
     "text": [
      "Unk percentage: 0.004398447606727037\n"
     ]
    },
    {
     "name": "stderr",
     "output_type": "stream",
     "text": [
      "Generating walks (CPU: 1):  60%|██████    | 6/10 [00:11<00:07,  1.99s/it]]"
     ]
    },
    {
     "name": "stdout",
     "output_type": "stream",
     "text": [
      "Unk percentage: 0.0008261049153242462\n",
      "Unk percentage: 0.00351000351000351\n"
     ]
    },
    {
     "name": "stderr",
     "output_type": "stream",
     "text": [
      "Generating walks (CPU: 1):  40%|████      | 4/10 [00:01<00:02,  2.42it/s]\n"
     ]
    },
    {
     "name": "stdout",
     "output_type": "stream",
     "text": [
      "Unk percentage: 0.003403356413566483\n"
     ]
    },
    {
     "name": "stderr",
     "output_type": "stream",
     "text": [
      "Generating walks (CPU: 1):  50%|█████     | 5/10 [00:02<00:02,  2.19it/s]]"
     ]
    },
    {
     "name": "stdout",
     "output_type": "stream",
     "text": [
      "Unk percentage: 0.001386138613861386\n"
     ]
    },
    {
     "name": "stderr",
     "output_type": "stream",
     "text": [
      "Generating walks (CPU: 1):  70%|███████   | 7/10 [00:14<00:06,  2.18s/it]"
     ]
    },
    {
     "name": "stdout",
     "output_type": "stream",
     "text": [
      "Unk percentage: 0.0029940119760479044\n",
      "Unk percentage: 0.0032674653804263265\n"
     ]
    },
    {
     "name": "stderr",
     "output_type": "stream",
     "text": [
      "Generating walks (CPU: 1):  90%|█████████ | 9/10 [00:05<00:00,  1.60it/s]"
     ]
    },
    {
     "name": "stdout",
     "output_type": "stream",
     "text": [
      "cluster began\n",
      "cluster end\n",
      "[(('it', 'PRP'), 67.61666666666684), (('not', 'RB'), 69.86666666666683), (('can', 'MD'), 69.96666666666687), (('peace', 'NN'), 72.86666666666679), (('i', 'NN'), 73.2000000000001), (('you', 'PRP'), 78.58333333333326), (('we', 'PRP'), 78.6666666666666), (('will', 'MD'), 82.68333333333314), ((',', ','), 91.73333333333315)] (300,)\n"
     ]
    },
    {
     "name": "stderr",
     "output_type": "stream",
     "text": [
      "Computing transition probabilities: 100%|██████████| 171/171 [00:00<00:00, 550.70it/s]\n",
      "Generating walks (CPU: 1):  80%|████████  | 8/10 [00:03<00:01,  1.96it/s]]\n"
     ]
    },
    {
     "name": "stdout",
     "output_type": "stream",
     "text": [
      "Unk percentage: 0.004822182037371911\n"
     ]
    },
    {
     "name": "stderr",
     "output_type": "stream",
     "text": [
      "\n",
      "Generating walks (CPU: 1):  20%|██        | 2/10 [00:00<00:03,  2.48it/s]"
     ]
    },
    {
     "name": "stdout",
     "output_type": "stream",
     "text": [
      "Unk percentage: 0.005219985085756898\n"
     ]
    },
    {
     "name": "stderr",
     "output_type": "stream",
     "text": [
      "Generating walks (CPU: 1): 100%|██████████| 10/10 [00:04<00:00,  1.94it/s]"
     ]
    },
    {
     "name": "stdout",
     "output_type": "stream",
     "text": [
      "cluster began\n",
      "cluster end\n",
      "Unk percentage: 0.01416791604197901\n"
     ]
    },
    {
     "name": "stderr",
     "output_type": "stream",
     "text": [
      "Generating walks (CPU: 1):  30%|███       | 3/10 [00:01<00:03,  1.77it/s]\n",
      "Generating walks (CPU: 1):  40%|████      | 4/10 [00:07<00:10,  1.76s/it]"
     ]
    },
    {
     "name": "stdout",
     "output_type": "stream",
     "text": [
      "Unk percentage: 0.006144393241167435\n",
      "[(('nation', 'NN'), 158.61666666666648), (('i', 'NN'), 159.16666666666654), (('should', 'MD'), 159.89285714285703), (('our', 'PRP$'), 160.4166666666662), (('it', 'PRP'), 163.91666666666669), (('cuba', 'NN'), 164.6095238095238), (('her', 'PRP$'), 172.1595238095244), (('we', 'PRP'), 174.1261904761912), (('to', 'TO'), 207.36666666666747)] (300,)\n",
      "Unk percentage: 0.0019286403085824494\n"
     ]
    },
    {
     "name": "stderr",
     "output_type": "stream",
     "text": [
      "\r",
      "Computing transition probabilities:   0%|          | 0/394 [00:00<?, ?it/s]"
     ]
    },
    {
     "name": "stdout",
     "output_type": "stream",
     "text": [
      "Unk percentage: 0.007934022340536591\n"
     ]
    },
    {
     "name": "stderr",
     "output_type": "stream",
     "text": [
      "Computing transition probabilities:  10%|▉         | 39/394 [00:00<00:01, 198.57it/s]"
     ]
    },
    {
     "name": "stdout",
     "output_type": "stream",
     "text": [
      "cluster began\n"
     ]
    },
    {
     "name": "stderr",
     "output_type": "stream",
     "text": [
      "\r",
      "Generating walks (CPU: 1):  80%|████████  | 8/10 [00:16<00:04,  2.23s/it]"
     ]
    },
    {
     "name": "stdout",
     "output_type": "stream",
     "text": [
      "cluster end\n"
     ]
    },
    {
     "name": "stderr",
     "output_type": "stream",
     "text": [
      "Generating walks (CPU: 1):  40%|████      | 4/10 [00:02<00:04,  1.47it/s] 209.33it/s]"
     ]
    },
    {
     "name": "stdout",
     "output_type": "stream",
     "text": [
      "cluster began\n"
     ]
    },
    {
     "name": "stderr",
     "output_type": "stream",
     "text": [
      "\r",
      "Computing transition probabilities:  22%|██▏       | 86/394 [00:00<00:01, 214.38it/s]"
     ]
    },
    {
     "name": "stdout",
     "output_type": "stream",
     "text": [
      "cluster end\n"
     ]
    },
    {
     "name": "stderr",
     "output_type": "stream",
     "text": [
      "\r",
      "Computing transition probabilities:  28%|██▊       | 112/394 [00:00<00:01, 225.73it/s]"
     ]
    },
    {
     "name": "stdout",
     "output_type": "stream",
     "text": [
      "[(('should', 'MD'), 69.95119047619067), (('it', 'PRP'), 70.40119047619066), (('grain', 'NN'), 71.2261904761907), (('their', 'PRP$'), 71.23452380952402), (('would', 'MD'), 72.684523809524), (('people', 'NNS'), 73.30000000000022), (('already', 'RB'), 73.30119047619067), (('there', 'EX'), 73.384523809524), ((',', ','), 98.40952380952355)] (300,)\n"
     ]
    },
    {
     "name": "stderr",
     "output_type": "stream",
     "text": [
      "\r",
      "Computing transition probabilities:   0%|          | 0/193 [00:00<?, ?it/s]"
     ]
    },
    {
     "name": "stdout",
     "output_type": "stream",
     "text": [
      "Unk percentage: 0.004016064257028112\n"
     ]
    },
    {
     "name": "stderr",
     "output_type": "stream",
     "text": [
      "Computing transition probabilities:  48%|████▊     | 189/394 [00:00<00:00, 231.73it/s]"
     ]
    },
    {
     "name": "stdout",
     "output_type": "stream",
     "text": [
      "[(('i', 'NN'), 101.08333333333294), (('your', 'PRP$'), 102.58333333333296), (('children', 'NNS'), 102.61666666666628), (('us', 'PRP'), 102.73333333333298), (('our', 'PRP$'), 109.84999999999964), (('we', 'PRP'), 110.54999999999966), (('you', 'PRP'), 114.86666666666638), (('who', 'WP'), 115.38333333333303), (('to', 'TO'), 128.06666666666638)] (300,)\n"
     ]
    },
    {
     "name": "stderr",
     "output_type": "stream",
     "text": [
      "Computing transition probabilities: 100%|██████████| 193/193 [00:00<00:00, 694.89it/s]\n",
      "Computing transition probabilities:  56%|█████▌    | 219/394 [00:00<00:00, 248.08it/s]"
     ]
    },
    {
     "name": "stdout",
     "output_type": "stream",
     "text": [
      "cluster began\n"
     ]
    },
    {
     "name": "stderr",
     "output_type": "stream",
     "text": [
      "\r",
      "Computing transition probabilities:  22%|██▏       | 54/241 [00:00<00:00, 533.16it/s]"
     ]
    },
    {
     "name": "stdout",
     "output_type": "stream",
     "text": [
      "cluster end\n"
     ]
    },
    {
     "name": "stderr",
     "output_type": "stream",
     "text": [
      "Computing transition probabilities:  74%|███████▎  | 290/394 [00:01<00:00, 286.12it/s]"
     ]
    },
    {
     "name": "stdout",
     "output_type": "stream",
     "text": [
      "[(('wisdom', 'NN'), 60.353571428571556), (('government', 'NN'), 60.8353174603176), (('our', 'PRP$'), 62.10003607503619), (('prosperity', 'NN'), 63.32023809523827), (('may', 'MD'), 63.55912698412716), (('constitution', 'NN'), 64.39246031746049), (('will', 'MD'), 64.45912698412715), (('his', 'PRP$'), 65.98412698412716), (('to', 'TO'), 70.13690476190493)] (300,)\n"
     ]
    },
    {
     "name": "stderr",
     "output_type": "stream",
     "text": [
      "Computing transition probabilities: 100%|██████████| 241/241 [00:00<00:00, 450.72it/s]\n",
      "Computing transition probabilities: 100%|██████████| 179/179 [00:00<00:00, 549.76it/s]\n",
      "Computing transition probabilities: 100%|██████████| 394/394 [00:01<00:00, 254.97it/s]\n",
      "Generating walks (CPU: 1):  60%|██████    | 6/10 [00:04<00:03,  1.16it/s]]\n",
      "Generating walks (CPU: 1):  30%|███       | 3/10 [00:04<00:10,  1.43s/it]\n",
      "Generating walks (CPU: 1):  70%|███████   | 7/10 [00:05<00:02,  1.22it/s]\n"
     ]
    },
    {
     "name": "stdout",
     "output_type": "stream",
     "text": [
      "Unk percentage: 0.003487792725460887\n",
      "Unk percentage: 0.0010657193605683837\n",
      "Unk percentage: 0.0008016032064128256\n",
      "Unk percentage: 0.0024813895781637717\n"
     ]
    },
    {
     "name": "stderr",
     "output_type": "stream",
     "text": [
      "Generating walks (CPU: 1):  80%|████████  | 8/10 [00:07<00:01,  1.03it/s]"
     ]
    },
    {
     "name": "stdout",
     "output_type": "stream",
     "text": [
      "cluster began\n",
      "cluster end\n"
     ]
    },
    {
     "name": "stderr",
     "output_type": "stream",
     "text": [
      "\r",
      "Generating walks (CPU: 1):  40%|████      | 4/10 [00:06<00:10,  1.68s/it]"
     ]
    },
    {
     "name": "stdout",
     "output_type": "stream",
     "text": [
      "Unk percentage: 0.003636853448275862\n",
      "[(('game', 'NN'), 89.44999999999969), (('one', 'CD'), 91.19999999999969), (('peace', 'NN'), 91.44999999999969), (('can', 'MD'), 91.61666666666635), (('we', 'PRP'), 92.28333333333302), (('great', 'JJ'), 94.03333333333302), (('you', 'PRP'), 94.16666666666634), (('will', 'MD'), 94.1999999999997), (('to', 'TO'), 109.16666666666643)] (300,)\n"
     ]
    },
    {
     "name": "stderr",
     "output_type": "stream",
     "text": [
      "Generating walks (CPU: 1):  80%|████████  | 8/10 [00:16<00:04,  2.13s/it], 429.67it/s]"
     ]
    },
    {
     "name": "stdout",
     "output_type": "stream",
     "text": [
      "Unk percentage: 0.0025996533795493936\n"
     ]
    },
    {
     "name": "stderr",
     "output_type": "stream",
     "text": [
      "Computing transition probabilities: 100%|██████████| 205/205 [00:00<00:00, 422.77it/s]\n",
      "Generating walks (CPU: 1):  90%|█████████ | 9/10 [00:08<00:01,  1.02s/it]"
     ]
    },
    {
     "name": "stdout",
     "output_type": "stream",
     "text": [
      "cluster began\n",
      "cluster end\n",
      "Unk percentage: 0.002482929857231533\n",
      "Unk percentage: 0.0017493986442160508\n"
     ]
    },
    {
     "name": "stderr",
     "output_type": "stream",
     "text": [
      "\r",
      "Generating walks (CPU: 1): 100%|██████████| 10/10 [00:08<00:00,  1.10it/s]"
     ]
    },
    {
     "name": "stdout",
     "output_type": "stream",
     "text": [
      "[(('state', 'NN'), 128.49999999999955), (('importance', 'NN'), 128.61666666666622), (('it', 'PRP'), 128.91666666666617), (('constitution', 'NN'), 129.16666666666615), (('shall', 'MD'), 129.88333333333284), ((\"''\", \"''\"), 129.98333333333278), (('states', 'NNS'), 132.83333333333283), (('amendment', 'NN'), 134.99999999999952), (('to', 'TO'), 158.85000000000053)] (300,)\n"
     ]
    },
    {
     "name": "stderr",
     "output_type": "stream",
     "text": [
      "Generating walks (CPU: 1):  20%|██        | 2/10 [00:01<00:04,  1.88it/s]s]"
     ]
    },
    {
     "name": "stdout",
     "output_type": "stream",
     "text": [
      "Unk percentage: 0.001885014137606032\n"
     ]
    },
    {
     "name": "stderr",
     "output_type": "stream",
     "text": [
      "Computing transition probabilities:  49%|████▉     | 151/308 [00:00<00:00, 252.14it/s]"
     ]
    },
    {
     "name": "stdout",
     "output_type": "stream",
     "text": [
      "cluster began\n",
      "cluster end\n"
     ]
    },
    {
     "name": "stderr",
     "output_type": "stream",
     "text": [
      "Computing transition probabilities:  72%|███████▏  | 223/308 [00:00<00:00, 296.20it/s]\n",
      "Computing transition probabilities: 100%|██████████| 308/308 [00:00<00:00, 319.09it/s]\n",
      "Generating walks (CPU: 1):  30%|███       | 3/10 [00:02<00:04,  1.48it/s]"
     ]
    },
    {
     "name": "stdout",
     "output_type": "stream",
     "text": [
      "[(('force', 'NN'), 111.48333333333282), (('i', 'NN'), 112.88333333333283), (('would', 'MD'), 116.0666666666662), (('it', 'PRP'), 117.69999999999953), (('country', 'NN'), 117.73333333333285), ((\"''\", \"''\"), 117.89999999999951), (('``', '``'), 118.28333333333285), (('our', 'PRP$'), 121.08333333333283), (('to', 'TO'), 142.71666666666658)] (300,)\n"
     ]
    },
    {
     "name": "stderr",
     "output_type": "stream",
     "text": [
      "Computing transition probabilities:  17%|█▋        | 47/277 [00:00<00:00, 465.30it/s]\n",
      "Computing transition probabilities: 100%|██████████| 277/277 [00:00<00:00, 430.97it/s]\n",
      "Generating walks (CPU: 1):   0%|          | 0/10 [00:00<?, ?it/s]"
     ]
    },
    {
     "name": "stdout",
     "output_type": "stream",
     "text": [
      "Unk percentage: 0.0032876712328767125\n",
      "Unk percentage: 0.0012117540139351712\n"
     ]
    },
    {
     "name": "stderr",
     "output_type": "stream",
     "text": [
      "Generating walks (CPU: 1):  40%|████      | 4/10 [00:03<00:04,  1.24it/s]"
     ]
    },
    {
     "name": "stdout",
     "output_type": "stream",
     "text": [
      "Unk percentage: 0.007748600947051227\n",
      "Unk percentage: 0.010063797286368945\n",
      "Unk percentage: 0.010977210356759337\n"
     ]
    },
    {
     "name": "stderr",
     "output_type": "stream",
     "text": [
      "\r",
      "Generating walks (CPU: 1):  20%|██        | 2/10 [00:01<00:06,  1.19it/s]"
     ]
    },
    {
     "name": "stdout",
     "output_type": "stream",
     "text": [
      "Unk percentage: 0.00974025974025974\n"
     ]
    },
    {
     "name": "stderr",
     "output_type": "stream",
     "text": [
      "Generating walks (CPU: 1): 100%|██████████| 10/10 [00:11<00:00,  1.32s/it]"
     ]
    },
    {
     "name": "stdout",
     "output_type": "stream",
     "text": [
      "cluster began\n",
      "cluster end\n",
      "Unk percentage: 0.00468384074941452\n"
     ]
    },
    {
     "name": "stderr",
     "output_type": "stream",
     "text": [
      "\r",
      "Generating walks (CPU: 1): 100%|██████████| 10/10 [00:20<00:00,  2.29s/it]"
     ]
    },
    {
     "name": "stdout",
     "output_type": "stream",
     "text": [
      "[(('objects', 'NNS'), 95.33333333333307), (('duty', 'NN'), 95.41666666666642), (('money', 'NN'), 96.16666666666639), (('not', 'RB'), 97.11666666666638), (('i', 'NN'), 97.51666666666631), (('my', 'PRP$'), 98.74999999999964), (('bill', 'NN'), 106.24999999999967), (('it', 'PRP'), 106.9999999999997), (('to', 'TO'), 123.98333333333305)] (300,)\n"
     ]
    },
    {
     "name": "stderr",
     "output_type": "stream",
     "text": [
      "\r",
      "Computing transition probabilities:   0%|          | 0/232 [00:00<?, ?it/s]"
     ]
    },
    {
     "name": "stdout",
     "output_type": "stream",
     "text": [
      "cluster began\n",
      "cluster end\n"
     ]
    },
    {
     "name": "stderr",
     "output_type": "stream",
     "text": [
      "\r",
      "Computing transition probabilities:  22%|██▏       | 52/232 [00:00<00:00, 516.70it/s]"
     ]
    },
    {
     "name": "stdout",
     "output_type": "stream",
     "text": [
      "[(('affords', 'NNS'), 51.967496392496436), (('i', 'NNS'), 51.96822899322903), (('doubtful', 'JJ'), 53.119419469419526), (('will', 'MD'), 53.271800421800464), (('not', 'RB'), 57.45241702741715), (('its', 'PRP$'), 57.75275280275292), (('treaty', 'NN'), 57.761940836940944), (('it', 'PRP'), 63.24011544011558), (('to', 'TO'), 64.8262265512267)] (300,)\n"
     ]
    },
    {
     "name": "stderr",
     "output_type": "stream",
     "text": [
      "Computing transition probabilities: 100%|██████████| 172/172 [00:00<00:00, 697.16it/s]\n",
      "Computing transition probabilities: 100%|██████████| 232/232 [00:00<00:00, 430.61it/s]\n",
      "Generating walks (CPU: 1):  30%|███       | 3/10 [00:03<00:07,  1.01s/it]\n",
      "Generating walks (CPU: 1):  20%|██        | 2/10 [00:01<00:04,  1.72it/s]\n",
      "Generating walks (CPU: 1):  30%|███       | 3/10 [00:01<00:04,  1.73it/s]"
     ]
    },
    {
     "name": "stdout",
     "output_type": "stream",
     "text": [
      "Unk percentage: 0.0012336975678533663\n"
     ]
    },
    {
     "name": "stderr",
     "output_type": "stream",
     "text": [
      "Generating walks (CPU: 1):  40%|████      | 4/10 [00:04<00:06,  1.17s/it]"
     ]
    },
    {
     "name": "stdout",
     "output_type": "stream",
     "text": [
      "Unk percentage: 0.0017641870038224052\n"
     ]
    },
    {
     "name": "stderr",
     "output_type": "stream",
     "text": [
      "\r",
      "Generating walks (CPU: 1):  80%|████████  | 8/10 [00:07<00:02,  1.05s/it]"
     ]
    },
    {
     "name": "stdout",
     "output_type": "stream",
     "text": [
      "Unk percentage: 0.001568627450980392\n"
     ]
    },
    {
     "name": "stderr",
     "output_type": "stream",
     "text": [
      "Generating walks (CPU: 1):  40%|████      | 4/10 [00:02<00:04,  1.45it/s]"
     ]
    },
    {
     "name": "stdout",
     "output_type": "stream",
     "text": [
      "cluster began\n",
      "cluster end\n"
     ]
    },
    {
     "name": "stderr",
     "output_type": "stream",
     "text": [
      "Generating walks (CPU: 1):  50%|█████     | 5/10 [00:06<00:07,  1.45s/it]"
     ]
    },
    {
     "name": "stdout",
     "output_type": "stream",
     "text": [
      "[(('together', 'RB'), 135.71468253968175), (('land', 'NN'), 139.32182539682464), (('today', 'NN'), 139.61468253968175), (('your', 'PRP$'), 139.805158730158), (('us', 'PRP'), 141.51468253968184), (('we', 'PRP'), 143.38134920634863), (('peace', 'NN'), 145.9813492063488), (('who', 'WP'), 146.36468253968218), (('to', 'TO'), 173.4456349206355)] (300,)\n"
     ]
    },
    {
     "name": "stderr",
     "output_type": "stream",
     "text": [
      "Generating walks (CPU: 1):  40%|████      | 4/10 [00:03<00:05,  1.05it/s]s]"
     ]
    },
    {
     "name": "stdout",
     "output_type": "stream",
     "text": [
      "Unk percentage: 0.0038779923931687673\n"
     ]
    },
    {
     "name": "stderr",
     "output_type": "stream",
     "text": [
      "Computing transition probabilities:  90%|████████▉ | 307/343 [00:00<00:00, 395.14it/s]"
     ]
    },
    {
     "name": "stdout",
     "output_type": "stream",
     "text": [
      "Unk percentage: 0.0027913468248429866\n"
     ]
    },
    {
     "name": "stderr",
     "output_type": "stream",
     "text": [
      "Computing transition probabilities: 100%|██████████| 343/343 [00:00<00:00, 374.99it/s]\n",
      "Generating walks (CPU: 1):  60%|██████    | 6/10 [00:07<00:05,  1.35s/it]"
     ]
    },
    {
     "name": "stdout",
     "output_type": "stream",
     "text": [
      "cluster began\n",
      "cluster end\n"
     ]
    },
    {
     "name": "stderr",
     "output_type": "stream",
     "text": [
      "Generating walks (CPU: 1):  60%|██████    | 6/10 [00:08<00:06,  1.52s/it]\n"
     ]
    },
    {
     "name": "stdout",
     "output_type": "stream",
     "text": [
      "[(('just', 'RB'), 123.47619047618994), (('people', 'NNS'), 124.02619047618994), (('i', 'NN'), 124.74285714285668), (('will', 'MD'), 130.42619047618996), (('what', 'WP'), 133.3428571428566), (('it', 'PRP'), 133.34285714285664), (('they', 'PRP'), 136.57619047618996), (('to', 'TO'), 147.47619047619065), (('you', 'PRP'), 147.7500000000002)] (300,)\n"
     ]
    },
    {
     "name": "stderr",
     "output_type": "stream",
     "text": [
      "Computing transition probabilities: 100%|██████████| 294/294 [00:00<00:00, 404.05it/s]\n",
      "Generating walks (CPU: 1):  70%|███████   | 7/10 [00:09<00:04,  1.38s/it]"
     ]
    },
    {
     "name": "stdout",
     "output_type": "stream",
     "text": [
      "Unk percentage: 0.0016666666666666668\n"
     ]
    },
    {
     "name": "stderr",
     "output_type": "stream",
     "text": [
      "\r",
      "Generating walks (CPU: 1):  20%|██        | 2/10 [00:02<00:08,  1.01s/it]"
     ]
    },
    {
     "name": "stdout",
     "output_type": "stream",
     "text": [
      "Unk percentage: 0.0005584512285927029\n"
     ]
    },
    {
     "name": "stderr",
     "output_type": "stream",
     "text": [
      "Generating walks (CPU: 1):  70%|███████   | 7/10 [00:10<00:04,  1.53s/it]"
     ]
    },
    {
     "name": "stdout",
     "output_type": "stream",
     "text": [
      "Unk percentage: 0.0016175994823681655\n",
      "Unk percentage: 0.000819672131147541\n"
     ]
    },
    {
     "name": "stderr",
     "output_type": "stream",
     "text": [
      "\r",
      "Generating walks (CPU: 1):  70%|███████   | 7/10 [00:07<00:03,  1.11s/it]"
     ]
    },
    {
     "name": "stdout",
     "output_type": "stream",
     "text": [
      "Unk percentage: 0.0068560235063663075\n"
     ]
    },
    {
     "name": "stderr",
     "output_type": "stream",
     "text": [
      "\r",
      "Generating walks (CPU: 1): 100%|██████████| 10/10 [00:07<00:00,  1.21it/s]"
     ]
    },
    {
     "name": "stdout",
     "output_type": "stream",
     "text": [
      "cluster began\n",
      "cluster end\n"
     ]
    },
    {
     "name": "stderr",
     "output_type": "stream",
     "text": [
      "Generating walks (CPU: 1):  80%|████████  | 8/10 [00:10<00:03,  1.51s/it]"
     ]
    },
    {
     "name": "stdout",
     "output_type": "stream",
     "text": [
      "[((':', ':'), 91.53333333333305), (('president', 'NN'), 93.58333333333297), ((\"''\", \"''\"), 95.16666666666629), (('states', 'NNS'), 100.24999999999969), (('act', 'NN'), 100.86666666666636), (('state', 'NN'), 102.6666666666664), (('texas', 'NN'), 105.24999999999974), (('shall', 'MD'), 106.41666666666639), (('to', 'TO'), 116.66666666666647)] (300,)\n"
     ]
    },
    {
     "name": "stderr",
     "output_type": "stream",
     "text": [
      "Computing transition probabilities:  42%|████▏     | 89/213 [00:00<00:00, 453.13it/s]\n",
      "Computing transition probabilities: 100%|██████████| 213/213 [00:00<00:00, 346.64it/s]\n",
      "Generating walks (CPU: 1):  30%|███       | 3/10 [00:03<00:08,  1.19s/it]"
     ]
    },
    {
     "name": "stdout",
     "output_type": "stream",
     "text": [
      "Unk percentage: 0.008441467838705176\n"
     ]
    },
    {
     "name": "stderr",
     "output_type": "stream",
     "text": [
      "Generating walks (CPU: 1):  90%|█████████ | 9/10 [00:14<00:01,  1.71s/it]\n",
      "Generating walks (CPU: 1):  40%|████      | 4/10 [00:06<00:09,  1.62s/it]"
     ]
    },
    {
     "name": "stdout",
     "output_type": "stream",
     "text": [
      "Unk percentage: 0.005890603085553997\n"
     ]
    },
    {
     "name": "stderr",
     "output_type": "stream",
     "text": [
      "Generating walks (CPU: 1): 100%|██████████| 10/10 [00:11<00:00,  1.39s/it]"
     ]
    },
    {
     "name": "stdout",
     "output_type": "stream",
     "text": [
      "Unk percentage: 0.0029282576866764276\n"
     ]
    },
    {
     "name": "stderr",
     "output_type": "stream",
     "text": [
      "\r",
      "Generating walks (CPU: 1): 100%|██████████| 10/10 [00:15<00:00,  1.77s/it]"
     ]
    },
    {
     "name": "stdout",
     "output_type": "stream",
     "text": [
      "Unk percentage: 0.0060882800608828\n"
     ]
    },
    {
     "name": "stderr",
     "output_type": "stream",
     "text": [
      "\r",
      "Generating walks (CPU: 1):  40%|████      | 4/10 [00:03<00:05,  1.00it/s]"
     ]
    },
    {
     "name": "stdout",
     "output_type": "stream",
     "text": [
      "cluster began\n",
      "cluster end\n"
     ]
    },
    {
     "name": "stderr",
     "output_type": "stream",
     "text": [
      "\r",
      "Generating walks (CPU: 1):  50%|█████     | 5/10 [00:08<00:08,  1.74s/it]"
     ]
    },
    {
     "name": "stdout",
     "output_type": "stream",
     "text": [
      "[(('will', 'MD'), 76.4166666666669), (('us', 'PRP'), 76.96666666666692), (('people', 'NNS'), 77.32619047619073), (('congress', 'NN'), 78.68333333333358), (('determination', 'NN'), 79.07619047619067), (('nation', 'NN'), 81.56666666666676), (('government', 'NN'), 83.15000000000006), ((',', ','), 96.18333333333304), (('our', 'PRP$'), 102.24999999999969)] (300,)\n"
     ]
    },
    {
     "name": "stderr",
     "output_type": "stream",
     "text": [
      "Computing transition probabilities:   0%|          | 0/214 [00:00<?, ?it/s]\n",
      "\n",
      "Computing transition probabilities:  45%|████▍     | 96/214 [00:00<00:00, 494.41it/s]"
     ]
    },
    {
     "name": "stdout",
     "output_type": "stream",
     "text": [
      "Unk percentage: 0.0113314447592068\n"
     ]
    },
    {
     "name": "stderr",
     "output_type": "stream",
     "text": [
      "Computing transition probabilities: 100%|██████████| 214/214 [00:00<00:00, 468.46it/s]\n",
      "Generating walks (CPU: 1):   0%|          | 0/10 [00:00<?, ?it/s]"
     ]
    },
    {
     "name": "stdout",
     "output_type": "stream",
     "text": [
      "cluster began\n",
      "cluster end\n",
      "[(('way', 'NN'), 46.35000000000004), (('september', 'NN'), 46.416666666666714), (('roosevelt', 'NN'), 46.800000000000054), (('life', 'NN'), 47.43333333333339), (('our', 'PRP$'), 49.8500000000001), (('day', 'NN'), 49.93333333333343), (('death', 'NN'), 52.1000000000001), (('president', 'NN'), 53.98333333333343), (('to', 'TO'), 54.1500000000001)] (300,)\n"
     ]
    },
    {
     "name": "stderr",
     "output_type": "stream",
     "text": [
      "Computing transition probabilities: 100%|██████████| 119/119 [00:00<00:00, 474.28it/s]\n",
      "Generating walks (CPU: 1):   0%|          | 0/10 [00:00<?, ?it/s]\n",
      "Generating walks (CPU: 1):  20%|██        | 2/10 [00:00<00:02,  3.35it/s]"
     ]
    },
    {
     "name": "stdout",
     "output_type": "stream",
     "text": [
      "Unk percentage: 0.0019559902200488996\n"
     ]
    },
    {
     "name": "stderr",
     "output_type": "stream",
     "text": [
      "Generating walks (CPU: 1):  60%|██████    | 6/10 [00:10<00:07,  1.89s/it]"
     ]
    },
    {
     "name": "stdout",
     "output_type": "stream",
     "text": [
      "Unk percentage: 0.013518005540166205\n",
      "Unk percentage: 0.002984264785675529\n"
     ]
    },
    {
     "name": "stderr",
     "output_type": "stream",
     "text": [
      "Generating walks (CPU: 1):  60%|██████    | 6/10 [00:09<00:06,  1.67s/it]"
     ]
    },
    {
     "name": "stdout",
     "output_type": "stream",
     "text": [
      "Unk percentage: 0.004722448804361825\n",
      "Unk percentage: 0.001740341106856944\n"
     ]
    },
    {
     "name": "stderr",
     "output_type": "stream",
     "text": [
      "\r",
      "Generating walks (CPU: 1):  40%|████      | 4/10 [00:01<00:02,  2.25it/s]"
     ]
    },
    {
     "name": "stdout",
     "output_type": "stream",
     "text": [
      "Unk percentage: 0.0010062893081761006\n"
     ]
    },
    {
     "name": "stderr",
     "output_type": "stream",
     "text": [
      "\r",
      "Generating walks (CPU: 1):  30%|███       | 3/10 [00:02<00:05,  1.19it/s]"
     ]
    },
    {
     "name": "stdout",
     "output_type": "stream",
     "text": [
      "Unk percentage: 0.0014005602240896359\n",
      "Unk percentage: 0.008771929824561403\n"
     ]
    },
    {
     "name": "stderr",
     "output_type": "stream",
     "text": [
      "Generating walks (CPU: 1):  70%|███████   | 7/10 [00:08<00:03,  1.24s/it]"
     ]
    },
    {
     "name": "stdout",
     "output_type": "stream",
     "text": [
      "cluster began\n",
      "cluster end\n",
      "[(('humbly', 'RB'), 40.27857142857142), (('addition', 'NN'), 40.27857142857142), (('existence', 'NN'), 40.66468253968253), (('june', 'NN'), 40.78571428571428), (('independence', 'NN'), 42.09960317460318), (('its', 'PRP$'), 42.545238095238105), (('day', 'NN'), 44.34404761904764), (('states', 'NNS'), 45.55912698412705), (('to', 'TO'), 52.75793650793659)] (300,)\n"
     ]
    },
    {
     "name": "stderr",
     "output_type": "stream",
     "text": [
      "Computing transition probabilities: 100%|██████████| 119/119 [00:00<00:00, 707.15it/s]\n"
     ]
    },
    {
     "name": "stdout",
     "output_type": "stream",
     "text": [
      "Unk percentage: 0.0076430489568271014\n"
     ]
    },
    {
     "name": "stderr",
     "output_type": "stream",
     "text": [
      "\r",
      "Generating walks (CPU: 1):   0%|          | 0/10 [00:00<?, ?it/s]"
     ]
    },
    {
     "name": "stdout",
     "output_type": "stream",
     "text": [
      "cluster began\n",
      "cluster end\n"
     ]
    },
    {
     "name": "stderr",
     "output_type": "stream",
     "text": [
      "Generating walks (CPU: 1):  70%|███████   | 7/10 [00:03<00:01,  1.59it/s]"
     ]
    },
    {
     "name": "stdout",
     "output_type": "stream",
     "text": [
      "Unk percentage: 0.00798888502952414\n",
      "[(('my', 'PRP$'), 172.10000000000105), (('always', 'RB'), 172.85000000000105), (('will', 'MD'), 174.850000000001), (('i', 'NN'), 175.91666666666768), (('he', 'PRP'), 176.56666666666766), (('we', 'PRP'), 180.8166666666677), (('it', 'PRP'), 183.8666666666676), (('you', 'PRP'), 189.9833333333342), (('to', 'TO'), 198.70000000000076)] (300,)\n"
     ]
    },
    {
     "name": "stderr",
     "output_type": "stream",
     "text": [
      "Computing transition probabilities:  23%|██▎       | 89/380 [00:00<00:01, 186.97it/s]"
     ]
    },
    {
     "name": "stdout",
     "output_type": "stream",
     "text": [
      "Unk percentage: 0.0056130919440271956\n"
     ]
    },
    {
     "name": "stderr",
     "output_type": "stream",
     "text": [
      "Computing transition probabilities:  81%|████████  | 307/380 [00:01<00:00, 291.81it/s]"
     ]
    },
    {
     "name": "stdout",
     "output_type": "stream",
     "text": [
      "Unk percentage: 0.0056634304207119745\n"
     ]
    },
    {
     "name": "stderr",
     "output_type": "stream",
     "text": [
      "Computing transition probabilities: 100%|██████████| 380/380 [00:01<00:00, 270.74it/s]\n",
      "Generating walks (CPU: 1):  50%|█████     | 5/10 [00:02<00:02,  1.90it/s]"
     ]
    },
    {
     "name": "stdout",
     "output_type": "stream",
     "text": [
      "cluster began\n",
      "cluster end\n"
     ]
    },
    {
     "name": "stderr",
     "output_type": "stream",
     "text": [
      "Generating walks (CPU: 1): 100%|██████████| 10/10 [00:05<00:00,  1.66it/s]"
     ]
    },
    {
     "name": "stdout",
     "output_type": "stream",
     "text": [
      "[(('debts', 'NNS'), 112.31666666666617), (('bonds', 'NNS'), 114.6833333333329), (('silver', 'NN'), 116.24999999999945), (('dollar', 'NN'), 116.48333333333287), (('value', 'NN'), 117.91666666666617), (('coin', 'NN'), 119.03333333333288), (('bill', 'NN'), 119.64999999999958), (('it', 'PRP'), 126.23333333333296), (('to', 'TO'), 146.45000000000013)] (300,)\n"
     ]
    },
    {
     "name": "stderr",
     "output_type": "stream",
     "text": [
      "Computing transition probabilities:  18%|█▊        | 50/274 [00:00<00:00, 491.34it/s]\n",
      "Computing transition probabilities: 100%|██████████| 274/274 [00:00<00:00, 467.72it/s]\n",
      "Generating walks (CPU: 1):  70%|███████   | 7/10 [00:07<00:03,  1.08s/it]"
     ]
    },
    {
     "name": "stdout",
     "output_type": "stream",
     "text": [
      "Unk percentage: 0.005479452054794521\n"
     ]
    },
    {
     "name": "stderr",
     "output_type": "stream",
     "text": [
      "Generating walks (CPU: 1):  80%|████████  | 8/10 [00:04<00:01,  1.85it/s]"
     ]
    },
    {
     "name": "stdout",
     "output_type": "stream",
     "text": [
      "cluster began\n",
      "cluster end\n"
     ]
    },
    {
     "name": "stderr",
     "output_type": "stream",
     "text": [
      "\n",
      "Generating walks (CPU: 1):  20%|██        | 2/10 [00:02<00:08,  1.07s/it]"
     ]
    },
    {
     "name": "stdout",
     "output_type": "stream",
     "text": [
      "[(('problems', 'NNS'), 113.89563492063446), (('life', 'NN'), 115.62896825396778), (('UNK', 'NNP'), 115.7789682539678), (('not', 'RB'), 116.81230158730116), (('people', 'NNS'), 120.39563492063454), (('us', 'PRP'), 123.16230158730117), (('we', 'PRP'), 134.6623015873012), (('our', 'PRP$'), 135.24563492063447), (('to', 'TO'), 142.01785714285708)] (300,)\n"
     ]
    },
    {
     "name": "stderr",
     "output_type": "stream",
     "text": [
      "Computing transition probabilities: 100%|██████████| 282/282 [00:00<00:00, 454.32it/s]\n",
      "Generating walks (CPU: 1):   0%|          | 0/10 [00:00<?, ?it/s]"
     ]
    },
    {
     "name": "stdout",
     "output_type": "stream",
     "text": [
      "Unk percentage: 0.001146131805157593\n",
      "Unk percentage: 0.0021996150673632116\n"
     ]
    },
    {
     "name": "stderr",
     "output_type": "stream",
     "text": [
      "\n",
      "Generating walks (CPU: 1): 100%|██████████| 10/10 [00:18<00:00,  1.92s/it]"
     ]
    },
    {
     "name": "stdout",
     "output_type": "stream",
     "text": [
      "Unk percentage: 0.0031045570462357244\n"
     ]
    },
    {
     "name": "stderr",
     "output_type": "stream",
     "text": [
      "\r",
      "Generating walks (CPU: 1):  90%|█████████ | 9/10 [00:09<00:01,  1.09s/it]"
     ]
    },
    {
     "name": "stdout",
     "output_type": "stream",
     "text": [
      "Unk percentage: 0.004213938411669368\n",
      "Unk percentage: 0.0014577259475218659\n"
     ]
    },
    {
     "name": "stderr",
     "output_type": "stream",
     "text": [
      "\r",
      "Generating walks (CPU: 1):  30%|███       | 3/10 [00:02<00:06,  1.08it/s]"
     ]
    },
    {
     "name": "stdout",
     "output_type": "stream",
     "text": [
      "Unk percentage: 0.006064408197406943\n"
     ]
    },
    {
     "name": "stderr",
     "output_type": "stream",
     "text": [
      "\n",
      "Generating walks (CPU: 1):  20%|██        | 2/10 [00:01<00:05,  1.47it/s]"
     ]
    },
    {
     "name": "stdout",
     "output_type": "stream",
     "text": [
      "Unk percentage: 0.0015748031496062992\n",
      "Unk percentage: 0.0007386615452799527\n"
     ]
    },
    {
     "name": "stderr",
     "output_type": "stream",
     "text": [
      "\r",
      "Generating walks (CPU: 1): 100%|██████████| 10/10 [00:10<00:00,  1.12s/it]"
     ]
    },
    {
     "name": "stdout",
     "output_type": "stream",
     "text": [
      "Unk percentage: 0.002894356005788712\n",
      "Unk percentage: 0.004566758803028482\n",
      "cluster began\n",
      "cluster end\n"
     ]
    },
    {
     "name": "stderr",
     "output_type": "stream",
     "text": [
      "Generating walks (CPU: 1):  40%|████      | 4/10 [00:04<00:06,  1.06s/it]\n"
     ]
    },
    {
     "name": "stdout",
     "output_type": "stream",
     "text": [
      "[(('her', 'PRP$'), 73.88849206349231), (('not', 'RB'), 73.93849206349225), (('boundaries', 'NNS'), 74.23849206349225), (('constitution', 'NN'), 74.68849206349225), (('act', 'NN'), 77.10119047619065), (('congress', 'NN'), 82.2428571428571), (('state', 'NN'), 82.52896825396826), (('texas', 'NN'), 83.58452380952374), (('to', 'TO'), 97.53452380952359)] (300,)\n"
     ]
    },
    {
     "name": "stderr",
     "output_type": "stream",
     "text": [
      "Computing transition probabilities:  36%|███▌      | 71/200 [00:00<00:00, 704.42it/s]"
     ]
    },
    {
     "name": "stdout",
     "output_type": "stream",
     "text": [
      "Unk percentage: 0.003977272727272727\n"
     ]
    },
    {
     "name": "stderr",
     "output_type": "stream",
     "text": [
      "Computing transition probabilities:  71%|███████   | 142/200 [00:00<00:00, 705.46it/s]\n"
     ]
    },
    {
     "name": "stdout",
     "output_type": "stream",
     "text": [
      "Unk percentage: 0.0017205781142463868\n"
     ]
    },
    {
     "name": "stderr",
     "output_type": "stream",
     "text": [
      "Computing transition probabilities: 100%|██████████| 200/200 [00:00<00:00, 699.54it/s]\n",
      "Generating walks (CPU: 1):   0%|          | 0/10 [00:00<?, ?it/s]"
     ]
    },
    {
     "name": "stdout",
     "output_type": "stream",
     "text": [
      "Unk percentage: 0.001557632398753894\n",
      "Unk percentage: 0.006157635467980296\n"
     ]
    },
    {
     "name": "stderr",
     "output_type": "stream",
     "text": [
      "\r",
      "Generating walks (CPU: 1):  40%|████      | 4/10 [00:06<00:09,  1.60s/it]"
     ]
    },
    {
     "name": "stdout",
     "output_type": "stream",
     "text": [
      "cluster began\n",
      "cluster end\n",
      "Unk percentage: 0.00644122383252818\n",
      "[(('united', 'JJ'), 86.91904761904755), (('peoples', 'NNS'), 86.96904761904753), (('god', 'NN'), 87.13571428571419), (('germany', 'NN'), 88.26666666666654), (('i', 'NN'), 89.08571428571413), (('our', 'PRP$'), 90.00238095238089), (('victory', 'NN'), 91.42619047619024), (('we', 'PRP'), 91.85238095238073), (('to', 'TO'), 117.06666666666645)] (300,)\n"
     ]
    },
    {
     "name": "stderr",
     "output_type": "stream",
     "text": [
      "Computing transition probabilities:  29%|██▉       | 63/218 [00:00<00:00, 622.31it/s]"
     ]
    },
    {
     "name": "stdout",
     "output_type": "stream",
     "text": [
      "Unk percentage: 0.0016933207902163688\n"
     ]
    },
    {
     "name": "stderr",
     "output_type": "stream",
     "text": [
      "\r",
      "Computing transition probabilities:  57%|█████▋    | 125/218 [00:00<00:00, 618.88it/s]"
     ]
    },
    {
     "name": "stdout",
     "output_type": "stream",
     "text": [
      "Unk percentage: 0.007537688442211055\n"
     ]
    },
    {
     "name": "stderr",
     "output_type": "stream",
     "text": [
      "Computing transition probabilities: 100%|██████████| 218/218 [00:00<00:00, 606.08it/s]\n",
      "Generating walks (CPU: 1):   0%|          | 0/10 [00:00<?, ?it/s]"
     ]
    },
    {
     "name": "stdout",
     "output_type": "stream",
     "text": [
      "cluster began\n",
      "cluster end\n",
      "Unk percentage: 0.008059516429014259\n"
     ]
    },
    {
     "name": "stderr",
     "output_type": "stream",
     "text": [
      "\r",
      "Generating walks (CPU: 1):  40%|████      | 4/10 [00:04<00:06,  1.11s/it]"
     ]
    },
    {
     "name": "stdout",
     "output_type": "stream",
     "text": [
      "[(('privileges', 'NNS'), 50.04285714285721), (('duty', 'NN'), 50.66666666666675), (('action', 'NN'), 51.50952380952389), (('party', 'NN'), 51.742857142857225), (('government', 'NN'), 51.86071428571438), (('not', 'RB'), 51.959523809523894), ((',', ','), 54.90952380952394), (('political', 'JJ'), 59.592857142857255), (('to', 'TO'), 62.892857142857245)] (300,)\n"
     ]
    },
    {
     "name": "stderr",
     "output_type": "stream",
     "text": [
      "Computing transition probabilities:  73%|███████▎  | 97/133 [00:00<00:00, 965.01it/s]"
     ]
    },
    {
     "name": "stdout",
     "output_type": "stream",
     "text": [
      "Unk percentage: 0.0015625\n"
     ]
    },
    {
     "name": "stderr",
     "output_type": "stream",
     "text": [
      "Computing transition probabilities: 100%|██████████| 133/133 [00:00<00:00, 916.76it/s]\n",
      "Generating walks (CPU: 1):   0%|          | 0/10 [00:00<?, ?it/s]"
     ]
    },
    {
     "name": "stdout",
     "output_type": "stream",
     "text": [
      "Unk percentage: 0.0008726003490401396\n"
     ]
    },
    {
     "name": "stderr",
     "output_type": "stream",
     "text": [
      "\r",
      "Generating walks (CPU: 1):  30%|███       | 3/10 [00:02<00:04,  1.50it/s]"
     ]
    },
    {
     "name": "stdout",
     "output_type": "stream",
     "text": [
      "cluster began\n",
      "Unk percentage: 0.0017053206002728514\n",
      "cluster end\n"
     ]
    },
    {
     "name": "stderr",
     "output_type": "stream",
     "text": [
      "Generating walks (CPU: 1):  20%|██        | 2/10 [00:01<00:04,  1.88it/s]"
     ]
    },
    {
     "name": "stdout",
     "output_type": "stream",
     "text": [
      "Unk percentage: 0.012220238912536043\n"
     ]
    },
    {
     "name": "stderr",
     "output_type": "stream",
     "text": [
      "Generating walks (CPU: 1):  60%|██████    | 6/10 [00:07<00:05,  1.29s/it]"
     ]
    },
    {
     "name": "stdout",
     "output_type": "stream",
     "text": [
      "Unk percentage: 0.00558659217877095\n"
     ]
    },
    {
     "name": "stderr",
     "output_type": "stream",
     "text": [
      "\r",
      "Generating walks (CPU: 1):  30%|███       | 3/10 [00:01<00:02,  2.41it/s]"
     ]
    },
    {
     "name": "stdout",
     "output_type": "stream",
     "text": [
      "[(('future', 'NN'), 149.68333333333328), (('world', 'NN'), 151.01666666666654), (('you', 'PRP'), 152.01666666666674), (('we', 'PRP'), 152.29999999999998), (('more', 'JJR'), 152.98333333333338), (('people', 'NNS'), 154.10000000000014), (('more', 'RBR'), 156.46666666666684), (('to', 'TO'), 181.16666666666762), (('our', 'PRP$'), 181.6833333333341)] (300,)\n"
     ]
    },
    {
     "name": "stderr",
     "output_type": "stream",
     "text": [
      "Generating walks (CPU: 1):  50%|█████     | 5/10 [00:05<00:06,  1.23s/it]s]"
     ]
    },
    {
     "name": "stdout",
     "output_type": "stream",
     "text": [
      "cluster began\n"
     ]
    },
    {
     "name": "stderr",
     "output_type": "stream",
     "text": [
      "\r",
      "Computing transition probabilities:   6%|▌         | 21/359 [00:00<00:01, 202.49it/s]"
     ]
    },
    {
     "name": "stdout",
     "output_type": "stream",
     "text": [
      "cluster end\n"
     ]
    },
    {
     "name": "stderr",
     "output_type": "stream",
     "text": [
      "\r",
      "Generating walks (CPU: 1):  40%|████      | 4/10 [00:03<00:04,  1.34it/s]"
     ]
    },
    {
     "name": "stdout",
     "output_type": "stream",
     "text": [
      "[(('such', 'JJ'), 34.24686147186148), (('maximum', 'JJ'), 34.85793650793648), (('they', 'PRP'), 35.6040043290043), (('increase', 'NN'), 35.77460317460315), (('can', 'MD'), 36.54206349206347), (('sums', 'NNS'), 37.01749639249639), (('employment', 'NN'), 39.14325396825395), (('relief', 'NN'), 39.96587301587302), (('to', 'TO'), 44.24130591630594)] (300,)\n"
     ]
    },
    {
     "name": "stderr",
     "output_type": "stream",
     "text": [
      "Computing transition probabilities: 100%|██████████| 119/119 [00:00<00:00, 1021.62it/s]\n",
      "Computing transition probabilities: 100%|██████████| 359/359 [00:01<00:00, 342.10it/s]\n",
      "Generating walks (CPU: 1):  30%|███       | 3/10 [00:03<00:08,  1.21s/it]]\n",
      "Generating walks (CPU: 1): 100%|██████████| 10/10 [00:12<00:00,  1.38s/it]"
     ]
    },
    {
     "name": "stdout",
     "output_type": "stream",
     "text": [
      "Unk percentage: 0.0013341239252890602\n"
     ]
    },
    {
     "name": "stderr",
     "output_type": "stream",
     "text": [
      "Generating walks (CPU: 1):  90%|█████████ | 9/10 [00:11<00:01,  1.33s/it]\n",
      "Generating walks (CPU: 1):  80%|████████  | 8/10 [00:07<00:01,  1.01it/s]"
     ]
    },
    {
     "name": "stdout",
     "output_type": "stream",
     "text": [
      "Unk percentage: 0.004467414155571128\n",
      "Unk percentage: 0.005649717514124294\n"
     ]
    },
    {
     "name": "stderr",
     "output_type": "stream",
     "text": [
      "\r",
      "Generating walks (CPU: 1): 100%|██████████| 10/10 [00:08<00:00,  1.06it/s]"
     ]
    },
    {
     "name": "stdout",
     "output_type": "stream",
     "text": [
      "cluster began\n",
      "cluster end\n",
      "Unk percentage: 0.00716275368085953\n",
      "[(('nation', 'NN'), 70.53650793650813), (('it', 'PRP'), 72.17539682539702), (('one', 'CD'), 73.3075396825399), (('we', 'PRP'), 75.54365079365105), (('president', 'NN'), 76.5837301587304), (('our', 'PRP$'), 78.9476190476193), (('peace', 'NN'), 84.09642857142863), (('room', 'NN'), 86.27142857142856), ((',', ','), 87.9130952380953)] (300,)\n"
     ]
    },
    {
     "name": "stderr",
     "output_type": "stream",
     "text": [
      "Computing transition probabilities:  32%|███▏      | 69/216 [00:00<00:00, 683.24it/s]"
     ]
    },
    {
     "name": "stdout",
     "output_type": "stream",
     "text": [
      "Unk percentage: 0.006616750827093854\n"
     ]
    },
    {
     "name": "stderr",
     "output_type": "stream",
     "text": [
      "Computing transition probabilities:  65%|██████▍   | 140/216 [00:00<00:00, 690.12it/s]\n",
      "Computing transition probabilities: 100%|██████████| 216/216 [00:00<00:00, 662.59it/s]\n",
      "Generating walks (CPU: 1):   0%|          | 0/10 [00:00<?, ?it/s]"
     ]
    },
    {
     "name": "stdout",
     "output_type": "stream",
     "text": [
      "Unk percentage: 0.00625\n"
     ]
    },
    {
     "name": "stderr",
     "output_type": "stream",
     "text": [
      "\n"
     ]
    },
    {
     "name": "stdout",
     "output_type": "stream",
     "text": [
      "cluster began\n",
      "cluster end\n",
      "[(('disturbances', 'NNS'), 69.66666666666686), (('may', 'MD'), 70.18333333333351), (('president', 'NN'), 70.30000000000015), (('purpose', 'NN'), 70.90000000000012), ((\"''\", \"''\"), 75.05000000000005), (('citizens', 'NNS'), 75.43333333333332), (('laws', 'NNS'), 78.64999999999988), (('states', 'NNS'), 81.08333333333316), (('to', 'TO'), 88.86666666666646)] (300,)\n"
     ]
    },
    {
     "name": "stderr",
     "output_type": "stream",
     "text": [
      "Computing transition probabilities: 100%|██████████| 173/173 [00:00<00:00, 692.75it/s]\n",
      "Generating walks (CPU: 1):  20%|██        | 2/10 [00:01<00:04,  1.90it/s]"
     ]
    },
    {
     "name": "stdout",
     "output_type": "stream",
     "text": [
      "Unk percentage: 0.0053136944159597275\n"
     ]
    },
    {
     "name": "stderr",
     "output_type": "stream",
     "text": [
      "\n"
     ]
    },
    {
     "name": "stdout",
     "output_type": "stream",
     "text": [
      "Unk percentage: 0.0022197558268590455\n"
     ]
    },
    {
     "name": "stderr",
     "output_type": "stream",
     "text": [
      "\r",
      "Generating walks (CPU: 1):  20%|██        | 2/10 [00:00<00:03,  2.49it/s]"
     ]
    },
    {
     "name": "stdout",
     "output_type": "stream",
     "text": [
      "Unk percentage: 0.005761458422908246\n"
     ]
    },
    {
     "name": "stderr",
     "output_type": "stream",
     "text": [
      "\n"
     ]
    },
    {
     "name": "stdout",
     "output_type": "stream",
     "text": [
      "Unk percentage: 0.002772002772002772\n"
     ]
    },
    {
     "name": "stderr",
     "output_type": "stream",
     "text": [
      "Generating walks (CPU: 1):  30%|███       | 3/10 [00:02<00:04,  1.46it/s]"
     ]
    },
    {
     "name": "stdout",
     "output_type": "stream",
     "text": [
      "Unk percentage: 0.000735564545788893\n",
      "cluster began\n",
      "cluster end\n"
     ]
    },
    {
     "name": "stderr",
     "output_type": "stream",
     "text": [
      "\r",
      "Generating walks (CPU: 1):  30%|███       | 3/10 [00:01<00:03,  1.80it/s]"
     ]
    },
    {
     "name": "stdout",
     "output_type": "stream",
     "text": [
      "Unk percentage: 0.0033613445378151263\n",
      "Unk percentage: 0.007042253521126761\n",
      "cluster began\n",
      "cluster end\n",
      "Unk percentage: 0.003355704697986577\n"
     ]
    },
    {
     "name": "stderr",
     "output_type": "stream",
     "text": [
      "\r",
      "Generating walks (CPU: 1): 100%|██████████| 10/10 [00:18<00:00,  2.06s/it]"
     ]
    },
    {
     "name": "stdout",
     "output_type": "stream",
     "text": [
      "[(('senate', 'NN'), 68.66666666666686), (('will', 'MD'), 68.83333333333353), (('power', 'NN'), 69.41666666666687), (('united', 'JJ'), 69.78333333333354), (('it', 'PRP'), 71.93333333333352), (('its', 'PRP$'), 72.76666666666684), (('our', 'PRP$'), 74.05000000000015), (('states', 'NNS'), 74.10000000000012), ((',', ','), 91.69999999999979)] (300,)\n",
      "cluster began\n",
      "cluster end\n"
     ]
    },
    {
     "name": "stderr",
     "output_type": "stream",
     "text": [
      "\r",
      "Computing transition probabilities:   0%|          | 0/179 [00:00<?, ?it/s]"
     ]
    },
    {
     "name": "stdout",
     "output_type": "stream",
     "text": [
      "[(('roosevelt', 'NN'), 36.69285714285713), (('convention', 'NN'), 37.11666666666663), (('america', 'NN'), 37.199999999999996), ((\"''\", \"''\"), 37.33333333333329), (('approval', 'NN'), 38.67619047619047), (('united', 'JJ'), 39.98333333333331), (('congress', 'NN'), 40.98333333333333), (('president', 'NN'), 41.01666666666668), (('to', 'TO'), 44.033333333333395)] (300,)\n"
     ]
    },
    {
     "name": "stderr",
     "output_type": "stream",
     "text": [
      "Computing transition probabilities: 100%|██████████| 100/100 [00:00<00:00, 983.90it/s]\n",
      "Generating walks (CPU: 1):   0%|          | 0/10 [00:00<?, ?it/s]00<00:00, 583.37it/s]"
     ]
    },
    {
     "name": "stdout",
     "output_type": "stream",
     "text": [
      "[(('never', 'RB'), 153.43333333333305), (('who', 'WP'), 153.76666666666642), (('you', 'PRP'), 154.3999999999998), (('it', 'PRP'), 158.84999999999997), (('their', 'PRP$'), 159.4333333333333), (('he', 'PRP'), 161.85000000000022), (('him', 'PRP'), 165.95000000000044), (('his', 'PRP$'), 182.15000000000094), (('to', 'TO'), 185.65000000000077)] (300,)\n"
     ]
    },
    {
     "name": "stderr",
     "output_type": "stream",
     "text": [
      "Computing transition probabilities: 100%|██████████| 179/179 [00:00<00:00, 616.63it/s]"
     ]
    },
    {
     "name": "stdout",
     "output_type": "stream",
     "text": [
      "cluster began\n"
     ]
    },
    {
     "name": "stderr",
     "output_type": "stream",
     "text": [
      "\n",
      "Generating walks (CPU: 1):   0%|          | 0/10 [00:00<?, ?it/s]"
     ]
    },
    {
     "name": "stdout",
     "output_type": "stream",
     "text": [
      "cluster end\n"
     ]
    },
    {
     "name": "stderr",
     "output_type": "stream",
     "text": [
      "Computing transition probabilities:  26%|██▌       | 98/379 [00:00<00:00, 331.05it/s]"
     ]
    },
    {
     "name": "stdout",
     "output_type": "stream",
     "text": [
      "[(('one', 'CD'), 79.80000000000008), (('missouri', 'NN'), 80.14285714285724), (('state', 'NN'), 82.30000000000003), (('me', 'PRP'), 83.8833333333333), (('will', 'MD'), 84.68333333333324), (('it', 'PRP'), 86.5261904761904), (('i', 'NN'), 88.21666666666653), (('you', 'PRP'), 92.86666666666636), (('to', 'TO'), 99.08333333333309)] (300,)\n"
     ]
    },
    {
     "name": "stderr",
     "output_type": "stream",
     "text": [
      "Computing transition probabilities: 100%|██████████| 204/204 [00:00<00:00, 616.50it/s]\n",
      "Computing transition probabilities: 100%|██████████| 379/379 [00:01<00:00, 331.63it/s]\n",
      "Generating walks (CPU: 1):  60%|██████    | 6/10 [00:04<00:03,  1.33it/s]\n",
      "Generating walks (CPU: 1):  90%|█████████ | 9/10 [00:03<00:00,  2.30it/s]"
     ]
    },
    {
     "name": "stdout",
     "output_type": "stream",
     "text": [
      "Unk percentage: 0.00040257648953301127\n"
     ]
    },
    {
     "name": "stderr",
     "output_type": "stream",
     "text": [
      "\r",
      "Generating walks (CPU: 1):  80%|████████  | 8/10 [00:07<00:01,  1.02it/s]"
     ]
    },
    {
     "name": "stdout",
     "output_type": "stream",
     "text": [
      "Unk percentage: 0.0028095148904289193\n"
     ]
    },
    {
     "name": "stderr",
     "output_type": "stream",
     "text": [
      "Generating walks (CPU: 1):  80%|████████  | 8/10 [00:13<00:03,  1.80s/it]]"
     ]
    },
    {
     "name": "stdout",
     "output_type": "stream",
     "text": [
      "Unk percentage: 0.001272264631043257\n"
     ]
    },
    {
     "name": "stderr",
     "output_type": "stream",
     "text": [
      "Generating walks (CPU: 1):  60%|██████    | 6/10 [00:04<00:03,  1.32it/s]\n"
     ]
    },
    {
     "name": "stdout",
     "output_type": "stream",
     "text": [
      "Unk percentage: 0.0009886307464162135\n"
     ]
    },
    {
     "name": "stderr",
     "output_type": "stream",
     "text": [
      "Generating walks (CPU: 1):  90%|█████████ | 9/10 [00:08<00:01,  1.01s/it]"
     ]
    },
    {
     "name": "stdout",
     "output_type": "stream",
     "text": [
      "Unk percentage: 0.002914903620122238\n"
     ]
    },
    {
     "name": "stderr",
     "output_type": "stream",
     "text": [
      "Generating walks (CPU: 1):  70%|███████   | 7/10 [00:05<00:02,  1.29it/s]]"
     ]
    },
    {
     "name": "stdout",
     "output_type": "stream",
     "text": [
      "cluster began\n",
      "cluster end\n"
     ]
    },
    {
     "name": "stderr",
     "output_type": "stream",
     "text": [
      "Generating walks (CPU: 1):  60%|██████    | 6/10 [00:04<00:03,  1.16it/s]\n",
      "Generating walks (CPU: 1): 100%|██████████| 10/10 [00:09<00:00,  1.01s/it]"
     ]
    },
    {
     "name": "stdout",
     "output_type": "stream",
     "text": [
      "[(('will', 'MD'), 167.90000000000057), (('peace', 'NN'), 171.53333333333424), (('not', 'RB'), 172.23333333333426), (('new', 'JJ'), 173.16666666666765), (('world', 'NN'), 173.8666666666677), (('us', 'PRP'), 176.38333333333438), (('our', 'PRP$'), 188.08333333333425), (('we', 'PRP'), 192.46666666666746), (('to', 'TO'), 213.33333333333388)] (300,)\n"
     ]
    },
    {
     "name": "stderr",
     "output_type": "stream",
     "text": [
      "Generating walks (CPU: 1):  80%|████████  | 8/10 [00:06<00:01,  1.23it/s]s]"
     ]
    },
    {
     "name": "stdout",
     "output_type": "stream",
     "text": [
      "Unk percentage: 0.00138217000691085\n"
     ]
    },
    {
     "name": "stderr",
     "output_type": "stream",
     "text": [
      "Computing transition probabilities:  44%|████▍     | 169/380 [00:00<00:00, 334.30it/s]"
     ]
    },
    {
     "name": "stdout",
     "output_type": "stream",
     "text": [
      "Unk percentage: 0.003257328990228013\n",
      "Unk percentage: 0.002203532997906644\n"
     ]
    },
    {
     "name": "stderr",
     "output_type": "stream",
     "text": [
      "\r",
      "Computing transition probabilities:  54%|█████▍    | 207/380 [00:00<00:00, 344.62it/s]"
     ]
    },
    {
     "name": "stdout",
     "output_type": "stream",
     "text": [
      "Unk percentage: 0.003924646781789639\n"
     ]
    },
    {
     "name": "stderr",
     "output_type": "stream",
     "text": [
      "Computing transition probabilities:  74%|███████▍  | 281/380 [00:00<00:00, 354.62it/s]\n",
      "Computing transition probabilities: 100%|██████████| 380/380 [00:01<00:00, 328.59it/s]\n",
      "Generating walks (CPU: 1):  80%|████████  | 8/10 [00:06<00:01,  1.10it/s]"
     ]
    },
    {
     "name": "stdout",
     "output_type": "stream",
     "text": [
      "cluster began\n",
      "cluster end\n"
     ]
    },
    {
     "name": "stderr",
     "output_type": "stream",
     "text": [
      "Generating walks (CPU: 1): 100%|██████████| 10/10 [00:17<00:00,  1.83s/it]"
     ]
    },
    {
     "name": "stdout",
     "output_type": "stream",
     "text": [
      "Unk percentage: 0.003727549983056591\n",
      "[(('UNK', 'NNP'), 143.76071428571345), (('government', 'NN'), 143.91071428571345), (('capital', 'NN'), 144.82738095238025), (('it', 'PRP'), 145.06071428571357), (('labor', 'NN'), 146.3928571428563), (('bureau', 'NN'), 148.2440476190472), (('its', 'PRP$'), 149.51904761904714), (('such', 'JJ'), 154.74404761904748), (('to', 'TO'), 173.85952380952435)] (300,)\n"
     ]
    },
    {
     "name": "stderr",
     "output_type": "stream",
     "text": [
      "\r",
      "Computing transition probabilities:   0%|          | 0/362 [00:00<?, ?it/s]"
     ]
    },
    {
     "name": "stdout",
     "output_type": "stream",
     "text": [
      "Unk percentage: 0.0036638983878847092\n"
     ]
    },
    {
     "name": "stderr",
     "output_type": "stream",
     "text": [
      "Computing transition probabilities:  20%|██        | 73/362 [00:00<00:00, 360.98it/s]"
     ]
    },
    {
     "name": "stdout",
     "output_type": "stream",
     "text": [
      "Unk percentage: 0.007013201320132013\n"
     ]
    },
    {
     "name": "stderr",
     "output_type": "stream",
     "text": [
      "Computing transition probabilities:  30%|██▉       | 108/362 [00:00<00:00, 355.56it/s]"
     ]
    },
    {
     "name": "stdout",
     "output_type": "stream",
     "text": [
      "Unk percentage: 0.00414020230533992\n",
      "Unk percentage: 0.007267441860465116\n"
     ]
    },
    {
     "name": "stderr",
     "output_type": "stream",
     "text": [
      "Computing transition probabilities:  60%|█████▉    | 217/362 [00:00<00:00, 295.55it/s]"
     ]
    },
    {
     "name": "stdout",
     "output_type": "stream",
     "text": [
      "cluster began\n"
     ]
    },
    {
     "name": "stderr",
     "output_type": "stream",
     "text": [
      "\n"
     ]
    },
    {
     "name": "stdout",
     "output_type": "stream",
     "text": [
      "cluster end\n"
     ]
    },
    {
     "name": "stderr",
     "output_type": "stream",
     "text": [
      "Computing transition probabilities:  92%|█████████▏| 333/362 [00:00<00:00, 344.86it/s]"
     ]
    },
    {
     "name": "stdout",
     "output_type": "stream",
     "text": [
      "[(('1', 'CD'), 75.49642857142882), (('necessary', 'JJ'), 75.7742063492066), (('also', 'RB'), 76.15595238095263), (('laws', 'NNS'), 76.4595238095241), (('now', 'RB'), 77.16468253968277), (('prisoners', 'NNS'), 78.53571428571455), (('federal', 'JJ'), 79.32619047619077), (('law', 'NN'), 81.47261904761923), (('to', 'TO'), 100.02976190476168)] (300,)\n"
     ]
    },
    {
     "name": "stderr",
     "output_type": "stream",
     "text": [
      "Computing transition probabilities: 100%|██████████| 362/362 [00:01<00:00, 339.70it/s]\n",
      "Computing transition probabilities: 100%|██████████| 224/224 [00:00<00:00, 575.80it/s]\n"
     ]
    },
    {
     "name": "stdout",
     "output_type": "stream",
     "text": [
      "Unk percentage: 0.0072992700729927005\n"
     ]
    },
    {
     "name": "stderr",
     "output_type": "stream",
     "text": [
      "\r",
      "Generating walks (CPU: 1):   0%|          | 0/10 [00:00<?, ?it/s]"
     ]
    },
    {
     "name": "stdout",
     "output_type": "stream",
     "text": [
      "Unk percentage: 0.0019372336303758234\n"
     ]
    },
    {
     "name": "stderr",
     "output_type": "stream",
     "text": [
      "\n"
     ]
    },
    {
     "name": "stdout",
     "output_type": "stream",
     "text": [
      "Unk percentage: 0.00176444640494045\n",
      "cluster began\n",
      "cluster end\n",
      "Unk percentage: 0.0111731843575419\n"
     ]
    },
    {
     "name": "stderr",
     "output_type": "stream",
     "text": [
      "\n"
     ]
    },
    {
     "name": "stdout",
     "output_type": "stream",
     "text": [
      "cluster began\n",
      "cluster end\n",
      "[(('elections', 'NNS'), 23.68333333333333), (('i', 'NN'), 23.68333333333333), (('part', 'NN'), 24.033333333333328), (('political', 'JJ'), 24.133333333333344), (('it', 'PRP'), 25.249999999999993), (('officers', 'NNS'), 25.69999999999998), (('their', 'PRP$'), 26.335714285714268), (('should', 'MD'), 27.199999999999974), ((',', ','), 29.933333333333312)] (300,)\n"
     ]
    },
    {
     "name": "stderr",
     "output_type": "stream",
     "text": [
      "Computing transition probabilities: 100%|██████████| 71/71 [00:00<00:00, 1660.83it/s]\n",
      "Generating walks (CPU: 1):   0%|          | 0/10 [00:00<?, ?it/s]"
     ]
    },
    {
     "name": "stdout",
     "output_type": "stream",
     "text": [
      "[(('commission', 'NN'), 136.6166666666659), (('they', 'PRP'), 138.8333333333326), (('their', 'PRP$'), 139.0833333333326), (('men', 'NNS'), 139.78333333333265), (('who', 'WP'), 140.06666666666595), (('will', 'MD'), 140.56666666666595), (('it', 'PRP'), 141.69999999999933), (('work', 'NN'), 146.43333333333285), (('to', 'TO'), 174.20000000000073)] (300,)\n"
     ]
    },
    {
     "name": "stderr",
     "output_type": "stream",
     "text": [
      "Generating walks (CPU: 1):  20%|██        | 2/10 [00:02<00:08,  1.00s/it], 435.58it/s]"
     ]
    },
    {
     "name": "stdout",
     "output_type": "stream",
     "text": [
      "Unk percentage: 0.0015860428231562252\n"
     ]
    },
    {
     "name": "stderr",
     "output_type": "stream",
     "text": [
      "Computing transition probabilities:  77%|███████▋  | 260/339 [00:00<00:00, 424.72it/s]"
     ]
    },
    {
     "name": "stdout",
     "output_type": "stream",
     "text": [
      "Unk percentage: 0.001558325912733749\n"
     ]
    },
    {
     "name": "stderr",
     "output_type": "stream",
     "text": [
      "Computing transition probabilities: 100%|██████████| 339/339 [00:00<00:00, 417.45it/s]\n",
      "Generating walks (CPU: 1):   0%|          | 0/10 [00:00<?, ?it/s]"
     ]
    },
    {
     "name": "stdout",
     "output_type": "stream",
     "text": [
      "Unk percentage: 0.0016467682173734047\n"
     ]
    },
    {
     "name": "stderr",
     "output_type": "stream",
     "text": [
      "Generating walks (CPU: 1):  30%|███       | 3/10 [00:02<00:05,  1.34it/s]"
     ]
    },
    {
     "name": "stdout",
     "output_type": "stream",
     "text": [
      "Unk percentage: 0.0009380863039399625\n",
      "Unk percentage: 0.004507888805409466\n",
      "Unk percentage: 0.002551020408163265\n"
     ]
    },
    {
     "name": "stderr",
     "output_type": "stream",
     "text": [
      "\r",
      "Generating walks (CPU: 1):  60%|██████    | 6/10 [00:01<00:01,  3.72it/s]"
     ]
    },
    {
     "name": "stdout",
     "output_type": "stream",
     "text": [
      "Unk percentage: 0.001093693036820999\n",
      "Unk percentage: 0.0016578249336870027\n"
     ]
    },
    {
     "name": "stderr",
     "output_type": "stream",
     "text": [
      "\r",
      "Generating walks (CPU: 1):  70%|███████   | 7/10 [00:01<00:00,  3.58it/s]"
     ]
    },
    {
     "name": "stdout",
     "output_type": "stream",
     "text": [
      "cluster began\n",
      "Unk percentage: 0.003278688524590164\n",
      "cluster end\n"
     ]
    },
    {
     "name": "stderr",
     "output_type": "stream",
     "text": [
      "\r",
      "Generating walks (CPU: 1):  80%|████████  | 8/10 [00:02<00:00,  3.51it/s]"
     ]
    },
    {
     "name": "stdout",
     "output_type": "stream",
     "text": [
      "cluster began\n",
      "cluster end\n"
     ]
    },
    {
     "name": "stderr",
     "output_type": "stream",
     "text": [
      "Generating walks (CPU: 1):  40%|████      | 4/10 [00:03<00:05,  1.14it/s]"
     ]
    },
    {
     "name": "stdout",
     "output_type": "stream",
     "text": [
      "[(('today', 'NN'), 122.61666666666618), (('you', 'PRP'), 122.91666666666613), (('others', 'NNS'), 123.08333333333283), (('congress', 'NN'), 126.71666666666617), (('we', 'PRP'), 130.84999999999943), (('bill', 'NN'), 131.49999999999946), (('people', 'NNS'), 131.7166666666661), (('who', 'WP'), 140.64999999999972), (('to', 'TO'), 165.35000000000056)] (300,)\n"
     ]
    },
    {
     "name": "stderr",
     "output_type": "stream",
     "text": [
      "Computing transition probabilities:  14%|█▍        | 42/301 [00:00<00:00, 412.07it/s]"
     ]
    },
    {
     "name": "stdout",
     "output_type": "stream",
     "text": [
      "[(('much', 'RB'), 88.68333333333332), (('history', 'NN'), 91.08333333333327), (('your', 'PRP$'), 92.26666666666657), (('just', 'RB'), 92.36666666666653), ((\"'ll\", 'MD'), 93.53333333333318), (('they', 'PRP'), 93.53333333333319), (('iowa', 'NN'), 95.28333333333309), (('you', 'PRP'), 104.6666666666663), (('to', 'TO'), 116.43333333333305)] (300,)\n"
     ]
    },
    {
     "name": "stderr",
     "output_type": "stream",
     "text": [
      "Computing transition probabilities:  79%|███████▉  | 184/233 [00:00<00:00, 612.67it/s]\n",
      "Computing transition probabilities: 100%|██████████| 233/233 [00:00<00:00, 594.32it/s]\n",
      "Computing transition probabilities: 100%|██████████| 301/301 [00:00<00:00, 438.14it/s]\n",
      "Generating walks (CPU: 1):   0%|          | 0/10 [00:00<?, ?it/s].64s/it]"
     ]
    },
    {
     "name": "stdout",
     "output_type": "stream",
     "text": [
      "Unk percentage: 0.0091324200913242\n"
     ]
    },
    {
     "name": "stderr",
     "output_type": "stream",
     "text": [
      "\r",
      "Generating walks (CPU: 1):  50%|█████     | 5/10 [00:04<00:04,  1.06it/s]"
     ]
    },
    {
     "name": "stdout",
     "output_type": "stream",
     "text": [
      "cluster began\n",
      "cluster end\n",
      "[(('according', 'VBG'), 47.35000000000007), (('president', 'NN'), 47.850000000000065), (('laws', 'NNS'), 48.183333333333394), (('such', 'JJ'), 49.10000000000008), (('persons', 'NNS'), 49.416666666666735), (('territory', 'NN'), 53.700000000000095), (('states', 'NNS'), 54.66666666666676), (('to', 'TO'), 56.733333333333434), (('indian', 'JJ'), 57.066666666666755)] (300,)\n"
     ]
    },
    {
     "name": "stderr",
     "output_type": "stream",
     "text": [
      "Computing transition probabilities: 100%|██████████| 119/119 [00:00<00:00, 975.13it/s] \n",
      "Generating walks (CPU: 1):  50%|█████     | 5/10 [00:05<00:06,  1.21s/it]]\n",
      "Generating walks (CPU: 1):  70%|███████   | 7/10 [00:12<00:05,  1.89s/it]"
     ]
    },
    {
     "name": "stdout",
     "output_type": "stream",
     "text": [
      "Unk percentage: 0.008426966292134831\n"
     ]
    },
    {
     "name": "stderr",
     "output_type": "stream",
     "text": [
      "Generating walks (CPU: 1):  70%|███████   | 7/10 [00:06<00:03,  1.05s/it]\n"
     ]
    },
    {
     "name": "stdout",
     "output_type": "stream",
     "text": [
      "cluster began\n",
      "cluster end\n"
     ]
    },
    {
     "name": "stderr",
     "output_type": "stream",
     "text": [
      "\r",
      "Generating walks (CPU: 1):  60%|██████    | 6/10 [00:09<00:06,  1.59s/it]"
     ]
    },
    {
     "name": "stdout",
     "output_type": "stream",
     "text": [
      "[(('1877', 'CD'), 43.09285714285716), (('domestic', 'JJ'), 43.6261904761905), (('hayes', 'NNS'), 44.1166666666667), (('july', 'NN'), 44.783333333333374), (('shall', 'MD'), 45.58333333333339), (('laws', 'NNS'), 46.40000000000008), (('president', 'NN'), 47.11666666666675), (('states', 'NNS'), 49.033333333333424), (('state', 'NN'), 50.16666666666675)] (300,)\n"
     ]
    },
    {
     "name": "stderr",
     "output_type": "stream",
     "text": [
      "Computing transition probabilities: 100%|██████████| 113/113 [00:00<00:00, 1023.00it/s]\n",
      "Generating walks (CPU: 1):  60%|██████    | 6/10 [00:07<00:05,  1.29s/it]\n",
      "Generating walks (CPU: 1):  80%|████████  | 8/10 [00:07<00:02,  1.08s/it]"
     ]
    },
    {
     "name": "stdout",
     "output_type": "stream",
     "text": [
      "Unk percentage: 0.006423982869379015\n"
     ]
    },
    {
     "name": "stderr",
     "output_type": "stream",
     "text": [
      "\r",
      "Generating walks (CPU: 1):  30%|███       | 3/10 [00:01<00:02,  2.97it/s]"
     ]
    },
    {
     "name": "stdout",
     "output_type": "stream",
     "text": [
      "cluster began\n",
      "cluster end\n"
     ]
    },
    {
     "name": "stderr",
     "output_type": "stream",
     "text": [
      "\r",
      "Generating walks (CPU: 1):  80%|████████  | 8/10 [00:14<00:04,  2.01s/it]"
     ]
    },
    {
     "name": "stdout",
     "output_type": "stream",
     "text": [
      "[(('december', 'NN'), 54.36428571428574), ((\"''\", \"''\"), 55.04365079365085), (('UNK', 'NNP'), 55.36865079365084), (('proportion', 'NN'), 55.693650793650846), (('especially', 'RB'), 55.826984126984186), (('1930', 'CD'), 59.493650793650914), (('business', 'NN'), 60.56746031746045), (('unemployment', 'NN'), 67.79126984127002), (('to', 'TO'), 71.07460317460337)] (300,)\n"
     ]
    },
    {
     "name": "stderr",
     "output_type": "stream",
     "text": [
      "Computing transition probabilities: 100%|██████████| 176/176 [00:00<00:00, 808.17it/s]\n",
      "Generating walks (CPU: 1):  80%|████████  | 8/10 [00:13<00:03,  1.81s/it]"
     ]
    },
    {
     "name": "stdout",
     "output_type": "stream",
     "text": [
      "Unk percentage: 0.002457002457002457\n",
      "Unk percentage: 0.0030257186081694403\n"
     ]
    },
    {
     "name": "stderr",
     "output_type": "stream",
     "text": [
      "Generating walks (CPU: 1):  60%|██████    | 6/10 [00:02<00:01,  2.25it/s]"
     ]
    },
    {
     "name": "stdout",
     "output_type": "stream",
     "text": [
      "Unk percentage: 0.0040650406504065045\n"
     ]
    },
    {
     "name": "stderr",
     "output_type": "stream",
     "text": [
      "Generating walks (CPU: 1):  70%|███████   | 7/10 [00:03<00:01,  2.19it/s]]"
     ]
    },
    {
     "name": "stdout",
     "output_type": "stream",
     "text": [
      "cluster began\n",
      "cluster end\n"
     ]
    },
    {
     "name": "stderr",
     "output_type": "stream",
     "text": [
      "Generating walks (CPU: 1):  80%|████████  | 8/10 [00:10<00:02,  1.40s/it]"
     ]
    },
    {
     "name": "stdout",
     "output_type": "stream",
     "text": [
      "[(('united', 'JJ'), 93.24999999999989), (('their', 'PRP$'), 93.89999999999992), (('prayer', 'NN'), 93.99999999999986), (('citizens', 'NNS'), 94.11666666666652), (('duty', 'NN'), 94.61666666666653), (('our', 'PRP$'), 94.65952380952376), (('his', 'PRP$'), 96.68333333333314), (('may', 'MD'), 101.94999999999966), (('to', 'TO'), 114.26666666666638)] (300,)\n"
     ]
    },
    {
     "name": "stderr",
     "output_type": "stream",
     "text": [
      "Computing transition probabilities: 100%|██████████| 244/244 [00:00<00:00, 570.59it/s]\n",
      "Generating walks (CPU: 1):  40%|████      | 4/10 [00:02<00:03,  1.64it/s]\n",
      "Generating walks (CPU: 1):  20%|██        | 2/10 [00:01<00:04,  1.76it/s]]\n"
     ]
    },
    {
     "name": "stdout",
     "output_type": "stream",
     "text": [
      "Unk percentage: 0.006024096385542169\n"
     ]
    },
    {
     "name": "stderr",
     "output_type": "stream",
     "text": [
      "Generating walks (CPU: 1):  90%|█████████ | 9/10 [00:14<00:01,  1.76s/it]]"
     ]
    },
    {
     "name": "stdout",
     "output_type": "stream",
     "text": [
      "Unk percentage: 0.005113221329437546\n",
      "cluster began\n",
      "cluster end\n",
      "[(('responsibility', 'NN'), 35.242857142857105), (('not', 'RB'), 35.992857142857105), (('celebration', 'NN'), 36.20952380952377), (('i', 'JJ'), 37.09999999999998), (('my', 'PRP$'), 39.65000000000002), (('victory', 'NN'), 40.73333333333337), (('you', 'PRP'), 43.900000000000055), (('to', 'TO'), 44.71666666666675), (('i', 'NN'), 44.81666666666673)] (300,)\n"
     ]
    },
    {
     "name": "stderr",
     "output_type": "stream",
     "text": [
      "Computing transition probabilities: 100%|██████████| 92/92 [00:00<00:00, 1269.26it/s]\n",
      "Generating walks (CPU: 1): 100%|██████████| 10/10 [00:17<00:00,  1.84s/it]"
     ]
    },
    {
     "name": "stdout",
     "output_type": "stream",
     "text": [
      "cluster began\n",
      "cluster end\n"
     ]
    },
    {
     "name": "stderr",
     "output_type": "stream",
     "text": [
      "Generating walks (CPU: 1):  30%|███       | 3/10 [00:00<00:01,  3.84it/s]]"
     ]
    },
    {
     "name": "stdout",
     "output_type": "stream",
     "text": [
      "[(('bonds', 'NNS'), 121.2857142857137), (('will', 'MD'), 121.53333333333279), (('my', 'PRP$'), 123.14999999999947), (('other', 'JJ'), 125.33333333333283), (('banking', 'NN'), 126.08333333333283), (('bill', 'NN'), 128.18333333333285), (('banks', 'NNS'), 132.59999999999943), (('it', 'PRP'), 133.5166666666661), (('to', 'TO'), 157.03333333333387)] (300,)\n"
     ]
    },
    {
     "name": "stderr",
     "output_type": "stream",
     "text": [
      "Computing transition probabilities: 100%|██████████| 298/298 [00:00<00:00, 448.70it/s]\n",
      "Generating walks (CPU: 1):  50%|█████     | 5/10 [00:01<00:01,  2.93it/s]\n",
      "Generating walks (CPU: 1):  80%|████████  | 8/10 [00:05<00:01,  1.23it/s]\n",
      "Generating walks (CPU: 1):  60%|██████    | 6/10 [00:02<00:01,  2.69it/s]\n",
      "Generating walks (CPU: 1):  20%|██        | 2/10 [00:01<00:05,  1.34it/s]\n",
      "Generating walks (CPU: 1): 100%|██████████| 10/10 [00:07<00:00,  1.21it/s]"
     ]
    },
    {
     "name": "stdout",
     "output_type": "stream",
     "text": [
      "Unk percentage: 0.0010559662090813093\n"
     ]
    },
    {
     "name": "stderr",
     "output_type": "stream",
     "text": [
      "\r",
      "Generating walks (CPU: 1): 100%|██████████| 10/10 [00:03<00:00,  2.53it/s]"
     ]
    },
    {
     "name": "stdout",
     "output_type": "stream",
     "text": [
      "Unk percentage: 0.0011945052757316346\n",
      "Unk percentage: 0.0017373175816539264\n",
      "Unk percentage: 0.0054005400540054005\n",
      "Unk percentage: 0.006419400855920114\n",
      "Unk percentage: 0.001306103063405367\n",
      "Unk percentage: 0.009933774834437087\n"
     ]
    },
    {
     "name": "stderr",
     "output_type": "stream",
     "text": [
      "\n",
      "Generating walks (CPU: 1):  60%|██████    | 6/10 [00:05<00:04,  1.06s/it]"
     ]
    },
    {
     "name": "stdout",
     "output_type": "stream",
     "text": [
      "cluster began\n",
      "cluster end\n"
     ]
    },
    {
     "name": "stderr",
     "output_type": "stream",
     "text": [
      "\n"
     ]
    },
    {
     "name": "stdout",
     "output_type": "stream",
     "text": [
      "Unk percentage: 0.0018957345971563982\n",
      "Unk percentage: 0.0009433962264150943\n",
      "[(('now', 'RB'), 64.9833333333335), (('``', '``'), 65.98333333333353), (('states', 'NNS'), 66.5333333333335), (('will', 'MD'), 68.31666666666683), (('congress', 'NN'), 68.98333333333348), (('resolution', 'NN'), 69.86666666666682), (('president', 'NN'), 70.41666666666681), (('statue', 'NN'), 78.48333333333326), (('to', 'TO'), 90.64999999999982)] (300,)\n",
      "cluster began\n"
     ]
    },
    {
     "name": "stderr",
     "output_type": "stream",
     "text": [
      "\r",
      "Computing transition probabilities:   0%|          | 0/167 [00:00<?, ?it/s]"
     ]
    },
    {
     "name": "stdout",
     "output_type": "stream",
     "text": [
      "Unk percentage: 0.0012219959266802445\n",
      "cluster end\n",
      "Unk percentage: 0.001006036217303823\n"
     ]
    },
    {
     "name": "stderr",
     "output_type": "stream",
     "text": [
      "Computing transition probabilities:  45%|████▍     | 75/167 [00:00<00:00, 745.67it/s]"
     ]
    },
    {
     "name": "stdout",
     "output_type": "stream",
     "text": [
      "Unk percentage: 0.0033003300330033004\n"
     ]
    },
    {
     "name": "stderr",
     "output_type": "stream",
     "text": [
      "Computing transition probabilities: 100%|██████████| 167/167 [00:00<00:00, 748.06it/s]\n",
      "Generating walks (CPU: 1):   0%|          | 0/10 [00:00<?, ?it/s]"
     ]
    },
    {
     "name": "stdout",
     "output_type": "stream",
     "text": [
      "Unk percentage: 0.005629477993858751\n",
      "cluster began\n",
      "cluster end\n",
      "Unk percentage: 0.007281553398058253\n",
      "Unk percentage: 0.0032254813022880757\n",
      "[(('not', 'RB'), 155.15), (('his', 'PRP$'), 156.77619047619046), (('public', 'JJ'), 157.19285714285724), ((';', ':'), 158.3833333333335), (('he', 'PRP'), 160.95952380952417), (('their', 'PRP$'), 161.51666666666705), (('office', 'NN'), 163.44285714285763), (('it', 'PRP'), 168.86666666666756), (('to', 'TO'), 191.533333333334)] (300,)\n"
     ]
    },
    {
     "name": "stderr",
     "output_type": "stream",
     "text": [
      "Generating walks (CPU: 1):  70%|███████   | 7/10 [00:07<00:03,  1.13s/it]s]"
     ]
    },
    {
     "name": "stdout",
     "output_type": "stream",
     "text": [
      "[(('i', 'JJ'), 88.74285714285706), (('not', 'RB'), 90.50952380952367), (('operation', 'NN'), 91.35119047619031), (('my', 'PRP$'), 91.63452380952364), (('our', 'PRP$'), 92.43452380952367), (('it', 'PRP'), 93.14285714285693), (('rescue', 'NN'), 96.76785714285683), (('iran', 'NN'), 100.47619047619018), ((',', ','), 114.75952380952354)] (300,)\n"
     ]
    },
    {
     "name": "stderr",
     "output_type": "stream",
     "text": [
      "\r",
      "Computing transition probabilities:   8%|▊         | 30/367 [00:00<00:01, 296.24it/s]"
     ]
    },
    {
     "name": "stdout",
     "output_type": "stream",
     "text": [
      "cluster began\n"
     ]
    },
    {
     "name": "stderr",
     "output_type": "stream",
     "text": [
      "\r",
      "Computing transition probabilities:   0%|          | 0/226 [00:00<?, ?it/s]"
     ]
    },
    {
     "name": "stdout",
     "output_type": "stream",
     "text": [
      "cluster end\n"
     ]
    },
    {
     "name": "stderr",
     "output_type": "stream",
     "text": [
      "\r",
      "Computing transition probabilities:  16%|█▋        | 60/367 [00:00<00:01, 295.05it/s]"
     ]
    },
    {
     "name": "stdout",
     "output_type": "stream",
     "text": [
      "[(('it', 'PRP'), 44.47976190476192), (('industry', 'NN'), 44.484126984126995), (('senate', 'NN'), 44.63690476190475), (('relief', 'NN'), 46.26230158730159), (('conferees', 'NNS'), 46.9107142857143), (('bill', 'NN'), 47.33015873015875), (('report', 'NN'), 48.986904761904825), (('farm', 'NN'), 51.65515873015882), ((',', ','), 54.49285714285724)] (300,)\n"
     ]
    },
    {
     "name": "stderr",
     "output_type": "stream",
     "text": [
      "Computing transition probabilities: 100%|██████████| 133/133 [00:00<00:00, 883.86it/s]\n",
      "Computing transition probabilities:  33%|███▎      | 121/367 [00:00<00:00, 299.39it/s]"
     ]
    },
    {
     "name": "stdout",
     "output_type": "stream",
     "text": [
      "Unk percentage: 0.009174311926605505\n"
     ]
    },
    {
     "name": "stderr",
     "output_type": "stream",
     "text": [
      "Computing transition probabilities: 100%|██████████| 226/226 [00:00<00:00, 497.95it/s]\n",
      "Generating walks (CPU: 1):   0%|          | 0/10 [00:00<?, ?it/s]00<00:00, 325.15it/s]"
     ]
    },
    {
     "name": "stdout",
     "output_type": "stream",
     "text": [
      "cluster began\n"
     ]
    },
    {
     "name": "stderr",
     "output_type": "stream",
     "text": [
      "\r",
      "Computing transition probabilities:  61%|██████    | 223/367 [00:00<00:00, 295.60it/s]"
     ]
    },
    {
     "name": "stdout",
     "output_type": "stream",
     "text": [
      "cluster end\n"
     ]
    },
    {
     "name": "stderr",
     "output_type": "stream",
     "text": [
      "Generating walks (CPU: 1):  40%|████      | 4/10 [00:04<00:07,  1.21s/it], 295.02it/s]"
     ]
    },
    {
     "name": "stdout",
     "output_type": "stream",
     "text": [
      "[(('one', 'CD'), 60.10000000000014), (('treasury', 'NN'), 60.83333333333349), (('duties', 'NNS'), 61.151190476190635), (('senate', 'NN'), 61.42619047619062), (('UNK', 'NNP'), 62.20952380952396), (('secretary', 'NN'), 63.4428571428573), (('who', 'WP'), 64.70952380952394), (('not', 'RB'), 65.40952380952393), (('to', 'TO'), 75.40952380952376)] (300,)\n"
     ]
    },
    {
     "name": "stderr",
     "output_type": "stream",
     "text": [
      "Computing transition probabilities: 100%|██████████| 154/154 [00:00<00:00, 789.59it/s]\n",
      "Computing transition probabilities: 100%|██████████| 367/367 [00:01<00:00, 309.02it/s]\n",
      "Generating walks (CPU: 1):  30%|███       | 3/10 [00:01<00:02,  2.56it/s]"
     ]
    },
    {
     "name": "stdout",
     "output_type": "stream",
     "text": [
      "Unk percentage: 0.003272804054054054\n"
     ]
    },
    {
     "name": "stderr",
     "output_type": "stream",
     "text": [
      "Generating walks (CPU: 1):  50%|█████     | 5/10 [00:03<00:03,  1.49it/s]"
     ]
    },
    {
     "name": "stdout",
     "output_type": "stream",
     "text": [
      "Unk percentage: 0.007443267776096823\n"
     ]
    },
    {
     "name": "stderr",
     "output_type": "stream",
     "text": [
      "Generating walks (CPU: 1): 100%|██████████| 10/10 [00:10<00:00,  1.16s/it]"
     ]
    },
    {
     "name": "stdout",
     "output_type": "stream",
     "text": [
      "Unk percentage: 0.004804974561899378\n"
     ]
    },
    {
     "name": "stderr",
     "output_type": "stream",
     "text": [
      "Generating walks (CPU: 1):  70%|███████   | 7/10 [00:04<00:02,  1.40it/s]"
     ]
    },
    {
     "name": "stdout",
     "output_type": "stream",
     "text": [
      "Unk percentage: 0.0038684719535783366\n"
     ]
    },
    {
     "name": "stderr",
     "output_type": "stream",
     "text": [
      "Generating walks (CPU: 1):  80%|████████  | 8/10 [00:04<00:01,  1.71it/s]"
     ]
    },
    {
     "name": "stdout",
     "output_type": "stream",
     "text": [
      "cluster began\n",
      "cluster end\n"
     ]
    },
    {
     "name": "stderr",
     "output_type": "stream",
     "text": [
      "\n",
      "Generating walks (CPU: 1):  30%|███       | 3/10 [00:03<00:08,  1.24s/it]"
     ]
    },
    {
     "name": "stdout",
     "output_type": "stream",
     "text": [
      "[(('not', 'RB'), 108.16666666666646), (('inspection', 'NN'), 109.11666666666638), (('investigation', 'NN'), 109.33333333333299), (('it', 'PRP'), 110.26666666666634), (('government', 'NN'), 110.49999999999963), (('meat', 'NN'), 111.18333333333297), (('should', 'MD'), 111.36666666666629), (('products', 'NNS'), 120.76666666666621), ((',', ','), 142.16666666666646)] (300,)\n"
     ]
    },
    {
     "name": "stderr",
     "output_type": "stream",
     "text": [
      "Computing transition probabilities: 100%|██████████| 283/283 [00:00<00:00, 494.41it/s]\n",
      "Generating walks (CPU: 1):  80%|████████  | 8/10 [00:04<00:01,  1.54it/s]]"
     ]
    },
    {
     "name": "stdout",
     "output_type": "stream",
     "text": [
      "Unk percentage: 0.0015420200462606013\n",
      "Unk percentage: 0.0033599328013439733\n"
     ]
    },
    {
     "name": "stderr",
     "output_type": "stream",
     "text": [
      "\r",
      "Generating walks (CPU: 1):  60%|██████    | 6/10 [00:05<00:03,  1.02it/s]"
     ]
    },
    {
     "name": "stdout",
     "output_type": "stream",
     "text": [
      "Unk percentage: 0.011267605633802818\n"
     ]
    },
    {
     "name": "stderr",
     "output_type": "stream",
     "text": [
      "Generating walks (CPU: 1): 100%|██████████| 10/10 [00:07<00:00,  1.35it/s]\n"
     ]
    },
    {
     "name": "stdout",
     "output_type": "stream",
     "text": [
      "cluster began\n",
      "cluster end\n"
     ]
    },
    {
     "name": "stderr",
     "output_type": "stream",
     "text": [
      "\r",
      "Generating walks (CPU: 1):  90%|█████████ | 9/10 [00:05<00:00,  1.51it/s]"
     ]
    },
    {
     "name": "stdout",
     "output_type": "stream",
     "text": [
      "[(('other', 'JJ'), 43.666666666666714), (('whereby', 'WRB'), 43.83333333333338), (('may', 'MD'), 44.166666666666714), (('UNK', 'NNP'), 45.91666666666674), (('states', 'NNS'), 46.133333333333404), (('insurrection', 'NN'), 46.83333333333341), (('counties', 'NNS'), 47.66666666666674), (('persons', 'NNS'), 47.916666666666735), (('to', 'TO'), 49.25000000000008)] (300,)\n"
     ]
    },
    {
     "name": "stderr",
     "output_type": "stream",
     "text": [
      "Computing transition probabilities: 100%|██████████| 108/108 [00:00<00:00, 1073.55it/s]\n",
      "Generating walks (CPU: 1):  40%|████      | 4/10 [00:05<00:08,  1.45s/it]"
     ]
    },
    {
     "name": "stdout",
     "output_type": "stream",
     "text": [
      "Unk percentage: 0.001941276389225916\n"
     ]
    },
    {
     "name": "stderr",
     "output_type": "stream",
     "text": [
      "Generating walks (CPU: 1):  20%|██        | 2/10 [00:01<00:05,  1.36it/s]\n",
      "Generating walks (CPU: 1):  20%|██        | 2/10 [00:00<00:02,  3.99it/s]"
     ]
    },
    {
     "name": "stdout",
     "output_type": "stream",
     "text": [
      "Unk percentage: 0.009230769230769232\n"
     ]
    },
    {
     "name": "stderr",
     "output_type": "stream",
     "text": [
      "Generating walks (CPU: 1):  70%|███████   | 7/10 [00:06<00:03,  1.01s/it]]"
     ]
    },
    {
     "name": "stdout",
     "output_type": "stream",
     "text": [
      "cluster began\n",
      "cluster end\n"
     ]
    },
    {
     "name": "stderr",
     "output_type": "stream",
     "text": [
      "\r",
      "Generating walks (CPU: 1):  30%|███       | 3/10 [00:01<00:02,  2.93it/s]"
     ]
    },
    {
     "name": "stdout",
     "output_type": "stream",
     "text": [
      "[(('going', 'VBG'), 72.15238095238117), (('ordinary', 'JJ'), 74.35952380952405), (('itself', 'PRP'), 75.69285714285738), (('UNK', 'NNP'), 75.98571428571455), (('naturally', 'RB'), 77.84285714285735), (('situation', 'NN'), 80.00952380952393), (('not', 'RB'), 83.48333333333336), (('it', 'PRP'), 84.09285714285717), ((',', ','), 100.96666666666646)] (300,)\n"
     ]
    },
    {
     "name": "stderr",
     "output_type": "stream",
     "text": [
      "\r",
      "Computing transition probabilities:   0%|          | 0/207 [00:00<?, ?it/s]"
     ]
    },
    {
     "name": "stdout",
     "output_type": "stream",
     "text": [
      "Unk percentage: 0.009925558312655087\n"
     ]
    },
    {
     "name": "stderr",
     "output_type": "stream",
     "text": [
      "Computing transition probabilities:  32%|███▏      | 67/207 [00:00<00:00, 665.11it/s]\n",
      "Computing transition probabilities: 100%|██████████| 207/207 [00:00<00:00, 548.87it/s]\n",
      "Generating walks (CPU: 1):   0%|          | 0/10 [00:00<?, ?it/s]"
     ]
    },
    {
     "name": "stdout",
     "output_type": "stream",
     "text": [
      "cluster began\n"
     ]
    },
    {
     "name": "stderr",
     "output_type": "stream",
     "text": [
      "\r",
      "Generating walks (CPU: 1):  40%|████      | 4/10 [00:01<00:02,  2.62it/s]"
     ]
    },
    {
     "name": "stdout",
     "output_type": "stream",
     "text": [
      "cluster end\n"
     ]
    },
    {
     "name": "stderr",
     "output_type": "stream",
     "text": [
      "Generating walks (CPU: 1):  80%|████████  | 8/10 [00:07<00:02,  1.06s/it]"
     ]
    },
    {
     "name": "stdout",
     "output_type": "stream",
     "text": [
      "[(('coin', 'NN'), 86.04977661227664), (('payable', 'JJ'), 86.58310994560998), (('abroad', 'RB'), 86.64441946941943), (('amounting', 'VBG'), 87.47775280275275), (('interest', 'NN'), 92.0277528027526), (('gold', 'NN'), 93.96822899322882), (('bonds', 'NNS'), 99.90156232656201), (('our', 'PRP$'), 101.76822899322866), (('to', 'TO'), 119.18489565989545)] (300,)\n"
     ]
    },
    {
     "name": "stderr",
     "output_type": "stream",
     "text": [
      "Generating walks (CPU: 1):  50%|█████     | 5/10 [00:01<00:02,  2.45it/s] 638.54it/s]"
     ]
    },
    {
     "name": "stdout",
     "output_type": "stream",
     "text": [
      "Unk percentage: 0.006695913184022166\n"
     ]
    },
    {
     "name": "stderr",
     "output_type": "stream",
     "text": [
      "Computing transition probabilities: 100%|██████████| 232/232 [00:00<00:00, 603.48it/s]\n",
      "Generating walks (CPU: 1):  20%|██        | 2/10 [00:01<00:04,  1.92it/s]"
     ]
    },
    {
     "name": "stdout",
     "output_type": "stream",
     "text": [
      "Unk percentage: 0.0038499928703835734\n"
     ]
    },
    {
     "name": "stderr",
     "output_type": "stream",
     "text": [
      "Generating walks (CPU: 1): 100%|██████████| 10/10 [00:13<00:00,  1.49s/it]"
     ]
    },
    {
     "name": "stdout",
     "output_type": "stream",
     "text": [
      "Unk percentage: 0.010778443113772455\n"
     ]
    },
    {
     "name": "stderr",
     "output_type": "stream",
     "text": [
      "Generating walks (CPU: 1):  30%|███       | 3/10 [00:02<00:04,  1.51it/s]"
     ]
    },
    {
     "name": "stdout",
     "output_type": "stream",
     "text": [
      "cluster began\n",
      "cluster end\n"
     ]
    },
    {
     "name": "stderr",
     "output_type": "stream",
     "text": [
      "Generating walks (CPU: 1):  60%|██████    | 6/10 [00:09<00:06,  1.69s/it]"
     ]
    },
    {
     "name": "stdout",
     "output_type": "stream",
     "text": [
      "[(('city', 'NN'), 89.9), (('your', 'PRP$'), 92.46666666666651), (('committee', 'NN'), 92.64999999999984), (('can', 'MD'), 92.66666666666656), (('them', 'PRP'), 92.73333333333318), (('their', 'PRP$'), 93.59999999999982), (('UNK', 'NNP'), 94.88333333333318), (('we', 'PRP'), 95.76666666666641), (('to', 'TO'), 120.24999999999972)] (300,)\n"
     ]
    },
    {
     "name": "stderr",
     "output_type": "stream",
     "text": [
      "Computing transition probabilities: 100%|██████████| 233/233 [00:00<00:00, 548.43it/s]\n",
      "Generating walks (CPU: 1):  40%|████      | 4/10 [00:02<00:04,  1.33it/s]\n",
      "Generating walks (CPU: 1):  30%|███       | 3/10 [00:02<00:05,  1.25it/s]\n",
      "Generating walks (CPU: 1):  50%|█████     | 5/10 [00:05<00:06,  1.22s/it]\n"
     ]
    },
    {
     "name": "stdout",
     "output_type": "stream",
     "text": [
      "Unk percentage: 0.00199203187250996\n",
      "Unk percentage: 0.0017857142857142857\n",
      "Unk percentage: 0.0029800466442083443\n"
     ]
    },
    {
     "name": "stderr",
     "output_type": "stream",
     "text": [
      "Generating walks (CPU: 1):  40%|████      | 4/10 [00:03<00:05,  1.13it/s]"
     ]
    },
    {
     "name": "stdout",
     "output_type": "stream",
     "text": [
      "Unk percentage: 0.0021944632005401754\n"
     ]
    },
    {
     "name": "stderr",
     "output_type": "stream",
     "text": [
      "\r",
      "Generating walks (CPU: 1):  70%|███████   | 7/10 [00:11<00:05,  1.77s/it]"
     ]
    },
    {
     "name": "stdout",
     "output_type": "stream",
     "text": [
      "Unk percentage: 0.0028735632183908046\n",
      "Unk percentage: 0.004573170731707317\n",
      "Unk percentage: 0.002939604489577766\n",
      "Unk percentage: 0.0054446460980036296\n"
     ]
    },
    {
     "name": "stderr",
     "output_type": "stream",
     "text": [
      "\r",
      "Generating walks (CPU: 1):  60%|██████    | 6/10 [00:07<00:05,  1.27s/it]"
     ]
    },
    {
     "name": "stdout",
     "output_type": "stream",
     "text": [
      "Unk percentage: 0.0011560693641618498\n",
      "cluster began\n",
      "cluster end\n"
     ]
    },
    {
     "name": "stderr",
     "output_type": "stream",
     "text": [
      "\r",
      "Generating walks (CPU: 1):  60%|██████    | 6/10 [00:05<00:03,  1.13it/s]"
     ]
    },
    {
     "name": "stdout",
     "output_type": "stream",
     "text": [
      "cluster began\n",
      "cluster end\n",
      "[(('subject', 'NN'), 76.57619047619056), (('may', 'MD'), 78.50952380952381), (('appropriations', 'NNS'), 81.04285714285707), (('it', 'PRP'), 81.24285714285708), (('not', 'RB'), 83.65952380952368), (('i', 'NN'), 83.67619047619033), (('bill', 'NN'), 86.2095238095236), (('my', 'PRP$'), 89.84285714285686), (('to', 'TO'), 95.74999999999976)] (300,)\n"
     ]
    },
    {
     "name": "stderr",
     "output_type": "stream",
     "text": [
      "\r",
      "Computing transition probabilities:   0%|          | 0/191 [00:00<?, ?it/s]"
     ]
    },
    {
     "name": "stdout",
     "output_type": "stream",
     "text": [
      "Unk percentage: 0.0012804097311139564\n"
     ]
    },
    {
     "name": "stderr",
     "output_type": "stream",
     "text": [
      "Computing transition probabilities: 100%|██████████| 191/191 [00:00<00:00, 676.13it/s]\n",
      "Generating walks (CPU: 1):   0%|          | 0/10 [00:00<?, ?it/s]"
     ]
    },
    {
     "name": "stdout",
     "output_type": "stream",
     "text": [
      "Unk percentage: 0.003528773072747014\n",
      "[(('situation', 'NN'), 104.73333333333308), (('it', 'PRP'), 105.09999999999975), (('crisis', 'NN'), 105.31666666666635), (('interest', 'NN'), 107.4499999999996), (('there', 'EX'), 109.84999999999958), (('rates', 'NNS'), 111.23333333333285), (('their', 'PRP$'), 113.13333333333281), (('market', 'NN'), 113.48333333333288), (('to', 'TO'), 123.16666666666616)] (300,)\n"
     ]
    },
    {
     "name": "stderr",
     "output_type": "stream",
     "text": [
      "Computing transition probabilities:  18%|█▊        | 48/271 [00:00<00:00, 477.93it/s]"
     ]
    },
    {
     "name": "stdout",
     "output_type": "stream",
     "text": [
      "Unk percentage: 0.0067209055535903785\n"
     ]
    },
    {
     "name": "stderr",
     "output_type": "stream",
     "text": [
      "Computing transition probabilities:  94%|█████████▎| 254/271 [00:00<00:00, 500.96it/s]"
     ]
    },
    {
     "name": "stdout",
     "output_type": "stream",
     "text": [
      "Unk percentage: 0.0014545454545454545\n"
     ]
    },
    {
     "name": "stderr",
     "output_type": "stream",
     "text": [
      "Computing transition probabilities: 100%|██████████| 271/271 [00:00<00:00, 486.70it/s]\n",
      "Generating walks (CPU: 1):  40%|████      | 4/10 [00:03<00:05,  1.13it/s]"
     ]
    },
    {
     "name": "stdout",
     "output_type": "stream",
     "text": [
      "Unk percentage: 0.0035052012663952963\n"
     ]
    },
    {
     "name": "stderr",
     "output_type": "stream",
     "text": [
      "Generating walks (CPU: 1):  30%|███       | 3/10 [00:01<00:03,  1.80it/s]"
     ]
    },
    {
     "name": "stdout",
     "output_type": "stream",
     "text": [
      "Unk percentage: 0.0046822742474916385\n"
     ]
    },
    {
     "name": "stderr",
     "output_type": "stream",
     "text": [
      "Generating walks (CPU: 1):  40%|████      | 4/10 [00:02<00:03,  1.54it/s]"
     ]
    },
    {
     "name": "stdout",
     "output_type": "stream",
     "text": [
      "cluster began\n",
      "cluster end\n"
     ]
    },
    {
     "name": "stderr",
     "output_type": "stream",
     "text": [
      "Generating walks (CPU: 1):  90%|█████████ | 9/10 [00:15<00:01,  1.93s/it]"
     ]
    },
    {
     "name": "stdout",
     "output_type": "stream",
     "text": [
      "[(('states', 'NNS'), 152.33333333333286), (('our', 'PRP$'), 154.43333333333263), (('union', 'NN'), 155.1333333333331), (('world', 'NN'), 155.5666666666664), (('other', 'JJ'), 156.48333333333304), (('afghanistan', 'NN'), 156.49999999999974), (('will', 'MD'), 170.1500000000006), (('soviet', 'JJ'), 174.75000000000088), ((',', ','), 193.0833333333343)] (300,)\n"
     ]
    },
    {
     "name": "stderr",
     "output_type": "stream",
     "text": [
      "Computing transition probabilities: 100%|██████████| 378/378 [00:00<00:00, 384.16it/s]\n",
      "Generating walks (CPU: 1):  60%|██████    | 6/10 [00:04<00:03,  1.28it/s]\n",
      "Generating walks (CPU: 1):  70%|███████   | 7/10 [00:05<00:02,  1.23it/s]]"
     ]
    },
    {
     "name": "stdout",
     "output_type": "stream",
     "text": [
      "Unk percentage: 0.0030374154355929865\n"
     ]
    },
    {
     "name": "stderr",
     "output_type": "stream",
     "text": [
      "Generating walks (CPU: 1): 100%|██████████| 10/10 [00:10<00:00,  1.12s/it]"
     ]
    },
    {
     "name": "stdout",
     "output_type": "stream",
     "text": [
      "Unk percentage: 0.007214691735898557\n"
     ]
    },
    {
     "name": "stderr",
     "output_type": "stream",
     "text": [
      "Generating walks (CPU: 1):  50%|█████     | 5/10 [00:05<00:05,  1.11s/it]\n"
     ]
    },
    {
     "name": "stdout",
     "output_type": "stream",
     "text": [
      "Unk percentage: 0.008064516129032258\n"
     ]
    },
    {
     "name": "stderr",
     "output_type": "stream",
     "text": [
      "Generating walks (CPU: 1):  20%|██        | 2/10 [00:02<00:08,  1.00s/it]"
     ]
    },
    {
     "name": "stdout",
     "output_type": "stream",
     "text": [
      "cluster began\n",
      "cluster end\n",
      "[(('industries', 'NNS'), 33.57023809523807), (('country', 'NN'), 33.57619047619046), (('average', 'JJ'), 33.69285714285711), (('production', 'NN'), 34.259523809523785), (('1929', 'CD'), 34.64285714285714), (('commodities', 'NNS'), 35.19285714285713), (('year', 'NN'), 36.57619047619046), (('there', 'EX'), 36.883333333333326), (('to', 'TO'), 41.42619047619047)] (300,)\n"
     ]
    },
    {
     "name": "stderr",
     "output_type": "stream",
     "text": [
      "Computing transition probabilities: 100%|██████████| 104/104 [00:00<00:00, 1239.98it/s]\n",
      "Generating walks (CPU: 1):  90%|█████████ | 9/10 [00:09<00:01,  1.10s/it]\n",
      "\n",
      "Generating walks (CPU: 1):  30%|███       | 3/10 [00:00<00:01,  3.52it/s]"
     ]
    },
    {
     "name": "stdout",
     "output_type": "stream",
     "text": [
      "Unk percentage: 0.0034644385571632364\n"
     ]
    },
    {
     "name": "stderr",
     "output_type": "stream",
     "text": [
      "\r",
      "Generating walks (CPU: 1): 100%|██████████| 10/10 [00:10<00:00,  1.09s/it]"
     ]
    },
    {
     "name": "stdout",
     "output_type": "stream",
     "text": [
      "Unk percentage: 0.002368265245707519\n"
     ]
    },
    {
     "name": "stderr",
     "output_type": "stream",
     "text": [
      "\r",
      "Generating walks (CPU: 1):  40%|████      | 4/10 [00:01<00:01,  3.04it/s]"
     ]
    },
    {
     "name": "stdout",
     "output_type": "stream",
     "text": [
      "Unk percentage: 0.0022172949002217295\n"
     ]
    },
    {
     "name": "stderr",
     "output_type": "stream",
     "text": [
      "\r",
      "Generating walks (CPU: 1): 100%|██████████| 10/10 [00:08<00:00,  1.14it/s]"
     ]
    },
    {
     "name": "stdout",
     "output_type": "stream",
     "text": [
      "Unk percentage: 0.0032347852253065525\n",
      "cluster began\n",
      "cluster end\n"
     ]
    },
    {
     "name": "stderr",
     "output_type": "stream",
     "text": [
      "Generating walks (CPU: 1):  70%|███████   | 7/10 [00:07<00:03,  1.21s/it]"
     ]
    },
    {
     "name": "stdout",
     "output_type": "stream",
     "text": [
      "[(('bill', 'NN'), 89.17182539682543), (('disability', 'NN'), 89.83849206349207), (('examination', 'NN'), 90.75119047619047), (('me', 'PRP'), 90.77182539682536), (('bureau', 'NN'), 94.80952380952368), (('not', 'RB'), 95.88452380952361), (('claims', 'NNS'), 101.61785714285682), (('pension', 'NN'), 108.63452380952349), (('to', 'TO'), 118.96785714285683)] (300,)\n"
     ]
    },
    {
     "name": "stderr",
     "output_type": "stream",
     "text": [
      "\r",
      "Computing transition probabilities:   0%|          | 0/239 [00:00<?, ?it/s]"
     ]
    },
    {
     "name": "stdout",
     "output_type": "stream",
     "text": [
      "Unk percentage: 0.0012101653892698668\n"
     ]
    },
    {
     "name": "stderr",
     "output_type": "stream",
     "text": [
      "Generating walks (CPU: 1):  60%|██████    | 6/10 [00:02<00:01,  2.49it/s] 553.25it/s]"
     ]
    },
    {
     "name": "stdout",
     "output_type": "stream",
     "text": [
      "Unk percentage: 0.007994186046511628\n"
     ]
    },
    {
     "name": "stderr",
     "output_type": "stream",
     "text": [
      "\n"
     ]
    },
    {
     "name": "stdout",
     "output_type": "stream",
     "text": [
      "Unk percentage: 0.0041981528127623844\n"
     ]
    },
    {
     "name": "stderr",
     "output_type": "stream",
     "text": [
      "\n",
      "Computing transition probabilities:  49%|████▊     | 116/239 [00:00<00:00, 561.65it/s]"
     ]
    },
    {
     "name": "stdout",
     "output_type": "stream",
     "text": [
      "Unk percentage: 0.004878048780487805\n"
     ]
    },
    {
     "name": "stderr",
     "output_type": "stream",
     "text": [
      "Computing transition probabilities: 100%|██████████| 239/239 [00:00<00:00, 525.25it/s]\n",
      "Generating walks (CPU: 1):   0%|          | 0/10 [00:00<?, ?it/s]"
     ]
    },
    {
     "name": "stdout",
     "output_type": "stream",
     "text": [
      "cluster began\n",
      "cluster end\n"
     ]
    },
    {
     "name": "stderr",
     "output_type": "stream",
     "text": [
      "\r",
      "Generating walks (CPU: 1):  70%|███████   | 7/10 [00:02<00:01,  2.38it/s]"
     ]
    },
    {
     "name": "stdout",
     "output_type": "stream",
     "text": [
      "[(('country', 'NN'), 56.059523809523945), (('neighbors', 'NNS'), 56.559523809523945), (('them', 'PRP'), 56.569047619047744), (('happiness', 'NN'), 57.30952380952394), (('me', 'PRP'), 58.45238095238107), (('you', 'PRP'), 59.402380952381066), (('i', 'NN'), 63.25952380952392), (('my', 'PRP$'), 66.39285714285725), (('to', 'TO'), 70.95952380952382)] (300,)\n"
     ]
    },
    {
     "name": "stderr",
     "output_type": "stream",
     "text": [
      "\r",
      "Computing transition probabilities:   0%|          | 0/142 [00:00<?, ?it/s]"
     ]
    },
    {
     "name": "stdout",
     "output_type": "stream",
     "text": [
      "cluster began\n"
     ]
    },
    {
     "name": "stderr",
     "output_type": "stream",
     "text": [
      "\r",
      "Computing transition probabilities:  68%|██████▊   | 97/142 [00:00<00:00, 962.14it/s]"
     ]
    },
    {
     "name": "stdout",
     "output_type": "stream",
     "text": [
      "cluster end\n"
     ]
    },
    {
     "name": "stderr",
     "output_type": "stream",
     "text": [
      "Computing transition probabilities: 100%|██████████| 142/142 [00:00<00:00, 788.39it/s]\n",
      "Generating walks (CPU: 1):  80%|████████  | 8/10 [00:03<00:00,  2.25it/s]"
     ]
    },
    {
     "name": "stdout",
     "output_type": "stream",
     "text": [
      "Unk percentage: 0.0016118633139909735\n"
     ]
    },
    {
     "name": "stderr",
     "output_type": "stream",
     "text": [
      "\r",
      "Generating walks (CPU: 1):  80%|████████  | 8/10 [00:09<00:02,  1.27s/it]"
     ]
    },
    {
     "name": "stdout",
     "output_type": "stream",
     "text": [
      "Unk percentage: 0.009302325581395349\n",
      "[(('who', 'WP'), 145.0666666666663), (('people', 'NNS'), 145.483333333333), (('not', 'RB'), 148.38333333333316), (('i', 'NN'), 149.3999999999999), (('it', 'PRP'), 152.23333333333346), (('my', 'PRP$'), 156.58333333333363), (('shall', 'MD'), 157.7833333333337), (('our', 'PRP$'), 160.2333333333338), ((',', ','), 199.41666666666745)] (300,)\n"
     ]
    },
    {
     "name": "stderr",
     "output_type": "stream",
     "text": [
      "Computing transition probabilities:   9%|▉         | 31/351 [00:00<00:01, 305.53it/s]"
     ]
    },
    {
     "name": "stdout",
     "output_type": "stream",
     "text": [
      "cluster began\n",
      "cluster end\n"
     ]
    },
    {
     "name": "stderr",
     "output_type": "stream",
     "text": [
      "Generating walks (CPU: 1):  40%|████      | 4/10 [00:06<00:09,  1.57s/it] 250.19it/s]"
     ]
    },
    {
     "name": "stdout",
     "output_type": "stream",
     "text": [
      "Unk percentage: 0.009727626459143969\n",
      "[(('washington', 'NN'), 51.695238095238174), (('city', 'NN'), 51.99523809523817), (('april', 'NN'), 52.045238095238176), (('america', 'NN'), 53.67857142857154), (('president', 'NN'), 53.87857142857153), (('hour', 'NN'), 54.06190476190487), (('people', 'NNS'), 55.45238095238108), (('government', 'NN'), 56.878571428571554), (('to', 'TO'), 63.01190476190486)] (300,)\n"
     ]
    },
    {
     "name": "stderr",
     "output_type": "stream",
     "text": [
      "Computing transition probabilities: 100%|██████████| 144/144 [00:00<00:00, 722.87it/s]\n",
      "Generating walks (CPU: 1):   0%|          | 0/10 [00:00<?, ?it/s]"
     ]
    },
    {
     "name": "stdout",
     "output_type": "stream",
     "text": [
      "cluster began\n",
      "cluster end\n"
     ]
    },
    {
     "name": "stderr",
     "output_type": "stream",
     "text": [
      "Computing transition probabilities:  70%|███████   | 247/351 [00:00<00:00, 351.50it/s]"
     ]
    },
    {
     "name": "stdout",
     "output_type": "stream",
     "text": [
      "[(('president', 'NN'), 58.78333333333345), (('possession', 'NN'), 59.450000000000124), (('authority', 'NN'), 60.61666666666678), (('message', 'NN'), 63.116666666666774), (('senate', 'NN'), 63.91666666666677), (('it', 'PRP'), 64.16666666666677), (('not', 'RB'), 65.25000000000009), (('may', 'MD'), 66.16666666666677), ((',', ','), 83.41666666666653)] (300,)\n"
     ]
    },
    {
     "name": "stderr",
     "output_type": "stream",
     "text": [
      "Computing transition probabilities: 100%|██████████| 141/141 [00:00<00:00, 750.09it/s]\n",
      "Computing transition probabilities: 100%|██████████| 351/351 [00:00<00:00, 356.36it/s]\n",
      "Generating walks (CPU: 1):   0%|          | 0/10 [00:00<?, ?it/s]\n",
      "Generating walks (CPU: 1):  40%|████      | 4/10 [00:02<00:03,  1.96it/s]"
     ]
    },
    {
     "name": "stdout",
     "output_type": "stream",
     "text": [
      "Unk percentage: 0.0032797291578501903\n"
     ]
    },
    {
     "name": "stderr",
     "output_type": "stream",
     "text": [
      "Generating walks (CPU: 1):  30%|███       | 3/10 [00:01<00:03,  2.27it/s]"
     ]
    },
    {
     "name": "stdout",
     "output_type": "stream",
     "text": [
      "Unk percentage: 0.001145475372279496\n"
     ]
    },
    {
     "name": "stderr",
     "output_type": "stream",
     "text": [
      "Generating walks (CPU: 1):  50%|█████     | 5/10 [00:08<00:08,  1.69s/it]"
     ]
    },
    {
     "name": "stdout",
     "output_type": "stream",
     "text": [
      "Unk percentage: 0.0039608966795887405\n"
     ]
    },
    {
     "name": "stderr",
     "output_type": "stream",
     "text": [
      "Generating walks (CPU: 1):  20%|██        | 2/10 [00:01<00:07,  1.07it/s]]"
     ]
    },
    {
     "name": "stdout",
     "output_type": "stream",
     "text": [
      "Unk percentage: 0.007601542999773088\n"
     ]
    },
    {
     "name": "stderr",
     "output_type": "stream",
     "text": [
      "Generating walks (CPU: 1):  70%|███████   | 7/10 [00:03<00:01,  1.72it/s]"
     ]
    },
    {
     "name": "stdout",
     "output_type": "stream",
     "text": [
      "Unk percentage: 0.001514004542013626\n"
     ]
    },
    {
     "name": "stderr",
     "output_type": "stream",
     "text": [
      "Generating walks (CPU: 1):  50%|█████     | 5/10 [00:04<00:04,  1.03it/s]"
     ]
    },
    {
     "name": "stdout",
     "output_type": "stream",
     "text": [
      "Unk percentage: 0.0022702991452991455\n"
     ]
    },
    {
     "name": "stderr",
     "output_type": "stream",
     "text": [
      "\n",
      "Generating walks (CPU: 1):  60%|██████    | 6/10 [00:03<00:02,  1.83it/s]"
     ]
    },
    {
     "name": "stdout",
     "output_type": "stream",
     "text": [
      "Unk percentage: 0.002871088142405972\n"
     ]
    },
    {
     "name": "stderr",
     "output_type": "stream",
     "text": [
      "Generating walks (CPU: 1):  90%|█████████ | 9/10 [00:05<00:00,  1.66it/s]"
     ]
    },
    {
     "name": "stdout",
     "output_type": "stream",
     "text": [
      "Unk percentage: 0.0025996533795493936\n"
     ]
    },
    {
     "name": "stderr",
     "output_type": "stream",
     "text": [
      "Generating walks (CPU: 1):  60%|██████    | 6/10 [00:05<00:04,  1.04s/it]"
     ]
    },
    {
     "name": "stdout",
     "output_type": "stream",
     "text": [
      "Unk percentage: 0.003169572107765452\n"
     ]
    },
    {
     "name": "stderr",
     "output_type": "stream",
     "text": [
      "\r",
      "Generating walks (CPU: 1): 100%|██████████| 10/10 [00:05<00:00,  1.60it/s]"
     ]
    },
    {
     "name": "stdout",
     "output_type": "stream",
     "text": [
      "cluster began\n",
      "cluster end\n"
     ]
    },
    {
     "name": "stderr",
     "output_type": "stream",
     "text": [
      "Generating walks (CPU: 1):  80%|████████  | 8/10 [00:04<00:01,  1.62it/s]"
     ]
    },
    {
     "name": "stdout",
     "output_type": "stream",
     "text": [
      "[(('they', 'PRP'), 115.79404761904719), (('will', 'MD'), 116.89404761904719), (('spirit', 'NN'), 117.02619047619), (('he', 'PRP'), 117.30952380952328), (('people', 'NNS'), 119.37619047618996), (('not', 'RB'), 120.39285714285663), (('it', 'PRP'), 122.62619047619), (('our', 'PRP$'), 126.95952380952329), ((',', ','), 149.86666666666684)] (300,)\n"
     ]
    },
    {
     "name": "stderr",
     "output_type": "stream",
     "text": [
      "\r",
      "Computing transition probabilities:   0%|          | 0/300 [00:00<?, ?it/s]"
     ]
    },
    {
     "name": "stdout",
     "output_type": "stream",
     "text": [
      "cluster began\n",
      "cluster end\n"
     ]
    },
    {
     "name": "stderr",
     "output_type": "stream",
     "text": [
      "Computing transition probabilities:  16%|█▋        | 49/300 [00:00<00:00, 482.24it/s]\n",
      "Computing transition probabilities: 100%|██████████| 300/300 [00:00<00:00, 470.81it/s]\n",
      "Generating walks (CPU: 1):   0%|          | 0/10 [00:00<?, ?it/s]"
     ]
    },
    {
     "name": "stdout",
     "output_type": "stream",
     "text": [
      "Unk percentage: 0.002795248078266946\n",
      "[(('his', 'PRP$'), 141.84999999999934), (('states', 'NNS'), 142.4333333333327), (('now', 'RB'), 145.0166666666662), (('it', 'PRP'), 146.16666666666632), ((\"''\", \"''\"), 146.49999999999963), (('world', 'NN'), 149.91666666666654), (('treaty', 'NN'), 153.33333333333343), (('their', 'PRP$'), 154.66666666666683), (('to', 'TO'), 176.80000000000078)] (300,)\n"
     ]
    },
    {
     "name": "stderr",
     "output_type": "stream",
     "text": [
      "\r",
      "Computing transition probabilities:   0%|          | 0/348 [00:00<?, ?it/s]"
     ]
    },
    {
     "name": "stdout",
     "output_type": "stream",
     "text": [
      "Unk percentage: 0.0030959752321981426\n"
     ]
    },
    {
     "name": "stderr",
     "output_type": "stream",
     "text": [
      "Computing transition probabilities:  23%|██▎       | 80/348 [00:00<00:00, 396.79it/s]"
     ]
    },
    {
     "name": "stdout",
     "output_type": "stream",
     "text": [
      "Unk percentage: 0.00306044376434583\n"
     ]
    },
    {
     "name": "stderr",
     "output_type": "stream",
     "text": [
      "Computing transition probabilities:  78%|███████▊  | 271/348 [00:00<00:00, 334.25it/s]"
     ]
    },
    {
     "name": "stdout",
     "output_type": "stream",
     "text": [
      "cluster began\n",
      "cluster end\n"
     ]
    },
    {
     "name": "stderr",
     "output_type": "stream",
     "text": [
      "Computing transition probabilities:  87%|████████▋ | 303/348 [00:00<00:00, 320.43it/s]\n",
      "Computing transition probabilities:  98%|█████████▊| 341/348 [00:00<00:00, 334.84it/s]\n",
      "Computing transition probabilities: 100%|██████████| 348/348 [00:00<00:00, 351.62it/s]\n",
      "Generating walks (CPU: 1):   0%|          | 0/10 [00:00<?, ?it/s]"
     ]
    },
    {
     "name": "stdout",
     "output_type": "stream",
     "text": [
      "[(('it', 'PRP'), 137.73809523809464), (('waters', 'NNS'), 138.06904761904704), (('states', 'NNS'), 139.73571428571378), (('them', 'PRP'), 139.75952380952327), (('government', 'NN'), 140.31904761904715), (('such', 'JJ'), 141.43809523809472), (('their', 'PRP$'), 143.2357142857139), (('shall', 'MD'), 144.8428571428569), (('to', 'TO'), 180.89285714285768)] (300,)\n"
     ]
    },
    {
     "name": "stderr",
     "output_type": "stream",
     "text": [
      "Generating walks (CPU: 1):  20%|██        | 2/10 [00:01<00:06,  1.22it/s] 417.02it/s]"
     ]
    },
    {
     "name": "stdout",
     "output_type": "stream",
     "text": [
      "Unk percentage: 0.002672082086361693\n",
      "Unk percentage: 0.005457025920873124\n"
     ]
    },
    {
     "name": "stderr",
     "output_type": "stream",
     "text": [
      "Generating walks (CPU: 1):  80%|████████  | 8/10 [00:14<00:03,  1.92s/it], 333.57it/s]"
     ]
    },
    {
     "name": "stdout",
     "output_type": "stream",
     "text": [
      "cluster began\n"
     ]
    },
    {
     "name": "stderr",
     "output_type": "stream",
     "text": [
      "\r",
      "Computing transition probabilities:  53%|█████▎    | 175/330 [00:00<00:00, 327.75it/s]"
     ]
    },
    {
     "name": "stdout",
     "output_type": "stream",
     "text": [
      "cluster end\n"
     ]
    },
    {
     "name": "stderr",
     "output_type": "stream",
     "text": [
      "Generating walks (CPU: 1):  50%|█████     | 5/10 [00:07<00:07,  1.59s/it], 348.95it/s]"
     ]
    },
    {
     "name": "stdout",
     "output_type": "stream",
     "text": [
      "Unk percentage: 0.003776803118908382\n",
      "[(('hawaiian', 'JJ'), 83.0273809523811), (('senate', 'NN'), 83.35238095238107), (('it', 'PRP'), 83.75238095238109), (('interests', 'NNS'), 84.71190476190482), (('will', 'MD'), 85.94523809523812), (('islands', 'NNS'), 91.78571428571412), (('government', 'NN'), 93.03571428571408), (('not', 'RB'), 94.0095238095236), (('to', 'TO'), 100.36904761904728)] (300,)\n"
     ]
    },
    {
     "name": "stderr",
     "output_type": "stream",
     "text": [
      "Computing transition probabilities: 100%|██████████| 330/330 [00:00<00:00, 367.21it/s]\n",
      "Computing transition probabilities: 100%|██████████| 221/221 [00:00<00:00, 635.89it/s]\n",
      "Generating walks (CPU: 1):   0%|          | 0/10 [00:00<?, ?it/s]"
     ]
    },
    {
     "name": "stdout",
     "output_type": "stream",
     "text": [
      "Unk percentage: 0.004113924050632912\n",
      "Unk percentage: 0.004982984929508993\n"
     ]
    },
    {
     "name": "stderr",
     "output_type": "stream",
     "text": [
      "Generating walks (CPU: 1): 100%|██████████| 10/10 [00:10<00:00,  1.15s/it]"
     ]
    },
    {
     "name": "stdout",
     "output_type": "stream",
     "text": [
      "Unk percentage: 0.0017123287671232876\n"
     ]
    },
    {
     "name": "stderr",
     "output_type": "stream",
     "text": [
      "\r",
      "Generating walks (CPU: 1):  20%|██        | 2/10 [00:01<00:04,  1.92it/s]"
     ]
    },
    {
     "name": "stdout",
     "output_type": "stream",
     "text": [
      "Unk percentage: 0.0036877688998156115\n",
      "Unk percentage: 0.003115264797507788\n"
     ]
    },
    {
     "name": "stderr",
     "output_type": "stream",
     "text": [
      "Generating walks (CPU: 1):  20%|██        | 2/10 [00:01<00:06,  1.20it/s]"
     ]
    },
    {
     "name": "stdout",
     "output_type": "stream",
     "text": [
      "Unk percentage: 0.00216025137470542\n"
     ]
    },
    {
     "name": "stderr",
     "output_type": "stream",
     "text": [
      "\n",
      "Generating walks (CPU: 1):  40%|████      | 4/10 [00:04<00:06,  1.16s/it]"
     ]
    },
    {
     "name": "stdout",
     "output_type": "stream",
     "text": [
      "Unk percentage: 0.006885155604516662\n"
     ]
    },
    {
     "name": "stderr",
     "output_type": "stream",
     "text": [
      "\r",
      "Generating walks (CPU: 1):  30%|███       | 3/10 [00:02<00:04,  1.51it/s]"
     ]
    },
    {
     "name": "stdout",
     "output_type": "stream",
     "text": [
      "Unk percentage: 0.0013386880856760374\n"
     ]
    },
    {
     "name": "stderr",
     "output_type": "stream",
     "text": [
      "\r",
      "Generating walks (CPU: 1):  30%|███       | 3/10 [00:03<00:08,  1.27s/it]"
     ]
    },
    {
     "name": "stdout",
     "output_type": "stream",
     "text": [
      "Unk percentage: 0.0009552923194497516\n",
      "Unk percentage: 0.004561003420752566\n",
      "Unk percentage: 0.006085192697768763\n"
     ]
    },
    {
     "name": "stderr",
     "output_type": "stream",
     "text": [
      "\r",
      "Generating walks (CPU: 1):  40%|████      | 4/10 [00:03<00:04,  1.29it/s]"
     ]
    },
    {
     "name": "stdout",
     "output_type": "stream",
     "text": [
      "cluster began\n",
      "cluster end\n",
      "cluster began\n",
      "cluster end\n"
     ]
    },
    {
     "name": "stderr",
     "output_type": "stream",
     "text": [
      "Generating walks (CPU: 1):  70%|███████   | 7/10 [00:11<00:05,  1.72s/it]"
     ]
    },
    {
     "name": "stdout",
     "output_type": "stream",
     "text": [
      "[(('july', 'NN'), 56.50952380952392), (('obstructions', 'NNS'), 57.042857142857265), (('persons', 'NNS'), 57.26666666666679), (('especially', 'RB'), 57.8166666666668), (('president', 'NN'), 59.44285714285729), (('assemblages', 'NNS'), 59.533333333333466), (('not', 'RB'), 62.40000000000013), (('states', 'NNS'), 63.80952380952393), (('to', 'TO'), 69.40000000000013)] (300,)\n"
     ]
    },
    {
     "name": "stderr",
     "output_type": "stream",
     "text": [
      "Computing transition probabilities: 100%|██████████| 153/153 [00:00<00:00, 874.28it/s]\n"
     ]
    },
    {
     "name": "stdout",
     "output_type": "stream",
     "text": [
      "[(('i', 'NN'), 86.96666666666661), (('now', 'RB'), 87.88333333333324), (('our', 'PRP$'), 88.43333333333322), (('other', 'JJ'), 88.68333333333324), (('they', 'PRP'), 90.09999999999987), (('here', 'RB'), 90.29999999999986), (('us', 'PRP'), 90.59999999999982), (('we', 'PRP'), 108.26666666666638), (('to', 'TO'), 109.06666666666635)] (300,)\n"
     ]
    },
    {
     "name": "stderr",
     "output_type": "stream",
     "text": [
      "Computing transition probabilities: 100%|██████████| 220/220 [00:00<00:00, 577.24it/s]\n",
      "Generating walks (CPU: 1):  60%|██████    | 6/10 [00:05<00:03,  1.08it/s]\n",
      "Generating walks (CPU: 1):  60%|██████    | 6/10 [00:03<00:02,  1.62it/s]"
     ]
    },
    {
     "name": "stdout",
     "output_type": "stream",
     "text": [
      "Unk percentage: 0.002564102564102564\n"
     ]
    },
    {
     "name": "stderr",
     "output_type": "stream",
     "text": [
      "\r",
      "Generating walks (CPU: 1):  80%|████████  | 8/10 [00:07<00:01,  1.01it/s]"
     ]
    },
    {
     "name": "stdout",
     "output_type": "stream",
     "text": [
      "cluster began\n",
      "cluster end\n"
     ]
    },
    {
     "name": "stderr",
     "output_type": "stream",
     "text": [
      "\r",
      "Generating walks (CPU: 1):  70%|███████   | 7/10 [00:04<00:01,  1.56it/s]"
     ]
    },
    {
     "name": "stdout",
     "output_type": "stream",
     "text": [
      "[(('it', 'PRP'), 78.78333333333339), (('panama', 'NN'), 80.16666666666673), (('us', 'PRP'), 81.41666666666663), (('you', 'PRP'), 84.24999999999989), (('our', 'PRP$'), 84.49999999999996), (('will', 'MD'), 87.43333333333311), (('canal', 'NN'), 88.09999999999977), (('nations', 'NNS'), 88.21666666666644), (('to', 'TO'), 103.16666666666636)] (300,)\n"
     ]
    },
    {
     "name": "stderr",
     "output_type": "stream",
     "text": [
      "Computing transition probabilities: 100%|██████████| 200/200 [00:00<00:00, 638.28it/s]\n",
      "Generating walks (CPU: 1):  70%|███████   | 7/10 [00:06<00:02,  1.06it/s]]\n",
      "\n",
      "\n",
      "Generating walks (CPU: 1): 100%|██████████| 10/10 [00:13<00:00,  1.52s/it]"
     ]
    },
    {
     "name": "stdout",
     "output_type": "stream",
     "text": [
      "Unk percentage: 0.0037174721189591076\n",
      "Unk percentage: 0.0018267620642411326\n"
     ]
    },
    {
     "name": "stderr",
     "output_type": "stream",
     "text": [
      "\r",
      "Generating walks (CPU: 1):  80%|████████  | 8/10 [00:11<00:03,  1.58s/it]"
     ]
    },
    {
     "name": "stdout",
     "output_type": "stream",
     "text": [
      "Unk percentage: 0.013358222014816543\n"
     ]
    },
    {
     "name": "stderr",
     "output_type": "stream",
     "text": [
      "Generating walks (CPU: 1):  50%|█████     | 5/10 [00:03<00:03,  1.28it/s]"
     ]
    },
    {
     "name": "stdout",
     "output_type": "stream",
     "text": [
      "Unk percentage: 0.012441993409106194\n"
     ]
    },
    {
     "name": "stderr",
     "output_type": "stream",
     "text": [
      "\r",
      "Generating walks (CPU: 1):  90%|█████████ | 9/10 [00:08<00:01,  1.05s/it]"
     ]
    },
    {
     "name": "stdout",
     "output_type": "stream",
     "text": [
      "Unk percentage: 0.0023086269744835965\n",
      "Unk percentage: 0.0069096245566833804\n",
      "Unk percentage: 0.009478672985781991\n",
      "Unk percentage: 0.00186219739292365\n"
     ]
    },
    {
     "name": "stderr",
     "output_type": "stream",
     "text": [
      "\n",
      "Generating walks (CPU: 1):  60%|██████    | 6/10 [00:04<00:03,  1.21it/s]"
     ]
    },
    {
     "name": "stdout",
     "output_type": "stream",
     "text": [
      "cluster began\n",
      "cluster end\n"
     ]
    },
    {
     "name": "stderr",
     "output_type": "stream",
     "text": [
      "\r",
      "Generating walks (CPU: 1):  90%|█████████ | 9/10 [00:13<00:01,  1.61s/it]"
     ]
    },
    {
     "name": "stdout",
     "output_type": "stream",
     "text": [
      "[(('UNK', 'NNP'), 51.90753968253974), (('states', 'NNS'), 52.55357142857147), (('conference', 'NN'), 52.857539682539766), (('other', 'JJ'), 53.08968253968261), (('markets', 'NNS'), 54.4718253968255), (('it', 'PRP'), 60.181349206349324), (('will', 'MD'), 60.26468253968266), (('our', 'PRP$'), 64.44563492063503), (('to', 'TO'), 65.16785714285732)] (300,)\n"
     ]
    },
    {
     "name": "stderr",
     "output_type": "stream",
     "text": [
      "\r",
      "Computing transition probabilities:   0%|          | 0/149 [00:00<?, ?it/s]"
     ]
    },
    {
     "name": "stdout",
     "output_type": "stream",
     "text": [
      "cluster began\n",
      "cluster end\n"
     ]
    },
    {
     "name": "stderr",
     "output_type": "stream",
     "text": [
      "Computing transition probabilities: 100%|██████████| 149/149 [00:00<00:00, 904.35it/s]\n",
      "Generating walks (CPU: 1):   0%|          | 0/10 [00:00<?, ?it/s]"
     ]
    },
    {
     "name": "stdout",
     "output_type": "stream",
     "text": [
      "Unk percentage: 0.007103825136612022\n",
      "Unk percentage: 0.00529567519858782\n",
      "[(('them', 'PRP'), 110.91666666666617), (('isthmus', 'NN'), 111.99999999999955), (('other', 'JJ'), 112.16666666666622), (('not', 'RB'), 112.9166666666662), (('it', 'PRP'), 113.66666666666622), (('senate', 'NN'), 114.83333333333289), (('such', 'JJ'), 119.74999999999959), (('treaty', 'NN'), 122.66666666666627), ((',', ','), 149.95000000000047)] (300,)\n"
     ]
    },
    {
     "name": "stderr",
     "output_type": "stream",
     "text": [
      "Computing transition probabilities:  19%|█▉        | 51/270 [00:00<00:00, 505.95it/s]"
     ]
    },
    {
     "name": "stdout",
     "output_type": "stream",
     "text": [
      "Unk percentage: 0.0030837004405286344\n"
     ]
    },
    {
     "name": "stderr",
     "output_type": "stream",
     "text": [
      "Generating walks (CPU: 1):  20%|██        | 2/10 [00:00<00:02,  2.97it/s], 346.44it/s]"
     ]
    },
    {
     "name": "stdout",
     "output_type": "stream",
     "text": [
      "Unk percentage: 0.003957926697028844\n"
     ]
    },
    {
     "name": "stderr",
     "output_type": "stream",
     "text": [
      "Computing transition probabilities: 100%|██████████| 270/270 [00:00<00:00, 366.76it/s]\n",
      "Generating walks (CPU: 1):   0%|          | 0/10 [00:00<?, ?it/s]\n"
     ]
    },
    {
     "name": "stdout",
     "output_type": "stream",
     "text": [
      "Unk percentage: 0.0031435243398598885\n"
     ]
    },
    {
     "name": "stderr",
     "output_type": "stream",
     "text": [
      "Generating walks (CPU: 1):  30%|███       | 3/10 [00:01<00:03,  2.07it/s]]"
     ]
    },
    {
     "name": "stdout",
     "output_type": "stream",
     "text": [
      "Unk percentage: 0.002082248828735034\n",
      "Unk percentage: 0.0010324179227751394\n",
      "Unk percentage: 0.0019362788241506777\n"
     ]
    },
    {
     "name": "stderr",
     "output_type": "stream",
     "text": [
      "\r",
      "Generating walks (CPU: 1):  40%|████      | 4/10 [00:02<00:03,  1.87it/s]"
     ]
    },
    {
     "name": "stdout",
     "output_type": "stream",
     "text": [
      "Unk percentage: 0.0036488740617180984\n"
     ]
    },
    {
     "name": "stderr",
     "output_type": "stream",
     "text": [
      "\r",
      "Generating walks (CPU: 1):  90%|█████████ | 9/10 [00:07<00:00,  1.08it/s]"
     ]
    },
    {
     "name": "stdout",
     "output_type": "stream",
     "text": [
      "Unk percentage: 0.0011908306043465317\n"
     ]
    },
    {
     "name": "stderr",
     "output_type": "stream",
     "text": [
      "\r",
      "Generating walks (CPU: 1): 100%|██████████| 10/10 [00:17<00:00,  1.92s/it]"
     ]
    },
    {
     "name": "stdout",
     "output_type": "stream",
     "text": [
      "Unk percentage: 0.00237558628251203\n"
     ]
    },
    {
     "name": "stderr",
     "output_type": "stream",
     "text": [
      "\r",
      "Generating walks (CPU: 1):  20%|██        | 2/10 [00:01<00:05,  1.39it/s]"
     ]
    },
    {
     "name": "stdout",
     "output_type": "stream",
     "text": [
      "Unk percentage: 0.002302820955670697\n",
      "Unk percentage: 0.001122334455667789\n"
     ]
    },
    {
     "name": "stderr",
     "output_type": "stream",
     "text": [
      "\r",
      "Generating walks (CPU: 1):  50%|█████     | 5/10 [00:02<00:02,  1.72it/s]"
     ]
    },
    {
     "name": "stdout",
     "output_type": "stream",
     "text": [
      "Unk percentage: 0.0018660584698320546\n",
      "Unk percentage: 0.0025561684380465493\n",
      "Unk percentage: 0.003468208092485549\n"
     ]
    },
    {
     "name": "stderr",
     "output_type": "stream",
     "text": [
      "\n",
      "Generating walks (CPU: 1): 100%|██████████| 10/10 [00:08<00:00,  1.06it/s]"
     ]
    },
    {
     "name": "stdout",
     "output_type": "stream",
     "text": [
      "Unk percentage: 0.0026642984014209592\n",
      "Unk percentage: 0.0030349013657056147\n"
     ]
    },
    {
     "name": "stderr",
     "output_type": "stream",
     "text": [
      "\r",
      "Generating walks (CPU: 1):  60%|██████    | 6/10 [00:03<00:02,  1.56it/s]"
     ]
    },
    {
     "name": "stdout",
     "output_type": "stream",
     "text": [
      "cluster began\n",
      "cluster end\n",
      "cluster began\n",
      "cluster began\n",
      "cluster end\n",
      "cluster end\n"
     ]
    },
    {
     "name": "stderr",
     "output_type": "stream",
     "text": [
      "\r",
      "Generating walks (CPU: 1):  30%|███       | 3/10 [00:03<00:06,  1.02it/s]"
     ]
    },
    {
     "name": "stdout",
     "output_type": "stream",
     "text": [
      "[(('peace', 'NN'), 104.34285714285684), (('down', 'RB'), 105.1190476190473), (('our', 'PRP$'), 107.10238095238057), (('here', 'RB'), 111.74285714285675), (('i', 'NN'), 113.55238095238056), (('years', 'NNS'), 115.50238095238058), (('you', 'PRP'), 115.88571428571387), (('we', 'PRP'), 117.44285714285672), (('to', 'TO'), 134.22619047619008)] (300,)\n"
     ]
    },
    {
     "name": "stderr",
     "output_type": "stream",
     "text": [
      "Computing transition probabilities:  19%|█▉        | 52/275 [00:00<00:00, 516.07it/s]\n",
      "\n",
      "Generating walks (CPU: 1):  70%|███████   | 7/10 [00:04<00:01,  1.50it/s], 510.99it/s]"
     ]
    },
    {
     "name": "stdout",
     "output_type": "stream",
     "text": [
      "[(('lands', 'NNS'), 119.91666666666633), (('our', 'PRP$'), 120.83333333333294), (('will', 'MD'), 123.033333333333), (('it', 'PRP'), 124.24999999999972), (('us', 'PRP'), 124.74999999999967), (('your', 'PRP$'), 128.16666666666637), (('we', 'PRP'), 133.58333333333334), (('you', 'PRP'), 138.58333333333354), (('to', 'TO'), 147.25000000000028)] (300,)\n"
     ]
    },
    {
     "name": "stderr",
     "output_type": "stream",
     "text": [
      "Computing transition probabilities:  35%|███▌      | 90/256 [00:00<00:00, 432.33it/s]]"
     ]
    },
    {
     "name": "stdout",
     "output_type": "stream",
     "text": [
      "[(('him', 'PRP'), 125.12896825396777), (('terror', 'NN'), 127.64563492063436), (('people', 'NNS'), 128.062301587301), (('i', 'NN'), 130.36230158730092), (('his', 'PRP$'), 132.54563492063411), (('it', 'PRP'), 132.84563492063407), (('our', 'PRP$'), 137.61230158730083), (('we', 'PRP'), 145.11230158730098), (('to', 'TO'), 153.6623015873014)] (300,)\n"
     ]
    },
    {
     "name": "stderr",
     "output_type": "stream",
     "text": [
      "Computing transition probabilities: 100%|██████████| 275/275 [00:00<00:00, 489.58it/s]\n",
      "Computing transition probabilities:  88%|████████▊ | 226/256 [00:00<00:00, 444.72it/s]"
     ]
    },
    {
     "name": "stdout",
     "output_type": "stream",
     "text": [
      "Unk percentage: 0.0036194415718717684\n"
     ]
    },
    {
     "name": "stderr",
     "output_type": "stream",
     "text": [
      "Computing transition probabilities: 100%|██████████| 256/256 [00:00<00:00, 436.02it/s]\n",
      "Generating walks (CPU: 1):   0%|          | 0/10 [00:00<?, ?it/s]"
     ]
    },
    {
     "name": "stdout",
     "output_type": "stream",
     "text": [
      "Unk percentage: 0.0030911901081916537\n"
     ]
    },
    {
     "name": "stderr",
     "output_type": "stream",
     "text": [
      "Computing transition probabilities:  74%|███████▍  | 253/340 [00:00<00:00, 382.05it/s]"
     ]
    },
    {
     "name": "stdout",
     "output_type": "stream",
     "text": [
      "Unk percentage: 0.0028308563340410475\n"
     ]
    },
    {
     "name": "stderr",
     "output_type": "stream",
     "text": [
      "Computing transition probabilities: 100%|██████████| 340/340 [00:00<00:00, 401.34it/s]\n",
      "Generating walks (CPU: 1):   0%|          | 0/10 [00:00<?, ?it/s].11s/it]"
     ]
    },
    {
     "name": "stdout",
     "output_type": "stream",
     "text": [
      "cluster began\n",
      "cluster end\n"
     ]
    },
    {
     "name": "stderr",
     "output_type": "stream",
     "text": [
      "\r",
      "Generating walks (CPU: 1):  90%|█████████ | 9/10 [00:05<00:00,  1.48it/s]"
     ]
    },
    {
     "name": "stdout",
     "output_type": "stream",
     "text": [
      "Unk percentage: 0.0024705221785513757\n"
     ]
    },
    {
     "name": "stderr",
     "output_type": "stream",
     "text": [
      "\r",
      "Generating walks (CPU: 1):  20%|██        | 2/10 [00:01<00:05,  1.48it/s]"
     ]
    },
    {
     "name": "stdout",
     "output_type": "stream",
     "text": [
      "Unk percentage: 0.002806361085126286\n"
     ]
    },
    {
     "name": "stderr",
     "output_type": "stream",
     "text": [
      "\r",
      "Generating walks (CPU: 1):  20%|██        | 2/10 [00:01<00:04,  1.61it/s]"
     ]
    },
    {
     "name": "stdout",
     "output_type": "stream",
     "text": [
      "Unk percentage: 0.0013147323058943833\n",
      "[(('several', 'JJ'), 150.3999999999999), (('them', 'PRP'), 152.53333333333333), (('war', 'NN'), 152.93333333333334), (('will', 'MD'), 153.36666666666676), (('it', 'PRP'), 154.16666666666677), (('harbors', 'NNS'), 155.1000000000001), (('would', 'MD'), 162.7500000000006), (('their', 'PRP$'), 163.11666666666724), (('to', 'TO'), 187.8000000000006)] (300,)\n"
     ]
    },
    {
     "name": "stderr",
     "output_type": "stream",
     "text": [
      "Computing transition probabilities:  18%|█▊        | 64/358 [00:00<00:00, 328.69it/s]"
     ]
    },
    {
     "name": "stdout",
     "output_type": "stream",
     "text": [
      "cluster began\n",
      "cluster end\n"
     ]
    },
    {
     "name": "stderr",
     "output_type": "stream",
     "text": [
      "Computing transition probabilities:  55%|█████▌    | 197/358 [00:00<00:00, 333.15it/s]"
     ]
    },
    {
     "name": "stdout",
     "output_type": "stream",
     "text": [
      "[(('going', 'VBG'), 99.76349206349194), (('world', 'NN'), 99.89682539682528), (('will', 'MD'), 102.68015873015858), (('exports', 'NNS'), 105.28849206349174), (('gold', 'NN'), 108.13849206349164), (('not', 'RB'), 109.93571428571387), (('effect', 'NN'), 110.88849206349164), (('it', 'PRP'), 116.08015873015832), (('to', 'TO'), 128.73849206349163)] (300,)\n"
     ]
    },
    {
     "name": "stderr",
     "output_type": "stream",
     "text": [
      "Computing transition probabilities:  20%|█▉        | 53/271 [00:00<00:00, 525.75it/s]]"
     ]
    },
    {
     "name": "stdout",
     "output_type": "stream",
     "text": [
      "Unk percentage: 0.0031008924519739826\n"
     ]
    },
    {
     "name": "stderr",
     "output_type": "stream",
     "text": [
      "Computing transition probabilities:  76%|███████▌  | 271/358 [00:00<00:00, 349.13it/s]\n",
      "Computing transition probabilities: 100%|██████████| 358/358 [00:01<00:00, 344.18it/s]\n",
      "Computing transition probabilities: 100%|██████████| 271/271 [00:00<00:00, 476.71it/s]\n",
      "Generating walks (CPU: 1):   0%|          | 0/10 [00:00<?, ?it/s]"
     ]
    },
    {
     "name": "stdout",
     "output_type": "stream",
     "text": [
      "Unk percentage: 0.0021415689810640216\n",
      "Unk percentage: 0.015151515151515152\n"
     ]
    },
    {
     "name": "stderr",
     "output_type": "stream",
     "text": [
      "\r",
      "Generating walks (CPU: 1):  60%|██████    | 6/10 [00:07<00:04,  1.23s/it]"
     ]
    },
    {
     "name": "stdout",
     "output_type": "stream",
     "text": [
      "cluster began\n",
      "cluster end\n",
      "[(('never', 'RB'), 41.68571428571428), (('day', 'NN'), 41.786904761904765), ((\"''\", \"''\"), 43.12261904761905), (('service', 'NN'), 43.93571428571427), (('lessons', 'NNS'), 44.0547619047619), (('friendly', 'JJ'), 44.2440476190476), (('his', 'PRP$'), 49.719047619047664), (('he', 'PRP'), 51.676190476190556), ((',', ','), 54.90952380952391)] (300,)\n"
     ]
    },
    {
     "name": "stderr",
     "output_type": "stream",
     "text": [
      "\r",
      "Computing transition probabilities:   0%|          | 0/133 [00:00<?, ?it/s]"
     ]
    },
    {
     "name": "stdout",
     "output_type": "stream",
     "text": [
      "Unk percentage: 0.0022366815778771857\n"
     ]
    },
    {
     "name": "stderr",
     "output_type": "stream",
     "text": [
      "Computing transition probabilities: 100%|██████████| 133/133 [00:00<00:00, 921.96it/s] \n",
      "Generating walks (CPU: 1):  20%|██        | 2/10 [00:01<00:05,  1.45it/s]"
     ]
    },
    {
     "name": "stdout",
     "output_type": "stream",
     "text": [
      "Unk percentage: 0.0034497628288055198\n"
     ]
    },
    {
     "name": "stderr",
     "output_type": "stream",
     "text": [
      "Generating walks (CPU: 1):  70%|███████   | 7/10 [00:08<00:03,  1.31s/it]"
     ]
    },
    {
     "name": "stdout",
     "output_type": "stream",
     "text": [
      "Unk percentage: 0.002529615004935834\n"
     ]
    },
    {
     "name": "stderr",
     "output_type": "stream",
     "text": [
      "Generating walks (CPU: 1):  40%|████      | 4/10 [00:02<00:03,  1.83it/s]"
     ]
    },
    {
     "name": "stdout",
     "output_type": "stream",
     "text": [
      "Unk percentage: 0.005693653659213998\n"
     ]
    },
    {
     "name": "stderr",
     "output_type": "stream",
     "text": [
      "Generating walks (CPU: 1):  30%|███       | 3/10 [00:04<00:09,  1.38s/it]"
     ]
    },
    {
     "name": "stdout",
     "output_type": "stream",
     "text": [
      "Unk percentage: 0.0015353121801432957\n"
     ]
    },
    {
     "name": "stderr",
     "output_type": "stream",
     "text": [
      "\r",
      "Generating walks (CPU: 1):  40%|████      | 4/10 [00:04<00:06,  1.06s/it]"
     ]
    },
    {
     "name": "stdout",
     "output_type": "stream",
     "text": [
      "Unk percentage: 0.004338394793926247\n"
     ]
    },
    {
     "name": "stderr",
     "output_type": "stream",
     "text": [
      "Generating walks (CPU: 1):  60%|██████    | 6/10 [00:07<00:05,  1.32s/it]"
     ]
    },
    {
     "name": "stdout",
     "output_type": "stream",
     "text": [
      "cluster began\n",
      "cluster end\n",
      "[(('impost', 'NN'), 49.516666666666765), (('president', 'NN'), 50.58333333333344), (('duties', 'NNS'), 51.58333333333344), (('to', 'TO'), 51.60000000000009), (('so', 'RB'), 51.73333333333344), (('his', 'PRP$'), 52.53333333333344), ((\"''\", \"''\"), 53.76666666666677), (('states', 'NNS'), 55.08333333333343), (('vessels', 'NNS'), 57.03333333333342)] (300,)\n"
     ]
    },
    {
     "name": "stderr",
     "output_type": "stream",
     "text": [
      "Computing transition probabilities: 100%|██████████| 121/121 [00:00<00:00, 837.21it/s]\n",
      "Generating walks (CPU: 1):  80%|████████  | 8/10 [00:10<00:02,  1.41s/it]]\n",
      "Generating walks (CPU: 1):  60%|██████    | 6/10 [00:02<00:01,  2.02it/s]\n"
     ]
    },
    {
     "name": "stdout",
     "output_type": "stream",
     "text": [
      "Unk percentage: 0.006094627105052125\n"
     ]
    },
    {
     "name": "stderr",
     "output_type": "stream",
     "text": [
      "Generating walks (CPU: 1):  80%|████████  | 8/10 [00:04<00:01,  1.90it/s]"
     ]
    },
    {
     "name": "stdout",
     "output_type": "stream",
     "text": [
      "Unk percentage: 0.0025311115798354778\n"
     ]
    },
    {
     "name": "stderr",
     "output_type": "stream",
     "text": [
      "Generating walks (CPU: 1):  70%|███████   | 7/10 [00:11<00:05,  1.73s/it]]"
     ]
    },
    {
     "name": "stdout",
     "output_type": "stream",
     "text": [
      "Unk percentage: 0.012448132780082987\n"
     ]
    },
    {
     "name": "stderr",
     "output_type": "stream",
     "text": [
      "\r",
      "Generating walks (CPU: 1):  90%|█████████ | 9/10 [00:04<00:00,  1.90it/s]"
     ]
    },
    {
     "name": "stdout",
     "output_type": "stream",
     "text": [
      "Unk percentage: 0.001100715465052284\n",
      "cluster began\n",
      "Unk percentage: 0.0009144947416552355\n",
      "cluster end\n",
      "[(('shall', 'MD'), 26.785714285714278), (('states', 'NNS'), 27.101190476190467), (('we', 'PRP'), 27.19285714285713), (('conference', 'NN'), 27.451190476190465), (('american', 'JJ'), 27.684523809523796), ((\"''\", \"''\"), 27.851190476190464), (('UNK', 'NNP'), 29.092857142857117), ((',', ','), 29.099999999999984), (('you', 'PRP'), 30.119047619047592)] (300,)\n"
     ]
    },
    {
     "name": "stderr",
     "output_type": "stream",
     "text": [
      "\r",
      "Computing transition probabilities:   0%|          | 0/81 [00:00<?, ?it/s]"
     ]
    },
    {
     "name": "stdout",
     "output_type": "stream",
     "text": [
      "Unk percentage: 0.0028368794326241137\n"
     ]
    },
    {
     "name": "stderr",
     "output_type": "stream",
     "text": [
      "Computing transition probabilities: 100%|██████████| 81/81 [00:00<00:00, 1333.14it/s]\n",
      "Generating walks (CPU: 1):  20%|██        | 2/10 [00:00<00:01,  5.14it/s]]\n"
     ]
    },
    {
     "name": "stdout",
     "output_type": "stream",
     "text": [
      "cluster began\n"
     ]
    },
    {
     "name": "stderr",
     "output_type": "stream",
     "text": [
      "\r",
      "Generating walks (CPU: 1):  60%|██████    | 6/10 [00:10<00:07,  1.87s/it]"
     ]
    },
    {
     "name": "stdout",
     "output_type": "stream",
     "text": [
      "cluster end\n"
     ]
    },
    {
     "name": "stderr",
     "output_type": "stream",
     "text": [
      "\n",
      "Generating walks (CPU: 1):  40%|████      | 4/10 [00:01<00:01,  3.17it/s]]"
     ]
    },
    {
     "name": "stdout",
     "output_type": "stream",
     "text": [
      "[(('us', 'PRP'), 135.9499999999991), (('--', ':'), 139.81666666666587), (('can', 'MD'), 141.36666666666594), (('it', 'PRP'), 150.58333333333326), (('who', 'WP'), 150.94999999999993), (('day', 'NN'), 151.46666666666667), (('we', 'PRP'), 152.55), (('our', 'PRP$'), 154.3166666666666), (('to', 'TO'), 168.6333333333342)] (300,)\n"
     ]
    },
    {
     "name": "stderr",
     "output_type": "stream",
     "text": [
      "\r",
      "Computing transition probabilities:   0%|          | 0/344 [00:00<?, ?it/s]"
     ]
    },
    {
     "name": "stdout",
     "output_type": "stream",
     "text": [
      "Unk percentage: 0.0032626427406199023\n"
     ]
    },
    {
     "name": "stderr",
     "output_type": "stream",
     "text": [
      "Computing transition probabilities:  81%|████████  | 279/344 [00:00<00:00, 316.84it/s]"
     ]
    },
    {
     "name": "stdout",
     "output_type": "stream",
     "text": [
      "Unk percentage: 0.005140371688414393\n",
      "cluster began\n",
      "cluster end\n"
     ]
    },
    {
     "name": "stderr",
     "output_type": "stream",
     "text": [
      "Computing transition probabilities: 100%|██████████| 344/344 [00:00<00:00, 362.51it/s]\n",
      "Generating walks (CPU: 1):   0%|          | 0/10 [00:00<?, ?it/s]"
     ]
    },
    {
     "name": "stdout",
     "output_type": "stream",
     "text": [
      "Unk percentage: 0.004457050243111832\n"
     ]
    },
    {
     "name": "stderr",
     "output_type": "stream",
     "text": [
      "\n"
     ]
    },
    {
     "name": "stdout",
     "output_type": "stream",
     "text": [
      "Unk percentage: 0.006493506493506494\n"
     ]
    },
    {
     "name": "stderr",
     "output_type": "stream",
     "text": [
      "Generating walks (CPU: 1): 100%|██████████| 10/10 [00:12<00:00,  1.38s/it]"
     ]
    },
    {
     "name": "stdout",
     "output_type": "stream",
     "text": [
      "[(('my', 'PRP$'), 150.69999999999897), (('shall', 'MD'), 151.56666666666595), (('revenue', 'NN'), 152.08333333333275), (('me', 'PRP'), 154.48333333333278), (('it', 'PRP'), 157.64999999999964), (('will', 'MD'), 162.58333333333337), (('their', 'PRP$'), 162.81666666666663), (('our', 'PRP$'), 168.51666666666688), (('to', 'TO'), 203.06666666666743)] (300,)\n"
     ]
    },
    {
     "name": "stderr",
     "output_type": "stream",
     "text": [
      "\r",
      "Computing transition probabilities:   0%|          | 0/388 [00:00<?, ?it/s]"
     ]
    },
    {
     "name": "stdout",
     "output_type": "stream",
     "text": [
      "cluster began\n"
     ]
    },
    {
     "name": "stderr",
     "output_type": "stream",
     "text": [
      "\r",
      "Generating walks (CPU: 1):  70%|███████   | 7/10 [00:13<00:06,  2.03s/it]"
     ]
    },
    {
     "name": "stdout",
     "output_type": "stream",
     "text": [
      "cluster end\n"
     ]
    },
    {
     "name": "stderr",
     "output_type": "stream",
     "text": [
      "Computing transition probabilities:  42%|████▏     | 164/388 [00:00<00:00, 321.13it/s]"
     ]
    },
    {
     "name": "stdout",
     "output_type": "stream",
     "text": [
      "[(('us', 'PRP'), 114.97619047619001), (('i', 'NN'), 114.99285714285669), (('not', 'RB'), 117.65952380952339), (('will', 'MD'), 118.15952380952338), (('her', 'PRP$'), 123.39285714285671), (('spain', 'NN'), 125.89285714285671), (('it', 'PRP'), 126.49285714285675), (('our', 'PRP$'), 130.98333333333275), ((',', ','), 146.93333333333345)] (300,)\n"
     ]
    },
    {
     "name": "stderr",
     "output_type": "stream",
     "text": [
      "Computing transition probabilities:  83%|████████▎ | 322/388 [00:01<00:00, 287.18it/s]"
     ]
    },
    {
     "name": "stdout",
     "output_type": "stream",
     "text": [
      "Unk percentage: 0.00112943302462164\n"
     ]
    },
    {
     "name": "stderr",
     "output_type": "stream",
     "text": [
      "Computing transition probabilities:  76%|███████▌  | 216/286 [00:00<00:00, 398.04it/s]\n",
      "Computing transition probabilities: 100%|██████████| 388/388 [00:01<00:00, 304.95it/s]\n",
      "Generating walks (CPU: 1):   0%|          | 0/10 [00:00<?, ?it/s]\n",
      "Computing transition probabilities: 100%|██████████| 286/286 [00:00<00:00, 381.69it/s]\n",
      "Generating walks (CPU: 1):  20%|██        | 2/10 [00:02<00:08,  1.06s/it]"
     ]
    },
    {
     "name": "stdout",
     "output_type": "stream",
     "text": [
      "Unk percentage: 0.001092896174863388\n",
      "Unk percentage: 0.0027726432532347504\n",
      "Unk percentage: 0.00368052999631947\n",
      "cluster began\n",
      "cluster end\n"
     ]
    },
    {
     "name": "stderr",
     "output_type": "stream",
     "text": [
      "\r",
      "Generating walks (CPU: 1): 100%|██████████| 10/10 [00:17<00:00,  1.85s/it]"
     ]
    },
    {
     "name": "stdout",
     "output_type": "stream",
     "text": [
      "[(('united', 'JJ'), 85.74285714285703), (('not', 'RB'), 86.26071428571412), (('land', 'NN'), 87.51071428571409), ((\"''\", \"''\"), 87.76071428571412), (('lands', 'NNS'), 88.76071428571404), (('allotments', 'NNS'), 91.05119047619023), (('shall', 'MD'), 93.51071428571406), (('act', 'NN'), 102.65119047619028), (('to', 'TO'), 106.73571428571411)] (300,)\n"
     ]
    },
    {
     "name": "stderr",
     "output_type": "stream",
     "text": [
      "Computing transition probabilities:  25%|██▌       | 52/206 [00:00<00:00, 508.45it/s]"
     ]
    },
    {
     "name": "stdout",
     "output_type": "stream",
     "text": [
      "cluster began\n",
      "cluster end\n"
     ]
    },
    {
     "name": "stderr",
     "output_type": "stream",
     "text": [
      "Computing transition probabilities: 100%|██████████| 206/206 [00:00<00:00, 491.09it/s]\n",
      "Generating walks (CPU: 1):   0%|          | 0/10 [00:00<?, ?it/s]"
     ]
    },
    {
     "name": "stdout",
     "output_type": "stream",
     "text": [
      "Unk percentage: 0.00658157159952134\n",
      "[(('americans', 'NNS'), 138.44999999999933), (('sons', 'NNS'), 138.58333333333272), (('they', 'PRP'), 140.76666666666603), (('us', 'PRP'), 142.03333333333285), (('our', 'PRP$'), 144.1999999999996), (('who', 'WP'), 148.54999999999984), (('their', 'PRP$'), 154.1666666666668), (('we', 'PRP'), 156.616666666667), (('to', 'TO'), 164.1333333333341)] (300,)\n"
     ]
    },
    {
     "name": "stderr",
     "output_type": "stream",
     "text": [
      "Computing transition probabilities:  21%|██        | 70/335 [00:00<00:00, 359.07it/s]"
     ]
    },
    {
     "name": "stdout",
     "output_type": "stream",
     "text": [
      "Unk percentage: 0.0046452026269421754\n"
     ]
    },
    {
     "name": "stderr",
     "output_type": "stream",
     "text": [
      "Computing transition probabilities:  49%|████▊     | 163/335 [00:00<00:00, 324.39it/s]"
     ]
    },
    {
     "name": "stdout",
     "output_type": "stream",
     "text": [
      "Unk percentage: 0.002631578947368421\n"
     ]
    },
    {
     "name": "stderr",
     "output_type": "stream",
     "text": [
      "Computing transition probabilities:  96%|█████████▌| 321/335 [00:01<00:00, 315.86it/s]\n",
      "Computing transition probabilities: 100%|██████████| 335/335 [00:01<00:00, 312.14it/s]\n",
      "Generating walks (CPU: 1):   0%|          | 0/10 [00:00<?, ?it/s]"
     ]
    },
    {
     "name": "stdout",
     "output_type": "stream",
     "text": [
      "cluster began\n",
      "cluster end\n"
     ]
    },
    {
     "name": "stderr",
     "output_type": "stream",
     "text": [
      "Generating walks (CPU: 1):  30%|███       | 3/10 [00:02<00:05,  1.39it/s]"
     ]
    },
    {
     "name": "stdout",
     "output_type": "stream",
     "text": [
      "[(('many', 'JJ'), 143.80238095237993), (('it', 'PRP'), 145.45119047618945), (('work', 'NN'), 147.85238095238003), (('community', 'NN'), 150.92619047618965), (('who', 'WP'), 151.1428571428564), (('citizens', 'NNS'), 152.79285714285663), (('we', 'PRP'), 163.25952380952393), (('our', 'PRP$'), 180.6500000000011), (('to', 'TO'), 196.56666666666752)] (300,)\n"
     ]
    },
    {
     "name": "stderr",
     "output_type": "stream",
     "text": [
      "Computing transition probabilities:  68%|██████▊   | 263/386 [00:00<00:00, 368.95it/s]"
     ]
    },
    {
     "name": "stdout",
     "output_type": "stream",
     "text": [
      "Unk percentage: 0.0012322858903265558\n"
     ]
    },
    {
     "name": "stderr",
     "output_type": "stream",
     "text": [
      "Computing transition probabilities:  87%|████████▋ | 336/386 [00:00<00:00, 351.81it/s]"
     ]
    },
    {
     "name": "stdout",
     "output_type": "stream",
     "text": [
      "Unk percentage: 0.00142602495543672\n"
     ]
    },
    {
     "name": "stderr",
     "output_type": "stream",
     "text": [
      "Computing transition probabilities: 100%|██████████| 386/386 [00:01<00:00, 355.12it/s]\n",
      "Generating walks (CPU: 1):   0%|          | 0/10 [00:00<?, ?it/s]"
     ]
    },
    {
     "name": "stdout",
     "output_type": "stream",
     "text": [
      "Unk percentage: 0.0013192612137203166\n",
      "Unk percentage: 0.002427675500708072\n"
     ]
    },
    {
     "name": "stderr",
     "output_type": "stream",
     "text": [
      "\r",
      "Generating walks (CPU: 1):  50%|█████     | 5/10 [00:07<00:07,  1.57s/it]"
     ]
    },
    {
     "name": "stdout",
     "output_type": "stream",
     "text": [
      "Unk percentage: 0.0006879944960440316\n"
     ]
    },
    {
     "name": "stderr",
     "output_type": "stream",
     "text": [
      "\r",
      "Generating walks (CPU: 1):  50%|█████     | 5/10 [00:04<00:04,  1.06it/s]"
     ]
    },
    {
     "name": "stdout",
     "output_type": "stream",
     "text": [
      "Unk percentage: 0.0020539152759948653\n",
      "Unk percentage: 0.0024394820791893415\n"
     ]
    },
    {
     "name": "stderr",
     "output_type": "stream",
     "text": [
      "\r",
      "Generating walks (CPU: 1):  50%|█████     | 5/10 [00:06<00:06,  1.32s/it]"
     ]
    },
    {
     "name": "stdout",
     "output_type": "stream",
     "text": [
      "Unk percentage: 0.0013507429085997298\n"
     ]
    },
    {
     "name": "stderr",
     "output_type": "stream",
     "text": [
      "\r",
      "Generating walks (CPU: 1):  30%|███       | 3/10 [00:03<00:08,  1.20s/it]"
     ]
    },
    {
     "name": "stdout",
     "output_type": "stream",
     "text": [
      "Unk percentage: 0.0023832221163012394\n"
     ]
    },
    {
     "name": "stderr",
     "output_type": "stream",
     "text": [
      "Generating walks (CPU: 1):  40%|████      | 4/10 [00:06<00:10,  1.71s/it]\n",
      "Generating walks (CPU: 1):  60%|██████    | 6/10 [00:05<00:03,  1.03it/s]"
     ]
    },
    {
     "name": "stdout",
     "output_type": "stream",
     "text": [
      "Unk percentage: 0.003234501347708895\n"
     ]
    },
    {
     "name": "stderr",
     "output_type": "stream",
     "text": [
      "\r",
      "Generating walks (CPU: 1):  20%|██        | 2/10 [00:02<00:08,  1.06s/it]"
     ]
    },
    {
     "name": "stdout",
     "output_type": "stream",
     "text": [
      "Unk percentage: 0.0043821209465381246\n"
     ]
    },
    {
     "name": "stderr",
     "output_type": "stream",
     "text": [
      "\r",
      "Generating walks (CPU: 1):  60%|██████    | 6/10 [00:09<00:06,  1.64s/it]"
     ]
    },
    {
     "name": "stdout",
     "output_type": "stream",
     "text": [
      "cluster began\n"
     ]
    },
    {
     "name": "stderr",
     "output_type": "stream",
     "text": [
      "\r",
      "Generating walks (CPU: 1):  70%|███████   | 7/10 [00:06<00:02,  1.01it/s]"
     ]
    },
    {
     "name": "stdout",
     "output_type": "stream",
     "text": [
      "cluster end\n"
     ]
    },
    {
     "name": "stderr",
     "output_type": "stream",
     "text": [
      "Generating walks (CPU: 1):  40%|████      | 4/10 [00:05<00:08,  1.40s/it]"
     ]
    },
    {
     "name": "stdout",
     "output_type": "stream",
     "text": [
      "[(('corps', 'NN'), 128.69285714285652), (('message', 'NN'), 129.5928571428565), (('heroes', 'NNS'), 131.4761904761898), (('them', 'PRP'), 134.7595238095231), (('who', 'WP'), 136.29999999999933), (('their', 'PRP$'), 137.68333333333268), (('we', 'PRP'), 143.57619047619008), (('our', 'PRP$'), 153.77619047619058), (('to', 'TO'), 177.57619047619113)] (300,)\n"
     ]
    },
    {
     "name": "stderr",
     "output_type": "stream",
     "text": [
      "Computing transition probabilities:  26%|██▌       | 85/326 [00:00<00:00, 416.83it/s]"
     ]
    },
    {
     "name": "stdout",
     "output_type": "stream",
     "text": [
      "Unk percentage: 0.004171011470281543\n"
     ]
    },
    {
     "name": "stderr",
     "output_type": "stream",
     "text": [
      "Computing transition probabilities:  75%|███████▍  | 243/326 [00:00<00:00, 376.31it/s]"
     ]
    },
    {
     "name": "stdout",
     "output_type": "stream",
     "text": [
      "cluster began\n",
      "cluster end\n"
     ]
    },
    {
     "name": "stderr",
     "output_type": "stream",
     "text": [
      "Computing transition probabilities: 100%|██████████| 326/326 [00:00<00:00, 362.43it/s]\n",
      "Generating walks (CPU: 1):   0%|          | 0/10 [00:00<?, ?it/s]"
     ]
    },
    {
     "name": "stdout",
     "output_type": "stream",
     "text": [
      "[(('men', 'NNS'), 98.81666666666634), (('not', 'RB'), 100.81666666666632), (('them', 'PRP'), 101.39999999999968), (('our', 'PRP$'), 101.3999999999997), (('will', 'MD'), 106.31666666666648), (('it', 'PRP'), 111.73333333333309), (('your', 'PRP$'), 114.23333333333309), (('you', 'PRP'), 116.6499999999998), (('to', 'TO'), 134.28333333333345)] (300,)\n"
     ]
    },
    {
     "name": "stderr",
     "output_type": "stream",
     "text": [
      "Computing transition probabilities: 100%|██████████| 222/222 [00:00<00:00, 489.55it/s]\n",
      "Generating walks (CPU: 1):  40%|████      | 4/10 [00:06<00:10,  1.68s/it]]\n",
      "Generating walks (CPU: 1):  90%|█████████ | 9/10 [00:14<00:01,  1.76s/it]"
     ]
    },
    {
     "name": "stdout",
     "output_type": "stream",
     "text": [
      "Unk percentage: 0.011363636363636364\n"
     ]
    },
    {
     "name": "stderr",
     "output_type": "stream",
     "text": [
      "\r",
      "Generating walks (CPU: 1):  40%|████      | 4/10 [00:03<00:05,  1.13it/s]"
     ]
    },
    {
     "name": "stdout",
     "output_type": "stream",
     "text": [
      "cluster began\n",
      "cluster end\n"
     ]
    },
    {
     "name": "stderr",
     "output_type": "stream",
     "text": [
      "\r",
      "Generating walks (CPU: 1):  70%|███████   | 7/10 [00:13<00:06,  2.04s/it]"
     ]
    },
    {
     "name": "stdout",
     "output_type": "stream",
     "text": [
      "[(('mr.', 'NN'), 44.133453942857976), (('affairs', 'NNS'), 44.44059680000085), (('january', 'JJ'), 45.27393013333418), (('note', 'NN'), 46.31440632381038), (('UNK', 'NNP'), 46.940596800000876), (('me', 'PRP'), 47.28107299047708), (('blaine', 'NN'), 47.39773965714375), (('our', 'PRP$'), 49.39773965714378), (('to', 'TO'), 58.628441411529764)] (300,)\n"
     ]
    },
    {
     "name": "stderr",
     "output_type": "stream",
     "text": [
      "Computing transition probabilities: 100%|██████████| 134/134 [00:00<00:00, 1016.08it/s]\n",
      "Generating walks (CPU: 1):  30%|███       | 3/10 [00:01<00:02,  2.57it/s]]\n",
      "Generating walks (CPU: 1):  50%|█████     | 5/10 [00:06<00:07,  1.41s/it]\n"
     ]
    },
    {
     "name": "stdout",
     "output_type": "stream",
     "text": [
      "Unk percentage: 0.0030547070258261596\n"
     ]
    },
    {
     "name": "stderr",
     "output_type": "stream",
     "text": [
      "\r",
      "Generating walks (CPU: 1):  70%|███████   | 7/10 [00:06<00:03,  1.02s/it]"
     ]
    },
    {
     "name": "stdout",
     "output_type": "stream",
     "text": [
      "Unk percentage: 0.01002004008016032\n"
     ]
    },
    {
     "name": "stderr",
     "output_type": "stream",
     "text": [
      "\r",
      "Generating walks (CPU: 1):  60%|██████    | 6/10 [00:03<00:02,  1.81it/s]"
     ]
    },
    {
     "name": "stdout",
     "output_type": "stream",
     "text": [
      "cluster began\n",
      "cluster end\n"
     ]
    },
    {
     "name": "stderr",
     "output_type": "stream",
     "text": [
      "\r",
      "Generating walks (CPU: 1):  90%|█████████ | 9/10 [00:14<00:01,  1.71s/it]"
     ]
    },
    {
     "name": "stdout",
     "output_type": "stream",
     "text": [
      "[(('persons', 'NNS'), 63.21666666666679), (('his', 'PRP$'), 63.26666666666679), (('citizens', 'NNS'), 63.30000000000013), ((';', ':'), 64.26666666666681), (('states', 'NNS'), 64.60000000000012), (('united', 'JJ'), 64.85000000000014), (('UNK', 'NNP'), 66.18333333333347), (('same', 'JJ'), 66.18333333333347), (('to', 'TO'), 78.26666666666652)] (300,)\n"
     ]
    },
    {
     "name": "stderr",
     "output_type": "stream",
     "text": [
      "Computing transition probabilities: 100%|██████████| 151/151 [00:00<00:00, 590.98it/s]\n",
      "Generating walks (CPU: 1):  20%|██        | 2/10 [00:00<00:02,  2.93it/s]"
     ]
    },
    {
     "name": "stdout",
     "output_type": "stream",
     "text": [
      "Unk percentage: 0.003127443315089914\n"
     ]
    },
    {
     "name": "stderr",
     "output_type": "stream",
     "text": [
      "Generating walks (CPU: 1):  30%|███       | 3/10 [00:01<00:03,  2.15it/s]]"
     ]
    },
    {
     "name": "stdout",
     "output_type": "stream",
     "text": [
      "cluster began\n",
      "cluster end\n"
     ]
    },
    {
     "name": "stderr",
     "output_type": "stream",
     "text": [
      "Generating walks (CPU: 1): 100%|██████████| 10/10 [00:10<00:00,  1.09s/it]"
     ]
    },
    {
     "name": "stdout",
     "output_type": "stream",
     "text": [
      "[(('not', 'RB'), 131.82182539682472), (('atomic', 'JJ'), 132.0384920634914), (('many', 'JJ'), 135.0837301587292), (('we', 'PRP'), 136.63373015872915), (('war', 'NN'), 136.8480158730149), (('they', 'PRP'), 137.53134920634815), (('power', 'NN'), 137.74087301587195), (('it', 'PRP'), 147.34563492063404), (('to', 'TO'), 169.09563492063532)] (300,)\n"
     ]
    },
    {
     "name": "stderr",
     "output_type": "stream",
     "text": [
      "Generating walks (CPU: 1): 100%|██████████| 10/10 [00:20<00:00,  2.20s/it]]\n",
      "Generating walks (CPU: 1):  50%|█████     | 5/10 [00:03<00:03,  1.53it/s], 300.45it/s]\n",
      "Computing transition probabilities:  59%|█████▉    | 217/368 [00:00<00:00, 329.41it/s]"
     ]
    },
    {
     "name": "stdout",
     "output_type": "stream",
     "text": [
      "Unk percentage: 0.002266431629312516\n"
     ]
    },
    {
     "name": "stderr",
     "output_type": "stream",
     "text": [
      "Computing transition probabilities:  90%|████████▉ | 331/368 [00:00<00:00, 357.81it/s]"
     ]
    },
    {
     "name": "stdout",
     "output_type": "stream",
     "text": [
      "Unk percentage: 0.001403180542563143\n"
     ]
    },
    {
     "name": "stderr",
     "output_type": "stream",
     "text": [
      "Computing transition probabilities: 100%|██████████| 368/368 [00:01<00:00, 361.14it/s]\n",
      "Generating walks (CPU: 1):   0%|          | 0/10 [00:00<?, ?it/s]\n"
     ]
    },
    {
     "name": "stdout",
     "output_type": "stream",
     "text": [
      "Unk percentage: 0.00529567519858782\n"
     ]
    },
    {
     "name": "stderr",
     "output_type": "stream",
     "text": [
      "Generating walks (CPU: 1):  80%|████████  | 8/10 [00:12<00:03,  1.70s/it]"
     ]
    },
    {
     "name": "stdout",
     "output_type": "stream",
     "text": [
      "cluster began\n",
      "cluster end\n"
     ]
    },
    {
     "name": "stderr",
     "output_type": "stream",
     "text": [
      "Generating walks (CPU: 1):  90%|█████████ | 9/10 [00:17<00:02,  2.05s/it]"
     ]
    },
    {
     "name": "stdout",
     "output_type": "stream",
     "text": [
      "Unk percentage: 0.005141388174807198\n"
     ]
    },
    {
     "name": "stderr",
     "output_type": "stream",
     "text": [
      "\n"
     ]
    },
    {
     "name": "stdout",
     "output_type": "stream",
     "text": [
      "Unk percentage: 0.003446115288220551\n",
      "[(('would', 'MD'), 137.3285714285705), (('well', 'RB'), 138.11190476190384), (('will', 'MD'), 139.01904761904666), (('us', 'PRP'), 141.2023809523801), (('our', 'PRP$'), 143.1595238095229), (('it', 'PRP'), 145.11904761904685), (('you', 'PRP'), 145.26904761904686), (('we', 'PRP'), 148.76190476190422), (('to', 'TO'), 168.96904761904813)] (300,)\n"
     ]
    },
    {
     "name": "stderr",
     "output_type": "stream",
     "text": [
      "\r",
      "Computing transition probabilities:   0%|          | 0/358 [00:00<?, ?it/s]"
     ]
    },
    {
     "name": "stdout",
     "output_type": "stream",
     "text": [
      "Unk percentage: 0.003943908851884312\n"
     ]
    },
    {
     "name": "stderr",
     "output_type": "stream",
     "text": [
      "\r",
      "Computing transition probabilities:  11%|█         | 40/358 [00:00<00:00, 394.11it/s]"
     ]
    },
    {
     "name": "stdout",
     "output_type": "stream",
     "text": [
      "Unk percentage: 0.0028146361077603537\n"
     ]
    },
    {
     "name": "stderr",
     "output_type": "stream",
     "text": [
      "\r",
      "Computing transition probabilities:  23%|██▎       | 83/358 [00:00<00:00, 401.92it/s]"
     ]
    },
    {
     "name": "stdout",
     "output_type": "stream",
     "text": [
      "Unk percentage: 0.004739336492890996\n"
     ]
    },
    {
     "name": "stderr",
     "output_type": "stream",
     "text": [
      "Computing transition probabilities:  46%|████▌     | 165/358 [00:00<00:00, 403.24it/s]"
     ]
    },
    {
     "name": "stdout",
     "output_type": "stream",
     "text": [
      "Unk percentage: 0.0016062413951353832\n"
     ]
    },
    {
     "name": "stderr",
     "output_type": "stream",
     "text": [
      "Computing transition probabilities:  63%|██████▎   | 226/358 [00:00<00:00, 318.30it/s]"
     ]
    },
    {
     "name": "stdout",
     "output_type": "stream",
     "text": [
      "cluster began\n",
      "cluster end\n"
     ]
    },
    {
     "name": "stderr",
     "output_type": "stream",
     "text": [
      "Computing transition probabilities:  83%|████████▎ | 297/358 [00:00<00:00, 329.31it/s]"
     ]
    },
    {
     "name": "stdout",
     "output_type": "stream",
     "text": [
      "Unk percentage: 0.00199203187250996\n"
     ]
    },
    {
     "name": "stderr",
     "output_type": "stream",
     "text": [
      "Computing transition probabilities: 100%|██████████| 358/358 [00:01<00:00, 345.04it/s]\n",
      "Generating walks (CPU: 1):  90%|█████████ | 9/10 [00:06<00:00,  1.35it/s]"
     ]
    },
    {
     "name": "stdout",
     "output_type": "stream",
     "text": [
      "[(('they', 'PRP'), 108.4595238095234), (('it', 'PRP'), 108.62619047619009), (('their', 'PRP$'), 108.9595238095234), (('we', 'PRP'), 109.54285714285679), (('will', 'MD'), 110.70952380952342), (('lands', 'NNS'), 110.70952380952347), (('you', 'PRP'), 120.79285714285687), (('your', 'PRP$'), 124.7595238095235), (('to', 'TO'), 140.459523809524)] (300,)\n"
     ]
    },
    {
     "name": "stderr",
     "output_type": "stream",
     "text": [
      "\r",
      "Computing transition probabilities:   0%|          | 0/248 [00:00<?, ?it/s]"
     ]
    },
    {
     "name": "stdout",
     "output_type": "stream",
     "text": [
      "Unk percentage: 0.0006749915626054674\n"
     ]
    },
    {
     "name": "stderr",
     "output_type": "stream",
     "text": [
      "Computing transition probabilities:  40%|████      | 100/248 [00:00<00:00, 491.22it/s]"
     ]
    },
    {
     "name": "stdout",
     "output_type": "stream",
     "text": [
      "Unk percentage: 0.0009830425165888424\n"
     ]
    },
    {
     "name": "stderr",
     "output_type": "stream",
     "text": [
      "Computing transition probabilities:  79%|███████▉  | 196/248 [00:00<00:00, 485.72it/s]"
     ]
    },
    {
     "name": "stdout",
     "output_type": "stream",
     "text": [
      "Unk percentage: 0.001610305958132045\n"
     ]
    },
    {
     "name": "stderr",
     "output_type": "stream",
     "text": [
      "Computing transition probabilities: 100%|██████████| 248/248 [00:00<00:00, 482.75it/s]\n",
      "Generating walks (CPU: 1):   0%|          | 0/10 [00:00<?, ?it/s]"
     ]
    },
    {
     "name": "stdout",
     "output_type": "stream",
     "text": [
      "Unk percentage: 0.00211118930330753\n"
     ]
    },
    {
     "name": "stderr",
     "output_type": "stream",
     "text": [
      "Generating walks (CPU: 1): 100%|██████████| 10/10 [00:06<00:00,  1.35it/s]"
     ]
    },
    {
     "name": "stdout",
     "output_type": "stream",
     "text": [
      "Unk percentage: 0.003063993696927252\n",
      "cluster began\n",
      "cluster end\n"
     ]
    },
    {
     "name": "stderr",
     "output_type": "stream",
     "text": [
      "Generating walks (CPU: 1): 100%|██████████| 10/10 [00:16<00:00,  1.77s/it]\n",
      "Generating walks (CPU: 1):  20%|██        | 2/10 [00:01<00:04,  1.69it/s]"
     ]
    },
    {
     "name": "stdout",
     "output_type": "stream",
     "text": [
      "Unk percentage: 0.003108003108003108\n"
     ]
    },
    {
     "name": "stderr",
     "output_type": "stream",
     "text": [
      "\r",
      "Generating walks (CPU: 1):  20%|██        | 2/10 [00:02<00:08,  1.01s/it]"
     ]
    },
    {
     "name": "stdout",
     "output_type": "stream",
     "text": [
      "[(('government', 'NN'), 143.53333333333293), (('our', 'PRP$'), 143.9666666666662), (('must', 'MD'), 144.18333333333288), (('can', 'MD'), 144.63333333333307), (('it', 'PRP'), 147.88333333333327), (('not', 'RB'), 149.56666666666675), (('will', 'MD'), 150.9833333333334), (('lebanon', 'NN'), 155.60000000000036), ((',', ','), 186.36666666666733)] (300,)\n"
     ]
    },
    {
     "name": "stderr",
     "output_type": "stream",
     "text": [
      "Computing transition probabilities:  25%|██▍       | 83/335 [00:00<00:00, 269.24it/s]"
     ]
    },
    {
     "name": "stdout",
     "output_type": "stream",
     "text": [
      "Unk percentage: 0.0029115341545352742\n"
     ]
    },
    {
     "name": "stderr",
     "output_type": "stream",
     "text": [
      "\r",
      "Computing transition probabilities:  36%|███▌      | 120/335 [00:00<00:00, 291.79it/s]"
     ]
    },
    {
     "name": "stdout",
     "output_type": "stream",
     "text": [
      "cluster began\n",
      "cluster end\n"
     ]
    },
    {
     "name": "stderr",
     "output_type": "stream",
     "text": [
      "Computing transition probabilities:  69%|██████▊   | 230/335 [00:00<00:00, 336.52it/s]"
     ]
    },
    {
     "name": "stdout",
     "output_type": "stream",
     "text": [
      "Unk percentage: 0.001827318410232983\n"
     ]
    },
    {
     "name": "stderr",
     "output_type": "stream",
     "text": [
      "Computing transition probabilities:  79%|███████▉  | 266/335 [00:00<00:00, 341.55it/s]\n",
      "Generating walks (CPU: 1):  30%|███       | 3/10 [00:02<00:05,  1.27it/s], 353.40it/s]"
     ]
    },
    {
     "name": "stdout",
     "output_type": "stream",
     "text": [
      "Unk percentage: 0.004017531044558071\n"
     ]
    },
    {
     "name": "stderr",
     "output_type": "stream",
     "text": [
      "Computing transition probabilities: 100%|██████████| 335/335 [00:01<00:00, 329.87it/s]\n",
      "Generating walks (CPU: 1):   0%|          | 0/10 [00:00<?, ?it/s]"
     ]
    },
    {
     "name": "stdout",
     "output_type": "stream",
     "text": [
      "Unk percentage: 0.0075294117647058826\n",
      "[(('states', 'NNS'), 142.50952380952313), (('so', 'RB'), 143.3428571428566), (('people', 'NNS'), 144.81785714285658), (('their', 'PRP$'), 146.34285714285664), (('will', 'MD'), 148.59285714285684), (('government', 'NN'), 153.27619047619052), (('my', 'PRP$'), 158.7261904761907), (('our', 'PRP$'), 163.74285714285773), (('to', 'TO'), 191.01666666666742)] (300,)\n"
     ]
    },
    {
     "name": "stderr",
     "output_type": "stream",
     "text": [
      "Computing transition probabilities:  11%|█▏        | 40/352 [00:00<00:00, 394.11it/s]"
     ]
    },
    {
     "name": "stdout",
     "output_type": "stream",
     "text": [
      "Unk percentage: 0.002348106838861168\n"
     ]
    },
    {
     "name": "stderr",
     "output_type": "stream",
     "text": [
      "Computing transition probabilities:  34%|███▍      | 119/352 [00:00<00:00, 390.82it/s]"
     ]
    },
    {
     "name": "stdout",
     "output_type": "stream",
     "text": [
      "Unk percentage: 0.0012300123001230013\n"
     ]
    },
    {
     "name": "stderr",
     "output_type": "stream",
     "text": [
      "\n",
      "Computing transition probabilities:  55%|█████▌    | 195/352 [00:00<00:00, 383.12it/s]"
     ]
    },
    {
     "name": "stdout",
     "output_type": "stream",
     "text": [
      "Unk percentage: 0.0014574224443056423\n"
     ]
    },
    {
     "name": "stderr",
     "output_type": "stream",
     "text": [
      "Computing transition probabilities:  88%|████████▊ | 308/352 [00:00<00:00, 375.95it/s]"
     ]
    },
    {
     "name": "stdout",
     "output_type": "stream",
     "text": [
      "Unk percentage: 0.0022994379151762903\n"
     ]
    },
    {
     "name": "stderr",
     "output_type": "stream",
     "text": [
      "Computing transition probabilities: 100%|██████████| 352/352 [00:00<00:00, 372.83it/s]\n",
      "Generating walks (CPU: 1):  40%|████      | 4/10 [00:03<00:05,  1.08it/s]"
     ]
    },
    {
     "name": "stdout",
     "output_type": "stream",
     "text": [
      "Unk percentage: 0.0010542962572482868\n",
      "Unk percentage: 0.003985507246376811\n",
      "Unk percentage: 0.001519756838905775\n",
      "Unk percentage: 0.0018013381369016985\n"
     ]
    },
    {
     "name": "stderr",
     "output_type": "stream",
     "text": [
      "\r",
      "Generating walks (CPU: 1):  20%|██        | 2/10 [00:02<00:08,  1.00s/it]"
     ]
    },
    {
     "name": "stdout",
     "output_type": "stream",
     "text": [
      "Unk percentage: 0.0030737704918032786\n",
      "Unk percentage: 0.001081665765278529\n",
      "Unk percentage: 0.002883922134102379\n"
     ]
    },
    {
     "name": "stderr",
     "output_type": "stream",
     "text": [
      "\r",
      "Generating walks (CPU: 1):  50%|█████     | 5/10 [00:04<00:05,  1.02s/it]"
     ]
    },
    {
     "name": "stdout",
     "output_type": "stream",
     "text": [
      "Unk percentage: 0.002080856123662307\n",
      "cluster began\n",
      "cluster end\n",
      "Unk percentage: 0.014164305949008499\n"
     ]
    },
    {
     "name": "stderr",
     "output_type": "stream",
     "text": [
      "Generating walks (CPU: 1):  20%|██        | 2/10 [00:01<00:07,  1.09it/s]"
     ]
    },
    {
     "name": "stdout",
     "output_type": "stream",
     "text": [
      "cluster began\n",
      "cluster end\n",
      "cluster began\n",
      "cluster end\n",
      "[(('even', 'RB'), 41.053210678210704), (('now', 'RB'), 41.886544011544046), (('so', 'RB'), 42.21987734487739), (('to', 'TO'), 42.71987734487737), (('them', 'PRP'), 42.79563492063496), (('their', 'PRP$'), 45.04563492063499), (('UNK', 'NNP'), 45.9365440115441), (('they', 'PRP'), 47.55321067821075), (('we', 'PRP'), 48.195634920635)] (300,)\n"
     ]
    },
    {
     "name": "stderr",
     "output_type": "stream",
     "text": [
      "Computing transition probabilities: 100%|██████████| 104/104 [00:00<00:00, 1004.31it/s]\n"
     ]
    },
    {
     "name": "stdout",
     "output_type": "stream",
     "text": [
      "[(('reparations', 'NNS'), 118.3642857142854), (('depression', 'NN'), 119.78095238095202), (('our', 'PRP$'), 123.09285714285674), (('next', 'JJ'), 124.72619047619), (('not', 'RB'), 124.81428571428523), (('american', 'JJ'), 128.33333333333286), (('we', 'PRP'), 132.99285714285642), (('debts', 'NNS'), 134.95952380952312), (('to', 'TO'), 162.05952380952442)] (300,)\n"
     ]
    },
    {
     "name": "stderr",
     "output_type": "stream",
     "text": [
      "Computing transition probabilities:  27%|██▋       | 87/324 [00:00<00:00, 422.52it/s]"
     ]
    },
    {
     "name": "stdout",
     "output_type": "stream",
     "text": [
      "[(('will', 'MD'), 135.4940476190468), (('people', 'NNS'), 135.9678571428564), (('our', 'PRP$'), 136.33452380952303), (('not', 'RB'), 137.53452380952308), (('war', 'NN'), 139.5845238095232), (('i', 'NN'), 139.99285714285654), (('peace', 'NN'), 141.25119047618992), (('it', 'PRP'), 144.20119047619008), ((',', ','), 179.5261904761912)] (300,)\n"
     ]
    },
    {
     "name": "stderr",
     "output_type": "stream",
     "text": [
      "Computing transition probabilities: 100%|██████████| 324/324 [00:00<00:00, 368.85it/s]\n",
      "Computing transition probabilities: 100%|██████████| 331/331 [00:00<00:00, 347.85it/s]\n",
      "Generating walks (CPU: 1):  30%|███       | 3/10 [00:03<00:08,  1.17s/it]]\n",
      "Generating walks (CPU: 1):  50%|█████     | 5/10 [00:07<00:07,  1.54s/it]"
     ]
    },
    {
     "name": "stdout",
     "output_type": "stream",
     "text": [
      "Unk percentage: 0.0010171215460247499\n"
     ]
    },
    {
     "name": "stderr",
     "output_type": "stream",
     "text": [
      "Generating walks (CPU: 1):  70%|███████   | 7/10 [00:12<00:05,  1.82s/it]]"
     ]
    },
    {
     "name": "stdout",
     "output_type": "stream",
     "text": [
      "Unk percentage: 0.0049521294156487285\n",
      "Unk percentage: 0.008433734939759036\n"
     ]
    },
    {
     "name": "stderr",
     "output_type": "stream",
     "text": [
      "\r",
      "Generating walks (CPU: 1):  40%|████      | 4/10 [00:05<00:07,  1.29s/it]"
     ]
    },
    {
     "name": "stdout",
     "output_type": "stream",
     "text": [
      "cluster began\n",
      "cluster end\n",
      "[(('today', 'NN'), 88.53333333333329), (('space', 'NN'), 89.30952380952374), (('crew', 'NN'), 89.67619047619036), (('they', 'PRP'), 91.69285714285697), (('``', '``'), 91.7761904761903), (('them', 'PRP'), 93.11666666666642), (('it', 'PRP'), 99.41666666666633), (('we', 'PRP'), 105.83333333333304), (('to', 'TO'), 111.7166666666664)] (300,)\n"
     ]
    },
    {
     "name": "stderr",
     "output_type": "stream",
     "text": [
      "Computing transition probabilities:  27%|██▋       | 61/224 [00:00<00:00, 606.23it/s]\n",
      "Computing transition probabilities: 100%|██████████| 224/224 [00:00<00:00, 580.92it/s]\n",
      "Generating walks (CPU: 1):  80%|████████  | 8/10 [00:14<00:03,  1.89s/it]"
     ]
    },
    {
     "name": "stdout",
     "output_type": "stream",
     "text": [
      "Unk percentage: 0.0029940119760479044\n",
      "Unk percentage: 0.0022675736961451248\n"
     ]
    },
    {
     "name": "stderr",
     "output_type": "stream",
     "text": [
      "Generating walks (CPU: 1):  50%|█████     | 5/10 [00:07<00:07,  1.47s/it]"
     ]
    },
    {
     "name": "stdout",
     "output_type": "stream",
     "text": [
      "cluster began\n",
      "cluster end\n"
     ]
    },
    {
     "name": "stderr",
     "output_type": "stream",
     "text": [
      "\r",
      "Generating walks (CPU: 1):  70%|███████   | 7/10 [00:11<00:05,  1.73s/it]"
     ]
    },
    {
     "name": "stdout",
     "output_type": "stream",
     "text": [
      "[(('one', 'CD'), 114.94999999999959), (('us', 'PRP'), 115.36666666666623), (('should', 'MD'), 116.09999999999967), (('we', 'PRP'), 119.56666666666626), (('now', 'RB'), 121.11666666666638), (('your', 'PRP$'), 122.8999999999996), (('will', 'MD'), 123.31666666666631), (('you', 'PRP'), 140.06666666666683), (('to', 'TO'), 154.86666666666696)] (300,)\n"
     ]
    },
    {
     "name": "stderr",
     "output_type": "stream",
     "text": [
      "Computing transition probabilities: 100%|██████████| 256/256 [00:00<00:00, 440.95it/s]\n",
      "Generating walks (CPU: 1):  70%|███████   | 7/10 [00:10<00:04,  1.57s/it]\n",
      "Generating walks (CPU: 1):  80%|████████  | 8/10 [00:12<00:03,  1.60s/it]]"
     ]
    },
    {
     "name": "stdout",
     "output_type": "stream",
     "text": [
      "Unk percentage: 0.0014160962945480293\n"
     ]
    },
    {
     "name": "stderr",
     "output_type": "stream",
     "text": [
      "Generating walks (CPU: 1):  40%|████      | 4/10 [00:03<00:05,  1.01it/s]\n",
      "Generating walks (CPU: 1):  70%|███████   | 7/10 [00:06<00:03,  1.00s/it]"
     ]
    },
    {
     "name": "stdout",
     "output_type": "stream",
     "text": [
      "Unk percentage: 0.0036363636363636364\n"
     ]
    },
    {
     "name": "stderr",
     "output_type": "stream",
     "text": [
      "\n"
     ]
    },
    {
     "name": "stdout",
     "output_type": "stream",
     "text": [
      "cluster began\n",
      "cluster end\n"
     ]
    },
    {
     "name": "stderr",
     "output_type": "stream",
     "text": [
      "Generating walks (CPU: 1):  90%|█████████ | 9/10 [00:13<00:01,  1.62s/it]]"
     ]
    },
    {
     "name": "stdout",
     "output_type": "stream",
     "text": [
      "[(('we', 'PRP'), 149.40952380952285), (('it', 'PRP'), 150.4761904761897), (('will', 'MD'), 151.22619047618986), (('his', 'PRP$'), 152.3928571428565), (('people', 'NNS'), 159.54285714285714), (('must', 'MD'), 160.32619047619045), (('rights', 'NNS'), 163.37619047619066), (('our', 'PRP$'), 166.63571428571436), (('to', 'TO'), 197.9000000000008)] (300,)\n"
     ]
    },
    {
     "name": "stderr",
     "output_type": "stream",
     "text": [
      "Computing transition probabilities:  35%|███▌      | 136/385 [00:00<00:00, 330.72it/s]"
     ]
    },
    {
     "name": "stdout",
     "output_type": "stream",
     "text": [
      "Unk percentage: 0.0036659877800407333\n"
     ]
    },
    {
     "name": "stderr",
     "output_type": "stream",
     "text": [
      "Computing transition probabilities:  54%|█████▍    | 209/385 [00:00<00:00, 345.62it/s]"
     ]
    },
    {
     "name": "stdout",
     "output_type": "stream",
     "text": [
      "Unk percentage: 0.004116436342252279\n"
     ]
    },
    {
     "name": "stderr",
     "output_type": "stream",
     "text": [
      "\r",
      "Computing transition probabilities:  64%|██████▍   | 248/385 [00:00<00:00, 355.69it/s]"
     ]
    },
    {
     "name": "stdout",
     "output_type": "stream",
     "text": [
      "Unk percentage: 0.002689204763734153\n"
     ]
    },
    {
     "name": "stderr",
     "output_type": "stream",
     "text": [
      "\r",
      "Computing transition probabilities:  75%|███████▍  | 287/385 [00:00<00:00, 364.97it/s]"
     ]
    },
    {
     "name": "stdout",
     "output_type": "stream",
     "text": [
      "Unk percentage: 0.009911894273127754\n"
     ]
    },
    {
     "name": "stderr",
     "output_type": "stream",
     "text": [
      "Computing transition probabilities:  94%|█████████▍| 361/385 [00:01<00:00, 366.64it/s]"
     ]
    },
    {
     "name": "stdout",
     "output_type": "stream",
     "text": [
      "Unk percentage: 0.002764722145424385\n"
     ]
    },
    {
     "name": "stderr",
     "output_type": "stream",
     "text": [
      "Computing transition probabilities: 100%|██████████| 385/385 [00:01<00:00, 353.66it/s]\n",
      "Generating walks (CPU: 1): 100%|██████████| 10/10 [00:15<00:00,  1.75s/it]"
     ]
    },
    {
     "name": "stdout",
     "output_type": "stream",
     "text": [
      "Unk percentage: 0.001088139281828074\n"
     ]
    },
    {
     "name": "stderr",
     "output_type": "stream",
     "text": [
      "\n"
     ]
    },
    {
     "name": "stdout",
     "output_type": "stream",
     "text": [
      "cluster began\n",
      "cluster end\n"
     ]
    },
    {
     "name": "stderr",
     "output_type": "stream",
     "text": [
      "\r",
      "Generating walks (CPU: 1): 100%|██████████| 10/10 [00:15<00:00,  1.68s/it]"
     ]
    },
    {
     "name": "stdout",
     "output_type": "stream",
     "text": [
      "Unk percentage: 0.0182648401826484\n"
     ]
    },
    {
     "name": "stderr",
     "output_type": "stream",
     "text": [
      "\r",
      "Generating walks (CPU: 1): 100%|██████████| 10/10 [00:10<00:00,  1.09s/it]"
     ]
    },
    {
     "name": "stdout",
     "output_type": "stream",
     "text": [
      "[(('establishment', 'NN'), 111.67619047619009), (('congress', 'NN'), 113.24285714285675), (('nation', 'NN'), 113.91666666666619), (('war', 'NN'), 114.12619047619002), (('public', 'JJ'), 114.30952380952334), (('you', 'PRP'), 114.94285714285664), (('peace', 'NN'), 116.00952380952332), (('will', 'MD'), 123.09285714285662), (('to', 'TO'), 141.11666666666633)] (300,)\n"
     ]
    },
    {
     "name": "stderr",
     "output_type": "stream",
     "text": [
      "Computing transition probabilities:  27%|██▋       | 79/292 [00:00<00:00, 354.91it/s]"
     ]
    },
    {
     "name": "stdout",
     "output_type": "stream",
     "text": [
      "cluster began\n",
      "cluster end\n"
     ]
    },
    {
     "name": "stderr",
     "output_type": "stream",
     "text": [
      "Computing transition probabilities: 100%|██████████| 292/292 [00:00<00:00, 421.67it/s]\n",
      "Generating walks (CPU: 1):   0%|          | 0/10 [00:00<?, ?it/s]\n",
      "\n"
     ]
    },
    {
     "name": "stdout",
     "output_type": "stream",
     "text": [
      "[(('democracy', 'NN'), 143.37619047618975), (('nation', 'NN'), 145.2357142857137), (('most', 'RBS'), 145.28571428571377), (('our', 'PRP$'), 149.39404761904717), (('its', 'PRP$'), 149.44404761904727), (('it', 'PRP'), 155.55000000000007), (('we', 'PRP'), 156.2261904761906), (('UNK', 'NNP'), 167.88571428571507), (('to', 'TO'), 172.66904761904837)] (300,)\n"
     ]
    },
    {
     "name": "stderr",
     "output_type": "stream",
     "text": [
      "Computing transition probabilities:  31%|███▏      | 111/355 [00:00<00:00, 360.27it/s]\n",
      "Computing transition probabilities:  41%|████      | 146/355 [00:00<00:00, 354.58it/s]"
     ]
    },
    {
     "name": "stdout",
     "output_type": "stream",
     "text": [
      "Unk percentage: 0.0028308563340410475\n"
     ]
    },
    {
     "name": "stderr",
     "output_type": "stream",
     "text": [
      "Generating walks (CPU: 1):  80%|████████  | 8/10 [00:09<00:02,  1.24s/it], 360.26it/s]"
     ]
    },
    {
     "name": "stdout",
     "output_type": "stream",
     "text": [
      "Unk percentage: 0.0040609137055837565\n"
     ]
    },
    {
     "name": "stderr",
     "output_type": "stream",
     "text": [
      "Computing transition probabilities: 100%|██████████| 355/355 [00:00<00:00, 362.65it/s]\n",
      "Generating walks (CPU: 1):   0%|          | 0/10 [00:00<?, ?it/s]"
     ]
    },
    {
     "name": "stdout",
     "output_type": "stream",
     "text": [
      "cluster began\n",
      "cluster end\n"
     ]
    },
    {
     "name": "stderr",
     "output_type": "stream",
     "text": [
      "\r",
      "Generating walks (CPU: 1):  20%|██        | 2/10 [00:01<00:06,  1.28it/s]"
     ]
    },
    {
     "name": "stdout",
     "output_type": "stream",
     "text": [
      "Unk percentage: 0.004746440169872595\n",
      "[(('terms', 'NNS'), 101.2468253968251), (('senate', 'NN'), 103.41349206349177), (('them', 'PRP'), 103.48015873015834), (('should', 'MD'), 104.96349206349164), (('i', 'NN'), 105.5190476190472), (('indians', 'NNS'), 105.54682539682494), (('may', 'MD'), 106.28015873015829), (('will', 'MD'), 110.06349206349174), (('to', 'TO'), 135.25515873015843)] (300,)\n"
     ]
    },
    {
     "name": "stderr",
     "output_type": "stream",
     "text": [
      "\r",
      "Computing transition probabilities:   0%|          | 0/259 [00:00<?, ?it/s]"
     ]
    },
    {
     "name": "stdout",
     "output_type": "stream",
     "text": [
      "Unk percentage: 0.0031446540880503146\n",
      "Unk percentage: 0.0025412960609911056\n"
     ]
    },
    {
     "name": "stderr",
     "output_type": "stream",
     "text": [
      "Computing transition probabilities:  53%|█████▎    | 138/259 [00:00<00:00, 469.30it/s]"
     ]
    },
    {
     "name": "stdout",
     "output_type": "stream",
     "text": [
      "Unk percentage: 0.00178826895565093\n"
     ]
    },
    {
     "name": "stderr",
     "output_type": "stream",
     "text": [
      "Computing transition probabilities: 100%|██████████| 259/259 [00:00<00:00, 386.20it/s]\n",
      "Generating walks (CPU: 1):   0%|          | 0/10 [00:00<?, ?it/s]"
     ]
    },
    {
     "name": "stdout",
     "output_type": "stream",
     "text": [
      "cluster began\n",
      "cluster end\n",
      "Unk percentage: 0.0018070928393946238\n",
      "Unk percentage: 0.0020607934054611026\n",
      "Unk percentage: 0.0019286403085824494\n"
     ]
    },
    {
     "name": "stderr",
     "output_type": "stream",
     "text": [
      "\r",
      "Generating walks (CPU: 1):  30%|███       | 3/10 [00:04<00:10,  1.46s/it]"
     ]
    },
    {
     "name": "stdout",
     "output_type": "stream",
     "text": [
      "Unk percentage: 0.0023168259484506225\n",
      "[(('organization', 'NN'), 113.07857142857128), (('labor', 'NN'), 113.1023809523808), (('banks', 'NNS'), 113.44285714285701), (('it', 'PRP'), 113.56190476190463), (('commerce', 'NN'), 113.68571428571413), (('there', 'EX'), 114.95238095238074), (('program', 'NN'), 118.48690476190446), (('will', 'MD'), 119.49404761904728), (('to', 'TO'), 153.092857142857)] (300,)\n"
     ]
    },
    {
     "name": "stderr",
     "output_type": "stream",
     "text": [
      "\r",
      "Computing transition probabilities:   0%|          | 0/319 [00:00<?, ?it/s]"
     ]
    },
    {
     "name": "stdout",
     "output_type": "stream",
     "text": [
      "Unk percentage: 0.005483549351944167\n"
     ]
    },
    {
     "name": "stderr",
     "output_type": "stream",
     "text": [
      "Generating walks (CPU: 1):  20%|██        | 2/10 [00:01<00:07,  1.02it/s] 338.21it/s]"
     ]
    },
    {
     "name": "stdout",
     "output_type": "stream",
     "text": [
      "Unk percentage: 0.003203416978109984\n"
     ]
    },
    {
     "name": "stderr",
     "output_type": "stream",
     "text": [
      "Generating walks (CPU: 1):  30%|███       | 3/10 [00:03<00:07,  1.11s/it], 351.93it/s]"
     ]
    },
    {
     "name": "stdout",
     "output_type": "stream",
     "text": [
      "cluster began\n",
      "cluster end\n"
     ]
    },
    {
     "name": "stderr",
     "output_type": "stream",
     "text": [
      "\r",
      "Computing transition probabilities:  43%|████▎     | 137/319 [00:00<00:00, 334.06it/s]"
     ]
    },
    {
     "name": "stdout",
     "output_type": "stream",
     "text": [
      "Unk percentage: 0.0017588430721125659\n"
     ]
    },
    {
     "name": "stderr",
     "output_type": "stream",
     "text": [
      "Computing transition probabilities:  83%|████████▎ | 266/319 [00:00<00:00, 388.49it/s]"
     ]
    },
    {
     "name": "stdout",
     "output_type": "stream",
     "text": [
      "Unk percentage: 0.005649717514124294\n"
     ]
    },
    {
     "name": "stderr",
     "output_type": "stream",
     "text": [
      "Computing transition probabilities: 100%|██████████| 319/319 [00:00<00:00, 378.36it/s]\n",
      "Generating walks (CPU: 1):   0%|          | 0/10 [00:00<?, ?it/s]"
     ]
    },
    {
     "name": "stdout",
     "output_type": "stream",
     "text": [
      "Unk percentage: 0.005607476635514018\n",
      "[(('year', 'NN'), 123.32619047619004), (('people', 'NNS'), 124.10952380952337), (('we', 'PRP'), 124.33571428571379), (('king', 'NN'), 125.21904761904715), ((\"''\", \"''\"), 125.70238095238044), (('he', 'PRP'), 126.74285714285669), (('dr.', 'NN'), 127.54285714285672), (('day', 'NN'), 129.04285714285666), (('to', 'TO'), 152.4166666666668)] (300,)\n"
     ]
    },
    {
     "name": "stderr",
     "output_type": "stream",
     "text": [
      "Computing transition probabilities:  14%|█▍        | 44/307 [00:00<00:00, 437.95it/s]"
     ]
    },
    {
     "name": "stdout",
     "output_type": "stream",
     "text": [
      "Unk percentage: 0.0020013342228152103\n"
     ]
    },
    {
     "name": "stderr",
     "output_type": "stream",
     "text": [
      "Computing transition probabilities:  59%|█████▊    | 180/307 [00:00<00:00, 441.47it/s]"
     ]
    },
    {
     "name": "stdout",
     "output_type": "stream",
     "text": [
      "Unk percentage: 0.0021745883814849334\n"
     ]
    },
    {
     "name": "stderr",
     "output_type": "stream",
     "text": [
      "\r",
      "Computing transition probabilities:  74%|███████▎  | 226/307 [00:00<00:00, 445.66it/s]"
     ]
    },
    {
     "name": "stdout",
     "output_type": "stream",
     "text": [
      "Unk percentage: 0.004807692307692308\n"
     ]
    },
    {
     "name": "stderr",
     "output_type": "stream",
     "text": [
      "Computing transition probabilities: 100%|██████████| 307/307 [00:00<00:00, 431.35it/s]\n",
      "Generating walks (CPU: 1):   0%|          | 0/10 [00:00<?, ?it/s]\n"
     ]
    },
    {
     "name": "stdout",
     "output_type": "stream",
     "text": [
      "cluster began\n",
      "cluster end\n"
     ]
    },
    {
     "name": "stderr",
     "output_type": "stream",
     "text": [
      "\r",
      "Generating walks (CPU: 1):  40%|████      | 4/10 [00:05<00:07,  1.26s/it]"
     ]
    },
    {
     "name": "stdout",
     "output_type": "stream",
     "text": [
      "[(('ally', 'NN'), 53.733333333333455), (('world', 'NN'), 54.300000000000125), (('peoples', 'NNS'), 55.30000000000014), (('here', 'RB'), 55.6166666666668), (('their', 'PRP$'), 57.40000000000013), (('nations', 'NNS'), 60.266666666666765), (('to', 'TO'), 63.58333333333345), (('we', 'PRP'), 66.45000000000009), (('our', 'PRP$'), 67.36666666666676)] (300,)\n"
     ]
    },
    {
     "name": "stderr",
     "output_type": "stream",
     "text": [
      "Computing transition probabilities: 100%|██████████| 138/138 [00:00<00:00, 862.57it/s]\n",
      "Generating walks (CPU: 1):  20%|██        | 2/10 [00:00<00:02,  3.10it/s]"
     ]
    },
    {
     "name": "stdout",
     "output_type": "stream",
     "text": [
      "Unk percentage: 0.00646551724137931\n",
      "Unk percentage: 0.003595828838547285\n"
     ]
    },
    {
     "name": "stderr",
     "output_type": "stream",
     "text": [
      "Generating walks (CPU: 1):  20%|██        | 2/10 [00:01<00:06,  1.21it/s]"
     ]
    },
    {
     "name": "stdout",
     "output_type": "stream",
     "text": [
      "Unk percentage: 0.007272727272727273\n"
     ]
    },
    {
     "name": "stderr",
     "output_type": "stream",
     "text": [
      "Generating walks (CPU: 1):  30%|███       | 3/10 [00:01<00:03,  2.33it/s]"
     ]
    },
    {
     "name": "stdout",
     "output_type": "stream",
     "text": [
      "cluster began\n",
      "cluster end\n",
      "[(('he', 'PRP'), 39.49087301587299), (('behalf', 'NN'), 39.49087301587301), (('rights', 'NNS'), 39.657539682539664), (('religion', 'NN'), 41.028571428571404), (('association', 'NN'), 41.47301587301586), (('duties', 'NNS'), 43.84087301587305), (('man', 'NN'), 43.8980158730159), ((\"''\", \"''\"), 43.91349206349207), (('to', 'TO'), 45.451984126984165)] (300,)\n"
     ]
    },
    {
     "name": "stderr",
     "output_type": "stream",
     "text": [
      "Computing transition probabilities: 100%|██████████| 116/116 [00:00<00:00, 1152.46it/s]\n",
      "Generating walks (CPU: 1):  90%|█████████ | 9/10 [00:04<00:00,  1.92it/s]]\n",
      "Generating walks (CPU: 1): 100%|██████████| 10/10 [00:04<00:00,  1.94it/s]"
     ]
    },
    {
     "name": "stdout",
     "output_type": "stream",
     "text": [
      "Unk percentage: 0.0020804438280166435\n"
     ]
    },
    {
     "name": "stderr",
     "output_type": "stream",
     "text": [
      "\r",
      "Generating walks (CPU: 1):  90%|█████████ | 9/10 [00:12<00:01,  1.44s/it]"
     ]
    },
    {
     "name": "stdout",
     "output_type": "stream",
     "text": [
      "Unk percentage: 0.0034465780403741997\n"
     ]
    },
    {
     "name": "stderr",
     "output_type": "stream",
     "text": [
      "Generating walks (CPU: 1):  60%|██████    | 6/10 [00:08<00:06,  1.51s/it]\n"
     ]
    },
    {
     "name": "stdout",
     "output_type": "stream",
     "text": [
      "Unk percentage: 0.004622496147919877\n"
     ]
    },
    {
     "name": "stderr",
     "output_type": "stream",
     "text": [
      "Generating walks (CPU: 1):  60%|██████    | 6/10 [00:08<00:05,  1.44s/it]"
     ]
    },
    {
     "name": "stdout",
     "output_type": "stream",
     "text": [
      "cluster began\n",
      "cluster end\n",
      "Unk percentage: 0.003173908284995075\n"
     ]
    },
    {
     "name": "stderr",
     "output_type": "stream",
     "text": [
      "\r",
      "Generating walks (CPU: 1):  70%|███████   | 7/10 [00:12<00:05,  1.81s/it]"
     ]
    },
    {
     "name": "stdout",
     "output_type": "stream",
     "text": [
      "[(('test', 'NN'), 75.25952380952404), ((\"''\", \"''\"), 75.65119047619073), (('peace', 'NN'), 76.81785714285733), (('men', 'NNS'), 78.94285714285726), (('will', 'MD'), 84.7011904761904), (('--', ':'), 89.06666666666652), (('our', 'PRP$'), 89.54285714285699), (('we', 'PRP'), 95.8428571428569), (('to', 'TO'), 97.05952380952355)] (300,)\n"
     ]
    },
    {
     "name": "stderr",
     "output_type": "stream",
     "text": [
      "Computing transition probabilities: 100%|██████████| 203/203 [00:00<00:00, 554.32it/s]\n"
     ]
    },
    {
     "name": "stdout",
     "output_type": "stream",
     "text": [
      "Unk percentage: 0.001340033500837521\n"
     ]
    },
    {
     "name": "stderr",
     "output_type": "stream",
     "text": [
      "Generating walks (CPU: 1): 100%|██████████| 10/10 [00:11<00:00,  1.26s/it]"
     ]
    },
    {
     "name": "stdout",
     "output_type": "stream",
     "text": [
      "Unk percentage: 0.002720817572499834\n"
     ]
    },
    {
     "name": "stderr",
     "output_type": "stream",
     "text": [
      "Generating walks (CPU: 1):  20%|██        | 2/10 [00:00<00:03,  2.10it/s]"
     ]
    },
    {
     "name": "stdout",
     "output_type": "stream",
     "text": [
      "Unk percentage: 0.0016652789342214821\n",
      "Unk percentage: 0.0012305168170631665\n",
      "Unk percentage: 0.0010471204188481676\n"
     ]
    },
    {
     "name": "stderr",
     "output_type": "stream",
     "text": [
      "Generating walks (CPU: 1):  80%|████████  | 8/10 [00:13<00:03,  1.85s/it]\n",
      "\n"
     ]
    },
    {
     "name": "stdout",
     "output_type": "stream",
     "text": [
      "Unk percentage: 0.002995132909022838\n"
     ]
    },
    {
     "name": "stderr",
     "output_type": "stream",
     "text": [
      "\r",
      "Generating walks (CPU: 1):  30%|███       | 3/10 [00:01<00:04,  1.63it/s]"
     ]
    },
    {
     "name": "stdout",
     "output_type": "stream",
     "text": [
      "Unk percentage: 0.003537735849056604\n"
     ]
    },
    {
     "name": "stderr",
     "output_type": "stream",
     "text": [
      "Generating walks (CPU: 1):  80%|████████  | 8/10 [00:12<00:03,  1.64s/it]"
     ]
    },
    {
     "name": "stdout",
     "output_type": "stream",
     "text": [
      "cluster began\n",
      "cluster end\n"
     ]
    },
    {
     "name": "stderr",
     "output_type": "stream",
     "text": [
      "\r",
      "Generating walks (CPU: 1):  80%|████████  | 8/10 [00:11<00:03,  1.59s/it]"
     ]
    },
    {
     "name": "stdout",
     "output_type": "stream",
     "text": [
      "[(('then', 'RB'), 87.10952380952386), (('two', 'CD'), 88.27619047619058), (('would', 'MD'), 88.75238095238102), (('i', 'NN'), 91.84285714285701), (('negotiations', 'NNS'), 93.79285714285697), (('we', 'PRP'), 96.82619047619019), (('peace', 'NN'), 98.94285714285685), (('to', 'TO'), 101.98333333333308), (('will', 'MD'), 106.03333333333296)] (300,)\n"
     ]
    },
    {
     "name": "stderr",
     "output_type": "stream",
     "text": [
      "Computing transition probabilities:  25%|██▍       | 59/239 [00:00<00:00, 589.64it/s]"
     ]
    },
    {
     "name": "stdout",
     "output_type": "stream",
     "text": [
      "Unk percentage: 0.003134796238244514\n"
     ]
    },
    {
     "name": "stderr",
     "output_type": "stream",
     "text": [
      "Computing transition probabilities:  86%|████████▌ | 206/239 [00:00<00:00, 470.08it/s]"
     ]
    },
    {
     "name": "stdout",
     "output_type": "stream",
     "text": [
      "Unk percentage: 0.006595218466611707\n"
     ]
    },
    {
     "name": "stderr",
     "output_type": "stream",
     "text": [
      "Computing transition probabilities: 100%|██████████| 239/239 [00:00<00:00, 477.10it/s]\n",
      "Generating walks (CPU: 1):   0%|          | 0/10 [00:00<?, ?it/s]"
     ]
    },
    {
     "name": "stdout",
     "output_type": "stream",
     "text": [
      "cluster began\n",
      "cluster end\n",
      "[(('it', 'PRP'), 68.0333333333334), (('may', 'MD'), 68.61666666666672), (('possessions', 'NNS'), 70.36666666666667), (('shall', 'MD'), 71.11666666666666), (('act', 'NN'), 71.28333333333333), (('ports', 'NNS'), 71.94999999999996), (('british', 'JJ'), 75.99999999999986), (('states', 'NNS'), 76.6666666666665), (('to', 'TO'), 80.99999999999987)] (300,)\n"
     ]
    },
    {
     "name": "stderr",
     "output_type": "stream",
     "text": [
      "Computing transition probabilities: 100%|██████████| 150/150 [00:00<00:00, 581.42it/s]\n",
      "Generating walks (CPU: 1):  50%|█████     | 5/10 [00:03<00:04,  1.19it/s]"
     ]
    },
    {
     "name": "stdout",
     "output_type": "stream",
     "text": [
      "cluster began\n",
      "cluster end\n"
     ]
    },
    {
     "name": "stderr",
     "output_type": "stream",
     "text": [
      "Generating walks (CPU: 1):  20%|██        | 2/10 [00:00<00:03,  2.64it/s]]"
     ]
    },
    {
     "name": "stdout",
     "output_type": "stream",
     "text": [
      "[(('instructions', 'NNS'), 134.52420634920546), (('congress', 'NN'), 135.6075396825388), (('will', 'MD'), 135.69801587301495), (('state', 'NN'), 136.67023809523727), (('you', 'PRP'), 137.32182539682455), (('laws', 'NNS'), 139.23134920634843), (('it', 'PRP'), 144.1218253968248), (('our', 'PRP$'), 148.67182539682494), (('to', 'TO'), 180.4384920634927)] (300,)\n"
     ]
    },
    {
     "name": "stderr",
     "output_type": "stream",
     "text": [
      "Computing transition probabilities: 100%|██████████| 349/349 [00:00<00:00, 385.45it/s]\n",
      "Generating walks (CPU: 1):  50%|█████     | 5/10 [00:02<00:02,  1.73it/s]]\n",
      "Generating walks (CPU: 1):  60%|██████    | 6/10 [00:03<00:02,  1.64it/s]\n",
      "\n",
      "Generating walks (CPU: 1):  20%|██        | 2/10 [00:01<00:07,  1.01it/s]\n",
      "Generating walks (CPU: 1):  80%|████████  | 8/10 [00:04<00:01,  1.47it/s]"
     ]
    },
    {
     "name": "stdout",
     "output_type": "stream",
     "text": [
      "Unk percentage: 0.006072874493927126\n",
      "Unk percentage: 0.002280873248615184\n"
     ]
    },
    {
     "name": "stderr",
     "output_type": "stream",
     "text": [
      "\r",
      "Generating walks (CPU: 1): 100%|██████████| 10/10 [00:09<00:00,  1.00s/it]"
     ]
    },
    {
     "name": "stdout",
     "output_type": "stream",
     "text": [
      "cluster began\n",
      "cluster end\n",
      "Unk percentage: 0.0015071590052750565\n",
      "[(('nation', 'NN'), 52.913924963925), (('new', 'JJ'), 53.44844877344882), (('might', 'MD'), 54.11511544011551), (('soul', 'NN'), 54.28892496392502), (('ourselves', 'PRP'), 54.340115440115504), (('world', 'NN'), 60.57940115440131), (('we', 'PRP'), 63.422258297258445), (('should', 'MD'), 66.67301587301601), (('to', 'TO'), 71.94606782106794)] (300,)\n"
     ]
    },
    {
     "name": "stderr",
     "output_type": "stream",
     "text": [
      "\r",
      "Computing transition probabilities:   0%|          | 0/164 [00:00<?, ?it/s]"
     ]
    },
    {
     "name": "stdout",
     "output_type": "stream",
     "text": [
      "Unk percentage: 0.005027652086475616\n"
     ]
    },
    {
     "name": "stderr",
     "output_type": "stream",
     "text": [
      "\r",
      "Computing transition probabilities:  52%|█████▏    | 85/164 [00:00<00:00, 839.65it/s]"
     ]
    },
    {
     "name": "stdout",
     "output_type": "stream",
     "text": [
      "Unk percentage: 0.002531645569620253\n"
     ]
    },
    {
     "name": "stderr",
     "output_type": "stream",
     "text": [
      "Computing transition probabilities: 100%|██████████| 164/164 [00:00<00:00, 823.66it/s]\n",
      "Generating walks (CPU: 1):   0%|          | 0/10 [00:00<?, ?it/s]"
     ]
    },
    {
     "name": "stdout",
     "output_type": "stream",
     "text": [
      "Unk percentage: 0.001146131805157593\n",
      "Unk percentage: 0.002153063221765512\n",
      "cluster began\n",
      "cluster end\n",
      "Unk percentage: 0.004906333630686887\n",
      "cluster began\n"
     ]
    },
    {
     "name": "stderr",
     "output_type": "stream",
     "text": [
      "\r",
      "Generating walks (CPU: 1): 100%|██████████| 10/10 [00:06<00:00,  1.39it/s]"
     ]
    },
    {
     "name": "stdout",
     "output_type": "stream",
     "text": [
      "cluster end\n",
      "Unk percentage: 0.011235955056179775\n"
     ]
    },
    {
     "name": "stderr",
     "output_type": "stream",
     "text": [
      "\n",
      "Generating walks (CPU: 1):  20%|██        | 2/10 [00:00<00:03,  2.38it/s]"
     ]
    },
    {
     "name": "stdout",
     "output_type": "stream",
     "text": [
      "cluster began\n",
      "cluster end\n",
      "[(('what', 'WP'), 132.35119047618974), (('not', 'RB'), 132.79404761904686), (('world', 'NN'), 133.2940476190469), (('they', 'PRP'), 135.57619047618977), (('it', 'PRP'), 137.26071428571362), (('we', 'PRP'), 139.15238095238027), (('us', 'PRP'), 141.6178571428565), (('here', 'RB'), 141.65952380952317), (('to', 'TO'), 153.1428571428572)] (300,)\n",
      "[(('requesting', 'VBG'), 21.05000000000001), (('conquest', 'NN'), 21.26785714285715), (('germany', 'NN'), 21.327380952380967), (('united', 'JJ'), 21.694047619047627), ((\"''\", \"''\"), 22.185714285714287), (('life', 'NN'), 22.466666666666665), (('war', 'NN'), 23.359523809523804), (('world', 'NN'), 23.709523809523805), (('to', 'TO'), 27.483333333333302)] (300,)\n"
     ]
    },
    {
     "name": "stderr",
     "output_type": "stream",
     "text": [
      "Computing transition probabilities: 100%|██████████| 65/65 [00:00<00:00, 1441.39it/s]\n",
      "Computing transition probabilities:  19%|█▉        | 63/333 [00:00<00:00, 311.32it/s]\n",
      "Generating walks (CPU: 1):  70%|███████   | 7/10 [00:07<00:03,  1.25s/it], 286.00it/s]"
     ]
    },
    {
     "name": "stdout",
     "output_type": "stream",
     "text": [
      "[(('government', 'NN'), 145.7595238095229), (('they', 'PRP'), 145.76071428571333), (('not', 'RB'), 146.38571428571348), (('i', 'NN'), 147.25119047618963), (('relief', 'NN'), 149.26785714285654), (('resources', 'NNS'), 149.8428571428566), (('their', 'PRP$'), 150.15952380952308), (('people', 'NNS'), 159.98333333333346), ((',', ','), 192.89285714285813)] (300,)\n"
     ]
    },
    {
     "name": "stderr",
     "output_type": "stream",
     "text": [
      "Generating walks (CPU: 1):  40%|████      | 4/10 [00:05<00:08,  1.48s/it] 322.70it/s]]"
     ]
    },
    {
     "name": "stdout",
     "output_type": "stream",
     "text": [
      "Unk percentage: 0.0022655188038060714\n"
     ]
    },
    {
     "name": "stderr",
     "output_type": "stream",
     "text": [
      "Computing transition probabilities:  43%|████▎     | 160/376 [00:00<00:00, 311.25it/s]"
     ]
    },
    {
     "name": "stdout",
     "output_type": "stream",
     "text": [
      "Unk percentage: 0.0048383290063724336\n",
      "Unk percentage: 0.001766264350897851\n"
     ]
    },
    {
     "name": "stderr",
     "output_type": "stream",
     "text": [
      "Computing transition probabilities: 100%|██████████| 333/333 [00:01<00:00, 311.02it/s]\n",
      "Computing transition probabilities:  62%|██████▎   | 235/376 [00:00<00:00, 337.73it/s]"
     ]
    },
    {
     "name": "stdout",
     "output_type": "stream",
     "text": [
      "Unk percentage: 0.0024096385542168677\n"
     ]
    },
    {
     "name": "stderr",
     "output_type": "stream",
     "text": [
      "Generating walks (CPU: 1):  50%|█████     | 5/10 [00:01<00:01,  3.92it/s], 350.85it/s]"
     ]
    },
    {
     "name": "stdout",
     "output_type": "stream",
     "text": [
      "Unk percentage: 0.0016787912702853946\n"
     ]
    },
    {
     "name": "stderr",
     "output_type": "stream",
     "text": [
      "Generating walks (CPU: 1):  40%|████      | 4/10 [00:02<00:03,  1.58it/s], 342.48it/s]"
     ]
    },
    {
     "name": "stdout",
     "output_type": "stream",
     "text": [
      "Unk percentage: 0.006666666666666667\n"
     ]
    },
    {
     "name": "stderr",
     "output_type": "stream",
     "text": [
      "Computing transition probabilities: 100%|██████████| 376/376 [00:01<00:00, 319.94it/s]"
     ]
    },
    {
     "name": "stdout",
     "output_type": "stream",
     "text": [
      "Unk percentage: 0.0011431837667905116\n"
     ]
    },
    {
     "name": "stderr",
     "output_type": "stream",
     "text": [
      "\n",
      "Generating walks (CPU: 1):  80%|████████  | 8/10 [00:09<00:02,  1.26s/it]"
     ]
    },
    {
     "name": "stdout",
     "output_type": "stream",
     "text": [
      "Unk percentage: 0.004839685420447671\n",
      "cluster began\n",
      "cluster end\n"
     ]
    },
    {
     "name": "stderr",
     "output_type": "stream",
     "text": [
      "\r",
      "Generating walks (CPU: 1):  70%|███████   | 7/10 [00:01<00:00,  3.37it/s]"
     ]
    },
    {
     "name": "stdout",
     "output_type": "stream",
     "text": [
      "[(('they', 'PRP'), 53.38571428571435), (('government', 'NN'), 55.302380952381064), (('necessary', 'JJ'), 55.652380952381066), (('should', 'MD'), 55.7000000000001), (('it', 'PRP'), 55.90952380952393), (('removal', 'NN'), 56.33571428571441), (('their', 'PRP$'), 57.87857142857157), (('them', 'PRP'), 58.366666666666795), ((',', ','), 68.6666666666668)] (300,)\n"
     ]
    },
    {
     "name": "stderr",
     "output_type": "stream",
     "text": [
      "\r",
      "Computing transition probabilities:   0%|          | 0/146 [00:00<?, ?it/s]"
     ]
    },
    {
     "name": "stdout",
     "output_type": "stream",
     "text": [
      "Unk percentage: 0.0036622145626884965\n"
     ]
    },
    {
     "name": "stderr",
     "output_type": "stream",
     "text": [
      "Computing transition probabilities: 100%|██████████| 146/146 [00:00<00:00, 770.68it/s]\n",
      "Generating walks (CPU: 1):  50%|█████     | 5/10 [00:03<00:03,  1.38it/s]"
     ]
    },
    {
     "name": "stdout",
     "output_type": "stream",
     "text": [
      "Unk percentage: 0.005434044287460943\n"
     ]
    },
    {
     "name": "stderr",
     "output_type": "stream",
     "text": [
      "Generating walks (CPU: 1):  50%|█████     | 5/10 [00:07<00:08,  1.64s/it]"
     ]
    },
    {
     "name": "stdout",
     "output_type": "stream",
     "text": [
      "Unk percentage: 0.0054430655345090355\n"
     ]
    },
    {
     "name": "stderr",
     "output_type": "stream",
     "text": [
      "Generating walks (CPU: 1):  20%|██        | 2/10 [00:00<00:02,  2.74it/s]]"
     ]
    },
    {
     "name": "stdout",
     "output_type": "stream",
     "text": [
      "Unk percentage: 0.0034071550255536627\n"
     ]
    },
    {
     "name": "stderr",
     "output_type": "stream",
     "text": [
      "Generating walks (CPU: 1):  20%|██        | 2/10 [00:01<00:07,  1.00it/s]\n",
      "Generating walks (CPU: 1):  60%|██████    | 6/10 [00:04<00:03,  1.29it/s]"
     ]
    },
    {
     "name": "stdout",
     "output_type": "stream",
     "text": [
      "Unk percentage: 0.0050933786078098476\n",
      "cluster began\n",
      "cluster end\n"
     ]
    },
    {
     "name": "stderr",
     "output_type": "stream",
     "text": [
      "Generating walks (CPU: 1):  30%|███       | 3/10 [00:01<00:03,  2.00it/s]"
     ]
    },
    {
     "name": "stdout",
     "output_type": "stream",
     "text": [
      "cluster began\n",
      "cluster end\n"
     ]
    },
    {
     "name": "stderr",
     "output_type": "stream",
     "text": [
      "\r",
      "Generating walks (CPU: 1):  70%|███████   | 7/10 [00:05<00:02,  1.25it/s]"
     ]
    },
    {
     "name": "stdout",
     "output_type": "stream",
     "text": [
      "[(('nation', 'NN'), 67.14087301587318), (('yesterday', 'NN'), 68.09920634920654), (('it', 'PRP'), 71.56349206349228), (('will', 'MD'), 72.29087301587322), (('people', 'NNS'), 73.00357142857165), (('american', 'JJ'), 75.07738095238116), (('japanese', 'JJ'), 75.14920634920655), (('our', 'PRP$'), 80.43849206349212), (('to', 'TO'), 82.68690476190478)] (300,)\n"
     ]
    },
    {
     "name": "stderr",
     "output_type": "stream",
     "text": [
      "Generating walks (CPU: 1): 100%|██████████| 10/10 [00:11<00:00,  1.27s/it]]"
     ]
    },
    {
     "name": "stdout",
     "output_type": "stream",
     "text": [
      "[(('not', 'RB'), 120.03333333333279), (('can', 'MD'), 120.94999999999949), (('world', 'NN'), 121.09999999999954), (('it', 'PRP'), 124.0333333333328), (('day', 'NN'), 124.48333333333281), (('we', 'PRP'), 128.51666666666614), (('who', 'WP'), 128.58333333333286), (('war', 'NN'), 131.3333333333328), (('to', 'TO'), 147.06666666666683)] (300,)\n"
     ]
    },
    {
     "name": "stderr",
     "output_type": "stream",
     "text": [
      "Computing transition probabilities: 100%|██████████| 194/194 [00:00<00:00, 657.84it/s]\n",
      "Computing transition probabilities: 100%|██████████| 291/291 [00:00<00:00, 382.18it/s]\n",
      "Generating walks (CPU: 1):  50%|█████     | 5/10 [00:03<00:03,  1.62it/s]\n",
      "Generating walks (CPU: 1):  20%|██        | 2/10 [00:01<00:06,  1.19it/s]]"
     ]
    },
    {
     "name": "stdout",
     "output_type": "stream",
     "text": [
      "Unk percentage: 0.0014209591474245115\n",
      "Unk percentage: 0.003303890499629155\n"
     ]
    },
    {
     "name": "stderr",
     "output_type": "stream",
     "text": [
      "Generating walks (CPU: 1):  80%|████████  | 8/10 [00:05<00:01,  1.49it/s]\n",
      "Generating walks (CPU: 1):  40%|████      | 4/10 [00:03<00:04,  1.32it/s]"
     ]
    },
    {
     "name": "stdout",
     "output_type": "stream",
     "text": [
      "Unk percentage: 0.00700770847932726\n"
     ]
    },
    {
     "name": "stderr",
     "output_type": "stream",
     "text": [
      "Generating walks (CPU: 1):  90%|█████████ | 9/10 [00:05<00:00,  1.51it/s]"
     ]
    },
    {
     "name": "stdout",
     "output_type": "stream",
     "text": [
      "Unk percentage: 0.0047694753577106515\n"
     ]
    },
    {
     "name": "stderr",
     "output_type": "stream",
     "text": [
      "Generating walks (CPU: 1):  50%|█████     | 5/10 [00:03<00:04,  1.24it/s]"
     ]
    },
    {
     "name": "stdout",
     "output_type": "stream",
     "text": [
      "cluster began\n",
      "cluster end\n",
      "cluster began\n",
      "cluster end\n"
     ]
    },
    {
     "name": "stderr",
     "output_type": "stream",
     "text": [
      "Generating walks (CPU: 1): 100%|██████████| 10/10 [00:06<00:00,  1.46it/s]"
     ]
    },
    {
     "name": "stdout",
     "output_type": "stream",
     "text": [
      "[(('country', 'NN'), 73.36309523809548), (('down', 'RB'), 74.45476190476212), (('human', 'JJ'), 77.0047619047621), (('it', 'PRP'), 77.84523809523833), (('not', 'RB'), 77.90238095238121), (('government', 'NN'), 82.85476190476196), (('world', 'NN'), 85.68571428571427), (('we', 'PRP'), 86.28571428571425), (('to', 'TO'), 102.4999999999998)] (300,)\n"
     ]
    },
    {
     "name": "stderr",
     "output_type": "stream",
     "text": [
      "Computing transition probabilities: 100%|██████████| 209/209 [00:00<00:00, 622.55it/s]\n",
      "Generating walks (CPU: 1):   0%|          | 0/10 [00:00<?, ?it/s]"
     ]
    },
    {
     "name": "stdout",
     "output_type": "stream",
     "text": [
      "[(('government', 'NN'), 148.32619047618985), (('it', 'PRP'), 151.14285714285668), (('nation', 'NN'), 152.19285714285675), (('people', 'NNS'), 154.0761904761903), (('not', 'RB'), 165.92619047619107), (('can', 'MD'), 168.00000000000068), (('we', 'PRP'), 177.89285714285808), (('our', 'PRP$'), 182.49285714285804), (('to', 'TO'), 200.57619047619113)] (300,)\n"
     ]
    },
    {
     "name": "stderr",
     "output_type": "stream",
     "text": [
      "Computing transition probabilities:   0%|          | 0/374 [00:00<?, ?it/s]\n",
      "Computing transition probabilities:  58%|█████▊    | 217/374 [00:00<00:00, 364.83it/s]"
     ]
    },
    {
     "name": "stdout",
     "output_type": "stream",
     "text": [
      "Unk percentage: 0.00558659217877095\n"
     ]
    },
    {
     "name": "stderr",
     "output_type": "stream",
     "text": [
      "Generating walks (CPU: 1):  70%|███████   | 7/10 [00:05<00:02,  1.10it/s], 344.38it/s]"
     ]
    },
    {
     "name": "stdout",
     "output_type": "stream",
     "text": [
      "cluster began\n",
      "cluster end\n"
     ]
    },
    {
     "name": "stderr",
     "output_type": "stream",
     "text": [
      "Computing transition probabilities: 100%|██████████| 374/374 [00:01<00:00, 348.35it/s]\n",
      "Generating walks (CPU: 1):   0%|          | 0/10 [00:00<?, ?it/s]"
     ]
    },
    {
     "name": "stdout",
     "output_type": "stream",
     "text": [
      "[(('heads', 'NNS'), 41.38333333333332), (('constitution', 'NN'), 41.65), (('i', 'NN'), 41.74999999999999), (('duties', 'NNS'), 42.750000000000014), (('relating', 'VBG'), 42.90000000000003), (('branch', 'NN'), 43.666666666666686), (('senate', 'NN'), 48.45000000000009), (('executive', 'NN'), 49.05000000000008), ((',', ','), 57.40000000000007)] (300,)\n"
     ]
    },
    {
     "name": "stderr",
     "output_type": "stream",
     "text": [
      "Computing transition probabilities: 100%|██████████| 111/111 [00:00<00:00, 1124.85it/s]\n",
      "Generating walks (CPU: 1):  70%|███████   | 7/10 [00:09<00:04,  1.34s/it]]\n",
      "Generating walks (CPU: 1):  30%|███       | 3/10 [00:04<00:09,  1.33s/it]\n",
      "Generating walks (CPU: 1):  90%|█████████ | 9/10 [00:03<00:00,  2.06it/s]"
     ]
    },
    {
     "name": "stdout",
     "output_type": "stream",
     "text": [
      "Unk percentage: 0.0017817371937639199\n"
     ]
    },
    {
     "name": "stderr",
     "output_type": "stream",
     "text": [
      "Generating walks (CPU: 1):  70%|███████   | 7/10 [00:06<00:02,  1.10it/s]]"
     ]
    },
    {
     "name": "stdout",
     "output_type": "stream",
     "text": [
      "Unk percentage: 0.004349176762969867\n"
     ]
    },
    {
     "name": "stderr",
     "output_type": "stream",
     "text": [
      "Generating walks (CPU: 1):  80%|████████  | 8/10 [00:10<00:02,  1.36s/it]\n"
     ]
    },
    {
     "name": "stdout",
     "output_type": "stream",
     "text": [
      "Unk percentage: 0.006771314250538628\n"
     ]
    },
    {
     "name": "stderr",
     "output_type": "stream",
     "text": [
      "\r",
      "Generating walks (CPU: 1):  90%|█████████ | 9/10 [00:14<00:01,  1.78s/it]"
     ]
    },
    {
     "name": "stdout",
     "output_type": "stream",
     "text": [
      "Unk percentage: 0.003298774740810556\n",
      "Unk percentage: 0.0022613065326633165\n"
     ]
    },
    {
     "name": "stderr",
     "output_type": "stream",
     "text": [
      "\r",
      "Generating walks (CPU: 1):  80%|████████  | 8/10 [00:07<00:01,  1.07it/s]"
     ]
    },
    {
     "name": "stdout",
     "output_type": "stream",
     "text": [
      "Unk percentage: 0.0029679664312762255\n"
     ]
    },
    {
     "name": "stderr",
     "output_type": "stream",
     "text": [
      "\r",
      "Generating walks (CPU: 1):  80%|████████  | 8/10 [00:14<00:03,  1.96s/it]"
     ]
    },
    {
     "name": "stdout",
     "output_type": "stream",
     "text": [
      "Unk percentage: 0.008746355685131196\n",
      "Unk percentage: 0.0027256208358570565\n"
     ]
    },
    {
     "name": "stderr",
     "output_type": "stream",
     "text": [
      "\r",
      "Generating walks (CPU: 1):  40%|████      | 4/10 [00:06<00:09,  1.54s/it]"
     ]
    },
    {
     "name": "stdout",
     "output_type": "stream",
     "text": [
      "Unk percentage: 0.002803083391730904\n",
      "Unk percentage: 0.0027676298018377062\n",
      "cluster began\n",
      "cluster end\n"
     ]
    },
    {
     "name": "stderr",
     "output_type": "stream",
     "text": [
      "\r",
      "Generating walks (CPU: 1):  90%|█████████ | 9/10 [00:11<00:01,  1.39s/it]"
     ]
    },
    {
     "name": "stdout",
     "output_type": "stream",
     "text": [
      "[(('them', 'PRP'), 42.91904761904763), (('june', 'NN'), 43.310714285714305), (('united', 'JJ'), 43.76666666666665), (('america', 'NN'), 43.90238095238097), (('president', 'NN'), 45.15952380952386), (('their', 'PRP$'), 45.352380952381004), (('authority', 'NN'), 46.12619047619054), (('states', 'NNS'), 46.4333333333334), (('they', 'PRP'), 47.01666666666673)] (300,)\n"
     ]
    },
    {
     "name": "stderr",
     "output_type": "stream",
     "text": [
      "Computing transition probabilities: 100%|██████████| 115/115 [00:00<00:00, 1031.80it/s]\n",
      "Generating walks (CPU: 1):  90%|█████████ | 9/10 [00:08<00:00,  1.04it/s]"
     ]
    },
    {
     "name": "stdout",
     "output_type": "stream",
     "text": [
      "cluster began\n",
      "cluster end\n",
      "Unk percentage: 0.007667031763417305\n",
      "Unk percentage: 0.0031961646024770275\n"
     ]
    },
    {
     "name": "stderr",
     "output_type": "stream",
     "text": [
      "\r",
      "Generating walks (CPU: 1):  20%|██        | 2/10 [00:00<00:02,  3.28it/s]"
     ]
    },
    {
     "name": "stdout",
     "output_type": "stream",
     "text": [
      "Unk percentage: 0.004521306657624053\n"
     ]
    },
    {
     "name": "stderr",
     "output_type": "stream",
     "text": [
      "\r",
      "Generating walks (CPU: 1): 100%|██████████| 10/10 [00:16<00:00,  1.85s/it]"
     ]
    },
    {
     "name": "stdout",
     "output_type": "stream",
     "text": [
      "[(('president', 'NN'), 149.1999999999998), (('endeavors', 'NNS'), 149.94999999999987), (('their', 'PRP$'), 149.98333333333312), (('who', 'WP'), 150.31666666666652), (('necessary', 'JJ'), 150.78333333333325), (('combinations', 'NNS'), 152.8333333333334), (('states', 'NNS'), 155.98333333333363), (('laws', 'NNS'), 160.98333333333392), (('to', 'TO'), 199.60000000000068)] (300,)\n"
     ]
    },
    {
     "name": "stderr",
     "output_type": "stream",
     "text": [
      "Computing transition probabilities:  14%|█▍        | 50/357 [00:00<00:01, 257.56it/s]"
     ]
    },
    {
     "name": "stdout",
     "output_type": "stream",
     "text": [
      "Unk percentage: 0.0035480349344978166\n"
     ]
    },
    {
     "name": "stderr",
     "output_type": "stream",
     "text": [
      "Computing transition probabilities:  28%|██▊       | 99/357 [00:00<00:01, 246.28it/s]"
     ]
    },
    {
     "name": "stdout",
     "output_type": "stream",
     "text": [
      "Unk percentage: 0.0014524328249818446\n"
     ]
    },
    {
     "name": "stderr",
     "output_type": "stream",
     "text": [
      "Computing transition probabilities:  45%|████▍     | 160/357 [00:00<00:00, 269.20it/s]"
     ]
    },
    {
     "name": "stdout",
     "output_type": "stream",
     "text": [
      "Unk percentage: 0.0022688598979013048\n"
     ]
    },
    {
     "name": "stderr",
     "output_type": "stream",
     "text": [
      "Computing transition probabilities:  52%|█████▏    | 187/357 [00:00<00:00, 258.74it/s]"
     ]
    },
    {
     "name": "stdout",
     "output_type": "stream",
     "text": [
      "Unk percentage: 0.004095004095004095\n"
     ]
    },
    {
     "name": "stderr",
     "output_type": "stream",
     "text": [
      "Computing transition probabilities:  71%|███████   | 253/357 [00:00<00:00, 289.12it/s]\n",
      "Computing transition probabilities: 100%|██████████| 357/357 [00:01<00:00, 283.02it/s]\n",
      "Generating walks (CPU: 1):   0%|          | 0/10 [00:00<?, ?it/s]"
     ]
    },
    {
     "name": "stdout",
     "output_type": "stream",
     "text": [
      "cluster began\n"
     ]
    },
    {
     "name": "stderr",
     "output_type": "stream",
     "text": [
      "\n"
     ]
    },
    {
     "name": "stdout",
     "output_type": "stream",
     "text": [
      "cluster end\n"
     ]
    },
    {
     "name": "stderr",
     "output_type": "stream",
     "text": [
      "\n",
      "Generating walks (CPU: 1):  60%|██████    | 6/10 [00:02<00:02,  1.99it/s]"
     ]
    },
    {
     "name": "stdout",
     "output_type": "stream",
     "text": [
      "Unk percentage: 0.010657193605683837\n",
      "[(('coast', 'NN'), 136.30119047618976), (('states', 'NNS'), 136.3345238095231), (('traffic', 'NN'), 136.57619047618974), (('slaves', 'NNS'), 140.75952380952324), (('trade', 'NN'), 142.28452380952328), (('their', 'PRP$'), 143.31785714285672), (('her', 'PRP$'), 143.9011904761901), (('it', 'PRP'), 149.30119047619038), (('to', 'TO'), 178.82619047619121)] (300,)\n"
     ]
    },
    {
     "name": "stderr",
     "output_type": "stream",
     "text": [
      "Computing transition probabilities:  30%|███       | 102/339 [00:00<00:00, 315.98it/s]"
     ]
    },
    {
     "name": "stdout",
     "output_type": "stream",
     "text": [
      "cluster began\n",
      "cluster end\n"
     ]
    },
    {
     "name": "stderr",
     "output_type": "stream",
     "text": [
      "Computing transition probabilities:  66%|██████▌   | 224/339 [00:00<00:00, 366.45it/s]"
     ]
    },
    {
     "name": "stdout",
     "output_type": "stream",
     "text": [
      "[(('flag', 'NN'), 69.95515873015896), (('4', 'CD'), 70.59404761904786), (('UNK', 'NNP'), 70.84563492063515), (('its', 'PRP$'), 73.53849206349228), (('to', 'TO'), 75.97142857142879), (('american', 'JJ'), 76.22738095238111), (('their', 'PRP$'), 77.36071428571441), (('they', 'PRP'), 79.32738095238099), (('it', 'PRP'), 79.76785714285718)] (300,)\n"
     ]
    },
    {
     "name": "stderr",
     "output_type": "stream",
     "text": [
      "Computing transition probabilities: 100%|██████████| 339/339 [00:00<00:00, 375.01it/s]\n",
      "Computing transition probabilities: 100%|██████████| 192/192 [00:00<00:00, 596.44it/s]\n",
      "Generating walks (CPU: 1):  20%|██        | 2/10 [00:01<00:07,  1.01it/s]"
     ]
    },
    {
     "name": "stdout",
     "output_type": "stream",
     "text": [
      "Unk percentage: 0.0023231801755291687\n",
      "Unk percentage: 0.006751687921980495\n"
     ]
    },
    {
     "name": "stderr",
     "output_type": "stream",
     "text": [
      "\r",
      "Generating walks (CPU: 1):  90%|█████████ | 9/10 [00:04<00:00,  1.82it/s]"
     ]
    },
    {
     "name": "stdout",
     "output_type": "stream",
     "text": [
      "Unk percentage: 0.002857142857142857\n"
     ]
    },
    {
     "name": "stderr",
     "output_type": "stream",
     "text": [
      "Generating walks (CPU: 1): 100%|██████████| 10/10 [00:05<00:00,  1.84it/s]"
     ]
    },
    {
     "name": "stdout",
     "output_type": "stream",
     "text": [
      "cluster began\n",
      "cluster end\n",
      "cluster began\n",
      "cluster end\n"
     ]
    },
    {
     "name": "stderr",
     "output_type": "stream",
     "text": [
      "Generating walks (CPU: 1):  70%|███████   | 7/10 [00:12<00:05,  1.91s/it]\n"
     ]
    },
    {
     "name": "stdout",
     "output_type": "stream",
     "text": [
      "[(('i', 'JJ'), 119.03134920634876), (('state', 'NN'), 120.53690476190437), (('my', 'PRP$'), 120.803571428571), (('will', 'MD'), 121.52023809523766), (('not', 'RB'), 121.97023809523768), (('our', 'PRP$'), 124.6535714285709), (('we', 'PRP'), 127.40357142857108), (('--', ':'), 136.7619047619041), (('to', 'TO'), 144.5980158730157)] (300,)\n"
     ]
    },
    {
     "name": "stderr",
     "output_type": "stream",
     "text": [
      "\n",
      "Computing transition probabilities:  44%|████▍     | 132/299 [00:00<00:00, 429.94it/s]"
     ]
    },
    {
     "name": "stdout",
     "output_type": "stream",
     "text": [
      "Unk percentage: 0.005477308294209703\n",
      "[(('who', 'WP'), 139.70952380952284), (('here', 'RB'), 143.77619047618967), (('we', 'PRP'), 144.4857142857135), (('UNK', 'NNP'), 144.71904761904682), (('it', 'PRP'), 146.55238095238025), (('my', 'PRP$'), 150.47619047618994), (('you', 'PRP'), 150.90238095238055), (('i', 'NN'), 155.3095238095236), (('to', 'TO'), 175.70000000000073)] (300,)\n"
     ]
    },
    {
     "name": "stderr",
     "output_type": "stream",
     "text": [
      "Computing transition probabilities:  58%|█████▊    | 173/299 [00:00<00:00, 423.17it/s]"
     ]
    },
    {
     "name": "stdout",
     "output_type": "stream",
     "text": [
      "Unk percentage: 0.0025452488687782806\n"
     ]
    },
    {
     "name": "stderr",
     "output_type": "stream",
     "text": [
      "Computing transition probabilities:  96%|█████████▌| 286/299 [00:00<00:00, 384.27it/s]"
     ]
    },
    {
     "name": "stdout",
     "output_type": "stream",
     "text": [
      "Unk percentage: 0.0031339031339031338\n"
     ]
    },
    {
     "name": "stderr",
     "output_type": "stream",
     "text": [
      "Computing transition probabilities: 100%|██████████| 299/299 [00:00<00:00, 395.95it/s]\n",
      "Computing transition probabilities:  44%|████▎     | 155/356 [00:00<00:00, 299.83it/s]"
     ]
    },
    {
     "name": "stdout",
     "output_type": "stream",
     "text": [
      "Unk percentage: 0.0037907505686125853\n"
     ]
    },
    {
     "name": "stderr",
     "output_type": "stream",
     "text": [
      "Computing transition probabilities: 100%|██████████| 356/356 [00:01<00:00, 337.73it/s]\n",
      "Generating walks (CPU: 1):   0%|          | 0/10 [00:00<?, ?it/s]"
     ]
    },
    {
     "name": "stdout",
     "output_type": "stream",
     "text": [
      "cluster began\n",
      "cluster end\n"
     ]
    },
    {
     "name": "stderr",
     "output_type": "stream",
     "text": [
      "Generating walks (CPU: 1):  50%|█████     | 5/10 [00:03<00:04,  1.22it/s]"
     ]
    },
    {
     "name": "stdout",
     "output_type": "stream",
     "text": [
      "Unk percentage: 0.004831320283215327\n",
      "[(('so', 'RB'), 149.74801587301496), (('they', 'PRP'), 151.1063492063484), (('their', 'PRP$'), 154.1563492063485), (('them', 'PRP'), 154.33849206349154), (('our', 'PRP$'), 158.14682539682477), (('not', 'RB'), 162.75515873015863), (('war', 'NN'), 163.38849206349207), (('it', 'PRP'), 164.8178571428571), (('to', 'TO'), 196.62182539682618)] (300,)\n"
     ]
    },
    {
     "name": "stderr",
     "output_type": "stream",
     "text": [
      "Computing transition probabilities:  21%|██        | 83/391 [00:00<00:01, 201.56it/s]"
     ]
    },
    {
     "name": "stdout",
     "output_type": "stream",
     "text": [
      "Unk percentage: 0.00291970802919708\n"
     ]
    },
    {
     "name": "stderr",
     "output_type": "stream",
     "text": [
      "Computing transition probabilities:  30%|███       | 118/391 [00:00<00:01, 186.09it/s]"
     ]
    },
    {
     "name": "stdout",
     "output_type": "stream",
     "text": [
      "Unk percentage: 0.0072064434082238235\n"
     ]
    },
    {
     "name": "stderr",
     "output_type": "stream",
     "text": [
      "Generating walks (CPU: 1):  20%|██        | 2/10 [00:01<00:07,  1.00it/s], 213.27it/s]"
     ]
    },
    {
     "name": "stdout",
     "output_type": "stream",
     "text": [
      "Unk percentage: 0.005479452054794521\n"
     ]
    },
    {
     "name": "stderr",
     "output_type": "stream",
     "text": [
      "Computing transition probabilities:  62%|██████▏   | 244/391 [00:01<00:00, 238.00it/s]"
     ]
    },
    {
     "name": "stdout",
     "output_type": "stream",
     "text": [
      "Unk percentage: 0.0020330368487928843\n"
     ]
    },
    {
     "name": "stderr",
     "output_type": "stream",
     "text": [
      "Computing transition probabilities: 100%|██████████| 391/391 [00:01<00:00, 244.49it/s]\n",
      "Generating walks (CPU: 1):  90%|█████████ | 9/10 [00:16<00:02,  2.07s/it]"
     ]
    },
    {
     "name": "stdout",
     "output_type": "stream",
     "text": [
      "Unk percentage: 0.0024238227146814403\n"
     ]
    },
    {
     "name": "stderr",
     "output_type": "stream",
     "text": [
      "\r",
      "Generating walks (CPU: 1):  70%|███████   | 7/10 [00:06<00:02,  1.04it/s]"
     ]
    },
    {
     "name": "stdout",
     "output_type": "stream",
     "text": [
      "Unk percentage: 0.001488316713796696\n"
     ]
    },
    {
     "name": "stderr",
     "output_type": "stream",
     "text": [
      "Generating walks (CPU: 1):  80%|████████  | 8/10 [00:07<00:01,  1.02it/s]"
     ]
    },
    {
     "name": "stdout",
     "output_type": "stream",
     "text": [
      "Unk percentage: 0.005771289791867965\n"
     ]
    },
    {
     "name": "stderr",
     "output_type": "stream",
     "text": [
      "Generating walks (CPU: 1):  50%|█████     | 5/10 [00:06<00:06,  1.30s/it]]"
     ]
    },
    {
     "name": "stdout",
     "output_type": "stream",
     "text": [
      "Unk percentage: 0.0025174825174825175\n"
     ]
    },
    {
     "name": "stderr",
     "output_type": "stream",
     "text": [
      "\r",
      "Generating walks (CPU: 1): 100%|██████████| 10/10 [00:09<00:00,  1.02it/s]"
     ]
    },
    {
     "name": "stdout",
     "output_type": "stream",
     "text": [
      "Unk percentage: 0.011682242990654205\n"
     ]
    },
    {
     "name": "stderr",
     "output_type": "stream",
     "text": [
      "\r",
      "Generating walks (CPU: 1):  60%|██████    | 6/10 [00:09<00:06,  1.68s/it]"
     ]
    },
    {
     "name": "stdout",
     "output_type": "stream",
     "text": [
      "cluster began\n",
      "cluster end\n"
     ]
    },
    {
     "name": "stderr",
     "output_type": "stream",
     "text": [
      "\n"
     ]
    },
    {
     "name": "stdout",
     "output_type": "stream",
     "text": [
      "[(('proclamation', 'NN'), 89.89999999999978), (('state', 'NN'), 90.31666666666645), (('people', 'NNS'), 90.44999999999978), (('day', 'NN'), 90.89999999999978), (('rebellion', 'NN'), 91.39999999999978), (('such', 'JJ'), 91.96666666666646), (('UNK', 'NNP'), 92.06666666666648), (('states', 'NNS'), 96.38333333333314), (('to', 'TO'), 96.7999999999998)] (300,)\n"
     ]
    },
    {
     "name": "stderr",
     "output_type": "stream",
     "text": [
      "Computing transition probabilities:  29%|██▊       | 59/206 [00:00<00:00, 581.36it/s]\n",
      "Computing transition probabilities: 100%|██████████| 206/206 [00:00<00:00, 465.83it/s]\n",
      "Generating walks (CPU: 1):  50%|█████     | 5/10 [00:07<00:07,  1.56s/it]"
     ]
    },
    {
     "name": "stdout",
     "output_type": "stream",
     "text": [
      "Unk percentage: 0.0047694753577106515\n",
      "cluster began\n",
      "cluster end\n"
     ]
    },
    {
     "name": "stderr",
     "output_type": "stream",
     "text": [
      "\r",
      "Generating walks (CPU: 1):  70%|███████   | 7/10 [00:11<00:05,  1.75s/it]"
     ]
    },
    {
     "name": "stdout",
     "output_type": "stream",
     "text": [
      "[(('menacing', 'NN'), 71.26785714285732), (('people', 'NNS'), 71.36785714285736), (('our', 'PRP$'), 73.77619047619068), (('right', 'NN'), 74.00119047619063), (('his', 'PRP$'), 75.36785714285726), (('we', 'PRP'), 78.73452380952381), (('not', 'RB'), 79.68452380952377), (('freedom', 'NN'), 79.95119047619045), (('to', 'TO'), 98.79285714285696)] (300,)\n"
     ]
    },
    {
     "name": "stderr",
     "output_type": "stream",
     "text": [
      "Computing transition probabilities: 100%|██████████| 184/184 [00:00<00:00, 721.12it/s]\n",
      "Generating walks (CPU: 1):  70%|███████   | 7/10 [00:09<00:04,  1.44s/it]"
     ]
    },
    {
     "name": "stdout",
     "output_type": "stream",
     "text": [
      "Unk percentage: 0.004816955684007707\n"
     ]
    },
    {
     "name": "stderr",
     "output_type": "stream",
     "text": [
      "Generating walks (CPU: 1):  30%|███       | 3/10 [00:02<00:05,  1.39it/s]"
     ]
    },
    {
     "name": "stdout",
     "output_type": "stream",
     "text": [
      "cluster began\n",
      "cluster end\n",
      "[(('--', ':'), 98.85238095238076), (('country', 'NN'), 100.31904761904734), (('relations', 'NNS'), 100.8285714285712), (('other', 'JJ'), 104.20238095238061), (('people', 'NNS'), 108.81904761904732), (('china', 'NN'), 109.20238095238061), (('our', 'PRP$'), 110.89999999999972), (('will', 'MD'), 112.45238095238064), (('to', 'TO'), 122.40238095238068)] (300,)\n"
     ]
    },
    {
     "name": "stderr",
     "output_type": "stream",
     "text": [
      "Computing transition probabilities: 100%|██████████| 250/250 [00:00<00:00, 515.01it/s]\n",
      "Generating walks (CPU: 1):  80%|████████  | 8/10 [00:07<00:01,  1.04it/s]]\n",
      "Generating walks (CPU: 1):  90%|█████████ | 9/10 [00:15<00:01,  1.81s/it]\n",
      "\n",
      "Generating walks (CPU: 1): 100%|██████████| 10/10 [00:07<00:00,  1.23it/s]"
     ]
    },
    {
     "name": "stdout",
     "output_type": "stream",
     "text": [
      "Unk percentage: 0.0014619883040935672\n",
      "Unk percentage: 0.0025020850708924102\n"
     ]
    },
    {
     "name": "stderr",
     "output_type": "stream",
     "text": [
      "Generating walks (CPU: 1): 100%|██████████| 10/10 [00:09<00:00,  1.01it/s]"
     ]
    },
    {
     "name": "stdout",
     "output_type": "stream",
     "text": [
      "Unk percentage: 0.0030452988199467074\n"
     ]
    },
    {
     "name": "stderr",
     "output_type": "stream",
     "text": [
      "\r",
      "Generating walks (CPU: 1): 100%|██████████| 10/10 [00:16<00:00,  1.83s/it]"
     ]
    },
    {
     "name": "stdout",
     "output_type": "stream",
     "text": [
      "Unk percentage: 0.004105571847507331\n",
      "Unk percentage: 0.010183299389002037\n"
     ]
    },
    {
     "name": "stderr",
     "output_type": "stream",
     "text": [
      "\n"
     ]
    },
    {
     "name": "stdout",
     "output_type": "stream",
     "text": [
      "Unk percentage: 0.0036325895173845357\n",
      "Unk percentage: 0.003280787388973354\n",
      "Unk percentage: 0.002292434964616765\n",
      "cluster began\n",
      "cluster end\n",
      "[(('humbly', 'RB'), 65.1166666666668), (('providence', 'NN'), 65.23333333333348), (('us', 'PRP'), 65.73333333333346), (('government', 'NN'), 65.96666666666681), (('people', 'NNS'), 66.45000000000014), (('great', 'JJ'), 68.0666666666668), (('his', 'PRP$'), 68.81666666666678), (('we', 'PRP'), 69.11666666666677), (('to', 'TO'), 87.83333333333319)] (300,)\n"
     ]
    },
    {
     "name": "stderr",
     "output_type": "stream",
     "text": [
      "Computing transition probabilities:   0%|          | 0/157 [00:00<?, ?it/s]\n",
      "Computing transition probabilities: 100%|██████████| 157/157 [00:00<00:00, 773.13it/s]\n",
      "Generating walks (CPU: 1):   0%|          | 0/10 [00:00<?, ?it/s]"
     ]
    },
    {
     "name": "stdout",
     "output_type": "stream",
     "text": [
      "Unk percentage: 0.005681818181818182\n",
      "Unk percentage: 0.00288704438830747\n"
     ]
    },
    {
     "name": "stderr",
     "output_type": "stream",
     "text": [
      "\r",
      "Generating walks (CPU: 1):  70%|███████   | 7/10 [00:07<00:03,  1.15s/it]"
     ]
    },
    {
     "name": "stdout",
     "output_type": "stream",
     "text": [
      "Unk percentage: 0.006329113924050633\n",
      "Unk percentage: 0.0033483431474425587\n"
     ]
    },
    {
     "name": "stderr",
     "output_type": "stream",
     "text": [
      "\r",
      "Generating walks (CPU: 1):  80%|████████  | 8/10 [00:15<00:04,  2.09s/it]"
     ]
    },
    {
     "name": "stdout",
     "output_type": "stream",
     "text": [
      "cluster began\n",
      "cluster end\n",
      "[(('my', 'PRP$'), 58.01666666666682), ((\"''\", \"''\"), 58.11666666666681), (('here', 'RB'), 58.616666666666816), (('country', 'NN'), 58.783333333333495), (('i', 'NN'), 61.03333333333348), (('united', 'JJ'), 63.60000000000015), (('we', 'PRP'), 65.8666666666668), (('you', 'PRP'), 70.25000000000009), (('to', 'TO'), 76.5999999999999)] (300,)\n"
     ]
    },
    {
     "name": "stderr",
     "output_type": "stream",
     "text": [
      "Computing transition probabilities:  54%|█████▎    | 80/149 [00:00<00:00, 796.57it/s]"
     ]
    },
    {
     "name": "stdout",
     "output_type": "stream",
     "text": [
      "cluster began\n",
      "cluster end\n"
     ]
    },
    {
     "name": "stderr",
     "output_type": "stream",
     "text": [
      "Generating walks (CPU: 1):  20%|██        | 2/10 [00:00<00:03,  2.31it/s], 737.70it/s]"
     ]
    },
    {
     "name": "stdout",
     "output_type": "stream",
     "text": [
      "Unk percentage: 0.002638522427440633\n"
     ]
    },
    {
     "name": "stderr",
     "output_type": "stream",
     "text": [
      "Computing transition probabilities: 100%|██████████| 149/149 [00:00<00:00, 632.08it/s]\n",
      "Generating walks (CPU: 1):   0%|          | 0/10 [00:00<?, ?it/s]\n"
     ]
    },
    {
     "name": "stdout",
     "output_type": "stream",
     "text": [
      "Unk percentage: 0.007279590186033971\n",
      "[(('when', 'WRB'), 71.54285714285736), (('commitments', 'NNS'), 73.55952380952404), (('there', 'EX'), 75.33333333333358), (('world', 'NN'), 75.60952380952403), (('you', 'PRP'), 78.19285714285728), (('us', 'PRP'), 78.79285714285724), (('not', 'RB'), 80.78333333333337), (('we', 'PRP'), 87.41666666666652), (('to', 'TO'), 92.34285714285693)] (300,)\n"
     ]
    },
    {
     "name": "stderr",
     "output_type": "stream",
     "text": [
      "Computing transition probabilities:  36%|███▋      | 73/201 [00:00<00:00, 728.27it/s]"
     ]
    },
    {
     "name": "stdout",
     "output_type": "stream",
     "text": [
      "Unk percentage: 0.015228426395939087\n"
     ]
    },
    {
     "name": "stderr",
     "output_type": "stream",
     "text": [
      "Generating walks (CPU: 1):  80%|████████  | 8/10 [00:08<00:02,  1.20s/it], 519.89it/s]"
     ]
    },
    {
     "name": "stdout",
     "output_type": "stream",
     "text": [
      "cluster began\n",
      "cluster end\n"
     ]
    },
    {
     "name": "stderr",
     "output_type": "stream",
     "text": [
      "Computing transition probabilities: 100%|██████████| 201/201 [00:00<00:00, 493.70it/s]\n",
      "Generating walks (CPU: 1):   0%|          | 0/10 [00:00<?, ?it/s]"
     ]
    },
    {
     "name": "stdout",
     "output_type": "stream",
     "text": [
      "cluster began\n",
      "cluster end\n",
      "[(('children', 'NNS'), 26.733333333333306), (('1861', 'CD'), 27.099999999999973), (('i', 'RB'), 27.099999999999977), (('i', 'NN'), 27.43333333333331), (('my', 'PRP$'), 27.466666666666637), (('not', 'RB'), 27.899999999999974), (('me', 'PRP'), 28.06666666666664), (('can', 'MD'), 29.616666666666642), (('you', 'PRP'), 29.89999999999998)] (300,)\n"
     ]
    },
    {
     "name": "stderr",
     "output_type": "stream",
     "text": [
      "Generating walks (CPU: 1):  20%|██        | 2/10 [00:00<00:03,  2.39it/s]]"
     ]
    },
    {
     "name": "stdout",
     "output_type": "stream",
     "text": [
      "[(('i', 'JJ'), 87.43849206349212), (('means', 'NNS'), 87.43849206349216), (('should', 'MD'), 87.74523809523821), (('he', 'PRP'), 90.57182539682535), (('so', 'RB'), 90.988492063492), (('them', 'PRP'), 91.21071428571429), (('it', 'PRP'), 94.60515873015859), (('their', 'PRP$'), 96.45515873015853), ((',', ','), 110.63968253968228)] (300,)\n"
     ]
    },
    {
     "name": "stderr",
     "output_type": "stream",
     "text": [
      "Computing transition probabilities: 100%|██████████| 66/66 [00:00<00:00, 1522.45it/s]\n",
      "Computing transition probabilities: 100%|██████████| 237/237 [00:00<00:00, 548.43it/s]\n",
      "Generating walks (CPU: 1):  50%|█████     | 5/10 [00:01<00:01,  4.01it/s]"
     ]
    },
    {
     "name": "stdout",
     "output_type": "stream",
     "text": [
      "Unk percentage: 0.0025471217524197657\n"
     ]
    },
    {
     "name": "stderr",
     "output_type": "stream",
     "text": [
      "Generating walks (CPU: 1):  60%|██████    | 6/10 [00:01<00:01,  3.74it/s]"
     ]
    },
    {
     "name": "stdout",
     "output_type": "stream",
     "text": [
      "Unk percentage: 0.002181818181818182\n"
     ]
    },
    {
     "name": "stderr",
     "output_type": "stream",
     "text": [
      "Generating walks (CPU: 1):  70%|███████   | 7/10 [00:01<00:00,  3.71it/s]"
     ]
    },
    {
     "name": "stdout",
     "output_type": "stream",
     "text": [
      "Unk percentage: 0.006524317912218268\n"
     ]
    },
    {
     "name": "stderr",
     "output_type": "stream",
     "text": [
      "\r",
      "Generating walks (CPU: 1): 100%|██████████| 10/10 [00:11<00:00,  1.20s/it]"
     ]
    },
    {
     "name": "stdout",
     "output_type": "stream",
     "text": [
      "Unk percentage: 0.0017401392111368909\n"
     ]
    },
    {
     "name": "stderr",
     "output_type": "stream",
     "text": [
      "Generating walks (CPU: 1):  80%|████████  | 8/10 [00:02<00:00,  3.64it/s]"
     ]
    },
    {
     "name": "stdout",
     "output_type": "stream",
     "text": [
      "Unk percentage: 0.001395916942941895\n"
     ]
    },
    {
     "name": "stderr",
     "output_type": "stream",
     "text": [
      "Generating walks (CPU: 1): 100%|██████████| 10/10 [00:02<00:00,  3.55it/s]"
     ]
    },
    {
     "name": "stdout",
     "output_type": "stream",
     "text": [
      "Unk percentage: 0.0018431056329915908\n"
     ]
    },
    {
     "name": "stderr",
     "output_type": "stream",
     "text": [
      "Generating walks (CPU: 1):  30%|███       | 3/10 [00:02<00:05,  1.34it/s]\n"
     ]
    },
    {
     "name": "stdout",
     "output_type": "stream",
     "text": [
      "Unk percentage: 0.0009433962264150943\n"
     ]
    },
    {
     "name": "stderr",
     "output_type": "stream",
     "text": [
      "\n"
     ]
    },
    {
     "name": "stdout",
     "output_type": "stream",
     "text": [
      "Unk percentage: 0.0076184166942696255\n"
     ]
    },
    {
     "name": "stderr",
     "output_type": "stream",
     "text": [
      "\r",
      "Generating walks (CPU: 1):  70%|███████   | 7/10 [00:05<00:02,  1.34it/s]"
     ]
    },
    {
     "name": "stdout",
     "output_type": "stream",
     "text": [
      "Unk percentage: 0.004051565377532229\n",
      "Unk percentage: 0.0008435259384226065\n"
     ]
    },
    {
     "name": "stderr",
     "output_type": "stream",
     "text": [
      "\r",
      "Generating walks (CPU: 1):  70%|███████   | 7/10 [00:04<00:01,  1.53it/s]"
     ]
    },
    {
     "name": "stdout",
     "output_type": "stream",
     "text": [
      "Unk percentage: 0.02\n"
     ]
    },
    {
     "name": "stderr",
     "output_type": "stream",
     "text": [
      "\r",
      "Generating walks (CPU: 1): 100%|██████████| 10/10 [00:20<00:00,  2.29s/it]"
     ]
    },
    {
     "name": "stdout",
     "output_type": "stream",
     "text": [
      "Unk percentage: 0.00117096018735363\n",
      "Unk percentage: 0.0022988505747126436\n"
     ]
    },
    {
     "name": "stderr",
     "output_type": "stream",
     "text": [
      "\r",
      "Generating walks (CPU: 1):  50%|█████     | 5/10 [00:03<00:04,  1.21it/s]"
     ]
    },
    {
     "name": "stdout",
     "output_type": "stream",
     "text": [
      "Unk percentage: 0.0009863554167351635\n"
     ]
    },
    {
     "name": "stderr",
     "output_type": "stream",
     "text": [
      "Generating walks (CPU: 1):  80%|████████  | 8/10 [00:05<00:01,  1.35it/s]"
     ]
    },
    {
     "name": "stdout",
     "output_type": "stream",
     "text": [
      "Unk percentage: 0.00303951367781155\n"
     ]
    },
    {
     "name": "stderr",
     "output_type": "stream",
     "text": [
      "\r",
      "Generating walks (CPU: 1):  80%|████████  | 8/10 [00:05<00:01,  1.45it/s]"
     ]
    },
    {
     "name": "stdout",
     "output_type": "stream",
     "text": [
      "cluster began\n",
      "cluster end\n",
      "cluster began\n",
      "cluster end\n"
     ]
    },
    {
     "name": "stderr",
     "output_type": "stream",
     "text": [
      "\r",
      "Generating walks (CPU: 1):  90%|█████████ | 9/10 [00:06<00:00,  1.31it/s]"
     ]
    },
    {
     "name": "stdout",
     "output_type": "stream",
     "text": [
      "[(('men', 'NNS'), 72.4500360750363), (('people', 'NNS'), 73.07781385281409), (('country', 'NN'), 74.73690476190498), (('coalition', 'NN'), 75.14246031746053), (('we', 'PRP'), 76.0833694083696), (('you', 'PRP'), 76.7500360750363), (('our', 'PRP$'), 89.33134920634905), (('will', 'MD'), 90.9091269841268), (('to', 'TO'), 97.5257936507934)] (300,)\n"
     ]
    },
    {
     "name": "stderr",
     "output_type": "stream",
     "text": [
      "\r",
      "Computing transition probabilities:   0%|          | 0/208 [00:00<?, ?it/s]"
     ]
    },
    {
     "name": "stdout",
     "output_type": "stream",
     "text": [
      "Unk percentage: 0.00821740537043028\n"
     ]
    },
    {
     "name": "stderr",
     "output_type": "stream",
     "text": [
      "Computing transition probabilities: 100%|██████████| 208/208 [00:00<00:00, 593.15it/s]\n",
      "Generating walks (CPU: 1):  50%|█████     | 5/10 [00:04<00:04,  1.01it/s]"
     ]
    },
    {
     "name": "stdout",
     "output_type": "stream",
     "text": [
      "[(('them', 'PRP'), 138.56190476190378), (('orleans', 'NNS'), 140.19523809523716), (('officials', 'NNS'), 141.74523809523717), (('going', 'VBG'), 143.2535714285705), (('people', 'NNS'), 143.57857142857048), (('you', 'PRP'), 143.82857142857048), (('local', 'JJ'), 144.36904761904668), (('i', 'NN'), 145.2452380952372), ((',', ','), 186.02857142857238)] (300,)\n"
     ]
    },
    {
     "name": "stderr",
     "output_type": "stream",
     "text": [
      "Computing transition probabilities:   9%|▉         | 35/380 [00:00<00:01, 342.52it/s]"
     ]
    },
    {
     "name": "stdout",
     "output_type": "stream",
     "text": [
      "Unk percentage: 0.001534683855125844\n"
     ]
    },
    {
     "name": "stderr",
     "output_type": "stream",
     "text": [
      "Computing transition probabilities:  23%|██▎       | 87/380 [00:00<00:01, 290.18it/s]"
     ]
    },
    {
     "name": "stdout",
     "output_type": "stream",
     "text": [
      "Unk percentage: 0.001443522194153735\n"
     ]
    },
    {
     "name": "stderr",
     "output_type": "stream",
     "text": [
      "Computing transition probabilities:  41%|████      | 155/380 [00:00<00:00, 309.09it/s]\n"
     ]
    },
    {
     "name": "stdout",
     "output_type": "stream",
     "text": [
      "Unk percentage: 0.003780718336483932\n"
     ]
    },
    {
     "name": "stderr",
     "output_type": "stream",
     "text": [
      "Computing transition probabilities:  57%|█████▋    | 215/380 [00:00<00:00, 297.61it/s]"
     ]
    },
    {
     "name": "stdout",
     "output_type": "stream",
     "text": [
      "Unk percentage: 0.0018240778273206323\n"
     ]
    },
    {
     "name": "stderr",
     "output_type": "stream",
     "text": [
      "Computing transition probabilities:  78%|███████▊  | 296/380 [00:00<00:00, 342.33it/s]\n",
      "Generating walks (CPU: 1):  60%|██████    | 6/10 [00:05<00:04,  1.06s/it]"
     ]
    },
    {
     "name": "stdout",
     "output_type": "stream",
     "text": [
      "Unk percentage: 0.002113271344040575\n"
     ]
    },
    {
     "name": "stderr",
     "output_type": "stream",
     "text": [
      "Computing transition probabilities:  88%|████████▊ | 336/380 [00:01<00:00, 357.59it/s]\n",
      "Computing transition probabilities: 100%|██████████| 380/380 [00:01<00:00, 326.19it/s]"
     ]
    },
    {
     "name": "stdout",
     "output_type": "stream",
     "text": [
      "Unk percentage: 0.0014074595355383533\n"
     ]
    },
    {
     "name": "stderr",
     "output_type": "stream",
     "text": [
      "\n",
      "Generating walks (CPU: 1):   0%|          | 0/10 [00:00<?, ?it/s]"
     ]
    },
    {
     "name": "stdout",
     "output_type": "stream",
     "text": [
      "Unk percentage: 0.0013861081164330818\n"
     ]
    },
    {
     "name": "stderr",
     "output_type": "stream",
     "text": [
      "\r",
      "Generating walks (CPU: 1):  80%|████████  | 8/10 [00:07<00:01,  1.01it/s]"
     ]
    },
    {
     "name": "stdout",
     "output_type": "stream",
     "text": [
      "Unk percentage: 0.007121563431599868\n",
      "Unk percentage: 0.00465046504650465\n",
      "Unk percentage: 0.005461993627674101\n"
     ]
    },
    {
     "name": "stderr",
     "output_type": "stream",
     "text": [
      "\r",
      "Generating walks (CPU: 1):  30%|███       | 3/10 [00:02<00:04,  1.45it/s]"
     ]
    },
    {
     "name": "stdout",
     "output_type": "stream",
     "text": [
      "Unk percentage: 0.0023677979479084454\n",
      "Unk percentage: 0.007462686567164179\n",
      "Unk percentage: 0.0035597745476119848\n"
     ]
    },
    {
     "name": "stderr",
     "output_type": "stream",
     "text": [
      "\r",
      "Generating walks (CPU: 1):  70%|███████   | 7/10 [00:07<00:03,  1.14s/it]"
     ]
    },
    {
     "name": "stdout",
     "output_type": "stream",
     "text": [
      "Unk percentage: 0.005728835136855506\n"
     ]
    },
    {
     "name": "stderr",
     "output_type": "stream",
     "text": [
      "\r",
      "Generating walks (CPU: 1):  90%|█████████ | 9/10 [00:08<00:01,  1.01s/it]"
     ]
    },
    {
     "name": "stdout",
     "output_type": "stream",
     "text": [
      "Unk percentage: 0.0025364616360177552\n",
      "cluster began\n",
      "cluster end\n",
      "Unk percentage: 0.014164305949008499\n",
      "Unk percentage: 0.007433038574907087\n"
     ]
    },
    {
     "name": "stderr",
     "output_type": "stream",
     "text": [
      "\r",
      "Generating walks (CPU: 1):  40%|████      | 4/10 [00:03<00:05,  1.15it/s]"
     ]
    },
    {
     "name": "stdout",
     "output_type": "stream",
     "text": [
      "cluster began\n",
      "cluster end\n",
      "cluster began\n",
      "cluster end\n",
      "Unk percentage: 0.004438807863031071\n",
      "[(('people', 'NNS'), 45.642857142857125), (('july', 'NN'), 46.269047619047626), (('UNK', 'NNP'), 49.49523809523814), (('day', 'NN'), 49.71904761904767), (('their', 'PRP$'), 51.36666666666673), (('he', 'PRP'), 51.816666666666755), ((';', ':'), 52.04523809523818), (('his', 'PRP$'), 54.25238095238106), (('to', 'TO'), 58.966666666666775)] (300,)\n"
     ]
    },
    {
     "name": "stderr",
     "output_type": "stream",
     "text": [
      "\r",
      "Computing transition probabilities:   0%|          | 0/133 [00:00<?, ?it/s]"
     ]
    },
    {
     "name": "stdout",
     "output_type": "stream",
     "text": [
      "[(('state', 'NN'), 132.4940476190467), (('it', 'PRP'), 132.66071428571342), (('our', 'PRP$'), 132.71785714285625), (('students', 'NNS'), 133.07738095238008), (('case', 'NN'), 134.73452380952295), (('who', 'WP'), 136.09999999999917), (('university', 'NN'), 137.31785714285633), (('court', 'NN'), 143.24285714285648), (('to', 'TO'), 167.30952380952442)] (300,)\n"
     ]
    },
    {
     "name": "stderr",
     "output_type": "stream",
     "text": [
      "Computing transition probabilities: 100%|██████████| 133/133 [00:00<00:00, 940.10it/s] \n",
      "Computing transition probabilities:  40%|████      | 139/346 [00:00<00:00, 332.02it/s]"
     ]
    },
    {
     "name": "stdout",
     "output_type": "stream",
     "text": [
      "[(('states', 'NNS'), 137.74999999999957), (('lands', 'NNS'), 140.2499999999998), (('united', 'JJ'), 140.74999999999972), (('not', 'RB'), 145.5833333333334), (('their', 'PRP$'), 147.85000000000014), (('will', 'MD'), 149.83333333333366), (('you', 'PRP'), 160.40000000000072), (('your', 'PRP$'), 162.58333333333408), (('to', 'TO'), 177.48333333333383)] (300,)\n"
     ]
    },
    {
     "name": "stderr",
     "output_type": "stream",
     "text": [
      "Computing transition probabilities:  60%|██████    | 209/346 [00:00<00:00, 310.68it/s]"
     ]
    },
    {
     "name": "stdout",
     "output_type": "stream",
     "text": [
      "cluster began\n",
      "cluster end\n"
     ]
    },
    {
     "name": "stderr",
     "output_type": "stream",
     "text": [
      "Computing transition probabilities: 100%|██████████| 346/346 [00:01<00:00, 334.90it/s]\n",
      "Computing transition probabilities:  80%|████████  | 253/316 [00:00<00:00, 346.87it/s]"
     ]
    },
    {
     "name": "stdout",
     "output_type": "stream",
     "text": [
      "[(('it', 'PRP'), 137.13333333333276), (('well', 'RB'), 137.63333333333279), ((';', ':'), 140.21666666666596), (('constitution', 'NN'), 141.46666666666633), (('insurrection', 'NN'), 142.51666666666637), (('people', 'NNS'), 144.71666666666655), (('state', 'NN'), 145.56666666666655), (('states', 'NNS'), 157.8833333333339), (('to', 'TO'), 172.2000000000007)] (300,)\n"
     ]
    },
    {
     "name": "stderr",
     "output_type": "stream",
     "text": [
      "Computing transition probabilities:  91%|█████████ | 286/316 [00:00<00:00, 339.07it/s]\n",
      "Computing transition probabilities: 100%|██████████| 316/316 [00:00<00:00, 331.07it/s]\n",
      "Generating walks (CPU: 1):  60%|██████    | 6/10 [00:05<00:04,  1.05s/it], 360.36it/s]"
     ]
    },
    {
     "name": "stdout",
     "output_type": "stream",
     "text": [
      "Unk percentage: 0.0034965034965034965\n"
     ]
    },
    {
     "name": "stderr",
     "output_type": "stream",
     "text": [
      "Computing transition probabilities: 100%|██████████| 329/329 [00:00<00:00, 337.08it/s]\n",
      "Generating walks (CPU: 1): 100%|██████████| 10/10 [00:11<00:00,  1.25s/it]"
     ]
    },
    {
     "name": "stdout",
     "output_type": "stream",
     "text": [
      "cluster began\n",
      "cluster end\n",
      "[(('liberty', 'NN'), 65.55000000000017), (('very', 'RB'), 65.86666666666684), (('their', 'PRP$'), 65.95000000000019), (('it', 'PRP'), 67.53333333333352), (('american', 'JJ'), 67.95000000000019), (('nationality', 'NN'), 68.88333333333351), (('americanism', 'NN'), 69.10000000000018), (('we', 'PRP'), 78.01666666666662), (('to', 'TO'), 83.98333333333314)] (300,)\n"
     ]
    },
    {
     "name": "stderr",
     "output_type": "stream",
     "text": [
      "Computing transition probabilities: 100%|██████████| 181/181 [00:00<00:00, 643.46it/s]\n",
      "Generating walks (CPU: 1):  60%|██████    | 6/10 [00:03<00:02,  1.65it/s]\n",
      "Generating walks (CPU: 1):  30%|███       | 3/10 [00:01<00:03,  1.84it/s]"
     ]
    },
    {
     "name": "stdout",
     "output_type": "stream",
     "text": [
      "Unk percentage: 0.004070556309362279\n"
     ]
    },
    {
     "name": "stderr",
     "output_type": "stream",
     "text": [
      "Generating walks (CPU: 1):  90%|█████████ | 9/10 [00:05<00:00,  1.61it/s]"
     ]
    },
    {
     "name": "stdout",
     "output_type": "stream",
     "text": [
      "cluster began\n",
      "cluster end\n"
     ]
    },
    {
     "name": "stderr",
     "output_type": "stream",
     "text": [
      "Generating walks (CPU: 1):  30%|███       | 3/10 [00:03<00:08,  1.19s/it]"
     ]
    },
    {
     "name": "stdout",
     "output_type": "stream",
     "text": [
      "[(('will', 'MD'), 85.55238095238086), (('navigation', 'NN'), 85.71904761904753), (('its', 'PRP$'), 85.95238095238088), (('it', 'PRP'), 90.3095238095236), (('such', 'JJ'), 91.64285714285684), (('texas', 'NN'), 91.76904761904736), (('treaty', 'NN'), 91.91904761904736), (('states', 'NNS'), 93.79285714285689), (('to', 'TO'), 116.99285714285695)] (300,)\n"
     ]
    },
    {
     "name": "stderr",
     "output_type": "stream",
     "text": [
      "Computing transition probabilities: 100%|██████████| 213/213 [00:00<00:00, 442.45it/s]\n",
      "Generating walks (CPU: 1):  40%|████      | 4/10 [00:05<00:08,  1.33s/it]\n",
      "Generating walks (CPU: 1):  40%|████      | 4/10 [00:05<00:08,  1.50s/it]"
     ]
    },
    {
     "name": "stdout",
     "output_type": "stream",
     "text": [
      "Unk percentage: 0.011734028683181226\n"
     ]
    },
    {
     "name": "stderr",
     "output_type": "stream",
     "text": [
      "\n",
      "Generating walks (CPU: 1):  60%|██████    | 6/10 [00:04<00:03,  1.24it/s]"
     ]
    },
    {
     "name": "stdout",
     "output_type": "stream",
     "text": [
      "cluster began\n",
      "cluster end\n",
      "[(('what', 'WP'), 102.4166666666664), (('nation', 'NN'), 102.48333333333305), (('states', 'NNS'), 103.66666666666637), (('themselves', 'PRP'), 104.233333333333), (('now', 'RB'), 105.1666666666663), (('enemy', 'NN'), 105.68333333333297), (('they', 'PRP'), 106.89999999999961), (('their', 'PRP$'), 110.21666666666626), (('to', 'TO'), 135.4499999999996)] (300,)\n"
     ]
    },
    {
     "name": "stderr",
     "output_type": "stream",
     "text": [
      "Computing transition probabilities:  21%|██        | 55/265 [00:00<00:00, 539.18it/s]"
     ]
    },
    {
     "name": "stdout",
     "output_type": "stream",
     "text": [
      "Unk percentage: 0.0008361204013377926\n"
     ]
    },
    {
     "name": "stderr",
     "output_type": "stream",
     "text": [
      "Computing transition probabilities:  82%|████████▏ | 217/265 [00:00<00:00, 536.69it/s]"
     ]
    },
    {
     "name": "stdout",
     "output_type": "stream",
     "text": [
      "Unk percentage: 0.002972651605231867\n"
     ]
    },
    {
     "name": "stderr",
     "output_type": "stream",
     "text": [
      "Computing transition probabilities: 100%|██████████| 265/265 [00:00<00:00, 515.32it/s]\n",
      "Generating walks (CPU: 1):  50%|█████     | 5/10 [00:07<00:08,  1.64s/it]"
     ]
    },
    {
     "name": "stdout",
     "output_type": "stream",
     "text": [
      "Unk percentage: 0.0015100671140939597\n",
      "Unk percentage: 0.0019180052745145048\n"
     ]
    },
    {
     "name": "stderr",
     "output_type": "stream",
     "text": [
      "Generating walks (CPU: 1):  80%|████████  | 8/10 [00:06<00:01,  1.15it/s]"
     ]
    },
    {
     "name": "stdout",
     "output_type": "stream",
     "text": [
      "Unk percentage: 0.0035587188612099642\n"
     ]
    },
    {
     "name": "stderr",
     "output_type": "stream",
     "text": [
      "\r",
      "Generating walks (CPU: 1):  40%|████      | 4/10 [00:03<00:04,  1.24it/s]"
     ]
    },
    {
     "name": "stdout",
     "output_type": "stream",
     "text": [
      "Unk percentage: 0.005361930294906166\n"
     ]
    },
    {
     "name": "stderr",
     "output_type": "stream",
     "text": [
      "Generating walks (CPU: 1):  20%|██        | 2/10 [00:01<00:05,  1.56it/s]"
     ]
    },
    {
     "name": "stdout",
     "output_type": "stream",
     "text": [
      "cluster began\n",
      "cluster end\n"
     ]
    },
    {
     "name": "stderr",
     "output_type": "stream",
     "text": [
      "\r",
      "Generating walks (CPU: 1):  90%|█████████ | 9/10 [00:07<00:00,  1.11it/s]"
     ]
    },
    {
     "name": "stdout",
     "output_type": "stream",
     "text": [
      "[(('``', '``'), 87.98452380952372), (('only', 'RB'), 88.48452380952371), (('senate', 'NN'), 88.88452380952369), (('should', 'MD'), 88.98452380952368), (('relations', 'NNS'), 89.54285714285705), (('congress', 'NN'), 93.09999999999978), (('not', 'RB'), 93.28452380952358), (('our', 'PRP$'), 97.80119047619016), ((',', ','), 122.24285714285692)] (300,)\n"
     ]
    },
    {
     "name": "stderr",
     "output_type": "stream",
     "text": [
      "Computing transition probabilities: 100%|██████████| 222/222 [00:00<00:00, 519.29it/s]\n",
      "Generating walks (CPU: 1):  20%|██        | 2/10 [00:01<00:04,  1.85it/s]]\n",
      "Generating walks (CPU: 1):  70%|███████   | 7/10 [00:10<00:04,  1.66s/it]"
     ]
    },
    {
     "name": "stdout",
     "output_type": "stream",
     "text": [
      "Unk percentage: 0.0144\n"
     ]
    },
    {
     "name": "stderr",
     "output_type": "stream",
     "text": [
      "Generating walks (CPU: 1):  80%|████████  | 8/10 [00:12<00:03,  1.63s/it]"
     ]
    },
    {
     "name": "stdout",
     "output_type": "stream",
     "text": [
      "cluster began\n",
      "cluster end\n",
      "[(('rights', 'NNS'), 71.28531746031766), (('personal', 'JJ'), 72.00198412698431), (('world', 'NN'), 72.45039682539705), (('UNK', 'NNP'), 72.82817460317479), (('it', 'PRP'), 74.48531746031763), (('not', 'RB'), 74.65198412698432), (('we', 'PRP'), 74.90198412698432), (('party', 'NN'), 76.8686507936509), (('to', 'TO'), 94.20079365079347)] (300,)\n"
     ]
    },
    {
     "name": "stderr",
     "output_type": "stream",
     "text": [
      "Computing transition probabilities: 100%|██████████| 195/195 [00:00<00:00, 707.09it/s]\n",
      "Generating walks (CPU: 1):  40%|████      | 4/10 [00:02<00:04,  1.40it/s]]\n",
      "Generating walks (CPU: 1):  80%|████████  | 8/10 [00:09<00:02,  1.23s/it]"
     ]
    },
    {
     "name": "stdout",
     "output_type": "stream",
     "text": [
      "Unk percentage: 0.0036877688998156115\n"
     ]
    },
    {
     "name": "stderr",
     "output_type": "stream",
     "text": [
      "Generating walks (CPU: 1): 100%|██████████| 10/10 [00:16<00:00,  1.68s/it]\n",
      "Generating walks (CPU: 1): 100%|██████████| 10/10 [00:17<00:00,  1.84s/it]"
     ]
    },
    {
     "name": "stdout",
     "output_type": "stream",
     "text": [
      "Unk percentage: 0.004484896451655455\n",
      "Unk percentage: 0.0016863406408094434\n"
     ]
    },
    {
     "name": "stderr",
     "output_type": "stream",
     "text": [
      "Generating walks (CPU: 1):  60%|██████    | 6/10 [00:04<00:03,  1.15it/s]\n"
     ]
    },
    {
     "name": "stdout",
     "output_type": "stream",
     "text": [
      "Unk percentage: 0.0013351134846461949\n"
     ]
    },
    {
     "name": "stderr",
     "output_type": "stream",
     "text": [
      "\r",
      "Generating walks (CPU: 1):  90%|█████████ | 9/10 [00:10<00:01,  1.25s/it]"
     ]
    },
    {
     "name": "stdout",
     "output_type": "stream",
     "text": [
      "cluster began\n",
      "cluster end\n",
      "Unk percentage: 0.008438818565400843\n"
     ]
    },
    {
     "name": "stderr",
     "output_type": "stream",
     "text": [
      "\n",
      "Generating walks (CPU: 1):  90%|█████████ | 9/10 [00:08<00:01,  1.07s/it]\n"
     ]
    },
    {
     "name": "stdout",
     "output_type": "stream",
     "text": [
      "[(('congress', 'NN'), 148.13333333333344), (('shall', 'MD'), 148.13333333333347), (('not', 'RB'), 150.13333333333352), (('states', 'NNS'), 151.65000000000032), (('its', 'PRP$'), 152.30000000000024), (('state', 'NN'), 152.48333333333375), (('it', 'PRP'), 154.3833333333338), (('constitution', 'NN'), 154.76666666666713), (('to', 'TO'), 194.23333333333375)] (300,)\n"
     ]
    },
    {
     "name": "stderr",
     "output_type": "stream",
     "text": [
      "Computing transition probabilities:  20%|██        | 66/327 [00:00<00:00, 335.01it/s]"
     ]
    },
    {
     "name": "stdout",
     "output_type": "stream",
     "text": [
      "cluster began\n",
      "cluster end\n"
     ]
    },
    {
     "name": "stderr",
     "output_type": "stream",
     "text": [
      "Computing transition probabilities:  83%|████████▎ | 270/327 [00:00<00:00, 392.93it/s]"
     ]
    },
    {
     "name": "stdout",
     "output_type": "stream",
     "text": [
      "[(('our', 'PRP$'), 119.94285714285671), (('respect', 'NN'), 120.78333333333282), ((';', ':'), 121.45952380952332), (('attention', 'NN'), 122.61666666666615), (('importance', 'NN'), 123.66666666666617), (('may', 'MD'), 124.36666666666618), (('you', 'PRP'), 128.56666666666615), (('will', 'MD'), 137.06666666666612), ((',', ','), 166.53333333333407)] (300,)\n"
     ]
    },
    {
     "name": "stderr",
     "output_type": "stream",
     "text": [
      "Computing transition probabilities: 100%|██████████| 327/327 [00:00<00:00, 359.73it/s]\n",
      "Generating walks (CPU: 1):   0%|          | 0/10 [00:00<?, ?it/s]"
     ]
    },
    {
     "name": "stdout",
     "output_type": "stream",
     "text": [
      "Unk percentage: 0.004317323259579061\n"
     ]
    },
    {
     "name": "stderr",
     "output_type": "stream",
     "text": [
      "Computing transition probabilities:  87%|████████▋ | 271/312 [00:00<00:00, 387.49it/s]\n"
     ]
    },
    {
     "name": "stdout",
     "output_type": "stream",
     "text": [
      "Unk percentage: 0.008280430582390284\n"
     ]
    },
    {
     "name": "stderr",
     "output_type": "stream",
     "text": [
      "Computing transition probabilities: 100%|██████████| 312/312 [00:00<00:00, 355.63it/s]\n",
      "Generating walks (CPU: 1):  90%|█████████ | 9/10 [00:07<00:00,  1.03it/s]"
     ]
    },
    {
     "name": "stdout",
     "output_type": "stream",
     "text": [
      "Unk percentage: 0.003661662394727206\n",
      "cluster began\n",
      "cluster end\n",
      "Unk percentage: 0.0034497628288055198\n"
     ]
    },
    {
     "name": "stderr",
     "output_type": "stream",
     "text": [
      "\n"
     ]
    },
    {
     "name": "stdout",
     "output_type": "stream",
     "text": [
      "Unk percentage: 0.0032520325203252032\n",
      "Unk percentage: 0.00625\n",
      "cluster began\n",
      "cluster end\n",
      "[(('states', 'NNS'), 34.7833333333333), (('department', 'NN'), 34.89999999999996), (('military', 'JJ'), 35.066666666666634), (('such', 'JJ'), 35.19999999999997), (('refugees', 'NNS'), 36.03333333333331), (('bureau', 'NN'), 36.483333333333306), (('officers', 'NNS'), 37.23333333333333), (('lands', 'NNS'), 37.78333333333334), (('to', 'TO'), 39.866666666666696)] (300,)\n"
     ]
    },
    {
     "name": "stderr",
     "output_type": "stream",
     "text": [
      "\r",
      "Computing transition probabilities:   0%|          | 0/85 [00:00<?, ?it/s]"
     ]
    },
    {
     "name": "stdout",
     "output_type": "stream",
     "text": [
      "Unk percentage: 0.0025348542458808617\n"
     ]
    },
    {
     "name": "stderr",
     "output_type": "stream",
     "text": [
      "\r",
      "Generating walks (CPU: 1): 100%|██████████| 10/10 [00:08<00:00,  1.00it/s]"
     ]
    },
    {
     "name": "stdout",
     "output_type": "stream",
     "text": [
      "[(('congress', 'NN'), 159.5532106782107), (('would', 'MD'), 160.28654401154395), (('human', 'JJ'), 161.60321067821067), (('it', 'PRP'), 164.203210678211), (('i', 'NN'), 164.76987734487773), (('we', 'PRP'), 170.67896825396895), (('our', 'PRP$'), 170.678968253969), (('research', 'NN'), 181.86987734487835), ((',', ','), 211.64563492063562)] (300,)\n"
     ]
    },
    {
     "name": "stderr",
     "output_type": "stream",
     "text": [
      "Computing transition probabilities: 100%|██████████| 85/85 [00:00<00:00, 997.22it/s]\n",
      "Computing transition probabilities:  16%|█▌        | 61/388 [00:00<00:01, 308.10it/s]"
     ]
    },
    {
     "name": "stdout",
     "output_type": "stream",
     "text": [
      "Unk percentage: 0.005787037037037037\n"
     ]
    },
    {
     "name": "stderr",
     "output_type": "stream",
     "text": [
      "\r",
      "Computing transition probabilities:  24%|██▎       | 92/388 [00:00<00:00, 307.59it/s]"
     ]
    },
    {
     "name": "stdout",
     "output_type": "stream",
     "text": [
      "Unk percentage: 0.005113900511390051\n"
     ]
    },
    {
     "name": "stderr",
     "output_type": "stream",
     "text": [
      "Generating walks (CPU: 1):  20%|██        | 2/10 [00:00<00:01,  5.10it/s], 325.17it/s]"
     ]
    },
    {
     "name": "stdout",
     "output_type": "stream",
     "text": [
      "Unk percentage: 0.0018009905447996398\n"
     ]
    },
    {
     "name": "stderr",
     "output_type": "stream",
     "text": [
      "\r",
      "Computing transition probabilities:  42%|████▏     | 164/388 [00:00<00:00, 326.53it/s]"
     ]
    },
    {
     "name": "stdout",
     "output_type": "stream",
     "text": [
      "Unk percentage: 0.005678537054860443\n"
     ]
    },
    {
     "name": "stderr",
     "output_type": "stream",
     "text": [
      "Computing transition probabilities:  56%|█████▌    | 218/388 [00:00<00:00, 270.51it/s]"
     ]
    },
    {
     "name": "stdout",
     "output_type": "stream",
     "text": [
      "Unk percentage: 0.00241721053903795\n"
     ]
    },
    {
     "name": "stderr",
     "output_type": "stream",
     "text": [
      "\r",
      "Computing transition probabilities:  65%|██████▍   | 251/388 [00:00<00:00, 284.94it/s]"
     ]
    },
    {
     "name": "stdout",
     "output_type": "stream",
     "text": [
      "cluster began\n",
      "cluster end\n"
     ]
    },
    {
     "name": "stderr",
     "output_type": "stream",
     "text": [
      "Generating walks (CPU: 1):  30%|███       | 3/10 [00:00<00:01,  3.54it/s], 290.88it/s]\n",
      "Computing transition probabilities: 100%|██████████| 388/388 [00:01<00:00, 298.15it/s]"
     ]
    },
    {
     "name": "stdout",
     "output_type": "stream",
     "text": [
      "Unk percentage: 0.004297868608016841\n"
     ]
    },
    {
     "name": "stderr",
     "output_type": "stream",
     "text": [
      "\n",
      "Generating walks (CPU: 1):  40%|████      | 4/10 [00:01<00:01,  3.20it/s]"
     ]
    },
    {
     "name": "stdout",
     "output_type": "stream",
     "text": [
      "[(('reason', 'NN'), 103.73333333333315), (('conscience', 'NN'), 105.8666666666664), (('our', 'PRP$'), 106.93333333333314), (('he', 'PRP'), 108.54999999999974), (('UNK', 'NNP'), 109.14999999999966), ((';', ':'), 110.33333333333302), (('can', 'MD'), 111.84999999999955), (('people', 'NNS'), 114.7666666666662), ((',', ','), 143.44999999999985)] (300,)\n"
     ]
    },
    {
     "name": "stderr",
     "output_type": "stream",
     "text": [
      "\r",
      "Computing transition probabilities:   0%|          | 0/281 [00:00<?, ?it/s]"
     ]
    },
    {
     "name": "stdout",
     "output_type": "stream",
     "text": [
      "Unk percentage: 0.004310344827586207\n"
     ]
    },
    {
     "name": "stderr",
     "output_type": "stream",
     "text": [
      "Computing transition probabilities:  73%|███████▎  | 206/281 [00:00<00:00, 406.27it/s]"
     ]
    },
    {
     "name": "stdout",
     "output_type": "stream",
     "text": [
      "cluster began\n",
      "cluster end\n",
      "Unk percentage: 0.00819672131147541\n"
     ]
    },
    {
     "name": "stderr",
     "output_type": "stream",
     "text": [
      "Computing transition probabilities: 100%|██████████| 281/281 [00:00<00:00, 400.52it/s]\n"
     ]
    },
    {
     "name": "stdout",
     "output_type": "stream",
     "text": [
      "Unk percentage: 0.005050505050505051\n",
      "[(('our', 'PRP$'), 59.717857142857284), (('corps', 'NN'), 60.35952380952395), (('who', 'WP'), 60.90119047619062), ((',', ','), 61.56904761904775), (('we', 'PRP'), 62.209523809523965), (('it', 'PRP'), 62.27619047619063), (('peace', 'NN'), 63.30952380952397), (('--', ':'), 67.47619047619064), (('will', 'MD'), 70.91666666666681)] (300,)\n"
     ]
    },
    {
     "name": "stderr",
     "output_type": "stream",
     "text": [
      "Computing transition probabilities: 100%|██████████| 159/159 [00:00<00:00, 531.12it/s]\n",
      "Generating walks (CPU: 1):   0%|          | 0/10 [00:00<?, ?it/s]"
     ]
    },
    {
     "name": "stdout",
     "output_type": "stream",
     "text": [
      "cluster began\n",
      "cluster end\n",
      "cluster began\n",
      "cluster end\n"
     ]
    },
    {
     "name": "stderr",
     "output_type": "stream",
     "text": [
      "\r",
      "Generating walks (CPU: 1):  70%|███████   | 7/10 [00:02<00:01,  2.40it/s]"
     ]
    },
    {
     "name": "stdout",
     "output_type": "stream",
     "text": [
      "[(('years', 'NNS'), 75.86666666666686), (('state', 'NN'), 76.11666666666684), (('objections', 'NNS'), 76.2833333333335), (('``', '``'), 78.88333333333341), (('it', 'PRP'), 80.81666666666669), ((\"''\", \"''\"), 84.5499999999999), (('convention', 'NN'), 85.11666666666657), (('government', 'NN'), 88.61666666666645), ((',', ','), 105.39999999999978)] (300,)\n",
      "[(('production', 'NN'), 73.159523809524), (('producer', 'NN'), 74.25000000000013), (('aspirations', 'NNS'), 74.25000000000013), (('problems', 'NNS'), 74.25000000000013), (('our', 'PRP$'), 74.44285714285735), (('capital', 'NN'), 74.75000000000013), (('republic', 'NN'), 74.91666666666679), (('storehouses', 'NNS'), 76.3333333333334), (('to', 'TO'), 103.13333333333313)] (300,)\n"
     ]
    },
    {
     "name": "stderr",
     "output_type": "stream",
     "text": [
      "Computing transition probabilities: 100%|██████████| 198/198 [00:00<00:00, 687.78it/s]\n",
      "Computing transition probabilities: 100%|██████████| 194/194 [00:00<00:00, 582.65it/s]\n",
      "Generating walks (CPU: 1):  20%|██        | 2/10 [00:01<00:04,  1.97it/s]]\n"
     ]
    },
    {
     "name": "stdout",
     "output_type": "stream",
     "text": [
      "Unk percentage: 0.004901960784313725\n"
     ]
    },
    {
     "name": "stderr",
     "output_type": "stream",
     "text": [
      "\r",
      "Generating walks (CPU: 1):  40%|████      | 4/10 [00:02<00:03,  1.81it/s]"
     ]
    },
    {
     "name": "stdout",
     "output_type": "stream",
     "text": [
      "cluster began\n",
      "cluster end\n"
     ]
    },
    {
     "name": "stderr",
     "output_type": "stream",
     "text": [
      "\r",
      "Generating walks (CPU: 1):  30%|███       | 3/10 [00:01<00:04,  1.58it/s]"
     ]
    },
    {
     "name": "stdout",
     "output_type": "stream",
     "text": [
      "[(('will', 'MD'), 41.70357142857142), (('i', 'RB'), 41.7440476190476), (('long', 'RB'), 42.7440476190476), (('must', 'MD'), 43.09404761904761), (('principles', 'NNS'), 43.52619047619045), (('great', 'JJ'), 44.54404761904763), (('government', 'NN'), 47.62738095238102), (('i', 'NN'), 50.377380952381046), (('to', 'TO'), 54.242857142857254)] (300,)\n"
     ]
    },
    {
     "name": "stderr",
     "output_type": "stream",
     "text": [
      "Computing transition probabilities: 100%|██████████| 123/123 [00:00<00:00, 951.30it/s] \n",
      "Generating walks (CPU: 1):  60%|██████    | 6/10 [00:07<00:05,  1.34s/it]]\n",
      "Generating walks (CPU: 1):  80%|████████  | 8/10 [00:11<00:03,  1.51s/it]]"
     ]
    },
    {
     "name": "stdout",
     "output_type": "stream",
     "text": [
      "Unk percentage: 0.0011995201919232307\n"
     ]
    },
    {
     "name": "stderr",
     "output_type": "stream",
     "text": [
      "Generating walks (CPU: 1):  80%|████████  | 8/10 [00:12<00:03,  1.62s/it]\n"
     ]
    },
    {
     "name": "stdout",
     "output_type": "stream",
     "text": [
      "Unk percentage: 0.002749770852428964\n"
     ]
    },
    {
     "name": "stderr",
     "output_type": "stream",
     "text": [
      "\r",
      "Generating walks (CPU: 1):  90%|█████████ | 9/10 [00:07<00:00,  1.07it/s]"
     ]
    },
    {
     "name": "stdout",
     "output_type": "stream",
     "text": [
      "Unk percentage: 0.0035460992907801418\n",
      "cluster began\n",
      "cluster end\n"
     ]
    },
    {
     "name": "stderr",
     "output_type": "stream",
     "text": [
      "Generating walks (CPU: 1): 100%|██████████| 10/10 [00:08<00:00,  1.06it/s]"
     ]
    },
    {
     "name": "stdout",
     "output_type": "stream",
     "text": [
      "[(('who', 'WP'), 105.17619047619006), (('i', 'JJ'), 105.79285714285675), (('national', 'JJ'), 108.79285714285672), (('your', 'PRP$'), 109.04285714285677), (('it', 'PRP'), 109.28333333333292), (('you', 'PRP'), 114.81666666666632), (('will', 'MD'), 116.14999999999966), (('we', 'PRP'), 123.36666666666636), (('to', 'TO'), 134.64999999999992)] (300,)\n"
     ]
    },
    {
     "name": "stderr",
     "output_type": "stream",
     "text": [
      "\r",
      "Computing transition probabilities:   0%|          | 0/244 [00:00<?, ?it/s]"
     ]
    },
    {
     "name": "stdout",
     "output_type": "stream",
     "text": [
      "cluster began\n"
     ]
    },
    {
     "name": "stderr",
     "output_type": "stream",
     "text": [
      "\r",
      "Computing transition probabilities:   9%|▉         | 23/244 [00:00<00:00, 228.46it/s]"
     ]
    },
    {
     "name": "stdout",
     "output_type": "stream",
     "text": [
      "cluster end\n"
     ]
    },
    {
     "name": "stderr",
     "output_type": "stream",
     "text": [
      "Computing transition probabilities: 100%|██████████| 244/244 [00:00<00:00, 438.58it/s]\n",
      "Generating walks (CPU: 1):   0%|          | 0/10 [00:00<?, ?it/s]"
     ]
    },
    {
     "name": "stdout",
     "output_type": "stream",
     "text": [
      "[(('carolina', 'NN'), 105.23333333333296), (('its', 'PRP$'), 106.48333333333294), (('united', 'JJ'), 107.21666666666631), (('loyal', 'JJ'), 109.6166666666662), (('government', 'NN'), 110.19999999999952), (('shall', 'MD'), 115.99999999999957), (('states', 'NNS'), 121.56666666666626), (('state', 'NN'), 125.23333333333291), (('to', 'TO'), 146.83333333333368)] (300,)\n"
     ]
    },
    {
     "name": "stderr",
     "output_type": "stream",
     "text": [
      "Computing transition probabilities:  74%|███████▍  | 202/273 [00:00<00:00, 501.26it/s]\n",
      "Computing transition probabilities: 100%|██████████| 273/273 [00:00<00:00, 480.36it/s]\n",
      "Generating walks (CPU: 1):   0%|          | 0/10 [00:00<?, ?it/s]\n",
      "Generating walks (CPU: 1): 100%|██████████| 10/10 [00:14<00:00,  1.59s/it]"
     ]
    },
    {
     "name": "stdout",
     "output_type": "stream",
     "text": [
      "Unk percentage: 0.004209183673469388\n",
      "Unk percentage: 0.011146496815286623\n"
     ]
    },
    {
     "name": "stderr",
     "output_type": "stream",
     "text": [
      "Generating walks (CPU: 1): 100%|██████████| 10/10 [00:16<00:00,  1.70s/it]"
     ]
    },
    {
     "name": "stdout",
     "output_type": "stream",
     "text": [
      "Unk percentage: 0.006220839813374806\n"
     ]
    },
    {
     "name": "stderr",
     "output_type": "stream",
     "text": [
      "\r",
      "Generating walks (CPU: 1):  20%|██        | 2/10 [00:01<00:05,  1.39it/s]"
     ]
    },
    {
     "name": "stdout",
     "output_type": "stream",
     "text": [
      "cluster began\n",
      "cluster end\n",
      "cluster began\n",
      "cluster end\n",
      "[(('not', 'RB'), 73.3107142857145), (('free', 'JJ'), 73.37738095238115), (('american', 'JJ'), 76.09404761904773), (('our', 'PRP$'), 77.6134920634922), (('america', 'NN'), 78.26071428571434), (('them', 'PRP'), 78.44404761904764), (('we', 'PRP'), 80.8940476190476), (('UNK', 'NNP'), 81.09404761904757), (('to', 'TO'), 89.13015873015854)] (300,)\n"
     ]
    },
    {
     "name": "stderr",
     "output_type": "stream",
     "text": [
      "Computing transition probabilities:  38%|███▊      | 72/191 [00:00<00:00, 712.68it/s]"
     ]
    },
    {
     "name": "stdout",
     "output_type": "stream",
     "text": [
      "[(('government', 'NN'), 67.56785714285735), (('other', 'JJ'), 67.56785714285735), (('mexican', 'JJ'), 68.14285714285737), (('shall', 'MD'), 68.39285714285737), (('it', 'PRP'), 70.21230158730178), (('republic', 'NN'), 71.70119047619066), (('may', 'MD'), 74.19285714285726), (('treaty', 'NN'), 77.0011904761905), (('to', 'TO'), 92.06785714285701)] (300,)\n"
     ]
    },
    {
     "name": "stderr",
     "output_type": "stream",
     "text": [
      "Computing transition probabilities: 100%|██████████| 191/191 [00:00<00:00, 595.03it/s]\n",
      "Computing transition probabilities: 100%|██████████| 179/179 [00:00<00:00, 716.20it/s]\n",
      "Generating walks (CPU: 1):   0%|          | 0/10 [00:00<?, ?it/s]\n",
      "Generating walks (CPU: 1): 100%|██████████| 10/10 [00:13<00:00,  1.45s/it]\n",
      "Generating walks (CPU: 1):  30%|███       | 3/10 [00:01<00:03,  1.86it/s]\n",
      "Generating walks (CPU: 1):  50%|█████     | 5/10 [00:05<00:05,  1.03s/it]"
     ]
    },
    {
     "name": "stdout",
     "output_type": "stream",
     "text": [
      "Unk percentage: 0.0041356492969396195\n"
     ]
    },
    {
     "name": "stderr",
     "output_type": "stream",
     "text": [
      "\r",
      "Generating walks (CPU: 1):  40%|████      | 4/10 [00:04<00:06,  1.13s/it]"
     ]
    },
    {
     "name": "stdout",
     "output_type": "stream",
     "text": [
      "Unk percentage: 0.0011280315848843769\n"
     ]
    },
    {
     "name": "stderr",
     "output_type": "stream",
     "text": [
      "\r",
      "Generating walks (CPU: 1):  40%|████      | 4/10 [00:02<00:03,  1.53it/s]"
     ]
    },
    {
     "name": "stdout",
     "output_type": "stream",
     "text": [
      "cluster began\n",
      "cluster end\n"
     ]
    },
    {
     "name": "stderr",
     "output_type": "stream",
     "text": [
      "Generating walks (CPU: 1):  90%|█████████ | 9/10 [00:17<00:02,  2.06s/it]"
     ]
    },
    {
     "name": "stdout",
     "output_type": "stream",
     "text": [
      "cluster began\n",
      "cluster end\n",
      "[(('treaties', 'NNS'), 119.12619047618995), (('my', 'PRP$'), 119.62619047618998), (('house', 'NN'), 120.54285714285666), ((';', ':'), 122.48333333333275), (('states', 'NNS'), 122.64999999999954), (('treaty', 'NN'), 123.12619047619002), (('it', 'PRP'), 125.09285714285669), (('constitution', 'NN'), 127.79285714285675), (('to', 'TO'), 155.48333333333377)] (300,)\n"
     ]
    },
    {
     "name": "stderr",
     "output_type": "stream",
     "text": [
      "Computing transition probabilities:  33%|███▎      | 92/277 [00:00<00:00, 468.91it/s]"
     ]
    },
    {
     "name": "stdout",
     "output_type": "stream",
     "text": [
      "Unk percentage: 0.005767844268204758\n"
     ]
    },
    {
     "name": "stderr",
     "output_type": "stream",
     "text": [
      "Computing transition probabilities:  66%|██████▋   | 184/277 [00:00<00:00, 458.17it/s]"
     ]
    },
    {
     "name": "stdout",
     "output_type": "stream",
     "text": [
      "[(('power', 'NN'), 129.48333333333275), (('votes', 'NNS'), 129.5999999999994), (('shall', 'MD'), 129.9833333333328), (('union', 'NN'), 132.56666666666618), (('congress', 'NN'), 133.31666666666615), (('constitution', 'NN'), 133.8999999999996), (('their', 'PRP$'), 133.98333333333292), (('states', 'NNS'), 148.48333333333366), (('to', 'TO'), 166.40000000000063)] (300,)\n"
     ]
    },
    {
     "name": "stderr",
     "output_type": "stream",
     "text": [
      "Computing transition probabilities: 100%|██████████| 277/277 [00:00<00:00, 396.94it/s]\n",
      "Computing transition probabilities:  51%|█████     | 149/295 [00:00<00:00, 309.71it/s]"
     ]
    },
    {
     "name": "stdout",
     "output_type": "stream",
     "text": [
      "cluster began\n",
      "cluster end\n"
     ]
    },
    {
     "name": "stderr",
     "output_type": "stream",
     "text": [
      "Computing transition probabilities: 100%|██████████| 295/295 [00:00<00:00, 336.08it/s]\n",
      "Generating walks (CPU: 1):  60%|██████    | 6/10 [00:05<00:03,  1.14it/s]"
     ]
    },
    {
     "name": "stdout",
     "output_type": "stream",
     "text": [
      "[(('its', 'PRP$'), 138.8833333333326), (('specie', 'NN'), 140.43333333333285), (('medium', 'NN'), 141.2666666666662), (('not', 'RB'), 142.9666666666663), (('public', 'JJ'), 143.34999999999962), (('will', 'MD'), 146.29999999999984), (('it', 'PRP'), 146.63333333333316), (('bank', 'NN'), 149.26666666666668), (('to', 'TO'), 189.81666666666734)] (300,)\n"
     ]
    },
    {
     "name": "stderr",
     "output_type": "stream",
     "text": [
      "Generating walks (CPU: 1):  80%|████████  | 8/10 [00:08<00:02,  1.20s/it], 368.68it/s]\n",
      "Generating walks (CPU: 1):  90%|█████████ | 9/10 [00:07<00:00,  1.14it/s]\n",
      "Generating walks (CPU: 1):  40%|████      | 4/10 [00:04<00:06,  1.14s/it]]\n",
      "Generating walks (CPU: 1):  30%|███       | 3/10 [00:03<00:07,  1.09s/it]\n"
     ]
    },
    {
     "name": "stdout",
     "output_type": "stream",
     "text": [
      "Unk percentage: 0.000855431993156544\n"
     ]
    },
    {
     "name": "stderr",
     "output_type": "stream",
     "text": [
      "\n",
      "Generating walks (CPU: 1):  90%|█████████ | 9/10 [00:11<00:01,  1.40s/it]"
     ]
    },
    {
     "name": "stdout",
     "output_type": "stream",
     "text": [
      "Unk percentage: 0.0020060180541624875\n",
      "Unk percentage: 0.0051325919589392645\n"
     ]
    },
    {
     "name": "stderr",
     "output_type": "stream",
     "text": [
      "\r",
      "Generating walks (CPU: 1):  50%|█████     | 5/10 [00:05<00:06,  1.24s/it]"
     ]
    },
    {
     "name": "stdout",
     "output_type": "stream",
     "text": [
      "Unk percentage: 0.006309148264984227\n",
      "cluster began\n",
      "cluster end\n",
      "cluster began\n",
      "cluster end\n"
     ]
    },
    {
     "name": "stderr",
     "output_type": "stream",
     "text": [
      "\r",
      "Generating walks (CPU: 1):  50%|█████     | 5/10 [00:06<00:06,  1.27s/it]"
     ]
    },
    {
     "name": "stdout",
     "output_type": "stream",
     "text": [
      "Unk percentage: 0.0050327126321087065\n",
      "cluster began\n",
      "cluster end\n",
      "[(('their', 'PRP$'), 125.67738095238047), (('loans', 'NNS'), 125.92738095238046), (('industry', 'NN'), 127.2773809523805), (('we', 'PRP'), 127.4773809523805), (('will', 'MD'), 131.1690476190469), (('automakers', 'NNS'), 134.1773809523803), (('bankruptcy', 'NN'), 134.7761904761898), (('they', 'PRP'), 135.50238095238035), ((',', ','), 164.25952380952438)] (300,)\n"
     ]
    },
    {
     "name": "stderr",
     "output_type": "stream",
     "text": [
      "Computing transition probabilities:  13%|█▎        | 39/309 [00:00<00:00, 388.92it/s]"
     ]
    },
    {
     "name": "stdout",
     "output_type": "stream",
     "text": [
      "[(('dream', 'NN'), 73.87619047619069), (('duty', 'NN'), 74.95952380952399), (('i', 'NN'), 75.20952380952397), (('not', 'RB'), 79.24285714285716), (('world', 'NN'), 80.69285714285715), (('it', 'PRP'), 82.89285714285711), (('we', 'PRP'), 85.07619047619036), (('our', 'PRP$'), 85.82619047619032), (('to', 'TO'), 103.81666666666649)] (300,)\n",
      "[(('thus', 'RB'), 122.66547619047579), (('service', 'NN'), 124.62261904761863), (('it', 'PRP'), 124.74761904761861), (('would', 'MD'), 127.01309523809483), (('congress', 'NN'), 127.48928571428532), (('troops', 'NNS'), 127.5321428571424), (('not', 'RB'), 129.72142857142802), (('army', 'NN'), 134.54404761904684), (('to', 'TO'), 164.0023809523813)] (300,)\n"
     ]
    },
    {
     "name": "stderr",
     "output_type": "stream",
     "text": [
      "Computing transition probabilities:   0%|          | 0/336 [00:00<?, ?it/s]"
     ]
    },
    {
     "name": "stdout",
     "output_type": "stream",
     "text": [
      "Unk percentage: 0.0033583255232739768\n"
     ]
    },
    {
     "name": "stderr",
     "output_type": "stream",
     "text": [
      "Computing transition probabilities: 100%|██████████| 195/195 [00:00<00:00, 475.65it/s]\n",
      "Computing transition probabilities:  62%|██████▏   | 207/336 [00:00<00:00, 339.34it/s]"
     ]
    },
    {
     "name": "stdout",
     "output_type": "stream",
     "text": [
      "Unk percentage: 0.002554278416347382\n"
     ]
    },
    {
     "name": "stderr",
     "output_type": "stream",
     "text": [
      "Computing transition probabilities: 100%|██████████| 309/309 [00:00<00:00, 328.18it/s]\n",
      "Computing transition probabilities: 100%|██████████| 336/336 [00:01<00:00, 328.39it/s]\n",
      "Generating walks (CPU: 1):  60%|██████    | 6/10 [00:07<00:05,  1.36s/it]"
     ]
    },
    {
     "name": "stdout",
     "output_type": "stream",
     "text": [
      "cluster began\n",
      "cluster end\n"
     ]
    },
    {
     "name": "stderr",
     "output_type": "stream",
     "text": [
      "\n",
      "Generating walks (CPU: 1):  20%|██        | 2/10 [00:00<00:03,  2.07it/s]"
     ]
    },
    {
     "name": "stdout",
     "output_type": "stream",
     "text": [
      "[(('germany', 'NN'), 84.58571428571425), (('free', 'JJ'), 85.88571428571423), (('will', 'MD'), 85.96904761904754), (('your', 'PRP$'), 86.26904761904756), (('world', 'NN'), 86.31904761904754), (('people', 'NNS'), 86.73571428571418), (('city', 'NN'), 89.98571428571408), (('who', 'WP'), 92.53571428571409), (('to', 'TO'), 102.97619047619031)] (300,)\n"
     ]
    },
    {
     "name": "stderr",
     "output_type": "stream",
     "text": [
      "Computing transition probabilities: 100%|██████████| 210/210 [00:00<00:00, 598.75it/s]\n",
      "Generating walks (CPU: 1):  70%|███████   | 7/10 [00:09<00:04,  1.41s/it]"
     ]
    },
    {
     "name": "stdout",
     "output_type": "stream",
     "text": [
      "Unk percentage: 0.0027675276752767526\n"
     ]
    },
    {
     "name": "stderr",
     "output_type": "stream",
     "text": [
      "Generating walks (CPU: 1):  80%|████████  | 8/10 [00:10<00:02,  1.43s/it]"
     ]
    },
    {
     "name": "stdout",
     "output_type": "stream",
     "text": [
      "cluster began\n",
      "cluster end\n"
     ]
    },
    {
     "name": "stderr",
     "output_type": "stream",
     "text": [
      "\r",
      "Generating walks (CPU: 1):  60%|██████    | 6/10 [00:08<00:06,  1.57s/it]"
     ]
    },
    {
     "name": "stdout",
     "output_type": "stream",
     "text": [
      "[(('authority', 'NN'), 98.9666666666663), (('united', 'JJ'), 99.30952380952357), (('president', 'NN'), 102.68333333333293), (('may', 'MD'), 103.68333333333294), (('rebellion', 'NN'), 105.54999999999964), (('persons', 'NNS'), 109.09999999999967), (('states', 'NNS'), 110.76666666666634), (('who', 'WP'), 110.99999999999966), (('to', 'TO'), 119.48333333333302)] (300,)\n"
     ]
    },
    {
     "name": "stderr",
     "output_type": "stream",
     "text": [
      "Computing transition probabilities: 100%|██████████| 254/254 [00:00<00:00, 437.07it/s]\n",
      "Generating walks (CPU: 1):  50%|█████     | 5/10 [00:06<00:06,  1.32s/it]]\n",
      "Generating walks (CPU: 1):  50%|█████     | 5/10 [00:07<00:07,  1.55s/it]\n",
      "Generating walks (CPU: 1):  80%|████████  | 8/10 [00:07<00:01,  1.04it/s]]"
     ]
    },
    {
     "name": "stdout",
     "output_type": "stream",
     "text": [
      "Unk percentage: 0.0037019898195279964\n",
      "Unk percentage: 0.002785515320334262\n"
     ]
    },
    {
     "name": "stderr",
     "output_type": "stream",
     "text": [
      "\r",
      "Generating walks (CPU: 1):  50%|█████     | 5/10 [00:05<00:05,  1.09s/it]"
     ]
    },
    {
     "name": "stdout",
     "output_type": "stream",
     "text": [
      "cluster began\n"
     ]
    },
    {
     "name": "stderr",
     "output_type": "stream",
     "text": [
      "\n"
     ]
    },
    {
     "name": "stdout",
     "output_type": "stream",
     "text": [
      "cluster end\n",
      "Unk percentage: 0.003827751196172249\n"
     ]
    },
    {
     "name": "stderr",
     "output_type": "stream",
     "text": [
      "Generating walks (CPU: 1): 100%|██████████| 10/10 [00:15<00:00,  1.71s/it]"
     ]
    },
    {
     "name": "stdout",
     "output_type": "stream",
     "text": [
      "[(('i', 'NN'), 151.83333333333354), (('it', 'PRP'), 152.83333333333377), (('them', 'PRP'), 154.83333333333377), (('shall', 'MD'), 154.83333333333383), ((';', ':'), 165.0333333333342), (('will', 'MD'), 166.33333333333422), (('your', 'PRP$'), 171.8333333333341), (('you', 'PRP'), 172.6666666666673), (('to', 'TO'), 203.16666666666714)] (300,)\n"
     ]
    },
    {
     "name": "stderr",
     "output_type": "stream",
     "text": [
      "\r",
      "Computing transition probabilities:   0%|          | 0/337 [00:00<?, ?it/s]"
     ]
    },
    {
     "name": "stdout",
     "output_type": "stream",
     "text": [
      "cluster began\n",
      "cluster end\n"
     ]
    },
    {
     "name": "stderr",
     "output_type": "stream",
     "text": [
      "Computing transition probabilities:  15%|█▍        | 50/337 [00:00<00:01, 213.84it/s]"
     ]
    },
    {
     "name": "stdout",
     "output_type": "stream",
     "text": [
      "Unk percentage: 0.0031746031746031746\n"
     ]
    },
    {
     "name": "stderr",
     "output_type": "stream",
     "text": [
      "Computing transition probabilities:  33%|███▎      | 110/337 [00:00<00:00, 248.58it/s]"
     ]
    },
    {
     "name": "stdout",
     "output_type": "stream",
     "text": [
      "[(('will', 'MD'), 100.4833333333331), (('very', 'RB'), 100.74999999999964), ((\"''\", \"''\"), 103.14999999999962), (('men', 'NNS'), 104.84285714285674), (('they', 'PRP'), 107.30952380952338), (('not', 'RB'), 107.7095238095234), (('who', 'WP'), 109.08333333333293), (('we', 'PRP'), 113.49999999999962), (('to', 'TO'), 125.233333333333)] (300,)\n"
     ]
    },
    {
     "name": "stderr",
     "output_type": "stream",
     "text": [
      "Computing transition probabilities:  41%|████▏     | 103/249 [00:00<00:00, 479.12it/s]"
     ]
    },
    {
     "name": "stdout",
     "output_type": "stream",
     "text": [
      "cluster began\n"
     ]
    },
    {
     "name": "stderr",
     "output_type": "stream",
     "text": [
      "Computing transition probabilities:  64%|██████▍   | 159/249 [00:00<00:00, 499.13it/s]"
     ]
    },
    {
     "name": "stdout",
     "output_type": "stream",
     "text": [
      "cluster end\n"
     ]
    },
    {
     "name": "stderr",
     "output_type": "stream",
     "text": [
      "Computing transition probabilities: 100%|██████████| 249/249 [00:00<00:00, 499.70it/s]\n",
      "Computing transition probabilities:  75%|███████▌  | 254/337 [00:00<00:00, 264.15it/s]"
     ]
    },
    {
     "name": "stdout",
     "output_type": "stream",
     "text": [
      "[(('sacrifices', 'NNS'), 72.86349206349227), (('american', 'JJ'), 73.84682539682562), (('i', 'NN'), 74.34801587301611), ((\"''\", \"''\"), 74.9230158730161), (('not', 'RB'), 75.32896825396847), (('we', 'PRP'), 75.44682539682562), (('there', 'EX'), 75.83849206349227), (('who', 'WP'), 81.19404761904765), ((',', ','), 98.69404761904737)] (300,)\n"
     ]
    },
    {
     "name": "stderr",
     "output_type": "stream",
     "text": [
      "Computing transition probabilities: 100%|██████████| 337/337 [00:01<00:00, 272.85it/s]\n",
      "Computing transition probabilities: 100%|██████████| 202/202 [00:00<00:00, 567.86it/s]\n",
      "Generating walks (CPU: 1):  80%|████████  | 8/10 [00:11<00:03,  1.60s/it]\n",
      "Generating walks (CPU: 1):  70%|███████   | 7/10 [00:08<00:03,  1.27s/it]\n",
      "Generating walks (CPU: 1):  20%|██        | 2/10 [00:00<00:03,  2.03it/s]"
     ]
    },
    {
     "name": "stdout",
     "output_type": "stream",
     "text": [
      "Unk percentage: 0.0061707233459033254\n"
     ]
    },
    {
     "name": "stderr",
     "output_type": "stream",
     "text": [
      "Generating walks (CPU: 1):  20%|██        | 2/10 [00:01<00:07,  1.14it/s]"
     ]
    },
    {
     "name": "stdout",
     "output_type": "stream",
     "text": [
      "Unk percentage: 0.0043720190779014305\n"
     ]
    },
    {
     "name": "stderr",
     "output_type": "stream",
     "text": [
      "\r",
      "Generating walks (CPU: 1):  90%|█████████ | 9/10 [00:13<00:01,  1.59s/it]"
     ]
    },
    {
     "name": "stdout",
     "output_type": "stream",
     "text": [
      "Unk percentage: 0.0026469031233456856\n"
     ]
    },
    {
     "name": "stderr",
     "output_type": "stream",
     "text": [
      "\r",
      "Generating walks (CPU: 1):  80%|████████  | 8/10 [00:13<00:03,  1.74s/it]"
     ]
    },
    {
     "name": "stdout",
     "output_type": "stream",
     "text": [
      "Unk percentage: 0.004701457451810061\n"
     ]
    },
    {
     "name": "stderr",
     "output_type": "stream",
     "text": [
      "Generating walks (CPU: 1):  30%|███       | 3/10 [00:02<00:05,  1.21it/s]"
     ]
    },
    {
     "name": "stdout",
     "output_type": "stream",
     "text": [
      "Unk percentage: 0.005829903978052126\n",
      "Unk percentage: 0.007462686567164179\n",
      "Unk percentage: 0.003458144526591939\n",
      "cluster began\n",
      "cluster end\n",
      "[(('would', 'MD'), 53.63333333333347), (('it', 'PRP'), 53.80000000000014), (('according', 'VBG'), 54.03333333333345), (('being', 'VBG'), 55.033333333333445), (('authority', 'NN'), 55.45000000000012), (('church', 'NN'), 56.96666666666679), ((\"''\", \"''\"), 57.050000000000125), (('bill', 'NN'), 58.11666666666677), (('to', 'TO'), 66.16666666666674)] (300,)\n"
     ]
    },
    {
     "name": "stderr",
     "output_type": "stream",
     "text": [
      "\r",
      "Computing transition probabilities:   0%|          | 0/130 [00:00<?, ?it/s]"
     ]
    },
    {
     "name": "stdout",
     "output_type": "stream",
     "text": [
      "Unk percentage: 0.0032175032175032173\n"
     ]
    },
    {
     "name": "stderr",
     "output_type": "stream",
     "text": [
      "Computing transition probabilities: 100%|██████████| 130/130 [00:00<00:00, 624.91it/s]\n",
      "Generating walks (CPU: 1): 100%|██████████| 10/10 [00:15<00:00,  1.68s/it]"
     ]
    },
    {
     "name": "stdout",
     "output_type": "stream",
     "text": [
      "cluster began\n",
      "cluster end\n"
     ]
    },
    {
     "name": "stderr",
     "output_type": "stream",
     "text": [
      "Generating walks (CPU: 1):  30%|███       | 3/10 [00:01<00:03,  2.26it/s]]"
     ]
    },
    {
     "name": "stdout",
     "output_type": "stream",
     "text": [
      "[(('production', 'NN'), 154.0999999999997), (('i', 'NN'), 154.26666666666642), (('nothing', 'NN'), 154.73333333333315), (('--', ':'), 155.43333333333314), (('not', 'RB'), 157.11666666666665), (('we', 'PRP'), 160.81666666666672), (('congress', 'NN'), 166.3666666666671), (('energy', 'NN'), 178.86666666666767), (('to', 'TO'), 194.3833333333342)] (300,)\n"
     ]
    },
    {
     "name": "stderr",
     "output_type": "stream",
     "text": [
      "Computing transition probabilities:  67%|██████▋   | 252/376 [00:00<00:00, 303.29it/s]\n",
      "Generating walks (CPU: 1): 100%|██████████| 10/10 [00:16<00:00,  1.82s/it] 293.06it/s]\n",
      "Computing transition probabilities: 100%|██████████| 376/376 [00:01<00:00, 292.77it/s]\n",
      "Generating walks (CPU: 1):  70%|███████   | 7/10 [00:03<00:01,  1.82it/s]"
     ]
    },
    {
     "name": "stdout",
     "output_type": "stream",
     "text": [
      "Unk percentage: 0.0012338062924120913\n",
      "Unk percentage: 0.002770083102493075\n"
     ]
    },
    {
     "name": "stderr",
     "output_type": "stream",
     "text": [
      "Generating walks (CPU: 1):  50%|█████     | 5/10 [00:07<00:07,  1.52s/it]"
     ]
    },
    {
     "name": "stdout",
     "output_type": "stream",
     "text": [
      "Unk percentage: 0.011283497884344146\n"
     ]
    },
    {
     "name": "stderr",
     "output_type": "stream",
     "text": [
      "Generating walks (CPU: 1):  80%|████████  | 8/10 [00:04<00:01,  1.79it/s]\n"
     ]
    },
    {
     "name": "stdout",
     "output_type": "stream",
     "text": [
      "Unk percentage: 0.001405591129158207\n",
      "cluster began\n",
      "cluster end\n"
     ]
    },
    {
     "name": "stderr",
     "output_type": "stream",
     "text": [
      "Generating walks (CPU: 1):  90%|█████████ | 9/10 [00:08<00:00,  1.06it/s]"
     ]
    },
    {
     "name": "stdout",
     "output_type": "stream",
     "text": [
      "Unk percentage: 0.00597609561752988\n"
     ]
    },
    {
     "name": "stderr",
     "output_type": "stream",
     "text": [
      "\r",
      "Generating walks (CPU: 1):  90%|█████████ | 9/10 [00:05<00:00,  1.61it/s]"
     ]
    },
    {
     "name": "stdout",
     "output_type": "stream",
     "text": [
      "[(('constitution', 'NN'), 119.51666666666625), (('it', 'PRP'), 119.63333333333293), (('my', 'PRP$'), 120.01666666666627), (('resolution', 'NN'), 120.43333333333293), (('tennessee', 'NN'), 121.39999999999961), (('state', 'NN'), 123.8166666666663), (('congress', 'NN'), 125.68333333333295), (('states', 'NNS'), 127.84999999999965), (('to', 'TO'), 152.56666666666715)] (300,)\n"
     ]
    },
    {
     "name": "stderr",
     "output_type": "stream",
     "text": [
      "\r",
      "Computing transition probabilities:   0%|          | 0/274 [00:00<?, ?it/s]"
     ]
    },
    {
     "name": "stdout",
     "output_type": "stream",
     "text": [
      "Unk percentage: 0.003745318352059925\n"
     ]
    },
    {
     "name": "stderr",
     "output_type": "stream",
     "text": [
      "Computing transition probabilities: 100%|██████████| 274/274 [00:00<00:00, 343.94it/s]"
     ]
    },
    {
     "name": "stdout",
     "output_type": "stream",
     "text": [
      "cluster began\n"
     ]
    },
    {
     "name": "stderr",
     "output_type": "stream",
     "text": [
      "\n"
     ]
    },
    {
     "name": "stdout",
     "output_type": "stream",
     "text": [
      "cluster end\n"
     ]
    },
    {
     "name": "stderr",
     "output_type": "stream",
     "text": [
      "\r",
      "Generating walks (CPU: 1):   0%|          | 0/10 [00:00<?, ?it/s]"
     ]
    },
    {
     "name": "stdout",
     "output_type": "stream",
     "text": [
      "Unk percentage: 0.00946372239747634\n"
     ]
    },
    {
     "name": "stderr",
     "output_type": "stream",
     "text": [
      "\n"
     ]
    },
    {
     "name": "stdout",
     "output_type": "stream",
     "text": [
      "[(('they', 'PRP'), 128.73333333333267), (('today', 'NN'), 129.66666666666598), (('congress', 'NN'), 130.58333333333266), (('members', 'NNS'), 133.3333333333327), (('their', 'PRP$'), 134.28333333333268), (('tax', 'NN'), 136.68333333333263), (('it', 'PRP'), 139.16666666666615), (('we', 'PRP'), 139.2333333333329), (('to', 'TO'), 152.74999999999997)] (300,)\n"
     ]
    },
    {
     "name": "stderr",
     "output_type": "stream",
     "text": [
      "\r",
      "Computing transition probabilities:   0%|          | 0/323 [00:00<?, ?it/s]"
     ]
    },
    {
     "name": "stdout",
     "output_type": "stream",
     "text": [
      "cluster began\n"
     ]
    },
    {
     "name": "stderr",
     "output_type": "stream",
     "text": [
      "\r",
      "Computing transition probabilities:  12%|█▏        | 38/323 [00:00<00:00, 374.76it/s]"
     ]
    },
    {
     "name": "stdout",
     "output_type": "stream",
     "text": [
      "cluster end\n",
      "[(('citizens', 'NNS'), 40.916666666666664), (('1854', 'CD'), 40.96666666666667), (('proclamation', 'NN'), 41.050000000000004), (('january', 'NN'), 41.46666666666667), (('states', 'NNS'), 41.51666666666667), (('president', 'NN'), 41.56666666666667), (('power', 'NN'), 43.766666666666715), (('enterprises', 'NNS'), 44.63333333333339), (('to', 'TO'), 48.71666666666675)] (300,)\n"
     ]
    },
    {
     "name": "stderr",
     "output_type": "stream",
     "text": [
      "Computing transition probabilities: 100%|██████████| 109/109 [00:00<00:00, 940.57it/s] \n",
      "\n",
      "Generating walks (CPU: 1):   0%|          | 0/10 [00:00<?, ?it/s]"
     ]
    },
    {
     "name": "stdout",
     "output_type": "stream",
     "text": [
      "Unk percentage: 0.00528169014084507\n"
     ]
    },
    {
     "name": "stderr",
     "output_type": "stream",
     "text": [
      "Computing transition probabilities:  57%|█████▋    | 184/323 [00:00<00:00, 361.03it/s]"
     ]
    },
    {
     "name": "stdout",
     "output_type": "stream",
     "text": [
      "Unk percentage: 0.010014306151645207\n"
     ]
    },
    {
     "name": "stderr",
     "output_type": "stream",
     "text": [
      "Computing transition probabilities: 100%|██████████| 323/323 [00:00<00:00, 362.29it/s]\n",
      "Generating walks (CPU: 1):  70%|███████   | 7/10 [00:10<00:04,  1.66s/it]"
     ]
    },
    {
     "name": "stdout",
     "output_type": "stream",
     "text": [
      "cluster began\n",
      "cluster end\n"
     ]
    },
    {
     "name": "stderr",
     "output_type": "stream",
     "text": [
      "\r",
      "Generating walks (CPU: 1):  20%|██        | 2/10 [00:01<00:06,  1.15it/s]"
     ]
    },
    {
     "name": "stdout",
     "output_type": "stream",
     "text": [
      "[(('part', 'NN'), 84.59999999999991), (('possession', 'NN'), 85.08333333333329), (('same', 'JJ'), 87.34999999999982), (('states', 'NNS'), 88.31666666666646), (('it', 'PRP'), 89.33333333333314), (('laws', 'NNS'), 89.8666666666664), (('their', 'PRP$'), 90.94999999999975), (('territory', 'NN'), 95.64999999999972), (('to', 'TO'), 108.11666666666642)] (300,)\n"
     ]
    },
    {
     "name": "stderr",
     "output_type": "stream",
     "text": [
      "\r",
      "Computing transition probabilities:   0%|          | 0/209 [00:00<?, ?it/s]"
     ]
    },
    {
     "name": "stdout",
     "output_type": "stream",
     "text": [
      "Unk percentage: 0.0022827327572150662\n"
     ]
    },
    {
     "name": "stderr",
     "output_type": "stream",
     "text": [
      "Computing transition probabilities: 100%|██████████| 209/209 [00:00<00:00, 536.99it/s]\n",
      "Generating walks (CPU: 1):   0%|          | 0/10 [00:00<?, ?it/s]"
     ]
    },
    {
     "name": "stdout",
     "output_type": "stream",
     "text": [
      "Unk percentage: 0.004\n"
     ]
    },
    {
     "name": "stderr",
     "output_type": "stream",
     "text": [
      "\r",
      "Generating walks (CPU: 1):  40%|████      | 4/10 [00:01<00:02,  2.37it/s]"
     ]
    },
    {
     "name": "stdout",
     "output_type": "stream",
     "text": [
      "Unk percentage: 0.004968944099378882\n"
     ]
    },
    {
     "name": "stderr",
     "output_type": "stream",
     "text": [
      "Generating walks (CPU: 1):  20%|██        | 2/10 [00:01<00:07,  1.09it/s]"
     ]
    },
    {
     "name": "stdout",
     "output_type": "stream",
     "text": [
      "cluster began\n",
      "cluster end\n"
     ]
    },
    {
     "name": "stderr",
     "output_type": "stream",
     "text": [
      "Generating walks (CPU: 1):  20%|██        | 2/10 [00:01<00:04,  1.88it/s]\n",
      "Generating walks (CPU: 1):  60%|██████    | 6/10 [00:02<00:01,  2.15it/s]"
     ]
    },
    {
     "name": "stdout",
     "output_type": "stream",
     "text": [
      "[(('war', 'NN'), 86.56190476190474), (('there', 'EX'), 86.67619047619048), (('we', 'PRP'), 86.87857142857145), (('our', 'PRP$'), 88.3190476190476), (('never', 'RB'), 88.66190476190468), (('who', 'WP'), 90.24523809523795), (('it', 'PRP'), 96.07619047619019), (('not', 'RB'), 99.68571428571401), (('to', 'TO'), 104.28571428571404)] (300,)\n"
     ]
    },
    {
     "name": "stderr",
     "output_type": "stream",
     "text": [
      "Computing transition probabilities: 100%|██████████| 223/223 [00:00<00:00, 520.40it/s]\n",
      "Generating walks (CPU: 1):  40%|████      | 4/10 [00:04<00:06,  1.15s/it]"
     ]
    },
    {
     "name": "stdout",
     "output_type": "stream",
     "text": [
      "Unk percentage: 0.00205761316872428\n"
     ]
    },
    {
     "name": "stderr",
     "output_type": "stream",
     "text": [
      "\r",
      "Generating walks (CPU: 1):  80%|████████  | 8/10 [00:03<00:01,  1.98it/s]"
     ]
    },
    {
     "name": "stdout",
     "output_type": "stream",
     "text": [
      "Unk percentage: 0.0024813895781637717\n"
     ]
    },
    {
     "name": "stderr",
     "output_type": "stream",
     "text": [
      "Generating walks (CPU: 1):  20%|██        | 2/10 [00:01<00:04,  1.70it/s]"
     ]
    },
    {
     "name": "stdout",
     "output_type": "stream",
     "text": [
      "cluster began\n",
      "cluster end\n"
     ]
    },
    {
     "name": "stderr",
     "output_type": "stream",
     "text": [
      "Generating walks (CPU: 1):  50%|█████     | 5/10 [00:05<00:06,  1.22s/it]]"
     ]
    },
    {
     "name": "stdout",
     "output_type": "stream",
     "text": [
      "[(('time', 'NN'), 114.41666666666619), (('life', 'NN'), 114.74285714285662), (('it', 'PRP'), 117.95952380952333), (('we', 'PRP'), 123.9999999999996), (('i', 'NN'), 124.1499999999996), (('what', 'WP'), 124.66666666666627), (('not', 'RB'), 129.49999999999952), (('law', 'NN'), 130.28333333333285), (('to', 'TO'), 143.2166666666667)] (300,)\n"
     ]
    },
    {
     "name": "stderr",
     "output_type": "stream",
     "text": [
      "Computing transition probabilities:  31%|███       | 86/279 [00:00<00:00, 425.57it/s]\n",
      "Computing transition probabilities: 100%|██████████| 279/279 [00:00<00:00, 455.75it/s]\n",
      "Generating walks (CPU: 1):  50%|█████     | 5/10 [00:04<00:04,  1.09it/s]"
     ]
    },
    {
     "name": "stdout",
     "output_type": "stream",
     "text": [
      "Unk percentage: 0.005128205128205128\n"
     ]
    },
    {
     "name": "stderr",
     "output_type": "stream",
     "text": [
      "Generating walks (CPU: 1): 100%|██████████| 10/10 [00:16<00:00,  1.77s/it]"
     ]
    },
    {
     "name": "stdout",
     "output_type": "stream",
     "text": [
      "cluster began\n",
      "cluster end\n"
     ]
    },
    {
     "name": "stderr",
     "output_type": "stream",
     "text": [
      "\r",
      "Generating walks (CPU: 1):  60%|██████    | 6/10 [00:07<00:05,  1.28s/it]"
     ]
    },
    {
     "name": "stdout",
     "output_type": "stream",
     "text": [
      "[(('grounds', 'NNS'), 68.50952380952403), (('according', 'VBG'), 68.50952380952403), (('thus', 'RB'), 69.67619047619068), (('principles', 'NNS'), 71.27619047619068), (('power', 'NN'), 71.42619047619067), (('government', 'NN'), 73.17619047619067), (('my', 'PRP$'), 75.70952380952399), (('it', 'PRP'), 80.14285714285717), (('to', 'TO'), 94.14999999999979)] (300,)\n"
     ]
    },
    {
     "name": "stderr",
     "output_type": "stream",
     "text": [
      "Computing transition probabilities: 100%|██████████| 190/190 [00:00<00:00, 645.76it/s]\n",
      "Generating walks (CPU: 1):  70%|███████   | 7/10 [00:08<00:03,  1.31s/it]\n",
      "Generating walks (CPU: 1):  70%|███████   | 7/10 [00:06<00:02,  1.03it/s]"
     ]
    },
    {
     "name": "stdout",
     "output_type": "stream",
     "text": [
      "Unk percentage: 0.001869158878504673\n"
     ]
    },
    {
     "name": "stderr",
     "output_type": "stream",
     "text": [
      "\r",
      "Generating walks (CPU: 1):  90%|█████████ | 9/10 [00:08<00:00,  1.00it/s]"
     ]
    },
    {
     "name": "stdout",
     "output_type": "stream",
     "text": [
      "Unk percentage: 0.011286681715575621\n"
     ]
    },
    {
     "name": "stderr",
     "output_type": "stream",
     "text": [
      "Generating walks (CPU: 1):  50%|█████     | 5/10 [00:03<00:03,  1.34it/s]"
     ]
    },
    {
     "name": "stdout",
     "output_type": "stream",
     "text": [
      "cluster began\n",
      "cluster end\n",
      "[(('manner', 'NN'), 48.683333333333415), (('aforesaid', 'NN'), 49.56666666666676), (('treasons', 'NNS'), 49.93333333333344), (('UNK', 'NNP'), 50.400000000000105), (('persons', 'NNS'), 50.56666666666677), (('who', 'WP'), 51.2000000000001), (('pennsylvania', 'NN'), 51.400000000000105), (('states', 'NNS'), 52.95000000000009), (('to', 'TO'), 58.16666666666675)] (300,)\n"
     ]
    },
    {
     "name": "stderr",
     "output_type": "stream",
     "text": [
      "Computing transition probabilities: 100%|██████████| 119/119 [00:00<00:00, 868.70it/s]\n",
      "Generating walks (CPU: 1):  30%|███       | 3/10 [00:01<00:02,  2.77it/s]]\n",
      "Generating walks (CPU: 1): 100%|██████████| 10/10 [00:09<00:00,  1.03s/it]"
     ]
    },
    {
     "name": "stdout",
     "output_type": "stream",
     "text": [
      "Unk percentage: 0.0041841004184100415\n"
     ]
    },
    {
     "name": "stderr",
     "output_type": "stream",
     "text": [
      "Generating walks (CPU: 1):  80%|████████  | 8/10 [00:06<00:01,  1.15it/s]"
     ]
    },
    {
     "name": "stdout",
     "output_type": "stream",
     "text": [
      "Unk percentage: 0.0039198606271777\n"
     ]
    },
    {
     "name": "stderr",
     "output_type": "stream",
     "text": [
      "\n"
     ]
    },
    {
     "name": "stdout",
     "output_type": "stream",
     "text": [
      "Unk percentage: 0.0035822540644805732\n"
     ]
    },
    {
     "name": "stderr",
     "output_type": "stream",
     "text": [
      "\r",
      "Generating walks (CPU: 1):  60%|██████    | 6/10 [00:02<00:02,  1.96it/s]"
     ]
    },
    {
     "name": "stdout",
     "output_type": "stream",
     "text": [
      "Unk percentage: 0.002541942043721403\n",
      "Unk percentage: 0.0051813471502590676\n"
     ]
    },
    {
     "name": "stderr",
     "output_type": "stream",
     "text": [
      "\n"
     ]
    },
    {
     "name": "stdout",
     "output_type": "stream",
     "text": [
      "Unk percentage: 0.004454342984409799\n"
     ]
    },
    {
     "name": "stderr",
     "output_type": "stream",
     "text": [
      "Generating walks (CPU: 1):  90%|█████████ | 9/10 [00:13<00:01,  1.62s/it]]"
     ]
    },
    {
     "name": "stdout",
     "output_type": "stream",
     "text": [
      "cluster began\n",
      "cluster end\n"
     ]
    },
    {
     "name": "stderr",
     "output_type": "stream",
     "text": [
      "\r",
      "Generating walks (CPU: 1):  80%|████████  | 8/10 [00:04<00:01,  1.83it/s]"
     ]
    },
    {
     "name": "stdout",
     "output_type": "stream",
     "text": [
      "[(('``', '``'), 85.19999999999999), (('it', 'PRP'), 90.14999999999982), (('bill', 'NN'), 90.61666666666645), (('power', 'NN'), 91.34999999999978), (('states', 'NNS'), 91.38333333333308), (('constitution', 'NN'), 91.73333333333312), ((\"''\", \"''\"), 93.9999999999997), (('powers', 'NNS'), 94.19999999999966), (('to', 'TO'), 114.59999999999978)] (300,)\n"
     ]
    },
    {
     "name": "stderr",
     "output_type": "stream",
     "text": [
      "\r",
      "Computing transition probabilities:   0%|          | 0/214 [00:00<?, ?it/s]"
     ]
    },
    {
     "name": "stdout",
     "output_type": "stream",
     "text": [
      "Unk percentage: 0.0019646365422396855\n"
     ]
    },
    {
     "name": "stderr",
     "output_type": "stream",
     "text": [
      "\r",
      "Computing transition probabilities:  29%|██▉       | 62/214 [00:00<00:00, 617.92it/s]"
     ]
    },
    {
     "name": "stdout",
     "output_type": "stream",
     "text": [
      "Unk percentage: 0.0034675913576953854\n"
     ]
    },
    {
     "name": "stderr",
     "output_type": "stream",
     "text": [
      "Computing transition probabilities:  79%|███████▉  | 170/214 [00:00<00:00, 569.96it/s]"
     ]
    },
    {
     "name": "stdout",
     "output_type": "stream",
     "text": [
      "Unk percentage: 0.004901960784313725\n"
     ]
    },
    {
     "name": "stderr",
     "output_type": "stream",
     "text": [
      "Computing transition probabilities: 100%|██████████| 214/214 [00:00<00:00, 561.49it/s]\n",
      "Generating walks (CPU: 1):  80%|████████  | 8/10 [00:10<00:02,  1.36s/it]"
     ]
    },
    {
     "name": "stdout",
     "output_type": "stream",
     "text": [
      "cluster began\n",
      "cluster end\n",
      "cluster began\n",
      "cluster end\n"
     ]
    },
    {
     "name": "stderr",
     "output_type": "stream",
     "text": [
      "\r",
      "Generating walks (CPU: 1): 100%|██████████| 10/10 [00:05<00:00,  1.72it/s]"
     ]
    },
    {
     "name": "stdout",
     "output_type": "stream",
     "text": [
      "[(('my', 'PRP$'), 54.933333333333444), (('war', 'NN'), 54.95000000000013), (('heights', 'NNS'), 54.966666666666804), (('will', 'MD'), 54.966666666666804), (('our', 'PRP$'), 55.300000000000104), (('ready', 'JJ'), 57.13333333333346), (('world', 'NN'), 60.05000000000012), (('america', 'NN'), 62.35000000000011), (('to', 'TO'), 70.25000000000001)] (300,)\n"
     ]
    },
    {
     "name": "stderr",
     "output_type": "stream",
     "text": [
      "Computing transition probabilities:   0%|          | 0/145 [00:00<?, ?it/s]\n",
      "Computing transition probabilities: 100%|██████████| 145/145 [00:00<00:00, 770.31it/s]\n",
      "Generating walks (CPU: 1):  20%|██        | 2/10 [00:01<00:04,  1.78it/s]\n",
      "\n"
     ]
    },
    {
     "name": "stdout",
     "output_type": "stream",
     "text": [
      "[(('registration', 'NN'), 157.73333333333375), (('must', 'MD'), 159.2000000000005), (('state', 'NN'), 159.5666666666671), (('person', 'NN'), 161.06666666666723), (('oath', 'NN'), 161.06666666666726), (('who', 'WP'), 162.90000000000072), (('rebellion', 'NN'), 163.3666666666674), (('not', 'RB'), 167.8166666666676), (('to', 'TO'), 206.83333333333388)] (300,)\n"
     ]
    },
    {
     "name": "stderr",
     "output_type": "stream",
     "text": [
      "Computing transition probabilities:  35%|███▌      | 131/373 [00:00<00:00, 325.19it/s]"
     ]
    },
    {
     "name": "stdout",
     "output_type": "stream",
     "text": [
      "Unk percentage: 0.023952095808383235\n"
     ]
    },
    {
     "name": "stderr",
     "output_type": "stream",
     "text": [
      "\r",
      "Computing transition probabilities:  45%|████▍     | 166/373 [00:00<00:00, 331.28it/s]"
     ]
    },
    {
     "name": "stdout",
     "output_type": "stream",
     "text": [
      "Unk percentage: 0.0044447972061274705\n"
     ]
    },
    {
     "name": "stderr",
     "output_type": "stream",
     "text": [
      "Computing transition probabilities:  83%|████████▎ | 311/373 [00:00<00:00, 351.59it/s]"
     ]
    },
    {
     "name": "stdout",
     "output_type": "stream",
     "text": [
      "cluster began\n",
      "cluster end\n",
      "[(('56', 'CD'), 23.72619047619048), (('constitution', 'NN'), 23.950000000000003), (('now', 'RB'), 24.376190476190477), ((\"''\", \"''\"), 24.778571428571425), (('1793', 'CD'), 25.026190476190468), (('UNK', 'NNP'), 27.30952380952379), (('shall', 'MD'), 27.71666666666664), (('i', 'NN'), 28.726190476190457), (('to', 'TO'), 32.59999999999998)] (300,)\n"
     ]
    },
    {
     "name": "stderr",
     "output_type": "stream",
     "text": [
      "Computing transition probabilities: 100%|██████████| 70/70 [00:00<00:00, 1599.54it/s]]\n",
      "Computing transition probabilities: 100%|██████████| 373/373 [00:01<00:00, 322.04it/s]\n",
      "Generating walks (CPU: 1):   0%|          | 0/10 [00:00<?, ?it/s]"
     ]
    },
    {
     "name": "stdout",
     "output_type": "stream",
     "text": [
      "Unk percentage: 0.002437538086532602\n"
     ]
    },
    {
     "name": "stderr",
     "output_type": "stream",
     "text": [
      "\n",
      "Generating walks (CPU: 1):  20%|██        | 2/10 [00:00<00:01,  5.82it/s]"
     ]
    },
    {
     "name": "stdout",
     "output_type": "stream",
     "text": [
      "Unk percentage: 0.0028279312595170763\n"
     ]
    },
    {
     "name": "stderr",
     "output_type": "stream",
     "text": [
      "Generating walks (CPU: 1):  30%|███       | 3/10 [00:00<00:01,  4.70it/s]"
     ]
    },
    {
     "name": "stdout",
     "output_type": "stream",
     "text": [
      "Unk percentage: 0.0111731843575419\n",
      "Unk percentage: 0.0074962518740629685\n"
     ]
    },
    {
     "name": "stderr",
     "output_type": "stream",
     "text": [
      "Generating walks (CPU: 1): 100%|██████████| 10/10 [00:13<00:00,  1.46s/it]"
     ]
    },
    {
     "name": "stdout",
     "output_type": "stream",
     "text": [
      "cluster began\n",
      "cluster end\n"
     ]
    },
    {
     "name": "stderr",
     "output_type": "stream",
     "text": [
      "Generating walks (CPU: 1):  50%|█████     | 5/10 [00:02<00:03,  1.63it/s]"
     ]
    },
    {
     "name": "stdout",
     "output_type": "stream",
     "text": [
      "[(('its', 'PRP$'), 87.23333333333318), (('will', 'MD'), 87.31666666666652), (('union', 'NN'), 88.4833333333331), (('persons', 'NNS'), 88.81666666666646), (('states', 'NNS'), 89.73333333333308), (('their', 'PRP$'), 89.81666666666644), (('UNK', 'NNP'), 92.53333333333302), (('territory', 'NN'), 92.88333333333303), (('to', 'TO'), 109.69999999999976)] (300,)\n"
     ]
    },
    {
     "name": "stderr",
     "output_type": "stream",
     "text": [
      "\r",
      "Computing transition probabilities:   0%|          | 0/209 [00:00<?, ?it/s]"
     ]
    },
    {
     "name": "stdout",
     "output_type": "stream",
     "text": [
      "cluster began\n",
      "cluster end\n"
     ]
    },
    {
     "name": "stderr",
     "output_type": "stream",
     "text": [
      "Computing transition probabilities: 100%|██████████| 209/209 [00:00<00:00, 562.66it/s]\n",
      "Generating walks (CPU: 1):   0%|          | 0/10 [00:00<?, ?it/s]"
     ]
    },
    {
     "name": "stdout",
     "output_type": "stream",
     "text": [
      "[(('statement', 'NN'), 81.25515873015902), (('purpose', 'NN'), 82.44801587301616), (('my', 'PRP$'), 82.58730158730185), (('who', 'WP'), 83.01468253968285), (('cases', 'NNS'), 83.74047619047647), (('me', 'PRP'), 84.40039682539711), (('will', 'MD'), 92.54801587301593), (('i', 'NN'), 94.6551587301587), (('to', 'TO'), 103.42182539682516)] (300,)\n",
      "Unk percentage: 0.0016375545851528383\n"
     ]
    },
    {
     "name": "stderr",
     "output_type": "stream",
     "text": [
      "Generating walks (CPU: 1):  20%|██        | 2/10 [00:02<00:08,  1.07s/it]s]"
     ]
    },
    {
     "name": "stdout",
     "output_type": "stream",
     "text": [
      "Unk percentage: 0.0024916943521594683\n"
     ]
    },
    {
     "name": "stderr",
     "output_type": "stream",
     "text": [
      "Computing transition probabilities:  78%|███████▊  | 193/249 [00:00<00:00, 369.82it/s]\n",
      "Computing transition probabilities: 100%|██████████| 249/249 [00:00<00:00, 336.05it/s]\n",
      "Generating walks (CPU: 1):  70%|███████   | 7/10 [00:04<00:01,  1.50it/s]"
     ]
    },
    {
     "name": "stdout",
     "output_type": "stream",
     "text": [
      "cluster began\n"
     ]
    },
    {
     "name": "stderr",
     "output_type": "stream",
     "text": [
      "\r",
      "Generating walks (CPU: 1):   0%|          | 0/10 [00:00<?, ?it/s]"
     ]
    },
    {
     "name": "stdout",
     "output_type": "stream",
     "text": [
      "cluster end\n"
     ]
    },
    {
     "name": "stderr",
     "output_type": "stream",
     "text": [
      "Generating walks (CPU: 1):  60%|██████    | 6/10 [00:05<00:04,  1.03s/it]]\n"
     ]
    },
    {
     "name": "stdout",
     "output_type": "stream",
     "text": [
      "[(('america', 'NN'), 129.4928571428565), (('faith-based', 'JJ'), 129.6999999999993), (('groups', 'NNS'), 130.94999999999925), (('it', 'PRP'), 132.11666666666585), (('i', 'NN'), 133.36666666666594), (('government', 'NN'), 134.38333333333262), (('their', 'PRP$'), 134.71666666666596), (('will', 'MD'), 152.15000000000015), (('to', 'TO'), 170.56666666666732)] (300,)\n"
     ]
    },
    {
     "name": "stderr",
     "output_type": "stream",
     "text": [
      "Computing transition probabilities:  27%|██▋       | 88/325 [00:00<00:00, 438.57it/s]"
     ]
    },
    {
     "name": "stdout",
     "output_type": "stream",
     "text": [
      "Unk percentage: 0.0032552083333333335\n"
     ]
    },
    {
     "name": "stderr",
     "output_type": "stream",
     "text": [
      "\r",
      "Computing transition probabilities:  40%|████      | 130/325 [00:00<00:00, 430.30it/s]"
     ]
    },
    {
     "name": "stdout",
     "output_type": "stream",
     "text": [
      "Unk percentage: 0.0071174377224199285\n"
     ]
    },
    {
     "name": "stderr",
     "output_type": "stream",
     "text": [
      "Generating walks (CPU: 1):  20%|██        | 2/10 [00:01<00:05,  1.39it/s], 334.53it/s]"
     ]
    },
    {
     "name": "stdout",
     "output_type": "stream",
     "text": [
      "cluster began\n"
     ]
    },
    {
     "name": "stderr",
     "output_type": "stream",
     "text": [
      "\r",
      "Generating walks (CPU: 1):  30%|███       | 3/10 [00:02<00:05,  1.32it/s]"
     ]
    },
    {
     "name": "stdout",
     "output_type": "stream",
     "text": [
      "cluster end\n"
     ]
    },
    {
     "name": "stderr",
     "output_type": "stream",
     "text": [
      "Generating walks (CPU: 1):  90%|█████████ | 9/10 [00:05<00:00,  1.39it/s], 329.44it/s]"
     ]
    },
    {
     "name": "stdout",
     "output_type": "stream",
     "text": [
      "[(('persons', 'NNS'), 38.76666666666667), (('carrying', 'VBG'), 38.76666666666667), (('respect', 'NN'), 38.76666666666667), (('them', 'PRP'), 38.76666666666667), (('law', 'NN'), 39.51666666666669), (('united', 'JJ'), 40.58333333333336), (('states', 'NNS'), 41.600000000000044), (('powers', 'NNS'), 43.76666666666673), (('to', 'TO'), 51.15000000000005)] (300,)\n"
     ]
    },
    {
     "name": "stderr",
     "output_type": "stream",
     "text": [
      "Computing transition probabilities: 100%|██████████| 325/325 [00:00<00:00, 359.24it/s]\n",
      "Generating walks (CPU: 1):   0%|          | 0/10 [00:00<?, ?it/s]?, ?it/s]"
     ]
    },
    {
     "name": "stdout",
     "output_type": "stream",
     "text": [
      "Unk percentage: 0.0028585040495474035\n"
     ]
    },
    {
     "name": "stderr",
     "output_type": "stream",
     "text": [
      "Computing transition probabilities: 100%|██████████| 95/95 [00:00<00:00, 942.29it/s]\n",
      "Generating walks (CPU: 1): 100%|██████████| 10/10 [00:06<00:00,  1.36it/s]"
     ]
    },
    {
     "name": "stdout",
     "output_type": "stream",
     "text": [
      "cluster began\n",
      "cluster end\n"
     ]
    },
    {
     "name": "stderr",
     "output_type": "stream",
     "text": [
      "Generating walks (CPU: 1):  30%|███       | 3/10 [00:02<00:06,  1.10it/s]\n",
      "Generating walks (CPU: 1):  20%|██        | 2/10 [00:01<00:07,  1.14it/s]"
     ]
    },
    {
     "name": "stdout",
     "output_type": "stream",
     "text": [
      "[(('nation', 'NN'), 166.35000000000062), (('their', 'PRP$'), 166.53333333333399), (('not', 'RB'), 168.60000000000073), (('duty', 'NN'), 168.60000000000076), (('president', 'NN'), 169.48333333333412), (('registration', 'NN'), 175.45000000000115), (('it', 'PRP'), 176.76666666666782), (('shall', 'MD'), 189.20000000000107), (('to', 'TO'), 216.75000000000063)] (300,)\n"
     ]
    },
    {
     "name": "stderr",
     "output_type": "stream",
     "text": [
      "\r",
      "Computing transition probabilities:   0%|          | 0/386 [00:00<?, ?it/s]"
     ]
    },
    {
     "name": "stdout",
     "output_type": "stream",
     "text": [
      "Unk percentage: 0.010101010101010102\n"
     ]
    },
    {
     "name": "stderr",
     "output_type": "stream",
     "text": [
      "Generating walks (CPU: 1):  60%|██████    | 6/10 [00:02<00:01,  2.46it/s], 248.66it/s]"
     ]
    },
    {
     "name": "stdout",
     "output_type": "stream",
     "text": [
      "cluster began\n",
      "cluster end\n"
     ]
    },
    {
     "name": "stderr",
     "output_type": "stream",
     "text": [
      "\r",
      "Computing transition probabilities:  53%|█████▎    | 205/386 [00:00<00:00, 252.93it/s]"
     ]
    },
    {
     "name": "stdout",
     "output_type": "stream",
     "text": [
      "[(('not', 'RB'), 67.40952380952403), (('our', 'PRP$'), 67.72738095238117), (('UNK', 'NNP'), 69.50952380952404), (('rights', 'NNS'), 70.00952380952401), (('conscience', 'NN'), 71.67619047619065), (('america', 'NN'), 75.05952380952385), (('world', 'NN'), 77.27619047619046), (('we', 'PRP'), 77.61666666666669), (('to', 'TO'), 91.77619047619034)] (300,)\n"
     ]
    },
    {
     "name": "stderr",
     "output_type": "stream",
     "text": [
      "Computing transition probabilities: 100%|██████████| 177/177 [00:00<00:00, 711.84it/s]\n",
      "Computing transition probabilities: 100%|██████████| 386/386 [00:01<00:00, 270.24it/s]\n",
      "Generating walks (CPU: 1):  70%|███████   | 7/10 [00:06<00:03,  1.06s/it]]\n",
      "\n",
      "Generating walks (CPU: 1):  30%|███       | 3/10 [00:01<00:04,  1.66it/s]"
     ]
    },
    {
     "name": "stdout",
     "output_type": "stream",
     "text": [
      "Unk percentage: 0.0066797642436149315\n"
     ]
    },
    {
     "name": "stderr",
     "output_type": "stream",
     "text": [
      "\r",
      "Generating walks (CPU: 1):  60%|██████    | 6/10 [00:06<00:04,  1.15s/it]"
     ]
    },
    {
     "name": "stdout",
     "output_type": "stream",
     "text": [
      "Unk percentage: 0.015228426395939087\n"
     ]
    },
    {
     "name": "stderr",
     "output_type": "stream",
     "text": [
      "Generating walks (CPU: 1):  80%|████████  | 8/10 [00:08<00:02,  1.08s/it]"
     ]
    },
    {
     "name": "stdout",
     "output_type": "stream",
     "text": [
      "Unk percentage: 0.001318217769575534\n"
     ]
    },
    {
     "name": "stderr",
     "output_type": "stream",
     "text": [
      "\r",
      "Generating walks (CPU: 1):  40%|████      | 4/10 [00:02<00:04,  1.42it/s]"
     ]
    },
    {
     "name": "stdout",
     "output_type": "stream",
     "text": [
      "cluster began\n",
      "cluster end\n",
      "[(('it', 'PRP'), 26.149999999999977), (('restriction', 'NN'), 26.166666666666636), (('according', 'VBG'), 26.583333333333307), (('house', 'NN'), 27.49999999999997), (('representatives', 'NNS'), 28.066666666666634), ((':', ':'), 28.983333333333306), ((\"''\", \"''\"), 29.149999999999977), (('states', 'NNS'), 29.833333333333304), (('to', 'TO'), 30.16666666666664)] (300,)\n"
     ]
    },
    {
     "name": "stderr",
     "output_type": "stream",
     "text": [
      "\r",
      "Computing transition probabilities:   0%|          | 0/65 [00:00<?, ?it/s]"
     ]
    },
    {
     "name": "stdout",
     "output_type": "stream",
     "text": [
      "Unk percentage: 0.002857142857142857\n"
     ]
    },
    {
     "name": "stderr",
     "output_type": "stream",
     "text": [
      "Computing transition probabilities: 100%|██████████| 65/65 [00:00<00:00, 1128.68it/s]\n",
      "Generating walks (CPU: 1):   0%|          | 0/10 [00:00<?, ?it/s]"
     ]
    },
    {
     "name": "stdout",
     "output_type": "stream",
     "text": [
      "Unk percentage: 0.0017538731365097924\n"
     ]
    },
    {
     "name": "stderr",
     "output_type": "stream",
     "text": [
      "Generating walks (CPU: 1):  20%|██        | 2/10 [00:00<00:01,  7.28it/s]"
     ]
    },
    {
     "name": "stdout",
     "output_type": "stream",
     "text": [
      "Unk percentage: 0.003377237419790611\n"
     ]
    },
    {
     "name": "stderr",
     "output_type": "stream",
     "text": [
      "\r",
      "Generating walks (CPU: 1):  70%|███████   | 7/10 [00:07<00:03,  1.17s/it]"
     ]
    },
    {
     "name": "stdout",
     "output_type": "stream",
     "text": [
      "Unk percentage: 0.0010280133641737343\n"
     ]
    },
    {
     "name": "stderr",
     "output_type": "stream",
     "text": [
      "Generating walks (CPU: 1):  90%|█████████ | 9/10 [00:09<00:01,  1.10s/it]"
     ]
    },
    {
     "name": "stdout",
     "output_type": "stream",
     "text": [
      "Unk percentage: 0.0033801352054082163\n"
     ]
    },
    {
     "name": "stderr",
     "output_type": "stream",
     "text": [
      "\r",
      "Generating walks (CPU: 1):  40%|████      | 4/10 [00:00<00:01,  4.01it/s]"
     ]
    },
    {
     "name": "stdout",
     "output_type": "stream",
     "text": [
      "Unk percentage: 0.0008939213349225268\n"
     ]
    },
    {
     "name": "stderr",
     "output_type": "stream",
     "text": [
      "\r",
      "Generating walks (CPU: 1):  50%|█████     | 5/10 [00:07<00:07,  1.49s/it]"
     ]
    },
    {
     "name": "stdout",
     "output_type": "stream",
     "text": [
      "Unk percentage: 0.007874015748031496\n"
     ]
    },
    {
     "name": "stderr",
     "output_type": "stream",
     "text": [
      "Generating walks (CPU: 1):  60%|██████    | 6/10 [00:04<00:03,  1.15it/s]"
     ]
    },
    {
     "name": "stdout",
     "output_type": "stream",
     "text": [
      "cluster began\n",
      "cluster end\n",
      "[(('state', 'NN'), 35.12976190476189), ((\"''\", \"''\"), 35.203571428571415), (('17', 'CD'), 35.22023809523809), (('1897', 'CD'), 35.72023809523808), (('our', 'PRP$'), 35.727380952380926), (('unable', 'JJ'), 37.21904761904762), (('desiring', 'VBG'), 37.21904761904762), (('means', 'NNS'), 39.569047619047616), (('to', 'TO'), 49.77619047619056)] (300,)\n"
     ]
    },
    {
     "name": "stderr",
     "output_type": "stream",
     "text": [
      "Computing transition probabilities: 100%|██████████| 105/105 [00:00<00:00, 1270.64it/s]\n",
      "Generating walks (CPU: 1):  30%|███       | 3/10 [00:00<00:02,  3.25it/s]]\n",
      "Generating walks (CPU: 1):  60%|██████    | 6/10 [00:08<00:06,  1.59s/it]\n",
      "Generating walks (CPU: 1):  90%|█████████ | 9/10 [00:10<00:01,  1.26s/it]"
     ]
    },
    {
     "name": "stdout",
     "output_type": "stream",
     "text": [
      "Unk percentage: 0.005221932114882507\n"
     ]
    },
    {
     "name": "stderr",
     "output_type": "stream",
     "text": [
      "Generating walks (CPU: 1):  50%|█████     | 5/10 [00:01<00:01,  2.53it/s]"
     ]
    },
    {
     "name": "stdout",
     "output_type": "stream",
     "text": [
      "cluster began\n",
      "cluster end\n",
      "Unk percentage: 0.003907669938204289\n",
      "[(('states', 'NNS'), 102.99999999999959), (('government', 'NN'), 103.03333333333295), (('constitution', 'NN'), 103.4166666666663), (('when', 'WRB'), 104.19999999999962), (('shall', 'MD'), 106.08333333333299), (('not', 'RB'), 107.04999999999971), (('their', 'PRP$'), 116.4666666666664), ((';', ':'), 120.84999999999975), (('to', 'TO'), 132.51666666666645)] (300,)\n"
     ]
    },
    {
     "name": "stderr",
     "output_type": "stream",
     "text": [
      "Computing transition probabilities:  53%|█████▎    | 128/243 [00:00<00:00, 432.21it/s]"
     ]
    },
    {
     "name": "stdout",
     "output_type": "stream",
     "text": [
      "Unk percentage: 0.0013144058885383807\n"
     ]
    },
    {
     "name": "stderr",
     "output_type": "stream",
     "text": [
      "Computing transition probabilities: 100%|██████████| 243/243 [00:00<00:00, 450.38it/s]\n",
      "Generating walks (CPU: 1):   0%|          | 0/10 [00:00<?, ?it/s].20it/s]"
     ]
    },
    {
     "name": "stdout",
     "output_type": "stream",
     "text": [
      "Unk percentage: 0.004206730769230769\n",
      "Unk percentage: 0.001464986815118664\n"
     ]
    },
    {
     "name": "stderr",
     "output_type": "stream",
     "text": [
      "Generating walks (CPU: 1):  80%|████████  | 8/10 [00:03<00:00,  2.07it/s]]\n",
      "Generating walks (CPU: 1):  20%|██        | 2/10 [00:01<00:04,  1.73it/s]\n",
      "Generating walks (CPU: 1):  90%|█████████ | 9/10 [00:16<00:01,  1.99s/it]]"
     ]
    },
    {
     "name": "stdout",
     "output_type": "stream",
     "text": [
      "Unk percentage: 0.001470047776552738\n"
     ]
    },
    {
     "name": "stderr",
     "output_type": "stream",
     "text": [
      "\n"
     ]
    },
    {
     "name": "stdout",
     "output_type": "stream",
     "text": [
      "Unk percentage: 0.0025800903031606105\n",
      "Unk percentage: 0.0014326647564469914\n",
      "Unk percentage: 0.0030004286326618087\n",
      "Unk percentage: 0.004516282386498692\n"
     ]
    },
    {
     "name": "stderr",
     "output_type": "stream",
     "text": [
      "\r",
      "Generating walks (CPU: 1):  30%|███       | 3/10 [00:02<00:05,  1.33it/s]"
     ]
    },
    {
     "name": "stdout",
     "output_type": "stream",
     "text": [
      "Unk percentage: 0.0022587268993839835\n",
      "Unk percentage: 0.001707455890722823\n",
      "Unk percentage: 0.0018331805682859762\n",
      "Unk percentage: 0.0012091898428053204\n",
      "Unk percentage: 0.0032502708559046588\n",
      "Unk percentage: 0.0024410089503661514\n"
     ]
    },
    {
     "name": "stderr",
     "output_type": "stream",
     "text": [
      "\r",
      "Generating walks (CPU: 1):  60%|██████    | 6/10 [00:10<00:07,  1.81s/it]"
     ]
    },
    {
     "name": "stdout",
     "output_type": "stream",
     "text": [
      "Unk percentage: 0.0028735632183908046\n"
     ]
    },
    {
     "name": "stderr",
     "output_type": "stream",
     "text": [
      "Generating walks (CPU: 1): 100%|██████████| 10/10 [00:18<00:00,  1.93s/it]"
     ]
    },
    {
     "name": "stdout",
     "output_type": "stream",
     "text": [
      "cluster began\n",
      "cluster end\n",
      "cluster began\n",
      "cluster end\n"
     ]
    },
    {
     "name": "stderr",
     "output_type": "stream",
     "text": [
      "\r",
      "Generating walks (CPU: 1):  40%|████      | 4/10 [00:03<00:05,  1.12it/s]"
     ]
    },
    {
     "name": "stdout",
     "output_type": "stream",
     "text": [
      "[(('when', 'WRB'), 78.61666666666692), ((\"''\", \"''\"), 79.0928571428574), (('them', 'PRP'), 79.51666666666685), (('university', 'NN'), 81.79285714285733), (('free', 'JJ'), 82.93333333333341), (('here', 'RB'), 83.48333333333339), (('they', 'PRP'), 84.91666666666667), (('his', 'PRP$'), 84.98333333333335), (('to', 'TO'), 103.54999999999978)] (300,)\n"
     ]
    },
    {
     "name": "stderr",
     "output_type": "stream",
     "text": [
      "Computing transition probabilities: 100%|██████████| 217/217 [00:00<00:00, 655.42it/s]\n",
      "Generating walks (CPU: 1):   0%|          | 0/10 [00:00<?, ?it/s]"
     ]
    },
    {
     "name": "stdout",
     "output_type": "stream",
     "text": [
      "[(('i', 'JJ'), 132.30119047618967), (('me', 'PRP'), 134.23452380952298), (('president', 'NN'), 134.74285714285634), (('not', 'RB'), 134.94404761904684), (('our', 'PRP$'), 138.10119047618971), (('his', 'PRP$'), 139.03452380952302), (('i', 'NN'), 143.06666666666598), (('my', 'PRP$'), 147.82619047619002), (('to', 'TO'), 169.99285714285782)] (300,)\n"
     ]
    },
    {
     "name": "stderr",
     "output_type": "stream",
     "text": [
      "Computing transition probabilities: 100%|██████████| 336/336 [00:00<00:00, 470.42it/s]\n",
      "Generating walks (CPU: 1):  20%|██        | 2/10 [00:01<00:04,  1.99it/s]\n",
      "Generating walks (CPU: 1):  30%|███       | 3/10 [00:01<00:03,  1.78it/s]\n",
      "Generating walks (CPU: 1):  70%|███████   | 7/10 [00:06<00:03,  1.02s/it]"
     ]
    },
    {
     "name": "stdout",
     "output_type": "stream",
     "text": [
      "Unk percentage: 0.006915629322268326\n",
      "cluster began\n",
      "cluster end\n"
     ]
    },
    {
     "name": "stderr",
     "output_type": "stream",
     "text": [
      "\r",
      "Generating walks (CPU: 1):  50%|█████     | 5/10 [00:03<00:03,  1.37it/s]"
     ]
    },
    {
     "name": "stdout",
     "output_type": "stream",
     "text": [
      "[(('constitution', 'NN'), 84.59999999999997), (('not', 'RB'), 84.59999999999997), (('protection', 'NN'), 85.14999999999993), (('senate', 'NN'), 86.2666666666666), (('government', 'NN'), 87.06666666666653), (('whose', 'WP$'), 88.48333333333315), (('will', 'MD'), 90.73333333333312), (('states', 'NNS'), 97.86666666666635), (('to', 'TO'), 104.14999999999966)] (300,)\n"
     ]
    },
    {
     "name": "stderr",
     "output_type": "stream",
     "text": [
      "\r",
      "Computing transition probabilities:   0%|          | 0/216 [00:00<?, ?it/s]"
     ]
    },
    {
     "name": "stdout",
     "output_type": "stream",
     "text": [
      "Unk percentage: 0.002824858757062147\n"
     ]
    },
    {
     "name": "stderr",
     "output_type": "stream",
     "text": [
      "Computing transition probabilities: 100%|██████████| 216/216 [00:00<00:00, 646.31it/s]\n",
      "Generating walks (CPU: 1):  90%|█████████ | 9/10 [00:15<00:01,  1.74s/it]"
     ]
    },
    {
     "name": "stdout",
     "output_type": "stream",
     "text": [
      "cluster began\n",
      "cluster end\n"
     ]
    },
    {
     "name": "stderr",
     "output_type": "stream",
     "text": [
      "Generating walks (CPU: 1):  20%|██        | 2/10 [00:00<00:03,  2.49it/s]"
     ]
    },
    {
     "name": "stdout",
     "output_type": "stream",
     "text": [
      "[(('welcome', 'NN'), 116.61987734487704), (('more', 'JJR'), 117.83654401154367), (('together', 'RB'), 118.53654401154365), (('i', 'NN'), 119.33654401154361), (('nations', 'NNS'), 124.28654401154353), (('aids', 'NNS'), 129.50321067821017), (('fund', 'NN'), 130.21987734487678), (('we', 'PRP'), 148.7032106782105), (('to', 'TO'), 157.2365440115442)] (300,)\n"
     ]
    },
    {
     "name": "stderr",
     "output_type": "stream",
     "text": [
      "Computing transition probabilities: 100%|██████████| 324/324 [00:00<00:00, 450.05it/s]\n",
      "Generating walks (CPU: 1):  20%|██        | 2/10 [00:01<00:04,  1.70it/s]]\n",
      "Generating walks (CPU: 1):  50%|█████     | 5/10 [00:03<00:03,  1.33it/s]\n",
      "Generating walks (CPU: 1): 100%|██████████| 10/10 [00:07<00:00,  1.17it/s]"
     ]
    },
    {
     "name": "stdout",
     "output_type": "stream",
     "text": [
      "Unk percentage: 0.008620689655172414\n"
     ]
    },
    {
     "name": "stderr",
     "output_type": "stream",
     "text": [
      "\r",
      "Generating walks (CPU: 1):  30%|███       | 3/10 [00:02<00:05,  1.17it/s]"
     ]
    },
    {
     "name": "stdout",
     "output_type": "stream",
     "text": [
      "cluster began\n",
      "cluster end\n",
      "[(('justice', 'NN'), 35.46230158730157), (('fit', 'NN'), 35.46230158730157), (('according', 'VBG'), 35.46230158730157), (('crimes', 'NNS'), 35.71230158730157), (('nation', 'NN'), 36.04563492063491), (('proclamation', 'NN'), 36.2956349206349), (('shall', 'MD'), 36.62896825396824), (('states', 'NNS'), 36.76230158730158), (('to', 'TO'), 44.59563492063498)] (300,)\n"
     ]
    },
    {
     "name": "stderr",
     "output_type": "stream",
     "text": [
      "Computing transition probabilities: 100%|██████████| 92/92 [00:00<00:00, 1403.36it/s]\n",
      "Generating walks (CPU: 1):  20%|██        | 2/10 [00:00<00:01,  6.97it/s]\n",
      "Generating walks (CPU: 1):  30%|███       | 3/10 [00:00<00:01,  5.34it/s]"
     ]
    },
    {
     "name": "stdout",
     "output_type": "stream",
     "text": [
      "Unk percentage: 0.0011490950876185005\n"
     ]
    },
    {
     "name": "stderr",
     "output_type": "stream",
     "text": [
      "Generating walks (CPU: 1):  40%|████      | 4/10 [00:00<00:01,  4.39it/s]"
     ]
    },
    {
     "name": "stdout",
     "output_type": "stream",
     "text": [
      "Unk percentage: 0.0035087719298245615\n"
     ]
    },
    {
     "name": "stderr",
     "output_type": "stream",
     "text": [
      "Generating walks (CPU: 1):  40%|████      | 4/10 [00:04<00:06,  1.08s/it]"
     ]
    },
    {
     "name": "stdout",
     "output_type": "stream",
     "text": [
      "Unk percentage: 0.002028397565922921\n",
      "cluster began\n",
      "cluster end\n"
     ]
    },
    {
     "name": "stderr",
     "output_type": "stream",
     "text": [
      "Generating walks (CPU: 1):  70%|███████   | 7/10 [00:09<00:04,  1.47s/it]"
     ]
    },
    {
     "name": "stdout",
     "output_type": "stream",
     "text": [
      "[(('you', 'PRP'), 138.68333333333268), (('they', 'PRP'), 139.0499999999993), (('us', 'PRP'), 139.54999999999933), (('how', 'WRB'), 139.83333333333263), (('their', 'PRP$'), 140.78333333333268), (('it', 'PRP'), 141.16666666666603), (('our', 'PRP$'), 145.1666666666663), (('great', 'JJ'), 146.64999999999972), (('to', 'TO'), 173.33333333333414)] (300,)\n"
     ]
    },
    {
     "name": "stderr",
     "output_type": "stream",
     "text": [
      "Generating walks (CPU: 1):  70%|███████   | 7/10 [00:02<00:01,  2.87it/s] 548.32it/s]"
     ]
    },
    {
     "name": "stdout",
     "output_type": "stream",
     "text": [
      "cluster began\n",
      "cluster end\n"
     ]
    },
    {
     "name": "stderr",
     "output_type": "stream",
     "text": [
      "Computing transition probabilities:  89%|████████▉ | 304/340 [00:00<00:00, 429.96it/s]"
     ]
    },
    {
     "name": "stdout",
     "output_type": "stream",
     "text": [
      "[(('world', 'NN'), 159.50000000000009), (('who', 'WP'), 160.71666666666687), (('must', 'MD'), 163.55000000000038), (('not', 'RB'), 166.43333333333388), (('will', 'MD'), 167.60000000000062), (('our', 'PRP$'), 168.88333333333395), (('your', 'PRP$'), 172.68333333333416), (('you', 'PRP'), 176.31666666666774), (('to', 'TO'), 199.03333333333413)] (300,)\n"
     ]
    },
    {
     "name": "stderr",
     "output_type": "stream",
     "text": [
      "Computing transition probabilities: 100%|██████████| 340/340 [00:00<00:00, 424.11it/s]\n",
      "Computing transition probabilities:  76%|███████▌  | 291/384 [00:00<00:00, 386.73it/s]\n",
      "Computing transition probabilities: 100%|██████████| 384/384 [00:00<00:00, 397.16it/s]\n",
      "Generating walks (CPU: 1):   0%|          | 0/10 [00:00<?, ?it/s]"
     ]
    },
    {
     "name": "stdout",
     "output_type": "stream",
     "text": [
      "Unk percentage: 0.005622188905547227\n",
      "Unk percentage: 0.007548069283330685\n"
     ]
    },
    {
     "name": "stderr",
     "output_type": "stream",
     "text": [
      "Generating walks (CPU: 1):  60%|██████    | 6/10 [00:07<00:05,  1.31s/it]\n"
     ]
    },
    {
     "name": "stdout",
     "output_type": "stream",
     "text": [
      "Unk percentage: 0.007288263382759487\n"
     ]
    },
    {
     "name": "stderr",
     "output_type": "stream",
     "text": [
      "\r",
      "Generating walks (CPU: 1):  90%|█████████ | 9/10 [00:12<00:01,  1.44s/it]"
     ]
    },
    {
     "name": "stdout",
     "output_type": "stream",
     "text": [
      "Unk percentage: 0.006134969325153374\n",
      "cluster began\n",
      "cluster end\n",
      "[(('who', 'WP'), 38.08333333333331), (('far', 'RB'), 38.21666666666665), (('it', 'PRP'), 38.53333333333332), (('--', ':'), 39.659523809523805), (('can', 'MD'), 40.20000000000001), (('nation', 'NN'), 41.133333333333354), (('here', 'RB'), 42.91666666666672), (('to', 'TO'), 44.916666666666735), (('we', 'PRP'), 46.08333333333339)] (300,)\n"
     ]
    },
    {
     "name": "stderr",
     "output_type": "stream",
     "text": [
      "Computing transition probabilities: 100%|██████████| 98/98 [00:00<00:00, 1506.99it/s]\n",
      "Generating walks (CPU: 1):   0%|          | 0/10 [00:00<?, ?it/s]"
     ]
    },
    {
     "name": "stdout",
     "output_type": "stream",
     "text": [
      "Unk percentage: 0.0035657686212361333\n"
     ]
    },
    {
     "name": "stderr",
     "output_type": "stream",
     "text": [
      "Generating walks (CPU: 1):  20%|██        | 2/10 [00:00<00:01,  6.69it/s]"
     ]
    },
    {
     "name": "stdout",
     "output_type": "stream",
     "text": [
      "Unk percentage: 0.002751031636863824\n"
     ]
    },
    {
     "name": "stderr",
     "output_type": "stream",
     "text": [
      "Generating walks (CPU: 1):  40%|████      | 4/10 [00:00<00:01,  4.43it/s]]"
     ]
    },
    {
     "name": "stdout",
     "output_type": "stream",
     "text": [
      "cluster began\n",
      "cluster end\n"
     ]
    },
    {
     "name": "stderr",
     "output_type": "stream",
     "text": [
      "\r",
      "Generating walks (CPU: 1):  50%|█████     | 5/10 [00:01<00:01,  3.38it/s]"
     ]
    },
    {
     "name": "stdout",
     "output_type": "stream",
     "text": [
      "[(('pardon', 'NN'), 142.06666666666638), (('rights', 'NNS'), 142.48333333333304), (('shall', 'MD'), 143.3999999999998), (('rebellion', 'NN'), 143.94999999999982), (('who', 'WP'), 144.19999999999985), (('persons', 'NNS'), 144.23333333333315), (('proclamation', 'NN'), 144.39999999999972), (('states', 'NNS'), 151.96666666666695), (('to', 'TO'), 173.51666666666722)] (300,)\n"
     ]
    },
    {
     "name": "stderr",
     "output_type": "stream",
     "text": [
      "Computing transition probabilities:  80%|████████  | 264/330 [00:00<00:00, 409.85it/s]\n",
      "Computing transition probabilities: 100%|██████████| 330/330 [00:00<00:00, 459.48it/s]\n",
      "Generating walks (CPU: 1):  90%|█████████ | 9/10 [00:11<00:01,  1.40s/it]]\n"
     ]
    },
    {
     "name": "stdout",
     "output_type": "stream",
     "text": [
      "Unk percentage: 0.0011797669960182864\n",
      "Unk percentage: 0.002061855670103093\n",
      "Unk percentage: 0.007494646680942184\n"
     ]
    },
    {
     "name": "stderr",
     "output_type": "stream",
     "text": [
      "Generating walks (CPU: 1):  20%|██        | 2/10 [00:01<00:06,  1.20it/s]"
     ]
    },
    {
     "name": "stdout",
     "output_type": "stream",
     "text": [
      "Unk percentage: 0.009882643607164917\n",
      "cluster began\n",
      "cluster end\n",
      "Unk percentage: 0.0014659174199853407\n"
     ]
    },
    {
     "name": "stderr",
     "output_type": "stream",
     "text": [
      "\r",
      "Generating walks (CPU: 1):  60%|██████    | 6/10 [00:07<00:05,  1.34s/it]"
     ]
    },
    {
     "name": "stdout",
     "output_type": "stream",
     "text": [
      "[(('it', 'PRP'), 115.73333333333287), (('will', 'MD'), 117.01666666666618), (('only', 'RB'), 118.54999999999954), (('you', 'PRP'), 119.66666666666619), (('our', 'PRP$'), 121.9999999999995), (('i', 'NN'), 122.64999999999955), (('not', 'RB'), 123.36666666666623), (('my', 'PRP$'), 124.26666666666623), (('to', 'TO'), 142.08333333333317)] (300,)\n"
     ]
    },
    {
     "name": "stderr",
     "output_type": "stream",
     "text": [
      "Computing transition probabilities:  17%|█▋        | 48/289 [00:00<00:00, 473.10it/s]"
     ]
    },
    {
     "name": "stdout",
     "output_type": "stream",
     "text": [
      "Unk percentage: 0.007805463824677274\n"
     ]
    },
    {
     "name": "stderr",
     "output_type": "stream",
     "text": [
      "Computing transition probabilities:  85%|████████▌ | 247/289 [00:00<00:00, 485.79it/s]"
     ]
    },
    {
     "name": "stdout",
     "output_type": "stream",
     "text": [
      "Unk percentage: 0.005031446540880503\n"
     ]
    },
    {
     "name": "stderr",
     "output_type": "stream",
     "text": [
      "Computing transition probabilities: 100%|██████████| 289/289 [00:00<00:00, 484.87it/s]\n",
      "Generating walks (CPU: 1):  30%|███       | 3/10 [00:03<00:07,  1.07s/it]"
     ]
    },
    {
     "name": "stdout",
     "output_type": "stream",
     "text": [
      "cluster began\n",
      "cluster end\n"
     ]
    },
    {
     "name": "stderr",
     "output_type": "stream",
     "text": [
      "\r",
      "Generating walks (CPU: 1):  70%|███████   | 7/10 [00:08<00:04,  1.34s/it]"
     ]
    },
    {
     "name": "stdout",
     "output_type": "stream",
     "text": [
      "[(('we', 'PRP'), 88.3690476190476), (('he', 'PRP'), 88.48333333333329), (('now', 'RB'), 88.48333333333329), (('altogether', 'RB'), 89.03333333333327), (('us', 'PRP'), 90.03333333333325), (('woe', 'NN'), 90.89999999999988), (('war', 'NN'), 92.34285714285706), (('it', 'PRP'), 98.16666666666636), (('to', 'TO'), 114.71666666666638)] (300,)\n"
     ]
    },
    {
     "name": "stderr",
     "output_type": "stream",
     "text": [
      "Computing transition probabilities:  55%|█████▌    | 128/231 [00:00<00:00, 639.25it/s]\n",
      "Computing transition probabilities: 100%|██████████| 231/231 [00:00<00:00, 622.04it/s]\n",
      "Generating walks (CPU: 1):  80%|████████  | 8/10 [00:10<00:02,  1.37s/it]"
     ]
    },
    {
     "name": "stdout",
     "output_type": "stream",
     "text": [
      "Unk percentage: 0.0020429009193054137\n",
      "Unk percentage: 0.0025575447570332483\n"
     ]
    },
    {
     "name": "stderr",
     "output_type": "stream",
     "text": [
      "Generating walks (CPU: 1):  30%|███       | 3/10 [00:01<00:04,  1.59it/s]"
     ]
    },
    {
     "name": "stdout",
     "output_type": "stream",
     "text": [
      "cluster began\n",
      "cluster end\n"
     ]
    },
    {
     "name": "stderr",
     "output_type": "stream",
     "text": [
      "Generating walks (CPU: 1):  50%|█████     | 5/10 [00:06<00:06,  1.33s/it]"
     ]
    },
    {
     "name": "stdout",
     "output_type": "stream",
     "text": [
      "[(('cost', 'NN'), 97.30952380952371), (('our', 'PRP$'), 97.68571428571421), (('legislation', 'NN'), 99.36666666666653), (('bill', 'NN'), 100.1095238095237), (('we', 'PRP'), 101.75952380952357), (('will', 'MD'), 104.44285714285692), (('it', 'PRP'), 105.94999999999962), (('government', 'NN'), 107.73333333333291), (('to', 'TO'), 118.88333333333296)] (300,)\n"
     ]
    },
    {
     "name": "stderr",
     "output_type": "stream",
     "text": [
      "Computing transition probabilities: 100%|██████████| 263/263 [00:00<00:00, 544.57it/s]\n",
      "Generating walks (CPU: 1):  70%|███████   | 7/10 [00:06<00:03,  1.03s/it]]\n",
      "Generating walks (CPU: 1):  80%|████████  | 8/10 [00:07<00:01,  1.05it/s]]"
     ]
    },
    {
     "name": "stdout",
     "output_type": "stream",
     "text": [
      "Unk percentage: 0.0022026431718061676\n"
     ]
    },
    {
     "name": "stderr",
     "output_type": "stream",
     "text": [
      "\r",
      "Generating walks (CPU: 1):  50%|█████     | 5/10 [00:04<00:04,  1.02it/s]"
     ]
    },
    {
     "name": "stdout",
     "output_type": "stream",
     "text": [
      "Unk percentage: 0.003194888178913738\n"
     ]
    },
    {
     "name": "stderr",
     "output_type": "stream",
     "text": [
      "Generating walks (CPU: 1):  90%|█████████ | 9/10 [00:09<00:01,  1.11s/it]"
     ]
    },
    {
     "name": "stdout",
     "output_type": "stream",
     "text": [
      "cluster began\n",
      "cluster end\n"
     ]
    },
    {
     "name": "stderr",
     "output_type": "stream",
     "text": [
      "\n",
      "Generating walks (CPU: 1):  60%|██████    | 6/10 [00:05<00:04,  1.01s/it]"
     ]
    },
    {
     "name": "stdout",
     "output_type": "stream",
     "text": [
      "[(('they', 'PRP'), 104.93333333333302), (('very', 'RB'), 105.73333333333301), (('country', 'NN'), 107.58333333333293), (('who', 'WP'), 107.81666666666628), (('our', 'PRP$'), 109.23333333333295), (('not', 'RB'), 113.34999999999965), (('their', 'PRP$'), 115.81666666666631), (('it', 'PRP'), 116.58333333333297), ((',', ','), 135.3499999999996)] (300,)\n"
     ]
    },
    {
     "name": "stderr",
     "output_type": "stream",
     "text": [
      "Computing transition probabilities: 100%|██████████| 273/273 [00:00<00:00, 514.28it/s]\n",
      "Generating walks (CPU: 1): 100%|██████████| 10/10 [00:13<00:00,  1.45s/it]\n",
      "Generating walks (CPU: 1):  20%|██        | 2/10 [00:01<00:04,  1.71it/s]"
     ]
    },
    {
     "name": "stdout",
     "output_type": "stream",
     "text": [
      "Unk percentage: 0.0050586157057973345\n"
     ]
    },
    {
     "name": "stderr",
     "output_type": "stream",
     "text": [
      "\n"
     ]
    },
    {
     "name": "stdout",
     "output_type": "stream",
     "text": [
      "Unk percentage: 0.0024485092899323058\n"
     ]
    },
    {
     "name": "stderr",
     "output_type": "stream",
     "text": [
      "\r",
      "Generating walks (CPU: 1):  80%|████████  | 8/10 [00:08<00:02,  1.10s/it]"
     ]
    },
    {
     "name": "stdout",
     "output_type": "stream",
     "text": [
      "Unk percentage: 0.004438642297650131\n",
      "Unk percentage: 0.00477326968973747\n"
     ]
    },
    {
     "name": "stderr",
     "output_type": "stream",
     "text": [
      "\n"
     ]
    },
    {
     "name": "stdout",
     "output_type": "stream",
     "text": [
      "Unk percentage: 0.0020881670533642693\n",
      "Unk percentage: 0.0019280205655526992\n",
      "Unk percentage: 0.0010312822275696115\n",
      "Unk percentage: 0.0014245014245014246\n"
     ]
    },
    {
     "name": "stderr",
     "output_type": "stream",
     "text": [
      "\r",
      "Generating walks (CPU: 1):  30%|███       | 3/10 [00:02<00:05,  1.26it/s]"
     ]
    },
    {
     "name": "stdout",
     "output_type": "stream",
     "text": [
      "Unk percentage: 0.003702180172768408\n",
      "Unk percentage: 0.00216021602160216\n",
      "Unk percentage: 0.0003786444528587656\n"
     ]
    },
    {
     "name": "stderr",
     "output_type": "stream",
     "text": [
      "\r",
      "Generating walks (CPU: 1):  90%|█████████ | 9/10 [00:09<00:01,  1.08s/it]"
     ]
    },
    {
     "name": "stdout",
     "output_type": "stream",
     "text": [
      "Unk percentage: 0.003194888178913738\n",
      "Unk percentage: 0.0012903225806451613\n",
      "Unk percentage: 0.0018738288569643974\n",
      "Unk percentage: 0.0028420625253755584\n",
      "Unk percentage: 0.0016494845360824743\n",
      "Unk percentage: 0.0079155672823219\n"
     ]
    },
    {
     "name": "stderr",
     "output_type": "stream",
     "text": [
      "\r",
      "Generating walks (CPU: 1):  40%|████      | 4/10 [00:03<00:04,  1.21it/s]"
     ]
    },
    {
     "name": "stdout",
     "output_type": "stream",
     "text": [
      "cluster began\n",
      "cluster end\n",
      "cluster began\n",
      "cluster end\n"
     ]
    },
    {
     "name": "stderr",
     "output_type": "stream",
     "text": [
      "\r",
      "Generating walks (CPU: 1): 100%|██████████| 10/10 [00:10<00:00,  1.04s/it]"
     ]
    },
    {
     "name": "stdout",
     "output_type": "stream",
     "text": [
      "[(('forth', 'NN'), 47.06230158730167), (('order', 'NN'), 47.39563492063501), (('president', 'NN'), 48.4095238095239), (('army', 'NN'), 49.209523809523915), (('volunteers', 'NNS'), 49.89563492063501), (('cuba', 'NN'), 50.201190476190575), ((\"''\", \"''\"), 51.48452380952391), (('states', 'NNS'), 52.4595238095239), (('to', 'TO'), 62.4178571428572)] (300,)\n"
     ]
    },
    {
     "name": "stderr",
     "output_type": "stream",
     "text": [
      "Computing transition probabilities: 100%|██████████| 117/117 [00:00<00:00, 1055.18it/s]\n",
      "Generating walks (CPU: 1):   0%|          | 0/10 [00:00<?, ?it/s]"
     ]
    },
    {
     "name": "stdout",
     "output_type": "stream",
     "text": [
      "[(('``', '``'), 140.73333333333298), (('time', 'NN'), 141.64999999999972), (('shall', 'MD'), 142.43333333333302), (('constitution', 'NN'), 142.68333333333305), (('congress', 'NN'), 144.23333333333315), (('not', 'RB'), 148.7333333333334), (('people', 'NNS'), 149.61666666666684), (('state', 'NN'), 151.28333333333353), (('to', 'TO'), 178.91666666666745)] (300,)\n"
     ]
    },
    {
     "name": "stderr",
     "output_type": "stream",
     "text": [
      "Computing transition probabilities: 100%|██████████| 330/330 [00:00<00:00, 575.20it/s]\n",
      "Generating walks (CPU: 1):  30%|███       | 3/10 [00:00<00:01,  4.20it/s]\n",
      "Generating walks (CPU: 1):  50%|█████     | 5/10 [00:01<00:01,  3.39it/s]"
     ]
    },
    {
     "name": "stdout",
     "output_type": "stream",
     "text": [
      "Unk percentage: 0.01132283899475283\n"
     ]
    },
    {
     "name": "stderr",
     "output_type": "stream",
     "text": [
      "\r",
      "Generating walks (CPU: 1):  60%|██████    | 6/10 [00:01<00:01,  3.29it/s]"
     ]
    },
    {
     "name": "stdout",
     "output_type": "stream",
     "text": [
      "Unk percentage: 0.0015610365282547611\n"
     ]
    },
    {
     "name": "stderr",
     "output_type": "stream",
     "text": [
      "\r",
      "Generating walks (CPU: 1):  20%|██        | 2/10 [00:01<00:04,  1.77it/s]"
     ]
    },
    {
     "name": "stdout",
     "output_type": "stream",
     "text": [
      "Unk percentage: 0.0028530670470756064\n"
     ]
    },
    {
     "name": "stderr",
     "output_type": "stream",
     "text": [
      "\r",
      "Generating walks (CPU: 1):  70%|███████   | 7/10 [00:02<00:01,  2.95it/s]"
     ]
    },
    {
     "name": "stdout",
     "output_type": "stream",
     "text": [
      "cluster began\n",
      "cluster end\n"
     ]
    },
    {
     "name": "stderr",
     "output_type": "stream",
     "text": [
      "\r",
      "Generating walks (CPU: 1):  70%|███████   | 7/10 [00:06<00:02,  1.11it/s]"
     ]
    },
    {
     "name": "stdout",
     "output_type": "stream",
     "text": [
      "[(('friends', 'NNS'), 84.85), (('we', 'PRP'), 84.91666666666669), (('they', 'PRP'), 85.25000000000001), (('very', 'RB'), 86.89999999999993), (('will', 'MD'), 88.19999999999995), (('world', 'NN'), 88.53333333333322), (('who', 'WP'), 92.88333333333311), (('to', 'TO'), 102.76666666666632), (('our', 'PRP$'), 105.91666666666639)] (300,)\n"
     ]
    },
    {
     "name": "stderr",
     "output_type": "stream",
     "text": [
      "Computing transition probabilities: 100%|██████████| 219/219 [00:00<00:00, 1001.38it/s]\n",
      "Generating walks (CPU: 1):  20%|██        | 2/10 [00:00<00:02,  2.86it/s]]\n"
     ]
    },
    {
     "name": "stdout",
     "output_type": "stream",
     "text": [
      "Unk percentage: 0.003027092477675193\n"
     ]
    },
    {
     "name": "stderr",
     "output_type": "stream",
     "text": [
      "Generating walks (CPU: 1):  90%|█████████ | 9/10 [00:08<00:00,  1.10it/s]"
     ]
    },
    {
     "name": "stdout",
     "output_type": "stream",
     "text": [
      "Unk percentage: 0.0009144947416552355\n",
      "Unk percentage: 0.03516295025728988\n"
     ]
    },
    {
     "name": "stderr",
     "output_type": "stream",
     "text": [
      "\r",
      "Generating walks (CPU: 1):  40%|████      | 4/10 [00:02<00:03,  1.79it/s]"
     ]
    },
    {
     "name": "stdout",
     "output_type": "stream",
     "text": [
      "cluster began\n",
      "cluster end\n"
     ]
    },
    {
     "name": "stderr",
     "output_type": "stream",
     "text": [
      "Generating walks (CPU: 1):  50%|█████     | 5/10 [00:04<00:04,  1.09it/s]]"
     ]
    },
    {
     "name": "stdout",
     "output_type": "stream",
     "text": [
      "[(('years', 'NNS'), 96.71666666666638), (('total', 'JJ'), 96.88333333333306), (('revenue', 'NN'), 97.18333333333304), (('sources', 'NNS'), 97.38333333333303), (('expenditures', 'NNS'), 100.13333333333298), (('its', 'PRP$'), 101.84999999999967), (('UNK', 'NNP'), 105.73333333333304), (('$', '$'), 108.64999999999968), (('to', 'TO'), 121.41666666666639)] (300,)\n"
     ]
    },
    {
     "name": "stderr",
     "output_type": "stream",
     "text": [
      "Computing transition probabilities: 100%|██████████| 238/238 [00:00<00:00, 923.06it/s]\n",
      "Generating walks (CPU: 1):  50%|█████     | 5/10 [00:02<00:03,  1.61it/s]\n",
      "Generating walks (CPU: 1):  60%|██████    | 6/10 [00:03<00:02,  1.48it/s]"
     ]
    },
    {
     "name": "stdout",
     "output_type": "stream",
     "text": [
      "Unk percentage: 0.002370791844476055\n",
      "Unk percentage: 0.003117085525034093\n",
      "Unk percentage: 0.003024955886059995\n"
     ]
    },
    {
     "name": "stderr",
     "output_type": "stream",
     "text": [
      "\r",
      "Generating walks (CPU: 1):  30%|███       | 3/10 [00:01<00:03,  1.90it/s]"
     ]
    },
    {
     "name": "stdout",
     "output_type": "stream",
     "text": [
      "Unk percentage: 0.0035410764872521247\n"
     ]
    },
    {
     "name": "stderr",
     "output_type": "stream",
     "text": [
      "Generating walks (CPU: 1):  70%|███████   | 7/10 [00:06<00:03,  1.01s/it]"
     ]
    },
    {
     "name": "stdout",
     "output_type": "stream",
     "text": [
      "cluster began\n",
      "cluster end\n"
     ]
    },
    {
     "name": "stderr",
     "output_type": "stream",
     "text": [
      "Generating walks (CPU: 1):  80%|████████  | 8/10 [00:05<00:01,  1.40it/s]"
     ]
    },
    {
     "name": "stdout",
     "output_type": "stream",
     "text": [
      "[(('mexico', 'NN'), 133.359523809523), (('huerta', 'NN'), 136.659523809523), (('such', 'JJ'), 139.32619047618977), (('government', 'NN'), 139.8261904761898), (('our', 'PRP$'), 141.37619047618975), (('we', 'PRP'), 141.83333333333266), (('it', 'PRP'), 143.9928571428566), (('not', 'RB'), 145.9928571428567), ((',', ','), 178.70000000000073)] (300,)\n"
     ]
    },
    {
     "name": "stderr",
     "output_type": "stream",
     "text": [
      "Computing transition probabilities: 100%|██████████| 339/339 [00:00<00:00, 629.31it/s]\n",
      "Generating walks (CPU: 1):  20%|██        | 2/10 [00:01<00:04,  1.75it/s]]\n",
      "Generating walks (CPU: 1): 100%|██████████| 10/10 [00:09<00:00,  1.04s/it]"
     ]
    },
    {
     "name": "stdout",
     "output_type": "stream",
     "text": [
      "Unk percentage: 0.0010005002501250625\n",
      "Unk percentage: 0.0024021138601969735\n",
      "Unk percentage: 0.003703703703703704\n"
     ]
    },
    {
     "name": "stderr",
     "output_type": "stream",
     "text": [
      "Generating walks (CPU: 1):  80%|████████  | 8/10 [00:05<00:01,  1.36it/s]"
     ]
    },
    {
     "name": "stdout",
     "output_type": "stream",
     "text": [
      "cluster began\n",
      "cluster end\n",
      "[(('government', 'NN'), 120.75952380952333), (('effort', 'NN'), 121.97619047618998), (('efforts', 'NNS'), 123.19285714285665), (('it', 'PRP'), 124.87619047618996), (('initiative', 'NN'), 125.43333333333278), (('we', 'PRP'), 129.1499999999994), (('their', 'PRP$'), 130.26666666666605), (('will', 'MD'), 145.0166666666664), (('to', 'TO'), 151.75238095238075)] (300,)\n"
     ]
    },
    {
     "name": "stderr",
     "output_type": "stream",
     "text": [
      "Computing transition probabilities:  22%|██▏       | 69/319 [00:00<00:00, 687.03it/s]\n",
      "Computing transition probabilities: 100%|██████████| 319/319 [00:00<00:00, 684.37it/s]\n",
      "Generating walks (CPU: 1): 100%|██████████| 10/10 [00:07<00:00,  1.33it/s]"
     ]
    },
    {
     "name": "stdout",
     "output_type": "stream",
     "text": [
      "Unk percentage: 0.005592841163310962\n"
     ]
    },
    {
     "name": "stderr",
     "output_type": "stream",
     "text": [
      "Generating walks (CPU: 1):  50%|█████     | 5/10 [00:04<00:04,  1.04it/s]"
     ]
    },
    {
     "name": "stdout",
     "output_type": "stream",
     "text": [
      "cluster began\n",
      "cluster end\n"
     ]
    },
    {
     "name": "stderr",
     "output_type": "stream",
     "text": [
      "\n"
     ]
    },
    {
     "name": "stdout",
     "output_type": "stream",
     "text": [
      "[(('may', 'MD'), 95.1095238095236), (('constitution', 'NN'), 96.44285714285685), (('liberty', 'NN'), 98.40952380952346), (('bill', 'NN'), 100.04285714285672), (('act', 'NN'), 101.5095238095234), (('not', 'RB'), 101.8999999999996), (('its', 'PRP$'), 103.29285714285673), (('it', 'PRP'), 108.53333333333296), (('to', 'TO'), 129.50952380952353)] (300,)\n"
     ]
    },
    {
     "name": "stderr",
     "output_type": "stream",
     "text": [
      "Computing transition probabilities: 100%|██████████| 237/237 [00:00<00:00, 963.30it/s]\n",
      "Generating walks (CPU: 1):   0%|          | 0/10 [00:00<?, ?it/s]"
     ]
    },
    {
     "name": "stdout",
     "output_type": "stream",
     "text": [
      "Unk percentage: 0.005339435545385202\n"
     ]
    },
    {
     "name": "stderr",
     "output_type": "stream",
     "text": [
      "Generating walks (CPU: 1):  20%|██        | 2/10 [00:00<00:03,  2.42it/s]"
     ]
    },
    {
     "name": "stdout",
     "output_type": "stream",
     "text": [
      "Unk percentage: 0.0026608232900297386\n",
      "Unk percentage: 0.003134796238244514\n"
     ]
    },
    {
     "name": "stderr",
     "output_type": "stream",
     "text": [
      "Generating walks (CPU: 1):  70%|███████   | 7/10 [00:06<00:03,  1.05s/it]"
     ]
    },
    {
     "name": "stdout",
     "output_type": "stream",
     "text": [
      "cluster began\n",
      "cluster end\n",
      "[(('their', 'PRP$'), 74.63531746031768), (('not', 'RB'), 75.52817460317479), (('report', 'NN'), 76.44484126984146), (('government', 'NN'), 77.44484126984145), (('attention', 'NN'), 78.31984126984138), (('congress', 'NN'), 78.54920634920651), (('our', 'PRP$'), 79.93015873015888), (('its', 'PRP$'), 80.43650793650802), ((',', ','), 95.36031746031726)] (300,)\n"
     ]
    },
    {
     "name": "stderr",
     "output_type": "stream",
     "text": [
      "Computing transition probabilities: 100%|██████████| 205/205 [00:00<00:00, 1197.08it/s]\n",
      "Generating walks (CPU: 1):  80%|████████  | 8/10 [00:07<00:02,  1.05s/it]]\n",
      "Generating walks (CPU: 1):  90%|█████████ | 9/10 [00:08<00:01,  1.05s/it]]"
     ]
    },
    {
     "name": "stdout",
     "output_type": "stream",
     "text": [
      "Unk percentage: 0.003143006809848088\n"
     ]
    },
    {
     "name": "stderr",
     "output_type": "stream",
     "text": [
      "\r",
      "Generating walks (CPU: 1):  90%|█████████ | 9/10 [00:05<00:00,  1.64it/s]"
     ]
    },
    {
     "name": "stdout",
     "output_type": "stream",
     "text": [
      "Unk percentage: 0.0038402457757296467\n",
      "cluster began\n",
      "cluster end\n"
     ]
    },
    {
     "name": "stderr",
     "output_type": "stream",
     "text": [
      "\n",
      "Generating walks (CPU: 1): 100%|██████████| 10/10 [00:05<00:00,  1.58it/s]"
     ]
    },
    {
     "name": "stdout",
     "output_type": "stream",
     "text": [
      "[(('us', 'PRP'), 131.466666666666), (('country', 'NN'), 132.13333333333264), (('you', 'PRP'), 133.09999999999937), (('can', 'MD'), 133.71666666666601), (('we', 'PRP'), 136.33333333333263), (('now', 'RB'), 137.34999999999945), (('not', 'RB'), 142.01666666666637), (('it', 'PRP'), 153.03333333333367), (('to', 'TO'), 174.40000000000066)] (300,)\n"
     ]
    },
    {
     "name": "stderr",
     "output_type": "stream",
     "text": [
      "Computing transition probabilities:  77%|███████▋  | 247/319 [00:00<00:00, 583.85it/s]"
     ]
    },
    {
     "name": "stdout",
     "output_type": "stream",
     "text": [
      "Unk percentage: 0.0010819583446037328\n"
     ]
    },
    {
     "name": "stderr",
     "output_type": "stream",
     "text": [
      "Computing transition probabilities:  93%|█████████▎| 297/319 [00:00<00:00, 549.31it/s]\n",
      "Computing transition probabilities: 100%|██████████| 319/319 [00:00<00:00, 562.86it/s]\n",
      "Generating walks (CPU: 1):   0%|          | 0/10 [00:00<?, ?it/s]"
     ]
    },
    {
     "name": "stdout",
     "output_type": "stream",
     "text": [
      "Unk percentage: 0.0012155591572123178\n",
      "Unk percentage: 0.008737864077669903\n",
      "Unk percentage: 0.00490414623272403\n"
     ]
    },
    {
     "name": "stderr",
     "output_type": "stream",
     "text": [
      "\n"
     ]
    },
    {
     "name": "stdout",
     "output_type": "stream",
     "text": [
      "cluster began\n",
      "cluster end\n",
      "Unk percentage: 0.008056826849733028\n",
      "[(('laws', 'NNS'), 97.66666666666637), (('then', 'RB'), 97.78333333333299), (('may', 'MD'), 97.9499999999997), (('persons', 'NNS'), 98.84999999999968), (('shall', 'MD'), 104.46666666666634), (('UNK', 'NNP'), 104.71666666666634), (('states', 'NNS'), 104.79999999999967), (('state', 'NN'), 112.4999999999997), (('to', 'TO'), 123.84999999999974)] (300,)\n"
     ]
    },
    {
     "name": "stderr",
     "output_type": "stream",
     "text": [
      "Computing transition probabilities: 100%|██████████| 247/247 [00:00<00:00, 845.77it/s]\n",
      "Generating walks (CPU: 1):   0%|          | 0/10 [00:00<?, ?it/s]"
     ]
    },
    {
     "name": "stdout",
     "output_type": "stream",
     "text": [
      "Unk percentage: 0.00614356055472738\n",
      "Unk percentage: 0.0009161704076958314\n"
     ]
    },
    {
     "name": "stderr",
     "output_type": "stream",
     "text": [
      "\r",
      "Generating walks (CPU: 1):  20%|██        | 2/10 [00:00<00:03,  2.49it/s]"
     ]
    },
    {
     "name": "stdout",
     "output_type": "stream",
     "text": [
      "Unk percentage: 0.0012857602057216328\n"
     ]
    },
    {
     "name": "stderr",
     "output_type": "stream",
     "text": [
      "\r",
      "Generating walks (CPU: 1):  30%|███       | 3/10 [00:02<00:04,  1.46it/s]"
     ]
    },
    {
     "name": "stdout",
     "output_type": "stream",
     "text": [
      "Unk percentage: 0.0018756698821007502\n",
      "Unk percentage: 0.01\n",
      "cluster began\n",
      "cluster end\n",
      "[(('will', 'MD'), 52.19126984126991), (('president', 'NN'), 52.48849206349215), (('forces', 'NNS'), 52.5218253968255), (('port', 'NN'), 52.69682539682549), (('such', 'JJ'), 54.95515873015884), (('resolution', 'NN'), 55.913492063492185), (('cuba', 'NN'), 57.16349206349219), (('states', 'NNS'), 57.42182539682551), (('to', 'TO'), 68.63571428571433)] (300,)\n"
     ]
    },
    {
     "name": "stderr",
     "output_type": "stream",
     "text": [
      "Computing transition probabilities: 100%|██████████| 138/138 [00:00<00:00, 1834.55it/s]\n",
      "Generating walks (CPU: 1): 100%|██████████| 10/10 [00:03<00:00,  2.79it/s]\n",
      "Generating walks (CPU: 1):  90%|█████████ | 9/10 [00:07<00:00,  1.12it/s]]\n",
      "Generating walks (CPU: 1): 100%|██████████| 10/10 [00:08<00:00,  1.12it/s]"
     ]
    },
    {
     "name": "stdout",
     "output_type": "stream",
     "text": [
      "Unk percentage: 0.0025096525096525097\n",
      "Unk percentage: 0.005797101449275362\n",
      "cluster began\n",
      "cluster end\n",
      "[(('war', 'NN'), 36.149999999999984), (('lieutenant', 'NN'), 36.34999999999998), (('notice', 'RB'), 36.51666666666665), (('prisoners', 'NNS'), 38.0833333333333), (('hereby', 'RB'), 38.79999999999998), (('regulations', 'NNS'), 40.11666666666665), (('department', 'NN'), 41.70000000000002), (('to', 'TO'), 43.55000000000003), (('will', 'MD'), 49.05000000000008)] (300,)\n"
     ]
    },
    {
     "name": "stderr",
     "output_type": "stream",
     "text": [
      "Computing transition probabilities: 100%|██████████| 106/106 [00:00<00:00, 2365.41it/s]\n",
      "Generating walks (CPU: 1):   0%|          | 0/10 [00:00<?, ?it/s]\n",
      "Generating walks (CPU: 1):  40%|████      | 4/10 [00:00<00:01,  5.03it/s]"
     ]
    },
    {
     "name": "stdout",
     "output_type": "stream",
     "text": [
      "Unk percentage: 0.006940427993059572\n"
     ]
    },
    {
     "name": "stderr",
     "output_type": "stream",
     "text": [
      "Generating walks (CPU: 1):  60%|██████    | 6/10 [00:01<00:00,  4.29it/s]"
     ]
    },
    {
     "name": "stdout",
     "output_type": "stream",
     "text": [
      "cluster began\n",
      "cluster end\n"
     ]
    },
    {
     "name": "stderr",
     "output_type": "stream",
     "text": [
      "\r",
      "Generating walks (CPU: 1):  70%|███████   | 7/10 [00:01<00:00,  4.03it/s]"
     ]
    },
    {
     "name": "stdout",
     "output_type": "stream",
     "text": [
      "[(('enemies', 'NNS'), 145.6428571428571), (('such', 'JJ'), 148.34285714285716), (('war', 'NN'), 148.91666666666686), (('president', 'NN'), 148.95952380952386), (('states', 'NNS'), 153.40952380952425), (('shall', 'MD'), 153.47619047619082), (('united', 'JJ'), 155.74285714285762), ((';', ':'), 164.76666666666725), (('to', 'TO'), 185.35000000000042)] (300,)\n"
     ]
    },
    {
     "name": "stderr",
     "output_type": "stream",
     "text": [
      "Computing transition probabilities: 100%|██████████| 329/329 [00:00<00:00, 672.36it/s]\n",
      "Generating walks (CPU: 1): 100%|██████████| 10/10 [00:02<00:00,  3.60it/s]\n"
     ]
    },
    {
     "name": "stdout",
     "output_type": "stream",
     "text": [
      "Unk percentage: 0.0024261452832881406\n",
      "Unk percentage: 0.006896551724137931\n"
     ]
    },
    {
     "name": "stderr",
     "output_type": "stream",
     "text": [
      "\r",
      "Generating walks (CPU: 1):  20%|██        | 2/10 [00:00<00:03,  2.06it/s]"
     ]
    },
    {
     "name": "stdout",
     "output_type": "stream",
     "text": [
      "cluster began\n",
      "cluster end\n",
      "[(('articles', 'NNS'), 41.96666666666667), (('excepting', 'VBG'), 41.966666666666676), (('tennessee', 'NN'), 42.40000000000001), (('pursuant', 'NN'), 42.51666666666669), (('1865', 'CD'), 42.60000000000002), (('internal', 'JJ'), 42.633333333333354), (('military', 'JJ'), 43.4666666666667), (('commercial', 'JJ'), 44.38333333333338), (('to', 'TO'), 48.15000000000008)] (300,)\n"
     ]
    },
    {
     "name": "stderr",
     "output_type": "stream",
     "text": [
      "Computing transition probabilities: 100%|██████████| 109/109 [00:00<00:00, 1579.43it/s]\n",
      "Generating walks (CPU: 1):  50%|█████     | 5/10 [00:03<00:04,  1.22it/s]]\n"
     ]
    },
    {
     "name": "stdout",
     "output_type": "stream",
     "text": [
      "Unk percentage: 0.0036849378166743437\n",
      "cluster began\n",
      "cluster end\n"
     ]
    },
    {
     "name": "stderr",
     "output_type": "stream",
     "text": [
      "\r",
      "Generating walks (CPU: 1):  60%|██████    | 6/10 [00:04<00:03,  1.13it/s]"
     ]
    },
    {
     "name": "stdout",
     "output_type": "stream",
     "text": [
      "[(('rebellion', 'NN'), 161.8000000000004), (('constitution', 'NN'), 163.3333333333338), (('president', 'NN'), 164.00000000000054), (('people', 'NNS'), 165.833333333334), (('insurrection', 'NN'), 171.55000000000098), (('state', 'NN'), 174.8833333333343), ((';', ':'), 179.7666666666676), (('states', 'NNS'), 185.88333333333412), (('to', 'TO'), 202.23333333333412)] (300,)\n"
     ]
    },
    {
     "name": "stderr",
     "output_type": "stream",
     "text": [
      "Computing transition probabilities: 100%|██████████| 380/380 [00:00<00:00, 684.41it/s]\n",
      "Generating walks (CPU: 1):  40%|████      | 4/10 [00:03<00:05,  1.18it/s]]\n",
      "Generating walks (CPU: 1):  50%|█████     | 5/10 [00:04<00:04,  1.07it/s]"
     ]
    },
    {
     "name": "stdout",
     "output_type": "stream",
     "text": [
      "Unk percentage: 0.0027472527472527475\n",
      "cluster began\n",
      "cluster end\n",
      "[(('questions', 'NNS'), 134.86666666666596), (('so', 'RB'), 135.8999999999993), (('i', 'NN'), 137.39999999999932), (('government', 'NN'), 138.94999999999948), (('women', 'NNS'), 138.98333333333275), (('you', 'PRP'), 146.76666666666662), (('not', 'RB'), 149.0333333333334), (('it', 'PRP'), 158.00000000000045), (('to', 'TO'), 170.13333333333404)] (300,)\n"
     ]
    },
    {
     "name": "stderr",
     "output_type": "stream",
     "text": [
      "Computing transition probabilities: 100%|██████████| 325/325 [00:00<00:00, 867.84it/s]\n",
      "Generating walks (CPU: 1):  60%|██████    | 6/10 [00:04<00:03,  1.24it/s]]\n",
      "Generating walks (CPU: 1): 100%|██████████| 10/10 [00:08<00:00,  1.15it/s]\n"
     ]
    },
    {
     "name": "stdout",
     "output_type": "stream",
     "text": [
      "Unk percentage: 0.0016630633627141194\n",
      "Unk percentage: 0.003663003663003663\n",
      "cluster began\n",
      "cluster end\n",
      "[(('its', 'PRP$'), 153.1999999999996), (('me', 'PRP'), 153.54999999999973), (('note', 'NN'), 154.8999999999998), ((\"''\", \"''\"), 157.2833333333333), (('german', 'JJ'), 157.3833333333332), (('not', 'RB'), 163.6333333333337), (('it', 'PRP'), 170.95000000000084), (('government', 'NN'), 172.6166666666676), (('to', 'TO'), 209.08333333333402)] (300,)\n"
     ]
    },
    {
     "name": "stderr",
     "output_type": "stream",
     "text": [
      "Computing transition probabilities: 100%|██████████| 375/375 [00:00<00:00, 804.50it/s]\n",
      "Generating walks (CPU: 1): 100%|██████████| 10/10 [00:09<00:00,  1.01s/it]\n"
     ]
    },
    {
     "name": "stdout",
     "output_type": "stream",
     "text": [
      "Unk percentage: 0.0018578727357176034\n",
      "Unk percentage: 0.002861230329041488\n",
      "cluster began\n",
      "cluster end\n",
      "[(('others', 'NNS'), 89.43333333333325), (('men', 'NNS'), 89.56666666666656), (('will', 'MD'), 90.24999999999999), (('not', 'RB'), 90.86666666666653), (('one', 'CD'), 91.1333333333332), (('peace', 'NN'), 91.14999999999989), (('nation', 'NN'), 91.93333333333321), (('what', 'WP'), 97.66666666666632), (('to', 'TO'), 113.68333333333302)] (300,)\n"
     ]
    },
    {
     "name": "stderr",
     "output_type": "stream",
     "text": [
      "Computing transition probabilities: 100%|██████████| 228/228 [00:00<00:00, 1263.89it/s]\n",
      "Generating walks (CPU: 1): 100%|██████████| 10/10 [00:05<00:00,  1.76it/s]\n"
     ]
    },
    {
     "name": "stdout",
     "output_type": "stream",
     "text": [
      "Unk percentage: 0.002544529262086514\n",
      "Unk percentage: 0.005083884087442806\n",
      "Unk percentage: 0.0031185031185031187\n",
      "Unk percentage: 0.001195457262402869\n",
      "cluster began\n",
      "cluster end\n",
      "[(('them', 'PRP'), 153.54285714285677), (('shall', 'MD'), 154.9261904761902), (('they', 'PRP'), 155.34285714285684), (('purpose', 'NN'), 157.64285714285708), (('it', 'PRP'), 161.1261904761905), (('not', 'RB'), 164.40952380952425), (('our', 'PRP$'), 177.4428571428581), (('we', 'PRP'), 186.36666666666773), (('to', 'TO'), 199.42619047619135)] (300,)\n"
     ]
    },
    {
     "name": "stderr",
     "output_type": "stream",
     "text": [
      "Computing transition probabilities: 100%|██████████| 380/380 [00:00<00:00, 816.35it/s]\n",
      "Generating walks (CPU: 1): 100%|██████████| 10/10 [00:09<00:00,  1.01s/it]\n"
     ]
    },
    {
     "name": "stdout",
     "output_type": "stream",
     "text": [
      "Unk percentage: 0.001816860465116279\n",
      "Unk percentage: 0.003985828166519044\n",
      "Unk percentage: 0.002229654403567447\n",
      "Unk percentage: 0.0015735641227380016\n",
      "cluster began\n",
      "cluster end\n",
      "[(('they', 'PRP'), 139.41666666666592), (('business', 'NN'), 139.6499999999993), (('facts', 'NNS'), 139.8333333333326), (('must', 'MD'), 139.84999999999928), (('will', 'MD'), 141.38333333333264), (('not', 'RB'), 142.56666666666598), (('we', 'PRP'), 149.94999999999982), (('our', 'PRP$'), 154.44999999999985), (('to', 'TO'), 176.6166666666675)] (300,)\n"
     ]
    },
    {
     "name": "stderr",
     "output_type": "stream",
     "text": [
      "Computing transition probabilities: 100%|██████████| 346/346 [00:00<00:00, 879.88it/s]\n",
      "Generating walks (CPU: 1): 100%|██████████| 10/10 [00:08<00:00,  1.09it/s]\n"
     ]
    }
   ],
   "source": [
    "def vectorize(path):\n",
    "    bag = GraphGenerator(path, emb, word2id_dict, id2word_dict)\n",
    "    G = bag.generate_graph()\n",
    "    if nx.number_of_nodes(G) <= 400:\n",
    "        return gen_style_vec(G, word2id_dict, emb)\n",
    "    else:\n",
    "        return None\n",
    "\n",
    "def main():    \n",
    "    presidents = os.listdir('./data/presidential/')\n",
    "    p = Pool(N_CORES)\n",
    "    pres_speeches = []\n",
    "    for president in presidents:\n",
    "        text_files = os.listdir('./data/presidential/' + president)\n",
    "        for speech in text_files:\n",
    "            path = './data/presidential/' + president + '/' + speech\n",
    "            pres_speeches += [(president, path)]\n",
    "    speeches = [x[1] for x in pres_speeches]\n",
    "    return p.map(vectorize, speeches), pres_speeches\n",
    "\n",
    "finished, pres_speeches = main()"
   ]
  },
  {
   "execution_count": null,
   "metadata": {
    "collapsed": true
   },
   "outputs": [],
   "source": [
    "vectors = [(pres, file, finished[i]) for i, (pres, file) in enumerate(pres_speeches) if finished[i] is not None]"
   ]
  },
  {
   "cell_type": "code",
   "execution_count": null,
   "metadata": {
    "collapsed": true
   },
   "outputs": [],
   "source": [
    "pres = [x[0] for x in vectors]\n",
    "X = np.concatenate([x[2][:,np.newaxis] for x in vectors], axis=1)"
   ]
  },
  {
   "cell_type": "code",
   "execution_count": null,
   "metadata": {
    "collapsed": true
   },
   "outputs": [],
   "source": [
    "from sklearn import manifold\n",
    "from sklearn.decomposition import PCA\n",
    "\n",
    "pca = PCA(50)\n",
    "X_r = pca.fit(X[1:,:].T).transform(X[1:,:].T)\n",
    "tsne = manifold.TSNE()\n",
    "X_embedded = tsne.fit_transform(X_r)\n",
    "print(X_embedded.shape)"
   ]
  },
  {
   "cell_type": "code",
   "execution_count": null,
   "metadata": {
    "collapsed": true
   },
   "outputs": [],
   "source": [
    "import plotly\n",
    "import plotly.plotly as py\n",
    "import plotly.graph_objs as go\n",
    "from plotly import tools\n",
    "\n",
    "plotly.tools.set_credentials_file(username='amanjuna', api_key='v5RvlMiKGJwt6X5yxmUQ')\n",
    "\n",
    "plots = []\n",
    "for president in set(pres):\n",
    "    occur = [i for i, x in enumerate(pres) if x == president]\n",
    "    plots.append(go.Scatter(x = X_embedded[occur,0], y = X_embedded[occur,1], mode='markers', name=president))\n",
    "fig = go.Figure(data=plots)\n",
    "py.iplot(fig, filename=\"whatever\")"
   ]
  },
  {
   "cell_type": "code",
   "execution_count": null,
   "metadata": {
    "collapsed": true
   },
   "outputs": [],
   "source": []
  }
 ],
 "metadata": {
  "kernelspec": {
   "display_name": "Python 2",
   "language": "python",
   "name": "python2"
  },
  "language_info": {
   "codemirror_mode": {
    "name": "ipython",
    "version": 2
   },
   "file_extension": ".py",
   "mimetype": "text/x-python",
   "name": "python",
   "nbconvert_exporter": "python",
   "pygments_lexer": "ipython3",
   "version": "3.6.7"
  }
 },
 "nbformat": 4,
 "nbformat_minor": 2
}
