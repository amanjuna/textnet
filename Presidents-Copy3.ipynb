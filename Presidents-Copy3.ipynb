{
 "cells": [
  {
   "cell_type": "code",
   "execution_count": 1,
   "metadata": {},
   "outputs": [
    {
     "name": "stdout",
     "output_type": "stream",
     "text": [
      "Embeddings loaded\n"
     ]
    }
   ],
   "source": [
    "import matplotlib.pyplot as mpl\n",
    "from analyze import *\n",
    "from utils import *\n",
    "from TextPOSDirected import TextPOSDirected as GraphGenerator\n",
    "from multiprocessing import Pool\n",
    "\n",
    "N_CORES = 8\n",
    "emb, word2id_dict, id2word_dict  = load_embeddings()"
   ]
  },
  {
   "cell_type": "code",
   "execution_count": null,
   "metadata": {},
   "outputs": [
    {
     "name": "stdout",
     "output_type": "stream",
     "text": [
      "<function gen_style_vec at 0x7f76f1e9a2f0>\n"
     ]
    }
   ],
   "source": [
    "print(gen_style_vec)"
   ]
  },
  {
   "cell_type": "code",
   "execution_count": null,
   "metadata": {
    "scrolled": true
   },
   "outputs": [
    {
     "name": "stdout",
     "output_type": "stream",
     "text": [
      "Unk percentage: 0.0052323791935980305\n",
      "Unk percentage: 0.012220238912536043\n",
      "Unk percentage: 0.0032989690721649486\n",
      "Unk percentage: 0.0055927588490691\n",
      "Unk percentage: 0.006648608717064762\n",
      "Unk percentage: 0.0031466331025802393\n",
      "Unk percentage: 0.004398447606727037\n",
      "Unk percentage: 0.0008261049153242462\n",
      "Unk percentage: 0.004485806106052491\n",
      "Unk percentage: 0.007863247863247864\n",
      "Unk percentage: 0.00375\n",
      "Unk percentage: 0.007282772476142642\n",
      "Unk percentage: 0.0037369207772795215\n",
      "Unk percentage: 0.0016129032258064516\n",
      "Unk percentage: 0.0011492051331162612\n",
      "Unk percentage: 0.0016129032258064516\n",
      "Unk percentage: 0.004638833664678595\n",
      "Unk percentage: 0.0075551151845429775\n",
      "cluster began\n",
      "cluster end\n",
      "Unk percentage: 0.008880994671403197\n"
     ]
    },
    {
     "name": "stderr",
     "output_type": "stream",
     "text": [
      "\r",
      "Computing transition probabilities:   0%|          | 0/329 [00:00<?, ?it/s]"
     ]
    },
    {
     "name": "stdout",
     "output_type": "stream",
     "text": [
      "Unk percentage: 0.006640381821954763\n"
     ]
    },
    {
     "name": "stderr",
     "output_type": "stream",
     "text": [
      "\r",
      "Computing transition probabilities:  19%|█▉        | 63/329 [00:00<00:00, 627.34it/s]"
     ]
    },
    {
     "name": "stdout",
     "output_type": "stream",
     "text": [
      "cluster began\n",
      "cluster end\n"
     ]
    },
    {
     "name": "stderr",
     "output_type": "stream",
     "text": [
      "\r",
      "Computing transition probabilities:  33%|███▎      | 108/329 [00:00<00:00, 560.01it/s]"
     ]
    },
    {
     "name": "stdout",
     "output_type": "stream",
     "text": [
      "Unk percentage: 0.001839587932303164\n"
     ]
    },
    {
     "name": "stderr",
     "output_type": "stream",
     "text": [
      "\r",
      "Computing transition probabilities:  53%|█████▎    | 175/329 [00:00<00:00, 588.05it/s]"
     ]
    },
    {
     "name": "stdout",
     "output_type": "stream",
     "text": [
      "cluster began\n",
      "cluster end\n"
     ]
    },
    {
     "name": "stderr",
     "output_type": "stream",
     "text": [
      "Computing transition probabilities:  69%|██████▉   | 227/329 [00:00<00:00, 565.21it/s]"
     ]
    },
    {
     "name": "stdout",
     "output_type": "stream",
     "text": [
      "Unk percentage: 0.0013434841021047917\n"
     ]
    },
    {
     "name": "stderr",
     "output_type": "stream",
     "text": [
      "\r",
      "Computing transition probabilities:  11%|█         | 42/388 [00:00<00:00, 417.90it/s]"
     ]
    },
    {
     "name": "stdout",
     "output_type": "stream",
     "text": [
      "Unk percentage: 0.002932551319648094\n"
     ]
    },
    {
     "name": "stderr",
     "output_type": "stream",
     "text": [
      "Computing transition probabilities: 100%|██████████| 329/329 [00:00<00:00, 600.89it/s]\n",
      "Computing transition probabilities:  21%|██        | 66/321 [00:00<00:00, 658.54it/s]"
     ]
    },
    {
     "name": "stdout",
     "output_type": "stream",
     "text": [
      "Unk percentage: 0.0014537902388369677\n"
     ]
    },
    {
     "name": "stderr",
     "output_type": "stream",
     "text": [
      "Computing transition probabilities:  54%|█████▍    | 209/388 [00:00<00:00, 503.21it/s]"
     ]
    },
    {
     "name": "stdout",
     "output_type": "stream",
     "text": [
      "Unk percentage: 0.0009683666881859264\n"
     ]
    },
    {
     "name": "stderr",
     "output_type": "stream",
     "text": [
      "Computing transition probabilities: 100%|██████████| 321/321 [00:00<00:00, 644.74it/s]\n",
      "Generating walks (CPU: 1):   0%|          | 0/10 [00:00<?, ?it/s]"
     ]
    },
    {
     "name": "stdout",
     "output_type": "stream",
     "text": [
      "Unk percentage: 0.0011267028577281574\n"
     ]
    },
    {
     "name": "stderr",
     "output_type": "stream",
     "text": [
      "Computing transition probabilities: 100%|██████████| 388/388 [00:00<00:00, 580.25it/s]\n",
      "Generating walks (CPU: 1):   0%|          | 0/10 [00:00<?, ?it/s]"
     ]
    },
    {
     "name": "stdout",
     "output_type": "stream",
     "text": [
      "Unk percentage: 0.0005983724269985639\n",
      "Unk percentage: 0.0021617497456765007\n"
     ]
    },
    {
     "name": "stderr",
     "output_type": "stream",
     "text": [
      "\r",
      "Generating walks (CPU: 1):  20%|██        | 2/10 [00:01<00:05,  1.38it/s]"
     ]
    },
    {
     "name": "stdout",
     "output_type": "stream",
     "text": [
      "Unk percentage: 0.001936108422071636\n"
     ]
    },
    {
     "name": "stderr",
     "output_type": "stream",
     "text": [
      "Generating walks (CPU: 1):  30%|███       | 3/10 [00:02<00:05,  1.20it/s]"
     ]
    },
    {
     "name": "stdout",
     "output_type": "stream",
     "text": [
      "cluster began\n",
      "cluster end\n"
     ]
    },
    {
     "name": "stderr",
     "output_type": "stream",
     "text": [
      "Computing transition probabilities: 100%|██████████| 301/301 [00:00<00:00, 649.47it/s]\n",
      "Generating walks (CPU: 1):  90%|█████████ | 9/10 [00:08<00:00,  1.01it/s]]\n",
      "Generating walks (CPU: 1): 100%|██████████| 10/10 [00:09<00:00,  1.05s/it]\n",
      "Generating walks (CPU: 1): 100%|██████████| 10/10 [00:13<00:00,  1.50s/it]\n"
     ]
    },
    {
     "name": "stdout",
     "output_type": "stream",
     "text": [
      "[2.72000000e+00 8.15909091e-02 5.24015900e+06 1.58816000e+05\n",
      " 3.59600000e+03 1.68000000e+03 1.50300000e+03 2.70000000e+01\n",
      " 4.90000000e+01 3.36500000e+03 4.72000000e+02 5.09000000e+02\n",
      " 1.40000000e+01 5.00000000e+00 3.00000000e+00 4.10000000e+01\n",
      " 1.00000000e+00 0.00000000e+00]\n",
      "Unk percentage: 0.0031545741324921135\n",
      "[3.47000000e+00 8.73431732e-02 5.63609000e+06 1.74875000e+05\n",
      " 4.56200000e+03 2.20900000e+03 2.07300000e+03 3.30000000e+01\n",
      " 6.70000000e+01 5.47900000e+03 9.84000000e+02 1.00100000e+03\n",
      " 2.80000000e+01 1.00000000e+01 9.00000000e+00 1.49000000e+02\n",
      " 6.00000000e+00 1.00000000e+00]\n",
      "Unk percentage: 0.0037926675094816687\n",
      "Unk percentage: 0.0043821209465381246\n"
     ]
    },
    {
     "name": "stderr",
     "output_type": "stream",
     "text": [
      "\n"
     ]
    },
    {
     "name": "stdout",
     "output_type": "stream",
     "text": [
      "[3.57000000e+00 2.97269426e-02 4.30624800e+06 1.38680000e+05\n",
      " 2.42800000e+03 9.79000000e+02 1.11400000e+03 1.70000000e+01\n",
      " 2.10000000e+01 4.71900000e+03 4.54000000e+02 3.71000000e+02\n",
      " 1.00000000e+01 2.00000000e+00 8.00000000e+00 4.80000000e+01\n",
      " 1.00000000e+00 0.00000000e+00]\n",
      "Unk percentage: 0.007361671811921159\n",
      "Unk percentage: 0.012782159369050857\n",
      "Unk percentage: 0.013194788058716806\n",
      "cluster began\n",
      "cluster end\n"
     ]
    },
    {
     "name": "stderr",
     "output_type": "stream",
     "text": [
      "\r",
      "Computing transition probabilities:   0%|          | 0/360 [00:00<?, ?it/s]"
     ]
    },
    {
     "name": "stdout",
     "output_type": "stream",
     "text": [
      "Unk percentage: 0.004280243298040099\n"
     ]
    },
    {
     "name": "stderr",
     "output_type": "stream",
     "text": [
      "\r",
      "Computing transition probabilities:  16%|█▌        | 57/360 [00:00<00:00, 564.19it/s]"
     ]
    },
    {
     "name": "stdout",
     "output_type": "stream",
     "text": [
      "Unk percentage: 0.0016501650165016502\n"
     ]
    },
    {
     "name": "stderr",
     "output_type": "stream",
     "text": [
      "Computing transition probabilities:  66%|██████▌   | 238/360 [00:00<00:00, 569.79it/s]"
     ]
    },
    {
     "name": "stdout",
     "output_type": "stream",
     "text": [
      "Unk percentage: 0.0018034265103697023\n"
     ]
    },
    {
     "name": "stderr",
     "output_type": "stream",
     "text": [
      "\r",
      "Computing transition probabilities:  79%|███████▊  | 283/360 [00:00<00:00, 525.99it/s]"
     ]
    },
    {
     "name": "stdout",
     "output_type": "stream",
     "text": [
      "cluster began\n",
      "cluster end\n"
     ]
    },
    {
     "name": "stderr",
     "output_type": "stream",
     "text": [
      "Computing transition probabilities: 100%|██████████| 360/360 [00:00<00:00, 525.17it/s]\n",
      "Computing transition probabilities: 100%|██████████| 321/321 [00:00<00:00, 531.40it/s]\n",
      "Generating walks (CPU: 1):   0%|          | 0/10 [00:00<?, ?it/s]"
     ]
    },
    {
     "name": "stdout",
     "output_type": "stream",
     "text": [
      "[3.81000000e+00 8.37135819e-02 9.35960400e+06 2.08742000e+05\n",
      " 4.19300000e+03 1.91400000e+03 2.08600000e+03 3.60000000e+01\n",
      " 4.30000000e+01 6.85500000e+03 9.48000000e+02 7.63000000e+02\n",
      " 2.10000000e+01 5.00000000e+00 7.00000000e+00 1.20000000e+02\n",
      " 8.00000000e+00 0.00000000e+00]\n",
      "Unk percentage: 0.006128702757916241\n"
     ]
    },
    {
     "name": "stderr",
     "output_type": "stream",
     "text": [
      "\r",
      "Generating walks (CPU: 1):  20%|██        | 2/10 [00:01<00:06,  1.16it/s]"
     ]
    },
    {
     "name": "stdout",
     "output_type": "stream",
     "text": [
      "cluster began\n",
      "cluster end\n"
     ]
    },
    {
     "name": "stderr",
     "output_type": "stream",
     "text": [
      "Computing transition probabilities: 100%|██████████| 292/292 [00:00<00:00, 540.25it/s]\n",
      "Generating walks (CPU: 1):   0%|          | 0/10 [00:00<?, ?it/s]"
     ]
    },
    {
     "name": "stdout",
     "output_type": "stream",
     "text": [
      "cluster began\n",
      "cluster end\n"
     ]
    },
    {
     "name": "stderr",
     "output_type": "stream",
     "text": [
      "Computing transition probabilities: 100%|██████████| 284/284 [00:00<00:00, 638.17it/s]\n",
      "Generating walks (CPU: 1): 100%|██████████| 10/10 [00:12<00:00,  1.27s/it]\n",
      "Generating walks (CPU: 1): 100%|██████████| 10/10 [00:09<00:00,  1.03it/s]\n",
      "\n",
      "\n"
     ]
    },
    {
     "name": "stdout",
     "output_type": "stream",
     "text": [
      "[3.00000000e+00 4.35275921e-02 3.92965400e+06 1.26888000e+05\n",
      " 2.78200000e+03 1.16700000e+03 1.33400000e+03 2.30000000e+01\n",
      " 5.40000000e+01 2.43600000e+03 2.21000000e+02 2.02000000e+02\n",
      " 6.00000000e+00 3.00000000e+00 8.00000000e+00 7.00000000e+00\n",
      " 0.00000000e+00 0.00000000e+00]\n",
      "[3.85000000e+00 5.66600018e-02 5.25634900e+06 1.41303000e+05\n",
      " 3.01500000e+03 1.33700000e+03 1.30800000e+03 1.60000000e+01\n",
      " 2.00000000e+01 5.32100000e+03 7.21000000e+02 7.27000000e+02\n",
      " 1.30000000e+01 2.00000000e+00 6.00000000e+00 9.10000000e+01\n",
      " 9.00000000e+00 2.00000000e+00]\n",
      "Unk percentage: 0.0009549578226961642\n",
      "Unk percentage: 0.010437575270975512\n",
      "Unk percentage: 0.000656024491581019\n",
      "Unk percentage: 0.014760147601476014\n",
      "Unk percentage: 0.004411764705882353\n",
      "Unk percentage: 0.0006563833278634722\n",
      "Unk percentage: 0.0073200488003253355\n",
      "[2.93000000e+00 9.84755245e-02 3.61911900e+06 1.08918000e+05\n",
      " 2.63700000e+03 1.18400000e+03 1.21700000e+03 3.60000000e+01\n",
      " 3.20000000e+01 3.33500000e+03 5.29000000e+02 4.97000000e+02\n",
      " 1.10000000e+01 5.00000000e+00 3.00000000e+00 5.20000000e+01\n",
      " 6.00000000e+00 0.00000000e+00]\n",
      "Unk percentage: 0.006675567423230975\n",
      "Unk percentage: 0.0011960421876698925\n",
      "Unk percentage: 0.0072602216278181125\n",
      "Unk percentage: 0.008830869648684968\n",
      "Unk percentage: 0.0012340600575894694\n",
      "Unk percentage: 0.007863340563991324\n",
      "Unk percentage: 0.007042253521126761\n",
      "Unk percentage: 0.0012539184952978057\n",
      "[4.90000000e+00 1.17772926e-01 7.42228500e+06 2.05359000e+05\n",
      " 4.94200000e+03 2.39300000e+03 2.14600000e+03 4.10000000e+01\n",
      " 5.80000000e+01 7.32500000e+03 1.10800000e+03 1.17100000e+03\n",
      " 3.80000000e+01 1.60000000e+01 1.60000000e+01 1.46000000e+02\n",
      " 1.50000000e+01 0.00000000e+00]\n",
      "Unk percentage: 0.0022696323195642307\n",
      "Unk percentage: 0.002053388090349076\n",
      "cluster began\n",
      "cluster end\n"
     ]
    },
    {
     "name": "stderr",
     "output_type": "stream",
     "text": [
      "Computing transition probabilities:  42%|████▏     | 73/174 [00:00<00:00, 726.55it/s]"
     ]
    },
    {
     "name": "stdout",
     "output_type": "stream",
     "text": [
      "Unk percentage: 0.004227642276422764\n"
     ]
    },
    {
     "name": "stderr",
     "output_type": "stream",
     "text": [
      "Computing transition probabilities: 100%|██████████| 174/174 [00:00<00:00, 780.41it/s]\n",
      "Generating walks (CPU: 1):   0%|          | 0/10 [00:00<?, ?it/s]"
     ]
    },
    {
     "name": "stdout",
     "output_type": "stream",
     "text": [
      "cluster began\n",
      "cluster end\n"
     ]
    },
    {
     "name": "stderr",
     "output_type": "stream",
     "text": [
      "Computing transition probabilities: 100%|██████████| 104/104 [00:00<00:00, 1255.78it/s]\n",
      "Generating walks (CPU: 1):  20%|██        | 2/10 [00:00<00:02,  3.40it/s]"
     ]
    },
    {
     "name": "stdout",
     "output_type": "stream",
     "text": [
      "Unk percentage: 0.003885381253035454\n"
     ]
    },
    {
     "name": "stderr",
     "output_type": "stream",
     "text": [
      "\r",
      "Generating walks (CPU: 1):  20%|██        | 2/10 [00:00<00:01,  5.13it/s]"
     ]
    },
    {
     "name": "stdout",
     "output_type": "stream",
     "text": [
      "Unk percentage: 0.0030865929625680452\n"
     ]
    },
    {
     "name": "stderr",
     "output_type": "stream",
     "text": [
      "Generating walks (CPU: 1):  40%|████      | 4/10 [00:01<00:01,  3.71it/s]"
     ]
    },
    {
     "name": "stdout",
     "output_type": "stream",
     "text": [
      "cluster began\n",
      "cluster end\n"
     ]
    },
    {
     "name": "stderr",
     "output_type": "stream",
     "text": [
      "\r",
      "Computing transition probabilities:   0%|          | 0/365 [00:00<?, ?it/s]"
     ]
    },
    {
     "name": "stdout",
     "output_type": "stream",
     "text": [
      "Unk percentage: 0.0035460992907801418\n"
     ]
    },
    {
     "name": "stderr",
     "output_type": "stream",
     "text": [
      "Computing transition probabilities: 100%|██████████| 365/365 [00:00<00:00, 546.27it/s]\n",
      "Generating walks (CPU: 1): 100%|██████████| 10/10 [00:03<00:00,  2.28it/s]"
     ]
    },
    {
     "name": "stdout",
     "output_type": "stream",
     "text": [
      "cluster began\n",
      "cluster end\n"
     ]
    },
    {
     "name": "stderr",
     "output_type": "stream",
     "text": [
      "Computing transition probabilities:  74%|███████▍  | 173/233 [00:00<00:00, 727.82it/s]\n",
      "Computing transition probabilities: 100%|██████████| 233/233 [00:00<00:00, 888.38it/s]\n",
      "Generating walks (CPU: 1):  80%|████████  | 8/10 [00:04<00:01,  1.67it/s]"
     ]
    },
    {
     "name": "stdout",
     "output_type": "stream",
     "text": [
      "[2.54000000e+00 1.27515528e-02 1.64267000e+05 1.20640000e+04\n",
      " 2.54000000e+02 8.00000000e+01 7.90000000e+01 3.00000000e+00\n",
      " 3.00000000e+00 8.10000000e+01 1.00000000e+01 1.00000000e+01\n",
      " 0.00000000e+00 0.00000000e+00 0.00000000e+00 0.00000000e+00\n",
      " 0.00000000e+00 0.00000000e+00]\n",
      "Unk percentage: 0.0016155088852988692\n",
      "Unk percentage: 0.011982570806100218\n"
     ]
    },
    {
     "name": "stderr",
     "output_type": "stream",
     "text": [
      "\r",
      "Generating walks (CPU: 1):  90%|█████████ | 9/10 [00:05<00:00,  1.61it/s]"
     ]
    },
    {
     "name": "stdout",
     "output_type": "stream",
     "text": [
      "Unk percentage: 0.009102730819245773\n"
     ]
    },
    {
     "name": "stderr",
     "output_type": "stream",
     "text": [
      "\r",
      "Generating walks (CPU: 1):  30%|███       | 3/10 [00:03<00:06,  1.02it/s]"
     ]
    },
    {
     "name": "stdout",
     "output_type": "stream",
     "text": [
      "Unk percentage: 0.007866813025978778\n"
     ]
    },
    {
     "name": "stderr",
     "output_type": "stream",
     "text": [
      "\r",
      "Generating walks (CPU: 1):  20%|██        | 2/10 [00:01<00:04,  1.92it/s]"
     ]
    },
    {
     "name": "stdout",
     "output_type": "stream",
     "text": [
      "Unk percentage: 0.001284796573875803\n",
      "Unk percentage: 0.001415762151958471\n",
      "Unk percentage: 0.006316218418907905\n"
     ]
    },
    {
     "name": "stderr",
     "output_type": "stream",
     "text": [
      "\r",
      "Generating walks (CPU: 1): 100%|██████████| 10/10 [00:05<00:00,  1.58it/s]"
     ]
    },
    {
     "name": "stdout",
     "output_type": "stream",
     "text": [
      "Unk percentage: 0.009852216748768473\n"
     ]
    },
    {
     "name": "stderr",
     "output_type": "stream",
     "text": [
      "Generating walks (CPU: 1):  30%|███       | 3/10 [00:01<00:04,  1.60it/s]\n",
      "Generating walks (CPU: 1):  40%|████      | 4/10 [00:02<00:04,  1.38it/s]"
     ]
    },
    {
     "name": "stdout",
     "output_type": "stream",
     "text": [
      "[3.4700000e+00 6.3606539e-02 8.0661600e+05 3.6851000e+04 1.4290000e+03\n",
      " 6.5200000e+02 6.2200000e+02 1.4000000e+01 1.0000000e+01 1.2440000e+03\n",
      " 2.8700000e+02 2.8300000e+02 7.0000000e+00 0.0000000e+00 2.0000000e+00\n",
      " 2.5000000e+01 4.0000000e+00 0.0000000e+00]\n",
      "Unk percentage: 0.006090279436350609\n",
      "cluster began\n",
      "cluster end\n",
      "Unk percentage: 0.0077391524993656435\n"
     ]
    },
    {
     "name": "stderr",
     "output_type": "stream",
     "text": [
      "Computing transition probabilities: 100%|██████████| 198/198 [00:00<00:00, 886.94it/s]\n",
      "Generating walks (CPU: 1):   0%|          | 0/10 [00:00<?, ?it/s]"
     ]
    },
    {
     "name": "stdout",
     "output_type": "stream",
     "text": [
      "Unk percentage: 0.006356544351343542\n"
     ]
    },
    {
     "name": "stderr",
     "output_type": "stream",
     "text": [
      "Generating walks (CPU: 1):  50%|█████     | 5/10 [00:05<00:06,  1.21s/it]"
     ]
    },
    {
     "name": "stdout",
     "output_type": "stream",
     "text": [
      "Unk percentage: 0.0014291547570436914\n",
      "Unk percentage: 0.0016884761502743773\n",
      "Unk percentage: 0.0033326798666928055\n"
     ]
    },
    {
     "name": "stderr",
     "output_type": "stream",
     "text": [
      "\r",
      "Generating walks (CPU: 1):  20%|██        | 2/10 [00:00<00:02,  2.67it/s]"
     ]
    },
    {
     "name": "stdout",
     "output_type": "stream",
     "text": [
      "Unk percentage: 0.0018929150892374256\n"
     ]
    },
    {
     "name": "stderr",
     "output_type": "stream",
     "text": [
      "\r",
      "Generating walks (CPU: 1):  60%|██████    | 6/10 [00:04<00:03,  1.32it/s]"
     ]
    },
    {
     "name": "stdout",
     "output_type": "stream",
     "text": [
      "Unk percentage: 0.0016542597187758478\n",
      "Unk percentage: 0.003951319740793425\n",
      "Unk percentage: 0.005562913907284768\n"
     ]
    },
    {
     "name": "stderr",
     "output_type": "stream",
     "text": [
      "\r",
      "Generating walks (CPU: 1):  30%|███       | 3/10 [00:01<00:03,  2.13it/s]"
     ]
    },
    {
     "name": "stdout",
     "output_type": "stream",
     "text": [
      "Unk percentage: 0.0029411764705882353\n"
     ]
    },
    {
     "name": "stderr",
     "output_type": "stream",
     "text": [
      "Generating walks (CPU: 1):  70%|███████   | 7/10 [00:05<00:02,  1.29it/s]"
     ]
    },
    {
     "name": "stdout",
     "output_type": "stream",
     "text": [
      "Unk percentage: 0.00407134548274525\n",
      "Unk percentage: 0.012377138696760102\n"
     ]
    },
    {
     "name": "stderr",
     "output_type": "stream",
     "text": [
      "\r",
      "Generating walks (CPU: 1):  40%|████      | 4/10 [00:02<00:03,  1.89it/s]"
     ]
    },
    {
     "name": "stdout",
     "output_type": "stream",
     "text": [
      "Unk percentage: 0.0018031013342949874\n",
      "Unk percentage: 0.003003003003003003\n"
     ]
    },
    {
     "name": "stderr",
     "output_type": "stream",
     "text": [
      "Generating walks (CPU: 1):  80%|████████  | 8/10 [00:10<00:02,  1.40s/it]]"
     ]
    },
    {
     "name": "stdout",
     "output_type": "stream",
     "text": [
      "cluster began\n",
      "cluster end\n"
     ]
    },
    {
     "name": "stderr",
     "output_type": "stream",
     "text": [
      "Computing transition probabilities: 100%|██████████| 183/183 [00:00<00:00, 1156.55it/s]\n",
      "Generating walks (CPU: 1):   0%|          | 0/10 [00:00<?, ?it/s]\n",
      "Generating walks (CPU: 1):  30%|███       | 3/10 [00:01<00:03,  2.18it/s]"
     ]
    },
    {
     "name": "stdout",
     "output_type": "stream",
     "text": [
      "[2.56000000e+00 1.02271645e-01 1.97428200e+06 7.40280000e+04\n",
      " 2.20900000e+03 1.05000000e+03 9.15000000e+02 2.00000000e+01\n",
      " 2.90000000e+01 1.32600000e+03 2.25000000e+02 2.44000000e+02\n",
      " 1.50000000e+01 3.00000000e+00 1.00000000e+00 1.30000000e+01\n",
      " 0.00000000e+00 0.00000000e+00]\n",
      "Unk percentage: 0.004524886877828055\n"
     ]
    },
    {
     "name": "stderr",
     "output_type": "stream",
     "text": [
      "Generating walks (CPU: 1):  40%|████      | 4/10 [00:02<00:03,  1.95it/s]]\n",
      "Generating walks (CPU: 1): 100%|██████████| 10/10 [00:13<00:00,  1.50s/it]"
     ]
    },
    {
     "name": "stdout",
     "output_type": "stream",
     "text": [
      "[2.89000000e+00 3.03472492e-02 1.20147900e+06 5.06850000e+04\n",
      " 8.79000000e+02 3.11000000e+02 3.60000000e+02 6.00000000e+00\n",
      " 6.00000000e+00 9.69000000e+02 9.60000000e+01 8.80000000e+01\n",
      " 4.00000000e+00 1.00000000e+00 0.00000000e+00 6.00000000e+00\n",
      " 0.00000000e+00 0.00000000e+00]\n"
     ]
    },
    {
     "name": "stderr",
     "output_type": "stream",
     "text": [
      "\r",
      "Generating walks (CPU: 1):  60%|██████    | 6/10 [00:03<00:02,  1.62it/s]"
     ]
    },
    {
     "name": "stdout",
     "output_type": "stream",
     "text": [
      "Unk percentage: 0.0009832841691248771\n",
      "Unk percentage: 0.007061592781482934\n",
      "cluster began\n",
      "cluster end\n",
      "Unk percentage: 0.006360219716681122\n"
     ]
    },
    {
     "name": "stderr",
     "output_type": "stream",
     "text": [
      "Computing transition probabilities: 100%|██████████| 185/185 [00:00<00:00, 1118.71it/s]\n",
      "Generating walks (CPU: 1):  70%|███████   | 7/10 [00:04<00:01,  1.61it/s]"
     ]
    },
    {
     "name": "stdout",
     "output_type": "stream",
     "text": [
      "Unk percentage: 0.0019723865877712033\n"
     ]
    },
    {
     "name": "stderr",
     "output_type": "stream",
     "text": [
      "\n",
      "Generating walks (CPU: 1):  40%|████      | 4/10 [00:02<00:03,  1.94it/s]]"
     ]
    },
    {
     "name": "stdout",
     "output_type": "stream",
     "text": [
      "cluster began\n",
      "cluster end\n"
     ]
    },
    {
     "name": "stderr",
     "output_type": "stream",
     "text": [
      "Computing transition probabilities:   0%|          | 0/257 [00:00<?, ?it/s]\n",
      "Generating walks (CPU: 1):  50%|█████     | 5/10 [00:02<00:02,  1.79it/s]"
     ]
    },
    {
     "name": "stdout",
     "output_type": "stream",
     "text": [
      "[4.63000000e+00 1.08712767e-01 7.74541800e+06 2.04950000e+05\n",
      " 4.74400000e+03 1.85000000e+03 2.79400000e+03 3.50000000e+01\n",
      " 5.70000000e+01 9.38000000e+03 1.43400000e+03 1.06100000e+03\n",
      " 3.20000000e+01 8.00000000e+00 1.10000000e+01 1.75000000e+02\n",
      " 1.30000000e+01 2.00000000e+00]"
     ]
    },
    {
     "name": "stderr",
     "output_type": "stream",
     "text": [
      "\r",
      "Computing transition probabilities:  32%|███▏      | 82/257 [00:00<00:00, 807.31it/s]"
     ]
    },
    {
     "name": "stdout",
     "output_type": "stream",
     "text": [
      "\n",
      "Unk percentage: 0.0019342359767891683\n"
     ]
    },
    {
     "name": "stderr",
     "output_type": "stream",
     "text": [
      "\r",
      "Computing transition probabilities:  68%|██████▊   | 176/257 [00:00<00:00, 841.08it/s]"
     ]
    },
    {
     "name": "stdout",
     "output_type": "stream",
     "text": [
      "Unk percentage: 0.008267568583239383\n"
     ]
    },
    {
     "name": "stderr",
     "output_type": "stream",
     "text": [
      "Computing transition probabilities: 100%|██████████| 257/257 [00:00<00:00, 892.60it/s]\n",
      "Generating walks (CPU: 1):   0%|          | 0/10 [00:00<?, ?it/s]"
     ]
    },
    {
     "name": "stdout",
     "output_type": "stream",
     "text": [
      "Unk percentage: 0.005190311418685121\n",
      "Unk percentage: 0.0013764624913971094\n"
     ]
    },
    {
     "name": "stderr",
     "output_type": "stream",
     "text": [
      "\r",
      "Generating walks (CPU: 1):  60%|██████    | 6/10 [00:03<00:02,  1.69it/s]"
     ]
    },
    {
     "name": "stdout",
     "output_type": "stream",
     "text": [
      "Unk percentage: 0.0012277470841006752\n",
      "Unk percentage: 0.0022624434389140274\n",
      "[3.87000000e+00 5.22724917e-02 9.36129000e+05 4.86350000e+04\n",
      " 1.22700000e+03 5.09000000e+02 4.71000000e+02 1.80000000e+01\n",
      " 2.60000000e+01 9.65000000e+02 1.34000000e+02 1.17000000e+02\n",
      " 6.00000000e+00 3.00000000e+00 5.00000000e+00 1.50000000e+01\n",
      " 0.00000000e+00 0.00000000e+00]\n",
      "Unk percentage: 0.005149330587023687\n"
     ]
    },
    {
     "name": "stderr",
     "output_type": "stream",
     "text": [
      "Generating walks (CPU: 1): 100%|██████████| 10/10 [00:05<00:00,  1.58it/s]"
     ]
    },
    {
     "name": "stdout",
     "output_type": "stream",
     "text": [
      "cluster began\n",
      "cluster end\n",
      "cluster began\n",
      "cluster end\n"
     ]
    },
    {
     "name": "stderr",
     "output_type": "stream",
     "text": [
      "Computing transition probabilities:  81%|████████  | 186/231 [00:00<00:00, 912.09it/s]\n",
      "Computing transition probabilities: 100%|██████████| 231/231 [00:00<00:00, 901.33it/s]\n",
      "Computing transition probabilities: 100%|██████████| 295/295 [00:00<00:00, 563.98it/s]\n",
      "Generating walks (CPU: 1):  20%|██        | 2/10 [00:00<00:03,  2.11it/s]"
     ]
    },
    {
     "name": "stdout",
     "output_type": "stream",
     "text": [
      "[3.17000000e+00 5.40668964e-02 9.72059000e+05 4.60190000e+04\n",
      " 1.30000000e+03 5.26000000e+02 5.53000000e+02 1.20000000e+01\n",
      " 1.50000000e+01 6.08000000e+02 1.36000000e+02 1.44000000e+02\n",
      " 1.00000000e+00 1.00000000e+00 0.00000000e+00 1.00000000e+01\n",
      " 0.00000000e+00 0.00000000e+00]\n",
      "Unk percentage: 0.004090740052063964\n",
      "Unk percentage: 0.006696428571428571\n"
     ]
    },
    {
     "name": "stderr",
     "output_type": "stream",
     "text": [
      "Generating walks (CPU: 1):  80%|████████  | 8/10 [00:07<00:02,  1.02s/it]"
     ]
    },
    {
     "name": "stdout",
     "output_type": "stream",
     "text": [
      "cluster began\n",
      "cluster end\n"
     ]
    },
    {
     "name": "stderr",
     "output_type": "stream",
     "text": [
      "Computing transition probabilities: 100%|██████████| 143/143 [00:00<00:00, 1466.44it/s]\n",
      "Generating walks (CPU: 1):  60%|██████    | 6/10 [00:02<00:01,  2.63it/s]]\n",
      "Generating walks (CPU: 1):  80%|████████  | 8/10 [00:03<00:00,  2.27it/s]"
     ]
    },
    {
     "name": "stdout",
     "output_type": "stream",
     "text": [
      "[3.15000000e+00 8.56418089e-02 2.66250400e+06 9.37550000e+04\n",
      " 1.85100000e+03 7.68000000e+02 8.48000000e+02 1.60000000e+01\n",
      " 2.60000000e+01 2.92800000e+03 4.02000000e+02 3.45000000e+02\n",
      " 1.20000000e+01 5.00000000e+00 2.00000000e+00 5.80000000e+01\n",
      " 0.00000000e+00 0.00000000e+00]\n"
     ]
    },
    {
     "name": "stderr",
     "output_type": "stream",
     "text": [
      "\r",
      "Generating walks (CPU: 1):  90%|█████████ | 9/10 [00:03<00:00,  2.05it/s]"
     ]
    },
    {
     "name": "stdout",
     "output_type": "stream",
     "text": [
      "Unk percentage: 0.005590900327742433\n"
     ]
    },
    {
     "name": "stderr",
     "output_type": "stream",
     "text": [
      "\r",
      "Generating walks (CPU: 1): 100%|██████████| 10/10 [00:07<00:00,  1.24it/s]"
     ]
    },
    {
     "name": "stdout",
     "output_type": "stream",
     "text": [
      "Unk percentage: 0.002344207853096308\n",
      "Unk percentage: 0.001630561378989052\n"
     ]
    },
    {
     "name": "stderr",
     "output_type": "stream",
     "text": [
      "\r",
      "Generating walks (CPU: 1):  80%|████████  | 8/10 [00:07<00:02,  1.04s/it]"
     ]
    },
    {
     "name": "stdout",
     "output_type": "stream",
     "text": [
      "Unk percentage: 0.00550812448361333\n"
     ]
    },
    {
     "name": "stderr",
     "output_type": "stream",
     "text": [
      "\r",
      "Generating walks (CPU: 1): 100%|██████████| 10/10 [00:04<00:00,  1.95it/s]"
     ]
    },
    {
     "name": "stdout",
     "output_type": "stream",
     "text": [
      "Unk percentage: 0.009052631578947368\n",
      "Unk percentage: 0.0013536379018612521\n",
      "Unk percentage: 0.0025929127052722557\n"
     ]
    },
    {
     "name": "stderr",
     "output_type": "stream",
     "text": [
      "\n",
      "\n",
      "Generating walks (CPU: 1):  90%|█████████ | 9/10 [00:08<00:01,  1.07s/it]"
     ]
    },
    {
     "name": "stdout",
     "output_type": "stream",
     "text": [
      "[3.27000000e+00 5.50610621e-02 4.38733000e+05 2.59000000e+04\n",
      " 7.08000000e+02 2.99000000e+02 2.78000000e+02 1.20000000e+01\n",
      " 1.10000000e+01 9.17000000e+02 1.43000000e+02 1.58000000e+02\n",
      " 0.00000000e+00 0.00000000e+00 0.00000000e+00 2.10000000e+01\n",
      " 0.00000000e+00 0.00000000e+00]\n",
      "Unk percentage: 0.002549087151222873\n",
      "Unk percentage: 0.003051881993896236\n",
      "[3.30000000e+00 1.09969301e-01 1.91755500e+06 7.18990000e+04\n",
      " 2.53700000e+03 1.13500000e+03 1.15900000e+03 2.10000000e+01\n",
      " 3.90000000e+01 4.11800000e+03 1.26800000e+03 1.29100000e+03\n",
      " 1.80000000e+01 7.00000000e+00 4.00000000e+00 4.07000000e+02\n",
      " 2.00000000e+00 0.00000000e+00]\n",
      "Unk percentage: 0.024553571428571428\n",
      "Unk percentage: 0.004201680672268907\n"
     ]
    },
    {
     "name": "stderr",
     "output_type": "stream",
     "text": [
      "Generating walks (CPU: 1): 100%|██████████| 10/10 [00:10<00:00,  1.13s/it]\n"
     ]
    },
    {
     "name": "stdout",
     "output_type": "stream",
     "text": [
      "cluster began\n",
      "cluster end\n"
     ]
    },
    {
     "name": "stderr",
     "output_type": "stream",
     "text": [
      "Computing transition probabilities: 100%|██████████| 302/302 [00:00<00:00, 662.13it/s]\n",
      "Generating walks (CPU: 1):   0%|          | 0/10 [00:00<?, ?it/s]"
     ]
    },
    {
     "name": "stdout",
     "output_type": "stream",
     "text": [
      "cluster began\n",
      "cluster end\n"
     ]
    },
    {
     "name": "stderr",
     "output_type": "stream",
     "text": [
      "Computing transition probabilities: 100%|██████████| 257/257 [00:00<00:00, 883.93it/s]\n",
      "Generating walks (CPU: 1):   0%|          | 0/10 [00:00<?, ?it/s]"
     ]
    },
    {
     "name": "stdout",
     "output_type": "stream",
     "text": [
      "[4.00000000e+00 8.38289707e-02 4.04165600e+06 1.38222000e+05\n",
      " 3.56600000e+03 1.47700000e+03 1.79000000e+03 3.00000000e+01\n",
      " 4.80000000e+01 3.94900000e+03 7.51000000e+02 6.18000000e+02\n",
      " 2.10000000e+01 9.00000000e+00 1.50000000e+01 8.00000000e+01\n",
      " 1.10000000e+01 1.00000000e+00]\n",
      "Unk percentage: 0.00135464643727987\n"
     ]
    },
    {
     "name": "stderr",
     "output_type": "stream",
     "text": [
      "\r",
      "Generating walks (CPU: 1):  20%|██        | 2/10 [00:01<00:05,  1.38it/s]"
     ]
    },
    {
     "name": "stdout",
     "output_type": "stream",
     "text": [
      "cluster began\n",
      "cluster end\n"
     ]
    },
    {
     "name": "stderr",
     "output_type": "stream",
     "text": [
      "Computing transition probabilities:  31%|███       | 94/308 [00:00<00:00, 469.56it/s]"
     ]
    },
    {
     "name": "stdout",
     "output_type": "stream",
     "text": [
      "Unk percentage: 0.001977587343441002\n"
     ]
    },
    {
     "name": "stderr",
     "output_type": "stream",
     "text": [
      "Computing transition probabilities:  92%|█████████▏| 283/308 [00:00<00:00, 465.26it/s]"
     ]
    },
    {
     "name": "stdout",
     "output_type": "stream",
     "text": [
      "Unk percentage: 0.0037712771379064315\n"
     ]
    },
    {
     "name": "stderr",
     "output_type": "stream",
     "text": [
      "Computing transition probabilities: 100%|██████████| 308/308 [00:00<00:00, 461.97it/s]\n",
      "Generating walks (CPU: 1):  30%|███       | 3/10 [00:02<00:06,  1.09it/s]"
     ]
    },
    {
     "name": "stdout",
     "output_type": "stream",
     "text": [
      "Unk percentage: 0.0010479983232026828\n"
     ]
    },
    {
     "name": "stderr",
     "output_type": "stream",
     "text": [
      "\r",
      "Generating walks (CPU: 1):  30%|███       | 3/10 [00:02<00:04,  1.46it/s]"
     ]
    },
    {
     "name": "stdout",
     "output_type": "stream",
     "text": [
      "Unk percentage: 0.0009637006103437199\n",
      "Unk percentage: 0.0027220142905750254\n"
     ]
    },
    {
     "name": "stderr",
     "output_type": "stream",
     "text": [
      "\r",
      "Generating walks (CPU: 1):  20%|██        | 2/10 [00:01<00:04,  1.63it/s]"
     ]
    },
    {
     "name": "stdout",
     "output_type": "stream",
     "text": [
      "Unk percentage: 0.0022471910112359553\n"
     ]
    },
    {
     "name": "stderr",
     "output_type": "stream",
     "text": [
      "Generating walks (CPU: 1):  60%|██████    | 6/10 [00:05<00:03,  1.00it/s]"
     ]
    },
    {
     "name": "stdout",
     "output_type": "stream",
     "text": [
      "cluster began\n",
      "cluster end\n"
     ]
    },
    {
     "name": "stderr",
     "output_type": "stream",
     "text": [
      "Computing transition probabilities: 100%|██████████| 249/249 [00:00<00:00, 1103.63it/s]\n",
      "Generating walks (CPU: 1):  50%|█████     | 5/10 [00:03<00:03,  1.52it/s]]\n",
      "Generating walks (CPU: 1):  90%|█████████ | 9/10 [00:08<00:01,  1.04s/it]\n"
     ]
    },
    {
     "name": "stdout",
     "output_type": "stream",
     "text": [
      "[3.39000000e+00 9.23592915e-02 2.66504500e+06 9.14600000e+04\n",
      " 2.24700000e+03 9.33000000e+02 1.04900000e+03 1.50000000e+01\n",
      " 2.30000000e+01 1.91100000e+03 4.06000000e+02 3.71000000e+02\n",
      " 7.00000000e+00 2.00000000e+00 5.00000000e+00 4.50000000e+01\n",
      " 1.00000000e+00 0.00000000e+00]\n"
     ]
    },
    {
     "name": "stderr",
     "output_type": "stream",
     "text": [
      "\r",
      "Generating walks (CPU: 1):  70%|███████   | 7/10 [00:05<00:02,  1.19it/s]"
     ]
    },
    {
     "name": "stdout",
     "output_type": "stream",
     "text": [
      "Unk percentage: 0.0017332387930355314\n"
     ]
    },
    {
     "name": "stderr",
     "output_type": "stream",
     "text": [
      "\r",
      "Generating walks (CPU: 1): 100%|██████████| 10/10 [00:10<00:00,  1.15s/it]"
     ]
    },
    {
     "name": "stdout",
     "output_type": "stream",
     "text": [
      "Unk percentage: 0.0036413659168150186\n",
      "Unk percentage: 0.004499799116110888\n"
     ]
    },
    {
     "name": "stderr",
     "output_type": "stream",
     "text": [
      "\r",
      "Generating walks (CPU: 1):  80%|████████  | 8/10 [00:06<00:01,  1.10it/s]"
     ]
    },
    {
     "name": "stdout",
     "output_type": "stream",
     "text": [
      "[3.05000000e+00 9.91337274e-02 4.35346800e+06 1.34927000e+05\n",
      " 2.71100000e+03 1.11600000e+03 1.46700000e+03 2.70000000e+01\n",
      " 2.40000000e+01 5.04000000e+03 6.37000000e+02 4.28000000e+02\n",
      " 1.80000000e+01 4.00000000e+00 1.50000000e+01 6.50000000e+01\n",
      " 2.00000000e+00 1.00000000e+00]\n",
      "Unk percentage: 0.0061777600637704265\n",
      "Unk percentage: 0.006872852233676976\n"
     ]
    },
    {
     "name": "stderr",
     "output_type": "stream",
     "text": [
      "\n"
     ]
    },
    {
     "name": "stdout",
     "output_type": "stream",
     "text": [
      "Unk percentage: 0.004098360655737705\n",
      "Unk percentage: 0.005361930294906166\n"
     ]
    },
    {
     "name": "stderr",
     "output_type": "stream",
     "text": [
      "Generating walks (CPU: 1): 100%|██████████| 10/10 [00:08<00:00,  1.06it/s]"
     ]
    },
    {
     "name": "stdout",
     "output_type": "stream",
     "text": [
      "[3.72000000e+00 8.08252309e-02 4.61531400e+06 1.46634000e+05\n",
      " 3.42500000e+03 1.42400000e+03 1.59400000e+03 2.20000000e+01\n",
      " 2.60000000e+01 5.53600000e+03 6.82000000e+02 6.29000000e+02\n",
      " 2.10000000e+01 3.00000000e+00 6.00000000e+00 6.40000000e+01\n",
      " 5.00000000e+00 0.00000000e+00]\n",
      "Unk percentage: 0.004726456339359565\n"
     ]
    },
    {
     "name": "stderr",
     "output_type": "stream",
     "text": [
      "\n"
     ]
    },
    {
     "name": "stdout",
     "output_type": "stream",
     "text": [
      "Unk percentage: 0.0032076984763432237\n",
      "cluster began\n",
      "cluster end\n"
     ]
    },
    {
     "name": "stderr",
     "output_type": "stream",
     "text": [
      "\r",
      "Computing transition probabilities:   0%|          | 0/133 [00:00<?, ?it/s]"
     ]
    },
    {
     "name": "stdout",
     "output_type": "stream",
     "text": [
      "cluster began\n",
      "cluster end\n"
     ]
    },
    {
     "name": "stderr",
     "output_type": "stream",
     "text": [
      "Computing transition probabilities: 100%|██████████| 133/133 [00:00<00:00, 930.27it/s]\n",
      "Computing transition probabilities: 100%|██████████| 189/189 [00:00<00:00, 1145.23it/s]\n",
      "Generating walks (CPU: 1):  20%|██        | 2/10 [00:00<00:01,  4.44it/s]"
     ]
    },
    {
     "name": "stdout",
     "output_type": "stream",
     "text": [
      "[3.71000000e+00 7.29622724e-02 2.41707100e+06 8.84450000e+04\n",
      " 2.00600000e+03 8.19000000e+02 9.13000000e+02 1.70000000e+01\n",
      " 2.60000000e+01 1.80600000e+03 1.92000000e+02 1.82000000e+02\n",
      " 2.00000000e+00 1.00000000e+00 1.00000000e+00 1.50000000e+01\n",
      " 0.00000000e+00 0.00000000e+00]\n",
      "Unk percentage: 0.0021344717182497333\n",
      "Unk percentage: 0.001813647698934482\n"
     ]
    },
    {
     "name": "stderr",
     "output_type": "stream",
     "text": [
      "Generating walks (CPU: 1):  30%|███       | 3/10 [00:00<00:01,  3.55it/s]"
     ]
    },
    {
     "name": "stdout",
     "output_type": "stream",
     "text": [
      "Unk percentage: 0.0015625\n",
      "Unk percentage: 0.0011409013120365088\n",
      "Unk percentage: 0.002277904328018223\n"
     ]
    },
    {
     "name": "stderr",
     "output_type": "stream",
     "text": [
      "Generating walks (CPU: 1):  60%|██████    | 6/10 [00:03<00:02,  1.83it/s]"
     ]
    },
    {
     "name": "stdout",
     "output_type": "stream",
     "text": [
      "cluster began\n",
      "cluster end\n"
     ]
    },
    {
     "name": "stderr",
     "output_type": "stream",
     "text": [
      "Computing transition probabilities: 100%|██████████| 353/353 [00:00<00:00, 560.02it/s]\n",
      "Generating walks (CPU: 1):   0%|          | 0/10 [00:00<?, ?it/s]\n",
      "Generating walks (CPU: 1):  80%|████████  | 8/10 [00:04<00:01,  1.55it/s]"
     ]
    },
    {
     "name": "stdout",
     "output_type": "stream",
     "text": [
      "cluster began\n",
      "cluster end\n"
     ]
    },
    {
     "name": "stderr",
     "output_type": "stream",
     "text": [
      "\r",
      "Computing transition probabilities:   0%|          | 0/239 [00:00<?, ?it/s]"
     ]
    },
    {
     "name": "stdout",
     "output_type": "stream",
     "text": [
      "[2.73000000e+00 3.40287198e-02 3.53304000e+05 1.98060000e+04\n",
      " 4.41000000e+02 1.67000000e+02 1.58000000e+02 6.00000000e+00\n",
      " 5.00000000e+00 6.88000000e+02 3.50000000e+01 4.20000000e+01\n",
      " 1.00000000e+00 0.00000000e+00 0.00000000e+00 7.00000000e+00\n",
      " 0.00000000e+00 0.00000000e+00]\n",
      "Unk percentage: 0.0049261083743842365\n"
     ]
    },
    {
     "name": "stderr",
     "output_type": "stream",
     "text": [
      "Computing transition probabilities: 100%|██████████| 239/239 [00:00<00:00, 909.38it/s] \n",
      "Generating walks (CPU: 1): 100%|██████████| 10/10 [00:06<00:00,  1.47it/s]\n",
      "Generating walks (CPU: 1):  30%|███       | 3/10 [00:02<00:05,  1.17it/s]"
     ]
    },
    {
     "name": "stdout",
     "output_type": "stream",
     "text": [
      "[3.48000000e+00 5.98866658e-02 1.03977200e+06 4.56020000e+04\n",
      " 1.14200000e+03 4.60000000e+02 4.75000000e+02 1.20000000e+01\n",
      " 6.00000000e+00 1.73500000e+03 2.83000000e+02 2.87000000e+02\n",
      " 1.00000000e+01 2.00000000e+00 0.00000000e+00 4.70000000e+01\n",
      " 2.00000000e+00 1.00000000e+00]\n",
      "Unk percentage: 0.0027772063361448263\n"
     ]
    },
    {
     "name": "stderr",
     "output_type": "stream",
     "text": [
      "\r",
      "Generating walks (CPU: 1):  40%|████      | 4/10 [00:02<00:04,  1.43it/s]"
     ]
    },
    {
     "name": "stdout",
     "output_type": "stream",
     "text": [
      "Unk percentage: 0.003592814371257485\n"
     ]
    },
    {
     "name": "stderr",
     "output_type": "stream",
     "text": [
      "\r",
      "Generating walks (CPU: 1):  40%|████      | 4/10 [00:04<00:06,  1.04s/it]"
     ]
    },
    {
     "name": "stdout",
     "output_type": "stream",
     "text": [
      "Unk percentage: 0.0021987686895338612\n",
      "Unk percentage: 0.001834862385321101\n",
      "cluster began\n",
      "cluster end\n"
     ]
    },
    {
     "name": "stderr",
     "output_type": "stream",
     "text": [
      "Computing transition probabilities: 100%|██████████| 180/180 [00:00<00:00, 753.54it/s]\n",
      "Generating walks (CPU: 1):  60%|██████    | 6/10 [00:03<00:02,  1.73it/s]"
     ]
    },
    {
     "name": "stdout",
     "output_type": "stream",
     "text": [
      "cluster began\n",
      "cluster end\n"
     ]
    },
    {
     "name": "stderr",
     "output_type": "stream",
     "text": [
      "Computing transition probabilities: 100%|██████████| 266/266 [00:00<00:00, 518.32it/s]\n",
      "Generating walks (CPU: 1):  20%|██        | 2/10 [00:01<00:05,  1.57it/s]]\n",
      "Generating walks (CPU: 1): 100%|██████████| 10/10 [00:05<00:00,  1.62it/s]\n",
      "Generating walks (CPU: 1):  90%|█████████ | 9/10 [00:11<00:01,  1.45s/it]"
     ]
    },
    {
     "name": "stdout",
     "output_type": "stream",
     "text": [
      "[3.84000000e+00 6.21037968e-02 2.13290400e+06 7.89940000e+04\n",
      " 1.81500000e+03 8.08000000e+02 7.79000000e+02 2.30000000e+01\n",
      " 3.70000000e+01 2.62700000e+03 3.06000000e+02 3.03000000e+02\n",
      " 7.00000000e+00 3.00000000e+00 2.00000000e+00 2.70000000e+01\n",
      " 1.00000000e+00 0.00000000e+00]\n",
      "Unk percentage: 0.0014204545454545455\n",
      "Unk percentage: 0.0019695613249776185\n",
      "[3.6800000e+00 7.4528638e-02 8.8257100e+05 5.2427000e+04 1.3090000e+03\n",
      " 5.5200000e+02 5.5100000e+02 1.9000000e+01 3.9000000e+01 2.0240000e+03\n",
      " 1.9600000e+02 1.9700000e+02 1.5000000e+01 6.0000000e+00 7.0000000e+00\n",
      " 1.0000000e+01 5.0000000e+00 1.0000000e+00]\n",
      "Unk percentage: 0.004098360655737705\n"
     ]
    },
    {
     "name": "stderr",
     "output_type": "stream",
     "text": [
      "\r",
      "Generating walks (CPU: 1):  40%|████      | 4/10 [00:03<00:05,  1.15it/s]"
     ]
    },
    {
     "name": "stdout",
     "output_type": "stream",
     "text": [
      "Unk percentage: 0.002208155454143972\n",
      "Unk percentage: 0.0021253985122210413\n"
     ]
    },
    {
     "name": "stderr",
     "output_type": "stream",
     "text": [
      "\r",
      "Generating walks (CPU: 1): 100%|██████████| 10/10 [00:12<00:00,  1.43s/it]"
     ]
    },
    {
     "name": "stdout",
     "output_type": "stream",
     "text": [
      "Unk percentage: 0.002040122407344441\n"
     ]
    },
    {
     "name": "stderr",
     "output_type": "stream",
     "text": [
      "\r",
      "Generating walks (CPU: 1):  50%|█████     | 5/10 [00:04<00:04,  1.15it/s]"
     ]
    },
    {
     "name": "stdout",
     "output_type": "stream",
     "text": [
      "Unk percentage: 0.0023023791250959325\n"
     ]
    },
    {
     "name": "stderr",
     "output_type": "stream",
     "text": [
      "Generating walks (CPU: 1):  60%|██████    | 6/10 [00:05<00:03,  1.12it/s]\n",
      "Generating walks (CPU: 1):  70%|███████   | 7/10 [00:06<00:02,  1.07it/s]"
     ]
    },
    {
     "name": "stdout",
     "output_type": "stream",
     "text": [
      "cluster began\n",
      "cluster end\n"
     ]
    },
    {
     "name": "stderr",
     "output_type": "stream",
     "text": [
      "Computing transition probabilities: 100%|██████████| 94/94 [00:00<00:00, 1695.34it/s]\n",
      "Generating walks (CPU: 1):  40%|████      | 4/10 [00:01<00:01,  3.90it/s]"
     ]
    },
    {
     "name": "stdout",
     "output_type": "stream",
     "text": [
      "[2.87000000e+00 1.10924954e-01 7.01217200e+06 1.81396000e+05\n",
      " 3.56300000e+03 1.48600000e+03 1.61100000e+03 1.90000000e+01\n",
      " 3.50000000e+01 5.41100000e+03 7.13000000e+02 6.74000000e+02\n",
      " 2.40000000e+01 7.00000000e+00 8.00000000e+00 7.30000000e+01\n",
      " 7.00000000e+00 1.00000000e+00]\n",
      "Unk percentage: 0.006644518272425249\n"
     ]
    },
    {
     "name": "stderr",
     "output_type": "stream",
     "text": [
      "Generating walks (CPU: 1):  70%|███████   | 7/10 [00:01<00:00,  3.57it/s]"
     ]
    },
    {
     "name": "stdout",
     "output_type": "stream",
     "text": [
      "cluster began\n",
      "cluster end\n"
     ]
    },
    {
     "name": "stderr",
     "output_type": "stream",
     "text": [
      "Computing transition probabilities: 100%|██████████| 342/342 [00:00<00:00, 738.18it/s]\n",
      "Generating walks (CPU: 1): 100%|██████████| 10/10 [00:02<00:00,  3.57it/s]\n",
      "\n"
     ]
    },
    {
     "name": "stdout",
     "output_type": "stream",
     "text": [
      "[3.01075269e+00 3.87972350e-02 1.17990000e+05 1.08950000e+04\n",
      " 3.44000000e+02 1.35000000e+02 1.21000000e+02 8.00000000e+00\n",
      " 3.00000000e+00 2.01000000e+02 3.30000000e+01 3.30000000e+01\n",
      " 0.00000000e+00 0.00000000e+00 0.00000000e+00 3.00000000e+00\n",
      " 0.00000000e+00 0.00000000e+00]\n",
      "Unk percentage: 0.006884343036978757\n",
      "Unk percentage: 0.004667444574095682\n"
     ]
    },
    {
     "name": "stderr",
     "output_type": "stream",
     "text": [
      "\r",
      "Generating walks (CPU: 1):  20%|██        | 2/10 [00:01<00:05,  1.42it/s]"
     ]
    },
    {
     "name": "stdout",
     "output_type": "stream",
     "text": [
      "cluster began\n",
      "cluster end\n"
     ]
    },
    {
     "name": "stderr",
     "output_type": "stream",
     "text": [
      "Computing transition probabilities: 100%|██████████| 86/86 [00:00<00:00, 1713.50it/s]\n",
      "Generating walks (CPU: 1):  20%|██        | 2/10 [00:00<00:01,  6.93it/s]"
     ]
    },
    {
     "name": "stdout",
     "output_type": "stream",
     "text": [
      "[2.76000000e+00 6.82934103e-02 2.95310000e+06 1.05339000e+05\n",
      " 2.86400000e+03 1.34400000e+03 1.22900000e+03 2.90000000e+01\n",
      " 5.80000000e+01 2.05400000e+03 2.60000000e+02 2.79000000e+02\n",
      " 9.00000000e+00 1.00000000e+00 1.00000000e+00 1.30000000e+01\n",
      " 0.00000000e+00 0.00000000e+00]\n",
      "Unk percentage: 0.009230769230769232\n"
     ]
    },
    {
     "name": "stderr",
     "output_type": "stream",
     "text": [
      "Generating walks (CPU: 1): 100%|██████████| 10/10 [00:02<00:00,  3.69it/s]\n"
     ]
    },
    {
     "name": "stdout",
     "output_type": "stream",
     "text": [
      "cluster began\n",
      "cluster end\n"
     ]
    },
    {
     "name": "stderr",
     "output_type": "stream",
     "text": [
      "Generating walks (CPU: 1):  50%|█████     | 5/10 [00:05<00:05,  1.11s/it] 582.83it/s]"
     ]
    },
    {
     "name": "stdout",
     "output_type": "stream",
     "text": [
      "[3.29411765e+00 6.17662162e-02 8.84000000e+04 9.32000000e+03\n",
      " 3.59000000e+02 1.27000000e+02 1.37000000e+02 9.00000000e+00\n",
      " 7.00000000e+00 3.17000000e+02 4.60000000e+01 4.10000000e+01\n",
      " 2.00000000e+00 1.00000000e+00 0.00000000e+00 4.00000000e+00\n",
      " 0.00000000e+00 0.00000000e+00]\n",
      "Unk percentage: 0.009523809523809525\n"
     ]
    },
    {
     "name": "stderr",
     "output_type": "stream",
     "text": [
      "Computing transition probabilities: 100%|██████████| 271/271 [00:00<00:00, 569.91it/s]\n",
      "Generating walks (CPU: 1):   0%|          | 0/10 [00:00<?, ?it/s]"
     ]
    },
    {
     "name": "stdout",
     "output_type": "stream",
     "text": [
      "cluster began\n",
      "cluster end\n"
     ]
    },
    {
     "name": "stderr",
     "output_type": "stream",
     "text": [
      "Computing transition probabilities: 100%|██████████| 108/108 [00:00<00:00, 1730.31it/s]\n",
      "Generating walks (CPU: 1):  90%|█████████ | 9/10 [00:02<00:00,  2.94it/s]"
     ]
    },
    {
     "name": "stdout",
     "output_type": "stream",
     "text": [
      "cluster began\n",
      "cluster end\n"
     ]
    },
    {
     "name": "stderr",
     "output_type": "stream",
     "text": [
      "Computing transition probabilities: 100%|██████████| 67/67 [00:00<00:00, 1741.79it/s]\n",
      "Generating walks (CPU: 1):  50%|█████     | 5/10 [00:03<00:04,  1.24it/s]]\n",
      "Generating walks (CPU: 1):  50%|█████     | 5/10 [00:00<00:00,  5.65it/s]"
     ]
    },
    {
     "name": "stdout",
     "output_type": "stream",
     "text": [
      "[3.07000000e+00 7.51525287e-02 1.83555000e+05 1.33380000e+04\n",
      " 5.31000000e+02 1.99000000e+02 2.34000000e+02 7.00000000e+00\n",
      " 6.00000000e+00 3.67000000e+02 1.21000000e+02 1.10000000e+02\n",
      " 2.00000000e+00 0.00000000e+00 0.00000000e+00 1.50000000e+01\n",
      " 0.00000000e+00 0.00000000e+00]\n",
      "Unk percentage: 0.0036510376633358955\n"
     ]
    },
    {
     "name": "stderr",
     "output_type": "stream",
     "text": [
      "\r",
      "Generating walks (CPU: 1):  60%|██████    | 6/10 [00:01<00:00,  4.94it/s]"
     ]
    },
    {
     "name": "stdout",
     "output_type": "stream",
     "text": [
      "Unk percentage: 0.002793296089385475\n"
     ]
    },
    {
     "name": "stderr",
     "output_type": "stream",
     "text": [
      "Generating walks (CPU: 1):  90%|█████████ | 9/10 [00:01<00:00,  4.68it/s]"
     ]
    },
    {
     "name": "stdout",
     "output_type": "stream",
     "text": [
      "Unk percentage: 0.001534526854219949\n"
     ]
    },
    {
     "name": "stderr",
     "output_type": "stream",
     "text": [
      "Generating walks (CPU: 1): 100%|██████████| 10/10 [00:02<00:00,  4.83it/s]\n"
     ]
    },
    {
     "name": "stdout",
     "output_type": "stream",
     "text": [
      "[3.06060606e+00 6.58638203e-02 4.02730000e+04 4.72900000e+03\n",
      " 1.95000000e+02 6.70000000e+01 6.00000000e+01 2.00000000e+00\n",
      " 1.00000000e+00 2.98000000e+02 5.60000000e+01 6.20000000e+01\n",
      " 2.00000000e+00 0.00000000e+00 0.00000000e+00 1.50000000e+01\n",
      " 0.00000000e+00 0.00000000e+00]\n",
      "Unk percentage: 0.0053475935828877\n"
     ]
    },
    {
     "name": "stderr",
     "output_type": "stream",
     "text": [
      "Generating walks (CPU: 1):  90%|█████████ | 9/10 [00:07<00:00,  1.12it/s]]\n",
      "Generating walks (CPU: 1): 100%|██████████| 10/10 [00:08<00:00,  1.04it/s]\n"
     ]
    },
    {
     "name": "stdout",
     "output_type": "stream",
     "text": [
      "cluster began\n",
      "cluster end\n"
     ]
    },
    {
     "name": "stderr",
     "output_type": "stream",
     "text": [
      "Computing transition probabilities: 100%|██████████| 175/175 [00:00<00:00, 1219.10it/s]\n",
      "Generating walks (CPU: 1):   0%|          | 0/10 [00:00<?, ?it/s]"
     ]
    },
    {
     "name": "stdout",
     "output_type": "stream",
     "text": [
      "[3.75000000e+00 8.40866977e-02 6.36318900e+06 1.73079000e+05\n",
      " 3.65200000e+03 1.49000000e+03 2.03100000e+03 5.20000000e+01\n",
      " 6.70000000e+01 5.61900000e+03 7.42000000e+02 6.06000000e+02\n",
      " 8.00000000e+00 2.00000000e+00 4.00000000e+00 6.50000000e+01\n",
      " 4.00000000e+00 0.00000000e+00]\n",
      "Unk percentage: 0.0010554089709762533\n",
      "cluster began\n",
      "cluster end\n",
      "Unk percentage: 0.0011111111111111111\n"
     ]
    },
    {
     "name": "stderr",
     "output_type": "stream",
     "text": [
      "\r",
      "Computing transition probabilities:   0%|          | 0/389 [00:00<?, ?it/s]"
     ]
    },
    {
     "name": "stdout",
     "output_type": "stream",
     "text": [
      "Unk percentage: 0.0032858707557502738\n"
     ]
    },
    {
     "name": "stderr",
     "output_type": "stream",
     "text": [
      "\r",
      "Computing transition probabilities:  15%|█▍        | 57/389 [00:00<00:00, 566.93it/s]"
     ]
    },
    {
     "name": "stdout",
     "output_type": "stream",
     "text": [
      "Unk percentage: 0.005791505791505791\n"
     ]
    },
    {
     "name": "stderr",
     "output_type": "stream",
     "text": [
      "Computing transition probabilities: 100%|██████████| 389/389 [00:00<00:00, 529.82it/s]\n",
      "Generating walks (CPU: 1):  30%|███       | 3/10 [00:01<00:03,  2.31it/s]"
     ]
    },
    {
     "name": "stdout",
     "output_type": "stream",
     "text": [
      "[2.87000000e+00 5.95362656e-02 3.13673900e+06 1.01677000e+05\n",
      " 1.54500000e+03 5.60000000e+02 6.69000000e+02 1.10000000e+01\n",
      " 1.10000000e+01 2.46600000e+03 2.35000000e+02 2.04000000e+02\n",
      " 3.00000000e+00 0.00000000e+00 0.00000000e+00 2.00000000e+01\n",
      " 0.00000000e+00 0.00000000e+00]\n",
      "Unk percentage: 0.013078826440438318\n",
      "Unk percentage: 0.005255527364987314\n",
      "Unk percentage: 0.009847198641765705\n"
     ]
    },
    {
     "name": "stderr",
     "output_type": "stream",
     "text": [
      "\r",
      "Generating walks (CPU: 1):  40%|████      | 4/10 [00:01<00:02,  2.07it/s]"
     ]
    },
    {
     "name": "stdout",
     "output_type": "stream",
     "text": [
      "Unk percentage: 0.007611241217798595\n",
      "Unk percentage: 0.00603090840557859\n",
      "Unk percentage: 0.0033250207813798837\n"
     ]
    },
    {
     "name": "stderr",
     "output_type": "stream",
     "text": [
      "Generating walks (CPU: 1):  20%|██        | 2/10 [00:01<00:05,  1.41it/s]"
     ]
    },
    {
     "name": "stdout",
     "output_type": "stream",
     "text": [
      "Unk percentage: 0.00468448608432075\n",
      "Unk percentage: 0.005012531328320802\n",
      "Unk percentage: 0.008960855211444742\n",
      "Unk percentage: 0.002577319587628866\n"
     ]
    },
    {
     "name": "stderr",
     "output_type": "stream",
     "text": [
      "Generating walks (CPU: 1):  90%|█████████ | 9/10 [00:04<00:00,  1.88it/s]"
     ]
    },
    {
     "name": "stdout",
     "output_type": "stream",
     "text": [
      "cluster began\n",
      "cluster end\n"
     ]
    },
    {
     "name": "stderr",
     "output_type": "stream",
     "text": [
      "Computing transition probabilities: 100%|██████████| 282/282 [00:00<00:00, 836.15it/s]\n",
      "Generating walks (CPU: 1):   0%|          | 0/10 [00:00<?, ?it/s]\n",
      "Generating walks (CPU: 1):  20%|██        | 2/10 [00:01<00:04,  1.93it/s]"
     ]
    },
    {
     "name": "stdout",
     "output_type": "stream",
     "text": [
      "[3.20000000e+00 3.83658247e-02 8.18970000e+05 4.12180000e+04\n",
      " 9.45000000e+02 3.68000000e+02 3.76000000e+02 1.10000000e+01\n",
      " 1.40000000e+01 7.94000000e+02 1.08000000e+02 1.07000000e+02\n",
      " 1.00000000e+00 0.00000000e+00 2.00000000e+00 1.00000000e+01\n",
      " 0.00000000e+00 0.00000000e+00]\n",
      "Unk percentage: 0.002425712553062462\n"
     ]
    },
    {
     "name": "stderr",
     "output_type": "stream",
     "text": [
      "\r",
      "Generating walks (CPU: 1):  50%|█████     | 5/10 [00:05<00:06,  1.21s/it]"
     ]
    },
    {
     "name": "stdout",
     "output_type": "stream",
     "text": [
      "cluster began\n",
      "cluster end\n"
     ]
    },
    {
     "name": "stderr",
     "output_type": "stream",
     "text": [
      "Computing transition probabilities: 100%|██████████| 331/331 [00:00<00:00, 685.76it/s]\n",
      "Generating walks (CPU: 1):  40%|████      | 4/10 [00:03<00:05,  1.16it/s]"
     ]
    },
    {
     "name": "stdout",
     "output_type": "stream",
     "text": [
      "cluster began\n",
      "cluster end\n"
     ]
    },
    {
     "name": "stderr",
     "output_type": "stream",
     "text": [
      "Computing transition probabilities: 100%|██████████| 383/383 [00:00<00:00, 533.17it/s]\n",
      "Generating walks (CPU: 1):  70%|███████   | 7/10 [00:06<00:03,  1.03s/it]]\n",
      "\n",
      "Generating walks (CPU: 1):  40%|████      | 4/10 [00:04<00:06,  1.10s/it]"
     ]
    },
    {
     "name": "stdout",
     "output_type": "stream",
     "text": [
      "[3.67000000e+00 5.01506849e-02 3.52864800e+06 1.22306000e+05\n",
      " 2.02600000e+03 8.21000000e+02 8.75000000e+02 1.80000000e+01\n",
      " 2.80000000e+01 3.49300000e+03 2.03000000e+02 1.86000000e+02\n",
      " 4.00000000e+00 2.00000000e+00 2.00000000e+00 8.00000000e+00\n",
      " 0.00000000e+00 0.00000000e+00]\n",
      "Unk percentage: 0.002551020408163265\n"
     ]
    },
    {
     "name": "stderr",
     "output_type": "stream",
     "text": [
      "\r",
      "Generating walks (CPU: 1):  90%|█████████ | 9/10 [00:09<00:01,  1.21s/it]"
     ]
    },
    {
     "name": "stdout",
     "output_type": "stream",
     "text": [
      "[3.57000000e+00 7.62977852e-02 9.37219700e+06 2.68737000e+05\n",
      " 5.33400000e+03 2.13900000e+03 2.71200000e+03 4.80000000e+01\n",
      " 1.04000000e+02 6.87900000e+03 9.26000000e+02 7.70000000e+02\n",
      " 4.40000000e+01 2.30000000e+01 1.30000000e+01 9.60000000e+01\n",
      " 1.10000000e+01 3.00000000e+00]\n",
      "Unk percentage: 0.002482929857231533\n",
      "Unk percentage: 0.0017493986442160508\n",
      "Unk percentage: 0.001885014137606032\n"
     ]
    },
    {
     "name": "stderr",
     "output_type": "stream",
     "text": [
      "Generating walks (CPU: 1): 100%|██████████| 10/10 [00:10<00:00,  1.19s/it]\n",
      "Generating walks (CPU: 1):  70%|███████   | 7/10 [00:08<00:04,  1.36s/it]"
     ]
    },
    {
     "name": "stdout",
     "output_type": "stream",
     "text": [
      "cluster began\n",
      "cluster end\n"
     ]
    },
    {
     "name": "stderr",
     "output_type": "stream",
     "text": [
      "Computing transition probabilities: 100%|██████████| 221/221 [00:00<00:00, 974.16it/s] \n",
      "Generating walks (CPU: 1):   0%|          | 0/10 [00:00<?, ?it/s]"
     ]
    },
    {
     "name": "stdout",
     "output_type": "stream",
     "text": [
      "[2.97000000e+00 4.50419956e-02 5.76834300e+06 1.55651000e+05\n",
      " 2.94100000e+03 1.34600000e+03 1.26200000e+03 3.10000000e+01\n",
      " 4.80000000e+01 4.57300000e+03 4.51000000e+02 4.54000000e+02\n",
      " 1.40000000e+01 3.00000000e+00 5.00000000e+00 3.70000000e+01\n",
      " 1.00000000e+00 0.00000000e+00]\n",
      "Unk percentage: 0.006331976481230212\n",
      "Unk percentage: 0.0017237664296487825\n",
      "Unk percentage: 0.009585330277141072\n"
     ]
    },
    {
     "name": "stderr",
     "output_type": "stream",
     "text": [
      "Generating walks (CPU: 1):  80%|████████  | 8/10 [00:10<00:02,  1.44s/it]"
     ]
    },
    {
     "name": "stdout",
     "output_type": "stream",
     "text": [
      "Unk percentage: 0.0016741071428571428\n",
      "cluster began\n",
      "cluster end\n",
      "Unk percentage: 0.002457002457002457\n"
     ]
    },
    {
     "name": "stderr",
     "output_type": "stream",
     "text": [
      "Computing transition probabilities:  36%|███▌      | 100/277 [00:00<00:00, 998.56it/s]"
     ]
    },
    {
     "name": "stdout",
     "output_type": "stream",
     "text": [
      "Unk percentage: 0.0015503875968992248\n"
     ]
    },
    {
     "name": "stderr",
     "output_type": "stream",
     "text": [
      "Computing transition probabilities: 100%|██████████| 277/277 [00:00<00:00, 739.06it/s]\n",
      "Generating walks (CPU: 1):  80%|████████  | 8/10 [00:05<00:01,  1.45it/s]]\n",
      "Generating walks (CPU: 1):  50%|█████     | 5/10 [00:03<00:04,  1.22it/s]"
     ]
    },
    {
     "name": "stdout",
     "output_type": "stream",
     "text": [
      "cluster began\n"
     ]
    },
    {
     "name": "stderr",
     "output_type": "stream",
     "text": [
      "\r",
      "Generating walks (CPU: 1):  90%|█████████ | 9/10 [00:06<00:00,  1.35it/s]"
     ]
    },
    {
     "name": "stdout",
     "output_type": "stream",
     "text": [
      "cluster end\n"
     ]
    },
    {
     "name": "stderr",
     "output_type": "stream",
     "text": [
      "Computing transition probabilities: 100%|██████████| 336/336 [00:00<00:00, 587.69it/s]\n",
      "Generating walks (CPU: 1):  70%|███████   | 7/10 [00:06<00:02,  1.07it/s]]\n"
     ]
    },
    {
     "name": "stdout",
     "output_type": "stream",
     "text": [
      "[3.27000000e+00 9.69585163e-02 8.95668100e+06 2.38645000e+05\n",
      " 7.20800000e+03 3.32600000e+03 3.42700000e+03 5.90000000e+01\n",
      " 6.90000000e+01 5.70600000e+03 1.21000000e+03 1.17400000e+03\n",
      " 2.30000000e+01 1.10000000e+01 6.00000000e+00 1.10000000e+02\n",
      " 5.00000000e+00 0.00000000e+00]\n",
      "Unk percentage: 0.0038779923931687673\n"
     ]
    },
    {
     "name": "stderr",
     "output_type": "stream",
     "text": [
      "Generating walks (CPU: 1):  80%|████████  | 8/10 [00:07<00:01,  1.03it/s]"
     ]
    },
    {
     "name": "stdout",
     "output_type": "stream",
     "text": [
      "Unk percentage: 0.006265322800326887\n",
      "[3.20000000e+00 3.06685016e-02 1.67911800e+06 6.88520000e+04\n",
      " 9.44000000e+02 3.33000000e+02 3.92000000e+02 1.50000000e+01\n",
      " 1.40000000e+01 7.74000000e+02 4.80000000e+01 4.90000000e+01\n",
      " 0.00000000e+00 1.00000000e+00 0.00000000e+00 0.00000000e+00\n",
      " 0.00000000e+00 0.00000000e+00]\n",
      "Unk percentage: 0.006279434850863423\n",
      "Unk percentage: 0.007782101167315175\n"
     ]
    },
    {
     "name": "stderr",
     "output_type": "stream",
     "text": [
      "Generating walks (CPU: 1):  40%|████      | 4/10 [00:03<00:05,  1.02it/s]]\n",
      "Generating walks (CPU: 1):  50%|█████     | 5/10 [00:05<00:05,  1.05s/it]"
     ]
    },
    {
     "name": "stdout",
     "output_type": "stream",
     "text": [
      "[4.04000000e+00 4.69808175e-02 3.34228100e+06 1.15626000e+05\n",
      " 2.34400000e+03 1.02600000e+03 9.68000000e+02 2.50000000e+01\n",
      " 4.90000000e+01 3.04500000e+03 3.37000000e+02 3.32000000e+02\n",
      " 5.00000000e+00 3.00000000e+00 4.00000000e+00 5.40000000e+01\n",
      " 1.00000000e+00 0.00000000e+00]\n",
      "Unk percentage: 0.002984264785675529\n"
     ]
    },
    {
     "name": "stderr",
     "output_type": "stream",
     "text": [
      "\r",
      "Generating walks (CPU: 1):  60%|██████    | 6/10 [00:06<00:04,  1.13s/it]"
     ]
    },
    {
     "name": "stdout",
     "output_type": "stream",
     "text": [
      "Unk percentage: 0.004722448804361825\n",
      "Unk percentage: 0.0034482758620689655\n",
      "cluster began\n",
      "cluster end\n"
     ]
    },
    {
     "name": "stderr",
     "output_type": "stream",
     "text": [
      "Computing transition probabilities: 100%|██████████| 126/126 [00:00<00:00, 1787.25it/s]\n",
      "Generating walks (CPU: 1):   0%|          | 0/10 [00:00<?, ?it/s]"
     ]
    },
    {
     "name": "stdout",
     "output_type": "stream",
     "text": [
      "cluster began\n",
      "cluster end\n"
     ]
    },
    {
     "name": "stderr",
     "output_type": "stream",
     "text": [
      "Computing transition probabilities: 100%|██████████| 331/331 [00:00<00:00, 778.70it/s]\n",
      "Generating walks (CPU: 1): 100%|██████████| 10/10 [00:11<00:00,  1.18s/it]\n",
      "Generating walks (CPU: 1):  40%|████      | 4/10 [00:03<00:05,  1.14it/s]"
     ]
    },
    {
     "name": "stdout",
     "output_type": "stream",
     "text": [
      "[3.35000000e+00 9.13916897e-02 2.93226000e+05 2.18510000e+04\n",
      " 7.12000000e+02 2.70000000e+02 3.22000000e+02 1.40000000e+01\n",
      " 1.70000000e+01 1.03600000e+03 1.47000000e+02 1.33000000e+02\n",
      " 4.00000000e+00 1.00000000e+00 2.00000000e+00 1.50000000e+01\n",
      " 0.00000000e+00 0.00000000e+00]\n",
      "Unk percentage: 0.00459194322688374\n",
      "Unk percentage: 0.0021164021164021165\n",
      "cluster began\n",
      "cluster end\n"
     ]
    },
    {
     "name": "stderr",
     "output_type": "stream",
     "text": [
      "Computing transition probabilities: 100%|██████████| 144/144 [00:00<00:00, 1391.05it/s]\n",
      "Generating walks (CPU: 1):   0%|          | 0/10 [00:00<?, ?it/s]\n",
      "Generating walks (CPU: 1):  50%|█████     | 5/10 [00:02<00:02,  2.37it/s]"
     ]
    },
    {
     "name": "stdout",
     "output_type": "stream",
     "text": [
      "[3.60000000e+00 5.00594876e-02 6.03236800e+06 1.64499000e+05\n",
      " 2.67500000e+03 1.22600000e+03 1.12900000e+03 2.40000000e+01\n",
      " 4.30000000e+01 6.83900000e+03 4.90000000e+02 5.13000000e+02\n",
      " 1.50000000e+01 6.00000000e+00 7.00000000e+00 5.60000000e+01\n",
      " 5.00000000e+00 0.00000000e+00]\n",
      "Unk percentage: 0.008518269446312485\n",
      "Unk percentage: 0.00584668687743612\n"
     ]
    },
    {
     "name": "stderr",
     "output_type": "stream",
     "text": [
      "\r",
      "Generating walks (CPU: 1):  60%|██████    | 6/10 [00:02<00:01,  2.28it/s]"
     ]
    },
    {
     "name": "stdout",
     "output_type": "stream",
     "text": [
      "Unk percentage: 0.009578024758290412\n"
     ]
    },
    {
     "name": "stderr",
     "output_type": "stream",
     "text": [
      "\r",
      "Generating walks (CPU: 1):  70%|███████   | 7/10 [00:07<00:03,  1.14s/it]"
     ]
    },
    {
     "name": "stdout",
     "output_type": "stream",
     "text": [
      "Unk percentage: 0.0014405762304921968\n"
     ]
    },
    {
     "name": "stderr",
     "output_type": "stream",
     "text": [
      "\r",
      "Generating walks (CPU: 1):  70%|███████   | 7/10 [00:02<00:01,  2.26it/s]"
     ]
    },
    {
     "name": "stdout",
     "output_type": "stream",
     "text": [
      "Unk percentage: 0.0011365481409319695\n",
      "Unk percentage: 0.0018610421836228288\n"
     ]
    },
    {
     "name": "stderr",
     "output_type": "stream",
     "text": [
      "\r",
      "Generating walks (CPU: 1):  80%|████████  | 8/10 [00:03<00:00,  2.24it/s]"
     ]
    },
    {
     "name": "stdout",
     "output_type": "stream",
     "text": [
      "Unk percentage: 0.00236833904643191\n"
     ]
    },
    {
     "name": "stderr",
     "output_type": "stream",
     "text": [
      "Generating walks (CPU: 1):  80%|████████  | 8/10 [00:08<00:02,  1.14s/it]"
     ]
    },
    {
     "name": "stdout",
     "output_type": "stream",
     "text": [
      "Unk percentage: 0.0009161704076958314\n"
     ]
    },
    {
     "name": "stderr",
     "output_type": "stream",
     "text": [
      "\r",
      "Generating walks (CPU: 1): 100%|██████████| 10/10 [00:04<00:00,  2.31it/s]"
     ]
    },
    {
     "name": "stdout",
     "output_type": "stream",
     "text": [
      "Unk percentage: 0.0037561398439757295\n",
      "Unk percentage: 0.005389126644476145\n"
     ]
    },
    {
     "name": "stderr",
     "output_type": "stream",
     "text": [
      "\n"
     ]
    },
    {
     "name": "stdout",
     "output_type": "stream",
     "text": [
      "Unk percentage: 0.00040257648953301127\n",
      "Unk percentage: 0.0028095148904289193\n"
     ]
    },
    {
     "name": "stderr",
     "output_type": "stream",
     "text": [
      "\r",
      "Generating walks (CPU: 1):  90%|█████████ | 9/10 [00:09<00:01,  1.14s/it]"
     ]
    },
    {
     "name": "stdout",
     "output_type": "stream",
     "text": [
      "Unk percentage: 0.001272264631043257\n",
      "Unk percentage: 0.0009886307464162135\n",
      "[3.40000000e+00 1.01893759e-01 4.43944000e+05 3.00910000e+04\n",
      " 9.52000000e+02 3.68000000e+02 4.24000000e+02 1.70000000e+01\n",
      " 3.00000000e+01 9.33000000e+02 2.15000000e+02 1.60000000e+02\n",
      " 8.00000000e+00 1.00000000e+00 3.00000000e+00 4.20000000e+01\n",
      " 3.00000000e+00 0.00000000e+00]\n",
      "Unk percentage: 0.004968944099378882\n",
      "cluster began\n",
      "cluster end\n"
     ]
    },
    {
     "name": "stderr",
     "output_type": "stream",
     "text": [
      "Computing transition probabilities: 100%|██████████| 353/353 [00:00<00:00, 616.12it/s]\n",
      "Generating walks (CPU: 1):   0%|          | 0/10 [00:00<?, ?it/s]\n",
      "Generating walks (CPU: 1):  30%|███       | 3/10 [00:02<00:06,  1.13it/s]"
     ]
    },
    {
     "name": "stdout",
     "output_type": "stream",
     "text": [
      "[3.74000000e+00 5.73436984e-02 5.75295600e+06 1.67707000e+05\n",
      " 3.35900000e+03 1.51500000e+03 1.45300000e+03 2.70000000e+01\n",
      " 4.40000000e+01 6.57400000e+03 6.95000000e+02 6.92000000e+02\n",
      " 2.70000000e+01 6.00000000e+00 5.00000000e+00 9.60000000e+01\n",
      " 3.00000000e+00 1.00000000e+00]\n",
      "Unk percentage: 0.0011716461628588166\n"
     ]
    },
    {
     "name": "stderr",
     "output_type": "stream",
     "text": [
      "\r",
      "Generating walks (CPU: 1):  40%|████      | 4/10 [00:04<00:06,  1.00s/it]"
     ]
    },
    {
     "name": "stdout",
     "output_type": "stream",
     "text": [
      "cluster began\n",
      "cluster end\n"
     ]
    },
    {
     "name": "stderr",
     "output_type": "stream",
     "text": [
      "Computing transition probabilities: 100%|██████████| 231/231 [00:00<00:00, 1004.46it/s]\n",
      "Generating walks (CPU: 1):   0%|          | 0/10 [00:00<?, ?it/s]"
     ]
    },
    {
     "name": "stdout",
     "output_type": "stream",
     "text": [
      "cluster began\n",
      "cluster end\n"
     ]
    },
    {
     "name": "stderr",
     "output_type": "stream",
     "text": [
      "Computing transition probabilities: 100%|██████████| 380/380 [00:00<00:00, 510.47it/s]\n",
      "Generating walks (CPU: 1):  80%|████████  | 8/10 [00:08<00:02,  1.18s/it]"
     ]
    },
    {
     "name": "stdout",
     "output_type": "stream",
     "text": [
      "cluster began\n",
      "cluster end\n"
     ]
    },
    {
     "name": "stderr",
     "output_type": "stream",
     "text": [
      "Computing transition probabilities: 100%|██████████| 384/384 [00:00<00:00, 688.04it/s]\n",
      "Generating walks (CPU: 1):  30%|███       | 3/10 [00:02<00:05,  1.17it/s]]\n",
      "\n"
     ]
    },
    {
     "name": "stdout",
     "output_type": "stream",
     "text": [
      "[3.33000000e+00 5.11558997e-02 1.91778500e+06 7.83550000e+04\n",
      " 1.99000000e+03 8.78000000e+02 8.08000000e+02 1.80000000e+01\n",
      " 3.70000000e+01 1.27800000e+03 1.46000000e+02 1.50000000e+02\n",
      " 4.00000000e+00 3.00000000e+00 1.00000000e+00 7.00000000e+00\n",
      " 0.00000000e+00 0.00000000e+00]\n",
      "Unk percentage: 0.004243281471004243\n"
     ]
    },
    {
     "name": "stderr",
     "output_type": "stream",
     "text": [
      "Generating walks (CPU: 1):  40%|████      | 4/10 [00:04<00:06,  1.09s/it]"
     ]
    },
    {
     "name": "stdout",
     "output_type": "stream",
     "text": [
      "[4.05000000e+00 1.32802975e-01 6.99216100e+06 1.97038000e+05\n",
      " 5.19700000e+03 2.68500000e+03 2.39700000e+03 4.00000000e+01\n",
      " 1.09000000e+02 5.38900000e+03 9.63000000e+02 1.05100000e+03\n",
      " 2.70000000e+01 1.10000000e+01 5.00000000e+00 1.20000000e+02\n",
      " 7.00000000e+00 0.00000000e+00]\n",
      "Unk percentage: 0.001652892561983471\n"
     ]
    },
    {
     "name": "stderr",
     "output_type": "stream",
     "text": [
      "Generating walks (CPU: 1):  70%|███████   | 7/10 [00:08<00:03,  1.33s/it]]"
     ]
    },
    {
     "name": "stdout",
     "output_type": "stream",
     "text": [
      "cluster began\n",
      "cluster end\n"
     ]
    },
    {
     "name": "stderr",
     "output_type": "stream",
     "text": [
      "Computing transition probabilities: 100%|██████████| 191/191 [00:00<00:00, 954.50it/s]\n",
      "Generating walks (CPU: 1):   0%|          | 0/10 [00:00<?, ?it/s]\n",
      "Generating walks (CPU: 1):  30%|███       | 3/10 [00:01<00:03,  2.05it/s]"
     ]
    },
    {
     "name": "stdout",
     "output_type": "stream",
     "text": [
      "cluster began\n",
      "cluster end\n"
     ]
    },
    {
     "name": "stderr",
     "output_type": "stream",
     "text": [
      "Computing transition probabilities:  88%|████████▊ | 328/374 [00:00<00:00, 500.53it/s]"
     ]
    },
    {
     "name": "stdout",
     "output_type": "stream",
     "text": [
      "[3.62000000e+00 8.86264141e-02 8.70589600e+06 2.72144000e+05\n",
      " 6.75700000e+03 2.94900000e+03 3.89600000e+03 9.50000000e+01\n",
      " 1.54000000e+02 7.88800000e+03 9.57000000e+02 7.47000000e+02\n",
      " 4.00000000e+01 1.80000000e+01 2.40000000e+01 5.00000000e+01\n",
      " 1.40000000e+01 0.00000000e+00]\n",
      "Unk percentage: 0.0011945052757316346\n"
     ]
    },
    {
     "name": "stderr",
     "output_type": "stream",
     "text": [
      "Computing transition probabilities: 100%|██████████| 374/374 [00:00<00:00, 543.62it/s]\n",
      "Generating walks (CPU: 1):   0%|          | 0/10 [00:00<?, ?it/s]"
     ]
    },
    {
     "name": "stdout",
     "output_type": "stream",
     "text": [
      "Unk percentage: 0.0011195700850873264\n"
     ]
    },
    {
     "name": "stderr",
     "output_type": "stream",
     "text": [
      "\r",
      "Generating walks (CPU: 1):  50%|█████     | 5/10 [00:03<00:03,  1.61it/s]"
     ]
    },
    {
     "name": "stdout",
     "output_type": "stream",
     "text": [
      "Unk percentage: 0.0014265335235378032\n"
     ]
    },
    {
     "name": "stderr",
     "output_type": "stream",
     "text": [
      "Generating walks (CPU: 1):  70%|███████   | 7/10 [00:04<00:01,  1.59it/s]]\n",
      "Generating walks (CPU: 1): 100%|██████████| 10/10 [00:06<00:00,  1.54it/s]\n",
      "Generating walks (CPU: 1):  40%|████      | 4/10 [00:04<00:06,  1.13s/it]"
     ]
    },
    {
     "name": "stdout",
     "output_type": "stream",
     "text": [
      "[5.69000000e+00 1.04264449e-01 9.03390700e+06 2.32832000e+05\n",
      " 5.00000000e+03 2.57100000e+03 2.14800000e+03 5.10000000e+01\n",
      " 6.50000000e+01 1.10310000e+04 1.25600000e+03 1.28100000e+03\n",
      " 3.20000000e+01 1.10000000e+01 7.00000000e+00 2.23000000e+02\n",
      " 1.50000000e+01 1.00000000e+00]\n",
      "Unk percentage: 0.001349527665317139\n",
      "Unk percentage: 0.0011799410029498525\n",
      "Unk percentage: 0.010966693744922826\n",
      "Unk percentage: 0.012325390304026294\n",
      "[4.06000000e+00 7.39770875e-02 1.06839300e+06 5.19700000e+04\n",
      " 1.38200000e+03 6.23000000e+02 5.31000000e+02 2.30000000e+01\n",
      " 2.80000000e+01 1.70800000e+03 2.32000000e+02 2.42000000e+02\n",
      " 1.00000000e+01 5.00000000e+00 7.00000000e+00 2.30000000e+01\n",
      " 3.00000000e+00 0.00000000e+00]\n",
      "Unk percentage: 0.00267379679144385\n"
     ]
    },
    {
     "name": "stderr",
     "output_type": "stream",
     "text": [
      "\r",
      "Generating walks (CPU: 1):  50%|█████     | 5/10 [00:06<00:06,  1.28s/it]"
     ]
    },
    {
     "name": "stdout",
     "output_type": "stream",
     "text": [
      "cluster began\n",
      "cluster end\n"
     ]
    },
    {
     "name": "stderr",
     "output_type": "stream",
     "text": [
      "Computing transition probabilities: 100%|██████████| 303/303 [00:00<00:00, 785.65it/s]\n",
      "Generating walks (CPU: 1):  50%|█████     | 5/10 [00:03<00:04,  1.22it/s]"
     ]
    },
    {
     "name": "stdout",
     "output_type": "stream",
     "text": [
      "cluster began\n",
      "cluster end\n",
      "cluster began\n",
      "cluster end\n"
     ]
    },
    {
     "name": "stderr",
     "output_type": "stream",
     "text": [
      "Computing transition probabilities: 100%|██████████| 198/198 [00:00<00:00, 1003.07it/s]\n",
      "Computing transition probabilities: 100%|██████████| 294/294 [00:00<00:00, 923.73it/s]\n",
      "Generating walks (CPU: 1):  30%|███       | 3/10 [00:02<00:04,  1.53it/s]]\n",
      "Generating walks (CPU: 1):  80%|████████  | 8/10 [00:04<00:01,  1.53it/s]"
     ]
    },
    {
     "name": "stdout",
     "output_type": "stream",
     "text": [
      "[2.62000000e+00 2.20343915e-02 8.36422200e+06 2.00644000e+05\n",
      " 4.14900000e+03 1.84000000e+03 1.86700000e+03 1.60000000e+01\n",
      " 3.20000000e+01 5.65400000e+03 6.27000000e+02 5.97000000e+02\n",
      " 1.70000000e+01 4.00000000e+00 4.00000000e+00 7.00000000e+01\n",
      " 3.00000000e+00 0.00000000e+00]\n"
     ]
    },
    {
     "name": "stderr",
     "output_type": "stream",
     "text": [
      "\r",
      "Generating walks (CPU: 1): 100%|██████████| 10/10 [00:09<00:00,  1.08s/it]"
     ]
    },
    {
     "name": "stdout",
     "output_type": "stream",
     "text": [
      "Unk percentage: 0.002851033499643621\n"
     ]
    },
    {
     "name": "stderr",
     "output_type": "stream",
     "text": [
      "\r",
      "Generating walks (CPU: 1):  90%|█████████ | 9/10 [00:05<00:00,  1.47it/s]"
     ]
    },
    {
     "name": "stdout",
     "output_type": "stream",
     "text": [
      "Unk percentage: 0.0032634032634032634\n",
      "Unk percentage: 0.0030902348578491965\n"
     ]
    },
    {
     "name": "stderr",
     "output_type": "stream",
     "text": [
      "Generating walks (CPU: 1): 100%|██████████| 10/10 [00:06<00:00,  1.43it/s]\n",
      "\n",
      "Generating walks (CPU: 1):  70%|███████   | 7/10 [00:06<00:03,  1.11s/it]"
     ]
    },
    {
     "name": "stdout",
     "output_type": "stream",
     "text": [
      "[3.33000000e+00 4.83787435e-02 1.19547600e+06 5.64410000e+04\n",
      " 1.19800000e+03 4.18000000e+02 5.42000000e+02 1.40000000e+01\n",
      " 2.30000000e+01 6.14000000e+02 8.30000000e+01 7.40000000e+01\n",
      " 3.00000000e+00 2.00000000e+00 0.00000000e+00 2.00000000e+00\n",
      " 0.00000000e+00 0.00000000e+00]\n",
      "Unk percentage: 0.0034252344320287497\n"
     ]
    },
    {
     "name": "stderr",
     "output_type": "stream",
     "text": [
      "\r",
      "Generating walks (CPU: 1):  80%|████████  | 8/10 [00:08<00:02,  1.14s/it]"
     ]
    },
    {
     "name": "stdout",
     "output_type": "stream",
     "text": [
      "[4.10000000e+00 6.38388453e-02 4.38288000e+06 1.49822000e+05\n",
      " 2.89300000e+03 1.16000000e+03 1.41500000e+03 3.60000000e+01\n",
      " 6.40000000e+01 5.58400000e+03 6.09000000e+02 5.12000000e+02\n",
      " 3.40000000e+01 1.30000000e+01 1.00000000e+01 5.90000000e+01\n",
      " 7.00000000e+00 2.00000000e+00]\n",
      "Unk percentage: 0.0005247507433968865\n",
      "Unk percentage: 0.010169491525423728\n",
      "Unk percentage: 0.0012934518997574779\n",
      "Unk percentage: 0.006211180124223602\n"
     ]
    },
    {
     "name": "stderr",
     "output_type": "stream",
     "text": [
      "Generating walks (CPU: 1): 100%|██████████| 10/10 [00:10<00:00,  1.11s/it]\n"
     ]
    },
    {
     "name": "stdout",
     "output_type": "stream",
     "text": [
      "[3.52000000e+00 5.18382451e-02 4.01020600e+06 1.29375000e+05\n",
      " 1.73600000e+03 7.18000000e+02 7.27000000e+02 2.40000000e+01\n",
      " 1.70000000e+01 6.03200000e+03 2.93000000e+02 2.94000000e+02\n",
      " 1.00000000e+01 1.00000000e+00 3.00000000e+00 2.60000000e+01\n",
      " 4.00000000e+00 0.00000000e+00]\n",
      "cluster began\n",
      "cluster end\n",
      "Unk percentage: 0.003121488325633662\n"
     ]
    },
    {
     "name": "stderr",
     "output_type": "stream",
     "text": [
      "\r",
      "Computing transition probabilities:   0%|          | 0/369 [00:00<?, ?it/s]"
     ]
    },
    {
     "name": "stdout",
     "output_type": "stream",
     "text": [
      "Unk percentage: 0.0014086310667178897\n"
     ]
    },
    {
     "name": "stderr",
     "output_type": "stream",
     "text": [
      "Computing transition probabilities:  32%|███▏      | 117/369 [00:00<00:00, 573.86it/s]"
     ]
    },
    {
     "name": "stdout",
     "output_type": "stream",
     "text": [
      "Unk percentage: 0.003125\n"
     ]
    },
    {
     "name": "stderr",
     "output_type": "stream",
     "text": [
      "Computing transition probabilities: 100%|██████████| 369/369 [00:00<00:00, 559.05it/s]\n",
      "Generating walks (CPU: 1):   0%|          | 0/10 [00:00<?, ?it/s]"
     ]
    },
    {
     "name": "stdout",
     "output_type": "stream",
     "text": [
      "cluster began\n",
      "cluster end\n"
     ]
    },
    {
     "name": "stderr",
     "output_type": "stream",
     "text": [
      "Computing transition probabilities: 100%|██████████| 92/92 [00:00<00:00, 2229.96it/s]\n",
      "Generating walks (CPU: 1):  20%|██        | 2/10 [00:00<00:01,  7.94it/s]"
     ]
    },
    {
     "name": "stdout",
     "output_type": "stream",
     "text": [
      "cluster began\n",
      "cluster end\n"
     ]
    },
    {
     "name": "stderr",
     "output_type": "stream",
     "text": [
      "Computing transition probabilities: 100%|██████████| 116/116 [00:00<00:00, 1159.16it/s]\n",
      "Generating walks (CPU: 1):  70%|███████   | 7/10 [00:02<00:00,  3.22it/s]]\n",
      "Generating walks (CPU: 1):  80%|████████  | 8/10 [00:02<00:00,  2.90it/s]"
     ]
    },
    {
     "name": "stdout",
     "output_type": "stream",
     "text": [
      "[2.98901099e+00 5.93733144e-02 1.10988000e+05 9.27000000e+03\n",
      " 3.92000000e+02 1.46000000e+02 1.58000000e+02 4.00000000e+00\n",
      " 4.00000000e+00 3.42000000e+02 8.60000000e+01 8.30000000e+01\n",
      " 0.00000000e+00 0.00000000e+00 1.00000000e+00 1.00000000e+01\n",
      " 1.00000000e+00 0.00000000e+00]\n",
      "Unk percentage: 0.005076142131979695\n"
     ]
    },
    {
     "name": "stderr",
     "output_type": "stream",
     "text": [
      "Generating walks (CPU: 1): 100%|██████████| 10/10 [00:03<00:00,  2.81it/s]\n"
     ]
    },
    {
     "name": "stdout",
     "output_type": "stream",
     "text": [
      "[2.9000000e+00 3.0012963e-02 2.2925000e+05 1.6499000e+04 4.1500000e+02\n",
      " 1.3600000e+02 1.3700000e+02 5.0000000e+00 1.1000000e+01 4.0900000e+02\n",
      " 2.1000000e+01 2.1000000e+01 0.0000000e+00 1.0000000e+00 0.0000000e+00\n",
      " 0.0000000e+00 0.0000000e+00 0.0000000e+00]\n",
      "Unk percentage: 0.001386138613861386\n",
      "Unk percentage: 0.0029940119760479044\n"
     ]
    },
    {
     "name": "stderr",
     "output_type": "stream",
     "text": [
      "\r",
      "Generating walks (CPU: 1):  50%|█████     | 5/10 [00:05<00:05,  1.10s/it]"
     ]
    },
    {
     "name": "stdout",
     "output_type": "stream",
     "text": [
      "cluster began\n",
      "cluster end\n"
     ]
    },
    {
     "name": "stderr",
     "output_type": "stream",
     "text": [
      "Computing transition probabilities: 100%|██████████| 184/184 [00:00<00:00, 972.63it/s]\n",
      "Generating walks (CPU: 1):  60%|██████    | 6/10 [00:02<00:02,  1.91it/s]"
     ]
    },
    {
     "name": "stdout",
     "output_type": "stream",
     "text": [
      "cluster began\n",
      "cluster end\n"
     ]
    },
    {
     "name": "stderr",
     "output_type": "stream",
     "text": [
      "Computing transition probabilities: 100%|██████████| 151/151 [00:00<00:00, 1581.15it/s]\n",
      "Generating walks (CPU: 1):  40%|████      | 4/10 [00:01<00:02,  2.71it/s]"
     ]
    },
    {
     "name": "stdout",
     "output_type": "stream",
     "text": [
      "cluster began\n",
      "cluster end\n"
     ]
    },
    {
     "name": "stderr",
     "output_type": "stream",
     "text": [
      "Computing transition probabilities: 100%|██████████| 171/171 [00:00<00:00, 1306.61it/s]\n",
      "Generating walks (CPU: 1):  20%|██        | 2/10 [00:00<00:02,  3.78it/s]]\n",
      "Generating walks (CPU: 1):  70%|███████   | 7/10 [00:03<00:01,  2.08it/s]"
     ]
    },
    {
     "name": "stdout",
     "output_type": "stream",
     "text": [
      "[3.62000000e+00 9.30986577e-02 9.55452000e+05 4.55040000e+04\n",
      " 1.31500000e+03 4.87000000e+02 6.67000000e+02 1.50000000e+01\n",
      " 3.00000000e+01 9.84000000e+02 1.47000000e+02 1.13000000e+02\n",
      " 9.00000000e+00 0.00000000e+00 2.00000000e+00 4.00000000e+00\n",
      " 2.00000000e+00 0.00000000e+00]\n"
     ]
    },
    {
     "name": "stderr",
     "output_type": "stream",
     "text": [
      "\r",
      "Generating walks (CPU: 1):  40%|████      | 4/10 [00:01<00:02,  2.28it/s]"
     ]
    },
    {
     "name": "stdout",
     "output_type": "stream",
     "text": [
      "Unk percentage: 0.002311604253351826\n"
     ]
    },
    {
     "name": "stderr",
     "output_type": "stream",
     "text": [
      "\n",
      "Generating walks (CPU: 1):  80%|████████  | 8/10 [00:03<00:00,  2.04it/s]"
     ]
    },
    {
     "name": "stdout",
     "output_type": "stream",
     "text": [
      "Unk percentage: 0.001541277333590213\n",
      "Unk percentage: 0.0007019514249613927\n"
     ]
    },
    {
     "name": "stderr",
     "output_type": "stream",
     "text": [
      "Generating walks (CPU: 1):  90%|█████████ | 9/10 [00:04<00:00,  1.94it/s]"
     ]
    },
    {
     "name": "stdout",
     "output_type": "stream",
     "text": [
      "Unk percentage: 0.0010845986984815619\n",
      "Unk percentage: 0.00353045013239188\n"
     ]
    },
    {
     "name": "stderr",
     "output_type": "stream",
     "text": [
      "Generating walks (CPU: 1):  70%|███████   | 7/10 [00:03<00:01,  1.81it/s]]\n"
     ]
    },
    {
     "name": "stdout",
     "output_type": "stream",
     "text": [
      "[3.21000000e+00 1.15400003e-01 8.00401000e+06 2.10010000e+05\n",
      " 6.56300000e+03 2.86900000e+03 3.33500000e+03 6.00000000e+01\n",
      " 9.10000000e+01 7.96900000e+03 1.66800000e+03 1.53200000e+03\n",
      " 4.60000000e+01 1.70000000e+01 1.40000000e+01 2.17000000e+02\n",
      " 1.30000000e+01 2.00000000e+00]\n"
     ]
    },
    {
     "name": "stderr",
     "output_type": "stream",
     "text": [
      "\r",
      "Generating walks (CPU: 1):  80%|████████  | 8/10 [00:04<00:01,  1.71it/s]"
     ]
    },
    {
     "name": "stdout",
     "output_type": "stream",
     "text": [
      "Unk percentage: 0.003205128205128205\n",
      "[2.78000000e+00 2.41398594e-02 5.23164000e+05 2.68860000e+04\n",
      " 4.79000000e+02 1.49000000e+02 1.72000000e+02 4.00000000e+00\n",
      " 3.00000000e+00 3.85000000e+02 3.10000000e+01 2.60000000e+01\n",
      " 0.00000000e+00 0.00000000e+00 0.00000000e+00 1.00000000e+00\n",
      " 0.00000000e+00 0.00000000e+00]\n",
      "Unk percentage: 0.00430416068866571\n"
     ]
    },
    {
     "name": "stderr",
     "output_type": "stream",
     "text": [
      "Generating walks (CPU: 1): 100%|██████████| 10/10 [00:05<00:00,  1.80it/s]\n"
     ]
    },
    {
     "name": "stdout",
     "output_type": "stream",
     "text": [
      "[3.73000000e+00 1.08623653e-01 7.58731000e+05 4.10670000e+04\n",
      " 9.85000000e+02 3.83000000e+02 4.13000000e+02 1.50000000e+01\n",
      " 2.50000000e+01 2.36900000e+03 2.07000000e+02 1.90000000e+02\n",
      " 1.60000000e+01 4.00000000e+00 1.00000000e+00 2.90000000e+01\n",
      " 4.00000000e+00 1.00000000e+00]\n",
      "Unk percentage: 0.003487792725460887\n",
      "Unk percentage: 0.0010657193605683837\n",
      "Unk percentage: 0.0008016032064128256\n",
      "Unk percentage: 0.0024813895781637717\n",
      "cluster began\n",
      "cluster end\n"
     ]
    },
    {
     "name": "stderr",
     "output_type": "stream",
     "text": [
      "Computing transition probabilities: 100%|██████████| 296/296 [00:00<00:00, 569.22it/s]\n",
      "Generating walks (CPU: 1):   0%|          | 0/10 [00:00<?, ?it/s]"
     ]
    },
    {
     "name": "stdout",
     "output_type": "stream",
     "text": [
      "cluster began\n",
      "cluster end\n"
     ]
    },
    {
     "name": "stderr",
     "output_type": "stream",
     "text": [
      "Computing transition probabilities: 100%|██████████| 185/185 [00:00<00:00, 1115.18it/s]\n",
      "Generating walks (CPU: 1):   0%|          | 0/10 [00:00<?, ?it/s]"
     ]
    },
    {
     "name": "stdout",
     "output_type": "stream",
     "text": [
      "cluster began\n",
      "cluster end\n"
     ]
    },
    {
     "name": "stderr",
     "output_type": "stream",
     "text": [
      "Computing transition probabilities: 100%|██████████| 175/175 [00:00<00:00, 1063.69it/s]\n",
      "Generating walks (CPU: 1):  50%|█████     | 5/10 [00:02<00:02,  2.06it/s]"
     ]
    },
    {
     "name": "stdout",
     "output_type": "stream",
     "text": [
      "cluster began\n",
      "cluster end\n"
     ]
    },
    {
     "name": "stderr",
     "output_type": "stream",
     "text": [
      "Computing transition probabilities: 100%|██████████| 205/205 [00:00<00:00, 668.82it/s]\n",
      "Generating walks (CPU: 1):  50%|█████     | 5/10 [00:02<00:02,  1.90it/s]]\n",
      "\n",
      "Generating walks (CPU: 1):  80%|████████  | 8/10 [00:07<00:01,  1.04it/s]"
     ]
    },
    {
     "name": "stdout",
     "output_type": "stream",
     "text": [
      "[4.25000000e+00 9.25221157e-02 8.13323000e+05 4.32420000e+04\n",
      " 1.45900000e+03 7.15000000e+02 6.63000000e+02 2.00000000e+01\n",
      " 4.30000000e+01 2.19600000e+03 5.35000000e+02 5.66000000e+02\n",
      " 4.00000000e+00 3.00000000e+00 2.00000000e+00 1.53000000e+02\n",
      " 0.00000000e+00 0.00000000e+00]\n",
      "Unk percentage: 0.006514657980456026\n"
     ]
    },
    {
     "name": "stderr",
     "output_type": "stream",
     "text": [
      "\r",
      "Generating walks (CPU: 1):  70%|███████   | 7/10 [00:04<00:01,  1.55it/s]"
     ]
    },
    {
     "name": "stdout",
     "output_type": "stream",
     "text": [
      "[3.83000000e+00 6.64828081e-02 9.70037000e+05 4.69600000e+04\n",
      " 1.20600000e+03 5.30000000e+02 4.80000000e+02 1.20000000e+01\n",
      " 1.70000000e+01 1.54000000e+03 2.61000000e+02 2.89000000e+02\n",
      " 7.00000000e+00 2.00000000e+00 2.00000000e+00 3.90000000e+01\n",
      " 1.00000000e+00 1.00000000e+00]\n",
      "Unk percentage: 0.0035842293906810036\n"
     ]
    },
    {
     "name": "stderr",
     "output_type": "stream",
     "text": [
      "Generating walks (CPU: 1): 100%|██████████| 10/10 [00:05<00:00,  1.56it/s]\n",
      "\n"
     ]
    },
    {
     "name": "stdout",
     "output_type": "stream",
     "text": [
      "[4.43000000e+00 1.27748681e-01 1.32349000e+06 6.25410000e+04\n",
      " 2.13300000e+03 8.89000000e+02 9.87000000e+02 2.80000000e+01\n",
      " 3.20000000e+01 2.62900000e+03 6.81000000e+02 6.25000000e+02\n",
      " 2.10000000e+01 4.00000000e+00 6.00000000e+00 1.31000000e+02\n",
      " 7.00000000e+00 0.00000000e+00]\n",
      "Unk percentage: 0.0016666666666666668\n",
      "Unk percentage: 0.0005584512285927029\n",
      "Unk percentage: 0.0016175994823681655\n",
      "Unk percentage: 0.000819672131147541\n",
      "[3.60000000e+00 6.20160151e-02 4.09291200e+06 1.33252000e+05\n",
      " 2.60700000e+03 1.21000000e+03 1.20100000e+03 1.60000000e+01\n",
      " 4.00000000e+01 3.37800000e+03 3.11000000e+02 3.40000000e+02\n",
      " 1.50000000e+01 6.00000000e+00 2.00000000e+00 2.20000000e+01\n",
      " 3.00000000e+00 0.00000000e+00]\n",
      "Unk percentage: 0.0018351028968410013\n",
      "Unk percentage: 0.0068560235063663075\n",
      "Unk percentage: 0.0018365472910927456\n",
      "cluster began\n",
      "cluster end\n",
      "cluster began\n",
      "cluster end\n"
     ]
    },
    {
     "name": "stderr",
     "output_type": "stream",
     "text": [
      "Computing transition probabilities: 100%|██████████| 182/182 [00:00<00:00, 1332.66it/s]\n",
      "Computing transition probabilities: 100%|██████████| 168/168 [00:00<00:00, 840.61it/s]\n",
      "Generating walks (CPU: 1):  90%|█████████ | 9/10 [00:04<00:00,  2.03it/s]"
     ]
    },
    {
     "name": "stdout",
     "output_type": "stream",
     "text": [
      "cluster began\n",
      "cluster end\n"
     ]
    },
    {
     "name": "stderr",
     "output_type": "stream",
     "text": [
      "Computing transition probabilities: 100%|██████████| 213/213 [00:00<00:00, 813.76it/s] \n",
      "Generating walks (CPU: 1): 100%|██████████| 10/10 [00:04<00:00,  1.89it/s]"
     ]
    },
    {
     "name": "stdout",
     "output_type": "stream",
     "text": [
      "cluster began\n",
      "cluster end\n"
     ]
    },
    {
     "name": "stderr",
     "output_type": "stream",
     "text": [
      "Computing transition probabilities:  64%|██████▎   | 191/300 [00:00<00:00, 587.24it/s]\n",
      "Computing transition probabilities: 100%|██████████| 300/300 [00:00<00:00, 667.01it/s]\n",
      "Generating walks (CPU: 1):   0%|          | 0/10 [00:00<?, ?it/s]\n",
      "Generating walks (CPU: 1):  30%|███       | 3/10 [00:01<00:03,  1.98it/s]"
     ]
    },
    {
     "name": "stdout",
     "output_type": "stream",
     "text": [
      "[2.85000000e+00 2.52299862e-02 7.22579000e+05 3.80640000e+04\n",
      " 7.84000000e+02 2.95000000e+02 2.86000000e+02 9.00000000e+00\n",
      " 9.00000000e+00 2.58000000e+02 3.50000000e+01 3.30000000e+01\n",
      " 1.00000000e+00 0.00000000e+00 1.00000000e+00 1.00000000e+00\n",
      " 0.00000000e+00 0.00000000e+00]\n",
      "Unk percentage: 0.0035971223021582736\n"
     ]
    },
    {
     "name": "stderr",
     "output_type": "stream",
     "text": [
      "\r",
      "Generating walks (CPU: 1):  20%|██        | 2/10 [00:01<00:05,  1.60it/s]"
     ]
    },
    {
     "name": "stdout",
     "output_type": "stream",
     "text": [
      "[3.15000000e+00 4.63354866e-02 9.23630000e+05 4.56950000e+04\n",
      " 9.83000000e+02 3.78000000e+02 3.72000000e+02 8.00000000e+00\n",
      " 1.30000000e+01 7.15000000e+02 8.30000000e+01 8.10000000e+01\n",
      " 6.00000000e+00 1.00000000e+00 1.00000000e+00 4.00000000e+00\n",
      " 0.00000000e+00 0.00000000e+00]\n",
      "Unk percentage: 0.002103049421661409\n"
     ]
    },
    {
     "name": "stderr",
     "output_type": "stream",
     "text": [
      "Generating walks (CPU: 1): 100%|██████████| 10/10 [00:06<00:00,  1.50it/s]\n",
      "Generating walks (CPU: 1):  70%|███████   | 7/10 [00:06<00:03,  1.05s/it]"
     ]
    },
    {
     "name": "stdout",
     "output_type": "stream",
     "text": [
      "[4.00000000e+00 1.17831554e-01 1.48847000e+06 6.96350000e+04\n",
      " 2.14900000e+03 1.02400000e+03 9.83000000e+02 2.50000000e+01\n",
      " 5.40000000e+01 2.24300000e+03 4.63000000e+02 4.69000000e+02\n",
      " 1.10000000e+01 8.00000000e+00 6.00000000e+00 7.60000000e+01\n",
      " 4.00000000e+00 0.00000000e+00]\n",
      "Unk percentage: 0.001146131805157593\n"
     ]
    },
    {
     "name": "stderr",
     "output_type": "stream",
     "text": [
      "\r",
      "Generating walks (CPU: 1):  80%|████████  | 8/10 [00:07<00:02,  1.11s/it]"
     ]
    },
    {
     "name": "stdout",
     "output_type": "stream",
     "text": [
      "Unk percentage: 0.0021996150673632116\n",
      "Unk percentage: 0.0031045570462357244\n",
      "Unk percentage: 0.006064408197406943\n",
      "cluster began\n",
      "cluster end\n"
     ]
    },
    {
     "name": "stderr",
     "output_type": "stream",
     "text": [
      "\r",
      "Computing transition probabilities:   0%|          | 0/186 [00:00<?, ?it/s]"
     ]
    },
    {
     "name": "stdout",
     "output_type": "stream",
     "text": [
      "Unk percentage: 0.002894356005788712\n"
     ]
    },
    {
     "name": "stderr",
     "output_type": "stream",
     "text": [
      "Computing transition probabilities: 100%|██████████| 186/186 [00:00<00:00, 1034.61it/s]\n",
      "Generating walks (CPU: 1):  20%|██        | 2/10 [00:00<00:02,  3.51it/s]"
     ]
    },
    {
     "name": "stdout",
     "output_type": "stream",
     "text": [
      "cluster began\n",
      "cluster end\n"
     ]
    },
    {
     "name": "stderr",
     "output_type": "stream",
     "text": [
      "Computing transition probabilities: 100%|██████████| 258/258 [00:00<00:00, 678.97it/s]\n",
      "Generating walks (CPU: 1):  40%|████      | 4/10 [00:01<00:02,  2.31it/s]\n",
      "Generating walks (CPU: 1):  60%|██████    | 6/10 [00:03<00:02,  1.86it/s]"
     ]
    },
    {
     "name": "stdout",
     "output_type": "stream",
     "text": [
      "[3.07000000e+00 8.25864598e-02 4.26807000e+06 1.30604000e+05\n",
      " 2.84800000e+03 1.17100000e+03 1.36500000e+03 1.70000000e+01\n",
      " 3.10000000e+01 5.04600000e+03 6.80000000e+02 5.97000000e+02\n",
      " 1.70000000e+01 6.00000000e+00 7.00000000e+00 8.50000000e+01\n",
      " 4.00000000e+00 1.00000000e+00]\n",
      "Unk percentage: 0.001651073197578426\n"
     ]
    },
    {
     "name": "stderr",
     "output_type": "stream",
     "text": [
      "Generating walks (CPU: 1):  40%|████      | 4/10 [00:02<00:04,  1.49it/s]"
     ]
    },
    {
     "name": "stdout",
     "output_type": "stream",
     "text": [
      "Unk percentage: 0.008998875140607425\n"
     ]
    },
    {
     "name": "stderr",
     "output_type": "stream",
     "text": [
      "Generating walks (CPU: 1): 100%|██████████| 10/10 [00:05<00:00,  1.68it/s]\n",
      "Generating walks (CPU: 1):  70%|███████   | 7/10 [00:05<00:02,  1.21it/s]"
     ]
    },
    {
     "name": "stdout",
     "output_type": "stream",
     "text": [
      "[3.31000000e+00 5.17471576e-02 9.89682000e+05 4.56600000e+04\n",
      " 1.08100000e+03 4.35000000e+02 4.28000000e+02 1.00000000e+01\n",
      " 1.10000000e+01 7.50000000e+02 8.10000000e+01 7.60000000e+01\n",
      " 1.00000000e+00 0.00000000e+00 3.00000000e+00 2.00000000e+00\n",
      " 0.00000000e+00 0.00000000e+00]\n",
      "Unk percentage: 0.005338078291814947\n"
     ]
    },
    {
     "name": "stderr",
     "output_type": "stream",
     "text": [
      "\r",
      "Generating walks (CPU: 1):  80%|████████  | 8/10 [00:06<00:01,  1.18it/s]"
     ]
    },
    {
     "name": "stdout",
     "output_type": "stream",
     "text": [
      "cluster began\n",
      "cluster end\n"
     ]
    },
    {
     "name": "stderr",
     "output_type": "stream",
     "text": [
      "Computing transition probabilities: 100%|██████████| 200/200 [00:00<00:00, 734.15it/s]\n",
      "Generating walks (CPU: 1):  40%|████      | 4/10 [00:01<00:02,  2.12it/s]]\n",
      "Generating walks (CPU: 1):  60%|██████    | 6/10 [00:03<00:02,  1.57it/s]"
     ]
    },
    {
     "name": "stdout",
     "output_type": "stream",
     "text": [
      "[3.64000000e+00 3.76983174e-02 2.69308500e+06 9.70320000e+04\n",
      " 2.27500000e+03 9.84000000e+02 9.75000000e+02 2.30000000e+01\n",
      " 1.60000000e+01 1.29600000e+03 2.31000000e+02 2.25000000e+02\n",
      " 1.00000000e+00 0.00000000e+00 2.00000000e+00 1.40000000e+01\n",
      " 1.00000000e+00 0.00000000e+00]\n",
      "Unk percentage: 0.006369426751592357\n"
     ]
    },
    {
     "name": "stderr",
     "output_type": "stream",
     "text": [
      "\r",
      "Generating walks (CPU: 1):  70%|███████   | 7/10 [00:04<00:02,  1.49it/s]"
     ]
    },
    {
     "name": "stdout",
     "output_type": "stream",
     "text": [
      "cluster began\n",
      "cluster end\n"
     ]
    },
    {
     "name": "stderr",
     "output_type": "stream",
     "text": [
      "Computing transition probabilities: 100%|██████████| 250/250 [00:00<00:00, 937.93it/s] \n",
      "Generating walks (CPU: 1):  30%|███       | 3/10 [00:01<00:03,  1.95it/s]]\n"
     ]
    },
    {
     "name": "stdout",
     "output_type": "stream",
     "text": [
      "cluster began\n",
      "cluster end\n"
     ]
    },
    {
     "name": "stderr",
     "output_type": "stream",
     "text": [
      "Computing transition probabilities: 100%|██████████| 160/160 [00:00<00:00, 1283.04it/s]\n",
      "Generating walks (CPU: 1):  20%|██        | 2/10 [00:00<00:02,  3.00it/s]"
     ]
    },
    {
     "name": "stdout",
     "output_type": "stream",
     "text": [
      "[2.65000000e+00 9.95821123e-02 1.23656000e+06 5.36050000e+04\n",
      " 1.19200000e+03 4.60000000e+02 4.92000000e+02 9.00000000e+00\n",
      " 1.50000000e+01 1.02700000e+03 1.57000000e+02 1.52000000e+02\n",
      " 1.50000000e+01 2.00000000e+00 1.00000000e+00 9.00000000e+00\n",
      " 2.00000000e+00 1.00000000e+00]\n"
     ]
    },
    {
     "name": "stderr",
     "output_type": "stream",
     "text": [
      "\r",
      "Generating walks (CPU: 1):  50%|█████     | 5/10 [00:03<00:03,  1.40it/s]"
     ]
    },
    {
     "name": "stdout",
     "output_type": "stream",
     "text": [
      "Unk percentage: 0.0053136944159597275\n"
     ]
    },
    {
     "name": "stderr",
     "output_type": "stream",
     "text": [
      "\r",
      "Generating walks (CPU: 1):  30%|███       | 3/10 [00:01<00:03,  2.29it/s]"
     ]
    },
    {
     "name": "stdout",
     "output_type": "stream",
     "text": [
      "Unk percentage: 0.002772002772002772\n"
     ]
    },
    {
     "name": "stderr",
     "output_type": "stream",
     "text": [
      "Generating walks (CPU: 1):  90%|█████████ | 9/10 [00:04<00:00,  2.04it/s]"
     ]
    },
    {
     "name": "stdout",
     "output_type": "stream",
     "text": [
      "cluster began\n",
      "cluster end\n"
     ]
    },
    {
     "name": "stderr",
     "output_type": "stream",
     "text": [
      "Computing transition probabilities: 100%|██████████| 158/158 [00:00<00:00, 1633.88it/s]\n",
      "Generating walks (CPU: 1):  20%|██        | 2/10 [00:00<00:01,  4.40it/s]]\n",
      "Generating walks (CPU: 1):  30%|███       | 3/10 [00:00<00:02,  3.32it/s]\n",
      "Generating walks (CPU: 1):  40%|████      | 4/10 [00:01<00:02,  2.58it/s]"
     ]
    },
    {
     "name": "stdout",
     "output_type": "stream",
     "text": [
      "[2.98000000e+00 6.43251063e-02 6.19935000e+05 3.47480000e+04\n",
      " 9.57000000e+02 3.66000000e+02 3.95000000e+02 1.00000000e+01\n",
      " 1.20000000e+01 7.22000000e+02 1.08000000e+02 9.40000000e+01\n",
      " 3.00000000e+00 0.00000000e+00 3.00000000e+00 5.00000000e+00\n",
      " 1.00000000e+00 0.00000000e+00]\n",
      "Unk percentage: 0.002080856123662307\n",
      "Unk percentage: 0.002933780385582565\n",
      "Unk percentage: 0.0028685018368476674\n"
     ]
    },
    {
     "name": "stderr",
     "output_type": "stream",
     "text": [
      "Generating walks (CPU: 1):  60%|██████    | 6/10 [00:02<00:01,  2.06it/s]"
     ]
    },
    {
     "name": "stdout",
     "output_type": "stream",
     "text": [
      "Unk percentage: 0.003061849357011635\n",
      "[4.25000000e+00 6.66455024e-02 2.44238600e+06 9.15420000e+04\n",
      " 1.80700000e+03 7.53000000e+02 7.51000000e+02 1.20000000e+01\n",
      " 2.80000000e+01 3.76500000e+03 4.96000000e+02 4.69000000e+02\n",
      " 1.40000000e+01 2.00000000e+00 5.00000000e+00 9.00000000e+01\n",
      " 3.00000000e+00 1.00000000e+00]\n",
      "Unk percentage: 0.002364394993045897\n",
      "Unk percentage: 0.008021390374331552\n",
      "Unk percentage: 0.0009057971014492754\n"
     ]
    },
    {
     "name": "stderr",
     "output_type": "stream",
     "text": [
      "\r",
      "Generating walks (CPU: 1):  70%|███████   | 7/10 [00:03<00:01,  2.08it/s]"
     ]
    },
    {
     "name": "stdout",
     "output_type": "stream",
     "text": [
      "Unk percentage: 0.0035236081747709656\n"
     ]
    },
    {
     "name": "stderr",
     "output_type": "stream",
     "text": [
      "Generating walks (CPU: 1): 100%|██████████| 10/10 [00:04<00:00,  2.17it/s]"
     ]
    },
    {
     "name": "stdout",
     "output_type": "stream",
     "text": [
      "cluster began\n",
      "cluster end\n"
     ]
    },
    {
     "name": "stderr",
     "output_type": "stream",
     "text": [
      "\n",
      "Computing transition probabilities: 100%|██████████| 379/379 [00:00<00:00, 579.88it/s]\n",
      "Generating walks (CPU: 1):   0%|          | 0/10 [00:00<?, ?it/s]"
     ]
    },
    {
     "name": "stdout",
     "output_type": "stream",
     "text": [
      "[3.05000000e+00 4.88028856e-02 5.99284000e+05 3.16450000e+04\n",
      " 7.43000000e+02 3.07000000e+02 2.50000000e+02 8.00000000e+00\n",
      " 1.10000000e+01 3.57000000e+02 4.40000000e+01 5.30000000e+01\n",
      " 4.00000000e+00 1.00000000e+00 0.00000000e+00 2.00000000e+00\n",
      " 1.00000000e+00 0.00000000e+00]\n",
      "Unk percentage: 0.009615384615384616\n"
     ]
    },
    {
     "name": "stderr",
     "output_type": "stream",
     "text": [
      "Generating walks (CPU: 1):  40%|████      | 4/10 [00:04<00:06,  1.01s/it]"
     ]
    },
    {
     "name": "stdout",
     "output_type": "stream",
     "text": [
      "cluster began\n",
      "cluster end\n"
     ]
    },
    {
     "name": "stderr",
     "output_type": "stream",
     "text": [
      "Computing transition probabilities: 100%|██████████| 133/133 [00:00<00:00, 1160.53it/s]\n",
      "Generating walks (CPU: 1):  40%|████      | 4/10 [00:01<00:01,  3.34it/s]"
     ]
    },
    {
     "name": "stdout",
     "output_type": "stream",
     "text": [
      "cluster began\n",
      "cluster end\n"
     ]
    },
    {
     "name": "stderr",
     "output_type": "stream",
     "text": [
      "Computing transition probabilities: 100%|██████████| 332/332 [00:00<00:00, 701.27it/s]\n",
      "Generating walks (CPU: 1):  20%|██        | 2/10 [00:01<00:04,  1.82it/s]"
     ]
    },
    {
     "name": "stdout",
     "output_type": "stream",
     "text": [
      "cluster began\n",
      "cluster end\n"
     ]
    },
    {
     "name": "stderr",
     "output_type": "stream",
     "text": [
      "Computing transition probabilities: 100%|██████████| 103/103 [00:00<00:00, 1885.34it/s]\n",
      "Generating walks (CPU: 1):  20%|██        | 2/10 [00:00<00:01,  6.84it/s]]\n",
      "Generating walks (CPU: 1):  50%|█████     | 5/10 [00:01<00:01,  4.02it/s]"
     ]
    },
    {
     "name": "stdout",
     "output_type": "stream",
     "text": [
      "[2.61000000e+00 4.12918871e-02 3.52126000e+05 2.10340000e+04\n",
      " 5.04000000e+02 1.63000000e+02 1.78000000e+02 3.00000000e+00\n",
      " 8.00000000e+00 5.17000000e+02 6.00000000e+01 5.90000000e+01\n",
      " 1.00000000e+00 1.00000000e+00 0.00000000e+00 6.00000000e+00\n",
      " 0.00000000e+00 0.00000000e+00]\n",
      "Unk percentage: 0.002336448598130841\n"
     ]
    },
    {
     "name": "stderr",
     "output_type": "stream",
     "text": [
      "Generating walks (CPU: 1): 100%|██████████| 10/10 [00:02<00:00,  3.61it/s]\n",
      "Generating walks (CPU: 1):  50%|█████     | 5/10 [00:04<00:04,  1.07it/s]"
     ]
    },
    {
     "name": "stdout",
     "output_type": "stream",
     "text": [
      "[2.82000000e+00 5.71652824e-02 1.57912000e+05 1.27080000e+04\n",
      " 3.37000000e+02 1.20000000e+02 1.25000000e+02 4.00000000e+00\n",
      " 4.00000000e+00 3.77000000e+02 5.10000000e+01 5.10000000e+01\n",
      " 1.00000000e+00 0.00000000e+00 0.00000000e+00 1.00000000e+01\n",
      " 0.00000000e+00 0.00000000e+00]\n",
      "Unk percentage: 0.002243409983174425\n",
      "Unk percentage: 0.0026936026936026937\n"
     ]
    },
    {
     "name": "stderr",
     "output_type": "stream",
     "text": [
      "Generating walks (CPU: 1):  70%|███████   | 7/10 [00:06<00:03,  1.01s/it]]\n",
      "Generating walks (CPU: 1):  90%|█████████ | 9/10 [00:09<00:01,  1.13s/it]"
     ]
    },
    {
     "name": "stdout",
     "output_type": "stream",
     "text": [
      "[4.09000000e+00 6.95269905e-02 8.70405300e+06 2.07146000e+05\n",
      " 4.73700000e+03 2.03200000e+03 2.33600000e+03 3.50000000e+01\n",
      " 5.10000000e+01 7.63400000e+03 1.14800000e+03 9.93000000e+02\n",
      " 2.60000000e+01 8.00000000e+00 1.10000000e+01 1.55000000e+02\n",
      " 1.10000000e+01 0.00000000e+00]\n",
      "Unk percentage: 0.002457002457002457\n",
      "Unk percentage: 0.0030257186081694403\n",
      "Unk percentage: 0.0040650406504065045\n"
     ]
    },
    {
     "name": "stderr",
     "output_type": "stream",
     "text": [
      "\r",
      "Generating walks (CPU: 1): 100%|██████████| 10/10 [00:10<00:00,  1.18s/it]"
     ]
    },
    {
     "name": "stdout",
     "output_type": "stream",
     "text": [
      "cluster began\n",
      "cluster end\n"
     ]
    },
    {
     "name": "stderr",
     "output_type": "stream",
     "text": [
      "Computing transition probabilities: 100%|██████████| 329/329 [00:00<00:00, 715.83it/s]\n",
      "Generating walks (CPU: 1):   0%|          | 0/10 [00:00<?, ?it/s]\n",
      "Generating walks (CPU: 1):  20%|██        | 2/10 [00:01<00:05,  1.59it/s]"
     ]
    },
    {
     "name": "stdout",
     "output_type": "stream",
     "text": [
      "[4.11000000e+00 8.62885429e-02 5.79833900e+06 1.76433000e+05\n",
      " 3.68100000e+03 1.70100000e+03 1.72500000e+03 3.40000000e+01\n",
      " 5.30000000e+01 5.90300000e+03 7.41000000e+02 6.92000000e+02\n",
      " 3.40000000e+01 9.00000000e+00 1.50000000e+01 7.40000000e+01\n",
      " 8.00000000e+00 3.00000000e+00]\n",
      "Unk percentage: 0.0019286403085824494\n"
     ]
    },
    {
     "name": "stderr",
     "output_type": "stream",
     "text": [
      "\r",
      "Generating walks (CPU: 1):  30%|███       | 3/10 [00:02<00:05,  1.21it/s]"
     ]
    },
    {
     "name": "stdout",
     "output_type": "stream",
     "text": [
      "cluster began\n",
      "cluster end\n"
     ]
    },
    {
     "name": "stderr",
     "output_type": "stream",
     "text": [
      "Computing transition probabilities: 100%|██████████| 393/393 [00:00<00:00, 569.18it/s]\n",
      "Generating walks (CPU: 1):  70%|███████   | 7/10 [00:06<00:03,  1.02s/it]"
     ]
    },
    {
     "name": "stdout",
     "output_type": "stream",
     "text": [
      "cluster began\n",
      "cluster end\n"
     ]
    },
    {
     "name": "stderr",
     "output_type": "stream",
     "text": [
      "Computing transition probabilities: 100%|██████████| 244/244 [00:00<00:00, 834.30it/s]\n",
      "Generating walks (CPU: 1):  60%|██████    | 6/10 [00:06<00:04,  1.19s/it]]"
     ]
    },
    {
     "name": "stdout",
     "output_type": "stream",
     "text": [
      "cluster began\n",
      "cluster end\n"
     ]
    },
    {
     "name": "stderr",
     "output_type": "stream",
     "text": [
      "Computing transition probabilities: 100%|██████████| 241/241 [00:00<00:00, 1084.59it/s]\n",
      "Generating walks (CPU: 1):  60%|██████    | 6/10 [00:03<00:02,  1.44it/s]\n",
      "Generating walks (CPU: 1):  40%|████      | 4/10 [00:02<00:03,  1.56it/s]"
     ]
    },
    {
     "name": "stdout",
     "output_type": "stream",
     "text": [
      "[3.91000000e+00 8.20675166e-02 5.65141100e+06 1.63849000e+05\n",
      " 3.39100000e+03 1.57500000e+03 1.46500000e+03 2.50000000e+01\n",
      " 3.50000000e+01 4.71900000e+03 5.16000000e+02 5.10000000e+02\n",
      " 2.40000000e+01 5.00000000e+00 9.00000000e+00 3.80000000e+01\n",
      " 3.00000000e+00 1.00000000e+00]\n",
      "Unk percentage: 0.004220803053659253\n"
     ]
    },
    {
     "name": "stderr",
     "output_type": "stream",
     "text": [
      "Generating walks (CPU: 1):  50%|█████     | 5/10 [00:03<00:03,  1.45it/s]"
     ]
    },
    {
     "name": "stdout",
     "output_type": "stream",
     "text": [
      "Unk percentage: 0.001984914648670107\n"
     ]
    },
    {
     "name": "stderr",
     "output_type": "stream",
     "text": [
      "Generating walks (CPU: 1):  90%|█████████ | 9/10 [00:11<00:01,  1.36s/it]]"
     ]
    },
    {
     "name": "stdout",
     "output_type": "stream",
     "text": [
      "Unk percentage: 0.005338672005338672\n"
     ]
    },
    {
     "name": "stderr",
     "output_type": "stream",
     "text": [
      "Generating walks (CPU: 1):  60%|██████    | 6/10 [00:04<00:02,  1.36it/s]\n"
     ]
    },
    {
     "name": "stdout",
     "output_type": "stream",
     "text": [
      "Unk percentage: 0.007587253414264037\n"
     ]
    },
    {
     "name": "stderr",
     "output_type": "stream",
     "text": [
      "\r",
      "Generating walks (CPU: 1):  70%|███████   | 7/10 [00:04<00:02,  1.35it/s]"
     ]
    },
    {
     "name": "stdout",
     "output_type": "stream",
     "text": [
      "Unk percentage: 0.0013710368466152527\n"
     ]
    },
    {
     "name": "stderr",
     "output_type": "stream",
     "text": [
      "\r",
      "Generating walks (CPU: 1): 100%|██████████| 10/10 [00:12<00:00,  1.39s/it]"
     ]
    },
    {
     "name": "stdout",
     "output_type": "stream",
     "text": [
      "Unk percentage: 0.0031876138433515485\n",
      "Unk percentage: 0.0028140477262494374\n",
      "[2.67000000e+00 3.39303161e-02 2.27815600e+06 7.72140000e+04\n",
      " 1.70500000e+03 7.56000000e+02 6.55000000e+02 1.10000000e+01\n",
      " 7.00000000e+00 2.61300000e+03 4.00000000e+02 4.42000000e+02\n",
      " 2.00000000e+00 0.00000000e+00 2.00000000e+00 7.80000000e+01\n",
      " 0.00000000e+00 0.00000000e+00]\n",
      "Unk percentage: 0.0015420200462606013\n",
      "Unk percentage: 0.0033599328013439733\n"
     ]
    },
    {
     "name": "stderr",
     "output_type": "stream",
     "text": [
      "\r",
      "Generating walks (CPU: 1):  80%|████████  | 8/10 [00:05<00:01,  1.23it/s]"
     ]
    },
    {
     "name": "stdout",
     "output_type": "stream",
     "text": [
      "Unk percentage: 0.011267605633802818\n",
      "Unk percentage: 0.002661698163428267\n"
     ]
    },
    {
     "name": "stderr",
     "output_type": "stream",
     "text": [
      "\r",
      "Generating walks (CPU: 1):  90%|█████████ | 9/10 [00:06<00:00,  1.27it/s]"
     ]
    },
    {
     "name": "stdout",
     "output_type": "stream",
     "text": [
      "Unk percentage: 0.004429721505334925\n"
     ]
    },
    {
     "name": "stderr",
     "output_type": "stream",
     "text": [
      "\n",
      "Generating walks (CPU: 1): 100%|██████████| 10/10 [00:07<00:00,  1.23it/s]"
     ]
    },
    {
     "name": "stdout",
     "output_type": "stream",
     "text": [
      "Unk percentage: 0.0029128388976025093\n",
      "Unk percentage: 0.002183406113537118\n"
     ]
    },
    {
     "name": "stderr",
     "output_type": "stream",
     "text": [
      "\n"
     ]
    },
    {
     "name": "stdout",
     "output_type": "stream",
     "text": [
      "[5.0600000e+00 5.5693664e-02 9.7135350e+06 2.3149300e+05 4.1570000e+03\n",
      " 1.7890000e+03 2.0450000e+03 2.0000000e+01 3.7000000e+01 7.5540000e+03\n",
      " 1.0470000e+03 8.1700000e+02 2.3000000e+01 5.0000000e+00 1.3000000e+01\n",
      " 1.3600000e+02 8.0000000e+00 1.0000000e+00]\n",
      "Unk percentage: 0.003636853448275862\n",
      "Unk percentage: 0.0025996533795493936\n",
      "[3.31000000e+00 7.86622628e-02 2.17814600e+06 8.90080000e+04\n",
      " 2.22300000e+03 8.76000000e+02 1.19100000e+03 2.20000000e+01\n",
      " 3.80000000e+01 3.03200000e+03 3.74000000e+02 2.95000000e+02\n",
      " 2.90000000e+01 5.00000000e+00 1.10000000e+01 2.30000000e+01\n",
      " 5.00000000e+00 2.00000000e+00]\n",
      "Unk percentage: 0.0012336975678533663\n",
      "Unk percentage: 0.0017641870038224052\n",
      "Unk percentage: 0.001568627450980392\n",
      "cluster began\n",
      "cluster end\n"
     ]
    },
    {
     "name": "stderr",
     "output_type": "stream",
     "text": [
      "Computing transition probabilities: 100%|██████████| 108/108 [00:00<00:00, 1284.39it/s]\n",
      "Generating walks (CPU: 1):  60%|██████    | 6/10 [00:01<00:01,  3.86it/s]"
     ]
    },
    {
     "name": "stdout",
     "output_type": "stream",
     "text": [
      "cluster began\n",
      "cluster end\n"
     ]
    },
    {
     "name": "stderr",
     "output_type": "stream",
     "text": [
      "Computing transition probabilities: 100%|██████████| 241/241 [00:00<00:00, 1070.82it/s]\n",
      "Generating walks (CPU: 1): 100%|██████████| 10/10 [00:02<00:00,  3.24it/s]\n",
      "Generating walks (CPU: 1):  30%|███       | 3/10 [00:01<00:03,  2.08it/s]"
     ]
    },
    {
     "name": "stdout",
     "output_type": "stream",
     "text": [
      "[3.08000000e+00 1.12662245e-01 1.84218000e+05 1.20270000e+04\n",
      " 4.68000000e+02 1.87000000e+02 1.94000000e+02 8.00000000e+00\n",
      " 4.00000000e+00 7.75000000e+02 2.52000000e+02 2.56000000e+02\n",
      " 3.00000000e+00 2.00000000e+00 0.00000000e+00 9.00000000e+01\n",
      " 1.00000000e+00 0.00000000e+00]\n",
      "Unk percentage: 0.00199203187250996\n",
      "Unk percentage: 0.0017857142857142857\n",
      "Unk percentage: 0.006069035276267543\n",
      "cluster began\n",
      "cluster end\n"
     ]
    },
    {
     "name": "stderr",
     "output_type": "stream",
     "text": [
      "Computing transition probabilities:  43%|████▎     | 131/308 [00:00<00:00, 673.21it/s]"
     ]
    },
    {
     "name": "stdout",
     "output_type": "stream",
     "text": [
      "Unk percentage: 0.009433962264150943\n"
     ]
    },
    {
     "name": "stderr",
     "output_type": "stream",
     "text": [
      "Computing transition probabilities: 100%|██████████| 308/308 [00:00<00:00, 747.42it/s]\n",
      "Generating walks (CPU: 1):   0%|          | 0/10 [00:00<?, ?it/s]"
     ]
    },
    {
     "name": "stdout",
     "output_type": "stream",
     "text": [
      "cluster began\n",
      "cluster end\n"
     ]
    },
    {
     "name": "stderr",
     "output_type": "stream",
     "text": [
      "Computing transition probabilities: 100%|██████████| 343/343 [00:00<00:00, 599.64it/s]\n",
      "Generating walks (CPU: 1):  40%|████      | 4/10 [00:03<00:05,  1.17it/s]]\n",
      "Generating walks (CPU: 1):  50%|█████     | 5/10 [00:04<00:04,  1.06it/s]"
     ]
    },
    {
     "name": "stdout",
     "output_type": "stream",
     "text": [
      "[3.10000000e+00 7.58415033e-02 2.18822500e+06 7.91370000e+04\n",
      " 1.60700000e+03 7.12000000e+02 6.32000000e+02 1.10000000e+01\n",
      " 1.80000000e+01 4.10700000e+03 3.65000000e+02 3.89000000e+02\n",
      " 1.20000000e+01 2.00000000e+00 3.00000000e+00 5.60000000e+01\n",
      " 4.00000000e+00 0.00000000e+00]\n",
      "Unk percentage: 0.0037174721189591076\n"
     ]
    },
    {
     "name": "stderr",
     "output_type": "stream",
     "text": [
      "\r",
      "Generating walks (CPU: 1):  70%|███████   | 7/10 [00:06<00:03,  1.01s/it]"
     ]
    },
    {
     "name": "stdout",
     "output_type": "stream",
     "text": [
      "Unk percentage: 0.013358222014816543\n"
     ]
    },
    {
     "name": "stderr",
     "output_type": "stream",
     "text": [
      "\r",
      "Generating walks (CPU: 1):  60%|██████    | 6/10 [00:05<00:04,  1.05s/it]"
     ]
    },
    {
     "name": "stdout",
     "output_type": "stream",
     "text": [
      "Unk percentage: 0.0069096245566833804\n"
     ]
    },
    {
     "name": "stderr",
     "output_type": "stream",
     "text": [
      "\r",
      "Generating walks (CPU: 1):  80%|████████  | 8/10 [00:07<00:02,  1.01s/it]"
     ]
    },
    {
     "name": "stdout",
     "output_type": "stream",
     "text": [
      "Unk percentage: 0.007103825136612022\n",
      "Unk percentage: 0.00529567519858782\n",
      "Unk percentage: 0.0030837004405286344\n",
      "Unk percentage: 0.00351000351000351\n",
      "cluster began\n",
      "cluster end\n"
     ]
    },
    {
     "name": "stderr",
     "output_type": "stream",
     "text": [
      "Computing transition probabilities: 100%|██████████| 131/131 [00:00<00:00, 1946.04it/s]\n",
      "Generating walks (CPU: 1):   0%|          | 0/10 [00:00<?, ?it/s]"
     ]
    },
    {
     "name": "stdout",
     "output_type": "stream",
     "text": [
      "Unk percentage: 0.003403356413566483\n"
     ]
    },
    {
     "name": "stderr",
     "output_type": "stream",
     "text": [
      "Generating walks (CPU: 1):  20%|██        | 2/10 [00:00<00:01,  5.34it/s]"
     ]
    },
    {
     "name": "stdout",
     "output_type": "stream",
     "text": [
      "Unk percentage: 0.0032674653804263265\n"
     ]
    },
    {
     "name": "stderr",
     "output_type": "stream",
     "text": [
      "Generating walks (CPU: 1):  40%|████      | 4/10 [00:01<00:01,  3.51it/s]"
     ]
    },
    {
     "name": "stdout",
     "output_type": "stream",
     "text": [
      "Unk percentage: 0.004822182037371911\n",
      "Unk percentage: 0.005219985085756898\n"
     ]
    },
    {
     "name": "stderr",
     "output_type": "stream",
     "text": [
      "Generating walks (CPU: 1):  70%|███████   | 7/10 [00:02<00:01,  2.81it/s]]\n",
      "Generating walks (CPU: 1): 100%|██████████| 10/10 [00:10<00:00,  1.21s/it]\n"
     ]
    },
    {
     "name": "stdout",
     "output_type": "stream",
     "text": [
      "[2.47000000e+00 7.81904762e-02 4.63596000e+06 1.22218000e+05\n",
      " 3.02500000e+03 1.61000000e+03 1.17600000e+03 3.60000000e+01\n",
      " 3.00000000e+01 7.57300000e+03 1.42200000e+03 1.75100000e+03\n",
      " 1.40000000e+01 1.00000000e+00 4.00000000e+00 5.64000000e+02\n",
      " 1.00000000e+00 0.00000000e+00]\n",
      "Unk percentage: 0.008771929824561403\n",
      "[2.92000000e+00 4.08214286e-02 3.33637000e+05 2.22420000e+04\n",
      " 6.75000000e+02 2.81000000e+02 2.81000000e+02 4.00000000e+00\n",
      " 1.00000000e+01 4.19000000e+02 9.70000000e+01 1.03000000e+02\n",
      " 0.00000000e+00 1.00000000e+00 0.00000000e+00 1.00000000e+01\n",
      " 0.00000000e+00 0.00000000e+00]\n",
      "Unk percentage: 0.01416791604197901\n"
     ]
    },
    {
     "name": "stderr",
     "output_type": "stream",
     "text": [
      "\n"
     ]
    },
    {
     "name": "stdout",
     "output_type": "stream",
     "text": [
      "Unk percentage: 0.006144393241167435\n",
      "[2.77000000e+00 9.98153639e-02 6.42239900e+06 1.74101000e+05\n",
      " 3.52300000e+03 1.57400000e+03 1.51500000e+03 2.80000000e+01\n",
      " 5.70000000e+01 4.24300000e+03 5.22000000e+02 5.26000000e+02\n",
      " 2.10000000e+01 5.00000000e+00 9.00000000e+00 5.50000000e+01\n",
      " 2.00000000e+00 0.00000000e+00]\n",
      "Unk percentage: 0.0015625\n",
      "cluster began\n",
      "cluster end\n"
     ]
    },
    {
     "name": "stderr",
     "output_type": "stream",
     "text": [
      "Computing transition probabilities: 100%|██████████| 394/394 [00:00<00:00, 682.03it/s]\n",
      "Generating walks (CPU: 1):  20%|██        | 2/10 [00:01<00:05,  1.50it/s]"
     ]
    },
    {
     "name": "stdout",
     "output_type": "stream",
     "text": [
      "cluster began\n",
      "cluster end\n"
     ]
    },
    {
     "name": "stderr",
     "output_type": "stream",
     "text": [
      "Computing transition probabilities: 100%|██████████| 119/119 [00:00<00:00, 558.35it/s]\n",
      "Generating walks (CPU: 1):  30%|███       | 3/10 [00:00<00:01,  4.54it/s]"
     ]
    },
    {
     "name": "stdout",
     "output_type": "stream",
     "text": [
      "cluster began\n",
      "cluster end\n"
     ]
    },
    {
     "name": "stderr",
     "output_type": "stream",
     "text": [
      "Computing transition probabilities: 100%|██████████| 193/193 [00:00<00:00, 1178.52it/s]\n",
      "Generating walks (CPU: 1):  50%|█████     | 5/10 [00:02<00:02,  2.09it/s]]\n"
     ]
    },
    {
     "name": "stdout",
     "output_type": "stream",
     "text": [
      "cluster began\n",
      "cluster end\n"
     ]
    },
    {
     "name": "stderr",
     "output_type": "stream",
     "text": [
      "Computing transition probabilities:  23%|██▎       | 81/359 [00:00<00:00, 797.77it/s]"
     ]
    },
    {
     "name": "stdout",
     "output_type": "stream",
     "text": [
      "[2.79000000e+00 4.81670665e-02 2.49215000e+05 1.64500000e+04\n",
      " 3.92000000e+02 1.27000000e+02 1.41000000e+02 4.00000000e+00\n",
      " 8.00000000e+00 5.20000000e+02 2.90000000e+01 2.90000000e+01\n",
      " 0.00000000e+00 0.00000000e+00 0.00000000e+00 1.00000000e+00\n",
      " 0.00000000e+00 0.00000000e+00]\n",
      "Unk percentage: 0.004213938411669368\n"
     ]
    },
    {
     "name": "stderr",
     "output_type": "stream",
     "text": [
      "Computing transition probabilities:  63%|██████▎   | 226/359 [00:00<00:00, 758.05it/s]"
     ]
    },
    {
     "name": "stdout",
     "output_type": "stream",
     "text": [
      "Unk percentage: 0.0014577259475218659\n"
     ]
    },
    {
     "name": "stderr",
     "output_type": "stream",
     "text": [
      "Computing transition probabilities:  99%|█████████▊| 354/359 [00:00<00:00, 683.44it/s]"
     ]
    },
    {
     "name": "stdout",
     "output_type": "stream",
     "text": [
      "Unk percentage: 0.0015748031496062992\n"
     ]
    },
    {
     "name": "stderr",
     "output_type": "stream",
     "text": [
      "Computing transition probabilities: 100%|██████████| 359/359 [00:00<00:00, 691.45it/s]\n",
      "Generating walks (CPU: 1):  70%|███████   | 7/10 [00:03<00:01,  1.75it/s]"
     ]
    },
    {
     "name": "stdout",
     "output_type": "stream",
     "text": [
      "Unk percentage: 0.0007386615452799527\n",
      "Unk percentage: 0.004566758803028482\n",
      "Unk percentage: 0.003977272727272727\n"
     ]
    },
    {
     "name": "stderr",
     "output_type": "stream",
     "text": [
      "\r",
      "Generating walks (CPU: 1):  80%|████████  | 8/10 [00:04<00:01,  1.75it/s]"
     ]
    },
    {
     "name": "stdout",
     "output_type": "stream",
     "text": [
      "Unk percentage: 0.001557632398753894\n",
      "Unk percentage: 0.00644122383252818\n"
     ]
    },
    {
     "name": "stderr",
     "output_type": "stream",
     "text": [
      "\r",
      "Generating walks (CPU: 1):  60%|██████    | 6/10 [00:07<00:05,  1.27s/it]"
     ]
    },
    {
     "name": "stdout",
     "output_type": "stream",
     "text": [
      "Unk percentage: 0.0016933207902163688\n"
     ]
    },
    {
     "name": "stderr",
     "output_type": "stream",
     "text": [
      "Generating walks (CPU: 1):  90%|█████████ | 9/10 [00:04<00:00,  1.76it/s]"
     ]
    },
    {
     "name": "stdout",
     "output_type": "stream",
     "text": [
      "Unk percentage: 0.008059516429014259\n",
      "Unk percentage: 0.0008726003490401396\n",
      "Unk percentage: 0.0017053206002728514\n"
     ]
    },
    {
     "name": "stderr",
     "output_type": "stream",
     "text": [
      "\r",
      "Generating walks (CPU: 1): 100%|██████████| 10/10 [00:05<00:00,  1.77it/s]"
     ]
    },
    {
     "name": "stdout",
     "output_type": "stream",
     "text": [
      "Unk percentage: 0.015151515151515152\n"
     ]
    },
    {
     "name": "stderr",
     "output_type": "stream",
     "text": [
      "Generating walks (CPU: 1):  70%|███████   | 7/10 [00:08<00:03,  1.33s/it]\n",
      "Generating walks (CPU: 1):  30%|███       | 3/10 [00:02<00:05,  1.27it/s]"
     ]
    },
    {
     "name": "stdout",
     "output_type": "stream",
     "text": [
      "[3.5400000e+00 3.9358226e-02 1.1077680e+06 5.0206000e+04 1.0100000e+03\n",
      " 3.9400000e+02 3.9000000e+02 8.0000000e+00 6.0000000e+00 1.1660000e+03\n",
      " 1.5900000e+02 1.4700000e+02 2.0000000e+00 2.0000000e+00 0.0000000e+00\n",
      " 2.2000000e+01 0.0000000e+00 0.0000000e+00]\n",
      "Unk percentage: 0.007748600947051227\n",
      "Unk percentage: 0.010977210356759337\n"
     ]
    },
    {
     "name": "stderr",
     "output_type": "stream",
     "text": [
      "\r",
      "Generating walks (CPU: 1):  40%|████      | 4/10 [00:03<00:05,  1.03it/s]"
     ]
    },
    {
     "name": "stdout",
     "output_type": "stream",
     "text": [
      "Unk percentage: 0.00468384074941452\n"
     ]
    },
    {
     "name": "stderr",
     "output_type": "stream",
     "text": [
      "Generating walks (CPU: 1):  70%|███████   | 7/10 [00:07<00:03,  1.23s/it]]\n",
      "Generating walks (CPU: 1):  90%|█████████ | 9/10 [00:10<00:01,  1.36s/it]"
     ]
    },
    {
     "name": "stdout",
     "output_type": "stream",
     "text": [
      "[3.9600000e+00 7.2079906e-02 9.7887730e+06 2.3597500e+05 4.4110000e+03\n",
      " 1.8390000e+03 2.0570000e+03 2.5000000e+01 4.5000000e+01 4.8110000e+03\n",
      " 6.7800000e+02 6.0700000e+02 1.8000000e+01 8.0000000e+00 5.0000000e+00\n",
      " 5.9000000e+01 4.0000000e+00 1.0000000e+00]\n",
      "Unk percentage: 0.0113314447592068\n",
      "cluster began\n",
      "cluster end\n"
     ]
    },
    {
     "name": "stderr",
     "output_type": "stream",
     "text": [
      "Computing transition probabilities: 100%|██████████| 133/133 [00:00<00:00, 1545.77it/s]\n",
      "Generating walks (CPU: 1):  40%|████      | 4/10 [00:01<00:01,  3.27it/s]]\n"
     ]
    },
    {
     "name": "stdout",
     "output_type": "stream",
     "text": [
      "cluster began\n",
      "cluster end\n"
     ]
    },
    {
     "name": "stderr",
     "output_type": "stream",
     "text": [
      "Computing transition probabilities: 100%|██████████| 172/172 [00:00<00:00, 1309.10it/s]\n",
      "Generating walks (CPU: 1):  40%|████      | 4/10 [00:01<00:02,  2.14it/s]"
     ]
    },
    {
     "name": "stdout",
     "output_type": "stream",
     "text": [
      "[2.78000000e+00 1.09933157e-01 7.37539800e+06 1.90722000e+05\n",
      " 4.91800000e+03 2.13900000e+03 2.50000000e+03 3.00000000e+01\n",
      " 5.20000000e+01 5.60800000e+03 9.10000000e+02 7.77000000e+02\n",
      " 1.60000000e+01 2.00000000e+00 6.00000000e+00 7.40000000e+01\n",
      " 3.00000000e+00 1.00000000e+00]\n",
      "Unk percentage: 0.004507888805409466\n",
      "Unk percentage: 0.002551020408163265\n"
     ]
    },
    {
     "name": "stderr",
     "output_type": "stream",
     "text": [
      "Generating walks (CPU: 1):  50%|█████     | 5/10 [00:02<00:02,  1.98it/s]]\n",
      "Generating walks (CPU: 1):  60%|██████    | 6/10 [00:03<00:02,  1.84it/s]"
     ]
    },
    {
     "name": "stdout",
     "output_type": "stream",
     "text": [
      "[2.3800000e+00 1.7059663e-02 3.5318100e+05 2.0740000e+04 3.7500000e+02\n",
      " 1.2200000e+02 1.0800000e+02 2.0000000e+00 2.0000000e+00 1.2200000e+02\n",
      " 5.0000000e+00 3.0000000e+00 0.0000000e+00 0.0000000e+00 0.0000000e+00\n",
      " 0.0000000e+00 0.0000000e+00 0.0000000e+00]\n",
      "Unk percentage: 0.006094627105052125\n"
     ]
    },
    {
     "name": "stderr",
     "output_type": "stream",
     "text": [
      "\r",
      "Generating walks (CPU: 1):  70%|███████   | 7/10 [00:03<00:01,  1.83it/s]"
     ]
    },
    {
     "name": "stdout",
     "output_type": "stream",
     "text": [
      "Unk percentage: 0.0025311115798354778\n",
      "Unk percentage: 0.012448132780082987\n"
     ]
    },
    {
     "name": "stderr",
     "output_type": "stream",
     "text": [
      "Generating walks (CPU: 1): 100%|██████████| 10/10 [00:05<00:00,  1.82it/s]\n"
     ]
    },
    {
     "name": "stdout",
     "output_type": "stream",
     "text": [
      "[2.57000000e+00 2.73869556e-02 7.82948000e+05 3.44530000e+04\n",
      " 5.42000000e+02 1.76000000e+02 1.73000000e+02 3.00000000e+00\n",
      " 4.00000000e+00 4.26000000e+02 3.90000000e+01 4.00000000e+01\n",
      " 0.00000000e+00 0.00000000e+00 0.00000000e+00 1.00000000e+00\n",
      " 0.00000000e+00 0.00000000e+00]\n",
      "cluster began\n",
      "cluster end\n"
     ]
    },
    {
     "name": "stderr",
     "output_type": "stream",
     "text": [
      "\r",
      "Computing transition probabilities:   0%|          | 0/119 [00:00<?, ?it/s]"
     ]
    },
    {
     "name": "stdout",
     "output_type": "stream",
     "text": [
      "Unk percentage: 0.008441467838705176\n"
     ]
    },
    {
     "name": "stderr",
     "output_type": "stream",
     "text": [
      "Computing transition probabilities: 100%|██████████| 119/119 [00:00<00:00, 1820.53it/s]\n",
      "Generating walks (CPU: 1):  20%|██        | 2/10 [00:00<00:01,  5.96it/s]"
     ]
    },
    {
     "name": "stdout",
     "output_type": "stream",
     "text": [
      "Unk percentage: 0.005890603085553997\n"
     ]
    },
    {
     "name": "stderr",
     "output_type": "stream",
     "text": [
      "\r",
      "Generating walks (CPU: 1):  30%|███       | 3/10 [00:00<00:01,  4.51it/s]"
     ]
    },
    {
     "name": "stdout",
     "output_type": "stream",
     "text": [
      "Unk percentage: 0.0029282576866764276\n"
     ]
    },
    {
     "name": "stderr",
     "output_type": "stream",
     "text": [
      "\r",
      "Generating walks (CPU: 1):  40%|████      | 4/10 [00:01<00:01,  3.73it/s]"
     ]
    },
    {
     "name": "stdout",
     "output_type": "stream",
     "text": [
      "Unk percentage: 0.0060882800608828\n"
     ]
    },
    {
     "name": "stderr",
     "output_type": "stream",
     "text": [
      "Generating walks (CPU: 1): 100%|██████████| 10/10 [00:03<00:00,  2.88it/s]\n"
     ]
    },
    {
     "name": "stdout",
     "output_type": "stream",
     "text": [
      "[3.12000000e+00 5.48221455e-02 2.47720000e+05 1.75950000e+04\n",
      " 5.75000000e+02 1.92000000e+02 2.43000000e+02 6.00000000e+00\n",
      " 1.10000000e+01 4.00000000e+02 8.70000000e+01 7.90000000e+01\n",
      " 1.00000000e+00 1.00000000e+00 0.00000000e+00 6.00000000e+00\n",
      " 0.00000000e+00 0.00000000e+00]\n",
      "Unk percentage: 0.005479452054794521\n",
      "cluster began\n",
      "cluster end\n"
     ]
    },
    {
     "name": "stderr",
     "output_type": "stream",
     "text": [
      "Computing transition probabilities:  50%|█████     | 151/301 [00:00<00:00, 653.98it/s]"
     ]
    },
    {
     "name": "stdout",
     "output_type": "stream",
     "text": [
      "cluster began\n",
      "cluster end\n"
     ]
    },
    {
     "name": "stderr",
     "output_type": "stream",
     "text": [
      "Computing transition probabilities: 100%|██████████| 81/81 [00:00<00:00, 2605.20it/s]]\n",
      "Computing transition probabilities: 100%|██████████| 301/301 [00:00<00:00, 573.51it/s]\n",
      "Generating walks (CPU: 1): 100%|██████████| 10/10 [00:02<00:00,  4.49it/s]\n"
     ]
    },
    {
     "name": "stdout",
     "output_type": "stream",
     "text": [
      "[2.72500000e+00 2.39786255e-02 7.41950000e+04 7.45400000e+03\n",
      " 1.77000000e+02 5.00000000e+01 4.70000000e+01 3.00000000e+00\n",
      " 0.00000000e+00 2.12000000e+02 1.00000000e+01 1.10000000e+01\n",
      " 1.00000000e+00 0.00000000e+00 0.00000000e+00 0.00000000e+00\n",
      " 0.00000000e+00 0.00000000e+00]\n",
      "Unk percentage: 0.0027726432532347504\n"
     ]
    },
    {
     "name": "stderr",
     "output_type": "stream",
     "text": [
      "Generating walks (CPU: 1):  50%|█████     | 5/10 [00:04<00:04,  1.16it/s]"
     ]
    },
    {
     "name": "stdout",
     "output_type": "stream",
     "text": [
      "cluster began\n",
      "cluster end\n"
     ]
    },
    {
     "name": "stderr",
     "output_type": "stream",
     "text": [
      "Computing transition probabilities: 100%|██████████| 214/214 [00:00<00:00, 1186.30it/s]\n",
      "Generating walks (CPU: 1):  50%|█████     | 5/10 [00:02<00:02,  1.74it/s]"
     ]
    },
    {
     "name": "stdout",
     "output_type": "stream",
     "text": [
      "cluster began\n",
      "cluster end\n"
     ]
    },
    {
     "name": "stderr",
     "output_type": "stream",
     "text": [
      "Computing transition probabilities: 100%|██████████| 282/282 [00:00<00:00, 944.28it/s]\n",
      "Generating walks (CPU: 1):  80%|████████  | 8/10 [00:04<00:01,  1.55it/s]]\n",
      "Generating walks (CPU: 1):  40%|████      | 4/10 [00:02<00:04,  1.38it/s]]\n"
     ]
    },
    {
     "name": "stdout",
     "output_type": "stream",
     "text": [
      "[3.22000000e+00 8.21464077e-02 4.29807800e+06 1.45265000e+05\n",
      " 3.23200000e+03 1.43600000e+03 1.38900000e+03 2.60000000e+01\n",
      " 4.60000000e+01 4.70300000e+03 4.20000000e+02 4.29000000e+02\n",
      " 2.70000000e+01 1.00000000e+01 6.00000000e+00 2.60000000e+01\n",
      " 6.00000000e+00 1.00000000e+00]\n",
      "Unk percentage: 0.0010559662090813093\n",
      "Unk percentage: 0.0017373175816539264\n"
     ]
    },
    {
     "name": "stderr",
     "output_type": "stream",
     "text": [
      "\r",
      "Generating walks (CPU: 1):  50%|█████     | 5/10 [00:03<00:04,  1.21it/s]"
     ]
    },
    {
     "name": "stdout",
     "output_type": "stream",
     "text": [
      "Unk percentage: 0.001306103063405367\n",
      "Unk percentage: 0.0018957345971563982\n",
      "cluster began\n",
      "cluster end\n",
      "Unk percentage: 0.0012219959266802445\n"
     ]
    },
    {
     "name": "stderr",
     "output_type": "stream",
     "text": [
      "Computing transition probabilities:  30%|███       | 62/206 [00:00<00:00, 619.32it/s]"
     ]
    },
    {
     "name": "stdout",
     "output_type": "stream",
     "text": [
      "Unk percentage: 0.0005828864537188156\n"
     ]
    },
    {
     "name": "stderr",
     "output_type": "stream",
     "text": [
      "Computing transition probabilities: 100%|██████████| 206/206 [00:00<00:00, 841.19it/s]\n",
      "Generating walks (CPU: 1):   0%|          | 0/10 [00:00<?, ?it/s]"
     ]
    },
    {
     "name": "stdout",
     "output_type": "stream",
     "text": [
      "[2.82000000e+00 2.70801698e-02 1.52309300e+06 6.23270000e+04\n",
      " 1.20300000e+03 4.22000000e+02 4.96000000e+02 7.00000000e+00\n",
      " 1.60000000e+01 3.84000000e+02 1.90000000e+01 1.90000000e+01\n",
      " 0.00000000e+00 0.00000000e+00 0.00000000e+00 0.00000000e+00\n",
      " 0.00000000e+00 0.00000000e+00]\n",
      "Unk percentage: 0.007537688442211055\n",
      "Unk percentage: 0.00319693094629156\n",
      "Unk percentage: 0.0014668492079014277\n"
     ]
    },
    {
     "name": "stderr",
     "output_type": "stream",
     "text": [
      "Generating walks (CPU: 1):  20%|██        | 2/10 [00:00<00:02,  2.85it/s]"
     ]
    },
    {
     "name": "stdout",
     "output_type": "stream",
     "text": [
      "Unk percentage: 0.0014353085913471396\n",
      "Unk percentage: 0.0019747235387045812\n",
      "Unk percentage: 0.0009208103130755065\n"
     ]
    },
    {
     "name": "stderr",
     "output_type": "stream",
     "text": [
      "\r",
      "Generating walks (CPU: 1):  30%|███       | 3/10 [00:01<00:03,  2.20it/s]"
     ]
    },
    {
     "name": "stdout",
     "output_type": "stream",
     "text": [
      "Unk percentage: 0.001313119255103259\n"
     ]
    },
    {
     "name": "stderr",
     "output_type": "stream",
     "text": [
      "\r",
      "Generating walks (CPU: 1):  70%|███████   | 7/10 [00:06<00:02,  1.06it/s]"
     ]
    },
    {
     "name": "stdout",
     "output_type": "stream",
     "text": [
      "Unk percentage: 0.0005725190839694657\n",
      "Unk percentage: 0.0024449877750611247\n"
     ]
    },
    {
     "name": "stderr",
     "output_type": "stream",
     "text": [
      "Generating walks (CPU: 1):  90%|█████████ | 9/10 [00:05<00:00,  1.51it/s]]\n",
      "Generating walks (CPU: 1): 100%|██████████| 10/10 [00:06<00:00,  1.43it/s]\n"
     ]
    },
    {
     "name": "stdout",
     "output_type": "stream",
     "text": [
      "[4.05000000e+00 5.22333462e-02 3.52797100e+06 1.19502000e+05\n",
      " 2.92200000e+03 1.23700000e+03 1.39900000e+03 3.00000000e+01\n",
      " 4.40000000e+01 4.35800000e+03 5.74000000e+02 4.86000000e+02\n",
      " 2.00000000e+01 2.00000000e+00 1.00000000e+01 6.20000000e+01\n",
      " 3.00000000e+00 0.00000000e+00]\n",
      "Unk percentage: 0.007042253521126761\n",
      "[4.51000000e+00 7.18577306e-02 1.34298300e+06 6.52130000e+04\n",
      " 1.83700000e+03 7.98000000e+02 8.29000000e+02 2.80000000e+01\n",
      " 5.00000000e+01 2.22200000e+03 4.37000000e+02 4.10000000e+02\n",
      " 1.70000000e+01 5.00000000e+00 5.00000000e+00 6.90000000e+01\n",
      " 7.00000000e+00 0.00000000e+00]\n",
      "Unk percentage: 0.011363636363636364\n",
      "cluster began\n",
      "cluster end\n"
     ]
    },
    {
     "name": "stderr",
     "output_type": "stream",
     "text": [
      "Computing transition probabilities: 100%|██████████| 133/133 [00:00<00:00, 1770.56it/s]\n",
      "Generating walks (CPU: 1):  80%|████████  | 8/10 [00:03<00:00,  2.32it/s]"
     ]
    },
    {
     "name": "stdout",
     "output_type": "stream",
     "text": [
      "cluster began\n",
      "cluster end\n"
     ]
    },
    {
     "name": "stderr",
     "output_type": "stream",
     "text": [
      "Computing transition probabilities: 100%|██████████| 288/288 [00:00<00:00, 616.39it/s]\n",
      "Generating walks (CPU: 1): 100%|██████████| 10/10 [00:03<00:00,  2.36it/s]\n",
      "Generating walks (CPU: 1):  20%|██        | 2/10 [00:01<00:04,  1.86it/s]"
     ]
    },
    {
     "name": "stdout",
     "output_type": "stream",
     "text": [
      "[3.01000000e+00 4.30960929e-02 3.49857000e+05 2.36550000e+04\n",
      " 5.78000000e+02 2.04000000e+02 2.14000000e+02 1.00000000e+01\n",
      " 1.20000000e+01 1.05000000e+02 1.20000000e+01 1.10000000e+01\n",
      " 2.00000000e+00 0.00000000e+00 0.00000000e+00 0.00000000e+00\n",
      " 0.00000000e+00 0.00000000e+00]\n",
      "Unk percentage: 0.0013341239252890602\n",
      "Unk percentage: 0.004467414155571128\n",
      "Unk percentage: 0.00716275368085953\n",
      "Unk percentage: 0.006616750827093854\n"
     ]
    },
    {
     "name": "stderr",
     "output_type": "stream",
     "text": [
      "\r",
      "Generating walks (CPU: 1):  30%|███       | 3/10 [00:02<00:04,  1.47it/s]"
     ]
    },
    {
     "name": "stdout",
     "output_type": "stream",
     "text": [
      "Unk percentage: 0.00625\n"
     ]
    },
    {
     "name": "stderr",
     "output_type": "stream",
     "text": [
      "\r",
      "Generating walks (CPU: 1):  40%|████      | 4/10 [00:03<00:04,  1.31it/s]"
     ]
    },
    {
     "name": "stdout",
     "output_type": "stream",
     "text": [
      "cluster began\n",
      "cluster end\n"
     ]
    },
    {
     "name": "stderr",
     "output_type": "stream",
     "text": [
      "Computing transition probabilities: 100%|██████████| 100/100 [00:00<00:00, 1363.11it/s]\n",
      "Generating walks (CPU: 1):  30%|███       | 3/10 [00:00<00:01,  5.64it/s]"
     ]
    },
    {
     "name": "stdout",
     "output_type": "stream",
     "text": [
      "cluster began\n",
      "cluster end\n"
     ]
    },
    {
     "name": "stderr",
     "output_type": "stream",
     "text": [
      "Computing transition probabilities: 100%|██████████| 134/134 [00:00<00:00, 1148.73it/s]\n",
      "Generating walks (CPU: 1): 100%|██████████| 10/10 [00:02<00:00,  3.59it/s]\n",
      "Generating walks (CPU: 1):  60%|██████    | 6/10 [00:02<00:01,  2.69it/s]"
     ]
    },
    {
     "name": "stdout",
     "output_type": "stream",
     "text": [
      "[2.82828283e+00 1.67981768e-02 1.44356000e+05 1.15250000e+04\n",
      " 3.38000000e+02 1.13000000e+02 1.29000000e+02 4.00000000e+00\n",
      " 2.00000000e+00 2.75000000e+02 5.20000000e+01 4.90000000e+01\n",
      " 0.00000000e+00 0.00000000e+00 0.00000000e+00 6.00000000e+00\n",
      " 0.00000000e+00 0.00000000e+00]\n"
     ]
    },
    {
     "name": "stderr",
     "output_type": "stream",
     "text": [
      "\r",
      "Generating walks (CPU: 1):  70%|███████   | 7/10 [00:02<00:01,  2.51it/s]"
     ]
    },
    {
     "name": "stdout",
     "output_type": "stream",
     "text": [
      "Unk percentage: 0.002914903620122238\n"
     ]
    },
    {
     "name": "stderr",
     "output_type": "stream",
     "text": [
      "Generating walks (CPU: 1):  80%|████████  | 8/10 [00:02<00:00,  2.53it/s]"
     ]
    },
    {
     "name": "stdout",
     "output_type": "stream",
     "text": [
      "Unk percentage: 0.00138217000691085\n"
     ]
    },
    {
     "name": "stderr",
     "output_type": "stream",
     "text": [
      "\r",
      "Generating walks (CPU: 1):  90%|█████████ | 9/10 [00:03<00:00,  2.53it/s]"
     ]
    },
    {
     "name": "stdout",
     "output_type": "stream",
     "text": [
      "Unk percentage: 0.002203532997906644\n"
     ]
    },
    {
     "name": "stderr",
     "output_type": "stream",
     "text": [
      "Generating walks (CPU: 1): 100%|██████████| 10/10 [00:03<00:00,  2.53it/s]\n"
     ]
    },
    {
     "name": "stdout",
     "output_type": "stream",
     "text": [
      "Unk percentage: 0.003727549983056591\n",
      "Unk percentage: 0.00414020230533992\n"
     ]
    },
    {
     "name": "stderr",
     "output_type": "stream",
     "text": [
      "\r",
      "Generating walks (CPU: 1): 100%|██████████| 10/10 [00:09<00:00,  1.01it/s]"
     ]
    },
    {
     "name": "stdout",
     "output_type": "stream",
     "text": [
      "[2.48000000e+00 2.24920635e-02 3.60653000e+05 2.15260000e+04\n",
      " 5.02000000e+02 1.61000000e+02 1.92000000e+02 5.00000000e+00\n",
      " 5.00000000e+00 2.11000000e+02 2.70000000e+01 2.30000000e+01\n",
      " 1.00000000e+00 0.00000000e+00 0.00000000e+00 0.00000000e+00\n",
      " 0.00000000e+00 0.00000000e+00]\n",
      "Unk percentage: 0.002266431629312516\n",
      "Unk percentage: 0.0072992700729927005\n",
      "Unk percentage: 0.0076430489568271014\n",
      "Unk percentage: 0.00798888502952414\n"
     ]
    },
    {
     "name": "stderr",
     "output_type": "stream",
     "text": [
      "\n"
     ]
    },
    {
     "name": "stdout",
     "output_type": "stream",
     "text": [
      "Unk percentage: 0.0056130919440271956\n",
      "Unk percentage: 0.0056634304207119745\n",
      "[3.21000000e+00 1.27983732e-01 3.75274000e+06 1.33210000e+05\n",
      " 3.30000000e+03 1.62000000e+03 1.45200000e+03 3.50000000e+01\n",
      " 6.10000000e+01 5.05900000e+03 6.45000000e+02 6.56000000e+02\n",
      " 2.40000000e+01 2.00000000e+00 1.30000000e+01 6.90000000e+01\n",
      " 9.00000000e+00 0.00000000e+00]\n",
      "Unk percentage: 0.005159958720330237\n",
      "Unk percentage: 0.0012493993272465161\n",
      "cluster began\n",
      "cluster end\n",
      "Unk percentage: 0.0006201165819174004\n"
     ]
    },
    {
     "name": "stderr",
     "output_type": "stream",
     "text": [
      "Computing transition probabilities: 100%|██████████| 173/173 [00:00<00:00, 1316.31it/s]\n",
      "Generating walks (CPU: 1):   0%|          | 0/10 [00:00<?, ?it/s]"
     ]
    },
    {
     "name": "stdout",
     "output_type": "stream",
     "text": [
      "Unk percentage: 0.0050578034682080926\n"
     ]
    },
    {
     "name": "stderr",
     "output_type": "stream",
     "text": [
      "Generating walks (CPU: 1): 100%|██████████| 10/10 [00:04<00:00,  1.94it/s]\n"
     ]
    },
    {
     "name": "stdout",
     "output_type": "stream",
     "text": [
      "[3.50000000e+00 5.33219289e-02 7.89392000e+05 3.98640000e+04\n",
      " 1.24900000e+03 5.92000000e+02 5.49000000e+02 1.00000000e+01\n",
      " 1.30000000e+01 1.14200000e+03 2.50000000e+02 2.45000000e+02\n",
      " 2.00000000e+00 1.00000000e+00 3.00000000e+00 2.70000000e+01\n",
      " 0.00000000e+00 1.00000000e+00]\n",
      "Unk percentage: 0.003257328990228013\n",
      "Unk percentage: 0.003924646781789639\n",
      "cluster began\n",
      "cluster end\n"
     ]
    },
    {
     "name": "stderr",
     "output_type": "stream",
     "text": [
      "Computing transition probabilities: 100%|██████████| 339/339 [00:00<00:00, 521.87it/s]\n",
      "Generating walks (CPU: 1):   0%|          | 0/10 [00:00<?, ?it/s]"
     ]
    },
    {
     "name": "stdout",
     "output_type": "stream",
     "text": [
      "cluster began\n",
      "cluster end\n"
     ]
    },
    {
     "name": "stderr",
     "output_type": "stream",
     "text": [
      "Computing transition probabilities: 100%|██████████| 274/274 [00:00<00:00, 785.14it/s]\n",
      "Generating walks (CPU: 1):  30%|███       | 3/10 [00:01<00:04,  1.71it/s]"
     ]
    },
    {
     "name": "stdout",
     "output_type": "stream",
     "text": [
      "cluster began\n",
      "cluster end\n"
     ]
    },
    {
     "name": "stderr",
     "output_type": "stream",
     "text": [
      "Computing transition probabilities: 100%|██████████| 300/300 [00:00<00:00, 714.82it/s]\n",
      "Generating walks (CPU: 1):  60%|██████    | 6/10 [00:04<00:03,  1.14it/s]"
     ]
    },
    {
     "name": "stdout",
     "output_type": "stream",
     "text": [
      "cluster began\n",
      "cluster end\n"
     ]
    },
    {
     "name": "stderr",
     "output_type": "stream",
     "text": [
      "Computing transition probabilities: 100%|██████████| 362/362 [00:00<00:00, 619.19it/s]\n",
      "Generating walks (CPU: 1):   0%|          | 0/10 [00:00<?, ?it/s]\n",
      "Generating walks (CPU: 1):  90%|█████████ | 9/10 [00:08<00:00,  1.02it/s]]\n"
     ]
    },
    {
     "name": "stdout",
     "output_type": "stream",
     "text": [
      "[4.14000000e+00 6.09841083e-02 3.21997500e+06 1.23207000e+05\n",
      " 2.67600000e+03 1.06400000e+03 1.24600000e+03 2.60000000e+01\n",
      " 5.90000000e+01 4.67900000e+03 4.50000000e+02 4.10000000e+02\n",
      " 3.10000000e+01 1.60000000e+01 1.00000000e+01 3.80000000e+01\n",
      " 8.00000000e+00 1.00000000e+00]\n",
      "Unk percentage: 0.0022197558268590455\n"
     ]
    },
    {
     "name": "stderr",
     "output_type": "stream",
     "text": [
      "\r",
      "Generating walks (CPU: 1):  30%|███       | 3/10 [00:02<00:06,  1.14it/s]"
     ]
    },
    {
     "name": "stdout",
     "output_type": "stream",
     "text": [
      "Unk percentage: 0.005761458422908246\n"
     ]
    },
    {
     "name": "stderr",
     "output_type": "stream",
     "text": [
      "\r",
      "Generating walks (CPU: 1): 100%|██████████| 10/10 [00:09<00:00,  1.05s/it]"
     ]
    },
    {
     "name": "stdout",
     "output_type": "stream",
     "text": [
      "Unk percentage: 0.000735564545788893\n",
      "Unk percentage: 0.0033613445378151263\n"
     ]
    },
    {
     "name": "stderr",
     "output_type": "stream",
     "text": [
      "Generating walks (CPU: 1):  40%|████      | 4/10 [00:04<00:06,  1.05s/it]\n"
     ]
    },
    {
     "name": "stdout",
     "output_type": "stream",
     "text": [
      "[3.7900000e+00 7.6167395e-02 6.2028050e+06 1.6402500e+05 3.1310000e+03\n",
      " 1.3720000e+03 1.3440000e+03 2.9000000e+01 4.0000000e+01 4.8210000e+03\n",
      " 5.4000000e+02 5.4400000e+02 1.8000000e+01 5.0000000e+00 5.0000000e+00\n",
      " 5.0000000e+01 6.0000000e+00 1.0000000e+00]\n",
      "Unk percentage: 0.0032254813022880757\n"
     ]
    },
    {
     "name": "stderr",
     "output_type": "stream",
     "text": [
      "\r",
      "Generating walks (CPU: 1):  50%|█████     | 5/10 [00:05<00:05,  1.18s/it]"
     ]
    },
    {
     "name": "stdout",
     "output_type": "stream",
     "text": [
      "Unk percentage: 0.003272804054054054\n",
      "[3.68000000e+00 8.68218558e-02 4.24961300e+06 1.47486000e+05\n",
      " 3.52000000e+03 1.59700000e+03 1.54900000e+03 3.10000000e+01\n",
      " 5.40000000e+01 4.94600000e+03 8.03000000e+02 7.76000000e+02\n",
      " 2.90000000e+01 4.00000000e+00 1.00000000e+01 1.12000000e+02\n",
      " 1.80000000e+01 1.00000000e+00]\n",
      "Unk percentage: 0.007443267776096823\n",
      "Unk percentage: 0.011987250554323725\n",
      "Unk percentage: 0.010443864229765013\n"
     ]
    },
    {
     "name": "stderr",
     "output_type": "stream",
     "text": [
      "\r",
      "Generating walks (CPU: 1):  60%|██████    | 6/10 [00:07<00:04,  1.25s/it]"
     ]
    },
    {
     "name": "stdout",
     "output_type": "stream",
     "text": [
      "Unk percentage: 0.004804974561899378\n",
      "Unk percentage: 0.0038684719535783366\n"
     ]
    },
    {
     "name": "stderr",
     "output_type": "stream",
     "text": [
      "Generating walks (CPU: 1): 100%|██████████| 10/10 [00:12<00:00,  1.25s/it]\n"
     ]
    },
    {
     "name": "stdout",
     "output_type": "stream",
     "text": [
      "cluster began\n",
      "cluster end\n"
     ]
    },
    {
     "name": "stderr",
     "output_type": "stream",
     "text": [
      "Computing transition probabilities: 100%|██████████| 179/179 [00:00<00:00, 996.78it/s] \n",
      "Generating walks (CPU: 1):  20%|██        | 2/10 [00:00<00:02,  2.72it/s]"
     ]
    },
    {
     "name": "stdout",
     "output_type": "stream",
     "text": [
      "[3.90000000e+00 6.39702364e-02 7.56810200e+06 1.96630000e+05\n",
      " 3.82600000e+03 1.72500000e+03 1.67000000e+03 3.90000000e+01\n",
      " 3.00000000e+01 3.00200000e+03 4.29000000e+02 4.53000000e+02\n",
      " 1.00000000e+00 1.00000000e+00 1.00000000e+00 2.90000000e+01\n",
      " 2.00000000e+00 0.00000000e+00]\n",
      "Unk percentage: 0.0054005400540054005\n",
      "Unk percentage: 0.009933774834437087\n"
     ]
    },
    {
     "name": "stderr",
     "output_type": "stream",
     "text": [
      "Generating walks (CPU: 1):  70%|███████   | 7/10 [00:03<00:01,  1.89it/s]"
     ]
    },
    {
     "name": "stdout",
     "output_type": "stream",
     "text": [
      "cluster began\n",
      "cluster end\n"
     ]
    },
    {
     "name": "stderr",
     "output_type": "stream",
     "text": [
      "Computing transition probabilities:  31%|███▏      | 89/283 [00:00<00:00, 885.75it/s]"
     ]
    },
    {
     "name": "stdout",
     "output_type": "stream",
     "text": [
      "cluster began\n",
      "cluster end\n"
     ]
    },
    {
     "name": "stderr",
     "output_type": "stream",
     "text": [
      "Computing transition probabilities: 100%|██████████| 108/108 [00:00<00:00, 1162.33it/s]\n",
      "Computing transition probabilities: 100%|██████████| 283/283 [00:00<00:00, 781.13it/s]\n",
      "Generating walks (CPU: 1):  60%|██████    | 6/10 [00:01<00:01,  3.59it/s]]\n",
      "Generating walks (CPU: 1):  90%|█████████ | 9/10 [00:02<00:00,  2.79it/s]"
     ]
    },
    {
     "name": "stdout",
     "output_type": "stream",
     "text": [
      "[3.6700000e+00 5.5921595e-02 8.7617700e+05 4.4480000e+04 9.3400000e+02\n",
      " 3.9900000e+02 3.9700000e+02 1.9000000e+01 1.6000000e+01 1.5720000e+03\n",
      " 8.4000000e+01 8.9000000e+01 2.0000000e+00 0.0000000e+00 1.0000000e+00\n",
      " 6.0000000e+00 0.0000000e+00 0.0000000e+00]\n",
      "Unk percentage: 0.0019372336303758234\n",
      "Unk percentage: 0.00176444640494045\n"
     ]
    },
    {
     "name": "stderr",
     "output_type": "stream",
     "text": [
      "\r",
      "Generating walks (CPU: 1): 100%|██████████| 10/10 [00:03<00:00,  2.86it/s]"
     ]
    },
    {
     "name": "stdout",
     "output_type": "stream",
     "text": [
      "Unk percentage: 0.0111731843575419\n"
     ]
    },
    {
     "name": "stderr",
     "output_type": "stream",
     "text": [
      "Generating walks (CPU: 1):  40%|████      | 4/10 [00:03<00:04,  1.23it/s]\n"
     ]
    },
    {
     "name": "stdout",
     "output_type": "stream",
     "text": [
      "[3.10000000e+00 4.63534689e-02 1.82506000e+05 1.47780000e+04\n",
      " 4.41000000e+02 1.81000000e+02 1.51000000e+02 4.00000000e+00\n",
      " 1.00000000e+01 2.90000000e+02 5.20000000e+01 6.50000000e+01\n",
      " 1.00000000e+00 0.00000000e+00 0.00000000e+00 6.00000000e+00\n",
      " 0.00000000e+00 0.00000000e+00]\n",
      "Unk percentage: 0.007934022340536591\n"
     ]
    },
    {
     "name": "stderr",
     "output_type": "stream",
     "text": [
      "\r",
      "Generating walks (CPU: 1):  50%|█████     | 5/10 [00:04<00:04,  1.16it/s]"
     ]
    },
    {
     "name": "stdout",
     "output_type": "stream",
     "text": [
      "Unk percentage: 0.004016064257028112\n"
     ]
    },
    {
     "name": "stderr",
     "output_type": "stream",
     "text": [
      "Generating walks (CPU: 1):  80%|████████  | 8/10 [00:07<00:01,  1.08it/s]"
     ]
    },
    {
     "name": "stdout",
     "output_type": "stream",
     "text": [
      "cluster began\n",
      "cluster end\n"
     ]
    },
    {
     "name": "stderr",
     "output_type": "stream",
     "text": [
      "Computing transition probabilities: 100%|██████████| 167/167 [00:00<00:00, 1353.70it/s]\n",
      "Generating walks (CPU: 1):  50%|█████     | 5/10 [00:02<00:02,  2.33it/s]]\n",
      "Generating walks (CPU: 1):  70%|███████   | 7/10 [00:03<00:01,  1.84it/s]"
     ]
    },
    {
     "name": "stdout",
     "output_type": "stream",
     "text": [
      "[3.18000000e+00 4.32713675e-02 3.57164400e+06 1.20133000e+05\n",
      " 2.00600000e+03 8.57000000e+02 7.75000000e+02 1.00000000e+01\n",
      " 2.70000000e+01 2.06600000e+03 2.10000000e+02 2.12000000e+02\n",
      " 4.00000000e+00 1.00000000e+00 3.00000000e+00 1.00000000e+01\n",
      " 2.00000000e+00 0.00000000e+00]\n"
     ]
    },
    {
     "name": "stderr",
     "output_type": "stream",
     "text": [
      "\r",
      "Generating walks (CPU: 1):  80%|████████  | 8/10 [00:04<00:01,  1.72it/s]"
     ]
    },
    {
     "name": "stdout",
     "output_type": "stream",
     "text": [
      "Unk percentage: 0.0034644385571632364\n",
      "Unk percentage: 0.0032347852253065525\n"
     ]
    },
    {
     "name": "stderr",
     "output_type": "stream",
     "text": [
      "\r",
      "Generating walks (CPU: 1):  90%|█████████ | 9/10 [00:04<00:00,  1.72it/s]"
     ]
    },
    {
     "name": "stdout",
     "output_type": "stream",
     "text": [
      "Unk percentage: 0.0012101653892698668\n",
      "Unk percentage: 0.0041981528127623844\n"
     ]
    },
    {
     "name": "stderr",
     "output_type": "stream",
     "text": [
      "Generating walks (CPU: 1): 100%|██████████| 10/10 [00:05<00:00,  1.64it/s]\n"
     ]
    },
    {
     "name": "stdout",
     "output_type": "stream",
     "text": [
      "cluster began\n",
      "cluster end\n"
     ]
    },
    {
     "name": "stderr",
     "output_type": "stream",
     "text": [
      "Computing transition probabilities: 100%|██████████| 71/71 [00:00<00:00, 1585.34it/s]\n",
      "Generating walks (CPU: 1):  30%|███       | 3/10 [00:00<00:01,  5.33it/s]"
     ]
    },
    {
     "name": "stdout",
     "output_type": "stream",
     "text": [
      "[3.170000e+00 6.048434e-02 7.077520e+05 3.799700e+04 9.720000e+02\n",
      " 3.970000e+02 3.770000e+02 1.000000e+01 1.600000e+01 8.840000e+02\n",
      " 1.140000e+02 1.250000e+02 3.000000e+00 3.000000e+00 1.000000e+00\n",
      " 9.000000e+00 0.000000e+00 0.000000e+00]\n",
      "Unk percentage: 0.009925558312655087\n"
     ]
    },
    {
     "name": "stderr",
     "output_type": "stream",
     "text": [
      "Generating walks (CPU: 1): 100%|██████████| 10/10 [00:02<00:00,  4.87it/s]\n"
     ]
    },
    {
     "name": "stdout",
     "output_type": "stream",
     "text": [
      "cluster began\n",
      "cluster end\n"
     ]
    },
    {
     "name": "stderr",
     "output_type": "stream",
     "text": [
      "Computing transition probabilities: 100%|██████████| 179/179 [00:00<00:00, 994.92it/s]\n",
      "Generating walks (CPU: 1):   0%|          | 0/10 [00:00<?, ?it/s]"
     ]
    },
    {
     "name": "stdout",
     "output_type": "stream",
     "text": [
      "[2.74285714e+00 6.37438376e-02 4.89240000e+04 5.22000000e+03\n",
      " 1.92000000e+02 7.10000000e+01 5.90000000e+01 5.00000000e+00\n",
      " 0.00000000e+00 2.30000000e+02 1.80000000e+01 1.70000000e+01\n",
      " 1.00000000e+00 0.00000000e+00 0.00000000e+00 3.00000000e+00\n",
      " 0.00000000e+00 0.00000000e+00]\n",
      "Unk percentage: 0.0091324200913242\n"
     ]
    },
    {
     "name": "stderr",
     "output_type": "stream",
     "text": [
      "Generating walks (CPU: 1): 100%|██████████| 10/10 [00:05<00:00,  1.64it/s]\n"
     ]
    },
    {
     "name": "stdout",
     "output_type": "stream",
     "text": [
      "[2.85000000e+00 1.63846154e-02 8.84499000e+05 3.73910000e+04\n",
      " 7.06000000e+02 2.42000000e+02 2.89000000e+02 5.00000000e+00\n",
      " 3.00000000e+00 7.92000000e+02 1.25000000e+02 1.04000000e+02\n",
      " 3.00000000e+00 2.00000000e+00 0.00000000e+00 1.50000000e+01\n",
      " 0.00000000e+00 0.00000000e+00]\n",
      "Unk percentage: 0.0032876712328767125\n",
      "Unk percentage: 0.0012117540139351712\n",
      "Unk percentage: 0.010063797286368945\n",
      "Unk percentage: 0.00974025974025974\n",
      "cluster began\n",
      "cluster end\n"
     ]
    },
    {
     "name": "stderr",
     "output_type": "stream",
     "text": [
      "Computing transition probabilities: 100%|██████████| 351/351 [00:00<00:00, 629.24it/s]\n",
      "Generating walks (CPU: 1):   0%|          | 0/10 [00:00<?, ?it/s]"
     ]
    },
    {
     "name": "stdout",
     "output_type": "stream",
     "text": [
      "cluster began\n",
      "cluster end\n"
     ]
    },
    {
     "name": "stderr",
     "output_type": "stream",
     "text": [
      "Computing transition probabilities: 100%|██████████| 232/232 [00:00<00:00, 1159.85it/s]\n",
      "Generating walks (CPU: 1):  20%|██        | 2/10 [00:00<00:02,  2.78it/s]"
     ]
    },
    {
     "name": "stdout",
     "output_type": "stream",
     "text": [
      "cluster began\n",
      "cluster end\n"
     ]
    },
    {
     "name": "stderr",
     "output_type": "stream",
     "text": [
      "Computing transition probabilities: 100%|██████████| 119/119 [00:00<00:00, 1307.31it/s]\n",
      "Generating walks (CPU: 1):  70%|███████   | 7/10 [00:04<00:02,  1.43it/s]]\n",
      "Generating walks (CPU: 1):  80%|████████  | 8/10 [00:05<00:01,  1.37it/s]"
     ]
    },
    {
     "name": "stdout",
     "output_type": "stream",
     "text": [
      "[3.10000000e+00 8.04467229e-02 2.45796000e+05 1.93470000e+04\n",
      " 6.39000000e+02 2.75000000e+02 2.61000000e+02 1.00000000e+01\n",
      " 1.40000000e+01 4.14000000e+02 7.10000000e+01 8.20000000e+01\n",
      " 1.00000000e+00 0.00000000e+00 0.00000000e+00 6.00000000e+00\n",
      " 0.00000000e+00 0.00000000e+00]\n",
      "Unk percentage: 0.008426966292134831\n"
     ]
    },
    {
     "name": "stderr",
     "output_type": "stream",
     "text": [
      "Generating walks (CPU: 1): 100%|██████████| 10/10 [00:06<00:00,  1.36it/s]\n",
      "Generating walks (CPU: 1):  80%|████████  | 8/10 [00:08<00:02,  1.22s/it]"
     ]
    },
    {
     "name": "stdout",
     "output_type": "stream",
     "text": [
      "[3.48000000e+00 4.55199933e-02 1.94738600e+06 7.50260000e+04\n",
      " 1.55900000e+03 6.26000000e+02 6.62000000e+02 1.80000000e+01\n",
      " 1.80000000e+01 2.03100000e+03 2.19000000e+02 2.16000000e+02\n",
      " 1.10000000e+01 2.00000000e+00 2.00000000e+00 1.70000000e+01\n",
      " 2.00000000e+00 0.00000000e+00]\n",
      "Unk percentage: 0.002368265245707519\n"
     ]
    },
    {
     "name": "stderr",
     "output_type": "stream",
     "text": [
      "\r",
      "Generating walks (CPU: 1):  90%|█████████ | 9/10 [00:10<00:01,  1.27s/it]"
     ]
    },
    {
     "name": "stdout",
     "output_type": "stream",
     "text": [
      "Unk percentage: 0.0022172949002217295\n",
      "cluster began\n",
      "cluster end\n"
     ]
    },
    {
     "name": "stderr",
     "output_type": "stream",
     "text": [
      "Computing transition probabilities: 100%|██████████| 232/232 [00:00<00:00, 842.17it/s] \n",
      "Generating walks (CPU: 1):  20%|██        | 2/10 [00:00<00:03,  2.48it/s]\n",
      "Generating walks (CPU: 1):  40%|████      | 4/10 [00:02<00:03,  1.57it/s]"
     ]
    },
    {
     "name": "stdout",
     "output_type": "stream",
     "text": [
      "[2.57000000e+00 6.05440115e-02 6.89402000e+06 1.78117000e+05\n",
      " 4.54400000e+03 2.10100000e+03 2.05400000e+03 3.20000000e+01\n",
      " 4.10000000e+01 2.88600000e+03 4.60000000e+02 3.91000000e+02\n",
      " 1.10000000e+01 2.00000000e+00 4.00000000e+00 3.60000000e+01\n",
      " 1.00000000e+00 0.00000000e+00]\n",
      "Unk percentage: 0.0023086269744835965\n"
     ]
    },
    {
     "name": "stderr",
     "output_type": "stream",
     "text": [
      "\r",
      "Generating walks (CPU: 1):  50%|█████     | 5/10 [00:03<00:03,  1.45it/s]"
     ]
    },
    {
     "name": "stdout",
     "output_type": "stream",
     "text": [
      "Unk percentage: 0.00186219739292365\n"
     ]
    },
    {
     "name": "stderr",
     "output_type": "stream",
     "text": [
      "Generating walks (CPU: 1):  80%|████████  | 8/10 [00:05<00:01,  1.28it/s]"
     ]
    },
    {
     "name": "stdout",
     "output_type": "stream",
     "text": [
      "cluster began\n",
      "cluster end\n"
     ]
    },
    {
     "name": "stderr",
     "output_type": "stream",
     "text": [
      "Computing transition probabilities: 100%|██████████| 113/113 [00:00<00:00, 2140.14it/s]\n",
      "Generating walks (CPU: 1):  50%|█████     | 5/10 [00:01<00:01,  3.12it/s]]\n",
      "Generating walks (CPU: 1):  90%|█████████ | 9/10 [00:03<00:00,  2.52it/s]"
     ]
    },
    {
     "name": "stdout",
     "output_type": "stream",
     "text": [
      "[3.61000000e+00 2.82034345e-02 1.93792200e+06 8.37590000e+04\n",
      " 1.83200000e+03 6.91000000e+02 8.16000000e+02 1.60000000e+01\n",
      " 3.60000000e+01 2.17200000e+03 2.73000000e+02 2.34000000e+02\n",
      " 1.10000000e+01 3.00000000e+00 5.00000000e+00 2.10000000e+01\n",
      " 4.00000000e+00 0.00000000e+00]\n",
      "Unk percentage: 0.0019559902200488996\n",
      "Unk percentage: 0.013518005540166205\n"
     ]
    },
    {
     "name": "stderr",
     "output_type": "stream",
     "text": [
      "\r",
      "Generating walks (CPU: 1): 100%|██████████| 10/10 [00:03<00:00,  2.58it/s]"
     ]
    },
    {
     "name": "stdout",
     "output_type": "stream",
     "text": [
      "Unk percentage: 0.001740341106856944\n"
     ]
    },
    {
     "name": "stderr",
     "output_type": "stream",
     "text": [
      "\n"
     ]
    },
    {
     "name": "stdout",
     "output_type": "stream",
     "text": [
      "Unk percentage: 0.0010062893081761006\n",
      "Unk percentage: 0.0014005602240896359\n",
      "cluster began\n",
      "cluster end\n"
     ]
    },
    {
     "name": "stderr",
     "output_type": "stream",
     "text": [
      "Computing transition probabilities:   5%|▍         | 11/239 [00:00<00:03, 67.74it/s]"
     ]
    },
    {
     "name": "stdout",
     "output_type": "stream",
     "text": [
      "[3.0100000e+00 5.7457169e-02 2.1100700e+05 1.5006000e+04 4.4900000e+02\n",
      " 1.8300000e+02 1.8700000e+02 4.0000000e+00 6.0000000e+00 7.9400000e+02\n",
      " 1.2900000e+02 1.2900000e+02 2.0000000e+00 2.0000000e+00 0.0000000e+00\n",
      " 2.2000000e+01 0.0000000e+00 0.0000000e+00]\n",
      "Unk percentage: 0.005113221329437546\n"
     ]
    },
    {
     "name": "stderr",
     "output_type": "stream",
     "text": [
      "Computing transition probabilities: 100%|██████████| 239/239 [00:00<00:00, 526.14it/s]\n",
      "Generating walks (CPU: 1):  70%|███████   | 7/10 [00:04<00:02,  1.40it/s]"
     ]
    },
    {
     "name": "stdout",
     "output_type": "stream",
     "text": [
      "cluster began\n",
      "cluster end\n"
     ]
    },
    {
     "name": "stderr",
     "output_type": "stream",
     "text": [
      "Computing transition probabilities: 100%|██████████| 270/270 [00:00<00:00, 889.01it/s]\n",
      "Generating walks (CPU: 1): 100%|██████████| 10/10 [00:07<00:00,  1.17it/s]\n",
      "Generating walks (CPU: 1):  50%|█████     | 5/10 [00:04<00:04,  1.17it/s]"
     ]
    },
    {
     "name": "stdout",
     "output_type": "stream",
     "text": [
      "[2.98000000e+00 3.14723931e-02 2.13183300e+06 8.19630000e+04\n",
      " 1.61100000e+03 6.55000000e+02 6.61000000e+02 1.40000000e+01\n",
      " 2.00000000e+01 1.53100000e+03 1.68000000e+02 1.66000000e+02\n",
      " 5.00000000e+00 0.00000000e+00 0.00000000e+00 8.00000000e+00\n",
      " 1.00000000e+00 0.00000000e+00]\n",
      "Unk percentage: 0.006085192697768763\n"
     ]
    },
    {
     "name": "stderr",
     "output_type": "stream",
     "text": [
      "Generating walks (CPU: 1):  70%|███████   | 7/10 [00:05<00:02,  1.13it/s]"
     ]
    },
    {
     "name": "stdout",
     "output_type": "stream",
     "text": [
      "cluster began\n",
      "cluster end\n"
     ]
    },
    {
     "name": "stderr",
     "output_type": "stream",
     "text": [
      "Computing transition probabilities: 100%|██████████| 298/298 [00:00<00:00, 602.92it/s]\n",
      "Generating walks (CPU: 1):   0%|          | 0/10 [00:00<?, ?it/s]"
     ]
    },
    {
     "name": "stdout",
     "output_type": "stream",
     "text": [
      "cluster began\n",
      "cluster end\n"
     ]
    },
    {
     "name": "stderr",
     "output_type": "stream",
     "text": [
      "Computing transition probabilities: 100%|██████████| 380/380 [00:00<00:00, 526.26it/s]\n",
      "Generating walks (CPU: 1):  30%|███       | 3/10 [00:02<00:04,  1.51it/s]]\n",
      "Generating walks (CPU: 1):  40%|████      | 4/10 [00:03<00:05,  1.19it/s]"
     ]
    },
    {
     "name": "stdout",
     "output_type": "stream",
     "text": [
      "[4.07000000e+00 6.70470949e-02 3.08743700e+06 1.12740000e+05\n",
      " 2.77200000e+03 1.22300000e+03 1.20700000e+03 2.30000000e+01\n",
      " 4.40000000e+01 2.09300000e+03 2.60000000e+02 2.64000000e+02\n",
      " 5.00000000e+00 2.00000000e+00 2.00000000e+00 2.10000000e+01\n",
      " 1.00000000e+00 0.00000000e+00]\n",
      "Unk percentage: 0.001100715465052284\n",
      "Unk percentage: 0.0009144947416552355\n"
     ]
    },
    {
     "name": "stderr",
     "output_type": "stream",
     "text": [
      "Generating walks (CPU: 1):  30%|███       | 3/10 [00:02<00:06,  1.03it/s]"
     ]
    },
    {
     "name": "stdout",
     "output_type": "stream",
     "text": [
      "Unk percentage: 0.0028368794326241137\n"
     ]
    },
    {
     "name": "stderr",
     "output_type": "stream",
     "text": [
      "Generating walks (CPU: 1):  60%|██████    | 6/10 [00:06<00:04,  1.19s/it]"
     ]
    },
    {
     "name": "stdout",
     "output_type": "stream",
     "text": [
      "cluster began\n",
      "cluster end\n"
     ]
    },
    {
     "name": "stderr",
     "output_type": "stream",
     "text": [
      "Computing transition probabilities: 100%|██████████| 153/153 [00:00<00:00, 1117.82it/s]\n",
      "Generating walks (CPU: 1):  30%|███       | 3/10 [00:00<00:02,  3.27it/s]]\n",
      "Generating walks (CPU: 1):  70%|███████   | 7/10 [00:03<00:01,  2.04it/s]"
     ]
    },
    {
     "name": "stdout",
     "output_type": "stream",
     "text": [
      "[4.86000000e+00 1.09531934e-01 4.16524700e+06 1.44602000e+05\n",
      " 2.88700000e+03 1.20300000e+03 1.32000000e+03 2.50000000e+01\n",
      " 5.30000000e+01 5.69000000e+03 6.13000000e+02 5.84000000e+02\n",
      " 2.60000000e+01 5.00000000e+00 9.00000000e+00 6.80000000e+01\n",
      " 7.00000000e+00 1.00000000e+00]\n",
      "Unk percentage: 0.0028735632183908046\n",
      "Unk percentage: 0.0054446460980036296\n"
     ]
    },
    {
     "name": "stderr",
     "output_type": "stream",
     "text": [
      "Generating walks (CPU: 1): 100%|██████████| 10/10 [00:04<00:00,  2.12it/s]\n",
      "Generating walks (CPU: 1): 100%|██████████| 10/10 [00:12<00:00,  1.40s/it]"
     ]
    },
    {
     "name": "stdout",
     "output_type": "stream",
     "text": [
      "[3.22000000e+00 6.00592777e-02 5.42322000e+05 2.89610000e+04\n",
      " 6.57000000e+02 2.55000000e+02 2.59000000e+02 6.00000000e+00\n",
      " 1.10000000e+01 1.01500000e+03 1.50000000e+02 1.40000000e+02\n",
      " 2.00000000e+00 0.00000000e+00 1.00000000e+00 2.10000000e+01\n",
      " 0.00000000e+00 0.00000000e+00]\n",
      "Unk percentage: 0.001122334455667789\n",
      "Unk percentage: 0.0025561684380465493\n",
      "Unk percentage: 0.0030349013657056147\n"
     ]
    },
    {
     "name": "stderr",
     "output_type": "stream",
     "text": [
      "\n"
     ]
    },
    {
     "name": "stdout",
     "output_type": "stream",
     "text": [
      "cluster began\n",
      "cluster end\n"
     ]
    },
    {
     "name": "stderr",
     "output_type": "stream",
     "text": [
      "Computing transition probabilities: 100%|██████████| 344/344 [00:00<00:00, 516.53it/s]\n",
      "Generating walks (CPU: 1):   0%|          | 0/10 [00:00<?, ?it/s]"
     ]
    },
    {
     "name": "stdout",
     "output_type": "stream",
     "text": [
      "[4.01000000e+00 1.39811375e-01 8.71085600e+06 2.54593000e+05\n",
      " 6.73400000e+03 2.68500000e+03 4.40200000e+03 5.80000000e+01\n",
      " 9.70000000e+01 1.55270000e+04 3.49900000e+03 2.25800000e+03\n",
      " 8.20000000e+01 2.90000000e+01 2.30000000e+01 7.22000000e+02\n",
      " 5.70000000e+01 7.00000000e+00]\n",
      "Unk percentage: 0.003063993696927252\n",
      "Unk percentage: 0.003108003108003108\n"
     ]
    },
    {
     "name": "stderr",
     "output_type": "stream",
     "text": [
      "Generating walks (CPU: 1):  70%|███████   | 7/10 [00:07<00:03,  1.08s/it]"
     ]
    },
    {
     "name": "stdout",
     "output_type": "stream",
     "text": [
      "cluster began\n",
      "cluster end\n"
     ]
    },
    {
     "name": "stderr",
     "output_type": "stream",
     "text": [
      "Computing transition probabilities: 100%|██████████| 271/271 [00:00<00:00, 637.13it/s]\n",
      "Generating walks (CPU: 1):  30%|███       | 3/10 [00:01<00:04,  1.68it/s]"
     ]
    },
    {
     "name": "stdout",
     "output_type": "stream",
     "text": [
      "cluster began\n",
      "cluster end\n"
     ]
    },
    {
     "name": "stderr",
     "output_type": "stream",
     "text": [
      "Computing transition probabilities: 100%|██████████| 256/256 [00:00<00:00, 697.10it/s]\n",
      "Generating walks (CPU: 1):  30%|███       | 3/10 [00:01<00:03,  1.90it/s]]\n",
      "Generating walks (CPU: 1):  50%|█████     | 5/10 [00:03<00:03,  1.41it/s]"
     ]
    },
    {
     "name": "stdout",
     "output_type": "stream",
     "text": [
      "[3.4300000e+00 6.8204718e-02 6.4720250e+06 1.8051200e+05 2.8900000e+03\n",
      " 1.3470000e+03 1.2700000e+03 3.1000000e+01 4.1000000e+01 7.4530000e+03\n",
      " 6.4600000e+02 5.5700000e+02 1.5000000e+01 2.0000000e+00 1.1000000e+01\n",
      " 8.6000000e+01 5.0000000e+00 0.0000000e+00]\n",
      "Unk percentage: 0.003127443315089914\n",
      "cluster began\n",
      "cluster end\n"
     ]
    },
    {
     "name": "stderr",
     "output_type": "stream",
     "text": [
      "Computing transition probabilities: 100%|██████████| 352/352 [00:00<00:00, 662.80it/s]\n",
      "Generating walks (CPU: 1):  30%|███       | 3/10 [00:02<00:05,  1.31it/s]]\n",
      "Generating walks (CPU: 1):  40%|████      | 4/10 [00:03<00:05,  1.04it/s]]\n"
     ]
    },
    {
     "name": "stdout",
     "output_type": "stream",
     "text": [
      "[3.16000000e+00 2.89448973e-02 3.12234400e+06 1.16114000e+05\n",
      " 1.91100000e+03 8.71000000e+02 7.20000000e+02 1.40000000e+01\n",
      " 2.80000000e+01 1.83500000e+03 1.31000000e+02 1.59000000e+02\n",
      " 1.00000000e+00 3.00000000e+00 3.00000000e+00 6.00000000e+00\n",
      " 0.00000000e+00 0.00000000e+00]\n",
      "Unk percentage: 0.003169572107765452\n"
     ]
    },
    {
     "name": "stderr",
     "output_type": "stream",
     "text": [
      "\r",
      "Generating walks (CPU: 1):  50%|█████     | 5/10 [00:05<00:05,  1.13s/it]"
     ]
    },
    {
     "name": "stdout",
     "output_type": "stream",
     "text": [
      "[3.44000000e+00 1.28291752e-01 2.60850300e+06 1.08785000e+05\n",
      " 4.01000000e+03 1.61300000e+03 2.43900000e+03 3.70000000e+01\n",
      " 7.40000000e+01 3.60000000e+03 1.12700000e+03 7.32000000e+02\n",
      " 3.90000000e+01 1.60000000e+01 1.70000000e+01 1.27000000e+02\n",
      " 1.40000000e+01 2.00000000e+00]\n",
      "Unk percentage: 0.005140371688414393\n",
      "Unk percentage: 0.004457050243111832\n",
      "Unk percentage: 0.006493506493506494\n"
     ]
    },
    {
     "name": "stderr",
     "output_type": "stream",
     "text": [
      "Generating walks (CPU: 1): 100%|██████████| 10/10 [00:11<00:00,  1.28s/it]"
     ]
    },
    {
     "name": "stdout",
     "output_type": "stream",
     "text": [
      "cluster began\n",
      "cluster end\n"
     ]
    },
    {
     "name": "stderr",
     "output_type": "stream",
     "text": [
      "Computing transition probabilities:  11%|█         | 41/368 [00:00<00:00, 408.00it/s]\n",
      "Computing transition probabilities: 100%|██████████| 368/368 [00:00<00:00, 513.96it/s]\n",
      "Generating walks (CPU: 1):  20%|██        | 2/10 [00:01<00:06,  1.32it/s]"
     ]
    },
    {
     "name": "stdout",
     "output_type": "stream",
     "text": [
      "[3.27000000e+00 7.37760233e-02 6.94547900e+06 1.86519000e+05\n",
      " 3.62700000e+03 1.62200000e+03 1.55500000e+03 3.30000000e+01\n",
      " 4.70000000e+01 5.49200000e+03 6.44000000e+02 6.33000000e+02\n",
      " 1.90000000e+01 6.00000000e+00 1.20000000e+01 8.30000000e+01\n",
      " 4.00000000e+00 0.00000000e+00]\n",
      "Unk percentage: 0.0028308563340410475\n",
      "Unk percentage: 0.0040609137055837565\n"
     ]
    },
    {
     "name": "stderr",
     "output_type": "stream",
     "text": [
      "Generating walks (CPU: 1):  40%|████      | 4/10 [00:04<00:06,  1.06s/it]"
     ]
    },
    {
     "name": "stdout",
     "output_type": "stream",
     "text": [
      "cluster began\n",
      "cluster end\n"
     ]
    },
    {
     "name": "stderr",
     "output_type": "stream",
     "text": [
      "Computing transition probabilities: 100%|██████████| 348/348 [00:00<00:00, 592.60it/s]\n",
      "Generating walks (CPU: 1):  50%|█████     | 5/10 [00:05<00:05,  1.15s/it]"
     ]
    },
    {
     "name": "stdout",
     "output_type": "stream",
     "text": [
      "cluster began\n",
      "cluster end\n"
     ]
    },
    {
     "name": "stderr",
     "output_type": "stream",
     "text": [
      "Computing transition probabilities: 100%|██████████| 286/286 [00:00<00:00, 662.19it/s]\n",
      "Generating walks (CPU: 1):  80%|████████  | 8/10 [00:07<00:01,  1.04it/s]]\n",
      "Generating walks (CPU: 1):  90%|█████████ | 9/10 [00:10<00:01,  1.30s/it]]"
     ]
    },
    {
     "name": "stdout",
     "output_type": "stream",
     "text": [
      "[3.68000000e+00 3.79658208e-02 7.96490800e+06 1.97560000e+05\n",
      " 2.39200000e+03 9.99000000e+02 9.82000000e+02 2.10000000e+01\n",
      " 2.90000000e+01 3.85900000e+03 2.49000000e+02 2.30000000e+02\n",
      " 6.00000000e+00 0.00000000e+00 4.00000000e+00 1.60000000e+01\n",
      " 0.00000000e+00 0.00000000e+00]\n",
      "Unk percentage: 0.0014160962945480293\n",
      "cluster began\n",
      "cluster end\n",
      "Unk percentage: 0.0036363636363636364\n"
     ]
    },
    {
     "name": "stderr",
     "output_type": "stream",
     "text": [
      "Computing transition probabilities: 100%|██████████| 259/259 [00:00<00:00, 1016.10it/s]\n",
      "Generating walks (CPU: 1):   0%|          | 0/10 [00:00<?, ?it/s]\n",
      "Generating walks (CPU: 1):  20%|██        | 2/10 [00:00<00:03,  2.01it/s]]\n"
     ]
    },
    {
     "name": "stdout",
     "output_type": "stream",
     "text": [
      "[2.81000000e+00 6.75594071e-02 3.68910800e+06 1.19449000e+05\n",
      " 2.87700000e+03 1.18100000e+03 1.35500000e+03 2.10000000e+01\n",
      " 3.90000000e+01 2.76400000e+03 4.43000000e+02 3.76000000e+02\n",
      " 9.00000000e+00 3.00000000e+00 6.00000000e+00 3.70000000e+01\n",
      " 2.00000000e+00 0.00000000e+00]\n",
      "Unk percentage: 0.0030547070258261596\n"
     ]
    },
    {
     "name": "stderr",
     "output_type": "stream",
     "text": [
      "\r",
      "Generating walks (CPU: 1):  30%|███       | 3/10 [00:02<00:04,  1.51it/s]"
     ]
    },
    {
     "name": "stdout",
     "output_type": "stream",
     "text": [
      "Unk percentage: 0.01002004008016032\n"
     ]
    },
    {
     "name": "stderr",
     "output_type": "stream",
     "text": [
      "Generating walks (CPU: 1):  50%|█████     | 5/10 [00:04<00:05,  1.07s/it]"
     ]
    },
    {
     "name": "stdout",
     "output_type": "stream",
     "text": [
      "[3.57000000e+00 7.67941159e-02 6.72358800e+06 1.55891000e+05\n",
      " 2.74100000e+03 1.27000000e+03 1.16800000e+03 2.20000000e+01\n",
      " 2.50000000e+01 1.36970000e+04 1.99000000e+03 2.00100000e+03\n",
      " 1.30000000e+01 2.00000000e+00 8.00000000e+00 1.14500000e+03\n",
      " 3.00000000e+00 1.00000000e+00]\n",
      "Unk percentage: 0.002806361085126286\n"
     ]
    },
    {
     "name": "stderr",
     "output_type": "stream",
     "text": [
      "Generating walks (CPU: 1): 100%|██████████| 10/10 [00:10<00:00,  1.07s/it]\n"
     ]
    },
    {
     "name": "stdout",
     "output_type": "stream",
     "text": [
      "[3.27000000e+00 5.18427649e-02 2.72675600e+06 9.59160000e+04\n",
      " 2.04700000e+03 7.77000000e+02 9.52000000e+02 2.60000000e+01\n",
      " 4.00000000e+01 2.01000000e+03 2.67000000e+02 2.36000000e+02\n",
      " 5.00000000e+00 4.00000000e+00 2.00000000e+00 1.70000000e+01\n",
      " 1.00000000e+00 0.00000000e+00]\n",
      "Unk percentage: 0.003134796238244514\n",
      "cluster began\n",
      "cluster end\n"
     ]
    },
    {
     "name": "stderr",
     "output_type": "stream",
     "text": [
      "Computing transition probabilities: 100%|██████████| 385/385 [00:00<00:00, 561.48it/s]\n",
      "Generating walks (CPU: 1):   0%|          | 0/10 [00:00<?, ?it/s]"
     ]
    },
    {
     "name": "stdout",
     "output_type": "stream",
     "text": [
      "cluster began\n",
      "cluster end\n"
     ]
    },
    {
     "name": "stderr",
     "output_type": "stream",
     "text": [
      "Computing transition probabilities: 100%|██████████| 151/151 [00:00<00:00, 1371.23it/s]\n",
      "Generating walks (CPU: 1):  70%|███████   | 7/10 [00:02<00:01,  2.21it/s]"
     ]
    },
    {
     "name": "stdout",
     "output_type": "stream",
     "text": [
      "cluster began\n",
      "cluster end\n"
     ]
    },
    {
     "name": "stderr",
     "output_type": "stream",
     "text": [
      "Computing transition probabilities: 100%|██████████| 271/271 [00:00<00:00, 790.24it/s]\n",
      "Generating walks (CPU: 1): 100%|██████████| 10/10 [00:04<00:00,  2.03it/s]\n",
      "Generating walks (CPU: 1):  50%|█████     | 5/10 [00:05<00:05,  1.17s/it]"
     ]
    },
    {
     "name": "stdout",
     "output_type": "stream",
     "text": [
      "[3.63000000e+00 1.27978095e-01 5.18594000e+05 2.87290000e+04\n",
      " 1.05500000e+03 4.26000000e+02 4.80000000e+02 1.40000000e+01\n",
      " 9.00000000e+00 1.20400000e+03 3.67000000e+02 3.27000000e+02\n",
      " 1.20000000e+01 1.00000000e+00 3.00000000e+00 7.70000000e+01\n",
      " 2.00000000e+00 0.00000000e+00]\n",
      "Unk percentage: 0.006419400855920114\n"
     ]
    },
    {
     "name": "stderr",
     "output_type": "stream",
     "text": [
      "Generating walks (CPU: 1):  80%|████████  | 8/10 [00:07<00:01,  1.02it/s]"
     ]
    },
    {
     "name": "stdout",
     "output_type": "stream",
     "text": [
      "cluster began\n",
      "cluster end\n"
     ]
    },
    {
     "name": "stderr",
     "output_type": "stream",
     "text": [
      "Computing transition probabilities: 100%|██████████| 150/150 [00:00<00:00, 1099.64it/s]\n",
      "Generating walks (CPU: 1):  60%|██████    | 6/10 [00:02<00:01,  2.32it/s]]\n",
      "Generating walks (CPU: 1):  70%|███████   | 7/10 [00:03<00:01,  2.09it/s]\n",
      "Generating walks (CPU: 1):  90%|█████████ | 9/10 [00:04<00:00,  1.93it/s]"
     ]
    },
    {
     "name": "stdout",
     "output_type": "stream",
     "text": [
      "[3.54000000e+00 4.01841958e-02 3.12093200e+06 1.15628000e+05\n",
      " 1.67000000e+03 7.09000000e+02 6.60000000e+02 1.60000000e+01\n",
      " 2.40000000e+01 3.81500000e+03 2.97000000e+02 3.19000000e+02\n",
      " 9.00000000e+00 3.00000000e+00 3.00000000e+00 5.10000000e+01\n",
      " 4.00000000e+00 0.00000000e+00]\n",
      "Unk percentage: 0.00658157159952134\n",
      "Unk percentage: 0.0046452026269421754\n"
     ]
    },
    {
     "name": "stderr",
     "output_type": "stream",
     "text": [
      "\r",
      "Generating walks (CPU: 1): 100%|██████████| 10/10 [00:04<00:00,  1.91it/s]"
     ]
    },
    {
     "name": "stdout",
     "output_type": "stream",
     "text": [
      "Unk percentage: 0.002631578947368421\n"
     ]
    },
    {
     "name": "stderr",
     "output_type": "stream",
     "text": [
      "\n"
     ]
    },
    {
     "name": "stdout",
     "output_type": "stream",
     "text": [
      "[4.14000000e+00 9.93334271e-02 5.00673000e+05 3.45250000e+04\n",
      " 1.25300000e+03 6.32000000e+02 5.95000000e+02 2.00000000e+01\n",
      " 5.00000000e+01 1.54600000e+03 4.25000000e+02 4.19000000e+02\n",
      " 7.00000000e+00 4.00000000e+00 5.00000000e+00 1.19000000e+02\n",
      " 1.00000000e+00 0.00000000e+00]\n",
      "Unk percentage: 0.0048383290063724336\n",
      "[3.0100000e+00 6.9442277e-02 9.1282680e+06 2.2224500e+05 4.2420000e+03\n",
      " 1.8460000e+03 1.9680000e+03 3.2000000e+01 4.4000000e+01 4.0100000e+03\n",
      " 4.5000000e+02 4.2500000e+02 1.3000000e+01 7.0000000e+00 7.0000000e+00\n",
      " 2.7000000e+01 0.0000000e+00 0.0000000e+00]\n",
      "Unk percentage: 0.0027913468248429866\n",
      "Unk percentage: 0.006666666666666667\n",
      "cluster began\n",
      "cluster end\n"
     ]
    },
    {
     "name": "stderr",
     "output_type": "stream",
     "text": [
      "Computing transition probabilities: 100%|██████████| 367/367 [00:00<00:00, 536.98it/s]\n",
      "Generating walks (CPU: 1):  70%|███████   | 7/10 [00:08<00:03,  1.22s/it]"
     ]
    },
    {
     "name": "stdout",
     "output_type": "stream",
     "text": [
      "cluster began\n",
      "cluster end\n"
     ]
    },
    {
     "name": "stderr",
     "output_type": "stream",
     "text": [
      "Computing transition probabilities: 100%|██████████| 386/386 [00:00<00:00, 703.22it/s]\n",
      "Generating walks (CPU: 1):   0%|          | 0/10 [00:00<?, ?it/s]"
     ]
    },
    {
     "name": "stdout",
     "output_type": "stream",
     "text": [
      "cluster began\n",
      "cluster end\n"
     ]
    },
    {
     "name": "stderr",
     "output_type": "stream",
     "text": [
      "Computing transition probabilities:  30%|███       | 89/294 [00:00<00:00, 886.66it/s]"
     ]
    },
    {
     "name": "stdout",
     "output_type": "stream",
     "text": [
      "cluster began\n",
      "cluster end\n"
     ]
    },
    {
     "name": "stderr",
     "output_type": "stream",
     "text": [
      "Computing transition probabilities: 100%|██████████| 146/146 [00:00<00:00, 928.29it/s]\n",
      "Computing transition probabilities: 100%|██████████| 294/294 [00:00<00:00, 686.41it/s]\n",
      "Generating walks (CPU: 1):  90%|█████████ | 9/10 [00:03<00:00,  2.24it/s]]\n",
      "Generating walks (CPU: 1): 100%|██████████| 10/10 [00:04<00:00,  2.09it/s]\n",
      "Generating walks (CPU: 1):  60%|██████    | 6/10 [00:05<00:03,  1.09it/s]"
     ]
    },
    {
     "name": "stdout",
     "output_type": "stream",
     "text": [
      "[3.16000000e+00 6.06942584e-02 4.68842000e+05 2.71270000e+04\n",
      " 6.34000000e+02 1.98000000e+02 2.56000000e+02 5.00000000e+00\n",
      " 8.00000000e+00 4.56000000e+02 5.90000000e+01 4.90000000e+01\n",
      " 2.00000000e+00 1.00000000e+00 1.00000000e+00 2.00000000e+00\n",
      " 0.00000000e+00 0.00000000e+00]\n",
      "Unk percentage: 0.00558659217877095\n",
      "[3.57000000e+00 8.86141506e-02 7.88843100e+06 1.94883000e+05\n",
      " 6.09200000e+03 2.75600000e+03 2.90300000e+03 3.30000000e+01\n",
      " 5.00000000e+01 6.52700000e+03 1.33100000e+03 1.26600000e+03\n",
      " 2.70000000e+01 1.00000000e+00 9.00000000e+00 1.43000000e+02\n",
      " 7.00000000e+00 1.00000000e+00]\n",
      "Unk percentage: 0.007994186046511628\n",
      "Unk percentage: 0.004878048780487805\n"
     ]
    },
    {
     "name": "stderr",
     "output_type": "stream",
     "text": [
      "Generating walks (CPU: 1): 100%|██████████| 10/10 [00:09<00:00,  1.00s/it]\n",
      "Generating walks (CPU: 1):  90%|█████████ | 9/10 [00:11<00:01,  1.41s/it]"
     ]
    },
    {
     "name": "stdout",
     "output_type": "stream",
     "text": [
      "[3.8600000e+00 1.2340134e-01 3.9953750e+06 1.4214300e+05 2.9790000e+03\n",
      " 1.4830000e+03 1.3090000e+03 4.5000000e+01 6.9000000e+01 5.0180000e+03\n",
      " 4.5700000e+02 4.7500000e+02 3.7000000e+01 1.1000000e+01 1.8000000e+01\n",
      " 3.4000000e+01 1.2000000e+01 1.0000000e+00]\n",
      "Unk percentage: 0.0017205781142463868\n"
     ]
    },
    {
     "name": "stderr",
     "output_type": "stream",
     "text": [
      "\r",
      "Generating walks (CPU: 1): 100%|██████████| 10/10 [00:13<00:00,  1.48s/it]"
     ]
    },
    {
     "name": "stdout",
     "output_type": "stream",
     "text": [
      "Unk percentage: 0.006157635467980296\n"
     ]
    },
    {
     "name": "stderr",
     "output_type": "stream",
     "text": [
      "\n"
     ]
    },
    {
     "name": "stdout",
     "output_type": "stream",
     "text": [
      "[3.64000000e+00 4.29559283e-02 9.18798000e+06 2.37567000e+05\n",
      " 3.50100000e+03 1.43700000e+03 1.60300000e+03 3.80000000e+01\n",
      " 4.60000000e+01 4.20200000e+03 3.79000000e+02 3.24000000e+02\n",
      " 9.00000000e+00 2.00000000e+00 1.00000000e+00 2.80000000e+01\n",
      " 3.00000000e+00 0.00000000e+00]\n",
      "Unk percentage: 0.0030737704918032786\n",
      "cluster began\n",
      "cluster end\n"
     ]
    },
    {
     "name": "stderr",
     "output_type": "stream",
     "text": [
      "Computing transition probabilities: 100%|██████████| 142/142 [00:00<00:00, 1479.63it/s]\n",
      "Generating walks (CPU: 1):   0%|          | 0/10 [00:00<?, ?it/s]"
     ]
    },
    {
     "name": "stdout",
     "output_type": "stream",
     "text": [
      "cluster began\n",
      "cluster end\n"
     ]
    },
    {
     "name": "stderr",
     "output_type": "stream",
     "text": [
      "Computing transition probabilities: 100%|██████████| 111/111 [00:00<00:00, 2074.81it/s]\n",
      "Generating walks (CPU: 1):  80%|████████  | 8/10 [00:03<00:00,  2.28it/s]]\n",
      "Generating walks (CPU: 1):  90%|█████████ | 9/10 [00:03<00:00,  2.23it/s]"
     ]
    },
    {
     "name": "stdout",
     "output_type": "stream",
     "text": [
      "[2.94000000e+00 4.78073002e-02 1.99498000e+05 1.52130000e+04\n",
      " 4.99000000e+02 1.65000000e+02 2.14000000e+02 8.00000000e+00\n",
      " 7.00000000e+00 1.66000000e+02 2.70000000e+01 2.30000000e+01\n",
      " 0.00000000e+00 0.00000000e+00 0.00000000e+00 0.00000000e+00\n",
      " 0.00000000e+00 0.00000000e+00]\n",
      "Unk percentage: 0.0022613065326633165\n"
     ]
    },
    {
     "name": "stderr",
     "output_type": "stream",
     "text": [
      "\r",
      "Generating walks (CPU: 1): 100%|██████████| 10/10 [00:04<00:00,  2.18it/s]"
     ]
    },
    {
     "name": "stdout",
     "output_type": "stream",
     "text": [
      "Unk percentage: 0.0029800466442083443\n"
     ]
    },
    {
     "name": "stderr",
     "output_type": "stream",
     "text": [
      "\n"
     ]
    },
    {
     "name": "stdout",
     "output_type": "stream",
     "text": [
      "Unk percentage: 0.0021944632005401754\n",
      "Unk percentage: 0.004573170731707317\n",
      "[2.35000000e+00 9.92026862e-02 4.31778000e+05 2.26340000e+04\n",
      " 7.74000000e+02 3.09000000e+02 3.23000000e+02 9.00000000e+00\n",
      " 9.00000000e+00 9.33000000e+02 2.45000000e+02 2.35000000e+02\n",
      " 6.00000000e+00 0.00000000e+00 0.00000000e+00 5.40000000e+01\n",
      " 1.00000000e+00 0.00000000e+00]\n",
      "Unk percentage: 0.002795248078266946\n",
      "Unk percentage: 0.0030959752321981426\n",
      "Unk percentage: 0.00306044376434583\n",
      "cluster began\n",
      "cluster end\n"
     ]
    },
    {
     "name": "stderr",
     "output_type": "stream",
     "text": [
      "Computing transition probabilities: 100%|██████████| 218/218 [00:00<00:00, 944.78it/s] \n",
      "Generating walks (CPU: 1):  70%|███████   | 7/10 [00:04<00:01,  1.56it/s]"
     ]
    },
    {
     "name": "stdout",
     "output_type": "stream",
     "text": [
      "cluster began\n",
      "cluster end\n"
     ]
    },
    {
     "name": "stderr",
     "output_type": "stream",
     "text": [
      "Computing transition probabilities: 100%|██████████| 324/324 [00:00<00:00, 484.44it/s]\n",
      "Generating walks (CPU: 1):  30%|███       | 3/10 [00:02<00:05,  1.34it/s]]\n",
      "Generating walks (CPU: 1):  40%|████      | 4/10 [00:03<00:05,  1.10it/s]"
     ]
    },
    {
     "name": "stdout",
     "output_type": "stream",
     "text": [
      "[2.72000000e+00 7.67491015e-02 1.60672600e+06 6.69970000e+04\n",
      " 1.62400000e+03 6.91000000e+02 7.32000000e+02 2.40000000e+01\n",
      " 2.10000000e+01 2.22800000e+03 2.71000000e+02 2.25000000e+02\n",
      " 6.00000000e+00 2.00000000e+00 3.00000000e+00 2.90000000e+01\n",
      " 1.00000000e+00 0.00000000e+00]\n",
      "Unk percentage: 0.003355704697986577\n"
     ]
    },
    {
     "name": "stderr",
     "output_type": "stream",
     "text": [
      "Generating walks (CPU: 1):  80%|████████  | 8/10 [00:08<00:02,  1.07s/it]"
     ]
    },
    {
     "name": "stdout",
     "output_type": "stream",
     "text": [
      "cluster began\n",
      "cluster end\n"
     ]
    },
    {
     "name": "stderr",
     "output_type": "stream",
     "text": [
      "Computing transition probabilities: 100%|██████████| 191/191 [00:00<00:00, 846.97it/s]\n",
      "Generating walks (CPU: 1):   0%|          | 0/10 [00:00<?, ?it/s]"
     ]
    },
    {
     "name": "stdout",
     "output_type": "stream",
     "text": [
      "cluster began\n",
      "cluster end\n"
     ]
    },
    {
     "name": "stderr",
     "output_type": "stream",
     "text": [
      "Computing transition probabilities: 100%|██████████| 330/330 [00:00<00:00, 595.33it/s]\n",
      "Generating walks (CPU: 1):  50%|█████     | 5/10 [00:02<00:02,  1.78it/s]]\n",
      "Generating walks (CPU: 1):  40%|████      | 4/10 [00:03<00:05,  1.03it/s]"
     ]
    },
    {
     "name": "stdout",
     "output_type": "stream",
     "text": [
      "[3.95000000e+00 6.36928696e-02 5.41099100e+06 1.44778000e+05\n",
      " 3.14600000e+03 1.28100000e+03 1.51900000e+03 2.90000000e+01\n",
      " 1.80000000e+01 2.07600000e+03 2.41000000e+02 2.28000000e+02\n",
      " 5.00000000e+00 0.00000000e+00 0.00000000e+00 9.00000000e+00\n",
      " 0.00000000e+00 0.00000000e+00]\n",
      "Unk percentage: 0.0031446540880503146\n"
     ]
    },
    {
     "name": "stderr",
     "output_type": "stream",
     "text": [
      "Generating walks (CPU: 1): 100%|██████████| 10/10 [00:06<00:00,  1.53it/s]\n",
      "Generating walks (CPU: 1):  60%|██████    | 6/10 [00:06<00:04,  1.11s/it]"
     ]
    },
    {
     "name": "stdout",
     "output_type": "stream",
     "text": [
      "[3.24000000e+00 4.24226015e-02 1.07091400e+06 4.92600000e+04\n",
      " 1.22400000e+03 4.72000000e+02 5.00000000e+02 9.00000000e+00\n",
      " 2.10000000e+01 2.16800000e+03 2.85000000e+02 2.70000000e+02\n",
      " 1.00000000e+01 3.00000000e+00 4.00000000e+00 3.90000000e+01\n",
      " 1.00000000e+00 0.00000000e+00]\n",
      "Unk percentage: 0.0016118633139909735\n",
      "Unk percentage: 0.009727626459143969\n"
     ]
    },
    {
     "name": "stderr",
     "output_type": "stream",
     "text": [
      "Generating walks (CPU: 1):  80%|████████  | 8/10 [00:08<00:02,  1.19s/it]"
     ]
    },
    {
     "name": "stdout",
     "output_type": "stream",
     "text": [
      "cluster began\n",
      "cluster end\n"
     ]
    },
    {
     "name": "stderr",
     "output_type": "stream",
     "text": [
      "Computing transition probabilities: 100%|██████████| 204/204 [00:00<00:00, 1051.60it/s]\n",
      "Generating walks (CPU: 1):  50%|█████     | 5/10 [00:02<00:02,  1.84it/s]]\n",
      "Generating walks (CPU: 1):  80%|████████  | 8/10 [00:04<00:01,  1.50it/s]"
     ]
    },
    {
     "name": "stdout",
     "output_type": "stream",
     "text": [
      "[2.90000000e+00 1.17542388e-01 5.70745800e+06 1.60220000e+05\n",
      " 4.49800000e+03 2.08100000e+03 2.06800000e+03 2.80000000e+01\n",
      " 3.70000000e+01 3.27300000e+03 6.98000000e+02 7.18000000e+02\n",
      " 2.30000000e+01 4.00000000e+00 7.00000000e+00 8.80000000e+01\n",
      " 3.00000000e+00 0.00000000e+00]\n",
      "Unk percentage: 0.0036194415718717684\n"
     ]
    },
    {
     "name": "stderr",
     "output_type": "stream",
     "text": [
      "\r",
      "Generating walks (CPU: 1):  90%|█████████ | 9/10 [00:05<00:00,  1.47it/s]"
     ]
    },
    {
     "name": "stdout",
     "output_type": "stream",
     "text": [
      "Unk percentage: 0.0030911901081916537\n"
     ]
    },
    {
     "name": "stderr",
     "output_type": "stream",
     "text": [
      "Generating walks (CPU: 1): 100%|██████████| 10/10 [00:06<00:00,  1.47it/s]\n"
     ]
    },
    {
     "name": "stdout",
     "output_type": "stream",
     "text": [
      "[3.87000000e+00 8.49068099e-02 1.30565600e+06 6.20360000e+04\n",
      " 1.39400000e+03 5.70000000e+02 6.21000000e+02 1.90000000e+01\n",
      " 2.20000000e+01 2.76900000e+03 2.92000000e+02 2.62000000e+02\n",
      " 1.90000000e+01 3.00000000e+00 4.00000000e+00 3.10000000e+01\n",
      " 3.00000000e+00 0.00000000e+00]\n",
      "Unk percentage: 0.0015860428231562252\n",
      "Unk percentage: 0.001558325912733749\n",
      "Unk percentage: 0.0016467682173734047\n",
      "Unk percentage: 0.0009380863039399625\n",
      "Unk percentage: 0.001093693036820999\n",
      "Unk percentage: 0.0016578249336870027\n",
      "Unk percentage: 0.003278688524590164\n",
      "cluster began\n",
      "cluster end\n"
     ]
    },
    {
     "name": "stderr",
     "output_type": "stream",
     "text": [
      "Computing transition probabilities: 100%|██████████| 319/319 [00:00<00:00, 593.19it/s]\n",
      "Generating walks (CPU: 1):  20%|██        | 2/10 [00:01<00:05,  1.43it/s]"
     ]
    },
    {
     "name": "stdout",
     "output_type": "stream",
     "text": [
      "cluster began\n",
      "cluster end\n"
     ]
    },
    {
     "name": "stderr",
     "output_type": "stream",
     "text": [
      "Computing transition probabilities: 100%|██████████| 141/141 [00:00<00:00, 1568.22it/s]\n",
      "Generating walks (CPU: 1):  70%|███████   | 7/10 [00:07<00:03,  1.07s/it]]\n"
     ]
    },
    {
     "name": "stdout",
     "output_type": "stream",
     "text": [
      "[3.28000000e+00 1.23359655e-01 4.17689000e+05 2.68440000e+04\n",
      " 9.89000000e+02 3.69000000e+02 4.45000000e+02 1.20000000e+01\n",
      " 1.40000000e+01 8.32000000e+02 1.75000000e+02 1.67000000e+02\n",
      " 1.30000000e+01 6.00000000e+00 1.00000000e+00 2.20000000e+01\n",
      " 2.00000000e+00 0.00000000e+00]\n",
      "Unk percentage: 0.002672082086361693\n"
     ]
    },
    {
     "name": "stderr",
     "output_type": "stream",
     "text": [
      "\r",
      "Generating walks (CPU: 1):  80%|████████  | 8/10 [00:08<00:02,  1.13s/it]"
     ]
    },
    {
     "name": "stdout",
     "output_type": "stream",
     "text": [
      "Unk percentage: 0.003776803118908382\n",
      "Unk percentage: 0.004113924050632912\n",
      "Unk percentage: 0.004982984929508993\n",
      "Unk percentage: 0.0017123287671232876\n",
      "Unk percentage: 0.0036877688998156115\n",
      "Unk percentage: 0.003115264797507788\n"
     ]
    },
    {
     "name": "stderr",
     "output_type": "stream",
     "text": [
      "\r",
      "Generating walks (CPU: 1):  90%|█████████ | 9/10 [00:09<00:01,  1.11s/it]"
     ]
    },
    {
     "name": "stdout",
     "output_type": "stream",
     "text": [
      "Unk percentage: 0.00216025137470542\n",
      "Unk percentage: 0.006885155604516662\n",
      "cluster began\n",
      "cluster end\n",
      "Unk percentage: 0.0013386880856760374\n"
     ]
    },
    {
     "name": "stderr",
     "output_type": "stream",
     "text": [
      "\r",
      "Computing transition probabilities:   0%|          | 0/358 [00:00<?, ?it/s]"
     ]
    },
    {
     "name": "stdout",
     "output_type": "stream",
     "text": [
      "Unk percentage: 0.0009552923194497516\n"
     ]
    },
    {
     "name": "stderr",
     "output_type": "stream",
     "text": [
      "Computing transition probabilities:  34%|███▍      | 123/358 [00:00<00:00, 631.05it/s]"
     ]
    },
    {
     "name": "stdout",
     "output_type": "stream",
     "text": [
      "Unk percentage: 0.004561003420752566\n"
     ]
    },
    {
     "name": "stderr",
     "output_type": "stream",
     "text": [
      "Computing transition probabilities: 100%|██████████| 358/358 [00:00<00:00, 521.63it/s]\n",
      "Generating walks (CPU: 1): 100%|██████████| 10/10 [00:10<00:00,  1.16s/it]\n",
      "Generating walks (CPU: 1):  30%|███       | 3/10 [00:03<00:06,  1.03it/s]"
     ]
    },
    {
     "name": "stdout",
     "output_type": "stream",
     "text": [
      "cluster began\n",
      "cluster end\n"
     ]
    },
    {
     "name": "stderr",
     "output_type": "stream",
     "text": [
      "Computing transition probabilities: 100%|██████████| 233/233 [00:00<00:00, 718.17it/s]\n",
      "Generating walks (CPU: 1):   0%|          | 0/10 [00:00<?, ?it/s]"
     ]
    },
    {
     "name": "stdout",
     "output_type": "stream",
     "text": [
      "[2.74000000e+00 5.66339961e-02 5.16670100e+06 1.35306000e+05\n",
      " 1.93300000e+03 9.24000000e+02 7.74000000e+02 1.00000000e+01\n",
      " 1.20000000e+01 2.93300000e+03 2.48000000e+02 2.47000000e+02\n",
      " 6.00000000e+00 0.00000000e+00 2.00000000e+00 1.70000000e+01\n",
      " 3.00000000e+00 0.00000000e+00]\n",
      "Unk percentage: 0.002531645569620253\n"
     ]
    },
    {
     "name": "stderr",
     "output_type": "stream",
     "text": [
      "Generating walks (CPU: 1): 100%|██████████| 10/10 [00:10<00:00,  1.24s/it]\n",
      "Generating walks (CPU: 1): 100%|██████████| 10/10 [00:15<00:00,  1.84s/it]\n"
     ]
    },
    {
     "name": "stdout",
     "output_type": "stream",
     "text": [
      "[3.660000e+00 6.824171e-02 1.970123e+06 7.916600e+04 1.581000e+03\n",
      " 7.500000e+02 6.420000e+02 2.000000e+01 1.700000e+01 1.730000e+03\n",
      " 1.460000e+02 1.630000e+02 9.000000e+00 1.000000e+00 3.000000e+00\n",
      " 7.000000e+00 2.000000e+00 0.000000e+00]\n",
      "Unk percentage: 0.006024096385542169\n",
      "cluster began\n",
      "cluster end\n"
     ]
    },
    {
     "name": "stderr",
     "output_type": "stream",
     "text": [
      "Computing transition probabilities: 100%|██████████| 220/220 [00:00<00:00, 554.12it/s]\n",
      "Generating walks (CPU: 1):   0%|          | 0/10 [00:00<?, ?it/s]"
     ]
    },
    {
     "name": "stdout",
     "output_type": "stream",
     "text": [
      "[2.66000000e+00 1.04129884e-01 7.32231500e+06 1.79199000e+05\n",
      " 5.72700000e+03 2.70200000e+03 2.63100000e+03 2.90000000e+01\n",
      " 3.10000000e+01 4.62500000e+03 1.09800000e+03 1.09000000e+03\n",
      " 2.60000000e+01 4.00000000e+00 9.00000000e+00 1.19000000e+02\n",
      " 5.00000000e+00 0.00000000e+00]\n",
      "Unk percentage: 0.004171011470281543\n"
     ]
    },
    {
     "name": "stderr",
     "output_type": "stream",
     "text": [
      "Generating walks (CPU: 1):  40%|████      | 4/10 [00:04<00:06,  1.03s/it]"
     ]
    },
    {
     "name": "stdout",
     "output_type": "stream",
     "text": [
      "cluster began\n",
      "cluster end\n"
     ]
    },
    {
     "name": "stderr",
     "output_type": "stream",
     "text": [
      "Computing transition probabilities: 100%|██████████| 376/376 [00:01<00:00, 326.85it/s]\n",
      "Generating walks (CPU: 1): 100%|██████████| 10/10 [00:11<00:00,  1.20s/it]\n",
      "Generating walks (CPU: 1):  50%|█████     | 5/10 [00:09<00:09,  1.94s/it]"
     ]
    },
    {
     "name": "stdout",
     "output_type": "stream",
     "text": [
      "[3.27000000e+00 5.97314142e-02 1.64847000e+06 7.30720000e+04\n",
      " 1.48900000e+03 6.56000000e+02 5.66000000e+02 1.60000000e+01\n",
      " 2.30000000e+01 2.00600000e+03 1.67000000e+02 1.80000000e+02\n",
      " 7.00000000e+00 3.00000000e+00 4.00000000e+00 8.00000000e+00\n",
      " 2.00000000e+00 0.00000000e+00]\n",
      "Unk percentage: 0.0011908306043465317\n",
      "Unk percentage: 0.002302820955670697\n",
      "Unk percentage: 0.0018660584698320546\n",
      "Unk percentage: 0.003468208092485549\n"
     ]
    },
    {
     "name": "stderr",
     "output_type": "stream",
     "text": [
      "\r",
      "Generating walks (CPU: 1):  60%|██████    | 6/10 [00:11<00:08,  2.07s/it]"
     ]
    },
    {
     "name": "stdout",
     "output_type": "stream",
     "text": [
      "cluster began\n",
      "cluster end\n"
     ]
    },
    {
     "name": "stderr",
     "output_type": "stream",
     "text": [
      "Computing transition probabilities: 100%|██████████| 92/92 [00:00<00:00, 1053.47it/s]\n",
      "Generating walks (CPU: 1):  90%|█████████ | 9/10 [00:18<00:02,  2.18s/it]]\n"
     ]
    },
    {
     "name": "stdout",
     "output_type": "stream",
     "text": [
      "cluster began\n",
      "cluster end\n",
      "[3.27472527e+00 6.35196182e-02 1.09479000e+05 1.08980000e+04\n",
      " 3.86000000e+02 1.33000000e+02 1.35000000e+02 3.00000000e+00\n",
      " 1.10000000e+01 3.19000000e+02 5.70000000e+01 5.20000000e+01\n",
      " 4.00000000e+00 1.00000000e+00 2.00000000e+00 5.00000000e+00\n",
      " 0.00000000e+00 0.00000000e+00]\n",
      "Unk percentage: 0.0009433962264150943\n"
     ]
    },
    {
     "name": "stderr",
     "output_type": "stream",
     "text": [
      "Computing transition probabilities:  25%|██▍       | 55/222 [00:00<00:00, 541.40it/s]"
     ]
    },
    {
     "name": "stdout",
     "output_type": "stream",
     "text": [
      "Unk percentage: 0.001006036217303823\n"
     ]
    },
    {
     "name": "stderr",
     "output_type": "stream",
     "text": [
      "Computing transition probabilities:  55%|█████▍    | 122/222 [00:00<00:00, 391.71it/s]"
     ]
    },
    {
     "name": "stdout",
     "output_type": "stream",
     "text": [
      "Unk percentage: 0.005629477993858751\n"
     ]
    },
    {
     "name": "stderr",
     "output_type": "stream",
     "text": [
      "Computing transition probabilities: 100%|██████████| 222/222 [00:00<00:00, 409.17it/s]\n",
      "Generating walks (CPU: 1): 100%|██████████| 10/10 [00:20<00:00,  2.23s/it]"
     ]
    },
    {
     "name": "stdout",
     "output_type": "stream",
     "text": [
      "Unk percentage: 0.009174311926605505\n"
     ]
    },
    {
     "name": "stderr",
     "output_type": "stream",
     "text": [
      "Generating walks (CPU: 1):  30%|███       | 3/10 [00:02<00:05,  1.21it/s]\n",
      "Generating walks (CPU: 1):  70%|███████   | 7/10 [00:07<00:03,  1.15s/it]"
     ]
    },
    {
     "name": "stdout",
     "output_type": "stream",
     "text": [
      "[3.59000000e+00 4.76845618e-02 8.46938200e+06 2.35126000e+05\n",
      " 3.51000000e+03 1.61700000e+03 1.38900000e+03 3.00000000e+01\n",
      " 5.70000000e+01 6.60100000e+03 5.36000000e+02 5.36000000e+02\n",
      " 1.70000000e+01 2.00000000e+00 3.00000000e+00 6.70000000e+01\n",
      " 2.00000000e+00 0.00000000e+00]\n",
      "Unk percentage: 0.004831320283215327\n"
     ]
    },
    {
     "name": "stderr",
     "output_type": "stream",
     "text": [
      "\r",
      "Generating walks (CPU: 1):  80%|████████  | 8/10 [00:08<00:02,  1.18s/it]"
     ]
    },
    {
     "name": "stdout",
     "output_type": "stream",
     "text": [
      "Unk percentage: 0.00291970802919708\n",
      "Unk percentage: 0.0072064434082238235\n",
      "Unk percentage: 0.005479452054794521\n",
      "Unk percentage: 0.0020330368487928843\n",
      "Unk percentage: 0.0024238227146814403\n"
     ]
    },
    {
     "name": "stderr",
     "output_type": "stream",
     "text": [
      "\r",
      "Generating walks (CPU: 1):  90%|█████████ | 9/10 [00:10<00:01,  1.27s/it]"
     ]
    },
    {
     "name": "stdout",
     "output_type": "stream",
     "text": [
      "Unk percentage: 0.001488316713796696\n",
      "Unk percentage: 0.00558659217877095\n"
     ]
    },
    {
     "name": "stderr",
     "output_type": "stream",
     "text": [
      "Generating walks (CPU: 1): 100%|██████████| 10/10 [00:11<00:00,  1.28s/it]\n"
     ]
    },
    {
     "name": "stdout",
     "output_type": "stream",
     "text": [
      "[4.32000000e+00 1.46219284e-01 1.68885500e+06 7.52300000e+04\n",
      " 2.99400000e+03 1.48500000e+03 1.21800000e+03 3.70000000e+01\n",
      " 7.20000000e+01 3.40900000e+03 5.89000000e+02 6.16000000e+02\n",
      " 2.50000000e+01 8.00000000e+00 1.40000000e+01 7.00000000e+01\n",
      " 7.00000000e+00 1.00000000e+00]\n",
      "Unk percentage: 0.005141388174807198\n",
      "Unk percentage: 0.003446115288220551\n",
      "cluster began\n",
      "cluster end\n"
     ]
    },
    {
     "name": "stderr",
     "output_type": "stream",
     "text": [
      "\r",
      "Computing transition probabilities:   0%|          | 0/275 [00:00<?, ?it/s]"
     ]
    },
    {
     "name": "stdout",
     "output_type": "stream",
     "text": [
      "Unk percentage: 0.003943908851884312\n"
     ]
    },
    {
     "name": "stderr",
     "output_type": "stream",
     "text": [
      "\r",
      "Computing transition probabilities:  17%|█▋        | 47/275 [00:00<00:00, 462.54it/s]"
     ]
    },
    {
     "name": "stdout",
     "output_type": "stream",
     "text": [
      "Unk percentage: 0.004739336492890996\n"
     ]
    },
    {
     "name": "stderr",
     "output_type": "stream",
     "text": [
      "Computing transition probabilities: 100%|██████████| 275/275 [00:00<00:00, 403.17it/s]\n",
      "Generating walks (CPU: 1):  50%|█████     | 5/10 [00:07<00:07,  1.44s/it]"
     ]
    },
    {
     "name": "stdout",
     "output_type": "stream",
     "text": [
      "cluster began\n",
      "cluster end\n"
     ]
    },
    {
     "name": "stderr",
     "output_type": "stream",
     "text": [
      "Computing transition probabilities: 100%|██████████| 154/154 [00:00<00:00, 854.52it/s]\n",
      "Generating walks (CPU: 1): 100%|██████████| 10/10 [00:07<00:00,  1.23it/s]\n",
      "\n"
     ]
    },
    {
     "name": "stdout",
     "output_type": "stream",
     "text": [
      "cluster began\n",
      "cluster end\n"
     ]
    },
    {
     "name": "stderr",
     "output_type": "stream",
     "text": [
      "Computing transition probabilities:  80%|███████▉  | 95/119 [00:00<00:00, 939.16it/s]"
     ]
    },
    {
     "name": "stdout",
     "output_type": "stream",
     "text": [
      "[3.04000000e+00 3.98774442e-02 5.50620000e+05 3.25240000e+04\n",
      " 7.79000000e+02 2.83000000e+02 2.96000000e+02 1.00000000e+01\n",
      " 1.60000000e+01 5.78000000e+02 8.20000000e+01 7.80000000e+01\n",
      " 1.00000000e+00 1.00000000e+00 1.00000000e+00 6.00000000e+00\n",
      " 1.00000000e+00 0.00000000e+00]\n"
     ]
    },
    {
     "name": "stderr",
     "output_type": "stream",
     "text": [
      "Computing transition probabilities: 100%|██████████| 119/119 [00:00<00:00, 875.27it/s]\n",
      "Generating walks (CPU: 1):   0%|          | 0/10 [00:00<?, ?it/s]"
     ]
    },
    {
     "name": "stdout",
     "output_type": "stream",
     "text": [
      "Unk percentage: 0.006695913184022166\n",
      "Unk percentage: 0.0038499928703835734\n"
     ]
    },
    {
     "name": "stderr",
     "output_type": "stream",
     "text": [
      "\r",
      "Generating walks (CPU: 1):  20%|██        | 2/10 [00:00<00:02,  3.14it/s]"
     ]
    },
    {
     "name": "stdout",
     "output_type": "stream",
     "text": [
      "[3.20000000e+00 3.72127436e-02 3.28284600e+06 1.00489000e+05\n",
      " 2.20500000e+03 9.69000000e+02 9.63000000e+02 2.20000000e+01\n",
      " 2.20000000e+01 2.77400000e+03 3.44000000e+02 3.47000000e+02\n",
      " 8.00000000e+00 4.00000000e+00 3.00000000e+00 2.80000000e+01\n",
      " 0.00000000e+00 0.00000000e+00]\n",
      "Unk percentage: 0.010778443113772455\n",
      "Unk percentage: 0.00112943302462164\n"
     ]
    },
    {
     "name": "stderr",
     "output_type": "stream",
     "text": [
      "\r",
      "Generating walks (CPU: 1):  30%|███       | 3/10 [00:01<00:03,  2.26it/s]"
     ]
    },
    {
     "name": "stdout",
     "output_type": "stream",
     "text": [
      "Unk percentage: 0.001092896174863388\n",
      "Unk percentage: 0.00368052999631947\n"
     ]
    },
    {
     "name": "stderr",
     "output_type": "stream",
     "text": [
      "Generating walks (CPU: 1): 100%|██████████| 10/10 [00:06<00:00,  1.53it/s]"
     ]
    },
    {
     "name": "stdout",
     "output_type": "stream",
     "text": [
      "cluster began\n",
      "cluster end\n"
     ]
    },
    {
     "name": "stderr",
     "output_type": "stream",
     "text": [
      "\n",
      "Computing transition probabilities: 100%|██████████| 248/248 [00:00<00:00, 356.89it/s]\n",
      "Generating walks (CPU: 1):   0%|          | 0/10 [00:00<?, ?it/s]"
     ]
    },
    {
     "name": "stdout",
     "output_type": "stream",
     "text": [
      "[2.66000000e+00 3.24279101e-02 2.49529000e+05 1.67050000e+04\n",
      " 2.85000000e+02 8.30000000e+01 7.70000000e+01 4.00000000e+00\n",
      " 1.00000000e+00 2.10000000e+02 1.10000000e+01 1.10000000e+01\n",
      " 0.00000000e+00 0.00000000e+00 0.00000000e+00 0.00000000e+00\n",
      " 0.00000000e+00 0.00000000e+00]\n",
      "Unk percentage: 0.005649717514124294\n"
     ]
    },
    {
     "name": "stderr",
     "output_type": "stream",
     "text": [
      "Generating walks (CPU: 1): 100%|██████████| 10/10 [00:13<00:00,  1.50s/it]\n"
     ]
    },
    {
     "name": "stdout",
     "output_type": "stream",
     "text": [
      "[4.49000000e+00 1.18011254e-01 2.38123200e+06 8.78550000e+04\n",
      " 3.05400000e+03 1.22100000e+03 1.67900000e+03 2.60000000e+01\n",
      " 4.90000000e+01 4.24000000e+03 8.86000000e+02 7.05000000e+02\n",
      " 2.80000000e+01 6.00000000e+00 1.10000000e+01 1.14000000e+02\n",
      " 6.00000000e+00 3.00000000e+00]\n",
      "Unk percentage: 0.0029940119760479044\n",
      "Unk percentage: 0.0022675736961451248\n",
      "cluster began\n",
      "cluster end\n"
     ]
    },
    {
     "name": "stderr",
     "output_type": "stream",
     "text": [
      "Computing transition probabilities: 100%|██████████| 233/233 [00:00<00:00, 527.68it/s]\n",
      "Generating walks (CPU: 1):  20%|██        | 2/10 [00:01<00:05,  1.47it/s]"
     ]
    },
    {
     "name": "stdout",
     "output_type": "stream",
     "text": [
      "cluster began\n",
      "cluster end\n"
     ]
    },
    {
     "name": "stderr",
     "output_type": "stream",
     "text": [
      "Computing transition probabilities: 100%|██████████| 335/335 [00:00<00:00, 417.39it/s]\n",
      "Generating walks (CPU: 1):  60%|██████    | 6/10 [00:05<00:03,  1.15it/s]"
     ]
    },
    {
     "name": "stdout",
     "output_type": "stream",
     "text": [
      "cluster began\n",
      "cluster end\n"
     ]
    },
    {
     "name": "stderr",
     "output_type": "stream",
     "text": [
      "Computing transition probabilities: 100%|██████████| 216/216 [00:00<00:00, 750.30it/s]\n",
      "Generating walks (CPU: 1):  50%|█████     | 5/10 [00:02<00:02,  1.71it/s]]\n",
      "Generating walks (CPU: 1):  70%|███████   | 7/10 [00:04<00:02,  1.46it/s]"
     ]
    },
    {
     "name": "stdout",
     "output_type": "stream",
     "text": [
      "[3.21000000e+00 7.24220137e-02 1.96923200e+06 7.91790000e+04\n",
      " 1.62500000e+03 5.88000000e+02 7.45000000e+02 1.50000000e+01\n",
      " 2.40000000e+01 2.34800000e+03 3.01000000e+02 2.55000000e+02\n",
      " 6.00000000e+00 2.00000000e+00 2.00000000e+00 3.60000000e+01\n",
      " 2.00000000e+00 0.00000000e+00]\n",
      "Unk percentage: 0.009302325581395349\n"
     ]
    },
    {
     "name": "stderr",
     "output_type": "stream",
     "text": [
      "Generating walks (CPU: 1): 100%|██████████| 10/10 [00:06<00:00,  1.44it/s]\n",
      "Generating walks (CPU: 1):  90%|█████████ | 9/10 [00:10<00:01,  1.20s/it]"
     ]
    },
    {
     "name": "stdout",
     "output_type": "stream",
     "text": [
      "[2.83000000e+00 7.32804152e-03 1.57068900e+06 5.95300000e+04\n",
      " 7.21000000e+02 2.60000000e+02 2.51000000e+02 7.00000000e+00\n",
      " 8.00000000e+00 1.70600000e+03 7.00000000e+01 8.30000000e+01\n",
      " 2.00000000e+00 0.00000000e+00 0.00000000e+00 2.80000000e+01\n",
      " 0.00000000e+00 0.00000000e+00]\n",
      "Unk percentage: 0.0036638983878847092\n",
      "Unk percentage: 0.007013201320132013\n",
      "Unk percentage: 0.007267441860465116\n"
     ]
    },
    {
     "name": "stderr",
     "output_type": "stream",
     "text": [
      "Generating walks (CPU: 1): 100%|██████████| 10/10 [00:11<00:00,  1.26s/it]\n"
     ]
    },
    {
     "name": "stdout",
     "output_type": "stream",
     "text": [
      "cluster began\n",
      "cluster end\n"
     ]
    },
    {
     "name": "stderr",
     "output_type": "stream",
     "text": [
      "Computing transition probabilities: 100%|██████████| 256/256 [00:00<00:00, 709.51it/s]\n",
      "Generating walks (CPU: 1):   0%|          | 0/10 [00:00<?, ?it/s]"
     ]
    },
    {
     "name": "stdout",
     "output_type": "stream",
     "text": [
      "[3.71000000e+00 7.16136531e-02 5.95880600e+06 1.81151000e+05\n",
      " 4.01200000e+03 1.85900000e+03 1.76400000e+03 3.70000000e+01\n",
      " 5.50000000e+01 5.42100000e+03 5.61000000e+02 5.46000000e+02\n",
      " 1.80000000e+01 5.00000000e+00 9.00000000e+00 3.60000000e+01\n",
      " 4.00000000e+00 0.00000000e+00]\n",
      "Unk percentage: 0.0028146361077603537\n",
      "Unk percentage: 0.0016062413951353832\n",
      "Unk percentage: 0.00199203187250996\n"
     ]
    },
    {
     "name": "stderr",
     "output_type": "stream",
     "text": [
      "\r",
      "Generating walks (CPU: 1):  20%|██        | 2/10 [00:01<00:04,  1.96it/s]"
     ]
    },
    {
     "name": "stdout",
     "output_type": "stream",
     "text": [
      "Unk percentage: 0.0006749915626054674\n",
      "Unk percentage: 0.0009830425165888424\n",
      "Unk percentage: 0.001610305958132045\n",
      "Unk percentage: 0.00211118930330753\n"
     ]
    },
    {
     "name": "stderr",
     "output_type": "stream",
     "text": [
      "Generating walks (CPU: 1): 100%|██████████| 10/10 [00:07<00:00,  1.24it/s]\n"
     ]
    },
    {
     "name": "stdout",
     "output_type": "stream",
     "text": [
      "cluster began\n",
      "cluster end\n"
     ]
    },
    {
     "name": "stderr",
     "output_type": "stream",
     "text": [
      "Computing transition probabilities: 100%|██████████| 144/144 [00:00<00:00, 1683.44it/s]\n",
      "Generating walks (CPU: 1):  20%|██        | 2/10 [00:00<00:01,  4.04it/s]"
     ]
    },
    {
     "name": "stdout",
     "output_type": "stream",
     "text": [
      "[4.33000000e+00 1.33171864e-01 2.60274400e+06 1.14706000e+05\n",
      " 3.41400000e+03 1.45300000e+03 1.78200000e+03 3.50000000e+01\n",
      " 5.90000000e+01 5.13300000e+03 8.82000000e+02 7.19000000e+02\n",
      " 4.20000000e+01 1.40000000e+01 1.20000000e+01 1.19000000e+02\n",
      " 1.90000000e+01 2.00000000e+00]\n",
      "Unk percentage: 0.00646551724137931\n"
     ]
    },
    {
     "name": "stderr",
     "output_type": "stream",
     "text": [
      "\r",
      "Generating walks (CPU: 1):  30%|███       | 3/10 [00:01<00:02,  3.06it/s]"
     ]
    },
    {
     "name": "stdout",
     "output_type": "stream",
     "text": [
      "Unk percentage: 0.003595828838547285\n",
      "Unk percentage: 0.007272727272727273\n"
     ]
    },
    {
     "name": "stderr",
     "output_type": "stream",
     "text": [
      "Generating walks (CPU: 1):  90%|█████████ | 9/10 [00:03<00:00,  2.32it/s]"
     ]
    },
    {
     "name": "stdout",
     "output_type": "stream",
     "text": [
      "cluster began\n",
      "cluster end\n"
     ]
    },
    {
     "name": "stderr",
     "output_type": "stream",
     "text": [
      "Computing transition probabilities: 100%|██████████| 224/224 [00:00<00:00, 1004.12it/s]\n",
      "Generating walks (CPU: 1):   0%|          | 0/10 [00:00<?, ?it/s]\n",
      "Generating walks (CPU: 1):  20%|██        | 2/10 [00:00<00:02,  2.70it/s]"
     ]
    },
    {
     "name": "stdout",
     "output_type": "stream",
     "text": [
      "[2.96000000e+00 3.83761416e-02 4.50821000e+05 2.43170000e+04\n",
      " 5.49000000e+02 1.94000000e+02 1.99000000e+02 5.00000000e+00\n",
      " 6.00000000e+00 7.98000000e+02 1.33000000e+02 1.41000000e+02\n",
      " 0.00000000e+00 0.00000000e+00 0.00000000e+00 2.80000000e+01\n",
      " 0.00000000e+00 0.00000000e+00]\n",
      "Unk percentage: 0.005457025920873124\n"
     ]
    },
    {
     "name": "stderr",
     "output_type": "stream",
     "text": [
      "Generating walks (CPU: 1):  80%|████████  | 8/10 [00:05<00:01,  1.40it/s]"
     ]
    },
    {
     "name": "stdout",
     "output_type": "stream",
     "text": [
      "cluster began\n",
      "cluster end\n"
     ]
    },
    {
     "name": "stderr",
     "output_type": "stream",
     "text": [
      "Computing transition probabilities: 100%|██████████| 335/335 [00:00<00:00, 529.85it/s]\n",
      "Generating walks (CPU: 1):  20%|██        | 2/10 [00:01<00:04,  1.68it/s]]\n",
      "Generating walks (CPU: 1):  30%|███       | 3/10 [00:02<00:05,  1.22it/s]"
     ]
    },
    {
     "name": "stdout",
     "output_type": "stream",
     "text": [
      "[2.99000000e+00 4.91311555e-02 1.75777600e+06 6.20750000e+04\n",
      " 1.02900000e+03 3.60000000e+02 4.51000000e+02 1.00000000e+01\n",
      " 9.00000000e+00 1.48900000e+03 1.42000000e+02 1.21000000e+02\n",
      " 1.00000000e+00 0.00000000e+00 1.00000000e+00 7.00000000e+00\n",
      " 0.00000000e+00 0.00000000e+00]\n",
      "Unk percentage: 0.006423982869379015\n"
     ]
    },
    {
     "name": "stderr",
     "output_type": "stream",
     "text": [
      "Generating walks (CPU: 1):  60%|██████    | 6/10 [00:06<00:04,  1.04s/it]"
     ]
    },
    {
     "name": "stdout",
     "output_type": "stream",
     "text": [
      "cluster began\n",
      "cluster end\n"
     ]
    },
    {
     "name": "stderr",
     "output_type": "stream",
     "text": [
      "Computing transition probabilities: 100%|██████████| 116/116 [00:00<00:00, 1214.49it/s]\n",
      "Generating walks (CPU: 1): 100%|██████████| 10/10 [00:10<00:00,  1.10s/it]\n"
     ]
    },
    {
     "name": "stdout",
     "output_type": "stream",
     "text": [
      "[2.82000000e+00 2.61761973e-02 2.30119000e+05 1.58740000e+04\n",
      " 4.09000000e+02 1.31000000e+02 1.39000000e+02 3.00000000e+00\n",
      " 4.00000000e+00 1.90000000e+02 1.80000000e+01 1.80000000e+01\n",
      " 0.00000000e+00 0.00000000e+00 0.00000000e+00 0.00000000e+00\n",
      " 0.00000000e+00 0.00000000e+00]\n",
      "Unk percentage: 0.003173908284995075\n",
      "cluster began\n",
      "cluster end\n"
     ]
    },
    {
     "name": "stderr",
     "output_type": "stream",
     "text": [
      "\r",
      "Computing transition probabilities:   0%|          | 0/221 [00:00<?, ?it/s]"
     ]
    },
    {
     "name": "stdout",
     "output_type": "stream",
     "text": [
      "Unk percentage: 0.001340033500837521\n"
     ]
    },
    {
     "name": "stderr",
     "output_type": "stream",
     "text": [
      "Computing transition probabilities: 100%|██████████| 221/221 [00:00<00:00, 989.79it/s] \n",
      "Generating walks (CPU: 1):   0%|          | 0/10 [00:00<?, ?it/s]"
     ]
    },
    {
     "name": "stdout",
     "output_type": "stream",
     "text": [
      "Unk percentage: 0.002720817572499834\n"
     ]
    },
    {
     "name": "stderr",
     "output_type": "stream",
     "text": [
      "\n"
     ]
    },
    {
     "name": "stdout",
     "output_type": "stream",
     "text": [
      "Unk percentage: 0.0016652789342214821\n",
      "Unk percentage: 0.0012305168170631665\n"
     ]
    },
    {
     "name": "stderr",
     "output_type": "stream",
     "text": [
      "\r",
      "Generating walks (CPU: 1):  20%|██        | 2/10 [00:00<00:03,  2.66it/s]"
     ]
    },
    {
     "name": "stdout",
     "output_type": "stream",
     "text": [
      "Unk percentage: 0.0010471204188481676\n",
      "Unk percentage: 0.002995132909022838\n",
      "Unk percentage: 0.003537735849056604\n"
     ]
    },
    {
     "name": "stderr",
     "output_type": "stream",
     "text": [
      "\r",
      "Generating walks (CPU: 1):  30%|███       | 3/10 [00:01<00:03,  2.01it/s]"
     ]
    },
    {
     "name": "stdout",
     "output_type": "stream",
     "text": [
      "[3.77000000e+00 8.66242576e-02 5.96229500e+06 1.78254000e+05\n",
      " 3.43500000e+03 1.42600000e+03 1.55900000e+03 2.80000000e+01\n",
      " 8.30000000e+01 5.71700000e+03 7.08000000e+02 6.18000000e+02\n",
      " 3.60000000e+01 1.00000000e+01 1.60000000e+01 8.30000000e+01\n",
      " 1.50000000e+01 1.00000000e+00]\n"
     ]
    },
    {
     "name": "stderr",
     "output_type": "stream",
     "text": [
      "\r",
      "Generating walks (CPU: 1):  40%|████      | 4/10 [00:02<00:03,  1.72it/s]"
     ]
    },
    {
     "name": "stdout",
     "output_type": "stream",
     "text": [
      "Unk percentage: 0.003957926697028844\n",
      "Unk percentage: 0.002082248828735034\n"
     ]
    },
    {
     "name": "stderr",
     "output_type": "stream",
     "text": [
      "\r",
      "Generating walks (CPU: 1):  50%|█████     | 5/10 [00:03<00:03,  1.63it/s]"
     ]
    },
    {
     "name": "stdout",
     "output_type": "stream",
     "text": [
      "Unk percentage: 0.0019362788241506777\n",
      "Unk percentage: 0.00237558628251203\n"
     ]
    },
    {
     "name": "stderr",
     "output_type": "stream",
     "text": [
      "\r",
      "Generating walks (CPU: 1):  60%|██████    | 6/10 [00:03<00:02,  1.53it/s]"
     ]
    },
    {
     "name": "stdout",
     "output_type": "stream",
     "text": [
      "Unk percentage: 0.0026642984014209592\n"
     ]
    },
    {
     "name": "stderr",
     "output_type": "stream",
     "text": [
      "Generating walks (CPU: 1): 100%|██████████| 10/10 [00:06<00:00,  1.48it/s]\n"
     ]
    },
    {
     "name": "stdout",
     "output_type": "stream",
     "text": [
      "cluster began\n",
      "cluster end\n"
     ]
    },
    {
     "name": "stderr",
     "output_type": "stream",
     "text": [
      "Computing transition probabilities: 100%|██████████| 176/176 [00:00<00:00, 1387.77it/s]\n",
      "Generating walks (CPU: 1):  20%|██        | 2/10 [00:00<00:02,  2.98it/s]"
     ]
    },
    {
     "name": "stdout",
     "output_type": "stream",
     "text": [
      "[2.52000000e+00 3.16089325e-02 1.68176000e+06 6.46790000e+04\n",
      " 1.19100000e+03 4.53000000e+02 4.88000000e+02 9.00000000e+00\n",
      " 1.00000000e+01 1.62300000e+03 1.55000000e+02 1.52000000e+02\n",
      " 5.00000000e+00 2.00000000e+00 1.00000000e+00 1.10000000e+01\n",
      " 1.00000000e+00 0.00000000e+00]\n",
      "Unk percentage: 0.0018267620642411326\n"
     ]
    },
    {
     "name": "stderr",
     "output_type": "stream",
     "text": [
      "\r",
      "Generating walks (CPU: 1):  30%|███       | 3/10 [00:01<00:02,  2.50it/s]"
     ]
    },
    {
     "name": "stdout",
     "output_type": "stream",
     "text": [
      "Unk percentage: 0.012441993409106194\n"
     ]
    },
    {
     "name": "stderr",
     "output_type": "stream",
     "text": [
      "\r",
      "Generating walks (CPU: 1):  40%|████      | 4/10 [00:01<00:02,  2.28it/s]"
     ]
    },
    {
     "name": "stdout",
     "output_type": "stream",
     "text": [
      "Unk percentage: 0.009478672985781991\n"
     ]
    },
    {
     "name": "stderr",
     "output_type": "stream",
     "text": [
      "Generating walks (CPU: 1): 100%|██████████| 10/10 [00:05<00:00,  1.82it/s]\n"
     ]
    },
    {
     "name": "stdout",
     "output_type": "stream",
     "text": [
      "[2.55000000e+00 2.19014796e-02 8.40991000e+05 3.53280000e+04\n",
      " 4.71000000e+02 1.80000000e+02 1.34000000e+02 5.00000000e+00\n",
      " 4.00000000e+00 7.63000000e+02 4.70000000e+01 4.80000000e+01\n",
      " 0.00000000e+00 0.00000000e+00 1.00000000e+00 3.00000000e+00\n",
      " 0.00000000e+00 0.00000000e+00]\n",
      "Unk percentage: 0.007281553398058253\n",
      "cluster began\n",
      "cluster end\n"
     ]
    },
    {
     "name": "stderr",
     "output_type": "stream",
     "text": [
      "Computing transition probabilities: 100%|██████████| 239/239 [00:00<00:00, 695.00it/s]\n",
      "Generating walks (CPU: 1):  50%|█████     | 5/10 [00:03<00:03,  1.54it/s]"
     ]
    },
    {
     "name": "stdout",
     "output_type": "stream",
     "text": [
      "cluster began\n",
      "cluster end\n"
     ]
    },
    {
     "name": "stderr",
     "output_type": "stream",
     "text": [
      "Computing transition probabilities: 100%|██████████| 340/340 [00:00<00:00, 865.08it/s]\n",
      "Generating walks (CPU: 1):  40%|████      | 4/10 [00:03<00:05,  1.14it/s]]"
     ]
    },
    {
     "name": "stdout",
     "output_type": "stream",
     "text": [
      "cluster began\n",
      "cluster end\n"
     ]
    },
    {
     "name": "stderr",
     "output_type": "stream",
     "text": [
      "Computing transition probabilities: 100%|██████████| 149/149 [00:00<00:00, 1753.65it/s]\n",
      "Generating walks (CPU: 1):   0%|          | 0/10 [00:00<?, ?it/s]\n",
      "Generating walks (CPU: 1):  40%|████      | 4/10 [00:01<00:02,  2.73it/s]"
     ]
    },
    {
     "name": "stdout",
     "output_type": "stream",
     "text": [
      "[3.23000000e+00 4.21205507e-02 2.13467100e+06 8.01300000e+04\n",
      " 1.56700000e+03 6.49000000e+02 6.42000000e+02 1.50000000e+01\n",
      " 2.10000000e+01 7.52000000e+02 9.20000000e+01 9.40000000e+01\n",
      " 0.00000000e+00 0.00000000e+00 0.00000000e+00 3.00000000e+00\n",
      " 0.00000000e+00 0.00000000e+00]\n",
      "Unk percentage: 0.0014209591474245115\n"
     ]
    },
    {
     "name": "stderr",
     "output_type": "stream",
     "text": [
      "\r",
      "Generating walks (CPU: 1):  50%|█████     | 5/10 [00:01<00:02,  2.49it/s]"
     ]
    },
    {
     "name": "stdout",
     "output_type": "stream",
     "text": [
      "Unk percentage: 0.003303890499629155\n"
     ]
    },
    {
     "name": "stderr",
     "output_type": "stream",
     "text": [
      "Generating walks (CPU: 1):  60%|██████    | 6/10 [00:02<00:01,  2.41it/s]"
     ]
    },
    {
     "name": "stdout",
     "output_type": "stream",
     "text": [
      "Unk percentage: 0.00700770847932726\n"
     ]
    },
    {
     "name": "stderr",
     "output_type": "stream",
     "text": [
      "Generating walks (CPU: 1):  80%|████████  | 8/10 [00:08<00:02,  1.11s/it]]"
     ]
    },
    {
     "name": "stdout",
     "output_type": "stream",
     "text": [
      "cluster began\n",
      "cluster end\n"
     ]
    },
    {
     "name": "stderr",
     "output_type": "stream",
     "text": [
      "Computing transition probabilities: 100%|██████████| 133/133 [00:00<00:00, 1761.98it/s]\n",
      "\n",
      "Generating walks (CPU: 1):  20%|██        | 2/10 [00:00<00:01,  4.21it/s]"
     ]
    },
    {
     "name": "stdout",
     "output_type": "stream",
     "text": [
      "[3.25000000e+00 5.46834651e-02 4.99559000e+05 2.79990000e+04\n",
      " 6.34000000e+02 2.34000000e+02 2.26000000e+02 9.00000000e+00\n",
      " 8.00000000e+00 5.95000000e+02 6.30000000e+01 6.50000000e+01\n",
      " 1.00000000e+00 0.00000000e+00 0.00000000e+00 3.00000000e+00\n",
      " 0.00000000e+00 0.00000000e+00]\n",
      "Unk percentage: 0.004746440169872595\n"
     ]
    },
    {
     "name": "stderr",
     "output_type": "stream",
     "text": [
      "\r",
      "Generating walks (CPU: 1):  30%|███       | 3/10 [00:00<00:02,  3.39it/s]"
     ]
    },
    {
     "name": "stdout",
     "output_type": "stream",
     "text": [
      "Unk percentage: 0.0025412960609911056\n",
      "Unk percentage: 0.00178826895565093\n"
     ]
    },
    {
     "name": "stderr",
     "output_type": "stream",
     "text": [
      "\r",
      "Generating walks (CPU: 1):  90%|█████████ | 9/10 [00:09<00:01,  1.17s/it]"
     ]
    },
    {
     "name": "stdout",
     "output_type": "stream",
     "text": [
      "Unk percentage: 0.0018070928393946238\n"
     ]
    },
    {
     "name": "stderr",
     "output_type": "stream",
     "text": [
      "\r",
      "Generating walks (CPU: 1):  40%|████      | 4/10 [00:01<00:01,  3.11it/s]"
     ]
    },
    {
     "name": "stdout",
     "output_type": "stream",
     "text": [
      "Unk percentage: 0.0019286403085824494\n"
     ]
    },
    {
     "name": "stderr",
     "output_type": "stream",
     "text": [
      "Generating walks (CPU: 1):  90%|█████████ | 9/10 [00:03<00:00,  2.55it/s]]\n",
      "Generating walks (CPU: 1): 100%|██████████| 10/10 [00:03<00:00,  2.57it/s]\n"
     ]
    },
    {
     "name": "stdout",
     "output_type": "stream",
     "text": [
      "[3.020000e+00 3.040671e-02 3.506400e+05 2.299400e+04 4.620000e+02\n",
      " 1.520000e+02 1.440000e+02 4.000000e+00 4.000000e+00 2.250000e+02\n",
      " 1.700000e+01 1.700000e+01 1.000000e+00 0.000000e+00 0.000000e+00\n",
      " 0.000000e+00 0.000000e+00 0.000000e+00]\n",
      "Unk percentage: 0.001941276389225916\n",
      "Unk percentage: 0.009230769230769232\n",
      "[3.12000000e+00 3.94411255e-02 6.26062700e+06 1.66403000e+05\n",
      " 2.66100000e+03 1.15900000e+03 1.10600000e+03 1.30000000e+01\n",
      " 2.80000000e+01 3.13500000e+03 2.73000000e+02 2.64000000e+02\n",
      " 4.00000000e+00 0.00000000e+00 1.00000000e+00 1.50000000e+01\n",
      " 0.00000000e+00 0.00000000e+00]\n",
      "Unk percentage: 0.0012322858903265558\n",
      "Unk percentage: 0.00142602495543672\n",
      "Unk percentage: 0.0013192612137203166\n",
      "Unk percentage: 0.002427675500708072\n",
      "Unk percentage: 0.0006879944960440316\n",
      "Unk percentage: 0.0020539152759948653\n",
      "Unk percentage: 0.0024394820791893415\n",
      "Unk percentage: 0.0013507429085997298\n",
      "Unk percentage: 0.0023832221163012394\n",
      "Unk percentage: 0.003234501347708895\n",
      "Unk percentage: 0.0043821209465381246\n",
      "cluster began\n",
      "cluster end\n"
     ]
    },
    {
     "name": "stderr",
     "output_type": "stream",
     "text": [
      "Computing transition probabilities: 100%|██████████| 374/374 [00:00<00:00, 561.26it/s]\n",
      "Generating walks (CPU: 1):  20%|██        | 2/10 [00:01<00:05,  1.57it/s]"
     ]
    },
    {
     "name": "stdout",
     "output_type": "stream",
     "text": [
      "cluster began\n",
      "cluster end\n"
     ]
    },
    {
     "name": "stderr",
     "output_type": "stream",
     "text": [
      "Computing transition probabilities: 100%|██████████| 307/307 [00:00<00:00, 639.17it/s]\n",
      "Generating walks (CPU: 1):  40%|████      | 4/10 [00:04<00:06,  1.10s/it]"
     ]
    },
    {
     "name": "stdout",
     "output_type": "stream",
     "text": [
      "cluster began\n",
      "cluster end\n"
     ]
    },
    {
     "name": "stderr",
     "output_type": "stream",
     "text": [
      "Computing transition probabilities: 100%|██████████| 207/207 [00:00<00:00, 1128.46it/s]\n",
      "Generating walks (CPU: 1):  60%|██████    | 6/10 [00:03<00:02,  1.76it/s]"
     ]
    },
    {
     "name": "stdout",
     "output_type": "stream",
     "text": [
      "cluster began\n",
      "cluster end\n"
     ]
    },
    {
     "name": "stderr",
     "output_type": "stream",
     "text": [
      "Computing transition probabilities: 100%|██████████| 326/326 [00:00<00:00, 697.15it/s]\n",
      "Generating walks (CPU: 1):  90%|█████████ | 9/10 [00:08<00:01,  1.03s/it]]\n",
      "Generating walks (CPU: 1):  40%|████      | 4/10 [00:03<00:05,  1.16it/s]]"
     ]
    },
    {
     "name": "stdout",
     "output_type": "stream",
     "text": [
      "[2.74000000e+00 3.23961039e-02 1.37643000e+06 5.56820000e+04\n",
      " 9.50000000e+02 3.50000000e+02 3.64000000e+02 9.00000000e+00\n",
      " 8.00000000e+00 1.72100000e+03 1.45000000e+02 1.40000000e+02\n",
      " 6.00000000e+00 1.00000000e+00 1.00000000e+00 1.10000000e+01\n",
      " 2.00000000e+00 0.00000000e+00]\n",
      "Unk percentage: 0.0030374154355929865\n",
      "Unk percentage: 0.007214691735898557\n",
      "Unk percentage: 0.008064516129032258\n"
     ]
    },
    {
     "name": "stderr",
     "output_type": "stream",
     "text": [
      "\n",
      "\n",
      "Generating walks (CPU: 1):  60%|██████    | 6/10 [00:06<00:04,  1.14s/it]"
     ]
    },
    {
     "name": "stdout",
     "output_type": "stream",
     "text": [
      "[3.90000000e+00 8.11081659e-02 4.58604600e+06 1.30363000e+05\n",
      " 3.41500000e+03 1.45300000e+03 1.68600000e+03 3.30000000e+01\n",
      " 2.10000000e+01 4.28100000e+03 7.06000000e+02 6.21000000e+02\n",
      " 1.40000000e+01 1.00000000e+00 7.00000000e+00 6.90000000e+01\n",
      " 4.00000000e+00 0.00000000e+00]\n",
      "Unk percentage: 0.002280873248615184\n",
      "[4.85000000e+00 6.11292706e-02 8.34656400e+06 2.17733000e+05\n",
      " 4.55000000e+03 2.22100000e+03 1.95800000e+03 2.60000000e+01\n",
      " 6.70000000e+01 5.38500000e+03 5.86000000e+02 5.70000000e+02\n",
      " 1.80000000e+01 7.00000000e+00 1.00000000e+01 4.90000000e+01\n",
      " 2.00000000e+00 0.00000000e+00]\n",
      "Unk percentage: 0.004816955684007707\n",
      "Unk percentage: 0.0015071590052750565\n"
     ]
    },
    {
     "name": "stderr",
     "output_type": "stream",
     "text": [
      "Generating walks (CPU: 1): 100%|██████████| 10/10 [00:10<00:00,  1.20s/it]\n"
     ]
    },
    {
     "name": "stdout",
     "output_type": "stream",
     "text": [
      "[3.33000000e+00 6.86559606e-02 5.50495400e+06 1.51553000e+05\n",
      " 3.27500000e+03 1.52200000e+03 1.50400000e+03 3.60000000e+01\n",
      " 4.20000000e+01 4.74800000e+03 4.96000000e+02 4.50000000e+02\n",
      " 1.00000000e+01 4.00000000e+00 6.00000000e+00 4.90000000e+01\n",
      " 1.00000000e+00 0.00000000e+00]\n",
      "Unk percentage: 0.002080856123662307\n",
      "Unk percentage: 0.014164305949008499\n",
      "cluster began\n",
      "cluster end\n"
     ]
    },
    {
     "name": "stderr",
     "output_type": "stream",
     "text": [
      "Computing transition probabilities: 100%|██████████| 104/104 [00:00<00:00, 2468.63it/s]\n",
      "Generating walks (CPU: 1): 100%|██████████| 10/10 [00:03<00:00,  2.88it/s]\n"
     ]
    },
    {
     "name": "stdout",
     "output_type": "stream",
     "text": [
      "[2.58000e+00 2.50000e-03 1.64116e+05 1.22480e+04 2.52000e+02 6.70000e+01\n",
      " 6.60000e+01 1.00000e+00 0.00000e+00 9.30000e+01 4.00000e+00 4.00000e+00\n",
      " 0.00000e+00 0.00000e+00 0.00000e+00 0.00000e+00 0.00000e+00 0.00000e+00]\n",
      "Unk percentage: 0.0032797291578501903\n",
      "Unk percentage: 0.001145475372279496\n",
      "Unk percentage: 0.0039608966795887405\n",
      "cluster began\n",
      "cluster end\n",
      "cluster began\n",
      "cluster end\n"
     ]
    },
    {
     "name": "stderr",
     "output_type": "stream",
     "text": [
      "Computing transition probabilities:  81%|████████  | 202/250 [00:00<00:00, 1015.27it/s]"
     ]
    },
    {
     "name": "stdout",
     "output_type": "stream",
     "text": [
      "Unk percentage: 0.007601542999773088\n"
     ]
    },
    {
     "name": "stderr",
     "output_type": "stream",
     "text": [
      "Computing transition probabilities: 100%|██████████| 250/250 [00:00<00:00, 1000.54it/s]\n",
      "Computing transition probabilities:  76%|███████▋  | 254/333 [00:00<00:00, 470.30it/s]"
     ]
    },
    {
     "name": "stdout",
     "output_type": "stream",
     "text": [
      "Unk percentage: 0.001514004542013626\n"
     ]
    },
    {
     "name": "stderr",
     "output_type": "stream",
     "text": [
      "Computing transition probabilities: 100%|██████████| 333/333 [00:00<00:00, 513.62it/s]\n",
      "Generating walks (CPU: 1):   0%|          | 0/10 [00:00<?, ?it/s]"
     ]
    },
    {
     "name": "stdout",
     "output_type": "stream",
     "text": [
      "Unk percentage: 0.0022702991452991455\n",
      "Unk percentage: 0.002871088142405972\n"
     ]
    },
    {
     "name": "stderr",
     "output_type": "stream",
     "text": [
      "\r",
      "Generating walks (CPU: 1):  20%|██        | 2/10 [00:00<00:03,  2.28it/s]"
     ]
    },
    {
     "name": "stdout",
     "output_type": "stream",
     "text": [
      "Unk percentage: 0.0025996533795493936\n"
     ]
    },
    {
     "name": "stderr",
     "output_type": "stream",
     "text": [
      "Generating walks (CPU: 1):  90%|█████████ | 9/10 [00:07<00:00,  1.06it/s]"
     ]
    },
    {
     "name": "stdout",
     "output_type": "stream",
     "text": [
      "cluster began\n",
      "cluster end\n"
     ]
    },
    {
     "name": "stderr",
     "output_type": "stream",
     "text": [
      "Computing transition probabilities: 100%|██████████| 104/104 [00:00<00:00, 2033.91it/s]\n",
      "Generating walks (CPU: 1):  60%|██████    | 6/10 [00:01<00:01,  3.54it/s]]\n",
      "Generating walks (CPU: 1): 100%|██████████| 10/10 [00:03<00:00,  2.53it/s]"
     ]
    },
    {
     "name": "stdout",
     "output_type": "stream",
     "text": [
      "[4.36000000e+00 5.68976341e-02 2.44002000e+06 9.52000000e+04\n",
      " 1.70900000e+03 7.05000000e+02 7.42000000e+02 2.50000000e+01\n",
      " 5.00000000e+01 3.14100000e+03 2.39000000e+02 2.41000000e+02\n",
      " 9.00000000e+00 6.00000000e+00 5.00000000e+00 3.10000000e+01\n",
      " 1.00000000e+00 0.00000000e+00]\n"
     ]
    },
    {
     "name": "stderr",
     "output_type": "stream",
     "text": [
      "\n",
      "Generating walks (CPU: 1):  90%|█████████ | 9/10 [00:11<00:01,  1.36s/it]"
     ]
    },
    {
     "name": "stdout",
     "output_type": "stream",
     "text": [
      "Unk percentage: 0.00821740537043028\n",
      "Unk percentage: 0.0033003300330033004\n",
      "[3.37000000e+00 7.78508221e-02 1.61270000e+05 1.38710000e+04\n",
      " 4.25000000e+02 1.77000000e+02 2.02000000e+02 1.10000000e+01\n",
      " 8.00000000e+00 6.50000000e+02 1.25000000e+02 8.50000000e+01\n",
      " 3.00000000e+00 2.00000000e+00 0.00000000e+00 2.20000000e+01\n",
      " 0.00000000e+00 0.00000000e+00]\n",
      "Unk percentage: 0.0010171215460247499\n",
      "Unk percentage: 0.0049521294156487285\n",
      "Unk percentage: 0.008433734939759036\n"
     ]
    },
    {
     "name": "stderr",
     "output_type": "stream",
     "text": [
      "Generating walks (CPU: 1): 100%|██████████| 10/10 [00:12<00:00,  1.35s/it]\n"
     ]
    },
    {
     "name": "stdout",
     "output_type": "stream",
     "text": [
      "[3.05000000e+00 6.13507166e-02 5.86159100e+06 1.70091000e+05\n",
      " 2.91100000e+03 1.16800000e+03 1.39300000e+03 3.20000000e+01\n",
      " 3.00000000e+01 5.52100000e+03 6.52000000e+02 5.57000000e+02\n",
      " 1.80000000e+01 6.00000000e+00 4.00000000e+00 8.20000000e+01\n",
      " 4.00000000e+00 0.00000000e+00]\n",
      "Unk percentage: 0.006751687921980495\n",
      "cluster began\n",
      "cluster end\n"
     ]
    },
    {
     "name": "stderr",
     "output_type": "stream",
     "text": [
      "Computing transition probabilities: 100%|██████████| 300/300 [00:00<00:00, 715.02it/s]\n",
      "Generating walks (CPU: 1): 100%|██████████| 10/10 [00:09<00:00,  1.05s/it]"
     ]
    },
    {
     "name": "stdout",
     "output_type": "stream",
     "text": [
      "cluster began\n",
      "cluster end\n"
     ]
    },
    {
     "name": "stderr",
     "output_type": "stream",
     "text": [
      "Computing transition probabilities: 100%|██████████| 226/226 [00:00<00:00, 703.24it/s]\n",
      "Generating walks (CPU: 1):   0%|          | 0/10 [00:00<?, ?it/s]"
     ]
    },
    {
     "name": "stdout",
     "output_type": "stream",
     "text": [
      "cluster began\n",
      "cluster end\n"
     ]
    },
    {
     "name": "stderr",
     "output_type": "stream",
     "text": [
      "Computing transition probabilities:  32%|███▏      | 71/224 [00:00<00:00, 366.79it/s]\n",
      "Computing transition probabilities: 100%|██████████| 224/224 [00:00<00:00, 495.69it/s]\n",
      "Generating walks (CPU: 1):  30%|███       | 3/10 [00:01<00:04,  1.73it/s]"
     ]
    },
    {
     "name": "stdout",
     "output_type": "stream",
     "text": [
      "[3.56000000e+00 7.02235474e-02 4.27032300e+06 1.34082000e+05\n",
      " 2.28600000e+03 1.07200000e+03 9.47000000e+02 3.20000000e+01\n",
      " 2.80000000e+01 1.50800000e+03 1.23000000e+02 1.32000000e+02\n",
      " 7.00000000e+00 2.00000000e+00 4.00000000e+00 2.00000000e+00\n",
      " 1.00000000e+00 0.00000000e+00]\n"
     ]
    },
    {
     "name": "stderr",
     "output_type": "stream",
     "text": [
      "\r",
      "Generating walks (CPU: 1):  40%|████      | 4/10 [00:02<00:04,  1.45it/s]"
     ]
    },
    {
     "name": "stdout",
     "output_type": "stream",
     "text": [
      "Unk percentage: 0.0031435243398598885\n",
      "Unk percentage: 0.0010324179227751394\n",
      "Unk percentage: 0.0036488740617180984\n"
     ]
    },
    {
     "name": "stderr",
     "output_type": "stream",
     "text": [
      "Generating walks (CPU: 1):  50%|█████     | 5/10 [00:03<00:03,  1.42it/s]"
     ]
    },
    {
     "name": "stdout",
     "output_type": "stream",
     "text": [
      "Unk percentage: 0.005607476635514018\n",
      "Unk percentage: 0.0020013342228152103\n",
      "Unk percentage: 0.0021745883814849334\n",
      "Unk percentage: 0.004807692307692308\n"
     ]
    },
    {
     "name": "stderr",
     "output_type": "stream",
     "text": [
      "Generating walks (CPU: 1):  60%|██████    | 6/10 [00:04<00:02,  1.36it/s]"
     ]
    },
    {
     "name": "stdout",
     "output_type": "stream",
     "text": [
      "cluster began\n",
      "cluster end\n"
     ]
    },
    {
     "name": "stderr",
     "output_type": "stream",
     "text": [
      "Computing transition probabilities: 100%|██████████| 356/356 [00:00<00:00, 711.09it/s]\n",
      "Generating walks (CPU: 1): 100%|██████████| 10/10 [00:07<00:00,  1.26it/s]\n",
      "\n",
      "Generating walks (CPU: 1):  40%|████      | 4/10 [00:03<00:05,  1.01it/s]"
     ]
    },
    {
     "name": "stdout",
     "output_type": "stream",
     "text": [
      "[2.80000000e+00 8.97272874e-02 1.79221100e+06 7.63770000e+04\n",
      " 1.72500000e+03 7.09000000e+02 7.77000000e+02 2.50000000e+01\n",
      " 3.90000000e+01 1.16100000e+03 8.20000000e+01 8.10000000e+01\n",
      " 9.00000000e+00 2.00000000e+00 1.00000000e+00 0.00000000e+00\n",
      " 1.00000000e+00 0.00000000e+00]\n",
      "Unk percentage: 0.002939604489577766\n",
      "Unk percentage: 0.0011560693641618498\n",
      "Unk percentage: 0.0012804097311139564\n",
      "[3.0700000e+00 1.0527203e-01 1.7487550e+06 6.8935000e+04 1.7130000e+03\n",
      " 8.1100000e+02 7.9400000e+02 2.3000000e+01 2.8000000e+01 1.8900000e+03\n",
      " 2.5300000e+02 2.3300000e+02 1.0000000e+01 6.0000000e+00 1.0000000e+00\n",
      " 1.8000000e+01 1.0000000e+00 0.0000000e+00]\n",
      "Unk percentage: 0.001707455890722823\n",
      "Unk percentage: 0.003528773072747014\n",
      "Unk percentage: 0.0018331805682859762\n"
     ]
    },
    {
     "name": "stderr",
     "output_type": "stream",
     "text": [
      "\r",
      "Generating walks (CPU: 1):  50%|█████     | 5/10 [00:05<00:05,  1.14s/it]"
     ]
    },
    {
     "name": "stdout",
     "output_type": "stream",
     "text": [
      "Unk percentage: 0.0067209055535903785\n",
      "Unk percentage: 0.0032502708559046588\n",
      "Unk percentage: 0.0028735632183908046\n",
      "Unk percentage: 0.0014545454545454545\n",
      "Unk percentage: 0.0035052012663952963\n",
      "Unk percentage: 0.0046822742474916385\n"
     ]
    },
    {
     "name": "stderr",
     "output_type": "stream",
     "text": [
      "Generating walks (CPU: 1): 100%|██████████| 10/10 [00:12<00:00,  1.27s/it]\n"
     ]
    },
    {
     "name": "stdout",
     "output_type": "stream",
     "text": [
      "[2.88000000e+00 5.51159919e-02 7.17995100e+06 2.02166000e+05\n",
      " 3.61300000e+03 1.62000000e+03 1.61000000e+03 3.30000000e+01\n",
      " 4.50000000e+01 3.54000000e+03 4.84000000e+02 4.43000000e+02\n",
      " 1.90000000e+01 7.00000000e+00 1.30000000e+01 3.60000000e+01\n",
      " 4.00000000e+00 1.00000000e+00]\n",
      "Unk percentage: 0.0025471217524197657\n",
      "Unk percentage: 0.002181818181818182\n",
      "Unk percentage: 0.001403180542563143\n",
      "Unk percentage: 0.00529567519858782\n",
      "cluster began\n",
      "cluster end\n"
     ]
    },
    {
     "name": "stderr",
     "output_type": "stream",
     "text": [
      "Computing transition probabilities: 100%|██████████| 138/138 [00:00<00:00, 1280.28it/s]\n",
      "Generating walks (CPU: 1): 100%|██████████| 10/10 [00:03<00:00,  2.32it/s]\n"
     ]
    },
    {
     "name": "stdout",
     "output_type": "stream",
     "text": [
      "[3.02000000e+00 8.96729419e-02 3.93977000e+05 2.24500000e+04\n",
      " 7.24000000e+02 3.06000000e+02 2.90000000e+02 9.00000000e+00\n",
      " 7.00000000e+00 1.06000000e+03 1.89000000e+02 1.72000000e+02\n",
      " 5.00000000e+00 1.00000000e+00 2.00000000e+00 2.80000000e+01\n",
      " 0.00000000e+00 0.00000000e+00]\n",
      "Unk percentage: 0.0020804438280166435\n",
      "Unk percentage: 0.0034465780403741997\n",
      "Unk percentage: 0.004622496147919877\n",
      "cluster began\n",
      "cluster end\n"
     ]
    },
    {
     "name": "stderr",
     "output_type": "stream",
     "text": [
      "Computing transition probabilities: 100%|██████████| 217/217 [00:00<00:00, 1065.09it/s]\n",
      "Generating walks (CPU: 1):   0%|          | 0/10 [00:00<?, ?it/s]"
     ]
    },
    {
     "name": "stdout",
     "output_type": "stream",
     "text": [
      "cluster began\n",
      "cluster end\n"
     ]
    },
    {
     "name": "stderr",
     "output_type": "stream",
     "text": [
      "Computing transition probabilities: 100%|██████████| 378/378 [00:00<00:00, 475.81it/s]\n",
      "Generating walks (CPU: 1):  50%|█████     | 5/10 [00:05<00:05,  1.10s/it]]\n",
      "Generating walks (CPU: 1):  60%|██████    | 6/10 [00:06<00:04,  1.23s/it]"
     ]
    },
    {
     "name": "stdout",
     "output_type": "stream",
     "text": [
      "[3.37000000e+00 5.25226376e-02 1.58891800e+06 6.29160000e+04\n",
      " 1.18100000e+03 4.29000000e+02 5.47000000e+02 1.60000000e+01\n",
      " 9.00000000e+00 2.02500000e+03 1.58000000e+02 1.42000000e+02\n",
      " 7.00000000e+00 1.00000000e+00 1.00000000e+00 9.00000000e+00\n",
      " 1.00000000e+00 0.00000000e+00]\n",
      "Unk percentage: 0.002028397565922921\n"
     ]
    },
    {
     "name": "stderr",
     "output_type": "stream",
     "text": [
      "\r",
      "Generating walks (CPU: 1):  70%|███████   | 7/10 [00:08<00:03,  1.27s/it]"
     ]
    },
    {
     "name": "stdout",
     "output_type": "stream",
     "text": [
      "cluster began\n",
      "cluster end\n"
     ]
    },
    {
     "name": "stderr",
     "output_type": "stream",
     "text": [
      "Computing transition probabilities: 100%|██████████| 358/358 [00:00<00:00, 636.45it/s]\n",
      "Generating walks (CPU: 1):  40%|████      | 4/10 [00:03<00:05,  1.02it/s]]\n"
     ]
    },
    {
     "name": "stdout",
     "output_type": "stream",
     "text": [
      "cluster began\n",
      "cluster end\n"
     ]
    },
    {
     "name": "stderr",
     "output_type": "stream",
     "text": [
      "Computing transition probabilities: 100%|██████████| 203/203 [00:00<00:00, 1077.75it/s]\n",
      "Generating walks (CPU: 1):  40%|████      | 4/10 [00:02<00:03,  1.76it/s]"
     ]
    },
    {
     "name": "stdout",
     "output_type": "stream",
     "text": [
      "[4.15000000e+00 4.29883756e-02 8.62534400e+06 2.20291000e+05\n",
      " 3.85300000e+03 1.59200000e+03 1.96300000e+03 4.10000000e+01\n",
      " 7.30000000e+01 5.51900000e+03 4.39000000e+02 3.44000000e+02\n",
      " 6.00000000e+00 2.00000000e+00 1.00000000e+00 3.20000000e+01\n",
      " 0.00000000e+00 0.00000000e+00]\n",
      "Unk percentage: 0.002564102564102564\n"
     ]
    },
    {
     "name": "stderr",
     "output_type": "stream",
     "text": [
      "Generating walks (CPU: 1):  90%|█████████ | 9/10 [00:11<00:01,  1.40s/it]]\n",
      "Generating walks (CPU: 1): 100%|██████████| 10/10 [00:12<00:00,  1.41s/it]"
     ]
    },
    {
     "name": "stdout",
     "output_type": "stream",
     "text": [
      "[2.56000000e+00 6.32025012e-02 1.29530600e+06 5.39350000e+04\n",
      " 1.06700000e+03 4.74000000e+02 4.02000000e+02 1.50000000e+01\n",
      " 1.20000000e+01 1.88900000e+03 1.38000000e+02 1.42000000e+02\n",
      " 4.00000000e+00 1.00000000e+00 4.00000000e+00 1.10000000e+01\n",
      " 0.00000000e+00 0.00000000e+00]\n",
      "Unk percentage: 0.0022655188038060714\n",
      "Unk percentage: 0.001766264350897851\n",
      "Unk percentage: 0.0024096385542168677\n",
      "Unk percentage: 0.0016787912702853946\n",
      "Unk percentage: 0.002689204763734153\n",
      "Unk percentage: 0.002764722145424385\n",
      "Unk percentage: 0.001088139281828074\n",
      "Unk percentage: 0.0182648401826484\n"
     ]
    },
    {
     "name": "stderr",
     "output_type": "stream",
     "text": [
      "\n"
     ]
    },
    {
     "name": "stdout",
     "output_type": "stream",
     "text": [
      "[4.0400000e+00 4.3651784e-02 7.3325020e+06 1.7515000e+05 3.1850000e+03\n",
      " 1.5080000e+03 1.2700000e+03 2.2000000e+01 1.9000000e+01 4.5910000e+03\n",
      " 6.1300000e+02 6.4800000e+02 1.0000000e+01 5.0000000e+00 6.0000000e+00\n",
      " 7.8000000e+01 3.0000000e+00 0.0000000e+00]\n",
      "Unk percentage: 0.0036659877800407333\n",
      "Unk percentage: 0.004116436342252279\n",
      "Unk percentage: 0.009911894273127754\n",
      "cluster began\n",
      "cluster end\n"
     ]
    },
    {
     "name": "stderr",
     "output_type": "stream",
     "text": [
      "Computing transition probabilities: 100%|██████████| 384/384 [00:00<00:00, 578.15it/s]\n",
      "Generating walks (CPU: 1):  50%|█████     | 5/10 [00:05<00:05,  1.20s/it]"
     ]
    },
    {
     "name": "stdout",
     "output_type": "stream",
     "text": [
      "cluster began\n",
      "cluster end\n"
     ]
    },
    {
     "name": "stderr",
     "output_type": "stream",
     "text": [
      "Computing transition probabilities: 100%|██████████| 200/200 [00:00<00:00, 1068.91it/s]\n",
      "Generating walks (CPU: 1): 100%|██████████| 10/10 [00:12<00:00,  1.38s/it]"
     ]
    },
    {
     "name": "stdout",
     "output_type": "stream",
     "text": [
      "cluster began\n",
      "cluster end\n"
     ]
    },
    {
     "name": "stderr",
     "output_type": "stream",
     "text": [
      "Computing transition probabilities: 100%|██████████| 355/355 [00:00<00:00, 627.96it/s]\n",
      "Generating walks (CPU: 1):   0%|          | 0/10 [00:00<?, ?it/s]\n",
      "\n",
      "Generating walks (CPU: 1):  20%|██        | 2/10 [00:01<00:05,  1.36it/s]"
     ]
    },
    {
     "name": "stdout",
     "output_type": "stream",
     "text": [
      "[3.80000000e+00 4.05859739e-02 1.23133700e+06 5.82280000e+04\n",
      " 1.47400000e+03 5.80000000e+02 6.69000000e+02 1.30000000e+01\n",
      " 2.20000000e+01 1.13500000e+03 1.22000000e+02 1.09000000e+02\n",
      " 4.00000000e+00 2.00000000e+00 1.00000000e+00 2.00000000e+00\n",
      " 1.00000000e+00 0.00000000e+00]\n",
      "Unk percentage: 0.0028308563340410475\n",
      "Unk percentage: 0.0024705221785513757\n",
      "Unk percentage: 0.0013147323058943833\n",
      "Unk percentage: 0.0031008924519739826\n"
     ]
    },
    {
     "name": "stderr",
     "output_type": "stream",
     "text": [
      "\r",
      "Generating walks (CPU: 1):  30%|███       | 3/10 [00:02<00:06,  1.05it/s]"
     ]
    },
    {
     "name": "stdout",
     "output_type": "stream",
     "text": [
      "[4.10000000e+00 8.33573554e-02 9.05172200e+06 2.19085000e+05\n",
      " 4.85900000e+03 1.97200000e+03 2.57400000e+03 3.40000000e+01\n",
      " 4.40000000e+01 7.77600000e+03 1.21600000e+03 9.50000000e+02\n",
      " 3.00000000e+01 8.00000000e+00 1.60000000e+01 1.36000000e+02\n",
      " 8.00000000e+00 1.00000000e+00]\n",
      "Unk percentage: 0.0050586157057973345\n",
      "cluster began\n",
      "cluster end\n"
     ]
    },
    {
     "name": "stderr",
     "output_type": "stream",
     "text": [
      "\r",
      "Computing transition probabilities:   0%|          | 0/292 [00:00<?, ?it/s]"
     ]
    },
    {
     "name": "stdout",
     "output_type": "stream",
     "text": [
      "Unk percentage: 0.0021415689810640216\n"
     ]
    },
    {
     "name": "stderr",
     "output_type": "stream",
     "text": [
      "Computing transition probabilities:  54%|█████▍    | 159/292 [00:00<00:00, 715.62it/s]"
     ]
    },
    {
     "name": "stdout",
     "output_type": "stream",
     "text": [
      "Unk percentage: 0.00477326968973747\n"
     ]
    },
    {
     "name": "stderr",
     "output_type": "stream",
     "text": [
      "Computing transition probabilities: 100%|██████████| 292/292 [00:00<00:00, 758.65it/s]\n",
      "Generating walks (CPU: 1):   0%|          | 0/10 [00:00<?, ?it/s]"
     ]
    },
    {
     "name": "stdout",
     "output_type": "stream",
     "text": [
      "Unk percentage: 0.0022366815778771857\n",
      "Unk percentage: 0.0020881670533642693\n",
      "Unk percentage: 0.0019280205655526992\n",
      "Unk percentage: 0.0010312822275696115\n",
      "Unk percentage: 0.0034497628288055198\n",
      "Unk percentage: 0.0014245014245014246\n",
      "Unk percentage: 0.003702180172768408\n"
     ]
    },
    {
     "name": "stderr",
     "output_type": "stream",
     "text": [
      "\r",
      "Generating walks (CPU: 1):  40%|████      | 4/10 [00:04<00:06,  1.06s/it]"
     ]
    },
    {
     "name": "stdout",
     "output_type": "stream",
     "text": [
      "Unk percentage: 0.0011431837667905116\n",
      "Unk percentage: 0.004839685420447671\n",
      "Unk percentage: 0.0036622145626884965\n",
      "Unk percentage: 0.002529615004935834\n"
     ]
    },
    {
     "name": "stderr",
     "output_type": "stream",
     "text": [
      "\r",
      "Generating walks (CPU: 1):  20%|██        | 2/10 [00:01<00:04,  1.78it/s]"
     ]
    },
    {
     "name": "stdout",
     "output_type": "stream",
     "text": [
      "Unk percentage: 0.005434044287460943\n",
      "Unk percentage: 0.0054430655345090355\n",
      "Unk percentage: 0.0034071550255536627\n",
      "Unk percentage: 0.005693653659213998\n"
     ]
    },
    {
     "name": "stderr",
     "output_type": "stream",
     "text": [
      "\r",
      "Generating walks (CPU: 1):  50%|█████     | 5/10 [00:05<00:05,  1.12s/it]"
     ]
    },
    {
     "name": "stdout",
     "output_type": "stream",
     "text": [
      "Unk percentage: 0.0015353121801432957\n",
      "Unk percentage: 0.004338394793926247\n"
     ]
    },
    {
     "name": "stderr",
     "output_type": "stream",
     "text": [
      "Generating walks (CPU: 1): 100%|██████████| 10/10 [00:09<00:00,  1.02it/s]\n",
      "\n"
     ]
    },
    {
     "name": "stdout",
     "output_type": "stream",
     "text": [
      "[3.04000000e+00 1.06632542e-01 7.12813600e+06 1.87641000e+05\n",
      " 4.07300000e+03 1.81100000e+03 2.07200000e+03 4.00000000e+01\n",
      " 4.90000000e+01 5.49300000e+03 8.76000000e+02 7.48000000e+02\n",
      " 3.80000000e+01 7.00000000e+00 1.10000000e+01 9.60000000e+01\n",
      " 1.20000000e+01 1.00000000e+00]\n",
      "Unk percentage: 0.005027652086475616\n",
      "Unk percentage: 0.001146131805157593\n",
      "Unk percentage: 0.002153063221765512\n",
      "[2.6100000e+00 6.3269721e-02 3.9427640e+06 1.1416800e+05 2.1050000e+03\n",
      " 8.7800000e+02 8.6500000e+02 1.2000000e+01 8.0000000e+00 3.0390000e+03\n",
      " 4.2700000e+02 4.4400000e+02 9.0000000e+00 5.0000000e+00 1.0000000e+00\n",
      " 5.9000000e+01 0.0000000e+00 1.0000000e+00]\n",
      "Unk percentage: 0.006595218466611707\n",
      "Unk percentage: 0.004906333630686887\n",
      "Unk percentage: 0.011235955056179775\n",
      "cluster began\n",
      "cluster end\n"
     ]
    },
    {
     "name": "stderr",
     "output_type": "stream",
     "text": [
      "Computing transition probabilities: 100%|██████████| 121/121 [00:00<00:00, 1547.17it/s]\n",
      "Generating walks (CPU: 1):  20%|██        | 2/10 [00:00<00:01,  4.91it/s]"
     ]
    },
    {
     "name": "stdout",
     "output_type": "stream",
     "text": [
      "cluster began\n",
      "cluster end\n"
     ]
    },
    {
     "name": "stderr",
     "output_type": "stream",
     "text": [
      "Computing transition probabilities: 100%|██████████| 291/291 [00:00<00:00, 681.24it/s]\n",
      "Generating walks (CPU: 1):  40%|████      | 4/10 [00:03<00:04,  1.27it/s]]\n",
      "Generating walks (CPU: 1):  50%|█████     | 5/10 [00:04<00:04,  1.14it/s]"
     ]
    },
    {
     "name": "stdout",
     "output_type": "stream",
     "text": [
      "[2.84000000e+00 9.25970418e-02 2.59696000e+05 1.88400000e+04\n",
      " 6.11000000e+02 2.69000000e+02 2.55000000e+02 7.00000000e+00\n",
      " 1.00000000e+01 8.14000000e+02 1.45000000e+02 1.60000000e+02\n",
      " 1.00000000e+00 2.00000000e+00 2.00000000e+00 2.80000000e+01\n",
      " 0.00000000e+00 0.00000000e+00]\n",
      "Unk percentage: 0.0032626427406199023\n"
     ]
    },
    {
     "name": "stderr",
     "output_type": "stream",
     "text": [
      "Generating walks (CPU: 1):  90%|█████████ | 9/10 [00:08<00:00,  1.03it/s]"
     ]
    },
    {
     "name": "stdout",
     "output_type": "stream",
     "text": [
      "cluster began\n",
      "cluster end\n"
     ]
    },
    {
     "name": "stderr",
     "output_type": "stream",
     "text": [
      "Computing transition probabilities: 100%|██████████| 65/65 [00:00<00:00, 3446.25it/s]\n",
      "Generating walks (CPU: 1):  70%|███████   | 7/10 [00:01<00:00,  6.08it/s]]"
     ]
    },
    {
     "name": "stdout",
     "output_type": "stream",
     "text": [
      "cluster began\n",
      "cluster end\n"
     ]
    },
    {
     "name": "stderr",
     "output_type": "stream",
     "text": [
      "Computing transition probabilities:   0%|          | 0/349 [00:00<?, ?it/s]\n",
      "Computing transition probabilities: 100%|██████████| 349/349 [00:00<00:00, 611.80it/s]\n",
      "Generating walks (CPU: 1):   0%|          | 0/10 [00:00<?, ?it/s]\n"
     ]
    },
    {
     "name": "stdout",
     "output_type": "stream",
     "text": [
      "[2.68750000e+00 4.19811959e-02 3.67880000e+04 4.44900000e+03\n",
      " 1.49000000e+02 4.40000000e+01 4.30000000e+01 3.00000000e+00\n",
      " 2.00000000e+00 1.62000000e+02 1.10000000e+01 1.30000000e+01\n",
      " 0.00000000e+00 0.00000000e+00 0.00000000e+00 0.00000000e+00\n",
      " 0.00000000e+00 0.00000000e+00]\n",
      "Unk percentage: 0.0050933786078098476\n",
      "[3.14000000e+00 9.52468087e-02 3.87766200e+06 1.32050000e+05\n",
      " 2.91600000e+03 1.28400000e+03 1.27900000e+03 3.30000000e+01\n",
      " 3.00000000e+01 5.85900000e+03 8.01000000e+02 7.76000000e+02\n",
      " 2.00000000e+01 1.10000000e+01 9.00000000e+00 1.40000000e+02\n",
      " 1.00000000e+01 0.00000000e+00]\n",
      "Unk percentage: 0.0023231801755291687\n"
     ]
    },
    {
     "name": "stderr",
     "output_type": "stream",
     "text": [
      "\r",
      "Generating walks (CPU: 1):  20%|██        | 2/10 [00:01<00:06,  1.25it/s]"
     ]
    },
    {
     "name": "stdout",
     "output_type": "stream",
     "text": [
      "Unk percentage: 0.002857142857142857\n"
     ]
    },
    {
     "name": "stderr",
     "output_type": "stream",
     "text": [
      "Generating walks (CPU: 1): 100%|██████████| 10/10 [00:12<00:00,  1.39s/it]\n"
     ]
    },
    {
     "name": "stdout",
     "output_type": "stream",
     "text": [
      "cluster began\n",
      "cluster end\n"
     ]
    },
    {
     "name": "stderr",
     "output_type": "stream",
     "text": [
      "Computing transition probabilities: 100%|██████████| 388/388 [00:00<00:00, 527.97it/s]\n",
      "Generating walks (CPU: 1):   0%|          | 0/10 [00:00<?, ?it/s]"
     ]
    },
    {
     "name": "stdout",
     "output_type": "stream",
     "text": [
      "[3.4400000e+00 4.0275713e-02 6.7811570e+06 1.7316600e+05 3.2460000e+03\n",
      " 1.4900000e+03 1.3660000e+03 2.5000000e+01 4.4000000e+01 2.5250000e+03\n",
      " 2.7100000e+02 2.8800000e+02 3.0000000e+00 2.0000000e+00 1.0000000e+00\n",
      " 1.2000000e+01 0.0000000e+00 0.0000000e+00]\n",
      "Unk percentage: 0.008746355685131196\n"
     ]
    },
    {
     "name": "stderr",
     "output_type": "stream",
     "text": [
      "Generating walks (CPU: 1):  30%|███       | 3/10 [00:03<00:07,  1.01s/it]"
     ]
    },
    {
     "name": "stdout",
     "output_type": "stream",
     "text": [
      "cluster began\n",
      "cluster end\n"
     ]
    },
    {
     "name": "stderr",
     "output_type": "stream",
     "text": [
      "Computing transition probabilities: 100%|██████████| 194/194 [00:00<00:00, 759.70it/s] \n",
      "Generating walks (CPU: 1):  50%|█████     | 5/10 [00:02<00:02,  1.85it/s]"
     ]
    },
    {
     "name": "stdout",
     "output_type": "stream",
     "text": [
      "cluster began\n",
      "cluster end\n"
     ]
    },
    {
     "name": "stderr",
     "output_type": "stream",
     "text": [
      "Computing transition probabilities: 100%|██████████| 299/299 [00:00<00:00, 718.40it/s]\n",
      "Generating walks (CPU: 1):  80%|████████  | 8/10 [00:11<00:03,  1.50s/it]]\n",
      "Generating walks (CPU: 1):  40%|████      | 4/10 [00:03<00:05,  1.10it/s]"
     ]
    },
    {
     "name": "stdout",
     "output_type": "stream",
     "text": [
      "[2.92000000e+00 3.21537953e-02 1.12824200e+06 4.90190000e+04\n",
      " 7.95000000e+02 2.85000000e+02 3.03000000e+02 8.00000000e+00\n",
      " 1.20000000e+01 8.42000000e+02 5.40000000e+01 5.30000000e+01\n",
      " 0.00000000e+00 0.00000000e+00 0.00000000e+00 3.00000000e+00\n",
      " 0.00000000e+00 0.00000000e+00]\n",
      "Unk percentage: 0.0017817371937639199\n"
     ]
    },
    {
     "name": "stderr",
     "output_type": "stream",
     "text": [
      "Generating walks (CPU: 1):  90%|█████████ | 9/10 [00:12<00:01,  1.58s/it]"
     ]
    },
    {
     "name": "stdout",
     "output_type": "stream",
     "text": [
      "Unk percentage: 0.004349176762969867\n",
      "Unk percentage: 0.006771314250538628\n",
      "Unk percentage: 0.003298774740810556\n",
      "Unk percentage: 0.0029679664312762255\n",
      "Unk percentage: 0.0027676298018377062\n"
     ]
    },
    {
     "name": "stderr",
     "output_type": "stream",
     "text": [
      "\r",
      "Generating walks (CPU: 1):  60%|██████    | 6/10 [00:05<00:04,  1.05s/it]"
     ]
    },
    {
     "name": "stdout",
     "output_type": "stream",
     "text": [
      "Unk percentage: 0.007667031763417305\n",
      "Unk percentage: 0.0031961646024770275\n",
      "Unk percentage: 0.004521306657624053\n"
     ]
    },
    {
     "name": "stderr",
     "output_type": "stream",
     "text": [
      "\r",
      "Generating walks (CPU: 1): 100%|██████████| 10/10 [00:14<00:00,  1.55s/it]"
     ]
    },
    {
     "name": "stdout",
     "output_type": "stream",
     "text": [
      "Unk percentage: 0.0035480349344978166\n",
      "Unk percentage: 0.0014524328249818446\n",
      "Unk percentage: 0.0022688598979013048\n",
      "Unk percentage: 0.004095004095004095\n"
     ]
    },
    {
     "name": "stderr",
     "output_type": "stream",
     "text": [
      "Generating walks (CPU: 1):  70%|███████   | 7/10 [00:07<00:03,  1.08s/it]\n",
      "Generating walks (CPU: 1): 100%|██████████| 10/10 [00:10<00:00,  1.10s/it]"
     ]
    },
    {
     "name": "stdout",
     "output_type": "stream",
     "text": [
      "[4.16000000e+00 3.91982375e-02 9.36698100e+06 2.04636000e+05\n",
      " 3.63700000e+03 1.54900000e+03 1.62200000e+03 1.70000000e+01\n",
      " 2.10000000e+01 5.77900000e+03 5.19000000e+02 5.12000000e+02\n",
      " 1.00000000e+01 7.00000000e+00 7.00000000e+00 4.30000000e+01\n",
      " 5.00000000e+00 0.00000000e+00]\n",
      "Unk percentage: 0.005221932114882507\n"
     ]
    },
    {
     "name": "stderr",
     "output_type": "stream",
     "text": [
      "\n"
     ]
    },
    {
     "name": "stdout",
     "output_type": "stream",
     "text": [
      "[3.41000000e+00 5.29116329e-02 4.22507700e+06 1.30972000e+05\n",
      " 2.74500000e+03 1.17100000e+03 1.26300000e+03 3.20000000e+01\n",
      " 3.80000000e+01 4.13700000e+03 4.32000000e+02 3.86000000e+02\n",
      " 6.00000000e+00 2.00000000e+00 1.00000000e+00 3.40000000e+01\n",
      " 0.00000000e+00 0.00000000e+00]\n",
      "Unk percentage: 0.0014619883040935672\n",
      "Unk percentage: 0.0025020850708924102\n",
      "Unk percentage: 0.0030452988199467074\n",
      "Unk percentage: 0.004105571847507331\n",
      "cluster began\n",
      "cluster end\n"
     ]
    },
    {
     "name": "stderr",
     "output_type": "stream",
     "text": [
      "Computing transition probabilities: 100%|██████████| 115/115 [00:00<00:00, 1991.27it/s]\n",
      "Generating walks (CPU: 1):   0%|          | 0/10 [00:00<?, ?it/s]"
     ]
    },
    {
     "name": "stdout",
     "output_type": "stream",
     "text": [
      "Unk percentage: 0.003280787388973354\n"
     ]
    },
    {
     "name": "stderr",
     "output_type": "stream",
     "text": [
      "\r",
      "Generating walks (CPU: 1):  20%|██        | 2/10 [00:00<00:01,  5.63it/s]"
     ]
    },
    {
     "name": "stdout",
     "output_type": "stream",
     "text": [
      "Unk percentage: 0.005681818181818182\n"
     ]
    },
    {
     "name": "stderr",
     "output_type": "stream",
     "text": [
      "Generating walks (CPU: 1): 100%|██████████| 10/10 [00:03<00:00,  2.53it/s]\n"
     ]
    },
    {
     "name": "stdout",
     "output_type": "stream",
     "text": [
      "[3.01000000e+00 6.00521251e-02 2.23530000e+05 1.55850000e+04\n",
      " 4.44000000e+02 1.40000000e+02 2.03000000e+02 6.00000000e+00\n",
      " 6.00000000e+00 3.76000000e+02 9.10000000e+01 7.20000000e+01\n",
      " 1.00000000e+00 0.00000000e+00 0.00000000e+00 1.00000000e+01\n",
      " 0.00000000e+00 0.00000000e+00]\n",
      "Unk percentage: 0.005477308294209703\n",
      "Unk percentage: 0.0025452488687782806\n",
      "Unk percentage: 0.0031339031339031338\n",
      "Unk percentage: 0.0037907505686125853\n",
      "cluster began\n",
      "cluster end\n"
     ]
    },
    {
     "name": "stderr",
     "output_type": "stream",
     "text": [
      "Computing transition probabilities: 100%|██████████| 339/339 [00:00<00:00, 620.45it/s]\n",
      "Generating walks (CPU: 1):  30%|███       | 3/10 [00:02<00:05,  1.30it/s]"
     ]
    },
    {
     "name": "stdout",
     "output_type": "stream",
     "text": [
      "cluster began\n",
      "cluster end\n"
     ]
    },
    {
     "name": "stderr",
     "output_type": "stream",
     "text": [
      "Computing transition probabilities: 100%|██████████| 243/243 [00:00<00:00, 935.47it/s] \n",
      "Generating walks (CPU: 1):  70%|███████   | 7/10 [00:07<00:03,  1.07s/it]"
     ]
    },
    {
     "name": "stdout",
     "output_type": "stream",
     "text": [
      "cluster began\n",
      "cluster end\n"
     ]
    },
    {
     "name": "stderr",
     "output_type": "stream",
     "text": [
      "Computing transition probabilities: 100%|██████████| 149/149 [00:00<00:00, 909.90it/s]\n",
      "Generating walks (CPU: 1): 100%|██████████| 10/10 [00:07<00:00,  1.15it/s]"
     ]
    },
    {
     "name": "stdout",
     "output_type": "stream",
     "text": [
      "cluster began\n",
      "cluster end\n"
     ]
    },
    {
     "name": "stderr",
     "output_type": "stream",
     "text": [
      "Computing transition probabilities: 100%|██████████| 391/391 [00:00<00:00, 604.50it/s]\n",
      "Generating walks (CPU: 1):   0%|          | 0/10 [00:00<?, ?it/s]\n",
      "\n",
      "\n"
     ]
    },
    {
     "name": "stdout",
     "output_type": "stream",
     "text": [
      "[3.28000000e+00 5.03670852e-02 4.97647000e+05 2.94110000e+04\n",
      " 7.30000000e+02 2.69000000e+02 2.97000000e+02 1.10000000e+01\n",
      " 1.40000000e+01 8.30000000e+02 8.90000000e+01 8.70000000e+01\n",
      " 2.00000000e+00 2.00000000e+00 2.00000000e+00 5.00000000e+00\n",
      " 0.00000000e+00 0.00000000e+00]\n",
      "Unk percentage: 0.007121563431599868\n",
      "Unk percentage: 0.0023677979479084454\n",
      "[3.06000000e+00 1.08794748e-01 2.24898100e+06 7.43000000e+04\n",
      " 3.14900000e+03 1.38400000e+03 1.50100000e+03 1.90000000e+01\n",
      " 2.70000000e+01 2.12600000e+03 6.58000000e+02 6.32000000e+02\n",
      " 1.70000000e+01 3.00000000e+00 2.00000000e+00 8.10000000e+01\n",
      " 0.00000000e+00 0.00000000e+00]\n",
      "Unk percentage: 0.008620689655172414\n"
     ]
    },
    {
     "name": "stderr",
     "output_type": "stream",
     "text": [
      "\r",
      "Generating walks (CPU: 1):  20%|██        | 2/10 [00:01<00:07,  1.07it/s]"
     ]
    },
    {
     "name": "stdout",
     "output_type": "stream",
     "text": [
      "[4.11000000e+00 1.15798155e-01 6.19495800e+06 1.70072000e+05\n",
      " 3.67900000e+03 1.48700000e+03 1.85400000e+03 2.30000000e+01\n",
      " 3.20000000e+01 5.04700000e+03 7.93000000e+02 6.71000000e+02\n",
      " 2.30000000e+01 3.00000000e+00 5.00000000e+00 8.40000000e+01\n",
      " 5.00000000e+00 0.00000000e+00]\n",
      "Unk percentage: 0.0036325895173845357\n",
      "Unk percentage: 0.002292434964616765\n",
      "Unk percentage: 0.00288704438830747\n",
      "Unk percentage: 0.0033483431474425587\n"
     ]
    },
    {
     "name": "stderr",
     "output_type": "stream",
     "text": [
      "\r",
      "Generating walks (CPU: 1):  30%|███       | 3/10 [00:03<00:07,  1.11s/it]"
     ]
    },
    {
     "name": "stdout",
     "output_type": "stream",
     "text": [
      "Unk percentage: 0.002638522427440633\n"
     ]
    },
    {
     "name": "stderr",
     "output_type": "stream",
     "text": [
      "Generating walks (CPU: 1): 100%|██████████| 10/10 [00:13<00:00,  1.46s/it]\n"
     ]
    },
    {
     "name": "stdout",
     "output_type": "stream",
     "text": [
      "[3.94000000e+00 6.53892539e-02 9.58483600e+06 2.13328000e+05\n",
      " 3.53300000e+03 1.44100000e+03 1.61200000e+03 2.50000000e+01\n",
      " 3.70000000e+01 4.67300000e+03 5.39000000e+02 4.81000000e+02\n",
      " 1.10000000e+01 3.00000000e+00 9.00000000e+00 4.80000000e+01\n",
      " 4.00000000e+00 0.00000000e+00]\n",
      "Unk percentage: 0.014164305949008499\n",
      "cluster began\n",
      "cluster end\n"
     ]
    },
    {
     "name": "stderr",
     "output_type": "stream",
     "text": [
      "Computing transition probabilities: 100%|██████████| 92/92 [00:00<00:00, 1360.17it/s]\n",
      "Generating walks (CPU: 1):  40%|████      | 4/10 [00:01<00:01,  3.98it/s]"
     ]
    },
    {
     "name": "stdout",
     "output_type": "stream",
     "text": [
      "cluster began\n",
      "cluster end\n"
     ]
    },
    {
     "name": "stderr",
     "output_type": "stream",
     "text": [
      "Computing transition probabilities:  15%|█▌        | 53/346 [00:00<00:00, 528.27it/s]"
     ]
    },
    {
     "name": "stdout",
     "output_type": "stream",
     "text": [
      "cluster began\n",
      "cluster end\n"
     ]
    },
    {
     "name": "stderr",
     "output_type": "stream",
     "text": [
      "Computing transition probabilities: 100%|██████████| 237/237 [00:00<00:00, 806.11it/s]\n",
      "Computing transition probabilities: 100%|██████████| 346/346 [00:00<00:00, 595.91it/s]\n",
      "Generating walks (CPU: 1):  20%|██        | 2/10 [00:01<00:05,  1.49it/s]]\n",
      "Generating walks (CPU: 1):  30%|███       | 3/10 [00:01<00:04,  1.70it/s]"
     ]
    },
    {
     "name": "stdout",
     "output_type": "stream",
     "text": [
      "[2.76923077e+00 5.73250906e-02 1.11325000e+05 9.19700000e+03\n",
      " 3.97000000e+02 1.49000000e+02 1.41000000e+02 4.00000000e+00\n",
      " 6.00000000e+00 1.86000000e+02 3.90000000e+01 4.00000000e+01\n",
      " 0.00000000e+00 0.00000000e+00 0.00000000e+00 1.00000000e+00\n",
      " 0.00000000e+00 0.00000000e+00]\n",
      "Unk percentage: 0.005622188905547227\n",
      "Unk percentage: 0.007548069283330685\n",
      "Unk percentage: 0.007288263382759487\n"
     ]
    },
    {
     "name": "stderr",
     "output_type": "stream",
     "text": [
      "Generating walks (CPU: 1):  30%|███       | 3/10 [00:02<00:06,  1.16it/s]"
     ]
    },
    {
     "name": "stdout",
     "output_type": "stream",
     "text": [
      "Unk percentage: 0.006134969325153374\n"
     ]
    },
    {
     "name": "stderr",
     "output_type": "stream",
     "text": [
      "Generating walks (CPU: 1):  70%|███████   | 7/10 [00:08<00:03,  1.28s/it]]\n",
      "Generating walks (CPU: 1):  80%|████████  | 8/10 [00:09<00:02,  1.34s/it]"
     ]
    },
    {
     "name": "stdout",
     "output_type": "stream",
     "text": [
      "[2.63000000e+00 3.92753358e-02 2.07932700e+06 7.93380000e+04\n",
      " 1.59300000e+03 6.11000000e+02 6.50000000e+02 8.00000000e+00\n",
      " 1.50000000e+01 1.10300000e+03 1.44000000e+02 1.39000000e+02\n",
      " 3.00000000e+00 1.00000000e+00 2.00000000e+00 6.00000000e+00\n",
      " 0.00000000e+00 0.00000000e+00]\n",
      "Unk percentage: 0.004070556309362279\n"
     ]
    },
    {
     "name": "stderr",
     "output_type": "stream",
     "text": [
      "Generating walks (CPU: 1): 100%|██████████| 10/10 [00:12<00:00,  1.31s/it]\n"
     ]
    },
    {
     "name": "stdout",
     "output_type": "stream",
     "text": [
      "[2.74000000e+00 4.13531746e-02 6.59942300e+06 1.72400000e+05\n",
      " 2.64800000e+03 1.09000000e+03 1.18500000e+03 2.40000000e+01\n",
      " 2.50000000e+01 6.16900000e+03 7.46000000e+02 6.70000000e+02\n",
      " 1.00000000e+01 3.00000000e+00 4.00000000e+00 1.37000000e+02\n",
      " 5.00000000e+00 1.00000000e+00]\n",
      "Unk percentage: 0.003661662394727206\n",
      "cluster began\n",
      "cluster end\n"
     ]
    },
    {
     "name": "stderr",
     "output_type": "stream",
     "text": [
      "\r",
      "Computing transition probabilities:   0%|          | 0/133 [00:00<?, ?it/s]"
     ]
    },
    {
     "name": "stdout",
     "output_type": "stream",
     "text": [
      "Unk percentage: 0.0034497628288055198\n"
     ]
    },
    {
     "name": "stderr",
     "output_type": "stream",
     "text": [
      "Computing transition probabilities: 100%|██████████| 133/133 [00:00<00:00, 1510.55it/s]\n",
      "Generating walks (CPU: 1):   0%|          | 0/10 [00:00<?, ?it/s]"
     ]
    },
    {
     "name": "stdout",
     "output_type": "stream",
     "text": [
      "Unk percentage: 0.0032520325203252032\n",
      "Unk percentage: 0.0025348542458808617\n",
      "Unk percentage: 0.005113900511390051\n"
     ]
    },
    {
     "name": "stderr",
     "output_type": "stream",
     "text": [
      "\r",
      "Generating walks (CPU: 1):  20%|██        | 2/10 [00:00<00:02,  3.91it/s]"
     ]
    },
    {
     "name": "stdout",
     "output_type": "stream",
     "text": [
      "Unk percentage: 0.0018009905447996398\n",
      "Unk percentage: 0.00241721053903795\n"
     ]
    },
    {
     "name": "stderr",
     "output_type": "stream",
     "text": [
      "\r",
      "Generating walks (CPU: 1):  30%|███       | 3/10 [00:00<00:02,  3.29it/s]"
     ]
    },
    {
     "name": "stdout",
     "output_type": "stream",
     "text": [
      "Unk percentage: 0.004310344827586207\n"
     ]
    },
    {
     "name": "stderr",
     "output_type": "stream",
     "text": [
      "Generating walks (CPU: 1): 100%|██████████| 10/10 [00:04<00:00,  2.33it/s]\n"
     ]
    },
    {
     "name": "stdout",
     "output_type": "stream",
     "text": [
      "[2.95000000e+00 3.29276165e-02 3.51098000e+05 2.25890000e+04\n",
      " 4.96000000e+02 1.67000000e+02 1.67000000e+02 6.00000000e+00\n",
      " 7.00000000e+00 1.08000000e+02 1.10000000e+01 1.10000000e+01\n",
      " 0.00000000e+00 0.00000000e+00 0.00000000e+00 0.00000000e+00\n",
      " 0.00000000e+00 0.00000000e+00]\n",
      "Unk percentage: 0.011734028683181226\n",
      "cluster began\n",
      "cluster end\n"
     ]
    },
    {
     "name": "stderr",
     "output_type": "stream",
     "text": [
      "Computing transition probabilities: 100%|██████████| 98/98 [00:00<00:00, 2282.91it/s]\n",
      "Generating walks (CPU: 1): 100%|██████████| 10/10 [00:03<00:00,  2.99it/s]\n"
     ]
    },
    {
     "name": "stdout",
     "output_type": "stream",
     "text": [
      "[3.23711340e+00 6.58365351e-02 1.34209000e+05 1.17910000e+04\n",
      " 3.52000000e+02 1.34000000e+02 1.07000000e+02 4.00000000e+00\n",
      " 9.00000000e+00 6.31000000e+02 8.00000000e+01 9.60000000e+01\n",
      " 4.00000000e+00 1.00000000e+00 1.00000000e+00 2.00000000e+01\n",
      " 1.00000000e+00 0.00000000e+00]\n",
      "Unk percentage: 0.007494646680942184\n",
      "Unk percentage: 0.009882643607164917\n",
      "Unk percentage: 0.0014659174199853407\n",
      "Unk percentage: 0.007805463824677274\n",
      "Unk percentage: 0.005031446540880503\n",
      "cluster began\n",
      "cluster end\n"
     ]
    },
    {
     "name": "stderr",
     "output_type": "stream",
     "text": [
      "Computing transition probabilities: 100%|██████████| 213/213 [00:00<00:00, 958.99it/s]\n",
      "Generating walks (CPU: 1): 100%|██████████| 10/10 [00:06<00:00,  1.34it/s]\n"
     ]
    },
    {
     "name": "stdout",
     "output_type": "stream",
     "text": [
      "cluster began\n",
      "cluster end\n"
     ]
    },
    {
     "name": "stderr",
     "output_type": "stream",
     "text": [
      "Computing transition probabilities: 100%|██████████| 159/159 [00:00<00:00, 1119.17it/s]\n",
      "Generating walks (CPU: 1):   0%|          | 0/10 [00:00<?, ?it/s]"
     ]
    },
    {
     "name": "stdout",
     "output_type": "stream",
     "text": [
      "[2.57000000e+00 6.85575536e-02 1.49982600e+06 6.04810000e+04\n",
      " 1.60600000e+03 7.16000000e+02 6.84000000e+02 1.40000000e+01\n",
      " 1.40000000e+01 1.64300000e+03 2.99000000e+02 2.91000000e+02\n",
      " 7.00000000e+00 2.00000000e+00 6.00000000e+00 2.80000000e+01\n",
      " 3.00000000e+00 0.00000000e+00]\n",
      "Unk percentage: 0.0036877688998156115\n"
     ]
    },
    {
     "name": "stderr",
     "output_type": "stream",
     "text": [
      "\r",
      "Generating walks (CPU: 1):  20%|██        | 2/10 [00:00<00:02,  3.50it/s]"
     ]
    },
    {
     "name": "stdout",
     "output_type": "stream",
     "text": [
      "Unk percentage: 0.004484896451655455\n",
      "Unk percentage: 0.006072874493927126\n"
     ]
    },
    {
     "name": "stderr",
     "output_type": "stream",
     "text": [
      "Generating walks (CPU: 1):  70%|███████   | 7/10 [00:03<00:01,  1.85it/s]"
     ]
    },
    {
     "name": "stdout",
     "output_type": "stream",
     "text": [
      "cluster began\n",
      "cluster end\n"
     ]
    },
    {
     "name": "stderr",
     "output_type": "stream",
     "text": [
      "Computing transition probabilities: 100%|██████████| 265/265 [00:00<00:00, 715.00it/s]\n",
      "Generating walks (CPU: 1):  20%|██        | 2/10 [00:00<00:03,  2.25it/s]]\n",
      "Generating walks (CPU: 1):  30%|███       | 3/10 [00:01<00:04,  1.68it/s]"
     ]
    },
    {
     "name": "stdout",
     "output_type": "stream",
     "text": [
      "[2.83000000e+00 5.33262892e-02 6.10699000e+05 3.25660000e+04\n",
      " 6.70000000e+02 2.71000000e+02 2.60000000e+02 9.00000000e+00\n",
      " 1.30000000e+01 4.03000000e+02 3.50000000e+01 2.90000000e+01\n",
      " 1.00000000e+00 0.00000000e+00 0.00000000e+00 0.00000000e+00\n",
      " 0.00000000e+00 0.00000000e+00]\n",
      "Unk percentage: 0.0011995201919232307\n",
      "Unk percentage: 0.002749770852428964\n"
     ]
    },
    {
     "name": "stderr",
     "output_type": "stream",
     "text": [
      "Generating walks (CPU: 1):  80%|████████  | 8/10 [00:06<00:01,  1.17it/s]"
     ]
    },
    {
     "name": "stdout",
     "output_type": "stream",
     "text": [
      "cluster began\n",
      "cluster end\n"
     ]
    },
    {
     "name": "stderr",
     "output_type": "stream",
     "text": [
      "Computing transition probabilities: 100%|██████████| 231/231 [00:00<00:00, 628.39it/s]\n",
      "Generating walks (CPU: 1):  30%|███       | 3/10 [00:01<00:03,  1.79it/s]]\n",
      "Generating walks (CPU: 1):  50%|█████     | 5/10 [00:03<00:03,  1.37it/s]"
     ]
    },
    {
     "name": "stdout",
     "output_type": "stream",
     "text": [
      "[2.67000000e+00 4.52619048e-02 2.93313300e+06 9.30540000e+04\n",
      " 2.06200000e+03 8.34000000e+02 9.09000000e+02 2.20000000e+01\n",
      " 2.60000000e+01 1.49200000e+03 1.67000000e+02 1.53000000e+02\n",
      " 0.00000000e+00 0.00000000e+00 2.00000000e+00 1.00000000e+01\n",
      " 0.00000000e+00 0.00000000e+00]\n",
      "Unk percentage: 0.005787037037037037\n"
     ]
    },
    {
     "name": "stderr",
     "output_type": "stream",
     "text": [
      "Generating walks (CPU: 1): 100%|██████████| 10/10 [00:07<00:00,  1.14it/s]\n"
     ]
    },
    {
     "name": "stdout",
     "output_type": "stream",
     "text": [
      "[2.36000000e+00 6.52738095e-02 1.92810200e+06 6.80100000e+04\n",
      " 1.54600000e+03 6.66000000e+02 6.28000000e+02 1.00000000e+01\n",
      " 1.50000000e+01 1.90900000e+03 2.65000000e+02 2.74000000e+02\n",
      " 8.00000000e+00 1.00000000e+00 2.00000000e+00 2.10000000e+01\n",
      " 2.00000000e+00 1.00000000e+00]\n",
      "Unk percentage: 0.0024485092899323058\n",
      "Unk percentage: 0.004438642297650131\n",
      "cluster began\n",
      "cluster end\n"
     ]
    },
    {
     "name": "stderr",
     "output_type": "stream",
     "text": [
      "Computing transition probabilities: 100%|██████████| 164/164 [00:00<00:00, 1547.25it/s]\n",
      "Generating walks (CPU: 1):   0%|          | 0/10 [00:00<?, ?it/s]"
     ]
    },
    {
     "name": "stdout",
     "output_type": "stream",
     "text": [
      "Unk percentage: 0.005771289791867965\n"
     ]
    },
    {
     "name": "stderr",
     "output_type": "stream",
     "text": [
      "\r",
      "Generating walks (CPU: 1):  20%|██        | 2/10 [00:00<00:03,  2.36it/s]"
     ]
    },
    {
     "name": "stdout",
     "output_type": "stream",
     "text": [
      "Unk percentage: 0.0025174825174825175\n",
      "Unk percentage: 0.011682242990654205\n"
     ]
    },
    {
     "name": "stderr",
     "output_type": "stream",
     "text": [
      "Generating walks (CPU: 1): 100%|██████████| 10/10 [00:05<00:00,  1.68it/s]\n"
     ]
    },
    {
     "name": "stdout",
     "output_type": "stream",
     "text": [
      "[3.00000000e+00 3.96583795e-02 6.73536000e+05 3.30090000e+04\n",
      " 5.24000000e+02 1.78000000e+02 1.78000000e+02 1.00000000e+01\n",
      " 5.00000000e+00 9.94000000e+02 6.30000000e+01 5.60000000e+01\n",
      " 1.00000000e+00 0.00000000e+00 1.00000000e+00 6.00000000e+00\n",
      " 0.00000000e+00 0.00000000e+00]\n",
      "Unk percentage: 0.0047694753577106515\n",
      "cluster began\n",
      "cluster end\n"
     ]
    },
    {
     "name": "stderr",
     "output_type": "stream",
     "text": [
      "Computing transition probabilities: 100%|██████████| 244/244 [00:00<00:00, 638.68it/s]\n",
      "Generating walks (CPU: 1):  90%|█████████ | 9/10 [00:06<00:00,  1.22it/s]"
     ]
    },
    {
     "name": "stdout",
     "output_type": "stream",
     "text": [
      "cluster began\n",
      "cluster end\n"
     ]
    },
    {
     "name": "stderr",
     "output_type": "stream",
     "text": [
      "Computing transition probabilities: 100%|██████████| 281/281 [00:00<00:00, 806.84it/s]\n",
      "Generating walks (CPU: 1):   0%|          | 0/10 [00:00<?, ?it/s]\n",
      "Generating walks (CPU: 1):  30%|███       | 3/10 [00:02<00:04,  1.42it/s]"
     ]
    },
    {
     "name": "stdout",
     "output_type": "stream",
     "text": [
      "[2.92000000e+00 1.16914021e-01 2.25705800e+06 9.64640000e+04\n",
      " 2.61700000e+03 1.05600000e+03 1.41500000e+03 3.80000000e+01\n",
      " 5.00000000e+01 2.53300000e+03 4.22000000e+02 3.19000000e+02\n",
      " 2.20000000e+01 3.00000000e+00 1.30000000e+01 2.50000000e+01\n",
      " 6.00000000e+00 0.00000000e+00]\n",
      "Unk percentage: 0.0050327126321087065\n",
      "Unk percentage: 0.0033583255232739768\n",
      "Unk percentage: 0.002554278416347382\n"
     ]
    },
    {
     "name": "stderr",
     "output_type": "stream",
     "text": [
      "Generating walks (CPU: 1):  80%|████████  | 8/10 [00:07<00:01,  1.02it/s]"
     ]
    },
    {
     "name": "stdout",
     "output_type": "stream",
     "text": [
      "cluster began\n",
      "cluster end\n"
     ]
    },
    {
     "name": "stderr",
     "output_type": "stream",
     "text": [
      "Computing transition probabilities: 100%|██████████| 206/206 [00:00<00:00, 684.70it/s]\n",
      "Generating walks (CPU: 1):  40%|████      | 4/10 [00:02<00:03,  1.85it/s]]\n",
      "Generating walks (CPU: 1):  60%|██████    | 6/10 [00:03<00:02,  1.49it/s]"
     ]
    },
    {
     "name": "stdout",
     "output_type": "stream",
     "text": [
      "[3.58000000e+00 5.02282036e-02 3.50420600e+06 1.09916000e+05\n",
      " 1.90700000e+03 7.54000000e+02 8.11000000e+02 1.50000000e+01\n",
      " 1.40000000e+01 1.56700000e+03 1.79000000e+02 1.74000000e+02\n",
      " 8.00000000e+00 0.00000000e+00 0.00000000e+00 9.00000000e+00\n",
      " 0.00000000e+00 0.00000000e+00]\n",
      "Unk percentage: 0.005767844268204758\n"
     ]
    },
    {
     "name": "stderr",
     "output_type": "stream",
     "text": [
      "Generating walks (CPU: 1): 100%|██████████| 10/10 [00:06<00:00,  1.23it/s]"
     ]
    },
    {
     "name": "stdout",
     "output_type": "stream",
     "text": [
      "cluster began\n",
      "cluster end\n"
     ]
    },
    {
     "name": "stderr",
     "output_type": "stream",
     "text": [
      "Computing transition probabilities:   0%|          | 0/209 [00:00<?, ?it/s]\n",
      "Computing transition probabilities: 100%|██████████| 209/209 [00:00<00:00, 1187.31it/s]\n",
      "Generating walks (CPU: 1):  20%|██        | 2/10 [00:00<00:03,  2.54it/s]"
     ]
    },
    {
     "name": "stdout",
     "output_type": "stream",
     "text": [
      "[4.41000000e+00 1.17809396e-01 1.35627100e+06 4.76340000e+04\n",
      " 2.09100000e+03 8.65000000e+02 1.09700000e+03 2.50000000e+01\n",
      " 1.20000000e+01 3.32300000e+03 1.59300000e+03 1.38600000e+03\n",
      " 1.40000000e+01 1.00000000e+00 3.00000000e+00 5.90000000e+02\n",
      " 4.00000000e+00 1.00000000e+00]\n",
      "Unk percentage: 0.007279590186033971\n",
      "Unk percentage: 0.015228426395939087\n"
     ]
    },
    {
     "name": "stderr",
     "output_type": "stream",
     "text": [
      "Generating walks (CPU: 1): 100%|██████████| 10/10 [00:06<00:00,  1.56it/s]\n"
     ]
    },
    {
     "name": "stdout",
     "output_type": "stream",
     "text": [
      "[3.30000000e+00 2.85932127e-02 1.41806600e+06 5.69390000e+04\n",
      " 1.20000000e+03 5.19000000e+02 4.87000000e+02 1.00000000e+01\n",
      " 9.00000000e+00 8.41000000e+02 8.50000000e+01 9.10000000e+01\n",
      " 2.00000000e+00 1.00000000e+00 2.00000000e+00 4.00000000e+00\n",
      " 0.00000000e+00 0.00000000e+00]\n",
      "Unk percentage: 0.010657193605683837\n",
      "cluster began\n",
      "cluster end\n"
     ]
    },
    {
     "name": "stderr",
     "output_type": "stream",
     "text": [
      "Computing transition probabilities: 100%|██████████| 210/210 [00:00<00:00, 1069.08it/s]\n",
      "Generating walks (CPU: 1): 100%|██████████| 10/10 [00:07<00:00,  1.19it/s]\n"
     ]
    },
    {
     "name": "stdout",
     "output_type": "stream",
     "text": [
      "[3.85000000e+00 8.07432089e-02 1.43113900e+06 6.26410000e+04\n",
      " 1.65500000e+03 7.09000000e+02 7.33000000e+02 2.20000000e+01\n",
      " 1.30000000e+01 2.26500000e+03 2.83000000e+02 2.71000000e+02\n",
      " 1.80000000e+01 4.00000000e+00 5.00000000e+00 2.20000000e+01\n",
      " 4.00000000e+00 0.00000000e+00]\n",
      "Unk percentage: 0.0061707233459033254\n",
      "cluster began\n",
      "cluster end\n",
      "Unk percentage: 0.0043720190779014305\n"
     ]
    },
    {
     "name": "stderr",
     "output_type": "stream",
     "text": [
      "\r",
      "Computing transition probabilities:   0%|          | 0/333 [00:00<?, ?it/s]"
     ]
    },
    {
     "name": "stdout",
     "output_type": "stream",
     "text": [
      "Unk percentage: 0.0027256208358570565\n"
     ]
    },
    {
     "name": "stderr",
     "output_type": "stream",
     "text": [
      "\r",
      "Computing transition probabilities:  17%|█▋        | 57/333 [00:00<00:00, 567.92it/s]"
     ]
    },
    {
     "name": "stdout",
     "output_type": "stream",
     "text": [
      "Unk percentage: 0.002803083391730904\n"
     ]
    },
    {
     "name": "stderr",
     "output_type": "stream",
     "text": [
      "Computing transition probabilities: 100%|██████████| 333/333 [00:00<00:00, 614.42it/s]\n",
      "Generating walks (CPU: 1):  20%|██        | 2/10 [00:01<00:05,  1.49it/s]"
     ]
    },
    {
     "name": "stdout",
     "output_type": "stream",
     "text": [
      "cluster began\n",
      "cluster end\n"
     ]
    },
    {
     "name": "stderr",
     "output_type": "stream",
     "text": [
      "Computing transition probabilities: 100%|██████████| 66/66 [00:00<00:00, 2616.58it/s]\n",
      "Generating walks (CPU: 1): 100%|██████████| 10/10 [00:02<00:00,  4.74it/s]\n",
      "Generating walks (CPU: 1):  40%|████      | 4/10 [00:04<00:06,  1.07s/it]"
     ]
    },
    {
     "name": "stdout",
     "output_type": "stream",
     "text": [
      "[3.01538462e+00 7.75213675e-02 3.82290000e+04 4.82500000e+03\n",
      " 2.45000000e+02 8.40000000e+01 1.01000000e+02 6.00000000e+00\n",
      " 4.00000000e+00 1.04000000e+02 4.20000000e+01 3.50000000e+01\n",
      " 2.00000000e+00 0.00000000e+00 0.00000000e+00 3.00000000e+00\n",
      " 0.00000000e+00 0.00000000e+00]\n",
      "Unk percentage: 0.0009433962264150943\n",
      "Unk percentage: 0.004051565377532229\n",
      "Unk percentage: 0.02\n",
      "Unk percentage: 0.0022988505747126436\n"
     ]
    },
    {
     "name": "stderr",
     "output_type": "stream",
     "text": [
      "Generating walks (CPU: 1):  80%|████████  | 8/10 [00:09<00:02,  1.19s/it]"
     ]
    },
    {
     "name": "stdout",
     "output_type": "stream",
     "text": [
      "cluster began\n",
      "cluster end\n"
     ]
    },
    {
     "name": "stderr",
     "output_type": "stream",
     "text": [
      "Computing transition probabilities: 100%|██████████| 192/192 [00:00<00:00, 1079.97it/s]\n",
      "Generating walks (CPU: 1):  40%|████      | 4/10 [00:01<00:02,  2.05it/s]]\n",
      "Generating walks (CPU: 1):  80%|████████  | 8/10 [00:04<00:01,  1.49it/s]"
     ]
    },
    {
     "name": "stdout",
     "output_type": "stream",
     "text": [
      "[4.0100000e+00 1.0308336e-01 5.8570760e+06 1.7148400e+05 3.8540000e+03\n",
      " 1.7110000e+03 1.7350000e+03 3.3000000e+01 3.9000000e+01 6.2700000e+03\n",
      " 8.2800000e+02 8.6300000e+02 3.1000000e+01 1.0000000e+01 8.0000000e+00\n",
      " 1.0300000e+02 1.1000000e+01 4.0000000e+00]\n",
      "Unk percentage: 0.007462686567164179\n"
     ]
    },
    {
     "name": "stderr",
     "output_type": "stream",
     "text": [
      "Generating walks (CPU: 1): 100%|██████████| 10/10 [00:06<00:00,  1.35it/s]\n"
     ]
    },
    {
     "name": "stdout",
     "output_type": "stream",
     "text": [
      "[2.82000000e+00 4.49632883e-02 1.09344000e+06 4.66600000e+04\n",
      " 1.11800000e+03 4.46000000e+02 5.12000000e+02 1.30000000e+01\n",
      " 5.00000000e+00 7.73000000e+02 9.00000000e+01 7.40000000e+01\n",
      " 0.00000000e+00 0.00000000e+00 0.00000000e+00 4.00000000e+00\n",
      " 0.00000000e+00 0.00000000e+00]\n",
      "Unk percentage: 0.0047694753577106515\n",
      "cluster began\n",
      "cluster end\n"
     ]
    },
    {
     "name": "stderr",
     "output_type": "stream",
     "text": [
      "Computing transition probabilities: 100%|██████████| 357/357 [00:00<00:00, 496.78it/s]\n",
      "Generating walks (CPU: 1):  20%|██        | 2/10 [00:01<00:06,  1.25it/s]"
     ]
    },
    {
     "name": "stdout",
     "output_type": "stream",
     "text": [
      "cluster began\n",
      "cluster end\n"
     ]
    },
    {
     "name": "stderr",
     "output_type": "stream",
     "text": [
      "Computing transition probabilities: 100%|██████████| 380/380 [00:00<00:00, 562.99it/s]\n",
      "Generating walks (CPU: 1): 100%|██████████| 10/10 [00:12<00:00,  1.32s/it]"
     ]
    },
    {
     "name": "stdout",
     "output_type": "stream",
     "text": [
      "cluster began\n",
      "cluster end\n"
     ]
    },
    {
     "name": "stderr",
     "output_type": "stream",
     "text": [
      "Computing transition probabilities: 100%|██████████| 130/130 [00:00<00:00, 1593.77it/s]\n",
      "Generating walks (CPU: 1):  20%|██        | 2/10 [00:00<00:02,  3.97it/s]\n",
      "Generating walks (CPU: 1):  50%|█████     | 5/10 [00:01<00:02,  2.47it/s]"
     ]
    },
    {
     "name": "stdout",
     "output_type": "stream",
     "text": [
      "cluster began\n",
      "cluster end\n"
     ]
    },
    {
     "name": "stderr",
     "output_type": "stream",
     "text": [
      "Computing transition probabilities: 100%|██████████| 184/184 [00:00<00:00, 1190.56it/s]\n",
      "Generating walks (CPU: 1):  70%|███████   | 7/10 [00:02<00:01,  2.34it/s]"
     ]
    },
    {
     "name": "stdout",
     "output_type": "stream",
     "text": [
      "[3.09000000e+00 1.29187951e-01 7.24435000e+06 1.91930000e+05\n",
      " 4.85600000e+03 2.01200000e+03 2.44100000e+03 3.00000000e+01\n",
      " 3.70000000e+01 7.89700000e+03 1.38500000e+03 1.22700000e+03\n",
      " 2.90000000e+01 7.00000000e+00 1.10000000e+01 1.99000000e+02\n",
      " 7.00000000e+00 2.00000000e+00]\n",
      "Unk percentage: 0.010183299389002037\n"
     ]
    },
    {
     "name": "stderr",
     "output_type": "stream",
     "text": [
      "Generating walks (CPU: 1):  50%|█████     | 5/10 [00:02<00:02,  2.03it/s]]\n"
     ]
    },
    {
     "name": "stdout",
     "output_type": "stream",
     "text": [
      "[2.67000000e+00 5.83776107e-02 3.26864000e+05 2.05320000e+04\n",
      " 8.11000000e+02 3.47000000e+02 3.09000000e+02 7.00000000e+00\n",
      " 9.00000000e+00 3.87000000e+02 1.08000000e+02 1.14000000e+02\n",
      " 4.00000000e+00 1.00000000e+00 1.00000000e+00 9.00000000e+00\n",
      " 1.00000000e+00 0.00000000e+00]\n",
      "Unk percentage: 0.00528169014084507\n",
      "Unk percentage: 0.010014306151645207\n"
     ]
    },
    {
     "name": "stderr",
     "output_type": "stream",
     "text": [
      "\n",
      "Generating walks (CPU: 1): 100%|██████████| 10/10 [00:05<00:00,  1.57it/s]"
     ]
    },
    {
     "name": "stdout",
     "output_type": "stream",
     "text": [
      "[3.40000000e+00 4.94976251e-02 8.78300000e+06 2.07466000e+05\n",
      " 2.92200000e+03 1.36800000e+03 1.20200000e+03 2.30000000e+01\n",
      " 2.40000000e+01 4.79200000e+03 3.92000000e+02 3.92000000e+02\n",
      " 1.10000000e+01 3.00000000e+00 4.00000000e+00 2.60000000e+01\n",
      " 3.00000000e+00 1.00000000e+00]\n",
      "Unk percentage: 0.004317323259579061\n"
     ]
    },
    {
     "name": "stderr",
     "output_type": "stream",
     "text": [
      "\n"
     ]
    },
    {
     "name": "stdout",
     "output_type": "stream",
     "text": [
      "[3.21000000e+00 6.72236991e-02 9.54734000e+05 4.71340000e+04\n",
      " 1.21500000e+03 5.40000000e+02 5.19000000e+02 2.10000000e+01\n",
      " 2.60000000e+01 4.21000000e+02 5.60000000e+01 6.00000000e+01\n",
      " 4.00000000e+00 0.00000000e+00 0.00000000e+00 1.00000000e+00\n",
      " 0.00000000e+00 0.00000000e+00]\n",
      "Unk percentage: 0.006329113924050633\n",
      "cluster began\n",
      "cluster end\n"
     ]
    },
    {
     "name": "stderr",
     "output_type": "stream",
     "text": [
      "Computing transition probabilities: 100%|██████████| 157/157 [00:00<00:00, 1570.95it/s]\n",
      "Generating walks (CPU: 1):  40%|████      | 4/10 [00:01<00:02,  2.52it/s]"
     ]
    },
    {
     "name": "stdout",
     "output_type": "stream",
     "text": [
      "cluster began\n",
      "cluster end\n"
     ]
    },
    {
     "name": "stderr",
     "output_type": "stream",
     "text": [
      "Computing transition probabilities: 100%|██████████| 209/209 [00:00<00:00, 1117.16it/s]\n",
      "Generating walks (CPU: 1):  40%|████      | 4/10 [00:02<00:03,  1.81it/s]"
     ]
    },
    {
     "name": "stdout",
     "output_type": "stream",
     "text": [
      "cluster began\n",
      "cluster end\n"
     ]
    },
    {
     "name": "stderr",
     "output_type": "stream",
     "text": [
      "Computing transition probabilities: 100%|██████████| 201/201 [00:00<00:00, 1198.74it/s]\n",
      "Generating walks (CPU: 1):  50%|█████     | 5/10 [00:02<00:03,  1.64it/s]"
     ]
    },
    {
     "name": "stdout",
     "output_type": "stream",
     "text": [
      "cluster began\n",
      "cluster end\n"
     ]
    },
    {
     "name": "stderr",
     "output_type": "stream",
     "text": [
      "Computing transition probabilities:  83%|████████▎ | 323/388 [00:00<00:00, 451.64it/s]\n",
      "Computing transition probabilities: 100%|██████████| 388/388 [00:00<00:00, 463.29it/s]\n",
      "Generating walks (CPU: 1):  70%|███████   | 7/10 [00:04<00:02,  1.36it/s]"
     ]
    },
    {
     "name": "stdout",
     "output_type": "stream",
     "text": [
      "[2.51000000e+00 9.01587302e-02 5.85037000e+05 3.27980000e+04\n",
      " 1.09900000e+03 4.22000000e+02 4.72000000e+02 1.30000000e+01\n",
      " 1.90000000e+01 5.19000000e+02 1.23000000e+02 1.05000000e+02\n",
      " 2.00000000e+00 0.00000000e+00 1.00000000e+00 1.00000000e+01\n",
      " 0.00000000e+00 0.00000000e+00]\n",
      "Unk percentage: 0.00465046504650465\n"
     ]
    },
    {
     "name": "stderr",
     "output_type": "stream",
     "text": [
      "\r",
      "Generating walks (CPU: 1):  40%|████      | 4/10 [00:02<00:03,  1.62it/s]"
     ]
    },
    {
     "name": "stdout",
     "output_type": "stream",
     "text": [
      "Unk percentage: 0.007462686567164179\n",
      "Unk percentage: 0.0035597745476119848\n",
      "Unk percentage: 0.005728835136855506\n"
     ]
    },
    {
     "name": "stderr",
     "output_type": "stream",
     "text": [
      "Generating walks (CPU: 1):  30%|███       | 3/10 [00:03<00:06,  1.02it/s]]\n",
      "Generating walks (CPU: 1):  40%|████      | 4/10 [00:04<00:07,  1.18s/it]"
     ]
    },
    {
     "name": "stdout",
     "output_type": "stream",
     "text": [
      "[2.97000000e+00 7.17388468e-02 1.41531300e+06 5.71450000e+04\n",
      " 1.56200000e+03 6.87000000e+02 6.82000000e+02 1.80000000e+01\n",
      " 1.40000000e+01 2.04000000e+03 3.61000000e+02 3.75000000e+02\n",
      " 5.00000000e+00 3.00000000e+00 2.00000000e+00 4.80000000e+01\n",
      " 1.00000000e+00 0.00000000e+00]\n",
      "Unk percentage: 0.0041841004184100415\n",
      "Unk percentage: 0.0039198606271777\n",
      "Unk percentage: 0.0035822540644805732\n"
     ]
    },
    {
     "name": "stderr",
     "output_type": "stream",
     "text": [
      "\r",
      "Generating walks (CPU: 1): 100%|██████████| 10/10 [00:06<00:00,  1.46it/s]"
     ]
    },
    {
     "name": "stdout",
     "output_type": "stream",
     "text": [
      "Unk percentage: 0.002541942043721403\n",
      "Unk percentage: 0.0051813471502590676\n",
      "Unk percentage: 0.004454342984409799\n"
     ]
    },
    {
     "name": "stderr",
     "output_type": "stream",
     "text": [
      "\n",
      "Generating walks (CPU: 1):  50%|█████     | 5/10 [00:06<00:06,  1.29s/it]"
     ]
    },
    {
     "name": "stdout",
     "output_type": "stream",
     "text": [
      "[3.08000000e+00 3.21119178e-02 1.25799100e+06 5.19790000e+04\n",
      " 9.26000000e+02 3.73000000e+02 3.55000000e+02 7.00000000e+00\n",
      " 8.00000000e+00 1.43600000e+03 1.54000000e+02 1.48000000e+02\n",
      " 2.00000000e+00 0.00000000e+00 0.00000000e+00 2.10000000e+01\n",
      " 0.00000000e+00 0.00000000e+00]\n",
      "Unk percentage: 0.0034965034965034965\n"
     ]
    },
    {
     "name": "stderr",
     "output_type": "stream",
     "text": [
      "Generating walks (CPU: 1): 100%|██████████| 10/10 [00:14<00:00,  1.50s/it]\n"
     ]
    },
    {
     "name": "stdout",
     "output_type": "stream",
     "text": [
      "[4.03000000e+00 4.30952144e-02 9.30279500e+06 2.65777000e+05\n",
      " 5.05500000e+03 2.23500000e+03 2.44700000e+03 4.70000000e+01\n",
      " 9.10000000e+01 5.74400000e+03 5.71000000e+02 5.18000000e+02\n",
      " 2.00000000e+01 4.00000000e+00 1.00000000e+01 2.70000000e+01\n",
      " 3.00000000e+00 1.00000000e+00]\n",
      "Unk percentage: 0.000855431993156544\n",
      "Unk percentage: 0.0051325919589392645\n",
      "cluster began\n",
      "cluster end\n"
     ]
    },
    {
     "name": "stderr",
     "output_type": "stream",
     "text": [
      "Computing transition probabilities: 100%|██████████| 316/316 [00:00<00:00, 673.26it/s]\n",
      "Generating walks (CPU: 1):  20%|██        | 2/10 [00:01<00:04,  1.81it/s]"
     ]
    },
    {
     "name": "stdout",
     "output_type": "stream",
     "text": [
      "cluster began\n",
      "cluster end\n"
     ]
    },
    {
     "name": "stderr",
     "output_type": "stream",
     "text": [
      "Computing transition probabilities: 100%|██████████| 181/181 [00:00<00:00, 1077.51it/s]\n",
      "Generating walks (CPU: 1):   0%|          | 0/10 [00:00<?, ?it/s]"
     ]
    },
    {
     "name": "stdout",
     "output_type": "stream",
     "text": [
      "cluster began\n",
      "cluster end\n"
     ]
    },
    {
     "name": "stderr",
     "output_type": "stream",
     "text": [
      "Computing transition probabilities: 100%|██████████| 214/214 [00:00<00:00, 758.96it/s]\n",
      "Generating walks (CPU: 1):  80%|████████  | 8/10 [00:04<00:01,  1.65it/s]]\n",
      "Generating walks (CPU: 1):  80%|████████  | 8/10 [00:07<00:02,  1.03s/it]"
     ]
    },
    {
     "name": "stdout",
     "output_type": "stream",
     "text": [
      "[3.4100000e+00 3.0259471e-02 9.1075600e+05 4.2275000e+04 8.9300000e+02\n",
      " 3.5400000e+02 3.3500000e+02 6.0000000e+00 1.0000000e+01 9.6400000e+02\n",
      " 1.2500000e+02 1.2000000e+02 5.0000000e+00 0.0000000e+00 2.0000000e+00\n",
      " 1.5000000e+01 0.0000000e+00 0.0000000e+00]\n",
      "Unk percentage: 0.0144\n"
     ]
    },
    {
     "name": "stderr",
     "output_type": "stream",
     "text": [
      "Generating walks (CPU: 1):  90%|█████████ | 9/10 [00:08<00:01,  1.06s/it]]\n",
      "Generating walks (CPU: 1): 100%|██████████| 10/10 [00:10<00:00,  1.18s/it]"
     ]
    },
    {
     "name": "stdout",
     "output_type": "stream",
     "text": [
      "[4.180000e+00 5.505156e-02 1.513275e+06 7.009900e+04 1.576000e+03\n",
      " 6.920000e+02 6.180000e+02 1.600000e+01 3.400000e+01 1.324000e+03\n",
      " 1.590000e+02 1.630000e+02 9.000000e+00 5.000000e+00 4.000000e+00\n",
      " 9.000000e+00 3.000000e+00 0.000000e+00]\n",
      "Unk percentage: 0.001318217769575534\n",
      "Unk percentage: 0.002857142857142857\n",
      "Unk percentage: 0.0017538731365097924\n",
      "Unk percentage: 0.003377237419790611\n",
      "Unk percentage: 0.0010280133641737343\n",
      "Unk percentage: 0.0033801352054082163\n",
      "Unk percentage: 0.0008939213349225268\n",
      "Unk percentage: 0.0029115341545352742\n",
      "Unk percentage: 0.001827318410232983\n"
     ]
    },
    {
     "name": "stderr",
     "output_type": "stream",
     "text": [
      "\n"
     ]
    },
    {
     "name": "stdout",
     "output_type": "stream",
     "text": [
      "Unk percentage: 0.004017531044558071\n",
      "Unk percentage: 0.0075294117647058826\n",
      "Unk percentage: 0.002348106838861168\n",
      "Unk percentage: 0.0012300123001230013\n",
      "Unk percentage: 0.0014574224443056423\n",
      "Unk percentage: 0.0022994379151762903\n",
      "Unk percentage: 0.0010542962572482868\n",
      "Unk percentage: 0.003985507246376811\n",
      "Unk percentage: 0.001519756838905775\n",
      "Unk percentage: 0.0018013381369016985\n",
      "Unk percentage: 0.001081665765278529\n",
      "Unk percentage: 0.002883922134102379\n",
      "[3.69000000e+00 1.09807431e-01 4.97865300e+06 1.64102000e+05\n",
      " 5.19700000e+03 2.23500000e+03 2.68800000e+03 3.70000000e+01\n",
      " 8.90000000e+01 4.99300000e+03 8.64000000e+02 7.88000000e+02\n",
      " 3.90000000e+01 1.50000000e+01 2.60000000e+01 6.00000000e+01\n",
      " 1.60000000e+01 3.00000000e+00]\n",
      "Unk percentage: 0.008438818565400843\n",
      "cluster began\n",
      "cluster end\n"
     ]
    },
    {
     "name": "stderr",
     "output_type": "stream",
     "text": [
      "Computing transition probabilities: 100%|██████████| 309/309 [00:00<00:00, 561.98it/s]\n",
      "Generating walks (CPU: 1): 100%|██████████| 10/10 [00:10<00:00,  1.03s/it]\n"
     ]
    },
    {
     "name": "stdout",
     "output_type": "stream",
     "text": [
      "[3.76000000e+00 5.42320754e-02 4.66135600e+06 1.51350000e+05\n",
      " 3.43000000e+03 1.50200000e+03 1.55400000e+03 3.60000000e+01\n",
      " 8.50000000e+01 2.48500000e+03 2.72000000e+02 2.57000000e+02\n",
      " 8.00000000e+00 3.00000000e+00 1.00000000e+00 1.50000000e+01\n",
      " 2.00000000e+00 0.00000000e+00]\n",
      "Unk percentage: 0.0012338062924120913\n",
      "Unk percentage: 0.011283497884344146\n",
      "Unk percentage: 0.001405591129158207\n",
      "Unk percentage: 0.00597609561752988\n",
      "Unk percentage: 0.003745318352059925\n",
      "cluster began\n",
      "cluster end\n"
     ]
    },
    {
     "name": "stderr",
     "output_type": "stream",
     "text": [
      "Computing transition probabilities: 100%|██████████| 195/195 [00:00<00:00, 1298.60it/s]\n",
      "Generating walks (CPU: 1): 100%|██████████| 10/10 [00:05<00:00,  1.57it/s]\n"
     ]
    },
    {
     "name": "stdout",
     "output_type": "stream",
     "text": [
      "cluster began\n",
      "cluster end\n"
     ]
    },
    {
     "name": "stderr",
     "output_type": "stream",
     "text": [
      "Computing transition probabilities: 100%|██████████| 331/331 [00:00<00:00, 539.38it/s]\n",
      "Generating walks (CPU: 1):   0%|          | 0/10 [00:00<?, ?it/s]"
     ]
    },
    {
     "name": "stdout",
     "output_type": "stream",
     "text": [
      "[3.00000000e+00 4.79625771e-02 1.14675700e+06 4.86670000e+04\n",
      " 9.47000000e+02 4.31000000e+02 3.51000000e+02 1.90000000e+01\n",
      " 1.80000000e+01 7.68000000e+02 8.80000000e+01 9.20000000e+01\n",
      " 0.00000000e+00 0.00000000e+00 0.00000000e+00 6.00000000e+00\n",
      " 0.00000000e+00 0.00000000e+00]\n",
      "Unk percentage: 0.005050505050505051\n"
     ]
    },
    {
     "name": "stderr",
     "output_type": "stream",
     "text": [
      "\r",
      "Generating walks (CPU: 1):  20%|██        | 2/10 [00:01<00:05,  1.58it/s]"
     ]
    },
    {
     "name": "stdout",
     "output_type": "stream",
     "text": [
      "cluster began\n",
      "cluster end\n"
     ]
    },
    {
     "name": "stderr",
     "output_type": "stream",
     "text": [
      "Computing transition probabilities: 100%|██████████| 312/312 [00:00<00:00, 525.42it/s]\n",
      "Generating walks (CPU: 1): 100%|██████████| 10/10 [00:09<00:00,  1.06s/it]\n",
      "\n"
     ]
    },
    {
     "name": "stdout",
     "output_type": "stream",
     "text": [
      "[4.42000000e+00 8.09398687e-02 5.74630700e+06 1.76832000e+05\n",
      " 3.23000000e+03 1.49300000e+03 1.34700000e+03 3.50000000e+01\n",
      " 5.90000000e+01 4.85700000e+03 4.62000000e+02 4.61000000e+02\n",
      " 1.50000000e+01 6.00000000e+00 9.00000000e+00 4.40000000e+01\n",
      " 3.00000000e+00 0.00000000e+00]\n",
      "Unk percentage: 0.0020607934054611026\n",
      "Unk percentage: 0.0023168259484506225\n",
      "Unk percentage: 0.005483549351944167\n",
      "Unk percentage: 0.003203416978109984\n",
      "Unk percentage: 0.0017588430721125659\n",
      "Unk percentage: 0.005649717514124294\n",
      "[3.11000000e+00 5.08472808e-02 4.82299700e+06 1.34135000e+05\n",
      " 2.77200000e+03 1.14000000e+03 1.27100000e+03 1.40000000e+01\n",
      " 2.30000000e+01 2.13900000e+03 3.20000000e+02 2.74000000e+02\n",
      " 7.00000000e+00 1.00000000e+00 4.00000000e+00 1.80000000e+01\n",
      " 0.00000000e+00 0.00000000e+00]\n",
      "Unk percentage: 0.0041356492969396195\n",
      "Unk percentage: 0.00819672131147541\n",
      "cluster began\n",
      "cluster end\n"
     ]
    },
    {
     "name": "stderr",
     "output_type": "stream",
     "text": [
      "Computing transition probabilities: 100%|██████████| 323/323 [00:00<00:00, 660.47it/s]\n",
      "Generating walks (CPU: 1):  60%|██████    | 6/10 [00:05<00:03,  1.02it/s]"
     ]
    },
    {
     "name": "stdout",
     "output_type": "stream",
     "text": [
      "cluster began\n",
      "cluster end\n"
     ]
    },
    {
     "name": "stderr",
     "output_type": "stream",
     "text": [
      "Computing transition probabilities: 100%|██████████| 194/194 [00:00<00:00, 1034.55it/s]\n",
      "Generating walks (CPU: 1):  80%|████████  | 8/10 [00:04<00:01,  1.65it/s]]\n",
      "Generating walks (CPU: 1): 100%|██████████| 10/10 [00:05<00:00,  1.53it/s]\n"
     ]
    },
    {
     "name": "stdout",
     "output_type": "stream",
     "text": [
      "[3.13000000e+00 6.15422197e-02 5.35279900e+06 1.50320000e+05\n",
      " 3.26200000e+03 1.46700000e+03 1.54200000e+03 2.40000000e+01\n",
      " 3.40000000e+01 2.70500000e+03 2.37000000e+02 2.38000000e+02\n",
      " 1.00000000e+00 1.00000000e+00 2.00000000e+00 7.00000000e+00\n",
      " 1.00000000e+00 0.00000000e+00]\n",
      "Unk percentage: 0.0016375545851528383\n",
      "Unk percentage: 0.0024916943521594683\n",
      "[3.57000000e+00 7.23848564e-02 1.12761500e+06 4.79950000e+04\n",
      " 1.23300000e+03 5.48000000e+02 4.93000000e+02 1.70000000e+01\n",
      " 1.10000000e+01 1.41200000e+03 1.36000000e+02 1.39000000e+02\n",
      " 1.00000000e+00 0.00000000e+00 1.00000000e+00 1.40000000e+01\n",
      " 1.00000000e+00 0.00000000e+00]\n",
      "Unk percentage: 0.011146496815286623\n",
      "cluster began\n",
      "cluster end\n"
     ]
    },
    {
     "name": "stderr",
     "output_type": "stream",
     "text": [
      "Computing transition probabilities: 100%|██████████| 198/198 [00:00<00:00, 704.18it/s]\n",
      "Generating walks (CPU: 1):   0%|          | 0/10 [00:00<?, ?it/s]"
     ]
    },
    {
     "name": "stdout",
     "output_type": "stream",
     "text": [
      "cluster began\n",
      "cluster end\n"
     ]
    },
    {
     "name": "stderr",
     "output_type": "stream",
     "text": [
      "Computing transition probabilities: 100%|██████████| 277/277 [00:00<00:00, 700.07it/s]\n",
      "Generating walks (CPU: 1):  60%|██████    | 6/10 [00:04<00:03,  1.23it/s]]\n",
      "Generating walks (CPU: 1):  70%|███████   | 7/10 [00:05<00:02,  1.17it/s]"
     ]
    },
    {
     "name": "stdout",
     "output_type": "stream",
     "text": [
      "[3.13000000e+00 5.86943949e-02 1.20044400e+06 5.03150000e+04\n",
      " 1.10500000e+03 4.35000000e+02 4.49000000e+02 1.00000000e+01\n",
      " 1.20000000e+01 1.67200000e+03 2.07000000e+02 2.05000000e+02\n",
      " 9.00000000e+00 1.00000000e+00 1.00000000e+00 2.30000000e+01\n",
      " 2.00000000e+00 0.00000000e+00]\n",
      "Unk percentage: 0.004209183673469388\n",
      "Unk percentage: 0.006220839813374806\n"
     ]
    },
    {
     "name": "stderr",
     "output_type": "stream",
     "text": [
      "Generating walks (CPU: 1): 100%|██████████| 10/10 [00:08<00:00,  1.08it/s]\n"
     ]
    },
    {
     "name": "stdout",
     "output_type": "stream",
     "text": [
      "[5.36000000e+00 8.54825552e-02 3.33755400e+06 1.16463000e+05\n",
      " 3.22300000e+03 1.37000000e+03 1.52400000e+03 1.70000000e+01\n",
      " 3.10000000e+01 4.27500000e+03 7.74000000e+02 7.19000000e+02\n",
      " 3.10000000e+01 7.00000000e+00 4.00000000e+00 1.00000000e+02\n",
      " 6.00000000e+00 2.00000000e+00]\n",
      "Unk percentage: 0.0037019898195279964\n",
      "Unk percentage: 0.002785515320334262\n",
      "cluster began\n",
      "cluster end\n"
     ]
    },
    {
     "name": "stderr",
     "output_type": "stream",
     "text": [
      "Computing transition probabilities: 100%|██████████| 191/191 [00:00<00:00, 1279.16it/s]\n",
      "Generating walks (CPU: 1):  30%|███       | 3/10 [00:01<00:02,  2.59it/s]"
     ]
    },
    {
     "name": "stdout",
     "output_type": "stream",
     "text": [
      "cluster began\n",
      "cluster end\n"
     ]
    },
    {
     "name": "stderr",
     "output_type": "stream",
     "text": [
      "Computing transition probabilities: 100%|██████████| 325/325 [00:00<00:00, 687.05it/s]\n",
      "Generating walks (CPU: 1):  40%|████      | 4/10 [00:03<00:05,  1.03it/s]]\n",
      "Generating walks (CPU: 1):  50%|█████     | 5/10 [00:05<00:05,  1.07s/it]"
     ]
    },
    {
     "name": "stdout",
     "output_type": "stream",
     "text": [
      "[3.10000000e+00 4.35137743e-02 1.07320200e+06 4.81580000e+04\n",
      " 1.14900000e+03 5.13000000e+02 4.45000000e+02 1.70000000e+01\n",
      " 1.70000000e+01 1.31500000e+03 1.69000000e+02 1.79000000e+02\n",
      " 1.00000000e+00 1.00000000e+00 1.00000000e+00 1.30000000e+01\n",
      " 0.00000000e+00 0.00000000e+00]\n",
      "Unk percentage: 0.006309148264984227\n"
     ]
    },
    {
     "name": "stderr",
     "output_type": "stream",
     "text": [
      "Generating walks (CPU: 1): 100%|██████████| 10/10 [00:10<00:00,  1.07s/it]\n"
     ]
    },
    {
     "name": "stdout",
     "output_type": "stream",
     "text": [
      "[3.1300000e+00 3.9539439e-02 5.4500580e+06 1.5539300e+05 2.8410000e+03\n",
      " 1.3380000e+03 1.1700000e+03 2.3000000e+01 5.7000000e+01 4.6370000e+03\n",
      " 3.8000000e+02 3.8900000e+02 5.0000000e+00 1.0000000e+00 2.0000000e+00\n",
      " 2.8000000e+01 2.0000000e+00 0.0000000e+00]\n",
      "Unk percentage: 0.002824858757062147\n",
      "cluster began\n",
      "cluster end\n"
     ]
    },
    {
     "name": "stderr",
     "output_type": "stream",
     "text": [
      "Computing transition probabilities: 100%|██████████| 179/179 [00:00<00:00, 1240.43it/s]\n",
      "Generating walks (CPU: 1): 100%|██████████| 10/10 [00:05<00:00,  1.68it/s]\n"
     ]
    },
    {
     "name": "stdout",
     "output_type": "stream",
     "text": [
      "[3.04000000e+00 5.84999147e-02 8.76166000e+05 4.49250000e+04\n",
      " 1.00900000e+03 3.87000000e+02 4.38000000e+02 1.40000000e+01\n",
      " 1.20000000e+01 9.73000000e+02 1.20000000e+02 1.14000000e+02\n",
      " 6.00000000e+00 4.00000000e+00 1.00000000e+00 6.00000000e+00\n",
      " 1.00000000e+00 0.00000000e+00]\n",
      "Unk percentage: 0.0020060180541624875\n",
      "cluster began\n",
      "cluster end\n"
     ]
    },
    {
     "name": "stderr",
     "output_type": "stream",
     "text": [
      "Computing transition probabilities: 100%|██████████| 337/337 [00:00<00:00, 666.86it/s]\n",
      "Generating walks (CPU: 1):  40%|████      | 4/10 [00:03<00:05,  1.15it/s]"
     ]
    },
    {
     "name": "stdout",
     "output_type": "stream",
     "text": [
      "cluster began\n",
      "cluster end\n"
     ]
    },
    {
     "name": "stderr",
     "output_type": "stream",
     "text": [
      "Computing transition probabilities: 100%|██████████| 195/195 [00:00<00:00, 1294.93it/s]\n",
      "Generating walks (CPU: 1):  90%|█████████ | 9/10 [00:09<00:01,  1.14s/it]]\n",
      "Generating walks (CPU: 1): 100%|██████████| 10/10 [00:10<00:00,  1.17s/it]"
     ]
    },
    {
     "name": "stdout",
     "output_type": "stream",
     "text": [
      "[3.18000000e+00 4.65385068e-02 1.14552800e+06 4.81100000e+04\n",
      " 1.11000000e+03 4.51000000e+02 4.80000000e+02 8.00000000e+00\n",
      " 1.20000000e+01 1.85700000e+03 2.86000000e+02 2.43000000e+02\n",
      " 6.00000000e+00 2.00000000e+00 1.00000000e+00 4.80000000e+01\n",
      " 1.00000000e+00 1.00000000e+00]\n",
      "Unk percentage: 0.0031746031746031746\n"
     ]
    },
    {
     "name": "stderr",
     "output_type": "stream",
     "text": [
      "\n"
     ]
    },
    {
     "name": "stdout",
     "output_type": "stream",
     "text": [
      "[4.20000000e+00 1.49539815e-01 6.04155700e+06 2.01976000e+05\n",
      " 5.54000000e+03 2.50400000e+03 2.61100000e+03 4.30000000e+01\n",
      " 8.10000000e+01 9.01900000e+03 1.14500000e+03 1.11200000e+03\n",
      " 4.70000000e+01 1.60000000e+01 3.10000000e+01 1.39000000e+02\n",
      " 1.50000000e+01 4.00000000e+00]\n",
      "Unk percentage: 0.001869158878504673\n",
      "cluster began\n",
      "cluster end\n",
      "Unk percentage: 0.011286681715575621\n"
     ]
    },
    {
     "name": "stderr",
     "output_type": "stream",
     "text": [
      "Computing transition probabilities: 100%|██████████| 324/324 [00:00<00:00, 673.35it/s]\n",
      "Generating walks (CPU: 1):  80%|████████  | 8/10 [00:08<00:02,  1.08s/it]"
     ]
    },
    {
     "name": "stdout",
     "output_type": "stream",
     "text": [
      "cluster began\n",
      "cluster end\n"
     ]
    },
    {
     "name": "stderr",
     "output_type": "stream",
     "text": [
      "Computing transition probabilities: 100%|██████████| 336/336 [00:00<00:00, 734.78it/s]\n",
      "Generating walks (CPU: 1):  30%|███       | 3/10 [00:02<00:05,  1.26it/s]]\n",
      "Generating walks (CPU: 1):  40%|████      | 4/10 [00:03<00:05,  1.05it/s]"
     ]
    },
    {
     "name": "stdout",
     "output_type": "stream",
     "text": [
      "[2.72000000e+00 6.90663781e-02 5.41429200e+06 1.41363000e+05\n",
      " 2.33200000e+03 1.04000000e+03 1.11500000e+03 2.20000000e+01\n",
      " 1.80000000e+01 3.38700000e+03 3.91000000e+02 3.13000000e+02\n",
      " 8.00000000e+00 4.00000000e+00 2.00000000e+00 3.20000000e+01\n",
      " 2.00000000e+00 0.00000000e+00]\n",
      "Unk percentage: 0.0020429009193054137\n",
      "Unk percentage: 0.0025575447570332483\n"
     ]
    },
    {
     "name": "stderr",
     "output_type": "stream",
     "text": [
      "Generating walks (CPU: 1):  80%|████████  | 8/10 [00:08<00:02,  1.12s/it]"
     ]
    },
    {
     "name": "stdout",
     "output_type": "stream",
     "text": [
      "cluster began\n",
      "cluster end\n"
     ]
    },
    {
     "name": "stderr",
     "output_type": "stream",
     "text": [
      "Computing transition probabilities: 100%|██████████| 202/202 [00:00<00:00, 1071.56it/s]\n",
      "Generating walks (CPU: 1):  40%|████      | 4/10 [00:01<00:02,  2.09it/s]]\n",
      "Generating walks (CPU: 1):  70%|███████   | 7/10 [00:03<00:01,  1.65it/s]"
     ]
    },
    {
     "name": "stdout",
     "output_type": "stream",
     "text": [
      "[3.58000000e+00 3.75758642e-02 6.05540200e+06 1.45415000e+05\n",
      " 2.41100000e+03 9.52000000e+02 1.06200000e+03 1.40000000e+01\n",
      " 1.60000000e+01 3.76900000e+03 4.15000000e+02 3.93000000e+02\n",
      " 5.00000000e+00 2.00000000e+00 0.00000000e+00 3.80000000e+01\n",
      " 1.00000000e+00 0.00000000e+00]\n",
      "Unk percentage: 0.00946372239747634\n"
     ]
    },
    {
     "name": "stderr",
     "output_type": "stream",
     "text": [
      "Generating walks (CPU: 1): 100%|██████████| 10/10 [00:05<00:00,  1.55it/s]"
     ]
    },
    {
     "name": "stdout",
     "output_type": "stream",
     "text": [
      "cluster began\n",
      "cluster end\n"
     ]
    },
    {
     "name": "stderr",
     "output_type": "stream",
     "text": [
      "Computing transition probabilities: 100%|██████████| 119/119 [00:00<00:00, 1913.94it/s]\n",
      "Generating walks (CPU: 1):   0%|          | 0/10 [00:00<?, ?it/s]\n",
      "Generating walks (CPU: 1):  50%|█████     | 5/10 [00:01<00:01,  2.69it/s]"
     ]
    },
    {
     "name": "stdout",
     "output_type": "stream",
     "text": [
      "[3.35000000e+00 4.24919822e-02 1.27903600e+06 5.08800000e+04\n",
      " 8.87000000e+02 3.54000000e+02 3.37000000e+02 1.10000000e+01\n",
      " 1.00000000e+01 1.55700000e+03 1.09000000e+02 1.07000000e+02\n",
      " 3.00000000e+00 2.00000000e+00 1.00000000e+00 6.00000000e+00\n",
      " 0.00000000e+00 0.00000000e+00]\n",
      "Unk percentage: 0.0022827327572150662\n",
      "Unk percentage: 0.004\n"
     ]
    },
    {
     "name": "stderr",
     "output_type": "stream",
     "text": [
      "\r",
      "Generating walks (CPU: 1):  60%|██████    | 6/10 [00:02<00:01,  2.50it/s]"
     ]
    },
    {
     "name": "stdout",
     "output_type": "stream",
     "text": [
      "Unk percentage: 0.004968944099378882\n"
     ]
    },
    {
     "name": "stderr",
     "output_type": "stream",
     "text": [
      "Generating walks (CPU: 1): 100%|██████████| 10/10 [00:03<00:00,  2.63it/s]\n"
     ]
    },
    {
     "name": "stdout",
     "output_type": "stream",
     "text": [
      "[2.77000000e+00 6.31666667e-02 2.46838000e+05 1.81180000e+04\n",
      " 6.39000000e+02 2.85000000e+02 2.24000000e+02 9.00000000e+00\n",
      " 1.20000000e+01 4.86000000e+02 1.29000000e+02 1.52000000e+02\n",
      " 2.00000000e+00 1.00000000e+00 0.00000000e+00 2.10000000e+01\n",
      " 0.00000000e+00 0.00000000e+00]\n",
      "Unk percentage: 0.023952095808383235\n",
      "cluster began\n",
      "cluster end\n"
     ]
    },
    {
     "name": "stderr",
     "output_type": "stream",
     "text": [
      "Computing transition probabilities: 100%|██████████| 263/263 [00:00<00:00, 898.04it/s] \n",
      "Generating walks (CPU: 1):  90%|█████████ | 9/10 [00:07<00:00,  1.17it/s]"
     ]
    },
    {
     "name": "stdout",
     "output_type": "stream",
     "text": [
      "cluster began\n",
      "cluster end\n"
     ]
    },
    {
     "name": "stderr",
     "output_type": "stream",
     "text": [
      "Computing transition probabilities: 100%|██████████| 109/109 [00:00<00:00, 2126.94it/s]\n",
      "Generating walks (CPU: 1):  50%|█████     | 5/10 [00:01<00:01,  3.87it/s]]\n",
      "Generating walks (CPU: 1):  80%|████████  | 8/10 [00:02<00:00,  2.75it/s]"
     ]
    },
    {
     "name": "stdout",
     "output_type": "stream",
     "text": [
      "[3.05000000e+00 2.62060169e-02 2.86353800e+06 9.52990000e+04\n",
      " 1.54800000e+03 6.38000000e+02 6.15000000e+02 1.00000000e+01\n",
      " 1.40000000e+01 1.39100000e+03 8.10000000e+01 8.20000000e+01\n",
      " 2.00000000e+00 0.00000000e+00 0.00000000e+00 2.00000000e+00\n",
      " 0.00000000e+00 0.00000000e+00]\n",
      "Unk percentage: 0.01132283899475283\n",
      "Unk percentage: 0.0015610365282547611\n",
      "Unk percentage: 0.0028530670470756064\n"
     ]
    },
    {
     "name": "stderr",
     "output_type": "stream",
     "text": [
      "Generating walks (CPU: 1): 100%|██████████| 10/10 [00:03<00:00,  2.65it/s]"
     ]
    },
    {
     "name": "stdout",
     "output_type": "stream",
     "text": [
      "cluster began\n",
      "cluster end\n"
     ]
    },
    {
     "name": "stderr",
     "output_type": "stream",
     "text": [
      "Computing transition probabilities:  79%|███████▉  | 176/223 [00:00<00:00, 915.57it/s] \n",
      "Computing transition probabilities: 100%|██████████| 223/223 [00:00<00:00, 887.92it/s]\n",
      "Generating walks (CPU: 1):   0%|          | 0/10 [00:00<?, ?it/s]"
     ]
    },
    {
     "name": "stdout",
     "output_type": "stream",
     "text": [
      "[3.04000000e+00 3.77384135e-02 1.88500000e+05 1.43020000e+04\n",
      " 4.71000000e+02 1.67000000e+02 1.83000000e+02 6.00000000e+00\n",
      " 3.00000000e+00 3.77000000e+02 7.20000000e+01 6.90000000e+01\n",
      " 0.00000000e+00 0.00000000e+00 0.00000000e+00 6.00000000e+00\n",
      " 0.00000000e+00 0.00000000e+00]\n",
      "Unk percentage: 0.005128205128205128\n"
     ]
    },
    {
     "name": "stderr",
     "output_type": "stream",
     "text": [
      "Generating walks (CPU: 1):  70%|███████   | 7/10 [00:04<00:01,  1.53it/s]"
     ]
    },
    {
     "name": "stdout",
     "output_type": "stream",
     "text": [
      "cluster began\n",
      "cluster end\n"
     ]
    },
    {
     "name": "stderr",
     "output_type": "stream",
     "text": [
      "Computing transition probabilities: 100%|██████████| 70/70 [00:00<00:00, 1940.97it/s]\n",
      "Generating walks (CPU: 1): 100%|██████████| 10/10 [00:06<00:00,  1.43it/s]\n"
     ]
    },
    {
     "name": "stdout",
     "output_type": "stream",
     "text": [
      "[2.60869565e+00 3.11098314e-02 4.68010000e+04 5.19100000e+03\n",
      " 1.70000000e+02 4.80000000e+01 4.90000000e+01 2.00000000e+00\n",
      " 0.00000000e+00 1.02000000e+02 1.40000000e+01 1.50000000e+01\n",
      " 1.00000000e+00 0.00000000e+00 0.00000000e+00 1.00000000e+00\n",
      " 0.00000000e+00 0.00000000e+00]\n",
      "Unk percentage: 0.0032552083333333335\n",
      "Unk percentage: 0.0071174377224199285\n"
     ]
    },
    {
     "name": "stderr",
     "output_type": "stream",
     "text": [
      "\n"
     ]
    },
    {
     "name": "stdout",
     "output_type": "stream",
     "text": [
      "[3.67000000e+00 5.39703714e-02 1.72344600e+06 7.14150000e+04\n",
      " 1.59000000e+03 6.48000000e+02 7.06000000e+02 2.00000000e+01\n",
      " 1.80000000e+01 8.63000000e+02 1.17000000e+02 1.02000000e+02\n",
      " 8.00000000e+00 1.00000000e+00 3.00000000e+00 3.00000000e+00\n",
      " 0.00000000e+00 0.00000000e+00]\n",
      "Unk percentage: 0.0034675913576953854\n",
      "Unk percentage: 0.004901960784313725\n",
      "cluster began\n",
      "cluster end\n"
     ]
    },
    {
     "name": "stderr",
     "output_type": "stream",
     "text": [
      "Computing transition probabilities: 100%|██████████| 219/219 [00:00<00:00, 980.02it/s]\n",
      "Generating walks (CPU: 1):   0%|          | 0/10 [00:00<?, ?it/s]"
     ]
    },
    {
     "name": "stdout",
     "output_type": "stream",
     "text": [
      "cluster began\n",
      "cluster end\n"
     ]
    },
    {
     "name": "stderr",
     "output_type": "stream",
     "text": [
      "Computing transition probabilities: 100%|██████████| 190/190 [00:00<00:00, 788.77it/s]\n",
      "Generating walks (CPU: 1): 100%|██████████| 10/10 [00:06<00:00,  1.49it/s]\n",
      "\n"
     ]
    },
    {
     "name": "stdout",
     "output_type": "stream",
     "text": [
      "cluster began\n",
      "cluster end\n"
     ]
    },
    {
     "name": "stderr",
     "output_type": "stream",
     "text": [
      "Computing transition probabilities: 100%|██████████| 145/145 [00:00<00:00, 1276.41it/s]\n",
      "Generating walks (CPU: 1):   0%|          | 0/10 [00:00<?, ?it/s]"
     ]
    },
    {
     "name": "stdout",
     "output_type": "stream",
     "text": [
      "[2.5000000e+00 6.8727616e-02 1.0588080e+06 4.5454000e+04 8.3100000e+02\n",
      " 2.9600000e+02 3.4700000e+02 1.0000000e+01 6.0000000e+00 1.3010000e+03\n",
      " 1.7700000e+02 1.5100000e+02 7.0000000e+00 2.0000000e+00 4.0000000e+00\n",
      " 1.6000000e+01 3.0000000e+00 1.0000000e+00]\n",
      "Unk percentage: 0.0044447972061274705\n",
      "cluster began\n",
      "cluster end\n"
     ]
    },
    {
     "name": "stderr",
     "output_type": "stream",
     "text": [
      "Computing transition probabilities: 100%|██████████| 95/95 [00:00<00:00, 1335.15it/s]\n",
      "Generating walks (CPU: 1):  20%|██        | 2/10 [00:00<00:02,  2.87it/s]"
     ]
    },
    {
     "name": "stdout",
     "output_type": "stream",
     "text": [
      "Unk percentage: 0.002437538086532602\n"
     ]
    },
    {
     "name": "stderr",
     "output_type": "stream",
     "text": [
      "\r",
      "Generating walks (CPU: 1):  20%|██        | 2/10 [00:00<00:01,  5.25it/s]"
     ]
    },
    {
     "name": "stdout",
     "output_type": "stream",
     "text": [
      "[3.1800000e+00 7.6588451e-02 1.6353970e+06 6.2810000e+04 1.5440000e+03\n",
      " 6.4900000e+02 6.5800000e+02 1.1000000e+01 1.7000000e+01 1.6140000e+03\n",
      " 1.5900000e+02 1.3800000e+02 4.0000000e+00 0.0000000e+00 1.0000000e+00\n",
      " 1.3000000e+01 1.0000000e+00 0.0000000e+00]\n",
      "Unk percentage: 0.0010005002501250625\n",
      "Unk percentage: 0.0028279312595170763\n",
      "Unk percentage: 0.0024021138601969735\n",
      "Unk percentage: 0.0111731843575419\n",
      "Unk percentage: 0.003703703703703704\n"
     ]
    },
    {
     "name": "stderr",
     "output_type": "stream",
     "text": [
      "Generating walks (CPU: 1):  80%|████████  | 8/10 [00:03<00:00,  2.29it/s]]\n",
      "Generating walks (CPU: 1):  90%|█████████ | 9/10 [00:03<00:00,  2.26it/s]"
     ]
    },
    {
     "name": "stdout",
     "output_type": "stream",
     "text": [
      "[3.04255319e+00 9.11482544e-02 1.22482000e+05 1.01680000e+04\n",
      " 4.58000000e+02 2.03000000e+02 1.69000000e+02 1.00000000e+01\n",
      " 9.00000000e+00 3.72000000e+02 7.80000000e+01 8.70000000e+01\n",
      " 1.00000000e+00 0.00000000e+00 0.00000000e+00 7.00000000e+00\n",
      " 0.00000000e+00 0.00000000e+00]\n",
      "Unk percentage: 0.0066797642436149315\n",
      "Unk percentage: 0.015228426395939087\n"
     ]
    },
    {
     "name": "stderr",
     "output_type": "stream",
     "text": [
      "Generating walks (CPU: 1): 100%|██████████| 10/10 [00:04<00:00,  2.15it/s]\n"
     ]
    },
    {
     "name": "stdout",
     "output_type": "stream",
     "text": [
      "[3.17000000e+00 8.55591863e-02 4.60025000e+05 2.49570000e+04\n",
      " 7.51000000e+02 2.89000000e+02 3.25000000e+02 1.00000000e+01\n",
      " 5.00000000e+00 7.36000000e+02 1.27000000e+02 1.02000000e+02\n",
      " 3.00000000e+00 0.00000000e+00 2.00000000e+00 9.00000000e+00\n",
      " 3.00000000e+00 0.00000000e+00]\n",
      "Unk percentage: 0.010101010101010102\n",
      "cluster began\n",
      "cluster end\n"
     ]
    },
    {
     "name": "stderr",
     "output_type": "stream",
     "text": [
      "Computing transition probabilities: 100%|██████████| 209/209 [00:00<00:00, 877.13it/s]\n",
      "Generating walks (CPU: 1):  20%|██        | 2/10 [00:00<00:02,  3.00it/s]"
     ]
    },
    {
     "name": "stdout",
     "output_type": "stream",
     "text": [
      "cluster began\n",
      "cluster end\n"
     ]
    },
    {
     "name": "stderr",
     "output_type": "stream",
     "text": [
      "Computing transition probabilities: 100%|██████████| 319/319 [00:00<00:00, 645.94it/s]\n",
      "Generating walks (CPU: 1):  50%|█████     | 5/10 [00:02<00:02,  1.81it/s]"
     ]
    },
    {
     "name": "stdout",
     "output_type": "stream",
     "text": [
      "cluster began\n",
      "cluster end\n"
     ]
    },
    {
     "name": "stderr",
     "output_type": "stream",
     "text": [
      "Computing transition probabilities: 100%|██████████| 65/65 [00:00<00:00, 1870.50it/s]\n",
      "Generating walks (CPU: 1):   0%|          | 0/10 [00:00<?, ?it/s]"
     ]
    },
    {
     "name": "stdout",
     "output_type": "stream",
     "text": [
      "cluster began\n",
      "cluster end\n"
     ]
    },
    {
     "name": "stderr",
     "output_type": "stream",
     "text": [
      "Computing transition probabilities: 100%|██████████| 177/177 [00:00<00:00, 871.26it/s]\n",
      "Generating walks (CPU: 1):  40%|████      | 4/10 [00:01<00:02,  2.42it/s]]\n"
     ]
    },
    {
     "name": "stdout",
     "output_type": "stream",
     "text": [
      "[3.15625000e+00 7.81529966e-02 3.60470000e+04 5.08800000e+03\n",
      " 2.40000000e+02 8.10000000e+01 7.20000000e+01 3.00000000e+00\n",
      " 1.00000000e+01 8.40000000e+01 2.00000000e+01 1.70000000e+01\n",
      " 0.00000000e+00 0.00000000e+00 1.00000000e+00 1.00000000e+00\n",
      " 0.00000000e+00 0.00000000e+00]\n"
     ]
    },
    {
     "name": "stderr",
     "output_type": "stream",
     "text": [
      "\r",
      "Generating walks (CPU: 1):  90%|█████████ | 9/10 [00:05<00:00,  1.52it/s]"
     ]
    },
    {
     "name": "stdout",
     "output_type": "stream",
     "text": [
      "Unk percentage: 0.0038402457757296467\n"
     ]
    },
    {
     "name": "stderr",
     "output_type": "stream",
     "text": [
      "Generating walks (CPU: 1):  70%|███████   | 7/10 [00:03<00:01,  1.97it/s]]\n",
      "Generating walks (CPU: 1):  70%|███████   | 7/10 [00:06<00:03,  1.07s/it]"
     ]
    },
    {
     "name": "stdout",
     "output_type": "stream",
     "text": [
      "[3.0900000e+00 7.1460989e-02 1.4128360e+06 5.9966000e+04 1.9140000e+03\n",
      " 8.6600000e+02 7.9600000e+02 1.7000000e+01 2.5000000e+01 1.2950000e+03\n",
      " 2.5200000e+02 2.6400000e+02 5.0000000e+00 0.0000000e+00 2.0000000e+00\n",
      " 1.8000000e+01 0.0000000e+00 0.0000000e+00]\n",
      "Unk percentage: 0.003907669938204289\n"
     ]
    },
    {
     "name": "stderr",
     "output_type": "stream",
     "text": [
      "\r",
      "Generating walks (CPU: 1): 100%|██████████| 10/10 [00:05<00:00,  1.73it/s]"
     ]
    },
    {
     "name": "stdout",
     "output_type": "stream",
     "text": [
      "Unk percentage: 0.0013144058885383807\n",
      "Unk percentage: 0.004206730769230769\n",
      "Unk percentage: 0.001464986815118664\n",
      "Unk percentage: 0.001534683855125844\n"
     ]
    },
    {
     "name": "stderr",
     "output_type": "stream",
     "text": [
      "\n"
     ]
    },
    {
     "name": "stdout",
     "output_type": "stream",
     "text": [
      "Unk percentage: 0.001443522194153735\n",
      "Unk percentage: 0.003780718336483932\n",
      "Unk percentage: 0.0018240778273206323\n"
     ]
    },
    {
     "name": "stderr",
     "output_type": "stream",
     "text": [
      "\r",
      "Generating walks (CPU: 1):  80%|████████  | 8/10 [00:08<00:02,  1.10s/it]"
     ]
    },
    {
     "name": "stdout",
     "output_type": "stream",
     "text": [
      "Unk percentage: 0.002113271344040575\n",
      "Unk percentage: 0.0014074595355383533\n",
      "Unk percentage: 0.0013861081164330818\n",
      "Unk percentage: 0.005461993627674101\n",
      "[3.1100000e+00 5.9159382e-02 8.4605000e+05 4.4218000e+04 1.0300000e+03\n",
      " 3.9000000e+02 4.3600000e+02 1.5000000e+01 2.1000000e+01 8.8400000e+02\n",
      " 7.0000000e+01 7.4000000e+01 5.0000000e+00 0.0000000e+00 3.0000000e+00\n",
      " 4.0000000e+00 0.0000000e+00 0.0000000e+00]\n",
      "Unk percentage: 0.0014326647564469914\n",
      "Unk percentage: 0.0025364616360177552\n",
      "Unk percentage: 0.004516282386498692\n",
      "Unk percentage: 0.007433038574907087\n"
     ]
    },
    {
     "name": "stderr",
     "output_type": "stream",
     "text": [
      "\r",
      "Generating walks (CPU: 1):  90%|█████████ | 9/10 [00:09<00:01,  1.21s/it]"
     ]
    },
    {
     "name": "stdout",
     "output_type": "stream",
     "text": [
      "Unk percentage: 0.004438807863031071\n"
     ]
    },
    {
     "name": "stderr",
     "output_type": "stream",
     "text": [
      "Generating walks (CPU: 1): 100%|██████████| 10/10 [00:10<00:00,  1.15s/it]\n"
     ]
    },
    {
     "name": "stdout",
     "output_type": "stream",
     "text": [
      "[4.04000000e+00 6.60105771e-02 5.15184500e+06 1.49355000e+05\n",
      " 2.82500000e+03 1.23400000e+03 1.26800000e+03 2.40000000e+01\n",
      " 4.30000000e+01 2.20100000e+03 1.63000000e+02 1.49000000e+02\n",
      " 1.00000000e+00 2.00000000e+00 0.00000000e+00 6.00000000e+00\n",
      " 0.00000000e+00 0.00000000e+00]\n",
      "Unk percentage: 0.0009161704076958314\n",
      "Unk percentage: 0.0012857602057216328\n",
      "Unk percentage: 0.0018756698821007502\n",
      "Unk percentage: 0.006524317912218268\n",
      "Unk percentage: 0.0017401392111368909\n",
      "Unk percentage: 0.001395916942941895\n",
      "Unk percentage: 0.0018431056329915908\n",
      "Unk percentage: 0.0076184166942696255\n",
      "Unk percentage: 0.0008435259384226065\n",
      "Unk percentage: 0.00117096018735363\n",
      "Unk percentage: 0.0009863554167351635\n",
      "Unk percentage: 0.00303951367781155\n",
      "cluster began\n",
      "cluster end\n"
     ]
    },
    {
     "name": "stderr",
     "output_type": "stream",
     "text": [
      "Computing transition probabilities: 100%|██████████| 319/319 [00:00<00:00, 748.85it/s]\n",
      "Generating walks (CPU: 1):  40%|████      | 4/10 [00:03<00:04,  1.32it/s]"
     ]
    },
    {
     "name": "stdout",
     "output_type": "stream",
     "text": [
      "cluster began\n",
      "cluster end\n"
     ]
    },
    {
     "name": "stderr",
     "output_type": "stream",
     "text": [
      "Computing transition probabilities: 100%|██████████| 329/329 [00:00<00:00, 815.98it/s]\n",
      "Generating walks (CPU: 1):  50%|█████     | 5/10 [00:04<00:04,  1.13it/s]"
     ]
    },
    {
     "name": "stdout",
     "output_type": "stream",
     "text": [
      "cluster began\n",
      "cluster end\n"
     ]
    },
    {
     "name": "stderr",
     "output_type": "stream",
     "text": [
      "Computing transition probabilities: 100%|██████████| 208/208 [00:00<00:00, 1297.20it/s]\n",
      "Generating walks (CPU: 1):  30%|███       | 3/10 [00:01<00:02,  2.52it/s]]\n",
      "Generating walks (CPU: 1):  80%|████████  | 8/10 [00:07<00:02,  1.06s/it]"
     ]
    },
    {
     "name": "stdout",
     "output_type": "stream",
     "text": [
      "[3.20000000e+00 4.36347419e-02 5.13652400e+06 1.58745000e+05\n",
      " 3.12300000e+03 1.44700000e+03 1.34000000e+03 3.70000000e+01\n",
      " 4.80000000e+01 6.75500000e+03 4.96000000e+02 5.20000000e+02\n",
      " 1.40000000e+01 9.00000000e+00 1.00000000e+01 4.60000000e+01\n",
      " 2.00000000e+00 0.00000000e+00]\n",
      "Unk percentage: 0.006940427993059572\n"
     ]
    },
    {
     "name": "stderr",
     "output_type": "stream",
     "text": [
      "Generating walks (CPU: 1): 100%|██████████| 10/10 [00:05<00:00,  1.66it/s]\n",
      "\n"
     ]
    },
    {
     "name": "stdout",
     "output_type": "stream",
     "text": [
      "[2.61000000e+00 2.50555556e-02 1.39579100e+06 5.81540000e+04\n",
      " 1.09000000e+03 4.43000000e+02 3.94000000e+02 1.40000000e+01\n",
      " 2.80000000e+01 8.36000000e+02 8.80000000e+01 8.80000000e+01\n",
      " 1.00000000e+00 3.00000000e+00 1.00000000e+00 4.00000000e+00\n",
      " 0.00000000e+00 0.00000000e+00]\n",
      "Unk percentage: 0.0008361204013377926\n",
      "Unk percentage: 0.002972651605231867\n",
      "Unk percentage: 0.0015100671140939597\n",
      "Unk percentage: 0.0019180052745145048\n",
      "Unk percentage: 0.0035587188612099642\n",
      "[2.96000000e+00 1.07903896e-01 5.65622700e+06 1.53011000e+05\n",
      " 3.77900000e+03 1.82900000e+03 1.65700000e+03 3.70000000e+01\n",
      " 4.30000000e+01 7.56400000e+03 1.40700000e+03 1.57700000e+03\n",
      " 1.80000000e+01 5.00000000e+00 5.00000000e+00 4.14000000e+02\n",
      " 3.00000000e+00 0.00000000e+00]\n",
      "Unk percentage: 0.008280430582390284\n",
      "Unk percentage: 0.005361930294906166\n",
      "Unk percentage: 0.00625\n",
      "cluster began\n",
      "cluster end\n"
     ]
    },
    {
     "name": "stderr",
     "output_type": "stream",
     "text": [
      "Computing transition probabilities: 100%|██████████| 329/329 [00:00<00:00, 708.62it/s]\n",
      "Generating walks (CPU: 1):  30%|███       | 3/10 [00:02<00:04,  1.46it/s]"
     ]
    },
    {
     "name": "stdout",
     "output_type": "stream",
     "text": [
      "cluster began\n",
      "cluster end\n"
     ]
    },
    {
     "name": "stderr",
     "output_type": "stream",
     "text": [
      "Computing transition probabilities: 100%|██████████| 85/85 [00:00<00:00, 2682.55it/s]\n",
      "Generating walks (CPU: 1):  30%|███       | 3/10 [00:00<00:01,  6.12it/s]"
     ]
    },
    {
     "name": "stdout",
     "output_type": "stream",
     "text": [
      "cluster began\n",
      "cluster end\n"
     ]
    },
    {
     "name": "stderr",
     "output_type": "stream",
     "text": [
      "Computing transition probabilities: 100%|██████████| 222/222 [00:00<00:00, 1133.14it/s]\n",
      "Generating walks (CPU: 1):  60%|██████    | 6/10 [00:05<00:03,  1.07it/s]]\n"
     ]
    },
    {
     "name": "stdout",
     "output_type": "stream",
     "text": [
      "[3.26190476e+00 3.56477526e-02 8.54260000e+04 8.71700000e+03\n",
      " 3.05000000e+02 1.05000000e+02 9.40000000e+01 1.00000000e+00\n",
      " 2.00000000e+00 4.32000000e+02 8.00000000e+01 9.20000000e+01\n",
      " 4.00000000e+00 2.00000000e+00 2.00000000e+00 2.20000000e+01\n",
      " 0.00000000e+00 0.00000000e+00]\n",
      "Unk percentage: 0.004901960784313725\n"
     ]
    },
    {
     "name": "stderr",
     "output_type": "stream",
     "text": [
      "Generating walks (CPU: 1): 100%|██████████| 10/10 [00:06<00:00,  1.53it/s]\n",
      "\n"
     ]
    },
    {
     "name": "stdout",
     "output_type": "stream",
     "text": [
      "[3.1600000e+00 7.2399894e-02 1.7019930e+06 6.8232000e+04 1.8850000e+03\n",
      " 8.4200000e+02 7.6000000e+02 1.6000000e+01 2.9000000e+01 6.6000000e+02\n",
      " 1.0500000e+02 1.0100000e+02 2.0000000e+00 0.0000000e+00 2.0000000e+00\n",
      " 3.0000000e+00 0.0000000e+00 0.0000000e+00]\n",
      "Unk percentage: 0.005678537054860443\n",
      "Unk percentage: 0.004297868608016841\n",
      "[3.97000000e+00 1.25270206e-01 5.64040400e+06 1.63791000e+05\n",
      " 4.85000000e+03 2.81300000e+03 2.08900000e+03 4.20000000e+01\n",
      " 8.00000000e+01 8.98000000e+03 1.75600000e+03 2.18400000e+03\n",
      " 4.00000000e+01 9.00000000e+00 2.70000000e+01 4.88000000e+02\n",
      " 2.30000000e+01 0.00000000e+00]\n",
      "Unk percentage: 0.0027472527472527475\n",
      "cluster began\n",
      "cluster end\n"
     ]
    },
    {
     "name": "stderr",
     "output_type": "stream",
     "text": [
      "Computing transition probabilities: 100%|██████████| 123/123 [00:00<00:00, 1396.34it/s]\n",
      "Generating walks (CPU: 1): 100%|██████████| 10/10 [00:03<00:00,  2.96it/s]\n"
     ]
    },
    {
     "name": "stdout",
     "output_type": "stream",
     "text": [
      "[2.96000000e+00 5.02102142e-02 2.75789000e+05 1.84650000e+04\n",
      " 3.69000000e+02 1.38000000e+02 1.07000000e+02 8.00000000e+00\n",
      " 5.00000000e+00 2.92000000e+02 3.00000000e+01 3.40000000e+01\n",
      " 2.00000000e+00 0.00000000e+00 0.00000000e+00 1.00000000e+00\n",
      " 0.00000000e+00 0.00000000e+00]\n",
      "Unk percentage: 0.0035460992907801418\n",
      "cluster began\n",
      "cluster end\n"
     ]
    },
    {
     "name": "stderr",
     "output_type": "stream",
     "text": [
      "Computing transition probabilities: 100%|██████████| 325/325 [00:00<00:00, 511.00it/s]\n",
      "Generating walks (CPU: 1): 100%|██████████| 10/10 [00:14<00:00,  1.52s/it]\n"
     ]
    },
    {
     "name": "stdout",
     "output_type": "stream",
     "text": [
      "[5.06000000e+00 1.35941191e-01 5.43104000e+06 1.71559000e+05\n",
      " 4.00100000e+03 1.65200000e+03 1.95700000e+03 3.30000000e+01\n",
      " 5.60000000e+01 4.37300000e+03 8.00000000e+02 6.95000000e+02\n",
      " 4.80000000e+01 9.00000000e+00 1.20000000e+01 7.30000000e+01\n",
      " 1.30000000e+01 3.00000000e+00]\n",
      "Unk percentage: 0.0016630633627141194\n",
      "Unk percentage: 0.003663003663003663\n",
      "cluster began\n",
      "cluster end\n"
     ]
    },
    {
     "name": "stderr",
     "output_type": "stream",
     "text": [
      "Computing transition probabilities: 100%|██████████| 273/273 [00:00<00:00, 514.37it/s]\n",
      "Generating walks (CPU: 1): 100%|██████████| 10/10 [00:11<00:00,  1.27s/it]\n"
     ]
    },
    {
     "name": "stdout",
     "output_type": "stream",
     "text": [
      "[2.83000000e+00 7.33234821e-02 3.19627900e+06 1.11658000e+05\n",
      " 2.25800000e+03 1.07300000e+03 9.24000000e+02 1.60000000e+01\n",
      " 4.10000000e+01 3.85000000e+03 4.05000000e+02 4.50000000e+02\n",
      " 1.40000000e+01 2.00000000e+00 1.00000000e+00 6.70000000e+01\n",
      " 2.00000000e+00 0.00000000e+00]\n",
      "Unk percentage: 0.0027675276752767526\n",
      "cluster began\n",
      "cluster end\n"
     ]
    },
    {
     "name": "stderr",
     "output_type": "stream",
     "text": [
      "Computing transition probabilities: 100%|██████████| 375/375 [00:00<00:00, 394.07it/s]\n",
      "Generating walks (CPU: 1): 100%|██████████| 10/10 [00:14<00:00,  1.52s/it]\n"
     ]
    },
    {
     "name": "stdout",
     "output_type": "stream",
     "text": [
      "[3.44000000e+00 9.07653214e-02 8.40262200e+06 2.26063000e+05\n",
      " 4.45400000e+03 2.02200000e+03 2.17600000e+03 3.60000000e+01\n",
      " 5.60000000e+01 9.30600000e+03 1.16100000e+03 9.69000000e+02\n",
      " 3.00000000e+01 1.10000000e+01 1.10000000e+01 1.90000000e+02\n",
      " 1.50000000e+01 2.00000000e+00]\n",
      "Unk percentage: 0.0018578727357176034\n",
      "Unk percentage: 0.002861230329041488\n",
      "cluster began\n",
      "cluster end\n"
     ]
    },
    {
     "name": "stderr",
     "output_type": "stream",
     "text": [
      "Computing transition probabilities: 100%|██████████| 254/254 [00:00<00:00, 880.70it/s]\n",
      "Generating walks (CPU: 1): 100%|██████████| 10/10 [00:06<00:00,  1.39it/s]\n"
     ]
    },
    {
     "name": "stdout",
     "output_type": "stream",
     "text": [
      "[3.19000000e+00 8.49246032e-02 2.57086900e+06 8.79980000e+04\n",
      " 1.89800000e+03 9.71000000e+02 9.39000000e+02 1.90000000e+01\n",
      " 3.40000000e+01 3.18400000e+03 5.40000000e+02 5.36000000e+02\n",
      " 1.20000000e+01 4.00000000e+00 2.00000000e+00 1.19000000e+02\n",
      " 1.00000000e+00 0.00000000e+00]\n",
      "Unk percentage: 0.002770083102493075\n",
      "cluster began\n",
      "cluster end\n"
     ]
    },
    {
     "name": "stderr",
     "output_type": "stream",
     "text": [
      "Computing transition probabilities: 100%|██████████| 228/228 [00:00<00:00, 1298.06it/s]\n",
      "Generating walks (CPU: 1): 100%|██████████| 10/10 [00:05<00:00,  1.53it/s]\n"
     ]
    },
    {
     "name": "stdout",
     "output_type": "stream",
     "text": [
      "[2.73000000e+00 4.35966811e-02 1.84761300e+06 7.21570000e+04\n",
      " 1.59200000e+03 6.21000000e+02 6.89000000e+02 1.70000000e+01\n",
      " 1.70000000e+01 8.78000000e+02 1.22000000e+02 1.11000000e+02\n",
      " 0.00000000e+00 1.00000000e+00 1.00000000e+00 6.00000000e+00\n",
      " 0.00000000e+00 0.00000000e+00]\n",
      "Unk percentage: 0.002544529262086514\n",
      "Unk percentage: 0.005083884087442806\n",
      "cluster began\n",
      "cluster end\n",
      "Unk percentage: 0.0031185031185031187\n"
     ]
    },
    {
     "name": "stderr",
     "output_type": "stream",
     "text": [
      "\r",
      "Computing transition probabilities:   0%|          | 0/274 [00:00<?, ?it/s]"
     ]
    },
    {
     "name": "stdout",
     "output_type": "stream",
     "text": [
      "Unk percentage: 0.001195457262402869\n"
     ]
    },
    {
     "name": "stderr",
     "output_type": "stream",
     "text": [
      "Computing transition probabilities: 100%|██████████| 274/274 [00:00<00:00, 913.90it/s]\n",
      "Generating walks (CPU: 1): 100%|██████████| 10/10 [00:07<00:00,  1.23it/s]\n"
     ]
    },
    {
     "name": "stdout",
     "output_type": "stream",
     "text": [
      "[4.1900000e+00 1.5134317e-01 3.2221900e+06 1.1664100e+05 3.1710000e+03\n",
      " 1.5360000e+03 1.3930000e+03 3.4000000e+01 4.4000000e+01 6.0120000e+03\n",
      " 1.2020000e+03 1.2870000e+03 3.3000000e+01 1.2000000e+01 1.7000000e+01\n",
      " 3.0300000e+02 1.8000000e+01 3.0000000e+00]\n",
      "Unk percentage: 0.0019646365422396855\n",
      "cluster began\n",
      "cluster end\n"
     ]
    },
    {
     "name": "stderr",
     "output_type": "stream",
     "text": [
      "Computing transition probabilities: 100%|██████████| 380/380 [00:00<00:00, 773.04it/s]\n",
      "Generating walks (CPU: 1):  70%|███████   | 7/10 [00:07<00:03,  1.15s/it]"
     ]
    },
    {
     "name": "stdout",
     "output_type": "stream",
     "text": [
      "cluster began\n",
      "cluster end\n"
     ]
    },
    {
     "name": "stderr",
     "output_type": "stream",
     "text": [
      "Computing transition probabilities: 100%|██████████| 373/373 [00:00<00:00, 743.17it/s]\n",
      "Generating walks (CPU: 1):  30%|███       | 3/10 [00:02<00:05,  1.29it/s]]\n",
      "Generating walks (CPU: 1):  50%|█████     | 5/10 [00:04<00:05,  1.04s/it]"
     ]
    },
    {
     "name": "stdout",
     "output_type": "stream",
     "text": [
      "[3.88000000e+00 7.14704004e-02 8.73883200e+06 2.47060000e+05\n",
      " 4.43400000e+03 2.05800000e+03 1.99600000e+03 5.00000000e+01\n",
      " 6.50000000e+01 6.11300000e+03 5.01000000e+02 4.59000000e+02\n",
      " 1.70000000e+01 6.00000000e+00 9.00000000e+00 2.60000000e+01\n",
      " 3.00000000e+00 0.00000000e+00]\n",
      "Unk percentage: 0.001816860465116279\n",
      "Unk percentage: 0.003985828166519044\n",
      "Unk percentage: 0.002229654403567447\n",
      "Unk percentage: 0.0015735641227380016\n"
     ]
    },
    {
     "name": "stderr",
     "output_type": "stream",
     "text": [
      "Generating walks (CPU: 1): 100%|██████████| 10/10 [00:11<00:00,  1.20s/it]\n"
     ]
    },
    {
     "name": "stdout",
     "output_type": "stream",
     "text": [
      "[5.61000000e+00 8.22470479e-02 8.25488100e+06 2.33896000e+05\n",
      " 5.48500000e+03 2.62800000e+03 2.46700000e+03 6.00000000e+01\n",
      " 1.16000000e+02 8.34700000e+03 1.25500000e+03 1.27400000e+03\n",
      " 4.50000000e+01 1.50000000e+01 9.00000000e+00 2.52000000e+02\n",
      " 9.00000000e+00 1.00000000e+00]\n",
      "Unk percentage: 0.006915629322268326\n",
      "cluster began\n",
      "cluster end\n"
     ]
    },
    {
     "name": "stderr",
     "output_type": "stream",
     "text": [
      "Computing transition probabilities: 100%|██████████| 346/346 [00:00<00:00, 786.97it/s]\n",
      "Generating walks (CPU: 1):  60%|██████    | 6/10 [00:05<00:03,  1.00it/s]"
     ]
    },
    {
     "name": "stdout",
     "output_type": "stream",
     "text": [
      "cluster began\n",
      "cluster end\n"
     ]
    },
    {
     "name": "stderr",
     "output_type": "stream",
     "text": [
      "Computing transition probabilities: 100%|██████████| 216/216 [00:00<00:00, 1105.93it/s]\n",
      "Generating walks (CPU: 1):  70%|███████   | 7/10 [00:04<00:01,  1.57it/s]]\n",
      "Generating walks (CPU: 1): 100%|██████████| 10/10 [00:06<00:00,  1.48it/s]"
     ]
    },
    {
     "name": "stdout",
     "output_type": "stream",
     "text": [
      "[3.31000000e+00 5.49446694e-02 6.58458300e+06 1.88168000e+05\n",
      " 3.33300000e+03 1.44600000e+03 1.46500000e+03 3.60000000e+01\n",
      " 4.80000000e+01 4.68300000e+03 3.75000000e+02 3.53000000e+02\n",
      " 1.40000000e+01 5.00000000e+00 4.00000000e+00 2.50000000e+01\n",
      " 2.00000000e+00 0.00000000e+00]\n",
      "Unk percentage: 0.0026469031233456856\n",
      "Unk percentage: 0.004701457451810061\n",
      "Unk percentage: 0.005829903978052126\n",
      "Unk percentage: 0.003458144526591939\n"
     ]
    },
    {
     "name": "stderr",
     "output_type": "stream",
     "text": [
      "\n"
     ]
    },
    {
     "name": "stdout",
     "output_type": "stream",
     "text": [
      "Unk percentage: 0.0032175032175032173\n",
      "[3.13000000e+00 4.29748839e-02 1.56842400e+06 5.98290000e+04\n",
      " 1.40300000e+03 6.15000000e+02 5.50000000e+02 7.00000000e+00\n",
      " 1.10000000e+01 1.89500000e+03 2.79000000e+02 2.98000000e+02\n",
      " 4.00000000e+00 0.00000000e+00 0.00000000e+00 4.00000000e+01\n",
      " 0.00000000e+00 0.00000000e+00]\n",
      "Unk percentage: 0.0035657686212361333\n",
      "Unk percentage: 0.002751031636863824\n",
      "cluster began\n",
      "cluster end\n"
     ]
    },
    {
     "name": "stderr",
     "output_type": "stream",
     "text": [
      "Computing transition probabilities: 100%|██████████| 330/330 [00:00<00:00, 783.31it/s]\n",
      "Generating walks (CPU: 1):   0%|          | 0/10 [00:00<?, ?it/s]"
     ]
    },
    {
     "name": "stdout",
     "output_type": "stream",
     "text": [
      "cluster began\n",
      "cluster end\n"
     ]
    },
    {
     "name": "stderr",
     "output_type": "stream",
     "text": [
      "Computing transition probabilities: 100%|██████████| 376/376 [00:00<00:00, 691.26it/s]\n",
      "Generating walks (CPU: 1):  90%|█████████ | 9/10 [00:09<00:01,  1.16s/it]]\n",
      "Generating walks (CPU: 1): 100%|██████████| 10/10 [00:11<00:00,  1.24s/it]"
     ]
    },
    {
     "name": "stdout",
     "output_type": "stream",
     "text": [
      "[3.09000000e+00 1.40365079e-01 5.71014300e+06 1.46616000e+05\n",
      " 4.64200000e+03 2.26700000e+03 2.03400000e+03 2.80000000e+01\n",
      " 3.90000000e+01 9.24500000e+03 2.54800000e+03 2.67800000e+03\n",
      " 3.30000000e+01 5.00000000e+00 1.20000000e+01 9.02000000e+02\n",
      " 1.10000000e+01 1.00000000e+00]\n",
      "Unk percentage: 0.0018738288569643974\n"
     ]
    },
    {
     "name": "stderr",
     "output_type": "stream",
     "text": [
      "\n"
     ]
    },
    {
     "name": "stdout",
     "output_type": "stream",
     "text": [
      "[3.5700000e+00 4.1297113e-02 8.4651720e+06 2.3714600e+05 4.1420000e+03\n",
      " 1.9440000e+03 1.8380000e+03 3.4000000e+01 8.2000000e+01 7.1030000e+03\n",
      " 6.5100000e+02 6.4200000e+02 3.2000000e+01 1.3000000e+01 1.4000000e+01\n",
      " 5.6000000e+01 6.0000000e+00 0.0000000e+00]\n",
      "Unk percentage: 0.0074962518740629685\n",
      "cluster began\n",
      "cluster end\n"
     ]
    },
    {
     "name": "stderr",
     "output_type": "stream",
     "text": [
      "Computing transition probabilities: 100%|██████████| 330/330 [00:00<00:00, 739.74it/s]\n",
      "Generating walks (CPU: 1):  40%|████      | 4/10 [00:03<00:04,  1.23it/s]"
     ]
    },
    {
     "name": "stdout",
     "output_type": "stream",
     "text": [
      "cluster began\n",
      "cluster end\n"
     ]
    },
    {
     "name": "stderr",
     "output_type": "stream",
     "text": [
      "Computing transition probabilities: 100%|██████████| 249/249 [00:00<00:00, 796.20it/s]\n",
      "Generating walks (CPU: 1): 100%|██████████| 10/10 [00:06<00:00,  1.37it/s]\n",
      "\n"
     ]
    },
    {
     "name": "stdout",
     "output_type": "stream",
     "text": [
      "[4.47000000e+00 9.18546749e-02 5.68383300e+06 1.81404000e+05\n",
      " 3.97900000e+03 1.85300000e+03 1.70300000e+03 3.00000000e+01\n",
      " 6.90000000e+01 6.20700000e+03 9.15000000e+02 9.76000000e+02\n",
      " 4.20000000e+01 1.50000000e+01 1.10000000e+01 1.47000000e+02\n",
      " 1.80000000e+01 2.00000000e+00]\n",
      "Unk percentage: 0.005592841163310962\n",
      "[3.04000000e+00 2.24890436e-02 2.43079500e+06 7.77090000e+04\n",
      " 1.00100000e+03 3.44000000e+02 4.10000000e+02 7.00000000e+00\n",
      " 6.00000000e+00 1.05200000e+03 9.60000000e+01 6.80000000e+01\n",
      " 2.00000000e+00 0.00000000e+00 0.00000000e+00 6.00000000e+00\n",
      " 0.00000000e+00 0.00000000e+00]\n",
      "Unk percentage: 0.001470047776552738\n",
      "Unk percentage: 0.0025800903031606105\n",
      "Unk percentage: 0.0030004286326618087\n",
      "Unk percentage: 0.0022587268993839835\n",
      "Unk percentage: 0.0012091898428053204\n",
      "Unk percentage: 0.0024410089503661514\n",
      "cluster began\n",
      "cluster end\n"
     ]
    },
    {
     "name": "stderr",
     "output_type": "stream",
     "text": [
      "Computing transition probabilities: 100%|██████████| 237/237 [00:00<00:00, 1190.51it/s]\n",
      "Generating walks (CPU: 1):  30%|███       | 3/10 [00:01<00:03,  2.16it/s]"
     ]
    },
    {
     "name": "stdout",
     "output_type": "stream",
     "text": [
      "cluster began\n",
      "cluster end\n"
     ]
    },
    {
     "name": "stderr",
     "output_type": "stream",
     "text": [
      "Computing transition probabilities: 100%|██████████| 336/336 [00:00<00:00, 762.06it/s]\n",
      "Generating walks (CPU: 1):  50%|█████     | 5/10 [00:04<00:04,  1.12it/s]]\n",
      "Generating walks (CPU: 1):  60%|██████    | 6/10 [00:05<00:03,  1.04it/s]"
     ]
    },
    {
     "name": "stdout",
     "output_type": "stream",
     "text": [
      "[3.81000000e+00 8.78547875e-02 2.07530600e+06 8.09500000e+04\n",
      " 1.83800000e+03 7.91000000e+02 8.04000000e+02 1.10000000e+01\n",
      " 1.70000000e+01 2.41100000e+03 3.94000000e+02 3.47000000e+02\n",
      " 1.20000000e+01 2.00000000e+00 6.00000000e+00 4.40000000e+01\n",
      " 5.00000000e+00 2.00000000e+00]\n",
      "Unk percentage: 0.0010819583446037328\n",
      "Unk percentage: 0.0012155591572123178\n",
      "Unk percentage: 0.008737864077669903\n"
     ]
    },
    {
     "name": "stderr",
     "output_type": "stream",
     "text": [
      "Generating walks (CPU: 1): 100%|██████████| 10/10 [00:09<00:00,  1.08s/it]\n"
     ]
    },
    {
     "name": "stdout",
     "output_type": "stream",
     "text": [
      "[3.44000000e+00 8.87794785e-02 6.03625800e+06 1.61780000e+05\n",
      " 3.43800000e+03 1.50200000e+03 1.57000000e+03 2.80000000e+01\n",
      " 4.20000000e+01 4.12000000e+03 5.59000000e+02 5.15000000e+02\n",
      " 1.80000000e+01 4.00000000e+00 1.10000000e+01 4.20000000e+01\n",
      " 7.00000000e+00 1.00000000e+00]\n",
      "Unk percentage: 0.0011797669960182864\n",
      "Unk percentage: 0.002061855670103093\n",
      "cluster began\n",
      "cluster end\n"
     ]
    },
    {
     "name": "stderr",
     "output_type": "stream",
     "text": [
      "Computing transition probabilities: 100%|██████████| 247/247 [00:00<00:00, 1081.16it/s]\n",
      "Generating walks (CPU: 1): 100%|██████████| 10/10 [00:06<00:00,  1.35it/s]\n"
     ]
    },
    {
     "name": "stdout",
     "output_type": "stream",
     "text": [
      "cluster began\n",
      "cluster end\n"
     ]
    },
    {
     "name": "stderr",
     "output_type": "stream",
     "text": [
      "Computing transition probabilities: 100%|██████████| 289/289 [00:00<00:00, 674.30it/s]\n",
      "Generating walks (CPU: 1):   0%|          | 0/10 [00:00<?, ?it/s]"
     ]
    },
    {
     "name": "stdout",
     "output_type": "stream",
     "text": [
      "[4.11000000e+00 7.74562348e-02 2.35783300e+06 8.38460000e+04\n",
      " 2.37200000e+03 1.12100000e+03 1.03000000e+03 2.70000000e+01\n",
      " 2.40000000e+01 3.20400000e+03 6.59000000e+02 6.99000000e+02\n",
      " 8.00000000e+00 3.00000000e+00 1.00000000e+00 1.52000000e+02\n",
      " 1.00000000e+00 0.00000000e+00]\n",
      "Unk percentage: 0.0025096525096525097\n",
      "Unk percentage: 0.005797101449275362\n"
     ]
    },
    {
     "name": "stderr",
     "output_type": "stream",
     "text": [
      "Generating walks (CPU: 1): 100%|██████████| 10/10 [00:08<00:00,  1.13it/s]\n"
     ]
    },
    {
     "name": "stdout",
     "output_type": "stream",
     "text": [
      "[3.69000000e+00 4.96591362e-02 3.81501500e+06 1.16127000e+05\n",
      " 2.37600000e+03 9.11000000e+02 1.17500000e+03 1.90000000e+01\n",
      " 3.90000000e+01 3.66700000e+03 3.12000000e+02 2.59000000e+02\n",
      " 1.30000000e+01 2.00000000e+00 5.00000000e+00 1.20000000e+01\n",
      " 4.00000000e+00 0.00000000e+00]\n",
      "Unk percentage: 0.00216021602160216\n",
      "Unk percentage: 0.0003786444528587656\n",
      "Unk percentage: 0.003194888178913738\n",
      "Unk percentage: 0.0012903225806451613\n",
      "Unk percentage: 0.0028420625253755584\n",
      "Unk percentage: 0.0016494845360824743\n",
      "Unk percentage: 0.0079155672823219\n",
      "cluster began\n",
      "cluster end\n"
     ]
    },
    {
     "name": "stderr",
     "output_type": "stream",
     "text": [
      "Computing transition probabilities: 100%|██████████| 106/106 [00:00<00:00, 2264.82it/s]\n",
      "Generating walks (CPU: 1): 100%|██████████| 10/10 [00:02<00:00,  3.32it/s]\n"
     ]
    },
    {
     "name": "stdout",
     "output_type": "stream",
     "text": [
      "[3.01000000e+00 7.90242272e-02 1.72083000e+05 1.45330000e+04\n",
      " 3.76000000e+02 1.24000000e+02 1.22000000e+02 6.00000000e+00\n",
      " 1.00000000e+01 1.71000000e+02 1.70000000e+01 1.60000000e+01\n",
      " 2.00000000e+00 0.00000000e+00 0.00000000e+00 0.00000000e+00\n",
      " 0.00000000e+00 0.00000000e+00]\n",
      "Unk percentage: 0.0024261452832881406\n",
      "Unk percentage: 0.006896551724137931\n",
      "cluster began\n",
      "cluster end\n"
     ]
    },
    {
     "name": "stderr",
     "output_type": "stream",
     "text": [
      "Computing transition probabilities: 100%|██████████| 117/117 [00:00<00:00, 2195.35it/s]\n",
      "Generating walks (CPU: 1): 100%|██████████| 10/10 [00:03<00:00,  3.07it/s]\n"
     ]
    },
    {
     "name": "stdout",
     "output_type": "stream",
     "text": [
      "[2.81000000e+00 8.97906462e-02 2.34790000e+05 1.68560000e+04\n",
      " 6.23000000e+02 2.83000000e+02 2.22000000e+02 7.00000000e+00\n",
      " 6.00000000e+00 4.44000000e+02 9.40000000e+01 1.13000000e+02\n",
      " 7.00000000e+00 3.00000000e+00 1.00000000e+00 1.10000000e+01\n",
      " 0.00000000e+00 0.00000000e+00]\n",
      "Unk percentage: 0.003027092477675193\n",
      "Unk percentage: 0.0009144947416552355\n",
      "Unk percentage: 0.03516295025728988\n",
      "cluster began\n",
      "cluster end\n"
     ]
    },
    {
     "name": "stderr",
     "output_type": "stream",
     "text": [
      "Computing transition probabilities: 100%|██████████| 109/109 [00:00<00:00, 2355.03it/s]\n",
      "Generating walks (CPU: 1): 100%|██████████| 10/10 [00:02<00:00,  3.12it/s]\n"
     ]
    },
    {
     "name": "stdout",
     "output_type": "stream",
     "text": [
      "[2.95000000e+00 5.53935249e-02 1.89880000e+05 1.24470000e+04\n",
      " 4.00000000e+02 1.66000000e+02 1.34000000e+02 7.00000000e+00\n",
      " 1.00000000e+00 7.45000000e+02 1.55000000e+02 1.74000000e+02\n",
      " 2.00000000e+00 0.00000000e+00 0.00000000e+00 4.50000000e+01\n",
      " 0.00000000e+00 0.00000000e+00]\n",
      "Unk percentage: 0.0036849378166743437\n",
      "cluster began\n",
      "cluster end\n"
     ]
    },
    {
     "name": "stderr",
     "output_type": "stream",
     "text": [
      "Computing transition probabilities: 100%|██████████| 238/238 [00:00<00:00, 832.80it/s]\n",
      "Generating walks (CPU: 1): 100%|██████████| 10/10 [00:06<00:00,  1.46it/s]\n"
     ]
    },
    {
     "name": "stdout",
     "output_type": "stream",
     "text": [
      "[2.93000000e+00 6.82474747e-02 2.10001700e+06 8.26860000e+04\n",
      " 1.85600000e+03 9.16000000e+02 8.03000000e+02 2.20000000e+01\n",
      " 4.20000000e+01 3.07400000e+03 4.89000000e+02 5.98000000e+02\n",
      " 1.30000000e+01 6.00000000e+00 1.20000000e+01 1.32000000e+02\n",
      " 3.00000000e+00 1.00000000e+00]\n",
      "Unk percentage: 0.005339435545385202\n",
      "Unk percentage: 0.0026608232900297386\n",
      "Unk percentage: 0.003134796238244514\n",
      "cluster began\n",
      "cluster end\n"
     ]
    },
    {
     "name": "stderr",
     "output_type": "stream",
     "text": [
      "Computing transition probabilities: 100%|██████████| 380/380 [00:00<00:00, 662.73it/s]\n",
      "Generating walks (CPU: 1): 100%|██████████| 10/10 [00:11<00:00,  1.22s/it]\n"
     ]
    },
    {
     "name": "stdout",
     "output_type": "stream",
     "text": [
      "[3.51000000e+00 1.06606261e-01 8.75485900e+06 2.19204000e+05\n",
      " 5.49700000e+03 2.89800000e+03 2.36600000e+03 4.10000000e+01\n",
      " 7.80000000e+01 1.13920000e+04 2.11700000e+03 2.45500000e+03\n",
      " 4.20000000e+01 1.20000000e+01 1.20000000e+01 6.39000000e+02\n",
      " 1.70000000e+01 0.00000000e+00]\n",
      "Unk percentage: 0.0016863406408094434\n",
      "Unk percentage: 0.0013351134846461949\n",
      "cluster began\n",
      "cluster end\n"
     ]
    },
    {
     "name": "stderr",
     "output_type": "stream",
     "text": [
      "Computing transition probabilities: 100%|██████████| 205/205 [00:00<00:00, 1279.56it/s]\n",
      "Generating walks (CPU: 1): 100%|██████████| 10/10 [00:05<00:00,  1.67it/s]\n"
     ]
    },
    {
     "name": "stdout",
     "output_type": "stream",
     "text": [
      "[2.84000000e+00 3.78123728e-02 1.33503400e+06 5.61100000e+04\n",
      " 1.13200000e+03 4.23000000e+02 4.75000000e+02 8.00000000e+00\n",
      " 1.50000000e+01 8.51000000e+02 6.90000000e+01 7.80000000e+01\n",
      " 4.00000000e+00 2.00000000e+00 0.00000000e+00 3.00000000e+00\n",
      " 0.00000000e+00 0.00000000e+00]\n",
      "Unk percentage: 0.00490414623272403\n",
      "Unk percentage: 0.008056826849733028\n",
      "Unk percentage: 0.00614356055472738\n",
      "Unk percentage: 0.01\n",
      "cluster began\n",
      "cluster end\n"
     ]
    },
    {
     "name": "stderr",
     "output_type": "stream",
     "text": [
      "Computing transition probabilities: 100%|██████████| 327/327 [00:00<00:00, 751.87it/s]\n",
      "Generating walks (CPU: 1): 100%|██████████| 10/10 [00:09<00:00,  1.01s/it]\n"
     ]
    },
    {
     "name": "stdout",
     "output_type": "stream",
     "text": [
      "[4.85000000e+00 1.28420814e-01 5.53546500e+06 1.65182000e+05\n",
      " 4.91800000e+03 2.32100000e+03 2.19900000e+03 4.10000000e+01\n",
      " 6.60000000e+01 8.07400000e+03 1.36900000e+03 1.36600000e+03\n",
      " 4.50000000e+01 7.00000000e+00 1.70000000e+01 2.08000000e+02\n",
      " 2.00000000e+01 2.00000000e+00]\n",
      "Unk percentage: 0.0011280315848843769\n",
      "cluster began\n",
      "cluster end\n"
     ]
    },
    {
     "name": "stderr",
     "output_type": "stream",
     "text": [
      "Computing transition probabilities: 100%|██████████| 138/138 [00:00<00:00, 1802.72it/s]\n",
      "Generating walks (CPU: 1): 100%|██████████| 10/10 [00:03<00:00,  2.49it/s]\n"
     ]
    },
    {
     "name": "stdout",
     "output_type": "stream",
     "text": [
      "[3.52000000e+00 3.81679311e-02 3.92394000e+05 2.48080000e+04\n",
      " 6.82000000e+02 2.58000000e+02 2.60000000e+02 5.00000000e+00\n",
      " 9.00000000e+00 6.43000000e+02 7.90000000e+01 7.60000000e+01\n",
      " 0.00000000e+00 0.00000000e+00 0.00000000e+00 6.00000000e+00\n",
      " 0.00000000e+00 0.00000000e+00]\n",
      "Unk percentage: 0.007874015748031496\n",
      "cluster began\n",
      "cluster end\n"
     ]
    },
    {
     "name": "stderr",
     "output_type": "stream",
     "text": [
      "Computing transition probabilities: 100%|██████████| 295/295 [00:00<00:00, 852.42it/s]\n",
      "Generating walks (CPU: 1):  70%|███████   | 7/10 [00:05<00:02,  1.12it/s]"
     ]
    },
    {
     "name": "stdout",
     "output_type": "stream",
     "text": [
      "cluster began\n",
      "cluster end\n"
     ]
    },
    {
     "name": "stderr",
     "output_type": "stream",
     "text": [
      "Computing transition probabilities: 100%|██████████| 105/105 [00:00<00:00, 2555.41it/s]\n",
      "Generating walks (CPU: 1): 100%|██████████| 10/10 [00:02<00:00,  3.55it/s]\n",
      "\n"
     ]
    },
    {
     "name": "stdout",
     "output_type": "stream",
     "text": [
      "[2.58000000e+00 3.37579621e-02 1.69326000e+05 1.22000000e+04\n",
      " 3.45000000e+02 1.23000000e+02 1.04000000e+02 2.00000000e+00\n",
      " 4.00000000e+00 0.00000000e+00 0.00000000e+00 0.00000000e+00\n",
      " 0.00000000e+00 0.00000000e+00 0.00000000e+00 0.00000000e+00\n",
      " 0.00000000e+00 0.00000000e+00]\n",
      "[4.15000000e+00 1.23404906e-01 4.01920500e+06 1.57288000e+05\n",
      " 4.07600000e+03 2.05800000e+03 1.72200000e+03 3.40000000e+01\n",
      " 8.80000000e+01 5.92700000e+03 7.81000000e+02 8.76000000e+02\n",
      " 4.90000000e+01 1.10000000e+01 2.10000000e+01 9.00000000e+01\n",
      " 1.50000000e+01 3.00000000e+00]\n",
      "Unk percentage: 0.003827751196172249\n",
      "cluster began\n",
      "cluster end\n"
     ]
    },
    {
     "name": "stderr",
     "output_type": "stream",
     "text": [
      "Computing transition probabilities: 100%|██████████| 249/249 [00:00<00:00, 1003.16it/s]\n",
      "Generating walks (CPU: 1): 100%|██████████| 10/10 [00:06<00:00,  1.45it/s]\n"
     ]
    },
    {
     "name": "stdout",
     "output_type": "stream",
     "text": [
      "[3.30000000e+00 3.32243501e-02 2.40397600e+06 1.00924000e+05\n",
      " 2.07300000e+03 8.83000000e+02 8.82000000e+02 2.30000000e+01\n",
      " 4.20000000e+01 2.27100000e+03 1.96000000e+02 1.95000000e+02\n",
      " 1.00000000e+01 3.00000000e+00 5.00000000e+00 1.10000000e+01\n",
      " 2.00000000e+00 0.00000000e+00]\n",
      "Unk percentage: 0.00205761316872428\n",
      "Unk percentage: 0.0024813895781637717\n",
      "cluster began\n",
      "cluster end\n"
     ]
    },
    {
     "name": "stderr",
     "output_type": "stream",
     "text": [
      "Computing transition probabilities: 100%|██████████| 279/279 [00:00<00:00, 1048.38it/s]\n",
      "Generating walks (CPU: 1): 100%|██████████| 10/10 [00:07<00:00,  1.27it/s]\n"
     ]
    },
    {
     "name": "stdout",
     "output_type": "stream",
     "text": [
      "[4.72000000e+00 5.18615694e-02 3.41192300e+06 1.19500000e+05\n",
      " 2.64500000e+03 1.03600000e+03 1.39900000e+03 3.80000000e+01\n",
      " 4.50000000e+01 4.41900000e+03 6.65000000e+02 4.76000000e+02\n",
      " 1.40000000e+01 2.00000000e+00 8.00000000e+00 1.04000000e+02\n",
      " 2.00000000e+00 0.00000000e+00]\n",
      "Unk percentage: 0.0028585040495474035\n",
      "cluster began\n",
      "cluster end\n"
     ]
    },
    {
     "name": "stderr",
     "output_type": "stream",
     "text": [
      "Computing transition probabilities: 100%|██████████| 386/386 [00:00<00:00, 751.05it/s]\n",
      "Generating walks (CPU: 1): 100%|██████████| 10/10 [00:10<00:00,  1.14s/it]\n"
     ]
    },
    {
     "name": "stdout",
     "output_type": "stream",
     "text": [
      "[6.16000000e+00 6.99966025e-02 9.16461900e+06 2.45974000e+05\n",
      " 4.46800000e+03 2.32100000e+03 1.78500000e+03 3.40000000e+01\n",
      " 7.40000000e+01 1.39260000e+04 1.53900000e+03 1.76300000e+03\n",
      " 5.30000000e+01 8.00000000e+00 2.20000000e+01 4.92000000e+02\n",
      " 3.70000000e+01 5.00000000e+00]\n",
      "Unk percentage: 0.0011490950876185005\n",
      "Unk percentage: 0.0035087719298245615\n",
      "cluster began\n",
      "cluster end\n"
     ]
    },
    {
     "name": "stderr",
     "output_type": "stream",
     "text": [
      "Computing transition probabilities: 100%|██████████| 340/340 [00:00<00:00, 877.96it/s]\n",
      "Generating walks (CPU: 1): 100%|██████████| 10/10 [00:09<00:00,  1.07s/it]\n"
     ]
    },
    {
     "name": "stdout",
     "output_type": "stream",
     "text": [
      "[2.89000000e+00 7.38327228e-02 6.24069900e+06 1.81534000e+05\n",
      " 3.66500000e+03 1.57600000e+03 1.77100000e+03 3.80000000e+01\n",
      " 6.50000000e+01 5.05100000e+03 6.27000000e+02 5.60000000e+02\n",
      " 2.80000000e+01 6.00000000e+00 8.00000000e+00 5.30000000e+01\n",
      " 7.00000000e+00 1.00000000e+00]\n",
      "Unk percentage: 0.0022026431718061676\n",
      "Unk percentage: 0.003194888178913738\n",
      "cluster began\n",
      "cluster end\n"
     ]
    },
    {
     "name": "stderr",
     "output_type": "stream",
     "text": [
      "Computing transition probabilities: 100%|██████████| 273/273 [00:00<00:00, 1073.51it/s]\n",
      "Generating walks (CPU: 1): 100%|██████████| 10/10 [00:07<00:00,  1.19it/s]\n"
     ]
    },
    {
     "name": "stdout",
     "output_type": "stream",
     "text": [
      "[2.74000000e+00 5.23389627e-02 3.20487500e+06 1.05996000e+05\n",
      " 2.13200000e+03 8.90000000e+02 9.44000000e+02 3.10000000e+01\n",
      " 2.10000000e+01 1.76900000e+03 1.86000000e+02 1.67000000e+02\n",
      " 9.00000000e+00 6.00000000e+00 6.00000000e+00 6.00000000e+00\n",
      " 1.00000000e+00 1.00000000e+00]\n",
      "Unk percentage: 0.002370791844476055\n",
      "Unk percentage: 0.003117085525034093\n",
      "Unk percentage: 0.003024955886059995\n",
      "Unk percentage: 0.0035410764872521247\n"
     ]
    }
   ],
   "source": [
    "def vectorize(path):\n",
    "    bag = GraphGenerator(path, emb, word2id_dict, id2word_dict)\n",
    "    G = bag.generate_graph()\n",
    "    if nx.number_of_nodes(G) <= 400:\n",
    "        return gen_style_vec(G)\n",
    "    else:\n",
    "        return None\n",
    "\n",
    "def main():    \n",
    "    presidents = os.listdir('./data/presidential/')\n",
    "    p = Pool(N_CORES)\n",
    "    pres_speeches = []\n",
    "    for president in presidents:\n",
    "        text_files = os.listdir('./data/presidential/' + president)\n",
    "        for speech in text_files:\n",
    "            path = './data/presidential/' + president + '/' + speech\n",
    "            pres_speeches += [(president, path)]\n",
    "    speeches = [x[1] for x in pres_speeches]\n",
    "    return p.map(vectorize, speeches), pres_speeches\n",
    "\n",
    "finished, pres_speeches = main()"
   ]
  },
  {
   "cell_type": "code",
   "execution_count": null,
   "metadata": {},
   "outputs": [],
   "source": [
    "vectors = [(pres, file, finished[i]) for i, (pres, file) in enumerate(pres_speeches) if finished[i] is not None]"
   ]
  },
  {
   "cell_type": "code",
   "execution_count": null,
   "metadata": {},
   "outputs": [],
   "source": [
    "pres = [x[0] for x in vectors]\n",
    "X = np.concatenate([x[2][:,np.newaxis] for x in vectors], axis=1)"
   ]
  },
  {
   "cell_type": "code",
   "execution_count": null,
   "metadata": {},
   "outputs": [],
   "source": [
    "from sklearn import manifold\n",
    "from sklearn.decomposition import PCA\n",
    "\n",
    "pca = PCA(50)\n",
    "X_r = pca.fit(X[1:,:].T).transform(X[1:,:].T)\n",
    "tsne = manifold.TSNE()\n",
    "X_embedded = tsne.fit_transform(X_r)\n",
    "print(X_embedded.shape)"
   ]
  },
  {
   "cell_type": "code",
   "execution_count": null,
   "metadata": {},
   "outputs": [],
   "source": [
    "import plotly\n",
    "import plotly.plotly as py\n",
    "import plotly.graph_objs as go\n",
    "from plotly import tools\n",
    "\n",
    "plotly.tools.set_credentials_file(username='amanjuna', api_key='v5RvlMiKGJwt6X5yxmUQ')\n",
    "\n",
    "plots = []\n",
    "for president in set(pres):\n",
    "    occur = [i for i, x in enumerate(pres) if x == president]\n",
    "    plots.append(go.Scatter(x = X_embedded[occur,0], y = X_embedded[occur,1], mode='markers', name=president))\n",
    "fig = go.Figure(data=plots)\n",
    "py.iplot(fig, filename=\"whatever\")"
   ]
  },
  {
   "cell_type": "code",
   "execution_count": null,
   "metadata": {},
   "outputs": [],
   "source": []
  }
 ],
 "metadata": {
  "kernelspec": {
   "display_name": "Python 3",
   "language": "python",
   "name": "python3"
  },
  "language_info": {
   "codemirror_mode": {
    "name": "ipython",
    "version": 3
   },
   "file_extension": ".py",
   "mimetype": "text/x-python",
   "name": "python",
   "nbconvert_exporter": "python",
   "pygments_lexer": "ipython3",
   "version": "3.6.6"
  }
 },
 "nbformat": 4,
 "nbformat_minor": 2
}
