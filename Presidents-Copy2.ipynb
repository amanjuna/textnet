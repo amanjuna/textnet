{
 "cells": [
  {
   "cell_type": "code",
   "execution_count": 1,
   "metadata": {},
   "outputs": [
    {
     "name": "stdout",
     "output_type": "stream",
     "text": [
      "Embeddings loaded\n"
     ]
    }
   ],
   "source": [
    "import matplotlib.pyplot as mpl\n",
    "from analyze import *\n",
    "from utils import *\n",
    "from TextPOSDirected import TextPOSDirected as GraphGenerator\n",
    "from multiprocessing import Pool\n",
    "import json, pickle, treeUtil\n",
    "N_CORES = 4\n",
    "emb, word2id_dict, id2word_dict  = load_embeddings()"
   ]
  },
  {
   "cell_type": "code",
   "execution_count": 2,
   "metadata": {},
   "outputs": [],
   "source": [
    "[lib, con, neutral] = pickle.load(open('./data/ibc/sampleData.pkl', 'rb'))"
   ]
  },
  {
   "cell_type": "code",
   "execution_count": 3,
   "metadata": {},
   "outputs": [],
   "source": [
    "sentences = [('lib', tree.get_words()) for tree in lib] + [('neutral', tree.get_words()) for tree in neutral] + [('con', tree.get_words()) for tree in con]"
   ]
  },
  {
   "cell_type": "code",
   "execution_count": 5,
   "metadata": {},
   "outputs": [
    {
     "name": "stdout",
     "output_type": "stream",
     "text": [
      "Unk percentage: 0.0\n",
      "Unk percentage: 0.0\n",
      "Unk percentage: 0.0\n",
      "Unk percentage: 0.02\n",
      "['First , government plays an important role through such policies as family and housing allowances , universal health care , pensions , and tax credits .', \"And `` once we think positively about the State as a source of legitimate , useful activity , '' why , we can get about the serious business of the state paying `` those people performing useful labor in families , mothers caring for children , adults caring for aged parents .\", \"The narrow-minded rationality of the capitalist market , with its short-term calculus of profit and loss , is intrinsically contradictory to the rationality of the living environment , which operates in terms of long , natural cycles . ''\", 'The resulting global warming kills Amazonian trees through a combination of increased temperature and decreased rainfall .', 'If evolution is improvement and improvement is good , and if the good of the many outweighs the good of the few , it makes sense to facilitate evolution .', 'The dead are victims of free trade and neoliberal economic policies that have destroyed rural communities , causing a virtual forced march to the U.S. and maquiladora sweatshops in a hunt for jobs .', 'Eliminating unneeded weapons systems like the F\\\\/A -22 Raptor plane , the Virginia Class submarine , the DD ( X ) destroyer , and the V-22 Osprey helicopter could generate more than enough funds to finance needed increases in special forces and peacekeeping missions .', \"Still , as backlash reactions like the attack on the International Women 's Day protest have set in , activists on women 's issues and progressives are wondering how to ensure that women 's gains not be rolled back .\", 'Our intent with The Rich and the Rest of Us is to make us think about the pervasiveness of poverty , its real causation , and the threat it poses to our democracy .', 'The more important point is perhaps that the original Tea Party movement , started by Ron Paul supporters prior to the 2008 election , was not created to bring electoral victory to Republican clones of the big-spending Democrats .', \"A recent Democracy Corps poll found that helping the neediest and expanding opportunities are still among the party 's strongest positive attributes , behind only equal rights and environmental protection .\", 'She realizes she hates being told what to do by her parents and teachers , especially when she thinks the rules are stupid or being used solely for authoritarian control .', 'By contrast , as Noam Chomsky notes , the pre-capitalist , chief architect of the American Federal Constitution , James Madison , recognized the same age-old conflict between rich and poor , but proposed the exact opposite solution , arguing , in effect to let the systemic inequalities in American society remain , and reduce the scope of popular participation in government .', 'The Taft-Hartley Act of 1947 had rolled back union protections ; the subsequent decline , in numbers and power , of labor unions would change the course of liberalism , as its strongest force for economic populism lost political influence both within the movement and in the wider world .', 'As usual , then , government intervention into the market caused unintended , undesired consequences , but politicians blame the HMOs instead of the interventions that helped create them .', \"He writes sarcastically that he must have been absent from Sunday school the day the lesson included Jesus ' teachings about securing `` greater economic advantages for the affluent , '' depriving the poor `` of a living wage , '' and despoiling the environment by `` sacrificing it on the altar of free enterprise .\", 'Just as a parasite that kills its host is a biological failure , so ruling classes that destroy their own productive base are clearly political failures .', 'Chinese ecological Marxists should not , therefore , treat ecological Marxism as a foreign dogma to be worshipped but a living method with which to analyze and solve the serious problems facing China such as the environmental problem , the Foxconn suicide tragedy ,28 and the gap between the rich and poor .', \"Unfortunately , the Journal ignored the second element of Illinois ' pension fund liability gap : how much of that gap was due to losses on bad investments .\", \"`` The disparity of fortune between the rich and the poor , '' Plutarch remarked , `` had reached its height , so that the city seemed to be in a truly dangerous condition , and no other means for freeing it from disturbances ... seemed possible but a despotic power .\", 'There are societies that have managed things far better , even in a world where market forces and the dominant policy paradigm lead to substantial inequality because of differences in ability , effort , and luck .', 'Robbed of those who would have otherwise signaled the impending assailment on the freedom of the press , Americans will more easily be led down the soft-sloping , gradual decline leading toward absolute subjection to an all-powerful feudal federal authority .', \"It 's now a bipartisan policy to create courts out of thin air to convict terrorist suspects , which leads to the obvious and justifiable charge that these would be kangaroo courts .\", 'We can no longer look at the energy economy as a constellation of discrete sectors that can be manipulated separately ; everything is tied together , which means that fixing a problem in one part of the system all but invariably creates a new problem , or a whole series of problems , somewhere else .', 'When a consumer buys , for example , gardening tools and materials , a positive externality is experienced by others in the community as the consumer uses the tools to make an attractive garden , which everyone in the community can enjoy and benefit from .', 'They can , in fact , defend the lower standard of living their policies are creating by declaring that lower wages and benefits are actually making America more competitive in a global marketplace .', \"They even managed to gain overwhelming popular support for repeal of the estate tax-perhaps the nation 's most progressive tax , affecting less than 2 percent of the wealthiest few-by renaming it the `` death tax '' and peddling a big lie about protecting family farms and small businesses .\", \"To Frank , however , Washington is the yin to Kansas ' yang , and if heartland voters ignore their interests in favor of voting on `` values , '' conservatives inside the Beltway have no commitment to values except greed .\", 'Hezbollah chief Hassan Nasrallah , as a result , recently announced his intention to stop confronting Siniora and agreed to rely on elections to change the political equation in Lebanon .', 'Yet , as Josh Fox traveled the country , becoming increasingly engrossed in the vastness of the domestic drilling industry and the problems it creates , he documented how people living near gas wells are suffering water contamination , air pollution , and numerous health problems that crop up after fracking .', 'If large corporations had access to credit markets but smaller businesses were unable to pursue investment opportunities because they could not get bank credit , then we would expect to see large corporations expanding aggressively in order to gain market share at the expense of their credit-constrained smaller competitors .', 'Their incessant battle against new taxes , coupled with demands for tax cuts , have resulted in massive budget deficits that threaten the economy and the viability of government , both of which we are all utterly dependent on .', 'Since World War II , this country has turned higher education into not only a mass-market product but the best hope of achieving a middle-class income .', 'We can , therefore , understand the reasons why the 2008 financial collapse was the result of a sharpening of the internal contradictions peculiar to the accumulation of capital .', 'Because the economy must remain in continual motion , Jevons disregarded sustainable sources of energy , such as water and wind , as unreliable , limited to a particular time and location .26 Coal offered capital a universal energy source to operate production , without disruption of business patterns .', 'We need so many new solutions and our problems and challenges are so diverse and so difficult that every citizen should feel empowered to challenge the old order and to help develop new solutions .', 'And the opposite is also true : If the market does not value the natural products of the forest sufficiently , the poor migrants who settle there will cut down the forest and use the land for farming or raising cattle .', 'Over the conservative airwaves , every disagreement is a fight to the death , and everyone with a different opinion must have sinister motives .', 'Partly because of that pressure , the World Bank now argues that economic growth alone is not sufficient to overcome poverty as long as existing political and economic systems favor the rich over the poor .', \"The influential 1966 report , Equality of Educational Opportunity , led many researchers to the dispiriting conclusion that what happens inside the schoolhouse does n't affect achievement ; the decisive influences are the wealth of a student 's family and the wealth of his or her classmates ' families .\", '( The Stanley case was argued by attorney Patrick T. Murphy , who not only persuaded the U.S. Supreme Court to ditch the legal benefits of marriage in Stanley , but years later would help persuade a state agency to return a three-year-old to his abusive mother , who later hanged the boy .', \"Dutch consumers do n't have to worry about paying a lot of money for their health care , even if they are sick , in part because the insurance has very little cost-sharing-and in part because the government continues to play a strong role in setting prices , although it 's been gradually relaxing them .\", 'As a starting point , the Earned Income Tax Credit could be made a better source of income insurance , keeping families afloat when economic disasters strike , rather than a retroactive tax refund for the working poor .', 'But from New York to Philadelphia , from Seattle to Los Angeles , Occupiers were joined ( or infiltrated , in the eyes of some ) by activists talking up the benefits of a truly freed market , without government giveaways to favored interests or central bank manipulations of the economy .', 'While occasionally recognizing ( and dismissing ) that loss of freedom , critics of a voluntary-based charity system argue that without the creation of government-wide programs readily available to all , the basic needs of the poor will not be satisfactorily met .', 'This has led to global climate destabilization , the poisoning of the entire web of life with toxic chemicals , and a foreign policy that requires sustained hostilities in the Middle East and support for undemocratic regimes wherever there are remaining gas and oil reserves .', \"As a rule , Lipset observed , leftist parties won over less affluent voters by emphasizing `` the need for security of income , '' `` the need for satisfying work , '' and `` the need for status , for social recognition of one 's value and freedom from degrading discrimination in social relations .\", \"Do n't forget , too , that it 's arguably the central role of these private insurers in the new drug benefit that has made it such a mess to implement these past few weeks .\", 'We thank the Ford Foundation for supporting our work on good jobs and economic development , and The Atlantic Philanthropies for supporting our work on immigration .', 'Consumption by individuals , based on the amount of their wealth ( purchasing power ) , increases the political power of the businesses that benefit most from a system based on private profit , and therefore always relegates collective needs to second place .', 'This problem is exacerbated because using your Social Security account number or birth date as a password is a great convenience for them .', 'Some may protest that he is only playing himself , without appreciating how difficult that unique acting challenge can be .', '( ... ) according to the Rape , Abuse and Incest National Network , one in six American women is a survivor of rape or attempted rape .', 'Medical debt is a problem in its infancy , and the entry of well-established banks along with new upstarts offering credit cards and credit lines creates the potential for exploitation and abuse .', \"But there are moments of strange , otherworldly naivete , as when Kafka , in a paper on setting insurance premiums and the need to convince employers of the Institute 's prudence , opines that `` a handsome sum is certainly appropriate as compensation for accidents that have serious consequences , and no employer will even consider advocating parsimony in such cases .\", \"India 's elite intelligentsia , inculcated into `` rational '' conduct and no longer outraged by suffering , assessed the costs and benefits of militaristic violence .\", 'We resent Auto-Tune not so much because it is non-human -- we put our faith ( and , increasingly , our affection ) in electronic devices every day -- but more because the power it ap-plies , in providing a way to sing in perfect intonation , seems superhuman and , in practice , indiscriminate .', 'Nowhere does the ideological balance of the Court inspire more hope and woe than among the combatants in the abortion debate , the veritable Super Bowl of the culture wars .', 'Bear gall , too , is renowned for its healing properties : According to a pharmacy pamphlet , bear gall will `` protect the liver and brighten the eye , clear up and remove evil heat , diminish inflammation and relieve pain , benefit the gall and remove stone .', 'Part of the solution is changing the mind-set of the residents , replacing the alternating feelings of inadequacy , hopelessness , passivity , and defensiveness with more productive emotions and cogitations .', \"TNA 's well-placed source believes the CCP had hired an out-of-town contract killer to murder Allen Leung .\", 'Sure enough , as our Washington bureau chief David Corn reports , pollsters have been surprised to find that while Americans are angry about the economy , they often blame not the bankers , but politicians -- and even themselves .', 'If the first resort is to drugs , the doctor could readily miss , and fail to treat , the actual root cause of the problem .', \"( Of course , one might conclude that such an argument is really a claim that coincidence , or `` dumb luck , '' is responsible for America 's founding .\", 'The court ruled that private persons may not sue over the government practice of rendition and torture of terrorist suspects because the defense would require the government to compromise `` state secrets .', 'While the legal terrain going forward is uncertain , the practical effect of Citizens Unitedfollowed by an important appellate decision , SpeechNow.org v. FEC - has been momentous : the birth of the super PAC , a political action committee that can take unlimited , but disclosed , money from corporations , unions , and individuals to be spent independently on candidates .', 'The whole implausible performance was intended for federal officials , who had threatened to prosecute whites for killing Indians over the control of land .', \"Despite being amongst such difficult competition as The Cross , Disney 's A Christmas Carol , Knowing , Not Easily Broken , The Soloist , and Tyler Perry 's I Can Do Bad All By Myself , this movie prevailed through its inspiring true story of compassion and motivation .\", 'The series was unsigned but was written by a NMC member , Charles A. Conant , and made the usual arguments for elasticity , but added additional functions that the central bank could play , including manipulating the discount rate and gold flows as well as bailing out failing banks .', 'Storage capacity can be increased by increasing the mass or the rotational velocity , but in either case you run into the limiting problem of increased centrifugal forces that eventually lead to mechanical failure and destruction .', 'With virtually the whole Republican Party aligned with McCarthy , the hearings , unlike those held sixteen years later , were bitterly partisan and tainted by expressions of doubt about the very loyalty of the governing party .', 'The four suspects running the operation had beaten several of the victims with a curtain rod , wooden sticks , and pistols as punishment for not paying the extortion fee .', \"They also resolved that `` As Persons very commonly in Conversation use bad Grammar it is determin 'd that in the Meeting free liberty be taken by all present to criticise upon each other 's Language .\", \"Because of what Manzi calls `` causal density , '' in which the number and complexity of potential causes that give rise to a phenomenon increase dramatically , making it difficult even to identify all relevant contributing factors , much less to hold all but one constant .\", 'The aggressive arrogance common in agent handlers makes them ill-suited superiors .', 'In framing a government which is to be administered by men over men , the great difficulty lies in this : you must first enable the government to control the governed ; and in the next place oblige it to control itself .', \"`` It does n't bother me , because I 'm not doing anything wrong '' is a common reply to warnings of danger .\", 'And the comedy runs deep : it is not trivial , for while it depicts absurdity , pomposity , and even cruelty , it has the curious effect of reconciling us to life even as it lays human weaknesses out for our inspection .', 'Using a knob to control volume levels and a foot pedal to fade the various effects in and out , Douglass played his laff box like an organ , creating appropriately joyous crowds on the fly .', 'Markets can therefore elicit and amplify good information and silence ( by punishing ) bad information .', \"His main emphasis was on organization - the need for business to create a standing political operation in Washington whose power could be `` assiduously cultivated '' and `` used aggressively and with determination .\", 'Seventy-seven percent strongly agreed with the statement that `` an effective probation and parole system would use new technologies to monitor where offenders are and what they are doing , require them to pass drugtests .', \"But now , in a truly public society , they must listen to what we say , whether we 're using Twitter to complain about a product or Facebook to organize a protest .\", 'Not only did the loss of former affluence and the destruction of the old moral ethic humiliate the human pillars of society : in German minds democracy and republicanism had become so associated with financial , social , and political disorder as to render any alternatives preferable when disorder threatened again .', 'The House Rules Committee , dominated by reactionary Southerners , kept Kennedy from passing even an increase in the minimum wage , let alone his campaign promise-the cornerstone of his legislative agenda-to extend Social security to cover medical care for the elderly .', 'For example , many observers pointed to the fact that nominal interest rates were close to zero during much of the Depression , concluding that monetary policy had been about as easy as possible yet had produced no tangible benefit to the economy .', 'Shortly after her death , her father , Frank Burroughs , started the Abigail Alliance for Better Access to Developmental Drugs , a nonprofit organization , which fights to ensure that cancer patients , no matter how sick and weak , can have their insurance companies buy any experimental drug that has passed safety testing .', 'The standard monetarist explanation for the Great Depression is that the Federal Reserve , instead of pumping more money into the economy as it should have done following the October 1929 stock market crash , instead closed the money spigots , causing a credit crunch that led to bank failures and unemployment on a massive scale .', \"Such problems drive home a critical flaw in the paradigm of energy independence -- namely , that energy is n't a zero-sum game anymore .\", 'Though one scholarly article argues for an association between the opening of the supermax and a reduction in aggregate violence against guards , the effect was both small and of extremely short duration .30 Nor did this limited correlation extend to a reduction in violence against prisoners , even though such assaults , too , may lead to a transfer to Tamms .', 'But there was also Vincent van Gogh , whose most simply and eloquently limned les-sons in the emotional power of colors and lines had been wrested from the anguished days and nights of a man who could not stop working for fear that if he did he would surely go mad .', 'Stocks , for example , are underpinned by future expected company earnings ; the value today of those future flows goes up when interest rates are lower -- so any cut by the Fed is welcomed by stock-market investors .', 'First , current energy regulatory policy cripples the development of American energy and keeps us dangerously dependent on foreign energy sources .', \"By sitting on stuff , by letting it rot , hoarders flaunt their `` bad '' old stuff -- which makes a mockery of our `` good '' new stuff and our irrepressible impulse to scrap what 's obsolete and upgrade at Amazon and Overstock and the Apple Store .\", 'Numbers are particularly effective in this regard , as has been famously noted by remarks attributed to Benjamin Disraeli and Mark Twain about the three kinds of lies -- namely , `` lies , damned lies , and statistics .', 'The group can grow larger still if not only cheaters are punished , but also people who do not punish cheaters , and so forth .', 'At Capital Offenders , an examination of past abuse is not a card played in an attempt to deflect responsibility but rather a starting point for a conversation intended to heal .', 'That Winkler-Koch won every lawsuit but one ( and that verdict was later overturned when it was discovered that the judge had been bribed ) is evidence enough that the full-frontal legal assault on the upstart Koch was inspired by no higher motives than envy and greed .', 'The Secretary of Health and Human Services is authorized to use your claims data to issue you reports that measure the resources you use , provide information on the quality of care you provide , and compare the resources you use to those used by other physicians .', 'In reality , comparing the results from yearly tests only weakly indicates how well students and schools are achieving -- unless students take identical tests from year to year , which could not be done from a practical standpoint because students would cheat .', 'The old welfare program , Aid to Families with Dependent Children , too often failed to honor this core value , which helps explain not only its unpopularity with the public but also why it often isolated the very people it was supposed to help .', 'It is that they hate other things more : economic phenomena like profits , competition , and all the tensions and conflicts which threaten constantly to erupt from the marketplace .', 'Take , for instance , his argument against health care : `` The Founders could have written it in the original Constitution -- they had health care problems back then , too -- but they knew the answer was private , not the government .', 'One thing is certain , however ; if a private company or a state or local agency had caused even a tiny fraction of the damage that the EPA has caused through its MTBE fiasco , it would be facing serious punitive damages and civil penalties , if not criminal charges .', \"To moderate the pain of paying high gas prices , the Obama administration plans to confiscate a `` reasonable share '' ( you might guess who is to determine what is `` reasonable '' ) of record-breaking `` windfall profits '' of the oil companies and give it to American families as an `` emergency energy rebate .\", 'His plan to cut $ 500 billion from the bloated federal budget this fiscal year is by far the most ambitious proposal so far vetted , especially in comparison with the mere $ 100 billion that Republican Party spokesmen promised to cut if elected to a majority in the House .', '1098 would allow for competing currencies -- and for buyers and sellers to be able to use sound money whose value can not be weakened through wild creation of more of it .', 'Rather , optimum independence requires an understanding of the difference between healthy , normal dependency that must be accepted as a condition of being a part of civilization and unhealthy forms of dependency that result in a loss of dignity and purpose when others control your life .15 A better word for healthy dependence is interdependence .', \"It 's true that by producing less , Saddam would have had lower costs , so let 's bias the analysis in favor of his getting a gain from cutting output by assuming that the cost of oil production for the last 1 mbd was $ 5 per barrel , a number that most observers would regard as being on the high side .\", 'Using more embryos boosts the success rate but also results in multiple births , which are far riskier for the woman and often lead to premature delivery and dire health problems in the infants .', \"Quite the opposite , government redistribution of wealth actually destroys the positive impulses and outcomes of voluntary charity . ''\", 'We have assigned pluses to the yeas not only because the government should not be subsidizing the killing of innocent human life , but also because there is no constitutional authority for the government to manage or finance the healthcare sector .', \"Eliminating subsidies and legal privileges for hierarchical corporations would increase the likelihood that people could enjoy the job security associated with working for themselves ( with less risk than accompanies being an independent contractor in a less healthy economy ) or in partnerships or cooperatives and that , when they did work for others , they could bargain successfully for better compensation . ''\", 'They believe in the man-woman definition of marriage , that abortions not performed for health reasons are sinful ( this is as true for Orthodox Jews as for traditional Christians ) , in a God who transcends nature , in objective good and evil , in reward and punishment in an afterlife , and much more that is contrary to Leftism .', 'When work becomes illegal , employers have a big weapon to use against any effort to organize unions or fight for better conditions .', 'She seems pleased that there are a large number of fatherless families today because , contradicting all the social science evidence , she thinks males raised without fathers will treat women better .', 'Banks and huge numbers of other corporations that had failed to save for a rainy day , relying instead on the unwarranted belief that unending growth would overwhelm shaky assets or excessive leverage , failed spectacularly .', 'Facing strongly adverse public opinion on the substance of their policies , the national Democratic Party made a conscious decision to try to change the subject from stimulus bills , the national health care takeover , and the horrifying deficit and debt levels to the unacceptable personal qualities of their Republican opponents .', 'Jobs created under inherently politicized programs will displace jobs the private sector would create if the burden of government were lifted and investor confidence restored .', \"Moreover , as pointed out by Hans Bader of the Competitive Enterprise Institute , `` Government meddling , along with federal regulatory pressure on lenders to promote ` affordable housing ' and ` diversity , ' helped erode traditional lending standards , resulting in more risky mortgage loans to irresponsible people with bad credit ( as some longtime supporters of federal meddling now admit ) .\", 'There are two compelling reasons why our politics needs a platform centered on the promise of expanding economic opportunity and security for a new generation .', 'But those who distrust individual freedoms in favor of an all-powerful government are horrified by the idea that one person can possess enough power to lawfully resist , with force , unacceptable intrusions into his or her life .', \"Doctors who accept Medicare and Medicaid ( about 15 percent do n't accept Medicaid and 20 percent do n't take new Medicaid patients ) actually lose money because the government paperwork is time consuming and government reimbursements for care are low .\", \"Dr. Craig Postlewaite , director of DoD 's force readiness and health assurance , tells TAC that while the smoke from these pits could be responsible for `` acute '' health issues like `` general irritation '' of the eyes and throat , `` when we look at respiratory effects on a population-wide basis , we 're not seeing a cause for concern .\", 'liberty , personal sovereignty , individual rights , human dignity , and the opportunity to pursue happiness are given to us by God because that is the only basis that can guarantee those blessings for everyone .', \"The NPI promises to analyze how `` government policies and cultural trends adversely affect the very safety , economic standards , and traditional values of America 's historic majority .\", 'The stresses and strains of all these changes made many men , raised with ideals of masculinity based on providing for their families , feel diminished , emasculated , and devalued .', 'While there certainly has been a shift in jobs overseas , the numbers are questionable , Moody points out , because much of the job loss is the result of technological change that makes a smaller number of workers vastly more productive .', 'He has also betrayed an alarming ignorance of basic economics , cajoling businesses to step up and hire more people , as if their hiring decisions are purely a matter of personal whim and their failure to create jobs stems from just plain selfishness .', 'Perhaps the best opportunity to create such a system came in the late 1940s , when Harry Truman attempted to create a system that would have looked essentially like Medicare for the whole population .', \"It is this will to acquire and exercise power , which is both dangerous to liberty as well as destructive of environmental quality , that America 's Founders so laboriously worked to stymie , and so ingeniously succeeded in accomplishing with the Constitution 's intricate system of checks and balances .\", 'This is very evident in the push to transform the IME We are already saddled with the Federal Reserve System , a dangerously arrogant threat to our economy and our constitutional system .', 'Rejecting the morally charged rhetoric that conservatives have used to cast opprobrium on free-riding aliens , John DeStefano is arguing that the inclusion of illegal immigrants in civil society is vital to public services that benefit the whole city .', 'Representative Ron Paul ( R-Texas ) has outlined how this game has been played , noting that the Federal Reserve `` creates new money and uses it to purchase securities from banks .', 'One reason I think I won this election was I could bridge the gap with common issues that Tea Party folk and liberty folk in the district had in common ; every ( Michigan ) Tea Party group supported me .', 'The key is through charitable giving , Christians are to voluntarily tithe to the church and share their finances ( distribute wealth ) with the needy , not be forced by the government through taxes to unwillingly ( redistribute wealth ) give to whoever the government decides needs it the most .', ', which was written to overcome the arguments of atheist spokesperson Richard Dawkins ( reviewed by Heiser in the December 24 issue ) ; however , it is an exercise in futility .', 'They have transferred control of elections to the government bureaucracy they fund and control , created complex ballot-access laws , switched to the Australian ballot to weaken local parties , outlawed corporate contributions , and imposed contribution limits to make it hard for opponents to fund a credible challenge .', \"The English economist John Hicks once remarked that `` the best of all monopoly profits is a quiet life , '' meaning that a seller with monopoly power might settle for less than the largest possible profit in order to avoid attracting rivals who would have to be beaten off amid turmoil and uncertainty .\", 'While cyber-crimes could pose a devastating threat to American businesses , critics are questioning the freedom-related implications of government action , as regulations and government-private sector alliances could impede civil liberties .', \"While the Democrats railed against this tax break as a special Republican favor for `` Big Oil , '' a reduction in taxes on domestically produced oil makes exploration , drilling , and production of fuel from that domestic oil more attractive for producers , making an increase in production from domestic supplies more likely .\", 'I saw how jobs were created and how profits led to more growth and higher salaries .', \"Even the New York Times made note of the danger , worrying that `` the Fed was taking risks that could dilute the value of the dollar and set the stage for future inflation . '\", 'Fans of standards might argue that my evolution from a neophyte desperate to reach kids to a seasoned professional harnessing his creativity in the service of a more disciplined curriculum is exactly the desired result .', 'As we remain engaged in Iraq and Afghanistan , as conditions in Yemen , Bahrain , and Pakistan become more precarious by the day , and as Iran races to develop nuclear weapons , one might be tempted to conclude President Obama lacks any comprehensive strategy for addressing radical Islamism and other threats facing the United States .', 'The last-ditch argument , as Dilulio calls it , of the anti-incarceration lobby is that prisons cost too much to permit imprisonment of violent offenders for all or most of their terms .', 'In an op-ed for CNN , Otis argued that excessive regulations are killing job creation .', \"`` Central banks are grasping at straws , hoping that flooding the world with money created out of thin air will somehow resolve a crisis caused by ' un-control led government spend I tag and irresponsible debt issuance , '' the Texas Congressman said .\", \"The possibility of a general loss of confidence in fiat money is reason to believe that gold could once again play a monetary role , as I will argue in the second part of this series . ''\", 'During the 1920s , Great Britain , terrified of having to face depreciation of the pound as a result of running the printing presses , pressured the United States and other powers to inflate in concert with the Bank of England , leading to another global inflationary cycle and economic bubble that burst in 1929 with the great stock market crash .']\n"
     ]
    },
    {
     "name": "stdout",
     "output_type": "stream",
     "text": [
      "cluster began\n",
      "cluster end\n",
      "cluster began\n"
     ]
    },
    {
     "name": "stderr",
     "output_type": "stream",
     "text": [
      "\r",
      "Computing transition probabilities:   0%|          | 0/21 [00:00<?, ?it/s]"
     ]
    },
    {
     "name": "stdout",
     "output_type": "stream",
     "text": [
      "cluster end\n"
     ]
    },
    {
     "name": "stderr",
     "output_type": "stream",
     "text": [
      "\r",
      "Computing transition probabilities: 100%|██████████| 21/21 [00:00<00:00, 2526.91it/s]"
     ]
    },
    {
     "name": "stdout",
     "output_type": "stream",
     "text": [
      "cluster began\n"
     ]
    },
    {
     "name": "stderr",
     "output_type": "stream",
     "text": [
      "\n",
      "/home/amanjuna/.local/lib/python3.6/site-packages/joblib/parallel.py:673: UserWarning: Loky-backed parallel loops cannot be called in a multiprocessing, setting n_jobs=1\n",
      "  **self._backend_args)\n"
     ]
    },
    {
     "name": "stdout",
     "output_type": "stream",
     "text": [
      "cluster end\n"
     ]
    },
    {
     "name": "stderr",
     "output_type": "stream",
     "text": [
      "Computing transition probabilities: 100%|██████████| 18/18 [00:00<00:00, 682.85it/s]\n",
      "/home/amanjuna/.local/lib/python3.6/site-packages/joblib/parallel.py:673: UserWarning: Loky-backed parallel loops cannot be called in a multiprocessing, setting n_jobs=1\n",
      "  **self._backend_args)\n"
     ]
    },
    {
     "name": "stdout",
     "output_type": "stream",
     "text": [
      "cluster began\n",
      "cluster end\n"
     ]
    },
    {
     "name": "stderr",
     "output_type": "stream",
     "text": [
      "Computing transition probabilities: 100%|██████████| 23/23 [00:00<00:00, 262.48it/s]\n",
      "/home/amanjuna/.local/lib/python3.6/site-packages/joblib/parallel.py:673: UserWarning: Loky-backed parallel loops cannot be called in a multiprocessing, setting n_jobs=1\n",
      "  **self._backend_args)\n",
      "Computing transition probabilities: 100%|██████████| 29/29 [00:00<00:00, 315.45it/s]\n",
      "/home/amanjuna/.local/lib/python3.6/site-packages/joblib/parallel.py:673: UserWarning: Loky-backed parallel loops cannot be called in a multiprocessing, setting n_jobs=1\n",
      "  **self._backend_args)\n",
      "Generating walks (CPU: 1): 100%|██████████| 75/75 [00:12<00:00,  5.91it/s]\n",
      "Generating walks (CPU: 2):   3%|▎         | 2/75 [00:00<00:04, 18.24it/s]]\n",
      "Generating walks (CPU: 1):  81%|████████▏ | 61/75 [00:14<00:03,  4.52it/s]\n",
      "Generating walks (CPU: 2):  36%|███▌      | 27/75 [00:04<00:08,  5.69it/s]\n",
      "Generating walks (CPU: 2):  75%|███████▍  | 56/75 [00:10<00:03,  5.08it/s]\n",
      "Generating walks (CPU: 2):  85%|████████▌ | 64/75 [00:12<00:02,  5.03it/s]\n",
      "Generating walks (CPU: 3):  19%|█▊        | 14/75 [00:02<00:13,  4.45it/s]\n",
      "Generating walks (CPU: 3):  87%|████████▋ | 65/75 [00:10<00:01,  6.07it/s]\n",
      "Generating walks (CPU: 3):  77%|███████▋  | 58/75 [00:10<00:02,  5.74it/s]\n",
      "Generating walks (CPU: 3):  77%|███████▋  | 58/75 [00:11<00:03,  4.81it/s]\n",
      "Generating walks (CPU: 4):  28%|██▊       | 21/75 [00:03<00:09,  5.56it/s]\n",
      "Generating walks (CPU: 4):  35%|███▍      | 26/75 [00:04<00:09,  5.33it/s]\n",
      "Generating walks (CPU: 3):  85%|████████▌ | 64/75 [00:15<00:02,  4.02it/s]"
     ]
    },
    {
     "name": "stdout",
     "output_type": "stream",
     "text": [
      "[  2.23529412   0.         444.         193.          22.\n",
      "   3.           3.           0.           0.           9.\n",
      "   3.           3.           0.           0.           0.\n",
      "   0.           0.           0.        ]"
     ]
    },
    {
     "name": "stderr",
     "output_type": "stream",
     "text": [
      "\r",
      "Generating walks (CPU: 4):  47%|████▋     | 35/75 [00:06<00:08,  4.66it/s]"
     ]
    },
    {
     "name": "stdout",
     "output_type": "stream",
     "text": [
      "\n"
     ]
    },
    {
     "name": "stderr",
     "output_type": "stream",
     "text": [
      "\r",
      "Generating walks (CPU: 4):  76%|███████▌  | 57/75 [00:10<00:03,  5.00it/s]"
     ]
    },
    {
     "name": "stdout",
     "output_type": "stream",
     "text": [
      "Unk percentage: 0.0\n"
     ]
    },
    {
     "name": "stderr",
     "output_type": "stream",
     "text": [
      "Generating walks (CPU: 4):  49%|████▉     | 37/75 [00:07<00:08,  4.33it/s]"
     ]
    },
    {
     "name": "stdout",
     "output_type": "stream",
     "text": [
      "cluster began\n"
     ]
    },
    {
     "name": "stderr",
     "output_type": "stream",
     "text": [
      "\r",
      "Generating walks (CPU: 3):  88%|████████▊ | 66/75 [00:16<00:02,  3.80it/s]"
     ]
    },
    {
     "name": "stdout",
     "output_type": "stream",
     "text": [
      "cluster end\n"
     ]
    },
    {
     "name": "stderr",
     "output_type": "stream",
     "text": [
      "Computing transition probabilities: 100%|██████████| 25/25 [00:00<00:00, 2344.29it/s]\n",
      "Generating walks (CPU: 1):  13%|█▎        | 10/75 [00:01<00:13,  4.65it/s]\n",
      "Generating walks (CPU: 4):   7%|▋         | 5/75 [00:00<00:11,  5.83it/s]]\n",
      "Generating walks (CPU: 4):  19%|█▊        | 14/75 [00:02<00:14,  4.27it/s]"
     ]
    },
    {
     "name": "stdout",
     "output_type": "stream",
     "text": [
      "[  1.9   0.  816.  306.   18.    0.    0.    0.    0.    0.    0.    0.\n",
      "   0.    0.    0.    0.    0.    0. ]\n"
     ]
    },
    {
     "name": "stderr",
     "output_type": "stream",
     "text": [
      "\r",
      "Generating walks (CPU: 1):  35%|███▍      | 26/75 [00:05<00:10,  4.73it/s]"
     ]
    },
    {
     "name": "stdout",
     "output_type": "stream",
     "text": [
      "Unk percentage: 0.0\n"
     ]
    },
    {
     "name": "stderr",
     "output_type": "stream",
     "text": [
      "Generating walks (CPU: 4):  87%|████████▋ | 65/75 [00:13<00:01,  5.06it/s]"
     ]
    },
    {
     "name": "stdout",
     "output_type": "stream",
     "text": [
      "cluster began\n",
      "cluster end\n"
     ]
    },
    {
     "name": "stderr",
     "output_type": "stream",
     "text": [
      "Computing transition probabilities: 100%|██████████| 16/16 [00:00<00:00, 439.59it/s]\n",
      "Generating walks (CPU: 1):  20%|██        | 15/75 [00:02<00:09,  6.13it/s]\n",
      "Generating walks (CPU: 1):  40%|████      | 30/75 [00:04<00:06,  6.52it/s]"
     ]
    },
    {
     "name": "stdout",
     "output_type": "stream",
     "text": [
      "[2.09090909e+00 0.00000000e+00 1.12800000e+03 3.68000000e+02\n",
      " 2.20000000e+01 1.00000000e+00 1.00000000e+00 0.00000000e+00\n",
      " 0.00000000e+00 1.60000000e+01 2.00000000e+00 2.00000000e+00\n",
      " 0.00000000e+00 0.00000000e+00 0.00000000e+00 0.00000000e+00\n",
      " 0.00000000e+00 0.00000000e+00]\n"
     ]
    },
    {
     "name": "stderr",
     "output_type": "stream",
     "text": [
      "\r",
      "Generating walks (CPU: 1):  41%|████▏     | 31/75 [00:04<00:06,  6.50it/s]"
     ]
    },
    {
     "name": "stdout",
     "output_type": "stream",
     "text": [
      "Unk percentage: 0.04878048780487805\n"
     ]
    },
    {
     "name": "stderr",
     "output_type": "stream",
     "text": [
      "Generating walks (CPU: 1):  44%|████▍     | 33/75 [00:04<00:07,  5.95it/s]"
     ]
    },
    {
     "name": "stdout",
     "output_type": "stream",
     "text": [
      "cluster began\n",
      "cluster end\n"
     ]
    },
    {
     "name": "stderr",
     "output_type": "stream",
     "text": [
      "Computing transition probabilities: 100%|██████████| 25/25 [00:00<00:00, 1907.02it/s]\n",
      "Generating walks (CPU: 1):  93%|█████████▎| 70/75 [00:10<00:00,  5.73it/s]\n",
      "Generating walks (CPU: 2):   7%|▋         | 5/75 [00:00<00:12,  5.70it/s]]\n",
      "Generating walks (CPU: 2):  31%|███       | 23/75 [00:02<00:08,  6.44it/s]\n",
      "Generating walks (CPU: 2):  52%|█████▏    | 39/75 [00:06<00:07,  4.85it/s]"
     ]
    },
    {
     "name": "stdout",
     "output_type": "stream",
     "text": [
      "[2.35714286e+00 0.00000000e+00 2.48400000e+03 7.26000000e+02\n",
      " 4.90000000e+01 9.00000000e+00 8.00000000e+00 0.00000000e+00\n",
      " 0.00000000e+00 0.00000000e+00 0.00000000e+00 0.00000000e+00\n",
      " 0.00000000e+00 0.00000000e+00 0.00000000e+00 0.00000000e+00\n",
      " 0.00000000e+00 0.00000000e+00]\n"
     ]
    },
    {
     "name": "stderr",
     "output_type": "stream",
     "text": [
      "\r",
      "Generating walks (CPU: 2):  40%|████      | 30/75 [00:07<00:15,  2.97it/s]"
     ]
    },
    {
     "name": "stdout",
     "output_type": "stream",
     "text": [
      "Unk percentage: 0.0\n"
     ]
    },
    {
     "name": "stderr",
     "output_type": "stream",
     "text": [
      "Generating walks (CPU: 2):  55%|█████▍    | 41/75 [00:06<00:06,  5.43it/s]"
     ]
    },
    {
     "name": "stdout",
     "output_type": "stream",
     "text": [
      "cluster began\n",
      "cluster end\n"
     ]
    },
    {
     "name": "stderr",
     "output_type": "stream",
     "text": [
      "Computing transition probabilities: 100%|██████████| 19/19 [00:00<00:00, 3084.29it/s]\n",
      "Generating walks (CPU: 2):  69%|██████▉   | 52/75 [00:12<00:04,  4.73it/s]\n",
      "Generating walks (CPU: 1):  43%|████▎     | 32/75 [00:05<00:08,  5.22it/s]\n",
      "Generating walks (CPU: 1):  73%|███████▎  | 55/75 [00:09<00:03,  6.10it/s]\n",
      "Generating walks (CPU: 3):  69%|██████▉   | 52/75 [00:07<00:03,  6.04it/s]\n",
      "Generating walks (CPU: 2):  28%|██▊       | 21/75 [00:03<00:09,  5.59it/s]\n",
      "Generating walks (CPU: 4):  29%|██▉       | 22/75 [00:02<00:07,  7.49it/s]\n",
      "Generating walks (CPU: 2):  95%|█████████▍| 71/75 [00:11<00:00,  5.77it/s]\n",
      "Generating walks (CPU: 4):  89%|████████▉ | 67/75 [00:09<00:01,  6.07it/s]\n",
      "Generating walks (CPU: 3):  49%|████▉     | 37/75 [00:07<00:07,  4.79it/s]\n",
      "Generating walks (CPU: 4):  23%|██▎       | 17/75 [00:03<00:14,  3.91it/s]"
     ]
    },
    {
     "name": "stdout",
     "output_type": "stream",
     "text": [
      "[  2.26666667   0.         268.         166.          18.\n",
      "   2.           1.           0.           0.           0.\n",
      "   0.           0.           0.           0.           0.\n",
      "   0.           0.           0.        ]\n",
      "Unk percentage: 0.0\n"
     ]
    },
    {
     "name": "stderr",
     "output_type": "stream",
     "text": [
      "Generating walks (CPU: 4):  25%|██▌       | 19/75 [00:04<00:12,  4.31it/s]"
     ]
    },
    {
     "name": "stdout",
     "output_type": "stream",
     "text": [
      "cluster began\n",
      "cluster end\n"
     ]
    },
    {
     "name": "stderr",
     "output_type": "stream",
     "text": [
      "Computing transition probabilities: 100%|██████████| 32/32 [00:00<00:00, 997.61it/s]\n",
      "Generating walks (CPU: 4):  63%|██████▎   | 47/75 [00:10<00:06,  4.34it/s]\n",
      "Generating walks (CPU: 1):  49%|████▉     | 37/75 [00:09<00:10,  3.65it/s]\n",
      "Generating walks (CPU: 1):  63%|██████▎   | 47/75 [00:12<00:07,  3.69it/s]\n",
      "Generating walks (CPU: 4):  56%|█████▌    | 42/75 [00:08<00:07,  4.47it/s]"
     ]
    },
    {
     "name": "stdout",
     "output_type": "stream",
     "text": [
      "[2.75000000e+00 4.81481481e-02 1.39200000e+03 5.40000000e+02\n",
      " 5.80000000e+01 1.70000000e+01 1.50000000e+01 2.00000000e+00\n",
      " 0.00000000e+00 0.00000000e+00 0.00000000e+00 0.00000000e+00\n",
      " 0.00000000e+00 0.00000000e+00 0.00000000e+00 0.00000000e+00\n",
      " 0.00000000e+00 0.00000000e+00]"
     ]
    },
    {
     "name": "stderr",
     "output_type": "stream",
     "text": [
      "\r",
      "Generating walks (CPU: 4):  41%|████▏     | 31/75 [00:05<00:08,  5.38it/s]"
     ]
    },
    {
     "name": "stdout",
     "output_type": "stream",
     "text": [
      "\n",
      "Unk percentage: 0.0\n"
     ]
    },
    {
     "name": "stderr",
     "output_type": "stream",
     "text": [
      "Generating walks (CPU: 4):  60%|██████    | 45/75 [00:09<00:05,  5.03it/s]"
     ]
    },
    {
     "name": "stdout",
     "output_type": "stream",
     "text": [
      "cluster began\n",
      "cluster end\n"
     ]
    },
    {
     "name": "stderr",
     "output_type": "stream",
     "text": [
      "Computing transition probabilities: 100%|██████████| 21/21 [00:00<00:00, 584.68it/s]\n",
      "Generating walks (CPU: 1):  32%|███▏      | 24/75 [00:04<00:09,  5.44it/s]\n",
      "Generating walks (CPU: 2):  13%|█▎        | 10/75 [00:02<00:15,  4.33it/s]\n",
      "Generating walks (CPU: 1):  53%|█████▎    | 40/75 [00:06<00:05,  5.85it/s]\n",
      "Generating walks (CPU: 1):  63%|██████▎   | 47/75 [00:08<00:07,  3.72it/s]"
     ]
    },
    {
     "name": "stdout",
     "output_type": "stream",
     "text": [
      "[  2.11111111   0.         542.         244.          24.\n",
      "   3.           3.           0.           0.           0.\n",
      "   0.           0.           0.           0.           0.\n",
      "   0.           0.           0.        ]\n"
     ]
    },
    {
     "name": "stderr",
     "output_type": "stream",
     "text": [
      "\r",
      "Generating walks (CPU: 2):  21%|██▏       | 16/75 [00:04<00:20,  2.92it/s]"
     ]
    },
    {
     "name": "stdout",
     "output_type": "stream",
     "text": [
      "Unk percentage: 0.0\n"
     ]
    },
    {
     "name": "stderr",
     "output_type": "stream",
     "text": [
      "\r",
      "Generating walks (CPU: 1):  64%|██████▍   | 48/75 [00:08<00:06,  4.02it/s]"
     ]
    },
    {
     "name": "stdout",
     "output_type": "stream",
     "text": [
      "[   2.08333333    0.         1506.          486.           28.\n",
      "    2.            2.            0.            0.            0.\n",
      "    0.            0.            0.            0.            0.\n",
      "    0.            0.            0.        ]\n",
      "Unk percentage: 0.0\n"
     ]
    },
    {
     "name": "stderr",
     "output_type": "stream",
     "text": [
      "Generating walks (CPU: 1):  65%|██████▌   | 49/75 [00:08<00:06,  4.29it/s]"
     ]
    },
    {
     "name": "stdout",
     "output_type": "stream",
     "text": [
      "cluster began\n",
      "cluster end\n"
     ]
    },
    {
     "name": "stderr",
     "output_type": "stream",
     "text": [
      "Computing transition probabilities: 100%|██████████| 17/17 [00:00<00:00, 5099.64it/s]\n",
      "Generating walks (CPU: 1):  67%|██████▋   | 50/75 [00:09<00:05,  4.29it/s]"
     ]
    },
    {
     "name": "stdout",
     "output_type": "stream",
     "text": [
      "cluster began\n",
      "cluster end\n"
     ]
    },
    {
     "name": "stderr",
     "output_type": "stream",
     "text": [
      "Computing transition probabilities: 100%|██████████| 17/17 [00:00<00:00, 1098.87it/s]\n",
      "Generating walks (CPU: 1):  44%|████▍     | 33/75 [00:04<00:05,  7.56it/s]\n",
      "Generating walks (CPU: 1): 100%|██████████| 75/75 [00:10<00:00,  6.86it/s]\n",
      "Generating walks (CPU: 2):  47%|████▋     | 35/75 [00:06<00:07,  5.46it/s]\n",
      "Generating walks (CPU: 2):  35%|███▍      | 26/75 [00:04<00:07,  6.17it/s]\n",
      "Generating walks (CPU: 2):  68%|██████▊   | 51/75 [00:07<00:03,  6.67it/s]\n",
      "Generating walks (CPU: 3):  27%|██▋       | 20/75 [00:03<00:10,  5.30it/s]\n",
      "Generating walks (CPU: 3):   5%|▌         | 4/75 [00:00<00:07,  9.16it/s]]\n",
      "Generating walks (CPU: 3):  79%|███████▊  | 59/75 [00:09<00:02,  6.07it/s]\n",
      "Generating walks (CPU: 3):  97%|█████████▋| 73/75 [00:11<00:00,  6.70it/s]\n",
      "Generating walks (CPU: 4):  17%|█▋        | 13/75 [00:02<00:12,  4.77it/s]\n",
      "Generating walks (CPU: 4):   4%|▍         | 3/75 [00:00<00:07,  9.65it/s]\n",
      "Generating walks (CPU: 4): 100%|██████████| 75/75 [00:14<00:00,  5.09it/s]\n",
      "Generating walks (CPU: 4):  97%|█████████▋| 73/75 [00:11<00:00,  6.40it/s]\n",
      "Generating walks (CPU: 4):  63%|██████▎   | 47/75 [00:12<00:08,  3.49it/s]\n",
      "Generating walks (CPU: 4):  67%|██████▋   | 50/75 [00:13<00:08,  2.90it/s]"
     ]
    },
    {
     "name": "stdout",
     "output_type": "stream",
     "text": [
      "[  1.875   0.    364.    182.     14.      0.      0.      0.      0.\n",
      "   0.      0.      0.      0.      0.      0.      0.      0.      0.   ]\n",
      "Unk percentage: 0.0\n"
     ]
    },
    {
     "name": "stderr",
     "output_type": "stream",
     "text": [
      "\r",
      "Generating walks (CPU: 4):  68%|██████▊   | 51/75 [00:13<00:08,  2.94it/s]"
     ]
    },
    {
     "name": "stdout",
     "output_type": "stream",
     "text": [
      "cluster began\n",
      "cluster end\n"
     ]
    },
    {
     "name": "stderr",
     "output_type": "stream",
     "text": [
      "\r",
      "Computing transition probabilities:   0%|          | 0/17 [00:00<?, ?it/s]"
     ]
    },
    {
     "name": "stdout",
     "output_type": "stream",
     "text": [
      "[  2.25   0.   339.   190.    24.     3.     4.     0.     0.     0.\n",
      "   0.     0.     0.     0.     0.     0.     0.     0.  ]\n"
     ]
    },
    {
     "name": "stderr",
     "output_type": "stream",
     "text": [
      "Computing transition probabilities: 100%|██████████| 17/17 [00:00<00:00, 2938.40it/s]\n",
      "Generating walks (CPU: 1):   0%|          | 0/75 [00:00<?, ?it/s]"
     ]
    },
    {
     "name": "stdout",
     "output_type": "stream",
     "text": [
      "Unk percentage: 0.0\n"
     ]
    },
    {
     "name": "stderr",
     "output_type": "stream",
     "text": [
      "\r",
      "Generating walks (CPU: 4):  69%|██████▉   | 52/75 [00:13<00:08,  2.74it/s]"
     ]
    },
    {
     "name": "stdout",
     "output_type": "stream",
     "text": [
      "[2.20000000e+00 5.08928571e-02 7.92000000e+02 3.01000000e+02\n",
      " 3.20000000e+01 7.00000000e+00 7.00000000e+00 1.00000000e+00\n",
      " 0.00000000e+00 0.00000000e+00 0.00000000e+00 0.00000000e+00\n",
      " 0.00000000e+00 0.00000000e+00 0.00000000e+00 0.00000000e+00\n",
      " 0.00000000e+00 0.00000000e+00]\n"
     ]
    },
    {
     "name": "stderr",
     "output_type": "stream",
     "text": [
      "\r",
      "Generating walks (CPU: 1):   3%|▎         | 2/75 [00:00<00:04, 17.10it/s]"
     ]
    },
    {
     "name": "stdout",
     "output_type": "stream",
     "text": [
      "Unk percentage: 0.0\n"
     ]
    },
    {
     "name": "stderr",
     "output_type": "stream",
     "text": [
      "Generating walks (CPU: 4):  72%|███████▏  | 54/75 [00:14<00:06,  3.32it/s]"
     ]
    },
    {
     "name": "stdout",
     "output_type": "stream",
     "text": [
      "cluster began\n",
      "cluster end\n",
      "cluster began\n"
     ]
    },
    {
     "name": "stderr",
     "output_type": "stream",
     "text": [
      "\r",
      "Computing transition probabilities:   0%|          | 0/27 [00:00<?, ?it/s]"
     ]
    },
    {
     "name": "stdout",
     "output_type": "stream",
     "text": [
      "cluster end\n"
     ]
    },
    {
     "name": "stderr",
     "output_type": "stream",
     "text": [
      "Computing transition probabilities: 100%|██████████| 27/27 [00:00<00:00, 2283.97it/s]\n",
      "Computing transition probabilities: 100%|██████████| 11/11 [00:00<00:00, 806.30it/s]\n",
      "Generating walks (CPU: 1):  53%|█████▎    | 40/75 [00:06<00:07,  4.95it/s]\n",
      "Generating walks (CPU: 1):  71%|███████   | 53/75 [00:08<00:04,  5.08it/s]\n",
      "Generating walks (CPU: 2):   5%|▌         | 4/75 [00:00<00:08,  8.23it/s]]"
     ]
    },
    {
     "name": "stdout",
     "output_type": "stream",
     "text": [
      "[2.51612903e+00 0.00000000e+00 3.58600000e+03 7.29000000e+02\n",
      " 6.40000000e+01 1.60000000e+01 1.60000000e+01 0.00000000e+00\n",
      " 0.00000000e+00 4.50000000e+01 1.80000000e+01 1.80000000e+01\n",
      " 0.00000000e+00 0.00000000e+00 0.00000000e+00 3.00000000e+00\n",
      " 0.00000000e+00 0.00000000e+00]\n"
     ]
    },
    {
     "name": "stderr",
     "output_type": "stream",
     "text": [
      "\r",
      "Generating walks (CPU: 1):  75%|███████▍  | 56/75 [00:09<00:03,  5.05it/s]"
     ]
    },
    {
     "name": "stdout",
     "output_type": "stream",
     "text": [
      "Unk percentage: 0.0\n"
     ]
    },
    {
     "name": "stderr",
     "output_type": "stream",
     "text": [
      "Generating walks (CPU: 1):  79%|███████▊  | 59/75 [00:09<00:03,  5.07it/s]"
     ]
    },
    {
     "name": "stdout",
     "output_type": "stream",
     "text": [
      "cluster began\n",
      "cluster end\n"
     ]
    },
    {
     "name": "stderr",
     "output_type": "stream",
     "text": [
      "Computing transition probabilities: 100%|██████████| 28/28 [00:00<00:00, 1555.46it/s]\n",
      "Generating walks (CPU: 2):  44%|████▍     | 33/75 [00:03<00:04, 10.09it/s]\n",
      "Generating walks (CPU: 2):  37%|███▋      | 28/75 [00:04<00:08,  5.75it/s]\n",
      "Generating walks (CPU: 2):  49%|████▉     | 37/75 [00:05<00:05,  6.96it/s]\n",
      "Generating walks (CPU: 3):  93%|█████████▎| 70/75 [00:07<00:00,  8.72it/s]\n",
      "Generating walks (CPU: 2):  37%|███▋      | 28/75 [00:06<00:11,  4.15it/s]\n",
      "Generating walks (CPU: 3):  35%|███▍      | 26/75 [00:03<00:06,  7.35it/s]\n",
      "Generating walks (CPU: 4): 100%|██████████| 75/75 [00:07<00:00, 10.53it/s]\n",
      "Generating walks (CPU: 3):  77%|███████▋  | 58/75 [00:09<00:03,  5.51it/s]"
     ]
    },
    {
     "name": "stdout",
     "output_type": "stream",
     "text": [
      "[ 1.8  0.  56.  56.   8.   0.   0.   0.   0.   0.   0.   0.   0.   0.\n",
      "  0.   0.   0.   0. ]\n",
      "Unk percentage: 0.0\n"
     ]
    },
    {
     "name": "stderr",
     "output_type": "stream",
     "text": [
      "Generating walks (CPU: 2):  35%|███▍      | 26/75 [00:05<00:10,  4.66it/s]"
     ]
    },
    {
     "name": "stdout",
     "output_type": "stream",
     "text": [
      "cluster began\n"
     ]
    },
    {
     "name": "stderr",
     "output_type": "stream",
     "text": [
      "\r",
      "Generating walks (CPU: 2):  91%|█████████ | 68/75 [00:15<00:01,  4.44it/s]"
     ]
    },
    {
     "name": "stdout",
     "output_type": "stream",
     "text": [
      "cluster end\n"
     ]
    },
    {
     "name": "stderr",
     "output_type": "stream",
     "text": [
      "Computing transition probabilities: 100%|██████████| 11/11 [00:00<00:00, 4782.56it/s]\n",
      "Generating walks (CPU: 1):  23%|██▎       | 17/75 [00:01<00:06,  8.35it/s]\n",
      "Generating walks (CPU: 3):   4%|▍         | 3/75 [00:00<00:10,  7.06it/s]]\n",
      "Generating walks (CPU: 1): 100%|██████████| 75/75 [00:07<00:00,  9.72it/s]\n",
      "Generating walks (CPU: 2):  52%|█████▏    | 39/75 [00:03<00:03,  9.44it/s]\n",
      "Generating walks (CPU: 3):  19%|█▊        | 14/75 [00:02<00:13,  4.49it/s]\n",
      "Generating walks (CPU: 2): 100%|██████████| 75/75 [00:07<00:00,  9.23it/s]\n",
      "Generating walks (CPU: 3):  87%|████████▋ | 65/75 [00:14<00:02,  3.76it/s]"
     ]
    },
    {
     "name": "stdout",
     "output_type": "stream",
     "text": [
      "[  2.   0. 365. 168.  13.   0.   0.   0.   0.  12.   1.   1.   0.   0.\n",
      "   0.   0.   0.   0.]"
     ]
    },
    {
     "name": "stderr",
     "output_type": "stream",
     "text": [
      "\r",
      "Generating walks (CPU: 3):  11%|█         | 8/75 [00:00<00:05, 12.82it/s]"
     ]
    },
    {
     "name": "stdout",
     "output_type": "stream",
     "text": [
      "\n",
      "Unk percentage: 0.0\n"
     ]
    },
    {
     "name": "stderr",
     "output_type": "stream",
     "text": [
      "Generating walks (CPU: 3):  16%|█▌        | 12/75 [00:00<00:05, 11.38it/s]"
     ]
    },
    {
     "name": "stdout",
     "output_type": "stream",
     "text": [
      "cluster began\n",
      "cluster end\n"
     ]
    },
    {
     "name": "stderr",
     "output_type": "stream",
     "text": [
      "Computing transition probabilities: 100%|██████████| 28/28 [00:00<00:00, 656.54it/s]\n",
      "Generating walks (CPU: 3):  44%|████▍     | 33/75 [00:03<00:03, 10.98it/s]\n",
      "Generating walks (CPU: 3):  63%|██████▎   | 47/75 [00:11<00:07,  3.79it/s]\n",
      "Generating walks (CPU: 4):  88%|████████▊ | 66/75 [00:06<00:00,  9.93it/s]\n",
      "Generating walks (CPU: 4):  71%|███████   | 53/75 [00:11<00:05,  4.18it/s]\n",
      "Generating walks (CPU: 4):  13%|█▎        | 10/75 [00:02<00:15,  4.25it/s]"
     ]
    },
    {
     "name": "stdout",
     "output_type": "stream",
     "text": [
      "[ 2.6         0.06833333 47.         53.          9.          1.\n",
      "  1.          1.          0.          6.          1.          1.\n",
      "  0.          0.          0.          0.          0.          0.        ]\n",
      "Unk percentage: 0.0\n"
     ]
    },
    {
     "name": "stderr",
     "output_type": "stream",
     "text": [
      "Generating walks (CPU: 1):  85%|████████▌ | 64/75 [00:15<00:03,  3.51it/s]"
     ]
    },
    {
     "name": "stdout",
     "output_type": "stream",
     "text": [
      "cluster began\n"
     ]
    },
    {
     "name": "stderr",
     "output_type": "stream",
     "text": [
      "\r",
      "Generating walks (CPU: 4):  16%|█▌        | 12/75 [00:02<00:14,  4.28it/s]"
     ]
    },
    {
     "name": "stdout",
     "output_type": "stream",
     "text": [
      "cluster end\n"
     ]
    },
    {
     "name": "stderr",
     "output_type": "stream",
     "text": [
      "Computing transition probabilities: 100%|██████████| 20/20 [00:00<00:00, 1665.23it/s]\n",
      "Generating walks (CPU: 1):  20%|██        | 15/75 [00:02<00:10,  5.95it/s]\n",
      "Generating walks (CPU: 4):  37%|███▋      | 28/75 [00:06<00:10,  4.54it/s]\n",
      "Generating walks (CPU: 1):  49%|████▉     | 37/75 [00:06<00:06,  5.86it/s]"
     ]
    },
    {
     "name": "stdout",
     "output_type": "stream",
     "text": [
      "[2.23076923e+00 2.37179487e-02 1.95100000e+03 6.03000000e+02\n",
      " 3.50000000e+01 5.00000000e+00 5.00000000e+00 1.00000000e+00\n",
      " 0.00000000e+00 0.00000000e+00 0.00000000e+00 0.00000000e+00\n",
      " 0.00000000e+00 0.00000000e+00 0.00000000e+00 0.00000000e+00\n",
      " 0.00000000e+00 0.00000000e+00]\n"
     ]
    },
    {
     "name": "stderr",
     "output_type": "stream",
     "text": [
      "\r",
      "Generating walks (CPU: 2):  21%|██▏       | 16/75 [00:03<00:14,  4.15it/s]"
     ]
    },
    {
     "name": "stdout",
     "output_type": "stream",
     "text": [
      "Unk percentage: 0.0\n"
     ]
    },
    {
     "name": "stderr",
     "output_type": "stream",
     "text": [
      "Generating walks (CPU: 2):  23%|██▎       | 17/75 [00:04<00:15,  3.82it/s]"
     ]
    },
    {
     "name": "stdout",
     "output_type": "stream",
     "text": [
      "cluster began\n",
      "cluster end\n"
     ]
    },
    {
     "name": "stderr",
     "output_type": "stream",
     "text": [
      "Computing transition probabilities: 100%|██████████| 18/18 [00:00<00:00, 273.39it/s]\n",
      "Generating walks (CPU: 1):  53%|█████▎    | 40/75 [00:06<00:06,  5.72it/s]\n",
      "Generating walks (CPU: 2):  72%|███████▏  | 54/75 [00:12<00:04,  4.72it/s]\n",
      "Generating walks (CPU: 2):  35%|███▍      | 26/75 [00:04<00:09,  5.06it/s]"
     ]
    },
    {
     "name": "stdout",
     "output_type": "stream",
     "text": [
      "[2.07407407e+00 3.82716049e-02 2.26300000e+03 6.25000000e+02\n",
      " 3.00000000e+01 3.00000000e+00 3.00000000e+00 1.00000000e+00\n",
      " 0.00000000e+00 0.00000000e+00 0.00000000e+00 0.00000000e+00\n",
      " 0.00000000e+00 0.00000000e+00 0.00000000e+00 0.00000000e+00\n",
      " 0.00000000e+00 0.00000000e+00]\n",
      "Unk percentage: 0.0\n"
     ]
    },
    {
     "name": "stderr",
     "output_type": "stream",
     "text": [
      "Generating walks (CPU: 2):  89%|████████▉ | 67/75 [00:15<00:02,  3.94it/s]"
     ]
    },
    {
     "name": "stdout",
     "output_type": "stream",
     "text": [
      "cluster began\n"
     ]
    },
    {
     "name": "stderr",
     "output_type": "stream",
     "text": [
      "\r",
      "Generating walks (CPU: 2):  37%|███▋      | 28/75 [00:05<00:10,  4.45it/s]"
     ]
    },
    {
     "name": "stdout",
     "output_type": "stream",
     "text": [
      "cluster end\n"
     ]
    },
    {
     "name": "stderr",
     "output_type": "stream",
     "text": [
      "Computing transition probabilities: 100%|██████████| 15/15 [00:00<00:00, 471.51it/s]\n",
      "Generating walks (CPU: 2):  95%|█████████▍| 71/75 [00:16<00:01,  3.95it/s]\n",
      "Generating walks (CPU: 2):  53%|█████▎    | 40/75 [00:07<00:07,  4.61it/s]\n",
      "Generating walks (CPU: 3):  37%|███▋      | 28/75 [00:06<00:11,  4.19it/s]\n",
      "Generating walks (CPU: 3):  48%|████▊     | 36/75 [00:08<00:10,  3.75it/s]\n",
      "Generating walks (CPU: 2):  20%|██        | 15/75 [00:02<00:09,  6.34it/s]\n",
      "Generating walks (CPU: 3):  56%|█████▌    | 42/75 [00:06<00:06,  5.44it/s]\n",
      "Generating walks (CPU: 3):  99%|█████████▊| 74/75 [00:13<00:00,  5.58it/s]\n",
      "Generating walks (CPU: 3):   3%|▎         | 2/75 [00:00<00:05, 13.98it/s]]\n",
      "Generating walks (CPU: 4):  32%|███▏      | 24/75 [00:05<00:12,  4.05it/s]\n",
      "Generating walks (CPU: 4):  76%|███████▌  | 57/75 [00:10<00:03,  5.37it/s]\n",
      "Generating walks (CPU: 4):  36%|███▌      | 27/75 [00:03<00:06,  7.27it/s]\n",
      "Generating walks (CPU: 4):  99%|█████████▊| 74/75 [00:12<00:00,  6.05it/s]\n",
      "Generating walks (CPU: 4): 100%|██████████| 75/75 [00:12<00:00,  5.87it/s]"
     ]
    },
    {
     "name": "stdout",
     "output_type": "stream",
     "text": [
      "[  1.89473684   0.         680.         272.          17.\n",
      "   0.           0.           0.           0.           0.\n",
      "   0.           0.           0.           0.           0.\n",
      "   0.           0.           0.        ]\n",
      "Unk percentage: 0.022222222222222223\n"
     ]
    },
    {
     "name": "stderr",
     "output_type": "stream",
     "text": [
      "Generating walks (CPU: 4):  53%|█████▎    | 40/75 [00:05<00:05,  6.86it/s]\n",
      "Generating walks (CPU: 4):  57%|█████▋    | 43/75 [00:06<00:05,  5.98it/s]"
     ]
    },
    {
     "name": "stdout",
     "output_type": "stream",
     "text": [
      "cluster began\n"
     ]
    },
    {
     "name": "stderr",
     "output_type": "stream",
     "text": [
      "\r",
      "Generating walks (CPU: 4):  59%|█████▊    | 44/75 [00:06<00:05,  6.14it/s]"
     ]
    },
    {
     "name": "stdout",
     "output_type": "stream",
     "text": [
      "cluster end\n"
     ]
    },
    {
     "name": "stderr",
     "output_type": "stream",
     "text": [
      "Computing transition probabilities: 100%|██████████| 32/32 [00:00<00:00, 978.06it/s]\n",
      "Generating walks (CPU: 4):  69%|██████▉   | 52/75 [00:07<00:03,  5.96it/s]"
     ]
    },
    {
     "name": "stdout",
     "output_type": "stream",
     "text": [
      "[  2.58823529   0.         414.         208.          31.\n",
      "   6.           6.           0.           0.           9.\n",
      "   3.           3.           0.           0.           0.\n",
      "   0.           0.           0.        ]\n"
     ]
    },
    {
     "name": "stderr",
     "output_type": "stream",
     "text": [
      "\r",
      "Generating walks (CPU: 4):  71%|███████   | 53/75 [00:07<00:03,  6.05it/s]"
     ]
    },
    {
     "name": "stdout",
     "output_type": "stream",
     "text": [
      "Unk percentage: 0.0\n"
     ]
    },
    {
     "name": "stderr",
     "output_type": "stream",
     "text": [
      "Generating walks (CPU: 4):  76%|███████▌  | 57/75 [00:08<00:02,  6.97it/s]"
     ]
    },
    {
     "name": "stdout",
     "output_type": "stream",
     "text": [
      "[   2.37037037    0.         2219.          620.           45.\n",
      "    8.            8.            0.            0.           17.\n",
      "    4.            4.            0.            0.            0.\n",
      "    0.            0.            0.        ]\n",
      "Unk percentage: 0.0\n",
      "cluster began\n",
      "cluster end\n"
     ]
    },
    {
     "name": "stderr",
     "output_type": "stream",
     "text": [
      "Computing transition probabilities: 100%|██████████| 20/20 [00:00<00:00, 2318.58it/s]\n",
      "Generating walks (CPU: 1):   3%|▎         | 2/75 [00:00<00:07,  9.85it/s]]"
     ]
    },
    {
     "name": "stdout",
     "output_type": "stream",
     "text": [
      "cluster began\n"
     ]
    },
    {
     "name": "stderr",
     "output_type": "stream",
     "text": [
      "\r",
      "Generating walks (CPU: 4):  80%|████████  | 60/75 [00:08<00:02,  5.89it/s]"
     ]
    },
    {
     "name": "stdout",
     "output_type": "stream",
     "text": [
      "cluster end\n"
     ]
    },
    {
     "name": "stderr",
     "output_type": "stream",
     "text": [
      "Computing transition probabilities: 100%|██████████| 16/16 [00:00<00:00, 4537.14it/s]\n",
      "Generating walks (CPU: 1):  17%|█▋        | 13/75 [00:02<00:13,  4.60it/s]\n",
      "Generating walks (CPU: 1):  28%|██▊       | 21/75 [00:03<00:10,  5.33it/s]"
     ]
    },
    {
     "name": "stdout",
     "output_type": "stream",
     "text": [
      "[2.28571429e+00 7.27513228e-02 2.14000000e+02 1.15000000e+02\n",
      " 1.60000000e+01 3.00000000e+00 3.00000000e+00 1.00000000e+00\n",
      " 0.00000000e+00 6.00000000e+00 3.00000000e+00 3.00000000e+00\n",
      " 0.00000000e+00 0.00000000e+00 0.00000000e+00 0.00000000e+00\n",
      " 0.00000000e+00 0.00000000e+00]\n",
      "Unk percentage: 0.0\n"
     ]
    },
    {
     "name": "stderr",
     "output_type": "stream",
     "text": [
      "Generating walks (CPU: 1):  37%|███▋      | 28/75 [00:04<00:07,  6.51it/s]"
     ]
    },
    {
     "name": "stdout",
     "output_type": "stream",
     "text": [
      "cluster began\n",
      "cluster end\n"
     ]
    },
    {
     "name": "stderr",
     "output_type": "stream",
     "text": [
      "Computing transition probabilities: 100%|██████████| 30/30 [00:00<00:00, 534.73it/s]\n",
      "Generating walks (CPU: 1):  39%|███▊      | 29/75 [00:06<00:10,  4.25it/s]\n",
      "Generating walks (CPU: 2):  19%|█▊        | 14/75 [00:02<00:10,  6.05it/s]\n",
      "Generating walks (CPU: 2):  55%|█████▍    | 41/75 [00:06<00:04,  6.89it/s]\n",
      "Generating walks (CPU: 2):  27%|██▋       | 20/75 [00:04<00:12,  4.34it/s]\n",
      "Generating walks (CPU: 2):   0%|          | 0/75 [00:00<?, ?it/s]\n",
      "Generating walks (CPU: 2):  49%|████▉     | 37/75 [00:09<00:10,  3.74it/s]\n",
      "Generating walks (CPU: 3):  52%|█████▏    | 39/75 [00:07<00:06,  5.52it/s]\n",
      "Generating walks (CPU: 2):  83%|████████▎ | 62/75 [00:15<00:03,  3.49it/s]\n",
      "Generating walks (CPU: 2):  95%|█████████▍| 71/75 [00:18<00:01,  2.98it/s]\n",
      "Generating walks (CPU: 4):   8%|▊         | 6/75 [00:00<00:11,  6.14it/s]]\n",
      "Generating walks (CPU: 3):  23%|██▎       | 17/75 [00:03<00:13,  4.17it/s]\n",
      "Generating walks (CPU: 4):  49%|████▉     | 37/75 [00:06<00:07,  4.75it/s]"
     ]
    },
    {
     "name": "stdout",
     "output_type": "stream",
     "text": [
      "[2.40000000e+00 7.22222222e-02 2.62000000e+02 1.57000000e+02\n",
      " 1.70000000e+01 2.00000000e+00 3.00000000e+00 1.00000000e+00\n",
      " 0.00000000e+00 9.00000000e+00 2.00000000e+00 2.00000000e+00\n",
      " 0.00000000e+00 0.00000000e+00 0.00000000e+00 0.00000000e+00\n",
      " 0.00000000e+00 0.00000000e+00]\n",
      "Unk percentage: 0.0\n"
     ]
    },
    {
     "name": "stderr",
     "output_type": "stream",
     "text": [
      "Generating walks (CPU: 3):  35%|███▍      | 26/75 [00:06<00:12,  3.89it/s]"
     ]
    },
    {
     "name": "stdout",
     "output_type": "stream",
     "text": [
      "cluster began\n"
     ]
    },
    {
     "name": "stderr",
     "output_type": "stream",
     "text": [
      "\r",
      "Generating walks (CPU: 4):  55%|█████▍    | 41/75 [00:07<00:07,  4.76it/s]"
     ]
    },
    {
     "name": "stdout",
     "output_type": "stream",
     "text": [
      "cluster end\n"
     ]
    },
    {
     "name": "stderr",
     "output_type": "stream",
     "text": [
      "Computing transition probabilities: 100%|██████████| 24/24 [00:00<00:00, 1453.77it/s]\n",
      "Generating walks (CPU: 3):  69%|██████▉   | 52/75 [00:12<00:05,  4.14it/s]\n",
      "Generating walks (CPU: 3):  93%|█████████▎| 70/75 [00:18<00:01,  3.43it/s]"
     ]
    },
    {
     "name": "stdout",
     "output_type": "stream",
     "text": [
      "[  2.10526316   0.         669.         262.          19.\n",
      "   1.           1.           0.           0.          15.\n",
      "   1.           1.           0.           0.           0.\n",
      "   0.           0.           0.        ]\n"
     ]
    },
    {
     "name": "stderr",
     "output_type": "stream",
     "text": [
      "\r",
      "Generating walks (CPU: 1):  56%|█████▌    | 42/75 [00:08<00:06,  4.76it/s]"
     ]
    },
    {
     "name": "stdout",
     "output_type": "stream",
     "text": [
      "Unk percentage: 0.04\n"
     ]
    },
    {
     "name": "stderr",
     "output_type": "stream",
     "text": [
      "Generating walks (CPU: 1):  60%|██████    | 45/75 [00:09<00:05,  5.02it/s]"
     ]
    },
    {
     "name": "stdout",
     "output_type": "stream",
     "text": [
      "cluster began\n",
      "cluster end\n"
     ]
    },
    {
     "name": "stderr",
     "output_type": "stream",
     "text": [
      "Computing transition probabilities: 100%|██████████| 34/34 [00:00<00:00, 2129.22it/s]\n",
      "Generating walks (CPU: 1):   4%|▍         | 3/75 [00:00<00:11,  6.03it/s]]\n",
      "Generating walks (CPU: 4):  12%|█▏        | 9/75 [00:02<00:15,  4.17it/s]]\n",
      "Generating walks (CPU: 4):  17%|█▋        | 13/75 [00:03<00:15,  3.96it/s]\n",
      "Generating walks (CPU: 2):  89%|████████▉ | 67/75 [00:13<00:01,  5.29it/s]\n",
      "Generating walks (CPU: 2):  92%|█████████▏| 69/75 [00:14<00:01,  4.46it/s]\n",
      "Generating walks (CPU: 2):  95%|█████████▍| 71/75 [00:14<00:00,  4.46it/s]\n",
      "Generating walks (CPU: 2):   8%|▊         | 6/75 [00:01<00:18,  3.78it/s]]\n",
      "Generating walks (CPU: 2):  13%|█▎        | 10/75 [00:02<00:18,  3.57it/s]"
     ]
    },
    {
     "name": "stdout",
     "output_type": "stream",
     "text": [
      "[2.06451613e+00 0.00000000e+00 3.61000000e+03 8.42000000e+02\n",
      " 3.70000000e+01 3.00000000e+00 3.00000000e+00 0.00000000e+00\n",
      " 0.00000000e+00 0.00000000e+00 0.00000000e+00 0.00000000e+00\n",
      " 0.00000000e+00 0.00000000e+00 0.00000000e+00 0.00000000e+00\n",
      " 0.00000000e+00 0.00000000e+00]\n"
     ]
    },
    {
     "name": "stderr",
     "output_type": "stream",
     "text": [
      "\r",
      "Generating walks (CPU: 3):   7%|▋         | 5/75 [00:01<00:16,  4.23it/s]"
     ]
    },
    {
     "name": "stdout",
     "output_type": "stream",
     "text": [
      "Unk percentage: 0.0\n"
     ]
    },
    {
     "name": "stderr",
     "output_type": "stream",
     "text": [
      "Generating walks (CPU: 3):  11%|█         | 8/75 [00:01<00:15,  4.19it/s]]"
     ]
    },
    {
     "name": "stdout",
     "output_type": "stream",
     "text": [
      "[2.27586207e+00 6.99233716e-02 2.85200000e+03 7.16000000e+02\n",
      " 4.00000000e+01 1.00000000e+01 7.00000000e+00 2.00000000e+00\n",
      " 0.00000000e+00 2.60000000e+01 0.00000000e+00 1.00000000e+00\n",
      " 0.00000000e+00 0.00000000e+00 0.00000000e+00 0.00000000e+00\n",
      " 0.00000000e+00 0.00000000e+00]"
     ]
    },
    {
     "name": "stderr",
     "output_type": "stream",
     "text": [
      "\r",
      "Generating walks (CPU: 2):  17%|█▋        | 13/75 [00:03<00:17,  3.45it/s]"
     ]
    },
    {
     "name": "stdout",
     "output_type": "stream",
     "text": [
      "cluster began\n",
      "cluster end\n",
      "\n"
     ]
    },
    {
     "name": "stderr",
     "output_type": "stream",
     "text": [
      "\r",
      "Computing transition probabilities:   0%|          | 0/20 [00:00<?, ?it/s]"
     ]
    },
    {
     "name": "stdout",
     "output_type": "stream",
     "text": [
      "Unk percentage: 0.0\n"
     ]
    },
    {
     "name": "stderr",
     "output_type": "stream",
     "text": [
      "Computing transition probabilities: 100%|██████████| 20/20 [00:00<00:00, 1771.32it/s]\n",
      "Generating walks (CPU: 1):   5%|▌         | 4/75 [00:00<00:08,  8.02it/s]]"
     ]
    },
    {
     "name": "stdout",
     "output_type": "stream",
     "text": [
      "cluster began\n",
      "cluster end\n"
     ]
    },
    {
     "name": "stderr",
     "output_type": "stream",
     "text": [
      "Computing transition probabilities: 100%|██████████| 17/17 [00:00<00:00, 652.49it/s]\n",
      "Generating walks (CPU: 1): 100%|██████████| 75/75 [00:13<00:00,  5.66it/s]\n",
      "Generating walks (CPU: 2):  81%|████████▏ | 61/75 [00:16<00:04,  3.45it/s]\n",
      "Generating walks (CPU: 4):   0%|          | 0/75 [00:00<?, ?it/s]\n",
      "Generating walks (CPU: 2):  39%|███▊      | 29/75 [00:04<00:07,  6.38it/s]\n",
      "Generating walks (CPU: 2):  87%|████████▋ | 65/75 [00:11<00:01,  5.22it/s]\n",
      "Generating walks (CPU: 4):  89%|████████▉ | 67/75 [00:13<00:01,  4.70it/s]\n",
      "Generating walks (CPU: 3):  33%|███▎      | 25/75 [00:03<00:07,  6.26it/s]\n",
      "Generating walks (CPU: 3):  52%|█████▏    | 39/75 [00:06<00:05,  6.00it/s]"
     ]
    },
    {
     "name": "stdout",
     "output_type": "stream",
     "text": [
      "[   1.91304348    0.         1330.          420.           21.\n",
      "    0.            0.            0.            0.            0.\n",
      "    0.            0.            0.            0.            0.\n",
      "    0.            0.            0.        ]\n"
     ]
    },
    {
     "name": "stderr",
     "output_type": "stream",
     "text": [
      "\r",
      "Generating walks (CPU: 3):  31%|███       | 23/75 [00:04<00:11,  4.61it/s]"
     ]
    },
    {
     "name": "stdout",
     "output_type": "stream",
     "text": [
      "Unk percentage: 0.0\n"
     ]
    },
    {
     "name": "stderr",
     "output_type": "stream",
     "text": [
      "Generating walks (CPU: 3):  57%|█████▋    | 43/75 [00:06<00:05,  5.86it/s]"
     ]
    },
    {
     "name": "stdout",
     "output_type": "stream",
     "text": [
      "cluster began\n",
      "cluster end\n"
     ]
    },
    {
     "name": "stderr",
     "output_type": "stream",
     "text": [
      "Computing transition probabilities: 100%|██████████| 14/14 [00:00<00:00, 1172.55it/s]\n",
      "Generating walks (CPU: 3):  99%|█████████▊| 74/75 [00:19<00:00,  3.95it/s]\n",
      "Generating walks (CPU: 4):   4%|▍         | 3/75 [00:00<00:08,  8.23it/s]]\n",
      "Generating walks (CPU: 4):  15%|█▍        | 11/75 [00:02<00:18,  3.50it/s]\n",
      "Generating walks (CPU: 4):   8%|▊         | 6/75 [00:00<00:10,  6.36it/s]]\n",
      "Generating walks (CPU: 2):  75%|███████▍  | 56/75 [00:07<00:02,  7.67it/s]\n",
      "Generating walks (CPU: 2):  89%|████████▉ | 67/75 [00:09<00:01,  6.26it/s]"
     ]
    },
    {
     "name": "stdout",
     "output_type": "stream",
     "text": [
      "[  1.875   0.    364.    182.     14.      0.      0.      0.      0.\n",
      "   0.      0.      0.      0.      0.      0.      0.      0.      0.   ]\n",
      "Unk percentage: 0.018867924528301886\n"
     ]
    },
    {
     "name": "stderr",
     "output_type": "stream",
     "text": [
      "Generating walks (CPU: 4):  81%|████████▏ | 61/75 [00:11<00:02,  5.35it/s]"
     ]
    },
    {
     "name": "stdout",
     "output_type": "stream",
     "text": [
      "cluster began\n",
      "cluster end\n"
     ]
    },
    {
     "name": "stderr",
     "output_type": "stream",
     "text": [
      "Computing transition probabilities: 100%|██████████| 28/28 [00:00<00:00, 3540.67it/s]\n",
      "Generating walks (CPU: 4):  67%|██████▋   | 50/75 [00:14<00:07,  3.38it/s]\n",
      "Generating walks (CPU: 3):  24%|██▍       | 18/75 [00:02<00:07,  7.29it/s]\n",
      "Generating walks (CPU: 3):  48%|████▊     | 36/75 [00:04<00:05,  7.04it/s]"
     ]
    },
    {
     "name": "stdout",
     "output_type": "stream",
     "text": [
      "[  2.21052632   0.         644.         293.          24.\n",
      "   4.           4.           0.           0.           0.\n",
      "   0.           0.           0.           0.           0.\n",
      "   0.           0.           0.        ]\n"
     ]
    },
    {
     "name": "stderr",
     "output_type": "stream",
     "text": [
      "\r",
      "Generating walks (CPU: 1):  27%|██▋       | 20/75 [00:04<00:12,  4.34it/s]"
     ]
    },
    {
     "name": "stdout",
     "output_type": "stream",
     "text": [
      "Unk percentage: 0.0\n"
     ]
    },
    {
     "name": "stderr",
     "output_type": "stream",
     "text": [
      "Generating walks (CPU: 3):  55%|█████▍    | 41/75 [00:05<00:04,  7.00it/s]"
     ]
    },
    {
     "name": "stdout",
     "output_type": "stream",
     "text": [
      "cluster began\n",
      "cluster end\n"
     ]
    },
    {
     "name": "stderr",
     "output_type": "stream",
     "text": [
      "Computing transition probabilities: 100%|██████████| 16/16 [00:00<00:00, 1928.42it/s]\n",
      "Generating walks (CPU: 3):  83%|████████▎ | 62/75 [00:08<00:01,  7.67it/s]\n",
      "Generating walks (CPU: 1):  40%|████      | 30/75 [00:04<00:09,  4.93it/s]\n",
      "Generating walks (CPU: 4):  12%|█▏        | 9/75 [00:01<00:08,  8.17it/s]]"
     ]
    },
    {
     "name": "stdout",
     "output_type": "stream",
     "text": [
      "[2.06060606e+00 2.02020202e-02 4.44200000e+03 9.75000000e+02\n",
      " 3.40000000e+01 2.00000000e+00 2.00000000e+00 1.00000000e+00\n",
      " 0.00000000e+00 0.00000000e+00 0.00000000e+00 0.00000000e+00\n",
      " 0.00000000e+00 0.00000000e+00 0.00000000e+00 0.00000000e+00\n",
      " 0.00000000e+00 0.00000000e+00]\n"
     ]
    },
    {
     "name": "stderr",
     "output_type": "stream",
     "text": [
      "Generating walks (CPU: 1):  63%|██████▎   | 47/75 [00:11<00:06,  4.42it/s]"
     ]
    },
    {
     "name": "stdout",
     "output_type": "stream",
     "text": [
      "Unk percentage: 0.0\n"
     ]
    },
    {
     "name": "stderr",
     "output_type": "stream",
     "text": [
      "Generating walks (CPU: 1):  57%|█████▋    | 43/75 [00:06<00:04,  6.81it/s]"
     ]
    },
    {
     "name": "stdout",
     "output_type": "stream",
     "text": [
      "cluster began\n",
      "cluster end\n"
     ]
    },
    {
     "name": "stderr",
     "output_type": "stream",
     "text": [
      "Computing transition probabilities: 100%|██████████| 20/20 [00:00<00:00, 3786.33it/s]\n",
      "Generating walks (CPU: 1):  92%|█████████▏| 69/75 [00:17<00:01,  3.97it/s]\n",
      "Generating walks (CPU: 2):  15%|█▍        | 11/75 [00:01<00:09,  6.82it/s]\n",
      "Generating walks (CPU: 4): 100%|██████████| 75/75 [00:10<00:00,  7.16it/s]\n",
      "Generating walks (CPU: 1):  73%|███████▎  | 55/75 [00:09<00:03,  6.34it/s]"
     ]
    },
    {
     "name": "stdout",
     "output_type": "stream",
     "text": [
      "[  2.   0. 159. 111.  14.   1.   1.   0.   0.   0.   0.   0.   0.   0.\n",
      "   0.   0.   0.   0.]\n"
     ]
    },
    {
     "name": "stderr",
     "output_type": "stream",
     "text": [
      "\r",
      "Generating walks (CPU: 2):  21%|██▏       | 16/75 [00:03<00:12,  4.74it/s]"
     ]
    },
    {
     "name": "stdout",
     "output_type": "stream",
     "text": [
      "Unk percentage: 0.0\n"
     ]
    },
    {
     "name": "stderr",
     "output_type": "stream",
     "text": [
      "Generating walks (CPU: 2):  25%|██▌       | 19/75 [00:03<00:11,  4.78it/s]"
     ]
    },
    {
     "name": "stdout",
     "output_type": "stream",
     "text": [
      "cluster began\n",
      "cluster end\n"
     ]
    },
    {
     "name": "stderr",
     "output_type": "stream",
     "text": [
      "Computing transition probabilities: 100%|██████████| 21/21 [00:00<00:00, 3866.91it/s]\n",
      "Generating walks (CPU: 1):  23%|██▎       | 17/75 [00:03<00:10,  5.50it/s]\n",
      "Generating walks (CPU: 1):  44%|████▍     | 33/75 [00:06<00:07,  5.34it/s]\n",
      "Generating walks (CPU: 3):  64%|██████▍   | 48/75 [00:07<00:04,  6.16it/s]\n",
      "Generating walks (CPU: 2):  81%|████████▏ | 61/75 [00:10<00:02,  4.97it/s]\n",
      "Generating walks (CPU: 3):  15%|█▍        | 11/75 [00:03<00:17,  3.63it/s]\n",
      "Generating walks (CPU: 3):   9%|▉         | 7/75 [00:01<00:12,  5.23it/s]]\n",
      "Generating walks (CPU: 3):  84%|████████▍ | 63/75 [00:12<00:02,  5.60it/s]\n",
      "Generating walks (CPU: 3):   5%|▌         | 4/75 [00:00<00:09,  7.61it/s]]\n",
      "Generating walks (CPU: 3):  91%|█████████ | 68/75 [00:17<00:02,  3.26it/s]\n"
     ]
    },
    {
     "name": "stdout",
     "output_type": "stream",
     "text": [
      "[  2.4   0.  259.  162.   18.    2.    1.    0.    0.    9.    2.    2.\n",
      "   0.    0.    0.    0.    0.    0. ]"
     ]
    },
    {
     "name": "stderr",
     "output_type": "stream",
     "text": [
      "\r",
      "Generating walks (CPU: 4):   0%|          | 0/75 [00:00<?, ?it/s]"
     ]
    },
    {
     "name": "stdout",
     "output_type": "stream",
     "text": [
      "\n"
     ]
    },
    {
     "name": "stderr",
     "output_type": "stream",
     "text": [
      "\r",
      "Generating walks (CPU: 3):  17%|█▋        | 13/75 [00:02<00:12,  4.80it/s]"
     ]
    },
    {
     "name": "stdout",
     "output_type": "stream",
     "text": [
      "Unk percentage: 0.02564102564102564\n"
     ]
    },
    {
     "name": "stderr",
     "output_type": "stream",
     "text": [
      "Generating walks (CPU: 3):  95%|█████████▍| 71/75 [00:18<00:01,  3.92it/s]"
     ]
    },
    {
     "name": "stdout",
     "output_type": "stream",
     "text": [
      "cluster began\n"
     ]
    },
    {
     "name": "stderr",
     "output_type": "stream",
     "text": [
      "\r",
      "Generating walks (CPU: 4):   7%|▋         | 5/75 [00:00<00:08,  7.83it/s]"
     ]
    },
    {
     "name": "stdout",
     "output_type": "stream",
     "text": [
      "cluster end\n"
     ]
    },
    {
     "name": "stderr",
     "output_type": "stream",
     "text": [
      "Computing transition probabilities: 100%|██████████| 24/24 [00:00<00:00, 1784.65it/s]\n",
      "Generating walks (CPU: 4):  17%|█▋        | 13/75 [00:01<00:10,  6.14it/s]\n",
      "Generating walks (CPU: 4):  84%|████████▍ | 63/75 [00:10<00:02,  5.72it/s]\n",
      "Generating walks (CPU: 4):  65%|██████▌   | 49/75 [00:10<00:06,  3.82it/s]\n",
      "Generating walks (CPU: 4):  27%|██▋       | 20/75 [00:03<00:11,  4.87it/s]"
     ]
    },
    {
     "name": "stdout",
     "output_type": "stream",
     "text": [
      "[2.63157895e+00 1.77387914e-02 6.15000000e+02 2.91000000e+02\n",
      " 3.20000000e+01 7.00000000e+00 5.00000000e+00 1.00000000e+00\n",
      " 1.00000000e+00 1.10000000e+01 3.00000000e+00 3.00000000e+00\n",
      " 0.00000000e+00 0.00000000e+00 0.00000000e+00 0.00000000e+00\n",
      " 0.00000000e+00 0.00000000e+00]\n"
     ]
    },
    {
     "name": "stderr",
     "output_type": "stream",
     "text": [
      "\r",
      "Generating walks (CPU: 1):  88%|████████▊ | 66/75 [00:14<00:02,  4.09it/s]"
     ]
    },
    {
     "name": "stdout",
     "output_type": "stream",
     "text": [
      "Unk percentage: 0.0\n"
     ]
    },
    {
     "name": "stderr",
     "output_type": "stream",
     "text": [
      "Generating walks (CPU: 4):  32%|███▏      | 24/75 [00:04<00:09,  5.26it/s]"
     ]
    },
    {
     "name": "stdout",
     "output_type": "stream",
     "text": [
      "cluster began\n",
      "cluster end\n"
     ]
    },
    {
     "name": "stderr",
     "output_type": "stream",
     "text": [
      "Computing transition probabilities: 100%|██████████| 17/17 [00:00<00:00, 4648.49it/s]\n",
      "Generating walks (CPU: 4):  41%|████▏     | 31/75 [00:05<00:08,  5.12it/s]\n",
      "Generating walks (CPU: 4):  60%|██████    | 45/75 [00:08<00:05,  5.87it/s]\n",
      "Generating walks (CPU: 1):  57%|█████▋    | 43/75 [00:06<00:05,  6.25it/s]"
     ]
    },
    {
     "name": "stdout",
     "output_type": "stream",
     "text": [
      "[2.22222222e+00 4.01234568e-02 2.24200000e+03 6.21000000e+02\n",
      " 3.00000000e+01 3.00000000e+00 3.00000000e+00 1.00000000e+00\n",
      " 0.00000000e+00 2.10000000e+01 2.00000000e+00 2.00000000e+00\n",
      " 0.00000000e+00 0.00000000e+00 0.00000000e+00 0.00000000e+00\n",
      " 0.00000000e+00 0.00000000e+00]"
     ]
    },
    {
     "name": "stderr",
     "output_type": "stream",
     "text": [
      "\r",
      "Generating walks (CPU: 2):  33%|███▎      | 25/75 [00:05<00:11,  4.31it/s]"
     ]
    },
    {
     "name": "stdout",
     "output_type": "stream",
     "text": [
      "\n"
     ]
    },
    {
     "name": "stderr",
     "output_type": "stream",
     "text": [
      "\r",
      "Generating walks (CPU: 4):  76%|███████▌  | 57/75 [00:11<00:03,  5.09it/s]"
     ]
    },
    {
     "name": "stdout",
     "output_type": "stream",
     "text": [
      "Unk percentage: 0.0\n"
     ]
    },
    {
     "name": "stderr",
     "output_type": "stream",
     "text": [
      "Generating walks (CPU: 1):  64%|██████▍   | 48/75 [00:07<00:04,  6.36it/s]"
     ]
    },
    {
     "name": "stdout",
     "output_type": "stream",
     "text": [
      "cluster began\n",
      "cluster end\n"
     ]
    },
    {
     "name": "stderr",
     "output_type": "stream",
     "text": [
      "Computing transition probabilities: 100%|██████████| 20/20 [00:00<00:00, 2200.35it/s]\n",
      "Generating walks (CPU: 1):  85%|████████▌ | 64/75 [00:09<00:01,  6.12it/s]\n",
      "Generating walks (CPU: 1): 100%|██████████| 75/75 [00:11<00:00,  5.11it/s]"
     ]
    },
    {
     "name": "stdout",
     "output_type": "stream",
     "text": [
      "[  2.   0. 803. 314.  21.   1.   1.   0.   0.   0.   0.   0.   0.   0.\n",
      "   0.   0.   0.   0.]\n"
     ]
    },
    {
     "name": "stderr",
     "output_type": "stream",
     "text": [
      "Generating walks (CPU: 2):  67%|██████▋   | 50/75 [00:10<00:06,  4.01it/s]"
     ]
    },
    {
     "name": "stdout",
     "output_type": "stream",
     "text": [
      "Unk percentage: 0.0\n"
     ]
    },
    {
     "name": "stderr",
     "output_type": "stream",
     "text": [
      "\n",
      "Generating walks (CPU: 1):  41%|████▏     | 31/75 [00:05<00:08,  5.38it/s]"
     ]
    },
    {
     "name": "stdout",
     "output_type": "stream",
     "text": [
      "cluster began\n"
     ]
    },
    {
     "name": "stderr",
     "output_type": "stream",
     "text": [
      "\r",
      "Generating walks (CPU: 2):   8%|▊         | 6/75 [00:00<00:07,  8.93it/s]"
     ]
    },
    {
     "name": "stdout",
     "output_type": "stream",
     "text": [
      "cluster end\n"
     ]
    },
    {
     "name": "stderr",
     "output_type": "stream",
     "text": [
      "Computing transition probabilities: 100%|██████████| 29/29 [00:00<00:00, 2228.23it/s]\n",
      "Generating walks (CPU: 1):  25%|██▌       | 19/75 [00:04<00:13,  4.17it/s]\n",
      "Generating walks (CPU: 2):  81%|████████▏ | 61/75 [00:08<00:02,  6.10it/s]\n",
      "Generating walks (CPU: 3):  33%|███▎      | 25/75 [00:05<00:12,  3.86it/s]\n",
      "Generating walks (CPU: 3):  72%|███████▏  | 54/75 [00:08<00:03,  6.55it/s]\n",
      "Generating walks (CPU: 2):  89%|████████▉ | 67/75 [00:12<00:01,  5.50it/s]\n",
      "Generating walks (CPU: 3):  97%|█████████▋| 73/75 [00:11<00:00,  6.61it/s]\n",
      "Generating walks (CPU: 3):   4%|▍         | 3/75 [00:00<00:08,  8.19it/s]]\n",
      "Generating walks (CPU: 4):  87%|████████▋ | 65/75 [00:13<00:02,  4.26it/s]\n",
      "Generating walks (CPU: 2):  91%|█████████ | 68/75 [00:16<00:01,  3.72it/s]\n",
      "Generating walks (CPU: 2):  93%|█████████▎| 70/75 [00:17<00:01,  3.33it/s]"
     ]
    },
    {
     "name": "stdout",
     "output_type": "stream",
     "text": [
      "[2.25000000e+00 6.47321429e-02 3.58000000e+02 1.59000000e+02\n",
      " 1.20000000e+01 1.00000000e+00 1.00000000e+00 1.00000000e+00\n",
      " 0.00000000e+00 2.20000000e+01 3.00000000e+00 3.00000000e+00\n",
      " 0.00000000e+00 0.00000000e+00 0.00000000e+00 0.00000000e+00\n",
      " 0.00000000e+00 0.00000000e+00]\n"
     ]
    },
    {
     "name": "stderr",
     "output_type": "stream",
     "text": [
      "\r",
      "Generating walks (CPU: 4):   5%|▌         | 4/75 [00:00<00:11,  5.95it/s]"
     ]
    },
    {
     "name": "stdout",
     "output_type": "stream",
     "text": [
      "Unk percentage: 0.0\n"
     ]
    },
    {
     "name": "stderr",
     "output_type": "stream",
     "text": [
      "Generating walks (CPU: 4): 100%|██████████| 75/75 [00:16<00:00,  4.16it/s]"
     ]
    },
    {
     "name": "stdout",
     "output_type": "stream",
     "text": [
      "cluster began\n",
      "cluster end\n"
     ]
    },
    {
     "name": "stderr",
     "output_type": "stream",
     "text": [
      "Computing transition probabilities: 100%|██████████| 30/30 [00:00<00:00, 2159.97it/s]\n",
      "Generating walks (CPU: 4):  13%|█▎        | 10/75 [00:01<00:11,  5.87it/s]\n",
      "Generating walks (CPU: 4):  17%|█▋        | 13/75 [00:02<00:11,  5.24it/s]\n",
      "Generating walks (CPU: 4):  28%|██▊       | 21/75 [00:03<00:10,  4.94it/s]"
     ]
    },
    {
     "name": "stdout",
     "output_type": "stream",
     "text": [
      "[2.17391304e+00 4.49275362e-02 1.28500000e+03 4.48000000e+02\n",
      " 2.90000000e+01 4.00000000e+00 4.00000000e+00 1.00000000e+00\n",
      " 0.00000000e+00 0.00000000e+00 0.00000000e+00 0.00000000e+00\n",
      " 0.00000000e+00 0.00000000e+00 0.00000000e+00 0.00000000e+00\n",
      " 0.00000000e+00 0.00000000e+00]\n",
      "Unk percentage: 0.0\n"
     ]
    },
    {
     "name": "stderr",
     "output_type": "stream",
     "text": [
      "Generating walks (CPU: 4):  35%|███▍      | 26/75 [00:04<00:08,  5.81it/s]"
     ]
    },
    {
     "name": "stdout",
     "output_type": "stream",
     "text": [
      "cluster began\n"
     ]
    },
    {
     "name": "stderr",
     "output_type": "stream",
     "text": [
      "\r",
      "Generating walks (CPU: 3):  13%|█▎        | 10/75 [00:02<00:17,  3.75it/s]"
     ]
    },
    {
     "name": "stdout",
     "output_type": "stream",
     "text": [
      "cluster end\n"
     ]
    },
    {
     "name": "stderr",
     "output_type": "stream",
     "text": [
      "Computing transition probabilities: 100%|██████████| 29/29 [00:00<00:00, 1035.83it/s]\n",
      "Generating walks (CPU: 1):  63%|██████▎   | 47/75 [00:12<00:06,  4.14it/s]\n",
      "Generating walks (CPU: 1):  63%|██████▎   | 47/75 [00:10<00:07,  3.94it/s]"
     ]
    },
    {
     "name": "stdout",
     "output_type": "stream",
     "text": [
      "[  2.   0. 668. 279.  20.   1.   1.   0.   0.   0.   0.   0.   0.   0.\n",
      "   0.   0.   0.   0.]\n"
     ]
    },
    {
     "name": "stderr",
     "output_type": "stream",
     "text": [
      "\r",
      "Generating walks (CPU: 1):  76%|███████▌  | 57/75 [00:14<00:04,  4.17it/s]"
     ]
    },
    {
     "name": "stdout",
     "output_type": "stream",
     "text": [
      "Unk percentage: 0.0\n"
     ]
    },
    {
     "name": "stderr",
     "output_type": "stream",
     "text": [
      "Generating walks (CPU: 1):  80%|████████  | 60/75 [00:15<00:03,  4.16it/s]"
     ]
    },
    {
     "name": "stdout",
     "output_type": "stream",
     "text": [
      "cluster began\n",
      "cluster end\n"
     ]
    },
    {
     "name": "stderr",
     "output_type": "stream",
     "text": [
      "Computing transition probabilities: 100%|██████████| 23/23 [00:00<00:00, 1919.90it/s]\n",
      "Generating walks (CPU: 1): 100%|██████████| 75/75 [00:19<00:00,  4.23it/s]\n",
      "Generating walks (CPU: 1):  88%|████████▊ | 66/75 [00:15<00:02,  4.25it/s]\n",
      "Generating walks (CPU: 1):  44%|████▍     | 33/75 [00:06<00:07,  5.66it/s]\n",
      "Generating walks (CPU: 2):  57%|█████▋    | 43/75 [00:10<00:08,  3.84it/s]\n",
      "Generating walks (CPU: 2):  99%|█████████▊| 74/75 [00:18<00:00,  3.82it/s]\n",
      "Generating walks (CPU: 2):  91%|█████████ | 68/75 [00:16<00:02,  3.40it/s]\n",
      "Generating walks (CPU: 2):  99%|█████████▊| 74/75 [00:18<00:00,  3.06it/s]"
     ]
    },
    {
     "name": "stdout",
     "output_type": "stream",
     "text": [
      "[2.07142857e+00 0.00000000e+00 2.55800000e+03 6.82000000e+02\n",
      " 3.20000000e+01 2.00000000e+00 2.00000000e+00 0.00000000e+00\n",
      " 0.00000000e+00 0.00000000e+00 0.00000000e+00 0.00000000e+00\n",
      " 0.00000000e+00 0.00000000e+00 0.00000000e+00 0.00000000e+00\n",
      " 0.00000000e+00 0.00000000e+00]"
     ]
    },
    {
     "name": "stderr",
     "output_type": "stream",
     "text": [
      "\r",
      "Generating walks (CPU: 2):  68%|██████▊   | 51/75 [00:10<00:06,  3.97it/s]"
     ]
    },
    {
     "name": "stdout",
     "output_type": "stream",
     "text": [
      "\n"
     ]
    },
    {
     "name": "stderr",
     "output_type": "stream",
     "text": [
      "\r",
      "Generating walks (CPU: 3):   9%|▉         | 7/75 [00:02<00:19,  3.41it/s]"
     ]
    },
    {
     "name": "stdout",
     "output_type": "stream",
     "text": [
      "Unk percentage: 0.0\n"
     ]
    },
    {
     "name": "stderr",
     "output_type": "stream",
     "text": [
      "Generating walks (CPU: 3):  12%|█▏        | 9/75 [00:02<00:19,  3.42it/s]]\n",
      "Generating walks (CPU: 2):  72%|███████▏  | 54/75 [00:11<00:05,  4.06it/s]"
     ]
    },
    {
     "name": "stdout",
     "output_type": "stream",
     "text": [
      "cluster began\n",
      "cluster end\n"
     ]
    },
    {
     "name": "stderr",
     "output_type": "stream",
     "text": [
      "Computing transition probabilities: 100%|██████████| 14/14 [00:00<00:00, 1621.75it/s]\n",
      "Generating walks (CPU: 3):  36%|███▌      | 27/75 [00:06<00:09,  4.81it/s]\n",
      "Generating walks (CPU: 3):  71%|███████   | 53/75 [00:13<00:05,  4.25it/s]\n",
      "Generating walks (CPU: 2):  57%|█████▋    | 43/75 [00:05<00:04,  7.12it/s]\n",
      "Generating walks (CPU: 4):  17%|█▋        | 13/75 [00:02<00:16,  3.79it/s]\n",
      "Generating walks (CPU: 4):   5%|▌         | 4/75 [00:00<00:12,  5.90it/s]]\n",
      "Generating walks (CPU: 4):   7%|▋         | 5/75 [00:00<00:10,  6.73it/s]]\n",
      "Generating walks (CPU: 4):  79%|███████▊  | 59/75 [00:14<00:03,  4.10it/s]\n",
      "Generating walks (CPU: 4): 100%|██████████| 75/75 [00:18<00:00,  3.98it/s]\n",
      "Generating walks (CPU: 4):  89%|████████▉ | 67/75 [00:16<00:01,  4.01it/s]\n",
      "Generating walks (CPU: 4):  59%|█████▊    | 44/75 [00:06<00:07,  4.08it/s]"
     ]
    },
    {
     "name": "stdout",
     "output_type": "stream",
     "text": [
      "[2.27272727e+00 2.75974026e-02 1.08500000e+03 4.11000000e+02\n",
      " 3.10000000e+01 6.00000000e+00 6.00000000e+00 1.00000000e+00\n",
      " 0.00000000e+00 0.00000000e+00 0.00000000e+00 0.00000000e+00\n",
      " 0.00000000e+00 0.00000000e+00 0.00000000e+00 0.00000000e+00\n",
      " 0.00000000e+00 0.00000000e+00]\n",
      "Unk percentage: 0.0\n"
     ]
    },
    {
     "name": "stderr",
     "output_type": "stream",
     "text": [
      "Generating walks (CPU: 4):  67%|██████▋   | 50/75 [00:07<00:04,  5.17it/s]\n"
     ]
    },
    {
     "name": "stdout",
     "output_type": "stream",
     "text": [
      "[2.27586207e+00 3.48659004e-02 2.83800000e+03 7.42000000e+02\n",
      " 5.10000000e+01 1.10000000e+01 1.10000000e+01 1.00000000e+00\n",
      " 0.00000000e+00 0.00000000e+00 0.00000000e+00 0.00000000e+00\n",
      " 0.00000000e+00 0.00000000e+00 0.00000000e+00 0.00000000e+00\n",
      " 0.00000000e+00 0.00000000e+00]\n",
      "Unk percentage: 0.0\n"
     ]
    },
    {
     "name": "stderr",
     "output_type": "stream",
     "text": [
      "\r",
      "Generating walks (CPU: 4):  68%|██████▊   | 51/75 [00:07<00:04,  5.06it/s]"
     ]
    },
    {
     "name": "stdout",
     "output_type": "stream",
     "text": [
      "cluster began\n",
      "cluster end\n"
     ]
    },
    {
     "name": "stderr",
     "output_type": "stream",
     "text": [
      "Computing transition probabilities: 100%|██████████| 12/12 [00:00<00:00, 1457.83it/s]\n",
      "Generating walks (CPU: 4):  76%|███████▌  | 57/75 [00:08<00:03,  4.93it/s]"
     ]
    },
    {
     "name": "stdout",
     "output_type": "stream",
     "text": [
      "cluster began\n",
      "cluster end\n"
     ]
    },
    {
     "name": "stderr",
     "output_type": "stream",
     "text": [
      "Computing transition probabilities: 100%|██████████| 18/18 [00:00<00:00, 2914.74it/s]\n",
      "Generating walks (CPU: 4):  87%|████████▋ | 65/75 [00:10<00:01,  6.88it/s]"
     ]
    },
    {
     "name": "stdout",
     "output_type": "stream",
     "text": [
      "[2.35714286e+00 0.00000000e+00 2.49900000e+03 7.00000000e+02\n",
      " 4.00000000e+01 5.00000000e+00 6.00000000e+00 0.00000000e+00\n",
      " 0.00000000e+00 2.20000000e+01 2.00000000e+00 2.00000000e+00\n",
      " 0.00000000e+00 0.00000000e+00 0.00000000e+00 0.00000000e+00\n",
      " 0.00000000e+00 0.00000000e+00]"
     ]
    },
    {
     "name": "stderr",
     "output_type": "stream",
     "text": [
      "\r",
      "Generating walks (CPU: 4):  88%|████████▊ | 66/75 [00:10<00:01,  7.51it/s]"
     ]
    },
    {
     "name": "stdout",
     "output_type": "stream",
     "text": [
      "\n"
     ]
    },
    {
     "name": "stderr",
     "output_type": "stream",
     "text": [
      "Generating walks (CPU: 1):  11%|█         | 8/75 [00:01<00:11,  5.73it/s]]"
     ]
    },
    {
     "name": "stdout",
     "output_type": "stream",
     "text": [
      "Unk percentage: 0.017857142857142856\n"
     ]
    },
    {
     "name": "stderr",
     "output_type": "stream",
     "text": [
      "Generating walks (CPU: 1):  28%|██▊       | 21/75 [00:03<00:07,  7.52it/s]"
     ]
    },
    {
     "name": "stdout",
     "output_type": "stream",
     "text": [
      "cluster began\n",
      "cluster end\n"
     ]
    },
    {
     "name": "stderr",
     "output_type": "stream",
     "text": [
      "Computing transition probabilities: 100%|██████████| 29/29 [00:00<00:00, 2792.09it/s]\n",
      "Generating walks (CPU: 1):  32%|███▏      | 24/75 [00:03<00:06,  7.59it/s]\n",
      "Generating walks (CPU: 1):  31%|███       | 23/75 [00:03<00:07,  6.91it/s]"
     ]
    },
    {
     "name": "stdout",
     "output_type": "stream",
     "text": [
      "[  1.84615385   0.         165.         110.          11.\n",
      "   0.           0.           0.           0.           0.\n",
      "   0.           0.           0.           0.           0.\n",
      "   0.           0.           0.        ]"
     ]
    },
    {
     "name": "stderr",
     "output_type": "stream",
     "text": [
      "\r",
      "Generating walks (CPU: 1):  48%|████▊     | 36/75 [00:05<00:04,  8.74it/s]"
     ]
    },
    {
     "name": "stdout",
     "output_type": "stream",
     "text": [
      "\n"
     ]
    },
    {
     "name": "stderr",
     "output_type": "stream",
     "text": [
      "\r",
      "Generating walks (CPU: 1):  11%|█         | 8/75 [00:01<00:15,  4.39it/s]"
     ]
    },
    {
     "name": "stdout",
     "output_type": "stream",
     "text": [
      "Unk percentage: 0.0\n"
     ]
    },
    {
     "name": "stderr",
     "output_type": "stream",
     "text": [
      "Generating walks (CPU: 1):  37%|███▋      | 28/75 [00:04<00:07,  6.55it/s]"
     ]
    },
    {
     "name": "stdout",
     "output_type": "stream",
     "text": [
      "cluster began\n"
     ]
    },
    {
     "name": "stderr",
     "output_type": "stream",
     "text": [
      "\r",
      "Generating walks (CPU: 1):  59%|█████▊    | 44/75 [00:05<00:03,  9.49it/s]"
     ]
    },
    {
     "name": "stdout",
     "output_type": "stream",
     "text": [
      "cluster end\n"
     ]
    },
    {
     "name": "stderr",
     "output_type": "stream",
     "text": [
      "Computing transition probabilities: 100%|██████████| 14/14 [00:00<00:00, 1755.36it/s]\n",
      "Generating walks (CPU: 1):  44%|████▍     | 33/75 [00:03<00:05,  7.61it/s]\n",
      "Generating walks (CPU: 1):  84%|████████▍ | 63/75 [00:07<00:01,  8.09it/s]\n",
      "Generating walks (CPU: 2):  72%|███████▏  | 54/75 [00:05<00:02,  7.50it/s]\n",
      "Generating walks (CPU: 1):  80%|████████  | 60/75 [00:15<00:04,  3.51it/s]\n",
      "Generating walks (CPU: 2):  64%|██████▍   | 48/75 [00:06<00:03,  7.48it/s]\n",
      "Generating walks (CPU: 2): 100%|██████████| 75/75 [00:12<00:00,  5.60it/s]\n",
      "Generating walks (CPU: 3):  99%|█████████▊| 74/75 [00:07<00:00,  9.15it/s]\n",
      "Generating walks (CPU: 3):   5%|▌         | 4/75 [00:00<00:06, 11.06it/s]]\n",
      "Generating walks (CPU: 4): 100%|██████████| 75/75 [00:08<00:00,  8.62it/s]\n",
      "Generating walks (CPU: 2):  73%|███████▎  | 55/75 [00:13<00:05,  3.64it/s]"
     ]
    },
    {
     "name": "stdout",
     "output_type": "stream",
     "text": [
      "[ 1.81818182  0.         84.         72.          9.          0.\n",
      "  0.          0.          0.          0.          0.          0.\n",
      "  0.          0.          0.          0.          0.          0.        ]"
     ]
    },
    {
     "name": "stderr",
     "output_type": "stream",
     "text": [
      "\r",
      "Generating walks (CPU: 3):  73%|███████▎  | 55/75 [00:09<00:04,  4.17it/s]"
     ]
    },
    {
     "name": "stdout",
     "output_type": "stream",
     "text": [
      "\n",
      "Unk percentage: 0.0\n"
     ]
    },
    {
     "name": "stderr",
     "output_type": "stream",
     "text": [
      "Generating walks (CPU: 3):  80%|████████  | 60/75 [00:10<00:02,  5.36it/s]\n",
      "Generating walks (CPU: 4):   3%|▎         | 2/75 [00:00<00:03, 18.63it/s]]"
     ]
    },
    {
     "name": "stdout",
     "output_type": "stream",
     "text": [
      "cluster began\n",
      "cluster end\n"
     ]
    },
    {
     "name": "stderr",
     "output_type": "stream",
     "text": [
      "Computing transition probabilities: 100%|██████████| 24/24 [00:00<00:00, 4033.31it/s]\n",
      "Generating walks (CPU: 1):  17%|█▋        | 13/75 [00:02<00:11,  5.24it/s]\n",
      "Generating walks (CPU: 4):  13%|█▎        | 10/75 [00:01<00:10,  5.94it/s]\n",
      "Generating walks (CPU: 4):  55%|█████▍    | 41/75 [00:07<00:05,  6.36it/s]\n",
      "Generating walks (CPU: 1):  67%|██████▋   | 50/75 [00:11<00:06,  3.93it/s]"
     ]
    },
    {
     "name": "stdout",
     "output_type": "stream",
     "text": [
      "[  1.84615385   0.         165.         110.          11.\n",
      "   0.           0.           0.           0.           0.\n",
      "   0.           0.           0.           0.           0.\n",
      "   0.           0.           0.        ]\n",
      "Unk percentage: 0.0\n"
     ]
    },
    {
     "name": "stderr",
     "output_type": "stream",
     "text": [
      "Generating walks (CPU: 4):  69%|██████▉   | 52/75 [00:09<00:04,  4.98it/s]"
     ]
    },
    {
     "name": "stdout",
     "output_type": "stream",
     "text": [
      "cluster began\n"
     ]
    },
    {
     "name": "stderr",
     "output_type": "stream",
     "text": [
      "\r",
      "Generating walks (CPU: 3):  37%|███▋      | 28/75 [00:08<00:13,  3.37it/s]"
     ]
    },
    {
     "name": "stdout",
     "output_type": "stream",
     "text": [
      "cluster end\n"
     ]
    },
    {
     "name": "stderr",
     "output_type": "stream",
     "text": [
      "Computing transition probabilities: 100%|██████████| 17/17 [00:00<00:00, 2065.80it/s]\n",
      "Generating walks (CPU: 3):  60%|██████    | 45/75 [00:12<00:07,  4.12it/s]\n",
      "Generating walks (CPU: 1):  33%|███▎      | 25/75 [00:04<00:08,  5.97it/s]\n",
      "Generating walks (CPU: 3):  67%|██████▋   | 50/75 [00:13<00:07,  3.35it/s]"
     ]
    },
    {
     "name": "stdout",
     "output_type": "stream",
     "text": [
      "[  2.23529412   0.         436.         207.          19.\n",
      "   1.           2.           0.           0.          11.\n",
      "   2.           2.           0.           0.           0.\n",
      "   0.           0.           0.        ]\n",
      "Unk percentage: 0.0\n"
     ]
    },
    {
     "name": "stderr",
     "output_type": "stream",
     "text": [
      "Generating walks (CPU: 3):  72%|███████▏  | 54/75 [00:14<00:05,  3.86it/s]"
     ]
    },
    {
     "name": "stdout",
     "output_type": "stream",
     "text": [
      "cluster began\n",
      "cluster end\n"
     ]
    },
    {
     "name": "stderr",
     "output_type": "stream",
     "text": [
      "Computing transition probabilities: 100%|██████████| 18/18 [00:00<00:00, 2402.85it/s]\n",
      "Generating walks (CPU: 1):  95%|█████████▍| 71/75 [00:11<00:00,  6.06it/s]\n",
      "Generating walks (CPU: 1): 100%|██████████| 75/75 [00:12<00:00,  6.21it/s]\n",
      "Generating walks (CPU: 2):  92%|█████████▏| 69/75 [00:15<00:01,  4.40it/s]\n",
      "Generating walks (CPU: 2):  13%|█▎        | 10/75 [00:01<00:10,  5.93it/s]\n",
      "Generating walks (CPU: 3):  19%|█▊        | 14/75 [00:03<00:15,  3.93it/s]\n",
      "Generating walks (CPU: 3):  49%|████▉     | 37/75 [00:05<00:05,  6.37it/s]\n",
      "Generating walks (CPU: 3):  61%|██████▏   | 46/75 [00:07<00:05,  5.46it/s]\n",
      "Generating walks (CPU: 3):  69%|██████▉   | 52/75 [00:08<00:04,  5.44it/s]"
     ]
    },
    {
     "name": "stdout",
     "output_type": "stream",
     "text": [
      "[2.21428571e+00 0.00000000e+00 2.52000000e+03 7.06000000e+02\n",
      " 4.00000000e+01 5.00000000e+00 5.00000000e+00 0.00000000e+00\n",
      " 0.00000000e+00 0.00000000e+00 0.00000000e+00 0.00000000e+00\n",
      " 0.00000000e+00 0.00000000e+00 0.00000000e+00 0.00000000e+00\n",
      " 0.00000000e+00 0.00000000e+00]"
     ]
    },
    {
     "name": "stderr",
     "output_type": "stream",
     "text": [
      "\r",
      "Generating walks (CPU: 3):  68%|██████▊   | 51/75 [00:11<00:07,  3.17it/s]"
     ]
    },
    {
     "name": "stdout",
     "output_type": "stream",
     "text": [
      "\n"
     ]
    },
    {
     "name": "stderr",
     "output_type": "stream",
     "text": [
      "\r",
      "Generating walks (CPU: 3):   8%|▊         | 6/75 [00:01<00:11,  5.86it/s]"
     ]
    },
    {
     "name": "stdout",
     "output_type": "stream",
     "text": [
      "Unk percentage: 0.0\n"
     ]
    },
    {
     "name": "stderr",
     "output_type": "stream",
     "text": [
      "Generating walks (CPU: 3):  16%|█▌        | 12/75 [00:02<00:10,  5.80it/s]"
     ]
    },
    {
     "name": "stdout",
     "output_type": "stream",
     "text": [
      "cluster began\n",
      "cluster end\n"
     ]
    },
    {
     "name": "stderr",
     "output_type": "stream",
     "text": [
      "Computing transition probabilities: 100%|██████████| 24/24 [00:00<00:00, 3737.96it/s]\n",
      "Generating walks (CPU: 3):  36%|███▌      | 27/75 [00:04<00:09,  5.24it/s]\n",
      "Generating walks (CPU: 4):  16%|█▌        | 12/75 [00:01<00:11,  5.46it/s]\n",
      "Generating walks (CPU: 4):  67%|██████▋   | 50/75 [00:08<00:04,  6.10it/s]\n",
      "Generating walks (CPU: 4):  32%|███▏      | 24/75 [00:03<00:08,  6.34it/s]\n",
      "Generating walks (CPU: 4):  43%|████▎     | 32/75 [00:05<00:07,  5.59it/s]\n",
      "Generating walks (CPU: 4):  45%|████▌     | 34/75 [00:05<00:07,  5.68it/s]"
     ]
    },
    {
     "name": "stdout",
     "output_type": "stream",
     "text": [
      "[  2.25   0.   344.   194.    19.     1.     2.     0.     0.     0.\n",
      "   0.     0.     0.     0.     0.     0.     0.     0.  ]\n"
     ]
    },
    {
     "name": "stderr",
     "output_type": "stream",
     "text": [
      "\r",
      "Generating walks (CPU: 4):  75%|███████▍  | 56/75 [00:12<00:03,  5.15it/s]"
     ]
    },
    {
     "name": "stdout",
     "output_type": "stream",
     "text": [
      "Unk percentage: 0.0\n"
     ]
    },
    {
     "name": "stderr",
     "output_type": "stream",
     "text": [
      "Generating walks (CPU: 4):  81%|████████▏ | 61/75 [00:13<00:02,  5.23it/s]"
     ]
    },
    {
     "name": "stdout",
     "output_type": "stream",
     "text": [
      "cluster began\n"
     ]
    },
    {
     "name": "stderr",
     "output_type": "stream",
     "text": [
      "\r",
      "Generating walks (CPU: 4):  55%|█████▍    | 41/75 [00:06<00:05,  6.04it/s]"
     ]
    },
    {
     "name": "stdout",
     "output_type": "stream",
     "text": [
      "cluster end\n"
     ]
    },
    {
     "name": "stderr",
     "output_type": "stream",
     "text": [
      "Computing transition probabilities: 100%|██████████| 19/19 [00:00<00:00, 2400.14it/s]\n",
      "Generating walks (CPU: 1):  24%|██▍       | 18/75 [00:03<00:11,  5.00it/s]\n",
      "Generating walks (CPU: 1):  40%|████      | 30/75 [00:05<00:08,  5.50it/s]"
     ]
    },
    {
     "name": "stdout",
     "output_type": "stream",
     "text": [
      "[   2.17391304    0.         1294.          429.           36.\n",
      "    6.            6.            0.            0.            0.\n",
      "    0.            0.            0.            0.            0.\n",
      "    0.            0.            0.        ]\n",
      "Unk percentage: 0.0\n"
     ]
    },
    {
     "name": "stderr",
     "output_type": "stream",
     "text": [
      "Generating walks (CPU: 2):  49%|████▉     | 37/75 [00:07<00:08,  4.63it/s]\n",
      "Generating walks (CPU: 1):  47%|████▋     | 35/75 [00:06<00:06,  6.18it/s]"
     ]
    },
    {
     "name": "stdout",
     "output_type": "stream",
     "text": [
      "cluster began\n",
      "cluster end\n"
     ]
    },
    {
     "name": "stderr",
     "output_type": "stream",
     "text": [
      "Computing transition probabilities: 100%|██████████| 13/13 [00:00<00:00, 1653.86it/s]\n",
      "Generating walks (CPU: 1):  57%|█████▋    | 43/75 [00:07<00:07,  4.17it/s]"
     ]
    },
    {
     "name": "stdout",
     "output_type": "stream",
     "text": [
      "[2.00000000e+00 6.37254902e-02 4.44000000e+02 2.18000000e+02\n",
      " 1.50000000e+01 1.00000000e+00 1.00000000e+00 1.00000000e+00\n",
      " 0.00000000e+00 0.00000000e+00 0.00000000e+00 0.00000000e+00\n",
      " 0.00000000e+00 0.00000000e+00 0.00000000e+00 0.00000000e+00\n",
      " 0.00000000e+00 0.00000000e+00]\n",
      "Unk percentage: 0.02702702702702703\n"
     ]
    },
    {
     "name": "stderr",
     "output_type": "stream",
     "text": [
      "Generating walks (CPU: 2):  65%|██████▌   | 49/75 [00:10<00:05,  4.74it/s]"
     ]
    },
    {
     "name": "stdout",
     "output_type": "stream",
     "text": [
      "cluster began\n",
      "cluster end\n"
     ]
    },
    {
     "name": "stderr",
     "output_type": "stream",
     "text": [
      "Computing transition probabilities: 100%|██████████| 22/22 [00:00<00:00, 1655.18it/s]\n",
      "Generating walks (CPU: 1):  68%|██████▊   | 51/75 [00:07<00:03,  6.05it/s]\n",
      "Generating walks (CPU: 2):   8%|▊         | 6/75 [00:00<00:09,  6.99it/s]]\n",
      "Generating walks (CPU: 2):  27%|██▋       | 20/75 [00:03<00:10,  5.34it/s]\n",
      "Generating walks (CPU: 2):  83%|████████▎ | 62/75 [00:10<00:02,  5.11it/s]\n",
      "Generating walks (CPU: 2):  97%|█████████▋| 73/75 [00:09<00:00,  7.89it/s]\n",
      "Generating walks (CPU: 3):  79%|███████▊  | 59/75 [00:12<00:02,  5.45it/s]\n",
      "Generating walks (CPU: 3):  40%|████      | 30/75 [00:03<00:06,  7.43it/s]\n",
      "Generating walks (CPU: 4):  41%|████▏     | 31/75 [00:06<00:08,  5.13it/s]\n",
      "Generating walks (CPU: 3):  92%|█████████▏| 69/75 [00:13<00:01,  5.32it/s]\n",
      "Generating walks (CPU: 4):  45%|████▌     | 34/75 [00:03<00:04,  9.64it/s]\n",
      "Generating walks (CPU: 3):  44%|████▍     | 33/75 [00:06<00:08,  5.12it/s]\n",
      "Generating walks (CPU: 4):  45%|████▌     | 34/75 [00:05<00:06,  6.04it/s]\n",
      "Generating walks (CPU: 3):  52%|█████▏    | 39/75 [00:07<00:08,  4.26it/s]"
     ]
    },
    {
     "name": "stdout",
     "output_type": "stream",
     "text": [
      "[2.33333333e+00 1.05952381e-01 1.10000000e+02 8.60000000e+01\n",
      " 1.20000000e+01 1.00000000e+00 1.00000000e+00 0.00000000e+00\n",
      " 0.00000000e+00 5.00000000e+00 2.00000000e+00 2.00000000e+00\n",
      " 1.00000000e+00 0.00000000e+00 0.00000000e+00 0.00000000e+00\n",
      " 0.00000000e+00 0.00000000e+00]\n",
      "Unk percentage: 0.0\n"
     ]
    },
    {
     "name": "stderr",
     "output_type": "stream",
     "text": [
      "Generating walks (CPU: 4):  56%|█████▌    | 42/75 [00:07<00:07,  4.60it/s]"
     ]
    },
    {
     "name": "stdout",
     "output_type": "stream",
     "text": [
      "cluster began\n",
      "cluster end\n"
     ]
    },
    {
     "name": "stderr",
     "output_type": "stream",
     "text": [
      "Computing transition probabilities: 100%|██████████| 17/17 [00:00<00:00, 4199.74it/s]\n",
      "Generating walks (CPU: 1):   4%|▍         | 3/75 [00:00<00:06, 11.05it/s]]"
     ]
    },
    {
     "name": "stdout",
     "output_type": "stream",
     "text": [
      "[   2.26086957    0.         1270.          456.           35.\n",
      "    5.            5.            0.            0.            0.\n",
      "    0.            0.            0.            0.            0.\n",
      "    0.            0.            0.        ]"
     ]
    },
    {
     "name": "stderr",
     "output_type": "stream",
     "text": [
      "\r",
      "Generating walks (CPU: 3):  60%|██████    | 45/75 [00:09<00:07,  3.95it/s]"
     ]
    },
    {
     "name": "stdout",
     "output_type": "stream",
     "text": [
      "\n",
      "Unk percentage: 0.0\n"
     ]
    },
    {
     "name": "stderr",
     "output_type": "stream",
     "text": [
      "Generating walks (CPU: 3):  67%|██████▋   | 50/75 [00:10<00:05,  4.73it/s]"
     ]
    },
    {
     "name": "stdout",
     "output_type": "stream",
     "text": [
      "cluster began\n",
      "cluster end\n"
     ]
    },
    {
     "name": "stderr",
     "output_type": "stream",
     "text": [
      "Computing transition probabilities: 100%|██████████| 26/26 [00:00<00:00, 404.69it/s]\n",
      "Generating walks (CPU: 3):  99%|█████████▊| 74/75 [00:14<00:00,  5.66it/s]\n",
      "Generating walks (CPU: 1):  51%|█████     | 38/75 [00:06<00:06,  5.87it/s]\n",
      "Generating walks (CPU: 4):  11%|█         | 8/75 [00:01<00:15,  4.24it/s]]"
     ]
    },
    {
     "name": "stdout",
     "output_type": "stream",
     "text": [
      "[  2.   0. 561. 224.  15.   0.   0.   0.   0.  14.   1.   1.   0.   0.\n",
      "   0.   0.   0.   0.]\n"
     ]
    },
    {
     "name": "stderr",
     "output_type": "stream",
     "text": [
      "\r",
      "Generating walks (CPU: 1):  61%|██████▏   | 46/75 [00:08<00:06,  4.56it/s]"
     ]
    },
    {
     "name": "stdout",
     "output_type": "stream",
     "text": [
      "Unk percentage: 0.0\n"
     ]
    },
    {
     "name": "stderr",
     "output_type": "stream",
     "text": [
      "Generating walks (CPU: 1):  68%|██████▊   | 51/75 [00:09<00:04,  5.50it/s]"
     ]
    },
    {
     "name": "stdout",
     "output_type": "stream",
     "text": [
      "cluster began\n"
     ]
    },
    {
     "name": "stderr",
     "output_type": "stream",
     "text": [
      "\r",
      "Generating walks (CPU: 4):  17%|█▋        | 13/75 [00:02<00:14,  4.39it/s]"
     ]
    },
    {
     "name": "stdout",
     "output_type": "stream",
     "text": [
      "cluster end\n"
     ]
    },
    {
     "name": "stderr",
     "output_type": "stream",
     "text": [
      "Computing transition probabilities: 100%|██████████| 35/35 [00:00<00:00, 2284.48it/s]\n",
      "Generating walks (CPU: 1): 100%|██████████| 75/75 [00:12<00:00,  5.91it/s]\n",
      "Generating walks (CPU: 2):  47%|████▋     | 35/75 [00:05<00:05,  6.96it/s]\n",
      "Generating walks (CPU: 2):  72%|███████▏  | 54/75 [00:07<00:03,  6.93it/s]\n",
      "Generating walks (CPU: 2):  87%|████████▋ | 65/75 [00:09<00:01,  5.62it/s]"
     ]
    },
    {
     "name": "stdout",
     "output_type": "stream",
     "text": [
      "[  1.9047619   0.        969.        342.         19.          0.\n",
      "   0.          0.          0.          0.          0.          0.\n",
      "   0.          0.          0.          0.          0.          0.       ]\n"
     ]
    },
    {
     "name": "stderr",
     "output_type": "stream",
     "text": [
      "\r",
      "Generating walks (CPU: 1):  67%|██████▋   | 50/75 [00:13<00:09,  2.76it/s]"
     ]
    },
    {
     "name": "stdout",
     "output_type": "stream",
     "text": [
      "Unk percentage: 0.0\n"
     ]
    },
    {
     "name": "stderr",
     "output_type": "stream",
     "text": [
      "Generating walks (CPU: 1):  71%|███████   | 53/75 [00:14<00:07,  3.00it/s]"
     ]
    },
    {
     "name": "stdout",
     "output_type": "stream",
     "text": [
      "cluster began\n",
      "cluster end\n"
     ]
    },
    {
     "name": "stderr",
     "output_type": "stream",
     "text": [
      "Computing transition probabilities: 100%|██████████| 27/27 [00:00<00:00, 861.78it/s]\n",
      "Generating walks (CPU: 2):  40%|████      | 30/75 [00:06<00:11,  4.06it/s]\n",
      "Generating walks (CPU: 3):  49%|████▉     | 37/75 [00:05<00:06,  6.31it/s]\n",
      "Generating walks (CPU: 2):  25%|██▌       | 19/75 [00:04<00:15,  3.50it/s]\n",
      "Generating walks (CPU: 2):  31%|███       | 23/75 [00:05<00:13,  3.80it/s]\n",
      "Generating walks (CPU: 4):  40%|████      | 30/75 [00:04<00:07,  6.03it/s]\n",
      "Generating walks (CPU: 2):  88%|████████▊ | 66/75 [00:18<00:02,  3.92it/s]\n",
      "Generating walks (CPU: 2):  95%|█████████▍| 71/75 [00:20<00:01,  3.04it/s]"
     ]
    },
    {
     "name": "stdout",
     "output_type": "stream",
     "text": [
      "[  2.125   0.    347.    188.     20.      2.      3.      0.      0.\n",
      "   0.      0.      0.      0.      0.      0.      0.      0.      0.   ]\n",
      "Unk percentage: 0.0\n"
     ]
    },
    {
     "name": "stderr",
     "output_type": "stream",
     "text": [
      "Generating walks (CPU: 2):  99%|█████████▊| 74/75 [00:21<00:00,  2.92it/s]"
     ]
    },
    {
     "name": "stdout",
     "output_type": "stream",
     "text": [
      "cluster began\n",
      "cluster end\n"
     ]
    },
    {
     "name": "stderr",
     "output_type": "stream",
     "text": [
      "Computing transition probabilities: 100%|██████████| 18/18 [00:00<00:00, 494.48it/s]\n",
      "Generating walks (CPU: 1):   5%|▌         | 4/75 [00:00<00:07,  9.48it/s]]\n",
      "Generating walks (CPU: 1):   8%|▊         | 6/75 [00:00<00:06,  9.88it/s]]\n",
      "Generating walks (CPU: 3):  35%|███▍      | 26/75 [00:06<00:14,  3.39it/s]\n",
      "Generating walks (CPU: 3):  32%|███▏      | 24/75 [00:05<00:11,  4.40it/s]\n",
      "Generating walks (CPU: 3):  56%|█████▌    | 42/75 [00:09<00:07,  4.22it/s]\n",
      "Generating walks (CPU: 3):  68%|██████▊   | 51/75 [00:11<00:06,  3.54it/s]"
     ]
    },
    {
     "name": "stdout",
     "output_type": "stream",
     "text": [
      "[2.32000000e+00 8.48095238e-02 1.69400000e+03 5.48000000e+02\n",
      " 3.90000000e+01 8.00000000e+00 8.00000000e+00 2.00000000e+00\n",
      " 1.00000000e+00 0.00000000e+00 0.00000000e+00 0.00000000e+00\n",
      " 0.00000000e+00 0.00000000e+00 0.00000000e+00 0.00000000e+00\n",
      " 0.00000000e+00 0.00000000e+00]\n"
     ]
    },
    {
     "name": "stderr",
     "output_type": "stream",
     "text": [
      "Generating walks (CPU: 2):  47%|████▋     | 35/75 [00:06<00:08,  4.99it/s]"
     ]
    },
    {
     "name": "stdout",
     "output_type": "stream",
     "text": [
      "Unk percentage: 0.023255813953488372\n"
     ]
    },
    {
     "name": "stderr",
     "output_type": "stream",
     "text": [
      "Generating walks (CPU: 2):  56%|█████▌    | 42/75 [00:07<00:05,  6.13it/s]"
     ]
    },
    {
     "name": "stdout",
     "output_type": "stream",
     "text": [
      "cluster began\n",
      "cluster end\n"
     ]
    },
    {
     "name": "stderr",
     "output_type": "stream",
     "text": [
      "Computing transition probabilities: 100%|██████████| 25/25 [00:00<00:00, 1461.53it/s]\n",
      "Generating walks (CPU: 1):  13%|█▎        | 10/75 [00:02<00:14,  4.35it/s]\n",
      "Generating walks (CPU: 1):  27%|██▋       | 20/75 [00:04<00:10,  5.36it/s]\n",
      "Generating walks (CPU: 4):  16%|█▌        | 12/75 [00:03<00:21,  2.88it/s]\n",
      "Generating walks (CPU: 3):  85%|████████▌ | 64/75 [00:10<00:01,  6.45it/s]\n",
      "Generating walks (CPU: 2):  12%|█▏        | 9/75 [00:01<00:14,  4.58it/s]]\n",
      "Generating walks (CPU: 2):  39%|███▊      | 29/75 [00:06<00:08,  5.31it/s]\n",
      "Generating walks (CPU: 4):  43%|████▎     | 32/75 [00:05<00:10,  3.95it/s]\n",
      "Generating walks (CPU: 4):  49%|████▉     | 37/75 [00:06<00:08,  4.59it/s]"
     ]
    },
    {
     "name": "stdout",
     "output_type": "stream",
     "text": [
      "[   2.30769231    0.         1937.          606.           43.\n",
      "    7.            7.            0.            0.            0.\n",
      "    0.            0.            0.            0.            0.\n",
      "    0.            0.            0.        ]\n",
      "Unk percentage: 0.0\n"
     ]
    },
    {
     "name": "stderr",
     "output_type": "stream",
     "text": [
      "Generating walks (CPU: 4):  56%|█████▌    | 42/75 [00:08<00:07,  4.19it/s]"
     ]
    },
    {
     "name": "stdout",
     "output_type": "stream",
     "text": [
      "cluster began\n",
      "cluster end\n"
     ]
    },
    {
     "name": "stderr",
     "output_type": "stream",
     "text": [
      "Computing transition probabilities: 100%|██████████| 9/9 [00:00<00:00, 5935.34it/s]\n",
      "Generating walks (CPU: 1):  12%|█▏        | 9/75 [00:00<00:09,  6.89it/s]]"
     ]
    },
    {
     "name": "stdout",
     "output_type": "stream",
     "text": [
      "[2.17647059e+00 5.94771242e-02 4.87400000e+03 1.03800000e+03\n",
      " 5.00000000e+01 1.00000000e+01 1.00000000e+01 2.00000000e+00\n",
      " 0.00000000e+00 0.00000000e+00 0.00000000e+00 0.00000000e+00\n",
      " 0.00000000e+00 0.00000000e+00 0.00000000e+00 0.00000000e+00\n",
      " 0.00000000e+00 0.00000000e+00]\n"
     ]
    },
    {
     "name": "stderr",
     "output_type": "stream",
     "text": [
      "\r",
      "Generating walks (CPU: 1):  13%|█▎        | 10/75 [00:01<00:08,  7.41it/s]"
     ]
    },
    {
     "name": "stdout",
     "output_type": "stream",
     "text": [
      "Unk percentage: 0.0\n"
     ]
    },
    {
     "name": "stderr",
     "output_type": "stream",
     "text": [
      "Generating walks (CPU: 4):  71%|███████   | 53/75 [00:10<00:03,  5.78it/s]"
     ]
    },
    {
     "name": "stdout",
     "output_type": "stream",
     "text": [
      "cluster began\n",
      "cluster end\n"
     ]
    },
    {
     "name": "stderr",
     "output_type": "stream",
     "text": [
      "Computing transition probabilities: 100%|██████████| 15/15 [00:00<00:00, 2018.95it/s]\n",
      "Generating walks (CPU: 1):  33%|███▎      | 25/75 [00:03<00:08,  5.76it/s]\n",
      "Generating walks (CPU: 1): 100%|██████████| 75/75 [00:07<00:00,  9.64it/s]\n",
      "Generating walks (CPU: 2):  97%|█████████▋| 73/75 [00:18<00:00,  3.76it/s]"
     ]
    },
    {
     "name": "stdout",
     "output_type": "stream",
     "text": [
      "[  2.   0. 445. 215.  18.   1.   1.   0.   0.   0.   0.   0.   0.   0.\n",
      "   0.   0.   0.   0.]"
     ]
    },
    {
     "name": "stderr",
     "output_type": "stream",
     "text": [
      "Generating walks (CPU: 1):  45%|████▌     | 34/75 [00:05<00:07,  5.22it/s]"
     ]
    },
    {
     "name": "stdout",
     "output_type": "stream",
     "text": [
      "\n",
      "Unk percentage: 0.031746031746031744\n"
     ]
    },
    {
     "name": "stderr",
     "output_type": "stream",
     "text": [
      "Generating walks (CPU: 2):  11%|█         | 8/75 [00:00<00:05, 11.88it/s]]\n",
      "Generating walks (CPU: 3):   4%|▍         | 3/75 [00:00<00:11,  6.07it/s]]"
     ]
    },
    {
     "name": "stdout",
     "output_type": "stream",
     "text": [
      "cluster began\n",
      "cluster end\n"
     ]
    },
    {
     "name": "stderr",
     "output_type": "stream",
     "text": [
      "Computing transition probabilities: 100%|██████████| 34/34 [00:00<00:00, 1210.23it/s]\n",
      "Generating walks (CPU: 1): 100%|██████████| 75/75 [00:11<00:00,  7.00it/s]\n",
      "Generating walks (CPU: 2): 100%|██████████| 75/75 [00:06<00:00, 12.10it/s]\n",
      "Generating walks (CPU: 3): 100%|██████████| 75/75 [00:05<00:00, 13.46it/s]\n",
      "Generating walks (CPU: 1):  75%|███████▍  | 56/75 [00:14<00:04,  4.39it/s]\n",
      "Generating walks (CPU: 4):  72%|███████▏  | 54/75 [00:04<00:01, 12.14it/s]\n",
      "Generating walks (CPU: 4): 100%|██████████| 75/75 [00:05<00:00, 12.54it/s]\n",
      "Generating walks (CPU: 3):  27%|██▋       | 20/75 [00:02<00:08,  6.72it/s]"
     ]
    },
    {
     "name": "stdout",
     "output_type": "stream",
     "text": [
      "[ 1.75  0.   20.   30.    6.    0.    0.    0.    0.    0.    0.    0.\n",
      "  0.    0.    0.    0.    0.    0.  ]\n",
      "Unk percentage: 0.0\n"
     ]
    },
    {
     "name": "stderr",
     "output_type": "stream",
     "text": [
      "Generating walks (CPU: 3):  36%|███▌      | 27/75 [00:03<00:07,  6.80it/s]"
     ]
    },
    {
     "name": "stdout",
     "output_type": "stream",
     "text": [
      "cluster began\n",
      "cluster end\n"
     ]
    },
    {
     "name": "stderr",
     "output_type": "stream",
     "text": [
      "Computing transition probabilities: 100%|██████████| 16/16 [00:00<00:00, 666.25it/s]\n",
      "Generating walks (CPU: 1):  17%|█▋        | 13/75 [00:01<00:10,  5.67it/s]\n",
      "Generating walks (CPU: 1):  57%|█████▋    | 43/75 [00:06<00:05,  5.49it/s]\n",
      "Generating walks (CPU: 4):  96%|█████████▌| 72/75 [00:15<00:00,  4.23it/s]\n",
      "Generating walks (CPU: 4):  57%|█████▋    | 43/75 [00:05<00:04,  7.58it/s]\n",
      "Generating walks (CPU: 4):  81%|████████▏ | 61/75 [00:07<00:02,  5.60it/s]"
     ]
    },
    {
     "name": "stdout",
     "output_type": "stream",
     "text": [
      "[2.000e+00 0.000e+00 1.523e+03 4.740e+02 2.500e+01 1.000e+00 1.000e+00\n",
      " 0.000e+00 0.000e+00 0.000e+00 0.000e+00 0.000e+00 0.000e+00 0.000e+00\n",
      " 0.000e+00 0.000e+00 0.000e+00 0.000e+00]\n"
     ]
    },
    {
     "name": "stderr",
     "output_type": "stream",
     "text": [
      "\r",
      "Generating walks (CPU: 2):  33%|███▎      | 25/75 [00:03<00:06,  7.25it/s]"
     ]
    },
    {
     "name": "stdout",
     "output_type": "stream",
     "text": [
      "Unk percentage: 0.0\n"
     ]
    },
    {
     "name": "stderr",
     "output_type": "stream",
     "text": [
      "Generating walks (CPU: 2):  41%|████▏     | 31/75 [00:04<00:06,  7.03it/s]"
     ]
    },
    {
     "name": "stdout",
     "output_type": "stream",
     "text": [
      "cluster began\n"
     ]
    },
    {
     "name": "stderr",
     "output_type": "stream",
     "text": [
      "\r",
      "Generating walks (CPU: 4):  93%|█████████▎| 70/75 [00:08<00:00,  8.96it/s]"
     ]
    },
    {
     "name": "stdout",
     "output_type": "stream",
     "text": [
      "cluster end\n"
     ]
    },
    {
     "name": "stderr",
     "output_type": "stream",
     "text": [
      "Computing transition probabilities: 100%|██████████| 26/26 [00:00<00:00, 757.98it/s]\n",
      "Generating walks (CPU: 2):  69%|██████▉   | 52/75 [00:14<00:06,  3.66it/s]\n",
      "Generating walks (CPU: 2):  59%|█████▊    | 44/75 [00:06<00:05,  5.60it/s]"
     ]
    },
    {
     "name": "stdout",
     "output_type": "stream",
     "text": [
      "[  2.14285714   0.         214.         122.          14.\n",
      "   1.           1.           0.           0.          10.\n",
      "   1.           1.           0.           0.           0.\n",
      "   0.           0.           0.        ]\n",
      "Unk percentage: 0.017857142857142856\n"
     ]
    },
    {
     "name": "stderr",
     "output_type": "stream",
     "text": [
      "Generating walks (CPU: 2):  67%|██████▋   | 50/75 [00:07<00:04,  5.64it/s]"
     ]
    },
    {
     "name": "stdout",
     "output_type": "stream",
     "text": [
      "cluster began\n"
     ]
    },
    {
     "name": "stderr",
     "output_type": "stream",
     "text": [
      "\r",
      "Generating walks (CPU: 1):  17%|█▋        | 13/75 [00:03<00:14,  4.23it/s]"
     ]
    },
    {
     "name": "stdout",
     "output_type": "stream",
     "text": [
      "cluster end\n"
     ]
    },
    {
     "name": "stderr",
     "output_type": "stream",
     "text": [
      "Computing transition probabilities: 100%|██████████| 30/30 [00:00<00:00, 1168.45it/s]\n",
      "Generating walks (CPU: 1):  40%|████      | 30/75 [00:06<00:10,  4.44it/s]\n",
      "Generating walks (CPU: 3):   7%|▋         | 5/75 [00:00<00:10,  6.67it/s]]\n",
      "Generating walks (CPU: 1):  73%|███████▎  | 55/75 [00:13<00:05,  3.98it/s]\n",
      "Generating walks (CPU: 2):  11%|█         | 8/75 [00:01<00:14,  4.62it/s]]\n",
      "Generating walks (CPU: 4):  36%|███▌      | 27/75 [00:04<00:07,  6.57it/s]\n",
      "Generating walks (CPU: 4):  96%|█████████▌| 72/75 [00:11<00:00,  7.67it/s]\n",
      "Generating walks (CPU: 2):  35%|███▍      | 26/75 [00:07<00:12,  4.06it/s]\n",
      "Generating walks (CPU: 2):  40%|████      | 30/75 [00:08<00:13,  3.24it/s]"
     ]
    },
    {
     "name": "stdout",
     "output_type": "stream",
     "text": [
      "[  2.26666667   0.         271.         160.          19.\n",
      "   3.           2.           0.           0.           0.\n",
      "   0.           0.           0.           0.           0.\n",
      "   0.           0.           0.        ]\n",
      "Unk percentage: 0.0\n"
     ]
    },
    {
     "name": "stderr",
     "output_type": "stream",
     "text": [
      "Generating walks (CPU: 2):  87%|████████▋ | 65/75 [00:15<00:02,  4.38it/s]"
     ]
    },
    {
     "name": "stdout",
     "output_type": "stream",
     "text": [
      "cluster began\n",
      "cluster end\n"
     ]
    },
    {
     "name": "stderr",
     "output_type": "stream",
     "text": [
      "Computing transition probabilities: 100%|██████████| 16/16 [00:00<00:00, 4327.65it/s]\n",
      "Generating walks (CPU: 2):  56%|█████▌    | 42/75 [00:12<00:08,  3.74it/s]\n",
      "Generating walks (CPU: 1):  92%|█████████▏| 69/75 [00:10<00:00,  6.03it/s]\n",
      "Generating walks (CPU: 3):  57%|█████▋    | 43/75 [00:09<00:06,  5.06it/s]\n",
      "Generating walks (CPU: 3):  93%|█████████▎| 70/75 [00:15<00:01,  3.84it/s]\n",
      "Generating walks (CPU: 2):  63%|██████▎   | 47/75 [00:07<00:05,  4.82it/s]\n",
      "Generating walks (CPU: 2):  76%|███████▌  | 57/75 [00:09<00:02,  6.26it/s]"
     ]
    },
    {
     "name": "stdout",
     "output_type": "stream",
     "text": [
      "[2.36363636e+00 3.05361305e-02 4.39700000e+03 9.51000000e+02\n",
      " 5.40000000e+01 1.10000000e+01 1.10000000e+01 1.00000000e+00\n",
      " 0.00000000e+00 2.10000000e+01 5.00000000e+00 5.00000000e+00\n",
      " 0.00000000e+00 0.00000000e+00 0.00000000e+00 0.00000000e+00\n",
      " 0.00000000e+00 0.00000000e+00]"
     ]
    },
    {
     "name": "stderr",
     "output_type": "stream",
     "text": [
      "\r",
      "Generating walks (CPU: 4):   9%|▉         | 7/75 [00:01<00:17,  3.92it/s]"
     ]
    },
    {
     "name": "stdout",
     "output_type": "stream",
     "text": [
      "\n"
     ]
    },
    {
     "name": "stderr",
     "output_type": "stream",
     "text": [
      "\r",
      "Generating walks (CPU: 2):  77%|███████▋  | 58/75 [00:09<00:02,  6.40it/s]"
     ]
    },
    {
     "name": "stdout",
     "output_type": "stream",
     "text": [
      "Unk percentage: 0.0\n"
     ]
    },
    {
     "name": "stderr",
     "output_type": "stream",
     "text": [
      "Generating walks (CPU: 3):  61%|██████▏   | 46/75 [00:11<00:07,  3.86it/s]"
     ]
    },
    {
     "name": "stdout",
     "output_type": "stream",
     "text": [
      "cluster began\n",
      "cluster end\n"
     ]
    },
    {
     "name": "stderr",
     "output_type": "stream",
     "text": [
      "Computing transition probabilities: 100%|██████████| 14/14 [00:00<00:00, 2237.13it/s]\n",
      "Generating walks (CPU: 3):  69%|██████▉   | 52/75 [00:13<00:06,  3.77it/s]\n",
      "Generating walks (CPU: 3):  61%|██████▏   | 46/75 [00:06<00:03,  7.94it/s]\n",
      "Generating walks (CPU: 3):  79%|███████▊  | 59/75 [00:08<00:02,  6.05it/s]\n",
      "Generating walks (CPU: 2):  25%|██▌       | 19/75 [00:02<00:07,  7.46it/s]\n",
      "Generating walks (CPU: 2):  45%|████▌     | 34/75 [00:04<00:05,  8.19it/s]\n",
      "Generating walks (CPU: 2):  63%|██████▎   | 47/75 [00:06<00:04,  6.12it/s]"
     ]
    },
    {
     "name": "stdout",
     "output_type": "stream",
     "text": [
      "[2.000e+00 0.000e+00 1.753e+03 5.190e+02 2.600e+01 1.000e+00 1.000e+00\n",
      " 0.000e+00 0.000e+00 0.000e+00 0.000e+00 0.000e+00 0.000e+00 0.000e+00\n",
      " 0.000e+00 0.000e+00 0.000e+00 0.000e+00]"
     ]
    },
    {
     "name": "stderr",
     "output_type": "stream",
     "text": [
      "\r",
      "Generating walks (CPU: 4):  35%|███▍      | 26/75 [00:04<00:08,  5.82it/s]"
     ]
    },
    {
     "name": "stdout",
     "output_type": "stream",
     "text": [
      "\n",
      "Unk percentage: 0.0\n"
     ]
    },
    {
     "name": "stderr",
     "output_type": "stream",
     "text": [
      "Generating walks (CPU: 4):  45%|████▌     | 34/75 [00:05<00:06,  6.36it/s]"
     ]
    },
    {
     "name": "stdout",
     "output_type": "stream",
     "text": [
      "cluster began\n",
      "cluster end\n"
     ]
    },
    {
     "name": "stderr",
     "output_type": "stream",
     "text": [
      "Computing transition probabilities: 100%|██████████| 27/27 [00:00<00:00, 701.05it/s]\n",
      "Generating walks (CPU: 4):  63%|██████▎   | 47/75 [00:12<00:07,  3.59it/s]\n",
      "Generating walks (CPU: 3):  36%|███▌      | 27/75 [00:03<00:07,  6.59it/s]\n",
      "Generating walks (CPU: 3):  51%|█████     | 38/75 [00:05<00:06,  5.77it/s]"
     ]
    },
    {
     "name": "stdout",
     "output_type": "stream",
     "text": [
      "[  2.   0. 276. 163.  15.   1.   0.   0.   0.   0.   0.   0.   0.   0.\n",
      "   0.   0.   0.   0.]\n",
      "Unk percentage: 0.0\n"
     ]
    },
    {
     "name": "stderr",
     "output_type": "stream",
     "text": [
      "Generating walks (CPU: 3):  60%|██████    | 45/75 [00:06<00:04,  7.42it/s]"
     ]
    },
    {
     "name": "stdout",
     "output_type": "stream",
     "text": [
      "cluster began\n",
      "cluster end\n"
     ]
    },
    {
     "name": "stderr",
     "output_type": "stream",
     "text": [
      "Computing transition probabilities: 100%|██████████| 22/22 [00:00<00:00, 793.55it/s]\n",
      "Generating walks (CPU: 1):  11%|█         | 8/75 [00:01<00:10,  6.27it/s]]\n",
      "Generating walks (CPU: 3): 100%|██████████| 75/75 [00:10<00:00,  7.63it/s]"
     ]
    },
    {
     "name": "stdout",
     "output_type": "stream",
     "text": [
      "[2.55172414e+00 0.00000000e+00 2.81300000e+03 7.07000000e+02\n",
      " 4.30000000e+01 7.00000000e+00 6.00000000e+00 0.00000000e+00\n",
      " 0.00000000e+00 5.70000000e+01 9.00000000e+00 9.00000000e+00\n",
      " 0.00000000e+00 0.00000000e+00 0.00000000e+00 3.00000000e+00\n",
      " 0.00000000e+00 0.00000000e+00]\n"
     ]
    },
    {
     "name": "stderr",
     "output_type": "stream",
     "text": [
      "Generating walks (CPU: 1):  73%|███████▎  | 55/75 [00:13<00:05,  3.97it/s]\n",
      "Generating walks (CPU: 1):  28%|██▊       | 21/75 [00:04<00:12,  4.18it/s]"
     ]
    },
    {
     "name": "stdout",
     "output_type": "stream",
     "text": [
      "Unk percentage: 0.0\n"
     ]
    },
    {
     "name": "stderr",
     "output_type": "stream",
     "text": [
      "Generating walks (CPU: 4):  15%|█▍        | 11/75 [00:01<00:09,  6.79it/s]"
     ]
    },
    {
     "name": "stdout",
     "output_type": "stream",
     "text": [
      "cluster began\n"
     ]
    },
    {
     "name": "stderr",
     "output_type": "stream",
     "text": [
      "\r",
      "Generating walks (CPU: 1):  83%|████████▎ | 62/75 [00:14<00:02,  4.71it/s]"
     ]
    },
    {
     "name": "stdout",
     "output_type": "stream",
     "text": [
      "cluster end\n"
     ]
    },
    {
     "name": "stderr",
     "output_type": "stream",
     "text": [
      "Computing transition probabilities: 100%|██████████| 18/18 [00:00<00:00, 1349.18it/s]\n",
      "Generating walks (CPU: 1):  56%|█████▌    | 42/75 [00:08<00:06,  5.12it/s]\n",
      "Generating walks (CPU: 1):  99%|█████████▊| 74/75 [00:14<00:00,  5.70it/s]\n",
      "Generating walks (CPU: 1):  76%|███████▌  | 57/75 [00:09<00:03,  5.38it/s]\n",
      "Generating walks (CPU: 2):  41%|████▏     | 31/75 [00:07<00:13,  3.38it/s]"
     ]
    },
    {
     "name": "stdout",
     "output_type": "stream",
     "text": [
      "[  1.84615385   0.         165.         110.          11.\n",
      "   0.           0.           0.           0.           0.\n",
      "   0.           0.           0.           0.           0.\n",
      "   0.           0.           0.        ]\n"
     ]
    },
    {
     "name": "stderr",
     "output_type": "stream",
     "text": [
      "\r",
      "Generating walks (CPU: 2):   8%|▊         | 6/75 [00:01<00:12,  5.48it/s]"
     ]
    },
    {
     "name": "stdout",
     "output_type": "stream",
     "text": [
      "Unk percentage: 0.0\n"
     ]
    },
    {
     "name": "stderr",
     "output_type": "stream",
     "text": [
      "Generating walks (CPU: 2):  48%|████▊     | 36/75 [00:08<00:09,  4.08it/s]"
     ]
    },
    {
     "name": "stdout",
     "output_type": "stream",
     "text": [
      "cluster began\n",
      "cluster end\n"
     ]
    },
    {
     "name": "stderr",
     "output_type": "stream",
     "text": [
      "Computing transition probabilities: 100%|██████████| 29/29 [00:00<00:00, 797.37it/s]\n",
      "Generating walks (CPU: 2):  55%|█████▍    | 41/75 [00:09<00:08,  3.95it/s]\n",
      "Generating walks (CPU: 2):  67%|██████▋   | 50/75 [00:07<00:03,  6.57it/s]\n",
      "Generating walks (CPU: 3):  23%|██▎       | 17/75 [00:03<00:09,  6.10it/s]\n",
      "Generating walks (CPU: 1):  72%|███████▏  | 54/75 [00:12<00:05,  3.84it/s]\n",
      "Generating walks (CPU: 3):  41%|████▏     | 31/75 [00:05<00:08,  4.94it/s]\n",
      "Generating walks (CPU: 3):  96%|█████████▌| 72/75 [00:15<00:00,  4.29it/s]\n",
      "Generating walks (CPU: 2):  47%|████▋     | 35/75 [00:07<00:10,  3.90it/s]\n",
      "Generating walks (CPU: 4):  13%|█▎        | 10/75 [00:01<00:09,  6.68it/s]\n",
      "Generating walks (CPU: 4):  99%|█████████▊| 74/75 [00:12<00:00,  5.51it/s]\n",
      "Generating walks (CPU: 3):   3%|▎         | 2/75 [00:00<00:07, 10.40it/s]]\n",
      "Generating walks (CPU: 4):  85%|████████▌ | 64/75 [00:12<00:02,  4.89it/s]"
     ]
    },
    {
     "name": "stdout",
     "output_type": "stream",
     "text": [
      "[  1.88235294   0.         455.         210.          15.\n",
      "   0.           0.           0.           0.           0.\n",
      "   0.           0.           0.           0.           0.\n",
      "   0.           0.           0.        ]\n",
      "Unk percentage: 0.0\n"
     ]
    },
    {
     "name": "stderr",
     "output_type": "stream",
     "text": [
      "Generating walks (CPU: 4):  92%|█████████▏| 69/75 [00:13<00:01,  4.67it/s]"
     ]
    },
    {
     "name": "stdout",
     "output_type": "stream",
     "text": [
      "cluster began\n"
     ]
    },
    {
     "name": "stderr",
     "output_type": "stream",
     "text": [
      "\r",
      "Generating walks (CPU: 3):  17%|█▋        | 13/75 [00:03<00:15,  4.06it/s]"
     ]
    },
    {
     "name": "stdout",
     "output_type": "stream",
     "text": [
      "cluster end\n"
     ]
    },
    {
     "name": "stderr",
     "output_type": "stream",
     "text": [
      "Computing transition probabilities: 100%|██████████| 24/24 [00:00<00:00, 2114.95it/s]\n",
      "Generating walks (CPU: 4):  85%|████████▌ | 64/75 [00:15<00:02,  4.27it/s]\n",
      "Generating walks (CPU: 4):  97%|█████████▋| 73/75 [00:17<00:00,  4.13it/s]"
     ]
    },
    {
     "name": "stdout",
     "output_type": "stream",
     "text": [
      "[2.47619048e+00 6.13945578e-02 9.09000000e+02 3.56000000e+02\n",
      " 3.00000000e+01 7.00000000e+00 6.00000000e+00 2.00000000e+00\n",
      " 1.00000000e+00 1.40000000e+01 3.00000000e+00 2.00000000e+00\n",
      " 0.00000000e+00 0.00000000e+00 0.00000000e+00 0.00000000e+00\n",
      " 0.00000000e+00 0.00000000e+00]\n",
      "Unk percentage: 0.0\n"
     ]
    },
    {
     "name": "stderr",
     "output_type": "stream",
     "text": [
      "Generating walks (CPU: 1):  23%|██▎       | 17/75 [00:03<00:15,  3.84it/s]\n",
      "Generating walks (CPU: 3):  41%|████▏     | 31/75 [00:07<00:11,  3.73it/s]"
     ]
    },
    {
     "name": "stdout",
     "output_type": "stream",
     "text": [
      "cluster began\n",
      "cluster end\n"
     ]
    },
    {
     "name": "stderr",
     "output_type": "stream",
     "text": [
      "Computing transition probabilities: 100%|██████████| 21/21 [00:00<00:00, 2645.85it/s]\n",
      "Generating walks (CPU: 3):  52%|█████▏    | 39/75 [00:10<00:09,  3.71it/s]"
     ]
    },
    {
     "name": "stdout",
     "output_type": "stream",
     "text": [
      "[   2.46153846    0.         1942.          579.           40.\n",
      "    7.            8.            0.            0.           17.\n",
      "    4.            3.            0.            0.            0.\n",
      "    0.            0.            0.        ]\n"
     ]
    },
    {
     "name": "stderr",
     "output_type": "stream",
     "text": [
      "\r",
      "Generating walks (CPU: 1):  15%|█▍        | 11/75 [00:02<00:13,  4.58it/s]"
     ]
    },
    {
     "name": "stdout",
     "output_type": "stream",
     "text": [
      "Unk percentage: 0.0\n"
     ]
    },
    {
     "name": "stderr",
     "output_type": "stream",
     "text": [
      "Generating walks (CPU: 1):  21%|██▏       | 16/75 [00:03<00:13,  4.29it/s]"
     ]
    },
    {
     "name": "stdout",
     "output_type": "stream",
     "text": [
      "cluster began\n"
     ]
    },
    {
     "name": "stderr",
     "output_type": "stream",
     "text": [
      "Generating walks (CPU: 1):  45%|████▌     | 34/75 [00:08<00:08,  4.64it/s]"
     ]
    },
    {
     "name": "stdout",
     "output_type": "stream",
     "text": [
      "cluster end\n"
     ]
    },
    {
     "name": "stderr",
     "output_type": "stream",
     "text": [
      "Computing transition probabilities: 100%|██████████| 18/18 [00:00<00:00, 2492.90it/s]\n",
      "Generating walks (CPU: 1):  75%|███████▍  | 56/75 [00:10<00:03,  4.84it/s]\n",
      "Generating walks (CPU: 4):   8%|▊         | 6/75 [00:01<00:15,  4.51it/s]]\n",
      "Generating walks (CPU: 2):  17%|█▋        | 13/75 [00:02<00:12,  4.85it/s]\n",
      "Generating walks (CPU: 2):  29%|██▉       | 22/75 [00:04<00:12,  4.28it/s]\n",
      "Generating walks (CPU: 2):  97%|█████████▋| 73/75 [00:13<00:00,  6.11it/s]\n",
      "Generating walks (CPU: 2): 100%|██████████| 75/75 [00:12<00:00,  5.30it/s]\n",
      "Generating walks (CPU: 3):   5%|▌         | 4/75 [00:00<00:13,  5.28it/s]\n",
      "\n",
      "Generating walks (CPU: 3):  17%|█▋        | 13/75 [00:03<00:15,  3.93it/s]"
     ]
    },
    {
     "name": "stdout",
     "output_type": "stream",
     "text": [
      "[2.35714286e+00 3.59933036e-02 2.54200000e+03 6.29000000e+02\n",
      " 3.90000000e+01 7.00000000e+00 7.00000000e+00 1.00000000e+00\n",
      " 0.00000000e+00 3.40000000e+01 8.00000000e+00 8.00000000e+00\n",
      " 0.00000000e+00 0.00000000e+00 0.00000000e+00 1.00000000e+00\n",
      " 0.00000000e+00 0.00000000e+00]\n"
     ]
    },
    {
     "name": "stderr",
     "output_type": "stream",
     "text": [
      "\r",
      "Generating walks (CPU: 3):  19%|█▊        | 14/75 [00:03<00:13,  4.38it/s]"
     ]
    },
    {
     "name": "stdout",
     "output_type": "stream",
     "text": [
      "Unk percentage: 0.0\n"
     ]
    },
    {
     "name": "stderr",
     "output_type": "stream",
     "text": [
      "Generating walks (CPU: 3):  25%|██▌       | 19/75 [00:04<00:11,  4.84it/s]"
     ]
    },
    {
     "name": "stdout",
     "output_type": "stream",
     "text": [
      "cluster began\n",
      "cluster end\n"
     ]
    },
    {
     "name": "stderr",
     "output_type": "stream",
     "text": [
      "Computing transition probabilities: 100%|██████████| 28/28 [00:00<00:00, 1335.13it/s]\n",
      "Generating walks (CPU: 1):  56%|█████▌    | 42/75 [00:09<00:07,  4.38it/s]\n",
      "Generating walks (CPU: 3):  99%|█████████▊| 74/75 [00:16<00:00,  6.05it/s]\n",
      "Generating walks (CPU: 4):   3%|▎         | 2/75 [00:00<00:06, 11.04it/s]]\n",
      "Generating walks (CPU: 4):  43%|████▎     | 32/75 [00:05<00:08,  5.20it/s]\n",
      "Generating walks (CPU: 4):  65%|██████▌   | 49/75 [00:09<00:05,  4.70it/s]\n",
      "Generating walks (CPU: 4):  89%|████████▉ | 67/75 [00:11<00:01,  6.10it/s]"
     ]
    },
    {
     "name": "stdout",
     "output_type": "stream",
     "text": [
      "[  2.11764706   0.         446.         200.          17.\n",
      "   1.           1.           0.           0.          13.\n",
      "   1.           1.           0.           0.           0.\n",
      "   0.           0.           0.        ]\n"
     ]
    },
    {
     "name": "stderr",
     "output_type": "stream",
     "text": [
      "\r",
      "Generating walks (CPU: 4):  77%|███████▋  | 58/75 [00:11<00:03,  4.52it/s]"
     ]
    },
    {
     "name": "stdout",
     "output_type": "stream",
     "text": [
      "Unk percentage: 0.0\n"
     ]
    },
    {
     "name": "stderr",
     "output_type": "stream",
     "text": [
      "Generating walks (CPU: 4):  85%|████████▌ | 64/75 [00:12<00:02,  4.97it/s]"
     ]
    },
    {
     "name": "stdout",
     "output_type": "stream",
     "text": [
      "cluster began\n",
      "cluster end\n"
     ]
    },
    {
     "name": "stderr",
     "output_type": "stream",
     "text": [
      "Computing transition probabilities: 100%|██████████| 15/15 [00:00<00:00, 758.44it/s]\n",
      "Generating walks (CPU: 4):  88%|████████▊ | 66/75 [00:13<00:01,  4.90it/s]\n",
      "Generating walks (CPU: 1):  19%|█▊        | 14/75 [00:02<00:11,  5.35it/s]"
     ]
    },
    {
     "name": "stdout",
     "output_type": "stream",
     "text": [
      "[  2.1   0.  790.  322.   24.    2.    2.    0.    0.    0.    0.    0.\n",
      "   0.    0.    0.    0.    0.    0. ]\n",
      "Unk percentage: 0.0\n"
     ]
    },
    {
     "name": "stderr",
     "output_type": "stream",
     "text": [
      "Generating walks (CPU: 2):  52%|█████▏    | 39/75 [00:10<00:10,  3.33it/s]\n",
      "Generating walks (CPU: 1):  28%|██▊       | 21/75 [00:03<00:10,  5.17it/s]"
     ]
    },
    {
     "name": "stdout",
     "output_type": "stream",
     "text": [
      "cluster began\n",
      "cluster end\n"
     ]
    },
    {
     "name": "stderr",
     "output_type": "stream",
     "text": [
      "Computing transition probabilities: 100%|██████████| 11/11 [00:00<00:00, 421.36it/s]\n",
      "Generating walks (CPU: 1):  41%|████▏     | 31/75 [00:04<00:06,  6.88it/s]"
     ]
    },
    {
     "name": "stdout",
     "output_type": "stream",
     "text": [
      "[2.43478261e+00 0.00000000e+00 1.28300000e+03 4.06000000e+02\n",
      " 3.10000000e+01 4.00000000e+00 6.00000000e+00 0.00000000e+00\n",
      " 0.00000000e+00 2.40000000e+01 8.00000000e+00 8.00000000e+00\n",
      " 0.00000000e+00 0.00000000e+00 0.00000000e+00 1.00000000e+00\n",
      " 0.00000000e+00 0.00000000e+00]\n"
     ]
    },
    {
     "name": "stderr",
     "output_type": "stream",
     "text": [
      "\r",
      "Generating walks (CPU: 2):  61%|██████▏   | 46/75 [00:12<00:09,  3.08it/s]"
     ]
    },
    {
     "name": "stdout",
     "output_type": "stream",
     "text": [
      "Unk percentage: 0.03125\n"
     ]
    },
    {
     "name": "stderr",
     "output_type": "stream",
     "text": [
      "Generating walks (CPU: 1):  29%|██▉       | 22/75 [00:02<00:06,  7.72it/s]"
     ]
    },
    {
     "name": "stdout",
     "output_type": "stream",
     "text": [
      "cluster began\n",
      "cluster end\n"
     ]
    },
    {
     "name": "stderr",
     "output_type": "stream",
     "text": [
      "Computing transition probabilities: 100%|██████████| 18/18 [00:00<00:00, 248.96it/s]\n",
      "Generating walks (CPU: 1):  44%|████▍     | 33/75 [00:04<00:06,  6.01it/s]\n",
      "Generating walks (CPU: 1): 100%|██████████| 75/75 [00:07<00:00,  9.87it/s]\n",
      "Generating walks (CPU: 1):  51%|█████     | 38/75 [00:05<00:05,  6.36it/s]\n",
      "Generating walks (CPU: 2):  92%|█████████▏| 69/75 [00:06<00:00, 10.84it/s]\n",
      "Generating walks (CPU: 2):  72%|███████▏  | 54/75 [00:07<00:03,  6.64it/s]\n",
      "Generating walks (CPU: 2):  31%|███       | 23/75 [00:03<00:08,  5.96it/s]\n",
      "Generating walks (CPU: 3): 100%|██████████| 75/75 [00:07<00:00, 10.43it/s]\n",
      "Generating walks (CPU: 3):  84%|████████▍ | 63/75 [00:07<00:01,  6.64it/s]\n",
      "Generating walks (CPU: 4):  63%|██████▎   | 47/75 [00:04<00:02, 11.54it/s]\n",
      "Generating walks (CPU: 4):  76%|███████▌  | 57/75 [00:05<00:02,  8.96it/s]\n",
      "Generating walks (CPU: 3):  29%|██▉       | 22/75 [00:02<00:09,  5.82it/s]\n",
      "Generating walks (CPU: 4):  29%|██▉       | 22/75 [00:03<00:09,  5.76it/s]"
     ]
    },
    {
     "name": "stdout",
     "output_type": "stream",
     "text": [
      "[ 2.  0. 51. 58. 10.  0.  1.  0.  0.  0.  0.  0.  0.  0.  0.  0.  0.  0.]\n",
      "Unk percentage: 0.0\n"
     ]
    },
    {
     "name": "stderr",
     "output_type": "stream",
     "text": [
      "Generating walks (CPU: 3):  47%|████▋     | 35/75 [00:05<00:07,  5.70it/s]"
     ]
    },
    {
     "name": "stdout",
     "output_type": "stream",
     "text": [
      "cluster began\n",
      "cluster end\n"
     ]
    },
    {
     "name": "stderr",
     "output_type": "stream",
     "text": [
      "Computing transition probabilities: 100%|██████████| 20/20 [00:00<00:00, 2509.61it/s]\n",
      "Generating walks (CPU: 3):  88%|████████▊ | 66/75 [00:10<00:01,  5.30it/s]\n",
      "Generating walks (CPU: 3):  99%|█████████▊| 74/75 [00:12<00:00,  5.84it/s]"
     ]
    },
    {
     "name": "stdout",
     "output_type": "stream",
     "text": [
      "[  2.   0. 212. 136.  14.   1.   1.   0.   0.   0.   0.   0.   0.   0.\n",
      "   0.   0.   0.   0.]\n"
     ]
    },
    {
     "name": "stderr",
     "output_type": "stream",
     "text": [
      "\r",
      "Generating walks (CPU: 4):  73%|███████▎  | 55/75 [00:12<00:04,  4.37it/s]"
     ]
    },
    {
     "name": "stdout",
     "output_type": "stream",
     "text": [
      "Unk percentage: 0.0\n"
     ]
    },
    {
     "name": "stderr",
     "output_type": "stream",
     "text": [
      "Generating walks (CPU: 1):  53%|█████▎    | 40/75 [00:06<00:08,  4.16it/s]\n",
      "Generating walks (CPU: 4):  81%|████████▏ | 61/75 [00:13<00:03,  4.59it/s]"
     ]
    },
    {
     "name": "stdout",
     "output_type": "stream",
     "text": [
      "cluster began\n",
      "cluster end\n"
     ]
    },
    {
     "name": "stderr",
     "output_type": "stream",
     "text": [
      "Computing transition probabilities: 100%|██████████| 24/24 [00:00<00:00, 2447.26it/s]\n",
      "Generating walks (CPU: 1):  24%|██▍       | 18/75 [00:03<00:12,  4.70it/s]\n",
      "Generating walks (CPU: 1):  32%|███▏      | 24/75 [00:05<00:14,  3.45it/s]\n",
      "Generating walks (CPU: 4):  52%|█████▏    | 39/75 [00:07<00:07,  4.87it/s]"
     ]
    },
    {
     "name": "stdout",
     "output_type": "stream",
     "text": [
      "[2.14814815e+00 3.76984127e-02 2.25100000e+03 6.24000000e+02\n",
      " 3.70000000e+01 6.00000000e+00 6.00000000e+00 1.00000000e+00\n",
      " 0.00000000e+00 0.00000000e+00 0.00000000e+00 0.00000000e+00\n",
      " 0.00000000e+00 0.00000000e+00 0.00000000e+00 0.00000000e+00\n",
      " 0.00000000e+00 0.00000000e+00]"
     ]
    },
    {
     "name": "stderr",
     "output_type": "stream",
     "text": [
      "\r",
      "Generating walks (CPU: 2):   7%|▋         | 5/75 [00:00<00:10,  6.61it/s]"
     ]
    },
    {
     "name": "stdout",
     "output_type": "stream",
     "text": [
      "\n"
     ]
    },
    {
     "name": "stderr",
     "output_type": "stream",
     "text": [
      "\r",
      "Generating walks (CPU: 1):  36%|███▌      | 27/75 [00:06<00:13,  3.57it/s]"
     ]
    },
    {
     "name": "stdout",
     "output_type": "stream",
     "text": [
      "Unk percentage: 0.0\n"
     ]
    },
    {
     "name": "stderr",
     "output_type": "stream",
     "text": [
      "Generating walks (CPU: 1):  43%|████▎     | 32/75 [00:07<00:10,  4.11it/s]"
     ]
    },
    {
     "name": "stdout",
     "output_type": "stream",
     "text": [
      "cluster began\n"
     ]
    },
    {
     "name": "stderr",
     "output_type": "stream",
     "text": [
      "\r",
      "Generating walks (CPU: 4):  60%|██████    | 45/75 [00:08<00:06,  4.72it/s]"
     ]
    },
    {
     "name": "stdout",
     "output_type": "stream",
     "text": [
      "cluster end\n"
     ]
    },
    {
     "name": "stderr",
     "output_type": "stream",
     "text": [
      "Computing transition probabilities: 100%|██████████| 21/21 [00:00<00:00, 530.18it/s]\n",
      "Generating walks (CPU: 1):  35%|███▍      | 26/75 [00:05<00:10,  4.75it/s]\n",
      "Generating walks (CPU: 1):  47%|████▋     | 35/75 [00:06<00:07,  5.12it/s]"
     ]
    },
    {
     "name": "stdout",
     "output_type": "stream",
     "text": [
      "[  2.23529412   0.         452.         181.          16.\n",
      "   1.           1.           0.           0.          20.\n",
      "   4.           4.           0.           0.           0.\n",
      "   1.           0.           0.        ]\n",
      "Unk percentage: 0.019230769230769232\n"
     ]
    },
    {
     "name": "stderr",
     "output_type": "stream",
     "text": [
      "Generating walks (CPU: 1):  55%|█████▍    | 41/75 [00:08<00:06,  5.37it/s]"
     ]
    },
    {
     "name": "stdout",
     "output_type": "stream",
     "text": [
      "cluster began\n"
     ]
    },
    {
     "name": "stderr",
     "output_type": "stream",
     "text": [
      "\r",
      "Generating walks (CPU: 1):  56%|█████▌    | 42/75 [00:08<00:05,  5.61it/s]"
     ]
    },
    {
     "name": "stdout",
     "output_type": "stream",
     "text": [
      "cluster end\n"
     ]
    },
    {
     "name": "stderr",
     "output_type": "stream",
     "text": [
      "Computing transition probabilities: 100%|██████████| 29/29 [00:00<00:00, 713.30it/s]\n",
      "Generating walks (CPU: 1):   7%|▋         | 5/75 [00:01<00:15,  4.61it/s]]\n",
      "Generating walks (CPU: 1):  19%|█▊        | 14/75 [00:03<00:16,  3.63it/s]\n",
      "Generating walks (CPU: 1):  31%|███       | 23/75 [00:05<00:14,  3.62it/s]\n",
      "Generating walks (CPU: 2):  80%|████████  | 60/75 [00:11<00:03,  4.86it/s]\n",
      "Generating walks (CPU: 1):  96%|█████████▌| 72/75 [00:17<00:00,  3.40it/s]\n",
      "Generating walks (CPU: 2):  91%|█████████ | 68/75 [00:13<00:01,  4.79it/s]\n",
      "Generating walks (CPU: 3):  19%|█▊        | 14/75 [00:02<00:12,  5.02it/s]\n",
      "Generating walks (CPU: 3):  79%|███████▊  | 59/75 [00:11<00:03,  5.25it/s]\n",
      "Generating walks (CPU: 2):  75%|███████▍  | 56/75 [00:14<00:06,  2.89it/s]"
     ]
    },
    {
     "name": "stdout",
     "output_type": "stream",
     "text": [
      "[  2.10526316   0.         681.         255.          16.\n",
      "   0.           0.           0.           0.          15.\n",
      "   1.           1.           0.           0.           0.\n",
      "   0.           0.           0.        ]\n",
      "Unk percentage: 0.027777777777777776\n"
     ]
    },
    {
     "name": "stderr",
     "output_type": "stream",
     "text": [
      "Generating walks (CPU: 2):  76%|███████▌  | 57/75 [00:14<00:05,  3.20it/s]\n",
      "Generating walks (CPU: 2):  81%|████████▏ | 61/75 [00:15<00:03,  3.71it/s]"
     ]
    },
    {
     "name": "stdout",
     "output_type": "stream",
     "text": [
      "cluster began\n",
      "cluster end\n"
     ]
    },
    {
     "name": "stderr",
     "output_type": "stream",
     "text": [
      "Computing transition probabilities: 100%|██████████| 22/22 [00:00<00:00, 2471.53it/s]\n",
      "Generating walks (CPU: 1):   0%|          | 0/75 [00:00<?, ?it/s]\n",
      "Generating walks (CPU: 1):  21%|██▏       | 16/75 [00:03<00:10,  5.59it/s]\n",
      "Generating walks (CPU: 4):  96%|█████████▌| 72/75 [00:15<00:00,  4.66it/s]\n",
      "Generating walks (CPU: 1): 100%|██████████| 75/75 [00:14<00:00,  4.76it/s]\n",
      "Generating walks (CPU: 2):   3%|▎         | 2/75 [00:00<00:06, 10.54it/s]]\n",
      "Generating walks (CPU: 3):  72%|███████▏  | 54/75 [00:13<00:06,  3.40it/s]"
     ]
    },
    {
     "name": "stdout",
     "output_type": "stream",
     "text": [
      "[  1.9   0.  816.  306.   18.    0.    0.    0.    0.    0.    0.    0.\n",
      "   0.    0.    0.    0.    0.    0. ]\n"
     ]
    },
    {
     "name": "stderr",
     "output_type": "stream",
     "text": [
      "\r",
      "Generating walks (CPU: 2):  11%|█         | 8/75 [00:01<00:15,  4.37it/s]"
     ]
    },
    {
     "name": "stdout",
     "output_type": "stream",
     "text": [
      "Unk percentage: 0.0\n"
     ]
    },
    {
     "name": "stderr",
     "output_type": "stream",
     "text": [
      "Generating walks (CPU: 2):  13%|█▎        | 10/75 [00:02<00:15,  4.14it/s]"
     ]
    },
    {
     "name": "stdout",
     "output_type": "stream",
     "text": [
      "[   2.17391304    0.         1286.          445.           32.\n",
      "    4.            4.            0.            0.            0.\n",
      "    0.            0.            0.            0.            0.\n",
      "    0.            0.            0.        ]\n"
     ]
    },
    {
     "name": "stderr",
     "output_type": "stream",
     "text": [
      "\r",
      "Generating walks (CPU: 2):  15%|█▍        | 11/75 [00:02<00:15,  4.20it/s]"
     ]
    },
    {
     "name": "stdout",
     "output_type": "stream",
     "text": [
      "Unk percentage: 0.0\n"
     ]
    },
    {
     "name": "stderr",
     "output_type": "stream",
     "text": [
      "Generating walks (CPU: 2):  19%|█▊        | 14/75 [00:02<00:13,  4.49it/s]"
     ]
    },
    {
     "name": "stdout",
     "output_type": "stream",
     "text": [
      "cluster began\n",
      "cluster end\n"
     ]
    },
    {
     "name": "stderr",
     "output_type": "stream",
     "text": [
      "Computing transition probabilities: 100%|██████████| 24/24 [00:00<00:00, 3514.90it/s]\n",
      "Generating walks (CPU: 2):  23%|██▎       | 17/75 [00:03<00:12,  4.82it/s]"
     ]
    },
    {
     "name": "stdout",
     "output_type": "stream",
     "text": [
      "cluster began\n"
     ]
    },
    {
     "name": "stderr",
     "output_type": "stream",
     "text": [
      "\r",
      "Generating walks (CPU: 1):   5%|▌         | 4/75 [00:00<00:10,  6.81it/s]"
     ]
    },
    {
     "name": "stdout",
     "output_type": "stream",
     "text": [
      "cluster end\n"
     ]
    },
    {
     "name": "stderr",
     "output_type": "stream",
     "text": [
      "Computing transition probabilities: 100%|██████████| 14/14 [00:00<00:00, 5235.40it/s]\n",
      "Generating walks (CPU: 2):  47%|████▋     | 35/75 [00:07<00:08,  4.82it/s]\n",
      "Generating walks (CPU: 2):  95%|█████████▍| 71/75 [00:13<00:00,  4.99it/s]\n",
      "Generating walks (CPU: 4):  45%|████▌     | 34/75 [00:07<00:10,  3.85it/s]\n",
      "Generating walks (CPU: 2):  45%|████▌     | 34/75 [00:03<00:05,  8.07it/s]\n",
      "Generating walks (CPU: 4):  97%|█████████▋| 73/75 [00:16<00:00,  3.91it/s]\n",
      "Generating walks (CPU: 3):   9%|▉         | 7/75 [00:00<00:06,  9.92it/s]]\n",
      "Generating walks (CPU: 2):  53%|█████▎    | 40/75 [00:08<00:08,  4.29it/s]"
     ]
    },
    {
     "name": "stdout",
     "output_type": "stream",
     "text": [
      "[2.0e+00 0.0e+00 2.6e+03 6.5e+02 2.6e+01 0.0e+00 0.0e+00 0.0e+00 0.0e+00\n",
      " 0.0e+00 0.0e+00 0.0e+00 0.0e+00 0.0e+00 0.0e+00 0.0e+00 0.0e+00 0.0e+00]"
     ]
    },
    {
     "name": "stderr",
     "output_type": "stream",
     "text": [
      "Generating walks (CPU: 3):  83%|████████▎ | 62/75 [00:12<00:02,  4.52it/s]"
     ]
    },
    {
     "name": "stdout",
     "output_type": "stream",
     "text": [
      "\n",
      "Unk percentage: 0.0\n"
     ]
    },
    {
     "name": "stderr",
     "output_type": "stream",
     "text": [
      "Generating walks (CPU: 3):  91%|█████████ | 68/75 [00:13<00:01,  4.61it/s]"
     ]
    },
    {
     "name": "stdout",
     "output_type": "stream",
     "text": [
      "cluster began\n",
      "cluster end\n"
     ]
    },
    {
     "name": "stderr",
     "output_type": "stream",
     "text": [
      "Computing transition probabilities: 100%|██████████| 22/22 [00:00<00:00, 2172.04it/s]\n",
      "Generating walks (CPU: 3):  61%|██████▏   | 46/75 [00:06<00:04,  7.07it/s]\n",
      "Generating walks (CPU: 1):  37%|███▋      | 28/75 [00:05<00:08,  5.70it/s]\n",
      "Generating walks (CPU: 1):  44%|████▍     | 33/75 [00:06<00:07,  5.27it/s]\n",
      "Generating walks (CPU: 4):  87%|████████▋ | 65/75 [00:13<00:02,  4.00it/s]\n",
      "Generating walks (CPU: 3):  56%|█████▌    | 42/75 [00:09<00:07,  4.69it/s]\n",
      "Generating walks (CPU: 3):  64%|██████▍   | 48/75 [00:10<00:06,  4.34it/s]"
     ]
    },
    {
     "name": "stdout",
     "output_type": "stream",
     "text": [
      "[  1.69230769   0.         175.         101.          10.\n",
      "   0.           0.           0.           0.           0.\n",
      "   0.           0.           0.           0.           0.\n",
      "   0.           0.           0.        ]\n",
      "Unk percentage: 0.0\n"
     ]
    },
    {
     "name": "stderr",
     "output_type": "stream",
     "text": [
      "Generating walks (CPU: 3):  67%|██████▋   | 50/75 [00:11<00:05,  4.49it/s]\n",
      "Generating walks (CPU: 3):  71%|███████   | 53/75 [00:11<00:05,  4.01it/s]"
     ]
    },
    {
     "name": "stdout",
     "output_type": "stream",
     "text": [
      "cluster began\n",
      "cluster end\n"
     ]
    },
    {
     "name": "stderr",
     "output_type": "stream",
     "text": [
      "Computing transition probabilities: 100%|██████████| 21/21 [00:00<00:00, 3761.87it/s]\n",
      "Generating walks (CPU: 3):  77%|███████▋  | 58/75 [00:13<00:03,  4.52it/s]"
     ]
    },
    {
     "name": "stdout",
     "output_type": "stream",
     "text": [
      "[  2.   0. 955. 351.  22.   1.   1.   0.   0.   0.   0.   0.   0.   0.\n",
      "   0.   0.   0.   0.]"
     ]
    },
    {
     "name": "stderr",
     "output_type": "stream",
     "text": [
      "Generating walks (CPU: 2):  28%|██▊       | 21/75 [00:04<00:11,  4.52it/s]"
     ]
    },
    {
     "name": "stdout",
     "output_type": "stream",
     "text": [
      "\n"
     ]
    },
    {
     "name": "stderr",
     "output_type": "stream",
     "text": [
      "\r",
      "Generating walks (CPU: 3):  79%|███████▊  | 59/75 [00:13<00:03,  4.67it/s]"
     ]
    },
    {
     "name": "stdout",
     "output_type": "stream",
     "text": [
      "Unk percentage: 0.0\n"
     ]
    },
    {
     "name": "stderr",
     "output_type": "stream",
     "text": [
      "Generating walks (CPU: 2):  37%|███▋      | 28/75 [00:05<00:09,  5.03it/s]"
     ]
    },
    {
     "name": "stdout",
     "output_type": "stream",
     "text": [
      "cluster began\n",
      "cluster end\n"
     ]
    },
    {
     "name": "stderr",
     "output_type": "stream",
     "text": [
      "Computing transition probabilities: 100%|██████████| 16/16 [00:00<00:00, 4216.18it/s]\n",
      "Generating walks (CPU: 1):  35%|███▍      | 26/75 [00:04<00:08,  5.60it/s]\n",
      "Generating walks (CPU: 1):  83%|████████▎ | 62/75 [00:11<00:02,  5.52it/s]\n",
      "Generating walks (CPU: 1):  99%|█████████▊| 74/75 [00:10<00:00,  7.58it/s]\n",
      "Generating walks (CPU: 2):   3%|▎         | 2/75 [00:00<00:06, 11.95it/s]]\n",
      "Generating walks (CPU: 2):  57%|█████▋    | 43/75 [00:06<00:05,  6.13it/s]\n",
      "Generating walks (CPU: 2):  64%|██████▍   | 48/75 [00:09<00:06,  4.15it/s]"
     ]
    },
    {
     "name": "stdout",
     "output_type": "stream",
     "text": [
      "[2.43478261e+00 9.42028986e-03 1.23700000e+03 4.81000000e+02\n",
      " 4.00000000e+01 5.00000000e+00 7.00000000e+00 0.00000000e+00\n",
      " 1.00000000e+00 0.00000000e+00 0.00000000e+00 0.00000000e+00\n",
      " 0.00000000e+00 0.00000000e+00 0.00000000e+00 0.00000000e+00\n",
      " 0.00000000e+00 0.00000000e+00]\n"
     ]
    },
    {
     "name": "stderr",
     "output_type": "stream",
     "text": [
      "\r",
      "Generating walks (CPU: 3):  77%|███████▋  | 58/75 [00:11<00:03,  5.40it/s]"
     ]
    },
    {
     "name": "stdout",
     "output_type": "stream",
     "text": [
      "Unk percentage: 0.0\n"
     ]
    },
    {
     "name": "stderr",
     "output_type": "stream",
     "text": [
      "Generating walks (CPU: 3):  87%|████████▋ | 65/75 [00:12<00:01,  5.72it/s]"
     ]
    },
    {
     "name": "stdout",
     "output_type": "stream",
     "text": [
      "cluster began\n",
      "cluster end\n"
     ]
    },
    {
     "name": "stderr",
     "output_type": "stream",
     "text": [
      "Computing transition probabilities: 100%|██████████| 17/17 [00:00<00:00, 4494.09it/s]\n",
      "Generating walks (CPU: 2):  87%|████████▋ | 65/75 [00:12<00:01,  5.56it/s]\n",
      "Generating walks (CPU: 1):  17%|█▋        | 13/75 [00:01<00:09,  6.23it/s]\n",
      "Generating walks (CPU: 1):  35%|███▍      | 26/75 [00:04<00:08,  5.50it/s]\n",
      "Generating walks (CPU: 3):  53%|█████▎    | 40/75 [00:08<00:07,  4.46it/s]\n",
      "Generating walks (CPU: 4):  80%|████████  | 60/75 [00:11<00:02,  5.47it/s]\n",
      "Generating walks (CPU: 4):  27%|██▋       | 20/75 [00:03<00:09,  5.63it/s]\n",
      "Generating walks (CPU: 2):  55%|█████▍    | 41/75 [00:06<00:06,  5.30it/s]"
     ]
    },
    {
     "name": "stdout",
     "output_type": "stream",
     "text": [
      "[  2.0952381   0.        956.        332.         21.          1.\n",
      "   1.          0.          0.         17.          1.          1.\n",
      "   0.          0.          0.          0.          0.          0.       ]\n"
     ]
    },
    {
     "name": "stderr",
     "output_type": "stream",
     "text": [
      "\r",
      "Generating walks (CPU: 4):  45%|████▌     | 34/75 [00:05<00:06,  6.22it/s]"
     ]
    },
    {
     "name": "stdout",
     "output_type": "stream",
     "text": [
      "Unk percentage: 0.0\n"
     ]
    },
    {
     "name": "stderr",
     "output_type": "stream",
     "text": [
      "Generating walks (CPU: 2):  61%|██████▏   | 46/75 [00:07<00:04,  5.98it/s]\n",
      "Generating walks (CPU: 2):  68%|██████▊   | 51/75 [00:07<00:03,  6.82it/s]"
     ]
    },
    {
     "name": "stdout",
     "output_type": "stream",
     "text": [
      "cluster began\n"
     ]
    },
    {
     "name": "stderr",
     "output_type": "stream",
     "text": [
      "\r",
      "Generating walks (CPU: 4):  56%|█████▌    | 42/75 [00:06<00:06,  5.12it/s]"
     ]
    },
    {
     "name": "stdout",
     "output_type": "stream",
     "text": [
      "cluster end\n"
     ]
    },
    {
     "name": "stderr",
     "output_type": "stream",
     "text": [
      "Computing transition probabilities: 100%|██████████| 13/13 [00:00<00:00, 305.51it/s]\n",
      "Generating walks (CPU: 1):  39%|███▊      | 29/75 [00:03<00:07,  6.47it/s]\n",
      "Generating walks (CPU: 4):  45%|████▌     | 34/75 [00:06<00:07,  5.18it/s]\n",
      "Generating walks (CPU: 1):  68%|██████▊   | 51/75 [00:07<00:03,  7.22it/s]"
     ]
    },
    {
     "name": "stdout",
     "output_type": "stream",
     "text": [
      "[2.53333333e+00 6.88888889e-02 2.58000000e+02 1.54000000e+02\n",
      " 2.10000000e+01 4.00000000e+00 4.00000000e+00 1.00000000e+00\n",
      " 0.00000000e+00 7.00000000e+00 3.00000000e+00 3.00000000e+00\n",
      " 0.00000000e+00 0.00000000e+00 0.00000000e+00 0.00000000e+00\n",
      " 0.00000000e+00 0.00000000e+00]"
     ]
    },
    {
     "name": "stderr",
     "output_type": "stream",
     "text": [
      "\r",
      "Generating walks (CPU: 3):  25%|██▌       | 19/75 [00:03<00:08,  6.76it/s]"
     ]
    },
    {
     "name": "stdout",
     "output_type": "stream",
     "text": [
      "\n",
      "Unk percentage: 0.0\n"
     ]
    },
    {
     "name": "stderr",
     "output_type": "stream",
     "text": [
      "Generating walks (CPU: 4):  67%|██████▋   | 50/75 [00:09<00:04,  5.50it/s]"
     ]
    },
    {
     "name": "stdout",
     "output_type": "stream",
     "text": [
      "cluster began\n",
      "cluster end\n"
     ]
    },
    {
     "name": "stderr",
     "output_type": "stream",
     "text": [
      "Computing transition probabilities: 100%|██████████| 31/31 [00:00<00:00, 1683.67it/s]\n",
      "Generating walks (CPU: 3):  51%|█████     | 38/75 [00:06<00:05,  6.41it/s]\n",
      "Generating walks (CPU: 2):  35%|███▍      | 26/75 [00:03<00:06,  7.15it/s]\n",
      "Generating walks (CPU: 3):  96%|█████████▌| 72/75 [00:11<00:00,  5.55it/s]"
     ]
    },
    {
     "name": "stdout",
     "output_type": "stream",
     "text": [
      "[  2.2   0.  777.  330.   27.    3.    3.    0.    0.    0.    0.    0.\n",
      "   0.    0.    0.    0.    0.    0. ]\n",
      "Unk percentage: 0.0\n"
     ]
    },
    {
     "name": "stderr",
     "output_type": "stream",
     "text": [
      "Generating walks (CPU: 2):  63%|██████▎   | 47/75 [00:06<00:03,  7.06it/s]\n",
      "Generating walks (CPU: 2):  69%|██████▉   | 52/75 [00:06<00:03,  7.24it/s]"
     ]
    },
    {
     "name": "stdout",
     "output_type": "stream",
     "text": [
      "cluster began\n",
      "cluster end\n"
     ]
    },
    {
     "name": "stderr",
     "output_type": "stream",
     "text": [
      "Computing transition probabilities: 100%|██████████| 37/37 [00:00<00:00, 1550.79it/s]\n",
      "Generating walks (CPU: 4):  35%|███▍      | 26/75 [00:03<00:07,  6.60it/s]\n",
      "Generating walks (CPU: 3):  85%|████████▌ | 64/75 [00:07<00:01,  7.65it/s]\n",
      "\n",
      "Generating walks (CPU: 2):   8%|▊         | 6/75 [00:01<00:17,  3.91it/s]]\n",
      "Generating walks (CPU: 4):   0%|          | 0/75 [00:00<?, ?it/s]3.30it/s]"
     ]
    },
    {
     "name": "stdout",
     "output_type": "stream",
     "text": [
      "[  2.   0. 365. 168.  13.   0.   0.   0.   0.  12.   1.   1.   0.   0.\n",
      "   0.   0.   0.   0.]\n"
     ]
    },
    {
     "name": "stderr",
     "output_type": "stream",
     "text": [
      "\r",
      "Generating walks (CPU: 4):   3%|▎         | 2/75 [00:00<00:05, 13.32it/s]"
     ]
    },
    {
     "name": "stdout",
     "output_type": "stream",
     "text": [
      "Unk percentage: 0.0\n"
     ]
    },
    {
     "name": "stderr",
     "output_type": "stream",
     "text": [
      "Generating walks (CPU: 4):  16%|█▌        | 12/75 [00:01<00:08,  7.08it/s]"
     ]
    },
    {
     "name": "stdout",
     "output_type": "stream",
     "text": [
      "cluster began\n",
      "cluster end\n"
     ]
    },
    {
     "name": "stderr",
     "output_type": "stream",
     "text": [
      "Computing transition probabilities: 100%|██████████| 25/25 [00:00<00:00, 2446.57it/s]\n",
      "Generating walks (CPU: 2):  56%|█████▌    | 42/75 [00:10<00:08,  3.82it/s]\n",
      "Generating walks (CPU: 2):  61%|██████▏   | 46/75 [00:12<00:08,  3.38it/s]"
     ]
    },
    {
     "name": "stdout",
     "output_type": "stream",
     "text": [
      "[  2.16666667   0.         114.          82.          18.\n",
      "   3.           3.           0.           0.           0.\n",
      "   0.           0.           0.           0.           0.\n",
      "   0.           0.           0.        ]\n",
      "Unk percentage: 0.0\n"
     ]
    },
    {
     "name": "stderr",
     "output_type": "stream",
     "text": [
      "Generating walks (CPU: 2):  63%|██████▎   | 47/75 [00:12<00:07,  3.69it/s]\n",
      "Generating walks (CPU: 2):  69%|██████▉   | 52/75 [00:13<00:06,  3.79it/s]"
     ]
    },
    {
     "name": "stdout",
     "output_type": "stream",
     "text": [
      "cluster began\n",
      "cluster end\n"
     ]
    },
    {
     "name": "stderr",
     "output_type": "stream",
     "text": [
      "Computing transition probabilities: 100%|██████████| 27/27 [00:00<00:00, 897.28it/s]\n",
      "Generating walks (CPU: 2): 100%|██████████| 75/75 [00:20<00:00,  3.74it/s]\n",
      "Generating walks (CPU: 1):  37%|███▋      | 28/75 [00:06<00:11,  4.03it/s]\n",
      "Generating walks (CPU: 2):  75%|███████▍  | 56/75 [00:11<00:03,  5.26it/s]\n",
      "Generating walks (CPU: 2):  17%|█▋        | 13/75 [00:02<00:13,  4.56it/s]\n",
      "Generating walks (CPU: 2):  27%|██▋       | 20/75 [00:04<00:10,  5.05it/s]\n",
      "Generating walks (CPU: 2):  47%|████▋     | 35/75 [00:07<00:09,  4.08it/s]\n",
      "Generating walks (CPU: 3):  84%|████████▍ | 63/75 [00:12<00:02,  4.74it/s]\n",
      "Generating walks (CPU: 4):  64%|██████▍   | 48/75 [00:11<00:06,  4.31it/s]\n",
      "Generating walks (CPU: 3):  47%|████▋     | 35/75 [00:07<00:09,  4.18it/s]\n",
      "Generating walks (CPU: 3):  59%|█████▊    | 44/75 [00:10<00:07,  4.07it/s]\n",
      "Generating walks (CPU: 3):  76%|███████▌  | 57/75 [00:13<00:05,  3.56it/s]"
     ]
    },
    {
     "name": "stdout",
     "output_type": "stream",
     "text": [
      "[2.06666667e+00 0.00000000e+00 3.25400000e+03 7.46000000e+02\n",
      " 3.00000000e+01 1.00000000e+00 1.00000000e+00 0.00000000e+00\n",
      " 0.00000000e+00 2.60000000e+01 1.00000000e+00 1.00000000e+00\n",
      " 0.00000000e+00 0.00000000e+00 0.00000000e+00 0.00000000e+00\n",
      " 0.00000000e+00 0.00000000e+00]"
     ]
    },
    {
     "name": "stderr",
     "output_type": "stream",
     "text": [
      "\r",
      "Generating walks (CPU: 4):  23%|██▎       | 17/75 [00:05<00:21,  2.71it/s]"
     ]
    },
    {
     "name": "stdout",
     "output_type": "stream",
     "text": [
      "\n"
     ]
    },
    {
     "name": "stderr",
     "output_type": "stream",
     "text": [
      "\r",
      "Generating walks (CPU: 4):  63%|██████▎   | 47/75 [00:10<00:06,  4.31it/s]"
     ]
    },
    {
     "name": "stdout",
     "output_type": "stream",
     "text": [
      "Unk percentage: 0.046511627906976744\n"
     ]
    },
    {
     "name": "stderr",
     "output_type": "stream",
     "text": [
      "Generating walks (CPU: 3):  87%|████████▋ | 65/75 [00:14<00:01,  5.17it/s]"
     ]
    },
    {
     "name": "stdout",
     "output_type": "stream",
     "text": [
      "cluster began\n",
      "cluster end\n"
     ]
    },
    {
     "name": "stderr",
     "output_type": "stream",
     "text": [
      "Computing transition probabilities: 100%|██████████| 24/24 [00:00<00:00, 2004.33it/s]\n",
      "Generating walks (CPU: 1):  16%|█▌        | 12/75 [00:02<00:14,  4.37it/s]\n",
      "Generating walks (CPU: 4):  13%|█▎        | 10/75 [00:02<00:14,  4.63it/s]\n",
      "Generating walks (CPU: 4):  25%|██▌       | 19/75 [00:04<00:15,  3.56it/s]"
     ]
    },
    {
     "name": "stdout",
     "output_type": "stream",
     "text": [
      "[   2.33333333    0.         1479.          480.           33.\n",
      "    5.            5.            0.            0.           16.\n",
      "    3.            3.            0.            0.            0.\n",
      "    0.            0.            0.        ]\n"
     ]
    },
    {
     "name": "stderr",
     "output_type": "stream",
     "text": [
      "\r",
      "Generating walks (CPU: 1):  44%|████▍     | 33/75 [00:07<00:08,  4.90it/s]"
     ]
    },
    {
     "name": "stdout",
     "output_type": "stream",
     "text": [
      "Unk percentage: 0.0\n"
     ]
    },
    {
     "name": "stderr",
     "output_type": "stream",
     "text": [
      "Generating walks (CPU: 1):  53%|█████▎    | 40/75 [00:08<00:07,  4.87it/s]"
     ]
    },
    {
     "name": "stdout",
     "output_type": "stream",
     "text": [
      "cluster began\n",
      "cluster end\n"
     ]
    },
    {
     "name": "stderr",
     "output_type": "stream",
     "text": [
      "Computing transition probabilities: 100%|██████████| 31/31 [00:00<00:00, 668.65it/s]\n",
      "Generating walks (CPU: 4):  76%|███████▌  | 57/75 [00:13<00:04,  4.37it/s]\n",
      "Generating walks (CPU: 4):  81%|████████▏ | 61/75 [00:13<00:02,  4.76it/s]\n",
      "Generating walks (CPU: 2):  25%|██▌       | 19/75 [00:04<00:14,  3.76it/s]\n",
      "Generating walks (CPU: 2):  27%|██▋       | 20/75 [00:04<00:15,  3.53it/s]"
     ]
    },
    {
     "name": "stdout",
     "output_type": "stream",
     "text": [
      "[2.05555556e+00 1.85185185e-02 5.92900000e+03 1.16500000e+03\n",
      " 4.10000000e+01 2.00000000e+00 2.00000000e+00 0.00000000e+00\n",
      " 1.00000000e+00 0.00000000e+00 0.00000000e+00 0.00000000e+00\n",
      " 0.00000000e+00 0.00000000e+00 0.00000000e+00 0.00000000e+00\n",
      " 0.00000000e+00 0.00000000e+00]\n",
      "Unk percentage: 0.016129032258064516\n"
     ]
    },
    {
     "name": "stderr",
     "output_type": "stream",
     "text": [
      "Generating walks (CPU: 1):  68%|██████▊   | 51/75 [00:13<00:07,  3.35it/s]"
     ]
    },
    {
     "name": "stdout",
     "output_type": "stream",
     "text": [
      "cluster began\n",
      "cluster end\n"
     ]
    },
    {
     "name": "stderr",
     "output_type": "stream",
     "text": [
      "Computing transition probabilities: 100%|██████████| 32/32 [00:00<00:00, 1929.41it/s]\n",
      "Generating walks (CPU: 2):  39%|███▊      | 29/75 [00:06<00:09,  4.63it/s]"
     ]
    },
    {
     "name": "stdout",
     "output_type": "stream",
     "text": [
      "[2.46153846e+00 0.00000000e+00 1.94000000e+03 5.62000000e+02\n",
      " 3.90000000e+01 6.00000000e+00 6.00000000e+00 0.00000000e+00\n",
      " 0.00000000e+00 3.80000000e+01 4.00000000e+00 4.00000000e+00\n",
      " 0.00000000e+00 0.00000000e+00 0.00000000e+00 1.00000000e+00\n",
      " 0.00000000e+00 0.00000000e+00]\n"
     ]
    },
    {
     "name": "stderr",
     "output_type": "stream",
     "text": [
      "\r",
      "Generating walks (CPU: 1):  71%|███████   | 53/75 [00:13<00:07,  2.91it/s]"
     ]
    },
    {
     "name": "stdout",
     "output_type": "stream",
     "text": [
      "Unk percentage: 0.0\n"
     ]
    },
    {
     "name": "stderr",
     "output_type": "stream",
     "text": [
      "Generating walks (CPU: 1):  77%|███████▋  | 58/75 [00:15<00:04,  3.58it/s]"
     ]
    },
    {
     "name": "stdout",
     "output_type": "stream",
     "text": [
      "cluster began\n",
      "cluster end\n"
     ]
    },
    {
     "name": "stderr",
     "output_type": "stream",
     "text": [
      "Computing transition probabilities: 100%|██████████| 19/19 [00:00<00:00, 4138.33it/s]\n",
      "Generating walks (CPU: 1):  36%|███▌      | 27/75 [00:04<00:07,  6.50it/s]\n",
      "Generating walks (CPU: 1):  72%|███████▏  | 54/75 [00:08<00:03,  5.75it/s]\n",
      "Generating walks (CPU: 1):  77%|███████▋  | 58/75 [00:14<00:04,  4.16it/s]\n",
      "Generating walks (CPU: 2):  69%|██████▉   | 52/75 [00:13<00:06,  3.79it/s]\n",
      "Generating walks (CPU: 3):  99%|█████████▊| 74/75 [00:15<00:00,  4.30it/s]\n",
      "Generating walks (CPU: 2):  36%|███▌      | 27/75 [00:06<00:12,  3.96it/s]\n",
      "Generating walks (CPU: 3):   7%|▋         | 5/75 [00:00<00:11,  5.89it/s]]\n",
      "Generating walks (CPU: 3):  72%|███████▏  | 54/75 [00:13<00:05,  4.14it/s]\n",
      "Generating walks (CPU: 3):   5%|▌         | 4/75 [00:00<00:12,  5.85it/s]]\n",
      "Generating walks (CPU: 4):  16%|█▌        | 12/75 [00:01<00:10,  6.17it/s]\n",
      "Generating walks (CPU: 3):  96%|█████████▌| 72/75 [00:18<00:00,  3.76it/s]"
     ]
    },
    {
     "name": "stdout",
     "output_type": "stream",
     "text": [
      "[2.26086957e+00 4.49275362e-02 1.26900000e+03 4.59000000e+02\n",
      " 3.20000000e+01 5.00000000e+00 5.00000000e+00 1.00000000e+00\n",
      " 0.00000000e+00 0.00000000e+00 0.00000000e+00 0.00000000e+00\n",
      " 0.00000000e+00 0.00000000e+00 0.00000000e+00 0.00000000e+00\n",
      " 0.00000000e+00 0.00000000e+00]\n",
      "Unk percentage: 0.0\n"
     ]
    },
    {
     "name": "stderr",
     "output_type": "stream",
     "text": [
      "Generating walks (CPU: 4):  37%|███▋      | 28/75 [00:04<00:08,  5.51it/s]\n",
      "Generating walks (CPU: 3):  31%|███       | 23/75 [00:06<00:16,  3.24it/s]"
     ]
    },
    {
     "name": "stdout",
     "output_type": "stream",
     "text": [
      "cluster began\n",
      "cluster end\n"
     ]
    },
    {
     "name": "stderr",
     "output_type": "stream",
     "text": [
      "Computing transition probabilities: 100%|██████████| 26/26 [00:00<00:00, 3574.77it/s]\n",
      "Generating walks (CPU: 1):  41%|████▏     | 31/75 [00:06<00:10,  4.31it/s]\n",
      "Generating walks (CPU: 3):  76%|███████▌  | 57/75 [00:14<00:05,  3.52it/s]"
     ]
    },
    {
     "name": "stdout",
     "output_type": "stream",
     "text": [
      "[  2.33333333   0.         543.         222.          18.\n",
      "   1.           1.           0.           0.          20.\n",
      "   5.           5.           0.           0.           0.\n",
      "   1.           0.           0.        ]\n"
     ]
    },
    {
     "name": "stderr",
     "output_type": "stream",
     "text": [
      "\r",
      "Generating walks (CPU: 1):  52%|█████▏    | 39/75 [00:08<00:07,  4.67it/s]"
     ]
    },
    {
     "name": "stdout",
     "output_type": "stream",
     "text": [
      "Unk percentage: 0.0\n"
     ]
    },
    {
     "name": "stderr",
     "output_type": "stream",
     "text": [
      "Generating walks (CPU: 4):  56%|█████▌    | 42/75 [00:10<00:07,  4.32it/s]"
     ]
    },
    {
     "name": "stdout",
     "output_type": "stream",
     "text": [
      "cluster began\n",
      "cluster end\n"
     ]
    },
    {
     "name": "stderr",
     "output_type": "stream",
     "text": [
      "Computing transition probabilities: 100%|██████████| 14/14 [00:00<00:00, 886.58it/s]\n",
      "Generating walks (CPU: 1):  36%|███▌      | 27/75 [00:03<00:06,  7.56it/s]\n",
      "Generating walks (CPU: 1):  71%|███████   | 53/75 [00:06<00:02,  7.69it/s]\n",
      "Generating walks (CPU: 1):  83%|████████▎ | 62/75 [00:07<00:01,  6.87it/s]\n",
      "Generating walks (CPU: 2):  21%|██▏       | 16/75 [00:03<00:13,  4.32it/s]\n",
      "Generating walks (CPU: 4):  40%|████      | 30/75 [00:07<00:12,  3.49it/s]"
     ]
    },
    {
     "name": "stdout",
     "output_type": "stream",
     "text": [
      "[2.06666667e+00 0.00000000e+00 3.23400000e+03 7.84000000e+02\n",
      " 3.60000000e+01 3.00000000e+00 3.00000000e+00 0.00000000e+00\n",
      " 0.00000000e+00 0.00000000e+00 0.00000000e+00 0.00000000e+00\n",
      " 0.00000000e+00 0.00000000e+00 0.00000000e+00 0.00000000e+00\n",
      " 0.00000000e+00 0.00000000e+00]\n"
     ]
    },
    {
     "name": "stderr",
     "output_type": "stream",
     "text": [
      "Generating walks (CPU: 2):  11%|█         | 8/75 [00:00<00:07,  8.38it/s]]"
     ]
    },
    {
     "name": "stdout",
     "output_type": "stream",
     "text": [
      "Unk percentage: 0.0\n"
     ]
    },
    {
     "name": "stderr",
     "output_type": "stream",
     "text": [
      "Generating walks (CPU: 2):  29%|██▉       | 22/75 [00:02<00:06,  7.58it/s]"
     ]
    },
    {
     "name": "stdout",
     "output_type": "stream",
     "text": [
      "cluster began\n",
      "cluster end\n"
     ]
    },
    {
     "name": "stderr",
     "output_type": "stream",
     "text": [
      "Computing transition probabilities: 100%|██████████| 31/31 [00:00<00:00, 2532.45it/s]\n",
      "Generating walks (CPU: 2):  80%|████████  | 60/75 [00:12<00:02,  5.05it/s]\n",
      "Generating walks (CPU: 3):  31%|███       | 23/75 [00:02<00:07,  7.19it/s]\n",
      "Generating walks (CPU: 3):   3%|▎         | 2/75 [00:00<00:08,  8.61it/s]]\n",
      "Generating walks (CPU: 1):  69%|██████▉   | 52/75 [00:12<00:06,  3.81it/s]"
     ]
    },
    {
     "name": "stdout",
     "output_type": "stream",
     "text": [
      "[2.19354839e+00 0.00000000e+00 3.58200000e+03 8.40000000e+02\n",
      " 5.30000000e+01 1.00000000e+01 1.00000000e+01 0.00000000e+00\n",
      " 0.00000000e+00 0.00000000e+00 0.00000000e+00 0.00000000e+00\n",
      " 0.00000000e+00 0.00000000e+00 0.00000000e+00 0.00000000e+00\n",
      " 0.00000000e+00 0.00000000e+00]\n"
     ]
    },
    {
     "name": "stderr",
     "output_type": "stream",
     "text": [
      "\r",
      "Generating walks (CPU: 3):  64%|██████▍   | 48/75 [00:06<00:04,  6.12it/s]"
     ]
    },
    {
     "name": "stdout",
     "output_type": "stream",
     "text": [
      "Unk percentage: 0.0\n"
     ]
    },
    {
     "name": "stderr",
     "output_type": "stream",
     "text": [
      "Generating walks (CPU: 1):  77%|███████▋  | 58/75 [00:14<00:03,  4.44it/s]"
     ]
    },
    {
     "name": "stdout",
     "output_type": "stream",
     "text": [
      "cluster began\n",
      "cluster end\n"
     ]
    },
    {
     "name": "stderr",
     "output_type": "stream",
     "text": [
      "Computing transition probabilities: 100%|██████████| 15/15 [00:00<00:00, 5433.97it/s]\n",
      "Generating walks (CPU: 1):  24%|██▍       | 18/75 [00:02<00:07,  7.49it/s]\n",
      "Generating walks (CPU: 4):  23%|██▎       | 17/75 [00:01<00:06,  8.51it/s]\n",
      "Generating walks (CPU: 1): 100%|██████████| 75/75 [00:10<00:00,  7.35it/s]\n",
      "Generating walks (CPU: 2):   9%|▉         | 7/75 [00:00<00:09,  6.85it/s]]\n",
      "Generating walks (CPU: 2):  16%|█▌        | 12/75 [00:01<00:09,  6.50it/s]\n",
      "Generating walks (CPU: 2):  23%|██▎       | 17/75 [00:02<00:08,  6.79it/s]"
     ]
    },
    {
     "name": "stdout",
     "output_type": "stream",
     "text": [
      "[2.15384615e+00 5.76923077e-02 1.51000000e+02 1.17000000e+02\n",
      " 1.50000000e+01 1.00000000e+00 1.00000000e+00 0.00000000e+00\n",
      " 1.00000000e+00 0.00000000e+00 0.00000000e+00 0.00000000e+00\n",
      " 0.00000000e+00 0.00000000e+00 0.00000000e+00 0.00000000e+00\n",
      " 0.00000000e+00 0.00000000e+00]\n",
      "Unk percentage: 0.0\n"
     ]
    },
    {
     "name": "stderr",
     "output_type": "stream",
     "text": [
      "Generating walks (CPU: 2):  35%|███▍      | 26/75 [00:03<00:07,  6.51it/s]"
     ]
    },
    {
     "name": "stdout",
     "output_type": "stream",
     "text": [
      "cluster began\n",
      "cluster end\n"
     ]
    },
    {
     "name": "stderr",
     "output_type": "stream",
     "text": [
      "Computing transition probabilities: 100%|██████████| 16/16 [00:00<00:00, 811.47it/s]\n",
      "Generating walks (CPU: 1):  59%|█████▊    | 44/75 [00:06<00:05,  6.18it/s]\n",
      "Generating walks (CPU: 1):  79%|███████▊  | 59/75 [00:08<00:02,  6.97it/s]\n",
      "Generating walks (CPU: 4):  80%|████████  | 60/75 [00:13<00:03,  4.39it/s]\n",
      "Generating walks (CPU: 3):  79%|███████▊  | 59/75 [00:08<00:02,  6.60it/s]\n",
      "Generating walks (CPU: 2):  56%|█████▌    | 42/75 [00:06<00:05,  6.11it/s]\n",
      "Generating walks (CPU: 3):  47%|████▋     | 35/75 [00:08<00:13,  2.99it/s]"
     ]
    },
    {
     "name": "stdout",
     "output_type": "stream",
     "text": [
      "[   2.16    0.   1721.    537.     34.      4.      4.      0.      0.\n",
      "    0.      0.      0.      0.      0.      0.      0.      0.      0.  ]"
     ]
    },
    {
     "name": "stderr",
     "output_type": "stream",
     "text": [
      "Generating walks (CPU: 2):  59%|█████▊    | 44/75 [00:06<00:04,  6.28it/s]"
     ]
    },
    {
     "name": "stdout",
     "output_type": "stream",
     "text": [
      "\n",
      "Unk percentage: 0.0\n"
     ]
    },
    {
     "name": "stderr",
     "output_type": "stream",
     "text": [
      "Generating walks (CPU: 2):  73%|███████▎  | 55/75 [00:08<00:03,  6.59it/s]"
     ]
    },
    {
     "name": "stdout",
     "output_type": "stream",
     "text": [
      "cluster began\n",
      "cluster end\n"
     ]
    },
    {
     "name": "stderr",
     "output_type": "stream",
     "text": [
      "Computing transition probabilities: 100%|██████████| 30/30 [00:00<00:00, 868.67it/s]\n",
      "Generating walks (CPU: 2): 100%|██████████| 75/75 [00:11<00:00,  5.68it/s]\n",
      "Generating walks (CPU: 4):  99%|█████████▊| 74/75 [00:10<00:00,  6.59it/s]\n",
      "Generating walks (CPU: 3):  52%|█████▏    | 39/75 [00:05<00:05,  6.60it/s]\n",
      "Generating walks (CPU: 3):  63%|██████▎   | 47/75 [00:06<00:05,  5.21it/s]"
     ]
    },
    {
     "name": "stdout",
     "output_type": "stream",
     "text": [
      "[  2.   0. 221. 120.  11.   0.   0.   0.   0.  10.   1.   1.   0.   0.\n",
      "   0.   0.   0.   0.]\n",
      "Unk percentage: 0.0\n"
     ]
    },
    {
     "name": "stderr",
     "output_type": "stream",
     "text": [
      "Generating walks (CPU: 1):  65%|██████▌   | 49/75 [00:11<00:06,  4.16it/s]"
     ]
    },
    {
     "name": "stdout",
     "output_type": "stream",
     "text": [
      "cluster began\n",
      "cluster end\n"
     ]
    },
    {
     "name": "stderr",
     "output_type": "stream",
     "text": [
      "Computing transition probabilities: 100%|██████████| 19/19 [00:00<00:00, 1610.06it/s]\n",
      "Generating walks (CPU: 1):  24%|██▍       | 18/75 [00:03<00:11,  5.05it/s]\n",
      "Generating walks (CPU: 4):  49%|████▉     | 37/75 [00:10<00:11,  3.27it/s]\n",
      "Generating walks (CPU: 4):  93%|█████████▎| 70/75 [00:10<00:00,  6.85it/s]\n",
      "Generating walks (CPU: 2):  43%|████▎     | 32/75 [00:07<00:10,  4.27it/s]\n",
      "Generating walks (CPU: 4):  96%|█████████▌| 72/75 [00:19<00:00,  3.78it/s]"
     ]
    },
    {
     "name": "stdout",
     "output_type": "stream",
     "text": [
      "[  2.   0. 276. 163.  15.   0.   1.   0.   0.   0.   0.   0.   0.   0.\n",
      "   0.   0.   0.   0.]"
     ]
    },
    {
     "name": "stderr",
     "output_type": "stream",
     "text": [
      "\r",
      "Generating walks (CPU: 2):  19%|█▊        | 14/75 [00:02<00:11,  5.25it/s]"
     ]
    },
    {
     "name": "stdout",
     "output_type": "stream",
     "text": [
      "\n"
     ]
    },
    {
     "name": "stderr",
     "output_type": "stream",
     "text": [
      "\r",
      "Generating walks (CPU: 2):  53%|█████▎    | 40/75 [00:09<00:07,  4.66it/s]"
     ]
    },
    {
     "name": "stdout",
     "output_type": "stream",
     "text": [
      "Unk percentage: 0.020833333333333332\n"
     ]
    },
    {
     "name": "stderr",
     "output_type": "stream",
     "text": [
      "Generating walks (CPU: 2):  57%|█████▋    | 43/75 [00:10<00:07,  4.14it/s]\n",
      "Generating walks (CPU: 2):  28%|██▊       | 21/75 [00:03<00:09,  5.51it/s]"
     ]
    },
    {
     "name": "stdout",
     "output_type": "stream",
     "text": [
      "cluster began\n",
      "cluster end\n"
     ]
    },
    {
     "name": "stderr",
     "output_type": "stream",
     "text": [
      "Computing transition probabilities: 100%|██████████| 22/22 [00:00<00:00, 611.22it/s]\n",
      "Generating walks (CPU: 2):  45%|████▌     | 34/75 [00:06<00:07,  5.23it/s]"
     ]
    },
    {
     "name": "stdout",
     "output_type": "stream",
     "text": [
      "[2.53333333e+00 1.35209235e-01 3.13400000e+03 8.03000000e+02\n",
      " 6.00000000e+01 1.50000000e+01 1.70000000e+01 2.00000000e+00\n",
      " 1.00000000e+00 1.70000000e+01 5.00000000e+00 5.00000000e+00\n",
      " 1.00000000e+00 0.00000000e+00 0.00000000e+00 0.00000000e+00\n",
      " 0.00000000e+00 0.00000000e+00]\n"
     ]
    },
    {
     "name": "stderr",
     "output_type": "stream",
     "text": [
      "Generating walks (CPU: 2):  47%|████▋     | 35/75 [00:06<00:07,  5.21it/s]"
     ]
    },
    {
     "name": "stdout",
     "output_type": "stream",
     "text": [
      "Unk percentage: 0.0\n"
     ]
    },
    {
     "name": "stderr",
     "output_type": "stream",
     "text": [
      "Generating walks (CPU: 2):  59%|█████▊    | 44/75 [00:07<00:05,  6.08it/s]"
     ]
    },
    {
     "name": "stdout",
     "output_type": "stream",
     "text": [
      "cluster began\n",
      "cluster end\n"
     ]
    },
    {
     "name": "stderr",
     "output_type": "stream",
     "text": [
      "Computing transition probabilities: 100%|██████████| 28/28 [00:00<00:00, 2352.95it/s]\n",
      "Generating walks (CPU: 2):  91%|█████████ | 68/75 [00:12<00:01,  5.52it/s]\n",
      "Generating walks (CPU: 1):  64%|██████▍   | 48/75 [00:09<00:05,  4.75it/s]\n",
      "Generating walks (CPU: 1):  60%|██████    | 45/75 [00:10<00:06,  4.44it/s]\n",
      "Generating walks (CPU: 2):  49%|████▉     | 37/75 [00:07<00:07,  5.02it/s]\n",
      "Generating walks (CPU: 2):  51%|█████     | 38/75 [00:07<00:07,  5.06it/s]\n",
      "Generating walks (CPU: 4):  33%|███▎      | 25/75 [00:04<00:09,  5.50it/s]\n",
      "Generating walks (CPU: 2):  47%|████▋     | 35/75 [00:07<00:07,  5.06it/s]\n",
      "Generating walks (CPU: 4):  45%|████▌     | 34/75 [00:08<00:10,  4.04it/s]\n",
      "Generating walks (CPU: 3):  52%|█████▏    | 39/75 [00:07<00:07,  4.96it/s]"
     ]
    },
    {
     "name": "stdout",
     "output_type": "stream",
     "text": [
      "[  2.11111111   0.         536.         256.          21.\n",
      "   2.           1.           0.           0.           0.\n",
      "   0.           0.           0.           0.           0.\n",
      "   0.           0.           0.        ]\n"
     ]
    },
    {
     "name": "stderr",
     "output_type": "stream",
     "text": [
      "\r",
      "Generating walks (CPU: 4):  59%|█████▊    | 44/75 [00:10<00:06,  4.52it/s]"
     ]
    },
    {
     "name": "stdout",
     "output_type": "stream",
     "text": [
      "Unk percentage: 0.0\n"
     ]
    },
    {
     "name": "stderr",
     "output_type": "stream",
     "text": [
      "Generating walks (CPU: 3):  61%|██████▏   | 46/75 [00:09<00:06,  4.83it/s]"
     ]
    },
    {
     "name": "stdout",
     "output_type": "stream",
     "text": [
      "cluster began\n",
      "cluster end\n"
     ]
    },
    {
     "name": "stderr",
     "output_type": "stream",
     "text": [
      "Computing transition probabilities: 100%|██████████| 22/22 [00:00<00:00, 1867.19it/s]\n",
      "Generating walks (CPU: 1):   4%|▍         | 3/75 [00:00<00:09,  7.84it/s]]\n",
      "Generating walks (CPU: 1):  41%|████▏     | 31/75 [00:05<00:06,  6.51it/s]\n",
      "Generating walks (CPU: 4):  11%|█         | 8/75 [00:01<00:11,  6.09it/s]]\n",
      "Generating walks (CPU: 3):  52%|█████▏    | 39/75 [00:09<00:08,  4.14it/s]"
     ]
    },
    {
     "name": "stdout",
     "output_type": "stream",
     "text": [
      "[2.48275862e+00 1.30257673e-01 2.80400000e+03 7.33000000e+02\n",
      " 6.60000000e+01 2.30000000e+01 2.30000000e+01 5.00000000e+00\n",
      " 0.00000000e+00 0.00000000e+00 0.00000000e+00 0.00000000e+00\n",
      " 0.00000000e+00 0.00000000e+00 0.00000000e+00 0.00000000e+00\n",
      " 0.00000000e+00 0.00000000e+00]"
     ]
    },
    {
     "name": "stderr",
     "output_type": "stream",
     "text": [
      "\r",
      "Generating walks (CPU: 4):  29%|██▉       | 22/75 [00:04<00:11,  4.50it/s]"
     ]
    },
    {
     "name": "stdout",
     "output_type": "stream",
     "text": [
      "\n",
      "Unk percentage: 0.0\n"
     ]
    },
    {
     "name": "stderr",
     "output_type": "stream",
     "text": [
      "Generating walks (CPU: 1):  80%|████████  | 60/75 [00:11<00:03,  4.52it/s]"
     ]
    },
    {
     "name": "stdout",
     "output_type": "stream",
     "text": [
      "cluster began\n",
      "cluster end\n"
     ]
    },
    {
     "name": "stderr",
     "output_type": "stream",
     "text": [
      "Computing transition probabilities: 100%|██████████| 32/32 [00:00<00:00, 442.33it/s]\n",
      "Generating walks (CPU: 4):  63%|██████▎   | 47/75 [00:09<00:04,  5.65it/s]\n",
      "Generating walks (CPU: 4):  88%|████████▊ | 66/75 [00:12<00:01,  5.85it/s]\n",
      "Generating walks (CPU: 1):  44%|████▍     | 33/75 [00:08<00:09,  4.34it/s]\n",
      "Generating walks (CPU: 1):  55%|█████▍    | 41/75 [00:10<00:08,  4.09it/s]"
     ]
    },
    {
     "name": "stdout",
     "output_type": "stream",
     "text": [
      "[  1.9047619   0.        969.        342.         19.          0.\n",
      "   0.          0.          0.          0.          0.          0.\n",
      "   0.          0.          0.          0.          0.          0.       ]"
     ]
    },
    {
     "name": "stderr",
     "output_type": "stream",
     "text": [
      "\r",
      "Generating walks (CPU: 2):  51%|█████     | 38/75 [00:07<00:07,  4.73it/s]"
     ]
    },
    {
     "name": "stdout",
     "output_type": "stream",
     "text": [
      "\n",
      "Unk percentage: 0.0\n"
     ]
    },
    {
     "name": "stderr",
     "output_type": "stream",
     "text": [
      "Generating walks (CPU: 2):  61%|██████▏   | 46/75 [00:09<00:06,  4.77it/s]"
     ]
    },
    {
     "name": "stdout",
     "output_type": "stream",
     "text": [
      "cluster began\n",
      "cluster end\n"
     ]
    },
    {
     "name": "stderr",
     "output_type": "stream",
     "text": [
      "Computing transition probabilities: 100%|██████████| 18/18 [00:00<00:00, 1649.60it/s]\n",
      "Generating walks (CPU: 1):  45%|████▌     | 34/75 [00:05<00:07,  5.38it/s]\n",
      "Generating walks (CPU: 3):  13%|█▎        | 10/75 [00:01<00:13,  4.87it/s]\n",
      "Generating walks (CPU: 1):  93%|█████████▎| 70/75 [00:11<00:00,  5.54it/s]\n",
      "Generating walks (CPU: 2):  27%|██▋       | 20/75 [00:05<00:14,  3.87it/s]\n",
      "Generating walks (CPU: 2):  13%|█▎        | 10/75 [00:01<00:10,  5.96it/s]"
     ]
    },
    {
     "name": "stdout",
     "output_type": "stream",
     "text": [
      "[   2.2962963    0.        2220.         660.          37.\n",
      "    4.           4.           0.           0.           0.\n",
      "    0.           0.           0.           0.           0.\n",
      "    0.           0.           0.       ]"
     ]
    },
    {
     "name": "stderr",
     "output_type": "stream",
     "text": [
      "\r",
      "Generating walks (CPU: 2):  35%|███▍      | 26/75 [00:06<00:14,  3.40it/s]"
     ]
    },
    {
     "name": "stdout",
     "output_type": "stream",
     "text": [
      "\n",
      "Unk percentage: 0.0\n"
     ]
    },
    {
     "name": "stderr",
     "output_type": "stream",
     "text": [
      "Generating walks (CPU: 2):  43%|████▎     | 32/75 [00:08<00:11,  3.68it/s]"
     ]
    },
    {
     "name": "stdout",
     "output_type": "stream",
     "text": [
      "cluster began\n",
      "cluster end\n"
     ]
    },
    {
     "name": "stderr",
     "output_type": "stream",
     "text": [
      "Computing transition probabilities: 100%|██████████| 20/20 [00:00<00:00, 2508.40it/s]\n",
      "Generating walks (CPU: 2):  64%|██████▍   | 48/75 [00:12<00:07,  3.67it/s]\n",
      "Generating walks (CPU: 1):  73%|███████▎  | 55/75 [00:09<00:03,  5.36it/s]\n",
      "Generating walks (CPU: 1):  85%|████████▌ | 64/75 [00:11<00:01,  6.10it/s]\n",
      "Generating walks (CPU: 4):  68%|██████▊   | 51/75 [00:09<00:04,  5.41it/s]\n",
      "Generating walks (CPU: 3):  72%|███████▏  | 54/75 [00:08<00:02,  7.07it/s]\n",
      "Generating walks (CPU: 2):  55%|█████▍    | 41/75 [00:07<00:07,  4.86it/s]"
     ]
    },
    {
     "name": "stdout",
     "output_type": "stream",
     "text": [
      "[  2.   0. 955. 351.  22.   1.   1.   0.   0.   0.   0.   0.   0.   0.\n",
      "   0.   0.   0.   0.]\n",
      "Unk percentage: 0.0\n"
     ]
    },
    {
     "name": "stderr",
     "output_type": "stream",
     "text": [
      "Generating walks (CPU: 3):  55%|█████▍    | 41/75 [00:10<00:08,  3.89it/s]\n",
      "Generating walks (CPU: 4):   3%|▎         | 2/75 [00:00<00:05, 13.46it/s]]"
     ]
    },
    {
     "name": "stdout",
     "output_type": "stream",
     "text": [
      "cluster began\n"
     ]
    },
    {
     "name": "stderr",
     "output_type": "stream",
     "text": [
      "\r",
      "Generating walks (CPU: 2):  65%|██████▌   | 49/75 [00:08<00:05,  4.97it/s]"
     ]
    },
    {
     "name": "stdout",
     "output_type": "stream",
     "text": [
      "cluster end\n"
     ]
    },
    {
     "name": "stderr",
     "output_type": "stream",
     "text": [
      "Computing transition probabilities: 100%|██████████| 31/31 [00:00<00:00, 1334.31it/s]\n",
      "Generating walks (CPU: 4):  40%|████      | 30/75 [00:04<00:07,  6.04it/s]\n",
      "Generating walks (CPU: 4):  73%|███████▎  | 55/75 [00:09<00:03,  5.81it/s]\n",
      "Generating walks (CPU: 3):  61%|██████▏   | 46/75 [00:07<00:05,  5.78it/s]\n",
      "Generating walks (CPU: 4):  28%|██▊       | 21/75 [00:05<00:14,  3.66it/s]"
     ]
    },
    {
     "name": "stdout",
     "output_type": "stream",
     "text": [
      "[2.47058824e+00 8.26330532e-02 4.15000000e+02 2.25000000e+02\n",
      " 1.70000000e+01 3.00000000e+00 3.00000000e+00 2.00000000e+00\n",
      " 0.00000000e+00 7.00000000e+00 4.00000000e+00 4.00000000e+00\n",
      " 0.00000000e+00 0.00000000e+00 0.00000000e+00 0.00000000e+00\n",
      " 0.00000000e+00 0.00000000e+00]\n",
      "Unk percentage: 0.0\n"
     ]
    },
    {
     "name": "stderr",
     "output_type": "stream",
     "text": [
      "Generating walks (CPU: 1):  85%|████████▌ | 64/75 [00:16<00:02,  3.77it/s]"
     ]
    },
    {
     "name": "stdout",
     "output_type": "stream",
     "text": [
      "cluster began\n"
     ]
    },
    {
     "name": "stderr",
     "output_type": "stream",
     "text": [
      "\r",
      "Generating walks (CPU: 3):  84%|████████▍ | 63/75 [00:11<00:02,  5.21it/s]"
     ]
    },
    {
     "name": "stdout",
     "output_type": "stream",
     "text": [
      "cluster end\n"
     ]
    },
    {
     "name": "stderr",
     "output_type": "stream",
     "text": [
      "Computing transition probabilities: 100%|██████████| 23/23 [00:00<00:00, 1920.77it/s]\n",
      "Generating walks (CPU: 1):  97%|█████████▋| 73/75 [00:18<00:00,  4.06it/s]\n",
      "Generating walks (CPU: 4):   5%|▌         | 4/75 [00:00<00:09,  7.70it/s]]\n",
      "Generating walks (CPU: 4):  83%|████████▎ | 62/75 [00:10<00:02,  5.40it/s]\n",
      "Generating walks (CPU: 2):  65%|██████▌   | 49/75 [00:12<00:06,  3.88it/s]\n",
      "Generating walks (CPU: 2):   5%|▌         | 4/75 [00:00<00:12,  5.64it/s]]\n",
      "Generating walks (CPU: 2):   8%|▊         | 6/75 [00:01<00:13,  5.18it/s]]"
     ]
    },
    {
     "name": "stdout",
     "output_type": "stream",
     "text": [
      "[2.12903226e+00 0.00000000e+00 3.58300000e+03 8.67000000e+02\n",
      " 3.80000000e+01 3.00000000e+00 4.00000000e+00 0.00000000e+00\n",
      " 0.00000000e+00 0.00000000e+00 0.00000000e+00 0.00000000e+00\n",
      " 0.00000000e+00 0.00000000e+00 0.00000000e+00 0.00000000e+00\n",
      " 0.00000000e+00 0.00000000e+00]\n",
      "Unk percentage: 0.0\n"
     ]
    },
    {
     "name": "stderr",
     "output_type": "stream",
     "text": [
      "Generating walks (CPU: 2):  79%|███████▊  | 59/75 [00:15<00:04,  3.58it/s]"
     ]
    },
    {
     "name": "stdout",
     "output_type": "stream",
     "text": [
      "[  2.   0. 681. 255.  16.   0.   0.   0.   0.  15.   1.   1.   0.   0.\n",
      "   0.   0.   0.   0.]\n"
     ]
    },
    {
     "name": "stderr",
     "output_type": "stream",
     "text": [
      "\r",
      "Generating walks (CPU: 2):  19%|█▊        | 14/75 [00:02<00:13,  4.69it/s]"
     ]
    },
    {
     "name": "stdout",
     "output_type": "stream",
     "text": [
      "Unk percentage: 0.0\n",
      "cluster began\n",
      "cluster end\n"
     ]
    },
    {
     "name": "stderr",
     "output_type": "stream",
     "text": [
      "Computing transition probabilities: 100%|██████████| 16/16 [00:00<00:00, 1803.32it/s]\n",
      "Generating walks (CPU: 2):  29%|██▉       | 22/75 [00:04<00:10,  4.91it/s]"
     ]
    },
    {
     "name": "stdout",
     "output_type": "stream",
     "text": [
      "cluster began\n",
      "cluster end\n"
     ]
    },
    {
     "name": "stderr",
     "output_type": "stream",
     "text": [
      "Computing transition probabilities: 100%|██████████| 28/28 [00:00<00:00, 626.24it/s]\n",
      "Generating walks (CPU: 1):  37%|███▋      | 28/75 [00:03<00:06,  6.88it/s]\n",
      "Generating walks (CPU: 3):  39%|███▊      | 29/75 [00:07<00:11,  4.08it/s]\n",
      "Generating walks (CPU: 3):  40%|████      | 30/75 [00:07<00:11,  4.08it/s]\n",
      "Generating walks (CPU: 2):  72%|███████▏  | 54/75 [00:07<00:02,  7.46it/s]\n",
      "Generating walks (CPU: 3):  95%|█████████▍| 71/75 [00:17<00:01,  3.94it/s]\n",
      "Generating walks (CPU: 3):  13%|█▎        | 10/75 [00:01<00:07,  8.16it/s]\n",
      "Generating walks (CPU: 3):  49%|████▉     | 37/75 [00:04<00:05,  6.47it/s]\n",
      "Generating walks (CPU: 4):  37%|███▋      | 28/75 [00:05<00:09,  4.89it/s]\n",
      "Generating walks (CPU: 4):  35%|███▍      | 26/75 [00:03<00:07,  6.70it/s]\n",
      "Generating walks (CPU: 3):  33%|███▎      | 25/75 [00:05<00:12,  3.97it/s]\n",
      "\n",
      "Generating walks (CPU: 3):  43%|████▎     | 32/75 [00:07<00:14,  2.97it/s]"
     ]
    },
    {
     "name": "stdout",
     "output_type": "stream",
     "text": [
      "[2.36363636e+00 0.00000000e+00 1.08500000e+03 3.92000000e+02\n",
      " 3.30000000e+01 5.00000000e+00 5.00000000e+00 0.00000000e+00\n",
      " 0.00000000e+00 1.80000000e+01 1.00000000e+00 1.00000000e+00\n",
      " 0.00000000e+00 0.00000000e+00 0.00000000e+00 0.00000000e+00\n",
      " 0.00000000e+00 0.00000000e+00]\n",
      "Unk percentage: 0.0\n"
     ]
    },
    {
     "name": "stderr",
     "output_type": "stream",
     "text": [
      "\n",
      "Generating walks (CPU: 3):  45%|████▌     | 34/75 [00:08<00:13,  3.02it/s]"
     ]
    },
    {
     "name": "stdout",
     "output_type": "stream",
     "text": [
      "[2.26666667e+00 0.00000000e+00 3.18500000e+03 8.26000000e+02\n",
      " 4.00000000e+01 4.00000000e+00 5.00000000e+00 0.00000000e+00\n",
      " 0.00000000e+00 0.00000000e+00 0.00000000e+00 0.00000000e+00\n",
      " 0.00000000e+00 0.00000000e+00 0.00000000e+00 0.00000000e+00\n",
      " 0.00000000e+00 0.00000000e+00]\n",
      "Unk percentage: 0.0\n"
     ]
    },
    {
     "name": "stderr",
     "output_type": "stream",
     "text": [
      "Generating walks (CPU: 3):  51%|█████     | 38/75 [00:09<00:10,  3.57it/s]"
     ]
    },
    {
     "name": "stdout",
     "output_type": "stream",
     "text": [
      "[  2.   0. 278. 159.  16.   1.   1.   0.   0.   0.   0.   0.   0.   0.\n",
      "   0.   0.   0.   0.]\n",
      "Unk percentage: 0.015873015873015872\n"
     ]
    },
    {
     "name": "stderr",
     "output_type": "stream",
     "text": [
      "Generating walks (CPU: 3):  53%|█████▎    | 40/75 [00:10<00:09,  3.52it/s]"
     ]
    },
    {
     "name": "stdout",
     "output_type": "stream",
     "text": [
      "cluster began\n",
      "cluster end\n"
     ]
    },
    {
     "name": "stderr",
     "output_type": "stream",
     "text": [
      "\r",
      "Computing transition probabilities:   0%|          | 0/16 [00:00<?, ?it/s]"
     ]
    },
    {
     "name": "stdout",
     "output_type": "stream",
     "text": [
      "cluster began\n",
      "cluster end\n"
     ]
    },
    {
     "name": "stderr",
     "output_type": "stream",
     "text": [
      "Computing transition probabilities: 100%|██████████| 16/16 [00:00<00:00, 5010.74it/s]\n",
      "Computing transition probabilities: 100%|██████████| 12/12 [00:00<00:00, 501.06it/s]\n",
      "Generating walks (CPU: 3):  60%|██████    | 45/75 [00:11<00:07,  3.94it/s]"
     ]
    },
    {
     "name": "stdout",
     "output_type": "stream",
     "text": [
      "cluster began\n"
     ]
    },
    {
     "name": "stderr",
     "output_type": "stream",
     "text": [
      "\r",
      "Generating walks (CPU: 1):  12%|█▏        | 9/75 [00:00<00:07,  9.22it/s]"
     ]
    },
    {
     "name": "stdout",
     "output_type": "stream",
     "text": [
      "cluster end\n"
     ]
    },
    {
     "name": "stderr",
     "output_type": "stream",
     "text": [
      "Computing transition probabilities: 100%|██████████| 30/30 [00:00<00:00, 2019.60it/s]\n",
      "Generating walks (CPU: 1): 100%|██████████| 75/75 [00:08<00:00,  9.08it/s]\n",
      "Generating walks (CPU: 2):   3%|▎         | 2/75 [00:00<00:04, 16.41it/s]]\n",
      "Generating walks (CPU: 2):  37%|███▋      | 28/75 [00:03<00:05,  8.86it/s]\n",
      "Generating walks (CPU: 2):  53%|█████▎    | 40/75 [00:05<00:06,  5.71it/s]\n",
      "Generating walks (CPU: 4):  72%|███████▏  | 54/75 [00:11<00:05,  4.13it/s]\n",
      "Generating walks (CPU: 4):  84%|████████▍ | 63/75 [00:13<00:02,  4.52it/s]\n",
      "Generating walks (CPU: 3):  97%|█████████▋| 73/75 [00:08<00:00,  8.26it/s]\n",
      "Generating walks (CPU: 3):  31%|███       | 23/75 [00:03<00:08,  6.11it/s]\n",
      "Generating walks (CPU: 4):  23%|██▎       | 17/75 [00:02<00:08,  6.82it/s]"
     ]
    },
    {
     "name": "stdout",
     "output_type": "stream",
     "text": [
      "[2.14814815e+00 0.00000000e+00 2.24000000e+03 6.45000000e+02\n",
      " 3.40000000e+01 3.00000000e+00 3.00000000e+00 0.00000000e+00\n",
      " 0.00000000e+00 0.00000000e+00 0.00000000e+00 0.00000000e+00\n",
      " 0.00000000e+00 0.00000000e+00 0.00000000e+00 0.00000000e+00\n",
      " 0.00000000e+00 0.00000000e+00]"
     ]
    },
    {
     "name": "stderr",
     "output_type": "stream",
     "text": [
      "\r",
      "Generating walks (CPU: 2):  41%|████▏     | 31/75 [00:07<00:12,  3.45it/s]"
     ]
    },
    {
     "name": "stdout",
     "output_type": "stream",
     "text": [
      "\n",
      "Unk percentage: 0.0\n"
     ]
    },
    {
     "name": "stderr",
     "output_type": "stream",
     "text": [
      "Generating walks (CPU: 4):  43%|████▎     | 32/75 [00:04<00:04,  9.09it/s]"
     ]
    },
    {
     "name": "stdout",
     "output_type": "stream",
     "text": [
      "cluster began\n",
      "cluster end\n"
     ]
    },
    {
     "name": "stderr",
     "output_type": "stream",
     "text": [
      "Computing transition probabilities: 100%|██████████| 35/35 [00:00<00:00, 1090.92it/s]\n",
      "Generating walks (CPU: 3): 100%|██████████| 75/75 [00:11<00:00,  7.08it/s]\n",
      "Generating walks (CPU: 4): 100%|██████████| 75/75 [00:09<00:00,  8.28it/s]\n",
      "Generating walks (CPU: 1):  29%|██▉       | 22/75 [00:06<00:15,  3.45it/s]"
     ]
    },
    {
     "name": "stdout",
     "output_type": "stream",
     "text": [
      "[ 2.  0. 78. 75. 11.  1.  0.  0.  0.  0.  0.  0.  0.  0.  0.  0.  0.  0.]\n"
     ]
    },
    {
     "name": "stderr",
     "output_type": "stream",
     "text": [
      "\r",
      "Generating walks (CPU: 4):  24%|██▍       | 18/75 [00:02<00:07,  7.53it/s]"
     ]
    },
    {
     "name": "stdout",
     "output_type": "stream",
     "text": [
      "Unk percentage: 0.0\n"
     ]
    },
    {
     "name": "stderr",
     "output_type": "stream",
     "text": [
      "Generating walks (CPU: 4):  39%|███▊      | 29/75 [00:03<00:07,  6.56it/s]"
     ]
    },
    {
     "name": "stdout",
     "output_type": "stream",
     "text": [
      "cluster began\n"
     ]
    },
    {
     "name": "stderr",
     "output_type": "stream",
     "text": [
      "\r",
      "Generating walks (CPU: 2):  93%|█████████▎| 70/75 [00:17<00:01,  4.09it/s]"
     ]
    },
    {
     "name": "stdout",
     "output_type": "stream",
     "text": [
      "cluster end\n"
     ]
    },
    {
     "name": "stderr",
     "output_type": "stream",
     "text": [
      "Computing transition probabilities: 100%|██████████| 39/39 [00:00<00:00, 1221.15it/s]\n",
      "Generating walks (CPU: 1):  45%|████▌     | 34/75 [00:09<00:11,  3.73it/s]\n",
      "Generating walks (CPU: 1):  72%|███████▏  | 54/75 [00:14<00:06,  3.21it/s]\n",
      "Generating walks (CPU: 1):  79%|███████▊  | 59/75 [00:16<00:04,  3.26it/s]"
     ]
    },
    {
     "name": "stdout",
     "output_type": "stream",
     "text": [
      "[  1.86666667   0.         286.         156.          13.\n",
      "   0.           0.           0.           0.           0.\n",
      "   0.           0.           0.           0.           0.\n",
      "   0.           0.           0.        ]\n"
     ]
    },
    {
     "name": "stderr",
     "output_type": "stream",
     "text": [
      "\r",
      "Generating walks (CPU: 3):  37%|███▋      | 28/75 [00:06<00:12,  3.78it/s]"
     ]
    },
    {
     "name": "stdout",
     "output_type": "stream",
     "text": [
      "Unk percentage: 0.0\n"
     ]
    },
    {
     "name": "stderr",
     "output_type": "stream",
     "text": [
      "Generating walks (CPU: 3):  45%|████▌     | 34/75 [00:08<00:09,  4.16it/s]"
     ]
    },
    {
     "name": "stdout",
     "output_type": "stream",
     "text": [
      "cluster began\n",
      "cluster end\n"
     ]
    },
    {
     "name": "stderr",
     "output_type": "stream",
     "text": [
      "Computing transition probabilities: 100%|██████████| 22/22 [00:00<00:00, 2518.90it/s]\n",
      "Generating walks (CPU: 1):  25%|██▌       | 19/75 [00:03<00:09,  5.79it/s]\n",
      "Generating walks (CPU: 1):  73%|███████▎  | 55/75 [00:10<00:03,  5.02it/s]\n",
      "Generating walks (CPU: 2):  44%|████▍     | 33/75 [00:08<00:11,  3.63it/s]\n",
      "Generating walks (CPU: 2):  52%|█████▏    | 39/75 [00:10<00:11,  3.06it/s]\n",
      "Generating walks (CPU: 2):  55%|█████▍    | 41/75 [00:12<00:10,  3.16it/s]\n",
      "Generating walks (CPU: 4): 100%|██████████| 75/75 [00:18<00:00,  3.61it/s]\n",
      "Generating walks (CPU: 3):   3%|▎         | 2/75 [00:00<00:05, 13.00it/s]]\n",
      "Generating walks (CPU: 3):  20%|██        | 15/75 [00:03<00:14,  4.07it/s]"
     ]
    },
    {
     "name": "stdout",
     "output_type": "stream",
     "text": [
      "[2.41379310e+00 2.29885057e-02 2.82600000e+03 7.22000000e+02\n",
      " 4.10000000e+01 5.00000000e+00 5.00000000e+00 0.00000000e+00\n",
      " 1.00000000e+00 4.40000000e+01 5.00000000e+00 5.00000000e+00\n",
      " 0.00000000e+00 0.00000000e+00 0.00000000e+00 0.00000000e+00\n",
      " 0.00000000e+00 0.00000000e+00]\n",
      "Unk percentage: 0.0\n"
     ]
    },
    {
     "name": "stderr",
     "output_type": "stream",
     "text": [
      "Generating walks (CPU: 3):  31%|███       | 23/75 [00:04<00:10,  4.73it/s]"
     ]
    },
    {
     "name": "stdout",
     "output_type": "stream",
     "text": [
      "cluster began\n",
      "cluster end\n"
     ]
    },
    {
     "name": "stderr",
     "output_type": "stream",
     "text": [
      "Computing transition probabilities: 100%|██████████| 24/24 [00:00<00:00, 855.73it/s]\n",
      "Generating walks (CPU: 3):  51%|█████     | 38/75 [00:07<00:06,  5.83it/s]\n",
      "Generating walks (CPU: 3):  84%|████████▍ | 63/75 [00:19<00:04,  2.96it/s]\n",
      "Generating walks (CPU: 3):  45%|████▌     | 34/75 [00:10<00:11,  3.56it/s]\n",
      "Generating walks (CPU: 4):  41%|████▏     | 31/75 [00:06<00:09,  4.43it/s]\n",
      "Generating walks (CPU: 4):  51%|█████     | 38/75 [00:11<00:12,  3.05it/s]\n",
      "Generating walks (CPU: 4):  57%|█████▋    | 43/75 [00:12<00:11,  2.90it/s]\n",
      "Generating walks (CPU: 4):   3%|▎         | 2/75 [00:00<00:13,  5.45it/s]]"
     ]
    },
    {
     "name": "stdout",
     "output_type": "stream",
     "text": [
      "[  2.   0. 970. 323.  18.   0.   0.   0.   0.  17.   1.   1.   0.   0.\n",
      "   0.   0.   0.   0.]\n",
      "Unk percentage: 0.0\n"
     ]
    },
    {
     "name": "stderr",
     "output_type": "stream",
     "text": [
      "Generating walks (CPU: 2):  84%|████████▍ | 63/75 [00:12<00:02,  4.20it/s]"
     ]
    },
    {
     "name": "stdout",
     "output_type": "stream",
     "text": [
      "cluster began\n",
      "cluster end\n"
     ]
    },
    {
     "name": "stderr",
     "output_type": "stream",
     "text": [
      "Computing transition probabilities: 100%|██████████| 22/22 [00:00<00:00, 1629.81it/s]\n",
      "Generating walks (CPU: 4):  80%|████████  | 60/75 [00:18<00:04,  3.08it/s]\n",
      "Generating walks (CPU: 4):  44%|████▍     | 33/75 [00:10<00:11,  3.62it/s]\n",
      "Generating walks (CPU: 1):  71%|███████   | 53/75 [00:11<00:04,  4.40it/s]"
     ]
    },
    {
     "name": "stdout",
     "output_type": "stream",
     "text": [
      "[2.11764706e+00 0.00000000e+00 4.88300000e+03 1.05000000e+03\n",
      " 4.30000000e+01 4.00000000e+00 4.00000000e+00 0.00000000e+00\n",
      " 0.00000000e+00 0.00000000e+00 0.00000000e+00 0.00000000e+00\n",
      " 0.00000000e+00 0.00000000e+00 0.00000000e+00 0.00000000e+00\n",
      " 0.00000000e+00 0.00000000e+00]\n",
      "Unk percentage: 0.0\n"
     ]
    },
    {
     "name": "stderr",
     "output_type": "stream",
     "text": [
      "Generating walks (CPU: 3):  61%|██████▏   | 46/75 [00:10<00:06,  4.44it/s]"
     ]
    },
    {
     "name": "stdout",
     "output_type": "stream",
     "text": [
      "cluster began\n",
      "cluster end\n"
     ]
    },
    {
     "name": "stderr",
     "output_type": "stream",
     "text": [
      "Computing transition probabilities: 100%|██████████| 22/22 [00:00<00:00, 638.01it/s]\n",
      "Generating walks (CPU: 1):  19%|█▊        | 14/75 [00:02<00:13,  4.57it/s]\n",
      "Generating walks (CPU: 1):  44%|████▍     | 33/75 [00:06<00:08,  5.06it/s]\n",
      "Generating walks (CPU: 1):  65%|██████▌   | 49/75 [00:09<00:04,  6.03it/s]\n",
      "Generating walks (CPU: 2):  72%|███████▏  | 54/75 [00:10<00:03,  5.43it/s]"
     ]
    },
    {
     "name": "stdout",
     "output_type": "stream",
     "text": [
      "[2.42105263e+00 4.67836257e-03 6.88400000e+03 1.44900000e+03\n",
      " 7.20000000e+01 1.50000000e+01 1.50000000e+01 1.00000000e+00\n",
      " 0.00000000e+00 0.00000000e+00 0.00000000e+00 0.00000000e+00\n",
      " 0.00000000e+00 0.00000000e+00 0.00000000e+00 0.00000000e+00\n",
      " 0.00000000e+00 0.00000000e+00]\n"
     ]
    },
    {
     "name": "stderr",
     "output_type": "stream",
     "text": [
      "\r",
      "Generating walks (CPU: 1):  89%|████████▉ | 67/75 [00:13<00:02,  3.74it/s]"
     ]
    },
    {
     "name": "stdout",
     "output_type": "stream",
     "text": [
      "Unk percentage: 0.0\n"
     ]
    },
    {
     "name": "stderr",
     "output_type": "stream",
     "text": [
      "Generating walks (CPU: 4):  51%|█████     | 38/75 [00:08<00:08,  4.27it/s]"
     ]
    },
    {
     "name": "stdout",
     "output_type": "stream",
     "text": [
      "cluster began\n",
      "cluster end\n"
     ]
    },
    {
     "name": "stderr",
     "output_type": "stream",
     "text": [
      "Computing transition probabilities: 100%|██████████| 26/26 [00:00<00:00, 2480.37it/s]\n",
      "Generating walks (CPU: 2):  84%|████████▍ | 63/75 [00:12<00:02,  4.33it/s]\n",
      "Generating walks (CPU: 4):  68%|██████▊   | 51/75 [00:11<00:05,  4.21it/s]\n",
      "Generating walks (CPU: 3):  31%|███       | 23/75 [00:04<00:11,  4.53it/s]\n",
      "Generating walks (CPU: 3):  45%|████▌     | 34/75 [00:07<00:08,  5.06it/s]"
     ]
    },
    {
     "name": "stdout",
     "output_type": "stream",
     "text": [
      "[2.43478261e+00 4.92753623e-02 1.24000000e+03 4.76000000e+02\n",
      " 3.90000000e+01 7.00000000e+00 7.00000000e+00 1.00000000e+00\n",
      " 1.00000000e+00 0.00000000e+00 0.00000000e+00 0.00000000e+00\n",
      " 0.00000000e+00 0.00000000e+00 0.00000000e+00 0.00000000e+00\n",
      " 0.00000000e+00 0.00000000e+00]\n"
     ]
    },
    {
     "name": "stderr",
     "output_type": "stream",
     "text": [
      "\r",
      "Generating walks (CPU: 1):  61%|██████▏   | 46/75 [00:10<00:06,  4.18it/s]"
     ]
    },
    {
     "name": "stdout",
     "output_type": "stream",
     "text": [
      "Unk percentage: 0.0\n"
     ]
    },
    {
     "name": "stderr",
     "output_type": "stream",
     "text": [
      "Generating walks (CPU: 1):  71%|███████   | 53/75 [00:11<00:05,  4.05it/s]"
     ]
    },
    {
     "name": "stdout",
     "output_type": "stream",
     "text": [
      "cluster began\n",
      "cluster end\n"
     ]
    },
    {
     "name": "stderr",
     "output_type": "stream",
     "text": [
      "Computing transition probabilities: 100%|██████████| 18/18 [00:00<00:00, 439.28it/s]\n",
      "Generating walks (CPU: 3):  75%|███████▍  | 56/75 [00:12<00:04,  4.29it/s]\n",
      "Generating walks (CPU: 3):  15%|█▍        | 11/75 [00:01<00:12,  4.99it/s]\n",
      "Generating walks (CPU: 1):  51%|█████     | 38/75 [00:06<00:06,  5.63it/s]\n",
      "Generating walks (CPU: 4):  47%|████▋     | 35/75 [00:06<00:07,  5.06it/s]\n",
      "Generating walks (CPU: 4):  75%|███████▍  | 56/75 [00:10<00:03,  4.76it/s]\n",
      "Generating walks (CPU: 2):  63%|██████▎   | 47/75 [00:07<00:05,  5.21it/s]\n",
      "Generating walks (CPU: 3):   5%|▌         | 4/75 [00:00<00:08,  8.10it/s]]\n",
      "Generating walks (CPU: 3):  16%|█▌        | 12/75 [00:02<00:16,  3.75it/s]"
     ]
    },
    {
     "name": "stdout",
     "output_type": "stream",
     "text": [
      "[2.28571429e+00 3.33333333e-02 9.15000000e+02 3.75000000e+02\n",
      " 3.10000000e+01 4.00000000e+00 4.00000000e+00 0.00000000e+00\n",
      " 1.00000000e+00 0.00000000e+00 0.00000000e+00 0.00000000e+00\n",
      " 0.00000000e+00 0.00000000e+00 0.00000000e+00 0.00000000e+00\n",
      " 0.00000000e+00 0.00000000e+00]\n"
     ]
    },
    {
     "name": "stderr",
     "output_type": "stream",
     "text": [
      "Generating walks (CPU: 2):  84%|████████▍ | 63/75 [00:10<00:02,  5.60it/s]"
     ]
    },
    {
     "name": "stdout",
     "output_type": "stream",
     "text": [
      "Unk percentage: 0.03125\n"
     ]
    },
    {
     "name": "stderr",
     "output_type": "stream",
     "text": [
      "Generating walks (CPU: 4):  53%|█████▎    | 40/75 [00:08<00:06,  5.33it/s]"
     ]
    },
    {
     "name": "stdout",
     "output_type": "stream",
     "text": [
      "cluster began\n",
      "cluster end\n"
     ]
    },
    {
     "name": "stderr",
     "output_type": "stream",
     "text": [
      "Computing transition probabilities: 100%|██████████| 33/33 [00:00<00:00, 492.55it/s]\n",
      "Generating walks (CPU: 4):  56%|█████▌    | 42/75 [00:08<00:06,  5.24it/s]\n",
      "Generating walks (CPU: 1):  39%|███▊      | 29/75 [00:06<00:10,  4.26it/s]\n",
      "Generating walks (CPU: 3):  68%|██████▊   | 51/75 [00:08<00:04,  5.53it/s]"
     ]
    },
    {
     "name": "stdout",
     "output_type": "stream",
     "text": [
      "[  1.9047619   0.        969.        342.         19.          0.\n",
      "   0.          0.          0.          0.          0.          0.\n",
      "   0.          0.          0.          0.          0.          0.       ]\n"
     ]
    },
    {
     "name": "stderr",
     "output_type": "stream",
     "text": [
      "Generating walks (CPU: 3):  93%|█████████▎| 70/75 [00:10<00:00,  7.00it/s]\n",
      "Generating walks (CPU: 1):  68%|██████▊   | 51/75 [00:11<00:06,  3.66it/s]\n",
      "Generating walks (CPU: 4):  59%|█████▊    | 44/75 [00:05<00:04,  7.17it/s]\n",
      "Generating walks (CPU: 2):  27%|██▋       | 20/75 [00:04<00:13,  4.05it/s]\n",
      "Generating walks (CPU: 2):  36%|███▌      | 27/75 [00:06<00:11,  4.03it/s]"
     ]
    },
    {
     "name": "stdout",
     "output_type": "stream",
     "text": [
      "[  2.23529412   0.         434.         209.          19.\n",
      "   1.           2.           0.           0.          13.\n",
      "   1.           1.           0.           0.           0.\n",
      "   0.           0.           0.        ]\n",
      "Unk percentage: 0.025\n"
     ]
    },
    {
     "name": "stderr",
     "output_type": "stream",
     "text": [
      "Generating walks (CPU: 2):  43%|████▎     | 32/75 [00:07<00:10,  4.29it/s]\n",
      "Generating walks (CPU: 2):  45%|████▌     | 34/75 [00:07<00:09,  4.24it/s]"
     ]
    },
    {
     "name": "stdout",
     "output_type": "stream",
     "text": [
      "cluster began\n",
      "cluster end\n"
     ]
    },
    {
     "name": "stderr",
     "output_type": "stream",
     "text": [
      "Computing transition probabilities: 100%|██████████| 23/23 [00:00<00:00, 2338.36it/s]\n",
      "Generating walks (CPU: 1):  15%|█▍        | 11/75 [00:01<00:12,  5.22it/s]"
     ]
    },
    {
     "name": "stdout",
     "output_type": "stream",
     "text": [
      "[2.64000000e+00 4.87407407e-02 1.63800000e+03 5.73000000e+02\n",
      " 4.80000000e+01 8.00000000e+00 8.00000000e+00 0.00000000e+00\n",
      " 2.00000000e+00 1.70000000e+01 3.00000000e+00 3.00000000e+00\n",
      " 0.00000000e+00 0.00000000e+00 0.00000000e+00 0.00000000e+00\n",
      " 0.00000000e+00 0.00000000e+00]\n",
      "Unk percentage: 0.0\n"
     ]
    },
    {
     "name": "stderr",
     "output_type": "stream",
     "text": [
      "Generating walks (CPU: 2):  65%|██████▌   | 49/75 [00:11<00:05,  4.57it/s]"
     ]
    },
    {
     "name": "stdout",
     "output_type": "stream",
     "text": [
      "cluster began\n"
     ]
    },
    {
     "name": "stderr",
     "output_type": "stream",
     "text": [
      "\r",
      "Generating walks (CPU: 1):  28%|██▊       | 21/75 [00:03<00:08,  6.48it/s]"
     ]
    },
    {
     "name": "stdout",
     "output_type": "stream",
     "text": [
      "cluster end\n"
     ]
    },
    {
     "name": "stderr",
     "output_type": "stream",
     "text": [
      "Computing transition probabilities: 100%|██████████| 10/10 [00:00<00:00, 1255.89it/s]\n",
      "Generating walks (CPU: 1): 100%|██████████| 75/75 [00:05<00:00, 12.92it/s]\n",
      "Generating walks (CPU: 2):   0%|          | 0/75 [00:00<?, ?it/s]\n",
      "Generating walks (CPU: 3):  19%|█▊        | 14/75 [00:02<00:11,  5.13it/s]\n",
      "Generating walks (CPU: 3):  35%|███▍      | 26/75 [00:05<00:11,  4.40it/s]\n",
      "Generating walks (CPU: 2):  64%|██████▍   | 48/75 [00:08<00:04,  5.81it/s]\n",
      "Generating walks (CPU: 4):  81%|████████▏ | 61/75 [00:04<00:00, 14.05it/s]\n",
      "Generating walks (CPU: 3):   7%|▋         | 5/75 [00:00<00:10,  6.72it/s]]\n",
      "Generating walks (CPU: 3):   9%|▉         | 7/75 [00:01<00:10,  6.31it/s]]\n",
      "Generating walks (CPU: 4):   8%|▊         | 6/75 [00:01<00:14,  4.65it/s]]"
     ]
    },
    {
     "name": "stdout",
     "output_type": "stream",
     "text": [
      "[ 2.  0. 36. 35.  6.  0.  0.  0.  0.  5.  1.  1.  0.  0.  0.  0.  0.  0.]\n",
      "Unk percentage: 0.0\n"
     ]
    },
    {
     "name": "stderr",
     "output_type": "stream",
     "text": [
      "Generating walks (CPU: 4):  17%|█▋        | 13/75 [00:02<00:13,  4.59it/s]"
     ]
    },
    {
     "name": "stdout",
     "output_type": "stream",
     "text": [
      "cluster began\n"
     ]
    },
    {
     "name": "stderr",
     "output_type": "stream",
     "text": [
      "\r",
      "Generating walks (CPU: 3):  31%|███       | 23/75 [00:03<00:09,  5.72it/s]"
     ]
    },
    {
     "name": "stdout",
     "output_type": "stream",
     "text": [
      "cluster end\n"
     ]
    },
    {
     "name": "stderr",
     "output_type": "stream",
     "text": [
      "Computing transition probabilities: 100%|██████████| 20/20 [00:00<00:00, 2214.35it/s]\n",
      "Generating walks (CPU: 1):  75%|███████▍  | 56/75 [00:08<00:03,  6.17it/s]\n",
      "Generating walks (CPU: 4):  84%|████████▍ | 63/75 [00:14<00:02,  4.35it/s]\n",
      "Generating walks (CPU: 2):  28%|██▊       | 21/75 [00:03<00:09,  5.84it/s]\n",
      "Generating walks (CPU: 2):  55%|█████▍    | 41/75 [00:06<00:06,  5.56it/s]"
     ]
    },
    {
     "name": "stdout",
     "output_type": "stream",
     "text": [
      "[2.56250000e+00 6.89765963e-02 3.86300000e+03 9.75000000e+02\n",
      " 6.10000000e+01 1.40000000e+01 1.40000000e+01 2.00000000e+00\n",
      " 1.00000000e+00 2.20000000e+01 4.00000000e+00 4.00000000e+00\n",
      " 0.00000000e+00 0.00000000e+00 0.00000000e+00 0.00000000e+00\n",
      " 0.00000000e+00 0.00000000e+00]\n"
     ]
    },
    {
     "name": "stderr",
     "output_type": "stream",
     "text": [
      "\r",
      "Generating walks (CPU: 4):  75%|███████▍  | 56/75 [00:09<00:03,  5.71it/s]"
     ]
    },
    {
     "name": "stdout",
     "output_type": "stream",
     "text": [
      "Unk percentage: 0.0\n"
     ]
    },
    {
     "name": "stderr",
     "output_type": "stream",
     "text": [
      "Generating walks (CPU: 2):  68%|██████▊   | 51/75 [00:07<00:04,  5.77it/s]"
     ]
    },
    {
     "name": "stdout",
     "output_type": "stream",
     "text": [
      "cluster began\n",
      "cluster end\n"
     ]
    },
    {
     "name": "stderr",
     "output_type": "stream",
     "text": [
      "Computing transition probabilities: 100%|██████████| 19/19 [00:00<00:00, 2296.26it/s]\n",
      "Generating walks (CPU: 1):  19%|█▊        | 14/75 [00:01<00:08,  7.54it/s]\n",
      "Generating walks (CPU: 1):  33%|███▎      | 25/75 [00:03<00:08,  6.13it/s]\n",
      "Generating walks (CPU: 1):  39%|███▊      | 29/75 [00:04<00:07,  6.37it/s]"
     ]
    },
    {
     "name": "stdout",
     "output_type": "stream",
     "text": [
      "[2.000e+00 0.000e+00 1.125e+03 3.900e+02 2.300e+01 1.000e+00 1.000e+00\n",
      " 0.000e+00 0.000e+00 0.000e+00 0.000e+00 0.000e+00 0.000e+00 0.000e+00\n",
      " 0.000e+00 0.000e+00 0.000e+00 0.000e+00]"
     ]
    },
    {
     "name": "stderr",
     "output_type": "stream",
     "text": [
      "\r",
      "Generating walks (CPU: 3):   7%|▋         | 5/75 [00:00<00:09,  7.46it/s]"
     ]
    },
    {
     "name": "stdout",
     "output_type": "stream",
     "text": [
      "\n"
     ]
    },
    {
     "name": "stderr",
     "output_type": "stream",
     "text": [
      "\r",
      "Generating walks (CPU: 1):  40%|████      | 30/75 [00:04<00:07,  6.32it/s]"
     ]
    },
    {
     "name": "stdout",
     "output_type": "stream",
     "text": [
      "Unk percentage: 0.0\n"
     ]
    },
    {
     "name": "stderr",
     "output_type": "stream",
     "text": [
      "Generating walks (CPU: 3):  21%|██▏       | 16/75 [00:02<00:08,  7.18it/s]"
     ]
    },
    {
     "name": "stdout",
     "output_type": "stream",
     "text": [
      "cluster began\n"
     ]
    },
    {
     "name": "stderr",
     "output_type": "stream",
     "text": [
      "\r",
      "Generating walks (CPU: 1):  55%|█████▍    | 41/75 [00:05<00:04,  7.00it/s]"
     ]
    },
    {
     "name": "stdout",
     "output_type": "stream",
     "text": [
      "cluster end\n"
     ]
    },
    {
     "name": "stderr",
     "output_type": "stream",
     "text": [
      "Computing transition probabilities: 100%|██████████| 20/20 [00:00<00:00, 735.69it/s]\n",
      "Generating walks (CPU: 3):  67%|██████▋   | 50/75 [00:07<00:03,  6.79it/s]\n",
      "Generating walks (CPU: 2):  35%|███▍      | 26/75 [00:03<00:07,  6.97it/s]\n",
      "Generating walks (CPU: 2):  57%|█████▋    | 43/75 [00:06<00:04,  6.96it/s]\n",
      "Generating walks (CPU: 2):  40%|████      | 30/75 [00:04<00:06,  7.28it/s]\n",
      "Generating walks (CPU: 3):  39%|███▊      | 29/75 [00:04<00:06,  7.20it/s]\n",
      "Generating walks (CPU: 3):  55%|█████▍    | 41/75 [00:06<00:06,  5.61it/s]"
     ]
    },
    {
     "name": "stdout",
     "output_type": "stream",
     "text": [
      "[  1.78947368   0.         696.         257.          16.\n",
      "   0.           0.           0.           0.           0.\n",
      "   0.           0.           0.           0.           0.\n",
      "   0.           0.           0.        ]\n"
     ]
    },
    {
     "name": "stderr",
     "output_type": "stream",
     "text": [
      "\r",
      "Generating walks (CPU: 2):  92%|█████████▏| 69/75 [00:10<00:01,  5.56it/s]"
     ]
    },
    {
     "name": "stdout",
     "output_type": "stream",
     "text": [
      "Unk percentage: 0.0\n"
     ]
    },
    {
     "name": "stderr",
     "output_type": "stream",
     "text": [
      "Generating walks (CPU: 3):  63%|██████▎   | 47/75 [00:07<00:04,  5.66it/s]\n",
      "Generating walks (CPU: 3):  68%|██████▊   | 51/75 [00:07<00:03,  6.58it/s]"
     ]
    },
    {
     "name": "stdout",
     "output_type": "stream",
     "text": [
      "cluster began\n",
      "cluster end\n"
     ]
    },
    {
     "name": "stderr",
     "output_type": "stream",
     "text": [
      "Computing transition probabilities: 100%|██████████| 22/22 [00:00<00:00, 2648.45it/s]\n",
      "Generating walks (CPU: 3):  39%|███▊      | 29/75 [00:04<00:07,  5.86it/s]\n",
      "Generating walks (CPU: 4):  63%|██████▎   | 47/75 [00:07<00:04,  6.22it/s]\n",
      "Generating walks (CPU: 4):  12%|█▏        | 9/75 [00:01<00:11,  5.98it/s]]\n",
      "Generating walks (CPU: 2):  23%|██▎       | 17/75 [00:02<00:09,  6.09it/s]\n",
      "Generating walks (CPU: 2):  37%|███▋      | 28/75 [00:04<00:07,  6.00it/s]"
     ]
    },
    {
     "name": "stdout",
     "output_type": "stream",
     "text": [
      "[2.33333333e+00 1.69642857e-01 5.37000000e+02 2.27000000e+02\n",
      " 2.10000000e+01 6.00000000e+00 6.00000000e+00 3.00000000e+00\n",
      " 0.00000000e+00 1.40000000e+01 1.00000000e+00 1.00000000e+00\n",
      " 0.00000000e+00 0.00000000e+00 0.00000000e+00 0.00000000e+00\n",
      " 0.00000000e+00 0.00000000e+00]"
     ]
    },
    {
     "name": "stderr",
     "output_type": "stream",
     "text": [
      "\r",
      "Generating walks (CPU: 4):  52%|█████▏    | 39/75 [00:06<00:06,  5.40it/s]"
     ]
    },
    {
     "name": "stdout",
     "output_type": "stream",
     "text": [
      "\n"
     ]
    },
    {
     "name": "stderr",
     "output_type": "stream",
     "text": [
      "\r",
      "Generating walks (CPU: 2):  39%|███▊      | 29/75 [00:04<00:07,  6.26it/s]"
     ]
    },
    {
     "name": "stdout",
     "output_type": "stream",
     "text": [
      "Unk percentage: 0.0\n"
     ]
    },
    {
     "name": "stderr",
     "output_type": "stream",
     "text": [
      "Generating walks (CPU: 4):  67%|██████▋   | 50/75 [00:08<00:03,  6.31it/s]"
     ]
    },
    {
     "name": "stdout",
     "output_type": "stream",
     "text": [
      "cluster began\n"
     ]
    },
    {
     "name": "stderr",
     "output_type": "stream",
     "text": [
      "\r",
      "Generating walks (CPU: 2):  52%|█████▏    | 39/75 [00:06<00:06,  5.68it/s]"
     ]
    },
    {
     "name": "stdout",
     "output_type": "stream",
     "text": [
      "cluster end\n"
     ]
    },
    {
     "name": "stderr",
     "output_type": "stream",
     "text": [
      "Computing transition probabilities: 100%|██████████| 22/22 [00:00<00:00, 2935.13it/s]\n",
      "Generating walks (CPU: 1):  32%|███▏      | 24/75 [00:03<00:08,  5.72it/s]\n",
      "Generating walks (CPU: 1):  47%|████▋     | 35/75 [00:05<00:08,  4.99it/s]"
     ]
    },
    {
     "name": "stdout",
     "output_type": "stream",
     "text": [
      "[  1.89473684   0.         680.         272.          17.\n",
      "   0.           0.           0.           0.           0.\n",
      "   0.           0.           0.           0.           0.\n",
      "   0.           0.           0.        ]\n",
      "Unk percentage: 0.0\n"
     ]
    },
    {
     "name": "stderr",
     "output_type": "stream",
     "text": [
      "Generating walks (CPU: 1):  48%|████▊     | 36/75 [00:05<00:07,  5.13it/s]\n",
      "Generating walks (CPU: 1):  59%|█████▊    | 44/75 [00:07<00:06,  5.05it/s]"
     ]
    },
    {
     "name": "stdout",
     "output_type": "stream",
     "text": [
      "cluster began\n",
      "cluster end\n"
     ]
    },
    {
     "name": "stderr",
     "output_type": "stream",
     "text": [
      "Computing transition probabilities: 100%|██████████| 20/20 [00:00<00:00, 1666.13it/s]\n",
      "Generating walks (CPU: 1):  44%|████▍     | 33/75 [00:05<00:06,  6.23it/s]\n",
      "Generating walks (CPU: 1):  99%|█████████▊| 74/75 [00:11<00:00,  6.13it/s]\n",
      "Generating walks (CPU: 4):   3%|▎         | 2/75 [00:00<00:05, 13.56it/s]]\n",
      "Generating walks (CPU: 4):  49%|████▉     | 37/75 [00:06<00:07,  5.20it/s]\n",
      "Generating walks (CPU: 4):  96%|█████████▌| 72/75 [00:12<00:00,  6.32it/s]\n",
      "Generating walks (CPU: 3):  53%|█████▎    | 40/75 [00:06<00:05,  6.33it/s]\n",
      "Generating walks (CPU: 3):  25%|██▌       | 19/75 [00:03<00:10,  5.43it/s]"
     ]
    },
    {
     "name": "stdout",
     "output_type": "stream",
     "text": [
      "[  2.   0. 970. 323.  18.   0.   0.   0.   0.  17.   1.   1.   0.   0.\n",
      "   0.   0.   0.   0.]\n"
     ]
    },
    {
     "name": "stderr",
     "output_type": "stream",
     "text": [
      "\r",
      "Generating walks (CPU: 3):  72%|███████▏  | 54/75 [00:08<00:03,  5.30it/s]"
     ]
    },
    {
     "name": "stdout",
     "output_type": "stream",
     "text": [
      "Unk percentage: 0.0\n"
     ]
    },
    {
     "name": "stderr",
     "output_type": "stream",
     "text": [
      "Generating walks (CPU: 3):  41%|████▏     | 31/75 [00:04<00:07,  6.13it/s]"
     ]
    },
    {
     "name": "stdout",
     "output_type": "stream",
     "text": [
      "cluster began\n",
      "cluster end\n"
     ]
    },
    {
     "name": "stderr",
     "output_type": "stream",
     "text": [
      "Computing transition probabilities: 100%|██████████| 30/30 [00:00<00:00, 1072.03it/s]\n",
      "Generating walks (CPU: 1):  15%|█▍        | 11/75 [00:01<00:13,  4.91it/s]\n",
      "Generating walks (CPU: 1):  44%|████▍     | 33/75 [00:06<00:09,  4.51it/s]\n",
      "Generating walks (CPU: 4):  68%|██████▊   | 51/75 [00:07<00:03,  7.04it/s]\n",
      "Generating walks (CPU: 4):  80%|████████  | 60/75 [00:09<00:02,  5.73it/s]\n",
      "Generating walks (CPU: 2):   4%|▍         | 3/75 [00:00<00:12,  5.57it/s]]"
     ]
    },
    {
     "name": "stdout",
     "output_type": "stream",
     "text": [
      "[2.00000000e+00 5.15873016e-02 9.54000000e+02 3.54000000e+02\n",
      " 1.90000000e+01 1.00000000e+00 1.00000000e+00 1.00000000e+00\n",
      " 0.00000000e+00 0.00000000e+00 0.00000000e+00 0.00000000e+00\n",
      " 0.00000000e+00 0.00000000e+00 0.00000000e+00 0.00000000e+00\n",
      " 0.00000000e+00 0.00000000e+00]"
     ]
    },
    {
     "name": "stderr",
     "output_type": "stream",
     "text": [
      "\r",
      "Generating walks (CPU: 4):  87%|████████▋ | 65/75 [00:10<00:01,  5.71it/s]"
     ]
    },
    {
     "name": "stdout",
     "output_type": "stream",
     "text": [
      "\n",
      "Unk percentage: 0.0\n"
     ]
    },
    {
     "name": "stderr",
     "output_type": "stream",
     "text": [
      "Generating walks (CPU: 2):  15%|█▍        | 11/75 [00:02<00:13,  4.75it/s]"
     ]
    },
    {
     "name": "stdout",
     "output_type": "stream",
     "text": [
      "cluster began\n",
      "cluster end\n"
     ]
    },
    {
     "name": "stderr",
     "output_type": "stream",
     "text": [
      "Computing transition probabilities:   0%|          | 0/13 [00:00<?, ?it/s]\n",
      "Computing transition probabilities: 100%|██████████| 13/13 [00:00<00:00, 651.50it/s]\n",
      "Generating walks (CPU: 1):  27%|██▋       | 20/75 [00:01<00:05,  9.62it/s]"
     ]
    },
    {
     "name": "stdout",
     "output_type": "stream",
     "text": [
      "[  2.42105263   0.         658.         252.          21.\n",
      "   2.           2.           0.           0.          30.\n",
      "   2.           2.           0.           0.           0.\n",
      "   0.           0.           0.        ]"
     ]
    },
    {
     "name": "stderr",
     "output_type": "stream",
     "text": [
      "\r",
      "Generating walks (CPU: 1):  28%|██▊       | 21/75 [00:02<00:06,  8.35it/s]"
     ]
    },
    {
     "name": "stdout",
     "output_type": "stream",
     "text": [
      "\n",
      "Unk percentage: 0.0\n"
     ]
    },
    {
     "name": "stderr",
     "output_type": "stream",
     "text": [
      "Generating walks (CPU: 1):  48%|████▊     | 36/75 [00:03<00:04,  8.67it/s]"
     ]
    },
    {
     "name": "stdout",
     "output_type": "stream",
     "text": [
      "cluster began\n",
      "cluster end\n"
     ]
    },
    {
     "name": "stderr",
     "output_type": "stream",
     "text": [
      "Computing transition probabilities: 100%|██████████| 24/24 [00:00<00:00, 545.60it/s]\n",
      "Generating walks (CPU: 1):  31%|███       | 23/75 [00:04<00:09,  5.39it/s]\n",
      "Generating walks (CPU: 1):  76%|███████▌  | 57/75 [00:10<00:03,  5.72it/s]\n",
      "Generating walks (CPU: 3):   5%|▌         | 4/75 [00:00<00:09,  7.28it/s]]\n",
      "Generating walks (CPU: 3):  35%|███▍      | 26/75 [00:02<00:05,  9.31it/s]\n",
      "Generating walks (CPU: 3): 100%|██████████| 75/75 [00:06<00:00, 12.37it/s]\n",
      "Generating walks (CPU: 4): 100%|██████████| 75/75 [00:07<00:00,  9.69it/s]\n",
      "Generating walks (CPU: 2):  95%|█████████▍| 71/75 [00:12<00:00,  5.31it/s]\n",
      "Generating walks (CPU: 4):   5%|▌         | 4/75 [00:00<00:11,  5.96it/s]]\n"
     ]
    },
    {
     "name": "stdout",
     "output_type": "stream",
     "text": [
      "[  2.33333333   0.         115.          83.          11.\n",
      "   0.           1.           0.           0.           7.\n",
      "   2.           1.           0.           0.           0.\n",
      "   0.           0.           0.        ]"
     ]
    },
    {
     "name": "stderr",
     "output_type": "stream",
     "text": [
      "\r",
      "Generating walks (CPU: 3):   0%|          | 0/75 [00:00<?, ?it/s]"
     ]
    },
    {
     "name": "stdout",
     "output_type": "stream",
     "text": [
      "\n"
     ]
    },
    {
     "name": "stderr",
     "output_type": "stream",
     "text": [
      "\r",
      "Generating walks (CPU: 4):   7%|▋         | 5/75 [00:00<00:12,  5.60it/s]"
     ]
    },
    {
     "name": "stdout",
     "output_type": "stream",
     "text": [
      "Unk percentage: 0.0\n"
     ]
    },
    {
     "name": "stderr",
     "output_type": "stream",
     "text": [
      "Generating walks (CPU: 4):  17%|█▋        | 13/75 [00:02<00:12,  5.07it/s]"
     ]
    },
    {
     "name": "stdout",
     "output_type": "stream",
     "text": [
      "cluster began\n",
      "cluster end\n"
     ]
    },
    {
     "name": "stderr",
     "output_type": "stream",
     "text": [
      "Computing transition probabilities: 100%|██████████| 24/24 [00:00<00:00, 1499.82it/s]\n",
      "Generating walks (CPU: 4):  92%|█████████▏| 69/75 [00:14<00:01,  5.82it/s]\n",
      "Generating walks (CPU: 4):  11%|█         | 8/75 [00:01<00:11,  5.67it/s]]\n",
      "Generating walks (CPU: 4):  12%|█▏        | 9/75 [00:01<00:11,  5.80it/s]]\n",
      "Generating walks (CPU: 4):  28%|██▊       | 21/75 [00:04<00:11,  4.65it/s]"
     ]
    },
    {
     "name": "stdout",
     "output_type": "stream",
     "text": [
      "[2.27586207e+00 3.48746082e-02 2.85500000e+03 7.16000000e+02\n",
      " 4.10000000e+01 7.00000000e+00 7.00000000e+00 1.00000000e+00\n",
      " 0.00000000e+00 1.90000000e+01 4.00000000e+00 4.00000000e+00\n",
      " 0.00000000e+00 0.00000000e+00 0.00000000e+00 0.00000000e+00\n",
      " 0.00000000e+00 0.00000000e+00]"
     ]
    },
    {
     "name": "stderr",
     "output_type": "stream",
     "text": [
      "\r",
      "Generating walks (CPU: 4):  29%|██▉       | 22/75 [00:04<00:10,  4.85it/s]"
     ]
    },
    {
     "name": "stdout",
     "output_type": "stream",
     "text": [
      "\n"
     ]
    },
    {
     "name": "stderr",
     "output_type": "stream",
     "text": [
      "\r",
      "Generating walks (CPU: 2):  17%|█▋        | 13/75 [00:02<00:13,  4.76it/s]"
     ]
    },
    {
     "name": "stdout",
     "output_type": "stream",
     "text": [
      "Unk percentage: 0.06060606060606061\n"
     ]
    },
    {
     "name": "stderr",
     "output_type": "stream",
     "text": [
      "Generating walks (CPU: 2):  31%|███       | 23/75 [00:03<00:08,  5.95it/s]"
     ]
    },
    {
     "name": "stdout",
     "output_type": "stream",
     "text": [
      "cluster began\n",
      "cluster end\n"
     ]
    },
    {
     "name": "stderr",
     "output_type": "stream",
     "text": [
      "Computing transition probabilities: 100%|██████████| 17/17 [00:00<00:00, 4711.77it/s]\n",
      "Generating walks (CPU: 2):  95%|█████████▍| 71/75 [00:12<00:00,  5.50it/s]\n",
      "Generating walks (CPU: 2): 100%|██████████| 75/75 [00:12<00:00,  5.52it/s]\n",
      "Generating walks (CPU: 3):  12%|█▏        | 9/75 [00:01<00:11,  5.79it/s]]"
     ]
    },
    {
     "name": "stdout",
     "output_type": "stream",
     "text": [
      "[2.52173913e+00 5.87761675e-02 1.24000000e+03 4.61000000e+02\n",
      " 3.50000000e+01 6.00000000e+00 6.00000000e+00 1.00000000e+00\n",
      " 1.00000000e+00 1.50000000e+01 3.00000000e+00 3.00000000e+00\n",
      " 0.00000000e+00 0.00000000e+00 0.00000000e+00 0.00000000e+00\n",
      " 0.00000000e+00 0.00000000e+00]"
     ]
    },
    {
     "name": "stderr",
     "output_type": "stream",
     "text": [
      "\r",
      "Generating walks (CPU: 1): 100%|██████████| 75/75 [00:10<00:00,  7.04it/s]"
     ]
    },
    {
     "name": "stdout",
     "output_type": "stream",
     "text": [
      "\n",
      "Unk percentage: 0.0\n"
     ]
    },
    {
     "name": "stderr",
     "output_type": "stream",
     "text": [
      "\n",
      "Generating walks (CPU: 3):  25%|██▌       | 19/75 [00:03<00:09,  6.08it/s]"
     ]
    },
    {
     "name": "stdout",
     "output_type": "stream",
     "text": [
      "cluster began\n",
      "cluster end\n"
     ]
    },
    {
     "name": "stderr",
     "output_type": "stream",
     "text": [
      "Computing transition probabilities: 100%|██████████| 19/19 [00:00<00:00, 503.73it/s]\n",
      "Generating walks (CPU: 3):  88%|████████▊ | 66/75 [00:11<00:01,  5.79it/s]\n",
      "Generating walks (CPU: 3):  20%|██        | 15/75 [00:01<00:06,  8.63it/s]\n",
      "Generating walks (CPU: 4):   8%|▊         | 6/75 [00:00<00:10,  6.83it/s]]\n",
      "Generating walks (CPU: 4):  59%|█████▊    | 44/75 [00:07<00:05,  6.13it/s]\n",
      "Generating walks (CPU: 4):  85%|████████▌ | 64/75 [00:11<00:02,  5.36it/s]\n",
      "Generating walks (CPU: 4):  57%|█████▋    | 43/75 [00:05<00:04,  6.40it/s]\n",
      "Generating walks (CPU: 4):  80%|████████  | 60/75 [00:07<00:02,  5.82it/s]"
     ]
    },
    {
     "name": "stdout",
     "output_type": "stream",
     "text": [
      "[2.08695652e+00 4.49275362e-02 1.30100000e+03 4.37000000e+02\n",
      " 2.60000000e+01 3.00000000e+00 3.00000000e+00 1.00000000e+00\n",
      " 0.00000000e+00 0.00000000e+00 0.00000000e+00 0.00000000e+00\n",
      " 0.00000000e+00 0.00000000e+00 0.00000000e+00 0.00000000e+00\n",
      " 0.00000000e+00 0.00000000e+00]\n"
     ]
    },
    {
     "name": "stderr",
     "output_type": "stream",
     "text": [
      "\r",
      "Generating walks (CPU: 3):  43%|████▎     | 32/75 [00:04<00:07,  6.13it/s]"
     ]
    },
    {
     "name": "stdout",
     "output_type": "stream",
     "text": [
      "Unk percentage: 0.0\n"
     ]
    },
    {
     "name": "stderr",
     "output_type": "stream",
     "text": [
      "Generating walks (CPU: 4):  97%|█████████▋| 73/75 [00:09<00:00,  6.95it/s]"
     ]
    },
    {
     "name": "stdout",
     "output_type": "stream",
     "text": [
      "cluster began\n",
      "cluster end\n"
     ]
    },
    {
     "name": "stderr",
     "output_type": "stream",
     "text": [
      "Computing transition probabilities: 100%|██████████| 26/26 [00:00<00:00, 469.51it/s]\n",
      "Generating walks (CPU: 3):  60%|██████    | 45/75 [00:06<00:04,  6.29it/s]\n",
      "Generating walks (CPU: 3):  76%|███████▌  | 57/75 [00:08<00:02,  6.41it/s]"
     ]
    },
    {
     "name": "stdout",
     "output_type": "stream",
     "text": [
      "[2.00000000e+00 5.20833333e-02 3.53000000e+02 1.91000000e+02\n",
      " 1.30000000e+01 1.00000000e+00 1.00000000e+00 1.00000000e+00\n",
      " 0.00000000e+00 0.00000000e+00 0.00000000e+00 0.00000000e+00\n",
      " 0.00000000e+00 0.00000000e+00 0.00000000e+00 0.00000000e+00\n",
      " 0.00000000e+00 0.00000000e+00]"
     ]
    },
    {
     "name": "stderr",
     "output_type": "stream",
     "text": [
      "\r",
      "Generating walks (CPU: 1):  15%|█▍        | 11/75 [00:01<00:11,  5.82it/s]"
     ]
    },
    {
     "name": "stdout",
     "output_type": "stream",
     "text": [
      "\n",
      "Unk percentage: 0.0\n"
     ]
    },
    {
     "name": "stderr",
     "output_type": "stream",
     "text": [
      "Generating walks (CPU: 3):  92%|█████████▏| 69/75 [00:10<00:01,  5.98it/s]"
     ]
    },
    {
     "name": "stdout",
     "output_type": "stream",
     "text": [
      "cluster began\n",
      "cluster end\n"
     ]
    },
    {
     "name": "stderr",
     "output_type": "stream",
     "text": [
      "Computing transition probabilities: 100%|██████████| 10/10 [00:00<00:00, 1253.53it/s]\n",
      "Generating walks (CPU: 1):  33%|███▎      | 25/75 [00:04<00:09,  5.27it/s]\n",
      "Generating walks (CPU: 1): 100%|██████████| 75/75 [00:05<00:00, 12.67it/s]\n",
      "Generating walks (CPU: 4):  84%|████████▍ | 63/75 [00:09<00:01,  6.91it/s]\n",
      "Generating walks (CPU: 2): 100%|██████████| 75/75 [00:05<00:00, 12.95it/s]\n",
      "Generating walks (CPU: 3):   8%|▊         | 6/75 [00:00<00:04, 15.10it/s]]\n",
      "Generating walks (CPU: 2):  28%|██▊       | 21/75 [00:03<00:10,  5.18it/s]"
     ]
    },
    {
     "name": "stdout",
     "output_type": "stream",
     "text": [
      "[  2.   0. 547. 250.  18.   1.   0.   0.   0.   0.   0.   0.   0.   0.\n",
      "   0.   0.   0.   0.]"
     ]
    },
    {
     "name": "stderr",
     "output_type": "stream",
     "text": [
      "\r",
      "Generating walks (CPU: 3):  37%|███▋      | 28/75 [00:02<00:04, 11.15it/s]"
     ]
    },
    {
     "name": "stdout",
     "output_type": "stream",
     "text": [
      "\n",
      "Unk percentage: 0.02\n"
     ]
    },
    {
     "name": "stderr",
     "output_type": "stream",
     "text": [
      "Generating walks (CPU: 3):  73%|███████▎  | 55/75 [00:04<00:01, 13.26it/s]"
     ]
    },
    {
     "name": "stdout",
     "output_type": "stream",
     "text": [
      "cluster began\n",
      "cluster end\n"
     ]
    },
    {
     "name": "stderr",
     "output_type": "stream",
     "text": [
      "Computing transition probabilities: 100%|██████████| 24/24 [00:00<00:00, 1501.14it/s]\n",
      "Generating walks (CPU: 2):  52%|█████▏    | 39/75 [00:07<00:07,  4.95it/s]\n",
      "Generating walks (CPU: 2):  93%|█████████▎| 70/75 [00:13<00:00,  5.48it/s]\n",
      "Generating walks (CPU: 1):  64%|██████▍   | 48/75 [00:08<00:05,  5.10it/s]"
     ]
    },
    {
     "name": "stdout",
     "output_type": "stream",
     "text": [
      "[ 1.77777778  0.         35.         42.          7.          0.\n",
      "  0.          0.          0.          0.          0.          0.\n",
      "  0.          0.          0.          0.          0.          0.        ]\n",
      "Unk percentage: 0.022222222222222223\n"
     ]
    },
    {
     "name": "stderr",
     "output_type": "stream",
     "text": [
      "\n",
      "Generating walks (CPU: 1):  77%|███████▋  | 58/75 [00:10<00:03,  5.24it/s]"
     ]
    },
    {
     "name": "stdout",
     "output_type": "stream",
     "text": [
      "cluster began\n",
      "cluster end\n"
     ]
    },
    {
     "name": "stderr",
     "output_type": "stream",
     "text": [
      "Computing transition probabilities: 100%|██████████| 26/26 [00:00<00:00, 1572.76it/s]\n",
      "Generating walks (CPU: 3):  35%|███▍      | 26/75 [00:04<00:08,  5.82it/s]\n",
      "Generating walks (CPU: 1):  91%|█████████ | 68/75 [00:12<00:01,  5.61it/s]\n",
      "Generating walks (CPU: 2):  85%|████████▌ | 64/75 [00:10<00:01,  5.82it/s]\n",
      "Generating walks (CPU: 2):  15%|█▍        | 11/75 [00:01<00:12,  5.30it/s]\n",
      "Generating walks (CPU: 2):  95%|█████████▍| 71/75 [00:12<00:00,  5.95it/s]\n",
      "Generating walks (CPU: 3):  89%|████████▉ | 67/75 [00:11<00:01,  5.97it/s]\n",
      "Generating walks (CPU: 3):  12%|█▏        | 9/75 [00:01<00:11,  5.90it/s]]\n",
      "Generating walks (CPU: 3):  13%|█▎        | 10/75 [00:01<00:11,  5.46it/s]"
     ]
    },
    {
     "name": "stdout",
     "output_type": "stream",
     "text": [
      "[   2.16    0.   1717.    545.     32.      3.      3.      0.      0.\n",
      "    0.      0.      0.      0.      0.      0.      0.      0.      0.  ]\n",
      "Unk percentage: 0.0\n"
     ]
    },
    {
     "name": "stderr",
     "output_type": "stream",
     "text": [
      "Generating walks (CPU: 4):  17%|█▋        | 13/75 [00:02<00:10,  5.83it/s]"
     ]
    },
    {
     "name": "stdout",
     "output_type": "stream",
     "text": [
      "cluster began\n",
      "cluster end\n"
     ]
    },
    {
     "name": "stderr",
     "output_type": "stream",
     "text": [
      "Computing transition probabilities: 100%|██████████| 17/17 [00:00<00:00, 606.62it/s]\n",
      "Generating walks (CPU: 1):  99%|█████████▊| 74/75 [00:09<00:00,  8.24it/s]\n",
      "Generating walks (CPU: 4):  96%|█████████▌| 72/75 [00:12<00:00,  6.10it/s]\n",
      "Generating walks (CPU: 4):   7%|▋         | 5/75 [00:00<00:11,  6.19it/s]]\n",
      "Generating walks (CPU: 4):  23%|██▎       | 17/75 [00:03<00:12,  4.69it/s]"
     ]
    },
    {
     "name": "stdout",
     "output_type": "stream",
     "text": [
      "[2.60869565e+00 8.82160110e-02 1.23400000e+03 4.46000000e+02\n",
      " 5.60000000e+01 1.70000000e+01 1.60000000e+01 2.00000000e+00\n",
      " 0.00000000e+00 0.00000000e+00 0.00000000e+00 0.00000000e+00\n",
      " 0.00000000e+00 0.00000000e+00 0.00000000e+00 0.00000000e+00\n",
      " 0.00000000e+00 0.00000000e+00]\n",
      "Unk percentage: 0.0\n"
     ]
    },
    {
     "name": "stderr",
     "output_type": "stream",
     "text": [
      "Generating walks (CPU: 2):  51%|█████     | 38/75 [00:04<00:05,  7.20it/s]"
     ]
    },
    {
     "name": "stdout",
     "output_type": "stream",
     "text": [
      "cluster began\n",
      "cluster end\n"
     ]
    },
    {
     "name": "stderr",
     "output_type": "stream",
     "text": [
      "Computing transition probabilities: 100%|██████████| 29/29 [00:00<00:00, 3045.97it/s]\n",
      "Generating walks (CPU: 4):  72%|███████▏  | 54/75 [00:09<00:03,  5.39it/s]\n",
      "Generating walks (CPU: 3):  43%|████▎     | 32/75 [00:03<00:04,  8.99it/s]\n",
      "Generating walks (CPU: 3):  68%|██████▊   | 51/75 [00:06<00:03,  7.85it/s]"
     ]
    },
    {
     "name": "stdout",
     "output_type": "stream",
     "text": [
      "[2.080e+00 0.000e+00 1.733e+03 5.360e+02 2.800e+01 2.000e+00 1.000e+00\n",
      " 0.000e+00 0.000e+00 0.000e+00 0.000e+00 0.000e+00 0.000e+00 0.000e+00\n",
      " 0.000e+00 0.000e+00 0.000e+00 0.000e+00]\n"
     ]
    },
    {
     "name": "stderr",
     "output_type": "stream",
     "text": [
      "\r",
      "Generating walks (CPU: 1):  79%|███████▊  | 59/75 [00:11<00:03,  5.00it/s]"
     ]
    },
    {
     "name": "stdout",
     "output_type": "stream",
     "text": [
      "Unk percentage: 0.0\n"
     ]
    },
    {
     "name": "stderr",
     "output_type": "stream",
     "text": [
      "Generating walks (CPU: 3):  84%|████████▍ | 63/75 [00:08<00:01,  7.48it/s]"
     ]
    },
    {
     "name": "stdout",
     "output_type": "stream",
     "text": [
      "cluster began\n",
      "cluster end\n"
     ]
    },
    {
     "name": "stderr",
     "output_type": "stream",
     "text": [
      "Computing transition probabilities: 100%|██████████| 22/22 [00:00<00:00, 4790.01it/s]\n",
      "Generating walks (CPU: 1):  99%|█████████▊| 74/75 [00:14<00:00,  4.84it/s]\n",
      "Generating walks (CPU: 1):  15%|█▍        | 11/75 [00:01<00:09,  6.46it/s]\n",
      "Generating walks (CPU: 1):  93%|█████████▎| 70/75 [00:10<00:00,  6.13it/s]\n",
      "Generating walks (CPU: 2):  67%|██████▋   | 50/75 [00:10<00:05,  4.76it/s]\n",
      "Generating walks (CPU: 2):  72%|███████▏  | 54/75 [00:10<00:04,  4.49it/s]"
     ]
    },
    {
     "name": "stdout",
     "output_type": "stream",
     "text": [
      "[  2.   0. 354. 188.  16.   1.   1.   0.   0.   0.   0.   0.   0.   0.\n",
      "   0.   0.   0.   0.]\n"
     ]
    },
    {
     "name": "stderr",
     "output_type": "stream",
     "text": [
      "Generating walks (CPU: 2):  43%|████▎     | 32/75 [00:04<00:05,  7.88it/s]\n",
      "Generating walks (CPU: 3):  47%|████▋     | 35/75 [00:06<00:07,  5.64it/s]\n",
      "Generating walks (CPU: 3):  71%|███████   | 53/75 [00:07<00:02,  7.69it/s]\n",
      "Generating walks (CPU: 4):  24%|██▍       | 18/75 [00:03<00:10,  5.42it/s]\n",
      "Generating walks (CPU: 4):  99%|█████████▊| 74/75 [00:10<00:00,  6.91it/s]\n",
      "Generating walks (CPU: 4): 100%|██████████| 75/75 [00:10<00:00,  7.24it/s]\n"
     ]
    },
    {
     "name": "stdout",
     "output_type": "stream",
     "text": [
      "[  1.80952381   0.         987.         325.          18.\n",
      "   0.           0.           0.           0.           0.\n",
      "   0.           0.           0.           0.           0.\n",
      "   0.           0.           0.        ]\n",
      "Unk percentage: 0.0\n",
      "[2.14285714e+00 0.00000000e+00 2.53700000e+03 6.98000000e+02\n",
      " 3.50000000e+01 3.00000000e+00 3.00000000e+00 0.00000000e+00\n",
      " 0.00000000e+00 0.00000000e+00 0.00000000e+00 0.00000000e+00\n",
      " 0.00000000e+00 0.00000000e+00 0.00000000e+00 0.00000000e+00\n",
      " 0.00000000e+00 0.00000000e+00]\n",
      "Unk percentage: 0.09375\n",
      "cluster began\n",
      "cluster end\n"
     ]
    },
    {
     "name": "stderr",
     "output_type": "stream",
     "text": [
      "Computing transition probabilities: 100%|██████████| 30/30 [00:00<00:00, 1992.26it/s]\n",
      "Generating walks (CPU: 1):   0%|          | 0/75 [00:00<?, ?it/s]"
     ]
    },
    {
     "name": "stdout",
     "output_type": "stream",
     "text": [
      "cluster began\n",
      "cluster end\n"
     ]
    },
    {
     "name": "stderr",
     "output_type": "stream",
     "text": [
      "Computing transition probabilities: 100%|██████████| 19/19 [00:00<00:00, 3209.11it/s]\n",
      "Generating walks (CPU: 1): 100%|██████████| 75/75 [00:09<00:00,  7.15it/s]\n",
      "Generating walks (CPU: 2):  51%|█████     | 38/75 [00:04<00:04,  7.72it/s]\n",
      "Generating walks (CPU: 2):  35%|███▍      | 26/75 [00:04<00:08,  5.69it/s]\n",
      "Generating walks (CPU: 3): 100%|██████████| 75/75 [00:09<00:00,  8.88it/s]\n",
      "Generating walks (CPU: 4):   0%|          | 0/75 [00:00<?, ?it/s]\n",
      "Generating walks (CPU: 4): 100%|██████████| 75/75 [00:09<00:00,  8.71it/s]\n",
      "Generating walks (CPU: 3):  81%|████████▏ | 61/75 [00:10<00:02,  4.78it/s]"
     ]
    },
    {
     "name": "stdout",
     "output_type": "stream",
     "text": [
      "[  2.33333333   0.         516.         264.          28.\n",
      "   5.           3.           0.           0.           0.\n",
      "   0.           0.           0.           0.           0.\n",
      "   0.           0.           0.        ]\n"
     ]
    },
    {
     "name": "stderr",
     "output_type": "stream",
     "text": [
      "Generating walks (CPU: 3): 100%|██████████| 75/75 [00:13<00:00,  5.78it/s]\n",
      "Generating walks (CPU: 4): 100%|██████████| 75/75 [00:13<00:00,  5.67it/s]\n"
     ]
    },
    {
     "name": "stdout",
     "output_type": "stream",
     "text": [
      "[2.34482759e+00 2.07307061e-02 2.80800000e+03 7.75000000e+02\n",
      " 5.00000000e+01 1.00000000e+01 1.00000000e+01 1.00000000e+00\n",
      " 0.00000000e+00 0.00000000e+00 0.00000000e+00 0.00000000e+00\n",
      " 0.00000000e+00 0.00000000e+00 0.00000000e+00 0.00000000e+00\n",
      " 0.00000000e+00 0.00000000e+00]\n"
     ]
    }
   ],
   "source": [
    "def vectorize(path):\n",
    "    bag = GraphGenerator(path, emb, word2id_dict, id2word_dict, is_file=False)\n",
    "    G = bag.generate_graph()\n",
    "    if nx.number_of_nodes(G) <= 400:\n",
    "        return gen_style_vec(G)\n",
    "    else:\n",
    "        return None\n",
    "\n",
    "def main():    \n",
    "    p = Pool(N_CORES)\n",
    "    texts = []\n",
    "    text_entries = [x[1] for x in sentences]\n",
    "    print(text_entries)\n",
    "    return p.map(vectorize, text_entries), texts\n",
    "\n",
    "finished, texts = main()"
   ]
  },
  {
   "cell_type": "code",
   "execution_count": 6,
   "metadata": {},
   "outputs": [],
   "source": [
    "vectors = [(bias, finished[i]) for i, (bias, _) in enumerate(sentences) if finished[i] is not None]"
   ]
  },
  {
   "cell_type": "code",
   "execution_count": 7,
   "metadata": {},
   "outputs": [
    {
     "name": "stdout",
     "output_type": "stream",
     "text": [
      "['lib', 'lib', 'lib', 'lib', 'lib', 'lib', 'lib', 'lib', 'lib', 'lib', 'lib', 'lib', 'lib', 'lib', 'lib', 'lib', 'lib', 'lib', 'lib', 'lib', 'lib', 'lib', 'lib', 'lib', 'lib', 'lib', 'lib', 'lib', 'lib', 'lib', 'lib', 'lib', 'lib', 'lib', 'lib', 'lib', 'lib', 'lib', 'lib', 'lib', 'lib', 'lib', 'lib', 'lib', 'lib', 'lib', 'lib', 'lib', 'lib', 'lib', 'neutral', 'neutral', 'neutral', 'neutral', 'neutral', 'neutral', 'neutral', 'neutral', 'neutral', 'neutral', 'neutral', 'neutral', 'neutral', 'neutral', 'neutral', 'neutral', 'neutral', 'neutral', 'neutral', 'neutral', 'neutral', 'neutral', 'neutral', 'neutral', 'neutral', 'neutral', 'neutral', 'neutral', 'neutral', 'neutral', 'neutral', 'neutral', 'neutral', 'neutral', 'neutral', 'neutral', 'neutral', 'neutral', 'neutral', 'neutral', 'neutral', 'neutral', 'neutral', 'neutral', 'neutral', 'neutral', 'neutral', 'neutral', 'neutral', 'neutral', 'con', 'con', 'con', 'con', 'con', 'con', 'con', 'con', 'con', 'con', 'con', 'con', 'con', 'con', 'con', 'con', 'con', 'con', 'con', 'con', 'con', 'con', 'con', 'con', 'con', 'con', 'con', 'con', 'con', 'con', 'con', 'con', 'con', 'con', 'con', 'con', 'con', 'con', 'con', 'con', 'con', 'con', 'con', 'con', 'con', 'con', 'con', 'con', 'con', 'con']\n"
     ]
    }
   ],
   "source": [
    "pres = [x[0] for x in vectors]\n",
    "X = np.concatenate([x[1][:,np.newaxis] for x in vectors], axis=1)\n",
    "print(pres)"
   ]
  },
  {
   "cell_type": "code",
   "execution_count": 8,
   "metadata": {},
   "outputs": [
    {
     "name": "stdout",
     "output_type": "stream",
     "text": [
      "['lib', 'lib', 'lib', 'lib', 'lib', 'lib', 'lib', 'lib', 'lib', 'lib', 'lib', 'lib', 'lib', 'lib', 'lib', 'lib', 'lib', 'lib', 'lib', 'lib', 'lib', 'lib', 'lib', 'lib', 'lib', 'lib', 'lib', 'lib', 'lib', 'lib', 'lib', 'lib', 'lib', 'lib', 'lib', 'lib', 'lib', 'lib', 'lib', 'lib', 'lib', 'lib', 'lib', 'lib', 'lib', 'lib', 'lib', 'lib', 'lib', 'lib', 'neutral', 'neutral', 'neutral', 'neutral', 'neutral', 'neutral', 'neutral', 'neutral', 'neutral', 'neutral', 'neutral', 'neutral', 'neutral', 'neutral', 'neutral', 'neutral', 'neutral', 'neutral', 'neutral', 'neutral', 'neutral', 'neutral', 'neutral', 'neutral', 'neutral', 'neutral', 'neutral', 'neutral', 'neutral', 'neutral', 'neutral', 'neutral', 'neutral', 'neutral', 'neutral', 'neutral', 'neutral', 'neutral', 'neutral', 'neutral', 'neutral', 'neutral', 'neutral', 'neutral', 'neutral', 'neutral', 'neutral', 'neutral', 'neutral', 'neutral', 'con', 'con', 'con', 'con', 'con', 'con', 'con', 'con', 'con', 'con', 'con', 'con', 'con', 'con', 'con', 'con', 'con', 'con', 'con', 'con', 'con', 'con', 'con', 'con', 'con', 'con', 'con', 'con', 'con', 'con', 'con', 'con', 'con', 'con', 'con', 'con', 'con', 'con', 'con', 'con', 'con', 'con', 'con', 'con', 'con', 'con', 'con', 'con', 'con', 'con']\n"
     ]
    }
   ],
   "source": [
    "print(pres)"
   ]
  },
  {
   "cell_type": "code",
   "execution_count": 9,
   "metadata": {},
   "outputs": [
    {
     "name": "stdout",
     "output_type": "stream",
     "text": [
      "[('lib', array([ 2.23529412e+00,  0.00000000e+00,  4.44000000e+02,  1.93000000e+02,\n",
      "        2.20000000e+01,  3.00000000e+00,  3.00000000e+00,  0.00000000e+00,\n",
      "        0.00000000e+00,  9.00000000e+00,  3.00000000e+00,  3.00000000e+00,\n",
      "        0.00000000e+00,  0.00000000e+00,  0.00000000e+00,  0.00000000e+00,\n",
      "        0.00000000e+00,  0.00000000e+00, -6.86797574e-02,  1.03788689e-01,\n",
      "        1.77807435e-01, -1.24999480e-02, -9.83211473e-02,  6.78595752e-02,\n",
      "        1.83797315e-01, -2.01937690e-01,  3.05011962e-02, -6.77601760e-03,\n",
      "       -1.01986140e-01,  4.28938046e-02,  2.01755688e-01,  4.03357334e-02,\n",
      "       -1.06056463e-02,  6.59887642e-02,  4.88570593e-02,  3.14436876e-03,\n",
      "       -2.05114149e-02, -3.72135080e-02, -2.56359018e-02,  5.85475154e-02,\n",
      "       -3.02247182e-02, -4.20844601e-03, -9.21737030e-02, -8.89445916e-02,\n",
      "       -6.14055619e-02,  3.12232431e-02, -6.21209294e-02,  2.58932244e-02,\n",
      "        1.78246021e-01, -6.46818280e-02,  6.74132183e-02, -2.68740579e-02,\n",
      "        8.82854685e-02, -8.48249272e-02, -3.95021662e-02,  3.02099977e-02,\n",
      "       -3.62426788e-02,  4.96874340e-02,  5.34535199e-03,  1.02396451e-01,\n",
      "        9.15684178e-02, -1.27607780e-02, -2.03362666e-02,  1.03439257e-01,\n",
      "        9.31059942e-02,  9.04703960e-02,  8.35398026e-03, -1.23527668e-01,\n",
      "       -6.54360950e-02, -2.10977923e-02,  3.10301911e-02, -9.88905057e-02,\n",
      "       -9.22343954e-02, -1.26484469e-01,  2.73291878e-02,  1.67700723e-01,\n",
      "        5.27406558e-02, -9.36362799e-03,  4.52907383e-02,  1.01984395e-02,\n",
      "       -7.47472048e-02,  7.43260533e-02, -6.99648336e-02, -4.84350277e-03,\n",
      "       -8.83831978e-02, -1.43206250e-02, -7.06270933e-02, -4.23481315e-02,\n",
      "        2.39353664e-02,  4.66173477e-02, -1.70136504e-02,  1.45602345e-01,\n",
      "        4.48152944e-02,  2.90583074e-03,  1.27033517e-01, -3.95451710e-02,\n",
      "       -6.39755502e-02, -7.72924647e-02, -9.22409073e-02,  2.61011627e-02,\n",
      "        5.23038916e-02, -9.80167910e-02, -8.35183449e-03, -2.11100318e-02,\n",
      "       -1.03900917e-01, -2.93797590e-02,  5.38247731e-03,  5.06048203e-02,\n",
      "       -1.42251760e-01,  7.68789798e-02, -8.05122033e-02, -3.74616683e-02,\n",
      "       -4.71249819e-02,  2.05260098e-01,  1.17307939e-01, -5.40891886e-02,\n",
      "       -4.68461588e-02,  4.95903529e-02, -1.05265707e-01, -1.33480474e-01,\n",
      "       -6.86389878e-02,  1.16216063e-01, -2.15439890e-02,  1.36558879e-02,\n",
      "       -4.47561964e-02, -1.17389485e-01,  2.06258744e-02, -1.36568040e-01,\n",
      "        1.02572076e-01,  1.07053472e-02,  6.37582988e-02, -7.59992972e-02,\n",
      "       -5.52720167e-02, -3.87544371e-02, -5.67764863e-02, -1.18795885e-02,\n",
      "       -3.63751277e-02,  1.15765236e-01, -6.09441996e-02,  1.51451752e-02,\n",
      "       -1.51484162e-01,  8.58014375e-02, -1.15792863e-01,  4.51093465e-02,\n",
      "        9.26835388e-02,  5.80106229e-02])), ('lib', array([ 2.75000000e+00,  4.81481481e-02,  1.39200000e+03,  5.40000000e+02,\n",
      "        5.80000000e+01,  1.70000000e+01,  1.50000000e+01,  2.00000000e+00,\n",
      "        0.00000000e+00,  0.00000000e+00,  0.00000000e+00,  0.00000000e+00,\n",
      "        0.00000000e+00,  0.00000000e+00,  0.00000000e+00,  0.00000000e+00,\n",
      "        0.00000000e+00,  0.00000000e+00, -1.83625862e-01,  3.01428884e-01,\n",
      "        2.55139381e-01, -6.57055480e-03, -6.57334551e-02, -2.64801420e-02,\n",
      "        1.34959728e-01, -4.18539822e-01, -5.83130829e-02, -8.95351358e-03,\n",
      "       -2.51500517e-01, -3.82306948e-02,  2.63514727e-01, -8.41839910e-02,\n",
      "       -1.45410076e-01, -1.80782780e-01,  2.88804844e-02, -1.00655317e-01,\n",
      "       -2.30398297e-01,  6.63615391e-02,  1.92852737e-03, -1.39633315e-02,\n",
      "        9.46736429e-03, -2.78068066e-01, -1.64043292e-01,  9.11235064e-02,\n",
      "       -6.84735924e-02,  1.11721762e-01,  1.15625123e-02, -1.91555656e-02,\n",
      "        1.68800116e-01, -1.05033651e-01, -1.52223021e-01,  1.23785608e-01,\n",
      "       -1.53830215e-01,  8.07848647e-02,  5.11286333e-02, -1.80648770e-02,\n",
      "       -1.91154078e-01,  1.03039004e-01,  1.29317760e-01, -1.27377599e-01,\n",
      "        1.90504596e-01, -1.06602959e-01,  9.54239629e-03, -1.74303219e-01,\n",
      "       -5.02859615e-02, -5.82637228e-02,  5.65095134e-02, -5.77057246e-03,\n",
      "        1.29890293e-01,  2.07752481e-01, -1.57410055e-02,  1.78007990e-01,\n",
      "       -2.72122175e-01,  2.13463083e-01, -2.71514971e-02, -1.69743039e-02,\n",
      "        5.94204217e-02, -8.69173408e-02,  1.61146335e-02, -7.39013553e-02,\n",
      "       -1.28667625e-02, -1.70414746e-02,  2.16012858e-02,  5.69032356e-02,\n",
      "       -2.73390651e-01, -6.95881480e-03, -3.04202307e-02, -8.47108811e-02,\n",
      "        2.50918806e-01, -3.69815230e-02, -1.61745716e-02, -1.25769123e-01,\n",
      "       -6.73424304e-02, -1.65335611e-02,  1.98880471e-02,  1.99451065e-03,\n",
      "       -1.02816172e-01,  1.21246800e-01, -6.39321133e-02, -1.75526187e-01,\n",
      "       -2.36398026e-01, -2.19482463e-02, -2.05316305e-01, -3.49314436e-02,\n",
      "       -3.87663618e-02,  2.25115176e-02,  2.04725470e-02,  1.65383190e-01,\n",
      "       -1.46743566e-01,  4.61862460e-02, -1.77067399e-01,  3.32365781e-01,\n",
      "       -3.14882129e-01, -1.83021426e-02, -8.23052451e-02,  8.57295766e-02,\n",
      "       -1.22616603e-03,  2.33531762e-02, -1.08394306e-02, -4.47577871e-02,\n",
      "       -6.52430952e-02, -2.08695039e-01,  9.80408266e-02, -1.71033040e-01,\n",
      "       -3.28241661e-02,  1.75956711e-02,  5.45852780e-02, -1.71425000e-01,\n",
      "       -9.98744518e-02, -9.64859650e-02, -7.12037832e-02, -6.20959699e-02,\n",
      "       -4.34434600e-02, -8.83707963e-03,  2.60090560e-01, -1.26470819e-01,\n",
      "        3.96613181e-02,  1.02689423e-01, -3.34532186e-02,  8.45153537e-03,\n",
      "        7.07152346e-03,  9.29245353e-02,  1.07743390e-01, -1.22758649e-01,\n",
      "       -4.51326855e-02,  8.63531455e-02])), ('lib', array([ 2.20000000e+00,  5.08928571e-02,  7.92000000e+02,  3.01000000e+02,\n",
      "        3.20000000e+01,  7.00000000e+00,  7.00000000e+00,  1.00000000e+00,\n",
      "        0.00000000e+00,  0.00000000e+00,  0.00000000e+00,  0.00000000e+00,\n",
      "        0.00000000e+00,  0.00000000e+00,  0.00000000e+00,  0.00000000e+00,\n",
      "        0.00000000e+00,  0.00000000e+00,  2.46883184e-02,  1.92163363e-02,\n",
      "       -1.39777781e-02, -1.74425036e-01, -6.43626302e-02, -4.08593267e-02,\n",
      "        1.89129770e-01,  1.17614836e-01,  6.97263703e-02,  4.91878428e-02,\n",
      "        8.69307667e-03,  1.24409042e-01, -9.65811089e-02, -1.39634922e-01,\n",
      "       -2.59652808e-02, -1.19647995e-01, -1.06329598e-01, -1.04928762e-01,\n",
      "       -7.69516379e-02,  1.41272619e-01, -1.56907231e-01,  1.44903719e-01,\n",
      "        8.88731107e-02, -1.08066611e-01, -1.25428736e-01,  3.01700700e-02,\n",
      "        1.37646407e-01,  5.92752993e-02, -5.28359832e-03, -8.44610929e-02,\n",
      "        8.87187049e-02, -9.97366980e-02,  2.35781278e-02,  2.02109348e-02,\n",
      "       -1.98475979e-02, -1.91073008e-02, -1.56941950e-01,  9.46860537e-02,\n",
      "       -1.07094832e-01,  1.06146418e-01,  1.20870486e-01, -4.27715629e-02,\n",
      "       -1.00601502e-01,  1.23275155e-02, -5.35982586e-02,  6.75199851e-02,\n",
      "        2.77961493e-02, -2.78843604e-02,  8.30163807e-02,  4.26798463e-02,\n",
      "       -8.81093442e-02,  2.38201357e-02, -6.61998242e-02,  1.33520603e-01,\n",
      "       -1.36496142e-01,  5.04281670e-02, -1.46391999e-03,  6.37821555e-02,\n",
      "       -3.20156477e-03, -1.26728684e-01, -5.36721572e-02,  3.62755768e-02,\n",
      "        2.42031999e-02, -2.98952572e-02, -1.12294316e-01, -2.47380901e-02,\n",
      "       -4.24368978e-01, -1.50314033e-01, -4.19568032e-01, -2.58698642e-01,\n",
      "        2.36616567e-01,  1.42618269e-01, -9.97886509e-02,  1.09550878e-01,\n",
      "       -5.83181866e-02,  1.29770264e-01,  3.04064155e-01, -2.29023769e-01,\n",
      "        7.29421899e-02, -2.27401763e-01, -1.22977778e-01,  9.96707901e-02,\n",
      "       -4.67418395e-02,  1.26477540e-01, -2.40973592e-01, -4.80096154e-02,\n",
      "       -1.45822585e-01,  1.05665416e-01, -1.87006369e-02,  1.76406801e-01,\n",
      "       -2.86995769e-01, -1.75542980e-01, -3.04838810e-02,  2.04991996e-01,\n",
      "       -1.73865438e-01,  1.02953002e-01, -4.39409427e-02, -6.82267472e-02,\n",
      "       -1.24242909e-01, -1.41873166e-01, -1.52835920e-01, -7.70113198e-03,\n",
      "        6.62336498e-02,  1.90571230e-02,  2.14709323e-02, -3.44086550e-02,\n",
      "        3.12041789e-02, -8.45797807e-02, -2.11621195e-01, -7.88691044e-02,\n",
      "        1.12275876e-01,  1.06514893e-01,  4.45910506e-02, -5.42828888e-02,\n",
      "       -6.63007498e-02, -3.06259152e-02,  6.78980956e-03, -9.68526080e-02,\n",
      "       -7.77097866e-02, -3.36595476e-02, -1.58248499e-01,  2.61282008e-02,\n",
      "       -1.81897610e-01,  8.39983299e-02, -3.79379503e-02,  8.69090632e-02,\n",
      "        9.47957188e-02,  1.16066135e-01])), ('lib', array([ 1.80000000e+00,  0.00000000e+00,  5.60000000e+01,  5.60000000e+01,\n",
      "        8.00000000e+00,  0.00000000e+00,  0.00000000e+00,  0.00000000e+00,\n",
      "        0.00000000e+00,  0.00000000e+00,  0.00000000e+00,  0.00000000e+00,\n",
      "        0.00000000e+00,  0.00000000e+00,  0.00000000e+00,  0.00000000e+00,\n",
      "        0.00000000e+00,  0.00000000e+00,  5.45414053e-02,  1.07988026e-02,\n",
      "        3.35480124e-02,  1.52446888e-03, -7.41037056e-02, -6.79008588e-02,\n",
      "        1.97521169e-02, -9.21193659e-02,  2.73014307e-02,  2.87666824e-02,\n",
      "        4.36544381e-02,  5.40027255e-03, -8.53579789e-02, -1.65271819e-01,\n",
      "       -2.64173988e-02, -2.57836841e-02,  7.30843246e-02,  1.96355060e-02,\n",
      "        5.65768853e-02, -3.56711410e-02, -8.55399743e-02,  1.78232178e-01,\n",
      "        6.02082945e-02,  7.80794844e-02,  3.52544263e-02, -2.40699369e-02,\n",
      "        9.43640843e-02, -5.67960814e-02,  2.70978361e-02,  7.80416280e-02,\n",
      "       -7.50967395e-03, -6.79410994e-02, -1.44301280e-02, -3.87750529e-02,\n",
      "       -8.48207176e-02, -6.84938878e-02, -3.43785156e-03,  5.93227409e-02,\n",
      "       -1.26040176e-01,  4.54820273e-03,  4.91272938e-03,  1.04879618e-01,\n",
      "        1.23124442e-03,  1.16704755e-01, -5.60429469e-02,  1.34194225e-01,\n",
      "        1.14617988e-01,  8.70021209e-02, -1.21540338e-01, -1.75756738e-02,\n",
      "       -8.94172117e-02,  6.32279664e-02,  8.44874084e-02, -6.66072518e-02,\n",
      "       -1.19529173e-01,  1.59708485e-01,  6.42144680e-02,  6.51957020e-02,\n",
      "        1.67645477e-02, -1.94529533e-01, -1.68583632e-01, -8.69432092e-02,\n",
      "       -5.35313156e-04,  2.10338254e-02, -8.49120840e-02, -1.25635803e-01,\n",
      "       -1.42969042e-02, -9.64010060e-02,  2.08285474e-03, -1.87808424e-01,\n",
      "        7.09967092e-02,  1.98851645e-01,  1.30900905e-01,  1.27003893e-01,\n",
      "        3.19135152e-02, -4.53969352e-02,  2.68031135e-02, -1.18376166e-01,\n",
      "        7.96309635e-02, -1.05604433e-01, -9.06047001e-02,  7.45917484e-03,\n",
      "       -1.50125623e-02, -1.39735729e-01, -2.43527398e-01, -1.10018775e-02,\n",
      "        6.49048015e-02,  5.85479522e-03, -8.90424550e-02,  9.81794745e-02,\n",
      "       -1.79624096e-01, -6.88087493e-02, -3.48680071e-03,  6.59552589e-02,\n",
      "       -2.02403255e-02,  3.87359527e-03, -1.15773238e-01,  4.22103666e-02,\n",
      "       -3.13648283e-02, -1.95083711e-02,  4.77013327e-02, -7.65526071e-02,\n",
      "        1.34574443e-01, -2.12922156e-01, -1.13043472e-01,  4.64883521e-02,\n",
      "       -1.05320094e-02, -6.79273810e-03, -1.51402587e-02, -3.84914652e-02,\n",
      "        1.25179231e-01,  2.14962140e-01,  1.53338807e-02, -2.49150712e-02,\n",
      "       -3.36670801e-02, -9.34425443e-02,  3.23197022e-02, -3.93896888e-04,\n",
      "       -7.31578693e-02, -6.98450655e-02, -5.38305081e-02,  3.26347724e-02,\n",
      "        3.51316556e-02,  3.45520265e-02,  2.82455678e-03,  7.23969489e-02,\n",
      "       -1.98887084e-02,  1.35630667e-01])), ('lib', array([ 2.60000000e+00,  6.83333333e-02,  4.70000000e+01,  5.30000000e+01,\n",
      "        9.00000000e+00,  1.00000000e+00,  1.00000000e+00,  1.00000000e+00,\n",
      "        0.00000000e+00,  6.00000000e+00,  1.00000000e+00,  1.00000000e+00,\n",
      "        0.00000000e+00,  0.00000000e+00,  0.00000000e+00,  0.00000000e+00,\n",
      "        0.00000000e+00,  0.00000000e+00, -2.77327336e-02,  8.41657519e-02,\n",
      "        1.66526571e-01,  1.32879570e-01,  8.33810717e-02, -2.82512568e-02,\n",
      "        1.20455362e-01,  1.50626134e-02,  5.49465083e-02, -6.07063919e-02,\n",
      "        8.79737884e-02,  8.17283913e-02,  1.01246201e-01,  9.46291024e-04,\n",
      "       -1.39997397e-02, -4.42006215e-02, -2.33896598e-02,  1.67730842e-02,\n",
      "       -1.24222770e-01,  6.94797561e-02, -2.55249515e-02,  8.65599886e-02,\n",
      "       -4.24860008e-02, -2.79362127e-02, -3.10204178e-03, -2.64247917e-02,\n",
      "        2.39272509e-02, -4.72646169e-02, -1.68645158e-02, -3.75206135e-02,\n",
      "        6.35339022e-02, -9.88176372e-03, -9.63563286e-03,  6.99106678e-02,\n",
      "       -6.81200251e-02,  2.02865843e-02,  2.82315928e-02,  1.65930718e-01,\n",
      "       -1.07743919e-01,  1.87840313e-02, -4.66499254e-02, -4.15186994e-02,\n",
      "        6.61630230e-03,  8.11062828e-02, -1.54004963e-02, -6.42067892e-03,\n",
      "        3.18393372e-02, -3.81461112e-03,  2.16668770e-02, -6.84335753e-02,\n",
      "       -1.10072948e-01,  1.11308396e-01,  6.30261302e-02, -3.49856317e-02,\n",
      "       -1.02426119e-01,  4.80843056e-03, -1.73319597e-02, -1.46564152e-02,\n",
      "       -6.18298687e-02,  2.32162718e-02, -1.27706155e-01, -2.51422822e-02,\n",
      "        5.69010712e-03,  3.91735993e-02, -1.01239435e-01, -1.11477301e-01,\n",
      "       -9.37141404e-02, -1.15154691e-01, -3.43709104e-02, -7.45086605e-03,\n",
      "        5.69501258e-02,  1.02979541e-01,  1.07225008e-01,  5.98608553e-02,\n",
      "        1.67598892e-02,  1.62355546e-02, -1.70184299e-04, -1.66711241e-01,\n",
      "       -9.41309556e-02, -8.51092786e-02, -1.67075749e-02, -5.57315499e-02,\n",
      "       -1.15814600e-02, -7.98038915e-02, -1.57373175e-01,  1.29564935e-02,\n",
      "        7.32310861e-02,  1.06030861e-02, -8.41804296e-02, -5.10529540e-02,\n",
      "       -8.49883407e-02, -3.48134525e-02, -9.54607725e-02,  4.82547954e-02,\n",
      "        1.31747857e-01,  3.32403407e-02,  4.55297008e-02,  3.07974145e-02,\n",
      "       -2.04335317e-01, -1.10309593e-01, -5.98597229e-02, -6.64112046e-02,\n",
      "       -1.13131444e-03, -1.14014894e-02,  2.13190280e-02,  8.12110975e-02,\n",
      "       -5.43130711e-02, -8.69332552e-02,  4.68492135e-02, -5.88359982e-02,\n",
      "        1.06362171e-01,  4.88807410e-02, -3.74150947e-02, -6.06633499e-02,\n",
      "       -6.37157783e-02, -1.03251107e-01, -3.17103323e-03, -1.51762187e-01,\n",
      "        2.22564721e-03,  1.70182101e-02, -7.31032044e-02,  2.33706720e-02,\n",
      "       -3.31227249e-03,  3.69469412e-02,  3.56507413e-02, -2.46315580e-02,\n",
      "       -3.06695271e-02, -3.11067235e-02])), ('lib', array([ 1.89473684e+00,  0.00000000e+00,  6.80000000e+02,  2.72000000e+02,\n",
      "        1.70000000e+01,  0.00000000e+00,  0.00000000e+00,  0.00000000e+00,\n",
      "        0.00000000e+00,  0.00000000e+00,  0.00000000e+00,  0.00000000e+00,\n",
      "        0.00000000e+00,  0.00000000e+00,  0.00000000e+00,  0.00000000e+00,\n",
      "        0.00000000e+00,  0.00000000e+00,  1.40952721e-01, -5.18813245e-02,\n",
      "        7.02821985e-02,  1.13383653e-02, -3.64815116e-01,  1.03319667e-01,\n",
      "        6.12191483e-02,  4.14990645e-04,  2.16421604e-01, -7.51496255e-02,\n",
      "        1.45962402e-01,  5.20641953e-02, -3.72387879e-02, -1.20085269e-01,\n",
      "       -3.88146862e-02, -5.05138896e-02,  1.25849545e-02, -1.51784912e-01,\n",
      "        3.28354463e-02, -9.65317786e-02,  3.11104879e-02,  8.82440582e-02,\n",
      "        1.79998651e-01,  2.56777287e-01, -2.54784711e-03, -6.40602782e-02,\n",
      "        5.14221787e-02, -1.66242629e-01, -1.20089211e-01, -1.19638726e-01,\n",
      "        1.51019543e-01,  2.44077910e-02,  1.44950807e-01,  7.59565458e-02,\n",
      "       -1.13808095e-01,  1.26211464e-01,  1.28994703e-01,  7.03225508e-02,\n",
      "        1.30802959e-01, -2.16637389e-03, -1.12997498e-02,  7.30445534e-02,\n",
      "       -2.28492282e-02,  9.57381800e-02,  6.15891926e-02, -1.48081467e-01,\n",
      "       -1.17137380e-01,  9.03390571e-02, -1.04630075e-01,  8.18167180e-02,\n",
      "       -8.17253962e-02, -3.47871110e-02, -4.25565019e-02, -5.55719808e-02,\n",
      "       -1.58106074e-01,  7.67575651e-02,  8.97289738e-02,  1.88457400e-01,\n",
      "        3.06457710e-02, -7.59673864e-02, -2.89463513e-02,  1.31349817e-01,\n",
      "       -1.92960575e-01,  1.17032062e-02, -1.06966294e-01, -2.63229162e-02,\n",
      "       -1.35575742e-01, -4.18458208e-02,  7.62574598e-02, -2.69411534e-01,\n",
      "        9.83342901e-03,  1.05991609e-01,  3.06996316e-01,  7.24942312e-02,\n",
      "       -1.75615445e-01, -3.71209800e-01,  3.99123818e-01, -1.11960895e-01,\n",
      "        7.75431320e-02,  1.51917115e-01, -7.09346980e-02,  1.11948967e-01,\n",
      "        1.28812060e-01, -3.01616222e-01, -8.98771137e-02, -3.28934863e-02,\n",
      "       -5.02546802e-02,  1.52867690e-01, -7.58811682e-02,  4.15637828e-02,\n",
      "       -1.61966562e-01,  1.89930350e-02,  1.77475795e-01,  1.83987413e-02,\n",
      "        9.68916714e-02,  1.41534269e-01, -7.15859905e-02, -9.31129158e-02,\n",
      "       -2.12478682e-01, -1.42315641e-01,  1.36663124e-01, -1.17019378e-02,\n",
      "        2.66232163e-01, -1.03495307e-01,  2.08159447e-01, -5.42748310e-02,\n",
      "        5.86131327e-02, -5.01236208e-02, -3.45657058e-02, -1.23940550e-01,\n",
      "        1.52902529e-01, -1.57812275e-02,  5.32627143e-02, -4.70307060e-02,\n",
      "        5.53650782e-02, -3.11760772e-02,  3.60823534e-02,  7.76095018e-02,\n",
      "       -1.10877439e-01,  1.80715248e-01, -1.06760159e-01, -7.47761205e-02,\n",
      "       -1.28367692e-01,  6.30446225e-02, -1.36422673e-02, -6.17110692e-02,\n",
      "       -1.38882697e-01,  3.43499146e-02])), ('lib', array([ 2.06451613e+00,  0.00000000e+00,  3.61000000e+03,  8.42000000e+02,\n",
      "        3.70000000e+01,  3.00000000e+00,  3.00000000e+00,  0.00000000e+00,\n",
      "        0.00000000e+00,  0.00000000e+00,  0.00000000e+00,  0.00000000e+00,\n",
      "        0.00000000e+00,  0.00000000e+00,  0.00000000e+00,  0.00000000e+00,\n",
      "        0.00000000e+00,  0.00000000e+00,  1.10673055e-01,  4.86158788e-01,\n",
      "        5.23726821e-01, -3.98597755e-02, -3.92383158e-01, -3.31854999e-01,\n",
      "        1.22386932e-01, -2.53398061e-01, -5.62704541e-02,  1.19607538e-01,\n",
      "       -2.11971715e-01, -1.60630763e-01, -1.96416304e-01,  3.16308532e-03,\n",
      "       -1.39293252e-02, -1.97775453e-01, -6.93505481e-02,  1.23804949e-01,\n",
      "       -7.03715766e-03, -2.19469098e-03, -2.12190792e-01, -1.27582133e-01,\n",
      "       -3.89885157e-02, -2.10632741e-01,  1.17987007e-01,  1.87353164e-01,\n",
      "        8.46889466e-02,  1.42145539e-02,  2.45288640e-01, -9.72003043e-02,\n",
      "        1.28350064e-01, -2.77343839e-01,  2.02593982e-01,  3.36238593e-01,\n",
      "        1.25902712e-01, -5.01447432e-02, -8.05344507e-02,  2.94788450e-01,\n",
      "       -9.63052437e-02, -2.24630207e-01, -5.87077551e-02,  1.47275627e-01,\n",
      "       -1.27961919e-01,  1.63310722e-01, -1.99286640e-01,  1.73678100e-02,\n",
      "       -2.20458172e-02, -2.83591393e-02, -7.04257637e-02, -1.64416619e-02,\n",
      "       -1.01791292e-01,  9.19382647e-02,  1.16647460e-01,  2.54063219e-01,\n",
      "        1.44489678e-02, -1.11072315e-02,  7.83455968e-02, -1.72012579e-02,\n",
      "        1.88590703e-03, -3.01613268e-02, -2.33833566e-02,  6.53560832e-02,\n",
      "       -8.42329264e-02, -1.29700880e-02, -2.95888186e-01,  2.84559250e-01,\n",
      "       -7.53004998e-02,  1.15570098e-01,  1.84903204e-01, -2.21210942e-01,\n",
      "        9.41535383e-02, -5.99079393e-02, -1.92385733e-01, -1.06488705e-01,\n",
      "       -2.20122244e-02,  2.85145678e-02,  2.45160058e-01, -2.93103993e-01,\n",
      "       -1.30678028e-01, -2.63449043e-01, -1.93842277e-01, -1.78153098e-01,\n",
      "        2.63475776e-01, -3.07147224e-02, -1.58835412e-03,  5.42927124e-02,\n",
      "        2.09278464e-01,  2.11522192e-01, -4.05587628e-02,  8.44751298e-02,\n",
      "       -1.02470145e-01,  1.18535608e-01, -3.81277464e-02, -4.70684581e-02,\n",
      "        4.43614796e-02, -1.41595991e-03,  3.14522460e-02, -5.66217974e-02,\n",
      "       -2.66831458e-01,  1.89193994e-01, -1.13366358e-01,  1.16768770e-01,\n",
      "       -1.31230289e-02, -3.20896894e-01, -6.14713989e-02, -1.82693854e-01,\n",
      "        1.47118643e-01, -1.75324261e-01,  2.46284734e-02,  1.86631367e-01,\n",
      "        7.65888616e-02,  1.02376640e-01,  1.19885385e-01,  5.53615652e-02,\n",
      "        7.73130506e-02, -2.67064303e-01,  3.79729867e-01, -1.88910320e-01,\n",
      "        4.74795327e-02, -2.18288004e-01,  8.39934498e-02, -1.91069003e-02,\n",
      "       -3.63755584e-01,  3.69870551e-02, -1.66457757e-01, -6.27368167e-02,\n",
      "       -5.72091118e-02, -1.12397008e-01])), ('lib', array([ 2.21052632e+00,  0.00000000e+00,  6.44000000e+02,  2.93000000e+02,\n",
      "        2.40000000e+01,  4.00000000e+00,  4.00000000e+00,  0.00000000e+00,\n",
      "        0.00000000e+00,  0.00000000e+00,  0.00000000e+00,  0.00000000e+00,\n",
      "        0.00000000e+00,  0.00000000e+00,  0.00000000e+00,  0.00000000e+00,\n",
      "        0.00000000e+00,  0.00000000e+00,  1.02058228e-03,  1.76493913e-01,\n",
      "        2.33136132e-01,  9.63449553e-02, -1.14677139e-01, -1.78660363e-01,\n",
      "        2.05684528e-01, -9.58731920e-02,  2.16960624e-01, -1.51597068e-01,\n",
      "       -1.12136938e-01,  4.39383388e-02,  5.34861162e-02, -7.98280165e-02,\n",
      "       -2.59822190e-01, -5.89902885e-02,  2.01216668e-01, -1.11973569e-01,\n",
      "       -4.11351100e-02,  1.71042129e-01, -2.48335749e-01,  5.57995364e-02,\n",
      "        2.35512108e-02,  3.33640650e-02, -7.81049654e-02,  1.72141101e-02,\n",
      "        2.11659595e-01, -1.55872464e-01, -1.69038493e-02,  5.40226186e-03,\n",
      "        1.45506382e-01, -3.06527916e-04,  9.53048561e-03,  4.71237255e-03,\n",
      "       -3.51433568e-02,  1.06436118e-01, -7.51848891e-02,  7.63446987e-02,\n",
      "       -9.04510245e-02, -8.71036276e-02,  1.24929652e-01,  1.25441581e-01,\n",
      "       -1.59159631e-01, -1.66044962e-02,  6.26629265e-03, -7.55739808e-02,\n",
      "        1.18802585e-01,  7.94561952e-02, -1.28245369e-01, -1.44959688e-01,\n",
      "       -5.91170825e-02,  7.63580725e-02,  1.21008784e-01, -3.17252316e-02,\n",
      "       -2.36907020e-01,  1.11762285e-01,  1.53161779e-01,  8.28687921e-02,\n",
      "       -6.37773350e-02, -9.74565223e-02,  7.76166543e-02,  1.75472703e-02,\n",
      "       -3.49624045e-02,  6.97726384e-02, -3.66267227e-02, -2.38993522e-02,\n",
      "       -4.92901579e-02, -7.04750195e-02, -1.91077232e-01, -1.09510370e-01,\n",
      "        1.65413916e-01,  1.73356161e-02, -9.16395187e-02,  1.97495550e-01,\n",
      "       -1.38247252e-01,  8.47218558e-03, -8.20210725e-02, -3.00188642e-02,\n",
      "       -5.44818901e-02, -1.00493088e-01, -9.83210281e-02, -8.71247277e-02,\n",
      "        6.33015409e-02, -4.88425745e-03,  5.58385812e-02, -1.43067213e-02,\n",
      "       -1.26915321e-01,  1.76689863e-01,  5.28350621e-02,  7.30373412e-02,\n",
      "        6.21976405e-02, -6.50414377e-02,  1.99592728e-02, -3.67736071e-03,\n",
      "       -9.41833830e-04, -4.49665077e-02,  4.13001552e-02,  3.78672383e-03,\n",
      "       -7.08921328e-02, -2.90469993e-02, -2.03640964e-02, -5.63159101e-02,\n",
      "       -3.37482505e-02, -1.58754751e-01,  5.68196774e-02,  7.73746595e-02,\n",
      "       -5.83529472e-02, -2.55630352e-02, -3.94392163e-02, -7.76974484e-02,\n",
      "        7.88737983e-02, -9.38871354e-02,  8.74596313e-02,  8.99985339e-03,\n",
      "       -1.28764749e-01, -1.20027084e-02,  7.90341645e-02,  4.27250527e-02,\n",
      "        8.84941593e-02, -1.46530299e-02,  1.44542439e-03, -1.18049765e-02,\n",
      "        7.41725862e-02,  9.44471061e-02,  1.08256646e-01,  1.75721496e-02,\n",
      "       -1.09897077e-01,  5.35116568e-02])), ('lib', array([ 2.40000000e+00,  0.00000000e+00,  2.59000000e+02,  1.62000000e+02,\n",
      "        1.80000000e+01,  2.00000000e+00,  1.00000000e+00,  0.00000000e+00,\n",
      "        0.00000000e+00,  9.00000000e+00,  2.00000000e+00,  2.00000000e+00,\n",
      "        0.00000000e+00,  0.00000000e+00,  0.00000000e+00,  0.00000000e+00,\n",
      "        0.00000000e+00,  0.00000000e+00,  9.54644382e-02,  1.54286027e-01,\n",
      "        2.63818912e-03,  1.83513463e-01,  1.06235169e-01, -1.13592930e-01,\n",
      "        2.01902445e-02,  1.27421245e-02,  1.06535017e-01,  3.64561491e-02,\n",
      "       -1.64994430e-02, -9.38745365e-02,  7.52021000e-02, -4.99849319e-02,\n",
      "       -8.30783322e-02,  3.18765896e-03, -2.57984493e-02, -9.97540504e-02,\n",
      "       -7.02050747e-03, -7.00305179e-02,  7.37533271e-02,  2.60630194e-02,\n",
      "       -7.03736916e-02, -4.65381332e-02,  9.97788683e-02,  1.14733502e-01,\n",
      "       -3.26319747e-02, -1.71433911e-01, -1.39620947e-02,  4.02136520e-02,\n",
      "        1.72644526e-01, -1.06615178e-01,  9.21969190e-02,  3.23078632e-02,\n",
      "       -8.82111266e-02, -1.64198261e-02,  5.01354076e-02,  2.78543420e-02,\n",
      "       -1.38356999e-01, -3.20772529e-02,  3.67493965e-02,  1.24939740e-01,\n",
      "       -1.30586158e-02,  6.72531277e-02,  4.06998768e-02,  6.69327304e-02,\n",
      "       -4.18674089e-02, -1.17196217e-02, -9.71678868e-02, -1.30008578e-01,\n",
      "       -9.25818682e-02, -3.58861987e-04,  5.92374764e-02,  1.31690651e-02,\n",
      "       -7.34785721e-02,  8.62045586e-02,  1.38182491e-02,  5.64186089e-02,\n",
      "        1.30283847e-01,  2.82608829e-02, -7.85018727e-02, -2.16035806e-02,\n",
      "        7.36238668e-03, -5.91063537e-02, -5.85152544e-02, -6.37109354e-02,\n",
      "       -2.34351605e-02, -6.52470738e-02, -3.96289937e-02, -7.25902617e-02,\n",
      "        2.80406065e-02,  1.17397614e-01, -6.04361147e-02, -1.93314292e-02,\n",
      "        8.64779111e-04, -5.78584969e-02, -3.56432758e-02, -1.81262761e-01,\n",
      "        4.87301052e-02, -1.57267749e-01,  4.07401435e-02, -9.84014571e-02,\n",
      "       -1.44882891e-02, -8.98870602e-02, -1.07476987e-01,  9.23782438e-02,\n",
      "       -1.04572646e-01,  4.10071537e-02, -4.56353091e-03,  1.54119469e-02,\n",
      "       -2.36548707e-01, -1.35062337e-01, -1.02025062e-01,  4.04260755e-02,\n",
      "        5.51928058e-02,  2.05865484e-02,  3.48464511e-02, -3.08173783e-02,\n",
      "       -1.81212410e-01, -1.15398005e-01,  4.71889675e-02, -2.21129954e-01,\n",
      "        1.22228943e-01,  6.24073371e-02,  5.68007417e-02,  4.37673628e-02,\n",
      "       -1.38419792e-01, -2.46093735e-01,  1.41149508e-02, -9.97844338e-02,\n",
      "       -7.73257017e-02, -6.02546055e-03, -2.54238155e-02,  8.33079405e-03,\n",
      "       -9.34547260e-02, -6.86567426e-02, -9.50737670e-02, -9.99881476e-02,\n",
      "        6.72581345e-02,  5.26091382e-02,  1.18619815e-01,  6.97290450e-02,\n",
      "       -6.44824728e-02,  4.80340570e-02,  9.20435861e-02, -2.83313654e-02,\n",
      "        1.65262446e-02, -1.33533087e-02])), ('lib', array([ 2.17391304e+00,  4.49275362e-02,  1.28500000e+03,  4.48000000e+02,\n",
      "        2.90000000e+01,  4.00000000e+00,  4.00000000e+00,  1.00000000e+00,\n",
      "        0.00000000e+00,  0.00000000e+00,  0.00000000e+00,  0.00000000e+00,\n",
      "        0.00000000e+00,  0.00000000e+00,  0.00000000e+00,  0.00000000e+00,\n",
      "        0.00000000e+00,  0.00000000e+00,  1.90811008e-01,  2.16205837e-03,\n",
      "       -9.08401385e-02,  2.31243923e-01, -3.17507833e-01,  1.02175280e-01,\n",
      "       -3.97673659e-02,  6.94601759e-02, -9.83892530e-02, -1.84599832e-01,\n",
      "        4.41568270e-02,  2.21057639e-01, -8.08815137e-02,  5.10481633e-02,\n",
      "       -3.04584593e-01, -1.81968525e-01, -1.58942148e-01, -1.08907565e-01,\n",
      "       -1.28331393e-01, -2.44219620e-02, -1.41693771e-01,  2.62996018e-01,\n",
      "       -8.25214013e-02,  7.51622841e-02, -1.37972504e-01, -1.78655714e-03,\n",
      "       -3.98950651e-02,  1.94569767e-01,  3.44603695e-02,  6.15098290e-02,\n",
      "        7.05068037e-02, -4.07969028e-01,  7.47273862e-02, -4.59111258e-02,\n",
      "       -3.41094173e-02, -1.12913780e-01,  2.15247408e-01, -1.10935219e-01,\n",
      "        7.81955495e-02,  5.89007232e-03,  1.29420921e-01,  1.80062130e-01,\n",
      "       -2.00171918e-01, -3.15040872e-02, -1.67672262e-01, -3.01420540e-02,\n",
      "        9.09427926e-02,  5.26925549e-02,  1.31979316e-01, -2.33083591e-03,\n",
      "        3.64524946e-02,  1.39788538e-02,  2.43506171e-02,  1.14866696e-01,\n",
      "       -1.72432154e-01,  1.90965496e-02,  2.88324896e-02,  1.37192860e-01,\n",
      "       -6.14795461e-02,  1.18815929e-01, -2.02350129e-05, -1.26100704e-01,\n",
      "       -1.24764591e-02, -3.68553847e-01, -9.91831720e-02, -5.22173308e-02,\n",
      "        1.33508801e-01, -1.13498926e-01, -8.39928165e-02, -1.47558704e-01,\n",
      "        8.14380348e-02, -5.98674593e-03,  7.55322799e-02,  8.68698061e-02,\n",
      "        8.18669200e-02, -6.01704791e-02,  8.67676958e-02, -1.24269217e-01,\n",
      "       -1.23381726e-01, -2.32714638e-01, -1.19771458e-01, -1.55301005e-01,\n",
      "        7.49715045e-02,  8.58302861e-02, -9.18975547e-02,  1.97106361e-01,\n",
      "       -5.04262075e-02, -4.69261743e-02, -1.57629013e-01,  5.30602820e-02,\n",
      "       -1.42568558e-01, -7.99894482e-02, -2.02511713e-01,  1.26177087e-01,\n",
      "        2.96663493e-02, -1.51843384e-01, -1.63967326e-01,  7.15000257e-02,\n",
      "        8.21382180e-02, -7.54605532e-02, -6.68999553e-02, -1.12843379e-01,\n",
      "        1.52419001e-01, -1.08673677e-01, -1.19133785e-01, -1.26712814e-01,\n",
      "        3.97080891e-02,  3.24154571e-02, -3.18097360e-02, -1.16118625e-01,\n",
      "       -3.18765204e-04,  2.58146822e-02,  9.44687333e-03, -8.57325792e-02,\n",
      "       -8.14903378e-02,  6.72764629e-02,  4.31195125e-02, -1.44202515e-01,\n",
      "        3.88963409e-02,  1.09945253e-01, -2.26717427e-01, -9.02699977e-02,\n",
      "        1.75831825e-01,  2.17679828e-01, -1.37385964e-01, -5.79824001e-02,\n",
      "       -3.82421017e-02,  1.73415735e-01])), ('lib', array([ 1.90000000e+00,  0.00000000e+00,  8.16000000e+02,  3.06000000e+02,\n",
      "        1.80000000e+01,  0.00000000e+00,  0.00000000e+00,  0.00000000e+00,\n",
      "        0.00000000e+00,  0.00000000e+00,  0.00000000e+00,  0.00000000e+00,\n",
      "        0.00000000e+00,  0.00000000e+00,  0.00000000e+00,  0.00000000e+00,\n",
      "        0.00000000e+00,  0.00000000e+00, -2.94932779e-02,  2.81662911e-01,\n",
      "        6.18228354e-02,  1.77399412e-01, -3.13812867e-02, -4.87262271e-02,\n",
      "        9.47395563e-02, -3.94888669e-02,  1.90923959e-01,  1.42262384e-01,\n",
      "        2.03490928e-01, -6.28011227e-02, -1.29567027e-01, -1.48209125e-01,\n",
      "       -8.26736689e-02, -1.37526006e-01,  1.07923523e-01,  9.29028243e-02,\n",
      "       -2.57683337e-01,  1.77175894e-01, -9.89377350e-02,  2.41841778e-01,\n",
      "        1.93394631e-01, -1.84525520e-01, -1.24698490e-01, -6.52112216e-02,\n",
      "       -1.39677599e-01, -8.57695565e-02,  7.43536055e-02,  6.25515729e-02,\n",
      "       -5.66435531e-02, -1.73430979e-01, -2.49850471e-02,  5.82160465e-02,\n",
      "       -1.06355138e-01,  2.08496582e-02,  7.84881115e-02,  1.46012723e-01,\n",
      "       -2.23774649e-02,  6.68025687e-02,  1.33501571e-02,  5.06563336e-02,\n",
      "       -1.28961504e-01,  1.58298269e-01, -1.30296201e-01, -4.59998623e-02,\n",
      "        1.22551903e-01, -2.21444312e-02, -9.11263302e-02, -8.13034028e-02,\n",
      "       -8.04963037e-02,  1.76194310e-01,  1.34550789e-02,  3.91332209e-02,\n",
      "       -1.47180706e-02, -2.08737631e-03, -1.75132290e-01,  4.98883706e-03,\n",
      "       -3.63954678e-02, -1.00114107e-01, -1.29193678e-01, -1.12455152e-01,\n",
      "       -1.48979118e-02, -8.27145725e-02, -2.91358568e-02, -1.39649749e-01,\n",
      "       -1.22504182e-01, -1.28997132e-01, -9.38886702e-02, -6.75814450e-02,\n",
      "        5.40897809e-02,  7.25567192e-02, -4.79373848e-03,  1.26108482e-01,\n",
      "       -1.84076861e-01, -6.73459098e-02,  1.57271177e-02,  7.44905248e-02,\n",
      "        1.39177302e-02, -1.02393508e-01, -2.11762384e-01, -4.38223071e-02,\n",
      "        1.25148937e-01,  2.13594586e-02, -5.58905974e-02,  1.51812747e-01,\n",
      "       -4.47474346e-02, -2.22065300e-02, -1.44987881e-01,  9.84622315e-02,\n",
      "       -7.84238726e-02, -5.71525209e-02, -1.22741789e-01,  4.40026298e-02,\n",
      "        7.83689916e-02,  1.10037424e-01, -9.26330220e-04, -2.27149222e-02,\n",
      "        4.35603485e-02, -6.90896735e-02,  4.94184159e-02, -1.92165300e-01,\n",
      "        1.90780655e-01,  6.13690028e-03, -2.84311101e-02, -3.70690003e-02,\n",
      "       -3.80276181e-02, -2.03561515e-01, -9.93647501e-02, -8.88831913e-02,\n",
      "       -5.53008961e-03,  2.93301642e-01,  4.65838518e-03,  1.61329173e-02,\n",
      "       -1.73311159e-01, -4.64522094e-02, -1.13011643e-01, -8.60617682e-02,\n",
      "        4.54723276e-02,  6.64707944e-02,  5.51479906e-02, -2.37635467e-02,\n",
      "       -1.19852573e-02,  6.69614822e-02,  4.66886424e-02, -1.47836775e-01,\n",
      "       -2.54235193e-02, -4.71092807e-03])), ('lib', array([ 2.26666667e+00,  0.00000000e+00,  2.68000000e+02,  1.66000000e+02,\n",
      "        1.80000000e+01,  2.00000000e+00,  1.00000000e+00,  0.00000000e+00,\n",
      "        0.00000000e+00,  0.00000000e+00,  0.00000000e+00,  0.00000000e+00,\n",
      "        0.00000000e+00,  0.00000000e+00,  0.00000000e+00,  0.00000000e+00,\n",
      "        0.00000000e+00,  0.00000000e+00, -1.37413107e-02,  1.18210614e-01,\n",
      "        2.60312140e-01, -2.54806001e-02,  1.03471279e-02, -7.27140065e-03,\n",
      "        9.97972190e-02, -2.28543654e-01,  2.44328305e-01, -1.71272252e-02,\n",
      "        6.37873784e-02, -9.63275880e-02,  9.25533623e-02,  2.05869880e-02,\n",
      "        1.30354613e-02, -3.65480520e-02, -1.36824977e-02, -9.32207853e-02,\n",
      "       -1.76085830e-01,  1.50587484e-01, -4.90706675e-02,  1.18203923e-01,\n",
      "        5.69475442e-02, -4.00801301e-02, -1.29911989e-01,  7.22263157e-02,\n",
      "       -9.59084779e-02, -1.81256995e-01, -2.26256639e-01, -6.74163625e-02,\n",
      "        8.59585702e-02, -8.89181793e-02, -3.19162607e-02,  1.08637393e-01,\n",
      "       -2.02346910e-02,  7.63457045e-02, -1.19894303e-01,  2.15464950e-01,\n",
      "       -1.27282992e-01,  8.95234048e-02, -1.47031590e-01,  7.63044804e-02,\n",
      "       -9.21130851e-02,  9.84584242e-02, -6.10788800e-02,  6.58434182e-02,\n",
      "       -3.80643569e-02,  9.08121616e-02, -2.49582920e-02, -4.73485924e-02,\n",
      "       -1.11900836e-01,  1.74792707e-01,  6.89203218e-02, -2.74141785e-02,\n",
      "       -1.26634121e-01,  7.18275532e-02, -8.12722817e-02,  5.67108765e-02,\n",
      "        2.50664391e-02, -8.26481730e-02, -1.20649894e-03, -6.44014589e-03,\n",
      "       -5.23470938e-02, -4.55320925e-02,  1.70452856e-02, -2.07456678e-01,\n",
      "       -2.58962903e-02, -2.22059131e-01,  2.17911340e-02,  3.90253589e-02,\n",
      "        1.59023985e-01,  1.43136755e-01, -8.98619890e-02,  1.84188470e-01,\n",
      "        1.03574537e-01, -4.84101474e-02, -4.16764989e-02, -1.48752406e-01,\n",
      "       -6.35286719e-02, -2.41611391e-01, -2.20280126e-01,  2.58352160e-02,\n",
      "       -2.27201870e-03, -1.80960923e-01, -2.02049464e-01,  3.38380598e-02,\n",
      "       -6.99645504e-02,  9.98971164e-02, -1.01169482e-01,  1.63105175e-01,\n",
      "       -2.00915977e-01, -1.78044066e-01, -9.70665812e-02,  1.02475591e-01,\n",
      "        8.91548302e-03,  1.59512445e-01,  1.79099124e-02,  7.76634961e-02,\n",
      "       -1.61079347e-01, -1.41802251e-01,  1.49542943e-01, -2.74225861e-01,\n",
      "        6.10822737e-02,  1.33914500e-01,  2.62041092e-02,  7.31357932e-03,\n",
      "       -3.34724560e-02, -2.36814275e-01, -5.83322309e-02, -9.38711315e-02,\n",
      "        1.07495435e-01, -4.92311083e-02, -5.18039539e-02, -9.25115775e-03,\n",
      "       -1.58409446e-01, -1.47499591e-01,  8.97601694e-02, -9.88073796e-02,\n",
      "        3.38574760e-02,  1.96728766e-01, -6.70589805e-02,  1.23470522e-01,\n",
      "       -1.45869598e-01, -3.60817946e-02,  4.52001356e-02, -1.36699304e-01,\n",
      "       -1.25930518e-01, -6.08692840e-02])), ('lib', array([ 2.51612903e+00,  0.00000000e+00,  3.58600000e+03,  7.29000000e+02,\n",
      "        6.40000000e+01,  1.60000000e+01,  1.60000000e+01,  0.00000000e+00,\n",
      "        0.00000000e+00,  4.50000000e+01,  1.80000000e+01,  1.80000000e+01,\n",
      "        0.00000000e+00,  0.00000000e+00,  0.00000000e+00,  3.00000000e+00,\n",
      "        0.00000000e+00,  0.00000000e+00, -3.00173968e-01,  2.40486205e-01,\n",
      "        1.64667949e-01, -1.79795146e-01, -2.75257409e-01, -3.09758693e-01,\n",
      "        4.01072837e-02, -1.64338201e-01,  1.15736775e-01, -7.31607303e-02,\n",
      "       -1.31806895e-01,  2.39782315e-02, -7.06913024e-02,  6.34340420e-02,\n",
      "        6.61240444e-02, -3.26631442e-02,  4.81588133e-02,  9.22596902e-02,\n",
      "       -1.64863884e-01,  8.06040466e-02,  7.88847879e-02, -1.65082037e-01,\n",
      "       -4.18159217e-02,  2.15884447e-02,  3.51990350e-02, -4.59527411e-02,\n",
      "        3.44772749e-02,  5.53716943e-02, -2.93279767e-01,  1.22815900e-01,\n",
      "       -4.20263708e-02, -3.31341058e-01,  7.86465704e-02,  3.77311766e-01,\n",
      "        1.15895625e-02,  1.98220640e-01, -3.69863138e-02,  2.07411543e-01,\n",
      "       -3.58032696e-02,  6.86156154e-02,  8.53685588e-02, -5.85588440e-02,\n",
      "       -2.31794696e-02,  4.50596446e-03, -3.67856890e-01, -3.55694704e-02,\n",
      "       -5.80710284e-02, -2.83134460e-01, -8.03172775e-03,  1.09236456e-01,\n",
      "       -2.51166821e-01,  1.65362075e-01, -7.36671537e-02, -1.46138653e-01,\n",
      "        6.11300580e-02,  8.57390910e-02,  5.01003005e-02, -8.29168856e-02,\n",
      "       -1.30932420e-01, -1.32545203e-01,  1.05132252e-01, -6.35666549e-02,\n",
      "       -8.61519203e-02, -6.67138323e-02, -9.62026268e-02,  5.89425974e-02,\n",
      "        6.91736937e-02, -2.87503392e-01, -9.45181698e-02, -3.86371352e-02,\n",
      "        1.33244932e-01, -5.48164211e-02,  9.24481824e-02,  8.32112208e-02,\n",
      "       -2.65567720e-01, -2.01529294e-01,  2.60220349e-01, -1.45095792e-02,\n",
      "        2.76512086e-01, -2.56573141e-01, -2.12839723e-01, -5.18833147e-03,\n",
      "       -1.65265188e-01, -7.54893646e-02, -2.30130821e-01, -1.07780844e-01,\n",
      "       -1.49399281e-01,  1.79023638e-01, -3.39136161e-02,  7.59097338e-02,\n",
      "       -3.30277681e-02, -1.30971760e-01, -2.27024823e-01,  1.12565704e-01,\n",
      "        1.83022186e-01,  1.10747136e-01, -3.81244272e-02,  8.65975469e-02,\n",
      "        7.19361603e-02,  1.52312079e-02, -2.37071738e-01,  2.37121150e-01,\n",
      "        1.29260927e-01, -2.46208861e-01, -1.26719564e-01, -1.19930312e-01,\n",
      "        3.76143008e-02,  4.50209342e-02,  2.41988320e-02,  1.18023045e-01,\n",
      "        5.34245651e-03,  1.24573447e-01,  1.11997567e-01,  2.11468443e-01,\n",
      "        1.91175789e-01,  1.67204216e-01, -1.29437327e-01, -1.63000137e-01,\n",
      "        1.05140552e-01,  9.99176130e-02, -2.63478309e-01,  1.17642917e-01,\n",
      "        1.08531415e-01,  1.63104516e-02, -7.04231635e-02, -1.19349502e-01,\n",
      "       -1.47121489e-01, -1.60054527e-02])), ('lib', array([ 2.07407407e+00,  3.82716049e-02,  2.26300000e+03,  6.25000000e+02,\n",
      "        3.00000000e+01,  3.00000000e+00,  3.00000000e+00,  1.00000000e+00,\n",
      "        0.00000000e+00,  0.00000000e+00,  0.00000000e+00,  0.00000000e+00,\n",
      "        0.00000000e+00,  0.00000000e+00,  0.00000000e+00,  0.00000000e+00,\n",
      "        0.00000000e+00,  0.00000000e+00, -4.33967188e-02,  1.61935911e-01,\n",
      "        8.01114812e-02, -1.64963603e-01, -8.32266957e-02,  1.53716892e-01,\n",
      "        8.61650426e-03,  9.58323032e-02,  2.07340911e-01,  9.19313133e-02,\n",
      "       -3.93170491e-02,  2.87062347e-01, -6.61202567e-03,  8.71567205e-02,\n",
      "       -3.50520432e-01, -1.23362623e-01, -2.04418674e-02, -1.68738022e-01,\n",
      "       -8.45645741e-02,  9.51539576e-02,  4.48559299e-02,  2.62410253e-01,\n",
      "       -6.32922649e-02,  9.66708139e-02, -8.75684172e-02, -2.69031059e-02,\n",
      "       -6.07998706e-02, -2.15804040e-01,  1.45190299e-01, -6.03324324e-02,\n",
      "        2.54461110e-01, -4.59440276e-02,  1.19242013e-01,  1.85667589e-01,\n",
      "        3.17321420e-01,  1.75528869e-01, -1.14963084e-01,  2.33770400e-01,\n",
      "        5.34186736e-02, -6.85568526e-02,  8.18680674e-02, -1.53212706e-02,\n",
      "       -1.31273210e-01, -1.85646012e-01, -8.85439664e-02,  3.50000739e-01,\n",
      "       -9.22758356e-02,  1.03303656e-01, -6.09345958e-02, -7.46986791e-02,\n",
      "       -1.20418668e-01, -1.14841585e-03, -1.34445950e-01,  2.70244390e-01,\n",
      "       -4.07399327e-01, -1.46514446e-01,  7.77159706e-02,  2.50750989e-01,\n",
      "        9.20463819e-03, -2.43511930e-01, -1.66631892e-01, -2.03515261e-01,\n",
      "       -1.88239947e-01,  9.47488546e-02, -1.31232634e-01, -2.60956824e-01,\n",
      "       -8.84988904e-02, -1.69313420e-02, -1.75464511e-01, -2.43240576e-02,\n",
      "        2.65876595e-02,  1.09700687e-01,  5.34349978e-02,  6.75164610e-02,\n",
      "       -2.71711797e-01, -2.32611388e-01,  2.38745868e-01, -1.03720270e-01,\n",
      "        6.82460442e-02, -2.41309069e-02, -1.55618461e-02,  5.25017940e-02,\n",
      "        3.28481048e-02, -1.98118299e-01, -9.86411124e-02, -1.01235896e-01,\n",
      "       -1.55918777e-01,  1.63352445e-01, -1.32729426e-01,  1.51740029e-01,\n",
      "       -1.04960732e-01,  4.16290201e-02, -2.10371539e-02,  2.92840153e-01,\n",
      "       -9.11886394e-02,  8.29092488e-02, -9.71075669e-02,  1.11952968e-01,\n",
      "       -4.66038436e-02, -1.33256420e-01, -9.53178406e-02, -9.90376547e-02,\n",
      "       -1.34442091e-01, -3.33181530e-01,  1.36208236e-01,  1.63359016e-01,\n",
      "        2.60515273e-01,  6.08598180e-02, -3.27430293e-02, -8.76486972e-02,\n",
      "       -1.81379333e-01,  1.66423306e-01,  2.28997812e-01, -4.87387180e-02,\n",
      "       -9.31041613e-02,  9.42880511e-02, -7.87359476e-02, -2.10634679e-01,\n",
      "        1.14129677e-01,  1.40334949e-01, -7.39110634e-02,  7.20875338e-02,\n",
      "       -1.39362931e-01,  1.67953238e-01, -1.87265068e-01, -3.00119240e-02,\n",
      "       -6.69970214e-02,  2.27620244e-01])), ('lib', array([ 2.28571429e+00,  7.27513228e-02,  2.14000000e+02,  1.15000000e+02,\n",
      "        1.60000000e+01,  3.00000000e+00,  3.00000000e+00,  1.00000000e+00,\n",
      "        0.00000000e+00,  6.00000000e+00,  3.00000000e+00,  3.00000000e+00,\n",
      "        0.00000000e+00,  0.00000000e+00,  0.00000000e+00,  0.00000000e+00,\n",
      "        0.00000000e+00,  0.00000000e+00,  1.06512375e-01, -3.39275785e-02,\n",
      "       -3.94949056e-02,  3.42503972e-02,  7.84873664e-02, -1.02098346e-01,\n",
      "        5.88144101e-02,  5.54356165e-02,  3.74904573e-02, -2.95162257e-02,\n",
      "       -1.41675742e-02,  1.20175138e-01, -4.91885133e-02, -1.14212018e-02,\n",
      "       -4.38470431e-02, -1.08703971e-01,  4.93343212e-02, -1.09087810e-01,\n",
      "       -9.27703455e-02, -4.94662672e-02, -7.01218843e-02,  1.31880358e-01,\n",
      "        5.33860326e-02,  4.43590395e-02, -1.52510554e-01, -1.44713238e-01,\n",
      "        3.54030393e-02, -1.28348082e-01, -7.50275254e-02, -1.29954889e-02,\n",
      "       -1.68692805e-02, -3.50488047e-03,  7.17401803e-02,  3.72992828e-02,\n",
      "        7.83878118e-02,  8.35151821e-02, -2.92054452e-02,  1.72915012e-01,\n",
      "        1.28289228e-02, -1.23696618e-01, -5.88994063e-02,  8.38181153e-02,\n",
      "       -1.42153069e-01, -4.66137044e-02,  1.31706402e-01,  9.12961140e-02,\n",
      "        1.74941565e-03,  1.96625024e-01, -2.10809037e-02,  1.27662132e-02,\n",
      "       -2.23411471e-02,  7.58760720e-02,  1.13938361e-01,  1.19330011e-01,\n",
      "       -2.48138487e-01,  9.93605629e-02,  1.37367368e-01,  5.00724316e-02,\n",
      "        3.76321189e-02, -1.28353462e-01,  5.65350763e-02, -2.63629723e-02,\n",
      "        5.72078303e-02,  5.34313880e-02, -1.28655702e-01, -8.15002061e-03,\n",
      "       -1.33501455e-01, -1.25378624e-01,  3.85700129e-02, -4.69363667e-02,\n",
      "        1.26176057e-02, -7.80952424e-02, -7.24857450e-02,  2.18498483e-01,\n",
      "        1.24381371e-02, -2.00139180e-01,  1.15798786e-01,  8.41433555e-02,\n",
      "       -1.20743625e-01, -2.53999591e-01, -7.96693116e-02, -1.17113581e-02,\n",
      "        3.11706513e-02, -1.08282089e-01, -2.28181586e-01, -4.51660752e-02,\n",
      "       -6.32902309e-02,  1.72148868e-01, -9.89879668e-02,  1.19399272e-01,\n",
      "       -1.28696471e-01, -2.00591292e-02, -3.32606174e-02,  1.70773774e-01,\n",
      "       -8.64872560e-02,  1.77950174e-01,  4.32950407e-02, -6.49692193e-02,\n",
      "       -1.28805205e-01,  6.54014573e-02,  3.26748937e-02, -6.29243776e-02,\n",
      "       -1.51940221e-02,  5.96995018e-02,  9.12717283e-02,  2.11830493e-02,\n",
      "       -2.59307045e-02, -3.61545533e-02,  3.20470370e-02, -1.11412093e-01,\n",
      "        6.40791887e-03, -4.30078804e-02, -4.63927500e-02, -5.61094582e-02,\n",
      "        6.25039041e-02, -1.02071658e-01,  1.80165827e-01, -1.79131150e-01,\n",
      "       -5.12261093e-02,  2.55043749e-02,  2.82725263e-02,  1.19033821e-01,\n",
      "       -1.01458922e-01,  4.55212668e-02,  2.40724646e-02,  1.18358806e-02,\n",
      "        1.39956223e-03, -2.23043021e-02])), ('lib', array([ 2.27586207e+00,  6.99233716e-02,  2.85200000e+03,  7.16000000e+02,\n",
      "        4.00000000e+01,  1.00000000e+01,  7.00000000e+00,  2.00000000e+00,\n",
      "        0.00000000e+00,  2.60000000e+01,  0.00000000e+00,  1.00000000e+00,\n",
      "        0.00000000e+00,  0.00000000e+00,  0.00000000e+00,  0.00000000e+00,\n",
      "        0.00000000e+00,  0.00000000e+00,  6.20630048e-02,  3.34597491e-02,\n",
      "        8.83611143e-02,  3.02493483e-01,  1.35468274e-01, -5.13376258e-02,\n",
      "       -1.36089027e-02,  1.03673646e-02,  1.89804867e-01, -6.69567138e-02,\n",
      "       -3.54398564e-02, -5.47020994e-02, -1.82090532e-02, -2.40621418e-01,\n",
      "       -1.04551196e-01, -1.16738332e-02,  4.51859310e-02, -6.63857460e-02,\n",
      "       -1.18855700e-01,  5.78051992e-02, -5.17236115e-03,  3.06312114e-01,\n",
      "        1.76565588e-01,  6.36691675e-02,  4.25400808e-02,  1.16730891e-01,\n",
      "        2.77888328e-02, -6.43463433e-02,  7.21157715e-03, -1.41275078e-01,\n",
      "        9.89942774e-02, -4.54115331e-01,  3.57925263e-03,  3.97107691e-01,\n",
      "       -2.29434013e-01, -2.78571248e-01,  2.08652273e-01, -6.81123883e-02,\n",
      "       -2.97217995e-01,  3.11935037e-01,  5.59509266e-03,  2.40923062e-01,\n",
      "       -1.53303653e-01,  8.21758658e-02,  1.06819756e-01,  1.42420843e-01,\n",
      "        1.80913825e-02,  4.82360423e-01, -1.49141312e-01,  9.60143656e-02,\n",
      "       -1.03328899e-01,  3.96448851e-01,  1.02203516e-02, -1.24380097e-01,\n",
      "       -4.45206672e-01, -1.36566786e-02,  1.24560200e-01,  1.18443789e-02,\n",
      "       -1.22835211e-01,  5.49623463e-03, -2.05097586e-01, -1.47752032e-01,\n",
      "       -3.10461521e-01, -9.47775766e-02,  1.02001794e-01,  1.72560483e-01,\n",
      "       -1.69813838e-02, -1.64444655e-01, -2.97806002e-02, -3.52769159e-02,\n",
      "        3.94631535e-01,  2.73243517e-01,  3.05702984e-01,  5.33100106e-02,\n",
      "       -4.87885326e-02,  1.05375953e-01, -2.79177949e-02, -1.39892593e-01,\n",
      "        8.42796341e-02, -5.58509715e-02, -1.29511431e-01,  1.65355146e-01,\n",
      "       -7.49739781e-02, -3.70882191e-02, -3.37388635e-01, -1.43728098e-02,\n",
      "       -4.04025540e-02,  8.99191275e-02, -1.15290247e-01,  8.49337280e-02,\n",
      "        4.09753323e-02,  1.10530891e-01, -1.53310567e-01, -2.13404089e-01,\n",
      "       -4.53509912e-02,  5.79261072e-02, -1.32138237e-01,  2.32963994e-01,\n",
      "       -1.97686419e-01,  1.14637338e-01, -1.32682815e-01, -2.92006046e-01,\n",
      "        2.67290194e-02,  1.42518193e-01, -1.03640310e-01,  3.15852642e-01,\n",
      "        6.40795007e-02, -3.23609740e-01,  4.60850261e-02, -2.03687802e-01,\n",
      "       -1.91136762e-01,  1.27678633e-01, -7.76393116e-02, -9.74755287e-02,\n",
      "       -1.26442850e-01, -2.03418106e-01, -2.34975055e-01,  5.19850291e-02,\n",
      "        1.01547837e-01,  2.13537693e-01, -9.38886404e-02,  9.09095109e-02,\n",
      "       -1.60395894e-02,  2.98524886e-01, -2.53660768e-01, -2.04106271e-02,\n",
      "       -3.76237601e-01,  1.07391164e-01])), ('lib', array([ 1.87500000e+00,  0.00000000e+00,  3.64000000e+02,  1.82000000e+02,\n",
      "        1.40000000e+01,  0.00000000e+00,  0.00000000e+00,  0.00000000e+00,\n",
      "        0.00000000e+00,  0.00000000e+00,  0.00000000e+00,  0.00000000e+00,\n",
      "        0.00000000e+00,  0.00000000e+00,  0.00000000e+00,  0.00000000e+00,\n",
      "        0.00000000e+00,  0.00000000e+00, -1.38564110e-02,  3.19192797e-01,\n",
      "        1.63160324e-01,  2.91162789e-01, -1.15743250e-01, -8.72172713e-02,\n",
      "        1.51037768e-01, -5.40152080e-02, -1.96098126e-02, -7.61274481e-03,\n",
      "        1.02978796e-02, -1.07533388e-01, -6.85402080e-02, -1.66999757e-01,\n",
      "       -1.20358981e-01, -3.93973291e-02,  7.87432715e-02, -7.46996477e-02,\n",
      "       -1.09106183e-01, -1.73421919e-01, -7.20851198e-02,  3.64504755e-03,\n",
      "        5.24410829e-02,  4.43397276e-02, -1.82395563e-01,  1.29067404e-02,\n",
      "        2.37206910e-02, -2.01825514e-01,  7.71672279e-02,  2.15851441e-01,\n",
      "        4.85265106e-02, -1.18401378e-01,  1.51922360e-01, -1.47945836e-01,\n",
      "        2.38704368e-01,  3.25280428e-02,  4.18027006e-02,  1.35464147e-01,\n",
      "       -2.19676360e-01, -2.58245394e-02,  7.12750182e-02, -1.19914562e-02,\n",
      "       -1.68968409e-01,  9.17672142e-02,  5.68504632e-02,  8.96691531e-02,\n",
      "        1.19089909e-01,  1.70655653e-01, -1.31594747e-01,  8.19318593e-02,\n",
      "        1.21377900e-01,  1.75171569e-01, -6.17183223e-02, -1.36150688e-01,\n",
      "       -9.32120234e-02,  8.39133784e-02, -1.71535686e-02,  1.52675182e-01,\n",
      "        9.19636860e-02,  2.78533921e-02,  2.33780090e-02,  8.47594142e-02,\n",
      "        1.81141756e-02, -8.20564702e-02, -1.31024018e-01, -5.50573133e-02,\n",
      "       -7.80230481e-03, -3.73650342e-02, -1.80347383e-01, -4.04914320e-02,\n",
      "        1.11489557e-01,  1.14990041e-01, -8.98875296e-03, -1.05623715e-01,\n",
      "        6.57681674e-02, -1.16092704e-01, -1.52186722e-01, -5.34111150e-02,\n",
      "        3.34194936e-02, -9.82336849e-02,  4.16794755e-02,  1.17969558e-01,\n",
      "       -6.53820708e-02,  1.85467243e-01, -7.40977079e-02,  4.79343720e-02,\n",
      "       -1.91643178e-01,  3.38344872e-02, -1.03044353e-01,  2.36361340e-01,\n",
      "       -1.71939060e-01, -1.74188197e-01,  2.56473422e-01,  1.36609795e-02,\n",
      "        7.87552744e-02,  1.22941323e-01, -1.87656701e-01, -8.90887752e-02,\n",
      "       -1.06645770e-01,  6.32098988e-02, -1.04919508e-01, -1.75752640e-01,\n",
      "       -2.41392348e-02,  7.79252201e-02,  3.63787040e-02,  1.97131097e-01,\n",
      "        3.97759341e-02, -1.16615236e-01, -7.58004263e-02, -5.37101831e-03,\n",
      "        9.89910513e-02,  4.06323560e-03, -3.30757797e-02,  1.20938011e-01,\n",
      "       -6.48886189e-02,  5.09514995e-02, -1.92752391e-01, -1.13269307e-01,\n",
      "       -4.93089370e-02,  1.63362380e-02, -7.99085647e-02,  2.47722894e-01,\n",
      "       -1.06462333e-02, -5.46167977e-02,  4.01544571e-02,  1.47420436e-01,\n",
      "        6.86119311e-03, -1.53421983e-02])), ('lib', array([ 2.22222222e+00,  4.01234568e-02,  2.24200000e+03,  6.21000000e+02,\n",
      "        3.00000000e+01,  3.00000000e+00,  3.00000000e+00,  1.00000000e+00,\n",
      "        0.00000000e+00,  2.10000000e+01,  2.00000000e+00,  2.00000000e+00,\n",
      "        0.00000000e+00,  0.00000000e+00,  0.00000000e+00,  0.00000000e+00,\n",
      "        0.00000000e+00,  0.00000000e+00,  2.29242697e-01, -3.00557017e-01,\n",
      "       -1.08506255e-01,  2.57767197e-02, -1.05452098e-01,  2.82464968e-03,\n",
      "        9.21832100e-02, -2.08480254e-01,  3.72896381e-02,  1.63476884e-01,\n",
      "       -3.86049338e-02, -7.67491758e-02,  2.26426646e-01,  4.54253098e-03,\n",
      "       -5.38219810e-02, -2.15961397e-01, -8.86188149e-02, -8.64649117e-02,\n",
      "       -1.46192722e-02,  9.29095522e-02, -9.87374783e-03, -9.83060524e-02,\n",
      "        1.79366529e-01,  1.26981884e-01,  2.53361603e-03, -1.69127453e-02,\n",
      "        9.70069133e-03, -1.28689215e-01, -6.51138648e-02,  1.72490850e-02,\n",
      "        2.74261564e-01,  2.13920772e-01, -1.83014963e-02,  2.44247522e-02,\n",
      "       -1.06944695e-01,  1.39426321e-01, -4.84155416e-02,  1.26402885e-01,\n",
      "        1.28726359e-03,  3.00442800e-03, -2.68577933e-01,  1.48731604e-01,\n",
      "       -8.24898258e-02,  2.69457567e-02, -9.37918052e-02,  3.84464115e-02,\n",
      "        1.91433392e-02, -1.97724923e-01, -1.89212635e-01,  2.43134610e-02,\n",
      "        1.01070665e-02,  1.82313815e-04,  2.83181779e-02,  6.67583644e-02,\n",
      "        1.63841192e-02,  6.30501434e-02, -2.33609810e-01,  6.84911571e-03,\n",
      "       -2.43162140e-02,  2.52995384e-03,  8.25324208e-02, -4.76824585e-03,\n",
      "        1.19681612e-01,  1.18940301e-01, -1.60804778e-01,  3.25612463e-02,\n",
      "        7.35459030e-02,  1.50525138e-01,  1.59870030e-03, -1.77505538e-01,\n",
      "        3.67744034e-03,  3.49087231e-02,  5.82696535e-02,  1.30628511e-01,\n",
      "        3.43419835e-02,  1.64211556e-01, -4.49324884e-02, -7.26844594e-02,\n",
      "       -7.24552870e-02, -1.41235232e-01,  1.62470639e-01, -9.39850062e-02,\n",
      "       -2.09569722e-01,  1.20420158e-01, -2.43958011e-01,  1.41371759e-02,\n",
      "       -2.54579671e-02, -3.99896689e-02,  6.28209114e-02, -6.16353974e-02,\n",
      "       -2.85582513e-01, -5.30356206e-02, -2.14493603e-01,  5.39183058e-03,\n",
      "        8.48050229e-03,  2.43572026e-01, -1.10941306e-01,  4.88662459e-02,\n",
      "       -6.15823418e-02,  6.67212084e-02,  3.18127602e-01, -3.78579199e-01,\n",
      "        1.35152489e-01, -1.83235496e-01, -1.46048710e-01, -2.21639499e-03,\n",
      "       -1.27132773e-01,  5.12116067e-02,  9.93495360e-02, -2.59319216e-01,\n",
      "       -2.86786836e-02,  9.90913659e-02, -9.28335711e-02, -5.53222708e-02,\n",
      "       -8.76503363e-02, -1.05584405e-01,  1.81697294e-01, -2.71932870e-01,\n",
      "        5.96573986e-02,  1.52571514e-01,  6.12402521e-02,  7.07194507e-02,\n",
      "       -5.36884926e-02, -1.12506680e-01,  1.23938225e-01, -3.20601724e-02,\n",
      "        1.06775574e-01,  1.04400339e-02])), ('lib', array([ 2.00000000e+00,  0.00000000e+00,  6.68000000e+02,  2.79000000e+02,\n",
      "        2.00000000e+01,  1.00000000e+00,  1.00000000e+00,  0.00000000e+00,\n",
      "        0.00000000e+00,  0.00000000e+00,  0.00000000e+00,  0.00000000e+00,\n",
      "        0.00000000e+00,  0.00000000e+00,  0.00000000e+00,  0.00000000e+00,\n",
      "        0.00000000e+00,  0.00000000e+00,  2.05311283e-01,  2.20455825e-01,\n",
      "        7.41455108e-02, -1.16214544e-01, -2.31890038e-01, -2.22029343e-01,\n",
      "        5.43221459e-03, -7.15254173e-02,  5.94756119e-02,  3.60191800e-02,\n",
      "        1.08876400e-01,  9.79493856e-02, -5.61162457e-02, -2.54267603e-01,\n",
      "       -4.56971452e-02, -1.83819860e-01, -2.17927292e-01, -1.62013516e-01,\n",
      "       -2.84163028e-01, -6.30814508e-02, -3.07102591e-01,  1.79527611e-01,\n",
      "       -7.81919137e-02,  3.29818904e-01,  1.40819728e-01,  4.15118635e-02,\n",
      "        1.71130791e-01,  1.81988701e-01, -1.19208191e-02,  2.72135079e-01,\n",
      "        1.92347154e-01,  1.97934121e-01, -5.57737797e-02,  2.01880839e-03,\n",
      "        1.27143869e-02,  9.79428142e-02,  1.87871203e-01,  1.05959415e-01,\n",
      "        1.20177150e-01,  3.50969546e-02, -2.83389725e-02,  1.57379836e-01,\n",
      "        6.40489385e-02,  1.70687102e-02, -2.35289405e-03, -1.38414744e-02,\n",
      "        2.32546665e-02,  4.47196420e-03,  7.41276219e-02, -3.93977128e-02,\n",
      "       -1.32400513e-01, -7.11967871e-02, -4.65708924e-03,  9.27533805e-02,\n",
      "        8.00479129e-02, -1.04579508e-01, -1.44262929e-02,  4.45642695e-02,\n",
      "       -3.52546237e-02,  4.53208610e-02,  2.42550880e-01,  1.61184758e-01,\n",
      "       -1.70457289e-01, -1.12432078e-01, -2.68037707e-01, -1.62397362e-02,\n",
      "        9.57489535e-02, -9.23618115e-03,  6.05069846e-02, -3.72364512e-03,\n",
      "        1.11350216e-01,  1.03756905e-01,  1.91647649e-01,  4.59956471e-03,\n",
      "       -1.40170053e-01,  1.05806820e-01, -1.99174002e-01, -2.00793058e-01,\n",
      "       -2.64756638e-03, -1.67400166e-01,  1.96649998e-01, -9.36229005e-02,\n",
      "        1.72683716e-01,  1.30298868e-01, -2.23506853e-01, -1.06034867e-01,\n",
      "        1.31078750e-01, -2.03655794e-01, -7.51210228e-02,  3.92809659e-02,\n",
      "       -1.02142483e-01,  2.05161087e-02, -2.17944607e-01,  1.30291417e-01,\n",
      "       -5.99675514e-02,  8.21740031e-02,  1.83291063e-01,  1.96680501e-01,\n",
      "       -4.05418240e-02, -1.25943616e-01,  1.04073826e-02,  1.88228413e-01,\n",
      "       -5.83667941e-02, -3.95887047e-02, -3.81021872e-02, -6.46396130e-02,\n",
      "        1.41594797e-01, -4.20424908e-01, -4.15414311e-02, -2.64398724e-01,\n",
      "        2.55817524e-03,  1.54263908e-02,  1.28743678e-01, -2.34484851e-01,\n",
      "        1.48838401e-01, -2.94626504e-01, -7.46365590e-03, -2.46621042e-01,\n",
      "       -2.05015671e-02,  2.69443661e-01, -2.78819688e-02,  5.72432168e-02,\n",
      "       -8.81256685e-02,  2.54619122e-02, -6.27849251e-02, -1.62755713e-01,\n",
      "       -1.89475268e-01,  7.72819072e-02])), ('lib', array([ 2.27272727e+00,  2.75974026e-02,  1.08500000e+03,  4.11000000e+02,\n",
      "        3.10000000e+01,  6.00000000e+00,  6.00000000e+00,  1.00000000e+00,\n",
      "        0.00000000e+00,  0.00000000e+00,  0.00000000e+00,  0.00000000e+00,\n",
      "        0.00000000e+00,  0.00000000e+00,  0.00000000e+00,  0.00000000e+00,\n",
      "        0.00000000e+00,  0.00000000e+00,  1.03790626e-01,  1.01279214e-01,\n",
      "       -4.87833060e-02,  2.87245344e-02,  2.01385900e-01, -1.28379449e-01,\n",
      "        6.19632751e-02,  2.76954006e-02,  1.28342256e-01, -1.22579865e-01,\n",
      "       -1.52578518e-01, -1.98197350e-01,  2.39616945e-01, -2.31425717e-01,\n",
      "        1.70361600e-03, -1.04768693e-01, -1.28770858e-01, -1.35634631e-01,\n",
      "       -3.00954491e-01,  1.51138231e-01,  1.47051677e-01,  2.42386833e-02,\n",
      "       -1.52183384e-01, -2.54701208e-02, -4.65424024e-02,  8.23006704e-02,\n",
      "       -3.78695801e-02, -2.73570925e-01,  5.52782463e-03,  6.11883365e-02,\n",
      "        1.98687389e-02,  3.54442513e-03, -6.75926879e-02,  1.27965018e-01,\n",
      "       -2.98593223e-01, -1.70527056e-01, -2.08292417e-02,  1.23052955e-01,\n",
      "        8.29074010e-02,  6.98943958e-02, -1.74599230e-01,  2.02085346e-01,\n",
      "        7.88894594e-02, -1.23052429e-02,  3.79450917e-02,  2.89195552e-02,\n",
      "        7.51554370e-02, -1.15151107e-02, -9.71871242e-02,  1.03852510e-01,\n",
      "       -7.78947398e-02,  1.45909950e-01,  4.22954708e-02, -5.61511070e-02,\n",
      "        1.01296507e-01, -3.61933000e-02, -1.36558870e-02,  1.41445696e-02,\n",
      "        1.17712758e-01,  2.65831482e-02, -2.30912156e-02, -1.37526110e-01,\n",
      "       -2.08474323e-01, -3.21940752e-03, -2.27223709e-01, -8.02124515e-02,\n",
      "       -1.20124914e-01, -1.01884954e-01, -5.50945178e-02, -2.60748118e-01,\n",
      "        5.31066358e-02,  5.29592410e-02, -7.43993670e-02,  1.44128084e-01,\n",
      "       -1.62499510e-02, -7.64269158e-02, -8.35020747e-03, -2.58982658e-01,\n",
      "       -1.11500919e-01, -1.61008447e-01, -2.59226829e-01,  4.71040532e-02,\n",
      "        3.23094167e-02, -2.14400217e-01, -2.73349524e-01,  1.57155544e-01,\n",
      "        1.04591019e-01,  1.72907516e-01, -6.63733780e-02,  3.59125435e-02,\n",
      "       -2.34824508e-01,  7.98031464e-02, -1.01266876e-01,  8.29677060e-02,\n",
      "        1.75549045e-01,  1.75026357e-01, -1.81444317e-01, -4.75000702e-02,\n",
      "       -9.77913067e-02,  1.36706727e-02,  1.16152115e-01, -3.13424617e-01,\n",
      "       -2.48568222e-01, -5.04160710e-02, -7.13306218e-02, -1.68791972e-02,\n",
      "       -4.52001207e-02, -1.58076197e-01,  2.11082458e-01, -3.07358354e-01,\n",
      "        7.96472654e-02, -8.17323402e-02, -2.74520908e-02, -1.68468684e-01,\n",
      "       -1.13507465e-01, -1.87754914e-01, -1.88955292e-01, -2.08950818e-01,\n",
      "        1.17983799e-02, -1.51089188e-02,  1.23022348e-01,  5.08047938e-02,\n",
      "        1.04336038e-01,  1.96314398e-02,  1.36798635e-01, -1.41167477e-01,\n",
      "       -8.52287710e-02,  4.87695374e-02])), ('lib', array([ 2.09090909e+00,  0.00000000e+00,  1.12800000e+03,  3.68000000e+02,\n",
      "        2.20000000e+01,  1.00000000e+00,  1.00000000e+00,  0.00000000e+00,\n",
      "        0.00000000e+00,  1.60000000e+01,  2.00000000e+00,  2.00000000e+00,\n",
      "        0.00000000e+00,  0.00000000e+00,  0.00000000e+00,  0.00000000e+00,\n",
      "        0.00000000e+00,  0.00000000e+00,  6.07830994e-02,  9.58894566e-02,\n",
      "       -5.21279313e-03, -1.55432805e-01,  6.81902468e-02, -1.98028103e-01,\n",
      "       -3.04397978e-02,  1.92014806e-04,  1.51836544e-01,  1.23932019e-01,\n",
      "       -7.72977844e-02,  2.72533833e-03,  9.90918372e-03,  1.79085676e-02,\n",
      "       -2.34423310e-01, -2.11258098e-01,  1.28009021e-01, -1.65620130e-02,\n",
      "       -1.33220097e-02,  1.09199345e-01, -1.83784053e-01,  9.35380682e-02,\n",
      "       -2.89415829e-02,  4.92890924e-02, -6.69745058e-02, -5.95630053e-03,\n",
      "        3.81706748e-03,  3.71784978e-02, -1.19153678e-01, -3.25579382e-02,\n",
      "        3.05409394e-02, -1.38957888e-01,  3.07469778e-02,  2.14060750e-02,\n",
      "        1.34573197e-02,  1.22763179e-01,  6.43843040e-02,  4.53486666e-02,\n",
      "       -1.45268738e-01,  1.13314211e-01,  1.32201195e-01,  3.53897698e-02,\n",
      "        5.06582558e-02, -3.62487584e-02,  9.77527797e-02,  8.14456642e-02,\n",
      "        1.76382095e-01,  1.01258144e-01, -1.22472957e-01, -6.47190884e-02,\n",
      "       -1.30772561e-01,  5.02737798e-02,  1.21004442e-02, -1.17814913e-02,\n",
      "       -4.08901758e-02, -1.81601439e-02,  8.88445079e-02,  1.87523857e-01,\n",
      "       -1.18076548e-01, -4.61412780e-02, -1.64187148e-01, -5.54551482e-02,\n",
      "        1.73886903e-02, -8.96838382e-02, -1.52239650e-01, -2.46746123e-01,\n",
      "       -6.26726076e-02, -2.49274731e-01, -6.56671301e-02,  9.76243541e-02,\n",
      "       -3.51560526e-02,  1.42894223e-01, -1.04130149e-01,  2.25672677e-01,\n",
      "       -1.90709472e-01, -2.91005820e-01, -1.03069730e-02,  4.22783708e-03,\n",
      "        1.04649939e-01, -1.76769555e-01, -8.93987566e-02,  1.48212612e-01,\n",
      "        7.53359199e-02, -2.85977989e-01, -3.20194691e-01, -7.74274394e-02,\n",
      "        1.61565840e-02,  1.24720365e-01, -1.29600808e-01,  1.69955149e-01,\n",
      "       -9.55470353e-02, -6.54336438e-02, -4.47909161e-02,  3.24427158e-01,\n",
      "        5.01843803e-02,  1.18216194e-01, -7.93384090e-02, -1.31833646e-02,\n",
      "       -2.89863925e-02, -1.84398387e-02, -2.46815644e-02, -5.49716018e-02,\n",
      "       -1.32781252e-01, -1.40578389e-01, -9.92794260e-02,  3.38812396e-02,\n",
      "       -8.32643069e-04, -1.31640881e-01, -2.12618947e-01,  5.30930050e-02,\n",
      "        1.34303542e-02,  2.02688977e-01,  5.04910611e-02,  1.05615869e-01,\n",
      "        5.24455346e-02, -1.92170888e-01, -5.52213611e-03, -6.40356839e-02,\n",
      "        1.80789493e-02,  3.96324694e-02, -1.14116922e-01, -1.21087886e-01,\n",
      "       -1.11821003e-01,  4.39137816e-02, -1.03771925e-01, -1.09370463e-01,\n",
      "       -2.20327839e-01, -2.26684436e-02])), ('lib', array([ 2.08333333e+00,  0.00000000e+00,  1.50600000e+03,  4.86000000e+02,\n",
      "        2.80000000e+01,  2.00000000e+00,  2.00000000e+00,  0.00000000e+00,\n",
      "        0.00000000e+00,  0.00000000e+00,  0.00000000e+00,  0.00000000e+00,\n",
      "        0.00000000e+00,  0.00000000e+00,  0.00000000e+00,  0.00000000e+00,\n",
      "        0.00000000e+00,  0.00000000e+00,  5.11478819e-02,  1.19765326e-01,\n",
      "        1.01915322e-01,  2.36465320e-01,  5.57601862e-02, -3.15133184e-02,\n",
      "        3.09142936e-02, -9.96111780e-02, -4.28144969e-02, -1.12712815e-01,\n",
      "       -1.82060689e-01,  1.29158944e-01, -3.13223042e-02, -1.56889725e-02,\n",
      "        7.29887411e-02, -3.62675846e-01, -1.68790162e-01,  1.41786970e-02,\n",
      "       -1.47123784e-01,  1.61622733e-01, -1.34177282e-01,  7.20927939e-02,\n",
      "       -1.04139268e-01, -8.89229625e-02, -9.13135409e-02,  2.21264251e-02,\n",
      "        1.67075381e-01,  4.79044020e-02, -2.71222115e-01,  2.13534191e-01,\n",
      "        8.37374851e-02, -5.38403317e-02, -1.17479354e-01,  9.19639878e-03,\n",
      "        7.52974004e-02,  6.50075078e-02, -1.44724950e-01,  2.59645879e-01,\n",
      "       -1.61358565e-01,  1.50013179e-01, -7.05462843e-02,  1.55847281e-01,\n",
      "        3.99333164e-02, -7.12448452e-03, -1.28116578e-01,  2.70285636e-01,\n",
      "       -2.24386156e-01,  1.93769500e-01,  9.04160812e-02, -6.42850921e-02,\n",
      "       -4.37463969e-02,  1.10510118e-01,  2.15316042e-01, -5.24152890e-02,\n",
      "       -2.47697249e-01,  6.57780468e-02,  1.36435494e-01,  2.93744244e-02,\n",
      "       -1.60019711e-01, -2.00108171e-01, -2.37804502e-01, -2.12816359e-03,\n",
      "        1.65339604e-01,  1.37259588e-01, -1.55012757e-01, -8.28841422e-03,\n",
      "       -1.41474843e-01, -9.67002735e-02, -2.81791240e-02,  1.30953074e-01,\n",
      "        7.93788210e-02,  7.01879263e-02,  7.38970190e-02, -5.61111234e-02,\n",
      "       -1.27321526e-01, -7.85482209e-03, -9.83862653e-02, -5.58485426e-02,\n",
      "        1.04558729e-01, -3.00203294e-01,  1.11262305e-02,  6.34958893e-02,\n",
      "        2.53153503e-01, -7.95332417e-02, -1.09624881e-02, -5.22796530e-03,\n",
      "        4.86172922e-02,  5.89812025e-02, -1.32364765e-01,  2.44233143e-02,\n",
      "       -1.39784560e-01, -4.53997888e-02, -7.34620169e-02,  2.66745165e-02,\n",
      "        4.14545536e-02, -7.79068694e-02, -1.90291628e-01, -8.53564069e-02,\n",
      "        6.15430064e-02, -2.82929055e-02,  2.81123016e-02, -2.56461613e-02,\n",
      "        1.27626181e-01,  5.49942739e-02, -1.62485451e-01,  1.37939513e-01,\n",
      "        4.54832017e-02, -1.07795358e-01, -4.79149185e-02, -2.66915858e-02,\n",
      "        2.25795835e-01,  1.67413473e-01, -8.41730908e-02,  1.27771541e-01,\n",
      "       -9.53570679e-02,  7.32499268e-03,  1.38975075e-02,  3.94050404e-02,\n",
      "       -4.72155809e-02,  6.46866858e-02, -1.12774588e-01, -1.78930253e-01,\n",
      "       -3.56641769e-01,  3.42693061e-01,  4.32120301e-02,  3.91448848e-02,\n",
      "        3.85912806e-02,  2.65496343e-01])), ('lib', array([ 2.25000000e+00,  0.00000000e+00,  3.39000000e+02,  1.90000000e+02,\n",
      "        2.40000000e+01,  3.00000000e+00,  4.00000000e+00,  0.00000000e+00,\n",
      "        0.00000000e+00,  0.00000000e+00,  0.00000000e+00,  0.00000000e+00,\n",
      "        0.00000000e+00,  0.00000000e+00,  0.00000000e+00,  0.00000000e+00,\n",
      "        0.00000000e+00,  0.00000000e+00, -1.53300628e-01,  1.68870956e-01,\n",
      "        3.28562081e-01,  7.81799331e-02,  6.90188557e-02, -3.48932594e-02,\n",
      "        1.84752613e-01,  2.51143333e-02,  1.41065150e-01,  7.14729577e-02,\n",
      "        1.36958122e-01,  1.01242349e-01, -4.26001549e-02,  7.31325001e-02,\n",
      "       -2.23066419e-01, -4.86442670e-02,  1.61402579e-02, -1.13786399e-01,\n",
      "       -1.23504333e-01,  1.04141831e-01, -6.41054437e-02,  1.73113123e-01,\n",
      "        4.35548951e-04,  7.53810629e-02, -5.13123795e-02, -1.31227970e-01,\n",
      "        1.92528710e-01, -2.02148125e-01, -1.87238734e-02, -2.68043391e-02,\n",
      "        2.35027239e-01, -1.23566806e-01, -7.11999135e-03,  4.21665125e-02,\n",
      "       -1.10639170e-01,  4.67894375e-02,  4.85079065e-02,  1.72777951e-01,\n",
      "       -2.26645693e-01,  1.18406850e-03,  2.76279971e-02,  3.31126973e-02,\n",
      "        6.94785714e-02,  1.83928773e-01, -1.29792169e-01, -4.96447980e-02,\n",
      "       -7.47572677e-03,  1.15316987e-01, -8.51100385e-02,  5.76428883e-03,\n",
      "       -1.79501295e-01,  1.28404498e-01,  1.50423795e-01, -5.78884520e-02,\n",
      "       -1.65509552e-01,  9.77590159e-02, -4.48723696e-02,  6.00058548e-02,\n",
      "       -1.58281356e-01, -4.82202834e-03, -1.35235026e-01, -1.18260577e-01,\n",
      "        7.09304633e-03, -1.63463335e-02, -1.28247052e-01,  9.80088934e-02,\n",
      "       -1.32481039e-01, -9.97259170e-02, -4.97169271e-02, -8.87513608e-02,\n",
      "       -4.37845178e-02,  9.62477848e-02,  1.44094691e-01,  4.41565998e-02,\n",
      "       -3.83316651e-02,  2.92156674e-02,  5.68487681e-02, -1.34067237e-01,\n",
      "        3.98069695e-02,  5.22383079e-02, -2.57498994e-02, -8.11037272e-02,\n",
      "        3.23120877e-02,  7.08361119e-02, -6.97116107e-02,  8.06594491e-02,\n",
      "        1.22538790e-01, -1.07155023e-02, -4.00785767e-02, -2.10868549e-02,\n",
      "       -2.03337610e-01, -4.89817373e-02, -6.49419278e-02, -9.88518149e-02,\n",
      "        1.18390121e-01, -5.95752485e-02,  6.89326450e-02,  4.88996655e-02,\n",
      "       -1.20582409e-01, -1.02768667e-01, -1.44013658e-01, -1.49028629e-01,\n",
      "        6.30065659e-03, -2.45525733e-01,  1.22611206e-02,  1.35566741e-01,\n",
      "       -6.47958741e-02, -1.60587296e-01, -8.66139308e-03, -1.01748690e-01,\n",
      "       -1.14936270e-01,  1.47051811e-01, -1.56358127e-02,  1.00286506e-01,\n",
      "       -1.13262631e-01,  8.20080340e-02,  4.61411960e-02, -1.00393593e-01,\n",
      "        1.01139918e-01,  1.28568575e-01, -1.05303943e-01,  5.42305633e-02,\n",
      "       -8.15201849e-02,  8.14768896e-02, -7.27682710e-02,  5.17698154e-02,\n",
      "       -7.59854987e-02, -6.67774752e-02])), ('lib', array([ 2.23076923e+00,  2.37179487e-02,  1.95100000e+03,  6.03000000e+02,\n",
      "        3.50000000e+01,  5.00000000e+00,  5.00000000e+00,  1.00000000e+00,\n",
      "        0.00000000e+00,  0.00000000e+00,  0.00000000e+00,  0.00000000e+00,\n",
      "        0.00000000e+00,  0.00000000e+00,  0.00000000e+00,  0.00000000e+00,\n",
      "        0.00000000e+00,  0.00000000e+00, -2.10855916e-01,  1.45765081e-01,\n",
      "        2.41860852e-01, -9.58495587e-03, -1.91858560e-01,  6.24382794e-02,\n",
      "        8.05618390e-02,  2.24087954e-01,  3.57186384e-02,  1.34305418e-01,\n",
      "       -2.71852501e-02, -2.21136853e-01,  1.87611468e-02,  1.27165675e-01,\n",
      "       -1.41263247e-01,  7.07840398e-02, -1.04617281e-02,  1.30245760e-02,\n",
      "        1.64123878e-01, -9.38897431e-02, -9.04754028e-02, -1.47035420e-02,\n",
      "        1.57935262e-01, -7.69360960e-02,  3.17175277e-02, -6.25110120e-02,\n",
      "        5.52494377e-02, -1.43291811e-02, -1.52706698e-01, -6.43397793e-02,\n",
      "        1.83569461e-01, -2.42767543e-01,  1.96201131e-01,  8.71781260e-04,\n",
      "        1.17277890e-01, -7.61861578e-02, -2.07300425e-01,  1.28263295e-01,\n",
      "       -2.00907916e-01,  3.72633636e-02,  1.10981748e-01,  1.04035676e-01,\n",
      "        1.14215240e-01,  4.36433733e-01,  1.00088052e-01,  2.29592577e-01,\n",
      "        1.16809770e-01,  1.61621291e-02, -5.46698645e-02,  7.99370110e-02,\n",
      "        3.41099128e-02, -1.00420110e-01, -9.22919586e-02, -1.04824007e-01,\n",
      "       -3.28358990e-04,  1.22158550e-01,  3.66079062e-03,  7.86770210e-02,\n",
      "       -1.35126680e-01, -1.36925638e-01, -1.06130496e-01, -2.55678326e-01,\n",
      "        9.73926634e-02, -3.36979032e-01,  1.30396694e-01,  1.06352061e-01,\n",
      "       -3.28884460e-02, -1.37592539e-01,  4.15213481e-02,  1.00795761e-01,\n",
      "        1.44143075e-01,  1.49437875e-01,  1.36789635e-01, -1.45745367e-01,\n",
      "       -4.95278910e-02, -1.05037838e-02,  1.83601044e-02, -1.12790182e-01,\n",
      "        1.62815064e-01,  1.67374223e-01, -1.63649067e-01, -1.27846152e-01,\n",
      "        1.23646110e-01, -3.59139331e-02,  2.28635788e-01,  6.44851103e-02,\n",
      "        8.34711343e-02, -8.52135792e-02,  6.47926107e-02,  8.69630128e-02,\n",
      "       -1.37046665e-01,  5.07548004e-02, -1.38474748e-01,  1.59751445e-01,\n",
      "        2.33750492e-01,  2.70125687e-01,  2.37244546e-01, -4.40385602e-02,\n",
      "       -2.02717900e-01, -2.07558095e-01, -9.85691026e-02, -2.02353224e-01,\n",
      "        3.43054295e-01,  7.11366860e-03,  1.86821632e-02, -1.00679658e-01,\n",
      "       -5.37027195e-02, -3.91958654e-01, -1.18133649e-01, -1.03772588e-01,\n",
      "       -3.73871289e-02,  1.18854478e-01, -9.02479887e-02, -1.46120697e-01,\n",
      "       -2.71620117e-02, -6.42852709e-02,  3.67318699e-03,  1.03802942e-02,\n",
      "        1.53406054e-01,  3.24827403e-01, -8.64875689e-03,  8.10391977e-02,\n",
      "       -2.93513954e-01,  1.79129541e-01,  9.29519981e-02, -7.52716586e-02,\n",
      "       -2.24413142e-01,  6.65489882e-02])), ('lib', array([ 2.58823529e+00,  0.00000000e+00,  4.14000000e+02,  2.08000000e+02,\n",
      "        3.10000000e+01,  6.00000000e+00,  6.00000000e+00,  0.00000000e+00,\n",
      "        0.00000000e+00,  9.00000000e+00,  3.00000000e+00,  3.00000000e+00,\n",
      "        0.00000000e+00,  0.00000000e+00,  0.00000000e+00,  0.00000000e+00,\n",
      "        0.00000000e+00,  0.00000000e+00,  4.04134542e-02,  9.60140377e-02,\n",
      "        1.94978803e-01,  1.78457852e-02, -3.11139952e-02, -5.76419160e-02,\n",
      "        6.10118359e-02, -6.43061325e-02,  1.90332234e-01,  6.02997951e-02,\n",
      "        2.50075385e-02, -4.35604230e-02, -4.63344455e-02, -1.38217926e-01,\n",
      "       -1.42805502e-02,  8.52388442e-02, -9.27740522e-03,  1.11555234e-02,\n",
      "       -1.22187994e-01,  1.05856754e-01, -1.46224454e-01,  2.06174403e-01,\n",
      "        5.46539910e-02, -1.74007922e-01, -3.50479260e-02,  7.38819167e-02,\n",
      "       -9.59926024e-02, -1.34619966e-01,  5.92767901e-04, -4.90713073e-03,\n",
      "        9.63911638e-02, -7.87667185e-02,  5.59480004e-02,  7.94926211e-02,\n",
      "        2.72835009e-02,  8.06599632e-02, -2.82184966e-02,  7.37462342e-02,\n",
      "       -2.37132702e-02,  8.70312601e-02,  5.10896072e-02,  1.04891799e-01,\n",
      "       -1.40088126e-01, -2.32137311e-02,  1.12073487e-02,  5.15626296e-02,\n",
      "        9.47496369e-02,  1.37730047e-01,  2.84544956e-02, -5.82986735e-02,\n",
      "       -1.94377542e-01,  4.69771177e-02,  7.32526183e-02,  9.36734304e-02,\n",
      "       -2.00329781e-01,  5.85391074e-02,  6.98906258e-02,  7.46825188e-02,\n",
      "       -4.03020327e-04, -1.42862305e-01, -6.29775524e-02, -4.64117564e-02,\n",
      "        3.03713661e-02, -1.57599911e-01, -4.16057045e-03, -9.23926383e-02,\n",
      "       -1.22380041e-01, -1.52708977e-01, -9.98038575e-02, -5.87587990e-03,\n",
      "        1.91650182e-01,  8.62796083e-02,  5.96392229e-02,  1.11865751e-01,\n",
      "        6.99302368e-03, -1.54544204e-01, -6.81657940e-02, -4.94575314e-02,\n",
      "       -3.80740464e-02, -2.58857846e-01, -1.06757559e-01, -3.41865979e-02,\n",
      "       -2.13754103e-02, -1.20391630e-01, -1.35104656e-01,  7.50945136e-02,\n",
      "       -6.30823672e-02,  1.51459411e-01, -6.86677471e-02,  8.08014199e-02,\n",
      "       -1.28600180e-01, -6.70855865e-02, -5.74656054e-02,  6.82363585e-02,\n",
      "        2.05760682e-03,  1.24293961e-01, -7.47645125e-02, -1.30777702e-01,\n",
      "       -9.92412791e-02, -1.19592585e-01,  3.93643379e-02, -2.05081940e-01,\n",
      "        3.71001288e-02, -1.20033063e-01,  5.50296307e-02, -1.29466476e-02,\n",
      "        2.62751728e-02, -8.48166272e-02, -1.06825074e-02, -7.68316314e-02,\n",
      "        8.83352458e-02,  7.87100103e-03, -1.08832382e-01, -6.14782386e-02,\n",
      "        2.77300039e-03, -6.99045360e-02,  6.29601330e-02, -1.20434694e-01,\n",
      "        3.42580751e-02,  8.20187330e-02, -8.10612401e-05, -3.31841186e-02,\n",
      "       -1.74013078e-01,  6.00021109e-02,  5.93283353e-03, -7.27000460e-03,\n",
      "       -3.86795439e-02,  1.10703155e-01])), ('lib', array([ 2.10526316e+00,  0.00000000e+00,  6.69000000e+02,  2.62000000e+02,\n",
      "        1.90000000e+01,  1.00000000e+00,  1.00000000e+00,  0.00000000e+00,\n",
      "        0.00000000e+00,  1.50000000e+01,  1.00000000e+00,  1.00000000e+00,\n",
      "        0.00000000e+00,  0.00000000e+00,  0.00000000e+00,  0.00000000e+00,\n",
      "        0.00000000e+00,  0.00000000e+00, -1.74776986e-01, -2.21469980e-02,\n",
      "        2.25618765e-01,  8.29760581e-02,  3.20354477e-02,  1.87091492e-02,\n",
      "        1.93107665e-01, -2.88031340e-01, -9.31188390e-02,  1.95212457e-02,\n",
      "        2.36378610e-02,  1.18701205e-01,  6.32277876e-02, -1.76507235e-01,\n",
      "        1.22645251e-01, -1.42154455e-01,  2.42236555e-01, -1.31678671e-01,\n",
      "       -5.25322333e-02,  5.47113717e-02, -1.67476133e-01,  4.40099984e-02,\n",
      "        2.03112751e-01,  4.69857901e-02, -1.32677360e-02,  1.04644252e-02,\n",
      "       -2.91407287e-01, -1.51490465e-01, -2.74700485e-02,  1.84565559e-01,\n",
      "       -9.31647792e-02, -4.72599044e-02,  5.77757433e-02, -7.38661736e-02,\n",
      "       -2.59565227e-02, -1.35795027e-01,  1.75569102e-01, -7.01676607e-02,\n",
      "       -1.23748459e-01, -6.59222081e-02,  5.94546907e-02, -5.42569049e-02,\n",
      "        1.32783473e-01, -3.78826186e-02,  1.38220889e-03,  1.25897259e-01,\n",
      "        3.16510573e-02,  8.40403372e-04, -8.32738131e-02, -1.77000061e-01,\n",
      "        5.20854369e-02, -2.66902968e-02, -1.64528430e-01, -1.21373408e-01,\n",
      "       -1.29913583e-01,  2.03337401e-01,  2.19901443e-01,  7.18792230e-02,\n",
      "       -1.00917764e-01, -4.58184890e-02,  3.18734273e-02,  2.61738271e-01,\n",
      "       -1.40811935e-01, -9.51380581e-02, -9.41591524e-03, -6.84086084e-02,\n",
      "        3.64443799e-03,  9.22310352e-03, -4.25756536e-02,  1.32117152e-01,\n",
      "        2.06100985e-01,  1.79263979e-01, -2.01596260e-01,  7.58362189e-02,\n",
      "        1.04645841e-01,  4.55257893e-02,  2.00208932e-01, -6.78280694e-03,\n",
      "       -7.90903941e-02, -2.26938099e-01,  1.85437456e-01,  5.61741889e-02,\n",
      "        1.13131903e-01, -7.41950423e-02, -9.41971764e-02, -1.32108582e-02,\n",
      "       -1.44810691e-01, -7.20000789e-02, -8.93750414e-02,  1.37556568e-01,\n",
      "       -2.32878681e-02,  7.74534792e-02,  3.62769924e-02,  2.23038197e-01,\n",
      "       -7.43984878e-02,  2.67679304e-01, -7.33276457e-02, -4.04447578e-02,\n",
      "       -1.21642917e-01, -1.53792754e-01,  1.56203881e-01, -2.24310264e-01,\n",
      "       -3.84413674e-02,  3.90650816e-02,  4.71023433e-02,  5.84845385e-03,\n",
      "        5.66075183e-02, -1.00637868e-01, -1.52660236e-01, -7.40858465e-02,\n",
      "       -5.31368814e-02,  6.70232847e-02,  1.31359816e-01, -1.27699524e-01,\n",
      "        9.29825455e-02,  6.34468943e-02, -4.33779620e-02, -2.07330182e-01,\n",
      "        1.36059701e-01, -6.76581403e-03, -5.62460609e-02, -2.07208797e-01,\n",
      "       -1.95136908e-02,  2.00669616e-02, -6.56333566e-02,  1.95608847e-02,\n",
      "        3.65823653e-04, -1.04487062e-01])), ('lib', array([ 2.06060606e+00,  2.02020202e-02,  4.44200000e+03,  9.75000000e+02,\n",
      "        3.40000000e+01,  2.00000000e+00,  2.00000000e+00,  1.00000000e+00,\n",
      "        0.00000000e+00,  0.00000000e+00,  0.00000000e+00,  0.00000000e+00,\n",
      "        0.00000000e+00,  0.00000000e+00,  0.00000000e+00,  0.00000000e+00,\n",
      "        0.00000000e+00,  0.00000000e+00, -2.85630897e-02,  3.01958919e-01,\n",
      "        8.27978775e-02,  2.44003564e-01, -4.30984646e-02, -3.66093189e-01,\n",
      "        3.51262450e-01, -1.58114955e-01,  3.88412505e-01, -1.85970023e-01,\n",
      "        2.04516295e-02,  1.56507403e-01,  1.92877799e-01, -2.69799024e-01,\n",
      "       -2.77918249e-01, -2.22090840e-01,  7.42181763e-02, -2.71375328e-01,\n",
      "       -1.60942659e-01,  2.67159849e-01, -2.97254771e-01,  1.10255919e-01,\n",
      "       -5.99866398e-02,  3.21428403e-02, -7.96043947e-02,  1.77016519e-02,\n",
      "       -1.07953124e-01, -1.64856359e-01, -8.31653029e-02, -9.92076844e-02,\n",
      "        1.68587163e-01, -9.78553593e-02, -2.84181964e-02, -1.42744288e-01,\n",
      "        4.06393893e-02, -1.92049950e-01, -5.36405034e-02,  2.54201055e-01,\n",
      "        2.23295987e-02,  4.55934741e-02,  1.09271389e-02, -1.43775672e-01,\n",
      "        1.38236016e-01, -3.58611122e-02,  1.23242363e-01,  2.83064336e-01,\n",
      "        8.96388516e-02,  2.57619768e-01,  5.05472794e-02, -1.25294790e-01,\n",
      "       -1.02098450e-01,  2.35521674e-01, -2.17192009e-01, -1.96196169e-01,\n",
      "       -2.25193158e-01,  9.62279737e-02,  1.91987023e-01,  1.42957736e-02,\n",
      "       -2.01526180e-01,  6.89639524e-02, -1.17910013e-01, -8.06381479e-02,\n",
      "        1.21107690e-01,  3.85664068e-02, -3.67875487e-01, -1.30773023e-01,\n",
      "       -7.65639618e-02, -1.47513762e-01, -7.21641406e-02,  7.04676062e-02,\n",
      "        9.27790254e-02,  1.98878303e-01, -1.24435261e-01,  1.12275995e-01,\n",
      "        3.00195701e-02,  3.89602147e-02,  2.53884256e-01, -1.83264121e-01,\n",
      "       -2.28052765e-01, -1.70437023e-01, -6.01166002e-02,  7.10693374e-02,\n",
      "        2.21779436e-01, -4.55515366e-03, -3.95430386e-01,  1.96686294e-02,\n",
      "        1.61768086e-02,  2.13169560e-01, -2.08532825e-01,  9.31899175e-02,\n",
      "       -4.28761505e-02, -7.07251802e-02, -7.23316371e-02,  2.55687207e-01,\n",
      "       -9.57500339e-02,  2.12609380e-01, -7.38460347e-02,  9.61753502e-02,\n",
      "       -1.97977219e-02, -1.20651029e-01, -4.33454774e-02, -5.98095022e-02,\n",
      "       -7.59527609e-02, -1.55293435e-01, -1.73995540e-01,  6.08656779e-02,\n",
      "        1.42828062e-01, -1.14713736e-01, -1.31334454e-01, -3.11527550e-01,\n",
      "       -6.12983890e-02,  2.21882299e-01,  3.55365798e-02, -1.19763851e-01,\n",
      "       -2.00217038e-01, -1.39660835e-01,  1.27357513e-01, -2.75183678e-01,\n",
      "       -1.52695075e-01,  7.26507083e-02,  2.89820116e-02,  1.17064305e-01,\n",
      "       -9.18894410e-02,  2.71210730e-01,  7.51439184e-02,  1.15635894e-01,\n",
      "       -7.47454315e-02, -8.41716826e-02])), ('lib', array([ 2.63157895e+00,  1.77387914e-02,  6.15000000e+02,  2.91000000e+02,\n",
      "        3.20000000e+01,  7.00000000e+00,  5.00000000e+00,  1.00000000e+00,\n",
      "        1.00000000e+00,  1.10000000e+01,  3.00000000e+00,  3.00000000e+00,\n",
      "        0.00000000e+00,  0.00000000e+00,  0.00000000e+00,  0.00000000e+00,\n",
      "        0.00000000e+00,  0.00000000e+00, -5.62766194e-02,  4.77815755e-02,\n",
      "        1.87818602e-01,  8.05719644e-02,  2.99077600e-01, -2.10220098e-01,\n",
      "        2.13767394e-01, -4.67887297e-02,  2.25818798e-01,  4.14414098e-03,\n",
      "       -4.65188175e-02, -2.83024851e-02,  5.45466132e-02, -2.42180958e-01,\n",
      "       -4.15801816e-02,  1.21954083e-02,  1.17222583e-02,  6.04301505e-02,\n",
      "       -2.77296722e-01,  1.24176703e-01, -1.18456520e-01,  1.13286227e-01,\n",
      "        9.09167975e-02, -6.14586622e-02,  8.39779302e-02, -2.01691817e-02,\n",
      "       -9.85252634e-02, -2.06687629e-01,  4.49662469e-02,  7.73664238e-03,\n",
      "        5.08336760e-02,  8.65571573e-03,  5.12207523e-02, -1.25683546e-02,\n",
      "        6.92766979e-02,  2.89168470e-02, -2.20394530e-03,  1.81206644e-01,\n",
      "       -8.06144252e-02, -1.28120985e-02, -3.07114255e-02,  1.10695399e-01,\n",
      "       -1.92538545e-01, -5.13165817e-02,  5.47764152e-02,  7.59413242e-02,\n",
      "       -3.11083831e-02,  9.85864252e-02, -1.50659874e-01, -7.68025741e-02,\n",
      "       -8.32182541e-03, -3.03238910e-02,  3.01244259e-02,  8.37634504e-02,\n",
      "       -2.31618881e-01,  4.25155163e-02,  1.63818114e-02,  4.31901589e-02,\n",
      "        6.36100471e-02, -1.64673507e-01, -1.31631978e-02, -7.17913508e-02,\n",
      "       -1.23639531e-01,  7.40821362e-02, -1.75508652e-02, -9.87696946e-02,\n",
      "        3.42608988e-02, -2.62852889e-02, -1.05505742e-01, -1.43894002e-01,\n",
      "        1.33987397e-01, -3.93068790e-02, -6.28318563e-02,  1.63269386e-01,\n",
      "       -4.45123613e-02, -9.71462950e-03, -8.71303454e-02, -1.28264101e-02,\n",
      "       -5.83698740e-03, -2.81715006e-01, -1.83216259e-01, -1.02199055e-03,\n",
      "       -1.36710927e-01, -2.25203514e-01, -2.44618133e-01, -8.36333558e-02,\n",
      "        5.10911867e-02,  1.57073706e-01, -1.64147988e-01,  1.27064839e-01,\n",
      "       -2.15511575e-01,  7.72659332e-02, -5.81179839e-03,  1.88627899e-01,\n",
      "       -1.70851216e-01,  2.83364337e-02,  2.16873991e-03,  8.02536402e-03,\n",
      "       -1.68279499e-01, -1.58586591e-01, -4.76679727e-02, -4.94822972e-02,\n",
      "       -1.89929251e-02,  9.49628837e-03,  5.49010858e-02,  1.23573758e-01,\n",
      "        8.48266184e-02, -7.10383803e-02,  8.07985887e-02,  6.74708784e-02,\n",
      "        3.33665386e-02, -6.22881353e-02, -5.00356220e-02,  8.39793831e-02,\n",
      "       -3.63201089e-02,  4.42279801e-02,  5.81212435e-03, -1.73028409e-01,\n",
      "        1.27959728e-01,  5.88117279e-02,  2.00784087e-01,  3.69228683e-02,\n",
      "       -1.55375123e-01,  7.79229924e-02,  1.17825575e-01, -1.00513034e-01,\n",
      "       -1.13535412e-01,  2.12061275e-02])), ('lib', array([ 2.25000000e+00,  6.47321429e-02,  3.58000000e+02,  1.59000000e+02,\n",
      "        1.20000000e+01,  1.00000000e+00,  1.00000000e+00,  1.00000000e+00,\n",
      "        0.00000000e+00,  2.20000000e+01,  3.00000000e+00,  3.00000000e+00,\n",
      "        0.00000000e+00,  0.00000000e+00,  0.00000000e+00,  0.00000000e+00,\n",
      "        0.00000000e+00,  0.00000000e+00, -3.99638899e-02,  9.28567946e-02,\n",
      "        2.50308998e-02,  1.46229908e-01,  1.64251085e-02, -6.28169477e-02,\n",
      "        1.13155253e-01,  9.25717875e-02,  1.80057049e-01, -4.99793142e-02,\n",
      "       -2.88539212e-02,  1.60377640e-02,  6.82606474e-02, -1.04152791e-01,\n",
      "        4.33038175e-02,  4.07964811e-02, -2.17627622e-02,  6.06030636e-02,\n",
      "       -2.35333800e-01,  1.41484439e-01, -6.36129528e-02, -1.05261356e-02,\n",
      "        1.80363193e-01,  5.98525479e-02, -1.07760578e-01,  4.63126488e-02,\n",
      "       -4.76916172e-02, -1.15693733e-01,  1.62771698e-02,  3.04870270e-02,\n",
      "       -1.56281609e-03,  4.11965512e-03, -3.10494192e-02,  6.94064051e-03,\n",
      "        1.80470925e-02, -2.99985334e-02, -6.89907325e-03,  2.32771769e-01,\n",
      "       -1.28598109e-01,  1.63831070e-01, -8.25492572e-03, -5.63603081e-03,\n",
      "        2.55473796e-02, -1.13482714e-01, -3.07553681e-04,  3.86488177e-02,\n",
      "       -1.03181479e-02,  9.14561674e-02,  7.39618093e-02, -4.35572006e-02,\n",
      "       -6.79804161e-02,  8.28626473e-03, -1.90524142e-02,  5.35377264e-02,\n",
      "       -1.46621212e-01,  1.63747538e-02,  8.56650174e-02,  5.31975478e-02,\n",
      "        2.30051065e-03, -1.87499747e-01, -1.08589768e-01,  1.15572035e-01,\n",
      "       -2.35713669e-03,  6.51938394e-02, -4.86930571e-02, -4.95952405e-02,\n",
      "       -4.45619039e-03, -7.87868723e-03,  4.06149365e-02,  1.66280661e-02,\n",
      "       -2.59125344e-02,  1.90726155e-03, -1.66688208e-02,  1.43145293e-01,\n",
      "       -2.15924922e-02, -8.77526626e-02,  1.12089077e-02,  2.29154481e-03,\n",
      "       -1.83338486e-02, -5.05818799e-02,  1.97818074e-02,  8.24025422e-02,\n",
      "        4.88306992e-02, -5.83792627e-02, -4.61742952e-02, -3.33691463e-02,\n",
      "       -9.49228778e-02,  9.44903344e-02, -1.24208108e-01,  9.05544460e-02,\n",
      "       -6.66336864e-02, -6.60152435e-02, -3.68533167e-03,  1.28512442e-01,\n",
      "        6.37099966e-02,  9.78405103e-02, -5.95396161e-02, -2.79565379e-02,\n",
      "       -1.77334815e-01, -3.10762823e-02,  2.96750050e-02, -5.54239452e-02,\n",
      "        2.15472523e-02, -8.80425051e-02,  4.59738076e-02, -4.47448902e-02,\n",
      "        2.51269583e-02, -3.23247388e-02, -1.64444260e-02, -1.11617465e-02,\n",
      "        7.75517896e-02,  3.94069888e-02, -2.76014265e-02, -6.18242025e-02,\n",
      "       -8.01647753e-02, -9.63775590e-02,  2.31197383e-02, -9.97803360e-02,\n",
      "       -1.05209395e-01,  1.36609212e-01, -7.93292299e-02, -6.31960481e-02,\n",
      "       -8.32667798e-02,  3.16300206e-02, -9.94029790e-02, -2.50130929e-02,\n",
      "       -5.13276942e-02,  1.78760849e-02])), ('lib', array([ 2.27586207e+00,  3.48659004e-02,  2.83800000e+03,  7.42000000e+02,\n",
      "        5.10000000e+01,  1.10000000e+01,  1.10000000e+01,  1.00000000e+00,\n",
      "        0.00000000e+00,  0.00000000e+00,  0.00000000e+00,  0.00000000e+00,\n",
      "        0.00000000e+00,  0.00000000e+00,  0.00000000e+00,  0.00000000e+00,\n",
      "        0.00000000e+00,  0.00000000e+00, -3.20296049e-01,  1.25580072e-01,\n",
      "        4.48112994e-01, -9.68448743e-02,  5.38317785e-02,  9.01837870e-02,\n",
      "        1.64961010e-01, -3.82825375e-01,  7.99075142e-02, -2.89371699e-01,\n",
      "        1.85592249e-02, -7.89389983e-02,  5.31199388e-03, -3.80693704e-01,\n",
      "       -1.23290055e-01, -9.46927741e-02,  8.19370896e-02,  3.99837121e-02,\n",
      "       -3.62512529e-01, -2.30377894e-02, -1.37771994e-01,  2.51450956e-01,\n",
      "        2.83113480e-01,  2.26473600e-01, -1.65671974e-01, -2.25062780e-02,\n",
      "        5.57918511e-02,  9.01188254e-02, -1.20684296e-01,  1.08296193e-01,\n",
      "        1.48668274e-01, -1.82895541e-01, -2.85255939e-01,  4.63135429e-02,\n",
      "       -1.03245303e-01,  9.90798771e-02,  3.28086652e-02, -6.23038784e-02,\n",
      "       -2.11662516e-01, -9.28743109e-02, -2.73517836e-02,  9.43377912e-02,\n",
      "       -6.67516440e-02, -6.45817667e-02, -2.69217454e-02, -1.90094128e-01,\n",
      "        1.95149034e-01,  2.44572442e-02, -1.35925278e-01, -2.04392239e-01,\n",
      "       -1.40580803e-01,  1.77763596e-01, -1.57971039e-01,  7.65262842e-02,\n",
      "       -1.90564811e-01,  1.51134357e-01, -2.92874943e-03,  1.07140444e-01,\n",
      "        7.77990818e-02, -3.13315429e-02,  6.17485270e-02, -2.54035860e-01,\n",
      "       -1.63240731e-01,  2.73329727e-02, -1.88254073e-01, -2.02874228e-01,\n",
      "       -7.16761127e-02, -9.22260433e-02, -1.16198808e-01,  1.16484962e-01,\n",
      "        3.52371961e-01,  1.85517408e-02,  6.77856877e-02,  1.00472853e-01,\n",
      "       -3.35569024e-01,  3.13417725e-02, -2.81206310e-01,  4.35249321e-02,\n",
      "       -1.77745372e-01, -5.07826917e-02, -9.33853090e-02,  1.99363660e-03,\n",
      "        1.86960950e-01, -1.00413494e-01, -3.59717421e-02,  1.07116707e-01,\n",
      "       -2.72883289e-02,  9.37084258e-02, -4.22784500e-02,  2.03787759e-01,\n",
      "       -1.97085664e-02,  5.85672185e-02,  2.68170889e-02, -7.03072697e-02,\n",
      "       -7.61749670e-02,  2.21064594e-02,  5.88842966e-02, -5.35588078e-02,\n",
      "        1.91288695e-01,  1.33918643e-01,  9.52121839e-02, -2.34108821e-01,\n",
      "       -5.64091727e-02, -2.59377081e-02, -1.48366272e-01,  5.44498004e-02,\n",
      "        2.89543290e-02,  2.49811076e-02,  1.23528577e-02, -1.11976303e-01,\n",
      "       -7.14605004e-02,  2.59491384e-01,  2.38413006e-01, -4.69207279e-02,\n",
      "        4.86523584e-02, -1.23008050e-01, -9.71981231e-03,  1.32438354e-02,\n",
      "       -3.63652408e-02, -1.18377218e-04, -1.60272643e-01, -1.17224082e-01,\n",
      "       -2.28838950e-01,  1.69547930e-01,  1.47007778e-01, -2.18032189e-02,\n",
      "        1.00801840e-01,  4.34400849e-02])), ('lib', array([ 2.35714286e+00,  0.00000000e+00,  2.48400000e+03,  7.26000000e+02,\n",
      "        4.90000000e+01,  9.00000000e+00,  8.00000000e+00,  0.00000000e+00,\n",
      "        0.00000000e+00,  0.00000000e+00,  0.00000000e+00,  0.00000000e+00,\n",
      "        0.00000000e+00,  0.00000000e+00,  0.00000000e+00,  0.00000000e+00,\n",
      "        0.00000000e+00,  0.00000000e+00,  8.88664834e-03, -2.41151191e-02,\n",
      "       -6.69482127e-02, -9.86011848e-02,  5.20104952e-02,  7.98661336e-02,\n",
      "        3.11929852e-01,  3.64872701e-02, -2.56240517e-02,  1.43061176e-01,\n",
      "        5.66605739e-02, -1.49105102e-01, -7.63308839e-04, -2.20388949e-01,\n",
      "        4.91510630e-02, -5.05107455e-02,  2.26998236e-02, -1.29350927e-02,\n",
      "       -4.79246452e-02,  1.85955793e-01, -1.93835199e-01, -1.63110197e-01,\n",
      "        1.53316021e-01,  4.76499274e-02,  2.70236358e-02, -9.29256231e-02,\n",
      "       -1.29158378e-01,  1.45890608e-01, -4.05599028e-02,  1.16162293e-01,\n",
      "        1.41950980e-01, -5.17162196e-02,  2.13480800e-01, -1.45505905e-01,\n",
      "        1.40837952e-01,  1.25175253e-01, -1.39961243e-01,  1.24789834e-01,\n",
      "       -4.28277493e-01,  1.57672688e-02,  1.87835973e-02,  1.38811022e-01,\n",
      "        1.17226079e-01, -8.85488018e-02, -8.88489634e-02,  1.36839673e-01,\n",
      "       -6.31810650e-02,  1.81208715e-01, -1.19186923e-01, -3.50304306e-01,\n",
      "       -1.35070071e-01, -8.72794986e-02, -7.52462121e-03,  2.32241914e-01,\n",
      "       -8.22817013e-02, -1.04713477e-01,  2.53593236e-01, -5.55068105e-02,\n",
      "        7.42552727e-02, -1.91042647e-01, -1.19754650e-01,  9.43247378e-02,\n",
      "       -1.16132870e-01,  9.51066092e-02, -1.32088274e-01, -3.48580778e-02,\n",
      "        3.72452065e-02, -4.73567434e-02, -3.26922089e-02, -9.00618955e-02,\n",
      "        2.76684731e-01,  6.20673932e-02,  1.69733927e-01, -9.24325138e-02,\n",
      "        5.29239029e-02, -9.90586579e-02, -2.61176601e-02,  9.96084884e-02,\n",
      "        6.40824810e-02,  2.66056433e-02, -1.36714280e-01, -2.66167975e-04,\n",
      "       -2.93253273e-01,  6.41428158e-02, -4.31881100e-02, -2.80021485e-02,\n",
      "       -1.78139787e-02,  1.46954522e-01,  3.88081595e-02, -1.16092645e-01,\n",
      "       -2.75395840e-01,  6.05123490e-02,  2.74522919e-02, -3.77352536e-02,\n",
      "       -9.04029310e-02, -1.33656830e-01, -2.76509542e-02, -1.47194132e-01,\n",
      "        1.06003666e-02,  2.74607475e-04,  5.39258607e-02, -5.63091077e-02,\n",
      "       -1.66846905e-02, -6.08874112e-02, -6.78067431e-02,  1.08838035e-03,\n",
      "        3.46651417e-04, -1.46719053e-01, -7.73026273e-02, -3.60551924e-02,\n",
      "        1.68312415e-01, -4.32963185e-02, -1.91780366e-02, -4.49943170e-02,\n",
      "        1.28096379e-02, -1.45038581e-02,  1.81644782e-02, -6.59918785e-02,\n",
      "       -8.25688839e-02, -3.05204242e-02, -4.64249328e-02,  1.00017646e-02,\n",
      "       -2.07337931e-01, -6.45080432e-02,  8.36732686e-02, -8.68779793e-02,\n",
      "       -2.88453668e-01,  3.41988616e-02])), ('lib', array([ 2.11111111e+00,  0.00000000e+00,  5.42000000e+02,  2.44000000e+02,\n",
      "        2.40000000e+01,  3.00000000e+00,  3.00000000e+00,  0.00000000e+00,\n",
      "        0.00000000e+00,  0.00000000e+00,  0.00000000e+00,  0.00000000e+00,\n",
      "        0.00000000e+00,  0.00000000e+00,  0.00000000e+00,  0.00000000e+00,\n",
      "        0.00000000e+00,  0.00000000e+00, -2.21751649e-02,  1.15206629e-01,\n",
      "        6.51826710e-02,  1.39076576e-01, -8.55480358e-02, -4.47585508e-02,\n",
      "        1.43257067e-01,  1.53634474e-01,  1.82551444e-02, -1.71350762e-02,\n",
      "       -2.03980375e-02,  5.00546396e-02,  5.69305681e-02, -1.06327105e-02,\n",
      "       -5.17184921e-02,  7.33011588e-02, -6.23030216e-02,  1.06512688e-01,\n",
      "       -1.33098915e-01,  7.67596858e-03,  1.04697794e-01,  7.68002719e-02,\n",
      "       -4.21301164e-02,  2.07666419e-02, -1.04424812e-01, -2.88956556e-02,\n",
      "       -6.64319396e-02, -5.15895076e-02, -1.52558878e-01,  9.87992808e-02,\n",
      "        4.99431491e-02,  7.67272338e-02,  6.82264268e-02, -2.51122378e-02,\n",
      "        1.24857403e-01, -1.30644307e-01, -1.03512928e-01, -3.45311277e-02,\n",
      "       -6.20342381e-02, -1.18238069e-02,  4.60529774e-02,  1.40877634e-01,\n",
      "       -5.80858672e-03,  2.18046039e-01,  9.94232483e-03,  3.12422253e-02,\n",
      "        9.58547369e-02,  1.07315689e-01,  3.37887332e-02,  3.42585370e-02,\n",
      "        3.55094075e-02, -1.59580223e-02, -7.18102828e-02, -1.20097518e-01,\n",
      "       -9.75424498e-02, -5.07118274e-03,  7.38982111e-02,  9.91335139e-02,\n",
      "        4.88891304e-02, -2.57510185e-01,  1.49391145e-02, -7.01473430e-02,\n",
      "       -5.16949371e-02,  7.24713458e-03, -3.83286141e-02,  1.78537183e-02,\n",
      "       -1.00878544e-01, -5.60130142e-02, -4.89200056e-02,  1.54606521e-01,\n",
      "        1.34893239e-01, -1.53499329e-02, -6.18356578e-02,  5.21501079e-02,\n",
      "        1.61477253e-01,  2.51664761e-02,  7.26082623e-02, -2.62419898e-02,\n",
      "       -6.97229207e-02, -1.41535193e-01, -1.36081770e-01,  1.26688480e-01,\n",
      "        7.56909372e-03, -8.87106434e-02, -1.44197091e-01, -8.32117051e-02,\n",
      "        4.26712781e-02,  1.53962389e-01,  2.40405835e-02,  1.36849480e-02,\n",
      "       -1.04763076e-01, -5.10564633e-02, -2.58453027e-03, -6.97435141e-02,\n",
      "       -5.86291589e-02,  1.35968938e-01,  1.13441544e-02,  2.47467160e-02,\n",
      "       -8.00747201e-02,  1.49282189e-02, -8.09510611e-03, -2.42725477e-01,\n",
      "       -8.43758434e-02,  9.71562117e-02, -6.49321005e-02,  1.02193914e-02,\n",
      "       -1.74365733e-02, -3.72702926e-02,  1.59534123e-02, -1.88096557e-02,\n",
      "        4.86662984e-02, -2.45705061e-02, -2.26229783e-02, -9.66449007e-02,\n",
      "        6.78490326e-02,  2.05393992e-02, -1.93714909e-03,  2.83665787e-02,\n",
      "        2.91931201e-02,  1.85823627e-02, -1.26785904e-01,  3.12048923e-02,\n",
      "       -6.18238933e-02, -4.08581123e-02, -9.25139636e-02, -1.07711675e-02,\n",
      "        1.11917876e-01,  5.38977189e-03])), ('lib', array([ 1.87500000e+00,  0.00000000e+00,  3.64000000e+02,  1.82000000e+02,\n",
      "        1.40000000e+01,  0.00000000e+00,  0.00000000e+00,  0.00000000e+00,\n",
      "        0.00000000e+00,  0.00000000e+00,  0.00000000e+00,  0.00000000e+00,\n",
      "        0.00000000e+00,  0.00000000e+00,  0.00000000e+00,  0.00000000e+00,\n",
      "        0.00000000e+00,  0.00000000e+00,  9.07513425e-02,  2.66005397e-01,\n",
      "        1.41229615e-01,  1.55057982e-01, -8.44869986e-02, -1.47002414e-01,\n",
      "        9.18504745e-02, -2.46198773e-01,  6.18579872e-02,  9.94740650e-02,\n",
      "       -7.90425763e-03, -3.48505788e-02,  1.79137602e-01, -3.36553194e-02,\n",
      "       -1.68902338e-01, -7.10220858e-02,  5.20558693e-02, -6.44579306e-02,\n",
      "       -8.85336846e-02,  8.36869702e-02, -4.50430065e-02,  1.97985917e-01,\n",
      "        9.96140465e-02, -1.97872460e-01, -1.75806463e-01,  3.37980688e-02,\n",
      "        1.05949841e-01, -1.75368879e-02, -9.93249714e-02,  3.28692943e-02,\n",
      "        2.11942405e-01, -1.49731234e-01,  1.79955766e-01,  9.22661647e-02,\n",
      "        8.95634219e-02, -5.44651262e-02, -6.13735281e-02,  1.45149603e-01,\n",
      "       -1.68672204e-01, -1.12138605e-02, -2.26216614e-02,  5.24106761e-03,\n",
      "       -1.67865515e-01,  8.19256902e-02, -5.13880476e-02,  1.22335620e-01,\n",
      "       -3.99338268e-02,  1.07573597e-02, -1.27077177e-01, -7.20422938e-02,\n",
      "       -9.21620205e-02,  1.45377859e-01,  2.31428500e-02,  1.26644149e-01,\n",
      "       -5.03717698e-02,  3.66180949e-02,  1.65685490e-01, -1.74552482e-02,\n",
      "       -2.96012405e-02, -1.90990523e-01,  1.47728203e-02, -7.11979270e-02,\n",
      "       -1.42616988e-03, -7.60772750e-02, -1.73469216e-01, -4.13551519e-04,\n",
      "        6.42575249e-02, -3.89888734e-02, -4.21908796e-02, -2.49312576e-02,\n",
      "        1.26384210e-03,  1.82710126e-01,  4.13399972e-02,  5.42524569e-02,\n",
      "       -1.04200676e-01, -5.38936295e-02,  1.08563751e-01,  6.45218268e-02,\n",
      "        7.25435885e-03, -1.72318250e-01, -1.22940853e-01,  1.06567696e-01,\n",
      "       -2.27096267e-02, -6.99537173e-02, -1.11743219e-01,  2.84769572e-02,\n",
      "       -3.07814777e-02,  1.38921306e-01, -1.59300283e-01,  1.88463986e-01,\n",
      "       -1.60804868e-01, -1.43050864e-01, -1.66505635e-01,  1.31585300e-01,\n",
      "        2.83257049e-02,  9.31437090e-02,  3.37349884e-02, -1.88424420e-02,\n",
      "       -6.76217899e-02, -1.17414817e-01, -6.16964735e-02, -3.28935087e-02,\n",
      "        6.25983030e-02, -2.22333968e-01, -2.05182195e-01, -7.80792069e-03,\n",
      "        1.27012834e-01, -8.13239142e-02, -1.02557980e-01, -1.31129697e-01,\n",
      "        3.76532115e-02,  1.30957976e-01, -7.38552511e-02,  3.70036513e-02,\n",
      "        4.96602654e-02, -8.58486518e-02, -6.23601452e-02, -1.62493810e-01,\n",
      "        3.14773023e-02,  4.85399663e-02,  4.56810370e-02,  7.81582519e-02,\n",
      "       -1.12938836e-01, -2.18451358e-02, -3.20502035e-02, -3.80471572e-02,\n",
      "       -1.48696780e-01,  6.41206503e-02])), ('lib', array([ 2.00000000e+00,  0.00000000e+00,  3.65000000e+02,  1.68000000e+02,\n",
      "        1.30000000e+01,  0.00000000e+00,  0.00000000e+00,  0.00000000e+00,\n",
      "        0.00000000e+00,  1.20000000e+01,  1.00000000e+00,  1.00000000e+00,\n",
      "        0.00000000e+00,  0.00000000e+00,  0.00000000e+00,  0.00000000e+00,\n",
      "        0.00000000e+00,  0.00000000e+00, -1.84725225e-02,  7.38249570e-02,\n",
      "        3.29660505e-01, -1.66280553e-01,  3.89800109e-02, -9.43149179e-02,\n",
      "       -3.91767509e-02, -5.58963791e-02,  1.13475420e-01,  1.05512338e-02,\n",
      "        1.42693579e-01,  1.64700806e-01,  1.71016589e-01, -7.30580762e-02,\n",
      "       -1.08809089e-02, -3.72988060e-02, -2.18796432e-02,  3.21239699e-03,\n",
      "       -2.44831935e-01,  1.85092971e-01, -6.35880325e-03,  1.66898161e-01,\n",
      "        7.87460506e-02,  1.53499246e-01, -1.10047786e-02, -1.36744022e-01,\n",
      "       -1.41038112e-02,  2.99781263e-02,  3.48231941e-02,  8.11149180e-02,\n",
      "        2.90409215e-02,  1.12752791e-03,  7.43160099e-02, -1.44785389e-01,\n",
      "        1.24584129e-02, -6.57138079e-02, -7.50390589e-02,  2.36311063e-01,\n",
      "        5.24405129e-02,  4.02926169e-02, -1.30511925e-01, -3.98100726e-02,\n",
      "        5.38276061e-02, -4.07355838e-02, -1.43145043e-02, -6.81260154e-02,\n",
      "        1.22035565e-02,  2.23447397e-01, -5.81293032e-02, -1.11783585e-02,\n",
      "        6.24214448e-02,  6.63244119e-03,  2.73389611e-02, -1.22800611e-01,\n",
      "       -9.41032469e-02,  1.60092235e-01,  1.19738784e-02,  6.81276619e-03,\n",
      "        2.13215984e-02, -4.09469530e-02, -3.67716104e-02, -7.28764832e-02,\n",
      "       -2.12943386e-02, -9.70431715e-02, -1.01642348e-01,  1.28908619e-01,\n",
      "       -2.08104346e-02, -8.36696103e-02, -5.25333686e-03,  1.81196872e-02,\n",
      "        5.77929206e-02,  2.05259874e-01,  6.44545779e-02,  7.68248364e-02,\n",
      "       -1.10107973e-01,  1.27737001e-01,  4.69179302e-02, -2.10732408e-02,\n",
      "       -3.54291424e-02, -8.50067064e-02, -7.47621730e-02, -8.64359140e-02,\n",
      "       -5.72412908e-02, -8.50521326e-02, -4.50809151e-02, -1.93700772e-02,\n",
      "       -6.96284175e-02,  3.02970558e-02,  3.16841714e-02,  4.52042818e-02,\n",
      "       -2.13232487e-01, -2.66921818e-02, -4.85794619e-02,  6.25189580e-03,\n",
      "       -2.34786607e-02,  1.27574891e-01, -9.23399776e-02,  1.46166664e-02,\n",
      "       -1.16995662e-01, -1.44164981e-02,  1.38567500e-02, -6.05800860e-02,\n",
      "        8.30361329e-04,  6.56080320e-02, -3.10499445e-02,  1.57232676e-02,\n",
      "       -1.34129554e-01, -1.65033206e-01,  5.30659109e-02, -1.69017017e-01,\n",
      "        6.72406554e-02,  2.65520126e-01, -1.06461398e-01, -1.76554117e-02,\n",
      "        4.10881862e-02, -7.52616897e-02,  1.82616547e-01, -1.38238609e-01,\n",
      "       -5.91876879e-02,  1.05587188e-02, -1.11784905e-01,  2.72127353e-02,\n",
      "       -2.00727224e-01,  2.22041681e-02, -5.45057422e-03,  1.09965540e-01,\n",
      "       -4.70796861e-02, -1.74189787e-02])), ('lib', array([ 2.37037037e+00,  0.00000000e+00,  2.21900000e+03,  6.20000000e+02,\n",
      "        4.50000000e+01,  8.00000000e+00,  8.00000000e+00,  0.00000000e+00,\n",
      "        0.00000000e+00,  1.70000000e+01,  4.00000000e+00,  4.00000000e+00,\n",
      "        0.00000000e+00,  0.00000000e+00,  0.00000000e+00,  0.00000000e+00,\n",
      "        0.00000000e+00,  0.00000000e+00, -7.50208795e-02, -3.42385173e-02,\n",
      "        1.14615552e-01,  1.87672246e-02,  6.36539236e-02, -1.98521316e-02,\n",
      "        2.37605255e-02, -1.10142022e-01,  5.70058405e-01, -1.94614679e-02,\n",
      "       -1.58926189e-01,  2.65442505e-02,  2.99358368e-01,  6.50133193e-02,\n",
      "        1.11935167e-02, -5.94440568e-03, -1.81434825e-01,  2.56213397e-02,\n",
      "       -1.16293542e-01,  6.96625859e-02, -2.54927486e-01,  1.61365896e-01,\n",
      "       -3.92542817e-02, -8.12019110e-02, -3.09128284e-01, -1.05775267e-01,\n",
      "        7.38109872e-02,  1.43206762e-02, -3.19620445e-02,  1.74546912e-01,\n",
      "       -8.44137650e-03, -1.31118864e-01,  1.62779137e-01,  2.88206246e-02,\n",
      "       -1.20213263e-01, -7.11624622e-02, -1.22146316e-01, -1.72842517e-01,\n",
      "       -1.09003738e-01, -4.44109105e-02,  2.97406409e-03,  1.22871555e-01,\n",
      "        5.32849506e-02, -3.33259292e-02, -2.45949142e-02, -8.14360604e-02,\n",
      "        6.68666735e-02,  1.70058191e-01, -2.40638033e-02,  5.46158813e-02,\n",
      "        8.47319886e-02,  6.65296242e-02, -1.15808964e-01, -1.61049753e-01,\n",
      "       -3.72507423e-01,  1.05615228e-01,  4.94534411e-02, -3.20019163e-02,\n",
      "        1.15192980e-01, -2.27483153e-01,  7.09931478e-02, -2.50200987e-01,\n",
      "       -1.50344912e-02, -7.11170658e-02, -1.01677552e-01, -2.04174131e-01,\n",
      "       -7.78011372e-03, -7.75841027e-02, -1.91085547e-01,  1.23391248e-01,\n",
      "        2.26703063e-01,  8.56656283e-02, -8.68357345e-02,  1.80522501e-02,\n",
      "       -4.22481783e-02, -1.44444197e-01,  2.00352639e-01, -1.68809980e-01,\n",
      "       -7.35508278e-02, -9.21233371e-02, -3.35295409e-01, -1.38771147e-01,\n",
      "        1.33368179e-01, -1.95230901e-01,  6.06244244e-02, -7.69005790e-02,\n",
      "        4.76527475e-02, -9.78390425e-02, -1.17104594e-02,  4.82877165e-01,\n",
      "       -1.66697904e-01, -2.13021487e-01, -2.62790084e-01, -1.06525786e-01,\n",
      "        9.48121250e-02, -6.77964911e-02,  7.79878944e-02, -9.52104181e-02,\n",
      "        5.73449396e-02,  5.96223064e-02, -2.75201142e-01,  5.18195983e-03,\n",
      "       -8.96956474e-02,  7.20844790e-02, -1.24590233e-01, -6.85138851e-02,\n",
      "        1.48128737e-02,  5.74510917e-02, -2.97592618e-02, -8.64323750e-02,\n",
      "        6.93886913e-03,  5.27013056e-02,  1.23731874e-01, -6.47168458e-02,\n",
      "       -1.52824253e-01, -1.99950173e-01,  2.26453077e-02, -1.96176842e-01,\n",
      "       -1.39351800e-01,  1.27068385e-01, -3.30676585e-02, -2.56489161e-02,\n",
      "       -2.48253867e-01, -8.66160076e-03, -6.12830818e-02, -5.75546660e-02,\n",
      "       -1.68620259e-01, -1.47239745e-01])), ('lib', array([ 2.40000000e+00,  7.22222222e-02,  2.62000000e+02,  1.57000000e+02,\n",
      "        1.70000000e+01,  2.00000000e+00,  3.00000000e+00,  1.00000000e+00,\n",
      "        0.00000000e+00,  9.00000000e+00,  2.00000000e+00,  2.00000000e+00,\n",
      "        0.00000000e+00,  0.00000000e+00,  0.00000000e+00,  0.00000000e+00,\n",
      "        0.00000000e+00,  0.00000000e+00, -7.62127489e-02,  1.21669523e-01,\n",
      "        2.05970913e-01,  7.70241022e-02,  5.04101627e-02, -1.78394765e-02,\n",
      "        8.18759203e-02, -1.08155765e-01,  8.74335319e-02, -2.01020479e-01,\n",
      "        3.21061686e-02, -4.48324811e-03, -5.25268726e-02,  1.32394349e-02,\n",
      "        1.17266633e-01,  4.20970991e-02, -8.17267299e-02,  3.59433964e-02,\n",
      "       -6.92597628e-02,  1.81936443e-01, -1.24092869e-01, -2.30257493e-02,\n",
      "        1.50389507e-01,  9.89375450e-03, -1.10368833e-01, -1.45954520e-01,\n",
      "       -8.75055138e-03,  1.72144040e-01, -2.53742635e-01, -1.87777355e-01,\n",
      "        7.04931915e-02, -9.19611976e-02,  3.49842124e-02, -8.15947354e-02,\n",
      "        8.41182191e-04, -1.50994450e-01,  2.86347186e-03,  1.09633557e-01,\n",
      "       -4.75225113e-02,  7.31559023e-02, -7.82881584e-03,  3.07011325e-02,\n",
      "       -1.47615582e-01,  2.32802406e-01, -1.15287609e-01, -7.69113898e-02,\n",
      "        2.39692945e-02, -8.29850957e-02, -1.90717839e-02,  5.33595029e-03,\n",
      "       -1.03601195e-01,  3.65203843e-02,  1.73791930e-01,  4.33741584e-02,\n",
      "       -5.18348403e-02,  8.14085901e-02, -9.44621190e-02,  9.31543782e-02,\n",
      "       -5.35921603e-02, -2.00421140e-01, -8.73150863e-03, -6.40305504e-02,\n",
      "       -8.18911716e-02, -2.89135948e-02,  8.08341312e-04, -1.57531090e-02,\n",
      "       -4.10204381e-02,  1.47927597e-01,  4.81319539e-02, -6.72023073e-02,\n",
      "        7.12288395e-02,  1.32042810e-01,  1.16764745e-02,  4.44758981e-02,\n",
      "       -9.09976214e-02,  3.86808850e-02, -1.57685220e-01, -8.78088474e-02,\n",
      "        1.39604490e-02,  2.02593599e-02, -1.27265230e-01,  3.64222117e-02,\n",
      "        1.80078787e-03,  1.42099917e-01, -7.07978085e-02,  4.06971574e-02,\n",
      "       -2.06113067e-02,  2.98668500e-02, -8.10088441e-02,  1.15550399e-01,\n",
      "       -2.89652664e-02,  3.06714475e-02,  4.00499761e-04,  6.20708019e-02,\n",
      "        9.62168071e-03,  3.44002992e-02, -1.90835781e-02,  3.07166893e-02,\n",
      "       -6.86683580e-02, -4.43728007e-02,  3.06386091e-02,  1.31289633e-02,\n",
      "        1.28133278e-02, -6.63231406e-03,  4.61872714e-03,  1.70162600e-02,\n",
      "       -1.35561496e-01, -4.23389263e-02, -3.88654210e-02, -1.50599226e-01,\n",
      "        1.94653105e-02,  1.21908106e-01,  1.55047867e-02, -6.47382364e-02,\n",
      "       -1.36591652e-02, -6.80847093e-02,  4.92669679e-02, -5.66252619e-02,\n",
      "        2.93617882e-02,  1.21736147e-01,  3.19416709e-02,  1.08669102e-02,\n",
      "       -3.92241850e-02, -6.37495667e-02,  8.33448842e-02, -3.49307880e-02,\n",
      "        2.70415694e-02,  4.53052633e-02])), ('lib', array([ 1.91304348e+00,  0.00000000e+00,  1.33000000e+03,  4.20000000e+02,\n",
      "        2.10000000e+01,  0.00000000e+00,  0.00000000e+00,  0.00000000e+00,\n",
      "        0.00000000e+00,  0.00000000e+00,  0.00000000e+00,  0.00000000e+00,\n",
      "        0.00000000e+00,  0.00000000e+00,  0.00000000e+00,  0.00000000e+00,\n",
      "        0.00000000e+00,  0.00000000e+00,  2.25215048e-01, -1.40894847e-02,\n",
      "        1.32521063e-01, -4.42346707e-02, -1.12497597e-03, -2.12121204e-01,\n",
      "       -4.88221161e-02, -1.63791269e-01,  2.35867109e-02,  2.14340195e-01,\n",
      "       -9.81338620e-02, -3.72812487e-02,  1.62309930e-01,  2.69541889e-02,\n",
      "        2.61373864e-03, -1.91466853e-01, -5.37675340e-03,  2.98235208e-01,\n",
      "       -3.49336863e-01,  7.20451549e-02,  7.40086809e-02, -1.19668052e-01,\n",
      "       -1.07006833e-01, -2.88032126e-02, -6.63180351e-02, -1.05948821e-01,\n",
      "        1.59059390e-01, -2.66656339e-01, -1.41959354e-01,  4.71535325e-02,\n",
      "       -2.27096174e-02,  8.18705782e-02,  1.47045637e-02,  6.11585844e-03,\n",
      "       -3.28105353e-02, -9.83311310e-02,  2.00796068e-01,  1.47752658e-01,\n",
      "       -1.38056085e-01,  3.86526674e-01,  1.91736311e-01,  7.80776963e-02,\n",
      "       -1.08685186e-02, -4.29696925e-02,  3.05566229e-02, -1.00775890e-01,\n",
      "        8.62068832e-02,  6.35734275e-02, -5.36799952e-02, -3.85716707e-02,\n",
      "       -8.09358284e-02,  1.37514412e-01,  4.68088984e-02, -2.58858576e-02,\n",
      "       -2.55879611e-01,  1.78590193e-01,  1.34690180e-01,  1.61987215e-01,\n",
      "        1.69169188e-01, -9.21970308e-02,  1.37357652e-01, -7.70822987e-02,\n",
      "       -6.63635880e-02,  5.80286570e-02, -1.64546758e-01,  1.88905261e-02,\n",
      "       -3.85077298e-02, -1.98341683e-01, -1.26086488e-01,  1.74406439e-01,\n",
      "        6.06931224e-02,  2.33354017e-01,  2.29297136e-03,  1.77170768e-01,\n",
      "        2.75615952e-03,  3.59255858e-02,  5.25226332e-02, -9.08583552e-02,\n",
      "       -1.00806713e-01, -1.51375994e-01, -1.28939673e-01,  1.28738791e-01,\n",
      "       -9.01283696e-02, -1.79735288e-01, -1.89601466e-01, -6.39579445e-02,\n",
      "       -6.98347539e-02,  2.07484409e-01, -6.47818968e-02, -8.82679597e-02,\n",
      "        1.96308037e-03,  6.73200190e-02, -5.85796647e-02,  9.61215422e-02,\n",
      "        1.28355354e-01,  1.33324355e-01,  1.65845618e-01, -4.65268157e-02,\n",
      "       -1.33823022e-01, -1.52509764e-01,  2.91238189e-01, -1.08974256e-01,\n",
      "        3.54421791e-03, -1.17424831e-01, -1.40733138e-01, -7.11070001e-02,\n",
      "       -1.25647550e-02,  4.03454863e-02, -1.22245379e-01,  2.44797319e-01,\n",
      "       -1.15686506e-01,  1.70667619e-01, -2.10499302e-01,  6.13806769e-02,\n",
      "       -5.62671460e-02,  1.08689964e-01,  9.56834257e-02, -3.56851891e-02,\n",
      "       -7.60348365e-02, -2.31922995e-02,  1.15800530e-01, -9.13022384e-02,\n",
      "        1.74732860e-02, -4.22733910e-02,  1.46707058e-01,  3.26229483e-02,\n",
      "        7.45542273e-02,  2.99508542e-01])), ('lib', array([ 2.00000000e+00,  0.00000000e+00,  1.59000000e+02,  1.11000000e+02,\n",
      "        1.40000000e+01,  1.00000000e+00,  1.00000000e+00,  0.00000000e+00,\n",
      "        0.00000000e+00,  0.00000000e+00,  0.00000000e+00,  0.00000000e+00,\n",
      "        0.00000000e+00,  0.00000000e+00,  0.00000000e+00,  0.00000000e+00,\n",
      "        0.00000000e+00,  0.00000000e+00, -4.96678688e-02,  2.11345673e-01,\n",
      "        2.55959958e-01,  8.64952579e-02,  1.33283287e-01, -1.24930635e-01,\n",
      "        6.26692250e-02, -6.96088821e-02,  2.62312172e-03,  1.19798724e-02,\n",
      "        9.13422257e-02,  1.19725190e-01,  7.41941705e-02, -3.65805589e-02,\n",
      "        6.89373910e-03, -8.22179194e-04, -9.11519900e-02,  8.20838362e-02,\n",
      "       -1.83135420e-01,  7.55432770e-02, -1.19807888e-02,  8.63884389e-02,\n",
      "        1.13422692e-01,  1.39036411e-02,  4.77185706e-03, -7.51423314e-02,\n",
      "       -1.35277078e-01, -9.08202231e-02,  7.48747364e-02, -1.16704106e-02,\n",
      "        2.77763829e-02, -1.07664205e-01,  2.51791067e-02,  1.19829476e-01,\n",
      "        1.22469731e-01, -1.58335611e-01, -3.42234001e-02,  7.52255246e-02,\n",
      "       -4.34223749e-02,  7.56859255e-04,  1.10597745e-01,  1.73653439e-01,\n",
      "       -1.23089947e-01, -8.06372613e-03,  2.90359161e-03,  1.08481228e-01,\n",
      "       -8.91284738e-03,  6.08498380e-02,  7.98226148e-02,  7.08314106e-02,\n",
      "        8.51861667e-03, -4.90811579e-02, -1.23189531e-01, -7.39328563e-02,\n",
      "        3.79088521e-02,  1.76144674e-01, -4.83432561e-02,  1.43964112e-01,\n",
      "       -3.24943066e-02, -2.95455311e-03,  1.25327427e-02, -1.13723144e-01,\n",
      "        1.38290197e-01, -3.34400237e-02,  4.05794829e-02, -3.84531617e-02,\n",
      "       -5.24766557e-02,  1.49720563e-02,  5.49790971e-02,  4.65820804e-02,\n",
      "        9.13431868e-02,  1.73011962e-02,  5.44976108e-02, -6.85785338e-03,\n",
      "       -1.06855080e-01, -9.63897035e-02,  1.06433248e-02, -7.77608156e-02,\n",
      "        9.38930213e-02, -1.80431426e-01, -7.85216391e-02,  3.34189460e-02,\n",
      "       -7.12229460e-02, -1.32884338e-01, -2.28363484e-01,  4.25044969e-02,\n",
      "       -1.04351252e-01,  1.49287120e-01, -1.46349445e-01,  1.67677417e-01,\n",
      "        7.65605830e-03,  5.15371785e-02, -2.87859868e-02,  1.28538921e-01,\n",
      "        8.42043832e-02,  2.05368817e-01,  4.32500057e-03,  1.32751569e-01,\n",
      "       -5.29771373e-02, -2.85678878e-02, -8.37497227e-03, -1.22902147e-01,\n",
      "        1.65727183e-01, -1.94737524e-01,  1.81517284e-02,  4.82824929e-02,\n",
      "        6.59437701e-02,  6.58943430e-02, -5.87005801e-02, -1.86647028e-01,\n",
      "       -3.47402366e-03, -1.30517287e-02, -4.24953252e-02, -7.00139403e-02,\n",
      "       -1.10397711e-01, -6.10452928e-02, -3.51926163e-02,  2.19247211e-02,\n",
      "        3.12052965e-02,  1.33544356e-01, -9.37281027e-02,  3.29093635e-02,\n",
      "       -7.84886107e-02,  6.06082566e-02,  7.68064242e-03, -3.49865369e-02,\n",
      "        6.50098398e-02, -9.83287469e-02])), ('lib', array([ 2.00000000e+00,  0.00000000e+00,  8.03000000e+02,  3.14000000e+02,\n",
      "        2.10000000e+01,  1.00000000e+00,  1.00000000e+00,  0.00000000e+00,\n",
      "        0.00000000e+00,  0.00000000e+00,  0.00000000e+00,  0.00000000e+00,\n",
      "        0.00000000e+00,  0.00000000e+00,  0.00000000e+00,  0.00000000e+00,\n",
      "        0.00000000e+00,  0.00000000e+00, -1.56528298e-02,  1.53328804e-03,\n",
      "        1.96478888e-01,  1.35839060e-01, -4.21009405e-04, -1.55380458e-01,\n",
      "        5.56570552e-02,  2.58910581e-02,  3.21561173e-02,  2.75384467e-02,\n",
      "        6.93656057e-02, -7.58390501e-02, -1.07272752e-01, -1.78450420e-01,\n",
      "       -6.22348785e-02, -1.79956317e-01, -4.68699262e-02, -4.30733450e-02,\n",
      "        5.17911874e-02, -8.19411501e-03, -1.26061857e-01, -9.12936311e-03,\n",
      "       -9.14658979e-02, -1.09528482e-01, -2.07901850e-01,  1.49689838e-01,\n",
      "        5.19867660e-03, -6.40677065e-02,  1.48648322e-01,  7.12451413e-02,\n",
      "        2.90946346e-02, -1.69573605e-01,  5.51591851e-02, -7.65697286e-03,\n",
      "        4.08505611e-02, -3.12884040e-02, -8.68754908e-02, -2.97246221e-02,\n",
      "       -8.27990994e-02,  7.96680991e-03,  9.62091386e-02,  1.38677448e-01,\n",
      "       -6.54925779e-02,  1.29984826e-01, -9.29542035e-02,  4.39423285e-02,\n",
      "       -1.26831811e-02,  1.45029873e-01, -7.92547092e-02,  3.06579676e-02,\n",
      "        4.32614088e-02,  8.33078474e-03, -6.10427968e-02,  1.07171483e-01,\n",
      "       -1.18532382e-01,  3.19754966e-02,  2.18358651e-01,  5.73603390e-03,\n",
      "        1.36287455e-02, -2.23253131e-01,  5.95439300e-02, -1.26175821e-01,\n",
      "       -8.87842923e-02, -1.59799293e-01, -1.41494080e-01, -5.28939776e-02,\n",
      "       -6.31294250e-02,  9.69176646e-03, -1.60720721e-01,  8.48579183e-02,\n",
      "       -6.60041915e-05,  1.69240858e-03, -2.22618833e-01,  3.81335467e-01,\n",
      "        1.55140027e-01, -1.96913704e-02, -1.39657438e-01, -3.71148251e-03,\n",
      "        2.13596248e-03, -1.82407692e-01,  1.08016886e-01, -6.53066337e-02,\n",
      "        5.21605872e-02, -1.55257553e-01,  1.59026325e-01, -6.59477636e-02,\n",
      "        5.30308969e-02,  6.26135021e-02, -2.81856716e-01, -5.23261167e-02,\n",
      "        1.24539763e-01, -6.08412139e-02,  1.12008557e-01,  2.21333265e-01,\n",
      "        2.68276408e-02,  1.16916254e-01,  1.32589797e-02,  2.07188234e-04,\n",
      "       -1.53422832e-01, -7.61610419e-02, -5.14296908e-03,  1.09283268e-01,\n",
      "       -9.63254869e-02, -2.27674112e-01, -3.29480439e-01,  9.69339311e-02,\n",
      "       -1.95493758e-01, -6.75628111e-02,  1.33477956e-01, -2.56393671e-01,\n",
      "       -7.54757375e-02,  2.03193381e-01, -1.51905924e-01,  7.30844960e-02,\n",
      "        1.63161770e-01, -9.71675664e-03, -4.60933484e-02, -8.69729370e-02,\n",
      "        1.96516797e-01, -1.27772734e-01, -4.81156223e-02, -1.41818170e-02,\n",
      "       -1.20034590e-01,  2.09623903e-01,  6.52988702e-02,  1.71494542e-03,\n",
      "       -2.44327441e-01,  1.47842169e-01])), ('lib', array([ 2.07142857e+00,  0.00000000e+00,  2.55800000e+03,  6.82000000e+02,\n",
      "        3.20000000e+01,  2.00000000e+00,  2.00000000e+00,  0.00000000e+00,\n",
      "        0.00000000e+00,  0.00000000e+00,  0.00000000e+00,  0.00000000e+00,\n",
      "        0.00000000e+00,  0.00000000e+00,  0.00000000e+00,  0.00000000e+00,\n",
      "        0.00000000e+00,  0.00000000e+00,  9.53694135e-02, -1.96793699e-03,\n",
      "        2.45624512e-01,  1.22438557e-01,  1.66097686e-01,  4.08102870e-01,\n",
      "        2.34362200e-01,  5.56040667e-02,  1.11033298e-01, -1.53312936e-01,\n",
      "       -1.21894749e-02, -2.57122964e-01,  2.03184918e-01, -4.20935303e-02,\n",
      "       -3.67260948e-02,  3.65596972e-02, -1.39659911e-01, -7.34571218e-02,\n",
      "       -1.58409387e-01,  1.47283599e-01, -2.33014837e-01,  2.82385081e-01,\n",
      "       -1.55581143e-02,  3.28534395e-01,  1.24196179e-01,  8.73042420e-02,\n",
      "       -1.74100861e-01, -4.12227623e-02, -5.55430390e-02,  1.56844094e-01,\n",
      "        6.75172433e-02, -2.63839602e-01,  5.25101237e-02,  1.72393441e-01,\n",
      "        1.05647221e-02, -5.20087779e-02,  7.04481155e-02, -1.72910810e-01,\n",
      "        4.28430475e-02,  1.58142865e-01, -9.13822725e-02, -4.91532907e-02,\n",
      "       -7.28406012e-02, -5.29311672e-02,  8.09775665e-02,  1.43062294e-01,\n",
      "       -1.02055334e-01,  1.45397022e-01,  5.26357740e-02,  3.10267452e-02,\n",
      "       -2.09723543e-02, -6.62825815e-03, -8.51583034e-02,  6.27105236e-02,\n",
      "       -3.43457758e-01, -1.55632431e-02,  8.10280070e-02, -3.47184064e-03,\n",
      "       -1.83800086e-01,  2.06005257e-02,  3.36711943e-01, -2.48635337e-02,\n",
      "        9.54257175e-02,  9.11690444e-02,  9.04648378e-02, -8.12525153e-02,\n",
      "        1.08469933e-01,  8.35182294e-02,  1.75231546e-01, -1.03584334e-01,\n",
      "        1.19591877e-01, -4.97935861e-02, -1.40454754e-01,  4.24531773e-02,\n",
      "       -9.96929109e-02, -6.92301095e-02,  4.34262380e-02, -7.37368986e-02,\n",
      "       -1.79967329e-01,  1.31681219e-01,  6.22425452e-02, -1.18637066e-02,\n",
      "       -1.14751607e-01,  7.01540112e-02, -8.86493996e-02, -5.90215400e-02,\n",
      "        2.56003495e-02,  1.23359188e-01, -1.33267894e-01,  1.44865736e-01,\n",
      "        8.60463269e-03,  3.80940177e-02, -4.11595078e-03, -5.13941236e-02,\n",
      "       -2.51574934e-01,  4.87892190e-03, -5.47481216e-02,  7.45008886e-02,\n",
      "        1.12003483e-01,  1.24498151e-01,  8.51928368e-02,  1.35986051e-02,\n",
      "        2.64417350e-01, -9.81424376e-03, -2.04640836e-01,  2.09281333e-02,\n",
      "        5.70774972e-02,  3.32448841e-03, -4.74408343e-02, -1.45670492e-02,\n",
      "        1.16490358e-02,  1.37733132e-01, -8.61878246e-02,  1.00407422e-01,\n",
      "        1.05772517e-03,  7.74927139e-02,  1.36910617e-01, -5.17495535e-02,\n",
      "        3.77836823e-02, -3.22088040e-02,  1.05504945e-01, -2.27532070e-02,\n",
      "       -6.43041804e-02, -6.33329377e-02, -6.92902177e-07, -8.84595737e-02,\n",
      "       -3.68568897e-02,  1.24971002e-01])), ('lib', array([ 2.35714286e+00,  0.00000000e+00,  2.49900000e+03,  7.00000000e+02,\n",
      "        4.00000000e+01,  5.00000000e+00,  6.00000000e+00,  0.00000000e+00,\n",
      "        0.00000000e+00,  2.20000000e+01,  2.00000000e+00,  2.00000000e+00,\n",
      "        0.00000000e+00,  0.00000000e+00,  0.00000000e+00,  0.00000000e+00,\n",
      "        0.00000000e+00,  0.00000000e+00,  1.75373971e-01,  5.69996238e-02,\n",
      "       -2.94178575e-02, -1.37089774e-01, -8.21811110e-02, -7.50969574e-02,\n",
      "       -4.69127782e-02, -1.07908130e-01, -5.06562814e-02,  1.97849944e-01,\n",
      "       -8.36970210e-02,  1.58864737e-01,  5.50528765e-02, -1.47162467e-01,\n",
      "       -2.24988520e-01,  2.37105414e-02,  1.85532436e-01, -1.54452652e-01,\n",
      "        8.93931538e-02, -1.23377919e-01, -4.93754685e-01,  4.26261546e-03,\n",
      "       -9.77709144e-02, -1.21413939e-01, -7.80611485e-02,  3.64207588e-02,\n",
      "        1.03563502e-01, -1.39844894e-01, -1.40059590e-01, -1.71498209e-01,\n",
      "       -7.87197277e-02, -1.50364786e-01,  3.34194332e-01,  1.86583981e-01,\n",
      "       -1.18994862e-02,  3.11895370e-01, -7.73960128e-02,  2.10579157e-01,\n",
      "       -1.36881053e-01, -2.40833491e-01,  2.81253811e-02,  2.56453902e-01,\n",
      "        9.48970690e-02,  2.90121753e-02,  3.47800106e-02, -8.50417316e-02,\n",
      "       -1.48089275e-01,  9.78934206e-03, -1.06890239e-01,  1.55721813e-01,\n",
      "       -1.04280911e-01,  1.03028543e-01, -1.59963965e-01,  8.59361812e-02,\n",
      "       -4.72031161e-02, -1.32377476e-01,  2.42104754e-01, -4.20877449e-02,\n",
      "       -7.72190243e-02, -2.24877611e-01, -1.91184759e-01,  1.85228363e-01,\n",
      "       -7.83655643e-02, -3.97671908e-01, -1.59638792e-01, -1.22610576e-01,\n",
      "       -6.29406124e-02, -1.07885092e-01,  1.55061588e-01,  1.42666204e-02,\n",
      "        1.87991291e-01,  1.43678963e-01,  2.28751883e-01, -4.79819393e-03,\n",
      "       -1.81635514e-01, -2.49467492e-01, -8.49461369e-03,  4.86305170e-02,\n",
      "        1.62347704e-01,  8.74857828e-02,  1.71957701e-01,  2.35188566e-03,\n",
      "        1.43253475e-01, -4.05649059e-02, -7.18561932e-02,  2.79902946e-02,\n",
      "       -1.77275464e-01, -1.32457376e-01,  1.21580437e-01, -8.88563879e-03,\n",
      "       -1.83349371e-01, -1.69194132e-01, -3.02768927e-02,  2.01997116e-01,\n",
      "        7.74069130e-02,  5.78574874e-02,  4.88399668e-03,  8.20576847e-02,\n",
      "       -2.16607019e-01,  1.07630022e-01, -1.28090933e-01,  1.35232538e-01,\n",
      "        1.97635755e-01,  3.90184931e-02, -5.24593554e-02, -2.21355259e-01,\n",
      "        2.43475378e-01, -2.95552406e-02, -1.15405589e-01, -2.22108290e-01,\n",
      "        2.86018372e-01,  2.74030864e-01,  1.87252060e-01, -2.50403464e-01,\n",
      "       -9.68512371e-02, -1.86934561e-01, -1.23620249e-01,  1.35150239e-01,\n",
      "        5.14991768e-02,  2.14759424e-01, -2.24400703e-02, -3.89506258e-02,\n",
      "       -1.25950724e-01,  1.21799573e-01,  1.15595022e-02, -6.70772642e-02,\n",
      "       -2.45188534e-01, -3.21087129e-02])), ('lib', array([ 2.21428571e+00,  0.00000000e+00,  2.52000000e+03,  7.06000000e+02,\n",
      "        4.00000000e+01,  5.00000000e+00,  5.00000000e+00,  0.00000000e+00,\n",
      "        0.00000000e+00,  0.00000000e+00,  0.00000000e+00,  0.00000000e+00,\n",
      "        0.00000000e+00,  0.00000000e+00,  0.00000000e+00,  0.00000000e+00,\n",
      "        0.00000000e+00,  0.00000000e+00,  1.01606786e-01,  5.22219241e-01,\n",
      "        3.62704992e-01,  2.66418725e-01, -3.56976390e-02,  2.44142562e-01,\n",
      "        3.50288481e-01,  4.55557406e-02,  1.46410704e-01,  1.78033948e-01,\n",
      "        1.88755244e-01,  1.69726387e-02,  2.33899161e-01, -1.94454625e-01,\n",
      "       -1.38054952e-01, -6.35678396e-02,  2.40406960e-01, -9.37073678e-02,\n",
      "       -1.50040552e-01,  1.11264102e-02,  1.34215921e-01,  1.82095662e-01,\n",
      "        2.22656712e-01,  2.82111526e-01, -5.98607436e-02,  4.81094569e-02,\n",
      "        8.15007985e-02, -2.43678451e-01, -1.28002614e-01, -1.29269451e-01,\n",
      "        1.21517755e-01, -2.70463258e-01,  1.11979820e-01, -2.19495408e-02,\n",
      "       -2.92675704e-01,  7.08822161e-02,  2.12366506e-01,  9.60441083e-02,\n",
      "        1.28340691e-01, -1.02553599e-01, -7.34112179e-03,  1.21220022e-01,\n",
      "       -2.20605940e-01,  1.60699396e-03, -2.57752091e-01, -3.05845123e-02,\n",
      "        1.17669933e-01, -8.92714784e-02,  1.89418554e-01, -4.51909788e-02,\n",
      "       -1.40452668e-01,  1.43400103e-01, -1.24834992e-01, -1.17835179e-01,\n",
      "       -9.16147754e-02,  2.61487588e-02, -1.88126609e-01, -1.91562083e-02,\n",
      "       -3.48751366e-01, -1.61360815e-01,  1.31318849e-02, -4.46411967e-02,\n",
      "        3.68086807e-02, -1.63012207e-01, -2.88727194e-01,  1.24897115e-01,\n",
      "       -1.07115269e-01,  3.46263163e-02, -2.64175296e-01,  1.60467193e-01,\n",
      "        1.71706248e-02, -5.54753700e-03,  1.39024824e-01, -2.13737667e-01,\n",
      "        1.08773120e-01,  4.45491076e-02,  2.28618518e-01, -3.12400926e-02,\n",
      "        6.67016357e-02, -4.65110783e-03, -1.05352484e-01, -8.72369669e-03,\n",
      "       -5.42900041e-02,  7.86522180e-02, -7.58985355e-02, -1.12411067e-01,\n",
      "       -1.52302217e-02,  5.60407415e-02, -1.39655545e-01, -2.16509569e-02,\n",
      "        1.26912251e-01, -1.22962266e-01,  3.43685895e-02, -9.94370952e-02,\n",
      "        7.95445740e-02,  1.31430253e-01, -9.02691036e-02,  4.13990133e-02,\n",
      "       -1.24494098e-01, -1.88058019e-01, -1.51869655e-01, -1.50186613e-01,\n",
      "       -1.55175077e-02, -8.00609738e-02, -4.18853611e-02,  2.13900909e-01,\n",
      "       -1.85203686e-01,  3.89512293e-02,  1.00997351e-01, -1.25586778e-01,\n",
      "        5.88425957e-02,  1.18090875e-01,  1.32199466e-01,  1.79890707e-01,\n",
      "       -1.78364351e-01, -2.19424099e-01,  6.74719810e-02, -1.22189723e-01,\n",
      "       -1.66373712e-03,  2.15174034e-01, -1.96275502e-01,  1.98124126e-01,\n",
      "        6.02876656e-02,  8.87736306e-02,  1.78209245e-01, -1.49223888e-02,\n",
      "        3.09752915e-02,  6.89401627e-02])), ('lib', array([ 2.26086957e+00,  0.00000000e+00,  1.27000000e+03,  4.56000000e+02,\n",
      "        3.50000000e+01,  5.00000000e+00,  5.00000000e+00,  0.00000000e+00,\n",
      "        0.00000000e+00,  0.00000000e+00,  0.00000000e+00,  0.00000000e+00,\n",
      "        0.00000000e+00,  0.00000000e+00,  0.00000000e+00,  0.00000000e+00,\n",
      "        0.00000000e+00,  0.00000000e+00, -1.36557385e-01,  9.87798795e-02,\n",
      "        6.25368878e-02,  1.90236010e-02,  2.07335889e-01, -3.15773457e-01,\n",
      "        3.30368541e-02, -9.01610255e-02,  1.01141810e-01,  5.17522283e-02,\n",
      "        1.12022273e-02, -1.14947520e-01,  5.65188080e-02, -1.07269019e-01,\n",
      "       -5.49407192e-02, -1.11695349e-01,  1.24288015e-01,  5.02016135e-02,\n",
      "       -1.06853545e-01, -5.14379218e-02, -1.13174453e-01,  9.73885432e-02,\n",
      "       -1.90729946e-02,  4.59664427e-02, -3.55104767e-02, -7.76959136e-02,\n",
      "        1.08246721e-01, -1.62028745e-01, -6.09836876e-02,  3.19192298e-02,\n",
      "        2.61417955e-01, -6.08594157e-02, -1.10217549e-01,  8.57681856e-02,\n",
      "        1.32873699e-01,  5.01882471e-02,  2.47737139e-01,  1.51047874e-02,\n",
      "       -1.94843262e-02,  3.21498290e-02, -5.03374822e-02, -1.44129336e-01,\n",
      "        1.98912740e-01, -1.69918820e-01, -1.24595724e-01,  1.77610174e-01,\n",
      "       -1.38607711e-01,  4.93274033e-02, -1.10072158e-01,  6.79568350e-02,\n",
      "        1.02360643e-01, -5.09199239e-02, -1.92770548e-02, -1.10690780e-01,\n",
      "       -2.56198645e-01, -1.75635695e-01,  6.80095404e-02, -3.16205472e-02,\n",
      "        3.36336568e-02, -1.48782030e-01, -1.72630116e-01,  4.00961079e-02,\n",
      "        1.59263797e-02, -5.03919423e-02, -1.28780961e-01, -1.85255527e-01,\n",
      "        2.32492402e-01, -8.12542737e-02, -2.26685226e-01, -1.98606417e-01,\n",
      "        1.61422655e-01,  3.58362079e-01,  6.29725084e-02,  8.49584937e-02,\n",
      "       -4.81859632e-02, -1.04466870e-01,  1.74469486e-01, -1.20228576e-02,\n",
      "       -3.99093665e-02, -1.04220159e-01,  2.54032165e-02,  1.05293654e-01,\n",
      "        1.46622479e-01, -3.02121602e-02, -6.19355403e-02,  1.06872216e-01,\n",
      "        1.04181319e-01,  2.32437551e-01,  1.11579686e-01,  2.66328659e-02,\n",
      "       -1.18637465e-01, -3.11829685e-03,  1.46193430e-02,  2.32492849e-01,\n",
      "        1.44374080e-03, -1.79559678e-01, -5.67916408e-02, -9.43632722e-02,\n",
      "       -2.33306274e-01,  3.32026451e-04, -1.85889229e-01, -1.19232133e-01,\n",
      "       -6.04105331e-02, -2.64720052e-01, -9.34664682e-02,  2.39113774e-02,\n",
      "        4.97526228e-02, -5.17862961e-02,  1.77710518e-01,  1.90504968e-01,\n",
      "        2.29740832e-02,  7.37587586e-02, -3.86201963e-02,  2.80661844e-02,\n",
      "       -1.47693409e-02, -9.18478146e-02,  1.22108772e-01, -8.46203715e-02,\n",
      "        9.85361040e-02,  9.78008378e-03,  5.75171337e-02, -5.04114144e-02,\n",
      "       -2.71818489e-01,  3.99656631e-02,  2.05859076e-02,  4.00779732e-02,\n",
      "       -1.69527903e-01, -8.59412327e-02])), ('lib', array([ 2.32000000e+00,  8.48095238e-02,  1.69400000e+03,  5.48000000e+02,\n",
      "        3.90000000e+01,  8.00000000e+00,  8.00000000e+00,  2.00000000e+00,\n",
      "        1.00000000e+00,  0.00000000e+00,  0.00000000e+00,  0.00000000e+00,\n",
      "        0.00000000e+00,  0.00000000e+00,  0.00000000e+00,  0.00000000e+00,\n",
      "        0.00000000e+00,  0.00000000e+00, -2.28213266e-01, -1.79903775e-01,\n",
      "       -1.60788447e-01,  2.78732896e-01, -9.11039114e-02, -1.30454153e-01,\n",
      "        1.06845960e-01, -1.96996868e-01,  1.16269499e-01,  2.74872631e-01,\n",
      "        8.15636814e-02,  2.09339291e-01,  1.51365856e-02,  4.53305431e-03,\n",
      "       -1.72871426e-01, -3.45945746e-01,  4.73787785e-02,  2.04604603e-02,\n",
      "        1.46312520e-01,  2.11612508e-02, -2.13293955e-01, -9.95858666e-03,\n",
      "        2.23520562e-01, -1.96031511e-01, -1.16442114e-01, -9.83950403e-03,\n",
      "       -2.36755192e-01, -1.50782853e-01,  5.35509512e-02,  1.27724307e-02,\n",
      "        8.07388276e-02,  2.56698102e-01, -4.31882478e-02, -5.87950945e-02,\n",
      "       -2.37396017e-01, -1.70454130e-01, -1.55888170e-01, -1.40121236e-01,\n",
      "       -1.10592313e-01, -2.14306042e-01,  3.36797714e-01,  7.60962814e-02,\n",
      "       -2.08496243e-01,  1.36417598e-01, -9.24784169e-02,  3.13418716e-01,\n",
      "        3.58833675e-03,  2.13195577e-01, -7.31171593e-02, -2.91720200e-02,\n",
      "       -2.18915567e-02,  2.39085946e-02, -2.04015270e-01, -1.90571025e-01,\n",
      "       -1.37632057e-01,  1.76478997e-01,  1.85861796e-01, -1.54473096e-01,\n",
      "       -2.06843555e-01, -2.45400846e-01,  7.37837926e-02,  8.29480588e-02,\n",
      "        2.04616841e-02,  5.84517494e-02,  1.07838742e-01,  1.96636871e-01,\n",
      "       -3.34405922e-03, -3.29031162e-02, -5.83603140e-03, -8.59120302e-03,\n",
      "        6.85177883e-03,  9.61371735e-02, -1.87709317e-01,  7.45494440e-02,\n",
      "       -1.22188702e-01, -2.59096712e-01,  1.62129954e-01,  1.37982562e-01,\n",
      "        3.55700523e-01,  1.93415627e-01,  5.16242310e-02,  4.74522375e-02,\n",
      "        8.81145000e-02,  1.51718527e-01,  1.27945811e-01,  2.66448200e-01,\n",
      "        4.30164672e-02,  1.17735542e-01,  4.84505072e-02,  2.62591004e-01,\n",
      "        6.69624805e-02,  5.33514731e-02, -2.42821902e-01, -7.82096088e-02,\n",
      "       -7.23522902e-02, -1.54977702e-02, -1.18516851e-02, -1.49055002e-02,\n",
      "       -1.57924760e-02, -9.18027014e-02, -2.22660542e-01, -2.26687312e-01,\n",
      "       -6.17954955e-02, -1.94238842e-01, -2.35836282e-01, -1.16213635e-01,\n",
      "        2.86373556e-01, -2.41346985e-01,  3.34171094e-02, -9.57946852e-02,\n",
      "        4.34720889e-02,  1.87365159e-01,  8.33073482e-02,  4.02734339e-01,\n",
      "        1.13934472e-01, -2.15852618e-01,  5.60308062e-02,  1.06676385e-01,\n",
      "        1.30625352e-01, -4.09265980e-02, -1.08783089e-01, -1.65265754e-01,\n",
      "       -6.55854195e-02, -1.05129346e-01, -1.30597904e-01, -3.48701850e-02,\n",
      "       -2.08221883e-01,  1.01113627e-02])), ('lib', array([ 2.00000000e+00,  0.00000000e+00,  1.52300000e+03,  4.74000000e+02,\n",
      "        2.50000000e+01,  1.00000000e+00,  1.00000000e+00,  0.00000000e+00,\n",
      "        0.00000000e+00,  0.00000000e+00,  0.00000000e+00,  0.00000000e+00,\n",
      "        0.00000000e+00,  0.00000000e+00,  0.00000000e+00,  0.00000000e+00,\n",
      "        0.00000000e+00,  0.00000000e+00,  1.18607983e-01,  2.86845833e-01,\n",
      "        2.98648655e-01,  1.00580141e-01, -1.10424221e-01, -3.85217667e-01,\n",
      "        1.05824508e-01, -3.64573568e-01,  3.25899720e-01, -1.81720592e-02,\n",
      "       -4.37009893e-02, -1.37852594e-01,  1.07292188e-02, -1.98324174e-01,\n",
      "       -1.44440368e-01, -1.67821690e-01, -1.70437377e-02, -8.88746828e-02,\n",
      "       -2.07816988e-01,  1.46368027e-01, -1.66972876e-01,  1.31973341e-01,\n",
      "       -1.30862102e-01, -2.38402516e-01, -1.23648956e-01,  1.10958822e-01,\n",
      "       -9.91565362e-02, -2.15430647e-01, -1.26713008e-01, -2.50318851e-02,\n",
      "        9.77136642e-02, -8.77644271e-02, -6.66347742e-02,  1.73854064e-02,\n",
      "        1.38600543e-01,  1.89581722e-01,  1.40198499e-01,  1.12682484e-01,\n",
      "       -1.07082926e-01,  1.54306933e-01, -1.44162178e-01,  5.81934862e-03,\n",
      "       -2.42196098e-01,  7.30936825e-02, -7.82183707e-02,  2.80195504e-01,\n",
      "       -3.92816961e-02,  1.50457412e-01, -4.94031683e-02,  1.03276618e-01,\n",
      "       -6.95578307e-02,  1.53000653e-01,  2.88925087e-03, -1.63678631e-01,\n",
      "       -1.74823195e-01, -2.16386560e-02,  1.32597014e-01,  6.23017885e-02,\n",
      "       -1.04472801e-01, -7.16197193e-02, -1.14528291e-01,  3.05009596e-02,\n",
      "        4.76825014e-02, -8.32765177e-02, -1.54011026e-02, -1.19811602e-01,\n",
      "       -4.52230573e-02, -2.73937792e-01, -2.88835615e-01, -3.65422666e-02,\n",
      "       -1.02622509e-01,  1.19202569e-01, -1.24564745e-01,  3.90336965e-03,\n",
      "       -2.38050357e-01,  9.03239399e-02,  1.66621193e-01, -7.03664869e-02,\n",
      "        5.11610433e-02, -2.81252582e-02,  4.51553753e-03, -4.50869165e-02,\n",
      "        4.41807285e-02, -1.33106813e-01, -6.86789379e-02, -6.52010180e-03,\n",
      "       -9.18068588e-02,  1.69918329e-01,  1.60156980e-01,  5.75825348e-02,\n",
      "       -1.10979781e-01,  6.29763007e-02, -1.32847831e-01,  5.05323596e-02,\n",
      "        3.43523353e-01,  1.30988136e-01, -2.20644295e-01, -6.82085529e-02,\n",
      "       -1.04088642e-01, -1.69895411e-01, -2.22282693e-01,  7.07132090e-03,\n",
      "        1.82729170e-01, -2.18689770e-01, -3.39303106e-01,  2.28028372e-03,\n",
      "        3.21165957e-02, -1.62576512e-01, -1.30038276e-01, -7.40697831e-02,\n",
      "       -2.51785040e-01,  9.33705121e-02, -2.68933084e-02,  2.88177788e-01,\n",
      "       -1.21145740e-01, -6.42875731e-02, -1.29977420e-01, -1.35294870e-01,\n",
      "       -6.05309149e-03,  1.61338732e-01,  4.02844660e-02,  1.49630338e-01,\n",
      "       -1.89346850e-01,  8.02579224e-02, -3.17058116e-02, -4.97305021e-02,\n",
      "        1.31240964e-01,  6.92639723e-02])), ('lib', array([ 2.00000000e+00,  0.00000000e+00,  1.75300000e+03,  5.19000000e+02,\n",
      "        2.60000000e+01,  1.00000000e+00,  1.00000000e+00,  0.00000000e+00,\n",
      "        0.00000000e+00,  0.00000000e+00,  0.00000000e+00,  0.00000000e+00,\n",
      "        0.00000000e+00,  0.00000000e+00,  0.00000000e+00,  0.00000000e+00,\n",
      "        0.00000000e+00,  0.00000000e+00,  1.07988074e-01,  3.16692114e-01,\n",
      "        1.72031268e-01,  3.29823494e-01, -8.37969594e-03,  9.27427784e-02,\n",
      "        3.59395385e-01, -3.83063853e-01,  1.37479395e-01,  2.94921786e-01,\n",
      "       -1.15808062e-01,  1.24598965e-01,  1.16032988e-01, -4.05891448e-01,\n",
      "        2.19921470e-01, -9.73549411e-02,  7.19051212e-02,  1.34303749e-01,\n",
      "       -1.39691710e-01,  2.21782625e-01, -4.15493071e-01,  2.34347954e-01,\n",
      "       -3.58089134e-02,  9.23507810e-02, -2.18304947e-01, -3.27758305e-02,\n",
      "       -2.01334313e-01, -1.92465410e-01, -5.46817072e-02,  2.35479772e-01,\n",
      "       -2.20798198e-02, -9.09331366e-02, -2.62937862e-02,  5.72603531e-02,\n",
      "        6.24277741e-02,  1.23539984e-01,  3.31432149e-02, -1.08013451e-01,\n",
      "       -9.20886844e-02,  1.46259174e-01,  1.37015775e-01,  1.84965789e-01,\n",
      "       -2.92293839e-02,  1.81883559e-01,  1.64442241e-01,  9.11141932e-02,\n",
      "       -5.78062795e-02,  1.53228730e-01,  1.17047869e-01, -1.31539851e-02,\n",
      "        3.88100781e-02,  9.30621624e-02, -5.43860719e-03, -9.48112458e-02,\n",
      "       -1.20307416e-01, -8.76645446e-02, -2.74518952e-02,  1.16848558e-01,\n",
      "       -3.44111137e-02,  1.48518896e-02, -1.43582299e-01, -1.08164527e-01,\n",
      "        6.69993684e-02, -1.39215514e-01, -1.26440600e-01, -4.90801744e-02,\n",
      "        1.42270878e-01, -5.22167422e-02,  8.86387900e-02, -1.00388318e-01,\n",
      "        1.83913082e-01,  1.54499784e-01,  6.63483050e-03,  1.25483628e-02,\n",
      "       -9.31214243e-02,  7.36457407e-02,  1.70777693e-01,  1.13184974e-02,\n",
      "       -5.31863607e-02, -1.54369757e-01, -7.75264204e-02,  1.14628840e-02,\n",
      "        7.96992555e-02, -8.35920796e-02, -1.69412181e-01,  1.91419851e-02,\n",
      "       -1.57985523e-01,  2.02488564e-02, -1.28163382e-01,  9.15497839e-02,\n",
      "        2.25796625e-02,  6.01525791e-02, -5.50711118e-02,  5.95295317e-02,\n",
      "       -1.68582037e-01, -1.71198454e-02, -5.41720875e-02,  7.98818655e-03,\n",
      "       -8.09064582e-02, -1.82544976e-01,  1.04935825e-01,  3.88160497e-02,\n",
      "        1.08393088e-01, -9.65652894e-03, -1.88382491e-01, -7.17299059e-02,\n",
      "        1.05543219e-01,  1.30821943e-01,  1.90645959e-02, -3.71986628e-02,\n",
      "       -3.86145711e-02,  7.38227516e-02, -4.22006175e-02, -1.89986806e-02,\n",
      "       -3.32173444e-02,  1.98474824e-02, -1.04288027e-01,  8.37845579e-02,\n",
      "        8.83206874e-02,  4.66508120e-02, -4.07916717e-02, -1.38815315e-02,\n",
      "       -4.54306044e-02, -9.95347351e-02, -1.46429166e-01, -9.28808376e-03,\n",
      "       -1.14444554e-01,  7.44896159e-02])), ('lib', array([ 2.46153846e+00,  0.00000000e+00,  1.94200000e+03,  5.79000000e+02,\n",
      "        4.00000000e+01,  7.00000000e+00,  8.00000000e+00,  0.00000000e+00,\n",
      "        0.00000000e+00,  1.70000000e+01,  4.00000000e+00,  3.00000000e+00,\n",
      "        0.00000000e+00,  0.00000000e+00,  0.00000000e+00,  0.00000000e+00,\n",
      "        0.00000000e+00,  0.00000000e+00,  2.01240107e-01, -2.11915164e-03,\n",
      "        1.74534947e-01,  4.45021875e-02,  1.10077173e-01,  2.29667589e-01,\n",
      "        1.53071076e-01, -1.64965972e-01, -1.75240934e-01, -1.48987323e-01,\n",
      "       -1.53106123e-01, -2.72407252e-02,  1.56822339e-01, -1.03516549e-01,\n",
      "       -1.49003908e-01,  1.71005115e-01, -1.12098381e-01, -1.92770123e-01,\n",
      "       -2.18726844e-01,  2.15411216e-01,  9.26505625e-02, -3.48130912e-01,\n",
      "        7.20886365e-02, -2.15147302e-01, -3.15310568e-01,  1.53220240e-02,\n",
      "        1.52685419e-01, -3.16716880e-01,  1.29293784e-01,  7.94041902e-02,\n",
      "        2.44757220e-01,  6.44143075e-02, -1.04319781e-01,  1.27919912e-01,\n",
      "        4.88699526e-02,  6.07862286e-02, -1.77197494e-02,  8.11681822e-02,\n",
      "       -1.24963276e-01, -5.77599257e-02,  1.09709077e-01,  6.72255158e-02,\n",
      "       -9.68478397e-02,  7.88086802e-02, -9.12196178e-04, -9.74107254e-03,\n",
      "        2.04290897e-01, -1.28545165e-01, -4.18804623e-02,  8.36690068e-02,\n",
      "       -2.91760024e-02, -1.27054989e-01,  1.44282401e-01,  2.22109966e-02,\n",
      "        1.82321984e-02,  2.09512077e-02, -1.43134028e-01,  1.44486994e-01,\n",
      "       -1.93143085e-01, -1.44257452e-02, -1.16119320e-02, -1.07333019e-01,\n",
      "       -2.38048062e-01,  1.39344737e-01, -1.19595058e-01, -1.05481409e-01,\n",
      "       -1.74546242e-02,  2.91927550e-02, -5.26694618e-02,  1.00395657e-01,\n",
      "       -1.38922513e-01, -1.44714504e-01,  1.65157896e-02, -2.13971823e-01,\n",
      "       -1.60500817e-02, -1.55803144e-01, -4.23219334e-03,  7.98112005e-02,\n",
      "       -2.11094633e-01, -1.10100716e-01, -1.75648436e-01,  2.00914461e-02,\n",
      "        3.61850252e-03,  5.10982461e-02,  4.28103320e-02, -1.72656864e-01,\n",
      "       -5.57029434e-02,  2.45754160e-02,  2.19903011e-02,  5.10499068e-02,\n",
      "        9.31167230e-02, -5.62337786e-02, -4.72325571e-02,  6.97439015e-02,\n",
      "       -5.99015094e-02, -1.71866417e-01, -1.09710835e-01, -3.13317254e-02,\n",
      "        1.45670936e-01,  6.51686639e-02, -1.83245197e-01, -4.26952429e-02,\n",
      "        1.84662089e-01,  2.26834733e-02, -2.19447315e-02,  6.77602366e-02,\n",
      "       -1.56716511e-01, -3.06136124e-02, -2.26645127e-01,  1.59775063e-01,\n",
      "       -3.11353300e-02,  4.39148992e-02,  9.93293747e-02, -5.97950630e-03,\n",
      "       -7.66853318e-02, -5.99825121e-02, -1.91052482e-01, -1.98829010e-01,\n",
      "        1.84096262e-01,  5.31227961e-02, -5.71660399e-02, -1.96323171e-01,\n",
      "       -2.10755602e-01, -5.02340198e-02, -6.79816231e-02,  4.77483012e-02,\n",
      "        9.50141028e-02,  1.51908785e-01])), ('lib', array([ 2.11764706e+00,  0.00000000e+00,  4.46000000e+02,  2.00000000e+02,\n",
      "        1.70000000e+01,  1.00000000e+00,  1.00000000e+00,  0.00000000e+00,\n",
      "        0.00000000e+00,  1.30000000e+01,  1.00000000e+00,  1.00000000e+00,\n",
      "        0.00000000e+00,  0.00000000e+00,  0.00000000e+00,  0.00000000e+00,\n",
      "        0.00000000e+00,  0.00000000e+00,  8.81162956e-02,  3.82134132e-02,\n",
      "        1.09460317e-01,  1.75851315e-01,  1.13480784e-01, -6.41810894e-02,\n",
      "        2.39980772e-01, -1.04534766e-02,  1.54163480e-01, -3.61596011e-02,\n",
      "        8.50805044e-02, -8.88910238e-03,  1.67643324e-01, -1.99646086e-01,\n",
      "       -1.75953239e-01, -1.19462200e-02, -2.57492084e-02,  9.84582528e-02,\n",
      "       -1.29432127e-01,  7.43926242e-02, -9.30803791e-02,  1.54908612e-01,\n",
      "        1.11800451e-02, -1.94709882e-01,  4.63874415e-02, -8.85444283e-02,\n",
      "        3.09830569e-02, -1.47884861e-01, -2.31040400e-02,  2.13787965e-02,\n",
      "        1.29788086e-01, -1.36626348e-01, -6.76902384e-02,  1.24571376e-01,\n",
      "        1.22723937e-01, -1.68491006e-01, -9.71372277e-02,  3.69730622e-01,\n",
      "       -1.24437630e-01,  1.15087211e-01, -2.80984156e-02, -4.74171266e-02,\n",
      "        1.76441614e-02,  1.04127064e-01, -3.65148634e-02, -1.08685056e-02,\n",
      "       -1.86044015e-02,  1.99433997e-01, -2.41471250e-02, -7.47127533e-02,\n",
      "       -6.48665577e-02,  1.32717565e-01,  8.05691853e-02,  2.59469543e-03,\n",
      "       -2.80838966e-01,  6.63587898e-02,  5.93925230e-02,  9.70694721e-02,\n",
      "        1.06679179e-01, -9.52827707e-02, -2.94985622e-01,  1.34516314e-01,\n",
      "       -8.15539509e-02, -6.20115176e-02, -1.00117296e-01, -2.30678339e-02,\n",
      "       -8.79667178e-02, -1.21973947e-01, -2.83681676e-02, -3.99131002e-03,\n",
      "        6.29663542e-02,  9.67582688e-02, -2.42261644e-02,  2.02813204e-02,\n",
      "       -8.57886858e-03, -7.10252151e-02,  1.57858700e-01, -1.05982035e-01,\n",
      "       -4.95402552e-02, -5.93293644e-02, -2.01349393e-01,  6.51546642e-02,\n",
      "        4.45808806e-02, -8.03527758e-02, -1.50650978e-01, -9.33573470e-02,\n",
      "        8.61424580e-02,  1.35650396e-01, -1.30941868e-01, -1.20111648e-02,\n",
      "       -1.32916272e-01, -2.40331870e-02, -8.42582807e-02,  1.47316664e-01,\n",
      "        3.75892706e-02, -8.01514834e-03, -3.00839525e-02,  5.15038334e-02,\n",
      "       -5.69122657e-02, -8.34693294e-03, -1.17218882e-01, -1.24796420e-01,\n",
      "        4.26978134e-02, -1.03921555e-02,  2.89774090e-02,  6.28379509e-02,\n",
      "       -1.96637884e-02,  1.11865066e-02, -1.26712546e-01,  2.71215122e-02,\n",
      "       -2.36787293e-02,  1.00205049e-01, -1.72018707e-01, -5.29809780e-02,\n",
      "        8.43415782e-02, -1.44736528e-01, -6.39837757e-02, -2.03095749e-02,\n",
      "        3.50249037e-02,  6.90189227e-02,  9.54466015e-02,  3.27823758e-02,\n",
      "        4.96928990e-02,  5.70099801e-02,  1.69334739e-01,  5.54020740e-02,\n",
      "       -6.33586273e-02, -3.39158177e-02])), ('lib', array([ 2.00000000e+00,  0.00000000e+00,  2.12000000e+02,  1.36000000e+02,\n",
      "        1.40000000e+01,  1.00000000e+00,  1.00000000e+00,  0.00000000e+00,\n",
      "        0.00000000e+00,  0.00000000e+00,  0.00000000e+00,  0.00000000e+00,\n",
      "        0.00000000e+00,  0.00000000e+00,  0.00000000e+00,  0.00000000e+00,\n",
      "        0.00000000e+00,  0.00000000e+00,  1.20341785e-01, -4.41633314e-02,\n",
      "       -4.75202352e-02, -1.14486381e-01, -1.99733372e-03, -1.14686035e-01,\n",
      "        2.85562947e-02, -8.63146335e-02,  6.36853203e-02,  3.85208689e-02,\n",
      "       -5.24170659e-02, -6.24051969e-03,  9.87652913e-02,  5.46827652e-02,\n",
      "        4.58139591e-02, -3.42340209e-02,  8.71582776e-02,  7.40623521e-03,\n",
      "       -9.89658386e-02,  8.94175321e-02, -6.70640767e-02,  8.82455856e-02,\n",
      "        1.84334405e-02,  6.88693300e-02, -1.16842345e-03, -6.04488999e-02,\n",
      "        4.17870618e-02, -8.61801282e-02, -1.37524772e-03,  1.70537546e-01,\n",
      "        1.69548184e-01, -1.38090327e-01, -4.91190609e-03,  6.13218769e-02,\n",
      "        5.52943908e-02,  1.70139283e-01, -4.43227924e-02,  1.40197530e-01,\n",
      "       -5.91009110e-02,  1.20832864e-03,  1.48189873e-01,  1.26748919e-01,\n",
      "       -7.10471720e-02, -4.93703932e-02,  1.33270115e-01, -1.14649609e-02,\n",
      "       -1.60764158e-01,  2.41968051e-01, -7.68627524e-02,  3.06482818e-02,\n",
      "       -9.60854366e-02, -1.10632889e-02,  1.11280549e-02,  1.40787968e-02,\n",
      "       -9.05235410e-02,  4.59940284e-02,  5.77558354e-02, -2.99703982e-02,\n",
      "       -1.76054109e-02, -4.67611514e-02, -3.04070227e-02,  2.27547414e-03,\n",
      "        6.44043554e-03, -2.07038131e-02, -1.15344808e-01, -1.20424502e-01,\n",
      "       -3.65219228e-02, -2.59292185e-01, -1.42618706e-02, -3.76304612e-02,\n",
      "        1.30712613e-01, -8.49749800e-03,  1.88755393e-01,  1.45770982e-01,\n",
      "       -2.98494399e-02, -9.12043676e-02, -9.09028053e-02, -5.99382743e-02,\n",
      "        1.75448935e-02, -1.03702009e-01,  7.69210339e-04, -2.75507402e-02,\n",
      "       -7.96984881e-02,  7.83430040e-02,  2.52044946e-02,  6.98228329e-02,\n",
      "        6.28597736e-02,  1.54326200e-01, -7.67196948e-03,  1.32244751e-01,\n",
      "       -1.89417571e-01, -1.70376912e-01, -3.08223404e-02,  5.00764623e-02,\n",
      "       -3.07369381e-02,  1.04850627e-01, -5.05977646e-02, -3.58984023e-02,\n",
      "       -1.23430617e-01, -1.39607992e-02,  2.52991319e-02, -1.22139372e-01,\n",
      "        2.55791545e-01, -1.05222337e-01,  2.24449690e-02,  1.27790198e-01,\n",
      "        1.83198974e-01, -6.40087426e-02, -7.25526661e-02,  5.43890968e-02,\n",
      "       -8.87601003e-02, -3.10759228e-02, -1.44527450e-01,  4.18742448e-02,\n",
      "        1.48790628e-02, -1.24612534e-02, -6.57236800e-02, -8.93355012e-02,\n",
      "       -1.04027465e-01, -9.32988226e-02, -6.74707768e-03,  3.41845269e-04,\n",
      "       -8.32379311e-02, -5.19373827e-02,  7.07897693e-02, -8.52679461e-02,\n",
      "       -1.44475356e-01,  4.35246155e-03])), ('lib', array([ 2.17391304e+00,  0.00000000e+00,  1.28600000e+03,  4.45000000e+02,\n",
      "        3.20000000e+01,  4.00000000e+00,  4.00000000e+00,  0.00000000e+00,\n",
      "        0.00000000e+00,  0.00000000e+00,  0.00000000e+00,  0.00000000e+00,\n",
      "        0.00000000e+00,  0.00000000e+00,  0.00000000e+00,  0.00000000e+00,\n",
      "        0.00000000e+00,  0.00000000e+00, -1.09077031e-02,  1.37976944e-01,\n",
      "       -4.53672595e-02, -8.35178867e-02, -1.81667926e-03, -4.62573469e-02,\n",
      "       -1.35086495e-02,  7.34033249e-03,  1.28902448e-02,  3.47495645e-01,\n",
      "        1.64545104e-02,  1.38030648e-01, -1.96264818e-01, -2.69967392e-02,\n",
      "       -9.65099260e-02, -1.27664194e-01,  2.30479017e-01, -1.06761213e-02,\n",
      "       -1.32970482e-01,  1.15749441e-01,  6.72523156e-02,  3.40086743e-02,\n",
      "       -9.76696387e-02, -1.19751762e-03, -7.85942674e-02, -2.20895842e-01,\n",
      "        2.83083588e-01,  5.01645356e-02, -1.07709385e-01, -6.76508099e-02,\n",
      "       -1.20718375e-01,  4.18652631e-02,  1.32840186e-01,  1.46385357e-01,\n",
      "        7.17848167e-03,  7.39335567e-02,  1.03692129e-01,  2.10218012e-01,\n",
      "        9.81638804e-02,  8.79952163e-02, -3.93404067e-03,  2.01054022e-01,\n",
      "       -7.92037696e-02,  1.79996919e-02, -9.95624140e-02,  1.41708016e-01,\n",
      "        2.08903253e-01,  1.93375081e-01,  2.11824517e-04, -2.22777143e-01,\n",
      "       -1.31783172e-01, -6.32443950e-02,  2.14560889e-02,  1.29963577e-01,\n",
      "       -3.26600164e-01,  2.19213828e-01,  4.89927791e-02,  2.48695552e-01,\n",
      "       -1.05113298e-01, -2.23230403e-02,  9.86222252e-02, -2.02918783e-01,\n",
      "       -7.59973377e-02, -1.23639368e-01, -1.13238975e-01,  4.78078239e-03,\n",
      "       -8.77180621e-02, -2.05740891e-02,  5.21147139e-02,  1.79069433e-02,\n",
      "       -4.66663055e-02,  1.18579730e-01, -6.13644496e-02, -1.71764772e-02,\n",
      "       -2.06301019e-01,  4.63736914e-02, -3.58806252e-02, -8.67515728e-02,\n",
      "        2.11592749e-01, -9.13209189e-03,  1.02916963e-01,  4.59507592e-02,\n",
      "        2.58397311e-01, -1.01819217e-01, -1.77272499e-01, -1.14901297e-01,\n",
      "        4.94891815e-02,  2.77857900e-01, -6.67373836e-02, -8.81044045e-02,\n",
      "        2.52374131e-02,  9.96000096e-02, -1.65787879e-02,  4.68696840e-02,\n",
      "        3.35302770e-01,  2.07404569e-01,  5.14202639e-02, -1.31198883e-01,\n",
      "       -3.31921242e-02,  3.05283796e-02, -4.83659878e-02,  8.70089903e-02,\n",
      "        2.93184549e-01, -7.26620760e-03, -5.59858382e-02,  1.07624523e-01,\n",
      "       -1.49950668e-01, -1.68393031e-01, -1.67210475e-01, -7.36208707e-02,\n",
      "        3.33272070e-02,  2.91913040e-02, -5.61221838e-02,  1.03020318e-01,\n",
      "       -2.26535007e-01, -4.16778550e-02, -1.31725416e-01,  2.30697468e-02,\n",
      "        1.11324396e-02,  2.47777894e-01,  1.29842103e-01,  5.56238033e-02,\n",
      "       -5.40360846e-02,  2.29882598e-02,  6.40669689e-02,  4.27475832e-02,\n",
      "       -6.46780729e-02, -2.35837195e-02])), ('neutral', array([ 1.84615385e+00,  0.00000000e+00,  1.65000000e+02,  1.10000000e+02,\n",
      "        1.10000000e+01,  0.00000000e+00,  0.00000000e+00,  0.00000000e+00,\n",
      "        0.00000000e+00,  0.00000000e+00,  0.00000000e+00,  0.00000000e+00,\n",
      "        0.00000000e+00,  0.00000000e+00,  0.00000000e+00,  0.00000000e+00,\n",
      "        0.00000000e+00,  0.00000000e+00, -1.63708776e-02,  1.80201545e-01,\n",
      "        7.62198120e-02,  9.09046084e-02, -4.18360420e-02, -1.30957901e-01,\n",
      "       -6.68981075e-02, -1.17592044e-01,  9.01537687e-02,  7.78033137e-02,\n",
      "        4.85831462e-02,  6.28441349e-02,  1.96600426e-02, -1.72202110e-01,\n",
      "       -1.14540510e-01,  9.09066349e-02,  1.79796480e-02,  7.13499933e-02,\n",
      "       -9.50273201e-02, -1.76264569e-02,  2.31338069e-02,  2.43723411e-02,\n",
      "        3.37606259e-02,  4.95546348e-02, -9.07910094e-02,  3.21403965e-02,\n",
      "       -7.56662413e-02, -2.50749313e-03, -6.84933662e-02,  3.53568308e-02,\n",
      "        2.55468972e-02,  5.61602339e-02,  3.31237316e-02, -1.18800029e-02,\n",
      "        5.34450598e-02, -5.76558188e-02, -4.18970063e-02,  1.11386403e-01,\n",
      "        1.18725821e-02,  3.63089703e-02,  2.27944739e-02, -9.88805667e-03,\n",
      "       -9.77276042e-02, -1.07210033e-01,  2.46971194e-02,  8.39175433e-02,\n",
      "        6.25976399e-02, -6.35091513e-02, -1.28055617e-01, -2.25762859e-01,\n",
      "       -3.82307693e-02,  1.39400437e-01,  5.78447655e-02,  8.77557397e-02,\n",
      "       -6.43492043e-02,  1.47414550e-01,  4.03255336e-02,  2.59634834e-02,\n",
      "       -1.58287182e-01, -1.48518262e-02, -1.34310395e-01, -1.45579875e-01,\n",
      "        5.50957583e-02,  8.65889620e-03, -8.77741128e-02, -9.74865705e-02,\n",
      "       -5.15770614e-02, -1.45239115e-01, -5.85992411e-02, -1.14733614e-02,\n",
      "        1.32507518e-01,  1.64201632e-01,  9.58380755e-03,  8.95088613e-02,\n",
      "        8.84164183e-04,  4.76395935e-02,  1.67975396e-01,  8.16206634e-02,\n",
      "       -6.34770095e-02, -2.42601067e-01, -2.65996885e-02,  1.75200570e-02,\n",
      "        6.19425774e-02, -4.57479060e-02, -1.25623673e-01,  5.74369319e-02,\n",
      "       -3.53191271e-02, -3.72423716e-02, -1.48661762e-01,  1.15650736e-01,\n",
      "       -1.13695465e-01, -2.56705713e-02,  6.09028451e-02,  3.87391783e-02,\n",
      "       -1.63438749e-02, -5.80635294e-02, -1.13647632e-01, -3.47933173e-02,\n",
      "       -4.79098223e-02,  1.19673051e-02, -1.78887993e-02, -2.38120809e-01,\n",
      "        6.91934377e-02, -1.25595659e-01,  6.95109293e-02,  7.35082850e-02,\n",
      "        5.69325425e-02, -1.25523284e-01,  5.61743453e-02, -1.82698429e-01,\n",
      "        3.12091969e-02, -7.05836117e-02, -6.95119798e-02, -5.55127375e-02,\n",
      "       -1.36954606e-01,  5.34290029e-03, -1.06017828e-01, -1.28500387e-01,\n",
      "       -3.44002731e-02,  8.60795230e-02,  5.05477656e-03, -4.82462980e-02,\n",
      "       -5.30774444e-02, -1.19165406e-01, -2.09967531e-02, -3.30301188e-02,\n",
      "       -6.96527064e-02,  2.52918489e-02])), ('neutral', array([ 1.84615385e+00,  0.00000000e+00,  1.65000000e+02,  1.10000000e+02,\n",
      "        1.10000000e+01,  0.00000000e+00,  0.00000000e+00,  0.00000000e+00,\n",
      "        0.00000000e+00,  0.00000000e+00,  0.00000000e+00,  0.00000000e+00,\n",
      "        0.00000000e+00,  0.00000000e+00,  0.00000000e+00,  0.00000000e+00,\n",
      "        0.00000000e+00,  0.00000000e+00, -3.63284834e-02, -3.61795016e-02,\n",
      "       -2.52166279e-02, -2.02580616e-02, -1.03169709e-01, -1.60441786e-01,\n",
      "       -6.69823289e-02,  1.33091852e-01,  9.38649923e-02,  4.11744192e-02,\n",
      "        4.42399085e-03,  5.57295606e-02, -5.62809370e-02, -4.06430960e-02,\n",
      "       -1.78265750e-01, -4.63833101e-02,  3.98703963e-02,  1.59231399e-03,\n",
      "       -5.68059608e-02, -1.73280369e-02, -7.86557794e-02, -3.51265445e-02,\n",
      "       -5.22297136e-02, -4.30614688e-02, -8.25173184e-02,  2.69043483e-02,\n",
      "        7.13571301e-03, -2.11134106e-02, -4.37657982e-02,  9.79710370e-02,\n",
      "        2.15631258e-02, -1.07273320e-02, -4.40946296e-02,  1.41332388e-01,\n",
      "        7.66660571e-02,  8.25616159e-03, -5.00118956e-02,  1.70237303e-01,\n",
      "       -3.21905091e-02,  7.91344978e-03,  2.76618637e-02,  8.65446031e-03,\n",
      "       -1.52419373e-01,  2.97811646e-02,  4.40254323e-02,  3.54551785e-02,\n",
      "       -1.08611368e-01,  3.08003217e-01, -1.34066209e-01, -2.01186799e-02,\n",
      "       -7.67839979e-03,  1.54396474e-01, -8.12441204e-03,  8.79909992e-02,\n",
      "       -2.48780936e-01,  1.33910850e-01,  1.12313651e-01,  5.76355495e-02,\n",
      "       -6.08426891e-02, -1.63871631e-01, -2.30747703e-02, -7.80528039e-02,\n",
      "        5.71996942e-02, -2.19120421e-02, -1.38289765e-01, -4.81784269e-02,\n",
      "       -8.82964507e-02, -1.31915405e-01, -5.01347668e-02, -6.08895347e-02,\n",
      "        1.89002212e-02,  1.56928688e-01,  2.96878116e-03,  7.39648119e-02,\n",
      "        4.63058949e-02, -1.71232656e-01,  3.59464958e-02, -8.20077136e-02,\n",
      "        4.83378582e-03,  5.78418709e-02,  3.83380316e-02, -2.36044079e-02,\n",
      "        4.09147106e-02, -9.98729095e-02, -1.19317912e-01,  4.62452620e-02,\n",
      "       -4.79576774e-02,  1.17078967e-01, -2.04503685e-01,  1.15148261e-01,\n",
      "       -1.64051056e-01, -5.33055775e-02, -6.02855012e-02,  2.00755313e-01,\n",
      "        3.78217688e-03,  1.69742838e-01,  5.07610701e-02,  2.86632944e-02,\n",
      "       -6.35617152e-02, -4.06160913e-02, -9.95185301e-02, -1.21800654e-01,\n",
      "        1.45793959e-01, -1.94291864e-02,  3.22575942e-02, -3.67883556e-02,\n",
      "        3.14634480e-02, -1.59202795e-02,  4.18685488e-02, -7.23532960e-02,\n",
      "       -3.26894261e-02,  8.19315389e-02, -1.07202688e-02, -3.55781391e-02,\n",
      "       -2.28633918e-02, -1.21137097e-01,  5.59341721e-02,  3.81773449e-02,\n",
      "        1.29259154e-02,  7.26094171e-02,  2.70982441e-02,  1.00718427e-03,\n",
      "       -1.74761549e-01,  9.85506326e-02, -3.09492424e-02, -6.42245114e-02,\n",
      "       -1.15107093e-02,  1.00877382e-01])), ('neutral', array([ 2.25000000e+00,  0.00000000e+00,  3.44000000e+02,  1.94000000e+02,\n",
      "        1.90000000e+01,  1.00000000e+00,  2.00000000e+00,  0.00000000e+00,\n",
      "        0.00000000e+00,  0.00000000e+00,  0.00000000e+00,  0.00000000e+00,\n",
      "        0.00000000e+00,  0.00000000e+00,  0.00000000e+00,  0.00000000e+00,\n",
      "        0.00000000e+00,  0.00000000e+00, -4.18639742e-02,  6.64307997e-02,\n",
      "       -7.58333653e-02,  5.70015423e-02,  3.26254442e-02,  4.96595539e-02,\n",
      "       -7.19460621e-02,  3.71902660e-02,  1.87177747e-01,  1.31758004e-02,\n",
      "       -5.27002253e-02,  9.65309143e-02,  3.06405965e-02, -1.76120605e-02,\n",
      "       -1.02071472e-01, -1.62801236e-01, -3.61381136e-02,  6.26675561e-02,\n",
      "       -3.35669331e-02,  8.70610476e-02, -4.03386466e-02, -1.42896886e-03,\n",
      "        3.25761968e-03,  7.49761611e-03,  4.15686704e-02,  6.96414188e-02,\n",
      "       -1.03980474e-01, -1.31445751e-03, -6.19383575e-03,  6.18225671e-02,\n",
      "        2.87645292e-02, -1.12977907e-01, -2.27326667e-03,  3.94568443e-02,\n",
      "        1.46394804e-01, -1.29932463e-01,  1.09262066e-02,  1.49546459e-01,\n",
      "        1.24823101e-01,  1.67273358e-02,  1.03351168e-01,  1.50592387e-01,\n",
      "       -8.81151259e-02, -7.69737661e-02, -3.56883183e-02,  1.14970721e-01,\n",
      "        8.08564108e-03,  2.34487146e-01, -9.96904448e-02, -1.82079032e-01,\n",
      "       -1.30826145e-01,  1.73483118e-01, -4.49171588e-02,  5.87354042e-02,\n",
      "       -2.03018889e-01,  9.45744365e-02,  1.34030357e-01, -2.18862612e-02,\n",
      "        4.31132205e-02, -1.64367735e-01, -2.30574403e-02, -6.77018762e-02,\n",
      "        1.41305486e-02, -1.05305925e-01, -1.48983523e-01, -3.93005423e-02,\n",
      "       -1.33381128e-01, -2.69602407e-02, -6.16434999e-02, -2.42853761e-01,\n",
      "        1.74143702e-01,  8.56544673e-02,  1.71638876e-02,  2.59712368e-01,\n",
      "        4.44364082e-03, -1.74172699e-01,  4.91875969e-03, -1.32091179e-01,\n",
      "        4.50123921e-02, -1.77408352e-01,  1.92298330e-02,  1.00110322e-01,\n",
      "        4.53488305e-02, -1.12099536e-01, -1.62962124e-01, -1.43562723e-02,\n",
      "       -7.13734841e-03,  1.72926903e-01, -1.96838826e-01, -1.42856771e-02,\n",
      "       -1.41748086e-01,  2.11061514e-03,  8.92123114e-03,  3.56671363e-01,\n",
      "        9.86337364e-02,  1.46792993e-01, -9.15742889e-02, -3.67855141e-03,\n",
      "       -1.50863722e-01, -6.59189895e-02,  2.69494932e-02, -5.81669286e-02,\n",
      "        8.13050643e-02, -7.11056888e-02, -1.27592325e-01,  4.60013784e-02,\n",
      "       -5.06764017e-02, -1.67530224e-01, -5.72012216e-02, -3.18061709e-02,\n",
      "       -3.99569646e-02,  9.28642228e-03, -8.08917284e-02, -3.27739934e-03,\n",
      "        5.66345230e-02, -1.02292597e-01, -4.65531601e-03, -1.32999286e-01,\n",
      "        2.00376213e-02, -4.48402464e-02, -1.47571453e-04,  5.15022948e-02,\n",
      "       -4.08719443e-02,  6.00675121e-02,  2.22590100e-02,  2.18372904e-02,\n",
      "       -1.15469076e-01, -8.31398442e-02])), ('neutral', array([ 2.00000000e+00,  0.00000000e+00,  5.61000000e+02,  2.24000000e+02,\n",
      "        1.50000000e+01,  0.00000000e+00,  0.00000000e+00,  0.00000000e+00,\n",
      "        0.00000000e+00,  1.40000000e+01,  1.00000000e+00,  1.00000000e+00,\n",
      "        0.00000000e+00,  0.00000000e+00,  0.00000000e+00,  0.00000000e+00,\n",
      "        0.00000000e+00,  0.00000000e+00, -7.96264261e-02, -1.58157095e-01,\n",
      "       -8.57095234e-03,  1.32604420e-01,  2.04961494e-01, -5.58738746e-02,\n",
      "        6.74057007e-02, -4.04756591e-02, -1.46007776e-01, -3.11847255e-02,\n",
      "        9.31159407e-02,  3.15376371e-02,  3.96378487e-02,  1.21275112e-01,\n",
      "        4.40344661e-02,  1.50871575e-01,  7.42096603e-02,  6.58686608e-02,\n",
      "       -2.04585344e-01,  2.18896762e-01,  1.13447480e-01,  9.31237265e-02,\n",
      "       -1.18323840e-01,  1.03664912e-01, -1.15983203e-01, -3.26413214e-01,\n",
      "       -5.37429079e-02, -1.82861149e-01,  7.17771500e-02,  2.34134406e-01,\n",
      "       -6.63041621e-02, -1.06184639e-01, -3.88137177e-02,  2.17675999e-01,\n",
      "        6.88480809e-02, -8.64547938e-02, -1.56753153e-01,  1.40071854e-01,\n",
      "       -6.97504357e-02,  4.11895216e-02, -1.37997374e-01,  6.05960973e-02,\n",
      "        3.95042598e-02,  2.05545221e-02,  1.13368602e-02,  1.67205617e-01,\n",
      "        6.58241734e-02,  5.95326796e-02,  8.52057114e-02,  4.10509929e-02,\n",
      "        1.59133315e-01,  3.83181982e-02,  1.06589114e-02,  6.55774549e-02,\n",
      "       -1.96115181e-01, -9.56639722e-02,  1.88125819e-01, -9.05514508e-02,\n",
      "        3.28574553e-02, -5.35222478e-02,  9.28743184e-02,  1.03620663e-02,\n",
      "        1.40437022e-01,  3.60162407e-02, -1.72161534e-02,  8.33708495e-02,\n",
      "       -3.06407232e-02,  8.46420825e-02, -6.56063929e-02,  2.80404910e-02,\n",
      "       -1.32124454e-01,  3.14912349e-02,  1.28251240e-02,  1.43842980e-01,\n",
      "        1.52769506e-01, -6.83775246e-02,  9.85779017e-02, -2.69736368e-02,\n",
      "       -1.35153174e-01, -1.62668630e-01, -1.13205304e-02, -1.15366958e-01,\n",
      "        5.44974692e-02,  1.48897544e-02,  4.22158018e-02,  2.66182180e-02,\n",
      "        5.24591319e-02,  6.94026202e-02, -4.52111885e-02, -5.79553805e-02,\n",
      "       -4.51598838e-02,  2.69836746e-02,  1.21368743e-01, -6.52166232e-02,\n",
      "       -1.04819879e-01, -3.49533465e-03, -2.30082273e-02, -1.00702941e-01,\n",
      "       -8.41491297e-02, -4.29702699e-02,  1.88778386e-01, -2.05308706e-01,\n",
      "       -2.60629766e-02,  1.13405854e-01,  5.23384623e-02,  7.32127111e-03,\n",
      "       -1.49546862e-01, -8.23992938e-02, -4.14013527e-02, -4.93064746e-02,\n",
      "        1.11562490e-01,  3.51606533e-02, -1.26017585e-01, -2.07305476e-01,\n",
      "        1.24087460e-01, -2.05290347e-01,  2.67347358e-02, -1.24226205e-01,\n",
      "       -7.13511109e-02,  9.37439650e-02, -1.35857090e-01, -9.85576808e-02,\n",
      "       -4.75284085e-02, -1.72226161e-01, -4.77562398e-02,  2.20472123e-02,\n",
      "        8.04011226e-02, -1.21515550e-01])), ('neutral', array([ 2.17647059e+00,  5.94771242e-02,  4.87400000e+03,  1.03800000e+03,\n",
      "        5.00000000e+01,  1.00000000e+01,  1.00000000e+01,  2.00000000e+00,\n",
      "        0.00000000e+00,  0.00000000e+00,  0.00000000e+00,  0.00000000e+00,\n",
      "        0.00000000e+00,  0.00000000e+00,  0.00000000e+00,  0.00000000e+00,\n",
      "        0.00000000e+00,  0.00000000e+00, -8.54502991e-02, -1.89006463e-01,\n",
      "       -1.10673234e-01,  1.40173122e-01, -9.76209715e-02,  1.91382989e-02,\n",
      "        1.69907600e-01,  8.66691116e-03,  1.23126224e-01,  6.60336763e-02,\n",
      "        6.66609630e-02, -2.93993860e-01, -2.05180049e-01, -1.58324331e-01,\n",
      "       -1.85783014e-01,  2.22722301e-03, -4.83478904e-02,  7.78903440e-02,\n",
      "       -2.41078556e-01,  1.76040053e-01, -1.16724689e-02,  8.44363198e-02,\n",
      "        7.04507381e-02,  3.11046630e-01, -2.43074470e-03,  1.73934083e-02,\n",
      "        1.75326377e-01, -2.22617254e-01,  1.04413010e-01, -1.85912609e-01,\n",
      "        1.94717720e-01, -8.44135657e-02,  2.52396315e-02,  1.56226764e-02,\n",
      "       -6.10878132e-02, -1.45305738e-01, -4.63505760e-02, -5.66921048e-02,\n",
      "        9.41660330e-02, -2.99416687e-02, -1.32470906e-01,  2.25345343e-01,\n",
      "       -5.58554642e-02,  5.73775023e-02,  2.38578558e-01,  3.30440737e-02,\n",
      "        3.07855040e-01, -6.70846701e-02, -2.72886157e-01, -3.15362036e-01,\n",
      "       -3.42670977e-01,  2.33205408e-01, -5.51430434e-02,  2.66408157e-02,\n",
      "        6.86981976e-02, -1.55506223e-01, -7.41313919e-02, -1.77076176e-01,\n",
      "        3.20162326e-02,  1.67426124e-01,  1.84763327e-01, -2.57426292e-01,\n",
      "       -2.43063420e-01, -4.80361395e-02, -2.26240918e-01, -2.84730867e-02,\n",
      "        4.43764124e-03, -2.44294867e-01, -1.35151923e-01,  8.00270587e-02,\n",
      "       -5.84110096e-02,  5.41827641e-02, -1.68630436e-01,  2.62289196e-01,\n",
      "        7.89657980e-02, -1.36232570e-01,  1.21356063e-02,  2.61336386e-01,\n",
      "        4.80745956e-02,  3.22202072e-02, -3.35239284e-02,  7.55124837e-02,\n",
      "        1.05818406e-01, -2.43463695e-01, -2.73583144e-01, -1.02331936e-01,\n",
      "        1.12480238e-01,  3.94457519e-01, -1.35455623e-01,  9.17261019e-02,\n",
      "       -2.87724078e-01,  1.37270987e-01,  1.74704447e-01,  2.20615834e-01,\n",
      "       -6.65937588e-02,  2.00798392e-01,  6.66759238e-02, -2.99795210e-01,\n",
      "        1.25590712e-01, -1.55874044e-01,  2.25200549e-01, -3.07071596e-01,\n",
      "        3.79616976e-01, -5.75528666e-02,  3.75461467e-02, -2.33004823e-01,\n",
      "       -9.71909761e-02, -3.46187025e-01, -9.09123048e-02, -4.40631181e-01,\n",
      "        2.36804448e-02,  2.20072359e-01,  1.52066052e-01,  1.61819875e-01,\n",
      "       -2.17866600e-01,  2.58620493e-02, -1.30030904e-02, -5.83184883e-02,\n",
      "        1.36599794e-01, -5.75936884e-02,  1.51530936e-01,  1.33855537e-01,\n",
      "        1.01145096e-02,  3.22115533e-02, -3.35290171e-02,  8.63531306e-02,\n",
      "        1.24010220e-01,  2.83255186e-02])), ('neutral', array([ 2.14285714e+00,  0.00000000e+00,  2.14000000e+02,  1.22000000e+02,\n",
      "        1.40000000e+01,  1.00000000e+00,  1.00000000e+00,  0.00000000e+00,\n",
      "        0.00000000e+00,  1.00000000e+01,  1.00000000e+00,  1.00000000e+00,\n",
      "        0.00000000e+00,  0.00000000e+00,  0.00000000e+00,  0.00000000e+00,\n",
      "        0.00000000e+00,  0.00000000e+00,  8.03860649e-02,  8.34762305e-02,\n",
      "        6.96107149e-02,  1.54856786e-01, -5.37534431e-02,  2.12006085e-02,\n",
      "        2.35378146e-02, -9.03431103e-02,  4.41630930e-02, -3.50076593e-02,\n",
      "        4.54327725e-02,  1.14922211e-01,  2.46073097e-01, -7.97057003e-02,\n",
      "       -1.52051315e-01, -1.40569791e-01,  8.95289853e-02, -1.27091065e-01,\n",
      "       -8.61199871e-02,  2.90894769e-02, -3.73470075e-02,  9.71847773e-02,\n",
      "       -1.10570062e-02, -1.02095984e-01, -6.93109632e-02, -2.03201007e-02,\n",
      "        1.21245757e-01, -9.61359963e-02,  3.43519561e-02,  2.68355440e-02,\n",
      "       -4.11907732e-02, -2.14973260e-02,  5.73386401e-02,  8.98326933e-02,\n",
      "        3.62773947e-02,  1.56584099e-01, -1.17510129e-02,  1.24702372e-01,\n",
      "       -1.67902380e-01, -1.05832592e-01,  9.07408595e-02, -3.74880806e-02,\n",
      "        6.55267462e-02,  5.03213443e-02, -2.20324825e-02,  9.91243273e-02,\n",
      "       -6.55863956e-02, -9.23673250e-03,  8.61856062e-03, -1.25887431e-02,\n",
      "        4.91600931e-02,  2.06467370e-03,  3.49992439e-02, -4.19998541e-02,\n",
      "       -1.96336463e-01,  1.18005022e-01, -2.22207736e-02,  1.57302588e-01,\n",
      "       -2.67980620e-02, -5.36099002e-02, -9.19186026e-02, -6.66319728e-02,\n",
      "        2.83612739e-02, -4.45532091e-02, -4.58065718e-02, -8.83605257e-02,\n",
      "       -8.43213871e-03, -7.06825778e-02, -5.78108896e-03, -1.11052766e-02,\n",
      "        9.30762589e-02,  5.72821833e-02,  1.87853575e-02,  1.64870158e-01,\n",
      "       -1.03253759e-01, -1.10454962e-01,  9.41724330e-03,  4.09160554e-02,\n",
      "       -3.95612232e-02, -1.42770216e-01, -6.45181164e-02,  1.74746327e-02,\n",
      "       -7.44502842e-02, -3.92439254e-02, -4.08315007e-03,  3.97557281e-02,\n",
      "       -6.25351742e-02,  4.57663387e-02, -2.45152622e-01,  7.82211423e-02,\n",
      "       -1.43266991e-01, -9.06395465e-02,  5.50431907e-02,  9.11553428e-02,\n",
      "        2.48031337e-02,  1.65795013e-01, -1.23280413e-01, -1.04061775e-01,\n",
      "       -2.39362970e-01, -1.27685353e-01,  2.41083726e-02, -1.72099724e-01,\n",
      "        1.39210835e-01, -1.59825131e-01,  6.88221445e-03,  2.56611127e-02,\n",
      "        7.31551182e-03, -5.53351268e-02, -3.18981074e-02,  1.59921609e-02,\n",
      "       -1.27670810e-01,  9.41777974e-02, -1.88645482e-01, -4.50661890e-02,\n",
      "       -6.95885792e-02, -4.34825309e-02,  3.56635563e-02, -8.95276889e-02,\n",
      "       -4.34194840e-02,  1.35321781e-01, -1.05353035e-01,  1.45630492e-02,\n",
      "       -2.15587318e-01,  9.04145166e-02,  6.42410442e-02, -2.86105112e-03,\n",
      "       -1.85500145e-01,  3.28901112e-02])), ('neutral', array([ 2.55172414e+00,  0.00000000e+00,  2.81300000e+03,  7.07000000e+02,\n",
      "        4.30000000e+01,  7.00000000e+00,  6.00000000e+00,  0.00000000e+00,\n",
      "        0.00000000e+00,  5.70000000e+01,  9.00000000e+00,  9.00000000e+00,\n",
      "        0.00000000e+00,  0.00000000e+00,  0.00000000e+00,  3.00000000e+00,\n",
      "        0.00000000e+00,  0.00000000e+00, -1.59495279e-01,  9.77286175e-02,\n",
      "        1.06624402e-01,  2.28965189e-02,  1.75891891e-02, -1.43766508e-01,\n",
      "        2.62009706e-02,  4.52443473e-02,  1.18420444e-01, -1.74326167e-01,\n",
      "        6.66944236e-02, -8.93920586e-02,  1.77981262e-03,  1.64885428e-02,\n",
      "       -1.56290725e-01,  1.61397830e-01,  2.92741079e-02,  7.79738426e-02,\n",
      "       -9.25794467e-02, -6.01995029e-02, -3.91474068e-02, -1.02739781e-02,\n",
      "        1.13351345e-01, -1.45645171e-01,  5.08707538e-02, -2.64141172e-01,\n",
      "        2.04576433e-01, -1.97900116e-01, -2.06105560e-01, -2.11239994e-01,\n",
      "       -1.02349021e-01, -2.25915670e-01, -1.13369888e-02, -7.54203051e-02,\n",
      "       -3.45517471e-02,  2.05606014e-01,  2.51334935e-01,  5.34804873e-02,\n",
      "       -2.84554958e-01,  9.68693569e-02,  5.16661443e-02,  1.63908839e-01,\n",
      "        1.04892246e-01,  1.73709184e-01,  1.20288014e-01,  5.34407049e-03,\n",
      "        1.86805308e-01,  7.26758167e-02, -5.74942976e-02,  1.54725507e-01,\n",
      "       -2.43219361e-01,  9.83694941e-03,  8.68274570e-02,  4.98713478e-02,\n",
      "       -3.12944725e-02, -1.80508658e-01, -2.59155408e-02,  4.00470681e-02,\n",
      "       -1.36165455e-01, -1.01011312e-02,  2.40583085e-02,  1.64923504e-01,\n",
      "       -7.12912232e-02, -1.20713949e-01, -2.56783783e-01,  5.84230351e-04,\n",
      "       -3.29700038e-02, -1.78817242e-01, -7.36189261e-02, -1.85010023e-02,\n",
      "        1.59733385e-01,  1.84004575e-01,  1.28793940e-01,  1.50596974e-02,\n",
      "       -1.37186766e-01, -1.61069706e-01,  7.73564726e-03, -5.32380529e-02,\n",
      "       -1.56855285e-01, -1.94770880e-02, -1.40500769e-01, -2.69841366e-02,\n",
      "       -7.84373730e-02,  1.14544548e-01, -1.62768409e-01, -1.19148761e-01,\n",
      "       -9.52749178e-02, -9.74095538e-02, -2.22747326e-02,  9.73957870e-03,\n",
      "       -7.21930787e-02,  7.62133598e-02, -7.77077749e-02,  5.19007519e-02,\n",
      "        4.94829044e-02,  1.36280000e-01, -1.25486359e-01, -1.35807499e-01,\n",
      "        1.24212787e-01,  1.55136973e-01, -1.61513567e-01,  1.16454519e-01,\n",
      "        1.90357223e-01,  1.62808552e-01,  3.51508297e-02,  1.47957243e-02,\n",
      "       -8.16974789e-02, -1.81308802e-04, -1.24410152e-01,  1.22337025e-02,\n",
      "       -1.86594706e-02,  2.59370267e-01,  1.00070022e-01, -4.18788604e-02,\n",
      "       -4.43311296e-02,  1.76918302e-02, -1.94739684e-01,  9.07578040e-04,\n",
      "       -1.15994267e-01,  1.21990830e-01, -1.33221880e-01, -8.16362798e-02,\n",
      "        4.30058502e-02, -2.34962285e-01,  1.66115791e-01,  5.20411432e-02,\n",
      "       -1.91807467e-02,  1.76384076e-02])), ('neutral', array([ 1.88235294e+00,  0.00000000e+00,  4.55000000e+02,  2.10000000e+02,\n",
      "        1.50000000e+01,  0.00000000e+00,  0.00000000e+00,  0.00000000e+00,\n",
      "        0.00000000e+00,  0.00000000e+00,  0.00000000e+00,  0.00000000e+00,\n",
      "        0.00000000e+00,  0.00000000e+00,  0.00000000e+00,  0.00000000e+00,\n",
      "        0.00000000e+00,  0.00000000e+00, -1.03160813e-01,  2.57963717e-01,\n",
      "        2.48253495e-01,  8.14913213e-03, -1.19025588e-01, -2.94035692e-02,\n",
      "       -3.12661636e-03,  5.74204177e-02, -1.00556619e-01,  7.65774325e-02,\n",
      "       -5.99712692e-02, -1.16432749e-01,  1.08758488e-03, -1.01655051e-02,\n",
      "       -3.68465520e-02, -1.29200879e-03,  4.67186272e-02,  5.49261756e-02,\n",
      "       -1.10117242e-01,  1.18738972e-01,  1.57174543e-01,  8.45587999e-02,\n",
      "        1.67834207e-01, -6.23158813e-02, -2.20507234e-01, -8.10198039e-02,\n",
      "        1.27510145e-01, -1.02150641e-01,  2.20494904e-02, -1.42285615e-01,\n",
      "       -9.55767930e-02, -2.58072108e-01,  1.26299346e-02,  1.06028140e-01,\n",
      "        1.32856697e-01,  6.81081042e-02, -8.03648159e-02,  9.84219685e-02,\n",
      "        1.23915672e-02, -1.83594957e-01,  2.47130031e-03, -3.27601805e-02,\n",
      "        4.45936900e-03,  4.93251421e-02, -5.34114568e-03,  1.16653964e-01,\n",
      "       -7.03038722e-02,  8.37528110e-02, -2.78648660e-02, -9.42697972e-02,\n",
      "       -8.42403769e-02, -1.02224182e-02, -1.11903846e-01, -2.83589419e-02,\n",
      "       -2.20692232e-01,  2.74674207e-01,  5.92277609e-02,  7.88809061e-02,\n",
      "        5.32263629e-02,  5.96806072e-02,  2.55351290e-02, -1.68308690e-01,\n",
      "        2.06449442e-02, -1.22998739e-02, -7.94106424e-02, -6.66096807e-02,\n",
      "       -1.03218675e-01, -4.69024815e-02, -9.19386148e-02, -1.35944724e-01,\n",
      "        1.07470214e-01,  1.11779265e-01,  9.29516852e-02,  1.41361907e-01,\n",
      "       -1.25923902e-01, -9.82897580e-02,  2.86489353e-02, -6.70673400e-02,\n",
      "        1.11877322e-01, -9.05107707e-02, -1.47065848e-01,  2.00650450e-02,\n",
      "       -9.93361846e-02,  2.06651222e-02,  6.40935972e-02,  8.08885247e-02,\n",
      "       -6.51142523e-02,  8.65180939e-02,  8.81156325e-02,  6.47043809e-02,\n",
      "        1.06551461e-01, -1.16225742e-01, -1.03321590e-01,  2.84741186e-02,\n",
      "        5.65820225e-02,  2.26899296e-01, -1.15036797e-02,  1.03057036e-02,\n",
      "        7.86367804e-02, -1.47746757e-01, -9.62468889e-03,  7.85171539e-02,\n",
      "        7.60474205e-02,  5.71507439e-02, -1.16823457e-01, -6.74155867e-03,\n",
      "        5.06822243e-02, -2.28512302e-01, -1.20593585e-01, -1.59405321e-01,\n",
      "        7.71177262e-02,  9.84877646e-02,  5.68300486e-02,  7.15022087e-02,\n",
      "       -1.80068254e-01,  4.75105681e-02,  5.26535660e-02, -1.41044527e-01,\n",
      "       -9.74252969e-02,  8.26330781e-02,  1.78554803e-01,  1.15819417e-01,\n",
      "        8.17389786e-03,  1.14114754e-01, -1.55595019e-02, -8.13484564e-02,\n",
      "       -5.90203032e-02, -7.88292140e-02])), ('neutral', array([ 2.43478261e+00,  0.00000000e+00,  1.28300000e+03,  4.06000000e+02,\n",
      "        3.10000000e+01,  4.00000000e+00,  6.00000000e+00,  0.00000000e+00,\n",
      "        0.00000000e+00,  2.40000000e+01,  8.00000000e+00,  8.00000000e+00,\n",
      "        0.00000000e+00,  0.00000000e+00,  0.00000000e+00,  1.00000000e+00,\n",
      "        0.00000000e+00,  0.00000000e+00, -9.77672054e-04,  2.44813874e-01,\n",
      "       -3.74099426e-02,  1.14747636e-01, -1.16287202e-01,  1.38491243e-02,\n",
      "        9.28756148e-02, -1.90467685e-01,  1.08080037e-01,  1.88404605e-01,\n",
      "        1.37724310e-01,  1.02066912e-01, -1.73148736e-02, -2.79226117e-02,\n",
      "       -8.32983777e-02, -2.17794417e-03,  9.35276002e-02,  6.55466169e-02,\n",
      "       -1.15475826e-01, -9.86474231e-02, -3.18749934e-01,  2.22045667e-02,\n",
      "        2.28814095e-01, -8.85768980e-02, -3.56846564e-02,  5.76540604e-02,\n",
      "        1.37686774e-01,  1.10241272e-01, -9.93173569e-02,  9.61232334e-02,\n",
      "        2.14782264e-02, -2.20087051e-01,  7.36295059e-02,  1.29128128e-01,\n",
      "       -1.27258990e-02,  1.11207098e-01,  4.42645326e-02,  3.03901196e-01,\n",
      "       -1.42422868e-02, -1.20946821e-02,  5.13245724e-02,  1.89903751e-01,\n",
      "       -2.11826846e-01,  1.25290011e-03,  2.13921349e-02,  2.97550727e-02,\n",
      "        3.35442275e-02,  1.48559988e-01,  8.38676021e-02, -1.55272335e-01,\n",
      "       -9.15368795e-02,  2.91740261e-02,  3.94056104e-02,  1.05894551e-01,\n",
      "       -1.57268018e-01,  1.23409703e-01,  4.19347845e-02,  5.82275465e-02,\n",
      "       -1.03483655e-01, -4.09873165e-02, -2.42991239e-01, -3.35940868e-02,\n",
      "        1.00454114e-01,  1.05470836e-01, -3.81835662e-02, -1.27635464e-01,\n",
      "       -9.55986083e-02, -7.95436278e-02, -8.31266269e-02,  1.08351372e-01,\n",
      "        1.76826298e-01,  3.23293120e-01,  1.15559839e-01,  7.07885325e-02,\n",
      "       -1.88785702e-01, -1.37322709e-01,  1.20414369e-01,  1.78733364e-01,\n",
      "        8.43471140e-02,  9.75006372e-02, -3.08628708e-01, -9.59283710e-02,\n",
      "       -1.32066742e-01,  2.07110425e-03, -5.83036467e-02,  2.22011618e-02,\n",
      "       -1.37402371e-01,  2.40496993e-01, -8.83721635e-02, -1.74156278e-02,\n",
      "       -4.73263897e-02,  1.34157911e-01,  7.39229769e-02,  2.33775064e-01,\n",
      "       -7.11091161e-02,  9.23069865e-02, -2.17302013e-02,  6.50778264e-02,\n",
      "       -1.23358943e-01,  5.09677678e-02, -1.37009308e-01, -1.60955951e-01,\n",
      "        9.14535969e-02, -1.93598196e-01, -1.56593755e-01,  2.94770654e-02,\n",
      "       -1.36831671e-01, -1.01051554e-01, -9.43420455e-02, -1.55075401e-01,\n",
      "       -1.92908868e-02,  1.91831633e-01, -1.25417620e-01, -4.86123152e-02,\n",
      "        6.62791133e-02, -1.62902057e-01, -6.69753030e-02, -3.74518856e-02,\n",
      "       -1.46830127e-01,  1.47449955e-01,  1.29306719e-01, -1.35552675e-01,\n",
      "       -4.07085828e-02,  1.21679693e-01,  1.06883518e-01, -1.28394410e-01,\n",
      "       -1.36424467e-01, -7.83960521e-02])), ('neutral', array([ 2.23529412e+00,  0.00000000e+00,  4.52000000e+02,  1.81000000e+02,\n",
      "        1.60000000e+01,  1.00000000e+00,  1.00000000e+00,  0.00000000e+00,\n",
      "        0.00000000e+00,  2.00000000e+01,  4.00000000e+00,  4.00000000e+00,\n",
      "        0.00000000e+00,  0.00000000e+00,  0.00000000e+00,  1.00000000e+00,\n",
      "        0.00000000e+00,  0.00000000e+00, -7.21798316e-02,  1.94587559e-01,\n",
      "        9.12662894e-02, -2.43238569e-03,  1.35026038e-01,  2.24045888e-02,\n",
      "        1.51754739e-02, -3.06977499e-02,  2.14887276e-01, -1.11316601e-02,\n",
      "        9.89478007e-02,  7.49803009e-03,  9.29646194e-02, -1.38435647e-01,\n",
      "       -3.02613564e-02, -7.16950446e-02, -3.17141414e-02,  1.09632842e-01,\n",
      "       -1.39245182e-01,  1.06719449e-01, -1.03140242e-01, -8.46198797e-02,\n",
      "        1.01002589e-01, -2.88720131e-02, -1.25287485e-03,  3.45435031e-02,\n",
      "        7.49077722e-02, -3.80020179e-02,  5.41026965e-02, -8.33511800e-02,\n",
      "       -2.28917729e-02,  6.77022785e-02, -3.32453102e-02,  3.95961329e-02,\n",
      "        5.97500242e-02,  5.29752709e-02,  5.64148314e-02,  2.99042016e-02,\n",
      "       -1.84337720e-01,  9.45825502e-02, -1.76627234e-01, -2.82379836e-02,\n",
      "       -9.00142342e-02,  3.40692401e-02, -6.83319718e-02,  1.41073629e-01,\n",
      "       -6.86529577e-02,  3.15944366e-02, -1.79098118e-02,  4.94377986e-02,\n",
      "       -1.48363054e-01, -1.03136478e-02, -9.17644352e-02, -2.55216677e-02,\n",
      "       -2.01356843e-01, -1.01150438e-01,  6.60847276e-02,  7.92729855e-02,\n",
      "       -2.32738632e-04, -9.52994153e-02, -8.38718638e-02, -1.09697962e-02,\n",
      "        1.35502294e-01,  2.73201726e-02,  4.17670272e-02, -2.10638419e-01,\n",
      "       -5.40483929e-02, -4.33847159e-02, -1.79583490e-01, -2.92509347e-02,\n",
      "        1.49506539e-01,  1.28744945e-01,  4.87067476e-02,  3.55554111e-02,\n",
      "        4.71205711e-02, -1.59463271e-01, -1.52466595e-01,  3.04014217e-02,\n",
      "       -4.31184992e-02, -1.09449573e-01, -1.09084204e-01, -3.87105383e-02,\n",
      "       -1.61598876e-01, -3.13575938e-02, -1.17704436e-01, -9.95585993e-02,\n",
      "        7.31912777e-02,  5.74545674e-02, -7.05899224e-02,  3.05360034e-02,\n",
      "       -3.57312970e-02, -1.19718071e-02, -7.42835691e-03,  1.63935706e-01,\n",
      "       -2.18310989e-02,  9.95823368e-02,  3.12600248e-02,  7.30164163e-03,\n",
      "       -1.17494330e-01, -7.38049895e-02,  6.71598017e-02, -2.26652205e-01,\n",
      "       -7.06098974e-02, -2.32614856e-02,  2.77217537e-01, -3.70545574e-02,\n",
      "       -6.25514463e-02,  3.00726295e-02, -1.46378145e-01,  7.39584118e-03,\n",
      "        9.61239189e-02, -2.33419947e-02, -1.78454906e-01, -2.12323755e-01,\n",
      "       -1.22854955e-01, -1.25531942e-01, -2.39295177e-02,  4.64365110e-02,\n",
      "       -7.22845420e-02,  9.93023813e-02, -1.00548662e-01, -8.54264498e-02,\n",
      "       -1.07929550e-01, -4.91096787e-02, -2.29545888e-02,  1.09229097e-02,\n",
      "       -3.80516574e-02, -7.28908693e-03])), ('neutral', array([ 1.81818182e+00,  0.00000000e+00,  8.40000000e+01,  7.20000000e+01,\n",
      "        9.00000000e+00,  0.00000000e+00,  0.00000000e+00,  0.00000000e+00,\n",
      "        0.00000000e+00,  0.00000000e+00,  0.00000000e+00,  0.00000000e+00,\n",
      "        0.00000000e+00,  0.00000000e+00,  0.00000000e+00,  0.00000000e+00,\n",
      "        0.00000000e+00,  0.00000000e+00,  5.54018766e-02,  2.19341666e-02,\n",
      "        7.16804564e-02,  4.25902791e-02, -1.71170086e-02,  1.78069491e-02,\n",
      "        4.36097234e-02,  1.48657402e-02,  3.10721938e-02, -3.05563342e-02,\n",
      "       -4.77441214e-02,  6.86558411e-02,  3.54947448e-02,  8.33270513e-03,\n",
      "       -3.42316180e-02, -7.07916915e-02,  1.78259220e-02,  7.41925240e-02,\n",
      "       -4.39621583e-02,  4.97709513e-02, -6.56089485e-02,  3.03906407e-02,\n",
      "       -3.33735980e-02, -6.16659150e-02, -1.48150008e-02,  5.80586353e-03,\n",
      "        1.34064630e-02,  5.31767756e-02,  2.05058306e-02, -5.02954684e-02,\n",
      "        4.85493131e-02, -3.87976319e-02,  8.11046436e-02,  7.19363317e-02,\n",
      "        8.49531963e-02, -8.04466382e-02, -5.29773943e-02,  2.03339189e-01,\n",
      "       -9.00682136e-02,  4.36186604e-02,  3.84072810e-02,  1.33776829e-01,\n",
      "       -6.35701567e-02,  1.29907159e-03, -8.81961454e-03,  1.59197167e-01,\n",
      "       -1.23408036e-02, -5.30305617e-02, -5.42066172e-02, -9.66587737e-02,\n",
      "       -8.55635405e-02,  1.20385274e-01,  1.31276667e-01,  8.62125009e-02,\n",
      "       -7.27078691e-02, -6.26425892e-02,  9.94126126e-02, -3.50013115e-02,\n",
      "       -1.66871082e-02, -5.24655655e-02, -5.26250014e-03, -5.54239601e-02,\n",
      "       -1.13132849e-01, -4.16159071e-02, -1.38033330e-01,  2.45984402e-02,\n",
      "       -2.48811264e-02, -4.41116057e-02, -1.57436267e-01,  3.73110827e-03,\n",
      "        2.67485958e-02,  7.29985684e-02, -6.47696108e-02,  1.47103891e-01,\n",
      "       -4.66832742e-02, -7.18537048e-02,  5.60093718e-03, -1.03280269e-01,\n",
      "        9.19350982e-02, -2.93889139e-02,  2.20006076e-03, -1.02311388e-01,\n",
      "       -7.19411997e-04, -3.91547196e-02,  1.03472201e-02, -2.91886292e-02,\n",
      "       -8.45552236e-02,  2.08254278e-01, -1.12588473e-01,  1.20379478e-02,\n",
      "       -9.79100987e-02,  2.39716307e-03, -6.37419969e-02,  1.01668075e-01,\n",
      "        3.99594456e-02,  6.79315180e-02, -4.29332964e-02, -2.19809785e-02,\n",
      "       -2.89398655e-02, -9.30217877e-02,  5.09410650e-02, -2.18260869e-01,\n",
      "       -6.53090402e-02, -1.46779686e-01, -1.48703054e-01,  8.14625397e-02,\n",
      "       -2.72541456e-02, -2.16175571e-01, -1.27053976e-01, -1.83593214e-01,\n",
      "        2.27737390e-02,  3.89114805e-02,  1.29218409e-02,  3.70202065e-02,\n",
      "       -3.31816711e-02, -5.99578470e-02, -6.40430674e-02, -8.74078721e-02,\n",
      "        8.28750506e-02,  7.05517232e-02, -1.29605725e-01, -2.44759750e-02,\n",
      "        5.71160838e-02,  1.88594572e-02,  5.65284155e-02,  3.58006987e-03,\n",
      "       -8.67829770e-02, -6.62565008e-02])), ('neutral', array([ 2.17391304e+00,  0.00000000e+00,  1.29400000e+03,  4.29000000e+02,\n",
      "        3.60000000e+01,  6.00000000e+00,  6.00000000e+00,  0.00000000e+00,\n",
      "        0.00000000e+00,  0.00000000e+00,  0.00000000e+00,  0.00000000e+00,\n",
      "        0.00000000e+00,  0.00000000e+00,  0.00000000e+00,  0.00000000e+00,\n",
      "        0.00000000e+00,  0.00000000e+00,  1.10005349e-01,  8.26976728e-03,\n",
      "        1.67716041e-01, -2.20171526e-01,  1.67062089e-01,  2.08679527e-01,\n",
      "       -2.50600189e-01,  1.14289373e-01,  2.80364156e-01, -2.29240283e-01,\n",
      "        4.69935648e-02, -2.93775182e-02, -8.96849670e-03, -5.27401343e-02,\n",
      "        1.52451470e-01,  1.49083793e-01, -8.46540034e-02,  1.37886584e-01,\n",
      "        1.19265586e-01, -1.43713718e-02,  2.66991258e-01,  1.15483060e-01,\n",
      "       -3.73273760e-01, -1.09480567e-01,  9.65853706e-02,  2.90499270e-01,\n",
      "        6.44702241e-02,  2.69919306e-01,  1.17069885e-01, -9.72501934e-02,\n",
      "        1.26439124e-01,  7.16729313e-02, -1.08456276e-02, -1.33351326e-01,\n",
      "       -2.50916898e-01,  5.31712696e-02, -1.15215480e-01, -3.04572564e-02,\n",
      "       -1.63954943e-01, -1.68405492e-02, -1.49497002e-01,  2.11687684e-01,\n",
      "       -9.36488509e-02,  1.21993914e-01,  1.32731169e-01,  1.05102938e-02,\n",
      "        6.31912574e-02, -1.08385071e-01, -4.22821939e-02,  1.77900925e-01,\n",
      "        3.17464955e-02, -1.27873749e-01, -1.56216584e-02,  1.36113673e-01,\n",
      "       -3.47750522e-02, -5.99449798e-02, -9.14253294e-02,  5.46672568e-02,\n",
      "        2.39404082e-01, -1.29049167e-01, -1.21956170e-01, -1.10244453e-02,\n",
      "       -1.53498217e-01,  6.76766187e-02,  1.76879510e-01, -2.53296942e-01,\n",
      "        6.59553632e-02, -1.80546775e-01,  1.97214440e-01, -6.14652857e-02,\n",
      "        9.77369249e-02, -5.88716045e-02, -8.31511710e-03,  3.29297185e-02,\n",
      "        3.24594565e-02, -3.71068344e-02, -5.96687011e-02, -1.72380820e-01,\n",
      "       -3.81772928e-02, -1.78397551e-01, -1.37053385e-01,  2.04228997e-01,\n",
      "       -5.52967191e-02, -1.12887897e-01, -2.74398446e-01, -4.03059497e-02,\n",
      "        2.04057038e-01, -5.46791553e-02,  1.58812642e-01,  2.33021826e-02,\n",
      "       -2.44196907e-01, -1.41861334e-01, -8.37809741e-02, -1.58253357e-01,\n",
      "        2.19478738e-02,  9.19222459e-02, -5.48305362e-02,  9.16906595e-02,\n",
      "       -5.01819067e-02, -1.13080941e-01,  1.88013956e-01, -2.72395343e-01,\n",
      "       -2.03922421e-01,  2.70143393e-02,  8.38548020e-02,  4.89079952e-02,\n",
      "       -5.94902560e-02, -2.87836837e-03,  1.73647985e-01, -1.32219613e-01,\n",
      "        1.16109416e-01,  6.80189207e-02, -7.56311119e-02, -1.62567988e-01,\n",
      "        2.52978317e-02, -3.04114431e-01, -1.38867840e-01, -2.75498480e-01,\n",
      "       -2.60009676e-01, -4.96209003e-02, -1.55304568e-02,  8.88141692e-02,\n",
      "        1.28067434e-01, -2.09430128e-01,  1.93580310e-03, -1.67876780e-01,\n",
      "        6.60757050e-02, -8.29389617e-02])), ('neutral', array([ 2.33333333e+00,  1.05952381e-01,  1.10000000e+02,  8.60000000e+01,\n",
      "        1.20000000e+01,  1.00000000e+00,  1.00000000e+00,  0.00000000e+00,\n",
      "        0.00000000e+00,  5.00000000e+00,  2.00000000e+00,  2.00000000e+00,\n",
      "        1.00000000e+00,  0.00000000e+00,  0.00000000e+00,  0.00000000e+00,\n",
      "        0.00000000e+00,  0.00000000e+00,  5.50206117e-02,  6.48178980e-02,\n",
      "        2.13545039e-01,  1.56408086e-01,  5.25724739e-02, -2.30837613e-02,\n",
      "        1.39040977e-01,  5.31255193e-02,  2.21691519e-01, -6.24162778e-02,\n",
      "       -6.84546903e-02, -8.86028111e-02,  6.79339096e-02, -1.51592746e-01,\n",
      "       -1.04609787e-01, -5.25497012e-02,  3.33560072e-02, -6.56845942e-02,\n",
      "       -4.75841947e-02,  2.67283693e-02, -1.55389860e-01,  9.21499804e-02,\n",
      "       -1.09437317e-01, -1.21539319e-02, -6.02307590e-03, -3.44512388e-02,\n",
      "       -2.23726071e-02, -6.97539002e-02, -3.10331117e-02,  1.23852640e-02,\n",
      "        1.09033296e-02, -4.72255796e-02,  7.94411823e-02,  5.29330298e-02,\n",
      "       -1.39239475e-01,  7.11272806e-02, -2.29641981e-02,  8.47884342e-02,\n",
      "       -1.17808618e-01, -1.04017004e-01,  1.69812776e-02,  8.68594348e-02,\n",
      "       -1.33787021e-01, -2.60152966e-02,  4.78625111e-02, -8.50629713e-03,\n",
      "        9.54926535e-02,  7.29139224e-02, -5.05969413e-02, -9.09281969e-02,\n",
      "       -1.27369076e-01,  1.11375041e-01,  9.81793702e-02, -8.21376499e-03,\n",
      "       -5.72842807e-02,  4.50867973e-03,  5.66075332e-02,  2.49211416e-02,\n",
      "       -6.07612096e-02, -3.07052191e-02, -6.32101148e-02, -5.70942387e-02,\n",
      "       -3.54698822e-02, -1.55323669e-01, -1.84788927e-01, -1.59466311e-01,\n",
      "       -8.21680576e-02, -2.86463909e-02, -1.18300505e-01, -8.34643841e-02,\n",
      "       -7.19895437e-02,  4.34269682e-02, -9.74376276e-02,  2.09386870e-01,\n",
      "        1.94833018e-02, -2.19251066e-01,  1.52069982e-02, -2.46100053e-02,\n",
      "       -7.88133293e-02, -1.97118580e-01, -1.69525500e-02,  3.62646058e-02,\n",
      "        3.26220365e-03, -8.28158408e-02, -1.44118622e-01,  9.70763564e-02,\n",
      "       -1.41454414e-01,  1.69751436e-01, -4.53239307e-02,  9.20934081e-02,\n",
      "       -1.71144947e-01, -1.41677305e-01, -7.52587840e-02,  1.54122233e-01,\n",
      "        3.91243547e-02,  8.61695930e-02,  5.21448776e-02,  6.09031022e-02,\n",
      "       -1.98249876e-01, -1.59362778e-01,  1.38827458e-01, -1.21219173e-01,\n",
      "       -4.35096473e-02, -3.72693092e-02, -5.48792025e-03,  1.10202223e-01,\n",
      "       -1.18259698e-01, -9.58756432e-02,  1.03019224e-02, -1.32391766e-01,\n",
      "        3.92349549e-02,  9.65084299e-04, -1.45765953e-02, -1.38683528e-01,\n",
      "       -1.22693412e-01, -3.95599119e-02,  4.16451059e-02, -1.58416554e-01,\n",
      "        1.00934751e-01,  4.90399599e-02,  1.19271046e-02,  7.78537765e-02,\n",
      "       -1.36288702e-01, -6.89467266e-02, -4.96372394e-02,  7.07044313e-03,\n",
      "       -6.31202683e-02,  3.56861912e-02])), ('neutral', array([ 2.12500000e+00,  0.00000000e+00,  3.47000000e+02,  1.88000000e+02,\n",
      "        2.00000000e+01,  2.00000000e+00,  3.00000000e+00,  0.00000000e+00,\n",
      "        0.00000000e+00,  0.00000000e+00,  0.00000000e+00,  0.00000000e+00,\n",
      "        0.00000000e+00,  0.00000000e+00,  0.00000000e+00,  0.00000000e+00,\n",
      "        0.00000000e+00,  0.00000000e+00, -1.39294922e-01, -8.11746418e-02,\n",
      "        3.18439037e-01,  4.76295263e-01, -6.81197047e-02, -1.61429167e-01,\n",
      "        1.89849764e-01, -1.30609334e-01,  1.06675483e-01,  1.79315116e-02,\n",
      "       -3.02442722e-02,  9.04263556e-03,  1.81265213e-02, -1.47420242e-01,\n",
      "       -2.47134697e-02,  1.74834318e-02, -1.66674424e-02,  3.57533898e-03,\n",
      "       -1.36930496e-01, -1.56341493e-02, -1.35742769e-01,  6.64729625e-02,\n",
      "        2.15196963e-02,  1.09461710e-01, -1.70733128e-02,  7.15807229e-02,\n",
      "       -1.79946702e-03,  1.13503627e-01,  1.59999728e-01,  1.00412793e-01,\n",
      "        8.85611996e-02, -3.96371149e-02,  3.74601409e-02,  1.54097900e-02,\n",
      "       -1.01777583e-01,  3.91404741e-02,  4.58229370e-02,  2.74230897e-01,\n",
      "       -1.56013548e-01, -2.60089128e-03, -5.49356826e-02,  1.88791960e-01,\n",
      "       -1.07803993e-01, -2.32980810e-02, -5.89997470e-02,  3.25950445e-03,\n",
      "        1.04902476e-01,  1.04412705e-01,  2.75173341e-03, -1.45751312e-01,\n",
      "       -1.35848656e-01,  6.81841969e-02, -6.59351423e-02,  1.23140819e-01,\n",
      "       -9.29867104e-02,  2.81992555e-02,  7.72633851e-02,  2.62387600e-02,\n",
      "       -8.57399893e-04, -1.33708626e-01, -4.93170246e-02, -3.37736607e-02,\n",
      "        4.79797041e-03, -1.07676633e-01, -1.92208067e-01, -3.29258852e-02,\n",
      "        3.62565815e-02, -1.11128941e-01,  5.02035907e-03, -6.38902709e-02,\n",
      "        7.68421218e-02,  1.51080310e-01, -7.20638335e-02,  1.68224692e-01,\n",
      "       -4.33721617e-02, -9.46599841e-02, -1.42117729e-02, -4.98030297e-02,\n",
      "        1.17980503e-01,  8.43867566e-03,  1.03283627e-02,  1.51776120e-01,\n",
      "        1.05144605e-01, -1.43382698e-02, -1.05038971e-01,  4.64137048e-02,\n",
      "       -5.21452799e-02,  1.91772208e-01, -1.68612361e-01,  1.08717427e-01,\n",
      "       -1.35752261e-01, -2.18127333e-02,  3.11274305e-02,  1.92578718e-01,\n",
      "       -9.70168337e-02,  2.51651350e-02, -9.07604545e-02,  7.49112964e-02,\n",
      "       -8.59018192e-02,  4.21015825e-03, -7.28657022e-02, -8.26700255e-02,\n",
      "        5.19195870e-02, -6.93769380e-02, -5.08817658e-02,  9.83407721e-02,\n",
      "        8.55657086e-02, -1.22788012e-01, -1.04405791e-01, -1.00557901e-01,\n",
      "        8.38131681e-02,  5.26065305e-02, -4.77679968e-02,  4.08863574e-02,\n",
      "       -5.67610823e-02, -8.76502991e-02, -1.65423304e-02, -8.89195129e-02,\n",
      "        6.90115318e-02, -3.00416034e-02, -6.68600202e-02,  5.27063981e-02,\n",
      "        1.06218541e-02,  9.73962620e-02, -2.35852413e-02,  6.73938990e-02,\n",
      "       -1.59234419e-01, -1.23645272e-02])), ('neutral', array([ 2.00000000e+00,  0.00000000e+00,  4.45000000e+02,  2.15000000e+02,\n",
      "        1.80000000e+01,  1.00000000e+00,  1.00000000e+00,  0.00000000e+00,\n",
      "        0.00000000e+00,  0.00000000e+00,  0.00000000e+00,  0.00000000e+00,\n",
      "        0.00000000e+00,  0.00000000e+00,  0.00000000e+00,  0.00000000e+00,\n",
      "        0.00000000e+00,  0.00000000e+00,  2.21397895e-02, -4.51559424e-02,\n",
      "        2.72434175e-01, -3.74118611e-02,  9.52242017e-02, -7.19721690e-02,\n",
      "       -6.14766143e-02, -2.29638934e-01,  5.61959967e-02, -1.08113818e-01,\n",
      "        2.91348565e-02, -1.63101763e-01, -7.34890578e-03, -4.01278213e-02,\n",
      "       -1.67493820e-02,  3.02231982e-02,  9.43165272e-03,  3.97835020e-03,\n",
      "       -9.66278464e-02,  8.92324671e-02, -2.10909694e-01,  9.50315073e-02,\n",
      "        5.63968979e-02, -2.13554397e-01, -2.00805832e-02, -4.46969792e-02,\n",
      "       -1.91054136e-01,  3.09767760e-02,  4.40541506e-02,  9.82165709e-02,\n",
      "        1.35063663e-01, -4.40752581e-02,  1.16339631e-01,  4.39383127e-02,\n",
      "       -3.61373536e-02,  1.40391797e-01,  1.35733904e-02, -7.97869870e-04,\n",
      "       -1.25075892e-01, -1.29199575e-03, -7.08224624e-02,  4.47546653e-02,\n",
      "       -1.21527473e-02,  5.50496317e-02, -6.69399137e-03,  3.98903042e-02,\n",
      "        8.86704400e-02,  2.69568525e-02, -8.67675692e-02, -9.94170383e-02,\n",
      "       -1.45655200e-01,  1.70763925e-01,  2.56935637e-02,  9.12050381e-02,\n",
      "        2.39741243e-02,  1.82146449e-02,  1.27900735e-01,  6.62056729e-02,\n",
      "       -3.69718741e-03, -2.80293729e-02, -2.75204983e-02, -3.05627268e-02,\n",
      "       -1.44050434e-01, -1.43841967e-01, -6.82950467e-02, -7.92987719e-02,\n",
      "       -8.12035352e-02, -2.02882313e-03, -1.28841743e-01, -1.14708252e-01,\n",
      "        1.99161723e-01,  2.34597057e-01, -9.95897427e-02,  1.38900414e-01,\n",
      "        1.31447479e-01, -1.31698459e-01,  1.25287864e-02, -1.81065768e-01,\n",
      "        6.42738640e-02, -1.46378174e-01, -9.42741856e-02, -1.10837325e-01,\n",
      "       -5.41701615e-02, -1.48379669e-01, -4.09786552e-02,  8.84843543e-02,\n",
      "       -8.09015781e-02,  2.88459837e-01,  1.28676593e-02,  1.00773677e-01,\n",
      "       -1.41175568e-01, -3.00760418e-01, -1.36670440e-01,  1.99380234e-01,\n",
      "        1.36219367e-01,  1.26813427e-01, -1.78738367e-02,  8.75483528e-02,\n",
      "       -1.37847394e-01, -1.20988250e-01, -7.63951242e-02, -1.24706849e-01,\n",
      "       -2.48329006e-02, -7.91440606e-02, -1.09913133e-01, -3.03835310e-02,\n",
      "        9.83221829e-02, -5.68555631e-02, -6.42374456e-02, -6.42399490e-02,\n",
      "        4.56092693e-02,  7.33816847e-02, -8.68533254e-02,  5.22862971e-02,\n",
      "       -8.03421736e-02, -3.07037085e-01,  4.27817106e-02, -1.95501342e-01,\n",
      "        5.92222176e-02,  1.64246202e-01,  1.05733890e-02, -7.53894001e-02,\n",
      "       -2.47260690e-01,  2.88369507e-02,  1.60674453e-01, -1.02535114e-02,\n",
      "       -2.53128633e-02, -2.82252859e-02])), ('neutral', array([ 2.36363636e+00,  3.05361305e-02,  4.39700000e+03,  9.51000000e+02,\n",
      "        5.40000000e+01,  1.10000000e+01,  1.10000000e+01,  1.00000000e+00,\n",
      "        0.00000000e+00,  2.10000000e+01,  5.00000000e+00,  5.00000000e+00,\n",
      "        0.00000000e+00,  0.00000000e+00,  0.00000000e+00,  0.00000000e+00,\n",
      "        0.00000000e+00,  0.00000000e+00,  2.92957615e-04, -2.82443762e-01,\n",
      "       -2.86507094e-03, -3.68732982e-03, -1.68000743e-01,  6.62679970e-02,\n",
      "       -3.38223159e-01,  3.21125776e-01,  1.08967729e-01, -7.19984695e-02,\n",
      "        9.52269956e-02,  1.57955334e-01, -2.25161374e-01, -1.75205335e-01,\n",
      "        1.23185232e-01, -3.99557734e-03,  4.31625098e-01, -1.98023796e-01,\n",
      "       -4.01394702e-02, -1.01632215e-01, -1.44810393e-01, -9.75352451e-02,\n",
      "       -1.46983508e-02, -3.75146836e-01, -3.02930623e-02,  1.13242164e-01,\n",
      "        9.73822922e-02,  5.83080836e-02, -1.55379444e-01, -7.02204108e-02,\n",
      "        3.05532627e-02, -1.39350429e-01, -4.57321340e-03, -6.97340220e-02,\n",
      "       -5.77239804e-02,  1.75211295e-01,  1.21556699e-01, -1.61213234e-01,\n",
      "       -1.01262061e-02,  9.72218290e-02, -7.72324502e-02,  1.07774444e-01,\n",
      "       -3.60498391e-02,  8.28038529e-02, -1.54522017e-01,  1.56144589e-01,\n",
      "        9.21909586e-02, -7.43724108e-02, -2.55440585e-02,  1.09704189e-01,\n",
      "        6.87847361e-02,  2.62770392e-02, -2.51465797e-01,  2.49615815e-02,\n",
      "        1.24442138e-01, -3.52394767e-02,  9.29745063e-02, -1.55031025e-01,\n",
      "        6.51251748e-02, -3.72424279e-03, -1.51317894e-01,  7.57846758e-02,\n",
      "       -8.90501216e-02, -5.81004061e-02, -1.30869061e-01, -1.08164549e-01,\n",
      "        1.29529595e-01, -4.85511310e-02, -1.29566729e-01, -1.74155116e-01,\n",
      "        8.44397694e-02,  2.25195691e-01,  3.01639531e-02,  6.60337135e-02,\n",
      "       -4.98908348e-02,  2.82915860e-01,  5.40574454e-02, -8.55666474e-02,\n",
      "       -9.64539275e-02,  6.47781715e-02,  2.19982136e-02,  5.59106886e-01,\n",
      "       -1.05833896e-01, -7.66018629e-02, -2.60487616e-01,  6.41993433e-02,\n",
      "       -1.05494455e-01,  3.69966269e-01, -2.32553169e-01,  2.16157228e-01,\n",
      "       -8.70485082e-02,  1.91107243e-02, -2.13810317e-02,  1.55358985e-01,\n",
      "        2.93844968e-01,  1.63249165e-01, -8.78554657e-02,  2.06265807e-01,\n",
      "       -2.18978271e-01, -5.59382379e-01, -1.18830148e-03,  2.14481652e-01,\n",
      "        7.00944150e-03, -7.30373189e-02, -2.48452649e-01,  7.25672469e-02,\n",
      "        4.82420884e-02, -4.18719649e-01, -2.25998223e-01, -6.50569275e-02,\n",
      "       -2.77919799e-01, -5.57391569e-02,  1.27640262e-01,  3.01759213e-01,\n",
      "        2.02577904e-01,  1.83620855e-01, -4.03092355e-02, -1.37016773e-01,\n",
      "        5.01135327e-02,  1.06271103e-01, -8.83186422e-03,  3.41557227e-02,\n",
      "       -1.09159522e-01, -3.39761078e-02, -6.42460287e-02,  1.31985262e-01,\n",
      "       -1.64027214e-01, -4.69751544e-02])), ('neutral', array([ 1.84615385e+00,  0.00000000e+00,  1.65000000e+02,  1.10000000e+02,\n",
      "        1.10000000e+01,  0.00000000e+00,  0.00000000e+00,  0.00000000e+00,\n",
      "        0.00000000e+00,  0.00000000e+00,  0.00000000e+00,  0.00000000e+00,\n",
      "        0.00000000e+00,  0.00000000e+00,  0.00000000e+00,  0.00000000e+00,\n",
      "        0.00000000e+00,  0.00000000e+00, -3.61763500e-02,  9.31590423e-02,\n",
      "        2.37198919e-01,  7.78863579e-02,  5.85278943e-02, -1.80633441e-01,\n",
      "       -2.01644134e-02,  5.13955243e-02,  1.56397253e-01,  5.38746044e-02,\n",
      "        9.72473994e-02,  1.08013920e-01,  1.74966991e-01, -1.83708832e-01,\n",
      "        8.30562934e-02, -1.73350930e-01, -9.24699828e-02, -1.24216355e-01,\n",
      "       -1.58794567e-01,  8.57778341e-02,  2.80701127e-02,  1.31002098e-01,\n",
      "        3.33788283e-02, -6.37215599e-02, -8.82033110e-02, -6.83260113e-02,\n",
      "       -3.07486635e-02,  4.24776599e-02,  3.53501700e-02,  1.05234109e-01,\n",
      "       -1.89275984e-02,  1.15453176e-01, -8.05057511e-02,  1.82791930e-02,\n",
      "        3.84452683e-03,  5.87247834e-02, -1.01853549e-01, -2.23452244e-02,\n",
      "       -8.72365832e-02,  1.39468059e-01, -2.36671660e-02,  3.27559635e-02,\n",
      "       -1.12247095e-01, -6.73137829e-02, -1.14218198e-01,  3.26468050e-02,\n",
      "        1.17892578e-01,  1.66182101e-01, -9.89009216e-02, -3.14152092e-02,\n",
      "       -5.26480889e-03,  1.28194280e-02,  4.37257290e-02, -1.20186098e-01,\n",
      "       -2.89714515e-01,  7.37826750e-02, -2.22936980e-02,  7.68146366e-02,\n",
      "        7.74993896e-02, -1.11452870e-01, -6.74036294e-02,  4.95511405e-02,\n",
      "        2.12871507e-02, -1.91903617e-02, -5.10949939e-02,  1.15114106e-02,\n",
      "       -3.97713520e-02,  2.90347822e-02, -6.79229647e-02,  4.57755439e-02,\n",
      "        8.29152986e-02,  6.25239834e-02, -3.56016587e-03, -2.58935280e-02,\n",
      "       -4.19166759e-02, -1.09228238e-01,  8.60466659e-02, -2.13830471e-02,\n",
      "       -2.16984306e-03, -1.23206871e-02,  4.31987504e-03, -7.02248812e-02,\n",
      "       -7.96897486e-02, -4.02342156e-02,  5.07924594e-02, -7.93933645e-02,\n",
      "       -9.94340517e-03,  2.24957168e-01, -7.46250823e-02, -4.55097258e-02,\n",
      "        3.86330411e-02,  4.55794781e-02, -2.67066415e-02,  5.45328222e-02,\n",
      "       -6.45901337e-02,  3.87387574e-02, -4.66457568e-02, -9.78573039e-02,\n",
      "       -2.22109444e-02, -2.56497450e-02, -2.21649073e-02,  4.87187095e-02,\n",
      "        1.20824296e-02, -2.99067013e-02, -3.31931412e-02,  7.54139051e-02,\n",
      "        1.48100813e-03, -7.54536316e-02, -1.14708126e-03,  5.97279938e-03,\n",
      "       -2.62486096e-02,  1.15210496e-01, -8.41841474e-03,  4.59157899e-02,\n",
      "       -4.60515507e-02, -7.46622160e-02, -3.67458351e-02, -8.79915804e-02,\n",
      "        1.00310877e-01,  9.40289199e-02, -4.19877507e-02, -7.37414584e-02,\n",
      "       -1.04117498e-01,  1.06611438e-01, -2.15236526e-02, -4.52550091e-02,\n",
      "        5.15571721e-02,  3.25745754e-02])), ('neutral', array([ 2.35714286e+00,  3.59933036e-02,  2.54200000e+03,  6.29000000e+02,\n",
      "        3.90000000e+01,  7.00000000e+00,  7.00000000e+00,  1.00000000e+00,\n",
      "        0.00000000e+00,  3.40000000e+01,  8.00000000e+00,  8.00000000e+00,\n",
      "        0.00000000e+00,  0.00000000e+00,  0.00000000e+00,  1.00000000e+00,\n",
      "        0.00000000e+00,  0.00000000e+00, -6.29287288e-02, -6.65516928e-02,\n",
      "       -1.39933601e-02,  1.91653743e-01,  5.93564548e-02,  1.28358796e-01,\n",
      "        3.17499369e-01,  9.53280479e-02, -1.58882365e-02,  1.79031059e-01,\n",
      "        8.38630740e-03,  1.40452506e-02,  1.59352735e-01,  4.20459658e-01,\n",
      "       -8.87787193e-02, -3.34250033e-01, -3.21878716e-02,  1.41600728e-01,\n",
      "        5.76582439e-02, -3.66526730e-02,  9.40440819e-02, -3.70500833e-02,\n",
      "       -3.48148525e-01, -1.73937306e-02, -3.94867919e-02, -1.16591891e-02,\n",
      "        7.50689209e-02, -1.33764520e-02,  5.46697527e-02,  8.27272460e-02,\n",
      "       -1.92306444e-01, -1.39048621e-01,  3.83318901e-01,  5.80353057e-03,\n",
      "        1.30072355e-01, -1.03906885e-01, -1.54481763e-02,  2.54284620e-01,\n",
      "       -3.89221102e-01, -1.10007897e-01,  1.56863242e-01, -1.76011510e-02,\n",
      "        8.37589130e-02,  2.75527507e-01, -9.30684134e-02, -7.48109743e-02,\n",
      "        8.24673008e-03,  5.97136980e-03, -1.17870204e-01,  2.96459813e-02,\n",
      "       -1.66551337e-01, -4.37243208e-02, -3.21723074e-02,  2.92305678e-01,\n",
      "       -1.20863236e-01,  3.79179530e-02,  4.21933085e-02,  1.20307140e-01,\n",
      "        1.54003501e-01, -1.39180779e-01, -1.78193361e-01,  1.69760138e-01,\n",
      "        4.29602386e-03, -1.01747632e-01, -8.33432823e-02,  2.97128439e-01,\n",
      "       -2.18717948e-01, -1.00737065e-01, -2.20679104e-01,  4.42021973e-02,\n",
      "        1.48453414e-01,  4.51168530e-02, -7.12247789e-02, -1.83458313e-01,\n",
      "       -4.27585207e-02,  1.16916280e-02, -1.40551358e-01,  5.59308715e-02,\n",
      "       -4.49107029e-02,  7.11479709e-02,  7.69797564e-02,  3.12677957e-02,\n",
      "       -1.08062483e-01, -1.18284531e-01,  1.45845413e-01,  9.17088091e-02,\n",
      "        6.29169717e-02, -6.43508583e-02, -2.74031520e-01,  6.57529235e-02,\n",
      "       -1.28043070e-01, -2.13002115e-01, -1.01057384e-02, -1.23262480e-02,\n",
      "       -2.56825626e-01, -5.05223274e-02, -9.46595818e-02,  6.48851767e-02,\n",
      "       -1.31171733e-01,  1.30575493e-01,  2.69425213e-01, -1.19111286e-02,\n",
      "       -4.37062941e-02, -3.18257302e-01, -3.24818105e-01, -1.10894471e-01,\n",
      "        1.66492403e-01, -2.18866974e-01, -1.42323941e-01, -8.08728263e-02,\n",
      "        1.30613949e-02,  1.47674024e-01,  6.84012845e-02,  1.35306999e-01,\n",
      "        1.26831263e-01,  1.00949071e-01, -1.60518941e-02, -2.53912121e-01,\n",
      "        1.11329757e-01, -4.36365493e-02, -2.05331489e-01, -4.77838591e-02,\n",
      "        4.06264998e-02, -2.72269726e-01, -1.29648939e-01,  3.22271287e-02,\n",
      "        6.52590021e-02, -1.86999395e-01])), ('neutral', array([ 2.14814815e+00,  3.76984127e-02,  2.25100000e+03,  6.24000000e+02,\n",
      "        3.70000000e+01,  6.00000000e+00,  6.00000000e+00,  1.00000000e+00,\n",
      "        0.00000000e+00,  0.00000000e+00,  0.00000000e+00,  0.00000000e+00,\n",
      "        0.00000000e+00,  0.00000000e+00,  0.00000000e+00,  0.00000000e+00,\n",
      "        0.00000000e+00,  0.00000000e+00, -1.51890814e-01,  4.39172797e-02,\n",
      "        2.96531975e-01,  1.14338093e-01, -7.05822036e-02,  2.42202096e-02,\n",
      "        3.13366503e-02, -1.03430994e-01,  9.41750854e-02, -4.95361388e-02,\n",
      "        1.12627245e-01, -1.64648481e-02,  5.13520949e-02, -3.88827831e-01,\n",
      "       -2.48307735e-02, -3.95099036e-02,  6.86913878e-02, -1.39434248e-01,\n",
      "       -1.50955945e-01, -1.74356773e-01, -3.62584144e-01,  2.74106294e-01,\n",
      "       -9.59956925e-03,  1.24230549e-01, -1.15527101e-01, -7.90950209e-02,\n",
      "        3.96177396e-02, -6.54642358e-02,  8.36152211e-02, -1.16968108e-02,\n",
      "        5.35436813e-03, -2.10117683e-01,  2.02871189e-02, -5.23943044e-02,\n",
      "        3.04567814e-02, -4.93681878e-02, -1.04479693e-01,  4.28610668e-02,\n",
      "       -7.07372278e-02, -3.47027136e-03,  1.18310280e-01, -9.44657158e-03,\n",
      "       -7.49720037e-02, -1.09274630e-02,  2.07568571e-01, -3.64317372e-02,\n",
      "        1.38993144e-01,  2.31108338e-01, -1.54284295e-02, -1.92905754e-01,\n",
      "       -3.56905609e-01,  3.98472548e-02,  7.86133632e-02,  2.98067123e-01,\n",
      "       -2.64055014e-01,  1.06142163e-01, -6.50459528e-02,  3.30823153e-01,\n",
      "       -1.06986269e-01, -2.77478993e-01, -9.55903903e-02, -6.00166172e-02,\n",
      "        1.33324236e-01, -1.05989210e-01, -2.03077406e-01, -1.76562458e-01,\n",
      "        1.44333839e-01, -1.15413837e-01, -1.97823033e-01, -2.51810759e-01,\n",
      "        2.03201454e-02,  1.81384459e-01,  2.31636569e-01,  4.78622168e-02,\n",
      "       -8.92693643e-03,  8.73671398e-02, -1.30373076e-01, -1.78441346e-01,\n",
      "        1.66381538e-01, -2.78441966e-01,  1.68501481e-01, -1.13056906e-01,\n",
      "       -2.25313216e-01, -3.02244797e-02, -1.84571087e-01, -1.16814204e-01,\n",
      "       -9.73705500e-02,  2.41413470e-02, -1.25807598e-01, -5.63383512e-02,\n",
      "       -6.85611293e-02,  4.78850752e-02,  1.33755043e-01,  8.92661884e-02,\n",
      "        9.53680556e-03,  2.70704795e-02, -7.60032283e-03, -2.10837973e-03,\n",
      "       -6.56332597e-02, -1.70733586e-01, -3.36134806e-02, -2.10368991e-01,\n",
      "       -1.58084765e-01, -2.07924515e-01,  6.32547438e-02, -2.33114406e-01,\n",
      "        6.82781115e-02, -2.48746857e-01, -2.14173570e-01, -4.34685871e-02,\n",
      "       -1.17333449e-01,  1.33296978e-02, -1.90126255e-01, -2.93663424e-02,\n",
      "       -2.79669195e-01,  1.94056258e-02, -7.38096759e-02,  7.95228630e-02,\n",
      "       -7.08711892e-02, -6.53999150e-02,  2.89189108e-02,  1.64774600e-02,\n",
      "       -2.15266794e-01, -1.25254080e-01,  5.31190969e-02, -6.59942180e-02,\n",
      "       -1.53338626e-01,  2.48406059e-03])), ('neutral', array([ 1.90000000e+00,  0.00000000e+00,  8.16000000e+02,  3.06000000e+02,\n",
      "        1.80000000e+01,  0.00000000e+00,  0.00000000e+00,  0.00000000e+00,\n",
      "        0.00000000e+00,  0.00000000e+00,  0.00000000e+00,  0.00000000e+00,\n",
      "        0.00000000e+00,  0.00000000e+00,  0.00000000e+00,  0.00000000e+00,\n",
      "        0.00000000e+00,  0.00000000e+00,  5.94667867e-02,  2.19866727e-02,\n",
      "        2.64214814e-01, -2.36742999e-02,  2.88937449e-01, -1.39480501e-01,\n",
      "        1.51768476e-01, -2.51639873e-01,  5.21942191e-02,  1.28753662e-01,\n",
      "       -1.77171528e-02,  1.19239695e-01,  6.96225539e-02,  1.49034830e-02,\n",
      "       -4.52967882e-02,  8.38932991e-02,  2.59680629e-01, -1.85643792e-01,\n",
      "       -1.42731279e-01, -8.63725245e-02, -9.10213441e-02, -7.24107325e-02,\n",
      "        6.76667318e-02, -9.31880809e-03,  1.00072809e-02,  9.51491520e-02,\n",
      "       -6.62972406e-02,  2.24810049e-01, -2.91313399e-02, -1.31088659e-01,\n",
      "        1.23407450e-02,  6.38225004e-02,  3.31011303e-02, -1.92975745e-01,\n",
      "        1.66776493e-01,  4.19659866e-03,  4.43718657e-02,  1.10583112e-01,\n",
      "       -8.55617300e-02,  1.34673819e-01, -2.83122864e-02,  4.05157804e-02,\n",
      "        3.98325588e-04,  9.47853625e-02, -6.30301982e-02,  2.85072513e-02,\n",
      "        1.17126122e-01, -2.26629991e-02, -1.96511261e-02,  6.84474632e-02,\n",
      "        7.96296820e-02,  8.66838470e-02, -2.94460878e-02,  3.75180431e-02,\n",
      "       -2.16705259e-03,  1.26005679e-01,  9.86042619e-03,  1.49873167e-01,\n",
      "        6.48908168e-02, -9.38439295e-02, -6.55136779e-02,  4.23530228e-02,\n",
      "       -9.54736546e-02, -8.82157609e-02,  3.18870991e-02,  5.42153530e-02,\n",
      "       -3.43155265e-02, -1.26925007e-01,  6.62443927e-03,  5.04973754e-02,\n",
      "        7.95560330e-02,  1.15297437e-01, -1.11115547e-02,  3.67440730e-02,\n",
      "       -1.65391624e-01,  6.84489682e-03,  1.69754207e-01, -1.57516599e-01,\n",
      "        3.39610279e-02,  6.39495552e-02, -2.34805331e-01, -1.57657877e-01,\n",
      "        1.95825636e-01,  2.42736991e-02, -3.37218773e-03,  6.54537603e-02,\n",
      "        5.29351644e-03, -5.02101332e-02,  6.60720989e-02,  6.28331676e-02,\n",
      "       -6.27083331e-02, -9.42101777e-02,  6.05801381e-02,  2.96611246e-02,\n",
      "       -8.14557970e-02,  7.08884299e-02,  7.57463649e-02, -3.41871604e-02,\n",
      "        5.03849722e-02,  6.17275685e-02, -2.77542584e-02,  1.37464151e-01,\n",
      "        1.66091189e-01, -4.58516032e-02, -1.58698499e-01, -4.45336141e-02,\n",
      "        2.49603745e-02, -8.76705274e-02, -1.70541286e-01, -1.67376339e-01,\n",
      "       -1.11793637e-01, -6.27634116e-03, -5.10008354e-03,  7.86479563e-03,\n",
      "       -2.13620458e-02, -5.84568195e-02, -6.93732500e-02,  6.32663295e-02,\n",
      "       -1.21925041e-01,  5.17238304e-02, -4.80900928e-02,  4.25999351e-02,\n",
      "       -3.20421942e-02, -5.81706092e-02, -1.00421086e-01,  6.04196787e-02,\n",
      "       -1.86149981e-02, -7.26810796e-03])), ('neutral', array([ 2.23529412e+00,  0.00000000e+00,  4.36000000e+02,  2.07000000e+02,\n",
      "        1.90000000e+01,  1.00000000e+00,  2.00000000e+00,  0.00000000e+00,\n",
      "        0.00000000e+00,  1.10000000e+01,  2.00000000e+00,  2.00000000e+00,\n",
      "        0.00000000e+00,  0.00000000e+00,  0.00000000e+00,  0.00000000e+00,\n",
      "        0.00000000e+00,  0.00000000e+00, -1.08911395e-01,  2.24713504e-01,\n",
      "        5.08059263e-02,  1.21870995e-01,  6.94909308e-04,  3.16359922e-02,\n",
      "        3.99926752e-01, -4.95739430e-02,  8.94748047e-02, -1.79715812e-01,\n",
      "        1.88496530e-01, -1.05241558e-03, -8.45855623e-02, -1.79669261e-01,\n",
      "        2.01844815e-02, -9.15233493e-02, -1.61476940e-01, -2.87129313e-01,\n",
      "        4.92495373e-02,  1.81116670e-01, -6.43828437e-02,  2.93121487e-01,\n",
      "       -3.47803906e-02, -5.60186915e-02, -1.38925448e-01, -2.82564182e-02,\n",
      "       -1.42193958e-01, -1.46405488e-01, -3.03581320e-02,  2.05164030e-01,\n",
      "        1.88526422e-01,  6.21440820e-02,  3.60073522e-02, -1.61158532e-01,\n",
      "        8.93523991e-02,  1.34751588e-01, -2.03056097e-01,  1.85661837e-02,\n",
      "       -9.02763233e-02,  6.49767518e-02, -1.35578930e-01, -9.55860913e-02,\n",
      "        1.05891377e-02, -1.32169798e-01,  1.04959488e-01,  1.96927071e-01,\n",
      "        5.80661893e-02,  5.28468080e-02, -3.35988477e-02, -4.22158502e-02,\n",
      "       -1.21650636e-01, -1.35498401e-02, -1.42739713e-01, -1.40243679e-01,\n",
      "        3.49755548e-02,  1.07097693e-01,  1.17684379e-01, -4.59050341e-03,\n",
      "       -1.14213295e-01, -7.89486095e-02, -1.04560100e-01,  8.56913850e-02,\n",
      "       -2.59812512e-02, -3.99933346e-02, -5.46584725e-02,  8.45087320e-03,\n",
      "       -6.09934144e-02,  1.23853395e-02, -4.70464155e-02,  8.38024542e-02,\n",
      "        6.51233941e-02, -9.49305445e-02,  2.02835098e-01, -3.16250920e-02,\n",
      "       -1.40244141e-01, -1.30372569e-01, -7.55522773e-02, -2.32036188e-01,\n",
      "       -1.54006526e-01, -8.78732428e-02,  3.38808522e-02,  3.48313972e-02,\n",
      "       -1.46811008e-01, -2.39993557e-01, -5.40368557e-02, -4.24214676e-02,\n",
      "        1.04299463e-01,  5.76626994e-02,  4.49907929e-02,  9.53147858e-02,\n",
      "       -9.42778885e-02,  9.46995169e-02, -4.03306708e-02,  2.08851490e-02,\n",
      "       -2.27205362e-02,  1.33344978e-01, -3.70370853e-03, -9.83936479e-04,\n",
      "       -1.24577776e-01,  1.26357023e-02,  8.20410848e-02, -4.01050858e-02,\n",
      "        9.13731456e-02, -1.55916274e-01,  2.68780794e-02,  1.17173546e-03,\n",
      "       -1.26782924e-01,  5.76695800e-02, -2.93524057e-01, -2.55380273e-02,\n",
      "        2.12739632e-02, -8.71862993e-02,  5.18897027e-02, -3.16694789e-02,\n",
      "       -6.55778795e-02, -1.84218958e-01,  5.23324683e-02, -1.26071468e-01,\n",
      "        7.60336295e-02,  7.72041380e-02, -1.38162553e-01,  4.50121500e-02,\n",
      "       -1.05011322e-01,  7.67299486e-03, -7.23921508e-02,  4.17410359e-02,\n",
      "       -1.01248853e-01,  1.82972431e-01])), ('neutral', array([ 2.00000000e+00,  6.37254902e-02,  4.44000000e+02,  2.18000000e+02,\n",
      "        1.50000000e+01,  1.00000000e+00,  1.00000000e+00,  1.00000000e+00,\n",
      "        0.00000000e+00,  0.00000000e+00,  0.00000000e+00,  0.00000000e+00,\n",
      "        0.00000000e+00,  0.00000000e+00,  0.00000000e+00,  0.00000000e+00,\n",
      "        0.00000000e+00,  0.00000000e+00, -2.19234928e-01, -4.32082303e-02,\n",
      "        3.98256481e-01,  1.76146373e-01, -2.30529923e-02, -7.91105777e-02,\n",
      "        8.30122083e-02, -1.09663457e-02,  1.07336000e-01,  3.02344486e-02,\n",
      "       -9.77063403e-02,  3.21041085e-02,  4.59276810e-02, -1.51474118e-01,\n",
      "       -8.54143947e-02, -1.14938922e-01,  1.75869823e-01, -5.78819253e-02,\n",
      "        4.31119055e-02,  1.46039382e-01, -1.20606301e-02, -9.62707847e-02,\n",
      "        6.02752715e-02,  9.43065807e-02,  4.41565365e-02,  1.58189833e-01,\n",
      "        2.41938066e-02, -5.48611246e-02, -2.11932540e-01,  1.06555559e-01,\n",
      "       -5.15278280e-02, -3.23827453e-02, -2.91127283e-02, -4.04904597e-02,\n",
      "       -9.71142203e-03,  9.60093066e-02, -1.10842220e-01,  1.21030934e-01,\n",
      "       -1.15209222e-02, -1.01704501e-01, -1.61804423e-01,  5.54901212e-02,\n",
      "       -2.36114324e-03,  4.36009727e-02, -1.93058345e-02,  4.16964777e-02,\n",
      "        8.51003230e-02, -1.51484869e-02,  1.39374845e-02, -9.74159017e-02,\n",
      "       -1.51926294e-01,  3.84739949e-03,  8.01949278e-02,  7.18260631e-02,\n",
      "       -1.67288020e-01, -5.81880622e-02, -5.54832211e-03, -5.74963354e-03,\n",
      "       -1.41169071e-01, -6.18757233e-02,  4.11033258e-02, -1.37164235e-01,\n",
      "       -3.84989828e-02, -5.63800819e-02, -8.90279748e-03,  3.88574339e-02,\n",
      "       -4.41083722e-02,  3.35479192e-02, -9.14820060e-02, -1.15672678e-01,\n",
      "        1.52127892e-01, -1.31769059e-02, -9.08211432e-03, -7.43503347e-02,\n",
      "       -1.25139207e-01, -2.01271940e-02,  3.53077650e-02,  5.41440919e-02,\n",
      "       -1.15095779e-01, -1.99210435e-01, -9.67882425e-02, -2.58948710e-02,\n",
      "       -5.12723960e-02, -1.70057982e-01, -1.36089310e-01, -1.30719185e-01,\n",
      "       -5.88846840e-02, -3.85354925e-03, -4.07067649e-02,  1.88972414e-01,\n",
      "        9.09912512e-02,  8.01365823e-03, -4.03599404e-02,  7.64767975e-02,\n",
      "        7.21328780e-02,  1.36927634e-01,  3.31014134e-02, -1.47883415e-01,\n",
      "        4.81911376e-02, -5.95012531e-02,  1.82567339e-03,  4.87810299e-02,\n",
      "       -1.16876550e-01, -1.03588670e-01,  1.23201624e-01,  1.07870966e-01,\n",
      "        6.22327887e-02, -2.06422154e-02, -1.40796110e-01, -1.30484655e-01,\n",
      "        6.06392585e-02,  9.74598750e-02, -5.98307624e-02, -1.13052592e-01,\n",
      "        1.27925538e-02, -4.54153344e-02, -1.35252893e-01, -1.19495928e-01,\n",
      "        5.30129485e-02, -1.18008882e-01,  7.86927249e-03,  1.52431838e-02,\n",
      "       -1.17079705e-01,  1.71635360e-01,  8.39847955e-04,  7.05083609e-02,\n",
      "       -1.70432255e-01,  2.40541957e-02])), ('neutral', array([ 1.90476190e+00,  0.00000000e+00,  9.69000000e+02,  3.42000000e+02,\n",
      "        1.90000000e+01,  0.00000000e+00,  0.00000000e+00,  0.00000000e+00,\n",
      "        0.00000000e+00,  0.00000000e+00,  0.00000000e+00,  0.00000000e+00,\n",
      "        0.00000000e+00,  0.00000000e+00,  0.00000000e+00,  0.00000000e+00,\n",
      "        0.00000000e+00,  0.00000000e+00, -2.06622090e-02,  9.53555480e-02,\n",
      "        2.04875484e-01,  1.76940352e-01, -1.21170513e-01, -6.04218654e-02,\n",
      "       -8.30381736e-02, -2.30970178e-02, -5.24003766e-02,  3.25628370e-02,\n",
      "       -7.74673298e-02, -7.33195692e-02,  1.45121515e-01, -2.12186977e-01,\n",
      "        2.53261268e-01,  2.66657472e-02, -6.46570921e-02, -1.81360412e-02,\n",
      "       -2.78371006e-01,  4.45506386e-02,  9.04115587e-02,  4.70628366e-02,\n",
      "        3.59882833e-03, -9.67658609e-02, -3.59641500e-02, -1.28917262e-01,\n",
      "       -1.22038074e-01, -1.62409078e-02,  5.02113486e-03,  1.33770076e-03,\n",
      "        1.25047699e-01, -9.71478596e-02, -1.84139628e-02,  1.90212250e-01,\n",
      "        1.17641566e-02,  1.32342607e-01, -8.65186378e-03,  1.20814204e-01,\n",
      "       -1.92752078e-01,  9.71240050e-04,  1.01936214e-01, -1.16368748e-01,\n",
      "        2.55810637e-02,  9.52332467e-02, -1.54300869e-01, -4.68406416e-02,\n",
      "        6.27691299e-02,  1.31730456e-02, -8.57996419e-02,  1.18327728e-02,\n",
      "       -1.33112803e-01,  1.13661982e-01, -4.76211496e-02,  4.14386615e-02,\n",
      "       -1.88425049e-01,  1.71045601e-01,  2.71985941e-02,  1.09271981e-01,\n",
      "        8.08827505e-02, -1.57925129e-01, -2.36490563e-01,  1.30506530e-01,\n",
      "       -4.04866179e-03,  2.00088739e-01,  2.86734104e-02, -5.28765917e-02,\n",
      "       -5.33349290e-02, -2.56768227e-01,  7.57345930e-02, -3.37827578e-02,\n",
      "        8.13445225e-02,  2.93778867e-01, -1.43744955e-02, -4.63375524e-02,\n",
      "       -8.67773816e-02, -1.09061800e-01,  4.27346937e-02, -2.10937247e-01,\n",
      "        1.68216154e-01, -1.77376896e-01, -1.90473244e-01,  6.05072305e-02,\n",
      "       -9.65418741e-02, -3.07992604e-02, -1.80705741e-01, -5.18011078e-02,\n",
      "        1.33468211e-02,  1.92188874e-01,  4.25664634e-02,  1.91430032e-01,\n",
      "        3.57587682e-03, -7.51054659e-02, -7.54158199e-02,  1.33147374e-01,\n",
      "        6.41329885e-02,  2.02229902e-01, -1.20385513e-01,  2.08171997e-02,\n",
      "       -5.54334298e-02, -1.76944405e-01,  1.39788091e-02, -2.35301465e-01,\n",
      "        2.30722949e-02, -5.05523011e-02,  1.59805581e-01,  7.73414075e-02,\n",
      "       -3.24211158e-02, -1.77259609e-01, -1.23646565e-01, -1.84282184e-01,\n",
      "       -2.11595986e-02,  2.98034847e-01,  4.30418439e-02, -5.62239401e-02,\n",
      "       -3.32253158e-01, -1.70445487e-01, -2.15178579e-01, -1.04358576e-01,\n",
      "        5.03695421e-02,  1.29741147e-01, -1.08165525e-01,  2.19813749e-01,\n",
      "       -1.71324551e-01,  4.97581065e-02,  1.04504615e-01, -7.87299052e-02,\n",
      "       -1.68323085e-01, -2.43429206e-02])), ('neutral', array([ 2.30769231e+00,  0.00000000e+00,  1.93700000e+03,  6.06000000e+02,\n",
      "        4.30000000e+01,  7.00000000e+00,  7.00000000e+00,  0.00000000e+00,\n",
      "        0.00000000e+00,  0.00000000e+00,  0.00000000e+00,  0.00000000e+00,\n",
      "        0.00000000e+00,  0.00000000e+00,  0.00000000e+00,  0.00000000e+00,\n",
      "        0.00000000e+00,  0.00000000e+00, -4.92857285e-02,  4.31442335e-02,\n",
      "        2.82153279e-01, -4.25059758e-02,  1.96281672e-01, -7.06801713e-02,\n",
      "       -1.93536077e-02, -2.15042278e-01, -3.65404575e-03,  2.45983507e-02,\n",
      "        4.42966372e-02, -5.05748838e-02,  8.32727477e-02, -5.55227324e-02,\n",
      "       -9.29596350e-02,  7.01358244e-02,  5.96481115e-02, -8.00356120e-02,\n",
      "       -1.36694089e-01,  7.00550526e-02, -1.03546299e-01,  1.33640230e-01,\n",
      "        1.17593976e-02, -9.73445699e-02, -1.75855264e-01,  1.07226469e-01,\n",
      "       -2.32672188e-02, -4.95542079e-01, -7.34846219e-02, -2.36043110e-01,\n",
      "        2.38165371e-02, -1.14064058e-02, -1.81113645e-01, -5.13359420e-02,\n",
      "       -1.18592791e-01,  3.41395438e-02, -5.53510368e-01,  1.38253689e-01,\n",
      "       -1.65823638e-01,  1.17342912e-01,  1.44023240e-01, -8.11184347e-02,\n",
      "       -8.21880475e-02, -3.89631465e-02, -9.15183201e-02, -7.35599026e-02,\n",
      "        1.56262800e-01,  1.07130110e-01,  1.09831886e-02,  7.62631893e-02,\n",
      "       -1.43615872e-01,  1.17452726e-01,  1.57251567e-01, -2.34341621e-01,\n",
      "       -3.17517936e-01,  3.41881700e-02,  7.45630041e-02,  4.12589088e-02,\n",
      "       -1.17035255e-01, -2.17570394e-01, -1.84873804e-01, -1.02708831e-01,\n",
      "        5.81934340e-02, -1.26641482e-01, -9.34592709e-02, -9.82000530e-02,\n",
      "        1.72724366e-01, -1.13967299e-01, -1.06078431e-01,  2.94330139e-02,\n",
      "        1.44954652e-01,  7.91908652e-02, -1.33850142e-01,  7.60424435e-02,\n",
      "       -5.59351631e-02,  2.49395929e-02,  9.93194804e-02,  1.27570285e-02,\n",
      "        4.07894179e-02, -1.29974335e-01, -4.97725382e-02, -6.37989640e-02,\n",
      "       -5.50571978e-02, -2.50506848e-02, -8.50451663e-02,  4.53721322e-02,\n",
      "        1.18043028e-01,  5.67131825e-02, -4.68002893e-02, -9.01839882e-02,\n",
      "        3.20242462e-03, -5.53641170e-02,  2.01852061e-02, -7.46724010e-02,\n",
      "       -5.96871451e-02,  9.23187286e-02,  1.24561749e-01,  1.54622152e-01,\n",
      "       -2.59405553e-01, -3.57530601e-02,  2.21576512e-01, -4.28986661e-02,\n",
      "       -2.09740344e-02,  3.93389091e-02,  1.52354077e-01,  5.92190167e-03,\n",
      "        6.82473034e-02, -1.11628570e-01, -4.97367084e-02,  7.86378793e-03,\n",
      "        2.53016889e-01,  8.34426135e-02,  1.15774274e-01,  2.48406883e-02,\n",
      "        6.42807931e-02, -2.17380017e-01, -6.68109255e-03, -2.13728070e-01,\n",
      "        1.22518003e-01,  2.75723059e-02, -1.61496382e-02,  1.00258850e-02,\n",
      "       -1.39438465e-01, -2.35365257e-02,  1.26990721e-01,  9.37403366e-02,\n",
      "       -1.07225537e-01, -8.16843007e-03])), ('neutral', array([ 1.75000000e+00,  0.00000000e+00,  2.00000000e+01,  3.00000000e+01,\n",
      "        6.00000000e+00,  0.00000000e+00,  0.00000000e+00,  0.00000000e+00,\n",
      "        0.00000000e+00,  0.00000000e+00,  0.00000000e+00,  0.00000000e+00,\n",
      "        0.00000000e+00,  0.00000000e+00,  0.00000000e+00,  0.00000000e+00,\n",
      "        0.00000000e+00,  0.00000000e+00, -8.29173625e-02,  3.80574539e-03,\n",
      "        1.29466861e-01,  9.10939928e-03,  2.93077845e-02, -1.05788261e-02,\n",
      "        1.08311892e-01, -7.94009045e-02,  8.51682946e-02,  2.60160882e-02,\n",
      "        1.18895993e-01,  5.85627221e-02, -2.55750362e-02, -8.34177807e-02,\n",
      "       -5.32103470e-03, -5.14821708e-02, -1.31670445e-01, -1.70217846e-02,\n",
      "       -7.93583691e-02,  4.51977085e-03, -8.37783888e-02,  4.45092618e-02,\n",
      "        5.33317849e-02,  4.56668697e-02, -3.66668403e-02,  4.57620658e-02,\n",
      "       -4.95851506e-03, -2.07035914e-02, -8.47300887e-02, -1.16592729e-02,\n",
      "        5.93102872e-02, -6.98900521e-02,  9.66917798e-02,  1.95495874e-01,\n",
      "       -8.06923583e-02,  2.00149775e-01, -1.68753080e-02,  6.38897195e-02,\n",
      "        6.94540963e-02, -5.99675253e-02,  2.00048815e-02,  1.01121441e-01,\n",
      "       -1.26660928e-01, -6.01848438e-02,  1.36440754e-01, -8.19823816e-02,\n",
      "        1.47020698e-01,  8.91304687e-02, -2.17675596e-01, -2.02311665e-01,\n",
      "       -2.09310219e-01,  2.01775655e-01, -2.71878950e-03,  1.50156751e-01,\n",
      "        4.53210063e-02,  1.10862464e-01,  7.64366910e-02,  5.27831018e-02,\n",
      "       -2.46636584e-01, -1.19423419e-01, -8.35562050e-02,  2.45429855e-02,\n",
      "       -4.58931588e-02, -2.11176381e-01, -6.20616935e-02, -9.64131132e-02,\n",
      "       -4.70241755e-02, -3.90031491e-03, -7.76098520e-02,  2.36578546e-02,\n",
      "        5.07532805e-02,  1.03390157e-01, -4.61485609e-02, -2.98319981e-02,\n",
      "       -7.40808100e-02, -1.80777162e-01,  1.36119679e-01,  2.32272618e-03,\n",
      "       -2.24297881e-01, -1.11153759e-01, -3.19135599e-02,  1.57335326e-01,\n",
      "       -1.04879877e-02, -1.30263800e-02,  4.42583393e-03, -8.22785422e-02,\n",
      "        3.59496661e-02,  4.85433452e-02, -6.05328344e-02,  4.93342662e-03,\n",
      "       -1.50358304e-01, -2.02323534e-02,  5.76096363e-02,  4.90619056e-03,\n",
      "        2.05019806e-02,  1.46760240e-01, -7.27792177e-03, -8.38833898e-02,\n",
      "        7.14417696e-02, -1.07360251e-01,  2.37211157e-02, -5.50395399e-02,\n",
      "       -4.10328209e-02, -1.73176173e-03, -6.78407913e-03, -8.25843140e-02,\n",
      "        1.42023545e-02,  7.88582489e-02, -1.20754242e-02, -4.52962741e-02,\n",
      "        9.66127589e-02,  5.83848208e-02,  4.62745316e-02, -7.36248717e-02,\n",
      "       -1.26381889e-02, -6.06197752e-02, -1.18581049e-01,  1.02872262e-03,\n",
      "       -2.45901886e-02,  1.30912378e-01, -8.94013718e-02,  4.91926670e-02,\n",
      "        1.40752736e-03, -1.07653365e-02, -5.51191531e-02, -8.31176043e-02,\n",
      "       -3.34403813e-02,  1.23091266e-02])), ('neutral', array([ 2.26666667e+00,  0.00000000e+00,  2.71000000e+02,  1.60000000e+02,\n",
      "        1.90000000e+01,  3.00000000e+00,  2.00000000e+00,  0.00000000e+00,\n",
      "        0.00000000e+00,  0.00000000e+00,  0.00000000e+00,  0.00000000e+00,\n",
      "        0.00000000e+00,  0.00000000e+00,  0.00000000e+00,  0.00000000e+00,\n",
      "        0.00000000e+00,  0.00000000e+00, -7.99556747e-02, -7.51166567e-02,\n",
      "       -3.01144999e-02, -1.58153325e-01, -1.97000913e-02, -1.01300530e-01,\n",
      "        1.00458033e-01, -1.87197819e-01,  3.55277620e-02,  3.40916738e-02,\n",
      "        2.35398889e-01, -1.44556999e-01, -4.93043195e-03, -1.26717642e-01,\n",
      "       -6.56111864e-03, -3.80617306e-02,  6.08501844e-02,  2.65360381e-02,\n",
      "        4.40624133e-02,  1.21565023e-02, -2.24995047e-01,  6.26490638e-02,\n",
      "        2.68656984e-02,  6.07470162e-02, -1.34149343e-01,  1.15508750e-01,\n",
      "        4.52256128e-02,  5.07883355e-02, -1.01612739e-01,  1.36081532e-01,\n",
      "        3.02868849e-03,  2.63681300e-02,  1.93594780e-03, -4.74680513e-02,\n",
      "       -1.29318058e-01,  1.24328630e-02, -9.26009044e-02,  5.29121868e-02,\n",
      "       -3.39357406e-02, -1.42879933e-02, -4.75205146e-02,  3.54060568e-02,\n",
      "       -2.98245382e-02,  1.78209141e-01,  2.79996265e-02,  2.39014048e-02,\n",
      "        1.64476678e-01,  2.83830613e-03,  5.24286516e-02, -9.09690186e-02,\n",
      "        1.24655657e-01,  2.33721778e-01,  8.05700012e-03,  2.61185970e-02,\n",
      "       -2.57144451e-01,  2.03889292e-02,  2.75707487e-02,  1.55508667e-01,\n",
      "        5.66068813e-02, -1.78715363e-01, -1.40969381e-01, -1.04332007e-01,\n",
      "       -4.60440144e-02,  1.58101067e-01, -8.58566016e-02, -1.92974150e-01,\n",
      "       -1.32410139e-01, -1.83627278e-01, -5.66917323e-02,  8.85700136e-02,\n",
      "       -1.11866035e-02,  5.05843386e-03, -4.96801594e-03,  1.95771784e-01,\n",
      "       -3.08760558e-03, -1.27424791e-01, -4.60808072e-03,  1.51284918e-01,\n",
      "       -9.77870971e-02, -1.37704879e-01, -2.58117858e-02,  6.58850893e-02,\n",
      "       -1.11218795e-01, -2.15240210e-01, -3.18626970e-01,  3.54066342e-02,\n",
      "       -2.06296630e-02,  1.31030619e-01, -1.14749819e-01, -3.26641239e-02,\n",
      "       -1.95520148e-01, -2.21984759e-01, -1.45294636e-01,  1.87157709e-02,\n",
      "        8.99877548e-02,  1.53222576e-01, -1.97368097e-02, -1.25426725e-01,\n",
      "       -1.78799987e-01, -9.79136229e-02,  6.44543469e-02, -1.74662769e-01,\n",
      "       -8.47078264e-02,  1.11743826e-02, -1.11847240e-02, -2.06472531e-01,\n",
      "        9.29062366e-02, -8.26123953e-02,  1.32125750e-01, -2.54932921e-02,\n",
      "       -1.26441956e-01,  7.15872645e-02, -1.42653078e-01, -1.80921480e-01,\n",
      "       -7.23072439e-02, -1.65285423e-01, -7.93279931e-02, -6.45866171e-02,\n",
      "        4.76580709e-02, -4.73443530e-02, -7.06146657e-03,  6.28955364e-02,\n",
      "       -8.13273340e-02, -6.01708554e-02,  2.02969462e-02, -1.15423232e-01,\n",
      "        1.10193901e-01, -8.70305523e-02])), ('neutral', array([ 2.00000000e+00,  0.00000000e+00,  2.76000000e+02,  1.63000000e+02,\n",
      "        1.50000000e+01,  1.00000000e+00,  0.00000000e+00,  0.00000000e+00,\n",
      "        0.00000000e+00,  0.00000000e+00,  0.00000000e+00,  0.00000000e+00,\n",
      "        0.00000000e+00,  0.00000000e+00,  0.00000000e+00,  0.00000000e+00,\n",
      "        0.00000000e+00,  0.00000000e+00, -8.93042162e-02,  1.23181298e-01,\n",
      "        2.80965298e-01, -3.74431573e-02,  2.72494312e-02, -9.72826034e-02,\n",
      "        1.77368939e-01, -6.97753392e-03,  2.11804330e-01, -5.81725314e-02,\n",
      "        2.75903903e-02,  1.50508955e-02,  2.05386907e-01, -2.14631379e-01,\n",
      "       -6.04560152e-02, -2.64729094e-03,  1.88625744e-03, -6.56117499e-02,\n",
      "       -1.04418814e-01,  1.44806698e-01,  8.22675973e-03,  1.85990766e-01,\n",
      "        9.10697654e-02, -6.90263361e-02, -8.09955969e-02,  8.95892754e-02,\n",
      "        3.42669934e-02, -1.88367054e-01, -1.53086126e-01, -2.08261162e-02,\n",
      "        1.53141916e-01, -1.53092280e-01,  1.10820797e-03,  5.37714995e-02,\n",
      "       -1.51903834e-02,  9.21882167e-02, -1.01447433e-01,  1.63329408e-01,\n",
      "       -1.46233797e-01, -3.26947123e-02, -6.46736100e-02,  5.33436127e-02,\n",
      "        2.13858802e-02, -3.59174907e-02,  8.02812725e-03,  2.16336846e-02,\n",
      "        4.30148048e-03,  1.03522658e-01, -1.13994136e-01, -1.16714463e-01,\n",
      "       -1.17363788e-01,  1.30238339e-01, -3.51947471e-02,  1.56297430e-03,\n",
      "       -2.10244432e-01,  9.98933837e-02,  1.33556956e-02,  4.66275178e-02,\n",
      "        3.33222151e-02, -4.49501947e-02, -1.11475237e-01, -5.98075837e-02,\n",
      "       -8.10734332e-02,  5.41450968e-03, -1.79816619e-01, -1.49970055e-02,\n",
      "       -1.86450072e-02, -5.62244803e-02,  3.47633250e-02, -1.21919974e-03,\n",
      "        3.50065716e-02,  1.08327903e-01, -8.48077759e-02,  7.38543645e-02,\n",
      "       -3.00450367e-03, -5.65412119e-02,  3.31918485e-02, -9.20767263e-02,\n",
      "        8.00367724e-03, -1.43895254e-01,  1.08919351e-03,  2.90958695e-02,\n",
      "       -2.85751056e-02, -1.21156059e-01, -1.00802064e-01, -5.31648584e-02,\n",
      "       -4.73499857e-02,  6.17004447e-02, -3.80230360e-02, -6.58244547e-03,\n",
      "       -1.09133020e-01, -5.74334040e-02, -2.16960832e-02,  1.43575057e-01,\n",
      "        1.35167139e-02,  1.02915026e-01, -8.84032156e-03, -5.67628853e-02,\n",
      "       -4.40702550e-02, -5.16942181e-02,  3.77106071e-02, -8.21396708e-02,\n",
      "       -2.02892367e-02, -6.49927706e-02,  3.84028554e-02, -3.68018672e-02,\n",
      "        2.70398408e-02, -3.39293182e-02, -6.03586845e-02, -7.83558041e-02,\n",
      "       -6.32162988e-02,  3.30853872e-02,  8.16920679e-03, -1.11846933e-02,\n",
      "       -1.34533923e-02, -2.80608628e-02, -7.08740205e-02, -1.18334247e-02,\n",
      "       -1.03385141e-02,  9.72866416e-02,  3.88372429e-02, -3.31504736e-03,\n",
      "       -1.17463149e-01,  8.02805871e-02,  2.62836199e-02, -4.41036038e-02,\n",
      "        3.19581293e-03,  2.30716709e-02])), ('neutral', array([ 2.47619048e+00,  6.13945578e-02,  9.09000000e+02,  3.56000000e+02,\n",
      "        3.00000000e+01,  7.00000000e+00,  6.00000000e+00,  2.00000000e+00,\n",
      "        1.00000000e+00,  1.40000000e+01,  3.00000000e+00,  2.00000000e+00,\n",
      "        0.00000000e+00,  0.00000000e+00,  0.00000000e+00,  0.00000000e+00,\n",
      "        0.00000000e+00,  0.00000000e+00, -2.00919304e-02,  1.49598107e-01,\n",
      "        2.03937635e-01, -7.51872808e-02, -1.21098183e-01, -1.65776461e-02,\n",
      "        1.88485775e-02,  4.93324250e-02,  1.65819809e-01, -1.66943949e-02,\n",
      "        5.28680794e-02, -6.74564540e-02, -3.04862205e-03, -1.38987074e-04,\n",
      "       -1.37313664e-01, -9.56102535e-02,  3.37319598e-02, -5.86717725e-02,\n",
      "       -8.02315176e-02,  1.62170470e-01, -1.26626894e-01,  1.37004882e-01,\n",
      "       -6.94556683e-02, -8.29691440e-02, -5.64503372e-02,  1.57866236e-02,\n",
      "       -4.23007421e-02, -7.84805566e-02, -1.03765102e-02, -3.58999521e-02,\n",
      "        1.20450221e-01, -1.70529649e-01,  3.58608454e-01,  8.06613192e-02,\n",
      "        1.17391132e-01, -2.46854722e-01, -9.02646333e-02,  5.69490790e-02,\n",
      "        8.07976425e-02, -4.31979038e-02,  2.21503600e-01, -5.09816259e-02,\n",
      "       -1.12588331e-03, -3.24180424e-02,  1.07557967e-01, -7.46212229e-02,\n",
      "        3.38757485e-02, -2.28608876e-01,  1.03759326e-01, -3.89189214e-01,\n",
      "        1.57837763e-01,  1.41059041e-01,  1.00537084e-01, -2.15510681e-01,\n",
      "       -4.46412534e-01,  3.17563256e-03,  3.02311659e-01,  2.72656202e-01,\n",
      "       -6.81770071e-02, -9.27568302e-02,  8.39095470e-03,  4.49952707e-02,\n",
      "       -1.39049023e-01,  1.14117689e-01, -3.13213952e-02, -1.75197590e-02,\n",
      "        7.57604837e-02, -6.39232919e-02, -1.88413337e-01,  5.30007202e-03,\n",
      "       -1.13485575e-01,  1.23649463e-01,  5.10207899e-02, -4.27695699e-02,\n",
      "       -7.94772431e-02, -5.44499271e-02, -7.57933855e-02, -4.11907621e-02,\n",
      "       -3.44522335e-02, -1.22384392e-01, -1.60937489e-03, -1.17519371e-01,\n",
      "       -1.82026222e-01,  3.50609832e-02, -1.00704625e-01, -1.06601477e-01,\n",
      "        5.76915517e-02,  1.23862348e-01, -4.39897701e-02,  4.28561354e-03,\n",
      "        1.58965766e-01,  2.16258958e-01, -2.03750711e-02, -1.19383790e-01,\n",
      "        9.92564708e-02, -4.10889760e-02,  6.42706305e-02, -2.73106862e-02,\n",
      "       -1.67726755e-01, -5.52907772e-02,  4.45329100e-02,  9.89669189e-03,\n",
      "       -6.17187843e-02,  6.92893788e-02,  7.45467376e-04,  1.29100934e-01,\n",
      "        2.96025686e-02, -2.40375344e-02, -1.38745889e-01, -1.98470443e-01,\n",
      "       -1.81062818e-02, -1.36097744e-01,  1.98185258e-02,  6.29141033e-02,\n",
      "       -4.26057987e-02, -8.37254897e-02,  9.53284353e-02,  2.56865382e-01,\n",
      "        2.20138356e-01, -5.93785662e-03,  3.04869507e-02, -1.69276476e-01,\n",
      "       -6.25071600e-02,  8.47107619e-02,  4.66057509e-02,  1.21897377e-01,\n",
      "       -2.73814887e-01,  1.91054448e-01])), ('neutral', array([ 2.10000000e+00,  0.00000000e+00,  7.90000000e+02,  3.22000000e+02,\n",
      "        2.40000000e+01,  2.00000000e+00,  2.00000000e+00,  0.00000000e+00,\n",
      "        0.00000000e+00,  0.00000000e+00,  0.00000000e+00,  0.00000000e+00,\n",
      "        0.00000000e+00,  0.00000000e+00,  0.00000000e+00,  0.00000000e+00,\n",
      "        0.00000000e+00,  0.00000000e+00,  2.89297044e-01,  1.34969279e-01,\n",
      "       -1.73920358e-03,  1.19254157e-01,  3.44328165e-01, -1.95693016e-01,\n",
      "        6.49274886e-02, -5.40735014e-02,  2.81730145e-01, -4.68969569e-02,\n",
      "       -5.23403548e-02,  1.49954915e-01,  1.21002756e-01, -5.02964370e-02,\n",
      "        5.73594645e-02,  2.42374055e-02, -1.25967935e-01,  5.08376174e-02,\n",
      "       -3.01268935e-01,  1.19101545e-02,  2.04598397e-01,  2.30300456e-01,\n",
      "        2.11025923e-02,  3.08400124e-01, -1.99753061e-01, -7.21080303e-02,\n",
      "        1.12263359e-01,  5.68139516e-02,  4.31793258e-02,  1.77070871e-01,\n",
      "        3.56434584e-01, -3.55309024e-02,  1.52373523e-01,  1.94343373e-01,\n",
      "       -1.21957846e-01,  1.87121212e-01, -8.17804709e-02,  2.14648575e-01,\n",
      "        9.92252585e-03,  1.88380145e-02, -2.22535297e-01, -2.04361856e-01,\n",
      "       -1.07006490e-01,  1.29819871e-03, -6.77669272e-02,  2.91934982e-02,\n",
      "       -2.83720810e-02,  6.59657642e-02,  1.68289468e-01,  4.15752176e-03,\n",
      "       -7.51551390e-02,  1.83351472e-01, -1.13959342e-01, -2.62014139e-02,\n",
      "        1.03416026e-01,  1.50219083e-01,  5.55580743e-02,  2.54996028e-02,\n",
      "        2.32506003e-02, -5.59522165e-03,  1.76238921e-02, -7.47847706e-02,\n",
      "       -9.56298336e-02,  6.16986454e-02, -1.44863263e-01, -4.96134907e-02,\n",
      "       -1.46492803e-02, -4.26768996e-02, -2.13531718e-01,  8.01553298e-03,\n",
      "        1.37991041e-01,  9.28157419e-02,  3.30136605e-02,  2.48603582e-01,\n",
      "        1.85324818e-01, -3.03954203e-02, -8.70806798e-02,  7.31309205e-02,\n",
      "        8.89888853e-02, -2.26687379e-02, -8.00472423e-02,  1.00092143e-01,\n",
      "        1.16251754e-02,  4.78219939e-03, -8.94168466e-02, -1.36408448e-01,\n",
      "        2.50090752e-02, -2.35838499e-02, -2.41874844e-01, -8.95655155e-02,\n",
      "       -1.52479447e-02, -7.40763098e-02, -1.54098839e-01,  3.30360830e-01,\n",
      "       -1.86301380e-01,  2.84894686e-02, -7.30793253e-02, -8.05474520e-02,\n",
      "       -4.57164049e-02, -3.15342844e-02,  1.19710818e-01, -2.49994859e-01,\n",
      "        1.42330989e-01,  1.42728060e-01,  6.47310168e-02, -7.94729739e-02,\n",
      "        1.64352074e-01, -2.61821728e-02, -3.18110473e-02,  1.37615134e-03,\n",
      "       -5.20209037e-02, -1.22199968e-01, -9.54108983e-02,  1.29303575e-01,\n",
      "        2.09792182e-01, -8.09684470e-02, -7.01350644e-02,  5.22648841e-02,\n",
      "       -3.72682959e-01,  1.26610184e-02, -1.44046083e-01, -2.05566987e-01,\n",
      "       -2.15713292e-01, -4.34658863e-02, -2.38299698e-01,  8.35547745e-02,\n",
      "       -2.17912138e-01,  9.00150836e-02])), ('neutral', array([ 2.00000000e+00,  0.00000000e+00,  5.10000000e+01,  5.80000000e+01,\n",
      "        1.00000000e+01,  0.00000000e+00,  1.00000000e+00,  0.00000000e+00,\n",
      "        0.00000000e+00,  0.00000000e+00,  0.00000000e+00,  0.00000000e+00,\n",
      "        0.00000000e+00,  0.00000000e+00,  0.00000000e+00,  0.00000000e+00,\n",
      "        0.00000000e+00,  0.00000000e+00, -2.84136049e-02, -2.46649422e-02,\n",
      "       -9.44623165e-03, -5.38750598e-03, -1.87184904e-02,  6.32421747e-02,\n",
      "       -5.32262139e-02,  2.08086520e-02,  4.24038805e-02, -1.25804003e-02,\n",
      "        7.08558131e-03, -3.51005979e-02,  1.67868927e-01, -3.41044515e-02,\n",
      "       -5.08019067e-02, -1.39379635e-01, -4.23024781e-02, -8.92619342e-02,\n",
      "       -3.41153368e-02,  9.86876562e-02,  3.74696217e-02,  2.00394660e-01,\n",
      "        1.14750512e-01,  6.40738085e-02,  2.26985700e-02,  5.74467890e-03,\n",
      "       -8.87400098e-03, -6.60710558e-02,  4.18314710e-02,  5.10718599e-02,\n",
      "        6.49843514e-02, -4.50608172e-02,  2.50441283e-01,  3.07589117e-03,\n",
      "        1.69286355e-01,  3.21370214e-02, -1.13606825e-01,  3.44315499e-01,\n",
      "       -1.86115444e-01,  1.11959010e-01, -2.82554366e-02, -4.51815352e-02,\n",
      "        9.77360308e-02,  3.39617543e-02, -1.34720564e-01, -5.49807260e-03,\n",
      "       -6.21906370e-02,  1.94423199e-01, -6.62427768e-03,  4.80432846e-02,\n",
      "       -3.41651961e-02, -1.99475437e-02, -3.17743942e-02,  7.78899491e-02,\n",
      "       -2.48881690e-02,  1.09980203e-01, -1.50560457e-02,  2.07840487e-01,\n",
      "       -5.50045855e-02, -1.64362594e-01, -2.05008984e-01, -4.13627923e-02,\n",
      "       -8.43800255e-04, -1.87148049e-01,  2.30174512e-02, -4.71976325e-02,\n",
      "       -4.30623703e-02, -1.19187251e-01, -8.94159824e-02,  1.08371243e-01,\n",
      "        9.47001204e-02,  1.21083513e-01,  8.52757543e-02,  2.98403557e-02,\n",
      "       -1.24511786e-01,  6.10828958e-03, -7.39602968e-02, -1.81159843e-02,\n",
      "        4.01447006e-02, -5.94238415e-02, -1.51817948e-01,  1.04387598e-02,\n",
      "       -1.05963303e-02, -1.04599863e-01, -3.21134850e-02,  2.20004320e-02,\n",
      "        1.28233228e-02,  9.87144336e-02, -2.17706375e-02,  2.62210481e-02,\n",
      "       -7.10713118e-02,  4.38756011e-02,  5.86697012e-02,  1.41823977e-01,\n",
      "        1.72999874e-02,  9.09691751e-02,  2.02803803e-03, -1.02518260e-01,\n",
      "        3.99045348e-02,  1.17702670e-02,  8.54119211e-02, -6.55438527e-02,\n",
      "        1.11503385e-01, -1.32916793e-01,  1.64544974e-02,  1.29487412e-02,\n",
      "        4.43324633e-02, -8.61761943e-02, -6.97091296e-02, -9.25106257e-02,\n",
      "       -1.61058195e-02,  5.28104603e-02,  3.30803804e-02,  7.43474737e-02,\n",
      "       -1.51174527e-03,  8.41099676e-03,  6.94323778e-02, -6.19296916e-02,\n",
      "       -2.77299993e-02,  2.27246378e-02, -6.74226135e-02, -5.69118746e-02,\n",
      "       -6.45967796e-02, -6.04939647e-02, -1.42314592e-02, -6.53736293e-02,\n",
      "        3.28064710e-02, -6.35044575e-02])), ('neutral', array([ 2.10526316e+00,  0.00000000e+00,  6.81000000e+02,  2.55000000e+02,\n",
      "        1.60000000e+01,  0.00000000e+00,  0.00000000e+00,  0.00000000e+00,\n",
      "        0.00000000e+00,  1.50000000e+01,  1.00000000e+00,  1.00000000e+00,\n",
      "        0.00000000e+00,  0.00000000e+00,  0.00000000e+00,  0.00000000e+00,\n",
      "        0.00000000e+00,  0.00000000e+00, -1.52988443e-02,  2.18224138e-01,\n",
      "        1.63626686e-01,  1.27203241e-01,  1.25161752e-01, -7.12533146e-02,\n",
      "        2.21238300e-01, -2.32545033e-01,  5.91866709e-02, -1.29366726e-01,\n",
      "        1.42486542e-01, -2.03027353e-01,  1.34521872e-01, -1.83098670e-02,\n",
      "       -5.07044792e-02, -1.71072036e-01,  1.89192425e-02,  2.70747822e-02,\n",
      "       -1.03325322e-01,  7.14942515e-02, -9.79118347e-02,  3.46047319e-02,\n",
      "        1.77521771e-03, -4.68432307e-02, -7.12818131e-02, -1.16778184e-02,\n",
      "        1.15520820e-01, -4.43060957e-02, -5.29929288e-02,  1.21022172e-01,\n",
      "       -1.74618252e-02, -9.37126353e-02,  9.61223990e-02, -3.02315148e-05,\n",
      "        3.22044864e-02,  9.63309605e-04, -1.21349972e-02,  1.53557584e-01,\n",
      "       -1.62280813e-01, -8.38391855e-02,  9.59209800e-02,  3.52076665e-02,\n",
      "       -2.05988083e-02,  1.84825361e-02, -2.88199317e-02,  2.29708314e-01,\n",
      "       -3.45760807e-02,  7.86619484e-02, -2.27459129e-02, -3.25439796e-02,\n",
      "        2.39896160e-02, -6.87327757e-02, -9.18999091e-02, -7.01418845e-03,\n",
      "       -1.15506373e-01,  9.78182778e-02,  1.45491928e-01,  5.42059094e-02,\n",
      "       -1.38322515e-02, -8.11932161e-02, -7.25630596e-02, -5.41063808e-02,\n",
      "        5.23866788e-02, -7.06818253e-02, -2.67823581e-02, -1.15258053e-01,\n",
      "       -1.00863956e-01, -9.81035978e-02,  7.54552111e-02,  6.53872564e-02,\n",
      "        5.76549442e-03,  2.08699718e-01, -1.22521505e-01,  4.35194224e-02,\n",
      "        2.69552190e-02, -8.54608342e-02, -5.81466891e-02,  1.98536068e-02,\n",
      "       -6.72200024e-02, -1.38205498e-01, -7.02167898e-02,  2.85515338e-02,\n",
      "       -1.08959317e-01, -1.21363796e-01,  1.14663504e-02,  4.69080806e-02,\n",
      "       -8.34932625e-02,  9.20218378e-02, -7.18315095e-02, -2.56729107e-02,\n",
      "       -3.64079960e-02, -1.59322798e-01,  4.50605899e-02, -3.60102057e-02,\n",
      "        8.76205042e-02,  2.11478665e-01, -7.35220760e-02, -4.08077352e-02,\n",
      "       -5.39624430e-02, -2.30471462e-01,  7.04391971e-02, -4.78424504e-02,\n",
      "        1.18942365e-01, -1.74675435e-01, -2.04706397e-02,  3.05615216e-02,\n",
      "       -2.08341796e-02,  3.52660343e-02, -2.28960127e-01,  7.56781325e-02,\n",
      "       -1.07194543e-01,  6.82090744e-02,  5.75178443e-03, -1.04376636e-01,\n",
      "       -6.20141067e-03, -5.07008918e-02,  7.54600987e-02, -6.51497766e-02,\n",
      "        8.03600401e-02,  6.20467961e-02,  1.76632050e-02,  2.93908082e-02,\n",
      "       -2.41974413e-01, -6.04019761e-02,  5.90023957e-02, -1.15923285e-02,\n",
      "       -1.50647059e-01,  1.04399309e-01])), ('neutral', array([ 2.00000000e+00,  0.00000000e+00,  9.55000000e+02,  3.51000000e+02,\n",
      "        2.20000000e+01,  1.00000000e+00,  1.00000000e+00,  0.00000000e+00,\n",
      "        0.00000000e+00,  0.00000000e+00,  0.00000000e+00,  0.00000000e+00,\n",
      "        0.00000000e+00,  0.00000000e+00,  0.00000000e+00,  0.00000000e+00,\n",
      "        0.00000000e+00,  0.00000000e+00,  4.45745699e-02,  2.16510408e-02,\n",
      "        1.03637718e-01,  1.72799602e-01,  1.04445323e-01,  7.73402825e-02,\n",
      "        4.72701676e-02, -1.54608890e-01, -1.58896059e-01, -1.40491664e-01,\n",
      "       -1.18044898e-01,  2.97028804e-03,  1.57530859e-01,  1.98345110e-01,\n",
      "       -3.68848233e-03, -2.55706340e-01, -2.26514906e-01, -1.29884303e-01,\n",
      "        1.06449742e-02,  2.24537671e-01, -4.98137344e-03, -1.00211121e-01,\n",
      "        2.15470105e-01,  2.86957435e-03, -4.73101363e-02, -6.07367307e-02,\n",
      "       -1.52158588e-01,  1.36329308e-01, -7.48568156e-04, -1.79890677e-01,\n",
      "        1.62440076e-01, -3.08384653e-02,  5.74884787e-02, -6.64294288e-02,\n",
      "        7.99551159e-02,  1.71607342e-02, -1.53190559e-02, -1.64415278e-02,\n",
      "       -2.97080576e-02,  2.05238655e-01,  6.58032969e-02,  8.40784907e-02,\n",
      "        1.56001374e-03, -1.15652056e-02,  1.06453896e-01,  5.79713061e-02,\n",
      "        7.98805207e-02, -1.07650654e-02, -1.82115715e-02,  1.34567410e-01,\n",
      "        1.06602728e-01, -3.82154994e-02,  1.25555634e-01,  6.64718375e-02,\n",
      "       -3.46254021e-01,  5.39692827e-02,  8.04140195e-02, -9.36063826e-02,\n",
      "       -2.79127024e-02, -7.66309872e-02, -2.99373362e-03, -1.72711626e-01,\n",
      "        6.55296668e-02,  1.18202334e-02, -1.24558844e-01,  1.09439693e-01,\n",
      "        4.89545725e-02, -6.70338869e-02,  7.10313171e-02, -4.94028674e-03,\n",
      "        1.32483378e-01, -4.57126722e-02, -6.26111627e-02,  2.69716650e-01,\n",
      "       -1.90709578e-03,  4.61471193e-02, -5.01346327e-02,  4.53212410e-02,\n",
      "        1.31839225e-02, -2.64385715e-02, -3.88542563e-03, -7.89264292e-02,\n",
      "        1.49797022e-01,  5.11889011e-02, -1.34119362e-01, -6.22364646e-03,\n",
      "       -2.36943007e-01,  9.28358585e-02, -1.80269569e-01,  2.67010462e-02,\n",
      "        5.42932302e-02,  3.52109149e-02,  4.27370407e-02,  1.07543290e-01,\n",
      "       -7.40918592e-02, -3.03808730e-02, -1.68341130e-01, -1.31215021e-01,\n",
      "       -1.39993280e-01, -2.36321062e-01, -1.80897787e-01, -1.11913383e-01,\n",
      "        1.42451704e-01, -3.76591757e-02, -5.04301675e-02, -1.08757168e-01,\n",
      "        1.78010598e-01,  1.00170113e-01, -1.01358369e-01, -1.33836001e-01,\n",
      "       -4.85442877e-02,  1.19414940e-01, -1.71369910e-01, -1.85003608e-01,\n",
      "       -2.18132377e-01, -2.31551994e-02, -1.34918094e-01, -1.87158078e-01,\n",
      "       -4.48912941e-02,  1.82935119e-01, -1.78543016e-01,  8.36459845e-02,\n",
      "       -3.14097218e-02,  2.08365232e-01,  9.44756418e-02, -1.48725316e-01,\n",
      "       -2.19176456e-01,  5.19622341e-02])), ('neutral', array([ 2.53333333e+00,  6.88888889e-02,  2.58000000e+02,  1.54000000e+02,\n",
      "        2.10000000e+01,  4.00000000e+00,  4.00000000e+00,  1.00000000e+00,\n",
      "        0.00000000e+00,  7.00000000e+00,  3.00000000e+00,  3.00000000e+00,\n",
      "        0.00000000e+00,  0.00000000e+00,  0.00000000e+00,  0.00000000e+00,\n",
      "        0.00000000e+00,  0.00000000e+00,  3.13358791e-02,  6.48676232e-02,\n",
      "        2.47519538e-01, -8.77675638e-02,  1.35855880e-02, -1.02610767e-01,\n",
      "        1.07451916e-01, -5.52148372e-02, -3.06553282e-02, -9.83149186e-02,\n",
      "       -1.07056700e-01, -9.62941051e-02,  7.13220984e-02, -4.36194278e-02,\n",
      "        7.50571117e-02,  3.53581980e-02, -1.26174450e-01, -6.51202574e-02,\n",
      "       -2.23882407e-01,  6.49012551e-02, -9.84214321e-02,  1.26664117e-01,\n",
      "        1.20786000e-02, -4.11865860e-02,  1.91816837e-02,  7.01755136e-02,\n",
      "       -1.44294262e-01, -4.76534888e-02, -1.54970484e-02,  2.24022448e-01,\n",
      "        1.03221908e-01, -7.28897899e-02,  8.02399069e-02,  5.42388260e-02,\n",
      "        1.30941734e-01, -5.83462417e-02, -1.28873095e-01,  2.30518490e-01,\n",
      "       -1.42710894e-01, -5.46017066e-02, -1.12719042e-02,  1.29787847e-01,\n",
      "       -6.74003288e-02, -1.37836458e-02, -1.32883072e-01,  1.26192331e-01,\n",
      "       -5.05437814e-02,  1.43324256e-01, -1.49583787e-01, -1.06262967e-01,\n",
      "       -1.06943257e-01,  1.63139358e-01,  1.83418825e-01, -1.80166941e-02,\n",
      "       -1.68826789e-01, -7.76198581e-02, -1.25658408e-01,  5.85418344e-02,\n",
      "       -1.67043898e-02, -5.15747815e-02, -1.95501402e-01, -3.82813485e-03,\n",
      "       -1.68233342e-03,  9.34895501e-03,  1.75087042e-02, -4.54519801e-02,\n",
      "       -1.22984111e-01, -1.13285877e-01, -4.01710868e-02, -1.37930334e-01,\n",
      "       -5.13018854e-02,  3.00020307e-01,  9.75847542e-02,  4.87385094e-02,\n",
      "        1.53211385e-01,  7.41774216e-03, -8.59810337e-02, -2.17053473e-01,\n",
      "       -7.37736300e-02, -1.14943556e-01, -1.15375951e-01,  8.50275382e-02,\n",
      "       -8.17531198e-02, -1.43597186e-01, -1.10597722e-01, -1.37390584e-01,\n",
      "       -7.88632315e-03,  1.20002881e-01,  3.02616209e-02,  4.40825522e-02,\n",
      "       -9.67010558e-02, -1.26240984e-01, -1.09332703e-01,  1.25751242e-01,\n",
      "        6.70526177e-02,  1.70722097e-01, -5.16051985e-02, -1.39402170e-02,\n",
      "       -1.90834671e-01, -5.91648137e-03,  1.11749761e-01, -2.70780802e-01,\n",
      "       -6.20685406e-02,  2.83733360e-03, -8.93948600e-02,  4.74741422e-02,\n",
      "       -1.03585534e-01, -6.94072843e-02, -1.50072295e-02, -1.11782096e-01,\n",
      "        1.56265244e-01,  4.83605564e-02,  7.94773102e-02, -3.59712951e-02,\n",
      "       -1.14989333e-01, -2.72325188e-01,  1.53941974e-01, -3.94725427e-02,\n",
      "        8.36796835e-02,  1.53207406e-01,  7.36943260e-02,  1.23803653e-01,\n",
      "       -1.94902003e-01, -8.06542113e-03, -9.39352587e-02, -3.54675911e-02,\n",
      "       -3.14587131e-02,  2.57505253e-02])), ('neutral', array([ 2.06666667e+00,  0.00000000e+00,  3.25400000e+03,  7.46000000e+02,\n",
      "        3.00000000e+01,  1.00000000e+00,  1.00000000e+00,  0.00000000e+00,\n",
      "        0.00000000e+00,  2.60000000e+01,  1.00000000e+00,  1.00000000e+00,\n",
      "        0.00000000e+00,  0.00000000e+00,  0.00000000e+00,  0.00000000e+00,\n",
      "        0.00000000e+00,  0.00000000e+00,  1.51970461e-02,  8.65454376e-02,\n",
      "        2.15168864e-01,  3.82653885e-02, -1.96464896e-01,  9.20128524e-02,\n",
      "        1.19643748e-01,  9.58768800e-02,  8.17782506e-02,  1.56839341e-01,\n",
      "       -2.58243736e-02, -1.63750947e-02,  9.47023779e-02, -6.87204599e-02,\n",
      "       -7.77827203e-02, -2.62684882e-01,  2.99833119e-01, -9.06783342e-02,\n",
      "       -7.88674727e-02,  2.61917114e-01, -1.96985945e-01,  2.36905679e-01,\n",
      "       -2.36019138e-02,  9.33434069e-02,  8.08541700e-02, -9.88759175e-02,\n",
      "       -1.37929380e-01,  2.07474064e-02,  4.23322842e-02,  5.42490669e-02,\n",
      "        2.92304069e-01, -5.69297075e-02,  1.32927820e-01, -1.86135527e-02,\n",
      "       -8.61970559e-02,  1.96064431e-02, -1.07630342e-01, -2.03640331e-02,\n",
      "       -4.99490388e-02,  3.58170718e-02,  3.29858303e-01,  2.14615744e-02,\n",
      "       -5.73494285e-02,  1.94652677e-01, -5.08667529e-03,  3.85532588e-01,\n",
      "        5.76380715e-02,  2.09618047e-01, -5.39125912e-02,  3.51596475e-02,\n",
      "        5.42334057e-02,  2.46543456e-02, -4.69062962e-02,  1.19889647e-01,\n",
      "       -1.44881934e-01,  3.13157178e-02,  3.75190109e-01,  1.59773249e-02,\n",
      "       -1.93835840e-01, -1.13080308e-01, -6.04530349e-02, -1.02434184e-04,\n",
      "       -2.45719537e-01, -9.72132385e-02, -2.78925896e-01,  3.04233804e-02,\n",
      "       -1.81734905e-01, -1.42579526e-01, -2.86023715e-03, -1.54111162e-02,\n",
      "       -1.00510836e-01,  9.49779451e-02,  5.12279719e-02,  1.16054460e-01,\n",
      "        7.12000057e-02, -8.17391723e-02,  1.79412991e-01, -1.88066542e-01,\n",
      "        2.44309008e-01, -3.43074113e-01, -1.25747435e-02,  7.46171474e-02,\n",
      "        5.19648567e-02, -2.40975887e-01, -9.49586108e-02,  5.76961562e-02,\n",
      "        1.68325361e-02,  1.73313111e-01, -1.58273637e-01,  1.85718685e-01,\n",
      "        4.88368012e-02, -5.21080196e-02, -1.30656227e-01,  1.42314464e-01,\n",
      "       -7.99860526e-03,  3.49893533e-02, -1.71308238e-02,  5.54400869e-02,\n",
      "       -2.68809676e-01, -1.21658660e-01, -6.89698309e-02, -1.22064806e-03,\n",
      "       -3.45475450e-02, -2.50068903e-01, -1.56015411e-01,  5.31177334e-02,\n",
      "       -2.94478200e-02, -1.80423707e-01, -2.16213241e-01, -2.16245130e-01,\n",
      "        5.18816523e-02, -1.37455255e-01, -1.36544064e-01,  6.41875938e-02,\n",
      "       -1.74282342e-01, -1.00787520e-01,  1.66849181e-01, -2.36444529e-02,\n",
      "        4.76434231e-02,  8.51528123e-02, -3.08078080e-02, -2.11253967e-02,\n",
      "       -4.95124578e-01,  1.41226992e-01,  1.20250985e-01, -3.47621888e-02,\n",
      "       -2.07044825e-01,  1.87144801e-01])), ('neutral', array([ 2.26086957e+00,  4.49275362e-02,  1.26900000e+03,  4.59000000e+02,\n",
      "        3.20000000e+01,  5.00000000e+00,  5.00000000e+00,  1.00000000e+00,\n",
      "        0.00000000e+00,  0.00000000e+00,  0.00000000e+00,  0.00000000e+00,\n",
      "        0.00000000e+00,  0.00000000e+00,  0.00000000e+00,  0.00000000e+00,\n",
      "        0.00000000e+00,  0.00000000e+00, -1.55536905e-01,  6.15902282e-02,\n",
      "        1.42771423e-01,  1.01918884e-01, -1.58275127e-01, -1.65548660e-02,\n",
      "        5.20211644e-02,  2.49747664e-01,  5.70637397e-02,  1.19835675e-01,\n",
      "       -2.11566091e-01,  1.53398946e-01, -2.30530590e-01, -1.28580239e-02,\n",
      "       -1.01451442e-01, -2.96798974e-01,  1.72008887e-01, -5.76771423e-02,\n",
      "       -8.50091949e-02, -2.53141552e-01,  7.72207230e-02, -1.18677981e-01,\n",
      "       -2.27247681e-02,  1.19572245e-02,  2.46201828e-01,  1.34574234e-01,\n",
      "       -1.30918577e-01,  3.12745646e-02, -9.91625115e-02, -1.55438051e-01,\n",
      "        8.95844027e-02, -2.31466502e-01, -6.43097460e-02,  3.10357273e-01,\n",
      "       -2.17074946e-01, -1.73901618e-01,  2.40746543e-01,  1.85078040e-01,\n",
      "       -1.46834808e-03,  7.63988569e-02,  1.84819281e-01,  8.20151269e-02,\n",
      "       -4.79668044e-02, -9.96453762e-02, -2.08096519e-01, -1.55701116e-03,\n",
      "        6.18816242e-02,  5.50097600e-02,  1.01542883e-01,  4.83901352e-02,\n",
      "       -2.10352056e-02,  1.52052209e-01, -4.30017663e-03,  1.74576864e-02,\n",
      "       -7.90378526e-02,  1.85345873e-01, -6.12521693e-02,  5.81684336e-02,\n",
      "        5.17970556e-03,  3.00074834e-02, -5.61624169e-02,  1.60918087e-02,\n",
      "       -8.61441121e-02, -1.26593247e-01, -1.66660324e-01, -1.85263157e-02,\n",
      "        7.06168711e-02, -4.86757569e-02, -9.50762928e-02, -6.64017210e-03,\n",
      "        2.83939987e-01,  2.27339730e-01, -2.10233442e-02,  1.54239535e-01,\n",
      "       -3.04702260e-02, -4.98197377e-02, -1.64453521e-01,  6.71639070e-02,\n",
      "        1.47962421e-01, -1.20288990e-01, -2.26452813e-01,  2.05924883e-02,\n",
      "       -2.01660451e-02,  1.10625155e-01, -1.52318180e-01,  5.48874550e-02,\n",
      "       -1.73446222e-03,  7.09103867e-02, -6.58155009e-02, -7.03081191e-02,\n",
      "        1.10090598e-01, -1.67075157e-01, -1.59811735e-01, -1.04058146e-01,\n",
      "        9.93886963e-02,  1.31064206e-01, -8.38574320e-02,  4.22096327e-02,\n",
      "       -2.28897706e-01, -1.66662991e-01, -8.96763578e-02, -1.79169640e-01,\n",
      "        5.49464896e-02, -5.38684763e-02, -5.06372899e-02,  7.15143532e-02,\n",
      "        5.58791310e-02, -1.00394346e-01, -1.81392580e-01, -1.70961529e-01,\n",
      "       -1.26428172e-01,  2.67483424e-02,  1.18454292e-01, -3.04460917e-02,\n",
      "       -2.37219349e-01, -3.45890373e-02, -2.08801895e-01, -9.71462429e-02,\n",
      "        5.79233235e-03,  7.71039352e-02,  1.00046046e-01,  8.29818100e-02,\n",
      "       -6.18231967e-02, -2.16018498e-01,  1.13776043e-01, -1.02267556e-01,\n",
      "       -1.57484934e-01, -6.31140079e-03])), ('neutral', array([ 2.16000000e+00,  0.00000000e+00,  1.72100000e+03,  5.37000000e+02,\n",
      "        3.40000000e+01,  4.00000000e+00,  4.00000000e+00,  0.00000000e+00,\n",
      "        0.00000000e+00,  0.00000000e+00,  0.00000000e+00,  0.00000000e+00,\n",
      "        0.00000000e+00,  0.00000000e+00,  0.00000000e+00,  0.00000000e+00,\n",
      "        0.00000000e+00,  0.00000000e+00, -4.81779538e-02,  2.59564340e-01,\n",
      "        2.67888665e-01,  1.09385870e-01,  9.87216681e-02, -6.32511452e-02,\n",
      "        1.90566957e-01,  1.75552055e-01, -6.84130117e-02,  2.54087985e-01,\n",
      "       -1.54329807e-01, -3.76245677e-01, -2.37805769e-02, -4.14036959e-01,\n",
      "       -1.69719327e-02, -2.83301830e-01, -2.68210508e-02, -2.11751327e-01,\n",
      "       -5.08206002e-02,  6.09707050e-02, -2.11861283e-01,  9.79893357e-02,\n",
      "       -3.09147183e-02,  1.20317705e-01,  3.52721736e-02, -1.34278268e-01,\n",
      "       -1.54941782e-01, -1.94061816e-01,  9.79983360e-02,  5.23827188e-02,\n",
      "        7.14083612e-02, -5.63158095e-02, -1.44145936e-01,  1.20271288e-01,\n",
      "        1.19803801e-01,  9.25740078e-02, -3.23529989e-02,  6.98459297e-02,\n",
      "       -1.82096176e-02, -5.02027422e-02,  2.20770203e-02,  5.06949313e-02,\n",
      "       -5.32309376e-02,  9.06352401e-02, -2.45509505e-01, -3.17469910e-02,\n",
      "        1.04595423e-01,  9.85642523e-02, -1.08322866e-01, -2.44966850e-01,\n",
      "       -4.99373898e-02,  1.56523548e-02, -8.53053555e-02, -6.28685579e-02,\n",
      "        2.17572972e-01,  5.69102466e-02,  2.17378195e-02,  1.95026211e-02,\n",
      "        1.86810922e-02,  4.18329984e-02, -9.41644013e-02, -1.51867703e-01,\n",
      "        2.09993407e-01,  1.28319040e-01, -1.11943837e-02,  9.45898965e-02,\n",
      "       -3.84583138e-02,  8.75918195e-02,  8.10421631e-02,  4.47221473e-02,\n",
      "       -2.89313853e-01,  7.91250989e-02, -1.18897222e-01,  2.51729880e-02,\n",
      "       -9.30295661e-02, -5.04575521e-02, -2.18151882e-03, -2.48090461e-01,\n",
      "       -1.04415894e-01,  5.75321121e-03, -1.54865935e-01,  1.31372204e-02,\n",
      "       -1.28529906e-01,  8.38552564e-02, -7.93349296e-02,  1.39108300e-01,\n",
      "        2.33458221e-01,  9.13555920e-02, -1.22457832e-01,  1.24289757e-02,\n",
      "       -1.67493984e-01, -5.69117181e-02,  1.34414345e-01,  5.00884792e-03,\n",
      "       -2.12018825e-02,  6.94298744e-02, -1.42211035e-01,  1.54907256e-01,\n",
      "       -1.28722593e-01,  5.96880354e-02,  4.16969233e-05, -1.86110646e-01,\n",
      "        7.64702708e-02, -1.33545667e-01,  1.06354080e-01,  7.51427636e-02,\n",
      "       -3.16045037e-03, -2.06379056e-01, -9.28250104e-02, -9.19713527e-02,\n",
      "        4.25137170e-02,  5.47958538e-02, -2.22527429e-01, -1.88092217e-02,\n",
      "        8.97141024e-02,  1.08352363e-01,  1.73861131e-01, -1.10552721e-01,\n",
      "       -1.44160971e-01, -2.08458260e-01, -2.14010291e-02, -9.96760931e-03,\n",
      "       -1.71408162e-01,  1.08442128e-01, -1.01492994e-01,  5.97557351e-02,\n",
      "        5.70484176e-02, -1.23547036e-02])), ('neutral', array([ 2.48275862e+00,  1.30257673e-01,  2.80400000e+03,  7.33000000e+02,\n",
      "        6.60000000e+01,  2.30000000e+01,  2.30000000e+01,  5.00000000e+00,\n",
      "        0.00000000e+00,  0.00000000e+00,  0.00000000e+00,  0.00000000e+00,\n",
      "        0.00000000e+00,  0.00000000e+00,  0.00000000e+00,  0.00000000e+00,\n",
      "        0.00000000e+00,  0.00000000e+00,  3.06377143e-01,  4.17994559e-01,\n",
      "        3.49861920e-01, -6.27627000e-02,  1.75146908e-02,  8.54987428e-02,\n",
      "       -8.11854526e-02, -3.64434332e-01, -1.55518606e-01, -2.62865841e-01,\n",
      "        2.86010385e-01, -3.07075113e-01,  2.09458880e-02, -7.57416636e-02,\n",
      "       -1.69019416e-01,  6.25914559e-02,  1.32522911e-01,  1.15961194e-01,\n",
      "       -2.50002486e-03,  3.03408802e-01, -1.26872808e-01,  3.04265730e-02,\n",
      "       -4.78375405e-02, -4.61044163e-02,  1.25789955e-01,  3.75952452e-01,\n",
      "        1.02716126e-01,  5.50890714e-02, -2.17586279e-01,  3.90939228e-02,\n",
      "        6.06270880e-03,  1.52304649e-01, -1.61972940e-01, -9.54560190e-02,\n",
      "       -1.68561190e-01, -1.95100531e-02,  2.21411228e-01,  1.18240267e-01,\n",
      "       -2.64662821e-02,  5.91005050e-02,  2.02878818e-01,  9.68693569e-02,\n",
      "        1.46337867e-01, -3.96669516e-03, -2.46538240e-02, -5.19145839e-02,\n",
      "       -9.20488313e-02, -3.76375876e-02,  2.03876033e-01,  1.53387129e-01,\n",
      "        1.40997291e-01,  5.31066693e-02, -1.88215613e-01,  1.80796627e-02,\n",
      "        1.00566857e-01, -1.49701387e-01, -6.18815534e-02,  1.03517279e-01,\n",
      "        1.19955696e-01, -1.40069798e-01, -1.39902711e-01, -2.60491490e-01,\n",
      "        2.57869422e-01, -1.86616406e-01,  1.63426235e-01,  2.53349125e-01,\n",
      "        2.09221497e-01,  5.40304370e-02,  2.89616529e-02,  1.33985788e-01,\n",
      "       -3.41060497e-02,  6.48224801e-02, -6.83964193e-02, -4.40597534e-02,\n",
      "       -1.23718031e-01,  1.70262396e-01,  1.88655466e-01, -1.46686584e-01,\n",
      "       -1.05413631e-01, -5.79049923e-02, -6.83292970e-02, -9.35332403e-02,\n",
      "       -3.82044236e-03,  2.82142162e-01,  7.97999650e-02,  1.33405909e-01,\n",
      "       -2.42415667e-01, -9.70869213e-02, -6.85101049e-03,  1.14744395e-01,\n",
      "        9.15584266e-02,  1.38050169e-01,  1.95949435e-01, -7.19767855e-03,\n",
      "        1.88382834e-01,  1.11275226e-01, -2.05527470e-01,  1.76503360e-01,\n",
      "        2.26004034e-01,  9.65945572e-02, -2.04912558e-01,  1.84535414e-01,\n",
      "        7.82217309e-02, -2.55284868e-02, -2.93918159e-02, -1.37424141e-01,\n",
      "        1.36214048e-01, -1.53438345e-01, -5.53132221e-02,  2.41294682e-01,\n",
      "       -1.44140497e-02, -1.98027998e-01,  2.51768589e-01,  1.95001617e-01,\n",
      "       -1.55218884e-01,  8.68771523e-02, -1.09410815e-01,  3.46003801e-01,\n",
      "        4.28565256e-02,  1.06052376e-01,  8.69307369e-02, -1.62241176e-01,\n",
      "        6.11716062e-02, -1.45545676e-02, -6.01122901e-02, -6.69839466e-03,\n",
      "        1.20816991e-01, -4.65635583e-02])), ('neutral', array([ 2.12903226e+00,  0.00000000e+00,  3.58300000e+03,  8.67000000e+02,\n",
      "        3.80000000e+01,  3.00000000e+00,  4.00000000e+00,  0.00000000e+00,\n",
      "        0.00000000e+00,  0.00000000e+00,  0.00000000e+00,  0.00000000e+00,\n",
      "        0.00000000e+00,  0.00000000e+00,  0.00000000e+00,  0.00000000e+00,\n",
      "        0.00000000e+00,  0.00000000e+00,  1.68915540e-01,  1.33235566e-03,\n",
      "       -8.77082497e-02, -1.02583207e-02, -2.18734413e-01,  3.83538790e-02,\n",
      "        1.57744497e-01, -9.19090062e-02, -6.56956062e-02, -7.61219487e-02,\n",
      "       -1.18863516e-01, -1.71550829e-02, -2.52317805e-02,  1.13890611e-01,\n",
      "       -1.32913306e-01, -4.11545895e-02, -2.11564135e-02,  1.04087971e-01,\n",
      "        4.70106266e-02,  4.13296446e-02, -8.02939981e-02,  1.14369029e-02,\n",
      "       -1.04171008e-01, -1.31905422e-01, -3.54620926e-02, -1.13951536e-02,\n",
      "       -4.78009693e-02, -7.40451962e-02, -7.56392330e-02,  4.23539840e-02,\n",
      "        2.48351336e-01, -1.96689859e-01,  4.66515403e-03, -1.51518290e-03,\n",
      "        1.71834067e-01,  1.22331467e-03, -8.27422515e-02, -1.65649503e-02,\n",
      "        2.88535774e-01, -4.78144735e-02, -1.40215615e-02,  7.61892879e-03,\n",
      "       -2.64594872e-02,  6.83037937e-02,  1.19593248e-01,  3.04661125e-01,\n",
      "        1.56044038e-02,  4.38120328e-02, -2.47448772e-01, -2.18139365e-02,\n",
      "       -8.20271447e-02,  2.26043820e-01, -2.41592094e-01,  2.56630003e-01,\n",
      "       -1.18505724e-01,  8.00909102e-02,  9.11982581e-02,  8.35144296e-02,\n",
      "       -1.33420616e-01, -8.90293717e-02,  2.18523424e-02, -5.32892942e-02,\n",
      "       -5.71212396e-02,  4.25514542e-02,  1.62841603e-01,  7.68207908e-02,\n",
      "        1.95356626e-02, -1.87012270e-01,  9.03536081e-02, -1.83308929e-01,\n",
      "        4.68051508e-02,  2.13286057e-01,  1.20192476e-01, -1.34848893e-01,\n",
      "        2.58334935e-01,  1.81311712e-01,  3.53087741e-03, -2.26336583e-01,\n",
      "        5.19586056e-02, -1.42399147e-01,  1.50312960e-01, -1.42164798e-02,\n",
      "       -7.49352053e-02, -3.52688462e-01,  2.09176540e-01,  2.10511442e-02,\n",
      "       -3.23320121e-01,  3.74930918e-01, -4.49435040e-02,  1.59760684e-01,\n",
      "       -5.20712063e-02,  8.68919045e-02, -2.27589346e-02,  2.90784985e-02,\n",
      "        2.22550929e-01,  1.73574269e-01,  2.33836658e-02, -2.29177222e-01,\n",
      "       -9.19626951e-02,  4.40072604e-02, -1.20579764e-01, -1.88792154e-01,\n",
      "        3.00801005e-02, -8.94265324e-02,  2.41655502e-02, -2.28886437e-02,\n",
      "        4.40917946e-02, -1.20030507e-01,  1.03684604e-01, -1.63649142e-01,\n",
      "       -2.68667251e-01,  1.68205678e-01,  1.42091647e-01, -1.64600119e-01,\n",
      "       -4.44269031e-02,  4.35427204e-02,  4.04064469e-02, -2.71620840e-01,\n",
      "       -1.44675281e-02,  1.77996486e-01,  1.17940474e-02, -7.85951409e-03,\n",
      "       -3.75395536e-01, -1.36739044e-02, -6.15916997e-02, -1.19888067e-01,\n",
      "       -1.02383018e-01,  8.99295583e-02])), ('neutral', array([ 2.00000000e+00,  0.00000000e+00,  2.78000000e+02,  1.59000000e+02,\n",
      "        1.60000000e+01,  1.00000000e+00,  1.00000000e+00,  0.00000000e+00,\n",
      "        0.00000000e+00,  0.00000000e+00,  0.00000000e+00,  0.00000000e+00,\n",
      "        0.00000000e+00,  0.00000000e+00,  0.00000000e+00,  0.00000000e+00,\n",
      "        0.00000000e+00,  0.00000000e+00,  7.48198479e-02,  2.14890450e-01,\n",
      "        7.21773505e-02, -4.19970043e-02,  2.37051651e-01, -1.15243927e-01,\n",
      "       -2.42704917e-02, -6.21204339e-02,  1.56862307e-02, -1.45881101e-01,\n",
      "        6.39016554e-02,  5.67564815e-02,  2.07715482e-01, -2.60257330e-02,\n",
      "        2.29608178e-01, -9.91700590e-02,  4.01236489e-02, -1.29559077e-02,\n",
      "       -2.65095085e-02,  8.23417604e-02, -2.79197171e-02,  8.54004174e-02,\n",
      "        3.07386052e-02,  1.61701098e-01, -2.30672151e-01, -7.16233402e-02,\n",
      "       -1.42263338e-01, -2.09631741e-01,  3.51883769e-02,  6.99532107e-02,\n",
      "       -1.81799512e-02, -2.24023964e-02, -6.83110133e-02, -1.31747812e-01,\n",
      "        8.42982382e-02,  6.19874448e-02, -7.70783871e-02,  1.11591861e-01,\n",
      "       -1.35438293e-01,  8.34716484e-02,  1.39818698e-01, -1.08913310e-01,\n",
      "       -1.39377713e-01, -3.52756605e-02, -1.24614649e-01,  2.94018108e-02,\n",
      "        1.98816061e-02,  1.86474219e-01,  9.18206573e-03, -5.69112040e-02,\n",
      "        1.57729667e-02,  9.47034881e-02,  4.80545275e-02,  8.68965685e-02,\n",
      "       -2.00515687e-01,  1.93066344e-01,  1.74841836e-01,  1.19266443e-01,\n",
      "        1.40683264e-01, -1.15471333e-01, -6.99628443e-02, -1.71861760e-02,\n",
      "        1.56602040e-01, -5.88783883e-02, -1.25580460e-01, -7.25482553e-02,\n",
      "        6.99402252e-03, -1.16603203e-01, -4.00470905e-02,  7.39835724e-02,\n",
      "        3.70538682e-02,  1.92529351e-01, -7.28451908e-02,  2.41040275e-01,\n",
      "       -4.53428067e-02, -8.92721936e-02,  1.08262122e-01,  1.94695279e-01,\n",
      "       -1.80632900e-02, -2.27837861e-01,  5.48086800e-02,  2.31286697e-02,\n",
      "        7.95168355e-02, -1.11802921e-01, -2.08789825e-01, -1.03771046e-01,\n",
      "       -6.50953427e-02,  1.98069185e-01, -1.61509767e-01, -2.76263673e-02,\n",
      "       -2.02248007e-01,  8.99117347e-03,  6.57327026e-02,  1.47383124e-01,\n",
      "       -1.89892069e-01, -7.50016868e-02, -4.91055287e-02, -5.27972430e-02,\n",
      "       -5.36295660e-02, -4.69224751e-02, -2.72222646e-02,  9.96747985e-02,\n",
      "        1.11025788e-01, -8.49917904e-02,  1.12973638e-01,  1.11947104e-01,\n",
      "        7.11751506e-02,  2.21196692e-02, -9.61080566e-02,  2.77992822e-02,\n",
      "        4.14418094e-02,  5.61941043e-02, -1.08043186e-01, -1.15440540e-01,\n",
      "        6.91476166e-02, -8.73464346e-02, -4.10223044e-02, -1.13213539e-01,\n",
      "        4.96344492e-02, -1.30218472e-02,  3.57941687e-02,  8.10907409e-02,\n",
      "       -6.00648783e-02,  2.48534918e-01,  9.98153612e-02, -1.32394552e-01,\n",
      "        3.28581035e-02,  1.75139055e-01])), ('neutral', array([ 2.41379310e+00,  2.29885057e-02,  2.82600000e+03,  7.22000000e+02,\n",
      "        4.10000000e+01,  5.00000000e+00,  5.00000000e+00,  0.00000000e+00,\n",
      "        1.00000000e+00,  4.40000000e+01,  5.00000000e+00,  5.00000000e+00,\n",
      "        0.00000000e+00,  0.00000000e+00,  0.00000000e+00,  0.00000000e+00,\n",
      "        0.00000000e+00,  0.00000000e+00, -4.89901826e-02,  5.61002791e-02,\n",
      "        3.83169241e-02,  5.00114299e-02,  2.24894121e-01, -3.25055748e-01,\n",
      "        9.50105861e-02, -1.56886235e-01, -2.84470785e-02,  1.23174779e-01,\n",
      "       -1.92308463e-02,  6.76104203e-02,  2.40743980e-02, -4.74174507e-02,\n",
      "       -6.49358854e-02,  1.56392697e-02, -6.21804893e-02,  5.37113240e-03,\n",
      "       -4.77194972e-02, -1.95234314e-01, -3.34807009e-01,  9.76778045e-02,\n",
      "        7.11624995e-02,  6.44485503e-02, -5.74330576e-02,  8.54169354e-02,\n",
      "        1.90287843e-01,  6.42411038e-02, -1.64479405e-01,  5.36889210e-02,\n",
      "       -6.87310984e-03, -7.11886287e-02,  2.17299059e-01,  2.73834616e-01,\n",
      "        6.69633821e-02,  1.58338819e-03,  9.83656049e-02,  2.02527288e-02,\n",
      "        1.63894951e-01,  1.77067727e-01,  1.42393216e-01,  2.64220499e-02,\n",
      "       -5.75983077e-02,  2.39030406e-01, -1.31874487e-01,  7.15585649e-02,\n",
      "        9.53188986e-02,  1.71036497e-02,  2.93091461e-02, -1.73816979e-01,\n",
      "       -2.09895268e-01,  2.01419786e-01,  7.54323602e-02,  4.26261686e-02,\n",
      "       -9.13132727e-02,  1.59265101e-01, -5.31710386e-02,  2.62371927e-01,\n",
      "       -2.04769418e-01, -7.45401084e-02, -1.64675131e-01,  1.93092301e-02,\n",
      "       -7.95972347e-02, -2.61382103e-01, -1.12152249e-01, -3.80729660e-02,\n",
      "       -1.25359762e-02, -1.86645836e-01, -9.51237231e-02, -2.24710435e-01,\n",
      "        5.17808981e-02,  1.57459587e-01,  6.65619895e-02,  1.22586519e-01,\n",
      "        3.41178589e-02, -9.53660682e-02,  1.17011182e-01, -2.08729014e-01,\n",
      "       -1.61283370e-02,  8.23122188e-02, -3.75968218e-01, -5.35737984e-02,\n",
      "        1.24535114e-01, -2.06077516e-01,  1.40119880e-01,  4.61876430e-02,\n",
      "       -3.21692205e-03,  7.84414187e-02, -7.52754509e-02, -4.41172086e-02,\n",
      "       -3.97480391e-02, -5.02396971e-02, -2.55451262e-01,  2.36353710e-01,\n",
      "       -6.66561304e-03,  1.65181652e-01, -4.37956117e-02, -5.69608016e-03,\n",
      "       -2.30240542e-02, -1.63027927e-01, -2.61394698e-02, -2.54222173e-02,\n",
      "        4.29247469e-02, -2.50101328e-01, -6.43645972e-02,  1.97330173e-02,\n",
      "       -3.75740528e-02, -1.31459340e-01, -1.13065138e-01, -1.43342987e-01,\n",
      "        1.65542178e-02,  3.48861925e-02,  9.65798944e-02, -2.48036087e-02,\n",
      "       -1.36716560e-01, -5.10810316e-02, -5.09439558e-02, -5.20606972e-02,\n",
      "        7.66040310e-02,  1.57945037e-01,  1.83864520e-03, -1.22368522e-01,\n",
      "       -9.51403193e-03, -7.26936832e-02, -1.24079987e-01, -1.74188420e-01,\n",
      "        1.19292393e-01,  2.03625649e-01])), ('neutral', array([ 2.00000000e+00,  0.00000000e+00,  2.60000000e+03,  6.50000000e+02,\n",
      "        2.60000000e+01,  0.00000000e+00,  0.00000000e+00,  0.00000000e+00,\n",
      "        0.00000000e+00,  0.00000000e+00,  0.00000000e+00,  0.00000000e+00,\n",
      "        0.00000000e+00,  0.00000000e+00,  0.00000000e+00,  0.00000000e+00,\n",
      "        0.00000000e+00,  0.00000000e+00, -1.12637579e-01,  1.47181451e-01,\n",
      "        1.51290640e-01,  6.15854859e-02, -7.86557328e-03, -8.09984207e-02,\n",
      "        5.15193418e-02, -2.09705532e-01,  1.78713679e-01,  9.65882540e-02,\n",
      "        9.23749879e-02, -1.52706385e-01, -2.53151029e-01,  9.16240737e-02,\n",
      "       -8.16295668e-02, -2.73333430e-01, -1.28288046e-01, -1.67425320e-01,\n",
      "       -3.68660092e-02,  4.80620041e-02, -1.33666247e-01, -2.04239398e-01,\n",
      "        1.21287532e-01,  1.04616478e-01, -2.46861130e-01, -6.81964904e-02,\n",
      "       -2.95224547e-01,  3.76693420e-02,  2.66016394e-01,  4.39422298e-03,\n",
      "       -7.53980353e-02,  3.60661298e-02, -2.94827670e-02, -5.50552160e-02,\n",
      "       -5.28267734e-02,  3.08047056e-01, -1.69186980e-01,  1.09636253e-02,\n",
      "       -8.88680369e-02, -9.53739509e-02, -2.18500763e-01,  3.16881724e-02,\n",
      "        1.67835623e-01, -6.60367236e-02,  9.23279449e-02,  1.38244063e-01,\n",
      "        7.49749318e-02,  1.56867564e-01, -8.40683654e-02,  1.45927921e-01,\n",
      "       -1.03086978e-01,  6.64317831e-02,  1.37647063e-01, -3.26189518e-01,\n",
      "       -1.05368726e-01,  2.19095930e-01,  4.47100662e-02,  3.84648405e-02,\n",
      "        1.33552060e-01, -3.83826494e-02,  3.31671746e-03, -6.98537305e-02,\n",
      "        1.21586770e-01,  1.22736312e-01,  4.78679612e-02, -1.03329569e-01,\n",
      "       -1.21791653e-01, -1.74848735e-01,  5.53078912e-02, -7.91661590e-02,\n",
      "        1.82080910e-01,  1.34677142e-01,  2.77714897e-02,  1.42356589e-01,\n",
      "        2.84420192e-01, -3.21030051e-01,  1.11727126e-01,  1.12774735e-02,\n",
      "        8.53402391e-02, -6.71571866e-02,  1.49543449e-01,  1.36794850e-01,\n",
      "       -8.94246921e-02, -4.12832014e-02, -9.94138718e-02,  4.70514074e-02,\n",
      "       -3.07090014e-01,  4.50311713e-02, -1.50513485e-01,  3.16068977e-01,\n",
      "       -1.08343571e-01, -1.70209575e-02, -8.71411562e-02,  3.53420913e-01,\n",
      "        1.51355797e-02,  9.89817753e-02, -9.83606651e-02,  5.16402051e-02,\n",
      "       -9.85580087e-02,  2.49911956e-02,  3.08839917e-01, -3.94784212e-01,\n",
      "        3.01284865e-02, -1.29964173e-01,  5.59818409e-02, -5.91453277e-02,\n",
      "       -1.58116356e-01,  6.88891783e-02,  1.49840921e-01, -9.45414379e-02,\n",
      "        7.30897933e-02,  2.87947059e-01,  7.67899007e-02,  2.39673653e-03,\n",
      "       -3.94770056e-02, -2.07430676e-01,  1.75411597e-01, -3.25443059e-01,\n",
      "       -1.41171232e-01,  3.07269245e-01, -9.60872322e-03,  1.30531579e-01,\n",
      "       -1.06397107e-01, -1.69634327e-01,  1.32979387e-02, -1.67676792e-01,\n",
      "       -1.59324408e-01, -8.54000971e-02])), ('neutral', array([ 2.09523810e+00,  0.00000000e+00,  9.56000000e+02,  3.32000000e+02,\n",
      "        2.10000000e+01,  1.00000000e+00,  1.00000000e+00,  0.00000000e+00,\n",
      "        0.00000000e+00,  1.70000000e+01,  1.00000000e+00,  1.00000000e+00,\n",
      "        0.00000000e+00,  0.00000000e+00,  0.00000000e+00,  0.00000000e+00,\n",
      "        0.00000000e+00,  0.00000000e+00, -1.12442777e-01,  9.49631557e-02,\n",
      "        1.26016498e-01, -1.31138638e-02, -9.68794823e-02, -9.91085470e-02,\n",
      "        1.76865533e-02, -7.52296075e-02,  8.18162858e-02, -1.19389772e-01,\n",
      "        2.78563402e-03,  1.69545598e-02, -4.65674438e-02, -7.11881369e-03,\n",
      "       -1.69660881e-01,  7.14388639e-02,  8.80981088e-02, -1.53926378e-02,\n",
      "        8.11447278e-02,  6.02918826e-02, -8.28719810e-02,  6.51940878e-04,\n",
      "       -1.81663595e-02,  1.84501231e-01,  1.36726201e-01,  7.24083632e-02,\n",
      "       -1.25603184e-01, -4.96581309e-02,  9.47521627e-02, -1.11329436e-01,\n",
      "       -6.31908700e-02, -1.18833251e-01, -2.03718171e-01, -7.77122155e-02,\n",
      "       -8.09988379e-02,  7.41149634e-02, -1.62148148e-01,  1.80003330e-01,\n",
      "        6.59274533e-02, -1.53223112e-01, -7.59196281e-02,  2.84986775e-02,\n",
      "       -1.19557463e-01, -1.34430677e-01,  2.25166027e-02,  1.48412138e-01,\n",
      "       -2.12968990e-01,  1.34725094e-01, -1.29254609e-01, -1.36047944e-01,\n",
      "       -5.85383736e-02, -2.23620862e-01, -1.23442793e-02,  3.38484310e-02,\n",
      "       -3.17573607e-01,  1.29922345e-01,  1.53012112e-01,  2.71219492e-01,\n",
      "       -3.16622734e-01, -1.47835150e-01,  7.43262097e-02, -2.64008313e-01,\n",
      "        3.35098118e-01,  1.44138590e-01, -6.98945224e-02, -9.04016495e-02,\n",
      "        6.55392796e-06,  6.62014186e-02, -1.86497252e-02, -7.97381476e-02,\n",
      "       -1.04750142e-01,  1.48714945e-01,  6.85341209e-02,  5.54601923e-02,\n",
      "       -2.18950491e-02, -9.63753834e-02,  7.46356919e-02, -6.66451678e-02,\n",
      "       -3.16735357e-02, -8.31728801e-02,  3.09108477e-02, -1.43742725e-01,\n",
      "       -2.66500264e-02, -1.13761369e-02,  1.97013412e-02, -1.12603910e-01,\n",
      "       -3.13918851e-02,  6.45903423e-02, -1.62191540e-01, -1.99677739e-02,\n",
      "       -1.57303780e-01,  5.48544601e-02,  9.13473517e-02,  2.43997350e-02,\n",
      "       -1.07646985e-02, -2.99820844e-02, -1.36480570e-01,  8.33706856e-02,\n",
      "       -7.08103999e-02,  4.38961433e-04,  2.71400940e-02,  2.48171436e-03,\n",
      "       -1.35946199e-01, -2.05155298e-01, -1.01048835e-01,  6.20428054e-03,\n",
      "        2.46502720e-02,  2.87015196e-02,  5.06777838e-02, -5.29256053e-02,\n",
      "       -1.37216374e-01, -6.15876280e-02, -1.63136050e-01,  9.28784534e-02,\n",
      "       -6.82283714e-02, -1.56279672e-02, -8.08896348e-02,  1.06426045e-01,\n",
      "        3.50443646e-02, -1.76915824e-01,  4.20887163e-03,  1.12338215e-01,\n",
      "       -4.69339155e-02,  1.13166638e-01,  8.17334801e-02, -2.10720405e-01,\n",
      "       -8.27612504e-02,  1.36974782e-01])), ('neutral', array([ 2.16666667e+00,  0.00000000e+00,  1.14000000e+02,  8.20000000e+01,\n",
      "        1.80000000e+01,  3.00000000e+00,  3.00000000e+00,  0.00000000e+00,\n",
      "        0.00000000e+00,  0.00000000e+00,  0.00000000e+00,  0.00000000e+00,\n",
      "        0.00000000e+00,  0.00000000e+00,  0.00000000e+00,  0.00000000e+00,\n",
      "        0.00000000e+00,  0.00000000e+00,  5.39505929e-02,  2.58521169e-01,\n",
      "       -3.92426550e-02,  1.18575282e-01, -8.07091743e-02, -2.02568159e-01,\n",
      "        2.26805195e-01, -6.26069158e-02,  8.47294331e-02,  6.02504015e-02,\n",
      "        7.51920566e-02,  7.44352490e-02,  1.99183859e-02, -2.20876038e-01,\n",
      "       -9.60791558e-02,  4.10044892e-03,  8.57082531e-02,  9.56056193e-02,\n",
      "       -1.31131425e-01,  5.54204509e-02, -1.87717691e-01, -1.83451339e-03,\n",
      "        2.24999376e-02,  4.65346314e-02,  7.70538449e-02, -4.40323688e-02,\n",
      "        4.30880161e-03, -2.18850886e-03,  5.81437908e-02,  3.73585746e-02,\n",
      "        5.46613708e-02, -7.96530545e-02,  2.67168246e-02,  2.56506763e-02,\n",
      "        4.05928753e-02,  1.19536273e-01, -6.97596837e-03,  5.07863685e-02,\n",
      "       -5.78709133e-02, -2.30896156e-02, -3.74722220e-02,  2.76895165e-02,\n",
      "       -4.94664647e-02,  5.55184111e-02, -3.52492221e-02,  1.41548574e-01,\n",
      "        5.54988720e-02,  1.16561353e-01, -5.26055358e-02, -8.39077681e-02,\n",
      "       -3.63836959e-02,  1.04546569e-01,  7.40010738e-02, -8.38811472e-02,\n",
      "       -1.46737725e-01,  6.20410917e-03,  5.17240390e-02,  3.86758298e-02,\n",
      "        4.62149605e-02, -1.39243200e-01,  2.78215837e-02, -8.34593028e-02,\n",
      "       -5.25502898e-02, -5.94008006e-02, -1.06488213e-01, -8.81480873e-02,\n",
      "       -1.34734988e-01, -1.27334043e-01, -1.60424367e-01, -1.16963707e-01,\n",
      "        1.48924515e-01,  4.48517911e-02, -4.93012853e-02, -9.42936987e-02,\n",
      "       -2.44666673e-02, -1.20234556e-01, -1.32567168e-03, -9.10584480e-02,\n",
      "        4.46914099e-02, -1.37477994e-01, -6.32384345e-02,  1.48258090e-01,\n",
      "       -1.52227610e-01, -1.16671123e-01, -1.46680132e-01,  3.37575972e-02,\n",
      "       -8.12395290e-02,  9.41471010e-02, -4.28583063e-02,  1.49590939e-01,\n",
      "        4.26845029e-02, -5.56128137e-02, -9.56045687e-02,  1.92895487e-01,\n",
      "        2.47532558e-02,  7.91583881e-02, -6.61630854e-02, -5.92051968e-02,\n",
      "       -1.21801272e-01, -5.20018823e-02,  2.48712376e-02, -9.16822106e-02,\n",
      "       -2.67689992e-02,  5.10847047e-02, -6.29418343e-02, -2.38960404e-02,\n",
      "       -1.01382732e-01, -1.37768984e-01, -1.17356017e-01, -8.77482593e-02,\n",
      "       -5.53317182e-02, -8.81843793e-04, -5.36611900e-02, -8.11228603e-02,\n",
      "       -1.31475165e-01, -1.67048067e-01,  4.74123359e-02, -1.18844941e-01,\n",
      "        7.22118095e-02,  2.23960634e-02,  3.88274007e-02,  5.86864091e-02,\n",
      "       -8.42635334e-02,  4.48351018e-02,  3.66286165e-03,  1.75769124e-02,\n",
      "       -1.84772909e-02,  5.08377478e-02])), ('neutral', array([ 2.46153846e+00,  0.00000000e+00,  1.94000000e+03,  5.62000000e+02,\n",
      "        3.90000000e+01,  6.00000000e+00,  6.00000000e+00,  0.00000000e+00,\n",
      "        0.00000000e+00,  3.80000000e+01,  4.00000000e+00,  4.00000000e+00,\n",
      "        0.00000000e+00,  0.00000000e+00,  0.00000000e+00,  1.00000000e+00,\n",
      "        0.00000000e+00,  0.00000000e+00,  5.23851030e-02, -2.67300326e-02,\n",
      "        9.35475007e-02,  1.96123913e-01, -1.56528398e-01,  1.08834244e-01,\n",
      "        1.90213859e-01, -2.21158415e-02,  1.87363625e-02,  4.96439748e-02,\n",
      "       -1.35631159e-01, -9.76003706e-02, -2.81692483e-02, -1.22702070e-01,\n",
      "       -2.76007166e-04,  1.16186514e-01,  2.64405031e-02, -1.22653313e-01,\n",
      "       -9.05440748e-02, -3.75522785e-02, -3.08549464e-01,  6.29587322e-02,\n",
      "        3.50736007e-02,  1.63091540e-01, -1.87138379e-01,  9.32142287e-02,\n",
      "       -1.75677419e-01, -3.76053080e-02,  8.83090794e-02,  3.35793942e-01,\n",
      "        4.80578914e-02, -9.56778899e-02,  2.20993534e-01,  7.84912053e-03,\n",
      "        3.35727297e-02, -5.23397652e-03,  8.51469412e-02,  6.84147933e-03,\n",
      "       -9.90803167e-02, -2.95637809e-02,  7.91718215e-02, -2.97139469e-03,\n",
      "       -6.84173182e-02, -7.31004551e-02, -5.01894904e-03,  6.76048771e-02,\n",
      "        2.77834814e-02,  2.91513085e-01, -1.88958183e-01,  3.62511575e-02,\n",
      "       -7.99678564e-02, -2.55346065e-04,  4.69745919e-02,  1.10926621e-01,\n",
      "       -2.17091009e-01,  1.48150265e-01,  7.91334882e-02,  3.97980273e-01,\n",
      "       -1.07431181e-01, -1.55233681e-01, -3.31311254e-03,  4.28760983e-02,\n",
      "        8.04417953e-02, -4.25471403e-02, -3.89412344e-02,  1.84204116e-01,\n",
      "       -2.26785064e-01, -2.29422569e-01, -1.96461976e-01, -1.03889123e-01,\n",
      "        9.15324613e-02,  3.03087443e-01, -1.31311370e-02,  1.44631073e-01,\n",
      "       -1.12336800e-01, -6.31466955e-02,  7.73938820e-02, -6.43829033e-02,\n",
      "        1.54505491e-01, -1.26761213e-01, -4.00025547e-02, -1.46540329e-01,\n",
      "        2.96548694e-01, -2.41062343e-01,  2.89718881e-02,  2.03205585e-01,\n",
      "       -4.95008975e-02, -1.04943924e-01, -1.14391476e-01, -1.21749453e-02,\n",
      "        1.49745777e-01,  1.05335094e-01, -6.37274981e-02,  3.13867509e-01,\n",
      "       -1.33742377e-01, -5.60760908e-02, -1.04986586e-01, -4.41881828e-02,\n",
      "       -9.35779288e-02,  9.38571319e-02, -1.83185399e-01, -2.05022812e-01,\n",
      "        2.03824133e-01, -1.95969686e-01,  3.14060040e-02,  1.87650278e-01,\n",
      "        1.09113857e-01, -1.03825018e-01, -1.46517932e-01, -1.79306045e-01,\n",
      "       -1.39293283e-01,  1.91964000e-01,  1.99681544e-03, -5.10226004e-02,\n",
      "       -1.21841172e-03, -1.89018548e-01, -1.43844232e-01, -1.09010369e-01,\n",
      "        1.82116017e-01, -1.63752437e-02, -2.69543119e-02,  5.97645417e-02,\n",
      "        3.18533666e-02,  3.55935216e-01,  3.76746878e-02,  8.75847638e-02,\n",
      "       -2.09592342e-01,  2.31569469e-01])), ('neutral', array([ 2.33333333e+00,  0.00000000e+00,  5.43000000e+02,  2.22000000e+02,\n",
      "        1.80000000e+01,  1.00000000e+00,  1.00000000e+00,  0.00000000e+00,\n",
      "        0.00000000e+00,  2.00000000e+01,  5.00000000e+00,  5.00000000e+00,\n",
      "        0.00000000e+00,  0.00000000e+00,  0.00000000e+00,  1.00000000e+00,\n",
      "        0.00000000e+00,  0.00000000e+00, -7.67674446e-02, -2.41326690e-02,\n",
      "        1.27095617e-02,  2.07467541e-01,  1.35259340e-02, -3.45899537e-02,\n",
      "        9.44729298e-02, -2.00744390e-01, -1.47460431e-01, -3.01845986e-02,\n",
      "        4.90849353e-02, -6.55142441e-02,  8.02535042e-02, -1.64985925e-01,\n",
      "        7.90645704e-02,  2.20635369e-01, -3.28076929e-02, -2.58122869e-02,\n",
      "       -6.07036576e-02,  1.57198563e-01, -4.45059268e-03,  1.64179802e-01,\n",
      "       -1.05125152e-01,  9.25929472e-02, -1.61784634e-01, -8.61283019e-02,\n",
      "        1.57913733e-02, -2.17310518e-01,  4.52443063e-02,  1.02832735e-01,\n",
      "       -9.84105617e-02, -1.65895820e-01,  1.10357583e-01, -3.93350050e-02,\n",
      "        2.32764289e-01,  9.30827260e-02, -1.89002872e-01,  1.74076304e-01,\n",
      "       -9.87676010e-02, -2.14151647e-02,  2.31561754e-02,  7.66475871e-02,\n",
      "       -1.06426358e-01,  7.80172041e-03,  4.05711681e-02, -1.84230283e-02,\n",
      "        9.79778543e-03,  1.41978309e-01, -6.06040768e-02, -1.14419252e-01,\n",
      "       -6.48676157e-02,  1.13068737e-01, -1.28217980e-01, -6.06548600e-02,\n",
      "        8.82366020e-03, -2.89740209e-02,  1.32454783e-01, -6.47041015e-03,\n",
      "       -4.81817164e-02, -7.92875886e-04, -6.21107556e-02, -1.94995403e-01,\n",
      "       -7.71694779e-02,  2.44843075e-03, -1.70544952e-01,  1.48838591e-02,\n",
      "       -1.29405424e-01, -1.68652460e-02, -2.25269258e-01, -1.72299847e-01,\n",
      "        1.78121567e-01,  1.62672728e-01,  1.84820846e-01,  9.69977155e-02,\n",
      "        7.78084621e-02, -1.49026066e-01, -7.30081722e-02, -1.28923610e-01,\n",
      "       -4.64387126e-02, -1.00640319e-01, -4.13975492e-03, -1.32804578e-02,\n",
      "       -6.93038106e-02, -1.29748195e-01, -1.98419258e-01,  8.30083713e-02,\n",
      "       -1.12525694e-01,  1.55231744e-01, -1.15286455e-01,  2.05101743e-02,\n",
      "       -4.41038162e-02, -1.28729001e-01,  1.86977759e-02,  2.32604668e-01,\n",
      "        3.71932797e-02,  8.57994109e-02, -2.12426316e-02, -1.47509649e-01,\n",
      "       -1.22455440e-01, -4.70348261e-02,  1.36788607e-01, -1.15316338e-03,\n",
      "       -1.24626802e-02, -1.21682934e-01,  4.10163105e-02,  2.19476879e-01,\n",
      "       -1.06455293e-02,  2.73856353e-02, -3.64200063e-02,  9.26249251e-02,\n",
      "        8.24178681e-02,  1.88162774e-02,  1.72647517e-02, -9.35168564e-03,\n",
      "       -4.92303371e-02,  1.17829144e-01, -1.69880074e-02, -6.98257610e-02,\n",
      "       -6.21862821e-02,  9.31557938e-02, -4.06171121e-02, -4.44832966e-02,\n",
      "       -1.04800217e-01, -7.36293271e-02,  1.74431473e-01, -1.90301088e-03,\n",
      "        8.36138204e-02, -4.91769612e-02])), ('neutral', array([ 2.15384615e+00,  5.76923077e-02,  1.51000000e+02,  1.17000000e+02,\n",
      "        1.50000000e+01,  1.00000000e+00,  1.00000000e+00,  0.00000000e+00,\n",
      "        1.00000000e+00,  0.00000000e+00,  0.00000000e+00,  0.00000000e+00,\n",
      "        0.00000000e+00,  0.00000000e+00,  0.00000000e+00,  0.00000000e+00,\n",
      "        0.00000000e+00,  0.00000000e+00, -6.10534735e-02,  4.06514630e-02,\n",
      "        1.62008647e-02,  4.69872802e-02, -7.39934817e-02, -4.68245931e-02,\n",
      "        4.49076556e-02,  5.62659726e-02,  6.20606802e-02,  5.15669733e-02,\n",
      "       -2.89780181e-02, -9.85947326e-02,  3.74947824e-02, -1.15400314e-01,\n",
      "        6.58046603e-02,  1.44045213e-02, -3.63193490e-02,  4.77025993e-02,\n",
      "       -2.61366591e-02,  7.62251392e-02, -8.36630091e-02, -2.33710613e-02,\n",
      "        1.06801011e-01,  4.99858633e-02, -4.45626490e-02, -4.88879159e-03,\n",
      "        3.42828082e-03,  2.11847834e-02, -6.70223981e-02,  2.20020786e-02,\n",
      "        3.33176889e-02, -5.39740734e-02, -5.23925535e-02,  6.57882774e-04,\n",
      "        8.87743011e-02,  1.06475376e-01, -9.29382890e-02,  1.24629408e-01,\n",
      "        8.00458365e-04, -1.10646980e-02, -2.22861934e-02,  1.62079662e-01,\n",
      "       -1.04447231e-01,  8.02225545e-02, -6.21673204e-02,  3.07343807e-02,\n",
      "        3.24784243e-03,  1.52724952e-01,  4.28911336e-02,  1.20614516e-03,\n",
      "       -5.07390797e-02,  1.06510427e-02,  4.26479876e-02, -8.39005038e-02,\n",
      "       -1.54514447e-01,  1.60838038e-01,  2.47675236e-02,  5.01056686e-02,\n",
      "        1.01590201e-01, -9.65915248e-02, -3.75833325e-02, -4.86991629e-02,\n",
      "        1.20441522e-02,  1.22793224e-02,  5.65026663e-02, -4.81428280e-02,\n",
      "        1.83793879e-03, -1.09881029e-01, -9.17390287e-02, -3.96487117e-02,\n",
      "        1.32661596e-01,  2.79315293e-01,  7.22118393e-02,  2.23672930e-02,\n",
      "       -1.52510256e-01, -1.88815743e-01, -7.11594224e-02, -4.14353348e-02,\n",
      "        1.48695186e-02, -5.88202588e-02, -2.14685604e-01, -2.55077966e-02,\n",
      "       -2.62871850e-02,  2.43418943e-03, -4.51552756e-02,  1.57991260e-01,\n",
      "       -2.58405171e-02,  1.02051742e-01, -9.77234691e-02,  1.29578024e-01,\n",
      "       -6.74570026e-03,  3.60233672e-02, -8.98311287e-02, -8.85509793e-03,\n",
      "        9.29756984e-02,  1.08196206e-01, -3.98245640e-02, -2.87162345e-02,\n",
      "       -9.29861888e-02,  7.13413907e-03, -1.67852528e-02, -1.37213394e-01,\n",
      "        1.14347056e-01, -4.13185209e-02, -2.13540811e-02, -7.08110109e-02,\n",
      "       -5.10735661e-02, -4.26840596e-02, -9.75813419e-02, -1.68329895e-01,\n",
      "        6.60802945e-02,  1.11142090e-02,  7.95155242e-02, -4.82884720e-02,\n",
      "       -9.61249843e-02,  1.29283480e-02, -5.71724847e-02, -9.44076851e-02,\n",
      "        5.44073805e-03,  6.86522424e-02, -5.29456660e-02, -4.52120714e-02,\n",
      "       -9.06533450e-02, -5.64666763e-02,  1.00241996e-01, -3.28434631e-02,\n",
      "       -4.63094115e-02, -4.59087603e-02])), ('neutral', array([ 2.00000000e+00,  0.00000000e+00,  2.76000000e+02,  1.63000000e+02,\n",
      "        1.50000000e+01,  0.00000000e+00,  1.00000000e+00,  0.00000000e+00,\n",
      "        0.00000000e+00,  0.00000000e+00,  0.00000000e+00,  0.00000000e+00,\n",
      "        0.00000000e+00,  0.00000000e+00,  0.00000000e+00,  0.00000000e+00,\n",
      "        0.00000000e+00,  0.00000000e+00, -2.58876998e-02, -1.17152445e-01,\n",
      "        5.79232685e-02, -3.16787176e-02, -9.13685560e-02, -2.24349871e-02,\n",
      "       -1.65717974e-01,  3.98721360e-02, -5.72681613e-03, -1.04149980e-02,\n",
      "        1.51956260e-01,  5.82683180e-03, -1.82164609e-02, -7.24698827e-02,\n",
      "       -1.52147904e-01,  5.02601452e-02, -1.71276014e-02, -7.18279034e-02,\n",
      "        2.80798841e-02, -3.73189747e-02, -1.07356638e-01, -8.29469264e-02,\n",
      "       -3.35418507e-02,  1.99299883e-02,  2.61821877e-02, -1.56986475e-01,\n",
      "        2.63397619e-02, -7.61363059e-02, -5.62329665e-02,  4.89573851e-02,\n",
      "        9.96422321e-02, -9.38797668e-02,  1.59358054e-01, -7.18094110e-02,\n",
      "        5.35767972e-02, -4.25995216e-02,  5.85445911e-02, -8.95806104e-02,\n",
      "        1.88488159e-02, -3.95672657e-02,  2.98865408e-01,  2.32320532e-01,\n",
      "       -2.07991898e-02,  6.04704060e-02, -1.48133904e-01,  2.16868341e-01,\n",
      "        2.63898838e-02,  1.98825866e-01,  1.08589754e-01, -6.53533787e-02,\n",
      "       -2.55173966e-02, -4.26785871e-02,  4.21440937e-02,  9.67045724e-02,\n",
      "       -1.69654384e-01,  1.25723273e-01,  7.75509626e-02,  5.12967706e-02,\n",
      "        4.63668704e-02, -1.42111674e-01,  3.24427895e-02,  2.23858505e-02,\n",
      "       -8.70166495e-02,  4.85064462e-02, -6.30231127e-02,  6.93701953e-02,\n",
      "       -5.64360172e-02, -6.34450465e-02, -6.82476088e-02,  6.75394684e-02,\n",
      "        8.81192982e-02,  6.12950288e-02,  4.04355153e-02,  5.76148368e-02,\n",
      "        4.57515046e-02, -4.25252765e-02,  5.23819290e-02, -1.86845269e-02,\n",
      "       -1.12946872e-02, -2.08434835e-01, -7.01727346e-02, -3.57557349e-02,\n",
      "        6.15833886e-03,  2.41965130e-02, -6.49719015e-02,  2.97567472e-02,\n",
      "        2.70553045e-02, -4.61515374e-02, -7.72900805e-02,  5.26135899e-02,\n",
      "       -9.68747437e-02,  7.69168953e-04,  8.58542472e-02,  9.02423635e-02,\n",
      "       -1.16936959e-01,  1.17195897e-01, -1.27497002e-01, -6.11594170e-02,\n",
      "       -7.63198063e-02, -3.85064706e-02,  4.41652015e-02,  2.35513691e-03,\n",
      "        3.14423442e-02, -1.94656819e-01, -1.03038460e-01, -6.75223172e-02,\n",
      "        8.91484991e-02,  7.78204873e-02,  1.88388005e-02,  6.90326765e-02,\n",
      "        8.06699619e-02, -6.38153544e-03, -7.52209872e-02, -6.49654195e-02,\n",
      "       -2.16479115e-02, -1.12483092e-02,  1.99291289e-01,  4.42725718e-02,\n",
      "        7.52802193e-02, -1.04811741e-02, -1.64227515e-01, -5.56890070e-02,\n",
      "       -5.73437773e-02,  1.63230062e-01, -9.40629616e-02,  1.13304853e-01,\n",
      "       -2.39168126e-02,  9.76545289e-02])), ('neutral', array([ 1.90476190e+00,  0.00000000e+00,  9.69000000e+02,  3.42000000e+02,\n",
      "        1.90000000e+01,  0.00000000e+00,  0.00000000e+00,  0.00000000e+00,\n",
      "        0.00000000e+00,  0.00000000e+00,  0.00000000e+00,  0.00000000e+00,\n",
      "        0.00000000e+00,  0.00000000e+00,  0.00000000e+00,  0.00000000e+00,\n",
      "        0.00000000e+00,  0.00000000e+00,  4.72349040e-02, -8.18032213e-03,\n",
      "        1.02051787e-01, -2.64032986e-02, -8.21415782e-02, -4.10227850e-02,\n",
      "        2.72822618e-01, -7.32059404e-02,  5.03100902e-02,  9.04102698e-02,\n",
      "       -1.76129788e-01, -3.40708308e-02,  1.09294988e-01,  6.29716739e-02,\n",
      "       -1.17138170e-01,  1.28084913e-01,  4.25273329e-02, -2.12493703e-01,\n",
      "       -1.05602250e-01, -9.84870344e-02, -2.25815803e-01,  2.40803897e-01,\n",
      "        1.07507678e-02,  8.39138478e-02, -7.57356873e-03,  6.22306131e-02,\n",
      "        7.64484406e-02, -6.37404844e-02,  5.27663901e-02,  1.41991219e-02,\n",
      "        2.55554486e-02,  1.78027190e-02,  8.46840367e-02, -2.25061215e-02,\n",
      "        1.24248452e-01, -6.79352805e-02, -8.67589489e-02,  1.01009756e-01,\n",
      "       -1.34590879e-01,  1.82257831e-01, -2.94664931e-02,  1.66291073e-01,\n",
      "        4.97160368e-02,  1.23265125e-01, -1.72879487e-01, -4.28083651e-02,\n",
      "        3.75783652e-01,  1.57182440e-01, -1.31583661e-01, -1.80786148e-01,\n",
      "       -2.82926083e-01,  2.98617214e-01, -1.82753503e-01, -2.20802203e-01,\n",
      "       -2.53131539e-01,  4.32762980e-01, -4.09539789e-02,  2.80802380e-02,\n",
      "       -7.05486014e-02, -3.03677648e-01, -1.97392404e-01, -7.23374933e-02,\n",
      "       -2.10726202e-01, -1.01932369e-01,  2.86324434e-02,  1.16776913e-01,\n",
      "        2.14154497e-01,  1.81204323e-02,  8.63656849e-02,  2.28653401e-01,\n",
      "        3.44611853e-02,  6.64720312e-02, -1.43368840e-01, -1.63717464e-01,\n",
      "       -1.19217530e-01, -5.04132919e-02,  2.83507705e-01, -5.45416784e-04,\n",
      "        1.21151693e-01, -1.07427634e-01, -1.74152076e-01, -1.01864874e-01,\n",
      "        7.30650946e-02,  1.27898231e-01, -1.92816585e-01, -9.09798667e-02,\n",
      "       -1.68500230e-01, -2.98090242e-02, -1.89586163e-01,  1.01939864e-01,\n",
      "       -8.16569030e-02,  4.95875925e-02, -2.30195701e-01, -1.55298337e-02,\n",
      "        1.67585149e-01,  1.04864702e-01,  1.33980364e-01,  1.02326214e-01,\n",
      "        5.37801608e-02, -1.21201292e-01, -5.75195029e-02,  5.95904998e-02,\n",
      "        1.11424759e-01, -9.71869379e-02, -1.73667580e-01, -1.66340005e-02,\n",
      "        7.27946032e-03, -2.31084794e-01, -1.53139355e-02, -4.53756899e-02,\n",
      "       -8.39351565e-02,  1.32053718e-01, -1.08357102e-01, -1.49630204e-01,\n",
      "       -8.47442672e-02, -1.31371275e-01,  1.97685175e-02,  5.01707420e-02,\n",
      "       -1.55983463e-01, -3.83387916e-02, -1.28985777e-01, -2.72168498e-02,\n",
      "       -3.67392530e-03,  8.04242771e-03, -2.38124982e-01, -5.72053976e-02,\n",
      "        8.72064196e-03, -1.52704000e-01])), ('neutral', array([ 2.47058824e+00,  8.26330532e-02,  4.15000000e+02,  2.25000000e+02,\n",
      "        1.70000000e+01,  3.00000000e+00,  3.00000000e+00,  2.00000000e+00,\n",
      "        0.00000000e+00,  7.00000000e+00,  4.00000000e+00,  4.00000000e+00,\n",
      "        0.00000000e+00,  0.00000000e+00,  0.00000000e+00,  0.00000000e+00,\n",
      "        0.00000000e+00,  0.00000000e+00,  7.24100694e-02,  7.81403407e-02,\n",
      "        2.16454744e-01, -3.32254842e-02, -4.05678339e-02, -1.21582329e-01,\n",
      "       -1.18732244e-01,  5.42269349e-02,  2.52868552e-02,  1.72181383e-01,\n",
      "        7.15211732e-03,  2.81085856e-02, -2.36121304e-02, -3.29567902e-02,\n",
      "       -1.33039176e-01, -1.17144324e-02,  5.22989556e-02,  3.86052169e-02,\n",
      "       -1.96828425e-01,  9.23743472e-02, -6.76201358e-02, -9.30733308e-02,\n",
      "        2.32550893e-02,  8.36318135e-02,  3.33797112e-02,  1.23912364e-01,\n",
      "       -8.72099251e-02, -1.17070049e-01, -1.18758895e-01, -6.88255951e-02,\n",
      "        3.24355178e-02, -2.03073338e-01,  2.20327508e-02,  4.32787202e-02,\n",
      "       -1.51120070e-02, -1.46156445e-01,  4.66786660e-02,  9.61502343e-02,\n",
      "       -9.32420269e-02, -6.71422528e-03,  1.37035757e-01,  2.04377785e-01,\n",
      "       -1.19862380e-02, -1.21836133e-01,  8.25595707e-02,  2.60136835e-02,\n",
      "       -2.04904340e-02, -1.58851743e-01, -6.14618249e-02, -3.20872664e-02,\n",
      "       -9.63139981e-02,  3.36562805e-02,  2.52979010e-01,  4.26630788e-02,\n",
      "        6.05662167e-02,  1.39795646e-01,  4.02192436e-02,  9.69343260e-02,\n",
      "       -3.84055171e-03,  9.32752416e-02, -1.18553219e-02,  4.83153239e-02,\n",
      "       -3.83134708e-02, -7.53379390e-02, -1.75939530e-01, -1.26544759e-01,\n",
      "        8.74586683e-03,  2.83300541e-02, -1.95231065e-01, -1.68063790e-01,\n",
      "        1.18194513e-01,  4.79715839e-02, -6.44604862e-02, -2.61331908e-02,\n",
      "       -7.82121196e-02,  6.03490360e-02,  2.38331873e-02,  1.27174193e-02,\n",
      "        7.42457807e-02, -7.64790864e-04, -3.43267396e-02, -7.75827542e-02,\n",
      "        9.78078097e-02, -3.68970521e-02, -1.84353992e-01,  2.17766389e-02,\n",
      "       -1.09952323e-01,  2.19044276e-02, -1.29315242e-01,  6.71403036e-02,\n",
      "        9.63042304e-03, -2.54205585e-01, -1.45817250e-01,  8.70358571e-02,\n",
      "        1.78300455e-01, -6.43122047e-02, -1.14616200e-01, -2.55907197e-02,\n",
      "       -6.69814646e-02, -5.95169775e-02,  1.17442295e-01, -2.55159158e-02,\n",
      "        5.17972447e-02, -8.52122251e-03, -2.49038246e-02,  6.10538619e-03,\n",
      "        9.70493034e-02, -1.62928641e-01, -2.47093197e-03, -1.85526654e-01,\n",
      "       -9.41398144e-02,  1.27008066e-01,  1.44679502e-01,  1.06936857e-01,\n",
      "       -1.33559436e-01, -5.71135841e-02, -1.01017646e-01, -7.96562713e-03,\n",
      "       -1.30745722e-02, -3.00287753e-02,  1.19594418e-01,  4.21633944e-02,\n",
      "       -1.06516011e-01, -1.88272987e-02, -1.48415014e-01,  1.55959872e-03,\n",
      "       -7.15500340e-02,  3.31998095e-02])), ('neutral', array([ 2.36363636e+00,  0.00000000e+00,  1.08500000e+03,  3.92000000e+02,\n",
      "        3.30000000e+01,  5.00000000e+00,  5.00000000e+00,  0.00000000e+00,\n",
      "        0.00000000e+00,  1.80000000e+01,  1.00000000e+00,  1.00000000e+00,\n",
      "        0.00000000e+00,  0.00000000e+00,  0.00000000e+00,  0.00000000e+00,\n",
      "        0.00000000e+00,  0.00000000e+00, -2.06226990e-01,  1.99137684e-02,\n",
      "        1.53588757e-01, -2.38042474e-01, -2.71144181e-01,  2.11914498e-02,\n",
      "        1.01791114e-01, -1.37409940e-01,  4.32270542e-02,  1.54837901e-02,\n",
      "        2.74175461e-02,  6.11826479e-02,  6.11393265e-02, -8.22103489e-03,\n",
      "        6.82837218e-02, -1.80406168e-01,  1.37027800e-01, -5.30018285e-02,\n",
      "       -1.35794044e-01,  2.60268775e-04, -1.57351822e-01,  5.81733957e-02,\n",
      "        2.88278997e-01,  6.09021299e-02,  6.83590993e-02,  7.52230436e-02,\n",
      "       -1.42377287e-01, -3.49440910e-02, -2.84803182e-01,  7.57766813e-02,\n",
      "        2.55855918e-01, -2.59281874e-01,  1.54877812e-01, -1.06109388e-01,\n",
      "       -5.36674894e-02,  2.11202934e-01, -1.04310557e-01,  1.30992010e-01,\n",
      "       -1.17137201e-01,  2.28556357e-02, -8.58522654e-02,  2.13072211e-01,\n",
      "       -8.91766027e-02, -6.67998344e-02,  1.79310364e-03,  8.77340510e-02,\n",
      "        1.48135036e-01,  1.83705688e-01,  4.29797620e-02, -1.77033484e-01,\n",
      "       -1.45804808e-01,  5.46155944e-02,  1.81974590e-01, -2.54934430e-02,\n",
      "       -7.58520663e-02,  1.88236997e-01,  3.05981219e-01,  1.15646116e-01,\n",
      "       -5.00944220e-02, -5.11992089e-02,  5.84978284e-03, -6.59652501e-02,\n",
      "       -1.65535778e-01, -1.64735287e-01, -1.66590527e-01, -1.33025587e-01,\n",
      "        4.18525562e-02, -2.38324534e-02,  8.66796002e-02, -1.12929724e-01,\n",
      "        2.90876389e-01,  2.06599653e-01, -2.87885610e-02,  4.12147418e-02,\n",
      "       -6.31854981e-02, -1.76378176e-01, -1.84486553e-01,  6.15856573e-02,\n",
      "       -2.45483637e-01, -3.40744317e-01, -2.54213586e-02, -1.76449314e-01,\n",
      "       -1.85580924e-01, -9.89390686e-02, -6.38280362e-02,  1.97338220e-02,\n",
      "        3.65944766e-02,  2.86591709e-01, -1.33477703e-01,  2.46071383e-01,\n",
      "       -8.83766711e-02,  1.68900564e-01,  8.05503950e-02, -1.11485496e-01,\n",
      "       -8.26134929e-04,  6.92436621e-02, -5.15606962e-02, -1.37428865e-01,\n",
      "       -2.39081815e-01, -1.28076047e-01, -5.08890953e-03, -1.34826854e-01,\n",
      "       -5.04924096e-02, -8.14472586e-02, -4.39784117e-03, -1.14617072e-01,\n",
      "        1.36047557e-01, -1.29690066e-01, -8.63520429e-02,  9.03067272e-03,\n",
      "       -1.38614383e-02, -4.48721610e-02, -4.42359820e-02, -8.20534155e-02,\n",
      "       -1.37878567e-01,  2.19330974e-02,  1.56139657e-01, -8.46006051e-02,\n",
      "        8.72948766e-02,  5.65220155e-02, -2.78491201e-03, -7.37070590e-02,\n",
      "       -7.35928714e-02, -1.75967289e-03, -1.87707484e-01,  2.12728009e-02,\n",
      "       -9.15804803e-02,  7.24922642e-02])), ('con', array([ 2.43478261e+00,  9.42028986e-03,  1.23700000e+03,  4.81000000e+02,\n",
      "        4.00000000e+01,  5.00000000e+00,  7.00000000e+00,  0.00000000e+00,\n",
      "        1.00000000e+00,  0.00000000e+00,  0.00000000e+00,  0.00000000e+00,\n",
      "        0.00000000e+00,  0.00000000e+00,  0.00000000e+00,  0.00000000e+00,\n",
      "        0.00000000e+00,  0.00000000e+00,  6.78345338e-02,  1.16255052e-01,\n",
      "        2.25793585e-01,  5.06511591e-02, -2.10082576e-01, -2.02885922e-02,\n",
      "        2.63756543e-01, -8.95626023e-02,  3.59797962e-02,  5.54251336e-02,\n",
      "        6.13907836e-02, -2.15770274e-01, -9.76579916e-03,  1.29414899e-02,\n",
      "        2.17326373e-01, -3.66382115e-02,  7.08609298e-02,  2.71403551e-01,\n",
      "        1.29923806e-01, -6.00802042e-02,  1.62666902e-01,  2.60167904e-02,\n",
      "        5.98743260e-02,  1.70810640e-01, -2.45640308e-01, -2.50064023e-02,\n",
      "       -1.49039209e-01,  1.62208884e-03, -3.38399947e-01,  3.05673480e-01,\n",
      "        4.93900962e-02,  4.95888516e-02,  2.56873906e-01, -3.77969630e-02,\n",
      "        1.00149706e-01, -4.87959273e-02, -1.77262753e-01,  6.45873249e-02,\n",
      "        3.11825305e-01,  2.02660963e-01, -1.64186984e-01,  2.79459618e-02,\n",
      "        1.09308250e-01,  4.46061306e-02, -1.14130326e-01,  1.49491522e-02,\n",
      "        3.34998928e-02,  1.73526630e-01,  3.07516344e-02, -1.09622747e-01,\n",
      "       -1.35252774e-01, -3.41401435e-02,  8.92315209e-02, -9.83077362e-02,\n",
      "        7.37223122e-03,  5.80686927e-02, -1.08951397e-01,  2.39035338e-01,\n",
      "       -1.74181402e-01,  5.70024690e-03, -1.42751843e-01,  8.02211985e-02,\n",
      "       -1.61542609e-01,  1.56685114e-01, -1.80297613e-01, -1.19388975e-01,\n",
      "        1.10889293e-01, -1.86147228e-01, -2.15709388e-01,  5.14500216e-02,\n",
      "        4.20574285e-02,  2.25647643e-01,  7.81082138e-02,  5.83647080e-02,\n",
      "       -5.85555211e-02, -3.61854620e-02, -4.33804132e-02,  8.18260014e-02,\n",
      "        2.98369408e-01, -4.59550433e-02, -8.81024450e-02, -3.37783876e-03,\n",
      "        5.13281934e-02, -1.07250117e-01, -1.44667923e-01, -8.43883753e-02,\n",
      "       -7.54781142e-02,  1.74864605e-01,  5.79105578e-02,  1.51747912e-01,\n",
      "       -4.34141718e-02, -3.09814364e-01, -4.79097851e-02, -5.13970703e-02,\n",
      "        1.97273970e-01,  7.74438009e-02, -6.16165847e-02,  4.43830900e-02,\n",
      "        2.87562627e-02,  1.94893956e-01,  1.80326030e-01, -1.06180869e-01,\n",
      "       -4.99142148e-02, -1.98552594e-01,  6.97465092e-02,  1.41308486e-01,\n",
      "        6.29238710e-02, -1.65269628e-01, -1.45754471e-01, -1.59489110e-01,\n",
      "       -1.78450286e-01,  1.31226480e-01, -4.58116829e-02, -6.84937984e-02,\n",
      "       -7.41016716e-02,  1.05527669e-01, -3.53783369e-02, -1.11214012e-01,\n",
      "       -4.75783199e-02, -1.48190111e-02,  2.61802319e-02, -6.54534437e-03,\n",
      "       -3.36251795e-01,  1.58453416e-02, -3.26950774e-02, -1.71693340e-01,\n",
      "        7.72915110e-02,  1.35091469e-01])), ('con', array([ 2.00000000e+00,  0.00000000e+00,  3.65000000e+02,  1.68000000e+02,\n",
      "        1.30000000e+01,  0.00000000e+00,  0.00000000e+00,  0.00000000e+00,\n",
      "        0.00000000e+00,  1.20000000e+01,  1.00000000e+00,  1.00000000e+00,\n",
      "        0.00000000e+00,  0.00000000e+00,  0.00000000e+00,  0.00000000e+00,\n",
      "        0.00000000e+00,  0.00000000e+00, -1.68214198e-02,  1.20658338e-01,\n",
      "        1.77590996e-01, -1.07165873e-02,  1.02800705e-01, -1.19007617e-01,\n",
      "        8.83223414e-02, -7.17467368e-02,  2.51455843e-01,  6.69354200e-03,\n",
      "       -3.84187177e-02, -2.04294398e-01,  1.28873304e-01, -4.88437479e-03,\n",
      "       -5.62651567e-02, -7.93054551e-02,  4.92416210e-02,  4.59276177e-02,\n",
      "       -1.20381802e-01,  2.77773380e-01, -1.19581327e-01,  7.33885765e-02,\n",
      "        2.47973762e-02, -8.52610022e-02,  7.41457120e-02,  1.31935522e-01,\n",
      "        7.90877566e-02, -2.45688073e-02, -1.33767143e-01, -1.15708545e-01,\n",
      "        2.23333001e-01, -1.11959606e-01,  2.97300443e-02, -4.22386639e-02,\n",
      "        1.31956205e-01,  4.27663997e-02,  5.55394776e-03,  1.65715799e-01,\n",
      "       -4.13043648e-02,  9.85316709e-02,  4.67822626e-02,  4.66812141e-02,\n",
      "       -9.08768699e-02, -8.28932896e-02, -1.35315716e-01, -2.87361275e-02,\n",
      "        5.27404109e-03,  1.24320120e-01,  2.00677682e-02, -1.13695413e-01,\n",
      "       -4.96830791e-02,  7.62634128e-02, -5.19032881e-04,  3.64936516e-02,\n",
      "        8.21213350e-02,  1.15350701e-01, -2.39115162e-03, -1.16911829e-02,\n",
      "       -3.30820419e-02, -8.16050917e-02,  9.33014005e-02, -3.73860337e-02,\n",
      "       -1.28180921e-01, -9.45307985e-02, -9.53953639e-02, -5.91190867e-02,\n",
      "       -4.69432352e-03, -6.42575920e-02, -3.42482775e-02, -8.33279416e-02,\n",
      "        5.09311929e-02,  7.57377073e-02, -1.32215291e-01,  1.67202160e-01,\n",
      "        7.19944388e-02,  5.17131947e-03, -4.04415280e-02, -1.19379491e-01,\n",
      "        7.43885711e-02, -2.26368278e-01, -1.02270298e-01,  8.92370343e-02,\n",
      "        2.23669894e-02, -1.40189156e-01, -1.11274570e-02, -8.34303796e-02,\n",
      "       -5.16538173e-02,  4.79169823e-02, -7.61880679e-03,  7.51970410e-02,\n",
      "        5.53443655e-02, -1.72964126e-01, -3.72186266e-02,  1.45076603e-01,\n",
      "        7.22504407e-02,  8.71542320e-02,  6.19451776e-02, -5.81520237e-03,\n",
      "        3.42405890e-03, -7.59920105e-02, -5.99321388e-02, -1.70662403e-01,\n",
      "        6.91335872e-02, -1.33794658e-02, -8.24794993e-02, -7.79555589e-02,\n",
      "       -4.79855537e-02, -2.68255889e-01, -5.54187372e-02, -9.99129862e-02,\n",
      "       -4.77795862e-02, -1.43901240e-02,  6.78445771e-03,  6.16808496e-02,\n",
      "       -5.63437007e-02,  2.99700107e-02,  8.79546851e-02, -4.39018011e-02,\n",
      "       -1.00616086e-02,  1.68989506e-02, -1.32162711e-02,  5.89669347e-02,\n",
      "       -1.64390966e-01,  2.69754175e-02,  1.01431543e-02, -1.06596574e-01,\n",
      "       -4.03859168e-02,  7.50984251e-02])), ('con', array([ 2.33333333e+00,  0.00000000e+00,  1.47900000e+03,  4.80000000e+02,\n",
      "        3.30000000e+01,  5.00000000e+00,  5.00000000e+00,  0.00000000e+00,\n",
      "        0.00000000e+00,  1.60000000e+01,  3.00000000e+00,  3.00000000e+00,\n",
      "        0.00000000e+00,  0.00000000e+00,  0.00000000e+00,  0.00000000e+00,\n",
      "        0.00000000e+00,  0.00000000e+00, -4.14082669e-02,  3.07747573e-01,\n",
      "        2.68668234e-01,  2.37492248e-01,  1.59252495e-01, -1.24743462e-01,\n",
      "        1.93674058e-01, -5.80209531e-02,  7.99060706e-03, -1.67950019e-01,\n",
      "        2.82018065e-01,  1.72112361e-01,  1.80207461e-01, -2.37589329e-02,\n",
      "       -8.87146816e-02, -3.15878820e-03, -1.50872707e-01, -5.88415749e-02,\n",
      "        3.41177583e-02,  2.09930509e-01, -1.32092685e-01, -7.27600902e-02,\n",
      "       -9.42848474e-02,  3.20767947e-02, -1.06016705e-02, -2.52983034e-01,\n",
      "        1.56807840e-01, -2.66468287e-01, -3.32548544e-02,  1.37624428e-01,\n",
      "        1.02900140e-01,  2.07463987e-02,  8.57903063e-03,  1.04446653e-02,\n",
      "        6.92373812e-02,  4.16690968e-02, -1.03738070e-01, -3.03691849e-02,\n",
      "        6.47676364e-02,  1.67140085e-02,  1.60119921e-01, -8.22334066e-02,\n",
      "        9.09035951e-02,  8.00607800e-02, -2.82628816e-02,  6.44916147e-02,\n",
      "        1.21974193e-01,  1.82863042e-01, -1.59578901e-02, -7.38857314e-02,\n",
      "       -1.02290399e-01,  1.70907885e-01,  1.53919220e-01, -9.28166416e-03,\n",
      "       -1.39884308e-01, -3.55007015e-02,  4.89329323e-02,  6.82120696e-02,\n",
      "       -1.61356360e-01,  4.38028499e-02,  3.74692008e-02, -1.37089357e-01,\n",
      "       -1.20957166e-01, -1.27976080e-02,  9.09322649e-02, -2.54572313e-02,\n",
      "       -1.65373564e-01, -1.95055008e-01,  2.69022305e-02, -8.23957250e-02,\n",
      "        1.52344555e-01,  2.73637205e-01,  6.30589277e-02,  6.04905039e-02,\n",
      "        7.17724562e-02,  4.86382991e-02, -1.19145826e-01, -9.58726183e-02,\n",
      "        1.86660767e-01,  6.24112599e-02, -4.38470580e-02,  5.21525182e-02,\n",
      "        1.28852189e-01,  5.87095395e-02, -4.61708382e-02, -1.43687958e-02,\n",
      "        8.29434320e-02, -1.25635460e-01, -1.81844190e-01,  1.96901821e-02,\n",
      "       -1.91112593e-01, -3.73551100e-02, -9.72561464e-02, -7.63487816e-02,\n",
      "        4.48520966e-02, -8.75372142e-02, -1.20511390e-01,  9.29056481e-02,\n",
      "       -1.11651801e-01,  2.61176843e-02,  1.39138967e-01, -1.26939127e-02,\n",
      "        2.21650749e-02, -4.55633029e-02,  1.32149234e-01, -3.61849368e-02,\n",
      "       -1.28454536e-01, -2.09626690e-01,  1.71898767e-01,  3.31522785e-02,\n",
      "        7.55315647e-02,  1.54038578e-01,  1.94094196e-01, -5.33891208e-02,\n",
      "       -3.35872620e-01, -3.70033383e-02, -7.82819167e-02, -1.44933283e-01,\n",
      "        1.11642368e-01,  9.59481075e-02,  7.99900368e-02, -1.06563553e-01,\n",
      "       -7.59606585e-02,  3.47961634e-02, -1.59019545e-01, -1.38814807e-01,\n",
      "       -1.24107815e-01,  7.11983964e-02])), ('con', array([ 2.06666667e+00,  0.00000000e+00,  3.23400000e+03,  7.84000000e+02,\n",
      "        3.60000000e+01,  3.00000000e+00,  3.00000000e+00,  0.00000000e+00,\n",
      "        0.00000000e+00,  0.00000000e+00,  0.00000000e+00,  0.00000000e+00,\n",
      "        0.00000000e+00,  0.00000000e+00,  0.00000000e+00,  0.00000000e+00,\n",
      "        0.00000000e+00,  0.00000000e+00,  1.32753816e-03,  1.19917244e-01,\n",
      "        1.84790805e-01, -1.48207650e-01,  8.61766860e-02, -3.46449792e-01,\n",
      "       -7.42154270e-02, -1.46966651e-01,  8.90726969e-02, -2.73596551e-02,\n",
      "       -4.89588939e-02,  9.34689771e-03, -5.02015091e-02, -2.23875623e-02,\n",
      "       -1.01231132e-02,  1.74729340e-02, -6.11408520e-03, -7.08887950e-02,\n",
      "        4.20815237e-02,  1.77456319e-01,  5.15226508e-04, -3.85791622e-02,\n",
      "        1.60408154e-01, -8.32864717e-02,  4.98887636e-02,  4.15153652e-02,\n",
      "       -1.90722480e-01, -9.32922065e-02, -1.61169976e-01, -2.84876060e-02,\n",
      "        1.02433726e-01, -9.30939568e-04,  2.25017607e-01, -2.22499836e-02,\n",
      "       -7.57985711e-02,  1.60899401e-01,  2.55840272e-01,  3.02422047e-01,\n",
      "       -8.29131752e-02, -3.86648327e-02, -1.78747289e-02,  2.50728518e-01,\n",
      "        1.19498141e-01,  1.65942028e-01, -3.66986878e-02, -1.57530978e-01,\n",
      "       -9.94482357e-03,  3.85584712e-01, -3.30422491e-01, -6.22354858e-02,\n",
      "       -3.07443999e-02,  5.97489439e-02,  1.12252347e-01,  2.15754941e-01,\n",
      "       -2.43644536e-01,  3.54054898e-01, -3.43526565e-02,  1.95411041e-01,\n",
      "        8.17728937e-02, -2.28061993e-02,  1.22887745e-01,  1.74271673e-01,\n",
      "       -1.50883496e-01, -4.95714396e-02, -4.52751778e-02, -4.92340848e-02,\n",
      "       -7.47425109e-02,  2.16913521e-01,  3.85883562e-02,  1.22582510e-01,\n",
      "        6.84483647e-02, -1.33613616e-01, -6.47543324e-03,  2.14522585e-01,\n",
      "        1.37825996e-01, -6.71561062e-02,  3.02482098e-02,  5.91942519e-02,\n",
      "       -2.48626824e-02,  2.51450054e-02, -8.52138475e-02, -1.26675457e-01,\n",
      "        1.06634490e-01, -6.40797466e-02, -5.76075763e-02, -2.50802606e-01,\n",
      "       -2.32319191e-01,  1.21778883e-01,  1.24840930e-01,  1.83561683e-01,\n",
      "       -3.05517465e-01, -3.77489030e-02,  2.75324196e-01,  1.79073885e-01,\n",
      "        9.44630131e-02,  1.68682158e-01, -3.56027447e-02, -8.47318470e-02,\n",
      "       -1.52042480e-02, -6.37189820e-02,  6.96765771e-03, -1.96741462e-01,\n",
      "        1.93072669e-02, -2.05188632e-01,  5.07100783e-02, -2.04450324e-01,\n",
      "        4.72936891e-02,  2.35485807e-01,  2.09509552e-01,  4.94037755e-02,\n",
      "        1.00306869e-01,  3.90481129e-02,  2.66449392e-01, -1.59763306e-01,\n",
      "       -1.52708769e-01,  1.97979003e-01, -7.15954006e-02,  2.51908064e-01,\n",
      "        4.95223403e-02,  1.65539738e-02, -1.26524968e-03,  1.69607893e-01,\n",
      "        6.19429983e-02,  3.78953703e-02,  4.46347371e-02, -1.60631299e-01,\n",
      "       -3.71062875e-01,  2.40177557e-01])), ('con', array([ 2.53333333e+00,  1.35209235e-01,  3.13400000e+03,  8.03000000e+02,\n",
      "        6.00000000e+01,  1.50000000e+01,  1.70000000e+01,  2.00000000e+00,\n",
      "        1.00000000e+00,  1.70000000e+01,  5.00000000e+00,  5.00000000e+00,\n",
      "        1.00000000e+00,  0.00000000e+00,  0.00000000e+00,  0.00000000e+00,\n",
      "        0.00000000e+00,  0.00000000e+00, -2.02699080e-01, -1.20595753e-01,\n",
      "        5.82260899e-02,  1.28329903e-01, -3.33214886e-02, -5.71197346e-02,\n",
      "        2.58592665e-01, -1.45633006e-02, -6.21923171e-02,  7.55848689e-03,\n",
      "       -2.07126439e-02,  1.01034723e-01,  1.33558258e-01, -3.47942472e-01,\n",
      "        1.94980443e-01, -8.20462033e-02, -6.07555099e-02, -2.20889181e-01,\n",
      "       -1.99234635e-01, -2.35700086e-02, -4.56612036e-02, -1.82725731e-02,\n",
      "        3.61942202e-01,  1.80325061e-01, -1.11318536e-01, -1.01917997e-01,\n",
      "       -4.01696004e-02, -2.17382699e-01, -2.02787191e-01,  2.45925095e-02,\n",
      "        2.91313469e-01, -8.28097984e-02, -1.00381430e-02, -4.27682027e-02,\n",
      "       -1.96700364e-01, -1.48475245e-01,  1.67989228e-02,  2.19283476e-01,\n",
      "       -6.36343285e-02,  1.20095480e-02,  3.02554239e-02,  7.71846771e-02,\n",
      "       -1.66480348e-01,  5.14824353e-02, -4.32470083e-01,  2.43758455e-01,\n",
      "        1.85437664e-01,  6.25088587e-02, -1.28806904e-01,  5.53812720e-02,\n",
      "       -1.06455766e-01,  1.33528024e-01, -1.07300401e-01, -9.72473547e-02,\n",
      "       -9.53475237e-02, -9.09929797e-02, -1.94756426e-02, -1.27004430e-01,\n",
      "        8.20403080e-03,  1.28149152e-01, -8.19488168e-02,  1.13547005e-01,\n",
      "       -9.01236981e-02,  1.54537261e-01,  1.85616478e-01, -3.30507867e-02,\n",
      "        2.73490340e-01,  3.68765295e-02, -4.83371243e-02, -3.86387818e-02,\n",
      "        2.16511443e-01,  4.99490760e-02, -4.45867144e-02, -2.69172117e-02,\n",
      "       -2.57408321e-01,  9.21831504e-02, -3.76498401e-02,  3.67780514e-02,\n",
      "       -2.10970506e-01,  1.08563252e-01,  8.64300504e-02, -4.67701964e-02,\n",
      "        9.86380801e-02,  2.08991542e-01, -1.40320107e-01,  2.54856110e-01,\n",
      "        1.30084187e-01,  1.40492916e-01, -3.28659445e-01, -5.48996888e-02,\n",
      "        3.85309681e-02, -3.31288832e-03,  2.29634009e-02,  1.29773453e-01,\n",
      "       -1.00308940e-01,  1.91282779e-01,  5.76186292e-02,  2.07781658e-01,\n",
      "       -1.49312422e-01,  6.96564689e-02, -5.77327460e-02, -1.44660741e-01,\n",
      "        2.03926563e-02,  1.30144730e-01,  6.82278499e-02,  6.09784760e-02,\n",
      "        5.14452979e-02, -4.43380058e-01, -1.13103680e-01,  1.42572775e-01,\n",
      "        1.66143373e-01, -5.87619618e-02,  1.45836845e-02,  1.22457623e-01,\n",
      "        4.86202277e-02,  1.15870282e-01,  1.07325591e-01, -2.67737955e-01,\n",
      "        1.32957054e-02,  5.92638701e-02, -1.11326963e-01, -3.57850343e-01,\n",
      "       -3.13984126e-01, -2.74119258e-01, -1.21899351e-01, -2.21242327e-02,\n",
      "        3.64647470e-02, -1.13933720e-01])), ('con', array([ 2.29629630e+00,  0.00000000e+00,  2.22000000e+03,  6.60000000e+02,\n",
      "        3.70000000e+01,  4.00000000e+00,  4.00000000e+00,  0.00000000e+00,\n",
      "        0.00000000e+00,  0.00000000e+00,  0.00000000e+00,  0.00000000e+00,\n",
      "        0.00000000e+00,  0.00000000e+00,  0.00000000e+00,  0.00000000e+00,\n",
      "        0.00000000e+00,  0.00000000e+00, -1.03643499e-01,  2.58111507e-01,\n",
      "        3.18196923e-01,  9.91365984e-02,  7.07306191e-02, -2.28256568e-01,\n",
      "        1.63546056e-01,  8.07355866e-02,  2.25987107e-01, -1.27835542e-01,\n",
      "        1.87664494e-01,  2.12552682e-01,  1.79986320e-02, -2.47265548e-01,\n",
      "       -8.49299654e-02,  4.74901348e-02, -6.28908053e-02, -2.46958919e-02,\n",
      "       -6.53615892e-02,  2.51512080e-01, -3.01166959e-02,  1.22959644e-01,\n",
      "       -8.62282813e-02, -3.81843038e-02,  1.87823668e-01, -3.47464643e-02,\n",
      "        5.77520803e-02, -7.43943974e-02, -2.84201771e-01,  1.32306293e-01,\n",
      "        3.05335402e-01, -9.04846266e-02, -1.14173954e-02, -6.81110993e-02,\n",
      "       -2.34681174e-01,  1.91232055e-01,  2.47368768e-01,  2.11776197e-01,\n",
      "       -9.80853513e-02, -3.31778787e-02, -1.53224677e-01, -6.14756644e-02,\n",
      "       -6.14933670e-02,  9.81999002e-03,  1.01154546e-04,  2.59100825e-01,\n",
      "        1.48311600e-01,  1.54561237e-01, -3.61288674e-02,  1.48515522e-01,\n",
      "        2.11128488e-01,  9.74531174e-02,  1.13354869e-01,  1.84324495e-02,\n",
      "       -3.79012376e-01, -1.98806524e-02,  1.05763346e-01, -1.65597171e-01,\n",
      "       -7.17387944e-02, -9.06048343e-02, -1.32108971e-01,  2.40115970e-02,\n",
      "       -6.36783754e-03,  1.35185689e-01, -4.97609898e-02, -7.60724321e-02,\n",
      "       -1.20079242e-01,  2.38198787e-02, -2.26367131e-01, -1.33757919e-01,\n",
      "        6.60970137e-02,  1.76968321e-01, -6.79811910e-02,  8.67576525e-02,\n",
      "       -1.10460617e-01, -9.52704903e-03, -4.18946473e-03, -1.01617813e-01,\n",
      "        3.98956612e-02, -3.24902564e-01, -1.09170690e-01,  1.20716929e-01,\n",
      "       -7.11865425e-02, -7.24979863e-02, -1.36331126e-01,  1.40977176e-02,\n",
      "       -3.86758074e-02, -1.31185740e-01, -5.76907247e-02, -6.71491846e-02,\n",
      "       -2.95751452e-01, -1.47752762e-01, -9.16413516e-02,  1.84900403e-01,\n",
      "       -1.15585990e-01,  6.06561787e-02, -9.08312351e-02,  1.08196042e-01,\n",
      "       -1.37393534e-01,  2.51814816e-02,  1.74712598e-01, -3.75910729e-01,\n",
      "        1.39895633e-01, -3.71476524e-02, -3.48839536e-02,  4.93717119e-02,\n",
      "       -1.69405490e-01, -1.73770301e-02, -6.67469949e-02, -7.18081668e-02,\n",
      "        1.30712047e-01,  1.67932928e-01, -1.11975439e-01, -1.49561334e-02,\n",
      "       -2.37694517e-01, -4.93370071e-02, -4.17310596e-02, -1.55075878e-01,\n",
      "        9.13746131e-04,  1.21180145e-02,  4.17471305e-02,  9.59910080e-02,\n",
      "       -8.06250945e-02,  2.96560466e-01,  8.45077075e-03, -1.42242640e-01,\n",
      "       -1.07242696e-01,  1.14177339e-01])), ('con', array([ 2.00000000e+00,  0.00000000e+00,  6.81000000e+02,  2.55000000e+02,\n",
      "        1.60000000e+01,  0.00000000e+00,  0.00000000e+00,  0.00000000e+00,\n",
      "        0.00000000e+00,  1.50000000e+01,  1.00000000e+00,  1.00000000e+00,\n",
      "        0.00000000e+00,  0.00000000e+00,  0.00000000e+00,  0.00000000e+00,\n",
      "        0.00000000e+00,  0.00000000e+00,  1.09888889e-01,  5.71034327e-02,\n",
      "        1.49424076e-01,  3.67264496e-03,  2.70302091e-02, -4.37607057e-03,\n",
      "        8.23858604e-02, -8.62624124e-02,  5.06851170e-03,  1.70444861e-01,\n",
      "       -1.62229855e-02,  4.71958257e-02,  2.97692448e-01,  1.39469624e-01,\n",
      "       -4.77478392e-02,  1.34277940e-02, -1.60574481e-01,  6.96284249e-02,\n",
      "       -5.44993579e-02,  1.01021118e-01, -4.97493781e-02,  2.72795767e-01,\n",
      "       -3.62973399e-02,  1.25594825e-01,  8.69721770e-02, -2.05327377e-01,\n",
      "       -6.33782968e-02,  2.67367926e-03, -1.79645997e-02,  9.78503451e-02,\n",
      "        6.25059903e-02, -2.21173048e-01, -1.34405578e-02,  1.19314380e-01,\n",
      "       -1.44218981e-01,  4.21531759e-02, -1.53645035e-02,  1.41789868e-01,\n",
      "       -2.16300428e-01,  3.28991786e-02,  1.24917120e-01,  1.63539872e-01,\n",
      "       -2.08811685e-02,  9.72322896e-02, -5.85705228e-02,  4.41464931e-02,\n",
      "        9.40766409e-02,  1.33585691e-01, -1.47627249e-01,  1.36777107e-02,\n",
      "       -1.37945786e-01,  1.92385577e-02,  5.76209761e-02, -3.19035584e-03,\n",
      "       -2.06232667e-01,  4.11887467e-02, -1.83682311e-02,  8.88048336e-02,\n",
      "       -3.97232175e-02, -9.52471495e-02, -1.49799377e-01, -1.76809151e-02,\n",
      "       -3.10382564e-02, -1.52548421e-02, -1.72077969e-01, -7.17565119e-02,\n",
      "        2.96271220e-02, -6.19107857e-02, -4.08928581e-02, -2.73363814e-02,\n",
      "        6.35888949e-02,  1.06954806e-01, -1.19019330e-01,  1.00479282e-01,\n",
      "       -8.87183696e-02, -1.98376421e-02, -2.40591075e-02, -2.58664414e-02,\n",
      "        9.43614841e-02, -5.51498495e-02, -4.46213074e-02,  1.76230550e-01,\n",
      "        9.59620401e-02, -1.17031708e-01, -1.38448387e-01, -1.82931889e-02,\n",
      "       -9.48532149e-02,  7.94130042e-02, -1.72542352e-02,  1.55526087e-01,\n",
      "       -6.71551153e-02, -1.27958640e-01, -1.31146997e-01,  2.20173776e-01,\n",
      "       -1.53576583e-01,  9.36718956e-02, -9.29334238e-02,  5.92240840e-02,\n",
      "       -1.44731373e-01, -1.96817607e-01,  8.38549733e-02, -3.48819852e-01,\n",
      "        1.68316681e-02,  3.59230023e-03,  5.56159019e-02,  6.59732968e-02,\n",
      "       -1.37366250e-01, -8.96825641e-02, -2.06052177e-02, -2.06095964e-01,\n",
      "        6.26841793e-03,  1.45196766e-01, -2.89837550e-03, -1.52164390e-02,\n",
      "       -7.00137811e-03, -1.68975949e-01, -1.14292279e-01, -1.49960965e-01,\n",
      "       -3.86060923e-02,  1.44014776e-01,  1.19589955e-01,  8.15494880e-02,\n",
      "       -1.06645651e-01, -3.67357279e-03,  1.05126373e-01, -4.19150898e-03,\n",
      "        4.84579802e-02,  3.03567443e-02])), ('con', array([ 2.14814815e+00,  0.00000000e+00,  2.24000000e+03,  6.45000000e+02,\n",
      "        3.40000000e+01,  3.00000000e+00,  3.00000000e+00,  0.00000000e+00,\n",
      "        0.00000000e+00,  0.00000000e+00,  0.00000000e+00,  0.00000000e+00,\n",
      "        0.00000000e+00,  0.00000000e+00,  0.00000000e+00,  0.00000000e+00,\n",
      "        0.00000000e+00,  0.00000000e+00,  4.14030887e-02, -2.97173679e-01,\n",
      "        1.07238404e-01, -6.21659793e-02, -2.16942623e-01,  1.09108604e-01,\n",
      "        1.13476226e-02,  1.75090939e-01,  1.90432332e-02, -1.09728418e-01,\n",
      "       -9.39704105e-02, -3.32835987e-02,  1.76623479e-01, -1.24789290e-02,\n",
      "       -2.35267445e-01, -1.75969094e-01,  6.39801547e-02,  8.94746780e-02,\n",
      "       -3.39661427e-02,  2.22742021e-01, -1.18827932e-01, -1.10497735e-01,\n",
      "        8.31865817e-02,  1.21291533e-01, -3.25896740e-01,  1.73888430e-01,\n",
      "        1.95398685e-02,  2.62333393e-01,  2.60294408e-01,  1.19233519e-01,\n",
      "       -1.78980619e-01,  7.09837824e-02, -1.22304998e-01,  1.93947747e-01,\n",
      "       -1.87880605e-01,  2.93657817e-02, -1.33562863e-01, -2.37620007e-02,\n",
      "        8.58678818e-02, -9.33587775e-02,  2.66710706e-02, -1.34574756e-01,\n",
      "       -2.84362435e-01, -3.49016935e-02,  5.46274185e-02, -1.80114776e-01,\n",
      "        6.79779146e-03, -1.36148915e-01, -1.66162308e-02, -1.43191069e-01,\n",
      "       -3.19125980e-01,  6.16582632e-02,  7.18677938e-02,  5.95239811e-02,\n",
      "       -1.85912132e-01,  6.65576085e-02,  2.32351229e-01, -4.58272658e-02,\n",
      "        1.31431669e-01, -9.57014114e-02, -1.79984018e-01, -3.14299226e-01,\n",
      "        4.33370750e-03,  2.86838394e-02, -1.63282692e-01,  5.28401621e-02,\n",
      "        5.28095663e-02,  1.51547894e-01, -1.37961373e-01, -6.24138415e-02,\n",
      "        7.46966004e-02,  1.98991895e-01, -2.40065008e-01,  1.40773624e-01,\n",
      "       -1.05290957e-01, -5.61034866e-03, -4.58209515e-02, -6.40260354e-02,\n",
      "       -1.46891892e-01, -2.18733579e-01,  1.58656612e-02,  1.03360988e-01,\n",
      "       -6.58024028e-02, -2.51722008e-01, -4.07490507e-02, -6.06077686e-02,\n",
      "       -1.03427224e-01,  2.76505262e-01, -3.64427418e-01,  1.50045633e-01,\n",
      "       -2.81363428e-01, -3.37163657e-02,  1.11661879e-02,  1.74194753e-01,\n",
      "        1.44299284e-01,  3.26899625e-02, -2.62992084e-02, -2.50779212e-01,\n",
      "       -1.75804541e-01, -8.66785049e-02, -1.50885940e-01, -2.39565611e-01,\n",
      "        4.40405682e-02, -2.40536273e-01,  1.95380807e-01,  7.78688341e-02,\n",
      "        1.76956326e-01, -1.66721264e-04, -4.90749851e-02,  9.12522059e-03,\n",
      "        1.11056957e-02,  1.51189893e-01, -3.76810208e-02, -3.40003401e-01,\n",
      "       -1.31346211e-01, -1.32578582e-01, -1.42174974e-01, -3.04666720e-02,\n",
      "        2.88174987e-01,  1.34502172e-01, -2.06378758e-01,  2.00666830e-01,\n",
      "       -1.76267728e-01,  2.44775757e-01, -2.59748548e-01,  1.22378729e-01,\n",
      "       -9.79862884e-02,  9.59755555e-02])), ('con', array([ 2.11764706e+00,  0.00000000e+00,  4.88300000e+03,  1.05000000e+03,\n",
      "        4.30000000e+01,  4.00000000e+00,  4.00000000e+00,  0.00000000e+00,\n",
      "        0.00000000e+00,  0.00000000e+00,  0.00000000e+00,  0.00000000e+00,\n",
      "        0.00000000e+00,  0.00000000e+00,  0.00000000e+00,  0.00000000e+00,\n",
      "        0.00000000e+00,  0.00000000e+00,  3.30536850e-02, -2.21564025e-01,\n",
      "       -3.55138123e-01, -1.70462072e-01,  1.82645380e-01, -3.49458940e-02,\n",
      "       -3.79873477e-02,  9.32715833e-02, -3.16709310e-01, -1.06715538e-01,\n",
      "       -1.91649824e-01, -1.61669895e-01, -5.51878102e-02,  9.31568742e-02,\n",
      "       -1.03488766e-01,  4.33109820e-01, -1.44378185e-01,  7.51106367e-02,\n",
      "        1.68625817e-01, -8.98812490e-04, -2.27755345e-02, -7.49375811e-03,\n",
      "       -6.38092682e-02, -2.58958578e-01,  4.93370742e-01,  5.29400771e-03,\n",
      "        1.77176297e-02,  3.17143500e-01,  6.44468218e-02,  7.98283145e-02,\n",
      "       -6.56925812e-02,  6.43456206e-02,  4.62370545e-01, -1.19131744e-01,\n",
      "       -6.53745085e-02, -7.61267394e-02, -3.21403593e-02, -2.09890410e-01,\n",
      "       -2.50859968e-02, -1.05616888e-02,  4.59802061e-01,  4.41232413e-01,\n",
      "        1.08728908e-01, -1.59780979e-01, -1.91915214e-01,  6.64035678e-02,\n",
      "       -1.48214714e-03,  1.40643837e-02,  1.22916162e-01, -2.28390217e-01,\n",
      "       -5.75348139e-02,  7.12836236e-02,  1.58074081e-01,  1.48527652e-01,\n",
      "        2.86054254e-01,  1.22087412e-01,  1.84830278e-01,  1.52384369e-02,\n",
      "        1.27050772e-01, -7.33645856e-02, -1.61063690e-02, -4.16743308e-02,\n",
      "       -1.67064920e-01,  7.78747499e-02, -3.97405215e-02, -6.84601367e-02,\n",
      "        3.22296210e-02, -5.58116585e-02, -2.10787952e-02, -6.55428395e-02,\n",
      "        7.77584389e-02,  2.58314703e-02,  2.59798616e-02, -2.97559679e-01,\n",
      "       -1.83088675e-01, -1.91613570e-01, -2.18603209e-01, -2.45232999e-01,\n",
      "        1.26503736e-01,  2.38037169e-01, -8.06239843e-02, -3.29666227e-01,\n",
      "       -4.85538095e-02, -2.95009404e-01, -1.43712923e-01, -1.46819741e-01,\n",
      "       -3.10423791e-01,  8.07488114e-02, -4.93330546e-02,  1.65629283e-01,\n",
      "       -1.12130888e-01, -4.82273176e-02, -4.73578088e-03,  2.57526278e-01,\n",
      "        1.66430958e-02,  1.17124626e-02,  1.23763852e-01,  3.02711606e-01,\n",
      "       -2.62202471e-01, -3.87665145e-02, -2.09252268e-01, -4.70263883e-02,\n",
      "       -1.69976115e-01, -1.67522132e-01, -3.06849211e-01, -8.56348276e-02,\n",
      "        3.79374996e-02, -9.93682188e-04, -5.73535375e-02,  2.36080308e-02,\n",
      "       -2.04650462e-01,  7.33193569e-03, -1.13329375e-02, -1.28660560e-01,\n",
      "       -2.35568509e-01,  4.42713015e-02, -5.50786741e-02,  2.72172719e-01,\n",
      "        3.10772538e-01, -2.50886470e-01,  1.66294292e-01,  2.52301216e-01,\n",
      "       -3.58742140e-02, -7.54837245e-02, -1.89352855e-01, -1.31911069e-01,\n",
      "       -1.56134412e-01,  1.30398780e-01])), ('con', array([ 1.90476190e+00,  0.00000000e+00,  9.69000000e+02,  3.42000000e+02,\n",
      "        1.90000000e+01,  0.00000000e+00,  0.00000000e+00,  0.00000000e+00,\n",
      "        0.00000000e+00,  0.00000000e+00,  0.00000000e+00,  0.00000000e+00,\n",
      "        0.00000000e+00,  0.00000000e+00,  0.00000000e+00,  0.00000000e+00,\n",
      "        0.00000000e+00,  0.00000000e+00,  2.95191519e-02,  1.02334596e-01,\n",
      "        1.43753320e-01,  2.32006148e-01,  1.36360869e-01, -1.91023618e-01,\n",
      "       -1.06935464e-01, -5.36855422e-02,  1.66585848e-01, -4.20070887e-02,\n",
      "       -3.93047836e-03,  3.44514959e-02, -9.37274918e-02, -8.79338905e-02,\n",
      "       -9.91824642e-02, -9.57426205e-02, -9.45539623e-02,  4.06698249e-02,\n",
      "       -1.28350034e-01,  2.53885873e-02, -1.74150690e-01,  8.97948295e-02,\n",
      "        1.95401058e-01,  2.15531379e-01, -1.21884249e-01,  1.22807629e-01,\n",
      "       -6.30025705e-03, -6.53421879e-02, -1.86810968e-03,  2.68417504e-02,\n",
      "        2.83573240e-01, -7.17646703e-02,  1.87107265e-01,  2.04419084e-02,\n",
      "       -8.92808661e-02, -2.88383495e-02, -6.36570975e-02,  4.72699776e-02,\n",
      "       -9.90369320e-02,  1.21589094e-01, -1.68369621e-01,  9.19739679e-02,\n",
      "       -1.06236693e-02,  9.92593393e-02, -1.28369018e-01, -8.71437266e-02,\n",
      "       -2.21744895e-01, -5.62318508e-03, -1.07309647e-01,  8.50998238e-02,\n",
      "       -1.97275326e-01, -2.14942023e-02,  1.28220186e-01, -1.84309423e-01,\n",
      "       -2.09829047e-01,  4.51507717e-02, -4.00696322e-02,  2.33870894e-02,\n",
      "        7.09961727e-02, -4.23183776e-02, -2.35217124e-01, -4.29065479e-03,\n",
      "       -6.23975769e-02,  8.57267976e-02, -1.20399706e-01, -1.43881384e-02,\n",
      "       -7.13390391e-03, -5.34108095e-02, -1.68417439e-01, -5.54107316e-02,\n",
      "        6.34545162e-02,  1.46289170e-01, -1.45895351e-02,  4.59848084e-02,\n",
      "       -9.60891843e-02, -6.49780035e-02,  6.92535937e-02, -1.80638179e-01,\n",
      "       -1.09767087e-01, -1.32458046e-01, -2.02129111e-01, -3.11362073e-02,\n",
      "        1.10935919e-01, -3.04755896e-01, -6.26608580e-02, -1.37321055e-01,\n",
      "        1.06740572e-01,  1.94186866e-01, -6.43047169e-02,  2.58588254e-01,\n",
      "       -4.55675758e-02, -1.29289255e-01, -6.04123771e-02, -8.99545699e-02,\n",
      "        1.55121163e-01,  1.20417349e-01, -8.18132758e-02, -1.94160715e-01,\n",
      "       -9.48014557e-02,  8.70839506e-02,  4.22008596e-02, -2.77915984e-01,\n",
      "        9.45039392e-02,  1.58954393e-02,  1.83617488e-01,  2.38176901e-02,\n",
      "       -2.03499608e-02,  3.89020913e-03,  5.06518073e-02, -2.42654219e-01,\n",
      "        8.09400603e-02, -3.52259539e-02,  1.17398791e-01, -9.71155148e-03,\n",
      "       -5.16043790e-02, -1.59741119e-01, -4.61914279e-02, -1.10540539e-01,\n",
      "       -2.23911971e-01,  1.40278995e-01,  4.72155325e-02,  3.59475575e-02,\n",
      "       -2.35611405e-02, -1.00015037e-01,  4.12236415e-02, -3.47205177e-02,\n",
      "       -1.83789611e-01,  4.98018898e-02])), ('con', array([ 1.69230769e+00,  0.00000000e+00,  1.75000000e+02,  1.01000000e+02,\n",
      "        1.00000000e+01,  0.00000000e+00,  0.00000000e+00,  0.00000000e+00,\n",
      "        0.00000000e+00,  0.00000000e+00,  0.00000000e+00,  0.00000000e+00,\n",
      "        0.00000000e+00,  0.00000000e+00,  0.00000000e+00,  0.00000000e+00,\n",
      "        0.00000000e+00,  0.00000000e+00, -9.13755521e-02,  6.65233657e-02,\n",
      "        9.76132452e-02,  5.78284934e-02,  7.33335912e-02, -1.75054833e-01,\n",
      "        1.18234649e-01, -1.66078895e-01,  6.94896579e-02,  7.07610324e-02,\n",
      "        1.43226221e-01,  1.75738096e-01,  1.77925676e-01, -8.03281590e-02,\n",
      "       -3.14099401e-01, -1.71678647e-01,  9.50804055e-02, -1.42915025e-02,\n",
      "       -7.65782893e-02,  1.66109994e-01, -1.34122774e-01, -1.11997612e-01,\n",
      "       -7.19732270e-02,  7.63403326e-02, -6.59820065e-02, -2.45893821e-02,\n",
      "       -6.33447543e-02, -1.20617434e-01,  1.13061734e-01,  7.55165964e-02,\n",
      "        1.21754194e-02, -7.39333732e-03,  5.40797375e-02,  6.59814030e-02,\n",
      "        4.04042145e-03, -1.17683940e-01, -2.72181593e-02, -7.92948715e-03,\n",
      "       -1.07702367e-01,  6.95157498e-02,  3.32899392e-02,  3.39977816e-02,\n",
      "       -5.56944869e-02, -5.73322410e-03, -1.38887376e-01,  1.84754774e-01,\n",
      "        4.48451601e-02,  2.40160212e-01, -1.16488300e-01, -1.70368493e-01,\n",
      "       -1.23544142e-01,  9.21974033e-02, -1.24704596e-02, -8.13677814e-03,\n",
      "       -9.00582895e-02,  1.18436180e-01,  1.55257612e-01,  9.38620940e-02,\n",
      "       -6.68118522e-02, -1.80809990e-01, -8.03958699e-02, -3.43422778e-02,\n",
      "       -4.59725447e-02,  4.22025174e-02, -8.97904262e-02, -1.05885211e-02,\n",
      "       -8.38786289e-02, -7.38767758e-02, -4.02813330e-02, -1.77535132e-01,\n",
      "        1.83901235e-01,  6.56374842e-02,  1.77897215e-02,  1.20712362e-01,\n",
      "       -9.66284648e-02, -2.92423517e-02, -1.83977056e-02, -1.59481703e-03,\n",
      "       -4.51243706e-02, -8.18616748e-02, -1.41581163e-01, -1.16755657e-01,\n",
      "       -3.23956385e-02,  1.02354577e-02, -1.64110020e-01, -3.14010531e-02,\n",
      "       -5.87562695e-02,  1.28652871e-01, -5.91196679e-02,  7.13500082e-02,\n",
      "       -1.24422349e-01, -4.54969890e-02, -2.45687552e-02,  1.61074847e-01,\n",
      "        1.47671048e-02,  1.18862793e-01, -6.50579706e-02, -1.00029267e-01,\n",
      "       -1.80825621e-01, -1.35573456e-02,  2.97355349e-04, -1.67191640e-01,\n",
      "        3.78611609e-02, -7.38900825e-02, -5.59498705e-02,  2.42107715e-02,\n",
      "       -5.43832108e-02, -1.89080536e-01,  5.17008360e-03,  6.93171611e-03,\n",
      "        1.23313248e-01,  2.34187141e-01, -6.34007901e-02, -3.23567842e-03,\n",
      "       -4.59681340e-02, -4.40669842e-02,  7.11357445e-02, -1.37162074e-01,\n",
      "        5.49718644e-03,  5.34971338e-03, -3.20018381e-02,  3.26518156e-02,\n",
      "       -1.88521847e-01,  8.60074162e-02,  3.95739749e-02, -1.09339878e-01,\n",
      "       -6.32980317e-02,  7.81515464e-02])), ('con', array([ 2.20000000e+00,  0.00000000e+00,  7.77000000e+02,  3.30000000e+02,\n",
      "        2.70000000e+01,  3.00000000e+00,  3.00000000e+00,  0.00000000e+00,\n",
      "        0.00000000e+00,  0.00000000e+00,  0.00000000e+00,  0.00000000e+00,\n",
      "        0.00000000e+00,  0.00000000e+00,  0.00000000e+00,  0.00000000e+00,\n",
      "        0.00000000e+00,  0.00000000e+00, -9.61272418e-02,  9.60358456e-02,\n",
      "        1.64905056e-01,  3.62090557e-03,  3.43469270e-02, -7.31019769e-03,\n",
      "        1.27261356e-01,  6.51344806e-02, -1.09735623e-01,  9.00745541e-02,\n",
      "       -3.91949937e-02, -4.46357317e-02,  4.82171252e-02, -2.66853452e-01,\n",
      "        4.64383289e-02, -7.91356415e-02, -2.51083285e-01, -9.96876135e-02,\n",
      "       -1.47488371e-01,  1.28989235e-01, -7.46033564e-02,  1.90697372e-01,\n",
      "        5.96875744e-03,  8.58503506e-02,  2.76563615e-02, -8.04896653e-02,\n",
      "       -6.96271732e-02, -1.67414129e-01, -7.39804581e-02,  3.09352756e-01,\n",
      "        7.21102953e-02, -5.97756654e-02, -3.77894267e-02,  7.79827684e-02,\n",
      "       -8.42318758e-02,  2.10923463e-01, -4.10528146e-02,  5.13685308e-02,\n",
      "       -1.80486426e-01,  5.43190315e-02, -1.92885622e-01, -2.58663654e-01,\n",
      "       -1.01310603e-01, -2.50762224e-01,  1.13469630e-01,  3.11392844e-02,\n",
      "        6.51242211e-02,  1.29916683e-01,  2.17888989e-02,  2.65137060e-03,\n",
      "       -2.51366454e-03,  1.43296137e-01, -7.69366473e-02,  4.03173752e-02,\n",
      "        5.45787700e-02,  3.34931277e-02,  1.55494481e-01,  1.22972444e-01,\n",
      "       -2.80872844e-02, -2.69930989e-01, -2.29610614e-02,  1.80427395e-02,\n",
      "       -6.86473167e-03, -9.31254923e-02, -1.06951110e-01,  4.62390557e-02,\n",
      "        3.44112702e-02, -2.72736102e-01, -8.18705410e-02,  1.11975580e-01,\n",
      "        2.34588027e-01,  6.38354346e-02, -2.49686539e-01,  1.42182946e-01,\n",
      "       -1.59706414e-01, -1.68566748e-01, -1.02282420e-01,  4.76823300e-02,\n",
      "       -5.59547432e-02, -1.75018176e-01,  1.09810881e-01, -5.19004092e-02,\n",
      "       -1.93845212e-01, -3.77907544e-01, -4.38740887e-02, -5.85583858e-02,\n",
      "       -1.35284975e-01,  1.76316351e-01, -1.57903701e-01,  9.02815312e-02,\n",
      "       -1.06129691e-01,  4.36148569e-02,  4.20678523e-04,  1.83186710e-01,\n",
      "        6.27962872e-02,  1.56246349e-01, -9.13783833e-02,  1.07056731e-02,\n",
      "       -1.90398321e-01, -3.26819792e-02,  1.91871703e-01,  9.45329107e-03,\n",
      "        3.60872336e-02, -2.19531983e-01, -5.43951355e-02, -4.10987251e-02,\n",
      "        1.80496156e-01,  2.03867480e-01, -1.79807488e-02, -3.00006270e-01,\n",
      "       -2.07865506e-01,  9.26058888e-02, -1.05729386e-01,  1.12629801e-01,\n",
      "       -6.51926845e-02, -1.38628021e-01, -6.91478699e-02, -2.74526458e-02,\n",
      "       -7.88466185e-02, -1.84264049e-01,  7.98342749e-02,  9.56838131e-02,\n",
      "       -8.90949517e-02, -5.47160283e-02, -2.80229766e-02, -6.65501952e-02,\n",
      "       -8.48176330e-02, -4.31354791e-02])), ('con', array([ 2.05555556e+00,  1.85185185e-02,  5.92900000e+03,  1.16500000e+03,\n",
      "        4.10000000e+01,  2.00000000e+00,  2.00000000e+00,  0.00000000e+00,\n",
      "        1.00000000e+00,  0.00000000e+00,  0.00000000e+00,  0.00000000e+00,\n",
      "        0.00000000e+00,  0.00000000e+00,  0.00000000e+00,  0.00000000e+00,\n",
      "        0.00000000e+00,  0.00000000e+00, -1.30929008e-01, -2.54503191e-01,\n",
      "       -4.87591513e-02, -4.72191311e-02, -3.31434041e-01, -2.10976034e-01,\n",
      "        1.98356193e-02, -1.57813981e-01,  3.20773907e-02,  2.04037979e-01,\n",
      "        1.73773974e-01,  1.20033950e-01,  2.03907304e-02,  3.21578652e-01,\n",
      "        1.20582066e-01, -1.51402757e-01,  3.49199533e-01,  2.18937159e-01,\n",
      "       -2.59947777e-01, -1.89112082e-01,  1.11305952e-01, -2.00031444e-01,\n",
      "       -4.06786334e-03,  5.12279749e-01, -2.32720479e-01,  4.17732187e-02,\n",
      "       -1.26531437e-01, -2.88891971e-01, -1.52219132e-01, -2.15005912e-02,\n",
      "       -1.05407640e-01, -8.41975585e-02,  2.14707881e-01,  1.83691040e-01,\n",
      "       -1.82342194e-02,  4.20927024e-03, -1.57222331e-01,  1.15861960e-01,\n",
      "        1.10723011e-01,  5.74354567e-02, -1.59349084e-01,  2.86491901e-01,\n",
      "       -1.25676498e-01, -9.17893201e-02, -8.40461478e-02, -1.91278532e-02,\n",
      "        1.03797652e-01, -9.11213178e-03, -1.73316881e-01, -8.36519152e-03,\n",
      "       -1.64064661e-01,  7.76678100e-02, -9.73541215e-02, -7.84662291e-02,\n",
      "        1.04642086e-01, -3.86227109e-02, -9.07657593e-02, -9.83958468e-02,\n",
      "        1.04272090e-01, -2.86742486e-02, -6.91238120e-02, -8.32588822e-02,\n",
      "       -3.48157771e-02, -6.26629442e-02, -1.94127813e-01, -1.13579206e-01,\n",
      "       -1.00539364e-01,  2.74566095e-02, -2.06157640e-02, -3.00750375e-01,\n",
      "        1.41488522e-01,  1.51664883e-01, -9.07600075e-02,  2.40828276e-01,\n",
      "       -2.27146775e-01, -2.24929109e-01, -2.76401676e-02, -1.16045438e-02,\n",
      "        2.98237298e-02, -3.03965151e-01,  8.10582414e-02, -3.07616085e-01,\n",
      "       -2.72361620e-04, -1.60060734e-01, -1.56825870e-01, -3.98072124e-01,\n",
      "       -5.18832356e-02, -6.32784935e-03, -3.67859565e-02,  6.21946566e-02,\n",
      "        3.95854920e-01,  2.01082639e-02,  2.38093026e-02,  1.05724417e-01,\n",
      "        1.70508791e-02,  2.29001120e-01,  2.10038260e-01, -2.14914400e-02,\n",
      "       -3.64186689e-02, -3.54947418e-01, -1.40959829e-01, -1.06458768e-01,\n",
      "        7.09289089e-02,  2.21406356e-01, -2.26419047e-01,  1.36788592e-01,\n",
      "       -6.26859665e-02, -1.51325956e-01,  4.82545048e-02, -1.33838534e-01,\n",
      "        8.61987658e-03,  2.19229013e-01, -4.17273585e-03, -1.18557073e-01,\n",
      "        2.99752265e-01, -3.19093317e-01, -1.50109604e-01, -9.80175287e-02,\n",
      "       -2.50459928e-02,  2.20663082e-02, -4.94934842e-02, -3.36466491e-01,\n",
      "        2.15044059e-02,  1.60883725e-01, -1.12973861e-01, -1.69286802e-01,\n",
      "        1.82517394e-01, -5.22159003e-02])), ('con', array([ 2.19354839e+00,  0.00000000e+00,  3.58200000e+03,  8.40000000e+02,\n",
      "        5.30000000e+01,  1.00000000e+01,  1.00000000e+01,  0.00000000e+00,\n",
      "        0.00000000e+00,  0.00000000e+00,  0.00000000e+00,  0.00000000e+00,\n",
      "        0.00000000e+00,  0.00000000e+00,  0.00000000e+00,  0.00000000e+00,\n",
      "        0.00000000e+00,  0.00000000e+00, -1.62670359e-01,  4.43726093e-01,\n",
      "        1.38012052e-01, -2.25537822e-01, -5.05593717e-01, -1.16117992e-01,\n",
      "       -6.58571050e-02, -6.36929199e-02, -1.04143865e-01,  8.38167965e-02,\n",
      "       -6.46208227e-02,  8.51653982e-03, -1.26608968e-01,  1.02731146e-01,\n",
      "       -4.38711606e-02,  1.58674464e-01, -1.58225298e-01, -1.89328611e-01,\n",
      "       -3.40549827e-01,  3.76458392e-02, -2.54176944e-01,  1.17474586e-01,\n",
      "        2.47073034e-03, -1.43496081e-01,  1.73366636e-01,  4.29507136e-01,\n",
      "        1.93099063e-02,  9.80831087e-02, -6.51159286e-02,  1.24260753e-01,\n",
      "        1.03942670e-01, -1.89476028e-01,  7.73953125e-02,  3.14780287e-02,\n",
      "        1.19562492e-01, -1.11424178e-01,  2.19425961e-01,  3.47254649e-02,\n",
      "       -1.69984661e-02,  1.72037154e-01,  2.05572605e-01,  7.86376595e-02,\n",
      "        3.97167385e-01,  1.64968371e-01, -1.30697384e-01, -8.19807872e-02,\n",
      "       -6.28934279e-02,  3.97480875e-02, -1.26270980e-01, -7.28638917e-02,\n",
      "       -1.85006350e-01,  2.25678142e-02, -5.92782535e-02,  2.77373232e-02,\n",
      "        1.76089481e-01,  5.71462624e-02, -2.09873557e-01, -1.17218070e-01,\n",
      "        3.82152237e-02,  1.06485328e-02,  7.70686045e-02,  8.53826478e-02,\n",
      "        2.53594011e-01,  4.49652746e-02, -2.45341852e-01, -3.89128208e-01,\n",
      "        9.72870961e-02, -1.16346195e-01, -6.83647543e-02, -2.15482339e-02,\n",
      "        3.36737067e-01,  2.14902088e-01, -1.51524097e-01,  3.26977111e-02,\n",
      "        4.02358398e-02, -8.60045925e-02, -1.15341358e-01, -4.25986294e-03,\n",
      "        3.24349761e-01,  8.75922963e-02, -3.30311447e-01, -3.37531678e-02,\n",
      "        4.04988714e-02,  1.53696254e-01,  4.23474796e-02, -1.31109357e-01,\n",
      "       -3.92649382e-01,  6.07421845e-02,  8.45861211e-02,  1.01462796e-01,\n",
      "       -8.57034996e-02, -8.11296254e-02, -1.74150392e-01, -6.54162467e-02,\n",
      "        1.09866802e-02,  3.33335586e-02, -5.65748252e-02,  2.66097132e-02,\n",
      "        5.68858050e-02,  3.89995682e-03, -2.34114137e-02,  3.83525565e-02,\n",
      "       -2.26654415e-03,  1.42703531e-02, -6.79454729e-02,  6.12328090e-02,\n",
      "       -5.08506643e-03, -1.73693076e-01, -7.61918798e-02, -6.73634112e-02,\n",
      "       -5.93718328e-02, -5.12114801e-02,  8.17188844e-02,  7.37496987e-02,\n",
      "       -2.22886875e-01, -1.99218243e-01, -6.60589635e-02, -1.52996778e-01,\n",
      "       -5.70975393e-02,  1.49799347e-01, -1.39141083e-01,  4.21646461e-02,\n",
      "       -4.98502627e-02, -8.42054635e-02,  1.49929613e-01, -2.04424292e-01,\n",
      "       -8.42897743e-02,  1.15774214e-01])), ('con', array([ 2.00000000e+00,  0.00000000e+00,  2.21000000e+02,  1.20000000e+02,\n",
      "        1.10000000e+01,  0.00000000e+00,  0.00000000e+00,  0.00000000e+00,\n",
      "        0.00000000e+00,  1.00000000e+01,  1.00000000e+00,  1.00000000e+00,\n",
      "        0.00000000e+00,  0.00000000e+00,  0.00000000e+00,  0.00000000e+00,\n",
      "        0.00000000e+00,  0.00000000e+00, -1.09705828e-01,  2.07026139e-01,\n",
      "        1.15959212e-01,  1.31041944e-01, -1.61906794e-01, -4.32880521e-02,\n",
      "        2.78251581e-02, -7.84357861e-02,  1.34918600e-01, -1.24067059e-02,\n",
      "        9.13810581e-02,  2.87458841e-02,  1.19895682e-01,  3.77982371e-02,\n",
      "       -1.17992036e-01,  7.04096351e-03,  1.84211023e-02,  1.21892625e-02,\n",
      "       -1.10609405e-01,  1.56258136e-01, -8.92910436e-02,  6.58313408e-02,\n",
      "       -7.57656917e-02,  9.03674439e-02, -1.10264542e-02, -2.37897201e-03,\n",
      "       -4.28541899e-02, -9.84926224e-02, -1.18049599e-01,  1.37136921e-01,\n",
      "       -1.05087593e-01, -2.26945341e-01,  7.92102367e-02, -4.80268151e-02,\n",
      "        7.16185197e-02,  2.54806746e-02, -1.17374346e-01,  2.30849981e-01,\n",
      "       -1.11753459e-03,  1.63858179e-02, -8.54233056e-02, -2.34086849e-02,\n",
      "       -1.05299354e-01, -6.19375482e-02, -1.02575840e-02,  8.41717795e-02,\n",
      "        6.89777061e-02,  2.89045453e-01,  9.13194790e-02,  3.51996049e-02,\n",
      "       -9.55243222e-03,  1.23711228e-01, -7.48818740e-02, -3.95473950e-02,\n",
      "       -1.60038233e-01,  7.16311187e-02, -2.76767667e-02,  2.29547068e-01,\n",
      "        3.27148288e-02, -7.85560980e-02,  6.23179227e-03,  6.08569309e-02,\n",
      "        2.53099483e-02, -1.63464457e-01, -7.92912617e-02,  3.24475095e-02,\n",
      "        8.67596120e-02, -8.67484733e-02, -3.85155482e-03, -3.91698517e-02,\n",
      "        1.54809311e-01,  4.44361791e-02, -1.83718354e-02,  2.10332960e-01,\n",
      "       -8.06899667e-02, -1.30767459e-02, -4.60114740e-02, -1.36872577e-02,\n",
      "       -8.09884816e-03, -7.91754350e-02, -2.90256664e-02,  2.20730864e-02,\n",
      "       -1.27780065e-01, -1.63175508e-01, -1.02226928e-01,  2.70699915e-02,\n",
      "       -8.36187825e-02,  1.70051932e-01, -1.34087235e-01, -1.07351355e-02,\n",
      "       -4.19363230e-02, -1.13001086e-01, -1.12695575e-01,  1.44031435e-01,\n",
      "       -8.05500150e-02,  9.05444324e-02, -9.15331617e-02, -6.98094070e-02,\n",
      "       -5.89137897e-02, -1.95947453e-01,  1.17961563e-01, -1.88021675e-01,\n",
      "       -1.93411368e-03, -1.55388102e-01,  1.28105298e-01,  1.37646347e-01,\n",
      "        4.59900424e-02, -1.90549120e-01, -4.45076488e-02, -1.05221346e-01,\n",
      "        7.11363554e-02,  4.85654511e-02, -4.40107137e-02, -6.93232194e-02,\n",
      "        9.33391452e-02,  8.13068263e-03,  1.79217700e-02, -1.20947272e-01,\n",
      "        1.79617088e-02,  1.22016594e-01, -7.35988468e-02, -2.25176290e-02,\n",
      "       -2.15000927e-01,  1.16233200e-01,  7.47444555e-02, -1.16188556e-01,\n",
      "       -3.89273912e-02, -5.72169386e-02])), ('con', array([ 2.11111111e+00,  0.00000000e+00,  5.36000000e+02,  2.56000000e+02,\n",
      "        2.10000000e+01,  2.00000000e+00,  1.00000000e+00,  0.00000000e+00,\n",
      "        0.00000000e+00,  0.00000000e+00,  0.00000000e+00,  0.00000000e+00,\n",
      "        0.00000000e+00,  0.00000000e+00,  0.00000000e+00,  0.00000000e+00,\n",
      "        0.00000000e+00,  0.00000000e+00,  2.61694845e-02,  2.19632566e-01,\n",
      "        1.24078199e-01,  1.93348184e-01, -1.66383922e-01,  9.06673148e-02,\n",
      "        8.80584400e-03,  4.50765379e-02,  8.27030018e-02,  9.98622701e-02,\n",
      "        9.63375568e-02, -5.67919575e-02, -1.02550462e-01, -2.38087505e-01,\n",
      "       -1.01936758e-01,  1.32396132e-01,  6.26547933e-02,  7.84733966e-02,\n",
      "       -2.02968810e-02,  1.10698707e-01, -1.75323352e-01, -4.36047837e-02,\n",
      "        2.23232821e-01,  7.68495649e-02, -9.99223590e-02, -1.29541576e-01,\n",
      "        7.12516531e-02, -2.99694628e-04,  3.82985175e-02,  1.03668742e-01,\n",
      "        1.77358612e-01, -5.57162724e-02,  3.19868289e-02, -6.95760176e-02,\n",
      "        3.29740569e-02, -3.91985029e-02, -7.31789926e-03,  1.83396772e-01,\n",
      "       -1.42317906e-01, -2.88340468e-02,  2.78214999e-02,  1.66213498e-01,\n",
      "       -5.12036569e-02, -9.02828351e-02, -2.07948938e-01,  4.17701416e-02,\n",
      "        1.34275347e-01,  1.31770834e-01, -9.60949510e-02, -4.93275709e-02,\n",
      "       -1.56483218e-01,  3.31172831e-02,  1.41364977e-01,  1.92653328e-01,\n",
      "       -1.33054912e-01,  6.49636537e-02, -4.87929322e-02,  1.47777542e-01,\n",
      "       -6.00101613e-03, -4.69104685e-02, -1.57010227e-01, -1.95793748e-01,\n",
      "       -8.26061517e-02, -7.16523230e-02, -8.61344710e-02, -1.02449991e-01,\n",
      "        7.90273026e-02, -1.18461689e-02, -2.79549696e-02, -2.57895350e-01,\n",
      "        2.00864404e-01,  1.68002963e-01, -4.84514758e-02, -8.21884647e-02,\n",
      "       -1.32785305e-01, -4.86924946e-02,  1.11818738e-01, -4.09716032e-02,\n",
      "        1.53130176e-03, -8.87199044e-02, -4.72885370e-02,  2.20006686e-02,\n",
      "        3.37528884e-02,  3.38943265e-02, -1.07760020e-01,  3.29043791e-02,\n",
      "       -1.66084796e-01, -3.26693878e-02, -1.20542899e-01, -1.04107298e-01,\n",
      "       -1.85191482e-01, -1.07778952e-01,  4.90764994e-03,  1.19503327e-01,\n",
      "       -1.35174487e-04,  8.85963216e-02,  6.41524419e-02, -4.03171219e-02,\n",
      "       -1.26261428e-01, -2.03052685e-01, -2.84157485e-01, -5.61853386e-02,\n",
      "        2.30888024e-01,  1.77624933e-02, -6.71793669e-02, -2.64102630e-02,\n",
      "        1.07958950e-01, -2.84834892e-01,  3.18457233e-03, -1.42382398e-01,\n",
      "       -9.77064222e-02,  2.36043185e-01,  4.82630953e-02, -8.14962164e-02,\n",
      "       -2.89458424e-01, -1.25899956e-01, -1.67919993e-01, -4.95749190e-02,\n",
      "        3.92803103e-02,  1.98666081e-01, -1.98172167e-01, -1.13484643e-01,\n",
      "        1.75224822e-02,  1.00223891e-01, -3.11775774e-01, -1.75888076e-01,\n",
      "       -5.96362725e-02,  2.12887563e-02])), ('con', array([ 2.00000000e+00,  0.00000000e+00,  9.55000000e+02,  3.51000000e+02,\n",
      "        2.20000000e+01,  1.00000000e+00,  1.00000000e+00,  0.00000000e+00,\n",
      "        0.00000000e+00,  0.00000000e+00,  0.00000000e+00,  0.00000000e+00,\n",
      "        0.00000000e+00,  0.00000000e+00,  0.00000000e+00,  0.00000000e+00,\n",
      "        0.00000000e+00,  0.00000000e+00,  5.53324120e-03,  1.99764699e-01,\n",
      "        1.56158775e-01,  5.34494519e-02, -2.59628408e-02, -1.37013599e-01,\n",
      "        1.00962423e-01, -1.43781826e-02,  2.63668537e-01,  1.39810994e-01,\n",
      "       -1.96147840e-02, -7.00022578e-02, -5.76133430e-02, -2.58321315e-02,\n",
      "       -1.51407808e-01, -8.09037760e-02,  1.60180688e-01,  1.50907651e-01,\n",
      "       -1.22196615e-01,  8.52258950e-02, -2.02039227e-01, -7.94570893e-02,\n",
      "        7.99528882e-02, -4.30761054e-02, -8.78852159e-02, -8.11054260e-02,\n",
      "        1.29081421e-02, -8.37481245e-02, -7.43597839e-03,  1.83736369e-01,\n",
      "        6.64472654e-02, -1.53132543e-01,  5.60845770e-02,  1.57636583e-01,\n",
      "        1.87856302e-01, -7.59455264e-02, -8.83054826e-03,  2.21758783e-01,\n",
      "       -1.35493845e-01,  1.08601600e-01,  9.97317731e-02,  1.03461556e-01,\n",
      "       -1.20112896e-01, -2.30978355e-02, -1.16875038e-01, -3.97399068e-03,\n",
      "        2.79091322e-03,  2.98577726e-01, -2.33852774e-01, -1.64688885e-01,\n",
      "       -9.21835303e-02, -3.42811737e-03, -1.12775676e-01, -5.38736116e-03,\n",
      "       -9.62741598e-02,  8.91339630e-02, -7.23191723e-02,  1.62035957e-01,\n",
      "       -2.29965806e-01, -7.58413896e-02,  5.13622947e-02,  1.15571348e-02,\n",
      "       -1.57574922e-01, -7.94042721e-02, -2.77241357e-02, -2.08501369e-02,\n",
      "       -9.79987811e-03, -1.70064971e-01,  4.09955978e-02,  4.50717881e-02,\n",
      "        2.45242342e-01,  2.13326603e-01,  1.03412800e-01,  2.44043916e-02,\n",
      "       -1.64939225e-01, -6.23108894e-02, -6.36966228e-02, -9.22851451e-03,\n",
      "        1.12822667e-01, -1.44825891e-01, -1.50489569e-01, -3.35341282e-02,\n",
      "        1.81768954e-01,  3.31252366e-02, -3.92683828e-03,  1.97969861e-02,\n",
      "       -1.46320285e-02, -4.72605415e-03, -7.51233324e-02,  1.73535451e-01,\n",
      "       -1.96080670e-01, -1.22367248e-01, -1.32532611e-01,  8.01254287e-02,\n",
      "        1.20555714e-01, -3.11341416e-03, -1.23730011e-01,  9.14800689e-02,\n",
      "       -1.25575690e-02,  8.32486898e-02,  3.80464420e-02, -4.19205949e-02,\n",
      "        1.82835788e-01, -6.57579079e-02, -8.84949565e-02,  5.62143559e-03,\n",
      "        8.94943476e-02, -5.34503162e-02, -1.55412098e-02,  6.37885630e-02,\n",
      "       -8.27613249e-02,  9.41959862e-03,  1.50742441e-01,  5.74821010e-02,\n",
      "       -2.90421769e-02, -5.32704704e-02, -1.33364737e-01, -3.75296548e-02,\n",
      "        4.64380942e-02,  1.79421127e-01,  1.81686021e-02,  4.25918363e-02,\n",
      "        6.94008023e-02,  1.08929031e-01, -4.02645767e-02, -1.11484922e-01,\n",
      "       -1.45613298e-01, -8.87794122e-02])), ('con', array([ 2.26666667e+00,  0.00000000e+00,  3.18500000e+03,  8.26000000e+02,\n",
      "        4.00000000e+01,  4.00000000e+00,  5.00000000e+00,  0.00000000e+00,\n",
      "        0.00000000e+00,  0.00000000e+00,  0.00000000e+00,  0.00000000e+00,\n",
      "        0.00000000e+00,  0.00000000e+00,  0.00000000e+00,  0.00000000e+00,\n",
      "        0.00000000e+00,  0.00000000e+00,  3.36719044e-02, -1.88554630e-01,\n",
      "        2.07375273e-01,  3.14710796e-01, -2.36941591e-01,  1.54974341e-01,\n",
      "        3.23169053e-01, -3.38992834e-01,  1.53353676e-01, -3.44069004e-01,\n",
      "       -7.90948942e-02, -1.38063252e-01,  1.77347705e-01, -1.47712544e-01,\n",
      "        1.15906432e-01, -1.64002180e-01,  7.61155039e-02, -1.79403778e-02,\n",
      "        4.45276834e-02,  2.38011852e-01, -1.88504189e-01, -2.77646091e-02,\n",
      "        3.14106524e-01, -1.42235234e-01,  1.32327899e-01, -7.44525641e-02,\n",
      "        2.09284457e-03,  1.61899522e-01, -1.02402478e-01, -2.56470591e-01,\n",
      "        4.63195145e-01, -3.56309861e-01,  5.64780086e-02,  1.10366687e-01,\n",
      "       -3.25548276e-02,  1.46699741e-01,  1.89194679e-02,  1.75249338e-01,\n",
      "       -2.45439056e-02,  4.82300948e-03, -6.92238063e-02,  1.47684980e-02,\n",
      "       -2.28188053e-01, -5.72075211e-02, -3.24894153e-02,  4.40478772e-02,\n",
      "       -1.22393519e-01,  2.70132780e-01, -2.05569923e-01,  8.40481557e-03,\n",
      "       -2.95616351e-02,  5.04488833e-02, -1.99542195e-01,  1.76264241e-01,\n",
      "       -3.57301906e-02,  7.88674876e-02,  2.39535272e-01, -3.97683238e-04,\n",
      "       -1.73722431e-01, -1.66375220e-01,  7.36340061e-02,  1.64993200e-02,\n",
      "       -1.84358726e-03,  1.32538542e-01, -2.81531774e-02, -1.25291541e-01,\n",
      "        4.98515479e-02,  1.40580997e-01, -1.10479519e-01,  2.35780686e-01,\n",
      "        5.96678518e-02,  5.74232675e-02,  1.78777829e-01, -1.90091312e-01,\n",
      "       -1.57562166e-01,  6.31276071e-02, -3.98456468e-05, -1.28871471e-01,\n",
      "        7.29743615e-02,  1.72163174e-02, -2.03879222e-01, -1.11329876e-01,\n",
      "       -1.97412580e-01, -1.61294952e-01, -5.38215798e-04, -1.06545821e-01,\n",
      "        1.70089632e-01,  2.80556709e-01, -2.07111284e-01,  2.93384969e-01,\n",
      "       -3.58692296e-02,  4.82329577e-02, -4.07984070e-02,  3.21657769e-02,\n",
      "       -1.17777802e-01, -7.52922148e-02,  6.79665655e-02, -1.37832478e-01,\n",
      "       -5.47103956e-03, -1.10195033e-01, -9.93257761e-02, -1.18570648e-01,\n",
      "        1.81205701e-02, -4.07248586e-02, -7.90088102e-02,  2.06616282e-01,\n",
      "       -6.08015014e-03, -1.69846386e-01, -2.92973280e-01,  1.44672036e-01,\n",
      "       -5.50854877e-02,  2.47646958e-01, -9.42017213e-02, -4.94960286e-02,\n",
      "       -3.60491760e-02, -2.46759802e-01,  3.49138468e-03, -1.71557575e-01,\n",
      "        1.81809530e-01, -1.19153604e-01, -1.31080732e-01,  2.53298253e-01,\n",
      "       -6.85302541e-02, -1.24380440e-02, -2.06113830e-02, -1.01164043e-01,\n",
      "       -1.01803310e-01,  1.77843988e-01])), ('con', array([ 2.00000000e+00,  0.00000000e+00,  7.80000000e+01,  7.50000000e+01,\n",
      "        1.10000000e+01,  1.00000000e+00,  0.00000000e+00,  0.00000000e+00,\n",
      "        0.00000000e+00,  0.00000000e+00,  0.00000000e+00,  0.00000000e+00,\n",
      "        0.00000000e+00,  0.00000000e+00,  0.00000000e+00,  0.00000000e+00,\n",
      "        0.00000000e+00,  0.00000000e+00,  1.57146156e-02,  1.38631940e-01,\n",
      "        1.27639994e-01,  8.88811424e-02, -1.76380612e-02,  3.85945812e-02,\n",
      "        1.02363996e-01, -6.62916079e-02,  8.95706788e-02,  8.60450938e-02,\n",
      "        1.61538441e-02, -1.10435054e-01,  7.05155917e-03,  1.63619611e-02,\n",
      "       -1.10959083e-01, -1.57937691e-01, -7.83735327e-03,  1.42368436e-01,\n",
      "       -2.47169081e-02,  4.45751734e-02, -1.54553756e-01,  6.51368722e-02,\n",
      "        7.69778192e-02, -3.29351723e-02, -2.96005532e-02, -2.08945777e-02,\n",
      "        3.08953356e-02, -1.94588918e-02,  3.15509886e-02,  9.55213681e-02,\n",
      "        1.07485324e-01, -7.62211829e-02, -6.86037645e-04,  9.05507654e-02,\n",
      "        8.81498903e-02,  5.72069325e-02, -3.34858820e-02, -6.03261683e-03,\n",
      "       -2.52153147e-02,  1.45464599e-01, -7.32297227e-02,  1.12832010e-01,\n",
      "       -2.44954098e-02, -9.07057431e-03, -3.83562781e-02,  8.58108848e-02,\n",
      "        1.09993033e-01,  1.31211028e-01, -2.02513002e-02,  7.93939363e-03,\n",
      "        8.38629995e-03,  8.20213780e-02, -7.91530684e-03, -6.01632856e-02,\n",
      "       -2.30411123e-02,  1.19769037e-01,  5.90595230e-02,  6.99980184e-02,\n",
      "       -5.06940745e-02, -3.16854417e-02, -5.91122285e-02,  8.75675753e-02,\n",
      "       -3.89906801e-02,  2.11419277e-02, -7.28696063e-02, -9.55195725e-02,\n",
      "        3.08643542e-02,  8.16907883e-02, -4.25673947e-02, -5.21296822e-02,\n",
      "        6.80926666e-02,  4.79948558e-02, -3.90773825e-02,  2.25097109e-02,\n",
      "       -1.14193864e-01,  5.60552552e-02, -4.81087416e-02,  4.46268283e-02,\n",
      "        2.74422187e-02, -5.21649569e-02,  6.81850314e-03, -7.95243531e-02,\n",
      "        4.10440862e-02, -1.89307351e-02, -1.50042146e-01,  2.41423473e-02,\n",
      "       -9.40610245e-02, -9.14411992e-03, -1.27676219e-01,  1.10821538e-01,\n",
      "       -6.42049983e-02, -3.77015546e-02, -7.72969648e-02,  1.17611587e-01,\n",
      "       -3.44237462e-02,  1.26933649e-01,  2.91305929e-02,  4.18211147e-02,\n",
      "       -1.07459337e-01, -2.58474946e-02,  7.84674510e-02, -1.59567893e-01,\n",
      "        1.39122844e-01, -2.04846635e-01,  4.26315097e-03,  2.02988133e-01,\n",
      "       -9.38567682e-04, -8.05931836e-02, -2.43203882e-02,  6.10118732e-02,\n",
      "        4.43886369e-02,  2.84437221e-02,  1.16978474e-01,  2.29865313e-02,\n",
      "       -3.74978743e-02, -4.66043688e-02,  5.16056791e-02,  3.30037391e-03,\n",
      "        1.47323329e-02,  4.84516509e-02,  4.34234366e-02,  8.23255703e-02,\n",
      "        1.87499579e-02, -3.76341981e-03, -2.34197769e-02, -1.43129334e-01,\n",
      "       -1.60396606e-01,  7.11537898e-02])), ('con', array([ 2.42105263e+00,  4.67836257e-03,  6.88400000e+03,  1.44900000e+03,\n",
      "        7.20000000e+01,  1.50000000e+01,  1.50000000e+01,  1.00000000e+00,\n",
      "        0.00000000e+00,  0.00000000e+00,  0.00000000e+00,  0.00000000e+00,\n",
      "        0.00000000e+00,  0.00000000e+00,  0.00000000e+00,  0.00000000e+00,\n",
      "        0.00000000e+00,  0.00000000e+00,  1.12129331e-01, -3.92781012e-03,\n",
      "        2.54814237e-01, -3.28086242e-02, -2.55612254e-01, -1.99092865e-01,\n",
      "        9.76165906e-02,  2.06751153e-01,  1.11421980e-01,  7.69876167e-02,\n",
      "        1.03736739e-03, -5.25586866e-03,  5.32676615e-02, -8.42199475e-02,\n",
      "        2.12814674e-01,  4.11825925e-02, -1.61761940e-01,  9.23078284e-02,\n",
      "       -2.26659983e-01, -1.33426830e-01, -1.69804066e-01, -1.61387056e-01,\n",
      "        8.51826817e-02, -5.20755947e-02, -3.35358679e-02,  2.16410488e-01,\n",
      "        2.68528581e-01, -2.53724843e-01, -7.18578026e-02, -1.49497569e-01,\n",
      "        9.21699703e-02,  1.73944887e-02, -1.73187360e-01,  8.66037011e-02,\n",
      "       -1.15141901e-03, -2.36840770e-02,  1.91489533e-02,  3.62266243e-01,\n",
      "       -7.84349442e-02, -1.95497945e-01,  1.00140043e-01,  1.61368579e-01,\n",
      "       -5.71766729e-03, -1.81455985e-02, -4.95298095e-02,  1.63332433e-01,\n",
      "       -6.41341731e-02,  1.28484532e-01, -2.50000656e-01,  2.00761762e-02,\n",
      "       -1.84982583e-01,  6.41508847e-02, -8.94379392e-02,  8.46121460e-02,\n",
      "        1.23592496e-01, -1.00920059e-01,  4.13729101e-02,  1.81340590e-01,\n",
      "        1.58309061e-02, -1.61381741e-03, -4.39654887e-02, -1.48975804e-01,\n",
      "       -3.50062326e-02, -1.76570237e-01, -1.59122989e-01, -2.75259376e-01,\n",
      "        5.58231585e-02, -2.28372291e-02,  8.23615566e-02,  3.28574181e-02,\n",
      "        1.87150002e-01,  1.54831663e-01, -1.43356368e-01, -7.03598559e-02,\n",
      "        2.69003734e-02, -1.00516044e-01, -8.99287984e-02,  5.54534718e-02,\n",
      "       -3.41846421e-02,  1.54629067e-01,  1.20075606e-02,  1.25525564e-01,\n",
      "       -1.54934108e-01, -6.66409507e-02, -1.35117024e-01,  2.38844648e-01,\n",
      "       -1.07505456e-01,  8.81866366e-02, -2.25564446e-02,  5.12001030e-02,\n",
      "       -7.68698081e-02, -1.40104830e-01, -6.16204925e-02, -5.00433296e-02,\n",
      "        1.34433016e-01, -2.41239052e-02,  1.64339349e-01,  1.69462711e-01,\n",
      "        2.42914811e-01, -2.26044029e-01,  1.61509454e-01,  3.55598867e-01,\n",
      "        2.41193190e-01, -6.95675462e-02,  3.25408056e-02, -1.06553674e-01,\n",
      "        1.50574818e-01, -2.83897609e-01, -1.12231672e-01, -1.87568724e-01,\n",
      "       -2.68275410e-01,  1.70621723e-01,  4.19875681e-01,  3.33772838e-01,\n",
      "       -2.20746800e-01, -1.60145178e-01, -3.95853341e-01, -7.95599744e-02,\n",
      "       -4.20551091e-01, -5.70935756e-02, -1.90372735e-01,  9.85689461e-02,\n",
      "       -1.93844423e-01,  1.25891119e-01, -7.71844387e-02, -1.34538978e-01,\n",
      "       -2.63387114e-01,  2.07503423e-01])), ('con', array([ 1.86666667e+00,  0.00000000e+00,  2.86000000e+02,  1.56000000e+02,\n",
      "        1.30000000e+01,  0.00000000e+00,  0.00000000e+00,  0.00000000e+00,\n",
      "        0.00000000e+00,  0.00000000e+00,  0.00000000e+00,  0.00000000e+00,\n",
      "        0.00000000e+00,  0.00000000e+00,  0.00000000e+00,  0.00000000e+00,\n",
      "        0.00000000e+00,  0.00000000e+00,  1.03980906e-01,  2.05004960e-01,\n",
      "        1.87009633e-01, -4.06533293e-02,  2.17965543e-02, -1.88433900e-01,\n",
      "        8.66754949e-02, -1.72235742e-01,  1.95796892e-01, -6.46640733e-02,\n",
      "       -7.15649500e-02,  5.83205521e-02,  1.96733009e-02, -6.08677454e-02,\n",
      "       -2.58076817e-01, -1.82445019e-01,  1.57297909e-01,  2.07380310e-01,\n",
      "        1.35511067e-02,  3.37596983e-02, -2.02961087e-01,  4.03502919e-02,\n",
      "        8.42846036e-02,  2.16055252e-02,  5.50726894e-04, -1.55471295e-01,\n",
      "       -5.80610558e-02, -1.20228253e-01, -6.68560266e-02, -9.30090174e-02,\n",
      "        2.48965845e-01, -2.25523099e-01,  3.16268043e-03, -2.13431381e-02,\n",
      "        6.02252446e-02, -3.12301088e-02, -1.28783628e-01,  2.33063921e-01,\n",
      "        8.10254961e-02, -2.18618438e-02,  3.88579257e-02,  1.16760790e-01,\n",
      "       -6.16419408e-03, -2.37340908e-02, -1.11520275e-01,  9.95742753e-02,\n",
      "        1.04479343e-01,  8.39494094e-02, -1.37897700e-01, -8.32889155e-02,\n",
      "       -1.57782421e-01,  8.62061861e-05, -3.14178839e-02,  8.15381017e-03,\n",
      "       -5.40408008e-02,  2.70596892e-02,  1.60117179e-01,  2.93471888e-02,\n",
      "       -2.91317441e-02,  3.33392285e-02, -1.03583261e-01,  4.43996675e-03,\n",
      "       -4.31280509e-02,  3.57699245e-02, -1.27279863e-01, -1.34338671e-02,\n",
      "        4.11697328e-02,  2.71851756e-02, -3.15163322e-02,  4.37153094e-02,\n",
      "        1.48981243e-01,  1.30438522e-01,  4.09220681e-02,  9.93076265e-02,\n",
      "       -1.38718918e-01,  3.46541218e-02,  1.22964121e-02, -1.06991157e-01,\n",
      "        2.32747365e-02, -3.90092097e-02, -4.35633510e-02,  8.32480863e-02,\n",
      "       -3.30449361e-03, -4.04277779e-02, -9.48094577e-02, -5.37714325e-02,\n",
      "       -8.90152454e-02,  8.54916871e-02, -6.84281737e-02, -1.04123287e-01,\n",
      "        1.15858577e-02, -2.01746505e-02,  1.09978653e-02,  3.65593471e-02,\n",
      "       -4.57768105e-02, -1.86537160e-03, -3.40232044e-03,  1.69489868e-02,\n",
      "       -1.31944656e-01, -5.91168888e-02, -3.30640525e-02, -5.15680686e-02,\n",
      "        1.15426742e-01, -4.72715907e-02,  7.45342448e-02, -9.25099850e-02,\n",
      "       -1.45084960e-02, -1.53565556e-01, -9.26866755e-02,  2.31884681e-02,\n",
      "       -5.52440025e-02,  7.32817501e-02, -2.65116971e-02, -3.74013819e-02,\n",
      "       -1.93695985e-02, -7.03305379e-02,  5.25885299e-02, -1.24968030e-02,\n",
      "       -1.50985867e-01, -9.61739719e-02, -2.36827042e-02,  1.46783665e-02,\n",
      "       -3.52999894e-04,  6.96120262e-02, -1.94085063e-03, -6.32517189e-02,\n",
      "       -3.87887917e-02, -1.87262017e-02])), ('con', array([ 2.00000000e+00,  0.00000000e+00,  9.70000000e+02,  3.23000000e+02,\n",
      "        1.80000000e+01,  0.00000000e+00,  0.00000000e+00,  0.00000000e+00,\n",
      "        0.00000000e+00,  1.70000000e+01,  1.00000000e+00,  1.00000000e+00,\n",
      "        0.00000000e+00,  0.00000000e+00,  0.00000000e+00,  0.00000000e+00,\n",
      "        0.00000000e+00,  0.00000000e+00,  1.53109163e-01,  1.48249760e-01,\n",
      "       -5.74227422e-02,  1.68122977e-01, -2.50714272e-01, -1.55396596e-01,\n",
      "        9.04246122e-02,  5.08517511e-02,  1.79608047e-01,  1.95217773e-01,\n",
      "       -1.69300269e-02,  1.52601779e-01, -2.12087989e-01, -1.82365239e-01,\n",
      "       -8.89764875e-02, -2.45197117e-01,  1.82117522e-01, -4.56710868e-02,\n",
      "       -1.56491414e-01,  4.54668030e-02, -2.23755226e-01,  7.52248466e-02,\n",
      "        3.49265598e-02, -5.46668321e-02, -8.76888409e-02, -2.01860052e-02,\n",
      "       -4.93208319e-02,  1.41616568e-01, -1.52314886e-01, -8.78126621e-02,\n",
      "        2.16171920e-01, -6.11690879e-02,  1.18721731e-01,  6.82746693e-02,\n",
      "        2.30274349e-02, -3.53069976e-02,  1.37331247e-01,  7.69789293e-02,\n",
      "       -5.27580827e-02, -6.44656047e-02,  1.12091564e-01,  2.06495523e-01,\n",
      "       -2.53633913e-02,  3.01689971e-02, -6.36669174e-02,  2.05701888e-01,\n",
      "        1.46783069e-01,  5.80698848e-02, -1.69955105e-01,  4.28322749e-03,\n",
      "       -1.42318353e-01,  1.08835235e-01, -5.36185876e-02, -1.21553345e-02,\n",
      "        4.23985068e-03,  1.75508678e-01,  1.06920302e-01,  1.11365337e-02,\n",
      "       -3.65832038e-02,  1.65003736e-03,  3.01383939e-02, -1.11356795e-01,\n",
      "       -1.12234272e-01,  8.80773272e-03, -8.78582522e-02, -4.55445126e-02,\n",
      "        5.20406365e-02, -7.05519840e-02, -2.79598893e-03, -1.39584271e-02,\n",
      "       -5.43141775e-02,  1.25636265e-01,  9.78825986e-02,  1.09442845e-01,\n",
      "       -9.91953164e-02,  1.02593400e-01, -1.56828463e-01, -1.92745313e-01,\n",
      "       -8.23372751e-02, -1.45494834e-01, -1.39852703e-01,  1.98535025e-01,\n",
      "       -2.33049586e-01, -4.77765799e-02,  5.17261736e-02,  1.04034021e-01,\n",
      "       -1.44880354e-01,  1.43001899e-01,  3.05370353e-02, -8.23257044e-02,\n",
      "       -2.52103303e-02, -1.23088002e-01,  8.68176445e-02,  9.18308273e-03,\n",
      "        1.46021601e-02,  1.26721859e-01,  6.21770807e-02, -1.61800310e-01,\n",
      "       -7.11262748e-02, -1.34964317e-01,  1.99343488e-01, -1.88358858e-01,\n",
      "        4.92253061e-03, -2.23081149e-02, -1.56895861e-01,  1.39704958e-01,\n",
      "       -1.48980707e-01, -1.19623527e-01, -9.40910056e-02, -2.87514031e-01,\n",
      "       -9.43012312e-02,  3.52831297e-02, -1.92304805e-01, -7.84637928e-02,\n",
      "       -1.08313181e-01,  1.37383357e-01, -2.49167290e-02, -4.59741466e-02,\n",
      "        6.60137981e-02,  1.50303394e-02,  3.20794545e-02,  2.40684524e-01,\n",
      "       -1.26571029e-01, -6.72887638e-02,  2.58343592e-02, -5.47688641e-02,\n",
      "       -2.10948125e-01,  9.40771848e-02])), ('con', array([ 2.28571429e+00,  3.33333333e-02,  9.15000000e+02,  3.75000000e+02,\n",
      "        3.10000000e+01,  4.00000000e+00,  4.00000000e+00,  0.00000000e+00,\n",
      "        1.00000000e+00,  0.00000000e+00,  0.00000000e+00,  0.00000000e+00,\n",
      "        0.00000000e+00,  0.00000000e+00,  0.00000000e+00,  0.00000000e+00,\n",
      "        0.00000000e+00,  0.00000000e+00, -7.99191371e-02, -1.73945923e-03,\n",
      "        2.13892967e-01, -3.39628384e-02,  5.13469540e-02,  2.35812273e-03,\n",
      "        5.75614348e-02,  8.44045077e-03,  2.39303976e-01,  8.21954906e-02,\n",
      "       -9.19357315e-03,  9.92077123e-03,  4.05074134e-02, -1.61860622e-02,\n",
      "        1.19133033e-01, -9.96985957e-02,  3.31452340e-02, -2.00874835e-01,\n",
      "        3.28888968e-02,  2.29505092e-01, -5.83541812e-03,  1.86850578e-02,\n",
      "       -7.81824514e-02, -3.45322452e-02, -1.30403861e-01, -8.61832947e-02,\n",
      "        6.93612825e-03,  2.51618661e-02,  1.05923392e-01,  8.81031454e-02,\n",
      "        4.10539359e-02,  5.27339913e-02,  1.95623096e-02, -3.23358700e-02,\n",
      "       -5.48009388e-02,  2.94867679e-02, -1.16942361e-01,  1.53274581e-01,\n",
      "       -8.75645205e-02,  1.26988545e-01, -1.15053825e-01,  1.60539687e-01,\n",
      "       -5.61054870e-02, -7.45518357e-02,  9.53259096e-02,  1.33728072e-01,\n",
      "        1.69097647e-01,  1.90010130e-01, -9.18580405e-03, -2.89918315e-02,\n",
      "       -2.99966067e-01,  9.09500718e-02, -3.55306827e-02, -1.09459296e-01,\n",
      "       -4.44523506e-02,  1.82389051e-01,  1.70966029e-01,  1.37371272e-01,\n",
      "        7.59138539e-02, -2.42554143e-01, -6.17565140e-02, -1.09754667e-01,\n",
      "       -6.67616129e-02, -1.58794835e-01, -1.05054475e-01, -7.54058212e-02,\n",
      "        1.06824055e-01, -1.32659853e-01,  3.73456925e-02, -1.49090275e-01,\n",
      "        2.00584278e-01,  2.17574969e-01, -1.68969743e-02,  1.84899867e-01,\n",
      "       -1.36586860e-01, -1.23937555e-01,  5.44741862e-02,  8.29979479e-02,\n",
      "       -4.60363403e-02, -1.62106246e-01, -1.42638594e-01,  1.50643466e-02,\n",
      "        2.40853474e-01, -8.40222761e-02, -1.54034391e-01,  1.22152418e-01,\n",
      "       -1.93893716e-01,  8.61546863e-03, -7.62788281e-02,  1.48207963e-01,\n",
      "       -5.18369973e-02, -1.27241403e-01, -4.34709489e-02,  1.74140766e-01,\n",
      "        1.12310447e-01,  1.21752568e-01,  7.88888708e-02,  9.86956432e-03,\n",
      "       -6.26423284e-02, -1.31234854e-01,  4.41068076e-02, -2.36585453e-01,\n",
      "        1.67627275e-01,  5.46292923e-02,  2.09054649e-02, -4.78328541e-02,\n",
      "       -9.30378214e-02, -2.03402340e-01, -6.72925934e-02, -1.51815981e-01,\n",
      "       -4.01086770e-02,  1.59977064e-01, -2.50994731e-02,  1.00290217e-02,\n",
      "       -5.10789119e-02, -1.49241596e-01, -7.34651163e-02, -2.17910096e-01,\n",
      "        1.51947113e-02,  7.10204020e-02, -3.01041882e-02, -4.48555686e-02,\n",
      "        1.77928004e-02,  1.43266007e-01,  8.12022295e-03,  3.96174900e-02,\n",
      "        8.75676051e-02, -1.46633005e-02])), ('con', array([ 2.56250000e+00,  6.89765963e-02,  3.86300000e+03,  9.75000000e+02,\n",
      "        6.10000000e+01,  1.40000000e+01,  1.40000000e+01,  2.00000000e+00,\n",
      "        1.00000000e+00,  2.20000000e+01,  4.00000000e+00,  4.00000000e+00,\n",
      "        0.00000000e+00,  0.00000000e+00,  0.00000000e+00,  0.00000000e+00,\n",
      "        0.00000000e+00,  0.00000000e+00, -2.39612743e-01,  2.03167811e-01,\n",
      "        2.04663843e-01,  1.25907809e-02, -8.48303437e-02, -1.05884902e-01,\n",
      "        1.80634215e-01,  9.88038555e-02,  2.06934229e-01,  8.44141915e-02,\n",
      "       -5.85263930e-02, -1.43263862e-01, -2.10801810e-01, -4.67626899e-02,\n",
      "       -1.44054487e-01,  2.46745590e-02,  5.75421713e-02, -3.44806194e-01,\n",
      "       -1.08631149e-01,  9.03781876e-02, -1.68859407e-01, -4.73126629e-03,\n",
      "        6.34123757e-02, -2.73181707e-01,  9.27116722e-02,  3.85762334e-01,\n",
      "       -6.47687167e-02, -1.54506892e-01, -1.41338602e-01,  8.04123804e-02,\n",
      "       -5.43971434e-02, -2.21770540e-01, -1.91486850e-02, -3.81636694e-02,\n",
      "       -4.77625690e-02,  3.41383606e-01, -1.72189120e-02, -8.52443054e-02,\n",
      "       -2.05307722e-01, -3.08187455e-02, -1.65142700e-01,  1.55052200e-01,\n",
      "       -2.77965248e-01, -5.76388370e-03, -3.97161096e-01,  7.05782371e-03,\n",
      "        9.91596878e-02, -9.28989872e-02, -1.75026655e-01,  2.18143538e-02,\n",
      "        7.29689226e-02,  1.30603805e-01,  7.07999989e-02,  9.49608982e-02,\n",
      "        9.78362784e-02, -5.74124716e-02,  7.48827457e-02,  2.99692959e-01,\n",
      "       -3.46922964e-01, -2.68898219e-01, -6.96988180e-02, -3.97201031e-02,\n",
      "       -1.95933744e-01, -8.53489339e-02, -4.22400147e-01, -1.69639423e-01,\n",
      "        1.72124244e-02, -3.21931362e-01, -3.84929217e-02, -1.82188869e-01,\n",
      "        2.82320857e-01,  2.48871237e-01, -4.01281081e-02,  1.56436279e-01,\n",
      "       -2.05585197e-01, -1.01077035e-02, -8.45163241e-02, -1.72359287e-03,\n",
      "        7.17076138e-02, -1.17229410e-01,  1.83494002e-01, -1.74532011e-01,\n",
      "       -1.43527389e-01, -1.42236069e-01, -2.06178930e-02, -3.11661381e-02,\n",
      "        5.85733028e-03,  3.18328053e-01,  1.98907897e-01, -9.16919485e-02,\n",
      "        3.14477608e-02,  3.57856333e-01,  3.43028188e-01,  5.50368018e-02,\n",
      "       -2.10215747e-01, -2.74979882e-02, -6.68107644e-02,  2.47626275e-01,\n",
      "       -1.32178232e-01,  2.67552529e-02, -8.04514214e-02, -5.58522284e-01,\n",
      "        5.21472609e-03,  1.03314407e-01,  1.43093735e-01,  3.06227501e-03,\n",
      "        4.83730212e-02, -4.85722065e-01,  1.39124930e-01, -5.02694488e-01,\n",
      "       -2.28774995e-02, -6.68830499e-02,  1.49733603e-01, -2.79173195e-01,\n",
      "       -4.27482605e-01, -7.56599680e-02, -4.02292646e-02, -3.63541991e-02,\n",
      "        5.50426506e-02, -4.37837504e-02,  4.18515019e-02, -3.88113260e-02,\n",
      "        1.06913000e-01, -1.60565332e-01, -2.88818460e-02,  1.06741495e-01,\n",
      "       -2.31873155e-01,  1.45966291e-01])), ('con', array([ 2.33333333e+00,  1.69642857e-01,  5.37000000e+02,  2.27000000e+02,\n",
      "        2.10000000e+01,  6.00000000e+00,  6.00000000e+00,  3.00000000e+00,\n",
      "        0.00000000e+00,  1.40000000e+01,  1.00000000e+00,  1.00000000e+00,\n",
      "        0.00000000e+00,  0.00000000e+00,  0.00000000e+00,  0.00000000e+00,\n",
      "        0.00000000e+00,  0.00000000e+00, -7.27069005e-02,  3.01348120e-01,\n",
      "        2.09766641e-01, -1.77528962e-01,  1.07376492e-02, -2.71804035e-02,\n",
      "       -1.74534142e-01,  3.59979048e-02,  2.31705047e-02,  2.30764747e-02,\n",
      "        9.96554457e-03,  5.63403293e-02,  2.32655242e-01,  1.18354380e-01,\n",
      "       -8.32085684e-02, -4.02072929e-02,  1.18112534e-01, -2.40175262e-01,\n",
      "       -1.78661086e-02, -4.07520793e-02, -2.23217979e-02,  2.78771911e-02,\n",
      "       -5.34247383e-02,  4.68045287e-02,  8.38468820e-02, -8.01117346e-02,\n",
      "        4.48948406e-02,  1.46188186e-02, -9.15478542e-02,  9.31947492e-03,\n",
      "       -1.38917216e-03, -7.43639246e-02,  8.36211219e-02,  5.34253381e-02,\n",
      "        5.08219413e-02,  3.45748141e-02, -9.40266550e-02,  1.70097724e-01,\n",
      "       -1.28605634e-01, -7.50715211e-02,  2.45126076e-02,  9.66452882e-02,\n",
      "       -9.65919532e-03,  1.37060568e-01, -4.89165448e-02,  7.24023506e-02,\n",
      "        7.09872842e-02,  4.09183390e-02, -8.58512148e-02, -4.24703769e-02,\n",
      "       -5.66084273e-02,  7.33190551e-02,  1.17717355e-01, -6.39793947e-02,\n",
      "       -8.79428629e-03, -8.06597546e-02,  9.04343799e-02,  1.95953295e-01,\n",
      "       -8.83951336e-02,  7.09328353e-02, -2.13742033e-02, -9.13992375e-02,\n",
      "       -1.07421376e-01, -7.76359364e-02, -6.36835471e-02, -5.53882010e-02,\n",
      "       -3.45401280e-02, -2.42706761e-01, -1.18323397e-02,  2.71487213e-03,\n",
      "        2.78609172e-02,  1.97879702e-01,  3.97266932e-02, -1.05512990e-02,\n",
      "       -1.30448759e-01,  6.35516196e-02, -1.21993832e-02, -1.26032367e-01,\n",
      "        3.70993167e-02,  2.02227786e-01, -1.94217518e-01, -9.60635617e-02,\n",
      "        1.81936100e-02,  4.67889160e-02, -5.19724796e-03,  7.24580437e-02,\n",
      "        5.37199639e-02, -2.55827457e-02, -4.58219312e-02,  4.52575088e-02,\n",
      "        1.65160503e-02, -8.71091858e-02, -7.74565265e-02,  1.39153570e-01,\n",
      "        5.72675616e-02,  8.50809366e-03,  9.41759944e-02,  1.48412946e-04,\n",
      "       -5.77181997e-03,  9.55039263e-02,  9.80632007e-03, -1.20222203e-01,\n",
      "        3.00467074e-01, -2.66265601e-01, -1.47473305e-01, -1.02520429e-01,\n",
      "       -9.47615504e-02, -1.83634505e-01, -2.31794372e-01, -3.98530588e-02,\n",
      "       -6.06989041e-02,  2.11407512e-01,  1.49389833e-01,  8.60729143e-02,\n",
      "       -3.14218476e-02, -9.11500305e-02, -7.89013039e-03,  7.17756227e-02,\n",
      "        1.27630001e-02,  1.12458222e-01, -3.70738134e-02,  5.05974069e-02,\n",
      "       -4.69690897e-02, -1.62764937e-02, -3.77991311e-02, -3.50204147e-02,\n",
      "        1.92335583e-02, -1.01171352e-01])), ('con', array([ 2.00000000e+00,  5.15873016e-02,  9.54000000e+02,  3.54000000e+02,\n",
      "        1.90000000e+01,  1.00000000e+00,  1.00000000e+00,  1.00000000e+00,\n",
      "        0.00000000e+00,  0.00000000e+00,  0.00000000e+00,  0.00000000e+00,\n",
      "        0.00000000e+00,  0.00000000e+00,  0.00000000e+00,  0.00000000e+00,\n",
      "        0.00000000e+00,  0.00000000e+00,  7.16546699e-02,  2.75425166e-01,\n",
      "        7.12724477e-02, -3.41118872e-02, -1.54499799e-01, -3.03643616e-03,\n",
      "       -1.00057222e-01, -3.54191326e-02,  9.04729888e-02,  1.08281881e-01,\n",
      "       -3.58141214e-02, -1.78136844e-02, -1.73651706e-02,  2.31839418e-02,\n",
      "       -3.43482643e-01,  6.33638948e-02,  9.53412242e-03, -8.81878957e-02,\n",
      "       -5.52654006e-02,  1.08138554e-01, -2.15563089e-01,  3.37222427e-01,\n",
      "       -9.90900248e-02, -7.77184367e-02, -2.00979635e-02,  1.73064068e-01,\n",
      "        1.45655632e-01,  1.49554834e-01,  1.21886894e-01, -3.64195071e-02,\n",
      "        6.20459504e-02, -7.35266730e-02, -6.81611076e-02,  9.88442898e-02,\n",
      "       -3.33604664e-02,  6.89412132e-02, -2.19321325e-01,  2.19080970e-01,\n",
      "       -1.46648452e-01,  4.00004983e-02,  1.99037232e-02, -8.50788280e-02,\n",
      "       -6.23686388e-02,  7.90352598e-02, -5.82506843e-02,  1.22545706e-02,\n",
      "       -6.53336570e-02,  1.95171431e-01,  8.91904160e-02, -2.08301261e-01,\n",
      "       -1.02164350e-01,  4.96218912e-02, -3.00306845e-02,  2.00464074e-02,\n",
      "       -9.16312784e-02,  1.94126368e-01,  3.09978388e-02,  3.36865723e-01,\n",
      "        1.54086098e-01, -5.71983773e-03, -1.12436511e-01, -8.56546015e-02,\n",
      "       -8.95908326e-02, -2.18202665e-01, -1.48515776e-01,  4.56891023e-02,\n",
      "        7.18838498e-02, -1.71895191e-01, -4.10132073e-02, -4.10775542e-02,\n",
      "        2.62204200e-01,  1.38981938e-01, -1.13353901e-01,  2.01293677e-02,\n",
      "        2.04539578e-02,  1.29990727e-02,  2.33240440e-01,  1.84723139e-02,\n",
      "       -1.27013057e-01, -5.00685275e-02, -1.91457644e-01,  5.67102395e-02,\n",
      "        2.31132451e-02, -1.81380883e-02, -1.93880945e-01,  2.21225709e-01,\n",
      "       -7.40878433e-02,  1.42733455e-01, -1.43878520e-01,  3.31740193e-02,\n",
      "       -1.33447111e-01, -1.20898103e-02, -7.17781708e-02,  3.02392662e-01,\n",
      "        5.20441309e-02,  1.80545282e-02,  1.62549559e-02,  8.97201970e-02,\n",
      "        1.44647405e-04, -2.51864716e-02, -2.08764628e-01, -1.73053831e-01,\n",
      "       -4.07994092e-02, -9.47207212e-02,  5.24502918e-02,  4.78015607e-03,\n",
      "       -1.03476368e-01, -2.60069430e-01, -1.65867060e-01, -9.33810920e-02,\n",
      "        7.52527043e-02,  2.79422775e-02,  1.50577918e-01,  3.15182470e-02,\n",
      "       -1.18399151e-01,  3.26988213e-02, -1.83514375e-02,  1.11755580e-01,\n",
      "       -3.25705409e-02,  1.62744208e-03,  7.61080068e-03, -2.21137449e-01,\n",
      "        1.67286813e-01,  9.72230136e-02, -2.31572598e-01, -9.71370563e-02,\n",
      "       -1.17477449e-02,  1.21109522e-04])), ('con', array([ 2.33333333e+00,  0.00000000e+00,  1.15000000e+02,  8.30000000e+01,\n",
      "        1.10000000e+01,  0.00000000e+00,  1.00000000e+00,  0.00000000e+00,\n",
      "        0.00000000e+00,  7.00000000e+00,  2.00000000e+00,  1.00000000e+00,\n",
      "        0.00000000e+00,  0.00000000e+00,  0.00000000e+00,  0.00000000e+00,\n",
      "        0.00000000e+00,  0.00000000e+00, -7.23370686e-02,  1.57803178e-01,\n",
      "        2.29475573e-02,  1.18333166e-02, -2.22273115e-02, -5.73161058e-02,\n",
      "       -9.28553939e-03, -9.04232189e-02,  2.24475592e-01, -1.38963936e-02,\n",
      "        5.22814766e-02,  8.41279700e-03,  5.76598234e-02, -1.58103049e-01,\n",
      "        2.65676416e-02, -1.27049446e-01, -3.74882855e-02,  8.84512886e-02,\n",
      "       -4.35875952e-02,  1.54556870e-01, -1.60011858e-01,  1.74821898e-01,\n",
      "       -5.56504987e-02,  7.18971267e-02, -5.20951971e-02,  9.85955372e-02,\n",
      "        4.96188626e-02, -2.00223595e-01, -8.64376798e-02,  1.92914248e-01,\n",
      "        1.43640652e-01,  1.64350662e-02, -8.52100775e-02, -6.64740521e-03,\n",
      "       -2.78003272e-02, -7.77748227e-02, -4.75298874e-02,  2.11530253e-01,\n",
      "       -1.89632699e-01,  1.96616892e-02,  4.15205434e-02, -8.38255882e-02,\n",
      "        8.33551362e-02, -1.62392169e-01, -1.25066203e-03, -3.47232036e-02,\n",
      "        1.21813715e-01,  2.75693774e-01, -9.40134227e-02,  3.38088013e-02,\n",
      "       -1.81416199e-01, -4.90510836e-02,  7.82101229e-03,  1.04390658e-01,\n",
      "       -1.95868507e-01,  1.37412399e-01,  2.22866818e-01, -8.04999024e-02,\n",
      "       -3.46066803e-02, -2.67234057e-01,  6.63517043e-02, -8.32853541e-02,\n",
      "       -4.64956276e-02,  1.13931291e-01, -1.15236245e-01,  1.61586516e-02,\n",
      "        2.03808919e-02,  9.40271094e-02,  6.57916665e-02,  6.03732765e-02,\n",
      "       -2.51443405e-02,  1.20599143e-01, -9.61576328e-02,  1.58078268e-01,\n",
      "        2.18721498e-02, -1.23490721e-01, -1.32618815e-01,  4.82000113e-02,\n",
      "        3.57999429e-02, -6.91745579e-02,  3.22035886e-02,  8.72153789e-02,\n",
      "       -1.12632930e-03,  6.77371472e-02, -1.67080298e-01,  8.63093883e-02,\n",
      "       -3.86782475e-02,  1.78125501e-02, -1.00732386e-01,  6.74619600e-02,\n",
      "       -6.03020117e-02, -7.09607750e-02,  1.72273636e-01,  1.54906325e-02,\n",
      "       -2.39452571e-02,  1.12363830e-01,  1.11240998e-03,  3.31781469e-02,\n",
      "       -9.69552472e-02, -1.71038672e-01,  1.11866184e-01, -1.20702542e-01,\n",
      "        1.34972960e-01, -6.20044358e-02,  1.37937842e-02, -2.27437634e-02,\n",
      "        4.53272909e-02,  8.61211494e-03, -5.55787347e-02,  3.64113748e-02,\n",
      "        3.27733681e-02, -1.15953989e-01,  1.87768433e-02, -1.50097273e-02,\n",
      "        1.83780547e-02, -9.11720470e-02,  1.15797140e-01, -7.09026754e-02,\n",
      "       -1.36192068e-01, -1.56320855e-02,  6.45068735e-02, -1.02042951e-01,\n",
      "        9.99124441e-03, -4.92380373e-02,  1.14079803e-01,  3.24706435e-02,\n",
      "       -8.17703530e-02, -5.46241850e-02])), ('con', array([ 2.08695652e+00,  4.49275362e-02,  1.30100000e+03,  4.37000000e+02,\n",
      "        2.60000000e+01,  3.00000000e+00,  3.00000000e+00,  1.00000000e+00,\n",
      "        0.00000000e+00,  0.00000000e+00,  0.00000000e+00,  0.00000000e+00,\n",
      "        0.00000000e+00,  0.00000000e+00,  0.00000000e+00,  0.00000000e+00,\n",
      "        0.00000000e+00,  0.00000000e+00, -5.34095094e-02,  1.76311165e-01,\n",
      "       -3.11312586e-01,  5.36898598e-02,  7.52085969e-02,  8.48736390e-02,\n",
      "       -3.08240801e-01, -3.55354473e-02, -9.92752835e-02, -9.43332985e-02,\n",
      "       -1.51098251e-01, -7.85793439e-02,  7.04241544e-02,  1.89971477e-02,\n",
      "       -4.00299244e-02,  1.71210751e-01,  2.64880002e-01, -1.80493191e-01,\n",
      "       -3.14103924e-02, -4.15709009e-03, -8.92667249e-02, -1.11502036e-01,\n",
      "       -1.93465017e-02, -1.43711492e-01,  6.58519194e-02,  4.38669212e-02,\n",
      "        1.24960475e-01,  5.29248267e-02,  6.10761791e-02, -8.41846317e-02,\n",
      "       -2.23294511e-01, -1.01575255e-01,  3.78300734e-02,  5.84103726e-02,\n",
      "       -7.83118829e-02,  1.58887561e-02, -5.06991372e-02,  8.89942721e-02,\n",
      "        8.89595971e-02, -2.99553499e-02, -1.08763222e-02, -2.84777414e-02,\n",
      "       -2.86039621e-01,  5.30551374e-02, -3.44972722e-02,  1.24178112e-01,\n",
      "       -5.38482554e-02,  6.44417331e-02, -5.62638454e-02, -1.66379362e-01,\n",
      "       -2.35850379e-01, -2.87374202e-02, -1.12700522e-01,  4.38239686e-02,\n",
      "        1.34276867e-01,  1.81326330e-01,  6.65440559e-02,  1.09260306e-01,\n",
      "       -3.82858887e-02, -8.94659311e-02, -8.75454694e-02, -9.39096883e-03,\n",
      "       -4.14013490e-02,  1.01899512e-01, -4.51900065e-02,  4.75589037e-02,\n",
      "       -9.97419879e-02,  6.33607730e-02, -2.65428782e-01, -1.48328483e-01,\n",
      "        2.40597785e-01, -1.22531034e-01, -7.51876161e-02, -1.44301936e-01,\n",
      "        1.82645973e-02,  1.30468756e-01,  6.51366562e-02, -2.84720778e-01,\n",
      "        1.73518956e-02, -7.15712383e-02, -1.13054328e-01,  3.05309650e-02,\n",
      "       -3.99328209e-02, -1.48132712e-01, -1.30771771e-01,  6.93522990e-02,\n",
      "       -6.22575507e-02,  2.76269943e-01, -3.17861140e-01,  1.99972853e-01,\n",
      "        1.19373567e-01, -3.72232758e-02,  5.13930060e-02,  1.09645136e-01,\n",
      "       -1.39558017e-01,  1.51513636e-01, -6.38386980e-02, -9.52571705e-02,\n",
      "       -1.78780079e-01, -3.32554989e-02, -1.35577813e-01, -2.83363193e-01,\n",
      "       -8.67593586e-02,  4.97665331e-02,  1.37097642e-01,  1.54522890e-02,\n",
      "        9.46462601e-02,  5.66933751e-02, -9.32012871e-02,  6.16558176e-03,\n",
      "        1.53402844e-02,  8.22814703e-02,  1.09656304e-01, -4.01758365e-02,\n",
      "       -2.12873500e-02, -2.56014884e-01, -2.30773445e-02,  5.90718463e-02,\n",
      "       -1.55276023e-02,  7.45871291e-02, -7.08635896e-03,  1.08247034e-01,\n",
      "       -1.41200125e-01,  8.17756802e-02, -1.25184298e-01,  9.90378857e-02,\n",
      "       -9.22801420e-02,  2.36556098e-01])), ('con', array([ 2.16000000e+00,  0.00000000e+00,  1.71700000e+03,  5.45000000e+02,\n",
      "        3.20000000e+01,  3.00000000e+00,  3.00000000e+00,  0.00000000e+00,\n",
      "        0.00000000e+00,  0.00000000e+00,  0.00000000e+00,  0.00000000e+00,\n",
      "        0.00000000e+00,  0.00000000e+00,  0.00000000e+00,  0.00000000e+00,\n",
      "        0.00000000e+00,  0.00000000e+00,  4.34041210e-02,  1.38940051e-01,\n",
      "        7.73247033e-02, -1.01771034e-01, -9.19618383e-02, -1.06746577e-01,\n",
      "       -1.11112468e-01, -7.05537722e-02,  1.26468629e-01,  4.50206734e-02,\n",
      "       -5.24820127e-02, -1.12717941e-01,  1.07356317e-01, -3.34112942e-01,\n",
      "        4.30344865e-02,  1.50504326e-02,  1.26867726e-01, -1.64243639e-01,\n",
      "       -6.79950342e-02, -2.63483562e-02, -5.27136438e-02,  1.13646410e-01,\n",
      "        2.43963972e-01, -8.11411440e-02, -4.37079370e-02, -2.65128706e-02,\n",
      "        1.70162648e-01, -9.60162133e-02,  5.05856201e-02,  1.39036417e-01,\n",
      "        1.61645904e-01, -1.41472191e-01, -6.51685447e-02, -2.60356031e-02,\n",
      "       -5.58413565e-02, -2.53920555e-02, -5.44891506e-02,  2.68460751e-01,\n",
      "       -1.52858585e-01, -8.59080851e-02,  7.53450021e-02,  5.36373928e-02,\n",
      "       -6.54521808e-02,  1.32213579e-02,  1.38802782e-01,  9.42367688e-02,\n",
      "        8.00424442e-03,  1.61439329e-01,  9.01665092e-02,  1.36390915e-02,\n",
      "        6.75008371e-02,  6.48218095e-02,  2.39801053e-02, -2.25630909e-01,\n",
      "       -1.55369163e-01,  9.91129726e-02,  1.91018760e-01,  6.54036626e-02,\n",
      "        7.80341402e-02, -1.28555819e-01,  5.04885800e-02, -7.38690570e-02,\n",
      "        5.62255755e-02, -9.99580920e-02, -1.20506659e-01, -2.44505316e-01,\n",
      "        1.40942380e-01, -2.87905186e-01, -1.48404285e-01,  1.70506790e-01,\n",
      "        9.65689048e-02,  1.81364283e-01,  1.33222759e-01,  9.45604146e-02,\n",
      "       -1.39070526e-01, -8.39089379e-02,  9.48448926e-02, -7.20553771e-02,\n",
      "       -1.12415000e-03, -1.40989507e-02, -7.01658428e-02, -2.01415524e-01,\n",
      "        1.04181617e-01, -4.66481186e-02, -8.27119425e-02, -1.49029106e-01,\n",
      "       -4.67141271e-02, -4.26137149e-02, -1.10811941e-01, -1.06351197e-01,\n",
      "       -8.35984647e-02, -4.79886942e-02,  7.55168200e-02,  9.65390876e-02,\n",
      "        1.30809143e-01,  5.84729500e-02,  2.73685493e-02,  1.20944381e-01,\n",
      "       -2.05470510e-02,  8.33750516e-02, -2.89750099e-01, -5.88215217e-02,\n",
      "        3.67687494e-01, -1.68147951e-01, -1.18751280e-01,  1.83507815e-01,\n",
      "        8.87476504e-02,  7.08441213e-02, -9.25744474e-02, -2.61369169e-01,\n",
      "       -2.89787352e-02,  1.87992007e-01, -7.68802613e-02, -4.91905101e-02,\n",
      "        6.80081621e-02, -1.32659480e-01,  4.30740081e-02, -1.12271318e-02,\n",
      "       -1.12101091e-02, -4.37879525e-02,  6.65806532e-02, -2.88470954e-01,\n",
      "       -9.04388726e-02,  1.12694111e-02, -9.63229313e-02,  1.74273074e-01,\n",
      "       -3.39343339e-01,  1.26476780e-01])), ('con', array([ 2.00000000e+00,  0.00000000e+00,  3.54000000e+02,  1.88000000e+02,\n",
      "        1.60000000e+01,  1.00000000e+00,  1.00000000e+00,  0.00000000e+00,\n",
      "        0.00000000e+00,  0.00000000e+00,  0.00000000e+00,  0.00000000e+00,\n",
      "        0.00000000e+00,  0.00000000e+00,  0.00000000e+00,  0.00000000e+00,\n",
      "        0.00000000e+00,  0.00000000e+00,  2.72387937e-02,  1.28123537e-01,\n",
      "       -3.22635993e-02,  1.21376194e-01, -7.18625337e-02, -3.69925126e-02,\n",
      "        2.87761837e-02, -7.08245263e-02, -4.87232693e-02,  1.55704975e-01,\n",
      "        4.58151884e-02,  2.52481699e-02, -1.20743126e-01, -5.43117300e-02,\n",
      "       -2.49833316e-02, -2.85869520e-02,  1.10983461e-01,  2.55750045e-02,\n",
      "       -9.66584310e-03,  1.12040285e-02, -3.48021425e-02,  8.15875083e-02,\n",
      "       -2.68229209e-02, -2.28250809e-02, -1.36157036e-01, -6.61340654e-02,\n",
      "       -5.02867065e-02,  9.87542048e-02,  1.56230479e-01,  9.18051004e-02,\n",
      "        1.14314780e-01, -1.70503467e-01, -5.56008928e-02,  7.78408896e-04,\n",
      "        7.57823139e-02,  1.92366280e-02,  6.05393983e-02,  7.22854026e-03,\n",
      "       -7.88478330e-02, -1.50105655e-02,  9.08922926e-02,  1.34202465e-02,\n",
      "       -1.33510515e-01,  3.94923985e-02, -1.35469781e-02,  2.39222392e-01,\n",
      "        1.41385598e-02,  1.32353812e-01, -8.46913084e-02,  1.13473311e-01,\n",
      "       -5.55192418e-02,  2.16775183e-02, -8.87069330e-02,  4.53174487e-02,\n",
      "       -1.74149856e-01,  1.26232848e-01,  1.05142407e-01,  7.67433792e-02,\n",
      "       -5.16466908e-02, -7.43782595e-02, -1.16252527e-02, -9.08121094e-03,\n",
      "       -7.86543638e-03, -7.12192208e-02, -3.11229639e-02,  1.49343582e-02,\n",
      "        3.85444574e-02, -7.85014704e-02, -1.05955265e-01, -7.33051598e-02,\n",
      "        8.65421258e-03,  3.07882074e-02,  9.61525925e-03,  5.51709346e-02,\n",
      "       -1.00754090e-01, -1.92672670e-01,  1.61060706e-01, -5.05321510e-02,\n",
      "        7.64580220e-02, -4.85551804e-02, -4.17497754e-02,  9.87160131e-02,\n",
      "        3.25797088e-02, -1.81159273e-01, -2.05493882e-01,  5.94145507e-02,\n",
      "       -1.45217152e-02,  1.20807081e-01, -2.36701176e-01,  2.75822788e-01,\n",
      "       -1.62273288e-01,  6.95068240e-02, -2.14045178e-02,  1.48412198e-01,\n",
      "       -3.14354710e-02,  2.76268343e-03, -4.84664850e-02,  3.43430527e-02,\n",
      "       -3.33819278e-02, -1.43330634e-01, -1.96930543e-02, -9.12137050e-03,\n",
      "        1.23783097e-01, -1.06794626e-01, -1.21411301e-01,  1.28876388e-01,\n",
      "        1.13210917e-01, -1.11688711e-01, -1.54055998e-01, -3.83770391e-02,\n",
      "       -8.14921111e-02,  1.42703533e-01, -4.45731394e-02,  2.58564521e-02,\n",
      "       -6.26014546e-02, -8.79005045e-02,  3.30549926e-02, -5.71784452e-02,\n",
      "        1.52260512e-01,  1.76858485e-01, -1.52663842e-01,  1.47784846e-02,\n",
      "       -6.78847358e-02,  8.18777755e-02,  2.44864598e-02, -1.10675439e-01,\n",
      "       -9.37801450e-02,  1.30287543e-01])), ('con', array([ 2.43478261e+00,  4.92753623e-02,  1.24000000e+03,  4.76000000e+02,\n",
      "        3.90000000e+01,  7.00000000e+00,  7.00000000e+00,  1.00000000e+00,\n",
      "        1.00000000e+00,  0.00000000e+00,  0.00000000e+00,  0.00000000e+00,\n",
      "        0.00000000e+00,  0.00000000e+00,  0.00000000e+00,  0.00000000e+00,\n",
      "        0.00000000e+00,  0.00000000e+00,  1.52602166e-01,  1.72003627e-01,\n",
      "        2.25981534e-01,  1.73317000e-01, -4.28508222e-01, -2.23153848e-02,\n",
      "        1.54997371e-02, -6.96593523e-02,  3.43181729e-01,  3.50849807e-01,\n",
      "       -1.39999911e-01, -9.02712643e-02, -2.38679886e-01,  9.56814885e-02,\n",
      "       -2.06489921e-01,  1.50726540e-02,  1.50422558e-01,  4.68183905e-02,\n",
      "       -1.51526883e-01,  1.10604363e-02, -3.44539762e-01,  1.06797805e-02,\n",
      "        1.61054432e-01,  2.99878381e-02, -2.27666665e-02,  2.87954863e-02,\n",
      "        3.54063846e-02,  2.57009357e-01, -1.48820385e-01, -7.67338872e-02,\n",
      "        1.46046221e-01, -2.12965488e-01,  1.13598645e-01, -1.51894884e-02,\n",
      "        1.30424887e-01, -4.22145100e-03,  8.96358397e-03,  4.96417917e-02,\n",
      "       -3.01446598e-02, -3.25729586e-02,  1.14508398e-01,  6.20183572e-02,\n",
      "        1.96823408e-03,  1.94681529e-02,  5.06886914e-02, -8.29992443e-03,\n",
      "        1.27023965e-01,  9.73695964e-02,  1.22282892e-01,  2.47661881e-02,\n",
      "        6.97641745e-02, -1.41862920e-02, -3.08717471e-02,  7.21850470e-02,\n",
      "       -1.11679181e-01,  3.21832746e-01,  6.37130439e-02,  2.02431366e-01,\n",
      "       -1.99468583e-01, -1.05452510e-02, -1.40208870e-01, -2.09821761e-01,\n",
      "       -5.14117479e-02,  3.51006761e-02, -2.02936396e-01,  6.80963323e-03,\n",
      "        1.65813819e-01, -3.40141803e-02, -6.67712912e-02, -7.64833614e-02,\n",
      "        1.48946032e-01,  1.78570434e-01, -3.55160534e-02, -6.04630373e-02,\n",
      "       -1.12844527e-01, -1.54259205e-01, -3.78131680e-02,  2.54369471e-02,\n",
      "        2.90224999e-01, -6.15716577e-02,  4.39457037e-02, -9.08725709e-02,\n",
      "        1.49018764e-02, -1.29822165e-01, -1.16625547e-01, -5.80271520e-02,\n",
      "       -2.49173284e-01,  1.50398567e-01, -2.64629751e-01,  4.75410707e-02,\n",
      "       -1.43676460e-01,  6.75098896e-02, -1.88555017e-01,  6.00042678e-02,\n",
      "        1.62754476e-01,  3.31974253e-02, -3.79664563e-02, -2.43241992e-02,\n",
      "        1.05865702e-01, -4.58588302e-02, -6.93071401e-03,  1.64204419e-01,\n",
      "        1.36005297e-01, -1.99278742e-01, -2.23211229e-01, -7.99603239e-02,\n",
      "        1.80826887e-01,  1.16299130e-02, -1.35445595e-02, -6.12666234e-02,\n",
      "       -3.00534833e-02,  1.41786709e-01,  2.30252191e-01,  4.92684394e-02,\n",
      "       -5.13769127e-02, -1.14620626e-01, -1.12000063e-01, -3.80954482e-02,\n",
      "        2.35873070e-02, -4.51884009e-02,  6.38656616e-02,  1.77585199e-01,\n",
      "        1.27617791e-01,  2.28194863e-01, -5.64742237e-02, -1.40810326e-01,\n",
      "       -2.29751170e-01, -1.28723100e-01])), ('con', array([ 2.23529412e+00,  0.00000000e+00,  4.34000000e+02,  2.09000000e+02,\n",
      "        1.90000000e+01,  1.00000000e+00,  2.00000000e+00,  0.00000000e+00,\n",
      "        0.00000000e+00,  1.30000000e+01,  1.00000000e+00,  1.00000000e+00,\n",
      "        0.00000000e+00,  0.00000000e+00,  0.00000000e+00,  0.00000000e+00,\n",
      "        0.00000000e+00,  0.00000000e+00,  2.55293548e-01, -4.98057939e-02,\n",
      "       -1.18679911e-01,  1.50775209e-01,  1.23585038e-01, -4.52979393e-02,\n",
      "        2.23666161e-01,  6.26393929e-02,  1.81152835e-03, -1.59316838e-01,\n",
      "        1.42375931e-01, -8.30258206e-02, -2.40494832e-01,  2.30952263e-01,\n",
      "       -1.29435495e-01, -3.19054574e-02,  2.05792803e-02,  4.82178405e-02,\n",
      "       -9.89469364e-02, -1.19548691e-02, -6.88338503e-02,  1.18554473e-01,\n",
      "        4.59497347e-02,  7.98874795e-02,  8.85476694e-02, -5.90999611e-03,\n",
      "       -3.35490666e-02, -1.25518680e-01,  1.01360135e-01, -4.08392325e-02,\n",
      "        3.18494514e-02, -1.34078771e-01, -1.31801456e-01,  4.21619881e-03,\n",
      "        7.97771737e-02,  6.93846717e-02, -4.87791300e-02,  7.26260394e-02,\n",
      "       -1.19561702e-01,  1.12261832e-01, -4.22792472e-02, -9.80440602e-02,\n",
      "       -2.18749698e-02, -1.89195350e-02, -1.28774062e-01,  1.66897830e-02,\n",
      "       -1.51083916e-01,  1.81425810e-01,  6.31485134e-02,  2.51323003e-02,\n",
      "       -9.62537080e-02,  6.47861809e-02, -3.81706581e-02,  2.02946085e-02,\n",
      "       -3.61480042e-02,  3.11603956e-02,  2.50540730e-02,  2.92977877e-02,\n",
      "       -1.02054186e-01, -5.86038828e-02, -3.61738307e-03, -1.34290652e-02,\n",
      "        1.19096041e-03, -3.87101583e-02, -9.94133949e-02, -6.69304281e-02,\n",
      "       -1.42624140e-01, -5.70430607e-03, -7.17682242e-02, -1.79912925e-01,\n",
      "        9.08408836e-02,  1.37593955e-01,  6.01470657e-02,  1.27095580e-01,\n",
      "        5.32783680e-02, -8.47313330e-02, -1.50401995e-01, -1.28491193e-01,\n",
      "       -6.76967204e-02, -1.38101131e-01, -1.58736765e-01,  1.59026943e-02,\n",
      "       -8.91626701e-02, -1.41933203e-01, -1.71216950e-01, -1.79862395e-01,\n",
      "       -1.36305034e-01,  2.56492198e-01,  4.59537357e-02,  1.12280175e-01,\n",
      "       -1.16815709e-01, -6.02232702e-02, -8.33351612e-02,  1.20629266e-01,\n",
      "        1.48708997e-02,  1.56733438e-01, -1.29232764e-01,  1.31805509e-01,\n",
      "       -2.72292852e-01, -1.17463939e-01,  1.07269369e-01, -4.04194385e-01,\n",
      "        5.71062379e-02, -1.01629451e-01, -4.85527031e-02, -5.70163988e-02,\n",
      "       -2.37319723e-01, -1.37762055e-02,  4.11972068e-02, -2.73829788e-01,\n",
      "        6.54621189e-03,  1.54451132e-01, -1.22227289e-01, -1.02938458e-01,\n",
      "       -4.21493948e-01, -2.53554791e-01,  1.38108535e-02, -1.38636366e-01,\n",
      "        2.96384492e-03,  2.51981854e-01, -7.46543780e-02, -9.33072940e-02,\n",
      "       -1.93703741e-01, -5.94181754e-02,  1.19263865e-01, -1.50654912e-01,\n",
      "       -8.55195299e-02, -9.37103033e-02])), ('con', array([ 2.00000000e+00,  0.00000000e+00,  1.12500000e+03,  3.90000000e+02,\n",
      "        2.30000000e+01,  1.00000000e+00,  1.00000000e+00,  0.00000000e+00,\n",
      "        0.00000000e+00,  0.00000000e+00,  0.00000000e+00,  0.00000000e+00,\n",
      "        0.00000000e+00,  0.00000000e+00,  0.00000000e+00,  0.00000000e+00,\n",
      "        0.00000000e+00,  0.00000000e+00, -3.42238843e-02,  1.87776998e-01,\n",
      "        2.31927782e-01,  1.15238324e-01, -3.87053266e-02, -1.65875599e-01,\n",
      "       -1.02278359e-01, -1.05586294e-02,  3.16022672e-02, -4.97132586e-03,\n",
      "       -2.19424628e-02,  5.18472157e-02,  1.00842617e-01, -2.45387435e-01,\n",
      "       -4.55160514e-02,  1.03178650e-01, -4.86879097e-03, -2.30461918e-02,\n",
      "       -1.07236020e-01,  6.38239160e-02, -4.98905815e-02, -2.31744811e-01,\n",
      "        3.71488184e-01, -1.02390952e-01,  1.13488920e-02, -2.44135693e-01,\n",
      "       -2.68556625e-02, -1.40755996e-01, -1.41546875e-01,  1.08289393e-03,\n",
      "       -7.05240741e-02, -4.24323380e-02,  9.30658355e-02, -1.17805295e-01,\n",
      "        5.52121364e-02,  2.16179620e-02,  1.43402666e-01,  4.63486053e-02,\n",
      "        4.60262261e-02, -4.49538007e-02, -7.89939091e-02, -2.30575502e-02,\n",
      "        1.06862910e-01, -9.37068015e-02, -7.06545338e-02,  9.46995169e-02,\n",
      "       -1.43100768e-01,  6.86806291e-02, -1.40662923e-01, -1.82310924e-01,\n",
      "        2.93012336e-02,  1.32457197e-01, -1.84248820e-01, -4.96894009e-02,\n",
      "       -2.72277929e-02,  2.66260840e-02, -2.34119091e-02,  2.63369977e-02,\n",
      "       -2.82773208e-02, -9.49146003e-02, -4.24859934e-02, -1.40893698e-01,\n",
      "       -3.94703187e-02,  1.08001260e-02, -1.64917365e-01,  4.01293710e-02,\n",
      "        3.96534614e-02, -6.46328181e-02, -1.14174500e-01, -1.45095974e-01,\n",
      "        1.42376453e-01, -5.70751801e-02, -6.20898083e-02,  3.86784554e-01,\n",
      "        9.73385945e-02, -1.29290387e-01, -9.99228209e-02, -5.52614732e-03,\n",
      "        6.20591305e-02, -1.49864048e-01,  7.35889152e-02, -4.44652699e-02,\n",
      "       -2.82132812e-02, -3.69878821e-02, -1.44882351e-01, -5.87877855e-02,\n",
      "        2.76815556e-02, -3.51893716e-02,  4.28830758e-02,  2.17399523e-01,\n",
      "       -9.44683775e-02,  2.01834619e-01,  1.86053589e-01,  2.48269543e-01,\n",
      "        3.71184386e-02,  9.91055965e-02, -8.77014175e-02, -9.31897011e-05,\n",
      "       -2.19352543e-01, -3.21158081e-01,  1.45765081e-01, -1.14581361e-01,\n",
      "        2.75479313e-02, -1.52160004e-01,  1.41313970e-01,  2.28059411e-01,\n",
      "       -3.02882381e-02, -1.45525903e-01, -7.31192976e-02, -2.45501548e-02,\n",
      "        2.77427956e-02, -1.58388540e-01,  1.10866703e-01, -1.03495009e-01,\n",
      "       -5.85723016e-03,  2.06805370e-03, -3.97115275e-02, -1.88053045e-02,\n",
      "       -4.70774956e-02, -8.81314278e-02, -8.89898762e-02, -7.78030306e-02,\n",
      "       -2.43986428e-01,  2.45953456e-01,  8.93206894e-02, -7.56119341e-02,\n",
      "        1.19568639e-01,  7.82256126e-02])), ('con', array([ 1.89473684e+00,  0.00000000e+00,  6.80000000e+02,  2.72000000e+02,\n",
      "        1.70000000e+01,  0.00000000e+00,  0.00000000e+00,  0.00000000e+00,\n",
      "        0.00000000e+00,  0.00000000e+00,  0.00000000e+00,  0.00000000e+00,\n",
      "        0.00000000e+00,  0.00000000e+00,  0.00000000e+00,  0.00000000e+00,\n",
      "        0.00000000e+00,  0.00000000e+00,  7.47746155e-02,  3.22421700e-01,\n",
      "        2.77326703e-01,  6.51288778e-02, -4.76308651e-02, -1.14718676e-02,\n",
      "        1.24034479e-01, -1.81602597e-01,  5.00211157e-02,  3.24532129e-02,\n",
      "        8.92852247e-02, -5.57677299e-02,  1.00569785e-01, -1.67075768e-01,\n",
      "        2.74136364e-02, -2.52566099e-01,  5.35792112e-02, -8.49050879e-02,\n",
      "       -2.48049587e-01, -1.09772101e-01, -1.22302271e-01,  4.55238111e-02,\n",
      "        2.84373224e-01, -1.45256609e-01, -6.96190000e-02,  3.21357772e-02,\n",
      "       -4.87511158e-02, -1.32981017e-02,  1.50622183e-03, -1.95166603e-01,\n",
      "        2.13842746e-02, -1.86760291e-01, -1.36385649e-01,  1.44162163e-01,\n",
      "       -5.52439019e-02,  8.10355246e-02, -8.42712447e-02,  2.22914681e-01,\n",
      "       -1.84783340e-01,  4.07489017e-03,  8.08078051e-02,  2.24931106e-01,\n",
      "       -6.34481460e-02, -8.85658115e-02, -2.29439095e-01,  1.98210970e-01,\n",
      "        1.65011764e-01,  7.01240003e-02, -1.96141079e-01, -5.46401367e-02,\n",
      "       -1.88539058e-01,  3.47144991e-01,  3.01771704e-02, -3.73326391e-02,\n",
      "       -3.30726266e-01,  6.99679554e-02,  1.32317737e-01,  1.12099424e-01,\n",
      "       -5.75585067e-02, -1.57601580e-01, -5.10890223e-02, -6.79333732e-02,\n",
      "        4.14115237e-03, -1.47781849e-01,  4.76402268e-02,  9.34501961e-02,\n",
      "       -4.02862430e-02, -9.84154865e-02, -1.85604896e-02,  1.31021813e-01,\n",
      "        1.38968557e-01,  1.11361310e-01,  5.55664822e-02,  3.80331762e-02,\n",
      "       -5.81877381e-02, -5.20307347e-02,  6.19313829e-02, -1.88803356e-02,\n",
      "        2.40833536e-02,  3.40071879e-02, -3.25166509e-02, -7.11438730e-02,\n",
      "        1.07859448e-01, -7.96025172e-02,  3.99789773e-02, -1.98370367e-02,\n",
      "       -1.19085267e-01,  1.50892315e-02, -1.09158963e-01,  2.29075417e-01,\n",
      "        3.22437473e-02, -3.31847183e-02, -5.07192388e-02,  7.52005307e-03,\n",
      "       -5.27269654e-02, -3.53899710e-02, -1.20787695e-01, -3.71656567e-02,\n",
      "       -1.06548749e-01, -8.35097730e-02, -3.20817940e-02, -6.77627996e-02,\n",
      "        2.04662517e-01, -1.97887048e-01, -8.72675776e-02,  6.24833480e-02,\n",
      "        2.56894231e-02, -5.86012788e-02, -1.80692360e-01,  5.55039803e-03,\n",
      "       -1.45281767e-02, -7.25955963e-02,  7.37096295e-02,  8.00999627e-02,\n",
      "       -8.41840208e-02,  3.26597318e-03, -5.32195941e-02, -9.35322493e-02,\n",
      "        3.53696272e-02,  9.94411670e-03,  6.92299679e-02,  1.42110676e-01,\n",
      "       -2.34016087e-02,  5.97906038e-02, -7.30782896e-02,  9.37539935e-02,\n",
      "       -1.13290571e-01,  6.00953698e-02])), ('con', array([ 2.42105263e+00,  0.00000000e+00,  6.58000000e+02,  2.52000000e+02,\n",
      "        2.10000000e+01,  2.00000000e+00,  2.00000000e+00,  0.00000000e+00,\n",
      "        0.00000000e+00,  3.00000000e+01,  2.00000000e+00,  2.00000000e+00,\n",
      "        0.00000000e+00,  0.00000000e+00,  0.00000000e+00,  0.00000000e+00,\n",
      "        0.00000000e+00,  0.00000000e+00, -2.39746064e-01,  6.30112663e-02,\n",
      "        2.20476836e-01,  2.52834111e-01, -1.35642678e-01, -5.17308079e-02,\n",
      "        2.27582365e-01, -2.00470276e-02, -1.80596054e-01, -9.63713750e-02,\n",
      "        1.69161156e-01,  1.38557196e-01,  1.52244359e-01,  7.56497458e-02,\n",
      "       -4.75979894e-02, -1.05640538e-01,  1.61890998e-01,  4.11656536e-02,\n",
      "       -8.24538916e-02,  7.83296525e-02, -2.19773084e-01,  3.92261893e-02,\n",
      "       -8.04218277e-02, -8.70310962e-02,  4.38648760e-02,  3.40360031e-02,\n",
      "       -9.46027786e-03,  9.65053067e-02, -1.16596960e-01,  3.77627164e-02,\n",
      "        1.33056998e-01, -2.10093021e-01,  2.92747505e-02,  2.61233766e-02,\n",
      "       -1.20734520e-01,  1.39999554e-01,  1.78140849e-01,  1.20035000e-01,\n",
      "       -1.77494630e-01, -6.13092491e-03,  1.70890585e-01,  2.87606746e-01,\n",
      "        5.99353239e-02,  1.42835677e-01,  9.80422050e-02,  9.53793004e-02,\n",
      "       -2.52875919e-03,  1.29169390e-01, -1.22298710e-01, -3.65881883e-02,\n",
      "       -5.80975320e-03,  4.98421863e-03, -3.74100916e-02, -1.05461359e-01,\n",
      "        1.48232775e-02,  7.42154270e-02,  5.29829822e-02,  2.09883414e-02,\n",
      "       -4.39249314e-02, -1.16415262e-01, -1.88133985e-01, -7.37043172e-02,\n",
      "       -1.22553453e-01,  6.06129121e-04,  7.02432469e-02, -2.06529498e-01,\n",
      "        7.18738958e-02, -5.17953038e-02, -1.34796068e-01,  1.08271474e-02,\n",
      "        1.64582301e-02,  2.05799714e-02,  3.66357677e-02, -2.86447462e-02,\n",
      "       -3.89227085e-02, -2.13045031e-01, -4.79873493e-02, -1.53689176e-01,\n",
      "       -1.87414233e-02, -8.73846114e-02, -1.43963769e-01, -2.08342522e-01,\n",
      "        2.73891628e-01, -2.15870962e-02, -2.15158999e-01, -1.47409573e-01,\n",
      "        6.91895336e-02, -1.30109731e-02, -1.28040612e-01,  5.71934246e-02,\n",
      "       -6.13200665e-02,  5.81978559e-02, -4.89355028e-02,  3.71163547e-01,\n",
      "       -1.10949501e-01,  6.82842657e-02,  9.20952931e-02,  1.89274117e-01,\n",
      "       -8.75080749e-02, -1.38749510e-01, -7.26169422e-02, -1.13690317e-01,\n",
      "        9.32650641e-02, -2.21040666e-01, -1.34760559e-01,  5.84921427e-02,\n",
      "       -8.12037215e-02, -2.04693563e-02, -5.57306148e-02, -1.41680330e-01,\n",
      "       -1.73770618e-02, -8.86589587e-02,  6.44902438e-02, -1.01552457e-01,\n",
      "       -1.86381817e-01, -1.09473541e-02,  1.84659705e-01,  1.45123126e-02,\n",
      "        1.84171703e-02,  2.74653971e-01,  4.72281314e-02,  6.44149035e-02,\n",
      "        1.39361247e-02,  4.16971706e-02,  3.23217991e-03, -8.52566063e-02,\n",
      "       -1.10252351e-01,  9.80935693e-02])), ('con', array([ 2.52173913e+00,  5.87761675e-02,  1.24000000e+03,  4.61000000e+02,\n",
      "        3.50000000e+01,  6.00000000e+00,  6.00000000e+00,  1.00000000e+00,\n",
      "        1.00000000e+00,  1.50000000e+01,  3.00000000e+00,  3.00000000e+00,\n",
      "        0.00000000e+00,  0.00000000e+00,  0.00000000e+00,  0.00000000e+00,\n",
      "        0.00000000e+00,  0.00000000e+00, -2.26716157e-02,  1.12236142e-01,\n",
      "       -3.95245589e-02,  8.45756091e-04, -8.14585388e-02, -3.02763760e-01,\n",
      "        2.22453013e-01, -2.48275232e-02, -2.24940944e-02,  3.25090922e-02,\n",
      "        5.23277484e-02,  9.58709046e-02, -1.93050653e-01, -7.14397281e-02,\n",
      "       -3.51988636e-02, -7.35556409e-02,  1.87928706e-01,  6.53417036e-02,\n",
      "       -6.09057248e-02, -4.96455245e-02, -8.14353153e-02,  2.60075461e-02,\n",
      "       -4.11931053e-03, -1.06246606e-01, -7.65897334e-02, -7.45865330e-02,\n",
      "        3.07539571e-02,  3.75354476e-02, -1.01935208e-01, -5.26209809e-02,\n",
      "        1.01423249e-01, -2.50054091e-01,  1.80709511e-02,  1.09795593e-01,\n",
      "        1.08018517e-01,  1.86144561e-02, -6.56247586e-02,  6.37711063e-02,\n",
      "       -2.17906713e-01,  4.76930253e-02,  1.45955026e-01,  2.23791793e-01,\n",
      "       -2.06478521e-01,  2.22768094e-02, -6.07295036e-02,  1.42494529e-01,\n",
      "       -1.10207327e-01,  1.60139762e-02,  9.49725956e-02, -3.46869566e-02,\n",
      "       -2.70486414e-01, -2.69074235e-02,  4.78899516e-02,  3.75605101e-04,\n",
      "       -2.16950208e-01,  9.86954048e-02, -8.55158195e-02,  3.82555611e-02,\n",
      "       -1.22460768e-01, -8.15129504e-02,  6.53304905e-02, -1.37186963e-02,\n",
      "       -9.75937173e-02,  1.17077835e-01,  7.54108503e-02,  2.31212318e-01,\n",
      "        3.74442488e-02, -6.19644001e-02, -1.13963276e-01,  3.39448191e-02,\n",
      "        3.25406976e-02, -1.26831681e-01,  7.77080432e-02,  1.19071610e-01,\n",
      "       -4.79445159e-02, -8.94776955e-02, -2.85519324e-02,  1.34665743e-01,\n",
      "       -3.45830061e-02,  8.81488621e-02, -1.38083339e-01, -1.11927902e-02,\n",
      "       -9.05026197e-02, -1.85028110e-02,  8.65036547e-02,  6.88088015e-02,\n",
      "       -2.14187622e-01,  6.86064810e-02, -5.96155180e-04,  7.21490011e-02,\n",
      "       -4.37671207e-02,  9.13879052e-02, -4.87236828e-02,  3.60528715e-02,\n",
      "       -3.33269536e-02, -1.89713284e-01, -1.52593656e-02, -3.97236608e-02,\n",
      "       -9.35292318e-02,  5.40502518e-02, -1.62513226e-01, -1.13805354e-01,\n",
      "        9.38025638e-02, -7.74324834e-02, -1.56532869e-01,  4.19667177e-02,\n",
      "        1.34279504e-01, -7.96846822e-02, -2.75367737e-01,  2.18656529e-02,\n",
      "        9.04972330e-02,  1.33377269e-01, -6.42508417e-02,  2.10622445e-01,\n",
      "        2.81779170e-02, -6.60655200e-02,  3.03063113e-02, -2.35954419e-01,\n",
      "       -7.54448818e-03,  1.58885449e-01, -1.31536201e-01,  3.33614834e-02,\n",
      "       -2.43564501e-01,  1.64486036e-01,  1.29308373e-01, -4.19031754e-02,\n",
      "       -1.90650642e-01, -1.15036413e-01])), ('con', array([ 2.00000000e+00,  0.00000000e+00,  5.47000000e+02,  2.50000000e+02,\n",
      "        1.80000000e+01,  1.00000000e+00,  0.00000000e+00,  0.00000000e+00,\n",
      "        0.00000000e+00,  0.00000000e+00,  0.00000000e+00,  0.00000000e+00,\n",
      "        0.00000000e+00,  0.00000000e+00,  0.00000000e+00,  0.00000000e+00,\n",
      "        0.00000000e+00,  0.00000000e+00,  1.48375034e-01,  8.72671530e-02,\n",
      "        1.69544056e-01,  8.03394243e-02,  9.64648053e-02, -3.15093338e-01,\n",
      "        1.06754966e-01, -3.71578149e-02,  1.09503746e-01, -4.72908914e-02,\n",
      "        4.37887851e-03, -2.15468854e-02,  1.31105319e-01, -1.70707405e-01,\n",
      "        3.18825878e-02, -1.65877432e-01, -6.91991299e-02, -1.27482312e-02,\n",
      "       -1.95813030e-01,  4.59411740e-02,  5.35295485e-03,  9.66245234e-02,\n",
      "       -1.07142851e-01,  4.07441519e-02, -7.94994831e-02,  6.90382496e-02,\n",
      "       -2.60521501e-01, -4.39131781e-02,  6.33484796e-02,  2.15361714e-02,\n",
      "        3.53683010e-02,  6.85639232e-02,  2.24911105e-02, -7.38624558e-02,\n",
      "       -7.13803917e-02,  7.73434639e-02, -4.48281057e-02,  1.69284478e-01,\n",
      "       -1.37801111e-01,  8.53834897e-02,  4.45196126e-03,  9.10144746e-02,\n",
      "        2.07554288e-02,  1.47666289e-02, -3.82814035e-02, -7.78836897e-04,\n",
      "        7.40773305e-02,  9.16318595e-03, -7.26677552e-02,  7.37642124e-02,\n",
      "       -1.59507856e-01,  1.44255221e-01,  4.71925922e-02, -7.59577304e-02,\n",
      "       -7.23045170e-02, -1.25788264e-02, -7.87076890e-04,  1.96558416e-01,\n",
      "       -5.83549701e-02, -3.16591337e-02, -3.83050181e-02, -9.14772004e-02,\n",
      "       -4.39300714e-03, -2.12237969e-01, -5.19715548e-02, -1.42798916e-01,\n",
      "        2.60711759e-02, -1.62982661e-02, -7.43575394e-02, -1.02402538e-01,\n",
      "        3.07859648e-02,  9.67429057e-02,  1.06693886e-01,  1.36354640e-01,\n",
      "       -1.54016474e-02, -1.07312752e-02, -2.01755101e-04, -4.53558043e-02,\n",
      "        1.20809630e-01,  1.35233873e-04, -1.96718574e-02, -7.01424479e-02,\n",
      "        3.77911553e-02,  1.15014557e-02, -1.33307263e-01, -1.01264820e-01,\n",
      "        2.28762832e-02, -2.89508048e-02,  1.12738200e-02, -1.69620048e-02,\n",
      "       -4.70702797e-02,  6.36126921e-02, -1.09914932e-02,  9.26508233e-02,\n",
      "        7.43286610e-02, -7.68228546e-02, -5.45941964e-02,  1.02187850e-01,\n",
      "       -2.34126583e-01, -3.23715732e-02, -1.22870347e-02, -1.16450369e-01,\n",
      "        6.64008409e-02, -1.14072030e-02, -1.52821079e-01,  2.70253774e-02,\n",
      "        2.43260879e-02, -2.04736531e-01, -2.94306800e-02, -5.22798905e-03,\n",
      "       -7.14287609e-02, -6.45107031e-02, -1.38833627e-01,  1.12207651e-01,\n",
      "       -1.02055058e-01, -3.19665186e-02, -1.64238922e-02, -1.42638655e-02,\n",
      "       -7.79264793e-02,  2.68453918e-03, -5.48249893e-02, -6.99807405e-02,\n",
      "        6.41534105e-02, -1.09691527e-02, -2.54418366e-02, -1.34600103e-01,\n",
      "       -6.20169677e-02,  9.32676047e-02])), ('con', array([ 2.60869565e+00,  8.82160110e-02,  1.23400000e+03,  4.46000000e+02,\n",
      "        5.60000000e+01,  1.70000000e+01,  1.60000000e+01,  2.00000000e+00,\n",
      "        0.00000000e+00,  0.00000000e+00,  0.00000000e+00,  0.00000000e+00,\n",
      "        0.00000000e+00,  0.00000000e+00,  0.00000000e+00,  0.00000000e+00,\n",
      "        0.00000000e+00,  0.00000000e+00,  1.34173796e-01,  2.28174314e-01,\n",
      "        2.64077544e-01,  1.72022104e-01, -1.17762201e-01, -1.89455524e-02,\n",
      "        1.64098203e-01,  2.99786273e-02,  1.71508670e-01, -3.38581689e-02,\n",
      "        1.39754996e-01,  1.09655559e-01,  6.49543628e-02, -6.12857603e-02,\n",
      "       -1.72512844e-01,  4.03697044e-02, -9.45640579e-02,  1.22317508e-01,\n",
      "       -3.53325643e-02,  2.46279851e-01, -1.07298292e-01,  6.14882857e-02,\n",
      "        1.98076487e-01,  3.56377251e-02, -1.30489871e-01, -1.00005366e-01,\n",
      "        4.95364070e-02,  6.07001074e-02, -6.55991137e-02, -7.34486477e-03,\n",
      "        6.14818633e-02, -7.02194497e-02,  8.79904702e-02,  1.93893597e-01,\n",
      "        1.52664515e-03,  1.74775794e-01, -2.29871958e-01, -4.72219661e-03,\n",
      "       -1.53651997e-01,  2.78926790e-02,  2.64751147e-02,  6.47784173e-02,\n",
      "        4.62475866e-02,  2.95053590e-02, -1.68429777e-01,  1.37759387e-01,\n",
      "        6.01937510e-02,  1.24467678e-01, -2.55624224e-02, -6.96630627e-02,\n",
      "       -3.42662968e-02,  1.05810948e-01,  1.06051944e-01,  5.12028821e-02,\n",
      "       -2.73881048e-01,  9.53313801e-03, -2.96476148e-02,  9.59292427e-02,\n",
      "       -5.14838435e-02, -2.31637567e-01, -2.75443215e-03,  1.45772845e-01,\n",
      "       -6.61626905e-02,  1.06798925e-01, -1.23739667e-01, -1.47698045e-01,\n",
      "       -1.71756849e-01, -7.77991116e-02, -1.15436083e-03, -1.12542763e-01,\n",
      "        2.07794458e-01,  6.12423904e-02, -1.50054991e-01, -6.88491249e-03,\n",
      "        6.39221445e-02, -3.11327428e-02, -9.51965302e-02, -9.49596465e-02,\n",
      "        8.38248432e-02, -4.99971956e-02, -1.59989417e-01,  5.52889220e-02,\n",
      "       -2.39349827e-02, -9.46259201e-02, -2.17829615e-01, -2.26409301e-01,\n",
      "       -2.40031824e-01,  1.09625518e-01, -4.16702330e-02,  2.58277711e-02,\n",
      "       -2.97679957e-02,  4.79791984e-02,  9.75917503e-02,  1.23271845e-01,\n",
      "       -8.64725187e-02,  8.65223855e-02,  3.23489048e-02, -5.39847352e-02,\n",
      "       -4.59013209e-02, -1.20731078e-01, -4.38152999e-03, -2.68880904e-01,\n",
      "       -6.63908273e-02, -1.12304322e-01,  1.08568706e-01,  1.96411517e-02,\n",
      "       -2.10665967e-02, -2.00929388e-01,  5.95283695e-02, -2.67313831e-02,\n",
      "       -7.67559037e-02,  3.10095474e-02,  9.06785298e-03, -1.32658854e-01,\n",
      "       -9.82535258e-03, -2.75342492e-03, -6.83452049e-03, -2.96093851e-01,\n",
      "        1.36154234e-01,  1.64319354e-03,  5.52820377e-02,  7.28199482e-02,\n",
      "       -1.08791173e-01,  3.95453200e-02, -1.04496768e-02, -7.53583536e-02,\n",
      "        7.85757042e-03, -4.75034304e-02])), ('con', array([ 2.14285714e+00,  0.00000000e+00,  2.53700000e+03,  6.98000000e+02,\n",
      "        3.50000000e+01,  3.00000000e+00,  3.00000000e+00,  0.00000000e+00,\n",
      "        0.00000000e+00,  0.00000000e+00,  0.00000000e+00,  0.00000000e+00,\n",
      "        0.00000000e+00,  0.00000000e+00,  0.00000000e+00,  0.00000000e+00,\n",
      "        0.00000000e+00,  0.00000000e+00, -4.98663969e-02,  1.29292041e-01,\n",
      "        1.49742424e-01,  2.97379404e-01,  7.72571191e-02, -2.94424981e-01,\n",
      "        8.32237080e-02, -1.18532404e-01,  3.46870944e-02,  6.09350465e-02,\n",
      "       -1.13902524e-01,  3.65799576e-01,  3.34194638e-02, -1.81049570e-01,\n",
      "       -2.56557494e-01,  8.60831961e-02,  1.88297387e-02,  1.65240765e-01,\n",
      "       -1.73822828e-02,  1.69005990e-01, -7.45369494e-02,  3.25321466e-01,\n",
      "       -8.57069343e-03, -2.95724779e-01,  3.79544906e-02,  3.39965373e-02,\n",
      "        3.36682349e-02,  4.71012816e-02, -1.50776282e-01,  1.01399697e-01,\n",
      "        2.22248599e-01, -1.89450786e-01,  6.51037544e-02,  1.12859108e-01,\n",
      "       -1.46270946e-01,  8.26181397e-02,  1.09934419e-01,  3.93688940e-02,\n",
      "        5.85578755e-02,  8.15345421e-02,  4.08414565e-02, -8.25925320e-02,\n",
      "       -9.38188508e-02, -1.66875735e-01,  7.01890811e-02, -1.26526892e-01,\n",
      "       -5.69752157e-02,  1.82961002e-01, -1.44650519e-01,  4.51229438e-02,\n",
      "       -3.42639610e-02,  1.67786226e-01, -1.38894588e-01,  2.07653530e-02,\n",
      "       -3.54554027e-01, -3.90113029e-03,  6.61721872e-03,  2.40009040e-01,\n",
      "        9.46213156e-02, -5.88163547e-02,  2.90766269e-01, -1.35688111e-01,\n",
      "       -4.26415950e-02,  1.01983204e-01, -9.46171954e-03, -4.44905609e-02,\n",
      "       -5.54769598e-02, -9.06492248e-02, -1.35379121e-01, -6.77532181e-02,\n",
      "        9.20747146e-02,  2.42084488e-01, -1.35854900e-01,  1.40707508e-01,\n",
      "       -1.55947387e-01,  2.43200529e-02, -2.47072726e-02,  1.15341909e-01,\n",
      "        9.69400480e-02, -1.81791604e-01,  2.91544273e-02, -1.05781913e-01,\n",
      "        1.42437622e-01,  3.31371874e-02, -1.93189085e-01,  7.58107007e-03,\n",
      "        2.11946100e-01, -3.82590294e-02, -1.68529242e-01,  2.22254381e-01,\n",
      "       -6.26311451e-02,  1.89082045e-02, -3.67602706e-02,  2.30097666e-01,\n",
      "        1.51639404e-02,  1.36813164e-01, -8.30569714e-02,  1.32164687e-01,\n",
      "       -1.93210766e-01, -1.21013954e-01,  1.56522810e-01, -1.60669208e-01,\n",
      "        4.10853885e-02, -1.36034593e-01,  8.10393542e-02, -3.90877388e-02,\n",
      "        1.33289456e-01, -1.64078102e-01, -1.39351636e-02,  1.21533670e-01,\n",
      "       -4.98610288e-02,  7.25892708e-02,  5.61839826e-02,  9.67865530e-03,\n",
      "        1.46415874e-01, -9.73194540e-02, -9.50919315e-02, -8.24718624e-02,\n",
      "       -2.63570994e-03,  3.27661373e-02,  7.09386095e-02,  4.55480479e-02,\n",
      "       -1.25575706e-01,  2.31234685e-01, -1.28894046e-01, -1.27763674e-01,\n",
      "        4.22459878e-02,  1.62650973e-01])), ('con', array([ 2.33333333e+00,  0.00000000e+00,  5.16000000e+02,  2.64000000e+02,\n",
      "        2.80000000e+01,  5.00000000e+00,  3.00000000e+00,  0.00000000e+00,\n",
      "        0.00000000e+00,  0.00000000e+00,  0.00000000e+00,  0.00000000e+00,\n",
      "        0.00000000e+00,  0.00000000e+00,  0.00000000e+00,  0.00000000e+00,\n",
      "        0.00000000e+00,  0.00000000e+00,  6.80025890e-02,  1.18451037e-01,\n",
      "        1.77811190e-01, -4.49748375e-02,  2.90246550e-02, -1.19246714e-01,\n",
      "        2.13143490e-02, -1.50958523e-01,  1.34297207e-01, -3.84967364e-02,\n",
      "       -1.07236728e-01, -3.27509418e-02,  1.45730093e-01, -1.05540246e-01,\n",
      "        9.39942971e-02,  7.29717761e-02, -7.79970735e-02, -3.91748510e-02,\n",
      "        9.81256180e-03, -5.50581478e-02, -1.03563055e-01, -2.78096013e-02,\n",
      "        1.31751552e-01,  9.94781852e-02, -8.17058757e-02,  1.62486508e-01,\n",
      "        3.87387611e-02, -1.05656475e-01, -1.30826596e-03,  1.15103833e-02,\n",
      "       -1.21060692e-01,  1.21855631e-01,  1.08189888e-01, -7.94134960e-02,\n",
      "       -4.73649055e-02,  9.53021422e-02, -2.05094025e-01,  1.12315111e-01,\n",
      "       -1.16473481e-01, -1.01922728e-01, -6.14504926e-02,  6.17900193e-02,\n",
      "       -5.02521591e-03, -3.13635245e-02,  9.46354866e-02,  7.10418969e-02,\n",
      "       -2.60140356e-02,  1.88911408e-01, -8.09228644e-02, -6.96186349e-02,\n",
      "       -1.96746394e-01, -6.51837036e-05,  3.17607298e-02,  6.43309355e-02,\n",
      "        1.51279479e-01, -6.29506409e-02,  5.75780831e-02,  1.19830929e-02,\n",
      "       -3.09916325e-02, -7.64820725e-02, -1.17985845e-01, -1.85929015e-01,\n",
      "        6.06333427e-02, -1.02945648e-01, -2.04979658e-01,  8.04019570e-02,\n",
      "       -1.87720016e-01, -1.01319335e-01, -5.46162613e-02, -3.61131020e-02,\n",
      "        1.00408889e-01,  1.97539866e-01, -4.48063575e-02,  1.74620852e-01,\n",
      "       -1.62287250e-01, -1.31288648e-01,  4.58443612e-02, -8.11340436e-02,\n",
      "        1.77229047e-01, -1.37880251e-01, -1.19884558e-01, -9.34142619e-03,\n",
      "       -1.64721027e-01, -1.05285093e-01, -9.49881226e-03,  4.16867770e-02,\n",
      "        9.53734294e-03,  2.46243868e-02, -4.55984324e-02, -1.94454957e-02,\n",
      "       -1.53691217e-01, -6.33459985e-02, -4.42613065e-02,  1.97935805e-01,\n",
      "       -2.90682856e-02, -6.23564385e-02,  4.06805845e-03,  9.41533875e-03,\n",
      "       -2.01560199e-01, -8.94510970e-02,  1.01062238e-01, -2.41402864e-01,\n",
      "        1.40777491e-02,  8.52406156e-05,  8.20402578e-02, -8.00098106e-02,\n",
      "       -4.00561579e-02, -1.18137062e-01, -3.26342545e-02, -1.57541603e-01,\n",
      "        2.00779602e-01,  1.30127430e-01,  2.64594727e-03, -3.92028868e-01,\n",
      "       -1.58014968e-01, -5.17150164e-02,  1.16866894e-01, -7.27421939e-02,\n",
      "        2.27783203e-01,  7.77297765e-02,  1.00289419e-01,  1.15041479e-01,\n",
      "       -8.96631181e-02,  8.07247311e-02, -9.90201682e-02, -1.37667805e-01,\n",
      "       -3.95609327e-02,  8.10010880e-02])), ('con', array([ 2.64000000e+00,  4.87407407e-02,  1.63800000e+03,  5.73000000e+02,\n",
      "        4.80000000e+01,  8.00000000e+00,  8.00000000e+00,  0.00000000e+00,\n",
      "        2.00000000e+00,  1.70000000e+01,  3.00000000e+00,  3.00000000e+00,\n",
      "        0.00000000e+00,  0.00000000e+00,  0.00000000e+00,  0.00000000e+00,\n",
      "        0.00000000e+00,  0.00000000e+00,  3.49497497e-02, -6.28170669e-02,\n",
      "       -8.32489282e-02, -4.65182103e-02, -9.94991362e-02, -3.11246663e-01,\n",
      "       -1.59969856e-03,  6.11403994e-02, -1.31305046e-02, -2.21183687e-03,\n",
      "        3.06078821e-01, -1.43655196e-01,  2.12011784e-01, -3.58212262e-01,\n",
      "       -6.69172928e-02, -2.01070502e-01,  2.36276701e-01,  6.56116158e-02,\n",
      "       -1.30991653e-01, -5.95736280e-02, -1.27481043e-01,  2.12152619e-02,\n",
      "       -1.82806969e-01,  7.56492391e-02, -1.54814243e-01, -1.44045189e-01,\n",
      "       -1.50511175e-01,  1.94420263e-01, -9.93156657e-02, -2.57703364e-02,\n",
      "        1.24329582e-01,  1.53780460e-01, -1.73695192e-01,  1.35629490e-01,\n",
      "       -1.23673312e-01, -1.21622689e-01,  4.83798832e-02,  8.89342874e-02,\n",
      "        1.36899531e-01, -2.64923811e-01, -7.56942183e-02, -1.21945083e-01,\n",
      "        1.69505864e-01,  5.02871089e-02,  1.54390886e-01,  8.62966571e-03,\n",
      "       -1.67781487e-01, -2.90830284e-01,  4.91408594e-02, -1.47055939e-01,\n",
      "       -3.37749533e-02,  1.71961397e-01, -8.75337422e-02,  8.99656489e-02,\n",
      "       -8.36220235e-02, -9.13989544e-02, -1.72009006e-01, -1.58824818e-03,\n",
      "        8.65454599e-02,  3.55777666e-02, -3.55554596e-02, -4.20084186e-02,\n",
      "        3.48007903e-02, -1.89276069e-01, -5.45435436e-02,  2.36374348e-01,\n",
      "       -9.34444182e-03, -1.50260460e-02, -3.62147875e-02,  2.94786207e-02,\n",
      "       -3.45007181e-02,  2.95628339e-01, -2.29132790e-02, -6.62258118e-02,\n",
      "       -9.53647494e-02, -9.00311545e-02,  7.12792724e-02, -9.02820453e-02,\n",
      "       -9.60471630e-02,  6.83772517e-03,  1.09628223e-01,  1.24613605e-01,\n",
      "        1.02743268e-01, -1.53847978e-01, -1.49846554e-01,  9.30775404e-02,\n",
      "       -2.37251800e-02,  8.01131055e-02,  2.63096124e-01,  1.30831018e-01,\n",
      "        1.38084799e-01,  3.20463739e-02, -1.10246755e-01, -1.30778044e-01,\n",
      "       -3.58828856e-03,  2.16854662e-01, -4.88221832e-02, -8.66177082e-02,\n",
      "       -1.59921572e-01,  6.25897432e-03,  1.80268735e-01, -7.26021603e-02,\n",
      "       -7.52465203e-02,  2.06200197e-01,  3.12741175e-02,  4.34529223e-02,\n",
      "        1.03297472e-01, -1.27032399e-01, -2.25070223e-01,  3.61998081e-02,\n",
      "       -2.98295975e-01, -6.71430454e-02,  1.91331431e-01,  4.25012223e-02,\n",
      "       -1.69274718e-01, -4.48911376e-02,  2.17839196e-01, -1.13330416e-01,\n",
      "       -1.58940241e-01,  2.19717190e-01, -3.45733315e-01, -1.26718462e-01,\n",
      "        8.08287039e-02,  1.58616770e-02,  1.70139357e-01,  1.40550867e-01,\n",
      "       -6.73999488e-02,  2.04647869e-01])), ('con', array([ 2.00000000e+00,  0.00000000e+00,  3.60000000e+01,  3.50000000e+01,\n",
      "        6.00000000e+00,  0.00000000e+00,  0.00000000e+00,  0.00000000e+00,\n",
      "        0.00000000e+00,  5.00000000e+00,  1.00000000e+00,  1.00000000e+00,\n",
      "        0.00000000e+00,  0.00000000e+00,  0.00000000e+00,  0.00000000e+00,\n",
      "        0.00000000e+00,  0.00000000e+00, -3.34684141e-02,  8.54368061e-02,\n",
      "        1.13866918e-01, -4.21093730e-03, -2.17003487e-02,  1.34475641e-02,\n",
      "        1.27109185e-01, -1.34007663e-01,  1.11237019e-01, -1.04814619e-02,\n",
      "        7.52025396e-02, -2.82221381e-02, -9.07226577e-02,  9.53662966e-04,\n",
      "        2.51706820e-02,  1.05609307e-02, -6.71331584e-02, -2.13558879e-02,\n",
      "       -7.62318745e-02,  6.68216497e-02, -1.22558564e-01,  3.08826044e-02,\n",
      "        8.12930614e-02,  1.38046071e-02, -7.61495233e-02,  4.88811033e-03,\n",
      "        8.78572091e-02,  6.87931702e-02, -3.87503356e-02, -2.77283266e-02,\n",
      "        5.58501482e-02, -1.10214531e-01,  3.50889042e-02,  1.18143924e-01,\n",
      "       -1.50424670e-02,  8.56874138e-02, -1.00242533e-01, -1.03459563e-02,\n",
      "       -2.10034866e-02, -2.10126629e-03,  7.88776278e-02, -3.23789939e-02,\n",
      "       -5.80946766e-02,  2.00154576e-02, -8.32967833e-02,  1.14175282e-01,\n",
      "       -8.63582417e-02,  1.60091490e-01,  1.92004105e-03, -4.42996211e-02,\n",
      "       -8.17983747e-02,  3.71679403e-02, -7.50675499e-02,  4.81579341e-02,\n",
      "       -4.34696898e-02,  1.23970635e-01, -2.43262202e-03,  2.51862835e-02,\n",
      "       -4.59286990e-03, -2.00614706e-02, -6.97646588e-02, -1.66099429e-01,\n",
      "       -2.88616400e-02, -2.32071728e-02, -7.98961148e-02, -9.01451632e-02,\n",
      "       -2.34352741e-02, -1.10057838e-01, -2.16061808e-02,  6.12479262e-03,\n",
      "        5.37109412e-02,  9.01109278e-02, -2.39815097e-02,  4.61201072e-02,\n",
      "       -8.79818201e-03, -6.24589659e-02,  9.97093022e-02,  6.85781017e-02,\n",
      "        6.22324385e-02, -1.88886598e-02, -1.35483474e-01, -1.27573954e-02,\n",
      "        5.94942691e-03, -9.04042572e-02,  2.52987701e-03, -1.02677634e-02,\n",
      "        3.18386108e-02,  1.03239879e-01, -1.35025442e-01,  5.58458604e-02,\n",
      "        1.60406232e-02, -1.88401260e-03, -3.63702476e-02,  1.05700955e-01,\n",
      "        2.19940897e-02,  1.02697751e-02,  1.99348759e-03,  2.23299209e-02,\n",
      "       -1.13350853e-01, -9.38493907e-02, -9.76974815e-02, -1.73249841e-01,\n",
      "        1.06042914e-01, -4.65755686e-02, -6.31635040e-02, -1.68135967e-02,\n",
      "       -3.01692747e-02, -7.10940734e-02,  2.94451397e-02,  1.91089027e-02,\n",
      "       -9.07799080e-02,  1.48154110e-01, -5.59883788e-02, -1.32898679e-02,\n",
      "       -1.23226040e-04, -1.43481597e-01,  7.31600225e-02, -4.15935516e-02,\n",
      "       -3.38727087e-02,  5.60236536e-02, -1.02964722e-01,  7.72688016e-02,\n",
      "       -5.50597310e-02,  3.97897176e-02,  2.75706667e-02,  1.44772120e-02,\n",
      "       -6.14274442e-02,  3.37726437e-02])), ('con', array([ 1.78947368e+00,  0.00000000e+00,  6.96000000e+02,  2.57000000e+02,\n",
      "        1.60000000e+01,  0.00000000e+00,  0.00000000e+00,  0.00000000e+00,\n",
      "        0.00000000e+00,  0.00000000e+00,  0.00000000e+00,  0.00000000e+00,\n",
      "        0.00000000e+00,  0.00000000e+00,  0.00000000e+00,  0.00000000e+00,\n",
      "        0.00000000e+00,  0.00000000e+00, -8.56786370e-02, -2.61458401e-02,\n",
      "        7.32648969e-02,  1.43752873e-01,  2.99731549e-02, -5.45707308e-02,\n",
      "        2.12289184e-01, -1.46266982e-01,  1.69740558e-01, -1.26924310e-02,\n",
      "        4.23042439e-02,  3.59452236e-03,  1.54090196e-01, -4.95156161e-02,\n",
      "        8.31470340e-02,  6.89633638e-02,  8.45174119e-02,  3.04126684e-02,\n",
      "       -2.59461533e-02,  1.15009844e-01, -3.23569328e-02,  4.62851562e-02,\n",
      "       -1.22360643e-02,  1.73537984e-01,  1.26174256e-01, -6.97297007e-02,\n",
      "        1.48182869e-01, -9.48970467e-02, -6.16325662e-02, -5.86625934e-02,\n",
      "        1.37842581e-01, -1.62768494e-02,  1.41555116e-01,  1.28592342e-01,\n",
      "       -4.95714433e-02, -3.63249853e-02, -2.16872782e-01,  1.37453169e-01,\n",
      "       -5.76134631e-03, -1.46733299e-01, -2.11210679e-02,  6.24400601e-02,\n",
      "       -7.58710280e-02, -2.76325550e-02, -8.67277235e-02,  3.76365855e-02,\n",
      "        2.74025667e-02,  1.21563591e-01,  3.81551799e-03, -3.22889388e-02,\n",
      "        3.47581059e-02, -1.46062046e-01, -3.83377858e-02,  7.25177974e-02,\n",
      "       -2.19831198e-01,  1.71674378e-02,  1.70818657e-01,  4.15726453e-02,\n",
      "        1.08498514e-01, -2.66151100e-01,  3.76149602e-02, -1.06713092e-02,\n",
      "       -9.93676111e-02,  7.93726742e-02,  2.34393566e-03, -7.95945078e-02,\n",
      "        4.36354280e-02, -1.31817415e-01,  8.15411955e-02, -1.46012992e-01,\n",
      "        3.98563109e-02,  2.71044016e-01, -1.27167419e-01, -3.40958498e-02,\n",
      "       -1.39702246e-01,  2.61322800e-02,  2.91146170e-02,  6.58630431e-02,\n",
      "       -1.60679638e-01, -5.94952703e-02, -1.06856704e-01, -3.69124785e-02,\n",
      "       -2.79813129e-02, -6.09756522e-02, -1.49999186e-01,  1.40476432e-02,\n",
      "       -4.47747298e-02,  1.36600003e-01,  1.27731459e-02,  2.49035180e-01,\n",
      "       -7.44396299e-02, -1.51970744e-01,  2.83694174e-02,  2.05101728e-01,\n",
      "       -2.87159067e-02,  1.05099469e-01, -1.22666597e-01, -2.01470461e-02,\n",
      "       -2.82773618e-02, -1.08241484e-01, -3.05078272e-02, -1.62567586e-01,\n",
      "       -1.59890857e-02, -7.81814754e-02, -8.33210573e-02, -1.23707727e-01,\n",
      "        9.89070982e-02,  6.98593771e-03,  1.23529688e-01,  9.44576785e-02,\n",
      "        1.71308592e-01,  6.05358109e-02,  1.25286743e-01, -4.55973707e-02,\n",
      "        3.39349769e-02,  2.99369376e-02,  4.19980735e-02, -1.83647051e-01,\n",
      "        1.05653688e-01, -2.44853199e-02,  1.93985403e-02, -3.35349515e-02,\n",
      "       -8.95878971e-02,  9.78789572e-03,  5.34912460e-02, -6.69810921e-02,\n",
      "       -1.37389630e-01, -5.93165569e-02])), ('con', array([ 2.00000000e+00,  0.00000000e+00,  9.70000000e+02,  3.23000000e+02,\n",
      "        1.80000000e+01,  0.00000000e+00,  0.00000000e+00,  0.00000000e+00,\n",
      "        0.00000000e+00,  1.70000000e+01,  1.00000000e+00,  1.00000000e+00,\n",
      "        0.00000000e+00,  0.00000000e+00,  0.00000000e+00,  0.00000000e+00,\n",
      "        0.00000000e+00,  0.00000000e+00, -3.85418124e-02,  3.19768012e-01,\n",
      "        4.08325613e-01,  3.91161814e-02,  2.51829684e-01,  5.95703535e-02,\n",
      "       -8.24441761e-03,  2.10511554e-02,  1.30540887e-02,  1.53916597e-01,\n",
      "       -8.51334482e-02, -2.66636103e-01, -2.27945559e-02, -1.42598748e-01,\n",
      "       -5.78279607e-02, -5.50714768e-02, -6.81288168e-02, -1.11029267e-01,\n",
      "       -2.09272444e-01, -5.23035526e-02, -3.54185969e-01,  1.76698882e-02,\n",
      "       -1.76909138e-02, -5.10602854e-02, -1.82082832e-01, -3.91599000e-01,\n",
      "        4.65711094e-02, -2.08562389e-02,  2.92738497e-01,  1.28619567e-01,\n",
      "        2.62381006e-02, -1.69107467e-01,  8.90711769e-02, -1.08191118e-01,\n",
      "        4.39761057e-02, -1.38853014e-01, -3.85159999e-02, -1.31188065e-01,\n",
      "        8.83295685e-02, -5.96913062e-02,  1.06319238e-03,  1.03992388e-01,\n",
      "       -8.37036073e-02,  5.90893365e-02, -4.61518876e-02,  1.72787622e-01,\n",
      "       -8.97090137e-02,  1.03361048e-01, -3.11494935e-02,  9.91780534e-02,\n",
      "        2.27153338e-02,  6.82891160e-02, -1.92600824e-02, -4.52421308e-02,\n",
      "       -6.00489676e-02,  1.65253822e-02,  2.08312407e-01,  7.88567513e-02,\n",
      "       -7.90992826e-02, -1.81400552e-01,  1.05813265e-01,  3.09438966e-02,\n",
      "       -7.80337602e-02,  2.94178519e-02, -1.73839957e-01,  2.07245886e-01,\n",
      "       -7.13330805e-02, -5.21574207e-02,  9.62308422e-02,  6.58157915e-02,\n",
      "        1.83548421e-01, -5.40164597e-02,  1.10386154e-02,  3.11830603e-02,\n",
      "       -1.97958246e-01, -3.47213931e-02,  1.51964232e-01,  5.82304634e-02,\n",
      "       -1.10167162e-02, -2.85784379e-02,  1.13671839e-01, -1.33098722e-01,\n",
      "       -4.88582216e-02,  2.54155304e-02,  1.74096912e-01,  1.22860081e-01,\n",
      "       -3.80189344e-02, -5.51641881e-02, -1.15622826e-01,  2.06379116e-01,\n",
      "        2.58141290e-02,  1.60697028e-02, -1.07734166e-01,  2.92237271e-02,\n",
      "       -2.38081794e-02, -1.86681286e-01,  3.18966769e-02, -4.61396053e-02,\n",
      "       -1.30468503e-01, -2.12175652e-01, -1.35698304e-01,  8.95263162e-04,\n",
      "        8.53728428e-02, -2.20143661e-01, -1.54928192e-01, -9.23184007e-02,\n",
      "        1.62945241e-01, -2.38437027e-01, -7.05197677e-02,  1.15192145e-01,\n",
      "        2.31347214e-02,  9.13360566e-02, -2.23200113e-01, -6.06919527e-02,\n",
      "        9.16052833e-02, -1.85624495e-01, -6.79976493e-02, -8.46987069e-02,\n",
      "        5.21814032e-03,  4.19406071e-02, -1.17189422e-01, -9.71376058e-03,\n",
      "       -1.94650427e-01,  9.78051722e-02, -2.70263076e-01, -1.39993988e-02,\n",
      "       -7.65182674e-02, -3.85368802e-02])), ('con', array([ 2.27586207e+00,  3.48746082e-02,  2.85500000e+03,  7.16000000e+02,\n",
      "        4.10000000e+01,  7.00000000e+00,  7.00000000e+00,  1.00000000e+00,\n",
      "        0.00000000e+00,  1.90000000e+01,  4.00000000e+00,  4.00000000e+00,\n",
      "        0.00000000e+00,  0.00000000e+00,  0.00000000e+00,  0.00000000e+00,\n",
      "        0.00000000e+00,  0.00000000e+00, -1.61377445e-01,  2.77695566e-01,\n",
      "       -3.84990089e-02, -2.85215268e-04,  9.03909430e-02, -5.65924607e-02,\n",
      "        1.96445510e-01,  1.53428763e-01,  1.49326146e-01, -1.32019401e-01,\n",
      "        1.34995461e-01,  1.81018502e-01, -2.64195842e-03, -8.67474303e-02,\n",
      "       -1.03961052e-02,  3.43141053e-03, -7.95809701e-02, -3.55080813e-01,\n",
      "       -1.22253932e-01, -7.01450184e-02, -2.16354936e-01,  7.49487355e-02,\n",
      "        9.94042233e-02,  3.99009883e-02, -2.20710486e-01, -2.99093109e-02,\n",
      "       -7.05326200e-02,  8.99061859e-02, -1.38868973e-01,  4.70397845e-02,\n",
      "        1.44488476e-02, -1.36439666e-01, -7.40262643e-02,  2.41413653e-01,\n",
      "       -1.08848020e-01,  9.91382524e-02, -1.87505543e-01, -7.57647082e-02,\n",
      "       -7.37450048e-02, -2.75464938e-03, -2.29789890e-04,  1.46560043e-01,\n",
      "       -7.39803771e-03,  4.47081290e-02, -1.53578624e-01, -3.78993936e-02,\n",
      "        4.48276579e-01, -1.22177459e-01,  3.27669457e-02, -6.93290457e-02,\n",
      "       -7.90086091e-02,  7.95614347e-02, -8.16132058e-04,  1.27214983e-01,\n",
      "       -1.01624578e-01, -7.35162273e-02,  2.60072976e-01,  1.11031838e-01,\n",
      "        5.77860177e-02, -6.96871653e-02, -8.25175494e-02, -5.73657565e-02,\n",
      "       -4.86909337e-02, -1.03687584e-01,  1.87529430e-01, -7.66673759e-02,\n",
      "       -2.40344368e-02, -1.36117339e-01, -1.23746037e-01, -1.06863208e-01,\n",
      "        1.65174678e-01,  5.63450903e-02, -1.05047852e-01,  1.85198084e-01,\n",
      "       -1.08833700e-01, -2.60346293e-01, -1.90843772e-02, -1.87987596e-01,\n",
      "       -6.11384735e-02, -4.34220403e-01, -3.34610641e-02,  9.19931009e-02,\n",
      "       -1.88969336e-02, -3.64067405e-02, -3.20693284e-01, -1.41995564e-01,\n",
      "       -3.69699091e-01,  1.56211704e-01, -2.21829265e-01,  1.80863012e-02,\n",
      "       -2.34701023e-01, -3.02823540e-02, -1.01416841e-01,  3.18066068e-02,\n",
      "       -1.56696200e-01,  1.26037300e-01, -1.04591452e-01,  2.99490485e-02,\n",
      "       -2.20823273e-01,  9.77697596e-02,  1.42120436e-01, -1.63951665e-01,\n",
      "       -2.34684870e-02,  1.09910324e-01,  1.54692546e-01,  7.52791315e-02,\n",
      "       -6.28097132e-02, -2.69886032e-02,  8.01151469e-02, -1.18120447e-01,\n",
      "        1.50584728e-01,  2.49342278e-01,  2.88468245e-02, -2.46419653e-01,\n",
      "       -2.82021016e-01, -1.35449246e-01,  3.71932089e-02, -1.36619722e-02,\n",
      "       -2.42212296e-01,  1.95888560e-02, -3.15221250e-02, -2.25191385e-01,\n",
      "       -3.26477826e-01, -1.31300673e-01, -4.62921113e-02, -4.28099670e-02,\n",
      "       -1.85533077e-01,  4.20531556e-02])), ('con', array([ 2.00000000e+00,  5.20833333e-02,  3.53000000e+02,  1.91000000e+02,\n",
      "        1.30000000e+01,  1.00000000e+00,  1.00000000e+00,  1.00000000e+00,\n",
      "        0.00000000e+00,  0.00000000e+00,  0.00000000e+00,  0.00000000e+00,\n",
      "        0.00000000e+00,  0.00000000e+00,  0.00000000e+00,  0.00000000e+00,\n",
      "        0.00000000e+00,  0.00000000e+00, -4.40520644e-02,  8.35255533e-03,\n",
      "       -6.95682969e-03, -1.29301045e-02,  2.87613720e-02,  1.23750996e-02,\n",
      "        5.05110510e-02,  1.51435912e-01, -7.32192695e-02, -6.08108975e-02,\n",
      "        1.04751967e-01, -2.68333331e-02, -3.14137526e-02, -2.85728853e-02,\n",
      "        1.68091292e-03,  3.58148403e-02,  1.83748305e-01, -6.09085970e-02,\n",
      "        1.32024452e-01,  1.60411611e-01, -8.48869532e-02, -1.52243134e-02,\n",
      "       -3.15628983e-02, -2.61229575e-01, -1.27619326e-01, -6.75589442e-02,\n",
      "        7.56308585e-02,  1.78376641e-02, -1.11935608e-01, -1.31500941e-02,\n",
      "        6.11458207e-04,  5.27530313e-02, -7.25377053e-02, -1.57866955e-01,\n",
      "       -1.66405052e-01, -3.21712755e-02, -1.46930605e-01, -4.52219471e-02,\n",
      "       -7.33147562e-02,  8.28902945e-02, -3.97057459e-02,  1.01341262e-01,\n",
      "        1.87011331e-01,  2.03720536e-02, -1.86633334e-01,  1.09403707e-01,\n",
      "       -7.96495751e-02,  2.91317087e-02,  7.87329301e-02,  1.40018167e-03,\n",
      "        1.14869913e-02,  1.27022400e-01,  5.31067550e-02,  1.40022874e-01,\n",
      "       -7.95086771e-02,  3.27910855e-02, -6.02379739e-02,  2.46687178e-02,\n",
      "       -1.82318538e-01,  1.22138791e-01,  4.27065976e-02,  2.17597075e-02,\n",
      "       -8.58304873e-02,  3.11735626e-02, -8.52318108e-02, -7.45910704e-02,\n",
      "       -3.65368724e-02, -1.23834930e-01, -1.10569522e-01, -1.98548481e-01,\n",
      "        1.78972319e-01,  6.85019717e-02,  1.22602239e-01,  3.42904963e-02,\n",
      "        5.23812659e-02,  9.52497274e-02,  1.18090585e-01,  1.01012893e-01,\n",
      "       -1.56709909e-01, -6.90538064e-02, -2.36724004e-01,  4.18622196e-02,\n",
      "        1.55386150e-01,  1.38705343e-01, -7.34421909e-02, -7.67585412e-02,\n",
      "        6.14508837e-02, -9.92869064e-02, -5.46852164e-02,  1.09487757e-01,\n",
      "       -1.82160929e-01, -4.03594412e-02, -1.17780969e-01, -1.69935763e-01,\n",
      "        1.79653585e-01, -1.42284471e-03,  8.17397907e-02,  1.50336593e-01,\n",
      "        3.87209021e-02, -6.11804239e-02,  9.09721926e-02,  8.02534260e-03,\n",
      "       -4.88439649e-02,  1.39743194e-01,  9.54625756e-02,  7.76952412e-03,\n",
      "       -1.49461672e-01, -6.06402792e-02, -3.27971205e-02,  3.73889357e-02,\n",
      "        1.25370577e-01,  1.08152770e-01,  6.24636635e-02, -1.71990916e-02,\n",
      "       -2.73959458e-01, -1.20714806e-01, -4.19115014e-02, -2.02028871e-01,\n",
      "        6.72309622e-02,  8.33933279e-02, -1.42297328e-01, -7.59566501e-02,\n",
      "       -8.45061541e-02,  1.00939691e-01, -8.86804387e-02, -1.90951973e-01,\n",
      "       -1.16563499e-01,  6.55424371e-02])), ('con', array([ 1.77777778e+00,  0.00000000e+00,  3.50000000e+01,  4.20000000e+01,\n",
      "        7.00000000e+00,  0.00000000e+00,  0.00000000e+00,  0.00000000e+00,\n",
      "        0.00000000e+00,  0.00000000e+00,  0.00000000e+00,  0.00000000e+00,\n",
      "        0.00000000e+00,  0.00000000e+00,  0.00000000e+00,  0.00000000e+00,\n",
      "        0.00000000e+00,  0.00000000e+00, -1.69273932e-02,  5.05952239e-02,\n",
      "        1.04508124e-01,  3.25393192e-02,  6.72461241e-02,  1.94256827e-02,\n",
      "        5.47585823e-02, -1.89886652e-02,  1.54259473e-01,  4.64124195e-02,\n",
      "        3.49650793e-02, -4.97900024e-02,  5.04696518e-02, -1.37040317e-01,\n",
      "        9.33755562e-03, -5.62277697e-02, -1.59113500e-02, -1.92175936e-02,\n",
      "       -1.01905674e-01,  1.08677886e-01, -7.22366869e-02,  8.72773752e-02,\n",
      "       -2.38572899e-02,  2.70700101e-02, -6.49278387e-02, -8.71352013e-03,\n",
      "       -3.73180956e-02, -6.29278645e-03, -1.65784534e-03,  8.79786909e-02,\n",
      "        1.06796017e-02, -3.84515449e-02,  4.63231467e-02, -3.31595615e-02,\n",
      "        4.85056527e-02, -7.19991997e-02, -2.84686778e-02,  1.10676132e-01,\n",
      "       -1.07757874e-01,  3.31929550e-02,  1.09439483e-03,  5.50080240e-02,\n",
      "       -4.41240408e-02, -8.81728753e-02, -9.48084816e-02,  1.45023152e-01,\n",
      "        9.34476256e-02,  1.01441786e-01, -2.22994909e-02, -1.58096440e-02,\n",
      "       -6.40969127e-02, -1.21040791e-02, -4.80370261e-02,  7.87644982e-02,\n",
      "       -1.00907438e-01,  3.59827355e-02,  4.97374497e-02,  3.52401957e-02,\n",
      "       -1.20768882e-02, -6.25009015e-02, -1.25971138e-01,  7.59845972e-03,\n",
      "       -6.94550872e-02, -5.05186319e-02, -1.66576430e-01, -6.85804561e-02,\n",
      "       -4.83036265e-02, -1.20930672e-01, -9.06819552e-02,  1.19729259e-03,\n",
      "        9.77777392e-02,  2.02486470e-01, -2.55387910e-02,  1.29045531e-01,\n",
      "       -5.20917289e-02, -5.75808547e-02, -8.91188905e-02, -5.24146073e-02,\n",
      "        3.14676622e-03, -1.43447876e-01, -8.81852582e-02, -3.88751365e-02,\n",
      "        3.22859623e-02, -8.59692916e-02, -1.08366810e-01,  1.21721305e-01,\n",
      "        2.85381149e-03,  1.07935958e-01, -1.57527804e-01,  4.94808070e-02,\n",
      "       -8.42436776e-02, -6.76924437e-02, -7.07580820e-02,  8.36940035e-02,\n",
      "       -8.18063226e-03,  5.12431040e-02, -6.87691420e-02,  2.76175663e-02,\n",
      "       -1.63601741e-01, -3.06316316e-02,  1.13884807e-01, -9.10725631e-03,\n",
      "       -6.02135062e-03, -1.01982635e-02, -6.33139238e-02, -3.52263041e-02,\n",
      "       -2.45583523e-02,  9.60723683e-03, -2.77143493e-02, -5.61992005e-02,\n",
      "       -3.01911286e-03,  8.61900672e-02, -7.71990344e-02,  2.87207905e-02,\n",
      "       -9.22377035e-02, -1.45794779e-01,  5.91225028e-02, -1.34261012e-01,\n",
      "        4.99358587e-02, -4.90905270e-02, -8.97257328e-02,  3.88960652e-02,\n",
      "       -1.09813534e-01,  8.36432874e-02, -1.25268837e-02,  1.69118457e-02,\n",
      "       -7.57541656e-02,  6.95201084e-02])), ('con', array([ 2.08000000e+00,  0.00000000e+00,  1.73300000e+03,  5.36000000e+02,\n",
      "        2.80000000e+01,  2.00000000e+00,  1.00000000e+00,  0.00000000e+00,\n",
      "        0.00000000e+00,  0.00000000e+00,  0.00000000e+00,  0.00000000e+00,\n",
      "        0.00000000e+00,  0.00000000e+00,  0.00000000e+00,  0.00000000e+00,\n",
      "        0.00000000e+00,  0.00000000e+00,  6.17964044e-02,  3.66398729e-02,\n",
      "       -1.45174459e-01, -7.69959092e-02,  6.10538051e-02,  2.40134448e-01,\n",
      "        1.51638523e-01, -7.10549057e-02,  3.12204093e-01,  1.50043383e-01,\n",
      "       -3.74984741e-02,  8.73581767e-02, -2.66481414e-02, -2.78878093e-01,\n",
      "        1.22908875e-01,  6.09663539e-02,  5.80345234e-03,  4.51241173e-02,\n",
      "       -1.24041654e-01, -2.60571688e-01, -6.36176765e-02,  1.25200242e-01,\n",
      "        5.65261804e-02,  2.77930647e-01, -1.46772355e-01,  1.08148985e-01,\n",
      "       -2.49073893e-01, -1.44523874e-01, -2.78181005e-02, -1.07352227e-01,\n",
      "        2.27627028e-02, -2.18652263e-01,  1.70790348e-02,  5.65117076e-02,\n",
      "        2.83645019e-02,  5.39515652e-02, -2.13371083e-01,  1.93940639e-01,\n",
      "        1.73132289e-02,  1.39860198e-01, -9.46089998e-02, -1.17625132e-01,\n",
      "       -6.07085004e-02, -1.11804232e-01, -9.06107798e-02,  2.16851994e-01,\n",
      "       -5.16704842e-02,  1.11345276e-01,  1.04897961e-01, -2.39854217e-01,\n",
      "        6.51206225e-02,  4.51143868e-02, -1.60723776e-01,  1.07692197e-01,\n",
      "       -2.91124374e-01,  1.30239516e-01,  1.69277370e-01,  2.46173680e-01,\n",
      "       -1.01737939e-01, -2.89975584e-01, -1.03306592e-01,  1.77713148e-02,\n",
      "       -4.36674058e-03, -1.81063707e-03,  5.69973253e-02, -8.58025998e-02,\n",
      "       -1.64465770e-01, -5.42733632e-02, -6.33611083e-02, -7.95456171e-02,\n",
      "       -3.79429162e-02, -1.89646855e-01,  8.74065235e-02,  1.03544280e-01,\n",
      "        1.01990879e-01,  6.88635036e-02,  1.45506123e-02, -4.24988493e-02,\n",
      "        1.80510301e-02, -1.04460835e-01, -9.82255191e-02, -3.12580615e-02,\n",
      "       -9.35153365e-02, -2.06338242e-01, -5.53286308e-03, -1.53756812e-01,\n",
      "        7.81899765e-02,  1.27385870e-01,  3.24787758e-02, -3.46905552e-02,\n",
      "       -8.48524719e-02,  8.03209562e-03,  2.20218096e-02,  1.65728644e-01,\n",
      "       -2.59010568e-02,  1.19241830e-02, -6.20407723e-02, -1.56509236e-01,\n",
      "       -7.45476782e-02, -2.50883270e-02,  2.18414217e-01, -2.64091432e-01,\n",
      "        5.51468283e-02, -9.04109776e-02, -1.11007817e-01,  2.32521892e-02,\n",
      "        2.30462812e-02, -1.61702391e-02,  4.66313325e-02, -1.31851658e-01,\n",
      "        8.74767527e-02,  1.74372233e-02, -2.51289140e-02,  1.55530438e-01,\n",
      "        1.48345724e-01, -5.24528809e-02, -2.66049113e-02, -2.82347086e-04,\n",
      "        1.33435540e-02, -2.33518824e-01,  2.98225842e-02, -1.24593392e-01,\n",
      "       -2.15037074e-02,  1.70510024e-01, -1.02980338e-01,  2.20246792e-01,\n",
      "        1.82768889e-02,  2.83453673e-01])), ('con', array([ 1.80952381e+00,  0.00000000e+00,  9.87000000e+02,  3.25000000e+02,\n",
      "        1.80000000e+01,  0.00000000e+00,  0.00000000e+00,  0.00000000e+00,\n",
      "        0.00000000e+00,  0.00000000e+00,  0.00000000e+00,  0.00000000e+00,\n",
      "        0.00000000e+00,  0.00000000e+00,  0.00000000e+00,  0.00000000e+00,\n",
      "        0.00000000e+00,  0.00000000e+00, -5.20151518e-02, -2.63235979e-02,\n",
      "        2.11836547e-01,  1.01813763e-01,  1.49813622e-01, -7.36284852e-02,\n",
      "        4.25209016e-01, -1.48314238e-01,  2.93552667e-01,  1.82667211e-01,\n",
      "       -8.62224922e-02, -3.12250312e-02,  1.24574259e-01, -1.95913538e-01,\n",
      "        3.72262821e-02, -1.50594786e-01,  1.70570165e-01, -1.64715033e-02,\n",
      "       -8.89758095e-02, -5.20487092e-02, -1.26149639e-01,  1.12747408e-01,\n",
      "       -7.50265792e-02, -4.54717614e-02, -5.14768399e-02,  3.18200290e-02,\n",
      "       -4.56928089e-02, -1.93075724e-02, -1.80265754e-01,  9.11579356e-02,\n",
      "        4.22812253e-02, -4.31775581e-03,  2.83351362e-01,  1.70893237e-01,\n",
      "       -3.82912122e-02, -2.10744645e-02, -2.31971771e-01,  2.07650870e-01,\n",
      "       -6.30675033e-02,  1.03536963e-01,  8.26879963e-02,  2.35423416e-01,\n",
      "       -9.97731388e-02, -5.93027472e-03, -9.90507901e-02,  1.58716336e-01,\n",
      "       -8.60202760e-02,  1.75421625e-01,  4.95355614e-02, -1.72709137e-01,\n",
      "       -1.03670135e-01,  9.12845954e-02,  5.42756207e-02, -3.56135406e-02,\n",
      "       -5.59647307e-02,  1.73115447e-01,  1.19427495e-01,  2.48750448e-01,\n",
      "       -7.53975585e-02, -1.39780700e-01, -6.80929422e-02, -5.71436808e-02,\n",
      "       -1.02987610e-01, -5.99850602e-02, -1.66281924e-01,  1.35540748e-02,\n",
      "       -3.99221219e-02, -2.13732705e-01, -2.45070551e-02,  8.33586082e-02,\n",
      "        2.44332969e-01,  1.00043133e-01, -2.72773057e-02, -8.40798542e-02,\n",
      "       -1.82232052e-01,  1.90854460e-01, -1.89300254e-02, -1.50540352e-01,\n",
      "       -1.84968948e-01, -8.11831281e-02, -1.17179491e-01,  2.08852384e-02,\n",
      "       -6.08784221e-02, -4.78355959e-02, -4.66404296e-02,  2.08448116e-02,\n",
      "       -1.90760463e-01,  1.15807652e-01, -1.32246003e-01,  3.35276946e-02,\n",
      "       -1.96098626e-01,  7.34776929e-02,  9.97367874e-03,  2.95094043e-01,\n",
      "        5.70360478e-03, -6.10391721e-02,  9.67638195e-02,  3.21379937e-02,\n",
      "       -9.14468616e-02, -5.00925258e-02,  8.85335654e-02, -4.76148166e-02,\n",
      "        1.53853178e-01, -1.19331010e-01,  1.66103598e-02, -8.37838724e-02,\n",
      "        1.32240400e-01, -1.86639354e-02, -3.29156294e-02, -7.61793107e-02,\n",
      "        3.53185413e-03,  1.46267682e-01, -2.64703780e-02, -7.82651901e-02,\n",
      "       -1.16929263e-01, -1.53743606e-02,  1.76568665e-02, -8.17088187e-02,\n",
      "        1.56743914e-01, -4.77931872e-02, -9.56912190e-02, -8.93567353e-02,\n",
      "       -1.39401898e-01,  2.45549739e-03, -9.38508436e-02, -9.04496014e-02,\n",
      "       -1.53282154e-02, -2.04404090e-02])), ('con', array([ 2.34482759e+00,  2.07307061e-02,  2.80800000e+03,  7.75000000e+02,\n",
      "        5.00000000e+01,  1.00000000e+01,  1.00000000e+01,  1.00000000e+00,\n",
      "        0.00000000e+00,  0.00000000e+00,  0.00000000e+00,  0.00000000e+00,\n",
      "        0.00000000e+00,  0.00000000e+00,  0.00000000e+00,  0.00000000e+00,\n",
      "        0.00000000e+00,  0.00000000e+00,  4.25698943e-02, -5.80917820e-02,\n",
      "        4.16712882e-03,  8.26242417e-02, -9.33545455e-03,  5.67380711e-02,\n",
      "        1.54690146e-01, -7.16877729e-02,  1.07855335e-01,  1.84242874e-01,\n",
      "        2.69742310e-01,  1.03628986e-01,  1.26442850e-01, -1.71839118e-01,\n",
      "       -1.61170438e-02, -4.59036306e-02,  2.82422490e-02, -8.49214150e-04,\n",
      "        4.18297062e-03, -5.17679332e-03, -2.00634524e-01,  5.82394004e-03,\n",
      "       -1.58195674e-01,  1.58457637e-01, -1.25865638e-01,  1.66904628e-01,\n",
      "       -2.35036630e-02, -8.57674778e-02, -1.78914860e-01,  1.84323993e-02,\n",
      "       -3.38798668e-03,  1.90172773e-02, -9.14132781e-03,  5.35776168e-02,\n",
      "       -1.03276387e-01,  8.11129659e-02,  8.42638779e-03,  2.14737341e-01,\n",
      "       -1.72363356e-01, -2.14304537e-01, -1.95849128e-02,  1.07565045e-01,\n",
      "       -6.37925938e-02, -1.97231874e-01, -3.23185734e-02,  2.57607311e-01,\n",
      "       -4.50573452e-02, -2.59108748e-02,  6.42151833e-02,  3.42529640e-02,\n",
      "        4.47761081e-02,  6.58429265e-02, -5.24624214e-02,  2.42806450e-02,\n",
      "       -1.47088051e-01,  4.97035049e-02,  1.49074811e-02,  3.50336075e-01,\n",
      "       -1.61953181e-01, -2.07278848e-01, -1.73876315e-01, -1.81161597e-01,\n",
      "        1.00192785e-01,  2.82406472e-02,  6.27075806e-02, -1.30211517e-01,\n",
      "       -1.42520189e-01, -2.65989006e-01, -1.18142799e-01,  6.62800819e-02,\n",
      "        2.91519910e-02,  1.62440345e-01, -2.46691369e-02, -1.21663533e-01,\n",
      "       -1.73658594e-01, -2.11596891e-01,  2.34351501e-01, -3.25934440e-02,\n",
      "       -2.78259777e-02,  8.29536021e-02, -1.03189781e-01, -1.14906140e-01,\n",
      "       -2.61396170e-02,  2.43223071e-01, -4.53883186e-02, -1.35907352e-01,\n",
      "       -1.20199688e-01, -5.61381727e-02, -2.83281226e-02,  3.08485664e-02,\n",
      "       -8.03443976e-03, -1.89040769e-02,  1.08959489e-01,  1.01235218e-01,\n",
      "       -3.36405970e-02,  3.94397862e-02, -1.02866471e-01, -6.81218971e-03,\n",
      "        2.10651577e-01,  1.97200760e-01, -3.17553133e-02,  4.08969112e-02,\n",
      "        2.01719508e-01,  1.63897008e-01, -2.90802177e-02,  2.27634743e-01,\n",
      "        1.01916023e-01, -1.63847059e-02,  8.80968794e-02, -1.32890657e-01,\n",
      "        2.83971503e-02,  9.16542932e-02, -7.45089874e-02,  2.06609830e-01,\n",
      "        1.38667300e-01, -1.47893513e-02,  3.24915573e-02, -1.45787701e-01,\n",
      "       -4.23720069e-02,  2.55787410e-02, -2.99194939e-02,  3.54897715e-02,\n",
      "        2.51411647e-01,  7.70490393e-02,  8.60478953e-02,  1.49345666e-01,\n",
      "       -3.53651904e-02, -1.11131355e-01]))]\n"
     ]
    },
    {
     "name": "stdout",
     "output_type": "stream",
     "text": [
      "(150, 2)\n"
     ]
    }
   ],
   "source": [
    "from sklearn import manifold\n",
    "from sklearn.decomposition import PCA\n",
    "\n",
    "print(vectors)\n",
    "pca = PCA(45)\n",
    "X_r = pca.fit(X[18:,:].T).transform(X[18:,:].T)\n",
    "tsne = manifold.TSNE()\n",
    "X_embedded = tsne.fit_transform(X_r)\n",
    "print(X_embedded.shape)"
   ]
  },
  {
   "cell_type": "code",
   "execution_count": 10,
   "metadata": {},
   "outputs": [
    {
     "name": "stderr",
     "output_type": "stream",
     "text": [
      "/home/amanjuna/.local/lib/python3.6/site-packages/IPython/core/display.py:689: UserWarning:\n",
      "\n",
      "Consider using IPython.display.IFrame instead\n",
      "\n"
     ]
    },
    {
     "data": {
      "text/html": [
       "<iframe id=\"igraph\" scrolling=\"no\" style=\"border:none;\" seamless=\"seamless\" src=\"https://plot.ly/~amanjuna/44.embed\" height=\"525px\" width=\"100%\"></iframe>"
      ],
      "text/plain": [
       "<plotly.tools.PlotlyDisplay object>"
      ]
     },
     "execution_count": 10,
     "metadata": {},
     "output_type": "execute_result"
    }
   ],
   "source": [
    "import plotly\n",
    "import plotly.plotly as py\n",
    "import plotly.graph_objs as go\n",
    "from plotly import tools\n",
    "\n",
    "plotly.tools.set_credentials_file(username='amanjuna', api_key='v5RvlMiKGJwt6X5yxmUQ')\n",
    "\n",
    "plots = []\n",
    "for president in set(pres):\n",
    "    occur = [i for i, x in enumerate(pres) if x == president]\n",
    "    plots += [go.Scatter(x = X_embedded[occur,0], y = X_embedded[occur,1], mode='markers', name=president)]\n",
    "fig = go.Figure(data=plots)\n",
    "py.iplot(fig, filename=\"whatever\")"
   ]
  },
  {
   "cell_type": "code",
   "execution_count": null,
   "metadata": {},
   "outputs": [],
   "source": []
  }
 ],
 "metadata": {
  "kernelspec": {
   "display_name": "Python 3",
   "language": "python",
   "name": "python3"
  },
  "language_info": {
   "codemirror_mode": {
    "name": "ipython",
    "version": 3
   },
   "file_extension": ".py",
   "mimetype": "text/x-python",
   "name": "python",
   "nbconvert_exporter": "python",
   "pygments_lexer": "ipython3",
   "version": "3.6.6"
  }
 },
 "nbformat": 4,
 "nbformat_minor": 2
}
