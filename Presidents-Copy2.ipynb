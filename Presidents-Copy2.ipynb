{
 "cells": [
  {
   "cell_type": "code",
   "execution_count": 8,
   "metadata": {},
   "outputs": [
    {
     "name": "stdout",
     "output_type": "stream",
     "text": [
      "Embeddings loaded\n"
     ]
    }
   ],
   "source": [
    "import matplotlib.pyplot as mpl\n",
    "from analyze import *\n",
    "from utils import *\n",
    "from TextPOSDirected import TextPOSDirected as GraphGenerator\n",
    "from multiprocessing import Pool\n",
    "import json, pickle, treeUtil\n",
    "N_CORES = 4\n",
    "emb, word2id_dict, id2word_dict  = load_embeddings()"
   ]
  },
  {
   "cell_type": "code",
   "execution_count": 9,
   "metadata": {},
   "outputs": [],
   "source": [
    "[lib, con, neutral] = pickle.load(open('./data/ibc/sampleData.pkl', 'rb'))"
   ]
  },
  {
   "cell_type": "code",
   "execution_count": 13,
   "metadata": {},
   "outputs": [],
   "source": [
    "sentences = [('lib', tree.get_words()) for tree in lib] + [('neutral', tree.get_words()) for tree in neutral] + [('con', tree.get_words()) for tree in con]"
   ]
  },
  {
   "cell_type": "code",
   "execution_count": 14,
   "metadata": {},
   "outputs": [
    {
     "name": "stdout",
     "output_type": "stream",
     "text": [
      "Unk percentage: 0.02\n",
      "Unk percentage: 0.0\n",
      "Unk percentage: 0.0\n",
      "Unk percentage: 0.0\n",
      "['First , government plays an important role through such policies as family and housing allowances , universal health care , pensions , and tax credits .', \"And `` once we think positively about the State as a source of legitimate , useful activity , '' why , we can get about the serious business of the state paying `` those people performing useful labor in families , mothers caring for children , adults caring for aged parents .\", \"The narrow-minded rationality of the capitalist market , with its short-term calculus of profit and loss , is intrinsically contradictory to the rationality of the living environment , which operates in terms of long , natural cycles . ''\", 'The resulting global warming kills Amazonian trees through a combination of increased temperature and decreased rainfall .', 'If evolution is improvement and improvement is good , and if the good of the many outweighs the good of the few , it makes sense to facilitate evolution .', 'The dead are victims of free trade and neoliberal economic policies that have destroyed rural communities , causing a virtual forced march to the U.S. and maquiladora sweatshops in a hunt for jobs .', 'Eliminating unneeded weapons systems like the F\\\\/A -22 Raptor plane , the Virginia Class submarine , the DD ( X ) destroyer , and the V-22 Osprey helicopter could generate more than enough funds to finance needed increases in special forces and peacekeeping missions .', \"Still , as backlash reactions like the attack on the International Women 's Day protest have set in , activists on women 's issues and progressives are wondering how to ensure that women 's gains not be rolled back .\", 'Our intent with The Rich and the Rest of Us is to make us think about the pervasiveness of poverty , its real causation , and the threat it poses to our democracy .', 'The more important point is perhaps that the original Tea Party movement , started by Ron Paul supporters prior to the 2008 election , was not created to bring electoral victory to Republican clones of the big-spending Democrats .', \"A recent Democracy Corps poll found that helping the neediest and expanding opportunities are still among the party 's strongest positive attributes , behind only equal rights and environmental protection .\", 'She realizes she hates being told what to do by her parents and teachers , especially when she thinks the rules are stupid or being used solely for authoritarian control .', 'By contrast , as Noam Chomsky notes , the pre-capitalist , chief architect of the American Federal Constitution , James Madison , recognized the same age-old conflict between rich and poor , but proposed the exact opposite solution , arguing , in effect to let the systemic inequalities in American society remain , and reduce the scope of popular participation in government .', 'The Taft-Hartley Act of 1947 had rolled back union protections ; the subsequent decline , in numbers and power , of labor unions would change the course of liberalism , as its strongest force for economic populism lost political influence both within the movement and in the wider world .', 'As usual , then , government intervention into the market caused unintended , undesired consequences , but politicians blame the HMOs instead of the interventions that helped create them .', \"He writes sarcastically that he must have been absent from Sunday school the day the lesson included Jesus ' teachings about securing `` greater economic advantages for the affluent , '' depriving the poor `` of a living wage , '' and despoiling the environment by `` sacrificing it on the altar of free enterprise .\", 'Just as a parasite that kills its host is a biological failure , so ruling classes that destroy their own productive base are clearly political failures .', 'Chinese ecological Marxists should not , therefore , treat ecological Marxism as a foreign dogma to be worshipped but a living method with which to analyze and solve the serious problems facing China such as the environmental problem , the Foxconn suicide tragedy ,28 and the gap between the rich and poor .', \"Unfortunately , the Journal ignored the second element of Illinois ' pension fund liability gap : how much of that gap was due to losses on bad investments .\", \"`` The disparity of fortune between the rich and the poor , '' Plutarch remarked , `` had reached its height , so that the city seemed to be in a truly dangerous condition , and no other means for freeing it from disturbances ... seemed possible but a despotic power .\", 'There are societies that have managed things far better , even in a world where market forces and the dominant policy paradigm lead to substantial inequality because of differences in ability , effort , and luck .', 'Robbed of those who would have otherwise signaled the impending assailment on the freedom of the press , Americans will more easily be led down the soft-sloping , gradual decline leading toward absolute subjection to an all-powerful feudal federal authority .', \"It 's now a bipartisan policy to create courts out of thin air to convict terrorist suspects , which leads to the obvious and justifiable charge that these would be kangaroo courts .\", 'We can no longer look at the energy economy as a constellation of discrete sectors that can be manipulated separately ; everything is tied together , which means that fixing a problem in one part of the system all but invariably creates a new problem , or a whole series of problems , somewhere else .', 'When a consumer buys , for example , gardening tools and materials , a positive externality is experienced by others in the community as the consumer uses the tools to make an attractive garden , which everyone in the community can enjoy and benefit from .', 'They can , in fact , defend the lower standard of living their policies are creating by declaring that lower wages and benefits are actually making America more competitive in a global marketplace .', \"They even managed to gain overwhelming popular support for repeal of the estate tax-perhaps the nation 's most progressive tax , affecting less than 2 percent of the wealthiest few-by renaming it the `` death tax '' and peddling a big lie about protecting family farms and small businesses .\", \"To Frank , however , Washington is the yin to Kansas ' yang , and if heartland voters ignore their interests in favor of voting on `` values , '' conservatives inside the Beltway have no commitment to values except greed .\", 'Hezbollah chief Hassan Nasrallah , as a result , recently announced his intention to stop confronting Siniora and agreed to rely on elections to change the political equation in Lebanon .', 'Yet , as Josh Fox traveled the country , becoming increasingly engrossed in the vastness of the domestic drilling industry and the problems it creates , he documented how people living near gas wells are suffering water contamination , air pollution , and numerous health problems that crop up after fracking .', 'If large corporations had access to credit markets but smaller businesses were unable to pursue investment opportunities because they could not get bank credit , then we would expect to see large corporations expanding aggressively in order to gain market share at the expense of their credit-constrained smaller competitors .', 'Their incessant battle against new taxes , coupled with demands for tax cuts , have resulted in massive budget deficits that threaten the economy and the viability of government , both of which we are all utterly dependent on .', 'Since World War II , this country has turned higher education into not only a mass-market product but the best hope of achieving a middle-class income .', 'We can , therefore , understand the reasons why the 2008 financial collapse was the result of a sharpening of the internal contradictions peculiar to the accumulation of capital .', 'Because the economy must remain in continual motion , Jevons disregarded sustainable sources of energy , such as water and wind , as unreliable , limited to a particular time and location .26 Coal offered capital a universal energy source to operate production , without disruption of business patterns .', 'We need so many new solutions and our problems and challenges are so diverse and so difficult that every citizen should feel empowered to challenge the old order and to help develop new solutions .', 'And the opposite is also true : If the market does not value the natural products of the forest sufficiently , the poor migrants who settle there will cut down the forest and use the land for farming or raising cattle .', 'Over the conservative airwaves , every disagreement is a fight to the death , and everyone with a different opinion must have sinister motives .', 'Partly because of that pressure , the World Bank now argues that economic growth alone is not sufficient to overcome poverty as long as existing political and economic systems favor the rich over the poor .', \"The influential 1966 report , Equality of Educational Opportunity , led many researchers to the dispiriting conclusion that what happens inside the schoolhouse does n't affect achievement ; the decisive influences are the wealth of a student 's family and the wealth of his or her classmates ' families .\", '( The Stanley case was argued by attorney Patrick T. Murphy , who not only persuaded the U.S. Supreme Court to ditch the legal benefits of marriage in Stanley , but years later would help persuade a state agency to return a three-year-old to his abusive mother , who later hanged the boy .', \"Dutch consumers do n't have to worry about paying a lot of money for their health care , even if they are sick , in part because the insurance has very little cost-sharing-and in part because the government continues to play a strong role in setting prices , although it 's been gradually relaxing them .\", 'As a starting point , the Earned Income Tax Credit could be made a better source of income insurance , keeping families afloat when economic disasters strike , rather than a retroactive tax refund for the working poor .', 'But from New York to Philadelphia , from Seattle to Los Angeles , Occupiers were joined ( or infiltrated , in the eyes of some ) by activists talking up the benefits of a truly freed market , without government giveaways to favored interests or central bank manipulations of the economy .', 'While occasionally recognizing ( and dismissing ) that loss of freedom , critics of a voluntary-based charity system argue that without the creation of government-wide programs readily available to all , the basic needs of the poor will not be satisfactorily met .', 'This has led to global climate destabilization , the poisoning of the entire web of life with toxic chemicals , and a foreign policy that requires sustained hostilities in the Middle East and support for undemocratic regimes wherever there are remaining gas and oil reserves .', \"As a rule , Lipset observed , leftist parties won over less affluent voters by emphasizing `` the need for security of income , '' `` the need for satisfying work , '' and `` the need for status , for social recognition of one 's value and freedom from degrading discrimination in social relations .\", \"Do n't forget , too , that it 's arguably the central role of these private insurers in the new drug benefit that has made it such a mess to implement these past few weeks .\", 'We thank the Ford Foundation for supporting our work on good jobs and economic development , and The Atlantic Philanthropies for supporting our work on immigration .', 'Consumption by individuals , based on the amount of their wealth ( purchasing power ) , increases the political power of the businesses that benefit most from a system based on private profit , and therefore always relegates collective needs to second place .', 'This problem is exacerbated because using your Social Security account number or birth date as a password is a great convenience for them .', 'Some may protest that he is only playing himself , without appreciating how difficult that unique acting challenge can be .', '( ... ) according to the Rape , Abuse and Incest National Network , one in six American women is a survivor of rape or attempted rape .', 'Medical debt is a problem in its infancy , and the entry of well-established banks along with new upstarts offering credit cards and credit lines creates the potential for exploitation and abuse .', \"But there are moments of strange , otherworldly naivete , as when Kafka , in a paper on setting insurance premiums and the need to convince employers of the Institute 's prudence , opines that `` a handsome sum is certainly appropriate as compensation for accidents that have serious consequences , and no employer will even consider advocating parsimony in such cases .\", \"India 's elite intelligentsia , inculcated into `` rational '' conduct and no longer outraged by suffering , assessed the costs and benefits of militaristic violence .\", 'We resent Auto-Tune not so much because it is non-human -- we put our faith ( and , increasingly , our affection ) in electronic devices every day -- but more because the power it ap-plies , in providing a way to sing in perfect intonation , seems superhuman and , in practice , indiscriminate .', 'Nowhere does the ideological balance of the Court inspire more hope and woe than among the combatants in the abortion debate , the veritable Super Bowl of the culture wars .', 'Bear gall , too , is renowned for its healing properties : According to a pharmacy pamphlet , bear gall will `` protect the liver and brighten the eye , clear up and remove evil heat , diminish inflammation and relieve pain , benefit the gall and remove stone .', 'Part of the solution is changing the mind-set of the residents , replacing the alternating feelings of inadequacy , hopelessness , passivity , and defensiveness with more productive emotions and cogitations .', \"TNA 's well-placed source believes the CCP had hired an out-of-town contract killer to murder Allen Leung .\", 'Sure enough , as our Washington bureau chief David Corn reports , pollsters have been surprised to find that while Americans are angry about the economy , they often blame not the bankers , but politicians -- and even themselves .', 'If the first resort is to drugs , the doctor could readily miss , and fail to treat , the actual root cause of the problem .', \"( Of course , one might conclude that such an argument is really a claim that coincidence , or `` dumb luck , '' is responsible for America 's founding .\", 'The court ruled that private persons may not sue over the government practice of rendition and torture of terrorist suspects because the defense would require the government to compromise `` state secrets .', 'While the legal terrain going forward is uncertain , the practical effect of Citizens Unitedfollowed by an important appellate decision , SpeechNow.org v. FEC - has been momentous : the birth of the super PAC , a political action committee that can take unlimited , but disclosed , money from corporations , unions , and individuals to be spent independently on candidates .', 'The whole implausible performance was intended for federal officials , who had threatened to prosecute whites for killing Indians over the control of land .', \"Despite being amongst such difficult competition as The Cross , Disney 's A Christmas Carol , Knowing , Not Easily Broken , The Soloist , and Tyler Perry 's I Can Do Bad All By Myself , this movie prevailed through its inspiring true story of compassion and motivation .\", 'The series was unsigned but was written by a NMC member , Charles A. Conant , and made the usual arguments for elasticity , but added additional functions that the central bank could play , including manipulating the discount rate and gold flows as well as bailing out failing banks .', 'Storage capacity can be increased by increasing the mass or the rotational velocity , but in either case you run into the limiting problem of increased centrifugal forces that eventually lead to mechanical failure and destruction .', 'With virtually the whole Republican Party aligned with McCarthy , the hearings , unlike those held sixteen years later , were bitterly partisan and tainted by expressions of doubt about the very loyalty of the governing party .', 'The four suspects running the operation had beaten several of the victims with a curtain rod , wooden sticks , and pistols as punishment for not paying the extortion fee .', \"They also resolved that `` As Persons very commonly in Conversation use bad Grammar it is determin 'd that in the Meeting free liberty be taken by all present to criticise upon each other 's Language .\", \"Because of what Manzi calls `` causal density , '' in which the number and complexity of potential causes that give rise to a phenomenon increase dramatically , making it difficult even to identify all relevant contributing factors , much less to hold all but one constant .\", 'The aggressive arrogance common in agent handlers makes them ill-suited superiors .', 'In framing a government which is to be administered by men over men , the great difficulty lies in this : you must first enable the government to control the governed ; and in the next place oblige it to control itself .', \"`` It does n't bother me , because I 'm not doing anything wrong '' is a common reply to warnings of danger .\", 'And the comedy runs deep : it is not trivial , for while it depicts absurdity , pomposity , and even cruelty , it has the curious effect of reconciling us to life even as it lays human weaknesses out for our inspection .', 'Using a knob to control volume levels and a foot pedal to fade the various effects in and out , Douglass played his laff box like an organ , creating appropriately joyous crowds on the fly .', 'Markets can therefore elicit and amplify good information and silence ( by punishing ) bad information .', \"His main emphasis was on organization - the need for business to create a standing political operation in Washington whose power could be `` assiduously cultivated '' and `` used aggressively and with determination .\", 'Seventy-seven percent strongly agreed with the statement that `` an effective probation and parole system would use new technologies to monitor where offenders are and what they are doing , require them to pass drugtests .', \"But now , in a truly public society , they must listen to what we say , whether we 're using Twitter to complain about a product or Facebook to organize a protest .\", 'Not only did the loss of former affluence and the destruction of the old moral ethic humiliate the human pillars of society : in German minds democracy and republicanism had become so associated with financial , social , and political disorder as to render any alternatives preferable when disorder threatened again .', 'The House Rules Committee , dominated by reactionary Southerners , kept Kennedy from passing even an increase in the minimum wage , let alone his campaign promise-the cornerstone of his legislative agenda-to extend Social security to cover medical care for the elderly .', 'For example , many observers pointed to the fact that nominal interest rates were close to zero during much of the Depression , concluding that monetary policy had been about as easy as possible yet had produced no tangible benefit to the economy .', 'Shortly after her death , her father , Frank Burroughs , started the Abigail Alliance for Better Access to Developmental Drugs , a nonprofit organization , which fights to ensure that cancer patients , no matter how sick and weak , can have their insurance companies buy any experimental drug that has passed safety testing .', 'The standard monetarist explanation for the Great Depression is that the Federal Reserve , instead of pumping more money into the economy as it should have done following the October 1929 stock market crash , instead closed the money spigots , causing a credit crunch that led to bank failures and unemployment on a massive scale .', \"Such problems drive home a critical flaw in the paradigm of energy independence -- namely , that energy is n't a zero-sum game anymore .\", 'Though one scholarly article argues for an association between the opening of the supermax and a reduction in aggregate violence against guards , the effect was both small and of extremely short duration .30 Nor did this limited correlation extend to a reduction in violence against prisoners , even though such assaults , too , may lead to a transfer to Tamms .', 'But there was also Vincent van Gogh , whose most simply and eloquently limned les-sons in the emotional power of colors and lines had been wrested from the anguished days and nights of a man who could not stop working for fear that if he did he would surely go mad .', 'Stocks , for example , are underpinned by future expected company earnings ; the value today of those future flows goes up when interest rates are lower -- so any cut by the Fed is welcomed by stock-market investors .', 'First , current energy regulatory policy cripples the development of American energy and keeps us dangerously dependent on foreign energy sources .', \"By sitting on stuff , by letting it rot , hoarders flaunt their `` bad '' old stuff -- which makes a mockery of our `` good '' new stuff and our irrepressible impulse to scrap what 's obsolete and upgrade at Amazon and Overstock and the Apple Store .\", 'Numbers are particularly effective in this regard , as has been famously noted by remarks attributed to Benjamin Disraeli and Mark Twain about the three kinds of lies -- namely , `` lies , damned lies , and statistics .', 'The group can grow larger still if not only cheaters are punished , but also people who do not punish cheaters , and so forth .', 'At Capital Offenders , an examination of past abuse is not a card played in an attempt to deflect responsibility but rather a starting point for a conversation intended to heal .', 'That Winkler-Koch won every lawsuit but one ( and that verdict was later overturned when it was discovered that the judge had been bribed ) is evidence enough that the full-frontal legal assault on the upstart Koch was inspired by no higher motives than envy and greed .', 'The Secretary of Health and Human Services is authorized to use your claims data to issue you reports that measure the resources you use , provide information on the quality of care you provide , and compare the resources you use to those used by other physicians .', 'In reality , comparing the results from yearly tests only weakly indicates how well students and schools are achieving -- unless students take identical tests from year to year , which could not be done from a practical standpoint because students would cheat .', 'The old welfare program , Aid to Families with Dependent Children , too often failed to honor this core value , which helps explain not only its unpopularity with the public but also why it often isolated the very people it was supposed to help .', 'It is that they hate other things more : economic phenomena like profits , competition , and all the tensions and conflicts which threaten constantly to erupt from the marketplace .', 'Take , for instance , his argument against health care : `` The Founders could have written it in the original Constitution -- they had health care problems back then , too -- but they knew the answer was private , not the government .', 'One thing is certain , however ; if a private company or a state or local agency had caused even a tiny fraction of the damage that the EPA has caused through its MTBE fiasco , it would be facing serious punitive damages and civil penalties , if not criminal charges .', \"To moderate the pain of paying high gas prices , the Obama administration plans to confiscate a `` reasonable share '' ( you might guess who is to determine what is `` reasonable '' ) of record-breaking `` windfall profits '' of the oil companies and give it to American families as an `` emergency energy rebate .\", 'His plan to cut $ 500 billion from the bloated federal budget this fiscal year is by far the most ambitious proposal so far vetted , especially in comparison with the mere $ 100 billion that Republican Party spokesmen promised to cut if elected to a majority in the House .', '1098 would allow for competing currencies -- and for buyers and sellers to be able to use sound money whose value can not be weakened through wild creation of more of it .', 'Rather , optimum independence requires an understanding of the difference between healthy , normal dependency that must be accepted as a condition of being a part of civilization and unhealthy forms of dependency that result in a loss of dignity and purpose when others control your life .15 A better word for healthy dependence is interdependence .', \"It 's true that by producing less , Saddam would have had lower costs , so let 's bias the analysis in favor of his getting a gain from cutting output by assuming that the cost of oil production for the last 1 mbd was $ 5 per barrel , a number that most observers would regard as being on the high side .\", 'Using more embryos boosts the success rate but also results in multiple births , which are far riskier for the woman and often lead to premature delivery and dire health problems in the infants .', \"Quite the opposite , government redistribution of wealth actually destroys the positive impulses and outcomes of voluntary charity . ''\", 'We have assigned pluses to the yeas not only because the government should not be subsidizing the killing of innocent human life , but also because there is no constitutional authority for the government to manage or finance the healthcare sector .', \"Eliminating subsidies and legal privileges for hierarchical corporations would increase the likelihood that people could enjoy the job security associated with working for themselves ( with less risk than accompanies being an independent contractor in a less healthy economy ) or in partnerships or cooperatives and that , when they did work for others , they could bargain successfully for better compensation . ''\", 'They believe in the man-woman definition of marriage , that abortions not performed for health reasons are sinful ( this is as true for Orthodox Jews as for traditional Christians ) , in a God who transcends nature , in objective good and evil , in reward and punishment in an afterlife , and much more that is contrary to Leftism .', 'When work becomes illegal , employers have a big weapon to use against any effort to organize unions or fight for better conditions .', 'She seems pleased that there are a large number of fatherless families today because , contradicting all the social science evidence , she thinks males raised without fathers will treat women better .', 'Banks and huge numbers of other corporations that had failed to save for a rainy day , relying instead on the unwarranted belief that unending growth would overwhelm shaky assets or excessive leverage , failed spectacularly .', 'Facing strongly adverse public opinion on the substance of their policies , the national Democratic Party made a conscious decision to try to change the subject from stimulus bills , the national health care takeover , and the horrifying deficit and debt levels to the unacceptable personal qualities of their Republican opponents .', 'Jobs created under inherently politicized programs will displace jobs the private sector would create if the burden of government were lifted and investor confidence restored .', \"Moreover , as pointed out by Hans Bader of the Competitive Enterprise Institute , `` Government meddling , along with federal regulatory pressure on lenders to promote ` affordable housing ' and ` diversity , ' helped erode traditional lending standards , resulting in more risky mortgage loans to irresponsible people with bad credit ( as some longtime supporters of federal meddling now admit ) .\", 'There are two compelling reasons why our politics needs a platform centered on the promise of expanding economic opportunity and security for a new generation .', 'But those who distrust individual freedoms in favor of an all-powerful government are horrified by the idea that one person can possess enough power to lawfully resist , with force , unacceptable intrusions into his or her life .', \"Doctors who accept Medicare and Medicaid ( about 15 percent do n't accept Medicaid and 20 percent do n't take new Medicaid patients ) actually lose money because the government paperwork is time consuming and government reimbursements for care are low .\", \"Dr. Craig Postlewaite , director of DoD 's force readiness and health assurance , tells TAC that while the smoke from these pits could be responsible for `` acute '' health issues like `` general irritation '' of the eyes and throat , `` when we look at respiratory effects on a population-wide basis , we 're not seeing a cause for concern .\", 'liberty , personal sovereignty , individual rights , human dignity , and the opportunity to pursue happiness are given to us by God because that is the only basis that can guarantee those blessings for everyone .', \"The NPI promises to analyze how `` government policies and cultural trends adversely affect the very safety , economic standards , and traditional values of America 's historic majority .\", 'The stresses and strains of all these changes made many men , raised with ideals of masculinity based on providing for their families , feel diminished , emasculated , and devalued .', 'While there certainly has been a shift in jobs overseas , the numbers are questionable , Moody points out , because much of the job loss is the result of technological change that makes a smaller number of workers vastly more productive .', 'He has also betrayed an alarming ignorance of basic economics , cajoling businesses to step up and hire more people , as if their hiring decisions are purely a matter of personal whim and their failure to create jobs stems from just plain selfishness .', 'Perhaps the best opportunity to create such a system came in the late 1940s , when Harry Truman attempted to create a system that would have looked essentially like Medicare for the whole population .', \"It is this will to acquire and exercise power , which is both dangerous to liberty as well as destructive of environmental quality , that America 's Founders so laboriously worked to stymie , and so ingeniously succeeded in accomplishing with the Constitution 's intricate system of checks and balances .\", 'This is very evident in the push to transform the IME We are already saddled with the Federal Reserve System , a dangerously arrogant threat to our economy and our constitutional system .', 'Rejecting the morally charged rhetoric that conservatives have used to cast opprobrium on free-riding aliens , John DeStefano is arguing that the inclusion of illegal immigrants in civil society is vital to public services that benefit the whole city .', 'Representative Ron Paul ( R-Texas ) has outlined how this game has been played , noting that the Federal Reserve `` creates new money and uses it to purchase securities from banks .', 'One reason I think I won this election was I could bridge the gap with common issues that Tea Party folk and liberty folk in the district had in common ; every ( Michigan ) Tea Party group supported me .', 'The key is through charitable giving , Christians are to voluntarily tithe to the church and share their finances ( distribute wealth ) with the needy , not be forced by the government through taxes to unwillingly ( redistribute wealth ) give to whoever the government decides needs it the most .', ', which was written to overcome the arguments of atheist spokesperson Richard Dawkins ( reviewed by Heiser in the December 24 issue ) ; however , it is an exercise in futility .', 'They have transferred control of elections to the government bureaucracy they fund and control , created complex ballot-access laws , switched to the Australian ballot to weaken local parties , outlawed corporate contributions , and imposed contribution limits to make it hard for opponents to fund a credible challenge .', \"The English economist John Hicks once remarked that `` the best of all monopoly profits is a quiet life , '' meaning that a seller with monopoly power might settle for less than the largest possible profit in order to avoid attracting rivals who would have to be beaten off amid turmoil and uncertainty .\", 'While cyber-crimes could pose a devastating threat to American businesses , critics are questioning the freedom-related implications of government action , as regulations and government-private sector alliances could impede civil liberties .', \"While the Democrats railed against this tax break as a special Republican favor for `` Big Oil , '' a reduction in taxes on domestically produced oil makes exploration , drilling , and production of fuel from that domestic oil more attractive for producers , making an increase in production from domestic supplies more likely .\", 'I saw how jobs were created and how profits led to more growth and higher salaries .', \"Even the New York Times made note of the danger , worrying that `` the Fed was taking risks that could dilute the value of the dollar and set the stage for future inflation . '\", 'Fans of standards might argue that my evolution from a neophyte desperate to reach kids to a seasoned professional harnessing his creativity in the service of a more disciplined curriculum is exactly the desired result .', 'As we remain engaged in Iraq and Afghanistan , as conditions in Yemen , Bahrain , and Pakistan become more precarious by the day , and as Iran races to develop nuclear weapons , one might be tempted to conclude President Obama lacks any comprehensive strategy for addressing radical Islamism and other threats facing the United States .', 'The last-ditch argument , as Dilulio calls it , of the anti-incarceration lobby is that prisons cost too much to permit imprisonment of violent offenders for all or most of their terms .', 'In an op-ed for CNN , Otis argued that excessive regulations are killing job creation .', \"`` Central banks are grasping at straws , hoping that flooding the world with money created out of thin air will somehow resolve a crisis caused by ' un-control led government spend I tag and irresponsible debt issuance , '' the Texas Congressman said .\", \"The possibility of a general loss of confidence in fiat money is reason to believe that gold could once again play a monetary role , as I will argue in the second part of this series . ''\", 'During the 1920s , Great Britain , terrified of having to face depreciation of the pound as a result of running the printing presses , pressured the United States and other powers to inflate in concert with the Bank of England , leading to another global inflationary cycle and economic bubble that burst in 1929 with the great stock market crash .']\n"
     ]
    },
    {
     "name": "stdout",
     "output_type": "stream",
     "text": [
      "cluster began\n",
      "cluster end\n",
      "cluster began\n",
      "cluster end\n"
     ]
    },
    {
     "name": "stderr",
     "output_type": "stream",
     "text": [
      "Computing transition probabilities: 100%|██████████| 18/18 [00:00<00:00, 1969.88it/s]"
     ]
    },
    {
     "name": "stdout",
     "output_type": "stream",
     "text": [
      "cluster began\n"
     ]
    },
    {
     "name": "stderr",
     "output_type": "stream",
     "text": [
      "\n",
      "Computing transition probabilities: 100%|██████████| 21/21 [00:00<00:00, 1286.41it/s]"
     ]
    },
    {
     "name": "stdout",
     "output_type": "stream",
     "text": [
      "cluster end\n"
     ]
    },
    {
     "name": "stderr",
     "output_type": "stream",
     "text": [
      "/home/amanjuna/.local/lib/python3.6/site-packages/joblib/parallel.py:673: UserWarning: Loky-backed parallel loops cannot be called in a multiprocessing, setting n_jobs=1\n",
      "  **self._backend_args)\n",
      "\n",
      "/home/amanjuna/.local/lib/python3.6/site-packages/joblib/parallel.py:673: UserWarning: Loky-backed parallel loops cannot be called in a multiprocessing, setting n_jobs=1\n",
      "  **self._backend_args)\n",
      "Generating walks (CPU: 1):   0%|          | 0/3 [00:00<?, ?it/s]<?, ?it/s]"
     ]
    },
    {
     "name": "stdout",
     "output_type": "stream",
     "text": [
      "cluster began\n"
     ]
    },
    {
     "name": "stderr",
     "output_type": "stream",
     "text": [
      "Computing transition probabilities: 100%|██████████| 23/23 [00:00<00:00, 3917.05it/s]"
     ]
    },
    {
     "name": "stdout",
     "output_type": "stream",
     "text": [
      "cluster end\n"
     ]
    },
    {
     "name": "stderr",
     "output_type": "stream",
     "text": [
      "\n",
      "/home/amanjuna/.local/lib/python3.6/site-packages/joblib/parallel.py:673: UserWarning: Loky-backed parallel loops cannot be called in a multiprocessing, setting n_jobs=1\n",
      "  **self._backend_args)\n",
      "Computing transition probabilities: 100%|██████████| 29/29 [00:00<00:00, 2935.27it/s]\n",
      "/home/amanjuna/.local/lib/python3.6/site-packages/joblib/parallel.py:673: UserWarning: Loky-backed parallel loops cannot be called in a multiprocessing, setting n_jobs=1\n",
      "  **self._backend_args)\n",
      "Generating walks (CPU: 1): 100%|██████████| 3/3 [00:00<00:00, 16.54it/s]\n",
      "Generating walks (CPU: 2):   0%|          | 0/3 [00:00<?, ?it/s]\n",
      "Generating walks (CPU: 2):   0%|          | 0/3 [00:00<?, ?it/s]\n",
      "Generating walks (CPU: 2):   0%|          | 0/3 [00:00<?, ?it/s]\n",
      "Generating walks (CPU: 2): 100%|██████████| 3/3 [00:00<00:00, 18.32it/s]\n",
      "Generating walks (CPU: 2):  67%|██████▋   | 2/3 [00:00<00:00, 14.75it/s]\n",
      "Generating walks (CPU: 3):   0%|          | 0/2 [00:00<?, ?it/s]\n",
      "Generating walks (CPU: 3): 100%|██████████| 2/2 [00:00<00:00, 15.35it/s]\n",
      "Generating walks (CPU: 2): 100%|██████████| 3/3 [00:00<00:00,  9.31it/s]\n",
      "Generating walks (CPU: 3): 100%|██████████| 2/2 [00:00<00:00, 11.73it/s]\n",
      "Generating walks (CPU: 4): 100%|██████████| 2/2 [00:00<00:00, 13.03it/s]\n",
      "\n",
      "Generating walks (CPU: 3): 100%|██████████| 2/2 [00:00<00:00, 10.17it/s]"
     ]
    },
    {
     "name": "stdout",
     "output_type": "stream",
     "text": [
      "[  2.23529412   0.         444.         193.          22.\n",
      "   3.           3.           0.           0.           9.\n",
      "   3.           3.           0.           0.           0.\n",
      "   0.           0.           0.        ]"
     ]
    },
    {
     "name": "stderr",
     "output_type": "stream",
     "text": [
      "\n"
     ]
    },
    {
     "name": "stdout",
     "output_type": "stream",
     "text": [
      "\n",
      "Unk percentage: 0.0\n"
     ]
    },
    {
     "name": "stderr",
     "output_type": "stream",
     "text": [
      "Generating walks (CPU: 4): 100%|██████████| 2/2 [00:00<00:00, 10.53it/s]\n",
      "Generating walks (CPU: 4): 100%|██████████| 2/2 [00:00<00:00,  9.64it/s]\n",
      "Generating walks (CPU: 4): 100%|██████████| 2/2 [00:00<00:00, 17.10it/s]"
     ]
    },
    {
     "name": "stdout",
     "output_type": "stream",
     "text": [
      "cluster began\n",
      "cluster end\n"
     ]
    },
    {
     "name": "stderr",
     "output_type": "stream",
     "text": [
      "Computing transition probabilities: 100%|██████████| 25/25 [00:00<00:00, 3463.85it/s]"
     ]
    },
    {
     "name": "stdout",
     "output_type": "stream",
     "text": [
      "[  1.9   0.  816.  306.   18.    0.    0.    0.    0.    0.    0.    0.\n",
      "   0.    0.    0.    0.    0.    0. ]"
     ]
    },
    {
     "name": "stderr",
     "output_type": "stream",
     "text": [
      "\n"
     ]
    },
    {
     "name": "stdout",
     "output_type": "stream",
     "text": [
      "\n",
      "[2.09090909e+00 0.00000000e+00 1.12800000e+03 3.68000000e+02\n",
      " 2.20000000e+01 1.00000000e+00 1.00000000e+00 0.00000000e+00\n",
      " 0.00000000e+00 1.60000000e+01 2.00000000e+00 2.00000000e+00\n",
      " 0.00000000e+00 0.00000000e+00 0.00000000e+00 0.00000000e+00\n",
      " 0.00000000e+00 0.00000000e+00]\n",
      "Unk percentage: 0.0\n"
     ]
    },
    {
     "name": "stderr",
     "output_type": "stream",
     "text": [
      "\n",
      "Generating walks (CPU: 1):   0%|          | 0/3 [00:00<?, ?it/s]"
     ]
    },
    {
     "name": "stdout",
     "output_type": "stream",
     "text": [
      "Unk percentage: 0.04878048780487805\n"
     ]
    },
    {
     "name": "stderr",
     "output_type": "stream",
     "text": [
      "\r",
      "Generating walks (CPU: 1):  67%|██████▋   | 2/3 [00:00<00:00, 14.89it/s]"
     ]
    },
    {
     "name": "stdout",
     "output_type": "stream",
     "text": [
      "cluster began\n",
      "cluster end\n",
      "cluster began\n",
      "cluster end\n"
     ]
    },
    {
     "name": "stderr",
     "output_type": "stream",
     "text": [
      "Computing transition probabilities: 100%|██████████| 25/25 [00:00<00:00, 3584.88it/s]\n",
      "Computing transition probabilities: 100%|██████████| 16/16 [00:00<00:00, 352.23it/s]\n",
      "Generating walks (CPU: 1):   0%|          | 0/3 [00:00<?, ?it/s]"
     ]
    },
    {
     "name": "stdout",
     "output_type": "stream",
     "text": [
      "[2.35714286e+00 0.00000000e+00 2.48400000e+03 7.26000000e+02\n",
      " 4.90000000e+01 9.00000000e+00 8.00000000e+00 0.00000000e+00\n",
      " 0.00000000e+00 0.00000000e+00 0.00000000e+00 0.00000000e+00\n",
      " 0.00000000e+00 0.00000000e+00 0.00000000e+00 0.00000000e+00\n",
      " 0.00000000e+00 0.00000000e+00]\n",
      "Unk percentage: 0.0\n"
     ]
    },
    {
     "name": "stderr",
     "output_type": "stream",
     "text": [
      "\n",
      "Generating walks (CPU: 1):  67%|██████▋   | 2/3 [00:00<00:00, 15.65it/s]\n",
      "Generating walks (CPU: 2):  67%|██████▋   | 2/3 [00:00<00:00, 14.34it/s]"
     ]
    },
    {
     "name": "stdout",
     "output_type": "stream",
     "text": [
      "cluster began\n",
      "cluster end\n"
     ]
    },
    {
     "name": "stderr",
     "output_type": "stream",
     "text": [
      "Computing transition probabilities: 100%|██████████| 19/19 [00:00<00:00, 4726.40it/s]\n",
      "Generating walks (CPU: 2): 100%|██████████| 3/3 [00:00<00:00, 23.55it/s]\n",
      "Generating walks (CPU: 2): 100%|██████████| 3/3 [00:00<00:00,  8.68it/s]\n",
      "Generating walks (CPU: 3):   0%|          | 0/2 [00:00<?, ?it/s]\n",
      "Generating walks (CPU: 3): 100%|██████████| 2/2 [00:00<00:00, 15.92it/s]\n",
      "Generating walks (CPU: 3): 100%|██████████| 2/2 [00:00<00:00, 11.19it/s]\n",
      "Generating walks (CPU: 2): 100%|██████████| 3/3 [00:00<00:00, 17.28it/s]\n",
      "Generating walks (CPU: 4): 100%|██████████| 2/2 [00:00<00:00, 16.88it/s]\n",
      "\n",
      "Generating walks (CPU: 4): 100%|██████████| 2/2 [00:00<00:00, 12.52it/s]"
     ]
    },
    {
     "name": "stdout",
     "output_type": "stream",
     "text": [
      "[  2.26666667   0.         268.         166.          18.\n",
      "   2.           1.           0.           0.           0.\n",
      "   0.           0.           0.           0.           0.\n",
      "   0.           0.           0.        ]\n"
     ]
    },
    {
     "name": "stderr",
     "output_type": "stream",
     "text": [
      "\n"
     ]
    },
    {
     "name": "stdout",
     "output_type": "stream",
     "text": [
      "Unk percentage: 0.0\n"
     ]
    },
    {
     "name": "stderr",
     "output_type": "stream",
     "text": [
      "Generating walks (CPU: 3): 100%|██████████| 2/2 [00:00<00:00, 11.07it/s]\n",
      "\n",
      "Generating walks (CPU: 3):   0%|          | 0/2 [00:00<?, ?it/s]"
     ]
    },
    {
     "name": "stdout",
     "output_type": "stream",
     "text": [
      "cluster began\n"
     ]
    },
    {
     "name": "stderr",
     "output_type": "stream",
     "text": [
      "\r",
      "Generating walks (CPU: 3): 100%|██████████| 2/2 [00:00<00:00, 17.14it/s]"
     ]
    },
    {
     "name": "stdout",
     "output_type": "stream",
     "text": [
      "[2.75000000e+00 4.81481481e-02 1.39200000e+03 5.40000000e+02\n",
      " 5.80000000e+01 1.70000000e+01 1.50000000e+01 2.00000000e+00\n",
      " 0.00000000e+00 0.00000000e+00 0.00000000e+00 0.00000000e+00\n",
      " 0.00000000e+00 0.00000000e+00 0.00000000e+00 0.00000000e+00\n",
      " 0.00000000e+00 0.00000000e+00]cluster end\n"
     ]
    },
    {
     "name": "stderr",
     "output_type": "stream",
     "text": [
      "\r",
      "Computing transition probabilities:   0%|          | 0/32 [00:00<?, ?it/s]"
     ]
    },
    {
     "name": "stdout",
     "output_type": "stream",
     "text": [
      "\n",
      "Unk percentage: 0.0\n"
     ]
    },
    {
     "name": "stderr",
     "output_type": "stream",
     "text": [
      "Computing transition probabilities: 100%|██████████| 32/32 [00:00<00:00, 963.81it/s]\n",
      "Generating walks (CPU: 1):   0%|          | 0/3 [00:00<?, ?it/s]\n",
      "Generating walks (CPU: 4): 100%|██████████| 2/2 [00:00<00:00,  7.28it/s]\n",
      "Generating walks (CPU: 4): 100%|██████████| 2/2 [00:00<00:00, 12.09it/s]\n"
     ]
    },
    {
     "name": "stdout",
     "output_type": "stream",
     "text": [
      "cluster began\n",
      "cluster end\n"
     ]
    },
    {
     "name": "stderr",
     "output_type": "stream",
     "text": [
      "Computing transition probabilities: 100%|██████████| 21/21 [00:00<00:00, 2899.67it/s]\n",
      "Generating walks (CPU: 1):   0%|          | 0/3 [00:00<?, ?it/s]"
     ]
    },
    {
     "name": "stdout",
     "output_type": "stream",
     "text": [
      "[   2.08333333    0.         1506.          486.           28.\n",
      "    2.            2.            0.            0.            0.\n",
      "    0.            0.            0.            0.            0.\n",
      "    0.            0.            0.        ]\n"
     ]
    },
    {
     "name": "stderr",
     "output_type": "stream",
     "text": [
      "\n",
      "Generating walks (CPU: 2):   0%|          | 0/3 [00:00<?, ?it/s]"
     ]
    },
    {
     "name": "stdout",
     "output_type": "stream",
     "text": [
      "Unk percentage: 0.0\n",
      "[  2.11111111   0.         542.         244.          24.\n",
      "   3.           3.           0.           0.           0.\n",
      "   0.           0.           0.           0.           0.\n",
      "   0.           0.           0.        ]\n"
     ]
    },
    {
     "name": "stderr",
     "output_type": "stream",
     "text": [
      "Generating walks (CPU: 2):  67%|██████▋   | 2/3 [00:00<00:00, 15.31it/s]"
     ]
    },
    {
     "name": "stdout",
     "output_type": "stream",
     "text": [
      "Unk percentage: 0.0\n",
      "cluster began\n",
      "cluster end\n"
     ]
    },
    {
     "name": "stderr",
     "output_type": "stream",
     "text": [
      "\n",
      "Computing transition probabilities: 100%|██████████| 17/17 [00:00<00:00, 4020.48it/s]\n",
      "Generating walks (CPU: 1):   0%|          | 0/3 [00:00<?, ?it/s].20it/s]"
     ]
    },
    {
     "name": "stdout",
     "output_type": "stream",
     "text": [
      "cluster began\n",
      "cluster end\n"
     ]
    },
    {
     "name": "stderr",
     "output_type": "stream",
     "text": [
      "Computing transition probabilities: 100%|██████████| 17/17 [00:00<00:00, 4892.16it/s]\n",
      "Generating walks (CPU: 1): 100%|██████████| 3/3 [00:00<00:00, 23.74it/s]\n",
      "Generating walks (CPU: 2): 100%|██████████| 3/3 [00:00<00:00, 13.40it/s]\n",
      "Generating walks (CPU: 1): 100%|██████████| 3/3 [00:00<00:00, 18.20it/s]\n",
      "Generating walks (CPU: 3):   0%|          | 0/2 [00:00<?, ?it/s].21it/s]\n",
      "Generating walks (CPU: 2): 100%|██████████| 3/3 [00:00<00:00, 17.48it/s]\n",
      "Generating walks (CPU: 2): 100%|██████████| 3/3 [00:00<00:00, 23.69it/s]\n",
      "\n",
      "Generating walks (CPU: 4):   0%|          | 0/2 [00:00<?, ?it/s]\n",
      "Generating walks (CPU: 3): 100%|██████████| 2/2 [00:00<00:00, 10.35it/s]\n",
      "Generating walks (CPU: 4):   0%|          | 0/2 [00:00<?, ?it/s]\n",
      "Generating walks (CPU: 4):   0%|          | 0/2 [00:00<?, ?it/s]\n",
      "\n",
      "Generating walks (CPU: 4): 100%|██████████| 2/2 [00:00<00:00, 13.87it/s]\n",
      "Generating walks (CPU: 4): 100%|██████████| 2/2 [00:00<00:00, 14.75it/s]\n"
     ]
    },
    {
     "name": "stdout",
     "output_type": "stream",
     "text": [
      "[2.20000000e+00 5.08928571e-02 7.92000000e+02 3.01000000e+02\n",
      " 3.20000000e+01 7.00000000e+00 7.00000000e+00 1.00000000e+00\n",
      " 0.00000000e+00 0.00000000e+00 0.00000000e+00 0.00000000e+00\n",
      " 0.00000000e+00 0.00000000e+00 0.00000000e+00 0.00000000e+00\n",
      " 0.00000000e+00 0.00000000e+00]\n",
      "Unk percentage: 0.0\n",
      "[2.51612903e+00 0.00000000e+00 3.58600000e+03 7.29000000e+02\n",
      " 6.40000000e+01 1.60000000e+01 1.60000000e+01 0.00000000e+00\n",
      " 0.00000000e+00 4.50000000e+01 1.80000000e+01 1.80000000e+01\n",
      " 0.00000000e+00 0.00000000e+00 0.00000000e+00 3.00000000e+00\n",
      " 0.00000000e+00 0.00000000e+00]\n",
      "Unk percentage: 0.0\n",
      "[  2.25   0.   339.   190.    24.     3.     4.     0.     0.     0.\n",
      "   0.     0.     0.     0.     0.     0.     0.     0.  ]\n",
      "[  1.875   0.    364.    182.     14.      0.      0.      0.      0.\n",
      "   0.      0.      0.      0.      0.      0.      0.      0.      0.   ]Unk percentage: 0.0\n",
      "\n",
      "Unk percentage: 0.0\n",
      "cluster began\n",
      "cluster end\n"
     ]
    },
    {
     "name": "stderr",
     "output_type": "stream",
     "text": [
      "Computing transition probabilities: 100%|██████████| 11/11 [00:00<00:00, 3258.06it/s]\n",
      "Generating walks (CPU: 1):   0%|          | 0/3 [00:00<?, ?it/s]"
     ]
    },
    {
     "name": "stdout",
     "output_type": "stream",
     "text": [
      "cluster began\n",
      "cluster end\n"
     ]
    },
    {
     "name": "stderr",
     "output_type": "stream",
     "text": [
      "\r",
      "Computing transition probabilities:   0%|          | 0/28 [00:00<?, ?it/s]"
     ]
    },
    {
     "name": "stdout",
     "output_type": "stream",
     "text": [
      "cluster began\n",
      "cluster end\n",
      "cluster began\n"
     ]
    },
    {
     "name": "stderr",
     "output_type": "stream",
     "text": [
      "Computing transition probabilities: 100%|██████████| 28/28 [00:00<00:00, 3236.35it/s]\n"
     ]
    },
    {
     "name": "stdout",
     "output_type": "stream",
     "text": [
      "cluster end\n"
     ]
    },
    {
     "name": "stderr",
     "output_type": "stream",
     "text": [
      "Computing transition probabilities: 100%|██████████| 17/17 [00:00<00:00, 547.55it/s]\n",
      "Computing transition probabilities: 100%|██████████| 27/27 [00:00<00:00, 955.74it/s]\n",
      "Generating walks (CPU: 1): 100%|██████████| 3/3 [00:00<00:00, 11.40it/s]\n",
      "Generating walks (CPU: 1): 100%|██████████| 3/3 [00:00<00:00, 12.55it/s]\n",
      "\n",
      "Generating walks (CPU: 1): 100%|██████████| 3/3 [00:00<00:00, 12.67it/s]\n",
      "Generating walks (CPU: 2):   0%|          | 0/3 [00:00<?, ?it/s]\n",
      "Generating walks (CPU: 3): 100%|██████████| 2/2 [00:00<00:00, 16.42it/s]\n",
      "Generating walks (CPU: 4): 100%|██████████| 2/2 [00:00<00:00, 25.53it/s]\n",
      "\n",
      "Generating walks (CPU: 2): 100%|██████████| 3/3 [00:00<00:00, 12.41it/s]"
     ]
    },
    {
     "name": "stdout",
     "output_type": "stream",
     "text": [
      "[ 1.8  0.  56.  56.   8.   0.   0.   0.   0.   0.   0.   0.   0.   0.\n",
      "  0.   0.   0.   0. ]"
     ]
    },
    {
     "name": "stderr",
     "output_type": "stream",
     "text": [
      "\r",
      "Generating walks (CPU: 2): 100%|██████████| 3/3 [00:00<00:00, 12.02it/s]"
     ]
    },
    {
     "name": "stdout",
     "output_type": "stream",
     "text": [
      "\n",
      "Unk percentage: 0.0\n"
     ]
    },
    {
     "name": "stderr",
     "output_type": "stream",
     "text": [
      "Generating walks (CPU: 3): 100%|██████████| 2/2 [00:00<00:00, 12.73it/s]\n",
      "Generating walks (CPU: 4):   0%|          | 0/2 [00:00<?, ?it/s]\n",
      "Generating walks (CPU: 3):   0%|          | 0/2 [00:00<?, ?it/s]\n",
      "Generating walks (CPU: 4): 100%|██████████| 2/2 [00:00<00:00, 12.25it/s]\n",
      "Generating walks (CPU: 3): 100%|██████████| 2/2 [00:00<00:00, 11.16it/s]"
     ]
    },
    {
     "name": "stdout",
     "output_type": "stream",
     "text": [
      "[  2.   0. 365. 168.  13.   0.   0.   0.   0.  12.   1.   1.   0.   0.\n",
      "   0.   0.   0.   0.]\n",
      "cluster began\n",
      "cluster end\n"
     ]
    },
    {
     "name": "stderr",
     "output_type": "stream",
     "text": [
      "\r",
      "Generating walks (CPU: 3): 100%|██████████| 2/2 [00:00<00:00, 13.59it/s]"
     ]
    },
    {
     "name": "stdout",
     "output_type": "stream",
     "text": [
      "Unk percentage: 0.0\n"
     ]
    },
    {
     "name": "stderr",
     "output_type": "stream",
     "text": [
      "Computing transition probabilities: 100%|██████████| 11/11 [00:00<00:00, 2907.21it/s]\n",
      "Generating walks (CPU: 1):   0%|          | 0/3 [00:00<?, ?it/s]\n",
      "Generating walks (CPU: 4):   0%|          | 0/2 [00:00<?, ?it/s]\n",
      "Generating walks (CPU: 1): 100%|██████████| 3/3 [00:00<00:00, 24.80it/s]\n",
      "Generating walks (CPU: 4): 100%|██████████| 2/2 [00:00<00:00, 14.22it/s]\n",
      "\n"
     ]
    },
    {
     "name": "stdout",
     "output_type": "stream",
     "text": [
      "cluster began\n"
     ]
    },
    {
     "name": "stderr",
     "output_type": "stream",
     "text": [
      "\r",
      "Generating walks (CPU: 3):   0%|          | 0/2 [00:00<?, ?it/s]"
     ]
    },
    {
     "name": "stdout",
     "output_type": "stream",
     "text": [
      "cluster end\n"
     ]
    },
    {
     "name": "stderr",
     "output_type": "stream",
     "text": [
      "Computing transition probabilities: 100%|██████████| 28/28 [00:00<00:00, 2534.54it/s]\n",
      "Generating walks (CPU: 1):   0%|          | 0/3 [00:00<?, ?it/s]\n",
      "Generating walks (CPU: 3): 100%|██████████| 2/2 [00:00<00:00, 17.90it/s]\n",
      "Generating walks (CPU: 4): 100%|██████████| 2/2 [00:00<00:00, 22.48it/s]\n"
     ]
    },
    {
     "name": "stdout",
     "output_type": "stream",
     "text": [
      "[2.07407407e+00 3.82716049e-02 2.26300000e+03 6.25000000e+02\n",
      " 3.00000000e+01 3.00000000e+00 3.00000000e+00 1.00000000e+00\n",
      " 0.00000000e+00 0.00000000e+00 0.00000000e+00 0.00000000e+00\n",
      " 0.00000000e+00 0.00000000e+00 0.00000000e+00 0.00000000e+00\n",
      " 0.00000000e+00 0.00000000e+00]\n",
      "Unk percentage: 0.0\n"
     ]
    },
    {
     "name": "stderr",
     "output_type": "stream",
     "text": [
      "\r",
      "Generating walks (CPU: 1): 100%|██████████| 3/3 [00:00<00:00, 13.98it/s]"
     ]
    },
    {
     "name": "stdout",
     "output_type": "stream",
     "text": [
      "[2.23076923e+00 2.37179487e-02 1.95100000e+03 6.03000000e+02\n",
      " 3.50000000e+01 5.00000000e+00 5.00000000e+00 1.00000000e+00\n",
      " 0.00000000e+00 0.00000000e+00 0.00000000e+00 0.00000000e+00\n",
      " 0.00000000e+00 0.00000000e+00 0.00000000e+00 0.00000000e+00\n",
      " 0.00000000e+00 0.00000000e+00]\n",
      "Unk percentage: 0.0\n"
     ]
    },
    {
     "name": "stderr",
     "output_type": "stream",
     "text": [
      "\n",
      "Generating walks (CPU: 2):   0%|          | 0/3 [00:00<?, ?it/s]"
     ]
    },
    {
     "name": "stdout",
     "output_type": "stream",
     "text": [
      "[ 2.6         0.06833333 47.         53.          9.          1.\n",
      "  1.          1.          0.          6.          1.          1.\n",
      "  0.          0.          0.          0.          0.          0.        ]\n",
      "Unk percentage: 0.0\n",
      "cluster began\n",
      "cluster end\n"
     ]
    },
    {
     "name": "stderr",
     "output_type": "stream",
     "text": [
      "Computing transition probabilities: 100%|██████████| 15/15 [00:00<00:00, 5196.54it/s]\n",
      "Generating walks (CPU: 2):  67%|██████▋   | 2/3 [00:00<00:00, 14.36it/s]"
     ]
    },
    {
     "name": "stdout",
     "output_type": "stream",
     "text": [
      "cluster began\n",
      "cluster end\n"
     ]
    },
    {
     "name": "stderr",
     "output_type": "stream",
     "text": [
      "Computing transition probabilities: 100%|██████████| 18/18 [00:00<00:00, 3920.32it/s]\n",
      "Generating walks (CPU: 2): 100%|██████████| 3/3 [00:00<00:00, 10.69it/s]\n"
     ]
    },
    {
     "name": "stdout",
     "output_type": "stream",
     "text": [
      "cluster began\n",
      "cluster end\n"
     ]
    },
    {
     "name": "stderr",
     "output_type": "stream",
     "text": [
      "Computing transition probabilities: 100%|██████████| 20/20 [00:00<00:00, 2809.03it/s]\n",
      "\n",
      "Generating walks (CPU: 2): 100%|██████████| 3/3 [00:00<00:00, 25.71it/s]\n",
      "Generating walks (CPU: 2):   0%|          | 0/3 [00:00<?, ?it/s]\n",
      "Generating walks (CPU: 3): 100%|██████████| 2/2 [00:00<00:00, 11.58it/s]\n",
      "Generating walks (CPU: 3): 100%|██████████| 2/2 [00:00<00:00, 23.53it/s]\n",
      "Generating walks (CPU: 4): 100%|██████████| 2/2 [00:00<00:00, 19.08it/s]\n",
      "Generating walks (CPU: 4): 100%|██████████| 2/2 [00:00<00:00, 18.29it/s]\n",
      "\n",
      "Generating walks (CPU: 3):   0%|          | 0/2 [00:00<?, ?it/s]\n"
     ]
    },
    {
     "name": "stdout",
     "output_type": "stream",
     "text": [
      "[2.28571429e+00 7.27513228e-02 2.14000000e+02 1.15000000e+02\n",
      " 1.60000000e+01 3.00000000e+00 3.00000000e+00 1.00000000e+00\n",
      " 0.00000000e+00 6.00000000e+00 3.00000000e+00 3.00000000e+00\n",
      " 0.00000000e+00 0.00000000e+00 0.00000000e+00 0.00000000e+00\n",
      " 0.00000000e+00 0.00000000e+00]\n",
      "Unk percentage: 0.0\n"
     ]
    },
    {
     "name": "stderr",
     "output_type": "stream",
     "text": [
      "Generating walks (CPU: 3): 100%|██████████| 2/2 [00:00<00:00, 11.19it/s]\n",
      "\n",
      "Generating walks (CPU: 3):   0%|          | 0/2 [00:00<?, ?it/s]"
     ]
    },
    {
     "name": "stdout",
     "output_type": "stream",
     "text": [
      "[   2.37037037    0.         2219.          620.           45.\n",
      "    8.            8.            0.            0.           17.\n",
      "    4.            4.            0.            0.            0.\n",
      "    0.            0.            0.        ]\n",
      "Unk percentage: 0.0\n"
     ]
    },
    {
     "name": "stderr",
     "output_type": "stream",
     "text": [
      "Generating walks (CPU: 3): 100%|██████████| 2/2 [00:00<00:00, 12.02it/s]\n",
      "Generating walks (CPU: 4): 100%|██████████| 2/2 [00:00<00:00, 10.54it/s]\n",
      "Generating walks (CPU: 4):   0%|          | 0/2 [00:00<?, ?it/s]"
     ]
    },
    {
     "name": "stdout",
     "output_type": "stream",
     "text": [
      "cluster began\n",
      "cluster end\n"
     ]
    },
    {
     "name": "stderr",
     "output_type": "stream",
     "text": [
      "Computing transition probabilities: 100%|██████████| 30/30 [00:00<00:00, 3765.76it/s]\n",
      "Generating walks (CPU: 4): 100%|██████████| 2/2 [00:00<00:00, 16.67it/s]"
     ]
    },
    {
     "name": "stdout",
     "output_type": "stream",
     "text": [
      "[  2.58823529   0.         414.         208.          31.\n",
      "   6.           6.           0.           0.           9.\n",
      "   3.           3.           0.           0.           0.\n",
      "   0.           0.           0.        ]\n",
      "Unk percentage: 0.0\n"
     ]
    },
    {
     "name": "stderr",
     "output_type": "stream",
     "text": [
      "Generating walks (CPU: 1):  67%|██████▋   | 2/3 [00:00<00:00, 15.34it/s]\n"
     ]
    },
    {
     "name": "stdout",
     "output_type": "stream",
     "text": [
      "cluster began\n",
      "cluster end\n"
     ]
    },
    {
     "name": "stderr",
     "output_type": "stream",
     "text": [
      "Computing transition probabilities: 100%|██████████| 16/16 [00:00<00:00, 2733.34it/s]\n",
      "Generating walks (CPU: 1): 100%|██████████| 3/3 [00:00<00:00,  9.90it/s]"
     ]
    },
    {
     "name": "stdout",
     "output_type": "stream",
     "text": [
      "[  1.89473684   0.         680.         272.          17.\n",
      "   0.           0.           0.           0.           0.\n",
      "   0.           0.           0.           0.           0.\n",
      "   0.           0.           0.        ]\n",
      "Unk percentage: 0.022222222222222223\n",
      "cluster began\n",
      "cluster end\n"
     ]
    },
    {
     "name": "stderr",
     "output_type": "stream",
     "text": [
      "Computing transition probabilities: 100%|██████████| 20/20 [00:00<00:00, 4122.98it/s]\n",
      "Generating walks (CPU: 1): 100%|██████████| 3/3 [00:00<00:00, 16.57it/s]\n",
      "Generating walks (CPU: 2):   0%|          | 0/3 [00:00<?, ?it/s]\n",
      "Generating walks (CPU: 2): 100%|██████████| 3/3 [00:00<00:00, 22.37it/s]"
     ]
    },
    {
     "name": "stdout",
     "output_type": "stream",
     "text": [
      "cluster began\n",
      "cluster end\n"
     ]
    },
    {
     "name": "stderr",
     "output_type": "stream",
     "text": [
      "Computing transition probabilities:   0%|          | 0/32 [00:00<?, ?it/s]\n",
      "Computing transition probabilities: 100%|██████████| 32/32 [00:00<00:00, 2751.21it/s]\n",
      "Generating walks (CPU: 2):   0%|          | 0/3 [00:00<?, ?it/s]\n",
      "Generating walks (CPU: 2): 100%|██████████| 3/3 [00:00<00:00, 11.03it/s]\n",
      "Generating walks (CPU: 3): 100%|██████████| 2/2 [00:00<00:00, 13.89it/s]\n",
      "Generating walks (CPU: 4):   0%|          | 0/2 [00:00<?, ?it/s]\n",
      "Generating walks (CPU: 4): 100%|██████████| 2/2 [00:00<00:00, 17.31it/s]\n",
      "Generating walks (CPU: 3): 100%|██████████| 2/2 [00:00<00:00, 10.98it/s]\n",
      "Generating walks (CPU: 3): 100%|██████████| 2/2 [00:00<00:00, 14.83it/s]\n",
      "Generating walks (CPU: 4):   0%|          | 0/2 [00:00<?, ?it/s]"
     ]
    },
    {
     "name": "stdout",
     "output_type": "stream",
     "text": [
      "[2.40000000e+00 7.22222222e-02 2.62000000e+02 1.57000000e+02\n",
      " 1.70000000e+01 2.00000000e+00 3.00000000e+00 1.00000000e+00\n",
      " 0.00000000e+00 9.00000000e+00 2.00000000e+00 2.00000000e+00\n",
      " 0.00000000e+00 0.00000000e+00 0.00000000e+00 0.00000000e+00\n",
      " 0.00000000e+00 0.00000000e+00]"
     ]
    },
    {
     "name": "stderr",
     "output_type": "stream",
     "text": [
      "\n"
     ]
    },
    {
     "name": "stdout",
     "output_type": "stream",
     "text": [
      "\n"
     ]
    },
    {
     "name": "stderr",
     "output_type": "stream",
     "text": [
      "\r",
      "Generating walks (CPU: 2):   0%|          | 0/3 [00:00<?, ?it/s]"
     ]
    },
    {
     "name": "stdout",
     "output_type": "stream",
     "text": [
      "Unk percentage: 0.0\n"
     ]
    },
    {
     "name": "stderr",
     "output_type": "stream",
     "text": [
      "Generating walks (CPU: 4): 100%|██████████| 2/2 [00:00<00:00, 14.45it/s]\n",
      "Generating walks (CPU: 2):  67%|██████▋   | 2/3 [00:00<00:00, 13.75it/s]\n",
      "Generating walks (CPU: 2): 100%|██████████| 3/3 [00:00<00:00, 10.86it/s]"
     ]
    },
    {
     "name": "stdout",
     "output_type": "stream",
     "text": [
      "[  2.10526316   0.         669.         262.          19.\n",
      "   1.           1.           0.           0.          15.\n",
      "   1.           1.           0.           0.           0.\n",
      "   0.           0.           0.        ]\n",
      "Unk percentage: 0.04\n",
      "cluster began\n",
      "cluster end\n"
     ]
    },
    {
     "name": "stderr",
     "output_type": "stream",
     "text": [
      "Computing transition probabilities: 100%|██████████| 24/24 [00:00<00:00, 2147.25it/s]\n",
      "\n",
      "Generating walks (CPU: 3):   0%|          | 0/2 [00:00<?, ?it/s]"
     ]
    },
    {
     "name": "stdout",
     "output_type": "stream",
     "text": [
      "[2.27586207e+00 6.99233716e-02 2.85200000e+03 7.16000000e+02\n",
      " 4.00000000e+01 1.00000000e+01 7.00000000e+00 2.00000000e+00\n",
      " 0.00000000e+00 2.60000000e+01 0.00000000e+00 1.00000000e+00\n",
      " 0.00000000e+00 0.00000000e+00 0.00000000e+00 0.00000000e+00\n",
      " 0.00000000e+00 0.00000000e+00]\n",
      "Unk percentage: 0.0\n"
     ]
    },
    {
     "name": "stderr",
     "output_type": "stream",
     "text": [
      "Generating walks (CPU: 1): 100%|██████████| 3/3 [00:00<00:00, 14.19it/s]"
     ]
    },
    {
     "name": "stdout",
     "output_type": "stream",
     "text": [
      "cluster began\n",
      "cluster end\n"
     ]
    },
    {
     "name": "stderr",
     "output_type": "stream",
     "text": [
      "Computing transition probabilities:   0%|          | 0/34 [00:00<?, ?it/s]\n",
      "Computing transition probabilities: 100%|██████████| 34/34 [00:00<00:00, 2151.90it/s]\n",
      "Generating walks (CPU: 2):   0%|          | 0/3 [00:00<?, ?it/s]\n",
      "Generating walks (CPU: 4):   0%|          | 0/2 [00:00<?, ?it/s]"
     ]
    },
    {
     "name": "stdout",
     "output_type": "stream",
     "text": [
      "cluster began\n",
      "cluster end\n"
     ]
    },
    {
     "name": "stderr",
     "output_type": "stream",
     "text": [
      "Computing transition probabilities: 100%|██████████| 17/17 [00:00<00:00, 3215.33it/s]\n",
      "Generating walks (CPU: 2): 100%|██████████| 3/3 [00:00<00:00, 11.55it/s]\n",
      "Generating walks (CPU: 3):   0%|          | 0/2 [00:00<?, ?it/s].40it/s]\n",
      "\n",
      "\n",
      "Generating walks (CPU: 2):  67%|██████▋   | 2/3 [00:00<00:00, 16.25it/s]"
     ]
    },
    {
     "name": "stdout",
     "output_type": "stream",
     "text": [
      "[2.06451613e+00 0.00000000e+00 3.61000000e+03 8.42000000e+02\n",
      " 3.70000000e+01 3.00000000e+00 3.00000000e+00 0.00000000e+00\n",
      " 0.00000000e+00 0.00000000e+00 0.00000000e+00 0.00000000e+00\n",
      " 0.00000000e+00 0.00000000e+00 0.00000000e+00 0.00000000e+00\n",
      " 0.00000000e+00 0.00000000e+00]\n",
      "Unk percentage: 0.0\n"
     ]
    },
    {
     "name": "stderr",
     "output_type": "stream",
     "text": [
      "\n",
      "Generating walks (CPU: 4):   0%|          | 0/2 [00:00<?, ?it/s]\n",
      "Generating walks (CPU: 3): 100%|██████████| 2/2 [00:00<00:00, 15.69it/s]\n",
      "Generating walks (CPU: 4):   0%|          | 0/2 [00:00<?, ?it/s]\n",
      "Generating walks (CPU: 3):   0%|          | 0/2 [00:00<?, ?it/s]\n"
     ]
    },
    {
     "name": "stdout",
     "output_type": "stream",
     "text": [
      "cluster began\n"
     ]
    },
    {
     "name": "stderr",
     "output_type": "stream",
     "text": [
      "\r",
      "Generating walks (CPU: 4): 100%|██████████| 2/2 [00:00<00:00, 12.37it/s]"
     ]
    },
    {
     "name": "stdout",
     "output_type": "stream",
     "text": [
      "cluster end\n"
     ]
    },
    {
     "name": "stderr",
     "output_type": "stream",
     "text": [
      "\n",
      "Computing transition probabilities: 100%|██████████| 20/20 [00:00<00:00, 2183.28it/s]\n",
      "Generating walks (CPU: 1):   0%|          | 0/3 [00:00<?, ?it/s]"
     ]
    },
    {
     "name": "stdout",
     "output_type": "stream",
     "text": [
      "[   1.91304348    0.         1330.          420.           21.\n",
      "    0.            0.            0.            0.            0.\n",
      "    0.            0.            0.            0.            0.\n",
      "    0.            0.            0.        ]\n"
     ]
    },
    {
     "name": "stderr",
     "output_type": "stream",
     "text": [
      "\n"
     ]
    },
    {
     "name": "stdout",
     "output_type": "stream",
     "text": [
      "Unk percentage: 0.0\n"
     ]
    },
    {
     "name": "stderr",
     "output_type": "stream",
     "text": [
      "\r",
      "Generating walks (CPU: 4):   0%|          | 0/2 [00:00<?, ?it/s]"
     ]
    },
    {
     "name": "stdout",
     "output_type": "stream",
     "text": [
      "[  1.875   0.    364.    182.     14.      0.      0.      0.      0.\n",
      "   0.      0.      0.      0.      0.      0.      0.      0.      0.   ]\n",
      "Unk percentage: 0.018867924528301886\n"
     ]
    },
    {
     "name": "stderr",
     "output_type": "stream",
     "text": [
      "Generating walks (CPU: 4): 100%|██████████| 2/2 [00:00<00:00, 10.93it/s]\n",
      "Generating walks (CPU: 2):   0%|          | 0/3 [00:00<?, ?it/s]\n"
     ]
    },
    {
     "name": "stdout",
     "output_type": "stream",
     "text": [
      "cluster began\n"
     ]
    },
    {
     "name": "stderr",
     "output_type": "stream",
     "text": [
      "\r",
      "Generating walks (CPU: 2):  67%|██████▋   | 2/3 [00:00<00:00, 13.59it/s]"
     ]
    },
    {
     "name": "stdout",
     "output_type": "stream",
     "text": [
      "cluster end\n"
     ]
    },
    {
     "name": "stderr",
     "output_type": "stream",
     "text": [
      "Computing transition probabilities: 100%|██████████| 14/14 [00:00<00:00, 2533.01it/s]\n",
      "Generating walks (CPU: 1):   0%|          | 0/3 [00:00<?, ?it/s]"
     ]
    },
    {
     "name": "stdout",
     "output_type": "stream",
     "text": [
      "cluster began\n",
      "cluster end\n"
     ]
    },
    {
     "name": "stderr",
     "output_type": "stream",
     "text": [
      "Generating walks (CPU: 2): 100%|██████████| 3/3 [00:00<00:00,  9.65it/s]s]\n",
      "Computing transition probabilities: 100%|██████████| 28/28 [00:00<00:00, 1333.93it/s]\n",
      "Generating walks (CPU: 1):   0%|          | 0/3 [00:00<?, ?it/s].16it/s]\n",
      "Generating walks (CPU: 2):   0%|          | 0/3 [00:00<?, ?it/s]"
     ]
    },
    {
     "name": "stdout",
     "output_type": "stream",
     "text": [
      "[2.06060606e+00 2.02020202e-02 4.44200000e+03 9.75000000e+02\n",
      " 3.40000000e+01 2.00000000e+00 2.00000000e+00 1.00000000e+00\n",
      " 0.00000000e+00 0.00000000e+00 0.00000000e+00 0.00000000e+00\n",
      " 0.00000000e+00 0.00000000e+00 0.00000000e+00 0.00000000e+00\n",
      " 0.00000000e+00 0.00000000e+00]\n",
      "Unk percentage: 0.0\n"
     ]
    },
    {
     "name": "stderr",
     "output_type": "stream",
     "text": [
      "Generating walks (CPU: 3): 100%|██████████| 2/2 [00:00<00:00, 14.31it/s]\n",
      "Generating walks (CPU: 2): 100%|██████████| 3/3 [00:00<00:00, 24.08it/s]\n",
      "Generating walks (CPU: 4): 100%|██████████| 2/2 [00:00<00:00, 14.13it/s]\n",
      "Generating walks (CPU: 3): 100%|██████████| 2/2 [00:00<00:00, 15.25it/s]\n",
      "Generating walks (CPU: 4):   0%|          | 0/2 [00:00<?, ?it/s]\n",
      "Generating walks (CPU: 2):   0%|          | 0/3 [00:00<?, ?it/s]"
     ]
    },
    {
     "name": "stdout",
     "output_type": "stream",
     "text": [
      "cluster began\n",
      "cluster end\n"
     ]
    },
    {
     "name": "stderr",
     "output_type": "stream",
     "text": [
      "Computing transition probabilities: 100%|██████████| 20/20 [00:00<00:00, 3811.27it/s]\n",
      "Generating walks (CPU: 4): 100%|██████████| 2/2 [00:00<00:00, 16.42it/s]\n",
      "Generating walks (CPU: 2):  67%|██████▋   | 2/3 [00:00<00:00, 17.67it/s]"
     ]
    },
    {
     "name": "stdout",
     "output_type": "stream",
     "text": [
      "[  2.21052632   0.         644.         293.          24.\n",
      "   4.           4.           0.           0.           0.\n",
      "   0.           0.           0.           0.           0.\n",
      "   0.           0.           0.        ]\n",
      "Unk percentage: 0.0\n"
     ]
    },
    {
     "name": "stderr",
     "output_type": "stream",
     "text": [
      "Generating walks (CPU: 1): 100%|██████████| 3/3 [00:00<00:00, 16.03it/s]"
     ]
    },
    {
     "name": "stdout",
     "output_type": "stream",
     "text": [
      "[  2.   0. 159. 111.  14.   1.   1.   0.   0.   0.   0.   0.   0.   0.\n",
      "   0.   0.   0.   0.]\n",
      "Unk percentage: 0.0\n"
     ]
    },
    {
     "name": "stderr",
     "output_type": "stream",
     "text": [
      "\n",
      "Generating walks (CPU: 3):   0%|          | 0/2 [00:00<?, ?it/s]\n",
      "Generating walks (CPU: 2): 100%|██████████| 3/3 [00:00<00:00, 14.16it/s]\n",
      "Generating walks (CPU: 4):   0%|          | 0/2 [00:00<?, ?it/s]\n",
      "Generating walks (CPU: 3):   0%|          | 0/2 [00:00<?, ?it/s]"
     ]
    },
    {
     "name": "stdout",
     "output_type": "stream",
     "text": [
      "cluster began\n",
      "cluster end\n"
     ]
    },
    {
     "name": "stderr",
     "output_type": "stream",
     "text": [
      "\r",
      "Computing transition probabilities:   0%|          | 0/16 [00:00<?, ?it/s]"
     ]
    },
    {
     "name": "stdout",
     "output_type": "stream",
     "text": [
      "cluster began\n"
     ]
    },
    {
     "name": "stderr",
     "output_type": "stream",
     "text": [
      "Computing transition probabilities: 100%|██████████| 16/16 [00:00<00:00, 5385.94it/s]\n"
     ]
    },
    {
     "name": "stdout",
     "output_type": "stream",
     "text": [
      "cluster end\n"
     ]
    },
    {
     "name": "stderr",
     "output_type": "stream",
     "text": [
      "Computing transition probabilities: 100%|██████████| 21/21 [00:00<00:00, 2062.53it/s]\n",
      "Generating walks (CPU: 1): 100%|██████████| 3/3 [00:00<00:00, 29.89it/s]\n",
      "\n",
      "\n",
      "Generating walks (CPU: 4): 100%|██████████| 2/2 [00:00<00:00, 14.77it/s]\n",
      "\n",
      "Generating walks (CPU: 2): 100%|██████████| 3/3 [00:00<00:00, 20.14it/s]"
     ]
    },
    {
     "name": "stdout",
     "output_type": "stream",
     "text": [
      "[2.22222222e+00 4.01234568e-02 2.24200000e+03 6.21000000e+02\n",
      " 3.00000000e+01 3.00000000e+00 3.00000000e+00 1.00000000e+00\n",
      " 0.00000000e+00 2.10000000e+01 2.00000000e+00 2.00000000e+00\n",
      " 0.00000000e+00 0.00000000e+00 0.00000000e+00 0.00000000e+00\n",
      " 0.00000000e+00 0.00000000e+00]\n",
      "Unk percentage: 0.0\n"
     ]
    },
    {
     "name": "stderr",
     "output_type": "stream",
     "text": [
      "\n"
     ]
    },
    {
     "name": "stdout",
     "output_type": "stream",
     "text": [
      "[2.63157895e+00 1.77387914e-02 6.15000000e+02 2.91000000e+02\n",
      " 3.20000000e+01 7.00000000e+00 5.00000000e+00 1.00000000e+00\n",
      " 1.00000000e+00 1.10000000e+01 3.00000000e+00 3.00000000e+00\n",
      " 0.00000000e+00 0.00000000e+00 0.00000000e+00 0.00000000e+00\n",
      " 0.00000000e+00 0.00000000e+00]\n",
      "Unk percentage: 0.0\n"
     ]
    },
    {
     "name": "stderr",
     "output_type": "stream",
     "text": [
      "Generating walks (CPU: 2): 100%|██████████| 3/3 [00:00<00:00, 14.39it/s]\n",
      "Generating walks (CPU: 3): 100%|██████████| 2/2 [00:00<00:00,  9.50it/s]\n",
      "Generating walks (CPU: 4):   0%|          | 0/2 [00:00<?, ?it/s]"
     ]
    },
    {
     "name": "stdout",
     "output_type": "stream",
     "text": [
      "cluster began\n",
      "cluster end\n"
     ]
    },
    {
     "name": "stderr",
     "output_type": "stream",
     "text": [
      "\r",
      "Generating walks (CPU: 4): 100%|██████████| 2/2 [00:00<00:00, 15.05it/s]"
     ]
    },
    {
     "name": "stdout",
     "output_type": "stream",
     "text": [
      "cluster began\n"
     ]
    },
    {
     "name": "stderr",
     "output_type": "stream",
     "text": [
      "\n",
      "Computing transition probabilities:   0%|          | 0/20 [00:00<?, ?it/s]"
     ]
    },
    {
     "name": "stdout",
     "output_type": "stream",
     "text": [
      "cluster end\n"
     ]
    },
    {
     "name": "stderr",
     "output_type": "stream",
     "text": [
      "Computing transition probabilities: 100%|██████████| 20/20 [00:00<00:00, 3939.98it/s]\n",
      "Generating walks (CPU: 3): 100%|██████████| 2/2 [00:00<00:00,  9.95it/s]\n",
      "Computing transition probabilities: 100%|██████████| 17/17 [00:00<00:00, 1495.01it/s]\n",
      "Generating walks (CPU: 1): 100%|██████████| 3/3 [00:00<00:00, 24.54it/s]"
     ]
    },
    {
     "name": "stdout",
     "output_type": "stream",
     "text": [
      "[  2.4   0.  259.  162.   18.    2.    1.    0.    0.    9.    2.    2.\n",
      "   0.    0.    0.    0.    0.    0. ]"
     ]
    },
    {
     "name": "stderr",
     "output_type": "stream",
     "text": [
      "\r",
      "Generating walks (CPU: 1): 100%|██████████| 3/3 [00:00<00:00, 23.33it/s]"
     ]
    },
    {
     "name": "stdout",
     "output_type": "stream",
     "text": [
      "\n",
      "Unk percentage: 0.02564102564102564\n"
     ]
    },
    {
     "name": "stderr",
     "output_type": "stream",
     "text": [
      "Generating walks (CPU: 4): 100%|██████████| 2/2 [00:00<00:00, 12.35it/s]\n",
      "\n",
      "Generating walks (CPU: 2):   0%|          | 0/3 [00:00<?, ?it/s]\n",
      "Generating walks (CPU: 2): 100%|██████████| 3/3 [00:00<00:00, 17.91it/s]"
     ]
    },
    {
     "name": "stdout",
     "output_type": "stream",
     "text": [
      "[  2.   0. 803. 314.  21.   1.   1.   0.   0.   0.   0.   0.   0.   0.\n",
      "   0.   0.   0.   0.]\n"
     ]
    },
    {
     "name": "stderr",
     "output_type": "stream",
     "text": [
      "\r",
      "Generating walks (CPU: 2): 100%|██████████| 3/3 [00:00<00:00, 17.76it/s]"
     ]
    },
    {
     "name": "stdout",
     "output_type": "stream",
     "text": [
      "Unk percentage: 0.0\n"
     ]
    },
    {
     "name": "stderr",
     "output_type": "stream",
     "text": [
      "\n",
      "\n",
      "Generating walks (CPU: 3): 100%|██████████| 2/2 [00:00<00:00, 19.78it/s]"
     ]
    },
    {
     "name": "stdout",
     "output_type": "stream",
     "text": [
      "cluster began\n",
      "cluster end\n"
     ]
    },
    {
     "name": "stderr",
     "output_type": "stream",
     "text": [
      "Computing transition probabilities: 100%|██████████| 24/24 [00:00<00:00, 4218.56it/s]\n",
      "\n",
      "Generating walks (CPU: 1):   0%|          | 0/3 [00:00<?, ?it/s]\n",
      "Generating walks (CPU: 4): 100%|██████████| 2/2 [00:00<00:00, 13.65it/s]\n",
      "Generating walks (CPU: 1): 100%|██████████| 3/3 [00:00<00:00, 18.17it/s]"
     ]
    },
    {
     "name": "stdout",
     "output_type": "stream",
     "text": [
      "cluster began\n",
      "cluster end\n"
     ]
    },
    {
     "name": "stderr",
     "output_type": "stream",
     "text": [
      "Computing transition probabilities: 100%|██████████| 29/29 [00:00<00:00, 2775.15it/s]\n",
      "Generating walks (CPU: 4): 100%|██████████| 2/2 [00:00<00:00, 10.88it/s]\n",
      "\n",
      "Generating walks (CPU: 2):   0%|          | 0/3 [00:00<?, ?it/s]"
     ]
    },
    {
     "name": "stdout",
     "output_type": "stream",
     "text": [
      "[2.25000000e+00 6.47321429e-02 3.58000000e+02 1.59000000e+02\n",
      " 1.20000000e+01 1.00000000e+00 1.00000000e+00 1.00000000e+00\n",
      " 0.00000000e+00 2.20000000e+01 3.00000000e+00 3.00000000e+00\n",
      " 0.00000000e+00 0.00000000e+00 0.00000000e+00 0.00000000e+00\n",
      " 0.00000000e+00 0.00000000e+00]\n",
      "Unk percentage: 0.0\n"
     ]
    },
    {
     "name": "stderr",
     "output_type": "stream",
     "text": [
      "Generating walks (CPU: 2):  67%|██████▋   | 2/3 [00:00<00:00, 14.14it/s]"
     ]
    },
    {
     "name": "stdout",
     "output_type": "stream",
     "text": [
      "[  2.   0. 668. 279.  20.   1.   1.   0.   0.   0.   0.   0.   0.   0.\n",
      "   0.   0.   0.   0.]\n",
      "Unk percentage: 0.0\n"
     ]
    },
    {
     "name": "stderr",
     "output_type": "stream",
     "text": [
      "Generating walks (CPU: 2): 100%|██████████| 3/3 [00:00<00:00, 11.71it/s]\n",
      "Generating walks (CPU: 2):   0%|          | 0/3 [00:00<?, ?it/s]\n",
      "Generating walks (CPU: 2):  67%|██████▋   | 2/3 [00:00<00:00, 12.30it/s]"
     ]
    },
    {
     "name": "stdout",
     "output_type": "stream",
     "text": [
      "cluster began\n",
      "cluster end\n"
     ]
    },
    {
     "name": "stderr",
     "output_type": "stream",
     "text": [
      "Computing transition probabilities: 100%|██████████| 30/30 [00:00<00:00, 3292.84it/s]\n",
      "\n",
      "Generating walks (CPU: 4): 100%|██████████| 2/2 [00:00<00:00, 18.97it/s]\n",
      "Generating walks (CPU: 3):   0%|          | 0/2 [00:00<?, ?it/s]"
     ]
    },
    {
     "name": "stdout",
     "output_type": "stream",
     "text": [
      "cluster began\n",
      "cluster end\n"
     ]
    },
    {
     "name": "stderr",
     "output_type": "stream",
     "text": [
      "Computing transition probabilities:   0%|          | 0/23 [00:00<?, ?it/s]\n",
      "Computing transition probabilities: 100%|██████████| 23/23 [00:00<00:00, 3841.40it/s]\n",
      "Generating walks (CPU: 3): 100%|██████████| 2/2 [00:00<00:00, 13.23it/s]"
     ]
    },
    {
     "name": "stdout",
     "output_type": "stream",
     "text": [
      "[2.17391304e+00 4.49275362e-02 1.28500000e+03 4.48000000e+02\n",
      " 2.90000000e+01 4.00000000e+00 4.00000000e+00 1.00000000e+00\n",
      " 0.00000000e+00 0.00000000e+00 0.00000000e+00 0.00000000e+00\n",
      " 0.00000000e+00 0.00000000e+00 0.00000000e+00 0.00000000e+00\n",
      " 0.00000000e+00 0.00000000e+00]\n",
      "Unk percentage: 0.0\n"
     ]
    },
    {
     "name": "stderr",
     "output_type": "stream",
     "text": [
      "\n",
      "Generating walks (CPU: 4):   0%|          | 0/2 [00:00<?, ?it/s].85it/s]\n",
      "Generating walks (CPU: 2):   0%|          | 0/3 [00:00<?, ?it/s]\n",
      "Generating walks (CPU: 2):  67%|██████▋   | 2/3 [00:00<00:00, 18.97it/s]\n",
      "Generating walks (CPU: 2): 100%|██████████| 3/3 [00:00<00:00, 10.67it/s]"
     ]
    },
    {
     "name": "stdout",
     "output_type": "stream",
     "text": [
      "cluster began\n",
      "cluster end\n"
     ]
    },
    {
     "name": "stderr",
     "output_type": "stream",
     "text": [
      "\n"
     ]
    },
    {
     "name": "stdout",
     "output_type": "stream",
     "text": [
      "[2.07142857e+00 0.00000000e+00 2.55800000e+03 6.82000000e+02\n",
      " 3.20000000e+01 2.00000000e+00 2.00000000e+00 0.00000000e+00\n",
      " 0.00000000e+00 0.00000000e+00 0.00000000e+00 0.00000000e+00\n",
      " 0.00000000e+00 0.00000000e+00 0.00000000e+00 0.00000000e+00\n",
      " 0.00000000e+00 0.00000000e+00]"
     ]
    },
    {
     "name": "stderr",
     "output_type": "stream",
     "text": [
      "Generating walks (CPU: 3):   0%|          | 0/2 [00:00<?, ?it/s]<?, ?it/s]"
     ]
    },
    {
     "name": "stdout",
     "output_type": "stream",
     "text": [
      "\n",
      "Unk percentage: 0.0\n"
     ]
    },
    {
     "name": "stderr",
     "output_type": "stream",
     "text": [
      "Computing transition probabilities: 100%|██████████| 29/29 [00:00<00:00, 3113.81it/s]\n",
      "Generating walks (CPU: 1):   0%|          | 0/3 [00:00<?, ?it/s]\n",
      "Generating walks (CPU: 3): 100%|██████████| 2/2 [00:00<00:00, 12.23it/s]\n",
      "Generating walks (CPU: 4): 100%|██████████| 2/2 [00:00<00:00, 10.61it/s]\n",
      "\n",
      "Generating walks (CPU: 4):   0%|          | 0/2 [00:00<?, ?it/s]\n",
      "Generating walks (CPU: 2):   0%|          | 0/3 [00:00<?, ?it/s]"
     ]
    },
    {
     "name": "stdout",
     "output_type": "stream",
     "text": [
      "[2.27272727e+00 2.75974026e-02 1.08500000e+03 4.11000000e+02\n",
      " 3.10000000e+01 6.00000000e+00 6.00000000e+00 1.00000000e+00\n",
      " 0.00000000e+00 0.00000000e+00 0.00000000e+00 0.00000000e+00\n",
      " 0.00000000e+00 0.00000000e+00 0.00000000e+00 0.00000000e+00\n",
      " 0.00000000e+00 0.00000000e+00]\n",
      "cluster began\n",
      "Unk percentage: 0.0\n",
      "cluster end\n"
     ]
    },
    {
     "name": "stderr",
     "output_type": "stream",
     "text": [
      "Computing transition probabilities: 100%|██████████| 14/14 [00:00<00:00, 5409.01it/s]\n",
      "Generating walks (CPU: 1):   0%|          | 0/3 [00:00<?, ?it/s]\n",
      "Generating walks (CPU: 1): 100%|██████████| 3/3 [00:00<00:00, 20.37it/s]\n",
      "Generating walks (CPU: 2):   0%|          | 0/3 [00:00<?, ?it/s]\n",
      "Generating walks (CPU: 2): 100%|██████████| 3/3 [00:00<00:00, 26.26it/s]"
     ]
    },
    {
     "name": "stdout",
     "output_type": "stream",
     "text": [
      "[2.27586207e+00 3.48659004e-02 2.83800000e+03 7.42000000e+02\n",
      " 5.10000000e+01 1.10000000e+01 1.10000000e+01 1.00000000e+00\n",
      " 0.00000000e+00 0.00000000e+00 0.00000000e+00 0.00000000e+00\n",
      " 0.00000000e+00 0.00000000e+00 0.00000000e+00 0.00000000e+00\n",
      " 0.00000000e+00 0.00000000e+00]\n",
      "Unk percentage: 0.0\n",
      "cluster began\n",
      "cluster end\n"
     ]
    },
    {
     "name": "stderr",
     "output_type": "stream",
     "text": [
      "\n",
      "Computing transition probabilities: 100%|██████████| 12/12 [00:00<00:00, 5063.04it/s]\n",
      "Generating walks (CPU: 3): 100%|██████████| 2/2 [00:00<00:00, 16.19it/s]\n",
      "Generating walks (CPU: 4):   0%|          | 0/2 [00:00<?, ?it/s]\n",
      "Generating walks (CPU: 4): 100%|██████████| 2/2 [00:00<00:00, 22.83it/s]\n",
      "\n",
      "Generating walks (CPU: 4): 100%|██████████| 2/2 [00:00<00:00, 16.16it/s]"
     ]
    },
    {
     "name": "stdout",
     "output_type": "stream",
     "text": [
      "[  1.84615385   0.         165.         110.          11.\n",
      "   0.           0.           0.           0.           0.\n",
      "   0.           0.           0.           0.           0.\n",
      "   0.           0.           0.        ]\n",
      "Unk percentage: 0.0\n"
     ]
    },
    {
     "name": "stderr",
     "output_type": "stream",
     "text": [
      "Generating walks (CPU: 2): 100%|██████████| 3/3 [00:00<00:00, 23.77it/s]\n",
      "Generating walks (CPU: 3):   0%|          | 0/2 [00:00<?, ?it/s]\n",
      "Generating walks (CPU: 3): 100%|██████████| 2/2 [00:00<00:00, 18.39it/s]\n",
      "Generating walks (CPU: 4):   0%|          | 0/2 [00:00<?, ?it/s]"
     ]
    },
    {
     "name": "stdout",
     "output_type": "stream",
     "text": [
      "cluster began\n",
      "cluster end\n"
     ]
    },
    {
     "name": "stderr",
     "output_type": "stream",
     "text": [
      "Computing transition probabilities: 100%|██████████| 18/18 [00:00<00:00, 3961.67it/s]\n",
      "Generating walks (CPU: 4): 100%|██████████| 2/2 [00:00<00:00, 23.21it/s]\n"
     ]
    },
    {
     "name": "stdout",
     "output_type": "stream",
     "text": [
      "[2.35714286e+00 0.00000000e+00 2.49900000e+03 7.00000000e+02\n",
      " 4.00000000e+01 5.00000000e+00 6.00000000e+00 0.00000000e+00\n",
      " 0.00000000e+00 2.20000000e+01 2.00000000e+00 2.00000000e+00\n",
      " 0.00000000e+00 0.00000000e+00 0.00000000e+00 0.00000000e+00\n",
      " 0.00000000e+00 0.00000000e+00]\n",
      "Unk percentage: 0.017857142857142856\n"
     ]
    },
    {
     "name": "stderr",
     "output_type": "stream",
     "text": [
      "\r",
      "Generating walks (CPU: 1): 100%|██████████| 3/3 [00:00<00:00, 18.83it/s]"
     ]
    },
    {
     "name": "stdout",
     "output_type": "stream",
     "text": [
      "[ 1.81818182  0.         84.         72.          9.          0.\n",
      "  0.          0.          0.          0.          0.          0.\n",
      "  0.          0.          0.          0.          0.          0.        ]\n",
      "Unk percentage: 0.0\n"
     ]
    },
    {
     "name": "stderr",
     "output_type": "stream",
     "text": [
      "\n",
      "Generating walks (CPU: 2):   0%|          | 0/3 [00:00<?, ?it/s]"
     ]
    },
    {
     "name": "stdout",
     "output_type": "stream",
     "text": [
      "cluster began\n",
      "cluster end\n"
     ]
    },
    {
     "name": "stderr",
     "output_type": "stream",
     "text": [
      "Computing transition probabilities: 100%|██████████| 14/14 [00:00<00:00, 4839.71it/s]\n",
      "Generating walks (CPU: 1): 100%|██████████| 3/3 [00:00<00:00, 26.44it/s]\n",
      "Generating walks (CPU: 2): 100%|██████████| 3/3 [00:00<00:00, 12.44it/s]\n",
      "Generating walks (CPU: 3): 100%|██████████| 2/2 [00:00<00:00, 15.95it/s]\n"
     ]
    },
    {
     "name": "stdout",
     "output_type": "stream",
     "text": [
      "cluster began\n"
     ]
    },
    {
     "name": "stderr",
     "output_type": "stream",
     "text": [
      "\r",
      "Generating walks (CPU: 4):   0%|          | 0/2 [00:00<?, ?it/s]"
     ]
    },
    {
     "name": "stdout",
     "output_type": "stream",
     "text": [
      "cluster end\n"
     ]
    },
    {
     "name": "stderr",
     "output_type": "stream",
     "text": [
      "Computing transition probabilities:   0%|          | 0/29 [00:00<?, ?it/s]\n",
      "Computing transition probabilities: 100%|██████████| 29/29 [00:00<00:00, 2736.75it/s]\n",
      "Generating walks (CPU: 4): 100%|██████████| 2/2 [00:00<00:00, 15.08it/s]"
     ]
    },
    {
     "name": "stdout",
     "output_type": "stream",
     "text": [
      "cluster began\n",
      "cluster end\n"
     ]
    },
    {
     "name": "stderr",
     "output_type": "stream",
     "text": [
      "\n",
      "Generating walks (CPU: 3): 100%|██████████| 2/2 [00:00<00:00, 14.44it/s]\n",
      "Computing transition probabilities: 100%|██████████| 24/24 [00:00<00:00, 2825.80it/s]\n",
      "Generating walks (CPU: 4): 100%|██████████| 2/2 [00:00<00:00, 16.01it/s]\n"
     ]
    },
    {
     "name": "stdout",
     "output_type": "stream",
     "text": [
      "[  2.23529412   0.         436.         207.          19.\n",
      "   1.           2.           0.           0.          11.\n",
      "   2.           2.           0.           0.           0.\n",
      "   0.           0.           0.        ]\n",
      "Unk percentage: 0.0\n"
     ]
    },
    {
     "name": "stderr",
     "output_type": "stream",
     "text": [
      "Generating walks (CPU: 1): 100%|██████████| 3/3 [00:00<00:00, 20.71it/s]\n",
      "Generating walks (CPU: 2):   0%|          | 0/3 [00:00<?, ?it/s]\n",
      "Generating walks (CPU: 2):   0%|          | 0/3 [00:00<?, ?it/s]"
     ]
    },
    {
     "name": "stdout",
     "output_type": "stream",
     "text": [
      "[  1.84615385   0.         165.         110.          11.\n",
      "   0.           0.           0.           0.           0.\n",
      "   0.           0.           0.           0.           0.\n",
      "   0.           0.           0.        ]\n",
      "Unk percentage: 0.0\n"
     ]
    },
    {
     "name": "stderr",
     "output_type": "stream",
     "text": [
      "Generating walks (CPU: 2): 100%|██████████| 3/3 [00:00<00:00, 11.20it/s]\n",
      "Generating walks (CPU: 3):   0%|          | 0/2 [00:00<?, ?it/s]\n",
      "Generating walks (CPU: 3): 100%|██████████| 2/2 [00:00<00:00, 17.12it/s]"
     ]
    },
    {
     "name": "stdout",
     "output_type": "stream",
     "text": [
      "cluster began\n",
      "cluster end\n"
     ]
    },
    {
     "name": "stderr",
     "output_type": "stream",
     "text": [
      "Computing transition probabilities: 100%|██████████| 18/18 [00:00<00:00, 4055.52it/s]\n",
      "Generating walks (CPU: 1):   0%|          | 0/3 [00:00<?, ?it/s].89it/s]"
     ]
    },
    {
     "name": "stdout",
     "output_type": "stream",
     "text": [
      "cluster began\n",
      "cluster end\n"
     ]
    },
    {
     "name": "stderr",
     "output_type": "stream",
     "text": [
      "\n",
      "Computing transition probabilities: 100%|██████████| 17/17 [00:00<00:00, 1393.40it/s]\n",
      "Generating walks (CPU: 1): 100%|██████████| 3/3 [00:00<00:00, 21.10it/s]\n",
      "Generating walks (CPU: 4): 100%|██████████| 2/2 [00:00<00:00, 16.49it/s]\n",
      "Generating walks (CPU: 4): 100%|██████████| 2/2 [00:00<00:00, 16.97it/s]\n",
      "Generating walks (CPU: 2):   0%|          | 0/3 [00:00<?, ?it/s]\n",
      "Generating walks (CPU: 2): 100%|██████████| 3/3 [00:00<00:00, 20.82it/s]\n",
      "Generating walks (CPU: 2): 100%|██████████| 3/3 [00:00<00:00, 25.20it/s]\n",
      "Generating walks (CPU: 3):   0%|          | 0/2 [00:00<?, ?it/s]\n",
      "Generating walks (CPU: 3):   0%|          | 0/2 [00:00<?, ?it/s]"
     ]
    },
    {
     "name": "stdout",
     "output_type": "stream",
     "text": [
      "[   2.17391304    0.         1294.          429.           36.\n",
      "    6.            6.            0.            0.            0.\n",
      "    0.            0.            0.            0.            0.\n",
      "    0.            0.            0.        ]\n",
      "Unk percentage: 0.0\n"
     ]
    },
    {
     "name": "stderr",
     "output_type": "stream",
     "text": [
      "Generating walks (CPU: 3): 100%|██████████| 2/2 [00:00<00:00, 13.77it/s]\n",
      "Generating walks (CPU: 3): 100%|██████████| 2/2 [00:00<00:00,  9.97it/s]\n",
      "Generating walks (CPU: 4):   0%|          | 0/2 [00:00<?, ?it/s]"
     ]
    },
    {
     "name": "stdout",
     "output_type": "stream",
     "text": [
      "[2.21428571e+00 0.00000000e+00 2.52000000e+03 7.06000000e+02\n",
      " 4.00000000e+01 5.00000000e+00 5.00000000e+00 0.00000000e+00\n",
      " 0.00000000e+00 0.00000000e+00 0.00000000e+00 0.00000000e+00\n",
      " 0.00000000e+00 0.00000000e+00 0.00000000e+00 0.00000000e+00\n",
      " 0.00000000e+00 0.00000000e+00]\n",
      "Unk percentage: 0.0\n"
     ]
    },
    {
     "name": "stderr",
     "output_type": "stream",
     "text": [
      "Generating walks (CPU: 4): 100%|██████████| 2/2 [00:00<00:00, 16.24it/s]\n",
      "Generating walks (CPU: 4): 100%|██████████| 2/2 [00:00<00:00, 12.51it/s]\n"
     ]
    },
    {
     "name": "stdout",
     "output_type": "stream",
     "text": [
      "[2.00000000e+00 6.37254902e-02 4.44000000e+02 2.18000000e+02\n",
      " 1.50000000e+01 1.00000000e+00 1.00000000e+00 1.00000000e+00\n",
      " 0.00000000e+00 0.00000000e+00 0.00000000e+00 0.00000000e+00\n",
      " 0.00000000e+00 0.00000000e+00 0.00000000e+00 0.00000000e+00\n",
      " 0.00000000e+00 0.00000000e+00]\n",
      "Unk percentage: 0.02702702702702703\n",
      "[  2.25   0.   344.   194.    19.     1.     2.     0.     0.     0.\n",
      "   0.     0.     0.     0.     0.     0.     0.     0.  ]\n",
      "cluster began\n",
      "Unk percentage: 0.0\n",
      "cluster end\n"
     ]
    },
    {
     "name": "stderr",
     "output_type": "stream",
     "text": [
      "Computing transition probabilities: 100%|██████████| 13/13 [00:00<00:00, 4406.49it/s]\n",
      "Generating walks (CPU: 1): 100%|██████████| 3/3 [00:00<00:00, 24.65it/s]"
     ]
    },
    {
     "name": "stdout",
     "output_type": "stream",
     "text": [
      "cluster began\n",
      "cluster end\n"
     ]
    },
    {
     "name": "stderr",
     "output_type": "stream",
     "text": [
      "Computing transition probabilities: 100%|██████████| 24/24 [00:00<00:00, 4771.00it/s]\n",
      "\n",
      "Generating walks (CPU: 1):  67%|██████▋   | 2/3 [00:00<00:00, 15.76it/s]\n",
      "Generating walks (CPU: 3):   0%|          | 0/2 [00:00<?, ?it/s]"
     ]
    },
    {
     "name": "stdout",
     "output_type": "stream",
     "text": [
      "cluster began\n",
      "cluster end\n"
     ]
    },
    {
     "name": "stderr",
     "output_type": "stream",
     "text": [
      "Computing transition probabilities: 100%|██████████| 22/22 [00:00<00:00, 4464.40it/s]\n",
      "Generating walks (CPU: 3): 100%|██████████| 2/2 [00:00<00:00, 19.66it/s]\n",
      "Generating walks (CPU: 4):   0%|          | 0/2 [00:00<?, ?it/s]"
     ]
    },
    {
     "name": "stdout",
     "output_type": "stream",
     "text": [
      "cluster began\n",
      "cluster end\n"
     ]
    },
    {
     "name": "stderr",
     "output_type": "stream",
     "text": [
      "Generating walks (CPU: 1): 100%|██████████| 3/3 [00:00<00:00,  9.27it/s]s]\n",
      "Computing transition probabilities: 100%|██████████| 19/19 [00:00<00:00, 1419.52it/s]\n",
      "Generating walks (CPU: 4): 100%|██████████| 2/2 [00:00<00:00, 19.31it/s]\n",
      "Generating walks (CPU: 1): 100%|██████████| 3/3 [00:00<00:00, 19.36it/s]\n",
      "Generating walks (CPU: 2): 100%|██████████| 3/3 [00:00<00:00, 16.51it/s]"
     ]
    },
    {
     "name": "stdout",
     "output_type": "stream",
     "text": [
      "[2.33333333e+00 1.05952381e-01 1.10000000e+02 8.60000000e+01\n",
      " 1.20000000e+01 1.00000000e+00 1.00000000e+00 0.00000000e+00\n",
      " 0.00000000e+00 5.00000000e+00 2.00000000e+00 2.00000000e+00\n",
      " 1.00000000e+00 0.00000000e+00 0.00000000e+00 0.00000000e+00\n",
      " 0.00000000e+00 0.00000000e+00]\n",
      "Unk percentage: 0.0\n"
     ]
    },
    {
     "name": "stderr",
     "output_type": "stream",
     "text": [
      "\n",
      "Generating walks (CPU: 2):   0%|          | 0/3 [00:00<?, ?it/s].64it/s]\n",
      "Generating walks (CPU: 3):   0%|          | 0/2 [00:00<?, ?it/s]\n",
      "Generating walks (CPU: 2): 100%|██████████| 3/3 [00:00<00:00, 20.09it/s]\n",
      "Generating walks (CPU: 3): 100%|██████████| 2/2 [00:00<00:00, 11.08it/s]\n",
      "Generating walks (CPU: 3): 100%|██████████| 2/2 [00:00<00:00, 11.66it/s]\n",
      "Generating walks (CPU: 4): 100%|██████████| 2/2 [00:00<00:00, 18.07it/s]\n",
      "Generating walks (CPU: 4): 100%|██████████| 2/2 [00:00<00:00, 12.22it/s]\n",
      "\n"
     ]
    },
    {
     "name": "stdout",
     "output_type": "stream",
     "text": [
      "cluster began\n",
      "cluster end\n"
     ]
    },
    {
     "name": "stderr",
     "output_type": "stream",
     "text": [
      "Generating walks (CPU: 4): 100%|██████████| 2/2 [00:00<00:00, 10.67it/s]s]\n",
      "Computing transition probabilities: 100%|██████████| 17/17 [00:00<00:00, 2406.21it/s]\n",
      "Generating walks (CPU: 1):   0%|          | 0/3 [00:00<?, ?it/s]"
     ]
    },
    {
     "name": "stdout",
     "output_type": "stream",
     "text": [
      "[   2.26086957    0.         1270.          456.           35.\n",
      "    5.            5.            0.            0.            0.\n",
      "    0.            0.            0.            0.            0.\n",
      "    0.            0.            0.        ]\n",
      "Unk percentage: 0.0\n",
      "[  1.9047619   0.        969.        342.         19.          0.\n",
      "   0.          0.          0.          0.          0.          0.\n",
      "   0.          0.          0.          0.          0.          0.       ]\n",
      "Unk percentage: 0.0\n"
     ]
    },
    {
     "name": "stderr",
     "output_type": "stream",
     "text": [
      "\r",
      "Generating walks (CPU: 1): 100%|██████████| 3/3 [00:00<00:00, 21.56it/s]"
     ]
    },
    {
     "name": "stdout",
     "output_type": "stream",
     "text": [
      "[  2.   0. 561. 224.  15.   0.   0.   0.   0.  14.   1.   1.   0.   0.\n",
      "   0.   0.   0.   0.]\n",
      "Unk percentage: 0.0\n"
     ]
    },
    {
     "name": "stderr",
     "output_type": "stream",
     "text": [
      "\n",
      "Generating walks (CPU: 2): 100%|██████████| 3/3 [00:00<00:00, 23.67it/s]\n",
      "Generating walks (CPU: 3): 100%|██████████| 2/2 [00:00<00:00, 16.00it/s]\n",
      "Generating walks (CPU: 4): 100%|██████████| 2/2 [00:00<00:00, 12.11it/s]\n"
     ]
    },
    {
     "name": "stdout",
     "output_type": "stream",
     "text": [
      "cluster began\n",
      "cluster end\n"
     ]
    },
    {
     "name": "stderr",
     "output_type": "stream",
     "text": [
      "Computing transition probabilities: 100%|██████████| 27/27 [00:00<00:00, 4119.24it/s]\n",
      "Generating walks (CPU: 1):   0%|          | 0/3 [00:00<?, ?it/s]"
     ]
    },
    {
     "name": "stdout",
     "output_type": "stream",
     "text": [
      "cluster began\n",
      "cluster end\n"
     ]
    },
    {
     "name": "stderr",
     "output_type": "stream",
     "text": [
      "Computing transition probabilities: 100%|██████████| 26/26 [00:00<00:00, 2877.21it/s]\n",
      "Generating walks (CPU: 1):  67%|██████▋   | 2/3 [00:00<00:00, 17.97it/s]"
     ]
    },
    {
     "name": "stdout",
     "output_type": "stream",
     "text": [
      "cluster began\n",
      "cluster end\n"
     ]
    },
    {
     "name": "stderr",
     "output_type": "stream",
     "text": [
      "Computing transition probabilities: 100%|██████████| 35/35 [00:00<00:00, 2463.18it/s]\n",
      "Generating walks (CPU: 1):   0%|          | 0/3 [00:00<?, ?it/s]"
     ]
    },
    {
     "name": "stdout",
     "output_type": "stream",
     "text": [
      "[  2.125   0.    347.    188.     20.      2.      3.      0.      0.\n",
      "   0.      0.      0.      0.      0.      0.      0.      0.      0.   ]\n",
      "Unk percentage: 0.0\n"
     ]
    },
    {
     "name": "stderr",
     "output_type": "stream",
     "text": [
      "Generating walks (CPU: 1): 100%|██████████| 3/3 [00:00<00:00,  9.70it/s]\n",
      "Generating walks (CPU: 1):  67%|██████▋   | 2/3 [00:00<00:00, 12.71it/s]\n",
      "Generating walks (CPU: 2): 100%|██████████| 3/3 [00:00<00:00, 14.16it/s]\n",
      "Generating walks (CPU: 3):   0%|          | 0/2 [00:00<?, ?it/s]\n",
      "Generating walks (CPU: 2):   0%|          | 0/3 [00:00<?, ?it/s]\n",
      "Generating walks (CPU: 3): 100%|██████████| 2/2 [00:00<00:00, 12.05it/s]\n",
      "Generating walks (CPU: 4):   0%|          | 0/2 [00:00<?, ?it/s]"
     ]
    },
    {
     "name": "stdout",
     "output_type": "stream",
     "text": [
      "cluster began\n",
      "cluster end\n"
     ]
    },
    {
     "name": "stderr",
     "output_type": "stream",
     "text": [
      "Computing transition probabilities: 100%|██████████| 18/18 [00:00<00:00, 3677.78it/s]\n",
      "Generating walks (CPU: 2): 100%|██████████| 3/3 [00:00<00:00, 12.67it/s]\n",
      "Generating walks (CPU: 1): 100%|██████████| 3/3 [00:00<00:00, 21.93it/s]\n",
      "Generating walks (CPU: 3):   0%|          | 0/2 [00:00<?, ?it/s]\n",
      "Generating walks (CPU: 2):   0%|          | 0/3 [00:00<?, ?it/s]\n",
      "Generating walks (CPU: 4): 100%|██████████| 2/2 [00:00<00:00, 11.07it/s]\n",
      "Generating walks (CPU: 3): 100%|██████████| 2/2 [00:00<00:00, 11.75it/s]"
     ]
    },
    {
     "name": "stdout",
     "output_type": "stream",
     "text": [
      "[   2.30769231    0.         1937.          606.           43.\n",
      "    7.            7.            0.            0.            0.\n",
      "    0.            0.            0.            0.            0.\n",
      "    0.            0.            0.        ]\n",
      "Unk percentage: 0.0\n"
     ]
    },
    {
     "name": "stderr",
     "output_type": "stream",
     "text": [
      "Generating walks (CPU: 2): 100%|██████████| 3/3 [00:00<00:00, 19.18it/s]\n",
      "Generating walks (CPU: 3):   0%|          | 0/2 [00:00<?, ?it/s]\n"
     ]
    },
    {
     "name": "stdout",
     "output_type": "stream",
     "text": [
      "[2.32000000e+00 8.48095238e-02 1.69400000e+03 5.48000000e+02\n",
      " 3.90000000e+01 8.00000000e+00 8.00000000e+00 2.00000000e+00\n",
      " 1.00000000e+00 0.00000000e+00 0.00000000e+00 0.00000000e+00\n",
      " 0.00000000e+00 0.00000000e+00 0.00000000e+00 0.00000000e+00\n",
      " 0.00000000e+00 0.00000000e+00]\n"
     ]
    },
    {
     "name": "stderr",
     "output_type": "stream",
     "text": [
      "\r",
      "Generating walks (CPU: 4):   0%|          | 0/2 [00:00<?, ?it/s]"
     ]
    },
    {
     "name": "stdout",
     "output_type": "stream",
     "text": [
      "Unk percentage: 0.023255813953488372\n"
     ]
    },
    {
     "name": "stderr",
     "output_type": "stream",
     "text": [
      "Generating walks (CPU: 3): 100%|██████████| 2/2 [00:00<00:00, 10.42it/s]\n",
      "Generating walks (CPU: 4): 100%|██████████| 2/2 [00:00<00:00, 15.23it/s]\n",
      "\n"
     ]
    },
    {
     "name": "stdout",
     "output_type": "stream",
     "text": [
      "[  2.   0. 445. 215.  18.   1.   1.   0.   0.   0.   0.   0.   0.   0.\n",
      "   0.   0.   0.   0.]cluster began\n",
      "\n",
      "Unk percentage: 0.031746031746031744\n",
      "cluster end\n"
     ]
    },
    {
     "name": "stderr",
     "output_type": "stream",
     "text": [
      "Computing transition probabilities: 100%|██████████| 9/9 [00:00<00:00, 5581.66it/s]\n",
      "Generating walks (CPU: 1):   0%|          | 0/3 [00:00<?, ?it/s]"
     ]
    },
    {
     "name": "stdout",
     "output_type": "stream",
     "text": [
      "[2.17647059e+00 5.94771242e-02 4.87400000e+03 1.03800000e+03\n",
      " 5.00000000e+01 1.00000000e+01 1.00000000e+01 2.00000000e+00\n",
      " 0.00000000e+00 0.00000000e+00 0.00000000e+00 0.00000000e+00\n",
      " 0.00000000e+00 0.00000000e+00 0.00000000e+00 0.00000000e+00\n",
      " 0.00000000e+00 0.00000000e+00]\n",
      "Unk percentage: 0.0\n"
     ]
    },
    {
     "name": "stderr",
     "output_type": "stream",
     "text": [
      "\r",
      "Generating walks (CPU: 1): 100%|██████████| 3/3 [00:00<00:00, 23.85it/s]"
     ]
    },
    {
     "name": "stdout",
     "output_type": "stream",
     "text": [
      "cluster began\n"
     ]
    },
    {
     "name": "stderr",
     "output_type": "stream",
     "text": [
      "\n",
      "Generating walks (CPU: 2):   0%|          | 0/3 [00:00<?, ?it/s]"
     ]
    },
    {
     "name": "stdout",
     "output_type": "stream",
     "text": [
      "cluster end\n"
     ]
    },
    {
     "name": "stderr",
     "output_type": "stream",
     "text": [
      "Computing transition probabilities: 100%|██████████| 25/25 [00:00<00:00, 2339.37it/s]\n",
      "Generating walks (CPU: 2): 100%|██████████| 3/3 [00:00<00:00, 22.78it/s]\n",
      "Generating walks (CPU: 3): 100%|██████████| 2/2 [00:00<00:00, 22.23it/s]\n",
      "Generating walks (CPU: 4): 100%|██████████| 2/2 [00:00<00:00, 24.08it/s]\n"
     ]
    },
    {
     "name": "stdout",
     "output_type": "stream",
     "text": [
      "[ 1.75  0.   20.   30.    6.    0.    0.    0.    0.    0.    0.    0.\n",
      "  0.    0.    0.    0.    0.    0.  ]\n",
      "Unk percentage: 0.0\n"
     ]
    },
    {
     "name": "stderr",
     "output_type": "stream",
     "text": [
      "\n",
      "Generating walks (CPU: 2):   0%|          | 0/3 [00:00<?, ?it/s]"
     ]
    },
    {
     "name": "stdout",
     "output_type": "stream",
     "text": [
      "cluster began\n",
      "cluster end\n"
     ]
    },
    {
     "name": "stderr",
     "output_type": "stream",
     "text": [
      "\r",
      "Computing transition probabilities:   0%|          | 0/34 [00:00<?, ?it/s]"
     ]
    },
    {
     "name": "stdout",
     "output_type": "stream",
     "text": [
      "cluster began\n",
      "cluster end\n"
     ]
    },
    {
     "name": "stderr",
     "output_type": "stream",
     "text": [
      "Computing transition probabilities: 100%|██████████| 34/34 [00:00<00:00, 2828.42it/s]\n",
      "Computing transition probabilities: 100%|██████████| 15/15 [00:00<00:00, 5137.98it/s]\n",
      "Generating walks (CPU: 1):  67%|██████▋   | 2/3 [00:00<00:00, 12.58it/s]\n",
      "Generating walks (CPU: 2):   0%|          | 0/3 [00:00<?, ?it/s]\n",
      "Generating walks (CPU: 3): 100%|██████████| 2/2 [00:00<00:00, 17.30it/s]\n",
      "Generating walks (CPU: 3):   0%|          | 0/2 [00:00<?, ?it/s]\n",
      "Generating walks (CPU: 2):   0%|          | 0/3 [00:00<?, ?it/s]"
     ]
    },
    {
     "name": "stdout",
     "output_type": "stream",
     "text": [
      "cluster began\n"
     ]
    },
    {
     "name": "stderr",
     "output_type": "stream",
     "text": [
      "\n",
      "Generating walks (CPU: 4):   0%|          | 0/2 [00:00<?, ?it/s]"
     ]
    },
    {
     "name": "stdout",
     "output_type": "stream",
     "text": [
      "cluster end\n"
     ]
    },
    {
     "name": "stderr",
     "output_type": "stream",
     "text": [
      "Computing transition probabilities: 100%|██████████| 16/16 [00:00<00:00, 4381.62it/s]\n",
      "Generating walks (CPU: 3): 100%|██████████| 2/2 [00:00<00:00, 13.42it/s]\n",
      "Generating walks (CPU: 1): 100%|██████████| 3/3 [00:00<00:00, 28.93it/s]\n",
      "Generating walks (CPU: 4): 100%|██████████| 2/2 [00:00<00:00, 13.70it/s]\n",
      "\n",
      "Generating walks (CPU: 2): 100%|██████████| 3/3 [00:00<00:00,  8.70it/s]"
     ]
    },
    {
     "name": "stdout",
     "output_type": "stream",
     "text": [
      "[2.000e+00 0.000e+00 1.523e+03 4.740e+02 2.500e+01 1.000e+00 1.000e+00\n",
      " 0.000e+00 0.000e+00 0.000e+00 0.000e+00 0.000e+00 0.000e+00 0.000e+00\n",
      " 0.000e+00 0.000e+00 0.000e+00 0.000e+00]\n",
      "Unk percentage: 0.0\n",
      "[  2.14285714   0.         214.         122.          14.\n",
      "   1.           1.           0.           0.          10.\n",
      "   1.           1.           0.           0.           0.\n",
      "   0.           0.           0.        ]\n",
      "Unk percentage: 0.017857142857142856\n"
     ]
    },
    {
     "name": "stderr",
     "output_type": "stream",
     "text": [
      "Generating walks (CPU: 2): 100%|██████████| 3/3 [00:00<00:00, 19.65it/s]\n",
      "Generating walks (CPU: 3):   0%|          | 0/2 [00:00<?, ?it/s]\n",
      "Generating walks (CPU: 3): 100%|██████████| 2/2 [00:00<00:00, 16.92it/s]\n",
      "Generating walks (CPU: 4):   0%|          | 0/2 [00:00<?, ?it/s]\n",
      "Generating walks (CPU: 4): 100%|██████████| 2/2 [00:00<00:00, 15.81it/s]\n",
      "Generating walks (CPU: 4):   0%|          | 0/2 [00:00<?, ?it/s]"
     ]
    },
    {
     "name": "stdout",
     "output_type": "stream",
     "text": [
      "[  2.26666667   0.         271.         160.          19.\n",
      "   3.           2.           0.           0.           0.\n",
      "   0.           0.           0.           0.           0.\n",
      "   0.           0.           0.        ]\n",
      "Unk percentage: 0.0\n"
     ]
    },
    {
     "name": "stderr",
     "output_type": "stream",
     "text": [
      "\r",
      "Generating walks (CPU: 4): 100%|██████████| 2/2 [00:00<00:00, 10.52it/s]"
     ]
    },
    {
     "name": "stdout",
     "output_type": "stream",
     "text": [
      "cluster began\n",
      "cluster end\n"
     ]
    },
    {
     "name": "stderr",
     "output_type": "stream",
     "text": [
      "Computing transition probabilities: 100%|██████████| 30/30 [00:00<00:00, 3135.54it/s]\n",
      "Generating walks (CPU: 1):   0%|          | 0/3 [00:00<?, ?it/s]"
     ]
    },
    {
     "name": "stdout",
     "output_type": "stream",
     "text": [
      "cluster began\n"
     ]
    },
    {
     "name": "stderr",
     "output_type": "stream",
     "text": [
      "\n"
     ]
    },
    {
     "name": "stdout",
     "output_type": "stream",
     "text": [
      "cluster end\n"
     ]
    },
    {
     "name": "stderr",
     "output_type": "stream",
     "text": [
      "Computing transition probabilities: 100%|██████████| 26/26 [00:00<00:00, 3616.38it/s]\n",
      "Generating walks (CPU: 1): 100%|██████████| 3/3 [00:00<00:00,  9.59it/s]"
     ]
    },
    {
     "name": "stdout",
     "output_type": "stream",
     "text": [
      "[2.36363636e+00 3.05361305e-02 4.39700000e+03 9.51000000e+02\n",
      " 5.40000000e+01 1.10000000e+01 1.10000000e+01 1.00000000e+00\n",
      " 0.00000000e+00 2.10000000e+01 5.00000000e+00 5.00000000e+00\n",
      " 0.00000000e+00 0.00000000e+00 0.00000000e+00 0.00000000e+00\n",
      " 0.00000000e+00 0.00000000e+00]\n",
      "Unk percentage: 0.0\n"
     ]
    },
    {
     "name": "stderr",
     "output_type": "stream",
     "text": [
      "Generating walks (CPU: 1): 100%|██████████| 3/3 [00:00<00:00, 11.17it/s]\n",
      "Generating walks (CPU: 2):   0%|          | 0/3 [00:00<?, ?it/s]"
     ]
    },
    {
     "name": "stdout",
     "output_type": "stream",
     "text": [
      "cluster began\n",
      "cluster end\n"
     ]
    },
    {
     "name": "stderr",
     "output_type": "stream",
     "text": [
      "Computing transition probabilities: 100%|██████████| 16/16 [00:00<00:00, 5476.49it/s]\n",
      "\n",
      "Generating walks (CPU: 1): 100%|██████████| 3/3 [00:00<00:00, 18.85it/s]\n",
      "Generating walks (CPU: 2): 100%|██████████| 3/3 [00:00<00:00, 10.63it/s]\n",
      "Generating walks (CPU: 3):   0%|          | 0/2 [00:00<?, ?it/s]\n",
      "Generating walks (CPU: 3): 100%|██████████| 2/2 [00:00<00:00, 12.64it/s]"
     ]
    },
    {
     "name": "stdout",
     "output_type": "stream",
     "text": [
      "cluster began\n"
     ]
    },
    {
     "name": "stderr",
     "output_type": "stream",
     "text": [
      "\n"
     ]
    },
    {
     "name": "stdout",
     "output_type": "stream",
     "text": [
      "cluster end\n"
     ]
    },
    {
     "name": "stderr",
     "output_type": "stream",
     "text": [
      "Computing transition probabilities:   0%|          | 0/14 [00:00<?, ?it/s]\n",
      "Computing transition probabilities: 100%|██████████| 14/14 [00:00<00:00, 2587.71it/s]\n",
      "Generating walks (CPU: 1):   0%|          | 0/3 [00:00<?, ?it/s]\n",
      "Generating walks (CPU: 3): 100%|██████████| 2/2 [00:00<00:00, 16.55it/s]\n",
      "Generating walks (CPU: 4): 100%|██████████| 2/2 [00:00<00:00, 12.62it/s]\n",
      "Generating walks (CPU: 4):   0%|          | 0/2 [00:00<?, ?it/s]\n",
      "Generating walks (CPU: 4): 100%|██████████| 2/2 [00:00<00:00, 18.99it/s]\n",
      "Generating walks (CPU: 2): 100%|██████████| 3/3 [00:00<00:00, 28.75it/s]"
     ]
    },
    {
     "name": "stdout",
     "output_type": "stream",
     "text": [
      "[2.000e+00 0.000e+00 1.753e+03 5.190e+02 2.600e+01 1.000e+00 1.000e+00\n",
      " 0.000e+00 0.000e+00 0.000e+00 0.000e+00 0.000e+00 0.000e+00 0.000e+00\n",
      " 0.000e+00 0.000e+00 0.000e+00 0.000e+00]\n",
      "Unk percentage: 0.0\n"
     ]
    },
    {
     "name": "stderr",
     "output_type": "stream",
     "text": [
      "\n",
      "\n",
      "Generating walks (CPU: 3):   0%|          | 0/2 [00:00<?, ?it/s]"
     ]
    },
    {
     "name": "stdout",
     "output_type": "stream",
     "text": [
      "[  2.   0. 276. 163.  15.   1.   0.   0.   0.   0.   0.   0.   0.   0.\n",
      "   0.   0.   0.   0.]\n",
      "Unk percentage: 0.0\n"
     ]
    },
    {
     "name": "stderr",
     "output_type": "stream",
     "text": [
      "Generating walks (CPU: 3): 100%|██████████| 2/2 [00:00<00:00, 19.52it/s]\n",
      "Generating walks (CPU: 4):   0%|          | 0/2 [00:00<?, ?it/s]"
     ]
    },
    {
     "name": "stdout",
     "output_type": "stream",
     "text": [
      "[2.55172414e+00 0.00000000e+00 2.81300000e+03 7.07000000e+02\n",
      " 4.30000000e+01 7.00000000e+00 6.00000000e+00 0.00000000e+00\n",
      " 0.00000000e+00 5.70000000e+01 9.00000000e+00 9.00000000e+00\n",
      " 0.00000000e+00 0.00000000e+00 0.00000000e+00 3.00000000e+00\n",
      " 0.00000000e+00 0.00000000e+00]\n",
      "Unk percentage: 0.0\n"
     ]
    },
    {
     "name": "stderr",
     "output_type": "stream",
     "text": [
      "Generating walks (CPU: 4): 100%|██████████| 2/2 [00:00<00:00, 21.59it/s]\n"
     ]
    },
    {
     "name": "stdout",
     "output_type": "stream",
     "text": [
      "[  1.84615385   0.         165.         110.          11.\n",
      "   0.           0.           0.           0.           0.\n",
      "   0.           0.           0.           0.           0.\n",
      "   0.           0.           0.        ]\n",
      "Unk percentage: 0.0\n",
      "cluster began\n",
      "cluster end\n"
     ]
    },
    {
     "name": "stderr",
     "output_type": "stream",
     "text": [
      "Computing transition probabilities: 100%|██████████| 27/27 [00:00<00:00, 2152.81it/s]\n",
      "Generating walks (CPU: 1):   0%|          | 0/3 [00:00<?, ?it/s]"
     ]
    },
    {
     "name": "stdout",
     "output_type": "stream",
     "text": [
      "cluster began\n",
      "cluster end\n"
     ]
    },
    {
     "name": "stderr",
     "output_type": "stream",
     "text": [
      "Computing transition probabilities: 100%|██████████| 22/22 [00:00<00:00, 2586.97it/s]\n"
     ]
    },
    {
     "name": "stdout",
     "output_type": "stream",
     "text": [
      "cluster began\n"
     ]
    },
    {
     "name": "stderr",
     "output_type": "stream",
     "text": [
      "\r",
      "Generating walks (CPU: 1):   0%|          | 0/3 [00:00<?, ?it/s]"
     ]
    },
    {
     "name": "stdout",
     "output_type": "stream",
     "text": [
      "cluster end\n"
     ]
    },
    {
     "name": "stderr",
     "output_type": "stream",
     "text": [
      "Computing transition probabilities: 100%|██████████| 18/18 [00:00<00:00, 2043.12it/s]\n",
      "Generating walks (CPU: 1): 100%|██████████| 3/3 [00:00<00:00, 22.62it/s]\n",
      "Generating walks (CPU: 2):   0%|          | 0/3 [00:00<?, ?it/s]\n",
      "Generating walks (CPU: 2):   0%|          | 0/3 [00:00<?, ?it/s]\n",
      "Generating walks (CPU: 2):   0%|          | 0/3 [00:00<?, ?it/s]"
     ]
    },
    {
     "name": "stdout",
     "output_type": "stream",
     "text": [
      "cluster began\n",
      "cluster end\n"
     ]
    },
    {
     "name": "stderr",
     "output_type": "stream",
     "text": [
      "Computing transition probabilities: 100%|██████████| 29/29 [00:00<00:00, 3345.57it/s]\n",
      "Generating walks (CPU: 2): 100%|██████████| 3/3 [00:00<00:00, 24.26it/s]\n",
      "Generating walks (CPU: 2): 100%|██████████| 3/3 [00:00<00:00, 10.52it/s]\n",
      "Generating walks (CPU: 2): 100%|██████████| 3/3 [00:00<00:00, 11.43it/s]\n",
      "Generating walks (CPU: 3): 100%|██████████| 2/2 [00:00<00:00, 11.72it/s]\n",
      "Generating walks (CPU: 3): 100%|██████████| 2/2 [00:00<00:00, 12.03it/s]\n",
      "Generating walks (CPU: 3): 100%|██████████| 2/2 [00:00<00:00, 12.31it/s]\n",
      "\n",
      "Generating walks (CPU: 4): 100%|██████████| 2/2 [00:00<00:00, 11.40it/s]\n",
      "Generating walks (CPU: 4): 100%|██████████| 2/2 [00:00<00:00, 12.09it/s]\n",
      "Generating walks (CPU: 4): 100%|██████████| 2/2 [00:00<00:00,  9.46it/s]\n"
     ]
    },
    {
     "name": "stdout",
     "output_type": "stream",
     "text": [
      "[  1.88235294   0.         455.         210.          15.\n",
      "   0.           0.           0.           0.           0.\n",
      "   0.           0.           0.           0.           0.\n",
      "   0.           0.           0.        ]\n",
      "Unk percentage: 0.0\n"
     ]
    },
    {
     "name": "stderr",
     "output_type": "stream",
     "text": [
      "\n",
      "Generating walks (CPU: 3):   0%|          | 0/2 [00:00<?, ?it/s]"
     ]
    },
    {
     "name": "stdout",
     "output_type": "stream",
     "text": [
      "[2.47619048e+00 6.13945578e-02 9.09000000e+02 3.56000000e+02\n",
      " 3.00000000e+01 7.00000000e+00 6.00000000e+00 2.00000000e+00\n",
      " 1.00000000e+00 1.40000000e+01 3.00000000e+00 2.00000000e+00\n",
      " 0.00000000e+00 0.00000000e+00 0.00000000e+00 0.00000000e+00\n",
      " 0.00000000e+00 0.00000000e+00]\n",
      "Unk percentage: 0.0\n"
     ]
    },
    {
     "name": "stderr",
     "output_type": "stream",
     "text": [
      "\r",
      "Generating walks (CPU: 3): 100%|██████████| 2/2 [00:00<00:00, 18.67it/s]"
     ]
    },
    {
     "name": "stdout",
     "output_type": "stream",
     "text": [
      "[   2.46153846    0.         1942.          579.           40.\n",
      "    7.            8.            0.            0.           17.\n",
      "    4.            3.            0.            0.            0.\n",
      "    0.            0.            0.        ]\n",
      "Unk percentage: 0.0\n"
     ]
    },
    {
     "name": "stderr",
     "output_type": "stream",
     "text": [
      "\n",
      "Generating walks (CPU: 4): 100%|██████████| 2/2 [00:00<00:00, 14.24it/s]\n"
     ]
    },
    {
     "name": "stdout",
     "output_type": "stream",
     "text": [
      "[2.35714286e+00 3.59933036e-02 2.54200000e+03 6.29000000e+02\n",
      " 3.90000000e+01 7.00000000e+00 7.00000000e+00 1.00000000e+00\n",
      " 0.00000000e+00 3.40000000e+01 8.00000000e+00 8.00000000e+00\n",
      " 0.00000000e+00 0.00000000e+00 0.00000000e+00 1.00000000e+00\n",
      " 0.00000000e+00 0.00000000e+00]\n",
      "Unk percentage: 0.0\n",
      "cluster began\n",
      "cluster end\n"
     ]
    },
    {
     "name": "stderr",
     "output_type": "stream",
     "text": [
      "Computing transition probabilities: 100%|██████████| 21/21 [00:00<00:00, 4135.04it/s]\n",
      "Generating walks (CPU: 1):   0%|          | 0/3 [00:00<?, ?it/s]"
     ]
    },
    {
     "name": "stdout",
     "output_type": "stream",
     "text": [
      "cluster began\n",
      "cluster end\n"
     ]
    },
    {
     "name": "stderr",
     "output_type": "stream",
     "text": [
      "Computing transition probabilities: 100%|██████████| 24/24 [00:00<00:00, 2614.36it/s]\n",
      "Generating walks (CPU: 1):   0%|          | 0/3 [00:00<?, ?it/s]"
     ]
    },
    {
     "name": "stdout",
     "output_type": "stream",
     "text": [
      "cluster began\n",
      "cluster end\n"
     ]
    },
    {
     "name": "stderr",
     "output_type": "stream",
     "text": [
      "Computing transition probabilities: 100%|██████████| 18/18 [00:00<00:00, 1381.25it/s]\n",
      "Generating walks (CPU: 1): 100%|██████████| 3/3 [00:00<00:00, 25.36it/s]\n",
      "Generating walks (CPU: 1): 100%|██████████| 3/3 [00:00<00:00, 10.50it/s]\n",
      "\n",
      "Generating walks (CPU: 2): 100%|██████████| 3/3 [00:00<00:00, 21.28it/s]\n",
      "Generating walks (CPU: 3):   0%|          | 0/2 [00:00<?, ?it/s]\n",
      "Generating walks (CPU: 2): 100%|██████████| 3/3 [00:00<00:00, 13.38it/s]\n",
      "Generating walks (CPU: 3): 100%|██████████| 2/2 [00:00<00:00, 13.76it/s]"
     ]
    },
    {
     "name": "stdout",
     "output_type": "stream",
     "text": [
      "cluster began\n",
      "cluster end\n"
     ]
    },
    {
     "name": "stderr",
     "output_type": "stream",
     "text": [
      "\n",
      "Generating walks (CPU: 3): 100%|██████████| 2/2 [00:00<00:00, 10.35it/s]\n",
      "Computing transition probabilities: 100%|██████████| 28/28 [00:00<00:00, 3066.41it/s]\n",
      "Generating walks (CPU: 4): 100%|██████████| 2/2 [00:00<00:00, 15.82it/s]\n",
      "Generating walks (CPU: 4): 100%|██████████| 2/2 [00:00<00:00, 14.18it/s]\n",
      "\n",
      "Generating walks (CPU: 1): 100%|██████████| 3/3 [00:00<00:00, 13.38it/s]"
     ]
    },
    {
     "name": "stdout",
     "output_type": "stream",
     "text": [
      "[  2.11764706   0.         446.         200.          17.\n",
      "   1.           1.           0.           0.          13.\n",
      "   1.           1.           0.           0.           0.\n",
      "   0.           0.           0.        ]\n",
      "Unk percentage: 0.0\n",
      "[  2.1   0.  790.  322.   24.    2.    2.    0.    0.    0.    0.    0.\n",
      "   0.    0.    0.    0.    0.    0. ]\n",
      "Unk percentage: 0.0\n"
     ]
    },
    {
     "name": "stderr",
     "output_type": "stream",
     "text": [
      "\n",
      "Generating walks (CPU: 4): 100%|██████████| 2/2 [00:00<00:00, 10.94it/s]\n",
      "Generating walks (CPU: 2):  67%|██████▋   | 2/3 [00:00<00:00, 18.44it/s]"
     ]
    },
    {
     "name": "stdout",
     "output_type": "stream",
     "text": [
      "[2.43478261e+00 0.00000000e+00 1.28300000e+03 4.06000000e+02\n",
      " 3.10000000e+01 4.00000000e+00 6.00000000e+00 0.00000000e+00\n",
      " 0.00000000e+00 2.40000000e+01 8.00000000e+00 8.00000000e+00\n",
      " 0.00000000e+00 0.00000000e+00 0.00000000e+00 1.00000000e+00\n",
      " 0.00000000e+00 0.00000000e+00]\n",
      "Unk percentage: 0.03125\n"
     ]
    },
    {
     "name": "stderr",
     "output_type": "stream",
     "text": [
      "Generating walks (CPU: 2): 100%|██████████| 3/3 [00:00<00:00, 10.10it/s]\n",
      "Generating walks (CPU: 3): 100%|██████████| 2/2 [00:00<00:00, 14.64it/s]\n"
     ]
    },
    {
     "name": "stdout",
     "output_type": "stream",
     "text": [
      "cluster began\n",
      "cluster end\n"
     ]
    },
    {
     "name": "stderr",
     "output_type": "stream",
     "text": [
      "Computing transition probabilities: 100%|██████████| 15/15 [00:00<00:00, 4323.43it/s]\n",
      "Generating walks (CPU: 1): 100%|██████████| 3/3 [00:00<00:00, 20.31it/s]\n",
      "Generating walks (CPU: 2):   0%|          | 0/3 [00:00<?, ?it/s]"
     ]
    },
    {
     "name": "stdout",
     "output_type": "stream",
     "text": [
      "cluster began\n",
      "cluster end\n"
     ]
    },
    {
     "name": "stderr",
     "output_type": "stream",
     "text": [
      "Computing transition probabilities: 100%|██████████| 11/11 [00:00<00:00, 4810.98it/s]\n",
      "Generating walks (CPU: 1):   0%|          | 0/3 [00:00<?, ?it/s]\n",
      "Generating walks (CPU: 2): 100%|██████████| 3/3 [00:00<00:00, 27.65it/s]"
     ]
    },
    {
     "name": "stdout",
     "output_type": "stream",
     "text": [
      "cluster began\n",
      "cluster end\n"
     ]
    },
    {
     "name": "stderr",
     "output_type": "stream",
     "text": [
      "Generating walks (CPU: 1): 100%|██████████| 3/3 [00:00<00:00, 24.49it/s]\n",
      "Computing transition probabilities:   0%|          | 0/18 [00:00<?, ?it/s]\n",
      "Computing transition probabilities: 100%|██████████| 18/18 [00:00<00:00, 1512.79it/s]\n",
      "Generating walks (CPU: 1):   0%|          | 0/3 [00:00<?, ?it/s]"
     ]
    },
    {
     "name": "stdout",
     "output_type": "stream",
     "text": [
      "[2.14814815e+00 3.76984127e-02 2.25100000e+03 6.24000000e+02\n",
      " 3.70000000e+01 6.00000000e+00 6.00000000e+00 1.00000000e+00\n",
      " 0.00000000e+00 0.00000000e+00 0.00000000e+00 0.00000000e+00\n",
      " 0.00000000e+00 0.00000000e+00 0.00000000e+00 0.00000000e+00\n",
      " 0.00000000e+00 0.00000000e+00]\n",
      "Unk percentage: 0.0\n"
     ]
    },
    {
     "name": "stderr",
     "output_type": "stream",
     "text": [
      "Generating walks (CPU: 2): 100%|██████████| 3/3 [00:00<00:00, 29.71it/s]\n",
      "Generating walks (CPU: 3): 100%|██████████| 2/2 [00:00<00:00, 17.19it/s]\n",
      "Generating walks (CPU: 3): 100%|██████████| 2/2 [00:00<00:00, 27.46it/s]\n",
      "Generating walks (CPU: 4):   0%|          | 0/2 [00:00<?, ?it/s]\n",
      "Generating walks (CPU: 4): 100%|██████████| 2/2 [00:00<00:00, 18.21it/s]\n",
      "Generating walks (CPU: 4): 100%|██████████| 2/2 [00:00<00:00, 24.98it/s]\n"
     ]
    },
    {
     "name": "stdout",
     "output_type": "stream",
     "text": [
      "[ 2.  0. 51. 58. 10.  0.  1.  0.  0.  0.  0.  0.  0.  0.  0.  0.  0.  0.]\n",
      "Unk percentage: 0.0\n",
      "[  2.   0. 212. 136.  14.   1.   1.   0.   0.   0.   0.   0.   0.   0.\n",
      "   0.   0.   0.   0.]"
     ]
    },
    {
     "name": "stderr",
     "output_type": "stream",
     "text": [
      "\r",
      "Generating walks (CPU: 2): 100%|██████████| 3/3 [00:00<00:00, 23.60it/s]"
     ]
    },
    {
     "name": "stdout",
     "output_type": "stream",
     "text": [
      "\n",
      "Unk percentage: 0.0\n"
     ]
    },
    {
     "name": "stderr",
     "output_type": "stream",
     "text": [
      "\n",
      "Generating walks (CPU: 3): 100%|██████████| 2/2 [00:00<00:00, 11.73it/s]\n",
      "Generating walks (CPU: 4): 100%|██████████| 2/2 [00:00<00:00, 11.57it/s]\n"
     ]
    },
    {
     "name": "stdout",
     "output_type": "stream",
     "text": [
      "cluster began\n",
      "cluster end\n"
     ]
    },
    {
     "name": "stderr",
     "output_type": "stream",
     "text": [
      "Computing transition probabilities: 100%|██████████| 21/21 [00:00<00:00, 4118.02it/s]\n",
      "Generating walks (CPU: 1):   0%|          | 0/3 [00:00<?, ?it/s]"
     ]
    },
    {
     "name": "stdout",
     "output_type": "stream",
     "text": [
      "[  2.23529412   0.         452.         181.          16.\n",
      "   1.           1.           0.           0.          20.\n",
      "   4.           4.           0.           0.           0.\n",
      "   1.           0.           0.        ]\n",
      "Unk percentage: 0.019230769230769232\n",
      "cluster began\n",
      "cluster end\n",
      "cluster began\n"
     ]
    },
    {
     "name": "stderr",
     "output_type": "stream",
     "text": [
      "\r",
      "Generating walks (CPU: 1): 100%|██████████| 3/3 [00:00<00:00, 17.83it/s]"
     ]
    },
    {
     "name": "stdout",
     "output_type": "stream",
     "text": [
      "cluster end\n"
     ]
    },
    {
     "name": "stderr",
     "output_type": "stream",
     "text": [
      "Computing transition probabilities: 100%|██████████| 24/24 [00:00<00:00, 2702.95it/s]\n",
      "Computing transition probabilities: 100%|██████████| 20/20 [00:00<00:00, 1260.44it/s]\n",
      "Generating walks (CPU: 1):   0%|          | 0/3 [00:00<?, ?it/s]\n",
      "Generating walks (CPU: 1): 100%|██████████| 3/3 [00:00<00:00, 16.47it/s]\n",
      "Generating walks (CPU: 1): 100%|██████████| 3/3 [00:00<00:00,  9.80it/s]\n",
      "Generating walks (CPU: 2):   0%|          | 0/3 [00:00<?, ?it/s]\n",
      "Generating walks (CPU: 3): 100%|██████████| 2/2 [00:00<00:00, 12.19it/s]\n",
      "Generating walks (CPU: 4): 100%|██████████| 2/2 [00:00<00:00, 19.80it/s]\n",
      "Generating walks (CPU: 3):   0%|          | 0/2 [00:00<?, ?it/s]"
     ]
    },
    {
     "name": "stdout",
     "output_type": "stream",
     "text": [
      "cluster began\n",
      "cluster end\n"
     ]
    },
    {
     "name": "stderr",
     "output_type": "stream",
     "text": [
      "\n",
      "Computing transition probabilities: 100%|██████████| 29/29 [00:00<00:00, 4283.22it/s]\n",
      "Generating walks (CPU: 1):   0%|          | 0/3 [00:00<?, ?it/s]\n",
      "Generating walks (CPU: 3): 100%|██████████| 2/2 [00:00<00:00, 12.94it/s]\n",
      "Generating walks (CPU: 3): 100%|██████████| 2/2 [00:00<00:00, 11.57it/s]\n",
      "Generating walks (CPU: 4):   0%|          | 0/2 [00:00<?, ?it/s]"
     ]
    },
    {
     "name": "stdout",
     "output_type": "stream",
     "text": [
      "[  1.9   0.  816.  306.   18.    0.    0.    0.    0.    0.    0.    0.\n",
      "   0.    0.    0.    0.    0.    0. ]\n",
      "Unk percentage: 0.0\n"
     ]
    },
    {
     "name": "stderr",
     "output_type": "stream",
     "text": [
      "Generating walks (CPU: 4): 100%|██████████| 2/2 [00:00<00:00, 15.49it/s]\n",
      "Generating walks (CPU: 4): 100%|██████████| 2/2 [00:00<00:00,  9.96it/s]\n"
     ]
    },
    {
     "name": "stdout",
     "output_type": "stream",
     "text": [
      "[  2.10526316   0.         681.         255.          16.\n",
      "   0.           0.           0.           0.          15.\n",
      "   1.           1.           0.           0.           0.\n",
      "   0.           0.           0.        ]"
     ]
    },
    {
     "name": "stderr",
     "output_type": "stream",
     "text": [
      "\n",
      "Generating walks (CPU: 2):   0%|          | 0/3 [00:00<?, ?it/s]"
     ]
    },
    {
     "name": "stdout",
     "output_type": "stream",
     "text": [
      "\n",
      "Unk percentage: 0.027777777777777776\n",
      "[   2.17391304    0.         1286.          445.           32.\n",
      "    4.            4.            0.            0.            0.\n",
      "    0.            0.            0.            0.            0.\n",
      "    0.            0.            0.        ]\n",
      "Unk percentage: 0.0\n"
     ]
    },
    {
     "name": "stderr",
     "output_type": "stream",
     "text": [
      "Generating walks (CPU: 2): 100%|██████████| 3/3 [00:00<00:00,  9.70it/s]\n",
      "Generating walks (CPU: 3):   0%|          | 0/2 [00:00<?, ?it/s]"
     ]
    },
    {
     "name": "stdout",
     "output_type": "stream",
     "text": [
      "cluster began\n",
      "cluster end\n"
     ]
    },
    {
     "name": "stderr",
     "output_type": "stream",
     "text": [
      "Computing transition probabilities: 100%|██████████| 24/24 [00:00<00:00, 3587.56it/s]\n",
      "Generating walks (CPU: 1):  67%|██████▋   | 2/3 [00:00<00:00, 17.89it/s]\n",
      "Generating walks (CPU: 4):   0%|          | 0/2 [00:00<?, ?it/s]"
     ]
    },
    {
     "name": "stdout",
     "output_type": "stream",
     "text": [
      "cluster began\n",
      "cluster end\n"
     ]
    },
    {
     "name": "stderr",
     "output_type": "stream",
     "text": [
      "Computing transition probabilities: 100%|██████████| 22/22 [00:00<00:00, 1750.08it/s]\n",
      "Generating walks (CPU: 1):   0%|          | 0/3 [00:00<?, ?it/s].75it/s]"
     ]
    },
    {
     "name": "stdout",
     "output_type": "stream",
     "text": [
      "cluster began\n",
      "cluster end\n"
     ]
    },
    {
     "name": "stderr",
     "output_type": "stream",
     "text": [
      "Computing transition probabilities: 100%|██████████| 14/14 [00:00<00:00, 4860.95it/s]\n",
      "\n",
      "Generating walks (CPU: 2):   0%|          | 0/3 [00:00<?, ?it/s]\n",
      "Generating walks (CPU: 2): 100%|██████████| 3/3 [00:00<00:00, 17.24it/s]"
     ]
    },
    {
     "name": "stdout",
     "output_type": "stream",
     "text": [
      "[2.0e+00 0.0e+00 2.6e+03 6.5e+02 2.6e+01 0.0e+00 0.0e+00 0.0e+00 0.0e+00\n",
      " 0.0e+00 0.0e+00 0.0e+00 0.0e+00 0.0e+00 0.0e+00 0.0e+00 0.0e+00 0.0e+00]"
     ]
    },
    {
     "name": "stderr",
     "output_type": "stream",
     "text": [
      "\n"
     ]
    },
    {
     "name": "stdout",
     "output_type": "stream",
     "text": [
      "\n"
     ]
    },
    {
     "name": "stderr",
     "output_type": "stream",
     "text": [
      "\r",
      "Generating walks (CPU: 2):   0%|          | 0/3 [00:00<?, ?it/s]"
     ]
    },
    {
     "name": "stdout",
     "output_type": "stream",
     "text": [
      "Unk percentage: 0.0\n"
     ]
    },
    {
     "name": "stderr",
     "output_type": "stream",
     "text": [
      "\n",
      "Generating walks (CPU: 2):   0%|          | 0/3 [00:00<?, ?it/s]\n",
      "Generating walks (CPU: 2): 100%|██████████| 3/3 [00:00<00:00, 29.12it/s]\n",
      "Generating walks (CPU: 3): 100%|██████████| 2/2 [00:00<00:00, 16.00it/s]\n",
      "Generating walks (CPU: 3): 100%|██████████| 2/2 [00:00<00:00, 19.54it/s]\n",
      "Generating walks (CPU: 4):   0%|          | 0/2 [00:00<?, ?it/s]\n",
      "Generating walks (CPU: 4): 100%|██████████| 2/2 [00:00<00:00, 24.58it/s]\n",
      "Generating walks (CPU: 3): 100%|██████████| 2/2 [00:00<00:00, 10.46it/s]\n",
      "Generating walks (CPU: 4):   0%|          | 0/2 [00:00<?, ?it/s]"
     ]
    },
    {
     "name": "stdout",
     "output_type": "stream",
     "text": [
      "[  1.69230769   0.         175.         101.          10.\n",
      "   0.           0.           0.           0.           0.\n",
      "   0.           0.           0.           0.           0.\n",
      "   0.           0.           0.        ]\n",
      "Unk percentage: 0.0\n"
     ]
    },
    {
     "name": "stderr",
     "output_type": "stream",
     "text": [
      "Generating walks (CPU: 4): 100%|██████████| 2/2 [00:00<00:00, 11.00it/s]\n",
      "Generating walks (CPU: 4): 100%|██████████| 2/2 [00:00<00:00, 18.46it/s]"
     ]
    },
    {
     "name": "stdout",
     "output_type": "stream",
     "text": [
      "[2.43478261e+00 9.42028986e-03 1.23700000e+03 4.81000000e+02\n",
      " 4.00000000e+01 5.00000000e+00 7.00000000e+00 0.00000000e+00\n",
      " 1.00000000e+00 0.00000000e+00 0.00000000e+00 0.00000000e+00\n",
      " 0.00000000e+00 0.00000000e+00 0.00000000e+00 0.00000000e+00\n",
      " 0.00000000e+00 0.00000000e+00]\n",
      "Unk percentage: 0.0\n"
     ]
    },
    {
     "name": "stderr",
     "output_type": "stream",
     "text": [
      "\n"
     ]
    },
    {
     "name": "stdout",
     "output_type": "stream",
     "text": [
      "cluster began\n",
      "cluster end\n"
     ]
    },
    {
     "name": "stderr",
     "output_type": "stream",
     "text": [
      "Computing transition probabilities: 100%|██████████| 22/22 [00:00<00:00, 4506.04it/s]\n",
      "Generating walks (CPU: 1):   0%|          | 0/3 [00:00<?, ?it/s]"
     ]
    },
    {
     "name": "stdout",
     "output_type": "stream",
     "text": [
      "[  2.   0. 955. 351.  22.   1.   1.   0.   0.   0.   0.   0.   0.   0.\n",
      "   0.   0.   0.   0.]\n",
      "Unk percentage: 0.0\n"
     ]
    },
    {
     "name": "stderr",
     "output_type": "stream",
     "text": [
      "Generating walks (CPU: 1): 100%|██████████| 3/3 [00:00<00:00, 18.13it/s]\n",
      "Generating walks (CPU: 2): 100%|██████████| 3/3 [00:00<00:00, 14.67it/s]"
     ]
    },
    {
     "name": "stdout",
     "output_type": "stream",
     "text": [
      "cluster began\n"
     ]
    },
    {
     "name": "stderr",
     "output_type": "stream",
     "text": [
      "\n"
     ]
    },
    {
     "name": "stdout",
     "output_type": "stream",
     "text": [
      "cluster end\n",
      "cluster began\n",
      "cluster end\n"
     ]
    },
    {
     "name": "stderr",
     "output_type": "stream",
     "text": [
      "Computing transition probabilities: 100%|██████████| 17/17 [00:00<00:00, 810.49it/s]\n",
      "Computing transition probabilities: 100%|██████████| 21/21 [00:00<00:00, 3264.53it/s]\n",
      "Generating walks (CPU: 3): 100%|██████████| 2/2 [00:00<00:00, 10.25it/s]\n",
      "Generating walks (CPU: 1): 100%|██████████| 3/3 [00:00<00:00, 17.72it/s]\n",
      "Generating walks (CPU: 2):   0%|          | 0/3 [00:00<?, ?it/s]\n",
      "Generating walks (CPU: 2):   0%|          | 0/3 [00:00<?, ?it/s]"
     ]
    },
    {
     "name": "stdout",
     "output_type": "stream",
     "text": [
      "cluster began\n",
      "cluster end\n"
     ]
    },
    {
     "name": "stderr",
     "output_type": "stream",
     "text": [
      "Computing transition probabilities: 100%|██████████| 16/16 [00:00<00:00, 4557.17it/s]\n",
      "Generating walks (CPU: 4): 100%|██████████| 2/2 [00:00<00:00, 11.79it/s]\n",
      "Generating walks (CPU: 2): 100%|██████████| 3/3 [00:00<00:00, 20.24it/s]\n",
      "Generating walks (CPU: 1): 100%|██████████| 3/3 [00:00<00:00, 24.64it/s]\n",
      "Generating walks (CPU: 3):   0%|          | 0/2 [00:00<?, ?it/s]"
     ]
    },
    {
     "name": "stdout",
     "output_type": "stream",
     "text": [
      "[  2.0952381   0.        956.        332.         21.          1.\n",
      "   1.          0.          0.         17.          1.          1.\n",
      "   0.          0.          0.          0.          0.          0.       ]\n",
      "Unk percentage: 0.0\n"
     ]
    },
    {
     "name": "stderr",
     "output_type": "stream",
     "text": [
      "\n",
      "Generating walks (CPU: 3): 100%|██████████| 2/2 [00:00<00:00, 11.81it/s]\n",
      "Generating walks (CPU: 4):   0%|          | 0/2 [00:00<?, ?it/s]\n",
      "Generating walks (CPU: 4):   0%|          | 0/2 [00:00<?, ?it/s]\n",
      "Generating walks (CPU: 4): 100%|██████████| 2/2 [00:00<00:00, 13.07it/s]\n",
      "Generating walks (CPU: 4): 100%|██████████| 2/2 [00:00<00:00, 14.85it/s]\n",
      "Generating walks (CPU: 3): 100%|██████████| 2/2 [00:00<00:00, 11.70it/s]\n",
      "Generating walks (CPU: 4):   0%|          | 0/2 [00:00<?, ?it/s]"
     ]
    },
    {
     "name": "stdout",
     "output_type": "stream",
     "text": [
      "[  2.2   0.  777.  330.   27.    3.    3.    0.    0.    0.    0.    0.\n",
      "   0.    0.    0.    0.    0.    0. ]\n",
      "Unk percentage: 0.0\n",
      "[  2.   0. 365. 168.  13.   0.   0.   0.   0.  12.   1.   1.   0.   0.\n",
      "   0.   0.   0.   0.]\n"
     ]
    },
    {
     "name": "stderr",
     "output_type": "stream",
     "text": [
      "Generating walks (CPU: 4): 100%|██████████| 2/2 [00:00<00:00, 15.35it/s]\n"
     ]
    },
    {
     "name": "stdout",
     "output_type": "stream",
     "text": [
      "Unk percentage: 0.0\n",
      "[2.53333333e+00 6.88888889e-02 2.58000000e+02 1.54000000e+02\n",
      " 2.10000000e+01 4.00000000e+00 4.00000000e+00 1.00000000e+00\n",
      " 0.00000000e+00 7.00000000e+00 3.00000000e+00 3.00000000e+00\n",
      " 0.00000000e+00 0.00000000e+00 0.00000000e+00 0.00000000e+00\n",
      " 0.00000000e+00 0.00000000e+00]\n",
      "Unk percentage: 0.0\n",
      "cluster began\n",
      "cluster end\n"
     ]
    },
    {
     "name": "stderr",
     "output_type": "stream",
     "text": [
      "Computing transition probabilities: 100%|██████████| 13/13 [00:00<00:00, 4656.36it/s]\n",
      "Generating walks (CPU: 1): 100%|██████████| 3/3 [00:00<00:00, 25.75it/s]\n",
      "Generating walks (CPU: 2): 100%|██████████| 3/3 [00:00<00:00, 26.37it/s]\n",
      "Generating walks (CPU: 3): 100%|██████████| 2/2 [00:00<00:00, 17.74it/s]\n"
     ]
    },
    {
     "name": "stdout",
     "output_type": "stream",
     "text": [
      "cluster began\n"
     ]
    },
    {
     "name": "stderr",
     "output_type": "stream",
     "text": [
      "\r",
      "Generating walks (CPU: 4):   0%|          | 0/2 [00:00<?, ?it/s]"
     ]
    },
    {
     "name": "stdout",
     "output_type": "stream",
     "text": [
      "cluster end\n"
     ]
    },
    {
     "name": "stderr",
     "output_type": "stream",
     "text": [
      "Computing transition probabilities: 100%|██████████| 37/37 [00:00<00:00, 2323.78it/s]\n",
      "Generating walks (CPU: 4): 100%|██████████| 2/2 [00:00<00:00, 16.94it/s]\n",
      "Generating walks (CPU: 1):  67%|██████▋   | 2/3 [00:00<00:00, 16.06it/s]"
     ]
    },
    {
     "name": "stdout",
     "output_type": "stream",
     "text": [
      "cluster began\n",
      "cluster end\n"
     ]
    },
    {
     "name": "stderr",
     "output_type": "stream",
     "text": [
      "Computing transition probabilities: 100%|██████████| 25/25 [00:00<00:00, 2142.27it/s]\n",
      "Generating walks (CPU: 1):   0%|          | 0/3 [00:00<?, ?it/s]"
     ]
    },
    {
     "name": "stdout",
     "output_type": "stream",
     "text": [
      "[  2.16666667   0.         114.          82.          18.\n",
      "   3.           3.           0.           0.           0.\n",
      "   0.           0.           0.           0.           0.\n",
      "   0.           0.           0.        ]\n",
      "cluster began\n",
      "Unk percentage: 0.0\n",
      "cluster end\n"
     ]
    },
    {
     "name": "stderr",
     "output_type": "stream",
     "text": [
      "Computing transition probabilities: 100%|██████████| 31/31 [00:00<00:00, 1932.60it/s]\n",
      "Generating walks (CPU: 1): 100%|██████████| 3/3 [00:00<00:00, 13.49it/s]\n",
      "Generating walks (CPU: 1):  67%|██████▋   | 2/3 [00:00<00:00, 12.24it/s]\n",
      "Generating walks (CPU: 2): 100%|██████████| 3/3 [00:00<00:00, 11.50it/s]\n",
      "Generating walks (CPU: 2): 100%|██████████| 3/3 [00:00<00:00, 10.98it/s]\n",
      "Generating walks (CPU: 2):  67%|██████▋   | 2/3 [00:00<00:00, 13.95it/s]\n",
      "Generating walks (CPU: 3): 100%|██████████| 2/2 [00:00<00:00, 15.63it/s]\n"
     ]
    },
    {
     "name": "stdout",
     "output_type": "stream",
     "text": [
      "cluster began\n"
     ]
    },
    {
     "name": "stderr",
     "output_type": "stream",
     "text": [
      "\r",
      "Generating walks (CPU: 4):   0%|          | 0/2 [00:00<?, ?it/s]"
     ]
    },
    {
     "name": "stdout",
     "output_type": "stream",
     "text": [
      "cluster end\n"
     ]
    },
    {
     "name": "stderr",
     "output_type": "stream",
     "text": [
      "Computing transition probabilities: 100%|██████████| 27/27 [00:00<00:00, 3462.02it/s]\n",
      "\n",
      "Generating walks (CPU: 1):   0%|          | 0/3 [00:00<?, ?it/s]\n",
      "Generating walks (CPU: 4): 100%|██████████| 2/2 [00:00<00:00, 10.29it/s]\n",
      "Generating walks (CPU: 1): 100%|██████████| 3/3 [00:00<00:00, 16.04it/s]\n",
      "\n",
      "Generating walks (CPU: 4):   0%|          | 0/2 [00:00<?, ?it/s]\n",
      "Generating walks (CPU: 4): 100%|██████████| 2/2 [00:00<00:00, 16.01it/s]"
     ]
    },
    {
     "name": "stdout",
     "output_type": "stream",
     "text": [
      "[   2.33333333    0.         1479.          480.           33.\n",
      "    5.            5.            0.            0.           16.\n",
      "    3.            3.            0.            0.            0.\n",
      "    0.            0.            0.        ]\n",
      "Unk percentage: 0.0\n"
     ]
    },
    {
     "name": "stderr",
     "output_type": "stream",
     "text": [
      "\r",
      "Generating walks (CPU: 2):  67%|██████▋   | 2/3 [00:00<00:00, 18.15it/s]"
     ]
    },
    {
     "name": "stdout",
     "output_type": "stream",
     "text": [
      "[2.05555556e+00 1.85185185e-02 5.92900000e+03 1.16500000e+03\n",
      " 4.10000000e+01 2.00000000e+00 2.00000000e+00 0.00000000e+00\n",
      " 1.00000000e+00 0.00000000e+00 0.00000000e+00 0.00000000e+00\n",
      " 0.00000000e+00 0.00000000e+00 0.00000000e+00 0.00000000e+00\n",
      " 0.00000000e+00 0.00000000e+00]\n",
      "Unk percentage: 0.016129032258064516\n"
     ]
    },
    {
     "name": "stderr",
     "output_type": "stream",
     "text": [
      "Generating walks (CPU: 2): 100%|██████████| 3/3 [00:00<00:00, 14.51it/s]\n",
      "\n",
      "Generating walks (CPU: 3):   0%|          | 0/2 [00:00<?, ?it/s]"
     ]
    },
    {
     "name": "stdout",
     "output_type": "stream",
     "text": [
      "[2.06666667e+00 0.00000000e+00 3.25400000e+03 7.46000000e+02\n",
      " 3.00000000e+01 1.00000000e+00 1.00000000e+00 0.00000000e+00\n",
      " 0.00000000e+00 2.60000000e+01 1.00000000e+00 1.00000000e+00\n",
      " 0.00000000e+00 0.00000000e+00 0.00000000e+00 0.00000000e+00\n",
      " 0.00000000e+00 0.00000000e+00]\n",
      "Unk percentage: 0.046511627906976744\n"
     ]
    },
    {
     "name": "stderr",
     "output_type": "stream",
     "text": [
      "Generating walks (CPU: 3): 100%|██████████| 2/2 [00:00<00:00, 15.64it/s]\n",
      "Generating walks (CPU: 4): 100%|██████████| 2/2 [00:00<00:00, 15.92it/s]\n"
     ]
    },
    {
     "name": "stdout",
     "output_type": "stream",
     "text": [
      "[2.46153846e+00 0.00000000e+00 1.94000000e+03 5.62000000e+02\n",
      " 3.90000000e+01 6.00000000e+00 6.00000000e+00 0.00000000e+00\n",
      " 0.00000000e+00 3.80000000e+01 4.00000000e+00 4.00000000e+00\n",
      " 0.00000000e+00 0.00000000e+00 0.00000000e+00 1.00000000e+00\n",
      " 0.00000000e+00 0.00000000e+00]\n",
      "cluster began\n",
      "Unk percentage: 0.0\n",
      "cluster end\n"
     ]
    },
    {
     "name": "stderr",
     "output_type": "stream",
     "text": [
      "Computing transition probabilities: 100%|██████████| 31/31 [00:00<00:00, 2363.68it/s]\n",
      "Generating walks (CPU: 1): 100%|██████████| 3/3 [00:00<00:00, 13.78it/s]"
     ]
    },
    {
     "name": "stdout",
     "output_type": "stream",
     "text": [
      "cluster began\n",
      "cluster end\n"
     ]
    },
    {
     "name": "stderr",
     "output_type": "stream",
     "text": [
      "Computing transition probabilities: 100%|██████████| 32/32 [00:00<00:00, 2564.64it/s]\n",
      "Generating walks (CPU: 1):   0%|          | 0/3 [00:00<?, ?it/s]"
     ]
    },
    {
     "name": "stdout",
     "output_type": "stream",
     "text": [
      "cluster began\n"
     ]
    },
    {
     "name": "stderr",
     "output_type": "stream",
     "text": [
      "\n"
     ]
    },
    {
     "name": "stdout",
     "output_type": "stream",
     "text": [
      "cluster end\n"
     ]
    },
    {
     "name": "stderr",
     "output_type": "stream",
     "text": [
      "Computing transition probabilities: 100%|██████████| 24/24 [00:00<00:00, 3468.16it/s]\n",
      "Generating walks (CPU: 1): 100%|██████████| 3/3 [00:00<00:00, 12.68it/s]\n",
      "Generating walks (CPU: 2):   0%|          | 0/3 [00:00<?, ?it/s]\n",
      "Generating walks (CPU: 3):   0%|          | 0/2 [00:00<?, ?it/s]\n",
      "Generating walks (CPU: 2):  67%|██████▋   | 2/3 [00:00<00:00, 16.74it/s]"
     ]
    },
    {
     "name": "stdout",
     "output_type": "stream",
     "text": [
      "cluster began\n",
      "cluster end\n"
     ]
    },
    {
     "name": "stderr",
     "output_type": "stream",
     "text": [
      "Computing transition probabilities: 100%|██████████| 19/19 [00:00<00:00, 4216.72it/s]\n",
      "Generating walks (CPU: 1): 100%|██████████| 3/3 [00:00<00:00, 24.38it/s]\n",
      "Generating walks (CPU: 3):   0%|          | 0/2 [00:00<?, ?it/s]\n",
      "\n",
      "Generating walks (CPU: 3):   0%|          | 0/2 [00:00<?, ?it/s]\n",
      "Generating walks (CPU: 4): 100%|██████████| 2/2 [00:00<00:00, 14.39it/s]\n",
      "Generating walks (CPU: 4):   0%|          | 0/2 [00:00<?, ?it/s]\n",
      "Generating walks (CPU: 3):   0%|          | 0/2 [00:00<?, ?it/s]\n",
      "Generating walks (CPU: 4):   0%|          | 0/2 [00:00<?, ?it/s]\n",
      "Generating walks (CPU: 3): 100%|██████████| 2/2 [00:00<00:00, 18.64it/s]\n",
      "Generating walks (CPU: 4): 100%|██████████| 2/2 [00:00<00:00, 10.57it/s]\n",
      "\n",
      "Generating walks (CPU: 4): 100%|██████████| 2/2 [00:00<00:00, 14.00it/s]\n"
     ]
    },
    {
     "name": "stdout",
     "output_type": "stream",
     "text": [
      "[2.06666667e+00 0.00000000e+00 3.23400000e+03 7.84000000e+02\n",
      " 3.60000000e+01 3.00000000e+00 3.00000000e+00 0.00000000e+00\n",
      " 0.00000000e+00 0.00000000e+00 0.00000000e+00 0.00000000e+00\n",
      " 0.00000000e+00 0.00000000e+00 0.00000000e+00 0.00000000e+00\n",
      " 0.00000000e+00 0.00000000e+00]\n",
      "Unk percentage: 0.0\n",
      "[2.26086957e+00 4.49275362e-02 1.26900000e+03 4.59000000e+02\n",
      " 3.20000000e+01 5.00000000e+00 5.00000000e+00 1.00000000e+00\n",
      " 0.00000000e+00 0.00000000e+00 0.00000000e+00 0.00000000e+00\n",
      " 0.00000000e+00 0.00000000e+00 0.00000000e+00 0.00000000e+00\n",
      " 0.00000000e+00 0.00000000e+00]\n",
      "[  2.33333333   0.         543.         222.          18.\n",
      "   1.           1.           0.           0.          20.\n",
      "   5.           5.           0.           0.           0.\n",
      "   1.           0.           0.        ]Unk percentage: 0.0\n",
      "\n",
      "Unk percentage: 0.0\n",
      "[2.19354839e+00 0.00000000e+00 3.58200000e+03 8.40000000e+02\n",
      " 5.30000000e+01 1.00000000e+01 1.00000000e+01 0.00000000e+00\n",
      " 0.00000000e+00 0.00000000e+00 0.00000000e+00 0.00000000e+00\n",
      " 0.00000000e+00 0.00000000e+00 0.00000000e+00 0.00000000e+00\n",
      " 0.00000000e+00 0.00000000e+00]\n",
      "Unk percentage: 0.0\n",
      "cluster began\n",
      "cluster end\n",
      "cluster began\n",
      "cluster end\n"
     ]
    },
    {
     "name": "stderr",
     "output_type": "stream",
     "text": [
      "Computing transition probabilities: 100%|██████████| 26/26 [00:00<00:00, 1054.04it/s]\n",
      "Computing transition probabilities: 100%|██████████| 31/31 [00:00<00:00, 2561.13it/s]\n",
      "Generating walks (CPU: 1):   0%|          | 0/3 [00:00<?, ?it/s]"
     ]
    },
    {
     "name": "stdout",
     "output_type": "stream",
     "text": [
      "cluster began\n",
      "cluster end\n"
     ]
    },
    {
     "name": "stderr",
     "output_type": "stream",
     "text": [
      "Computing transition probabilities: 100%|██████████| 15/15 [00:00<00:00, 6295.86it/s]\n",
      "Generating walks (CPU: 1):   0%|          | 0/3 [00:00<?, ?it/s]"
     ]
    },
    {
     "name": "stdout",
     "output_type": "stream",
     "text": [
      "cluster began\n",
      "cluster end\n"
     ]
    },
    {
     "name": "stderr",
     "output_type": "stream",
     "text": [
      "Computing transition probabilities: 100%|██████████| 14/14 [00:00<00:00, 5473.04it/s]\n",
      "Generating walks (CPU: 1): 100%|██████████| 3/3 [00:00<00:00, 12.10it/s]\n",
      "Generating walks (CPU: 1): 100%|██████████| 3/3 [00:00<00:00, 22.32it/s]\n",
      "Generating walks (CPU: 2):   0%|          | 0/3 [00:00<?, ?it/s]\n",
      "Generating walks (CPU: 2): 100%|██████████| 3/3 [00:00<00:00, 29.15it/s]\n",
      "Generating walks (CPU: 2):   0%|          | 0/3 [00:00<?, ?it/s]\n",
      "Generating walks (CPU: 2):  67%|██████▋   | 2/3 [00:00<00:00, 15.23it/s]\n",
      "Generating walks (CPU: 3): 100%|██████████| 2/2 [00:00<00:00, 17.04it/s]\n",
      "Generating walks (CPU: 3): 100%|██████████| 2/2 [00:00<00:00, 20.53it/s]\n",
      "Generating walks (CPU: 4): 100%|██████████| 2/2 [00:00<00:00, 21.29it/s]\n",
      "Generating walks (CPU: 2): 100%|██████████| 3/3 [00:00<00:00,  9.31it/s]\n",
      "Generating walks (CPU: 3):   0%|          | 0/2 [00:00<?, ?it/s]\n",
      "Generating walks (CPU: 4): 100%|██████████| 2/2 [00:00<00:00, 15.57it/s]\n"
     ]
    },
    {
     "name": "stdout",
     "output_type": "stream",
     "text": [
      "[  2.   0. 221. 120.  11.   0.   0.   0.   0.  10.   1.   1.   0.   0.\n",
      "   0.   0.   0.   0.]\n",
      "Unk percentage: 0.0\n"
     ]
    },
    {
     "name": "stderr",
     "output_type": "stream",
     "text": [
      "Generating walks (CPU: 3): 100%|██████████| 2/2 [00:00<00:00, 10.62it/s]\n",
      "Generating walks (CPU: 3): 100%|██████████| 2/2 [00:00<00:00, 13.93it/s]"
     ]
    },
    {
     "name": "stdout",
     "output_type": "stream",
     "text": [
      "[2.15384615e+00 5.76923077e-02 1.51000000e+02 1.17000000e+02\n",
      " 1.50000000e+01 1.00000000e+00 1.00000000e+00 0.00000000e+00\n",
      " 1.00000000e+00 0.00000000e+00 0.00000000e+00 0.00000000e+00\n",
      " 0.00000000e+00 0.00000000e+00 0.00000000e+00 0.00000000e+00\n",
      " 0.00000000e+00 0.00000000e+00]\n",
      "Unk percentage: 0.0\n"
     ]
    },
    {
     "name": "stderr",
     "output_type": "stream",
     "text": [
      "\n",
      "Generating walks (CPU: 4): 100%|██████████| 2/2 [00:00<00:00,  8.63it/s]\n",
      "Generating walks (CPU: 4): 100%|██████████| 2/2 [00:00<00:00, 15.38it/s]"
     ]
    },
    {
     "name": "stdout",
     "output_type": "stream",
     "text": [
      "[   2.16    0.   1721.    537.     34.      4.      4.      0.      0.\n",
      "    0.      0.      0.      0.      0.      0.      0.      0.      0.  ]\n"
     ]
    },
    {
     "name": "stderr",
     "output_type": "stream",
     "text": [
      "\n"
     ]
    },
    {
     "name": "stdout",
     "output_type": "stream",
     "text": [
      "Unk percentage: 0.0\n",
      "[2.53333333e+00 1.35209235e-01 3.13400000e+03 8.03000000e+02\n",
      " 6.00000000e+01 1.50000000e+01 1.70000000e+01 2.00000000e+00\n",
      " 1.00000000e+00 1.70000000e+01 5.00000000e+00 5.00000000e+00\n",
      " 1.00000000e+00 0.00000000e+00 0.00000000e+00 0.00000000e+00\n",
      " 0.00000000e+00 0.00000000e+00]\n",
      "Unk percentage: 0.0\n",
      "cluster began\n",
      "cluster end\n"
     ]
    },
    {
     "name": "stderr",
     "output_type": "stream",
     "text": [
      "Computing transition probabilities: 100%|██████████| 16/16 [00:00<00:00, 4143.29it/s]\n",
      "Generating walks (CPU: 1):   0%|          | 0/3 [00:00<?, ?it/s]"
     ]
    },
    {
     "name": "stdout",
     "output_type": "stream",
     "text": [
      "cluster began\n",
      "cluster end\n"
     ]
    },
    {
     "name": "stderr",
     "output_type": "stream",
     "text": [
      "Computing transition probabilities: 100%|██████████| 19/19 [00:00<00:00, 4763.98it/s]\n",
      "Generating walks (CPU: 1): 100%|██████████| 3/3 [00:00<00:00, 19.32it/s]\n",
      "Generating walks (CPU: 2): 100%|██████████| 3/3 [00:00<00:00, 29.02it/s]\n",
      "Generating walks (CPU: 3):   0%|          | 0/2 [00:00<?, ?it/s]\n",
      "Generating walks (CPU: 2):   0%|          | 0/3 [00:00<?, ?it/s]"
     ]
    },
    {
     "name": "stdout",
     "output_type": "stream",
     "text": [
      "cluster began\n",
      "cluster end\n"
     ]
    },
    {
     "name": "stderr",
     "output_type": "stream",
     "text": [
      "Computing transition probabilities: 100%|██████████| 30/30 [00:00<00:00, 1604.59it/s]\n",
      "Generating walks (CPU: 3): 100%|██████████| 2/2 [00:00<00:00, 16.90it/s]\n",
      "Generating walks (CPU: 2):  67%|██████▋   | 2/3 [00:00<00:00, 17.35it/s]"
     ]
    },
    {
     "name": "stdout",
     "output_type": "stream",
     "text": [
      "cluster began\n",
      "cluster end\n"
     ]
    },
    {
     "name": "stderr",
     "output_type": "stream",
     "text": [
      "Computing transition probabilities: 100%|██████████| 28/28 [00:00<00:00, 2528.21it/s]\n",
      "Generating walks (CPU: 4): 100%|██████████| 2/2 [00:00<00:00, 13.27it/s]\n",
      "Generating walks (CPU: 2): 100%|██████████| 3/3 [00:00<00:00, 11.20it/s]\n",
      "Generating walks (CPU: 1):  67%|██████▋   | 2/3 [00:00<00:00, 13.66it/s]"
     ]
    },
    {
     "name": "stdout",
     "output_type": "stream",
     "text": [
      "[  2.   0. 276. 163.  15.   0.   1.   0.   0.   0.   0.   0.   0.   0.\n",
      "   0.   0.   0.   0.]\n",
      "Unk percentage: 0.020833333333333332\n"
     ]
    },
    {
     "name": "stderr",
     "output_type": "stream",
     "text": [
      "Generating walks (CPU: 3): 100%|██████████| 2/2 [00:00<00:00, 14.79it/s]\n",
      "Generating walks (CPU: 4):   0%|          | 0/2 [00:00<?, ?it/s]\n",
      "Generating walks (CPU: 2):   0%|          | 0/3 [00:00<?, ?it/s].01it/s]\n",
      "Generating walks (CPU: 4): 100%|██████████| 2/2 [00:00<00:00, 14.36it/s]\n",
      "Generating walks (CPU: 2):  67%|██████▋   | 2/3 [00:00<00:00, 19.57it/s]"
     ]
    },
    {
     "name": "stdout",
     "output_type": "stream",
     "text": [
      "[  2.11111111   0.         536.         256.          21.\n",
      "   2.           1.           0.           0.           0.\n",
      "   0.           0.           0.           0.           0.\n",
      "   0.           0.           0.        ]\n",
      "Unk percentage: 0.0\n"
     ]
    },
    {
     "name": "stderr",
     "output_type": "stream",
     "text": [
      "Generating walks (CPU: 2): 100%|██████████| 3/3 [00:00<00:00, 15.08it/s]\n",
      "Generating walks (CPU: 3):   0%|          | 0/2 [00:00<?, ?it/s]\n",
      "Generating walks (CPU: 3): 100%|██████████| 2/2 [00:00<00:00, 10.91it/s]\n",
      "Generating walks (CPU: 4):   0%|          | 0/2 [00:00<?, ?it/s]\n",
      "Generating walks (CPU: 4): 100%|██████████| 2/2 [00:00<00:00, 10.16it/s]\n",
      "Generating walks (CPU: 4): 100%|██████████| 2/2 [00:00<00:00, 17.51it/s]"
     ]
    },
    {
     "name": "stdout",
     "output_type": "stream",
     "text": [
      "[   2.2962963    0.        2220.         660.          37.\n",
      "    4.           4.           0.           0.           0.\n",
      "    0.           0.           0.           0.           0.\n",
      "    0.           0.           0.       ]\n",
      "Unk percentage: 0.0\n"
     ]
    },
    {
     "name": "stderr",
     "output_type": "stream",
     "text": [
      "\n"
     ]
    },
    {
     "name": "stdout",
     "output_type": "stream",
     "text": [
      "cluster began\n",
      "cluster end\n"
     ]
    },
    {
     "name": "stderr",
     "output_type": "stream",
     "text": [
      "Computing transition probabilities: 100%|██████████| 22/22 [00:00<00:00, 4047.67it/s]\n",
      "Generating walks (CPU: 1):   0%|          | 0/3 [00:00<?, ?it/s]"
     ]
    },
    {
     "name": "stdout",
     "output_type": "stream",
     "text": [
      "[2.48275862e+00 1.30257673e-01 2.80400000e+03 7.33000000e+02\n",
      " 6.60000000e+01 2.30000000e+01 2.30000000e+01 5.00000000e+00\n",
      " 0.00000000e+00 0.00000000e+00 0.00000000e+00 0.00000000e+00\n",
      " 0.00000000e+00 0.00000000e+00 0.00000000e+00 0.00000000e+00\n",
      " 0.00000000e+00 0.00000000e+00]\n",
      "Unk percentage: 0.0\n"
     ]
    },
    {
     "name": "stderr",
     "output_type": "stream",
     "text": [
      "\r",
      "Generating walks (CPU: 1):  67%|██████▋   | 2/3 [00:00<00:00, 19.29it/s]"
     ]
    },
    {
     "name": "stdout",
     "output_type": "stream",
     "text": [
      "cluster began\n",
      "cluster end\n"
     ]
    },
    {
     "name": "stderr",
     "output_type": "stream",
     "text": [
      "Computing transition probabilities: 100%|██████████| 22/22 [00:00<00:00, 4950.36it/s]\n",
      "Generating walks (CPU: 1):   0%|          | 0/3 [00:00<?, ?it/s].56it/s]\n",
      "Generating walks (CPU: 2): 100%|██████████| 3/3 [00:00<00:00, 13.69it/s]\n",
      "Generating walks (CPU: 2):   0%|          | 0/3 [00:00<?, ?it/s]\n",
      "Generating walks (CPU: 2): 100%|██████████| 3/3 [00:00<00:00, 22.69it/s]\n",
      "Generating walks (CPU: 3): 100%|██████████| 2/2 [00:00<00:00, 10.09it/s]\n",
      "Generating walks (CPU: 3): 100%|██████████| 2/2 [00:00<00:00, 18.78it/s]"
     ]
    },
    {
     "name": "stdout",
     "output_type": "stream",
     "text": [
      "cluster began\n",
      "cluster end\n"
     ]
    },
    {
     "name": "stderr",
     "output_type": "stream",
     "text": [
      "Computing transition probabilities: 100%|██████████| 20/20 [00:00<00:00, 5125.63it/s]\n",
      "Generating walks (CPU: 1):   0%|          | 0/3 [00:00<?, ?it/s]\n",
      "Generating walks (CPU: 4): 100%|██████████| 2/2 [00:00<00:00,  9.03it/s]\n",
      "Generating walks (CPU: 4): 100%|██████████| 2/2 [00:00<00:00, 19.05it/s]"
     ]
    },
    {
     "name": "stdout",
     "output_type": "stream",
     "text": [
      "cluster began\n",
      "cluster end\n"
     ]
    },
    {
     "name": "stderr",
     "output_type": "stream",
     "text": [
      "Computing transition probabilities: 100%|██████████| 32/32 [00:00<00:00, 1682.37it/s]\n"
     ]
    },
    {
     "name": "stdout",
     "output_type": "stream",
     "text": [
      "[  1.9047619   0.        969.        342.         19.          0.\n",
      "   0.          0.          0.          0.          0.          0.\n",
      "   0.          0.          0.          0.          0.          0.       ]\n",
      "Unk percentage: 0.0\n"
     ]
    },
    {
     "name": "stderr",
     "output_type": "stream",
     "text": [
      "Generating walks (CPU: 1):   0%|          | 0/3 [00:00<?, ?it/s]\n",
      "\n",
      "Generating walks (CPU: 2): 100%|██████████| 3/3 [00:00<00:00, 20.62it/s]"
     ]
    },
    {
     "name": "stdout",
     "output_type": "stream",
     "text": [
      "[  2.   0. 955. 351.  22.   1.   1.   0.   0.   0.   0.   0.   0.   0.\n",
      "   0.   0.   0.   0.]\n",
      "Unk percentage: 0.0\n"
     ]
    },
    {
     "name": "stderr",
     "output_type": "stream",
     "text": [
      "\n",
      "Generating walks (CPU: 1): 100%|██████████| 3/3 [00:00<00:00, 12.67it/s]\n",
      "Generating walks (CPU: 3): 100%|██████████| 2/2 [00:00<00:00, 10.81it/s]\n",
      "Generating walks (CPU: 4): 100%|██████████| 2/2 [00:00<00:00, 11.32it/s]\n",
      "Generating walks (CPU: 2): 100%|██████████| 3/3 [00:00<00:00, 10.79it/s]"
     ]
    },
    {
     "name": "stdout",
     "output_type": "stream",
     "text": [
      "[  2.   0. 681. 255.  16.   0.   0.   0.   0.  15.   1.   1.   0.   0.\n",
      "   0.   0.   0.   0.]\n",
      "Unk percentage: 0.0\n"
     ]
    },
    {
     "name": "stderr",
     "output_type": "stream",
     "text": [
      "\n",
      "Generating walks (CPU: 3): 100%|██████████| 2/2 [00:00<00:00, 14.11it/s]"
     ]
    },
    {
     "name": "stdout",
     "output_type": "stream",
     "text": [
      "cluster began\n",
      "cluster end\n"
     ]
    },
    {
     "name": "stderr",
     "output_type": "stream",
     "text": [
      "\n",
      "Computing transition probabilities: 100%|██████████| 18/18 [00:00<00:00, 1155.79it/s]\n",
      "Generating walks (CPU: 1): 100%|██████████| 3/3 [00:00<00:00, 18.67it/s]"
     ]
    },
    {
     "name": "stdout",
     "output_type": "stream",
     "text": [
      "cluster began\n"
     ]
    },
    {
     "name": "stderr",
     "output_type": "stream",
     "text": [
      "\n"
     ]
    },
    {
     "name": "stdout",
     "output_type": "stream",
     "text": [
      "cluster end\n"
     ]
    },
    {
     "name": "stderr",
     "output_type": "stream",
     "text": [
      "Computing transition probabilities:   0%|          | 0/31 [00:00<?, ?it/s]\n",
      "Computing transition probabilities: 100%|██████████| 31/31 [00:00<00:00, 5581.84it/s]\n",
      "Generating walks (CPU: 1): 100%|██████████| 3/3 [00:00<00:00, 13.92it/s]"
     ]
    },
    {
     "name": "stdout",
     "output_type": "stream",
     "text": [
      "[2.12903226e+00 0.00000000e+00 3.58300000e+03 8.67000000e+02\n",
      " 3.80000000e+01 3.00000000e+00 4.00000000e+00 0.00000000e+00\n",
      " 0.00000000e+00 0.00000000e+00 0.00000000e+00 0.00000000e+00\n",
      " 0.00000000e+00 0.00000000e+00 0.00000000e+00 0.00000000e+00\n",
      " 0.00000000e+00 0.00000000e+00]\n",
      "Unk percentage: 0.0\n"
     ]
    },
    {
     "name": "stderr",
     "output_type": "stream",
     "text": [
      "\n",
      "Generating walks (CPU: 3):   0%|          | 0/2 [00:00<?, ?it/s]\n",
      "Generating walks (CPU: 3): 100%|██████████| 2/2 [00:00<00:00, 11.09it/s]"
     ]
    },
    {
     "name": "stdout",
     "output_type": "stream",
     "text": [
      "cluster began\n"
     ]
    },
    {
     "name": "stderr",
     "output_type": "stream",
     "text": [
      "\n"
     ]
    },
    {
     "name": "stdout",
     "output_type": "stream",
     "text": [
      "cluster end\n"
     ]
    },
    {
     "name": "stderr",
     "output_type": "stream",
     "text": [
      "Computing transition probabilities: 100%|██████████| 28/28 [00:00<00:00, 4063.40it/s]\n",
      "Generating walks (CPU: 4): 100%|██████████| 2/2 [00:00<00:00, 10.95it/s]\n",
      "Generating walks (CPU: 1): 100%|██████████| 3/3 [00:00<00:00, 17.88it/s]\n",
      "Generating walks (CPU: 3):   0%|          | 0/2 [00:00<?, ?it/s]"
     ]
    },
    {
     "name": "stdout",
     "output_type": "stream",
     "text": [
      "[2.47058824e+00 8.26330532e-02 4.15000000e+02 2.25000000e+02\n",
      " 1.70000000e+01 3.00000000e+00 3.00000000e+00 2.00000000e+00\n",
      " 0.00000000e+00 7.00000000e+00 4.00000000e+00 4.00000000e+00\n",
      " 0.00000000e+00 0.00000000e+00 0.00000000e+00 0.00000000e+00\n",
      " 0.00000000e+00 0.00000000e+00]\n",
      "Unk percentage: 0.0\n"
     ]
    },
    {
     "name": "stderr",
     "output_type": "stream",
     "text": [
      "\n",
      "Generating walks (CPU: 2):  67%|██████▋   | 2/3 [00:00<00:00, 14.21it/s]\n",
      "Generating walks (CPU: 4): 100%|██████████| 2/2 [00:00<00:00, 10.28it/s]\n",
      "\n",
      "Generating walks (CPU: 3): 100%|██████████| 2/2 [00:00<00:00, 18.81it/s]"
     ]
    },
    {
     "name": "stdout",
     "output_type": "stream",
     "text": [
      "cluster began\n",
      "cluster end\n"
     ]
    },
    {
     "name": "stderr",
     "output_type": "stream",
     "text": [
      "Computing transition probabilities: 100%|██████████| 16/16 [00:00<00:00, 2805.55it/s]\n",
      "Generating walks (CPU: 1):   0%|          | 0/3 [00:00<?, ?it/s]\n",
      "Generating walks (CPU: 4):   0%|          | 0/2 [00:00<?, ?it/s]"
     ]
    },
    {
     "name": "stdout",
     "output_type": "stream",
     "text": [
      "[2.26666667e+00 0.00000000e+00 3.18500000e+03 8.26000000e+02\n",
      " 4.00000000e+01 4.00000000e+00 5.00000000e+00 0.00000000e+00\n",
      " 0.00000000e+00 0.00000000e+00 0.00000000e+00 0.00000000e+00\n",
      " 0.00000000e+00 0.00000000e+00 0.00000000e+00 0.00000000e+00\n",
      " 0.00000000e+00 0.00000000e+00]\n",
      "Unk percentage: 0.0\n"
     ]
    },
    {
     "name": "stderr",
     "output_type": "stream",
     "text": [
      "Generating walks (CPU: 1): 100%|██████████| 3/3 [00:00<00:00, 25.50it/s]\n",
      "Generating walks (CPU: 4): 100%|██████████| 2/2 [00:00<00:00, 11.21it/s]\n",
      "Generating walks (CPU: 2): 100%|██████████| 3/3 [00:00<00:00, 20.38it/s]"
     ]
    },
    {
     "name": "stdout",
     "output_type": "stream",
     "text": [
      "cluster began\n",
      "cluster end\n"
     ]
    },
    {
     "name": "stderr",
     "output_type": "stream",
     "text": [
      "Computing transition probabilities: 100%|██████████| 23/23 [00:00<00:00, 4590.26it/s]\n",
      "Generating walks (CPU: 1):   0%|          | 0/3 [00:00<?, ?it/s]\n",
      "Generating walks (CPU: 3):   0%|          | 0/2 [00:00<?, ?it/s]"
     ]
    },
    {
     "name": "stdout",
     "output_type": "stream",
     "text": [
      "[2.14814815e+00 0.00000000e+00 2.24000000e+03 6.45000000e+02\n",
      " 3.40000000e+01 3.00000000e+00 3.00000000e+00 0.00000000e+00\n",
      " 0.00000000e+00 0.00000000e+00 0.00000000e+00 0.00000000e+00\n",
      " 0.00000000e+00 0.00000000e+00 0.00000000e+00 0.00000000e+00\n",
      " 0.00000000e+00 0.00000000e+00]\n",
      "Unk percentage: 0.0\n"
     ]
    },
    {
     "name": "stderr",
     "output_type": "stream",
     "text": [
      "Generating walks (CPU: 3): 100%|██████████| 2/2 [00:00<00:00, 14.14it/s]\n",
      "Generating walks (CPU: 4):   0%|          | 0/2 [00:00<?, ?it/s]\n",
      "Generating walks (CPU: 4): 100%|██████████| 2/2 [00:00<00:00, 12.51it/s]\n",
      "Generating walks (CPU: 2): 100%|██████████| 3/3 [00:00<00:00, 19.48it/s]"
     ]
    },
    {
     "name": "stdout",
     "output_type": "stream",
     "text": [
      "[  2.   0. 278. 159.  16.   1.   1.   0.   0.   0.   0.   0.   0.   0.\n",
      "   0.   0.   0.   0.]\n",
      "Unk percentage: 0.015873015873015872\n"
     ]
    },
    {
     "name": "stderr",
     "output_type": "stream",
     "text": [
      "\n",
      "Generating walks (CPU: 3): 100%|██████████| 2/2 [00:00<00:00, 10.74it/s]\n",
      "Generating walks (CPU: 4):   0%|          | 0/2 [00:00<?, ?it/s]"
     ]
    },
    {
     "name": "stdout",
     "output_type": "stream",
     "text": [
      "cluster began\n",
      "cluster end\n"
     ]
    },
    {
     "name": "stderr",
     "output_type": "stream",
     "text": [
      "Computing transition probabilities: 100%|██████████| 12/12 [00:00<00:00, 5139.55it/s]\n",
      "Generating walks (CPU: 1): 100%|██████████| 3/3 [00:00<00:00, 28.70it/s]\n",
      "\n",
      "Generating walks (CPU: 2): 100%|██████████| 3/3 [00:00<00:00, 23.82it/s]"
     ]
    },
    {
     "name": "stdout",
     "output_type": "stream",
     "text": [
      "[2.36363636e+00 0.00000000e+00 1.08500000e+03 3.92000000e+02\n",
      " 3.30000000e+01 5.00000000e+00 5.00000000e+00 0.00000000e+00\n",
      " 0.00000000e+00 1.80000000e+01 1.00000000e+00 1.00000000e+00\n",
      " 0.00000000e+00 0.00000000e+00 0.00000000e+00 0.00000000e+00\n",
      " 0.00000000e+00 0.00000000e+00]\n",
      "Unk percentage: 0.0\n"
     ]
    },
    {
     "name": "stderr",
     "output_type": "stream",
     "text": [
      "\n",
      "Generating walks (CPU: 3):   0%|          | 0/2 [00:00<?, ?it/s]"
     ]
    },
    {
     "name": "stdout",
     "output_type": "stream",
     "text": [
      "cluster began\n",
      "cluster end\n"
     ]
    },
    {
     "name": "stderr",
     "output_type": "stream",
     "text": [
      "Computing transition probabilities: 100%|██████████| 35/35 [00:00<00:00, 2847.62it/s]\n",
      "Generating walks (CPU: 3): 100%|██████████| 2/2 [00:00<00:00, 18.05it/s]\n",
      "Generating walks (CPU: 4): 100%|██████████| 2/2 [00:00<00:00, 17.08it/s]\n",
      "Generating walks (CPU: 1):  67%|██████▋   | 2/3 [00:00<00:00, 12.82it/s]"
     ]
    },
    {
     "name": "stdout",
     "output_type": "stream",
     "text": [
      "[ 2.  0. 78. 75. 11.  1.  0.  0.  0.  0.  0.  0.  0.  0.  0.  0.  0.  0.]\n",
      "Unk percentage: 0.0\n"
     ]
    },
    {
     "name": "stderr",
     "output_type": "stream",
     "text": [
      "\r",
      "Generating walks (CPU: 1): 100%|██████████| 3/3 [00:00<00:00,  9.31it/s]"
     ]
    },
    {
     "name": "stdout",
     "output_type": "stream",
     "text": [
      "cluster began\n",
      "cluster end\n"
     ]
    },
    {
     "name": "stderr",
     "output_type": "stream",
     "text": [
      "Computing transition probabilities: 100%|██████████| 30/30 [00:00<00:00, 1968.08it/s]\n",
      "\n",
      "Generating walks (CPU: 2): 100%|██████████| 3/3 [00:00<00:00,  9.75it/s]"
     ]
    },
    {
     "name": "stdout",
     "output_type": "stream",
     "text": [
      "cluster began\n",
      "cluster end\n"
     ]
    },
    {
     "name": "stderr",
     "output_type": "stream",
     "text": [
      "\n",
      "Computing transition probabilities: 100%|██████████| 16/16 [00:00<00:00, 2561.99it/s]\n",
      "Generating walks (CPU: 2):   0%|          | 0/3 [00:00<?, ?it/s]\n",
      "Generating walks (CPU: 1): 100%|██████████| 3/3 [00:00<00:00, 20.03it/s]\n",
      "Generating walks (CPU: 3): 100%|██████████| 2/2 [00:00<00:00,  8.88it/s]\n",
      "Generating walks (CPU: 2): 100%|██████████| 3/3 [00:00<00:00, 11.81it/s]\n",
      "Generating walks (CPU: 4): 100%|██████████| 2/2 [00:00<00:00, 15.33it/s]\n",
      "Generating walks (CPU: 3):   0%|          | 0/2 [00:00<?, ?it/s]"
     ]
    },
    {
     "name": "stdout",
     "output_type": "stream",
     "text": [
      "cluster began\n",
      "cluster end\n"
     ]
    },
    {
     "name": "stderr",
     "output_type": "stream",
     "text": [
      "\n",
      "Generating walks (CPU: 3): 100%|██████████| 2/2 [00:00<00:00, 10.68it/s]s]\n",
      "Computing transition probabilities: 100%|██████████| 39/39 [00:00<00:00, 2817.98it/s]\n",
      "Generating walks (CPU: 3): 100%|██████████| 2/2 [00:00<00:00, 13.02it/s]\n",
      "Generating walks (CPU: 4): 100%|██████████| 2/2 [00:00<00:00, 16.83it/s]\n",
      "\n"
     ]
    },
    {
     "name": "stdout",
     "output_type": "stream",
     "text": [
      "[2.11764706e+00 0.00000000e+00 4.88300000e+03 1.05000000e+03\n",
      " 4.30000000e+01 4.00000000e+00 4.00000000e+00 0.00000000e+00\n",
      " 0.00000000e+00 0.00000000e+00 0.00000000e+00 0.00000000e+00\n",
      " 0.00000000e+00 0.00000000e+00 0.00000000e+00 0.00000000e+00\n",
      " 0.00000000e+00 0.00000000e+00]\n",
      "Unk percentage: 0.0\n"
     ]
    },
    {
     "name": "stderr",
     "output_type": "stream",
     "text": [
      "\r",
      "Generating walks (CPU: 1): 100%|██████████| 3/3 [00:00<00:00, 12.54it/s]"
     ]
    },
    {
     "name": "stdout",
     "output_type": "stream",
     "text": [
      "[  1.86666667   0.         286.         156.          13.\n",
      "   0.           0.           0.           0.           0.\n",
      "   0.           0.           0.           0.           0.\n",
      "   0.           0.           0.        ]\n",
      "Unk percentage: 0.0\n"
     ]
    },
    {
     "name": "stderr",
     "output_type": "stream",
     "text": [
      "\n",
      "Generating walks (CPU: 2):   0%|          | 0/3 [00:00<?, ?it/s]"
     ]
    },
    {
     "name": "stdout",
     "output_type": "stream",
     "text": [
      "[2.41379310e+00 2.29885057e-02 2.82600000e+03 7.22000000e+02\n",
      " 4.10000000e+01 5.00000000e+00 5.00000000e+00 0.00000000e+00\n",
      " 1.00000000e+00 4.40000000e+01 5.00000000e+00 5.00000000e+00\n",
      " 0.00000000e+00 0.00000000e+00 0.00000000e+00 0.00000000e+00\n",
      " 0.00000000e+00 0.00000000e+00]\n",
      "Unk percentage: 0.0\n"
     ]
    },
    {
     "name": "stderr",
     "output_type": "stream",
     "text": [
      "Generating walks (CPU: 2): 100%|██████████| 3/3 [00:00<00:00,  8.43it/s]\n",
      "Generating walks (CPU: 3): 100%|██████████| 2/2 [00:00<00:00, 12.24it/s]\n",
      "Generating walks (CPU: 4): 100%|██████████| 2/2 [00:00<00:00, 11.14it/s]"
     ]
    },
    {
     "name": "stdout",
     "output_type": "stream",
     "text": [
      "cluster began\n",
      "cluster end\n"
     ]
    },
    {
     "name": "stderr",
     "output_type": "stream",
     "text": [
      "\r",
      "Computing transition probabilities:   0%|          | 0/22 [00:00<?, ?it/s]"
     ]
    },
    {
     "name": "stdout",
     "output_type": "stream",
     "text": [
      "cluster began\n"
     ]
    },
    {
     "name": "stderr",
     "output_type": "stream",
     "text": [
      "\r",
      "Computing transition probabilities: 100%|██████████| 22/22 [00:00<00:00, 2629.13it/s]"
     ]
    },
    {
     "name": "stdout",
     "output_type": "stream",
     "text": [
      "cluster end\n"
     ]
    },
    {
     "name": "stderr",
     "output_type": "stream",
     "text": [
      "\n"
     ]
    },
    {
     "name": "stdout",
     "output_type": "stream",
     "text": [
      "cluster began\n",
      "cluster end\n"
     ]
    },
    {
     "name": "stderr",
     "output_type": "stream",
     "text": [
      "\n",
      "Computing transition probabilities:   0%|          | 0/24 [00:00<?, ?it/s]206.88it/s]\n",
      "Computing transition probabilities: 100%|██████████| 24/24 [00:00<00:00, 3128.72it/s]\n",
      "Generating walks (CPU: 1): 100%|██████████| 3/3 [00:00<00:00, 14.78it/s]\n"
     ]
    },
    {
     "name": "stdout",
     "output_type": "stream",
     "text": [
      "[2.42105263e+00 4.67836257e-03 6.88400000e+03 1.44900000e+03\n",
      " 7.20000000e+01 1.50000000e+01 1.50000000e+01 1.00000000e+00\n",
      " 0.00000000e+00 0.00000000e+00 0.00000000e+00 0.00000000e+00\n",
      " 0.00000000e+00 0.00000000e+00 0.00000000e+00 0.00000000e+00\n",
      " 0.00000000e+00 0.00000000e+00]"
     ]
    },
    {
     "name": "stderr",
     "output_type": "stream",
     "text": [
      "\r",
      "Generating walks (CPU: 2):   0%|          | 0/3 [00:00<?, ?it/s]"
     ]
    },
    {
     "name": "stdout",
     "output_type": "stream",
     "text": [
      "\n",
      "Unk percentage: 0.0\n"
     ]
    },
    {
     "name": "stderr",
     "output_type": "stream",
     "text": [
      "\n",
      "Generating walks (CPU: 2):   0%|          | 0/3 [00:00<?, ?it/s]\n",
      "Generating walks (CPU: 2): 100%|██████████| 3/3 [00:00<00:00, 17.83it/s]\n",
      "Generating walks (CPU: 3):   0%|          | 0/2 [00:00<?, ?it/s]\n",
      "Generating walks (CPU: 2): 100%|██████████| 3/3 [00:00<00:00, 10.94it/s]\n",
      "Generating walks (CPU: 3): 100%|██████████| 2/2 [00:00<00:00, 10.13it/s]\n",
      "Generating walks (CPU: 3): 100%|██████████| 2/2 [00:00<00:00, 10.40it/s]\n",
      "Generating walks (CPU: 3): 100%|██████████| 2/2 [00:00<00:00, 11.27it/s]\n",
      "Generating walks (CPU: 4): 100%|██████████| 2/2 [00:00<00:00, 11.48it/s]\n",
      "Generating walks (CPU: 4): 100%|██████████| 2/2 [00:00<00:00, 13.24it/s]\n",
      "\n"
     ]
    },
    {
     "name": "stdout",
     "output_type": "stream",
     "text": [
      "[  1.9047619   0.        969.        342.         19.          0.\n",
      "   0.          0.          0.          0.          0.          0.\n",
      "   0.          0.          0.          0.          0.          0.       ]\n",
      "[  2.   0. 970. 323.  18.   0.   0.   0.   0.  17.   1.   1.   0.   0.\n",
      "   0.   0.   0.   0.]\n",
      "Unk percentage: 0.0\n",
      "[2.43478261e+00 4.92753623e-02 1.24000000e+03 4.76000000e+02\n",
      " 3.90000000e+01 7.00000000e+00 7.00000000e+00 1.00000000e+00\n",
      " 1.00000000e+00 0.00000000e+00 0.00000000e+00 0.00000000e+00\n",
      " 0.00000000e+00 0.00000000e+00 0.00000000e+00 0.00000000e+00\n",
      " 0.00000000e+00 0.00000000e+00]\n",
      "Unk percentage: 0.0\n",
      "cluster began\n",
      "cluster end\n"
     ]
    },
    {
     "name": "stderr",
     "output_type": "stream",
     "text": [
      "Computing transition probabilities: 100%|██████████| 26/26 [00:00<00:00, 2453.97it/s]\n",
      "Generating walks (CPU: 1): 100%|██████████| 3/3 [00:00<00:00,  9.82it/s]\n",
      "Generating walks (CPU: 2): 100%|██████████| 3/3 [00:00<00:00,  9.94it/s]\n",
      "Generating walks (CPU: 3):   0%|          | 0/2 [00:00<?, ?it/s]"
     ]
    },
    {
     "name": "stdout",
     "output_type": "stream",
     "text": [
      "cluster began\n",
      "cluster end\n"
     ]
    },
    {
     "name": "stderr",
     "output_type": "stream",
     "text": [
      "Computing transition probabilities: 100%|██████████| 22/22 [00:00<00:00, 4580.30it/s]\n",
      "Generating walks (CPU: 3): 100%|██████████| 2/2 [00:00<00:00, 17.52it/s]\n",
      "Generating walks (CPU: 4):   0%|          | 0/2 [00:00<?, ?it/s]"
     ]
    },
    {
     "name": "stdout",
     "output_type": "stream",
     "text": [
      "cluster began\n",
      "cluster end\n"
     ]
    },
    {
     "name": "stderr",
     "output_type": "stream",
     "text": [
      "Computing transition probabilities: 100%|██████████| 18/18 [00:00<00:00, 6092.44it/s]\n",
      "Generating walks (CPU: 1):   0%|          | 0/3 [00:00<?, ?it/s]\n",
      "Generating walks (CPU: 4): 100%|██████████| 2/2 [00:00<00:00, 11.12it/s]\n",
      "Generating walks (CPU: 2): 100%|██████████| 3/3 [00:00<00:00, 20.51it/s]\n",
      "Generating walks (CPU: 2):   0%|          | 0/3 [00:00<?, ?it/s]"
     ]
    },
    {
     "name": "stdout",
     "output_type": "stream",
     "text": [
      "[2.64000000e+00 4.87407407e-02 1.63800000e+03 5.73000000e+02\n",
      " 4.80000000e+01 8.00000000e+00 8.00000000e+00 0.00000000e+00\n",
      " 2.00000000e+00 1.70000000e+01 3.00000000e+00 3.00000000e+00\n",
      " 0.00000000e+00 0.00000000e+00 0.00000000e+00 0.00000000e+00\n",
      " 0.00000000e+00 0.00000000e+00]\n",
      "Unk percentage: 0.0\n"
     ]
    },
    {
     "name": "stderr",
     "output_type": "stream",
     "text": [
      "\n",
      "Generating walks (CPU: 2): 100%|██████████| 3/3 [00:00<00:00, 23.36it/s]\n",
      "Generating walks (CPU: 3): 100%|██████████| 2/2 [00:00<00:00, 13.59it/s]\n",
      "Generating walks (CPU: 3): 100%|██████████| 2/2 [00:00<00:00, 15.38it/s]\n",
      "Generating walks (CPU: 4): 100%|██████████| 2/2 [00:00<00:00, 13.73it/s]\n"
     ]
    },
    {
     "name": "stdout",
     "output_type": "stream",
     "text": [
      "[2.28571429e+00 3.33333333e-02 9.15000000e+02 3.75000000e+02\n",
      " 3.10000000e+01 4.00000000e+00 4.00000000e+00 0.00000000e+00\n",
      " 1.00000000e+00 0.00000000e+00 0.00000000e+00 0.00000000e+00\n",
      " 0.00000000e+00 0.00000000e+00 0.00000000e+00 0.00000000e+00\n",
      " 0.00000000e+00 0.00000000e+00]"
     ]
    },
    {
     "name": "stderr",
     "output_type": "stream",
     "text": [
      "Generating walks (CPU: 4): 100%|██████████| 2/2 [00:00<00:00, 12.77it/s]\n"
     ]
    },
    {
     "name": "stdout",
     "output_type": "stream",
     "text": [
      "\n",
      "Unk percentage: 0.03125\n",
      "[  2.23529412   0.         434.         209.          19.\n",
      "   1.           2.           0.           0.          13.\n",
      "   1.           1.           0.           0.           0.\n",
      "   0.           0.           0.        ]\n",
      "Unk percentage: 0.025\n",
      "cluster began\n",
      "cluster end\n"
     ]
    },
    {
     "name": "stderr",
     "output_type": "stream",
     "text": [
      "Computing transition probabilities: 100%|██████████| 10/10 [00:00<00:00, 1140.78it/s]\n",
      "Generating walks (CPU: 1): 100%|██████████| 3/3 [00:00<00:00, 23.44it/s]\n",
      "Generating walks (CPU: 2):   0%|          | 0/3 [00:00<?, ?it/s]"
     ]
    },
    {
     "name": "stdout",
     "output_type": "stream",
     "text": [
      "cluster began\n",
      "cluster end\n"
     ]
    },
    {
     "name": "stderr",
     "output_type": "stream",
     "text": [
      "Computing transition probabilities: 100%|██████████| 33/33 [00:00<00:00, 3257.37it/s]\n",
      "Generating walks (CPU: 2): 100%|██████████| 3/3 [00:00<00:00, 26.34it/s]"
     ]
    },
    {
     "name": "stdout",
     "output_type": "stream",
     "text": [
      "cluster began\n",
      "cluster end\n"
     ]
    },
    {
     "name": "stderr",
     "output_type": "stream",
     "text": [
      "Computing transition probabilities:   0%|          | 0/23 [00:00<?, ?it/s]\n",
      "Computing transition probabilities: 100%|██████████| 23/23 [00:00<00:00, 2287.08it/s]\n",
      "Generating walks (CPU: 3): 100%|██████████| 2/2 [00:00<00:00, 29.86it/s]\n",
      "Generating walks (CPU: 4): 100%|██████████| 2/2 [00:00<00:00, 21.36it/s]\n"
     ]
    },
    {
     "name": "stdout",
     "output_type": "stream",
     "text": [
      "[ 2.  0. 36. 35.  6.  0.  0.  0.  0.  5.  1.  1.  0.  0.  0.  0.  0.  0.]\n",
      "Unk percentage: 0.0\n"
     ]
    },
    {
     "name": "stderr",
     "output_type": "stream",
     "text": [
      "\n",
      "Generating walks (CPU: 1): 100%|██████████| 3/3 [00:00<00:00, 10.75it/s]\n",
      "Generating walks (CPU: 2): 100%|██████████| 3/3 [00:00<00:00, 20.84it/s]\n",
      "Generating walks (CPU: 3): 100%|██████████| 2/2 [00:00<00:00, 15.22it/s]\n",
      "Generating walks (CPU: 4):   0%|          | 0/2 [00:00<?, ?it/s]\n",
      "Generating walks (CPU: 4): 100%|██████████| 2/2 [00:00<00:00, 15.19it/s]\n",
      "Generating walks (CPU: 3): 100%|██████████| 2/2 [00:00<00:00, 17.98it/s]"
     ]
    },
    {
     "name": "stdout",
     "output_type": "stream",
     "text": [
      "[2.000e+00 0.000e+00 1.125e+03 3.900e+02 2.300e+01 1.000e+00 1.000e+00\n",
      " 0.000e+00 0.000e+00 0.000e+00 0.000e+00 0.000e+00 0.000e+00 0.000e+00\n",
      " 0.000e+00 0.000e+00 0.000e+00 0.000e+00]\n",
      "Unk percentage: 0.0\n"
     ]
    },
    {
     "name": "stderr",
     "output_type": "stream",
     "text": [
      "\n",
      "Generating walks (CPU: 4): 100%|██████████| 2/2 [00:00<00:00, 15.92it/s]\n"
     ]
    },
    {
     "name": "stdout",
     "output_type": "stream",
     "text": [
      "cluster began\n",
      "cluster end\n"
     ]
    },
    {
     "name": "stderr",
     "output_type": "stream",
     "text": [
      "Computing transition probabilities: 100%|██████████| 20/20 [00:00<00:00, 4387.81it/s]\n",
      "Generating walks (CPU: 1):   0%|          | 0/3 [00:00<?, ?it/s]"
     ]
    },
    {
     "name": "stdout",
     "output_type": "stream",
     "text": [
      "[2.56250000e+00 6.89765963e-02 3.86300000e+03 9.75000000e+02\n",
      " 6.10000000e+01 1.40000000e+01 1.40000000e+01 2.00000000e+00\n",
      " 1.00000000e+00 2.20000000e+01 4.00000000e+00 4.00000000e+00\n",
      " 0.00000000e+00 0.00000000e+00 0.00000000e+00 0.00000000e+00\n",
      " 0.00000000e+00 0.00000000e+00]\n",
      "Unk percentage: 0.0\n"
     ]
    },
    {
     "name": "stderr",
     "output_type": "stream",
     "text": [
      "Generating walks (CPU: 1): 100%|██████████| 3/3 [00:00<00:00, 15.32it/s]\n",
      "Generating walks (CPU: 2): 100%|██████████| 3/3 [00:00<00:00, 15.80it/s]\n",
      "Generating walks (CPU: 3): 100%|██████████| 2/2 [00:00<00:00, 11.94it/s]\n",
      "Generating walks (CPU: 4):   0%|          | 0/2 [00:00<?, ?it/s]"
     ]
    },
    {
     "name": "stdout",
     "output_type": "stream",
     "text": [
      "cluster began\n",
      "cluster end\n"
     ]
    },
    {
     "name": "stderr",
     "output_type": "stream",
     "text": [
      "Computing transition probabilities: 100%|██████████| 20/20 [00:00<00:00, 3712.43it/s]\n",
      "Generating walks (CPU: 4): 100%|██████████| 2/2 [00:00<00:00, 13.47it/s]\n"
     ]
    },
    {
     "name": "stdout",
     "output_type": "stream",
     "text": [
      "[  1.78947368   0.         696.         257.          16.\n",
      "   0.           0.           0.           0.           0.\n",
      "   0.           0.           0.           0.           0.\n",
      "   0.           0.           0.        ]\n",
      "Unk percentage: 0.0\n"
     ]
    },
    {
     "name": "stderr",
     "output_type": "stream",
     "text": [
      "Generating walks (CPU: 1): 100%|██████████| 3/3 [00:00<00:00, 18.72it/s]\n",
      "Generating walks (CPU: 2): 100%|██████████| 3/3 [00:00<00:00, 27.96it/s]\n",
      "Generating walks (CPU: 3):   0%|          | 0/2 [00:00<?, ?it/s]"
     ]
    },
    {
     "name": "stdout",
     "output_type": "stream",
     "text": [
      "cluster began\n",
      "cluster end\n"
     ]
    },
    {
     "name": "stderr",
     "output_type": "stream",
     "text": [
      "Computing transition probabilities: 100%|██████████| 19/19 [00:00<00:00, 3956.50it/s]\n",
      "Generating walks (CPU: 3): 100%|██████████| 2/2 [00:00<00:00, 10.39it/s]\n",
      "Generating walks (CPU: 4): 100%|██████████| 2/2 [00:00<00:00, 16.53it/s]\n",
      "\n",
      "Generating walks (CPU: 2):   0%|          | 0/3 [00:00<?, ?it/s]"
     ]
    },
    {
     "name": "stdout",
     "output_type": "stream",
     "text": [
      "[  1.89473684   0.         680.         272.          17.\n",
      "   0.           0.           0.           0.           0.\n",
      "   0.           0.           0.           0.           0.\n",
      "   0.           0.           0.        ]\n",
      "Unk percentage: 0.0\n"
     ]
    },
    {
     "name": "stderr",
     "output_type": "stream",
     "text": [
      "Generating walks (CPU: 2): 100%|██████████| 3/3 [00:00<00:00, 23.26it/s]\n",
      "Generating walks (CPU: 3): 100%|██████████| 2/2 [00:00<00:00, 11.72it/s]\n",
      "Generating walks (CPU: 4):   0%|          | 0/2 [00:00<?, ?it/s]"
     ]
    },
    {
     "name": "stdout",
     "output_type": "stream",
     "text": [
      "cluster began\n",
      "cluster end\n"
     ]
    },
    {
     "name": "stderr",
     "output_type": "stream",
     "text": [
      "Computing transition probabilities: 100%|██████████| 22/22 [00:00<00:00, 5259.02it/s]\n",
      "Generating walks (CPU: 4): 100%|██████████| 2/2 [00:00<00:00, 10.03it/s]\n",
      "Generating walks (CPU: 1):   0%|          | 0/3 [00:00<?, ?it/s]"
     ]
    },
    {
     "name": "stdout",
     "output_type": "stream",
     "text": [
      "[2.33333333e+00 1.69642857e-01 5.37000000e+02 2.27000000e+02\n",
      " 2.10000000e+01 6.00000000e+00 6.00000000e+00 3.00000000e+00\n",
      " 0.00000000e+00 1.40000000e+01 1.00000000e+00 1.00000000e+00\n",
      " 0.00000000e+00 0.00000000e+00 0.00000000e+00 0.00000000e+00\n",
      " 0.00000000e+00 0.00000000e+00]\n",
      "Unk percentage: 0.0\n"
     ]
    },
    {
     "name": "stderr",
     "output_type": "stream",
     "text": [
      "Generating walks (CPU: 1): 100%|██████████| 3/3 [00:00<00:00, 14.87it/s]\n",
      "Generating walks (CPU: 2): 100%|██████████| 3/3 [00:00<00:00, 22.80it/s]\n",
      "Generating walks (CPU: 3): 100%|██████████| 2/2 [00:00<00:00, 17.41it/s]\n",
      "Generating walks (CPU: 4):   0%|          | 0/2 [00:00<?, ?it/s]"
     ]
    },
    {
     "name": "stdout",
     "output_type": "stream",
     "text": [
      "cluster began\n",
      "cluster end\n"
     ]
    },
    {
     "name": "stderr",
     "output_type": "stream",
     "text": [
      "Computing transition probabilities: 100%|██████████| 20/20 [00:00<00:00, 4098.80it/s]\n",
      "Generating walks (CPU: 4): 100%|██████████| 2/2 [00:00<00:00, 15.33it/s]\n",
      "Generating walks (CPU: 1): 100%|██████████| 3/3 [00:00<00:00, 17.54it/s]"
     ]
    },
    {
     "name": "stdout",
     "output_type": "stream",
     "text": [
      "[  2.   0. 970. 323.  18.   0.   0.   0.   0.  17.   1.   1.   0.   0.\n",
      "   0.   0.   0.   0.]\n",
      "Unk percentage: 0.0\n"
     ]
    },
    {
     "name": "stderr",
     "output_type": "stream",
     "text": [
      "\n",
      "Generating walks (CPU: 2): 100%|██████████| 3/3 [00:00<00:00, 15.89it/s]\n",
      "Generating walks (CPU: 3):   0%|          | 0/2 [00:00<?, ?it/s]"
     ]
    },
    {
     "name": "stdout",
     "output_type": "stream",
     "text": [
      "cluster began\n",
      "cluster end\n"
     ]
    },
    {
     "name": "stderr",
     "output_type": "stream",
     "text": [
      "Computing transition probabilities: 100%|██████████| 22/22 [00:00<00:00, 3292.82it/s]\n",
      "Generating walks (CPU: 1):   0%|          | 0/3 [00:00<?, ?it/s]\n",
      "Generating walks (CPU: 1): 100%|██████████| 3/3 [00:00<00:00, 21.10it/s]\n",
      "Generating walks (CPU: 4): 100%|██████████| 2/2 [00:00<00:00, 12.79it/s]\n"
     ]
    },
    {
     "name": "stdout",
     "output_type": "stream",
     "text": [
      "[  2.42105263   0.         658.         252.          21.\n",
      "   2.           2.           0.           0.          30.\n",
      "   2.           2.           0.           0.           0.\n",
      "   0.           0.           0.        ]\n",
      "Unk percentage: 0.0\n"
     ]
    },
    {
     "name": "stderr",
     "output_type": "stream",
     "text": [
      "Generating walks (CPU: 2): 100%|██████████| 3/3 [00:00<00:00, 14.23it/s]\n",
      "Generating walks (CPU: 3): 100%|██████████| 2/2 [00:00<00:00, 19.17it/s]"
     ]
    },
    {
     "name": "stdout",
     "output_type": "stream",
     "text": [
      "cluster began\n",
      "cluster end\n"
     ]
    },
    {
     "name": "stderr",
     "output_type": "stream",
     "text": [
      "Computing transition probabilities: 100%|██████████| 30/30 [00:00<00:00, 3590.60it/s]\n",
      "Generating walks (CPU: 1):   0%|          | 0/3 [00:00<?, ?it/s]\n",
      "Generating walks (CPU: 4): 100%|██████████| 2/2 [00:00<00:00, 17.06it/s]\n",
      "Generating walks (CPU: 1):  67%|██████▋   | 2/3 [00:00<00:00, 13.57it/s]"
     ]
    },
    {
     "name": "stdout",
     "output_type": "stream",
     "text": [
      "[2.00000000e+00 5.15873016e-02 9.54000000e+02 3.54000000e+02\n",
      " 1.90000000e+01 1.00000000e+00 1.00000000e+00 1.00000000e+00\n",
      " 0.00000000e+00 0.00000000e+00 0.00000000e+00 0.00000000e+00\n",
      " 0.00000000e+00 0.00000000e+00 0.00000000e+00 0.00000000e+00\n",
      " 0.00000000e+00 0.00000000e+00]\n",
      "Unk percentage: 0.0\n"
     ]
    },
    {
     "name": "stderr",
     "output_type": "stream",
     "text": [
      "Generating walks (CPU: 1): 100%|██████████| 3/3 [00:00<00:00, 10.94it/s]\n",
      "Generating walks (CPU: 2): 100%|██████████| 3/3 [00:00<00:00, 18.45it/s]\n",
      "Generating walks (CPU: 3):   0%|          | 0/2 [00:00<?, ?it/s]"
     ]
    },
    {
     "name": "stdout",
     "output_type": "stream",
     "text": [
      "cluster began\n",
      "cluster end\n"
     ]
    },
    {
     "name": "stderr",
     "output_type": "stream",
     "text": [
      "Generating walks (CPU: 3): 100%|██████████| 2/2 [00:00<00:00, 12.16it/s]s]\n",
      "Computing transition probabilities: 100%|██████████| 24/24 [00:00<00:00, 1408.73it/s]\n",
      "Generating walks (CPU: 1): 100%|██████████| 3/3 [00:00<00:00, 16.22it/s]\n",
      "\n",
      "Generating walks (CPU: 2): 100%|██████████| 3/3 [00:00<00:00, 19.01it/s]"
     ]
    },
    {
     "name": "stdout",
     "output_type": "stream",
     "text": [
      "[2.27586207e+00 3.48746082e-02 2.85500000e+03 7.16000000e+02\n",
      " 4.10000000e+01 7.00000000e+00 7.00000000e+00 1.00000000e+00\n",
      " 0.00000000e+00 1.90000000e+01 4.00000000e+00 4.00000000e+00\n",
      " 0.00000000e+00 0.00000000e+00 0.00000000e+00 0.00000000e+00\n",
      " 0.00000000e+00 0.00000000e+00]\n",
      "Unk percentage: 0.06060606060606061\n"
     ]
    },
    {
     "name": "stderr",
     "output_type": "stream",
     "text": [
      "\n",
      "Generating walks (CPU: 3):   0%|          | 0/2 [00:00<?, ?it/s]"
     ]
    },
    {
     "name": "stdout",
     "output_type": "stream",
     "text": [
      "cluster began\n",
      "cluster end\n"
     ]
    },
    {
     "name": "stderr",
     "output_type": "stream",
     "text": [
      "Computing transition probabilities: 100%|██████████| 13/13 [00:00<00:00, 8972.51it/s]\n",
      "Generating walks (CPU: 3): 100%|██████████| 2/2 [00:00<00:00, 12.53it/s]\n",
      "Generating walks (CPU: 1): 100%|██████████| 3/3 [00:00<00:00, 26.78it/s]\n",
      "Generating walks (CPU: 4): 100%|██████████| 2/2 [00:00<00:00, 17.48it/s]\n",
      "Generating walks (CPU: 2): 100%|██████████| 3/3 [00:00<00:00, 28.18it/s]\n",
      "Generating walks (CPU: 3): 100%|██████████| 2/2 [00:00<00:00, 26.26it/s]\n",
      "Generating walks (CPU: 4):   0%|          | 0/2 [00:00<?, ?it/s]"
     ]
    },
    {
     "name": "stdout",
     "output_type": "stream",
     "text": [
      "[2.52173913e+00 5.87761675e-02 1.24000000e+03 4.61000000e+02\n",
      " 3.50000000e+01 6.00000000e+00 6.00000000e+00 1.00000000e+00\n",
      " 1.00000000e+00 1.50000000e+01 3.00000000e+00 3.00000000e+00\n",
      " 0.00000000e+00 0.00000000e+00 0.00000000e+00 0.00000000e+00\n",
      " 0.00000000e+00 0.00000000e+00]\n",
      "Unk percentage: 0.0\n"
     ]
    },
    {
     "name": "stderr",
     "output_type": "stream",
     "text": [
      "Generating walks (CPU: 4): 100%|██████████| 2/2 [00:00<00:00, 23.52it/s]\n"
     ]
    },
    {
     "name": "stdout",
     "output_type": "stream",
     "text": [
      "[  2.33333333   0.         115.          83.          11.\n",
      "   0.           1.           0.           0.           7.\n",
      "   2.           1.           0.           0.           0.\n",
      "   0.           0.           0.        ]\n",
      "Unk percentage: 0.0\n",
      "cluster began\n",
      "cluster end\n"
     ]
    },
    {
     "name": "stderr",
     "output_type": "stream",
     "text": [
      "Computing transition probabilities: 100%|██████████| 17/17 [00:00<00:00, 4607.34it/s]\n",
      "Generating walks (CPU: 1): 100%|██████████| 3/3 [00:00<00:00, 20.07it/s]"
     ]
    },
    {
     "name": "stdout",
     "output_type": "stream",
     "text": [
      "cluster began\n",
      "cluster end\n"
     ]
    },
    {
     "name": "stderr",
     "output_type": "stream",
     "text": [
      "\n",
      "Computing transition probabilities: 100%|██████████| 19/19 [00:00<00:00, 1241.79it/s]\n",
      "Generating walks (CPU: 2): 100%|██████████| 3/3 [00:00<00:00, 20.15it/s]\n",
      "Generating walks (CPU: 3):   0%|          | 0/2 [00:00<?, ?it/s]"
     ]
    },
    {
     "name": "stdout",
     "output_type": "stream",
     "text": [
      "cluster began\n",
      "cluster end\n"
     ]
    },
    {
     "name": "stderr",
     "output_type": "stream",
     "text": [
      "Computing transition probabilities: 100%|██████████| 24/24 [00:00<00:00, 3789.18it/s]\n",
      "Generating walks (CPU: 3): 100%|██████████| 2/2 [00:00<00:00, 17.21it/s]\n",
      "Generating walks (CPU: 4):   0%|          | 0/2 [00:00<?, ?it/s]\n",
      "Generating walks (CPU: 4): 100%|██████████| 2/2 [00:00<00:00, 20.66it/s]\n",
      "Generating walks (CPU: 2): 100%|██████████| 3/3 [00:00<00:00, 27.07it/s]\n",
      "Generating walks (CPU: 3):   0%|          | 0/2 [00:00<?, ?it/s]"
     ]
    },
    {
     "name": "stdout",
     "output_type": "stream",
     "text": [
      "[2.00000000e+00 5.20833333e-02 3.53000000e+02 1.91000000e+02\n",
      " 1.30000000e+01 1.00000000e+00 1.00000000e+00 1.00000000e+00\n",
      " 0.00000000e+00 0.00000000e+00 0.00000000e+00 0.00000000e+00\n",
      " 0.00000000e+00 0.00000000e+00 0.00000000e+00 0.00000000e+00\n",
      " 0.00000000e+00 0.00000000e+00]\n",
      "Unk percentage: 0.0\n"
     ]
    },
    {
     "name": "stderr",
     "output_type": "stream",
     "text": [
      "Generating walks (CPU: 1): 100%|██████████| 3/3 [00:00<00:00, 10.37it/s]\n",
      "Generating walks (CPU: 3): 100%|██████████| 2/2 [00:00<00:00, 13.65it/s]\n",
      "Generating walks (CPU: 4): 100%|██████████| 2/2 [00:00<00:00, 15.19it/s]\n",
      "\n",
      "Generating walks (CPU: 3):   0%|          | 0/2 [00:00<?, ?it/s]"
     ]
    },
    {
     "name": "stdout",
     "output_type": "stream",
     "text": [
      "[  2.   0. 547. 250.  18.   1.   0.   0.   0.   0.   0.   0.   0.   0.\n",
      "   0.   0.   0.   0.]\n",
      "Unk percentage: 0.02\n"
     ]
    },
    {
     "name": "stderr",
     "output_type": "stream",
     "text": [
      "Generating walks (CPU: 3): 100%|██████████| 2/2 [00:00<00:00, 11.90it/s]\n",
      "Generating walks (CPU: 4): 100%|██████████| 2/2 [00:00<00:00, 15.61it/s]\n"
     ]
    },
    {
     "name": "stdout",
     "output_type": "stream",
     "text": [
      "[2.08695652e+00 4.49275362e-02 1.30100000e+03 4.37000000e+02\n",
      " 2.60000000e+01 3.00000000e+00 3.00000000e+00 1.00000000e+00\n",
      " 0.00000000e+00 0.00000000e+00 0.00000000e+00 0.00000000e+00\n",
      " 0.00000000e+00 0.00000000e+00 0.00000000e+00 0.00000000e+00\n",
      " 0.00000000e+00 0.00000000e+00]\n",
      "Unk percentage: 0.0\n",
      "cluster began\n",
      "cluster end\n"
     ]
    },
    {
     "name": "stderr",
     "output_type": "stream",
     "text": [
      "Computing transition probabilities: 100%|██████████| 10/10 [00:00<00:00, 6673.51it/s]\n",
      "Generating walks (CPU: 1): 100%|██████████| 3/3 [00:00<00:00, 20.78it/s]\n",
      "Generating walks (CPU: 2):   0%|          | 0/3 [00:00<?, ?it/s]"
     ]
    },
    {
     "name": "stdout",
     "output_type": "stream",
     "text": [
      "cluster began\n",
      "cluster end\n"
     ]
    },
    {
     "name": "stderr",
     "output_type": "stream",
     "text": [
      "Computing transition probabilities: 100%|██████████| 24/24 [00:00<00:00, 3052.72it/s]\n",
      "Generating walks (CPU: 2): 100%|██████████| 3/3 [00:00<00:00, 20.51it/s]\n",
      "Generating walks (CPU: 3):   0%|          | 0/2 [00:00<?, ?it/s]"
     ]
    },
    {
     "name": "stdout",
     "output_type": "stream",
     "text": [
      "cluster began\n",
      "cluster end\n"
     ]
    },
    {
     "name": "stderr",
     "output_type": "stream",
     "text": [
      "Computing transition probabilities: 100%|██████████| 26/26 [00:00<00:00, 3530.44it/s]\n",
      "Generating walks (CPU: 3): 100%|██████████| 2/2 [00:00<00:00, 20.06it/s]\n",
      "Generating walks (CPU: 4): 100%|██████████| 2/2 [00:00<00:00, 37.24it/s]\n"
     ]
    },
    {
     "name": "stdout",
     "output_type": "stream",
     "text": [
      "[ 1.77777778  0.         35.         42.          7.          0.\n",
      "  0.          0.          0.          0.          0.          0.\n",
      "  0.          0.          0.          0.          0.          0.        ]\n",
      "Unk percentage: 0.022222222222222223\n"
     ]
    },
    {
     "name": "stderr",
     "output_type": "stream",
     "text": [
      "Generating walks (CPU: 1): 100%|██████████| 3/3 [00:00<00:00, 11.60it/s]\n",
      "Generating walks (CPU: 2):  67%|██████▋   | 2/3 [00:00<00:00, 17.93it/s]\n",
      "Generating walks (CPU: 2):  67%|██████▋   | 2/3 [00:00<00:00, 18.04it/s]\n",
      "Generating walks (CPU: 3): 100%|██████████| 2/2 [00:00<00:00, 19.35it/s]\n",
      "Generating walks (CPU: 3):   0%|          | 0/2 [00:00<?, ?it/s]\n",
      "Generating walks (CPU: 4): 100%|██████████| 2/2 [00:00<00:00, 13.36it/s]\n",
      "\n",
      "Generating walks (CPU: 4):   0%|          | 0/2 [00:00<?, ?it/s]"
     ]
    },
    {
     "name": "stdout",
     "output_type": "stream",
     "text": [
      "[2.60869565e+00 8.82160110e-02 1.23400000e+03 4.46000000e+02\n",
      " 5.60000000e+01 1.70000000e+01 1.60000000e+01 2.00000000e+00\n",
      " 0.00000000e+00 0.00000000e+00 0.00000000e+00 0.00000000e+00\n",
      " 0.00000000e+00 0.00000000e+00 0.00000000e+00 0.00000000e+00\n",
      " 0.00000000e+00 0.00000000e+00]\n",
      "Unk percentage: 0.0\n"
     ]
    },
    {
     "name": "stderr",
     "output_type": "stream",
     "text": [
      "Generating walks (CPU: 4): 100%|██████████| 2/2 [00:00<00:00, 11.84it/s]\n"
     ]
    },
    {
     "name": "stdout",
     "output_type": "stream",
     "text": [
      "[   2.16    0.   1717.    545.     32.      3.      3.      0.      0.\n",
      "    0.      0.      0.      0.      0.      0.      0.      0.      0.  ]\n",
      "Unk percentage: 0.0\n",
      "cluster began\n",
      "cluster end\n"
     ]
    },
    {
     "name": "stderr",
     "output_type": "stream",
     "text": [
      "Computing transition probabilities: 100%|██████████| 26/26 [00:00<00:00, 3741.19it/s]\n",
      "Generating walks (CPU: 1): 100%|██████████| 3/3 [00:00<00:00, 12.64it/s]\n",
      "Generating walks (CPU: 2): 100%|██████████| 3/3 [00:00<00:00, 18.88it/s]\n",
      "Generating walks (CPU: 3): 100%|██████████| 2/2 [00:00<00:00,  9.56it/s]\n",
      "Generating walks (CPU: 4):   0%|          | 0/2 [00:00<?, ?it/s]"
     ]
    },
    {
     "name": "stdout",
     "output_type": "stream",
     "text": [
      "cluster began\n",
      "cluster end\n"
     ]
    },
    {
     "name": "stderr",
     "output_type": "stream",
     "text": [
      "Computing transition probabilities: 100%|██████████| 29/29 [00:00<00:00, 5632.28it/s]\n",
      "Generating walks (CPU: 4): 100%|██████████| 2/2 [00:00<00:00, 17.12it/s]"
     ]
    },
    {
     "name": "stdout",
     "output_type": "stream",
     "text": [
      "cluster began\n",
      "cluster end\n"
     ]
    },
    {
     "name": "stderr",
     "output_type": "stream",
     "text": [
      "Computing transition probabilities: 100%|██████████| 17/17 [00:00<00:00, 4648.19it/s]\n",
      "\n",
      "Generating walks (CPU: 1): 100%|██████████| 3/3 [00:00<00:00, 25.14it/s]\n",
      "Generating walks (CPU: 2):   0%|          | 0/3 [00:00<?, ?it/s]\n",
      "Generating walks (CPU: 2):   0%|          | 0/3 [00:00<?, ?it/s]"
     ]
    },
    {
     "name": "stdout",
     "output_type": "stream",
     "text": [
      "[2.080e+00 0.000e+00 1.733e+03 5.360e+02 2.800e+01 2.000e+00 1.000e+00\n",
      " 0.000e+00 0.000e+00 0.000e+00 0.000e+00 0.000e+00 0.000e+00 0.000e+00\n",
      " 0.000e+00 0.000e+00 0.000e+00 0.000e+00]\n",
      "Unk percentage: 0.0\n"
     ]
    },
    {
     "name": "stderr",
     "output_type": "stream",
     "text": [
      "Generating walks (CPU: 2):  67%|██████▋   | 2/3 [00:00<00:00, 16.17it/s]\n",
      "Generating walks (CPU: 3): 100%|██████████| 2/2 [00:00<00:00, 15.90it/s]\n",
      "Generating walks (CPU: 4):   0%|          | 0/2 [00:00<?, ?it/s]\n",
      "Generating walks (CPU: 4): 100%|██████████| 2/2 [00:00<00:00, 16.79it/s]\n",
      "Generating walks (CPU: 3): 100%|██████████| 2/2 [00:00<00:00, 18.27it/s]"
     ]
    },
    {
     "name": "stdout",
     "output_type": "stream",
     "text": [
      "[  2.   0. 354. 188.  16.   1.   1.   0.   0.   0.   0.   0.   0.   0.\n",
      "   0.   0.   0.   0.]\n"
     ]
    },
    {
     "name": "stderr",
     "output_type": "stream",
     "text": [
      "\n",
      "Generating walks (CPU: 4): 100%|██████████| 2/2 [00:00<00:00, 11.39it/s]\n"
     ]
    },
    {
     "name": "stdout",
     "output_type": "stream",
     "text": [
      "[2.14285714e+00 0.00000000e+00 2.53700000e+03 6.98000000e+02\n",
      " 3.50000000e+01 3.00000000e+00 3.00000000e+00 0.00000000e+00\n",
      " 0.00000000e+00 0.00000000e+00 0.00000000e+00 0.00000000e+00\n",
      " 0.00000000e+00 0.00000000e+00 0.00000000e+00 0.00000000e+00\n",
      " 0.00000000e+00 0.00000000e+00]\n",
      "Unk percentage: 0.09375\n",
      "cluster began\n",
      "cluster end\n"
     ]
    },
    {
     "name": "stderr",
     "output_type": "stream",
     "text": [
      "Computing transition probabilities: 100%|██████████| 22/22 [00:00<00:00, 4431.17it/s]\n",
      "Generating walks (CPU: 1): 100%|██████████| 3/3 [00:00<00:00, 22.72it/s]\n",
      "Generating walks (CPU: 2): 100%|██████████| 3/3 [00:00<00:00, 22.02it/s]\n",
      "Generating walks (CPU: 3): 100%|██████████| 2/2 [00:00<00:00, 10.03it/s]\n",
      "Generating walks (CPU: 4):   0%|          | 0/2 [00:00<?, ?it/s]"
     ]
    },
    {
     "name": "stdout",
     "output_type": "stream",
     "text": [
      "cluster began\n",
      "cluster end\n"
     ]
    },
    {
     "name": "stderr",
     "output_type": "stream",
     "text": [
      "Computing transition probabilities: 100%|██████████| 19/19 [00:00<00:00, 6953.91it/s]\n",
      "Generating walks (CPU: 4): 100%|██████████| 2/2 [00:00<00:00, 13.59it/s]\n",
      "Generating walks (CPU: 1): 100%|██████████| 3/3 [00:00<00:00, 22.69it/s]"
     ]
    },
    {
     "name": "stdout",
     "output_type": "stream",
     "text": [
      "[  1.80952381   0.         987.         325.          18.\n",
      "   0.           0.           0.           0.           0.\n",
      "   0.           0.           0.           0.           0.\n",
      "   0.           0.           0.        ]\n",
      "Unk percentage: 0.0\n"
     ]
    },
    {
     "name": "stderr",
     "output_type": "stream",
     "text": [
      "\n",
      "Generating walks (CPU: 2): 100%|██████████| 3/3 [00:00<00:00, 23.82it/s]\n",
      "Generating walks (CPU: 3): 100%|██████████| 2/2 [00:00<00:00, 19.21it/s]\n",
      "Generating walks (CPU: 4): 100%|██████████| 2/2 [00:00<00:00, 15.01it/s]\n"
     ]
    },
    {
     "name": "stdout",
     "output_type": "stream",
     "text": [
      "[  2.33333333   0.         516.         264.          28.\n",
      "   5.           3.           0.           0.           0.\n",
      "   0.           0.           0.           0.           0.\n",
      "   0.           0.           0.        ]\n",
      "cluster began\n",
      "cluster end\n"
     ]
    },
    {
     "name": "stderr",
     "output_type": "stream",
     "text": [
      "Computing transition probabilities: 100%|██████████| 30/30 [00:00<00:00, 4996.99it/s]\n",
      "Generating walks (CPU: 1): 100%|██████████| 3/3 [00:00<00:00, 19.76it/s]\n",
      "Generating walks (CPU: 2): 100%|██████████| 3/3 [00:00<00:00, 19.70it/s]\n",
      "Generating walks (CPU: 3): 100%|██████████| 2/2 [00:00<00:00, 10.81it/s]\n",
      "Generating walks (CPU: 4): 100%|██████████| 2/2 [00:00<00:00, 12.83it/s]\n"
     ]
    },
    {
     "name": "stdout",
     "output_type": "stream",
     "text": [
      "[2.34482759e+00 2.07307061e-02 2.80800000e+03 7.75000000e+02\n",
      " 5.00000000e+01 1.00000000e+01 1.00000000e+01 1.00000000e+00\n",
      " 0.00000000e+00 0.00000000e+00 0.00000000e+00 0.00000000e+00\n",
      " 0.00000000e+00 0.00000000e+00 0.00000000e+00 0.00000000e+00\n",
      " 0.00000000e+00 0.00000000e+00]\n"
     ]
    }
   ],
   "source": [
    "def vectorize(path):\n",
    "    bag = GraphGenerator(path, emb, word2id_dict, id2word_dict, is_file=False)\n",
    "    G = bag.generate_graph()\n",
    "    if nx.number_of_nodes(G) <= 400:\n",
    "        return gen_style_vec(G)\n",
    "    else:\n",
    "        return None\n",
    "\n",
    "def main():    \n",
    "    p = Pool(N_CORES)\n",
    "    texts = []\n",
    "    text_entries = [x[1] for x in sentence]\n",
    "    print(text_entries)\n",
    "    return p.map(vectorize, text_entries), texts\n",
    "\n",
    "finished, texts = main()"
   ]
  },
  {
   "cell_type": "code",
   "execution_count": 21,
   "metadata": {},
   "outputs": [],
   "source": [
    "vectors = [(bias, finished[i]) for i, (bias, _) in enumerate(sentences) if finished[i] is not None]"
   ]
  },
  {
   "cell_type": "code",
   "execution_count": 24,
   "metadata": {},
   "outputs": [
    {
     "name": "stdout",
     "output_type": "stream",
     "text": [
      "['lib', 'lib', 'lib', 'lib', 'lib', 'lib', 'lib', 'lib', 'lib', 'lib', 'lib', 'lib', 'lib', 'lib', 'lib', 'lib', 'lib', 'lib', 'lib', 'lib', 'lib', 'lib', 'lib', 'lib', 'lib', 'lib', 'lib', 'lib', 'lib', 'lib', 'lib', 'lib', 'lib', 'lib', 'lib', 'lib', 'lib', 'lib', 'lib', 'lib', 'lib', 'lib', 'lib', 'lib', 'lib', 'lib', 'lib', 'lib', 'lib', 'lib', 'neutral', 'neutral', 'neutral', 'neutral', 'neutral', 'neutral', 'neutral', 'neutral', 'neutral', 'neutral', 'neutral', 'neutral', 'neutral', 'neutral', 'neutral', 'neutral', 'neutral', 'neutral', 'neutral', 'neutral', 'neutral', 'neutral', 'neutral', 'neutral', 'neutral', 'neutral', 'neutral', 'neutral', 'neutral', 'neutral', 'neutral', 'neutral', 'neutral', 'neutral', 'neutral', 'neutral', 'neutral', 'neutral', 'neutral', 'neutral', 'neutral', 'neutral', 'neutral', 'neutral', 'neutral', 'neutral', 'neutral', 'neutral', 'neutral', 'neutral', 'con', 'con', 'con', 'con', 'con', 'con', 'con', 'con', 'con', 'con', 'con', 'con', 'con', 'con', 'con', 'con', 'con', 'con', 'con', 'con', 'con', 'con', 'con', 'con', 'con', 'con', 'con', 'con', 'con', 'con', 'con', 'con', 'con', 'con', 'con', 'con', 'con', 'con', 'con', 'con', 'con', 'con', 'con', 'con', 'con', 'con', 'con', 'con', 'con', 'con']\n"
     ]
    }
   ],
   "source": [
    "pres = [x[0] for x in vectors]\n",
    "X = np.concatenate([x[1][:,np.newaxis] for x in vectors], axis=1)\n",
    "print(pres)"
   ]
  },
  {
   "cell_type": "code",
   "execution_count": 25,
   "metadata": {},
   "outputs": [
    {
     "name": "stdout",
     "output_type": "stream",
     "text": [
      "['lib', 'lib', 'lib', 'lib', 'lib', 'lib', 'lib', 'lib', 'lib', 'lib', 'lib', 'lib', 'lib', 'lib', 'lib', 'lib', 'lib', 'lib', 'lib', 'lib', 'lib', 'lib', 'lib', 'lib', 'lib', 'lib', 'lib', 'lib', 'lib', 'lib', 'lib', 'lib', 'lib', 'lib', 'lib', 'lib', 'lib', 'lib', 'lib', 'lib', 'lib', 'lib', 'lib', 'lib', 'lib', 'lib', 'lib', 'lib', 'lib', 'lib', 'neutral', 'neutral', 'neutral', 'neutral', 'neutral', 'neutral', 'neutral', 'neutral', 'neutral', 'neutral', 'neutral', 'neutral', 'neutral', 'neutral', 'neutral', 'neutral', 'neutral', 'neutral', 'neutral', 'neutral', 'neutral', 'neutral', 'neutral', 'neutral', 'neutral', 'neutral', 'neutral', 'neutral', 'neutral', 'neutral', 'neutral', 'neutral', 'neutral', 'neutral', 'neutral', 'neutral', 'neutral', 'neutral', 'neutral', 'neutral', 'neutral', 'neutral', 'neutral', 'neutral', 'neutral', 'neutral', 'neutral', 'neutral', 'neutral', 'neutral', 'con', 'con', 'con', 'con', 'con', 'con', 'con', 'con', 'con', 'con', 'con', 'con', 'con', 'con', 'con', 'con', 'con', 'con', 'con', 'con', 'con', 'con', 'con', 'con', 'con', 'con', 'con', 'con', 'con', 'con', 'con', 'con', 'con', 'con', 'con', 'con', 'con', 'con', 'con', 'con', 'con', 'con', 'con', 'con', 'con', 'con', 'con', 'con', 'con', 'con']\n"
     ]
    }
   ],
   "source": [
    "print(pres)"
   ]
  },
  {
   "cell_type": "code",
   "execution_count": 56,
   "metadata": {},
   "outputs": [
    {
     "name": "stdout",
     "output_type": "stream",
     "text": [
      "[('lib', array([ 2.23529412e+00,  0.00000000e+00,  4.44000000e+02,  1.93000000e+02,\n",
      "        2.20000000e+01,  3.00000000e+00,  3.00000000e+00,  0.00000000e+00,\n",
      "        0.00000000e+00,  9.00000000e+00,  3.00000000e+00,  3.00000000e+00,\n",
      "        0.00000000e+00,  0.00000000e+00,  0.00000000e+00,  0.00000000e+00,\n",
      "        0.00000000e+00,  0.00000000e+00, -1.71453193e-01, -2.28038251e-01,\n",
      "        3.97032239e-02,  7.51062185e-02,  1.19226217e-01, -1.35414630e-01,\n",
      "       -4.33190726e-02, -2.08574072e-01,  4.55659479e-02, -2.10040480e-01,\n",
      "        1.29620237e-02,  8.07719380e-02,  2.33497526e-02, -3.59418779e-03,\n",
      "       -9.06742811e-02,  2.62714714e-01,  4.35441881e-02,  2.92346537e-01,\n",
      "       -4.06782441e-02,  1.29950255e-01,  2.21596926e-01,  6.17176443e-02,\n",
      "       -1.43031612e-01,  1.68756507e-02,  3.27532068e-02, -1.66921660e-01,\n",
      "        1.03653865e-02,  3.12102311e-05, -1.77789375e-01, -1.83894858e-01,\n",
      "        1.68340083e-03, -1.58524126e-01,  3.89115959e-02,  1.06775090e-02,\n",
      "        2.17189595e-01, -3.65598872e-02,  9.72951129e-02,  1.41007707e-01,\n",
      "        4.02942747e-02, -1.73394293e-01,  1.45816594e-01, -9.52699259e-02,\n",
      "        3.32609080e-02,  1.58037901e-01,  1.69712231e-01, -7.15933442e-02,\n",
      "       -2.19097659e-02,  2.13722773e-02,  1.04408331e-01,  5.54391086e-01,\n",
      "       -6.87029213e-02, -4.65104356e-03, -2.19836131e-01,  8.23786929e-02,\n",
      "        2.29649991e-01,  1.60240158e-01, -1.46705091e-01, -3.23285311e-01,\n",
      "       -1.16090812e-01, -1.14376582e-01,  2.75225520e-01, -2.70783007e-01,\n",
      "        1.33666977e-01, -5.98869585e-02, -1.89132035e-01, -7.33784735e-02,\n",
      "        1.02723196e-01,  2.90245324e-01,  5.60817234e-02,  9.57041532e-02,\n",
      "        6.64726794e-02,  7.26070926e-02, -2.85367351e-02,  1.36575758e-01,\n",
      "        1.19323239e-01,  1.28215253e-01, -1.40485644e-01,  3.26385610e-02,\n",
      "       -4.67681028e-02,  1.22546144e-01,  2.00060979e-01,  1.34272859e-01,\n",
      "       -2.10648999e-01, -6.76295459e-02, -2.87963331e-01,  8.81054401e-02,\n",
      "       -9.31353122e-02,  1.18393622e-01, -3.04360300e-01,  9.92496908e-02,\n",
      "        9.34128836e-02, -1.20270990e-01,  4.67793271e-02, -4.72934656e-02,\n",
      "        9.43423137e-02,  1.00991659e-01, -1.87557992e-02, -9.28794369e-02,\n",
      "       -8.79307911e-02,  1.42261520e-01,  1.65768832e-01,  2.24324048e-01,\n",
      "       -1.30347192e-01, -1.10801838e-01,  2.02640772e-01, -3.32332462e-01,\n",
      "       -2.58930475e-01,  6.71700761e-02,  2.12819986e-02,  1.37183771e-01,\n",
      "        2.81330705e-01, -8.63637626e-02,  2.77008384e-01, -5.94000220e-02,\n",
      "       -1.86377928e-01,  2.15420693e-01, -2.13344961e-01,  9.78271142e-02,\n",
      "       -2.98274290e-02, -4.92461234e-01,  5.47304899e-02, -3.07680160e-01,\n",
      "       -1.94541931e-01,  1.01913042e-01, -2.27354025e-03, -2.17098277e-02,\n",
      "        1.21793434e-01, -2.93801446e-02])), ('lib', array([ 2.75000000e+00,  4.81481481e-02,  1.39200000e+03,  5.40000000e+02,\n",
      "        5.80000000e+01,  1.70000000e+01,  1.50000000e+01,  2.00000000e+00,\n",
      "        0.00000000e+00,  0.00000000e+00,  0.00000000e+00,  0.00000000e+00,\n",
      "        0.00000000e+00,  0.00000000e+00,  0.00000000e+00,  0.00000000e+00,\n",
      "        0.00000000e+00,  0.00000000e+00, -7.42077902e-02, -3.70733976e-01,\n",
      "        7.92776123e-02,  4.95508239e-02,  2.23394334e-01, -3.11573688e-02,\n",
      "       -6.52524158e-02, -1.51263341e-01, -1.91300422e-01, -1.51675180e-01,\n",
      "        1.16136581e-01,  1.97097957e-02, -4.68598381e-02,  1.16358593e-01,\n",
      "       -1.66495025e-01, -8.09622705e-02, -2.48551980e-01,  1.36786580e-01,\n",
      "        3.96055318e-02,  2.00518861e-01,  1.47173092e-01, -4.80027869e-02,\n",
      "       -7.69319087e-02,  2.19332173e-01, -2.46289987e-02, -5.77582493e-02,\n",
      "       -1.01382397e-02, -5.09365499e-02, -5.26050776e-02,  5.72648272e-02,\n",
      "       -1.33932754e-01, -8.69787857e-02, -7.13597089e-02, -4.67937775e-02,\n",
      "        8.04297030e-02, -5.55823408e-02, -1.06819369e-01,  1.55114859e-01,\n",
      "        3.74768265e-02, -5.10656089e-02,  1.26717716e-01,  1.88459858e-01,\n",
      "       -3.84721085e-02,  8.33441764e-02,  1.16355876e-02,  3.02042589e-02,\n",
      "        1.90718994e-01, -2.54965097e-01,  8.54411945e-02,  2.51336932e-01,\n",
      "       -6.79889098e-02, -4.13418442e-01, -1.12859488e-01, -2.60383755e-01,\n",
      "        1.49504289e-01, -1.71860173e-01,  1.84221730e-01, -1.30663425e-01,\n",
      "        1.70600280e-01,  7.86392465e-02, -1.15270391e-01, -2.58152753e-01,\n",
      "       -1.42471716e-01,  5.68964332e-03, -1.61667407e-01, -7.42024109e-02,\n",
      "        9.38078687e-02,  4.37642261e-03,  3.60567302e-01, -1.08299948e-01,\n",
      "       -1.00113817e-01,  2.31892139e-01,  1.60739254e-02, -3.68550383e-02,\n",
      "        5.75407967e-02,  6.18535504e-02, -1.90767437e-01,  8.00039992e-02,\n",
      "       -6.73247650e-02, -6.14689849e-03,  3.16345900e-01,  5.94263943e-03,\n",
      "       -1.42615482e-01,  2.92504996e-01, -1.84241265e-01, -2.78877437e-01,\n",
      "        1.26902074e-01,  5.76849766e-02, -1.45027071e-01, -1.09003685e-01,\n",
      "       -7.96443149e-02, -2.27006823e-01, -8.24449398e-03, -1.73643038e-01,\n",
      "       -1.66334417e-02, -6.56638294e-02,  5.45406826e-02,  2.01695174e-01,\n",
      "       -1.21587127e-01, -2.60203123e-01,  9.50209945e-02,  2.05203131e-01,\n",
      "       -2.63097528e-02, -1.47251308e-01,  2.61839211e-01, -1.82225078e-01,\n",
      "       -1.44881621e-01, -1.56886309e-01, -8.02881867e-02, -2.31777266e-01,\n",
      "        2.30039209e-01,  2.01965734e-01,  1.85188815e-01, -9.57471430e-02,\n",
      "        1.20970337e-02, -1.87352095e-02,  2.18967814e-02,  4.87652048e-02,\n",
      "       -5.54435551e-02, -2.56270200e-01, -2.01390043e-01,  1.71329781e-01,\n",
      "       -1.16662167e-01,  1.31264344e-01,  3.77464056e-01, -2.99562663e-01,\n",
      "       -2.56126553e-01, -2.26520032e-01])), ('lib', array([ 2.20000000e+00,  5.08928571e-02,  7.92000000e+02,  3.01000000e+02,\n",
      "        3.20000000e+01,  7.00000000e+00,  7.00000000e+00,  1.00000000e+00,\n",
      "        0.00000000e+00,  0.00000000e+00,  0.00000000e+00,  0.00000000e+00,\n",
      "        0.00000000e+00,  0.00000000e+00,  0.00000000e+00,  0.00000000e+00,\n",
      "        0.00000000e+00,  0.00000000e+00, -1.06996641e-01, -1.38928905e-01,\n",
      "       -1.36381045e-01,  2.62606412e-01,  1.89096737e-03,  3.48189883e-02,\n",
      "       -3.20238739e-01, -2.52528489e-01, -2.92144328e-01, -1.68223053e-01,\n",
      "        2.01071605e-01,  2.08753541e-01, -1.16473339e-01, -1.20173097e-02,\n",
      "       -2.13086128e-01, -9.36607271e-02, -3.60236168e-01,  3.12323660e-01,\n",
      "        1.09361611e-01,  2.19728529e-01, -1.75315723e-01,  3.43584388e-01,\n",
      "       -1.13169245e-01,  4.71518226e-02, -6.44710436e-02, -2.10443184e-01,\n",
      "       -1.91018581e-01, -1.82105795e-01,  3.29807810e-02,  3.21042627e-01,\n",
      "       -2.16350213e-01, -3.43597420e-02, -7.69029036e-02, -1.80182561e-01,\n",
      "        4.13240679e-03,  1.54897094e-01,  7.22371340e-02,  3.23119551e-01,\n",
      "        2.26305619e-01, -1.49213374e-01,  1.81855902e-01,  2.82626897e-01,\n",
      "        9.69036762e-03,  5.18369451e-02,  7.09782541e-02, -7.65156895e-02,\n",
      "       -2.34348536e-01, -3.16800594e-01,  1.39567316e-01,  2.44774491e-01,\n",
      "        5.25876135e-03,  5.58503680e-02, -1.11547858e-01, -2.18047388e-02,\n",
      "        6.29408518e-03, -9.40196142e-02,  3.05446293e-02, -1.98709846e-01,\n",
      "        5.28469740e-04,  4.54166196e-02,  1.45613506e-01, -3.74859050e-02,\n",
      "       -1.47948951e-01, -2.17564449e-01, -1.75615504e-01,  1.53869495e-01,\n",
      "        1.71617907e-03,  1.18019395e-01, -7.42338598e-02, -4.88094650e-02,\n",
      "       -9.96736363e-02, -1.63630694e-01, -1.46668866e-01, -3.00935507e-01,\n",
      "        1.63435027e-01,  1.14292242e-01, -6.65522888e-02,  6.75495118e-02,\n",
      "        2.26656571e-01, -7.18802400e-03,  1.06544577e-01, -9.98633504e-02,\n",
      "        4.51299874e-03,  3.04790050e-01, -1.17106408e-01, -2.71920655e-02,\n",
      "        8.27785432e-02,  2.00037017e-01, -2.80728489e-01, -9.66812894e-02,\n",
      "       -1.95443645e-01, -2.72641070e-02, -6.62309816e-03,  6.74974266e-03,\n",
      "       -4.57251742e-02, -5.13012223e-02,  1.22246750e-01, -7.43666664e-02,\n",
      "        5.18334620e-02,  6.62856475e-02,  1.21644713e-01,  7.13393688e-02,\n",
      "        1.84644908e-02,  1.07064649e-01,  4.01185043e-02, -8.63642395e-02,\n",
      "       -2.38451704e-01,  1.38122188e-02, -1.50598496e-01,  1.90837190e-01,\n",
      "        2.34473236e-02,  1.32986814e-01, -1.04646916e-02, -1.39971584e-01,\n",
      "       -5.39194271e-02,  1.30157426e-01, -2.58322418e-01, -1.68988407e-01,\n",
      "        1.01657301e-01, -2.24311680e-01, -2.44915694e-01, -9.99937952e-03,\n",
      "        1.44017309e-01, -1.92583203e-01,  5.49863055e-02, -8.41934159e-02,\n",
      "       -1.23172782e-01,  5.87158576e-02])), ('lib', array([ 1.80000000e+00,  0.00000000e+00,  5.60000000e+01,  5.60000000e+01,\n",
      "        8.00000000e+00,  0.00000000e+00,  0.00000000e+00,  0.00000000e+00,\n",
      "        0.00000000e+00,  0.00000000e+00,  0.00000000e+00,  0.00000000e+00,\n",
      "        0.00000000e+00,  0.00000000e+00,  0.00000000e+00,  0.00000000e+00,\n",
      "        0.00000000e+00,  0.00000000e+00, -2.20075384e-01, -2.07224146e-01,\n",
      "       -2.90979236e-01, -1.41556591e-01, -2.45182782e-01, -2.10414618e-01,\n",
      "       -1.44979991e-02, -2.47276142e-01,  4.59217988e-02,  1.56314105e-01,\n",
      "       -1.76310360e-01,  1.76868483e-01, -1.92557778e-02,  3.11853975e-01,\n",
      "        3.36514898e-02,  2.35055357e-01, -6.80693462e-02,  2.27826744e-01,\n",
      "        3.51769537e-01, -5.18574938e-02,  3.22341621e-01,  3.65093462e-02,\n",
      "       -1.41183123e-01, -7.03934953e-02,  6.80941790e-02,  9.29911286e-02,\n",
      "       -8.23743790e-02, -5.10739684e-02, -3.26678082e-02, -1.12977669e-01,\n",
      "       -1.05711237e-01, -2.06291471e-02, -4.78786714e-02,  5.99021055e-02,\n",
      "       -1.27245829e-01, -1.10287853e-01, -1.42374709e-01,  1.22529671e-01,\n",
      "        5.84957115e-02, -1.63412420e-03,  4.71583679e-02,  2.79509991e-01,\n",
      "        3.26342881e-02,  3.25185031e-01, -2.66311299e-02,  1.49852380e-01,\n",
      "        1.74770266e-01, -1.32299587e-01,  1.71353951e-01,  2.87976354e-01,\n",
      "        3.22509045e-03,  1.05515935e-01, -1.03434986e-02, -3.34548578e-02,\n",
      "        1.42996207e-01, -1.80455148e-01,  3.12630795e-02, -3.35253254e-02,\n",
      "        1.96080863e-01,  1.76703840e-01,  7.83995017e-02, -1.19341157e-01,\n",
      "       -3.57091665e-01, -1.08734310e-01, -7.24022463e-02,  2.84779426e-02,\n",
      "        3.70010734e-02,  9.63463336e-02, -1.15359165e-01,  7.10535496e-02,\n",
      "       -2.07164101e-02, -1.02463625e-01,  1.14217013e-01, -2.53259856e-02,\n",
      "       -2.40326431e-02,  4.88718599e-02, -6.90153986e-02,  3.99842858e-02,\n",
      "       -1.70783307e-02, -2.24456683e-01,  2.98309535e-01, -2.15772659e-01,\n",
      "       -2.02064782e-01,  1.44017041e-01, -6.77159652e-02,  1.37469396e-01,\n",
      "       -1.81808710e-01, -2.05345765e-01, -1.41914517e-01, -3.87404710e-01,\n",
      "       -1.63909018e-01, -3.73978287e-01, -7.38680661e-02, -1.58519432e-01,\n",
      "       -8.42503607e-02,  8.77118297e-03, -1.30435735e-01, -1.02381952e-01,\n",
      "        8.51072893e-02,  1.64080098e-01,  2.11979792e-01,  1.11979105e-01,\n",
      "       -1.04058430e-01, -1.48817748e-01,  8.57439339e-02,  2.06843868e-01,\n",
      "        3.95908318e-02, -5.90116940e-02, -1.73340812e-01, -3.15803140e-02,\n",
      "       -9.23630670e-02,  2.76286036e-01, -2.75527891e-02, -1.25350446e-01,\n",
      "       -1.47371992e-01,  1.59540296e-01, -5.02027720e-02,  1.84412405e-01,\n",
      "        2.82321602e-01, -1.33216038e-01,  1.13428049e-01,  3.15056555e-02,\n",
      "        4.97052036e-02, -6.24097586e-02,  3.18299606e-02, -5.93061894e-02,\n",
      "       -5.35170287e-02, -1.11332141e-01])), ('lib', array([ 2.60000000e+00,  6.83333333e-02,  4.70000000e+01,  5.30000000e+01,\n",
      "        9.00000000e+00,  1.00000000e+00,  1.00000000e+00,  1.00000000e+00,\n",
      "        0.00000000e+00,  6.00000000e+00,  1.00000000e+00,  1.00000000e+00,\n",
      "        0.00000000e+00,  0.00000000e+00,  0.00000000e+00,  0.00000000e+00,\n",
      "        0.00000000e+00,  0.00000000e+00, -6.49998412e-02, -1.81954920e-01,\n",
      "       -1.25477910e-01,  4.01136056e-02,  8.79153088e-02,  1.93352960e-02,\n",
      "       -1.88599840e-01, -2.86734223e-01, -4.85475212e-02, -3.71732153e-02,\n",
      "        2.25366890e-01,  1.32145748e-01,  2.63532251e-01,  2.77207613e-01,\n",
      "        1.17790152e-03, -6.06191009e-02, -3.19914848e-01,  1.31970331e-01,\n",
      "        2.10073382e-01,  7.67806321e-02, -1.90664843e-01, -1.08866999e-03,\n",
      "       -6.05614223e-02,  3.53217050e-02,  1.56750128e-01, -1.45466685e-01,\n",
      "        6.15799539e-02, -2.79966027e-01,  2.48746816e-02,  1.24002226e-01,\n",
      "        1.56687304e-01, -2.24445134e-01, -4.76770662e-02, -2.79408038e-01,\n",
      "       -8.47696587e-02, -1.35129735e-01, -1.36050493e-01,  1.40916124e-01,\n",
      "        1.08204931e-01, -2.69199222e-01, -2.36672312e-02,  2.00233459e-01,\n",
      "       -9.71027613e-02,  1.96121603e-01,  4.31098551e-01, -3.12095005e-02,\n",
      "       -1.80053581e-02, -6.87239170e-02,  2.46018961e-01,  1.47673696e-01,\n",
      "       -1.15253724e-01, -5.33191800e-01,  1.83150675e-02, -8.53271410e-02,\n",
      "        2.63309956e-01, -1.55764535e-01, -1.20091572e-01, -7.79404715e-02,\n",
      "       -3.00975859e-01,  9.61541161e-02,  1.14077613e-01, -2.89193451e-01,\n",
      "       -4.61036153e-02, -1.06441468e-01, -3.24180163e-02, -8.63879025e-02,\n",
      "       -1.28269359e-01,  1.14316970e-01,  1.43320307e-01,  5.17512709e-02,\n",
      "        1.64312512e-01, -1.24282740e-01, -4.36043851e-02, -2.91559547e-01,\n",
      "       -6.01746724e-04, -1.00124508e-01,  4.12967913e-02,  1.78518981e-01,\n",
      "       -5.82389021e-03, -2.20454484e-01, -9.94069055e-02,  7.34431744e-02,\n",
      "        8.40833038e-03,  2.82625914e-01, -2.02846542e-01,  2.07812920e-01,\n",
      "       -3.02780606e-02,  5.21135926e-02, -2.37684608e-01,  9.43182781e-03,\n",
      "       -1.71548516e-01, -1.01512298e-01, -4.36098725e-02, -1.69532783e-02,\n",
      "        1.23700775e-01, -1.62246555e-01,  9.39362589e-03,  2.55010039e-01,\n",
      "        8.49515051e-02, -3.08194995e-01, -1.81663479e-03, -1.18388757e-01,\n",
      "        1.55124103e-03, -6.06563576e-02,  8.83183032e-02, -2.35189199e-01,\n",
      "       -3.24450046e-01, -3.86327058e-02, -7.40150660e-02, -1.31340027e-01,\n",
      "        7.39768595e-02, -4.91307341e-02,  3.17075104e-01,  4.77518588e-02,\n",
      "       -2.30239809e-01, -7.75252208e-02, -1.48785487e-01, -6.65306970e-02,\n",
      "       -2.14338288e-01, -2.67540038e-01, -4.54747379e-01,  1.33878514e-01,\n",
      "        5.71295582e-02,  8.00862983e-02,  3.30933988e-01, -1.48736775e-01,\n",
      "       -6.65010288e-02, -3.10703814e-01])), ('lib', array([ 1.89473684e+00,  0.00000000e+00,  6.80000000e+02,  2.72000000e+02,\n",
      "        1.70000000e+01,  0.00000000e+00,  0.00000000e+00,  0.00000000e+00,\n",
      "        0.00000000e+00,  0.00000000e+00,  0.00000000e+00,  0.00000000e+00,\n",
      "        0.00000000e+00,  0.00000000e+00,  0.00000000e+00,  0.00000000e+00,\n",
      "        0.00000000e+00,  0.00000000e+00, -3.27397108e-01, -2.52393663e-01,\n",
      "        9.15337279e-02,  4.20298725e-01,  1.20624483e-01, -8.77349600e-02,\n",
      "       -2.05803469e-01, -3.56765866e-01, -2.01444775e-01, -3.24929625e-01,\n",
      "        1.06138267e-01,  1.36139631e-01, -2.13654060e-02, -5.92277423e-02,\n",
      "        1.40638843e-01, -1.58674009e-02, -1.87324733e-01,  5.22878543e-02,\n",
      "        1.94958940e-01,  1.58184946e-01,  6.42274246e-02,  2.30428398e-01,\n",
      "        1.17958402e-02,  1.01681836e-01,  8.70451406e-02,  8.22396278e-02,\n",
      "        3.07913590e-02, -3.87743801e-01, -2.40622386e-02,  7.26467744e-02,\n",
      "        9.62657109e-02, -1.32886603e-01, -3.22874077e-03, -1.17638476e-01,\n",
      "        1.47083104e-01, -3.07288580e-02,  1.84617877e-01,  5.60445748e-02,\n",
      "        1.29264116e-01, -1.21381715e-01, -6.80472404e-02,  1.17791504e-01,\n",
      "       -7.02794716e-02,  2.73875058e-01,  1.26970142e-01, -8.18180367e-02,\n",
      "       -1.85942650e-03, -9.98650193e-02,  4.98380177e-02,  2.23474547e-01,\n",
      "       -8.56555998e-02, -5.33394925e-02, -5.85539863e-02,  1.06265903e-01,\n",
      "        1.62113816e-01, -7.05281273e-02, -2.69824684e-01, -2.46207803e-01,\n",
      "        8.12933445e-02,  6.06955439e-02,  7.92049691e-02, -1.90886781e-01,\n",
      "       -4.23188582e-02, -2.27845237e-01, -9.34355136e-04, -2.76369244e-01,\n",
      "        6.52461648e-02, -2.10564747e-01, -4.73891385e-02,  4.50023524e-02,\n",
      "       -6.68131337e-02, -2.57335842e-01, -4.38907817e-02, -7.15378858e-03,\n",
      "        1.75722614e-01, -2.29121566e-01, -1.15660682e-01, -7.83578977e-02,\n",
      "       -2.55093072e-02, -1.80996776e-01,  3.04193616e-01, -9.17185321e-02,\n",
      "        1.76065266e-02,  4.40197997e-02, -5.07949851e-02, -2.60283977e-01,\n",
      "       -1.77909493e-01, -9.49347094e-02, -2.23018155e-01,  8.24909210e-02,\n",
      "       -1.53788075e-01,  6.75475970e-02,  1.66255180e-02,  2.15999380e-01,\n",
      "        6.11736253e-02, -2.04508146e-03,  1.10687710e-01, -3.89540121e-02,\n",
      "        1.14032011e-02, -6.47994131e-02, -2.67769117e-02,  3.67440045e-01,\n",
      "       -1.52710930e-01, -1.45942364e-02,  3.86299379e-02,  1.63359314e-01,\n",
      "       -5.97417615e-02, -1.92380413e-01, -1.59196481e-01, -3.38007838e-01,\n",
      "       -5.72878607e-02,  6.46795407e-02,  1.31939396e-01,  3.79231349e-02,\n",
      "       -3.92210722e-01, -1.23830624e-01, -1.31327361e-01,  1.16191186e-01,\n",
      "        3.77615504e-02, -2.10409954e-01, -3.21766555e-01,  1.01557411e-01,\n",
      "        7.27139488e-02,  3.87597568e-02,  1.39032692e-01,  2.17889532e-01,\n",
      "       -5.74408984e-03, -1.86081201e-01])), ('lib', array([ 2.06451613e+00,  0.00000000e+00,  3.61000000e+03,  8.42000000e+02,\n",
      "        3.70000000e+01,  3.00000000e+00,  3.00000000e+00,  0.00000000e+00,\n",
      "        0.00000000e+00,  0.00000000e+00,  0.00000000e+00,  0.00000000e+00,\n",
      "        0.00000000e+00,  0.00000000e+00,  0.00000000e+00,  0.00000000e+00,\n",
      "        0.00000000e+00,  0.00000000e+00,  1.77583694e-01, -1.02013730e-01,\n",
      "       -2.86191776e-02, -9.16785002e-03,  1.35139957e-01, -9.17981490e-02,\n",
      "       -2.22068429e-01, -3.94098192e-01, -6.88214526e-02,  4.82401364e-02,\n",
      "        3.12404186e-01,  1.08809531e-01,  1.86121598e-01,  5.63295884e-03,\n",
      "       -1.33757532e-01, -1.37042984e-01, -1.16269477e-01,  4.60261516e-02,\n",
      "        1.19117431e-01,  2.06819147e-01, -1.48272634e-01,  1.11920945e-01,\n",
      "       -4.58137542e-02,  4.39312076e-03,  1.44173518e-01,  9.01407674e-02,\n",
      "        8.41454640e-02, -2.53552079e-01, -9.74660218e-02, -1.02459863e-01,\n",
      "       -1.12889804e-01,  2.09370628e-02,  2.08018884e-01, -8.31170566e-03,\n",
      "        2.36794949e-01, -1.38997659e-01, -9.19631124e-02,  2.30308920e-01,\n",
      "        4.19753306e-02, -1.37975886e-01, -7.47414082e-02,  7.32942447e-02,\n",
      "       -2.77000040e-01, -1.54842824e-01,  1.37504965e-01, -1.25768736e-01,\n",
      "       -2.23173276e-01, -1.60940453e-01,  2.13890105e-01,  6.42473847e-02,\n",
      "        2.47864388e-02, -1.94260441e-02,  2.15860065e-02,  1.12969708e-02,\n",
      "        1.10194683e-01,  5.14688529e-03, -6.11004792e-02, -1.71250373e-01,\n",
      "        8.52378383e-02,  1.37217656e-01,  1.26258001e-01, -2.24327073e-01,\n",
      "       -2.26560459e-01, -1.03893928e-01, -4.17056009e-02,  3.70121375e-02,\n",
      "        4.90987636e-02, -2.17244238e-01,  1.21019788e-01,  8.55740309e-02,\n",
      "       -5.66826016e-02, -7.25581571e-02,  5.32425120e-02, -1.82608888e-01,\n",
      "       -4.96360920e-02,  1.94404989e-01, -1.06555529e-01,  4.73228395e-02,\n",
      "       -1.16489358e-01, -1.36275828e-01,  1.70285672e-01, -1.95424661e-01,\n",
      "       -5.24353981e-02,  1.35522962e-01, -4.62951154e-01,  2.44008169e-01,\n",
      "        4.98026051e-02, -6.81373179e-02, -6.71890229e-02,  4.13843021e-02,\n",
      "       -1.78036258e-01, -1.98714137e-01, -5.65766469e-02,  1.18885317e-03,\n",
      "        1.04976937e-01,  3.08512314e-03, -3.06002378e-01, -4.32737544e-02,\n",
      "        1.23653620e-01, -2.34274119e-01,  1.20841332e-01, -1.97613984e-02,\n",
      "       -1.62247479e-01, -1.88655615e-01,  1.08467929e-01, -5.86130843e-02,\n",
      "       -2.63804615e-01, -3.65152396e-03, -3.04218978e-01, -2.20554084e-01,\n",
      "       -1.87970147e-01, -1.59180965e-02,  3.35198641e-01,  1.90766245e-01,\n",
      "        6.69773063e-03,  1.43292800e-01,  5.41121848e-02,  2.18511283e-01,\n",
      "       -7.78824463e-02, -2.27742359e-01, -3.09466291e-02,  2.38376170e-01,\n",
      "        2.77232602e-02, -8.14473405e-02,  1.83013603e-01, -2.74777949e-01,\n",
      "       -4.72451188e-02, -6.00048341e-02])), ('lib', array([ 2.21052632e+00,  0.00000000e+00,  6.44000000e+02,  2.93000000e+02,\n",
      "        2.40000000e+01,  4.00000000e+00,  4.00000000e+00,  0.00000000e+00,\n",
      "        0.00000000e+00,  0.00000000e+00,  0.00000000e+00,  0.00000000e+00,\n",
      "        0.00000000e+00,  0.00000000e+00,  0.00000000e+00,  0.00000000e+00,\n",
      "        0.00000000e+00,  0.00000000e+00,  2.40492538e-01, -1.38513431e-01,\n",
      "       -1.08518429e-01, -1.06557406e-01, -1.45403415e-01,  8.38944539e-02,\n",
      "       -1.75479323e-01, -3.53724420e-01, -3.77576768e-01, -9.05688759e-03,\n",
      "        1.15354083e-01, -2.45371331e-02,  5.25708534e-02, -6.67000888e-03,\n",
      "       -4.10254151e-02,  1.26712576e-01, -1.87362339e-02,  1.58287004e-01,\n",
      "        1.18576154e-01,  1.58576760e-02,  2.45676003e-02,  1.99026525e-01,\n",
      "       -7.88441673e-03,  2.06753939e-01, -2.22322047e-02, -3.91138077e-01,\n",
      "       -1.45594627e-01, -3.71257402e-02, -1.51029184e-01,  2.79472526e-02,\n",
      "       -1.09314315e-01, -2.09903792e-01,  1.26306102e-01, -1.37658000e-01,\n",
      "       -3.14831063e-02,  1.15185194e-02,  3.25159073e-01,  5.68855181e-02,\n",
      "       -1.03931218e-01, -2.90972650e-01,  1.70077577e-01,  1.27679139e-01,\n",
      "        8.81485343e-02, -9.64149907e-02,  9.53048468e-02, -2.11758137e-01,\n",
      "       -3.12550008e-01,  1.02121465e-01,  2.10863739e-01, -7.86256939e-02,\n",
      "       -1.17505074e-01, -6.52842373e-02, -1.24050513e-01, -1.71961457e-01,\n",
      "        2.66067892e-01,  2.85131242e-02, -4.44756076e-02,  5.29931346e-03,\n",
      "       -8.65432769e-02,  2.12012962e-01,  1.02638692e-01, -1.63900286e-01,\n",
      "        7.53555913e-03,  1.89835191e-01,  3.12944017e-02,  3.15365285e-01,\n",
      "        1.68900862e-01, -6.66536391e-02, -1.65578827e-01,  1.25669818e-02,\n",
      "        7.72414953e-02, -1.31896332e-01,  2.82964975e-01,  1.61955096e-02,\n",
      "        7.41327479e-02, -9.99366865e-02,  4.20114994e-02,  1.47397771e-01,\n",
      "        1.66999161e-01, -4.24170531e-02,  2.55445778e-01,  2.11797450e-02,\n",
      "       -1.73448980e-01,  1.59701139e-01, -1.98949724e-01, -2.03152135e-01,\n",
      "       -1.40470341e-01,  1.40195146e-01, -2.49389574e-01,  8.86960253e-02,\n",
      "       -2.32644305e-02, -3.95108223e-01, -6.08791970e-02, -2.98338383e-03,\n",
      "       -3.71349137e-03, -5.37329912e-02, -1.98390827e-01, -2.71977186e-01,\n",
      "        6.95677176e-02, -1.10314131e-01,  1.05659990e-02,  1.39804974e-01,\n",
      "       -1.84456427e-02, -5.29497080e-02,  1.87520400e-01, -1.29882544e-01,\n",
      "       -1.91951513e-01,  1.73249140e-01, -5.77444583e-02, -1.20070793e-01,\n",
      "       -6.44350126e-02, -1.70452714e-01,  1.81632236e-01, -6.77064508e-02,\n",
      "       -1.28954232e-01,  4.20341976e-02, -2.69942939e-01,  6.11468684e-04,\n",
      "       -4.67920862e-02, -5.18192090e-02, -2.90344387e-01, -4.18827171e-03,\n",
      "        9.94175076e-02,  1.89206421e-01, -1.77304581e-01,  2.66079586e-02,\n",
      "       -2.33499100e-03, -1.31431697e-02])), ('lib', array([ 2.40000000e+00,  0.00000000e+00,  2.59000000e+02,  1.62000000e+02,\n",
      "        1.80000000e+01,  2.00000000e+00,  1.00000000e+00,  0.00000000e+00,\n",
      "        0.00000000e+00,  9.00000000e+00,  2.00000000e+00,  2.00000000e+00,\n",
      "        0.00000000e+00,  0.00000000e+00,  0.00000000e+00,  0.00000000e+00,\n",
      "        0.00000000e+00,  0.00000000e+00, -3.34887028e-01, -3.12332630e-01,\n",
      "       -1.70279354e-01,  1.30007863e-01, -1.01024725e-01,  8.58417526e-02,\n",
      "       -1.99777707e-02, -1.10224254e-01,  1.95670143e-01, -7.15091899e-02,\n",
      "        1.14257105e-01, -5.42149395e-02,  8.51997957e-02,  1.83186680e-01,\n",
      "       -3.25445384e-01,  2.12302089e-01,  1.26017109e-02,  7.67548149e-03,\n",
      "        1.46491900e-01,  2.33189300e-01, -1.55734494e-01,  2.39419024e-02,\n",
      "       -9.07539427e-02,  1.24254204e-01, -3.79903242e-02, -2.48906955e-01,\n",
      "        1.12012185e-01, -5.62240779e-02, -1.68827141e-03,  1.34221107e-01,\n",
      "       -6.58990219e-02, -2.07198888e-01,  5.17843626e-02, -1.90802217e-01,\n",
      "        2.56979376e-01, -4.16682586e-02, -8.54179487e-02,  5.46336547e-02,\n",
      "       -2.26247445e-01, -5.48580401e-02, -1.29119068e-01,  1.50883729e-02,\n",
      "       -5.51067628e-02,  4.51979088e-03,  1.34282991e-01,  1.38531059e-01,\n",
      "       -4.94239503e-04,  9.45956782e-02,  9.67072919e-02,  1.13372520e-01,\n",
      "        1.54209146e-02, -8.64590332e-02, -8.78937393e-02, -1.46078616e-01,\n",
      "        2.60134071e-01,  2.53833942e-02, -6.36216924e-02,  4.35263962e-02,\n",
      "       -1.67995542e-01,  3.20721120e-01,  2.21248820e-01, -1.42851666e-01,\n",
      "       -2.70425797e-01, -8.65970105e-02, -6.28116727e-02,  7.30267242e-02,\n",
      "        1.94876306e-02,  1.86405201e-02,  1.22825466e-01,  7.06809312e-02,\n",
      "        3.45716141e-02, -3.19848031e-01, -9.97076705e-02, -6.64939135e-02,\n",
      "        3.23696792e-01, -1.64300855e-02, -1.70982406e-01, -1.29633388e-02,\n",
      "        5.35542592e-02,  6.08334653e-02,  2.66963303e-01, -2.41926946e-02,\n",
      "       -1.36863440e-01,  3.06022733e-01, -3.08219753e-02,  1.65866330e-01,\n",
      "       -1.46713793e-01, -2.18258902e-01,  6.02345690e-02, -7.34184161e-02,\n",
      "        3.60923037e-02,  1.25947684e-01,  2.85610020e-01,  1.68613568e-01,\n",
      "        4.08016503e-01,  5.50711751e-02,  1.03486650e-01, -1.87868208e-01,\n",
      "       -1.56726222e-02, -4.13419791e-02,  3.73619497e-02,  2.60545705e-02,\n",
      "       -2.03433678e-01,  3.33649188e-01,  1.45684391e-01, -1.54300183e-01,\n",
      "       -2.54446059e-01,  1.33676276e-01,  1.44213596e-02,  1.38520598e-01,\n",
      "       -2.41865993e-01, -1.09358784e-02,  8.60676467e-02, -8.68968368e-02,\n",
      "       -1.81147426e-01,  4.85544465e-03,  2.26591695e-02, -1.65815104e-03,\n",
      "        3.54950018e-02, -2.99320370e-01, -2.39105001e-01,  2.10899338e-01,\n",
      "       -1.54467329e-01,  3.43090773e-01,  1.64496973e-01, -8.08859468e-02,\n",
      "        5.49266376e-02, -3.52212578e-01])), ('lib', array([ 2.17391304e+00,  4.49275362e-02,  1.28500000e+03,  4.48000000e+02,\n",
      "        2.90000000e+01,  4.00000000e+00,  4.00000000e+00,  1.00000000e+00,\n",
      "        0.00000000e+00,  0.00000000e+00,  0.00000000e+00,  0.00000000e+00,\n",
      "        0.00000000e+00,  0.00000000e+00,  0.00000000e+00,  0.00000000e+00,\n",
      "        0.00000000e+00,  0.00000000e+00, -1.72408000e-01, -1.69293508e-01,\n",
      "       -1.74205884e-01,  5.56312948e-02,  3.14181924e-01, -1.68386266e-01,\n",
      "       -5.15692793e-02, -2.69541293e-01, -1.37713596e-01, -3.63520831e-01,\n",
      "       -9.15482827e-03,  1.55216098e-01,  2.13988766e-01,  4.63416241e-02,\n",
      "        3.23107570e-01,  1.01618677e-01, -1.63721681e-01,  1.54527992e-01,\n",
      "        5.84462360e-02,  1.70737758e-01,  4.54619247e-03,  8.28736573e-02,\n",
      "        3.26133780e-02,  1.99402347e-01, -3.33383270e-02, -1.98930316e-02,\n",
      "        3.49557251e-01, -8.83943290e-02, -1.58573002e-01, -5.67493215e-03,\n",
      "        1.20798752e-01, -1.75845668e-01,  7.47699067e-02, -3.49649727e-01,\n",
      "        1.22455113e-01,  3.68178226e-02, -6.91995844e-02, -2.16813773e-01,\n",
      "       -3.99936177e-02, -8.34629610e-02, -2.58070320e-01, -1.43393762e-02,\n",
      "       -2.31492817e-01, -2.36555492e-03,  8.38280246e-02, -2.12350503e-01,\n",
      "       -1.14703819e-01, -4.10632908e-01,  2.62411028e-01,  1.52036414e-01,\n",
      "        3.26986939e-01,  9.24682431e-03,  1.27955759e-02, -1.66555271e-01,\n",
      "        1.25849068e-01,  9.47436094e-02, -1.00858219e-01, -1.81893721e-01,\n",
      "       -1.46931529e-01,  2.40717426e-01,  1.53746337e-01, -5.90849444e-02,\n",
      "        2.37235017e-02, -7.32406825e-02, -2.60436647e-02,  1.75332010e-01,\n",
      "        1.79403454e-01, -1.29788190e-01,  1.97499976e-01, -1.02141723e-01,\n",
      "       -6.22739233e-02, -6.64226338e-02, -9.81771052e-02,  1.35012776e-01,\n",
      "       -2.64783967e-02,  3.84130748e-03,  1.08211026e-01, -5.93856536e-02,\n",
      "       -3.36728878e-02, -1.95090622e-01,  1.06906407e-01, -2.24194080e-02,\n",
      "       -3.36093232e-02, -3.89455259e-02, -7.29157999e-02,  6.04399405e-02,\n",
      "        3.73212174e-02, -2.22814791e-02, -2.20236242e-01, -1.01118706e-01,\n",
      "       -1.67528406e-01,  1.25159189e-01, -1.98449120e-02,  5.14907502e-02,\n",
      "        1.99905097e-01,  1.55970436e-02,  2.42548045e-02, -2.68562227e-01,\n",
      "       -1.17740249e-02, -1.71916522e-02,  1.52463213e-01,  2.61354651e-02,\n",
      "        4.52873670e-03, -2.00542375e-01,  2.34400973e-01, -3.00880820e-01,\n",
      "        2.41592415e-02,  8.97271633e-02, -8.57995525e-02,  6.56784177e-02,\n",
      "       -1.73509881e-01,  1.19353473e-01,  3.05875361e-01,  7.33286515e-02,\n",
      "       -1.98094934e-01, -1.62957922e-01,  2.49486766e-03,  1.27078563e-01,\n",
      "       -1.59408033e-01,  7.02246428e-02,  1.73333324e-02, -6.67023957e-02,\n",
      "       -2.21383810e-01, -1.08883813e-01,  2.95246482e-01, -4.53036418e-03,\n",
      "       -4.42774706e-02, -9.15178359e-02])), ('lib', array([ 1.90000000e+00,  0.00000000e+00,  8.16000000e+02,  3.06000000e+02,\n",
      "        1.80000000e+01,  0.00000000e+00,  0.00000000e+00,  0.00000000e+00,\n",
      "        0.00000000e+00,  0.00000000e+00,  0.00000000e+00,  0.00000000e+00,\n",
      "        0.00000000e+00,  0.00000000e+00,  0.00000000e+00,  0.00000000e+00,\n",
      "        0.00000000e+00,  0.00000000e+00, -1.46245793e-01, -1.06932946e-01,\n",
      "       -4.85320389e-02,  1.53330699e-01,  2.27868229e-01, -1.05615631e-02,\n",
      "       -2.78412730e-01, -6.34222552e-02, -1.04420260e-01, -4.24054042e-02,\n",
      "       -6.64433232e-03,  1.49725482e-01,  9.42727402e-02,  1.71157882e-01,\n",
      "        7.37291053e-02,  9.60202515e-02, -1.30650103e-01,  1.53733805e-01,\n",
      "       -5.73701672e-02,  5.72167411e-02, -2.77005196e-01,  1.18224189e-01,\n",
      "        4.32716943e-02,  2.71125436e-01, -2.67060012e-01, -3.79086941e-01,\n",
      "        7.80934095e-02, -1.93760350e-01,  2.12922115e-02, -2.08888024e-01,\n",
      "       -5.84911481e-02, -7.92468414e-02,  2.97656097e-02, -3.19932848e-01,\n",
      "       -1.46834120e-01, -3.95488627e-02,  1.27094928e-02,  4.07583341e-02,\n",
      "       -1.34062186e-01, -1.67107150e-01, -2.06811830e-01,  4.57676589e-01,\n",
      "        8.86794776e-02,  1.46768391e-01,  7.66616464e-02, -1.19084455e-02,\n",
      "       -1.11198433e-01, -9.38543826e-02,  1.03279557e-02,  1.60730556e-01,\n",
      "       -6.30220026e-02,  8.72764811e-02, -1.30066976e-01, -2.84992576e-01,\n",
      "        3.91005389e-02,  9.74198207e-02,  1.27916828e-01, -2.54505664e-01,\n",
      "       -1.45223022e-01, -3.78176756e-02,  2.16597259e-01, -2.39860952e-01,\n",
      "       -1.94645405e-01, -1.68099612e-01, -6.66746572e-02, -1.90407008e-01,\n",
      "        2.11138837e-02, -1.30063798e-02, -2.81620771e-02, -1.44836411e-01,\n",
      "        1.61574751e-01, -2.09662646e-01,  8.98252055e-02, -6.97987899e-03,\n",
      "        6.80925399e-02, -8.46672729e-02, -2.28356555e-01,  9.95960757e-02,\n",
      "        2.18936540e-02, -3.17471892e-01,  7.24550411e-02, -2.42008958e-02,\n",
      "       -8.34469963e-03, -7.70526677e-02, -2.95995325e-01, -1.16434909e-01,\n",
      "       -2.61055946e-01, -1.18014678e-01, -4.14132662e-02, -1.84099942e-01,\n",
      "       -3.08223575e-01, -1.27378911e-01,  6.46430999e-02, -8.16477984e-02,\n",
      "        4.84551609e-01, -2.13276651e-02, -1.42753661e-01, -1.76925898e-01,\n",
      "       -7.25955442e-02, -4.41023782e-02,  9.40150544e-02, -8.93105716e-02,\n",
      "       -2.73854852e-01, -2.38469448e-02,  8.92374143e-02, -1.13155387e-01,\n",
      "       -4.30647731e-02,  2.74813604e-02, -4.87374775e-02,  8.21989775e-03,\n",
      "       -4.14323062e-02, -9.18574780e-02,  1.41082570e-01, -1.16156630e-01,\n",
      "       -8.96440074e-02,  6.84711942e-03, -3.15113962e-02,  4.83426303e-02,\n",
      "        6.36880621e-02, -1.57839984e-01, -1.61848992e-01,  1.85425878e-01,\n",
      "       -5.59469173e-03,  3.60998273e-01, -3.22208367e-02, -3.63793254e-01,\n",
      "       -4.70245667e-02, -1.39104888e-01])), ('lib', array([ 2.26666667e+00,  0.00000000e+00,  2.68000000e+02,  1.66000000e+02,\n",
      "        1.80000000e+01,  2.00000000e+00,  1.00000000e+00,  0.00000000e+00,\n",
      "        0.00000000e+00,  0.00000000e+00,  0.00000000e+00,  0.00000000e+00,\n",
      "        0.00000000e+00,  0.00000000e+00,  0.00000000e+00,  0.00000000e+00,\n",
      "        0.00000000e+00,  0.00000000e+00,  5.53367659e-02, -1.16088949e-01,\n",
      "       -1.75650999e-01,  1.08863354e-01,  5.51987775e-02, -2.93902904e-02,\n",
      "       -2.77133435e-01, -1.33978382e-01, -1.50555402e-01, -2.18491331e-01,\n",
      "        1.43538356e-01, -2.39812490e-02,  6.43479601e-02,  9.09774303e-02,\n",
      "       -8.57479572e-02,  2.11402383e-02, -3.96158159e-01,  3.40913348e-02,\n",
      "        6.77220598e-02,  2.02766299e-01, -2.72141576e-01,  1.24412403e-01,\n",
      "       -1.76514477e-01,  2.35164821e-01, -1.46861166e-01, -1.95626020e-01,\n",
      "        1.48564950e-01, -6.29540235e-02,  1.46955878e-01, -8.67249519e-02,\n",
      "       -7.94888735e-02, -1.69670835e-01,  1.20606132e-01, -4.68021668e-02,\n",
      "        1.99055731e-01, -8.39933231e-02,  5.56223541e-02,  2.31690239e-02,\n",
      "       -1.65793821e-01, -1.38409808e-01, -1.05102425e-02,  1.71396285e-01,\n",
      "       -1.40522748e-01,  3.86990041e-01,  3.68229508e-01,  1.72023296e-01,\n",
      "       -2.96547681e-01, -9.87089351e-02,  1.76254556e-01, -8.89566019e-02,\n",
      "        4.38815989e-02, -8.20857733e-02,  1.37720540e-01, -3.17458779e-01,\n",
      "        5.38751204e-03, -1.01861611e-01,  1.73037387e-02, -9.19960365e-02,\n",
      "       -1.88277125e-01,  2.34100729e-01,  1.40352234e-01, -1.66457668e-01,\n",
      "       -1.84745952e-01,  1.03234671e-01, -4.96454947e-02, -2.59728402e-01,\n",
      "        2.07416773e-01, -3.41806948e-01,  3.44858885e-01, -4.21262160e-02,\n",
      "        3.76181230e-02, -2.98870038e-02,  6.86248485e-03, -1.32044837e-01,\n",
      "        1.83756649e-01,  8.59273225e-02, -8.67217705e-02,  1.00648344e-01,\n",
      "        4.64498438e-02,  8.36547017e-02,  9.55106243e-02, -1.23345867e-01,\n",
      "       -1.60645738e-01,  2.18184471e-01, -2.36633167e-01, -3.80282104e-02,\n",
      "       -1.53638914e-01, -1.04918275e-02, -5.79166859e-02, -1.31011367e-01,\n",
      "       -1.50495559e-01, -1.81247294e-02,  2.88374792e-03,  8.66734982e-02,\n",
      "        1.20212855e-02,  4.45418768e-02, -4.53624874e-02, -1.87693045e-01,\n",
      "        2.12881237e-01, -5.23058139e-02,  1.01601817e-01,  2.17597902e-01,\n",
      "       -2.12043002e-01, -2.16220424e-01,  1.44930020e-01, -1.02383249e-01,\n",
      "       -2.51681030e-01,  1.20460503e-01, -7.49791339e-02, -2.81665713e-01,\n",
      "       -1.00084990e-01,  1.26004428e-01,  1.14471182e-01, -5.98135069e-02,\n",
      "        2.82490291e-02, -2.58198172e-01, -1.54456124e-01,  1.43199284e-02,\n",
      "       -1.87226355e-01, -2.56839246e-01, -1.91526294e-01,  2.73605511e-02,\n",
      "       -1.09425828e-01,  1.96044385e-01,  2.13584498e-01, -2.35513330e-01,\n",
      "       -1.10345051e-01, -4.51546535e-02])), ('lib', array([ 2.51612903e+00,  0.00000000e+00,  3.58600000e+03,  7.29000000e+02,\n",
      "        6.40000000e+01,  1.60000000e+01,  1.60000000e+01,  0.00000000e+00,\n",
      "        0.00000000e+00,  4.50000000e+01,  1.80000000e+01,  1.80000000e+01,\n",
      "        0.00000000e+00,  0.00000000e+00,  0.00000000e+00,  3.00000000e+00,\n",
      "        0.00000000e+00,  0.00000000e+00,  2.74321511e-02, -1.24433570e-01,\n",
      "       -1.01476431e-01, -1.71412192e-02,  3.23121309e-01, -2.60203242e-01,\n",
      "       -4.68300767e-02, -1.52175218e-01, -4.75611351e-02, -1.26353458e-01,\n",
      "       -1.02185667e-01,  5.61445244e-02,  1.62020653e-01, -1.42529145e-01,\n",
      "       -1.72189716e-03,  1.15185224e-01, -5.24836965e-02,  1.95453465e-01,\n",
      "        1.06666312e-01,  4.02816683e-01,  1.59072280e-01, -1.15654692e-01,\n",
      "       -7.15570226e-02, -8.14380944e-02,  1.46643788e-01,  9.92630944e-02,\n",
      "        1.71510190e-01, -1.63650721e-01,  5.53599857e-02,  1.24690056e-01,\n",
      "        7.43099675e-02, -2.06548437e-01,  5.35316467e-02, -2.92195715e-02,\n",
      "        3.54629010e-01, -2.01552272e-01, -2.43696138e-01,  1.61786199e-01,\n",
      "       -3.94083261e-02, -1.30414933e-01,  1.29352972e-01,  3.47777724e-01,\n",
      "       -2.26183310e-01, -1.89577028e-01, -8.38866308e-02,  6.99966699e-02,\n",
      "       -1.92264602e-01,  2.33082231e-02, -4.60494012e-02,  9.95706692e-02,\n",
      "        5.43345846e-02, -2.49461979e-02,  7.58514628e-02, -5.87317459e-02,\n",
      "        1.87637687e-01,  1.47818580e-01,  8.80416483e-02, -1.86118647e-01,\n",
      "        3.61505933e-02, -2.15726104e-02,  6.73994943e-02, -1.74351037e-01,\n",
      "       -1.32929713e-01, -3.72789726e-02, -6.37081489e-02,  2.04734623e-01,\n",
      "        2.21065760e-01, -2.16300860e-01,  2.86540806e-01,  2.34878570e-01,\n",
      "       -2.26134986e-01, -3.11186820e-01,  9.87233147e-02,  3.55806649e-02,\n",
      "        2.21580923e-01,  1.88951325e-02, -1.65862769e-01, -2.82492638e-01,\n",
      "        8.47448856e-02,  6.72035217e-02,  2.20500916e-01, -1.99166447e-01,\n",
      "       -1.48950085e-01,  6.49311244e-02, -2.72933215e-01,  2.41113514e-01,\n",
      "       -3.94493677e-02, -2.37184465e-02, -2.34236959e-02, -2.44442821e-02,\n",
      "       -9.19481367e-02, -7.10246265e-02,  4.80324142e-02,  1.08711459e-01,\n",
      "        1.01219192e-01,  1.93066131e-02,  7.62482285e-02, -7.88088515e-02,\n",
      "       -8.35851505e-02, -2.73984373e-01, -6.93395361e-02, -1.51737705e-01,\n",
      "       -1.55772239e-01,  1.72660440e-01,  1.69155464e-01, -1.48979768e-01,\n",
      "       -2.77552664e-01,  1.21400833e-01, -1.98870003e-01, -3.07001233e-01,\n",
      "       -2.73019165e-01,  2.04686806e-01,  4.61109951e-02, -8.12725425e-02,\n",
      "       -1.39489233e-01, -1.12807371e-01, -8.21739659e-02,  2.46622354e-01,\n",
      "       -8.33607912e-02, -1.77246585e-01, -2.64503583e-02, -4.00644243e-02,\n",
      "        1.16228484e-01,  1.54693946e-01,  5.62313125e-02, -6.91903606e-02,\n",
      "        2.42976770e-02, -1.31128564e-01])), ('lib', array([ 2.07407407e+00,  3.82716049e-02,  2.26300000e+03,  6.25000000e+02,\n",
      "        3.00000000e+01,  3.00000000e+00,  3.00000000e+00,  1.00000000e+00,\n",
      "        0.00000000e+00,  0.00000000e+00,  0.00000000e+00,  0.00000000e+00,\n",
      "        0.00000000e+00,  0.00000000e+00,  0.00000000e+00,  0.00000000e+00,\n",
      "        0.00000000e+00,  0.00000000e+00, -2.66518928e-02, -8.11950713e-02,\n",
      "       -1.71066895e-01, -1.68483630e-02,  4.47205193e-02, -1.65648714e-01,\n",
      "       -8.79899561e-02, -3.35246414e-01,  5.26927523e-02, -2.66459674e-01,\n",
      "        1.35767177e-01,  1.41109496e-01,  3.45824957e-02,  1.36715159e-01,\n",
      "       -1.03821166e-01,  3.55715631e-03, -1.55274823e-01,  2.66643196e-01,\n",
      "       -6.25574216e-02,  2.03489050e-01,  1.60746481e-02,  3.17967355e-01,\n",
      "       -1.62069071e-02,  2.72134654e-02,  6.81178411e-03,  6.63164863e-03,\n",
      "        3.65046449e-02, -7.03492463e-02, -1.07680425e-01, -2.30251893e-01,\n",
      "       -1.40744820e-01, -2.36033469e-01,  2.35619098e-02, -4.70672846e-02,\n",
      "       -4.20815349e-02, -7.00721666e-02, -1.51565865e-01,  1.45188153e-01,\n",
      "        2.36330964e-02,  6.73170835e-02,  1.66469023e-01,  1.68569610e-01,\n",
      "       -2.92018712e-01,  1.97193384e-01,  1.33267894e-01,  9.22287256e-03,\n",
      "       -3.32717448e-02, -8.31201375e-02,  4.45128940e-02,  9.08195823e-02,\n",
      "        6.37888163e-02, -1.43273264e-01, -2.15642497e-01, -1.04823023e-01,\n",
      "        1.94504812e-01,  1.45158365e-01, -1.25482008e-01, -1.78574786e-01,\n",
      "       -9.06920433e-03,  3.15165877e-01,  3.67430151e-02, -2.88168758e-01,\n",
      "       -1.86428457e-01,  6.34555751e-03, -5.34075834e-02, -1.48703560e-01,\n",
      "       -9.44550484e-02, -1.30829006e-01,  1.66721076e-01,  1.25337169e-01,\n",
      "        2.52577234e-02, -1.76732063e-01,  4.72207926e-02, -2.18394637e-01,\n",
      "        3.36889535e-01, -1.82911996e-02, -3.03375274e-01, -2.74069011e-01,\n",
      "        2.54162610e-01, -1.60879746e-01,  3.30953240e-01, -6.32542148e-02,\n",
      "       -1.88114211e-01,  1.66382477e-01, -9.28124711e-02,  6.00848906e-02,\n",
      "       -1.65775418e-02, -2.24820793e-01, -1.10079132e-01, -1.90781459e-01,\n",
      "       -1.76556721e-01, -1.97445482e-01, -9.61031318e-02,  2.23310925e-02,\n",
      "        2.44258232e-02,  6.78744540e-02, -6.75832257e-02, -2.04511896e-01,\n",
      "        1.53225809e-01, -2.94030190e-01,  1.15956604e-01,  2.17007473e-02,\n",
      "        1.19993955e-01, -4.07175757e-02,  7.41812959e-02, -7.34032094e-02,\n",
      "       -4.18898523e-01, -6.87737465e-02, -2.07498461e-01, -2.63273001e-01,\n",
      "       -9.55173224e-02,  4.98900078e-02, -4.10066061e-02, -1.38461459e-02,\n",
      "       -6.58347309e-02, -3.35503817e-02, -1.65010870e-01,  9.10193995e-02,\n",
      "       -3.04780640e-02, -2.13435099e-01, -1.22970119e-01,  2.62118243e-02,\n",
      "        2.50706404e-01, -6.41297176e-02,  9.21063945e-02, -1.79121330e-01,\n",
      "       -3.43253720e-03, -1.87735662e-01])), ('lib', array([ 2.28571429e+00,  7.27513228e-02,  2.14000000e+02,  1.15000000e+02,\n",
      "        1.60000000e+01,  3.00000000e+00,  3.00000000e+00,  1.00000000e+00,\n",
      "        0.00000000e+00,  6.00000000e+00,  3.00000000e+00,  3.00000000e+00,\n",
      "        0.00000000e+00,  0.00000000e+00,  0.00000000e+00,  0.00000000e+00,\n",
      "        0.00000000e+00,  0.00000000e+00, -3.61134678e-01,  1.81310140e-02,\n",
      "        1.88904181e-01,  4.21696231e-02,  3.48049134e-01, -2.87360281e-01,\n",
      "        7.08919391e-03, -1.13828322e-02,  7.16424920e-03, -5.62756583e-02,\n",
      "       -4.81952056e-02,  2.33814389e-01,  4.13700603e-02, -3.84098776e-02,\n",
      "       -6.56991601e-02,  5.11352569e-02, -2.06426322e-01,  7.94815049e-02,\n",
      "        1.46861419e-01,  1.97787493e-01, -6.51543513e-02,  5.79689890e-02,\n",
      "       -7.47891814e-02,  9.45373178e-02, -1.13401160e-01, -1.96639046e-01,\n",
      "       -7.74768591e-02, -2.17320025e-02,  7.32439682e-02, -3.72652769e-01,\n",
      "       -5.85458949e-02, -1.50129959e-01,  1.26325190e-01, -1.08126052e-01,\n",
      "        1.55927762e-01, -6.35483339e-02, -1.09240912e-01,  1.76526427e-01,\n",
      "       -2.94864811e-02,  3.28264311e-02,  6.65961131e-02,  1.51655138e-01,\n",
      "       -7.61875659e-02,  3.30042541e-01,  4.15767431e-02, -9.28433985e-02,\n",
      "       -8.96390676e-02, -1.61007062e-01,  1.74174219e-01, -1.65303517e-02,\n",
      "        2.17059821e-01, -4.04577106e-02, -3.29897255e-01, -2.00002253e-01,\n",
      "        2.59129673e-01,  2.29428276e-01,  2.02624127e-01,  5.50595224e-02,\n",
      "       -6.71744049e-02,  1.32184610e-01,  4.45894539e-01, -8.65705833e-02,\n",
      "       -3.62799130e-02, -1.86654791e-01, -3.67075577e-02, -6.97446838e-02,\n",
      "        1.71005517e-01, -6.86743185e-02,  6.86599836e-02, -1.61255673e-02,\n",
      "        3.70844379e-02, -1.46587074e-01, -2.24885657e-01, -1.26571089e-01,\n",
      "        1.91223454e-02,  1.22289248e-01, -6.11706488e-02,  2.71111969e-02,\n",
      "        3.05797368e-01,  2.53111497e-02,  2.17062905e-01,  2.39308737e-02,\n",
      "       -1.74766123e-01,  4.56780225e-01,  7.07583651e-02,  8.26160014e-02,\n",
      "       -6.01236336e-03, -2.35706255e-01, -1.15444563e-01,  1.50928915e-01,\n",
      "        6.22836165e-02,  2.89245415e-03, -2.74471134e-01, -4.66432571e-02,\n",
      "        3.21093261e-01,  5.72719350e-02, -8.11105520e-02, -2.93987673e-02,\n",
      "        3.97339284e-01,  1.11138768e-01,  9.44847018e-02,  7.62906596e-02,\n",
      "       -1.88755304e-01, -7.79845119e-02,  2.14663707e-02, -6.38711080e-02,\n",
      "       -3.03800348e-02,  1.72306001e-01,  7.14059100e-02,  2.33354375e-01,\n",
      "       -2.27484480e-01,  1.25692070e-01,  1.28775716e-01, -1.89458311e-01,\n",
      "       -1.95107907e-01, -6.57315925e-02, -2.08087370e-01, -1.43111628e-02,\n",
      "       -1.22961499e-01, -2.66281098e-01, -2.35821158e-01,  1.41920775e-01,\n",
      "        2.09619533e-02,  1.41930237e-01,  8.76678303e-02,  2.12203003e-02,\n",
      "       -1.26860559e-01,  6.10347390e-02])), ('lib', array([ 2.27586207e+00,  6.99233716e-02,  2.85200000e+03,  7.16000000e+02,\n",
      "        4.00000000e+01,  1.00000000e+01,  7.00000000e+00,  2.00000000e+00,\n",
      "        0.00000000e+00,  2.60000000e+01,  0.00000000e+00,  1.00000000e+00,\n",
      "        0.00000000e+00,  0.00000000e+00,  0.00000000e+00,  0.00000000e+00,\n",
      "        0.00000000e+00,  0.00000000e+00,  3.88365872e-02, -2.92244196e-01,\n",
      "        1.31753888e-02, -8.30501318e-03,  1.82131395e-01, -1.95802629e-01,\n",
      "       -2.96428744e-02, -1.28993228e-01, -1.45896543e-02, -2.75609702e-01,\n",
      "        2.29843438e-01,  1.15669012e-01,  2.59556860e-01,  8.72272477e-02,\n",
      "       -2.80835503e-03, -6.73864335e-02, -4.19884980e-01,  2.32542500e-01,\n",
      "        1.02667034e-01, -1.93210855e-01,  1.52149573e-01,  1.33376434e-01,\n",
      "        1.40593097e-01, -1.45315334e-01,  2.28808969e-01, -1.93313360e-01,\n",
      "       -1.46925136e-01, -1.30507156e-01,  1.11694440e-01,  2.66445279e-02,\n",
      "       -1.22156054e-01, -1.50385842e-01,  2.79220402e-01, -2.25407816e-02,\n",
      "       -4.93635535e-02, -4.31013703e-02,  3.87471616e-02,  4.08731967e-01,\n",
      "       -1.72983110e-02, -2.06258103e-01,  1.47406757e-01,  1.77390352e-01,\n",
      "        6.93979934e-02,  2.14190468e-01, -3.66653018e-02,  2.21624821e-01,\n",
      "       -1.04410812e-01,  2.10135803e-02,  1.30186811e-01,  1.42185614e-01,\n",
      "        8.33222494e-02, -2.54059471e-02, -2.59498775e-01, -1.14874184e-01,\n",
      "        2.26162225e-01,  1.49082258e-01,  4.18732315e-02, -2.45197058e-01,\n",
      "        3.62541564e-02,  1.09875686e-01,  1.98750213e-01, -2.35463038e-01,\n",
      "       -9.25908089e-02, -1.88164964e-01, -6.53393567e-02, -1.20276593e-01,\n",
      "       -5.05415015e-02,  1.08939884e-02,  2.52584308e-01, -1.93054583e-02,\n",
      "        1.62223965e-01, -1.90369263e-02,  8.85787085e-02, -9.11751613e-02,\n",
      "        1.03971265e-01,  2.40902528e-01, -1.31845042e-01, -2.20407367e-01,\n",
      "        1.32215202e-01, -9.25065801e-02,  6.46913499e-02,  2.31747385e-02,\n",
      "        3.56603414e-02, -1.90663412e-02,  3.49736288e-02,  1.13384597e-01,\n",
      "        1.22439027e-01, -3.04636538e-01, -1.60869807e-01, -4.94506732e-02,\n",
      "       -9.25583839e-02,  9.61536542e-02, -2.09595501e-01,  8.72840453e-03,\n",
      "       -5.43459393e-02, -7.10344836e-02, -2.16553286e-01,  1.70081034e-02,\n",
      "        1.61941335e-01, -1.19534329e-01,  2.86616348e-02,  9.93246511e-02,\n",
      "        1.29563391e-01, -1.42938839e-02,  9.81031731e-02, -2.49381736e-01,\n",
      "       -2.15039372e-01,  1.62541375e-01, -2.20926013e-02, -2.07155123e-01,\n",
      "       -8.97793919e-02,  2.15281788e-02, -1.90964639e-02, -3.92220262e-03,\n",
      "        1.95775807e-01,  1.76229298e-01, -2.50697374e-01,  9.28579867e-02,\n",
      "       -5.38236350e-02, -1.92065835e-01, -2.89935052e-01,  1.97583660e-01,\n",
      "        4.22347561e-02, -6.81388676e-02,  6.54225722e-02, -3.27469260e-01,\n",
      "       -3.74916822e-01, -7.14153126e-02])), ('lib', array([ 1.87500000e+00,  0.00000000e+00,  3.64000000e+02,  1.82000000e+02,\n",
      "        1.40000000e+01,  0.00000000e+00,  0.00000000e+00,  0.00000000e+00,\n",
      "        0.00000000e+00,  0.00000000e+00,  0.00000000e+00,  0.00000000e+00,\n",
      "        0.00000000e+00,  0.00000000e+00,  0.00000000e+00,  0.00000000e+00,\n",
      "        0.00000000e+00,  0.00000000e+00, -1.67053983e-01, -1.80364519e-01,\n",
      "       -1.65965572e-01,  8.16371664e-02,  1.75204575e-01, -8.83880556e-02,\n",
      "       -1.73139542e-01, -4.91400100e-02,  5.55890054e-02,  5.01421141e-03,\n",
      "        1.42907128e-01,  1.05003536e-01,  9.80483275e-03,  2.07869932e-01,\n",
      "       -3.09071034e-01, -1.17485849e-02, -6.94706738e-02,  1.34839252e-01,\n",
      "        1.67734563e-01,  2.68358141e-01, -3.90061289e-02, -1.61556199e-01,\n",
      "        5.12564704e-02,  1.85523350e-02, -2.51105011e-01, -1.07916228e-01,\n",
      "       -1.23022966e-01, -1.40931174e-01, -1.03080027e-01, -4.91259173e-02,\n",
      "        3.00602108e-01, -4.70836386e-02,  1.51225552e-01,  9.76866186e-02,\n",
      "        5.43372333e-02, -1.34040862e-01,  4.92799059e-02,  1.08972408e-01,\n",
      "        3.80960964e-02, -1.06743380e-01,  6.53104037e-02,  3.11520547e-01,\n",
      "       -4.77518320e-01,  8.99852589e-02, -8.69152602e-03, -1.32674709e-01,\n",
      "       -1.47137046e-01, -2.38244534e-02,  2.41615787e-01,  2.02093586e-01,\n",
      "        6.94277510e-02, -7.08417362e-03,  1.42930999e-01, -4.85287681e-02,\n",
      "        2.80141234e-01,  1.13472186e-01, -8.09689686e-02, -9.15727243e-02,\n",
      "        3.83602530e-02,  1.26134247e-01,  3.22351068e-01, -4.63755637e-01,\n",
      "       -6.48686215e-02, -3.88719067e-02, -2.13976517e-01, -1.04860246e-01,\n",
      "       -5.95813617e-02,  1.00749671e-01,  4.87694666e-02, -1.87367260e-01,\n",
      "        7.07473606e-02, -1.49814665e-01, -3.90037708e-02, -2.22084641e-01,\n",
      "        2.91133672e-01,  2.88940370e-02, -2.23714307e-01,  1.69882223e-01,\n",
      "        2.80540019e-01, -1.70294300e-01,  1.00255877e-01, -1.31106049e-01,\n",
      "        4.60969284e-02,  2.34809369e-01, -1.70286909e-01, -8.11587796e-02,\n",
      "       -2.79418379e-02,  4.23314720e-02,  1.98249295e-01, -3.56578939e-02,\n",
      "        5.45476153e-02, -4.64152843e-02, -3.35481055e-02,  8.51466581e-02,\n",
      "        6.74865544e-02, -9.50286463e-02, -2.10288361e-01,  4.74670529e-02,\n",
      "       -1.03050463e-01,  3.74069326e-02,  3.81070197e-01, -4.44352366e-02,\n",
      "       -2.89698511e-01, -4.87247296e-02,  1.94469303e-01,  6.67357370e-02,\n",
      "        4.68897410e-02, -2.29544476e-01, -6.66758642e-02, -6.74545690e-02,\n",
      "        2.07542703e-02,  1.89589515e-01,  3.57798561e-02, -2.81854212e-01,\n",
      "       -6.15922827e-03,  1.89583004e-01,  8.32681917e-03, -7.85763040e-02,\n",
      "        7.95625001e-02,  1.64349347e-01, -2.22439364e-01,  2.49614060e-01,\n",
      "       -1.37597993e-01, -8.00310224e-02, -1.00143537e-01, -1.93640262e-01,\n",
      "        5.42455819e-03, -1.88122928e-01])), ('lib', array([ 2.22222222e+00,  4.01234568e-02,  2.24200000e+03,  6.21000000e+02,\n",
      "        3.00000000e+01,  3.00000000e+00,  3.00000000e+00,  1.00000000e+00,\n",
      "        0.00000000e+00,  2.10000000e+01,  2.00000000e+00,  2.00000000e+00,\n",
      "        0.00000000e+00,  0.00000000e+00,  0.00000000e+00,  0.00000000e+00,\n",
      "        0.00000000e+00,  0.00000000e+00, -2.03060180e-01, -1.06148824e-01,\n",
      "        1.16566777e-01, -4.92727160e-02,  2.00166225e-01, -1.62798256e-01,\n",
      "       -3.00627381e-01, -9.34753194e-02, -9.35964063e-02, -1.72187313e-01,\n",
      "        9.06829163e-02, -8.03244933e-02,  9.48641449e-02, -3.57523444e-03,\n",
      "        2.17654660e-01,  3.56622599e-02, -1.95887849e-01,  1.56977639e-01,\n",
      "       -5.62776402e-02,  6.88998401e-02, -1.74107388e-01,  1.98187351e-01,\n",
      "        1.38140265e-02,  1.63984299e-01,  8.78387541e-02,  1.50940232e-02,\n",
      "        3.95945826e-04,  1.87082142e-01, -1.81525350e-01, -1.44910235e-02,\n",
      "       -7.43266270e-02, -5.17146774e-02,  1.24853298e-01, -8.28166902e-02,\n",
      "        1.16852105e-01,  3.57406102e-02, -8.03943127e-02,  7.45994672e-02,\n",
      "        3.89602929e-02, -3.02904814e-01,  2.10090384e-01,  2.16275170e-01,\n",
      "       -1.78153381e-01,  1.62160322e-01,  3.33743691e-01,  4.27604131e-02,\n",
      "       -2.15232730e-01, -5.37755154e-02,  3.52573656e-02,  2.02336922e-01,\n",
      "       -8.73664692e-02, -6.43365234e-02, -9.96970087e-02, -2.01674551e-01,\n",
      "        1.00370385e-01,  1.57019839e-01, -3.96375060e-01, -1.50026679e-01,\n",
      "       -7.95420334e-02, -1.65569410e-02,  1.18359007e-01, -1.73861384e-01,\n",
      "       -2.88138539e-01, -1.33883312e-01, -1.24688514e-01, -3.42473313e-02,\n",
      "       -1.50191933e-01, -5.32575138e-02,  2.20973104e-01,  1.21781848e-01,\n",
      "       -1.58488542e-01, -4.69779000e-02,  1.82860084e-02,  4.32256125e-02,\n",
      "        1.65087447e-01, -5.44783808e-02, -2.18612850e-01,  1.09728202e-01,\n",
      "       -1.47083178e-02,  9.45497155e-02,  3.00312787e-02,  1.06190048e-01,\n",
      "       -1.95373178e-01,  1.20483629e-01, -1.97421834e-01,  1.23460107e-02,\n",
      "        2.05941368e-02, -1.22017659e-01, -2.83428937e-01, -8.86582807e-02,\n",
      "       -4.06057119e-01,  6.63985088e-02,  1.26234546e-01, -1.09244972e-01,\n",
      "        1.74410507e-01,  2.51200306e-03, -5.73837794e-02, -2.40778532e-02,\n",
      "        1.85043477e-02, -4.50285450e-02,  7.53256306e-03,  5.07513508e-02,\n",
      "       -3.62889878e-02, -1.44459829e-01,  2.85487324e-01, -1.26216829e-01,\n",
      "       -2.67916560e-01,  1.92960083e-01, -1.74196452e-01, -2.88953006e-01,\n",
      "       -9.93418172e-02,  7.86013454e-02,  3.14133137e-01, -1.42367125e-01,\n",
      "       -2.54078880e-02,  2.39659958e-02, -4.03333046e-02, -1.66815639e-01,\n",
      "       -3.79472040e-02, -2.77089149e-01, -2.85312265e-01, -1.24290250e-01,\n",
      "       -1.15683399e-01,  7.59671330e-02,  1.60122529e-01,  1.14061795e-02,\n",
      "       -2.28056461e-01, -2.65620232e-01])), ('lib', array([ 2.00000000e+00,  0.00000000e+00,  6.68000000e+02,  2.79000000e+02,\n",
      "        2.00000000e+01,  1.00000000e+00,  1.00000000e+00,  0.00000000e+00,\n",
      "        0.00000000e+00,  0.00000000e+00,  0.00000000e+00,  0.00000000e+00,\n",
      "        0.00000000e+00,  0.00000000e+00,  0.00000000e+00,  0.00000000e+00,\n",
      "        0.00000000e+00,  0.00000000e+00,  4.57958058e-02, -6.21479154e-02,\n",
      "       -1.92655008e-02, -1.00416578e-01,  2.45824885e-02, -2.40853757e-01,\n",
      "       -5.41628636e-02, -1.56319439e-01, -1.12253048e-01,  2.06362060e-03,\n",
      "        1.40144214e-01, -5.86969182e-02,  1.28489867e-01,  2.45716900e-01,\n",
      "       -3.61884326e-01,  1.82581067e-01,  6.40603481e-03,  1.74689159e-01,\n",
      "       -1.72852412e-01,  2.69902915e-01, -3.14012952e-02,  1.25147998e-01,\n",
      "        8.45788419e-03, -1.69085905e-01,  1.37858475e-02, -2.15138406e-01,\n",
      "        3.04703321e-02, -1.46147966e-01, -1.38498113e-01, -1.53982509e-02,\n",
      "        1.72587391e-02, -1.08959377e-01, -1.85420401e-02, -5.56086674e-02,\n",
      "        7.57541135e-02, -3.81682217e-02, -1.09259702e-01,  7.90047422e-02,\n",
      "        5.49680404e-02, -1.15812115e-01,  2.23679334e-01,  3.35480750e-01,\n",
      "        1.26635745e-01,  1.93139344e-01,  3.81894261e-01, -6.17192797e-02,\n",
      "       -2.94319421e-01,  4.92193066e-02,  1.03604987e-01,  2.72647172e-01,\n",
      "        1.12364769e-01, -2.05320969e-01, -1.01842389e-01,  1.10613666e-02,\n",
      "        2.35300839e-01,  5.00742048e-02, -2.15883046e-01, -8.07371587e-02,\n",
      "        3.39636765e-02,  2.61280686e-01,  1.77152872e-01, -4.34563965e-01,\n",
      "       -2.55690992e-01, -7.92051703e-02, -1.02654241e-01, -2.88935423e-01,\n",
      "       -3.76674309e-02, -1.09542422e-01,  1.56062201e-01, -8.94408226e-02,\n",
      "        1.31314427e-01, -1.13093764e-01, -2.61753350e-01, -1.27025709e-01,\n",
      "        3.83609198e-02,  8.14121366e-02, -3.43636066e-01, -8.19648504e-02,\n",
      "        1.85528204e-01, -1.02185614e-01, -4.98825312e-02,  9.24954377e-03,\n",
      "       -1.90734789e-01, -9.69822332e-02, -3.62183452e-01, -1.31337032e-01,\n",
      "        5.09012192e-02,  8.53546560e-02, -1.75920963e-01, -4.00630459e-02,\n",
      "       -1.66703612e-01, -1.65057495e-01,  1.76112249e-01, -4.27959189e-02,\n",
      "        2.78594822e-01, -6.48353342e-03,  4.86912020e-02, -2.12427661e-01,\n",
      "        1.03460126e-01, -1.62648752e-01, -8.20783898e-02,  1.26910480e-02,\n",
      "       -2.61042062e-02, -1.13317907e-01, -1.12760710e-02, -1.91126093e-02,\n",
      "       -1.41623959e-01,  1.20209381e-01, -1.13823041e-01, -5.33057749e-02,\n",
      "       -6.44714162e-02, -2.47217361e-02,  1.62741914e-02, -7.79566839e-02,\n",
      "       -9.37897116e-02, -5.37785590e-02, -2.34429419e-01, -8.58708401e-04,\n",
      "       -1.77512132e-02, -2.78674275e-01, -9.87743139e-02,  6.28947094e-02,\n",
      "       -1.79701909e-01,  1.48493033e-02,  1.14436925e-03,  4.84015010e-02,\n",
      "       -6.75253421e-02, -1.45040736e-01])), ('lib', array([ 2.27272727e+00,  2.75974026e-02,  1.08500000e+03,  4.11000000e+02,\n",
      "        3.10000000e+01,  6.00000000e+00,  6.00000000e+00,  1.00000000e+00,\n",
      "        0.00000000e+00,  0.00000000e+00,  0.00000000e+00,  0.00000000e+00,\n",
      "        0.00000000e+00,  0.00000000e+00,  0.00000000e+00,  0.00000000e+00,\n",
      "        0.00000000e+00,  0.00000000e+00,  9.04876962e-02, -1.77522048e-01,\n",
      "       -4.56302008e-03,  1.78163782e-01, -6.79084212e-02, -3.94420549e-02,\n",
      "       -2.26985738e-01, -2.62086213e-01, -1.70410395e-01, -1.44116342e-01,\n",
      "        9.51817259e-02,  1.35276273e-01,  1.98878665e-02, -9.68342647e-02,\n",
      "       -8.59085694e-02,  3.34011227e-01, -2.72856086e-01,  1.99906006e-01,\n",
      "        9.46503803e-02,  1.90125674e-01, -7.49909580e-02,  6.34172335e-02,\n",
      "       -7.38562047e-02,  9.67860296e-02, -1.76817864e-01, -2.97520965e-01,\n",
      "       -1.21681066e-02, -1.92074046e-01, -1.39091432e-01,  7.46776983e-02,\n",
      "       -1.32058635e-02, -1.49171904e-01,  1.79169625e-01, -4.06128690e-02,\n",
      "        1.52736142e-01, -9.51126218e-02,  6.87603578e-02,  2.51932740e-01,\n",
      "       -2.90221651e-04, -1.19037762e-01,  1.78197056e-01,  1.71164319e-01,\n",
      "        6.72970638e-02,  3.27807248e-01,  1.29389748e-01,  3.41874384e-03,\n",
      "       -8.82779341e-03, -1.06752247e-01,  1.49023712e-01,  6.51165424e-03,\n",
      "       -6.66119084e-02, -5.40298037e-02, -1.71931267e-01, -1.61899447e-01,\n",
      "        2.55828410e-01,  4.11350206e-02,  2.70533971e-02, -2.13336244e-01,\n",
      "       -2.17785258e-02,  1.84037581e-01,  1.32144541e-01, -2.89146453e-01,\n",
      "        1.16979927e-01,  1.37560358e-02, -5.83924800e-02,  1.31241679e-01,\n",
      "        2.11278394e-01, -1.33280680e-01,  2.57353634e-01,  1.36809453e-01,\n",
      "       -7.94449598e-02, -1.63283292e-02,  1.72120519e-02, -8.46280083e-02,\n",
      "        1.51692986e-01, -1.60321426e-02, -1.80811360e-01, -1.88894361e-01,\n",
      "        2.88219541e-01, -1.78754404e-01,  8.85252878e-02, -1.52224734e-01,\n",
      "       -7.15489611e-02,  1.63774714e-01, -3.37871134e-01, -3.45707506e-01,\n",
      "       -7.09340498e-02,  8.34107101e-02, -2.12921351e-01, -2.85698306e-02,\n",
      "        7.56934434e-02,  1.16994292e-01,  1.08120807e-01,  7.83656314e-02,\n",
      "        1.17104501e-01,  2.28866842e-03, -1.47482619e-01, -2.04947546e-01,\n",
      "        1.83751956e-01, -3.45199913e-01, -9.61036682e-02, -7.75279105e-02,\n",
      "       -1.29075974e-01, -1.17130853e-01,  6.21017441e-02,  2.39130333e-02,\n",
      "       -8.97277743e-02,  6.40339032e-02,  1.11183167e-01,  1.02569096e-01,\n",
      "       -3.02778900e-01,  1.45201394e-02, -8.20791274e-02,  7.65621709e-03,\n",
      "       -3.09062265e-02,  1.79652318e-01, -1.49256170e-01,  1.67925528e-03,\n",
      "       -2.70898100e-02, -3.69099826e-02, -1.74051508e-01, -1.02140352e-01,\n",
      "       -6.26330003e-02,  1.12114005e-01,  1.40672550e-01, -4.81323034e-01,\n",
      "       -1.90495083e-03, -2.27162108e-01])), ('lib', array([ 2.09090909e+00,  0.00000000e+00,  1.12800000e+03,  3.68000000e+02,\n",
      "        2.20000000e+01,  1.00000000e+00,  1.00000000e+00,  0.00000000e+00,\n",
      "        0.00000000e+00,  1.60000000e+01,  2.00000000e+00,  2.00000000e+00,\n",
      "        0.00000000e+00,  0.00000000e+00,  0.00000000e+00,  0.00000000e+00,\n",
      "        0.00000000e+00,  0.00000000e+00,  1.14115672e-02, -1.34414837e-01,\n",
      "       -1.94685280e-01,  1.19885199e-01,  2.18839318e-01, -1.03447765e-01,\n",
      "       -1.19031273e-01, -2.45997965e-01,  1.04006834e-01,  5.42771332e-02,\n",
      "       -3.40684596e-03,  3.29080187e-02,  1.97937235e-01, -5.68429604e-02,\n",
      "       -1.53782383e-01,  8.19688812e-02, -2.67227679e-01,  1.06982283e-01,\n",
      "        6.94365501e-02,  5.33939563e-02,  1.10199898e-01,  1.57198891e-01,\n",
      "       -1.20974839e-01, -6.39639348e-02,  1.42196685e-01,  7.80961141e-02,\n",
      "       -5.26387170e-02,  3.51064769e-03, -6.61060512e-02, -6.02875091e-02,\n",
      "       -2.36474082e-01, -2.43691951e-01,  1.73752699e-02,  3.89224179e-02,\n",
      "        2.21921131e-01, -1.99319586e-01,  6.39250576e-02,  8.18284303e-02,\n",
      "       -1.28235638e-01, -1.07589133e-01,  4.24874797e-02,  1.02097960e-03,\n",
      "       -1.83100313e-01,  4.85336818e-02,  2.72833586e-01, -2.62857750e-02,\n",
      "       -5.97279817e-02, -3.52301180e-01,  3.03523857e-02,  2.68805683e-01,\n",
      "        4.24047001e-02, -5.22481263e-01, -6.62659807e-03, -7.39224404e-02,\n",
      "        2.49216497e-01,  7.90661275e-02, -1.84535429e-01,  1.86517425e-02,\n",
      "       -3.89066279e-01,  9.21176225e-02,  2.56155312e-01, -1.02260858e-01,\n",
      "       -8.99714753e-02,  7.36882240e-02, -2.14281291e-01, -1.71590656e-01,\n",
      "        1.43304497e-01, -3.31234425e-01,  2.55101740e-01, -8.98836404e-02,\n",
      "       -2.04597160e-01, -1.79584339e-01, -6.61506727e-02,  5.03103994e-02,\n",
      "        9.90643799e-02, -7.29927346e-02, -1.86552573e-02,  1.20388396e-01,\n",
      "        6.96913451e-02, -2.25493703e-02,  1.49821147e-01, -3.15570645e-02,\n",
      "       -3.62333596e-01,  2.09430143e-01, -2.85542578e-01,  5.26394546e-02,\n",
      "       -1.08227327e-01,  1.32004440e-01, -6.96570352e-02, -8.28860421e-03,\n",
      "       -3.81404087e-02,  1.40361302e-02, -1.95812285e-02,  1.94206238e-01,\n",
      "       -1.55025139e-01, -2.94429451e-01, -1.31179541e-01, -2.59667402e-03,\n",
      "        1.13634013e-01,  2.58018933e-02,  1.36360556e-01,  5.83047085e-02,\n",
      "       -2.27956235e-01, -1.03090286e-01,  1.04100183e-01, -1.29098058e-01,\n",
      "       -2.32902154e-01,  2.43270829e-01,  2.77626086e-02, -1.07472360e-01,\n",
      "       -1.43639818e-01, -2.38218475e-02, -1.50537873e-02,  1.18972585e-01,\n",
      "       -3.41732681e-01, -3.49934101e-01, -1.07059486e-01,  8.30914676e-02,\n",
      "       -4.60078046e-02, -1.97842702e-01, -1.94844097e-01, -1.76981464e-02,\n",
      "       -6.33765534e-02, -1.00719213e-01, -1.08065918e-01, -2.15450719e-01,\n",
      "        1.48875862e-01, -2.22492993e-01])), ('lib', array([ 2.08333333e+00,  0.00000000e+00,  1.50600000e+03,  4.86000000e+02,\n",
      "        2.80000000e+01,  2.00000000e+00,  2.00000000e+00,  0.00000000e+00,\n",
      "        0.00000000e+00,  0.00000000e+00,  0.00000000e+00,  0.00000000e+00,\n",
      "        0.00000000e+00,  0.00000000e+00,  0.00000000e+00,  0.00000000e+00,\n",
      "        0.00000000e+00,  0.00000000e+00, -3.80647928e-01, -1.32864211e-02,\n",
      "        3.34406942e-02, -4.23880666e-03, -2.39969641e-01, -1.00301936e-01,\n",
      "        3.57991806e-03,  8.08784366e-02, -1.19936697e-01, -1.68059826e-01,\n",
      "        1.14232086e-01, -2.57642418e-01,  1.49134189e-01, -1.20899878e-01,\n",
      "       -4.48838733e-02,  2.61178203e-02,  1.75273083e-02,  2.09814664e-02,\n",
      "        7.04558566e-02,  1.25623479e-01, -2.28424985e-02,  1.01183578e-01,\n",
      "       -6.66097403e-02,  1.95503756e-01,  1.52741119e-01, -4.50700596e-02,\n",
      "        9.03145671e-02, -2.67115217e-02, -3.45220685e-01, -1.62783358e-02,\n",
      "        1.06553167e-01, -1.99202582e-01,  1.51352938e-02, -1.35456905e-01,\n",
      "        5.35050221e-02, -6.99242903e-03, -8.59594941e-02,  1.39651641e-01,\n",
      "       -1.47270877e-02, -7.15220720e-02, -1.62404418e-01,  2.52248526e-01,\n",
      "       -2.60031670e-01,  2.62551513e-02,  3.07389766e-01,  7.01860897e-03,\n",
      "       -9.45411697e-02, -2.13412061e-01,  2.27294743e-01,  2.12073058e-01,\n",
      "       -9.92952380e-03, -2.37135570e-02, -9.68025178e-02, -1.05345681e-01,\n",
      "        4.89893332e-02, -1.49548324e-02, -4.25714925e-02, -1.96768209e-01,\n",
      "       -8.59933794e-02,  2.29407981e-01,  1.45858213e-01, -1.84322000e-01,\n",
      "       -1.95170026e-02,  7.67245814e-02,  5.26489466e-02,  2.82914221e-01,\n",
      "       -2.21426245e-02, -1.61587596e-01,  1.39429837e-01,  1.25654146e-01,\n",
      "        9.39241946e-02, -1.46340296e-01, -1.78941458e-01,  7.59813422e-03,\n",
      "        2.36589704e-02,  3.99347842e-02, -1.37362555e-01,  2.90343612e-01,\n",
      "        1.77179307e-01,  2.39592791e-02,  6.51995316e-02, -3.98028344e-01,\n",
      "       -2.23075762e-01,  1.05317980e-01, -8.30615014e-02, -4.62710895e-02,\n",
      "       -2.13533714e-02,  1.09690204e-01, -2.17359904e-02,  9.79994908e-02,\n",
      "        5.74408565e-04, -4.18494910e-01, -1.29495069e-01,  2.16569677e-01,\n",
      "        6.64555654e-02, -2.59326696e-01, -2.00840831e-02, -2.44389817e-01,\n",
      "       -5.76296598e-02, -2.31703550e-01, -4.99295704e-02, -3.57584059e-01,\n",
      "       -3.33040431e-02, -2.31895879e-01, -1.21407572e-03, -1.50429845e-01,\n",
      "       -3.18278313e-01,  9.52065215e-02, -2.07674563e-01,  2.96988226e-02,\n",
      "       -1.24597341e-01,  7.18681589e-02,  1.14918396e-01,  5.03280722e-02,\n",
      "       -2.21010774e-01, -8.88928995e-02, -2.75612064e-02,  4.79567088e-02,\n",
      "        1.60346001e-01, -1.25291213e-01, -1.96188152e-01, -3.43386345e-02,\n",
      "        2.10290760e-01,  1.97286252e-02,  8.79529417e-02, -2.10369781e-01,\n",
      "       -1.08218782e-01,  3.22825238e-02])), ('lib', array([ 2.25000000e+00,  0.00000000e+00,  3.39000000e+02,  1.90000000e+02,\n",
      "        2.40000000e+01,  3.00000000e+00,  4.00000000e+00,  0.00000000e+00,\n",
      "        0.00000000e+00,  0.00000000e+00,  0.00000000e+00,  0.00000000e+00,\n",
      "        0.00000000e+00,  0.00000000e+00,  0.00000000e+00,  0.00000000e+00,\n",
      "        0.00000000e+00,  0.00000000e+00, -6.20484054e-02, -1.31942838e-01,\n",
      "        1.17944833e-02,  9.39506292e-02, -6.19448721e-03, -7.91684166e-02,\n",
      "       -2.32804134e-01, -8.27959552e-02, -3.10735315e-01, -2.83124566e-01,\n",
      "        2.17378169e-01, -1.08390218e-02,  2.96521723e-01, -1.37136713e-01,\n",
      "       -1.14435114e-01,  1.39581665e-01,  4.04221155e-02, -3.76727208e-02,\n",
      "       -1.16825886e-01,  2.12520793e-01, -2.81256754e-02,  4.24173892e-01,\n",
      "       -1.46393135e-01, -9.14453939e-02,  1.13055944e-01, -8.31194669e-02,\n",
      "        1.75064951e-01, -1.11123227e-01, -2.30774522e-01, -1.99304800e-02,\n",
      "       -1.14824601e-01,  8.01489875e-03,  1.56826980e-03, -3.11685503e-02,\n",
      "        3.81168723e-02, -5.98924085e-02, -1.11198589e-01,  1.25801757e-01,\n",
      "        8.72275382e-02, -6.50690049e-02,  5.90008013e-02,  5.12643903e-02,\n",
      "       -9.06905308e-02, -4.22247499e-02,  2.69352227e-01,  1.29337385e-01,\n",
      "       -2.52706438e-01, -1.23271935e-01,  1.07879072e-01, -1.65927801e-02,\n",
      "       -7.34298155e-02, -1.50628731e-01,  5.19098416e-02, -1.63087919e-01,\n",
      "        1.02878124e-01, -1.13211818e-01, -1.40654832e-01, -1.57822400e-01,\n",
      "       -5.01391664e-02,  2.63300657e-01,  1.65869609e-01, -1.64120197e-01,\n",
      "       -1.47057921e-01, -1.06739283e-01, -2.49228522e-01, -3.68761062e-03,\n",
      "        7.52728432e-02, -6.50675446e-02,  3.23992729e-01, -1.06942840e-01,\n",
      "        1.24680502e-02, -3.24282110e-01,  4.97005396e-02,  1.10764377e-01,\n",
      "        1.09809004e-01,  1.10651620e-01, -2.04633757e-01,  2.15920836e-01,\n",
      "        8.37432519e-02, -2.00097468e-02,  2.70987242e-01,  2.30524570e-01,\n",
      "       -1.75444424e-01,  9.49788541e-02, -3.81647199e-02, -2.46484485e-03,\n",
      "       -2.88698226e-01,  7.80019537e-03,  1.73696689e-02, -1.59274936e-01,\n",
      "        1.94594324e-01, -2.50497431e-01,  2.99090538e-02,  8.79646316e-02,\n",
      "        9.90648791e-02, -2.47940257e-01, -1.16391927e-01,  4.23779245e-03,\n",
      "        2.65535358e-02, -1.41845927e-01, -1.68306753e-02, -1.51373297e-01,\n",
      "       -4.55255002e-01, -9.53432471e-02,  1.23424068e-01, -1.58196360e-01,\n",
      "       -3.98772545e-02, -1.71787709e-01, -2.42549956e-01, -2.56088316e-01,\n",
      "       -2.97614396e-01, -8.86611640e-02,  1.70443907e-01,  4.56201173e-02,\n",
      "       -1.41174927e-01, -5.38207889e-02, -3.49255979e-01,  1.99934334e-01,\n",
      "        3.05675834e-01, -2.91229457e-01, -1.36634022e-01, -1.28647223e-01,\n",
      "        1.43918404e-02,  1.97187364e-02,  2.25971546e-02,  5.96420802e-02,\n",
      "       -7.95823038e-02, -1.57306626e-01])), ('lib', array([ 2.23076923e+00,  2.37179487e-02,  1.95100000e+03,  6.03000000e+02,\n",
      "        3.50000000e+01,  5.00000000e+00,  5.00000000e+00,  1.00000000e+00,\n",
      "        0.00000000e+00,  0.00000000e+00,  0.00000000e+00,  0.00000000e+00,\n",
      "        0.00000000e+00,  0.00000000e+00,  0.00000000e+00,  0.00000000e+00,\n",
      "        0.00000000e+00,  0.00000000e+00,  9.29688960e-02, -2.95694828e-01,\n",
      "       -6.86587989e-02,  1.17472090e-01,  4.10510391e-01,  9.42219421e-02,\n",
      "       -3.08606595e-01, -3.02104741e-01, -9.36655030e-02,  1.26589462e-01,\n",
      "        6.47301078e-02,  8.20026919e-02,  4.77374978e-02, -1.21704094e-01,\n",
      "       -2.35699750e-02, -5.94392903e-02, -2.82511532e-01,  1.77344251e-02,\n",
      "        1.77918628e-01, -6.01813942e-02, -6.73875734e-02, -4.26575653e-02,\n",
      "        1.58347055e-01,  3.77620421e-02, -3.64795066e-02, -1.96097121e-01,\n",
      "        4.00032215e-02, -1.50905788e-01, -2.96038121e-01, -1.53493777e-01,\n",
      "       -4.15400453e-02, -1.62456542e-01, -1.10851079e-01, -2.77185768e-01,\n",
      "        1.08926073e-01, -1.03744090e-01, -7.57399946e-02,  7.64051601e-02,\n",
      "        2.60967333e-02, -1.20812200e-01, -1.31394818e-01,  9.51138884e-02,\n",
      "       -2.15958416e-01,  1.51688717e-02,  1.54704705e-01,  1.79218948e-01,\n",
      "       -2.07598088e-03,  6.02740841e-03, -1.32580563e-01,  2.66664863e-01,\n",
      "       -3.34782094e-01,  4.85075153e-02, -1.55899286e-01, -1.94645002e-01,\n",
      "        1.30712882e-01,  5.68217412e-03,  1.08497895e-01, -2.11071089e-01,\n",
      "       -1.15613721e-01,  2.01930702e-02,  2.71455795e-01, -1.80119157e-01,\n",
      "       -1.13112219e-02, -2.93309689e-01, -4.82450426e-03, -9.10845324e-02,\n",
      "        8.09291378e-02, -2.12251484e-01,  1.09216586e-01,  7.54865035e-02,\n",
      "        6.77838549e-02, -2.17171580e-01, -2.05894232e-01, -2.61271209e-01,\n",
      "        1.47492662e-01,  2.09402546e-01,  1.83605656e-01,  6.96607828e-02,\n",
      "        7.41761411e-03, -2.81695187e-01,  1.04687676e-01, -3.09237633e-02,\n",
      "       -1.33108154e-01,  2.67695561e-02, -2.17585981e-01, -1.60182804e-01,\n",
      "        2.47206226e-01,  4.45954353e-02,  7.25631714e-02, -3.70523483e-02,\n",
      "        6.47233501e-02, -1.31834999e-01,  5.18672541e-02,  4.31868397e-02,\n",
      "        9.84222963e-02, -9.42130759e-02, -5.22072576e-02, -2.52835825e-02,\n",
      "       -1.18783392e-01, -4.07161377e-02,  1.55164495e-01,  2.06298515e-01,\n",
      "       -1.18586630e-01, -2.17099041e-02, -9.70704108e-03, -1.78464446e-02,\n",
      "       -3.08419257e-01, -1.85022742e-01, -1.98343873e-01, -1.99048340e-01,\n",
      "       -6.84594214e-02,  5.44433035e-02,  2.88337320e-01, -2.26400778e-01,\n",
      "       -1.17138639e-01, -1.35152549e-01, -5.04914336e-02,  8.98399651e-02,\n",
      "        1.46709681e-01, -1.23743109e-01, -1.95572838e-01,  1.94925398e-01,\n",
      "        3.68527919e-02,  2.75324713e-02,  1.94346458e-01, -3.34870219e-01,\n",
      "       -1.21100873e-01, -1.78324834e-01])), ('lib', array([ 2.58823529e+00,  0.00000000e+00,  4.14000000e+02,  2.08000000e+02,\n",
      "        3.10000000e+01,  6.00000000e+00,  6.00000000e+00,  0.00000000e+00,\n",
      "        0.00000000e+00,  9.00000000e+00,  3.00000000e+00,  3.00000000e+00,\n",
      "        0.00000000e+00,  0.00000000e+00,  0.00000000e+00,  0.00000000e+00,\n",
      "        0.00000000e+00,  0.00000000e+00, -3.61230165e-01, -4.72192794e-01,\n",
      "        4.13255841e-02,  4.75959480e-02,  1.34250030e-01, -9.06955898e-02,\n",
      "       -5.49175292e-02, -3.38878095e-01, -6.86835498e-02, -6.49180263e-02,\n",
      "       -6.65766373e-02, -9.05696154e-02,  2.75700867e-01,  1.58335298e-01,\n",
      "       -5.04824445e-02,  7.28500728e-03, -1.97376939e-03,  7.15963170e-02,\n",
      "        9.61331800e-02,  2.76452124e-01, -6.27765432e-02,  1.74611747e-01,\n",
      "       -9.27406829e-03,  4.11307849e-02, -1.47118688e-01, -1.15518965e-01,\n",
      "        1.43904299e-01, -2.78145343e-01,  6.46686703e-02, -1.09047934e-01,\n",
      "       -2.54210532e-02, -2.40112394e-01,  1.41801983e-01, -1.94248721e-01,\n",
      "        3.72929424e-02,  6.66558668e-02, -7.24290535e-02, -8.92520044e-03,\n",
      "       -8.49509984e-02, -6.21409938e-02, -3.63251686e-01,  9.25612524e-02,\n",
      "       -1.19397856e-01,  1.74127698e-01,  1.57566115e-01,  7.97955096e-02,\n",
      "       -3.88255864e-02,  1.89148448e-02,  2.56985009e-01,  2.29894504e-01,\n",
      "        5.91481961e-02, -1.10923514e-01,  1.22313514e-01, -2.25094318e-01,\n",
      "        1.22279273e-02,  1.89976394e-01,  2.41970867e-01, -2.06192955e-01,\n",
      "       -2.00492933e-01, -2.70258803e-02,  1.72394797e-01, -2.44021609e-01,\n",
      "       -9.86760706e-02,  2.50831731e-02, -4.34617326e-02,  1.00631416e-01,\n",
      "       -3.84861305e-02, -1.05824627e-01,  1.02551736e-01, -1.94331363e-01,\n",
      "        8.21129307e-02, -1.35278746e-01, -1.78553894e-01,  2.17602104e-01,\n",
      "        9.73745901e-03, -2.94070430e-02, -5.04075587e-02, -4.68990691e-02,\n",
      "       -6.22169636e-02, -1.61483511e-02,  1.27368644e-01,  2.93446835e-02,\n",
      "       -1.31692633e-01,  1.71808615e-01, -2.85286158e-01, -8.00556913e-02,\n",
      "        3.86462063e-02, -1.91274844e-03, -9.49392375e-03, -2.85098225e-01,\n",
      "       -1.09517045e-01, -1.77673995e-01, -4.66687232e-02,  5.92220239e-02,\n",
      "       -4.24905829e-02, -7.63235912e-02,  7.06697628e-02, -1.82638779e-01,\n",
      "       -2.67315228e-02, -8.25743899e-02, -3.09845030e-01,  9.81809795e-02,\n",
      "       -1.55475840e-01,  2.11261526e-01, -3.98426689e-02,  6.90892562e-02,\n",
      "       -1.30836308e-01,  1.03466004e-01, -1.03343941e-01, -7.11757690e-02,\n",
      "       -6.95611611e-02,  8.64478294e-03,  2.25821167e-01,  2.27806512e-02,\n",
      "       -8.92521441e-02, -2.64687330e-01, -1.78536236e-01, -5.74208312e-02,\n",
      "        1.68524265e-01, -1.25155106e-01, -2.68128783e-01,  1.21406250e-01,\n",
      "        4.01891358e-02,  2.84926206e-01,  8.64866003e-03, -3.52372169e-01,\n",
      "       -8.81163403e-02, -2.41546169e-01])), ('lib', array([ 2.10526316e+00,  0.00000000e+00,  6.69000000e+02,  2.62000000e+02,\n",
      "        1.90000000e+01,  1.00000000e+00,  1.00000000e+00,  0.00000000e+00,\n",
      "        0.00000000e+00,  1.50000000e+01,  1.00000000e+00,  1.00000000e+00,\n",
      "        0.00000000e+00,  0.00000000e+00,  0.00000000e+00,  0.00000000e+00,\n",
      "        0.00000000e+00,  0.00000000e+00, -1.17346689e-01, -7.72415996e-02,\n",
      "       -1.10411912e-01,  2.14079201e-01, -1.65354639e-01, -1.36926055e-01,\n",
      "       -1.12771867e-02,  1.82225648e-02, -2.73179233e-01, -1.30770624e-01,\n",
      "       -4.28858097e-04,  1.12604842e-01, -1.64089605e-01,  3.44993353e-01,\n",
      "        1.11003101e-01,  1.02683857e-01, -1.90345287e-01,  4.91370782e-02,\n",
      "        9.29892063e-02,  1.60582259e-01,  9.61251259e-02,  2.66798269e-02,\n",
      "       -3.19076359e-01,  9.78586227e-02, -2.32586935e-02, -7.61195719e-02,\n",
      "        1.13994382e-01, -1.87476143e-01, -1.54597402e-01, -1.31107301e-01,\n",
      "       -9.03365314e-02, -1.62590146e-02, -6.29057959e-02, -8.53903517e-02,\n",
      "        2.17791609e-02, -6.25978038e-02,  8.19336176e-02,  1.61027446e-01,\n",
      "       -8.87198374e-02,  7.12680444e-02,  1.37283176e-01,  3.37005049e-01,\n",
      "       -1.27976641e-01,  1.67386055e-01,  2.37458423e-01,  2.04622801e-02,\n",
      "        3.24871570e-01, -1.13110267e-01, -1.64108023e-01,  4.30352092e-01,\n",
      "       -7.73156136e-02, -1.24332927e-01,  2.42765155e-02, -5.98714650e-02,\n",
      "        2.70271569e-01, -2.37578750e-02,  1.44095913e-01, -2.25866228e-01,\n",
      "       -1.22411745e-02,  2.29393631e-01,  2.65732646e-01, -4.50723618e-01,\n",
      "       -1.53078407e-01, -1.80489495e-01,  1.79094039e-02, -7.65012950e-02,\n",
      "        1.12322353e-01, -1.49430737e-01,  2.15208024e-01, -7.36403838e-03,\n",
      "       -1.16927765e-01, -8.91887918e-02, -1.31754696e-01,  2.62872010e-01,\n",
      "        1.65365949e-01,  2.31942743e-01, -2.53365904e-01, -2.30263323e-01,\n",
      "       -1.41903870e-02, -2.37267181e-01,  1.52627587e-01, -9.55789089e-02,\n",
      "        4.83916663e-02,  1.02435894e-01, -2.13963285e-01,  1.25997895e-02,\n",
      "        5.77990524e-02, -8.86422470e-02, -4.77173291e-02, -2.53132582e-02,\n",
      "        1.58025876e-01, -4.47130740e-01, -4.00339141e-02, -2.33810261e-01,\n",
      "        1.26811266e-01, -7.19982311e-02, -8.77036527e-02, -1.64856583e-01,\n",
      "       -1.01184420e-01, -9.81051996e-02,  9.64017436e-02,  1.00814708e-01,\n",
      "       -4.55097184e-02, -9.62560326e-02,  1.71997502e-01, -3.42913740e-03,\n",
      "       -1.23532578e-01,  2.43996680e-02, -1.94539607e-01,  1.47058323e-01,\n",
      "        6.94357753e-02,  1.51040450e-01,  5.82419336e-02,  3.84348892e-02,\n",
      "       -2.62428850e-01,  1.16626464e-01, -4.60716002e-02,  1.41936779e-01,\n",
      "        2.52410620e-02, -2.87338793e-01, -1.68172956e-01, -5.77032380e-02,\n",
      "       -1.49400800e-01, -2.21527014e-02,  1.08536743e-01, -1.95029452e-01,\n",
      "       -3.27566341e-02,  1.93026513e-02])), ('lib', array([ 2.06060606e+00,  2.02020202e-02,  4.44200000e+03,  9.75000000e+02,\n",
      "        3.40000000e+01,  2.00000000e+00,  2.00000000e+00,  1.00000000e+00,\n",
      "        0.00000000e+00,  0.00000000e+00,  0.00000000e+00,  0.00000000e+00,\n",
      "        0.00000000e+00,  0.00000000e+00,  0.00000000e+00,  0.00000000e+00,\n",
      "        0.00000000e+00,  0.00000000e+00, -2.23037735e-01,  2.84918454e-02,\n",
      "       -2.81813890e-01, -1.20487936e-01, -7.30851218e-02, -5.08455969e-02,\n",
      "        2.82121837e-01, -1.99853644e-01,  1.19846053e-01,  4.51420806e-03,\n",
      "        7.41030201e-02, -6.87440410e-02,  5.81504479e-02,  1.47349551e-01,\n",
      "        1.85410663e-01,  2.16098651e-01, -1.54744670e-01, -6.27799258e-02,\n",
      "       -7.94561300e-03,  6.62207156e-02, -2.13904455e-01,  2.41850153e-01,\n",
      "       -5.38701899e-02,  2.66780108e-01,  2.85956949e-01, -1.76221535e-01,\n",
      "       -8.23823586e-02, -8.92493234e-04, -2.97163911e-02, -5.69872931e-02,\n",
      "        1.10014072e-02, -7.72587657e-02,  1.19520098e-01, -1.41266510e-01,\n",
      "        1.68592706e-02,  1.11378461e-01,  1.39642090e-01, -8.75325426e-02,\n",
      "        1.54880211e-01, -2.81571299e-01, -6.70427531e-02, -2.86805481e-01,\n",
      "       -2.15007752e-01,  7.96613321e-02,  1.20916450e-02,  4.52867448e-02,\n",
      "        1.53300905e-04,  2.56138980e-01,  3.14901143e-01,  5.16092330e-02,\n",
      "       -6.57760426e-02, -1.09603278e-01, -2.15971366e-01,  3.37274931e-02,\n",
      "        2.37703666e-01,  1.45712674e-01, -1.51848182e-01,  1.08954445e-01,\n",
      "       -4.89144139e-02,  1.12059593e-01,  5.46215177e-02, -2.05983669e-01,\n",
      "       -5.75042032e-02, -1.46069527e-01, -2.18495443e-01,  8.82024840e-02,\n",
      "        1.30149856e-01,  1.47777021e-01,  1.73936173e-01, -6.97940364e-02,\n",
      "        1.10956520e-01,  3.09501048e-02,  1.34826638e-02, -2.89365575e-02,\n",
      "       -8.29052180e-03,  2.52025038e-01, -2.14531701e-02,  1.50622457e-01,\n",
      "       -1.67629719e-01, -1.61190536e-02,  4.03417200e-02,  5.23342267e-02,\n",
      "        7.02452362e-02, -3.15832198e-02, -1.18539631e-01,  3.89761962e-02,\n",
      "       -4.94665727e-02,  2.75109559e-02, -4.39757347e-01, -9.36156735e-02,\n",
      "        6.89111874e-02, -1.34256586e-01,  9.41960514e-02,  1.02436312e-01,\n",
      "        5.43768853e-02, -1.02840945e-01, -1.15323596e-01,  1.51589327e-02,\n",
      "        9.56671163e-02,  1.71191022e-01, -7.70448446e-02, -1.92103371e-01,\n",
      "       -1.83315784e-01, -3.27118576e-01, -1.63372949e-01, -9.49954167e-02,\n",
      "       -1.98753521e-01,  1.80256693e-03, -3.43324929e-01,  1.27813458e-01,\n",
      "       -1.60589442e-01, -1.11728176e-01,  2.22500652e-01, -5.77883841e-03,\n",
      "       -2.56720990e-01, -2.39673719e-01,  1.69657499e-01,  1.55166730e-01,\n",
      "        1.25456214e-01, -1.40099481e-01,  1.93057023e-02, -7.08862692e-02,\n",
      "       -1.53508678e-01, -5.52265421e-02, -1.49808064e-01, -4.10189837e-01,\n",
      "       -1.41726673e-01, -2.31605262e-01])), ('lib', array([ 2.63157895e+00,  1.77387914e-02,  6.15000000e+02,  2.91000000e+02,\n",
      "        3.20000000e+01,  7.00000000e+00,  5.00000000e+00,  1.00000000e+00,\n",
      "        1.00000000e+00,  1.10000000e+01,  3.00000000e+00,  3.00000000e+00,\n",
      "        0.00000000e+00,  0.00000000e+00,  0.00000000e+00,  0.00000000e+00,\n",
      "        0.00000000e+00,  0.00000000e+00,  1.66308239e-01, -2.27257460e-01,\n",
      "       -1.92230225e-01,  2.61212066e-02,  2.58804381e-01,  5.22388006e-03,\n",
      "       -1.25323623e-01, -3.95898707e-02, -2.42265314e-01, -1.00995384e-01,\n",
      "       -1.93338379e-01,  2.04770997e-01,  1.94274381e-01,  6.76106429e-04,\n",
      "       -1.47393256e-01,  7.95550644e-02, -1.35720134e-01,  3.04845840e-01,\n",
      "       -1.67630240e-01,  2.08830148e-01,  1.24469876e-01,  2.37593606e-01,\n",
      "        9.86641739e-03, -9.47315544e-02, -6.41980693e-02, -1.69345394e-01,\n",
      "        9.38450173e-02, -2.26726010e-01, -1.01839468e-01,  6.38779067e-03,\n",
      "        1.76533863e-01, -1.10347919e-01,  1.60674118e-02, -1.93594158e-01,\n",
      "        1.29942924e-01,  1.30687103e-01,  1.28699064e-01,  8.43434483e-02,\n",
      "        2.18828380e-01, -1.89902395e-01, -2.30795592e-01,  1.10281460e-01,\n",
      "       -1.30215511e-01,  1.22052878e-01,  2.92323142e-01, -1.20890811e-01,\n",
      "       -1.22927569e-01, -2.16121934e-02,  5.58616892e-02, -5.87398149e-02,\n",
      "       -1.82802856e-01, -9.39575583e-02, -1.14575021e-01, -1.37703791e-01,\n",
      "        3.60151201e-01,  3.76886986e-02, -1.89460501e-01, -2.54416913e-01,\n",
      "       -2.05644649e-02,  2.74771392e-01,  1.44795552e-01, -2.63917804e-01,\n",
      "       -1.61631018e-01,  6.27536103e-02, -8.35440904e-02,  1.81260973e-01,\n",
      "        1.49992080e-02, -2.10170016e-01,  3.98917496e-02,  5.94947785e-02,\n",
      "        5.79920746e-02, -1.33501902e-01, -6.15321510e-02,  7.12172389e-02,\n",
      "        8.77955407e-02, -4.03919406e-02, -2.80274361e-01, -9.20843259e-02,\n",
      "        5.58033288e-02,  1.43950671e-01,  1.79290608e-01,  6.10821787e-03,\n",
      "        4.16191667e-03,  1.32665941e-02, -6.48121238e-02, -1.12163052e-01,\n",
      "       -9.88817513e-02,  2.66447589e-02, -1.58119366e-01,  1.70489214e-02,\n",
      "       -1.14210479e-01,  7.96122104e-02,  1.18683718e-01,  1.09212007e-02,\n",
      "       -1.77536100e-01,  1.29400074e-01,  2.47718483e-01, -1.68122388e-02,\n",
      "        1.46965891e-01, -9.32118017e-03, -3.75870503e-02, -1.10949732e-01,\n",
      "       -1.79237738e-01,  1.21886186e-01,  4.49746102e-02, -2.27143858e-02,\n",
      "       -6.57753348e-02, -1.56811550e-01,  2.73308363e-02, -2.05982044e-01,\n",
      "       -8.54680166e-02,  6.03245981e-02,  2.74340868e-01,  1.26219019e-01,\n",
      "       -2.11224332e-01,  1.31115578e-02, -3.06350648e-01, -5.54356165e-02,\n",
      "        1.61151052e-01,  8.30168501e-02, -1.42159328e-01, -1.82662293e-01,\n",
      "        3.43347102e-01,  1.90660045e-01,  3.41482162e-01, -2.99800932e-01,\n",
      "       -1.51226848e-01, -9.75342840e-03])), ('lib', array([ 2.25000000e+00,  6.47321429e-02,  3.58000000e+02,  1.59000000e+02,\n",
      "        1.20000000e+01,  1.00000000e+00,  1.00000000e+00,  1.00000000e+00,\n",
      "        0.00000000e+00,  2.20000000e+01,  3.00000000e+00,  3.00000000e+00,\n",
      "        0.00000000e+00,  0.00000000e+00,  0.00000000e+00,  0.00000000e+00,\n",
      "        0.00000000e+00,  0.00000000e+00, -2.00349763e-01, -1.30059004e-01,\n",
      "       -1.51147723e-01,  1.14957795e-01, -4.51796316e-02, -6.30789101e-02,\n",
      "       -1.44921079e-01, -1.71761706e-01, -1.50870070e-01, -2.54825681e-01,\n",
      "        3.72975200e-01,  2.36944836e-02,  3.26800466e-01, -1.25956640e-01,\n",
      "       -2.39282489e-01,  1.49920121e-01, -9.84670315e-03,  2.21804485e-01,\n",
      "       -1.35171652e-01,  1.39262050e-01, -1.29149053e-02,  1.09595113e-01,\n",
      "       -3.59795131e-02, -8.48819464e-02,  2.55787019e-02, -2.39619508e-01,\n",
      "        2.20755599e-02,  1.02158852e-01, -1.94062114e-01, -1.78435985e-02,\n",
      "       -1.59700871e-01, -2.54823476e-01,  2.31252462e-01, -3.96946102e-01,\n",
      "       -2.32462347e-01,  1.45496443e-01, -1.47167221e-01,  7.07592294e-02,\n",
      "        1.40394986e-01, -1.15932755e-01, -7.70536885e-02,  2.30242193e-01,\n",
      "       -4.63235378e-02,  1.43098339e-01,  7.63758346e-02, -1.39798494e-02,\n",
      "        1.62399784e-01,  9.31078792e-02,  7.19068795e-02,  4.76324145e-04,\n",
      "       -4.09325719e-01, -2.29847357e-01,  7.41391927e-02, -3.19721013e-01,\n",
      "        2.18654960e-01,  2.21097544e-01, -1.57023251e-01, -9.27727595e-02,\n",
      "       -1.79060131e-01,  1.67025812e-02,  1.98209882e-01, -2.90418804e-01,\n",
      "       -8.59167799e-02,  8.96928683e-02,  5.31751141e-02,  2.72117108e-01,\n",
      "        3.56076583e-02,  4.21836227e-02, -1.08710475e-01, -1.56519756e-01,\n",
      "       -8.12913943e-03, -2.02561349e-01, -1.78485855e-01, -4.52749766e-02,\n",
      "        2.63571739e-01,  1.09651871e-01,  2.39129979e-02,  5.33964857e-02,\n",
      "        7.82713965e-02, -2.25388542e-01,  1.13978490e-01, -2.42203280e-01,\n",
      "       -4.46584336e-02,  1.85430855e-01, -3.71200055e-01, -1.18252806e-01,\n",
      "       -1.95180383e-02, -4.17424031e-02, -1.16622031e-01, -2.16600418e-01,\n",
      "       -3.29379253e-02, -1.40158951e-01, -7.42252870e-03,  2.01828420e-01,\n",
      "       -2.90298518e-02, -4.01884830e-03,  1.08302690e-01,  1.08439051e-01,\n",
      "        1.69537142e-01, -3.20953399e-01,  1.85346618e-01,  8.21669400e-02,\n",
      "       -2.20755994e-01,  3.33315954e-02,  2.22225517e-01,  1.09504648e-02,\n",
      "       -2.15823308e-01,  8.04884061e-02, -5.64886071e-02, -1.92113519e-01,\n",
      "       -5.60343489e-02, -3.63036692e-02,  7.72442594e-02,  3.89101095e-02,\n",
      "       -9.28907748e-03,  1.31085888e-01, -1.37799218e-01, -3.40141244e-02,\n",
      "        1.99290812e-02,  9.32116807e-03, -2.42755666e-01, -6.58499524e-02,\n",
      "        9.48784575e-02,  1.99237213e-01,  3.50472927e-02,  1.73391446e-01,\n",
      "       -1.05058052e-01,  1.18695587e-01])), ('lib', array([ 2.27586207e+00,  3.48659004e-02,  2.83800000e+03,  7.42000000e+02,\n",
      "        5.10000000e+01,  1.10000000e+01,  1.10000000e+01,  1.00000000e+00,\n",
      "        0.00000000e+00,  0.00000000e+00,  0.00000000e+00,  0.00000000e+00,\n",
      "        0.00000000e+00,  0.00000000e+00,  0.00000000e+00,  0.00000000e+00,\n",
      "        0.00000000e+00,  0.00000000e+00, -2.52294153e-01, -3.70247513e-01,\n",
      "       -3.45742017e-01, -1.16023935e-01,  1.08420417e-01, -4.96628210e-02,\n",
      "       -7.66985938e-02,  1.26562998e-01, -5.50631471e-02,  1.29925506e-02,\n",
      "        7.24759474e-02,  8.45204964e-02, -5.60508855e-02,  2.00247720e-01,\n",
      "       -9.80957076e-02, -9.47881490e-02, -1.30238697e-01,  1.29061237e-01,\n",
      "        1.36278212e-01, -1.49961948e-01, -1.19993038e-01,  3.66194826e-03,\n",
      "        1.78117216e-01,  1.18273295e-01, -7.47878328e-02, -3.18244815e-01,\n",
      "       -4.45385277e-03, -4.67099771e-02, -3.18733871e-01, -6.83427975e-02,\n",
      "        2.58818804e-03, -2.08048940e-01, -2.35408738e-01,  7.88613111e-02,\n",
      "       -1.44426242e-01, -5.09535298e-02,  2.21902534e-01,  3.08054425e-02,\n",
      "        2.44814754e-02, -4.81654368e-02,  1.30482651e-02,  9.26970989e-02,\n",
      "       -5.99102408e-04,  1.36278406e-01,  1.18446253e-01, -1.41038299e-01,\n",
      "       -7.67539814e-02, -5.69650941e-02,  1.13896035e-01,  3.19560885e-01,\n",
      "        1.72905862e-01, -2.64353514e-01,  2.29296893e-01, -1.97988048e-01,\n",
      "        1.48903718e-02,  1.23095727e-02, -9.59981978e-02, -3.26373465e-02,\n",
      "        6.06454425e-02, -1.34787895e-02, -9.78452787e-02, -2.85022646e-01,\n",
      "       -5.93876764e-02, -2.07628891e-01, -1.58383712e-01, -2.81757683e-01,\n",
      "       -4.54045609e-02,  1.44044906e-01,  9.83325690e-02, -8.42888653e-02,\n",
      "       -3.82054523e-02, -4.31200676e-02, -1.06115319e-01,  2.09598824e-01,\n",
      "        7.61499330e-02,  2.04709366e-01, -1.71927810e-01,  3.90531868e-02,\n",
      "       -1.86610390e-02,  2.24453839e-03,  7.19642937e-02, -2.41826519e-01,\n",
      "       -8.01379010e-02,  4.07629870e-02, -2.08443508e-01,  2.69560575e-01,\n",
      "        4.87973867e-03,  3.90210822e-02, -4.16155197e-02,  2.04802170e-01,\n",
      "        7.67736360e-02, -5.53443283e-02,  4.25543562e-02, -1.13674335e-01,\n",
      "        5.70824519e-02, -7.56986067e-02,  2.46222287e-01,  1.63187072e-01,\n",
      "       -1.19902259e-02, -2.07794592e-01,  3.31697971e-01,  5.26273400e-02,\n",
      "        3.98289263e-02, -3.94868385e-03, -1.31957754e-01, -1.26927719e-01,\n",
      "       -3.56922634e-02, -1.52347423e-02, -1.55648485e-01, -3.04016680e-01,\n",
      "       -3.30081247e-02,  3.07032168e-01,  1.88013375e-01,  1.19569831e-01,\n",
      "        5.70900105e-02, -7.92222396e-02, -2.00307652e-01,  5.32659795e-03,\n",
      "       -2.32616588e-02, -2.55781472e-01, -1.09178670e-01, -7.02147782e-02,\n",
      "       -8.38038623e-02, -1.52133167e-01,  2.17613488e-01, -3.02252799e-01,\n",
      "       -2.24673703e-01, -1.66617885e-01])), ('lib', array([ 2.35714286e+00,  0.00000000e+00,  2.48400000e+03,  7.26000000e+02,\n",
      "        4.90000000e+01,  9.00000000e+00,  8.00000000e+00,  0.00000000e+00,\n",
      "        0.00000000e+00,  0.00000000e+00,  0.00000000e+00,  0.00000000e+00,\n",
      "        0.00000000e+00,  0.00000000e+00,  0.00000000e+00,  0.00000000e+00,\n",
      "        0.00000000e+00,  0.00000000e+00, -1.57691419e-01,  1.82267547e-01,\n",
      "       -3.52186680e-01, -1.07435562e-01,  1.84774369e-01, -9.80953649e-02,\n",
      "        1.10263117e-01, -1.36005253e-01, -2.17465743e-01, -5.71560338e-02,\n",
      "        1.12164482e-01,  1.59002692e-02, -7.29373246e-02,  1.09289728e-01,\n",
      "       -1.06261693e-01,  1.30848691e-01, -3.89532410e-02,  2.83798158e-01,\n",
      "       -4.61927354e-02,  2.64929445e-03, -1.56979084e-01,  1.92334697e-01,\n",
      "        4.75478023e-02,  2.16363356e-01,  8.13319162e-02,  8.14341009e-02,\n",
      "       -3.39489132e-02, -1.66457132e-01, -4.49492550e-03, -2.85417996e-02,\n",
      "        3.84073816e-02, -3.49058434e-02, -6.25119917e-03, -1.28059715e-01,\n",
      "        1.01098612e-01,  2.88299546e-02,  1.47063166e-01, -9.16981325e-02,\n",
      "       -4.60802428e-02, -6.90028071e-02,  1.51322082e-01, -1.36525199e-01,\n",
      "       -5.46055660e-02, -1.05527729e-01,  2.08714649e-01, -1.98711082e-01,\n",
      "        3.11722644e-02, -1.20321564e-01,  9.85925645e-02,  2.65058968e-02,\n",
      "        4.32862230e-02, -1.10997915e-01, -3.43305171e-01, -2.31296957e-01,\n",
      "        2.06691828e-02,  2.29793921e-01, -2.75178820e-01, -1.82369575e-02,\n",
      "       -2.65413254e-01,  4.94693778e-02,  6.17963523e-02, -1.19243920e-01,\n",
      "        1.99645668e-01,  3.08067817e-02, -7.06749558e-02,  3.53283323e-02,\n",
      "       -4.05750573e-02, -7.39753172e-02,  2.57569194e-01, -2.44065244e-02,\n",
      "        7.97087997e-02, -2.10915446e-01,  3.20840962e-02,  1.03325397e-01,\n",
      "       -2.61009764e-02,  1.38623700e-01, -1.27767920e-01,  4.42233123e-02,\n",
      "        1.47634044e-01,  2.83563137e-02,  1.89592373e-02,  1.19766101e-01,\n",
      "        6.88169748e-02,  3.79382223e-01, -1.34649307e-01, -2.43087783e-01,\n",
      "       -2.01033950e-01, -3.60677429e-02, -1.06230833e-01, -2.32906386e-01,\n",
      "       -9.93352477e-03, -1.78548485e-01, -5.24585061e-02, -4.53886949e-03,\n",
      "       -9.96561870e-02, -4.25731689e-01, -2.47450378e-02, -4.77292947e-02,\n",
      "        2.04763666e-01,  3.78905311e-02, -3.31205606e-01, -9.09921750e-02,\n",
      "       -2.05851629e-01,  1.10048382e-03,  2.28336593e-03, -1.05446689e-01,\n",
      "       -2.61649072e-01,  3.84795934e-01, -1.59616992e-01, -1.79131076e-01,\n",
      "       -2.34928235e-01,  6.59411475e-02,  5.77988550e-02,  8.76029134e-02,\n",
      "       -2.33765021e-01, -1.10041589e-01, -1.99903045e-02, -1.64968260e-02,\n",
      "        1.80622503e-01, -2.02501208e-01, -2.78341085e-01, -5.33580296e-02,\n",
      "        1.08198360e-01,  9.22960639e-02,  5.16739376e-02,  7.97335580e-02,\n",
      "       -1.29621297e-01,  5.47731332e-02])), ('lib', array([ 2.11111111e+00,  0.00000000e+00,  5.42000000e+02,  2.44000000e+02,\n",
      "        2.40000000e+01,  3.00000000e+00,  3.00000000e+00,  0.00000000e+00,\n",
      "        0.00000000e+00,  0.00000000e+00,  0.00000000e+00,  0.00000000e+00,\n",
      "        0.00000000e+00,  0.00000000e+00,  0.00000000e+00,  0.00000000e+00,\n",
      "        0.00000000e+00,  0.00000000e+00,  9.18439105e-02, -2.29051113e-01,\n",
      "       -2.63578407e-02, -2.16178596e-01, -2.47362368e-02, -4.48587649e-02,\n",
      "       -2.94318408e-01, -2.12101527e-02,  8.63527134e-02, -7.54264817e-02,\n",
      "        1.22692071e-01,  2.72613704e-01,  3.35543096e-01,  2.04173088e-01,\n",
      "       -8.37754756e-02,  5.92594892e-02, -7.14248717e-02,  2.28200108e-02,\n",
      "       -1.46401003e-01,  1.48461014e-01,  9.20420587e-02,  5.57819754e-02,\n",
      "       -3.32427993e-02, -5.34759313e-02, -1.24295004e-01,  7.38634691e-02,\n",
      "        5.38489744e-02,  6.81599826e-02,  3.78321745e-02,  2.85360478e-02,\n",
      "        2.23013060e-03, -1.70784980e-01,  1.07342027e-01, -5.93620390e-02,\n",
      "        6.54028952e-02,  7.96477571e-02,  7.55279139e-02, -2.44324729e-02,\n",
      "        4.54525203e-02, -1.05702795e-01,  2.28127956e-01,  2.18636051e-01,\n",
      "       -2.62734562e-01, -1.22497813e-03,  8.34832937e-02,  6.91201389e-02,\n",
      "       -7.34893931e-03, -9.33370814e-02,  8.46506506e-02,  1.73869863e-01,\n",
      "        9.23827142e-02, -2.00849161e-01, -7.75578097e-02,  1.11116357e-01,\n",
      "        1.12096801e-01, -2.13656232e-01,  6.25481904e-02,  4.48169298e-02,\n",
      "       -2.70228684e-01,  1.38456568e-01,  1.87390193e-01, -1.56884000e-01,\n",
      "       -1.90442011e-01, -3.94453146e-02, -2.08809122e-01,  1.94461077e-01,\n",
      "       -4.69631851e-02, -1.05513893e-01,  2.42828786e-01,  1.03651777e-01,\n",
      "        1.90422714e-01, -3.02365690e-01, -5.42129874e-02,  5.52281104e-02,\n",
      "        1.78040147e-01,  1.62056968e-01, -1.83713943e-01,  1.20559931e-01,\n",
      "        1.40518248e-01, -1.61490574e-01,  3.83368671e-01, -6.07589670e-02,\n",
      "        8.58697295e-02,  1.99964628e-01, -2.18578145e-01, -3.43792364e-02,\n",
      "        1.32882640e-01, -1.03092492e-01, -1.37373820e-01,  2.93924231e-02,\n",
      "       -4.48884629e-02, -1.20619833e-01,  2.17257757e-02, -2.02324376e-01,\n",
      "        1.04322076e-01, -8.31237212e-02, -1.18963525e-01, -1.88160777e-01,\n",
      "        1.65346310e-01, -1.48447961e-01,  2.50626445e-01,  5.54311648e-02,\n",
      "       -3.68401587e-01, -6.17928989e-02,  2.52473533e-01, -2.40698501e-01,\n",
      "       -1.64118335e-01, -2.47919504e-02, -6.34526238e-02, -1.54200971e-01,\n",
      "       -1.96699575e-01,  2.81983078e-01,  1.46675408e-01,  1.00038603e-01,\n",
      "       -3.15982252e-01, -3.88225876e-02, -1.44630656e-01,  1.57226771e-01,\n",
      "        9.44102928e-02, -4.05359678e-02, -2.45206848e-01,  2.46566683e-01,\n",
      "        3.95693928e-02,  6.08864166e-02,  1.77472711e-01, -1.17927074e-01,\n",
      "        1.72392000e-02, -2.13847980e-01])), ('lib', array([ 1.87500000e+00,  0.00000000e+00,  3.64000000e+02,  1.82000000e+02,\n",
      "        1.40000000e+01,  0.00000000e+00,  0.00000000e+00,  0.00000000e+00,\n",
      "        0.00000000e+00,  0.00000000e+00,  0.00000000e+00,  0.00000000e+00,\n",
      "        0.00000000e+00,  0.00000000e+00,  0.00000000e+00,  0.00000000e+00,\n",
      "        0.00000000e+00,  0.00000000e+00, -1.54049486e-01, -1.08465597e-01,\n",
      "       -1.34625705e-02,  2.66364068e-01,  7.02462122e-02, -9.29128304e-02,\n",
      "       -2.56190766e-02, -2.02961981e-01,  4.36987057e-02,  1.26986519e-01,\n",
      "        1.28725916e-01, -7.54295662e-02, -7.28035793e-02,  1.12404868e-01,\n",
      "       -1.64387375e-01, -1.57852560e-01, -1.13994494e-01,  1.79991096e-01,\n",
      "       -7.89700821e-02,  6.73130620e-03,  5.96108660e-02,  2.91085064e-01,\n",
      "       -1.00522317e-01,  2.30853871e-01,  1.65377751e-01,  2.31546219e-02,\n",
      "       -1.59195498e-01,  3.73206288e-02, -2.23443076e-01, -4.49588820e-02,\n",
      "       -1.14378370e-01, -2.50927001e-01, -6.10200167e-02, -4.94811833e-02,\n",
      "        1.31671682e-01, -9.15471688e-02,  1.83031633e-01, -5.56107983e-02,\n",
      "       -8.96926504e-03, -1.25906229e-01,  1.24165475e-01,  4.04939801e-01,\n",
      "       -1.52541384e-01,  2.53250033e-01, -1.68643683e-01,  1.52600646e-01,\n",
      "       -5.52244820e-02, -3.99630442e-02, -4.32203710e-02,  2.12845892e-01,\n",
      "       -2.39346758e-01, -1.15129545e-01,  9.28202495e-02, -3.90269049e-02,\n",
      "        1.03109710e-01,  9.98383462e-02, -5.01432866e-02, -7.54985809e-02,\n",
      "       -4.08341512e-02,  3.00564975e-01,  3.10313851e-01, -2.99020946e-01,\n",
      "       -3.05116594e-01, -1.78019449e-01, -1.41854033e-01, -3.84079330e-02,\n",
      "       -3.65433060e-02,  1.61489069e-01, -4.43326347e-02, -1.78324338e-03,\n",
      "        4.32104543e-02, -2.44196311e-01, -2.80939275e-03,  4.69854847e-02,\n",
      "       -1.25883609e-01,  3.51573378e-01, -1.32885382e-01,  1.82333991e-01,\n",
      "       -4.96247783e-02,  2.72688307e-02,  1.89916939e-01, -7.12781847e-02,\n",
      "       -2.60887802e-01, -2.28548590e-02, -1.56168878e-01,  9.93766710e-02,\n",
      "       -1.19257964e-01, -2.97674000e-01, -1.83653429e-01, -7.14633614e-03,\n",
      "       -3.73002440e-02, -7.39788450e-03, -3.32270563e-02, -5.16948402e-02,\n",
      "        9.62646604e-02, -1.74280375e-01, -2.75161624e-01, -1.81481510e-01,\n",
      "       -1.41722336e-01, -9.06138029e-03, -1.29242569e-01, -1.23125687e-01,\n",
      "       -1.28203019e-01, -1.46640271e-01, -1.03464633e-01, -1.42578781e-02,\n",
      "       -1.04508705e-01,  1.46172747e-01,  2.58808494e-01, -1.02449298e-01,\n",
      "       -2.02903435e-01, -1.32800326e-01, -1.55022725e-01,  1.53864592e-01,\n",
      "       -2.64421076e-01, -2.46412441e-01,  5.46075683e-03,  9.74545404e-02,\n",
      "        2.14885056e-01, -3.03572208e-01,  7.74078369e-02, -1.00790702e-01,\n",
      "       -1.60258457e-01,  3.54491286e-02,  1.24907382e-02,  1.51063548e-02,\n",
      "       -1.35124102e-01, -3.25688690e-01])), ('lib', array([ 2.00000000e+00,  0.00000000e+00,  3.65000000e+02,  1.68000000e+02,\n",
      "        1.30000000e+01,  0.00000000e+00,  0.00000000e+00,  0.00000000e+00,\n",
      "        0.00000000e+00,  1.20000000e+01,  1.00000000e+00,  1.00000000e+00,\n",
      "        0.00000000e+00,  0.00000000e+00,  0.00000000e+00,  0.00000000e+00,\n",
      "        0.00000000e+00,  0.00000000e+00, -1.23997144e-01, -3.56948495e-01,\n",
      "        1.10670775e-01,  1.00023367e-01,  1.39813066e-01, -1.71057597e-01,\n",
      "       -1.65853798e-01, -1.11459553e-01, -2.51581281e-01, -9.43253040e-02,\n",
      "        1.69868499e-01,  3.63653004e-01,  1.29870370e-01, -9.28061008e-02,\n",
      "       -2.12077588e-01,  7.05109397e-03, -1.30491778e-01, -1.02220342e-01,\n",
      "        1.06485240e-01, -3.31286676e-02,  1.65834203e-01,  1.79534778e-01,\n",
      "       -8.92096236e-02,  1.32991135e-01,  2.63566703e-01, -1.07992470e-01,\n",
      "        2.22503752e-01, -7.05446675e-02, -3.86598194e-03, -2.03851342e-01,\n",
      "        2.00715706e-01, -1.30473012e-02,  3.92251760e-02, -1.95558622e-01,\n",
      "        1.26915678e-01, -1.47602707e-01,  4.43704203e-02,  7.05965422e-03,\n",
      "        4.35959026e-02, -2.78638452e-01, -6.99803978e-02,  1.57166407e-01,\n",
      "       -1.68653458e-01,  7.70470947e-02,  2.35366181e-01, -8.60127341e-03,\n",
      "        6.31779134e-02, -1.20563291e-01,  1.81517944e-01,  1.55632824e-01,\n",
      "       -2.18986362e-01, -3.26877832e-01, -1.09770119e-01, -3.40910703e-01,\n",
      "        1.13978945e-01, -1.47479191e-01,  8.06173235e-02, -1.76507145e-01,\n",
      "       -1.57172829e-01,  1.83940306e-02, -2.26170663e-02, -3.22973490e-01,\n",
      "        4.28716950e-02, -1.21966936e-02, -6.88389242e-02, -5.76155335e-02,\n",
      "        5.29399142e-02, -1.65666148e-01,  2.61801124e-01, -1.74516309e-02,\n",
      "       -4.12397459e-02,  6.25945926e-02,  7.56226406e-02, -8.77805725e-02,\n",
      "       -8.56448784e-02,  1.45173641e-02, -2.05568615e-02, -7.98480958e-02,\n",
      "        1.96244285e-01, -8.97724181e-02,  1.96915090e-01, -7.70358667e-02,\n",
      "       -2.63923079e-01,  2.07515001e-01, -1.01861954e-01,  1.55608833e-01,\n",
      "        1.06229693e-01, -6.84673935e-02, -1.33653954e-01, -1.53445259e-01,\n",
      "       -1.66073710e-01, -4.21250872e-02, -1.63995672e-03, -1.20509155e-01,\n",
      "        2.90931731e-01, -1.59799084e-01, -4.68377322e-02, -2.74207145e-02,\n",
      "       -4.82086763e-02, -2.18022421e-01,  1.79087982e-01, -6.43571764e-02,\n",
      "       -8.19651335e-02,  6.66785687e-02,  1.16929345e-01, -2.15944350e-01,\n",
      "       -2.97048450e-01,  9.97382402e-02, -2.39615619e-01, -1.92216724e-01,\n",
      "       -5.88576980e-02,  1.59381386e-02,  2.50437796e-01, -4.24771197e-02,\n",
      "       -2.66973913e-01, -5.24274930e-02, -5.78181110e-02,  5.89542985e-02,\n",
      "        1.01688966e-01, -3.47587943e-01, -1.86904013e-01,  7.10279718e-02,\n",
      "        5.10909930e-02, -6.61722990e-03,  2.24834725e-01, -2.53672838e-01,\n",
      "       -2.33353153e-01, -8.13688263e-02])), ('lib', array([ 2.37037037e+00,  0.00000000e+00,  2.21900000e+03,  6.20000000e+02,\n",
      "        4.50000000e+01,  8.00000000e+00,  8.00000000e+00,  0.00000000e+00,\n",
      "        0.00000000e+00,  1.70000000e+01,  4.00000000e+00,  4.00000000e+00,\n",
      "        0.00000000e+00,  0.00000000e+00,  0.00000000e+00,  0.00000000e+00,\n",
      "        0.00000000e+00,  0.00000000e+00,  4.46369499e-02, -5.11655398e-02,\n",
      "        2.68489663e-02, -8.69925320e-02,  2.01748908e-01,  3.51898037e-02,\n",
      "        1.50005519e-01, -1.96391881e-01, -1.17238406e-02, -1.23146340e-01,\n",
      "        1.20276235e-01, -1.07138947e-01,  9.03374106e-02,  4.15191837e-02,\n",
      "       -7.04273805e-02, -1.87484533e-01, -1.74146622e-01, -2.55309008e-02,\n",
      "       -6.38161674e-02,  7.54981264e-02,  1.72217786e-01,  2.77670417e-02,\n",
      "       -1.17878564e-01,  2.26449654e-01, -4.05403674e-01, -1.53508753e-01,\n",
      "        2.22076550e-01, -9.21699181e-02, -2.75326729e-01, -1.88827723e-01,\n",
      "       -1.07717611e-01, -2.47597378e-02,  2.02556312e-01,  1.13039926e-01,\n",
      "       -7.02158511e-02, -9.19555128e-02, -1.13477185e-01,  2.14647233e-01,\n",
      "       -2.27725897e-02, -3.24759454e-01,  5.74496351e-02,  1.25675157e-01,\n",
      "       -5.74826747e-02, -1.01561472e-01,  8.62835497e-02, -1.23643041e-01,\n",
      "       -1.51606157e-01,  1.60355017e-01,  1.70027673e-01,  8.81489888e-02,\n",
      "       -9.06623080e-02, -5.35631701e-02, -1.80777013e-01, -2.04089746e-01,\n",
      "       -6.00799918e-03,  1.93346441e-02, -9.66348499e-02, -3.28420699e-01,\n",
      "        6.36576489e-02,  6.68682158e-02,  1.76435351e-01, -2.08369300e-01,\n",
      "       -2.38664337e-02,  4.43979613e-02, -2.09657311e-01,  4.84665632e-02,\n",
      "       -7.47288093e-02, -1.64800912e-01,  8.39405283e-02,  2.14226514e-01,\n",
      "        1.78298466e-02, -5.06268404e-02, -1.86716214e-01, -1.50221631e-01,\n",
      "        9.12671909e-02,  2.14630678e-01, -9.02074501e-02,  1.29332736e-01,\n",
      "       -1.12034217e-01, -2.33989563e-02, -9.86097008e-02, -4.39719968e-02,\n",
      "       -2.57115930e-01, -7.20318183e-02, -3.72285694e-01, -5.67277819e-02,\n",
      "       -1.05293868e-02,  2.22062647e-01, -1.10349968e-01,  1.43911362e-01,\n",
      "       -3.61523002e-01,  1.72405317e-01, -1.67225838e-01,  1.48691073e-01,\n",
      "        1.63924068e-01, -6.88114092e-02,  2.69379288e-01,  8.66346806e-02,\n",
      "       -1.38119325e-01, -2.65900075e-01, -1.20444849e-01, -6.35921657e-02,\n",
      "       -8.41440782e-02, -5.19675724e-02,  7.92435929e-02, -1.55524582e-01,\n",
      "       -2.62857378e-01,  2.80287683e-01, -2.61516809e-01, -3.59673381e-01,\n",
      "       -1.48006111e-01,  8.41652453e-02, -6.56189770e-02, -4.99930046e-02,\n",
      "       -5.99132031e-02, -4.79312278e-02, -2.31569499e-01, -4.32261974e-02,\n",
      "        1.79048479e-01, -1.72000766e-01, -3.55236083e-01,  4.41566184e-02,\n",
      "       -1.60069570e-01,  2.68046021e-01,  1.33932576e-01, -6.31945729e-02,\n",
      "       -2.34128222e-01, -2.83246547e-01])), ('lib', array([ 2.40000000e+00,  7.22222222e-02,  2.62000000e+02,  1.57000000e+02,\n",
      "        1.70000000e+01,  2.00000000e+00,  3.00000000e+00,  1.00000000e+00,\n",
      "        0.00000000e+00,  9.00000000e+00,  2.00000000e+00,  2.00000000e+00,\n",
      "        0.00000000e+00,  0.00000000e+00,  0.00000000e+00,  0.00000000e+00,\n",
      "        0.00000000e+00,  0.00000000e+00,  2.72254616e-01, -2.35861778e-01,\n",
      "       -6.87133744e-02, -1.16954535e-01, -9.74600986e-02, -5.13930060e-02,\n",
      "       -3.51803213e-01, -3.17959011e-01, -7.08254129e-02, -8.83154422e-02,\n",
      "        3.03979814e-01,  1.83126867e-01,  2.93651342e-01,  1.44985512e-01,\n",
      "       -2.04368979e-01,  1.33753046e-02, -5.10278679e-02,  5.66713475e-02,\n",
      "        5.49801551e-02,  4.57550175e-02, -1.63567856e-01,  2.03213859e-02,\n",
      "        3.08592152e-02,  7.27317631e-02,  3.40446942e-02, -6.00725263e-02,\n",
      "        1.16640665e-01, -1.81282133e-01,  8.56928974e-02, -2.56929491e-02,\n",
      "        2.00076163e-01,  1.72267094e-01, -6.28918260e-02, -3.06098461e-01,\n",
      "       -7.10062012e-02, -8.52281302e-02,  1.05754644e-01, -4.82400507e-02,\n",
      "        1.39753111e-02, -1.49810299e-01,  2.84931101e-02, -1.01252981e-01,\n",
      "       -2.16807038e-01,  8.88442248e-02,  1.50790945e-01,  5.18031530e-02,\n",
      "       -8.51838142e-02,  2.24793516e-03, -1.18456796e-01, -2.90943701e-02,\n",
      "        7.19133317e-02, -1.15335986e-01, -1.10252693e-01, -1.47940502e-01,\n",
      "       -1.22033237e-02, -1.99666515e-01, -2.55036950e-01, -1.81515832e-02,\n",
      "       -2.88531661e-01, -1.87788203e-01,  1.62207976e-01,  1.04132900e-02,\n",
      "       -1.41495019e-01, -2.07193375e-01, -2.33290389e-01, -1.86916247e-01,\n",
      "       -3.47111583e-01,  1.72167905e-02,  3.25638026e-01, -7.31520355e-02,\n",
      "       -4.04630043e-03, -4.52974513e-02, -7.06770876e-03, -1.82667106e-01,\n",
      "       -1.28151283e-01, -8.70220661e-02, -5.70197962e-02,  2.54502416e-01,\n",
      "        2.10781664e-01, -1.08977050e-01,  6.23683371e-02, -9.58367363e-02,\n",
      "        4.02430743e-01,  5.16980052e-01, -2.29289621e-01, -8.70617032e-02,\n",
      "       -7.26163909e-02,  1.51410736e-02, -1.42628923e-01, -1.08656071e-01,\n",
      "       -9.04697403e-02, -2.08627479e-03,  3.34298611e-01, -4.98252027e-02,\n",
      "        2.60250121e-01, -2.22412556e-01, -1.05004281e-01,  7.30305463e-02,\n",
      "        1.61270484e-01,  1.23646939e-02, -1.96722113e-02, -1.60827730e-02,\n",
      "        6.24195626e-03, -5.64463697e-02,  1.78897634e-01, -2.82052737e-02,\n",
      "       -5.60696833e-02, -5.15473150e-02, -8.25209990e-02, -1.06465191e-01,\n",
      "       -1.54826537e-01, -5.98264411e-02,  1.23935066e-01, -3.46191823e-02,\n",
      "       -3.03436160e-01,  2.57665105e-02, -1.92068875e-01,  2.43744049e-02,\n",
      "        3.07819229e-02,  1.10731632e-01, -8.24741647e-02,  9.90226492e-02,\n",
      "       -1.98443770e-01, -1.11337654e-01,  1.23637892e-01, -1.51672319e-01,\n",
      "       -2.15290859e-01,  3.75755653e-02])), ('lib', array([ 1.91304348e+00,  0.00000000e+00,  1.33000000e+03,  4.20000000e+02,\n",
      "        2.10000000e+01,  0.00000000e+00,  0.00000000e+00,  0.00000000e+00,\n",
      "        0.00000000e+00,  0.00000000e+00,  0.00000000e+00,  0.00000000e+00,\n",
      "        0.00000000e+00,  0.00000000e+00,  0.00000000e+00,  0.00000000e+00,\n",
      "        0.00000000e+00,  0.00000000e+00, -2.47744694e-02, -1.23170704e-01,\n",
      "       -1.85830966e-01, -2.84712631e-02, -2.19954714e-01, -2.41351277e-01,\n",
      "       -2.45099142e-01, -5.68664521e-02, -1.13207005e-01, -1.76431417e-01,\n",
      "        3.60769108e-02,  1.85350344e-01,  8.34026262e-02,  9.80203822e-02,\n",
      "        4.86385450e-02,  3.53185087e-01, -6.39340803e-02,  2.17991829e-01,\n",
      "        6.87444806e-02,  1.00913003e-01,  3.87965105e-02,  2.55153269e-01,\n",
      "        1.01858126e-02, -4.00173403e-02, -1.20449774e-01, -1.30826890e-01,\n",
      "        1.24842130e-01, -1.93624489e-03, -3.13196272e-01,  1.63237110e-01,\n",
      "       -9.47178677e-02,  5.77026457e-02,  2.90165722e-01, -7.54744001e-03,\n",
      "       -3.79747571e-03,  1.08888328e-01,  1.82628706e-01,  6.72485307e-02,\n",
      "       -5.63890971e-02, -1.71394825e-01,  1.92564532e-01,  2.39978835e-01,\n",
      "        8.64641294e-02,  1.68467999e-01, -4.78943763e-03,  1.15542136e-01,\n",
      "       -5.55492453e-02, -2.15775549e-01,  3.04791391e-01,  1.06824702e-03,\n",
      "       -4.02720310e-02, -1.26644105e-01, -9.95020848e-03, -5.64299896e-02,\n",
      "        1.57633334e-01, -6.57859026e-03, -3.56549472e-01, -1.27116472e-01,\n",
      "       -6.12960979e-02,  2.07269080e-02,  1.26256198e-01, -1.21342495e-01,\n",
      "       -1.98448151e-01,  1.28944397e-01, -9.26128998e-02, -7.82016665e-02,\n",
      "       -2.83529870e-02, -2.01077864e-01, -1.53325409e-01,  2.83626318e-01,\n",
      "       -8.03925749e-03, -2.28339732e-01,  2.62965206e-02,  1.26259327e-01,\n",
      "        2.86864161e-01,  3.11617553e-01, -1.70371562e-01, -6.68256171e-03,\n",
      "       -7.24639967e-02, -1.03554495e-01,  4.50990200e-02,  9.44693461e-02,\n",
      "       -2.64160931e-01, -1.67935546e-02, -1.87208623e-01, -8.49910751e-02,\n",
      "       -3.87121588e-02, -7.55521953e-02, -1.42692670e-01, -4.38495390e-02,\n",
      "        1.00553133e-01, -4.05809641e-01, -1.59306809e-01, -1.69107944e-01,\n",
      "        1.67520717e-01, -2.30731964e-01, -2.43180707e-01, -4.10794199e-01,\n",
      "        1.89187646e-01,  2.74129491e-02,  2.14611948e-01,  2.34743878e-01,\n",
      "        6.60569146e-02, -5.99453459e-03, -5.57257682e-02, -6.62529916e-02,\n",
      "       -2.49938205e-01,  2.28855997e-01, -2.80893385e-01, -2.42049292e-01,\n",
      "       -1.18406989e-01,  1.62212521e-01,  1.83259487e-01,  1.52921900e-01,\n",
      "        1.59903951e-02, -2.75160432e-01,  2.16588289e-01,  2.50355117e-02,\n",
      "       -2.38036245e-01, -9.74792764e-02, -1.09753884e-01,  2.01968495e-02,\n",
      "       -1.09562613e-01,  2.07834676e-01,  2.04194456e-01, -9.14668441e-02,\n",
      "        2.19203290e-02, -6.09198883e-02])), ('lib', array([ 2.00000000e+00,  0.00000000e+00,  1.59000000e+02,  1.11000000e+02,\n",
      "        1.40000000e+01,  1.00000000e+00,  1.00000000e+00,  0.00000000e+00,\n",
      "        0.00000000e+00,  0.00000000e+00,  0.00000000e+00,  0.00000000e+00,\n",
      "        0.00000000e+00,  0.00000000e+00,  0.00000000e+00,  0.00000000e+00,\n",
      "        0.00000000e+00,  0.00000000e+00,  1.31839499e-01, -3.54468495e-01,\n",
      "       -1.12146392e-01,  2.49820873e-01,  1.10049266e-02,  6.47816854e-03,\n",
      "       -6.88165501e-02, -8.57977793e-02, -3.31963122e-01, -4.04917672e-02,\n",
      "        1.38843022e-02,  1.21947534e-01, -1.11584142e-02,  1.07682191e-01,\n",
      "       -7.05191344e-02, -5.65015599e-02, -3.11789632e-01, -1.05408601e-01,\n",
      "        6.67521730e-02,  8.67355987e-02, -5.52746002e-03,  2.63145953e-01,\n",
      "        9.72248390e-02, -5.20403087e-02,  2.78405249e-01, -2.89341081e-02,\n",
      "        1.14856109e-01, -3.51237595e-01,  1.50893077e-01, -4.85582575e-02,\n",
      "        6.71010688e-02, -7.15558380e-02, -2.27718279e-01,  4.00356855e-03,\n",
      "        2.33757287e-01,  3.05069815e-02, -1.35329142e-01,  2.97278874e-02,\n",
      "       -6.99402764e-02, -1.00277206e-02,  6.58048224e-03,  1.10483535e-01,\n",
      "       -2.39590213e-01,  4.81730746e-03,  2.54996389e-01, -5.52275293e-02,\n",
      "        3.16071175e-02,  1.03395402e-01,  2.16752589e-01,  1.18474446e-01,\n",
      "        1.80334195e-01, -1.77768096e-01, -2.67628282e-01, -2.91482985e-01,\n",
      "        1.48347795e-01,  8.63846987e-02, -1.16623640e-01,  8.64300411e-03,\n",
      "       -5.22600897e-02,  2.43250653e-01,  3.78030986e-01, -1.01825863e-01,\n",
      "        2.93211099e-02, -3.26255381e-01,  1.89446416e-02, -1.70476481e-01,\n",
      "       -1.51964575e-01, -3.80992070e-02,  7.64570665e-03, -1.12456046e-01,\n",
      "        6.68953657e-02, -6.18908647e-03,  9.49968994e-02,  7.37917200e-02,\n",
      "        2.14249611e-01,  1.33971930e-01, -2.55570710e-01,  1.05559930e-01,\n",
      "       -3.21375132e-02,  1.48603186e-01,  2.76358485e-01, -2.01438800e-01,\n",
      "       -7.53279403e-02,  7.69027323e-02,  9.79658887e-02,  3.14682908e-02,\n",
      "       -9.34840888e-02,  2.91380007e-02, -2.39311263e-01,  1.91253141e-01,\n",
      "        6.33598566e-02, -1.24475576e-01,  2.60088337e-03, -2.86914576e-02,\n",
      "        2.08525151e-01,  1.40456542e-01,  4.30429354e-02, -1.18428558e-01,\n",
      "       -8.42529088e-02, -2.94919480e-02,  2.25824174e-02, -9.60462764e-02,\n",
      "       -3.38113382e-02, -5.90717047e-02,  2.72275984e-01,  1.12969810e-02,\n",
      "       -3.42503309e-01,  9.85868350e-02, -2.07565337e-01,  2.27608293e-01,\n",
      "       -3.06071229e-02,  1.39043525e-01, -9.54755768e-02,  1.66096956e-01,\n",
      "       -1.30188584e-01, -9.37433988e-02, -8.90272558e-02, -2.42945671e-01,\n",
      "        4.58326153e-02,  1.89304844e-01, -4.21260655e-01,  1.19177476e-01,\n",
      "        2.36327704e-02,  2.65819859e-02,  1.34908020e-01, -2.17561096e-01,\n",
      "       -1.83680188e-02, -3.18520308e-01])), ('lib', array([ 2.00000000e+00,  0.00000000e+00,  8.03000000e+02,  3.14000000e+02,\n",
      "        2.10000000e+01,  1.00000000e+00,  1.00000000e+00,  0.00000000e+00,\n",
      "        0.00000000e+00,  0.00000000e+00,  0.00000000e+00,  0.00000000e+00,\n",
      "        0.00000000e+00,  0.00000000e+00,  0.00000000e+00,  0.00000000e+00,\n",
      "        0.00000000e+00,  0.00000000e+00, -4.39391620e-02, -2.76346445e-01,\n",
      "        6.22356310e-02, -2.20106803e-02,  9.72186327e-02, -6.66984543e-02,\n",
      "        2.44173445e-02, -1.74250275e-01, -6.06423691e-02, -3.45748574e-01,\n",
      "        1.39395237e-01,  2.31288094e-02,  2.94594556e-01,  9.76023898e-02,\n",
      "       -3.41946073e-02,  5.47147729e-02, -8.15834850e-02,  2.17341274e-01,\n",
      "        3.53242680e-02,  6.63282275e-02,  3.88615951e-02,  2.20780686e-01,\n",
      "       -1.36612549e-01,  6.46819398e-02,  3.67990881e-02, -1.29749358e-01,\n",
      "        1.35295480e-01, -4.38054204e-02, -1.31637052e-01,  1.41370907e-01,\n",
      "       -1.38833858e-02, -2.01360762e-01, -6.70702308e-02, -8.49798024e-02,\n",
      "        6.02348186e-02, -3.33757326e-02,  6.26861006e-02,  1.98496893e-01,\n",
      "        2.03508092e-03, -1.71196893e-01,  1.42525554e-01,  2.13676035e-01,\n",
      "        5.70636131e-02,  2.79065728e-01,  1.17963523e-01, -8.68658274e-02,\n",
      "       -1.15858741e-01,  1.65751521e-02,  1.59053311e-01,  1.92529976e-01,\n",
      "       -1.61101315e-02, -5.59924506e-02, -7.19312206e-02, -2.85674036e-01,\n",
      "        2.33172610e-01, -1.52553901e-01, -7.62497336e-02, -1.01204433e-01,\n",
      "       -2.73515880e-01,  2.47886330e-01, -4.78572324e-02, -1.49129063e-01,\n",
      "        1.01114123e-03,  1.15817606e-01, -1.36625290e-01,  6.47427980e-03,\n",
      "       -6.31726384e-02, -2.06493080e-01,  2.80226588e-01, -5.41948825e-02,\n",
      "        3.90663147e-02, -9.06707942e-02, -6.90690801e-02, -1.17338123e-02,\n",
      "        3.12993556e-01,  2.07131878e-02, -7.07605528e-03,  1.11837938e-01,\n",
      "        6.88427361e-04, -1.51474178e-01,  1.94144368e-01, -1.70786440e-01,\n",
      "       -1.04977511e-01,  3.90177406e-02, -2.75431663e-01, -6.52530715e-02,\n",
      "       -1.72687396e-01, -2.08969414e-01, -2.85302222e-01, -9.07369703e-02,\n",
      "        8.75695348e-02,  2.39122093e-01,  8.60641990e-03,  2.23767504e-01,\n",
      "        3.47271323e-01, -1.42292622e-02, -3.57326359e-01, -1.51066005e-01,\n",
      "        1.68068618e-01, -8.32086615e-03, -1.92622487e-02,  1.97218269e-01,\n",
      "       -1.55227512e-01,  1.73009336e-01,  1.37117818e-01, -5.24710715e-02,\n",
      "       -2.71610886e-01,  1.67699918e-01, -1.18456304e-01, -2.51928091e-01,\n",
      "       -3.44217479e-01,  1.55368656e-01,  3.02896321e-01,  2.29236260e-01,\n",
      "       -8.02187249e-02, -1.51153162e-01, -3.89154740e-02,  1.36383489e-01,\n",
      "        8.32955390e-02, -1.72206104e-01, -4.70022075e-02,  8.04826245e-02,\n",
      "       -2.94219349e-02, -1.13659970e-01, -9.74395946e-02,  9.36350450e-02,\n",
      "       -2.56303877e-01, -3.39010239e-01])), ('lib', array([ 2.07142857e+00,  0.00000000e+00,  2.55800000e+03,  6.82000000e+02,\n",
      "        3.20000000e+01,  2.00000000e+00,  2.00000000e+00,  0.00000000e+00,\n",
      "        0.00000000e+00,  0.00000000e+00,  0.00000000e+00,  0.00000000e+00,\n",
      "        0.00000000e+00,  0.00000000e+00,  0.00000000e+00,  0.00000000e+00,\n",
      "        0.00000000e+00,  0.00000000e+00, -1.05431467e-01, -2.48308495e-01,\n",
      "       -8.49395022e-02, -1.28139690e-01,  2.35441223e-01,  2.33957350e-01,\n",
      "       -2.55723506e-01, -1.90077826e-01, -1.06387807e-03, -1.17607802e-01,\n",
      "        1.84863284e-01,  3.37146074e-01,  9.74812359e-02, -1.39966384e-01,\n",
      "        4.74092625e-02,  7.88994730e-02, -9.67127085e-02,  7.20454082e-02,\n",
      "        3.63208354e-01,  2.62669623e-01, -1.81512415e-01,  1.83463380e-01,\n",
      "       -1.17605552e-01,  2.36542313e-03, -1.42888287e-02, -1.74470633e-01,\n",
      "        1.40620157e-01, -4.01228927e-02, -1.62690684e-01,  2.43623238e-02,\n",
      "        3.73338573e-02, -3.87605764e-02,  1.47054777e-01, -3.69420469e-01,\n",
      "        8.51546302e-02,  1.30442679e-01, -3.18083018e-02,  2.77724378e-02,\n",
      "        8.96301940e-02, -1.83855861e-01,  3.46398652e-02,  1.41986459e-02,\n",
      "       -3.07298247e-02, -1.43743932e-01, -1.78699829e-02, -4.84986082e-02,\n",
      "        2.73172231e-03, -6.98581561e-02,  1.78260863e-01,  9.69664529e-02,\n",
      "       -1.63460687e-01, -2.25212529e-01, -1.07468851e-02, -1.09885529e-01,\n",
      "        2.71072596e-01, -9.26668122e-02, -2.91691422e-01,  2.74020657e-02,\n",
      "       -4.26349550e-01,  1.29468828e-01, -1.02511398e-01, -8.44090655e-02,\n",
      "       -2.16538906e-02,  1.18278652e-01, -4.65769209e-02,  2.19658557e-02,\n",
      "        1.15476333e-01,  1.24211662e-01, -1.25799244e-02, -2.39533857e-02,\n",
      "        1.87130362e-01, -1.24426959e-02, -1.67445183e-01, -1.26854792e-01,\n",
      "        1.12289004e-02,  2.12401077e-02, -1.73421711e-01,  5.63097112e-02,\n",
      "        1.01169549e-01, -1.07260004e-01,  2.69096475e-02, -7.75055662e-02,\n",
      "       -2.01899335e-01, -2.77426075e-02, -2.23784074e-01,  1.01544119e-01,\n",
      "       -1.13281988e-01,  1.43708929e-01, -1.80469215e-01,  1.23733496e-02,\n",
      "       -9.76241305e-02, -2.57219821e-01,  2.81310707e-01,  1.91327751e-01,\n",
      "        1.82340983e-02,  1.15476988e-01,  2.26211905e-01, -1.45016298e-01,\n",
      "       -9.82847437e-02, -1.97985873e-01,  1.40677080e-01,  9.68945920e-02,\n",
      "       -8.24109390e-02, -8.00135955e-02, -8.95218626e-02,  2.47131325e-02,\n",
      "       -2.83051848e-01,  2.75332123e-01,  1.77914411e-01, -8.80372599e-02,\n",
      "       -2.30895013e-01, -2.31568098e-01,  6.73289895e-02, -2.17668951e-01,\n",
      "       -3.58929127e-01, -1.58427387e-01,  1.30234435e-01,  7.57565722e-02,\n",
      "       -4.40597795e-02, -2.95235902e-01, -2.49955297e-01,  6.34700358e-02,\n",
      "        9.42300931e-02,  1.47362858e-01,  7.26310089e-02, -2.67085254e-01,\n",
      "       -5.69193698e-02,  2.41991272e-03])), ('lib', array([ 2.35714286e+00,  0.00000000e+00,  2.49900000e+03,  7.00000000e+02,\n",
      "        4.00000000e+01,  5.00000000e+00,  6.00000000e+00,  0.00000000e+00,\n",
      "        0.00000000e+00,  2.20000000e+01,  2.00000000e+00,  2.00000000e+00,\n",
      "        0.00000000e+00,  0.00000000e+00,  0.00000000e+00,  0.00000000e+00,\n",
      "        0.00000000e+00,  0.00000000e+00, -7.50440508e-02, -1.56674922e-01,\n",
      "        7.76423663e-02,  7.49368668e-02,  3.25425416e-01, -7.56093189e-02,\n",
      "        1.32088810e-01,  2.36384999e-02, -3.47717613e-01, -2.18053862e-01,\n",
      "        2.84709148e-02,  8.46822038e-02,  2.02944316e-02, -1.73387229e-01,\n",
      "       -1.16480812e-01,  2.18675226e-01, -2.94137925e-01, -1.86171066e-02,\n",
      "       -1.28393814e-01,  1.66639999e-01,  5.79160489e-02,  7.31065944e-02,\n",
      "       -1.94929570e-01,  8.61285031e-02, -4.14601825e-02, -8.87954682e-02,\n",
      "        9.12831947e-02, -1.08314671e-01, -5.91014652e-03, -9.88537371e-02,\n",
      "       -1.81747843e-02, -1.02220349e-01,  5.50519377e-02, -1.38048634e-01,\n",
      "       -6.40355945e-02, -1.60458744e-01, -1.62153289e-01, -2.15596408e-02,\n",
      "       -6.12839721e-02,  7.98881948e-02,  2.64256503e-02,  5.08464910e-02,\n",
      "       -5.09959348e-02,  7.25011434e-03,  1.61430031e-01, -2.36426637e-01,\n",
      "        1.26727328e-01,  1.34934023e-01,  1.04876786e-01,  1.02610961e-01,\n",
      "       -2.09797859e-01, -3.06740522e-01,  4.04301882e-02, -1.38341233e-01,\n",
      "        1.39932841e-01,  1.08992666e-01, -9.59075689e-02, -2.55258113e-01,\n",
      "       -2.06570655e-01,  2.87644118e-01,  2.40876675e-01, -8.87321457e-02,\n",
      "       -2.33450845e-01, -1.63961709e-01, -3.59780043e-02,  1.60752133e-01,\n",
      "        8.69142115e-02,  4.41078022e-02,  2.58828342e-01, -9.07873437e-02,\n",
      "        2.15540957e-02, -2.89009839e-01, -1.31946877e-01, -1.30111411e-01,\n",
      "        1.52036875e-01,  1.68603048e-01,  7.89083634e-03, -2.50863321e-02,\n",
      "        1.02575056e-01, -1.64783031e-01,  9.50470194e-02,  9.88530219e-02,\n",
      "       -4.88932252e-01,  5.76825403e-02, -1.58015311e-01,  3.11948042e-02,\n",
      "       -4.34363745e-02, -4.89771031e-02, -2.56870151e-01, -1.38013244e-01,\n",
      "       -1.18116818e-01, -4.07661684e-02,  5.43914288e-02,  1.00806020e-01,\n",
      "        7.05479681e-02, -2.39289790e-01,  1.13750495e-01, -5.38786091e-02,\n",
      "       -1.92588344e-01, -6.08963147e-02, -4.20436524e-02, -1.89460903e-01,\n",
      "       -9.47645865e-03, -1.80940583e-01,  3.62084031e-01,  1.24329897e-02,\n",
      "       -7.42829451e-03,  9.87478718e-02, -1.21343076e-01, -1.52169585e-01,\n",
      "        8.27388167e-02, -6.54845312e-02, -5.99019695e-03,  6.11938424e-02,\n",
      "       -1.69330761e-01, -1.19816415e-01,  1.01467095e-01,  1.37288183e-01,\n",
      "        1.25963673e-01,  4.45237160e-02, -7.52114132e-02,  8.03422779e-02,\n",
      "        3.05785477e-01, -1.92771722e-02,  4.26752150e-01, -7.15168938e-02,\n",
      "       -2.67947376e-01, -9.25265439e-03])), ('lib', array([ 2.21428571e+00,  0.00000000e+00,  2.52000000e+03,  7.06000000e+02,\n",
      "        4.00000000e+01,  5.00000000e+00,  5.00000000e+00,  0.00000000e+00,\n",
      "        0.00000000e+00,  0.00000000e+00,  0.00000000e+00,  0.00000000e+00,\n",
      "        0.00000000e+00,  0.00000000e+00,  0.00000000e+00,  0.00000000e+00,\n",
      "        0.00000000e+00,  0.00000000e+00, -2.81484604e-01, -5.55638410e-02,\n",
      "       -9.50240865e-02,  1.09220140e-01,  2.74741203e-01, -1.05841972e-01,\n",
      "       -1.05218247e-01, -8.02491531e-02, -3.67956832e-02,  8.41164440e-02,\n",
      "        3.31746750e-02,  1.88890502e-01,  2.10120752e-01,  7.18716830e-02,\n",
      "       -2.30835397e-02,  3.01433541e-02, -1.81944653e-01,  1.70762569e-01,\n",
      "        1.81955695e-01,  2.64540941e-01, -8.14391300e-02, -2.10484061e-02,\n",
      "       -1.56726003e-01, -6.42233118e-02,  1.12317249e-01, -3.56497139e-01,\n",
      "       -1.70360148e-01, -7.62531385e-02, -2.92626861e-02, -1.33298397e-01,\n",
      "        8.72739032e-02, -5.42017445e-02,  6.00612070e-03, -1.45015225e-01,\n",
      "        1.09685041e-01,  9.26363561e-03,  1.81399420e-01, -1.59087136e-01,\n",
      "       -1.68488264e-01, -3.41869861e-01,  6.74398392e-02, -7.21640959e-02,\n",
      "       -4.89723012e-02,  6.75522834e-02,  2.42534969e-02, -1.99895985e-02,\n",
      "        7.22553879e-02, -2.07937628e-01,  8.07514489e-02,  3.73096734e-01,\n",
      "        7.86544103e-03, -1.83166832e-01, -1.54729858e-01, -5.29740527e-02,\n",
      "        3.13274741e-01, -1.28330648e-01, -1.17653087e-01, -1.59473479e-01,\n",
      "       -6.08703271e-02,  1.61230072e-01,  2.42921248e-01, -2.26713300e-01,\n",
      "        1.44027799e-01, -1.99545145e-01, -1.90058023e-01,  9.06061381e-02,\n",
      "        9.75466669e-02, -2.98001617e-01,  4.34627295e-01,  1.91987846e-02,\n",
      "        1.59717664e-01, -1.89448949e-02, -7.81082958e-02,  1.07376380e-02,\n",
      "        7.82283396e-02, -5.64801730e-02, -5.35987988e-02, -9.74757895e-02,\n",
      "       -7.07750842e-02, -1.02977142e-01,  1.41955748e-01, -1.44263878e-01,\n",
      "       -1.88101500e-01,  1.98040396e-01, -1.21976741e-01, -1.42100826e-01,\n",
      "       -8.06279555e-02,  5.75031899e-02, -7.40190744e-02,  3.94949783e-03,\n",
      "        1.56369239e-01, -5.26933968e-02, -4.23537381e-02,  2.24130992e-02,\n",
      "        6.85811415e-02,  4.64513004e-02, -2.57425278e-01, -9.86884814e-03,\n",
      "        5.19186631e-02, -3.72999944e-02,  1.72707111e-01,  9.48226899e-02,\n",
      "       -3.20574194e-01, -4.82972749e-02,  2.07824886e-01, -1.07578047e-01,\n",
      "       -2.48880833e-02,  1.53053537e-01, -1.26931474e-01, -9.18442383e-02,\n",
      "        2.83868648e-02,  5.84987625e-02, -5.04494533e-02,  1.18191175e-01,\n",
      "       -1.76296383e-01, -9.36038494e-02, -2.93495625e-01,  1.35689154e-01,\n",
      "       -1.15304452e-03, -3.59399527e-01, -1.63434014e-01, -4.77556586e-02,\n",
      "       -1.93792254e-01,  1.20455705e-01,  3.10554355e-01, -2.01621637e-01,\n",
      "       -1.74616545e-01,  7.99011067e-03])), ('lib', array([ 2.26086957e+00,  0.00000000e+00,  1.27000000e+03,  4.56000000e+02,\n",
      "        3.50000000e+01,  5.00000000e+00,  5.00000000e+00,  0.00000000e+00,\n",
      "        0.00000000e+00,  0.00000000e+00,  0.00000000e+00,  0.00000000e+00,\n",
      "        0.00000000e+00,  0.00000000e+00,  0.00000000e+00,  0.00000000e+00,\n",
      "        0.00000000e+00,  0.00000000e+00, -1.31610066e-01, -1.85594141e-01,\n",
      "       -8.94764811e-02,  1.36194944e-01,  2.46208593e-01, -8.55258033e-02,\n",
      "       -2.61692435e-01, -1.30151823e-01, -3.72019857e-02,  5.25579304e-02,\n",
      "        2.04750016e-01,  2.89728105e-01,  3.50521393e-02,  2.12050676e-01,\n",
      "        6.66484609e-02,  2.49091983e-02, -6.81491569e-02,  1.23889565e-01,\n",
      "        1.12122290e-01,  1.36477053e-01,  2.37327725e-01, -1.52218901e-02,\n",
      "       -7.88217112e-02,  3.77994590e-02,  1.61276218e-02, -1.18913725e-01,\n",
      "       -3.52292433e-02, -2.02563182e-01,  7.01668859e-02, -2.09768206e-01,\n",
      "       -8.36045295e-02, -1.30753681e-01,  2.16538310e-01,  1.35724336e-01,\n",
      "       -1.84815541e-01, -1.76068380e-01,  1.66699231e-01, -1.22854121e-01,\n",
      "        6.26516417e-02, -1.70232937e-01,  2.07491621e-01,  2.26033181e-01,\n",
      "       -5.52917942e-02,  1.72097608e-01,  3.81335355e-02,  2.49096543e-01,\n",
      "       -1.92117225e-02, -4.49682437e-02,  1.33898571e-01,  1.92879677e-01,\n",
      "       -2.60474622e-01,  6.75323233e-02, -1.15685284e-01,  3.56171355e-02,\n",
      "        2.34531850e-01,  1.04454115e-01, -9.24238637e-02, -4.55065407e-02,\n",
      "       -2.03813374e-01,  8.98844749e-02,  9.68912542e-02, -3.32598448e-01,\n",
      "       -1.88132510e-01,  1.19144157e-01, -7.64516443e-02, -6.21687695e-02,\n",
      "        5.97808883e-03, -1.03194423e-01,  2.81975091e-01,  1.91903293e-01,\n",
      "        2.25827366e-01,  1.45017326e-01, -6.55492097e-02,  5.00957221e-02,\n",
      "        1.04106199e-02,  5.99218868e-02,  1.53429568e-01,  2.53208913e-02,\n",
      "       -1.88972890e-01, -1.74677730e-01,  2.98637092e-01, -1.76761430e-02,\n",
      "       -2.65567213e-01,  5.04935198e-02, -4.70855981e-01, -4.19973396e-02,\n",
      "       -1.82402417e-01, -1.22665286e-01, -1.11054547e-01, -1.57808527e-01,\n",
      "       -1.46678090e-01,  1.04470298e-01, -2.11684242e-01,  1.33051842e-01,\n",
      "        1.43771201e-01, -3.05887491e-01, -1.58479407e-01, -1.26397267e-01,\n",
      "       -2.22885888e-02, -1.34243995e-01, -7.03745559e-02,  1.38098057e-02,\n",
      "       -2.95605570e-01, -1.86143704e-02,  3.05892497e-01, -2.75117576e-01,\n",
      "       -1.45851135e-01,  7.86206126e-02,  1.40298337e-01, -2.52426416e-01,\n",
      "        2.20680628e-02,  1.46158189e-01,  6.76636845e-02, -1.73131794e-01,\n",
      "       -1.76095720e-02, -8.54284987e-02, -1.62291497e-01,  1.23638690e-01,\n",
      "        1.36597333e-02, -1.38773695e-01, -1.74202532e-01,  1.59009248e-01,\n",
      "        7.73223117e-02,  1.19256392e-01,  3.44519801e-02, -2.09944934e-01,\n",
      "       -2.60005713e-01, -2.08151489e-01])), ('lib', array([ 2.32000000e+00,  8.48095238e-02,  1.69400000e+03,  5.48000000e+02,\n",
      "        3.90000000e+01,  8.00000000e+00,  8.00000000e+00,  2.00000000e+00,\n",
      "        1.00000000e+00,  0.00000000e+00,  0.00000000e+00,  0.00000000e+00,\n",
      "        0.00000000e+00,  0.00000000e+00,  0.00000000e+00,  0.00000000e+00,\n",
      "        0.00000000e+00,  0.00000000e+00,  2.30699666e-02, -2.55843669e-01,\n",
      "       -2.55211610e-02,  3.89520973e-02, -4.49655065e-03, -2.36337371e-02,\n",
      "       -2.03376308e-01,  9.33380984e-03,  4.76626381e-02,  5.24252094e-02,\n",
      "        4.10436429e-02,  1.17957041e-01,  8.60924348e-02,  1.12048849e-01,\n",
      "        1.16557889e-01,  1.07176840e-01, -1.43479452e-01,  1.11842148e-01,\n",
      "       -1.94039606e-02,  1.59492325e-02,  1.34512052e-01,  6.98732063e-02,\n",
      "        2.14183301e-01,  5.75367734e-03, -2.59092689e-01, -1.43404663e-01,\n",
      "       -3.86226140e-02, -7.95001313e-02, -1.57923236e-01, -1.69470996e-01,\n",
      "        2.31512055e-01, -7.98005760e-02,  1.93266124e-01, -4.76257615e-02,\n",
      "        2.14496240e-01,  1.68697312e-01,  6.27069473e-02,  9.42335930e-03,\n",
      "        6.27540946e-02, -2.57723510e-01,  9.82699022e-02,  1.46863401e-01,\n",
      "       -3.75354886e-02,  7.63046294e-02,  6.29881471e-02, -1.10303000e-01,\n",
      "       -1.05205178e-02,  1.07409805e-01,  2.28534698e-01, -1.41574413e-01,\n",
      "        4.38519977e-02, -2.08894387e-01, -3.43508907e-02, -1.84348747e-01,\n",
      "        1.54918268e-01,  2.24878490e-02, -2.09463328e-01, -1.64066881e-01,\n",
      "       -5.12375049e-02,  1.60767093e-01,  9.42528173e-02, -3.10730308e-01,\n",
      "       -2.54506528e-01, -6.26383573e-02, -6.04307652e-02,  1.07634582e-01,\n",
      "       -2.73848474e-01, -2.39744708e-01,  5.13168424e-02,  3.16123536e-04,\n",
      "        1.57472447e-01, -1.11365974e-01, -1.19628668e-01, -1.61827415e-01,\n",
      "        1.92999497e-01,  9.37692150e-02, -2.56202191e-01,  1.51941434e-01,\n",
      "        2.56515354e-01, -4.11366045e-01,  1.13030709e-02, -2.41881266e-01,\n",
      "        9.84676927e-02,  1.63159549e-01, -3.32621247e-01,  1.30147085e-01,\n",
      "        1.24415681e-01, -8.00907835e-02,  1.66679949e-01, -3.11371982e-02,\n",
      "       -6.30417746e-03,  5.34906052e-02,  2.85140127e-02,  7.79421180e-02,\n",
      "        1.59510747e-01, -1.24752298e-01, -4.33756746e-02,  6.91343397e-02,\n",
      "       -9.04375985e-02, -5.51997535e-02,  1.51442483e-01, -2.10115284e-01,\n",
      "       -3.27663362e-01,  4.40090410e-02,  2.03998387e-01,  1.90327585e-01,\n",
      "       -2.74928883e-02,  2.90481955e-01, -1.69949561e-01, -6.67489842e-02,\n",
      "       -2.71968305e-01,  2.36347720e-01,  2.89671451e-01,  4.99396026e-03,\n",
      "       -1.66376203e-01,  1.76753059e-01, -9.62884724e-03,  6.19654879e-02,\n",
      "        1.22948751e-01, -3.06837142e-01, -1.79111555e-01,  2.23771557e-01,\n",
      "       -2.18033314e-01, -1.40724018e-01,  1.58291683e-01,  9.01789293e-02,\n",
      "       -1.53811425e-01, -5.70084788e-02])), ('lib', array([ 2.00000000e+00,  0.00000000e+00,  1.52300000e+03,  4.74000000e+02,\n",
      "        2.50000000e+01,  1.00000000e+00,  1.00000000e+00,  0.00000000e+00,\n",
      "        0.00000000e+00,  0.00000000e+00,  0.00000000e+00,  0.00000000e+00,\n",
      "        0.00000000e+00,  0.00000000e+00,  0.00000000e+00,  0.00000000e+00,\n",
      "        0.00000000e+00,  0.00000000e+00, -5.51087735e-03, -2.29895383e-01,\n",
      "        2.32320223e-02, -3.46788168e-02, -1.52457599e-02, -3.63542795e-01,\n",
      "       -2.67568920e-02, -2.69485742e-01, -2.09919378e-01, -7.10384920e-02,\n",
      "        3.22401971e-01, -4.45421375e-02, -4.92240824e-02,  1.92384586e-01,\n",
      "        8.34836438e-02,  1.95073649e-01, -9.14676301e-03, -3.75371589e-03,\n",
      "        5.79816736e-02,  2.82147974e-01, -1.41808733e-01,  1.57814175e-01,\n",
      "       -1.11449704e-01,  3.35173666e-01,  1.81502730e-01, -1.81531936e-01,\n",
      "        1.31565198e-01, -1.98084503e-01, -9.05010104e-02,  1.31558076e-01,\n",
      "        6.04622029e-02, -2.01412126e-01,  1.41231239e-01, -1.29121110e-01,\n",
      "        1.82721600e-01,  1.12898998e-01,  1.92904681e-01,  9.85068455e-02,\n",
      "       -3.70013453e-02, -3.15062612e-01,  2.08207574e-02,  1.38317689e-01,\n",
      "       -2.73021366e-02,  4.52438183e-02,  1.04827166e-01, -9.00428817e-02,\n",
      "        1.70315206e-01,  1.99578643e-01,  1.12048894e-01,  2.47341357e-02,\n",
      "        4.90764417e-02, -2.26775691e-01, -1.25593409e-01, -4.82755452e-02,\n",
      "       -1.37641877e-01,  1.33910686e-01, -1.54454857e-01, -2.78862044e-02,\n",
      "        8.35826024e-02, -8.50056335e-02,  8.52374956e-02, -1.91002667e-01,\n",
      "       -6.36418015e-02,  1.58191770e-01, -1.30303741e-01,  1.38713226e-01,\n",
      "       -8.97391066e-02, -2.18473449e-01,  1.60917982e-01,  6.56184405e-02,\n",
      "       -1.66020840e-01, -2.04276279e-01, -1.22734211e-01, -2.39169300e-02,\n",
      "        5.90728782e-02, -1.03748195e-01, -3.92293669e-02, -4.86444160e-02,\n",
      "        4.34568115e-02, -1.12375148e-01,  6.63945312e-03, -1.61808610e-01,\n",
      "       -3.38064969e-01,  2.41090283e-01, -2.36048862e-01,  6.88303337e-02,\n",
      "        1.51474774e-01,  2.30754420e-01, -7.97781274e-02, -2.58004218e-01,\n",
      "       -2.04372406e-01, -1.14016220e-01,  5.15005216e-02,  1.99651599e-01,\n",
      "        1.21845052e-01, -4.11802530e-02,  3.94543111e-02, -7.29754865e-02,\n",
      "       -7.66864140e-03, -1.04560457e-01,  8.28824267e-02,  2.44039241e-02,\n",
      "        9.00926162e-03,  5.15828244e-02,  1.76008359e-01, -2.60076910e-01,\n",
      "       -2.08613798e-01,  1.20834745e-01, -1.76939353e-01, -1.43648595e-01,\n",
      "       -2.34035149e-01, -7.14011490e-03,  2.58206725e-01,  1.83881178e-01,\n",
      "       -2.73782760e-01,  2.38725189e-02, -4.85897027e-02, -3.74018140e-02,\n",
      "       -1.60369992e-01, -1.44168049e-01, -1.32422075e-01,  9.81343538e-02,\n",
      "        1.24598294e-01, -7.76823461e-02,  1.08737021e-03, -1.00525431e-01,\n",
      "       -1.47228599e-01,  1.43415900e-02])), ('lib', array([ 2.00000000e+00,  0.00000000e+00,  1.75300000e+03,  5.19000000e+02,\n",
      "        2.60000000e+01,  1.00000000e+00,  1.00000000e+00,  0.00000000e+00,\n",
      "        0.00000000e+00,  0.00000000e+00,  0.00000000e+00,  0.00000000e+00,\n",
      "        0.00000000e+00,  0.00000000e+00,  0.00000000e+00,  0.00000000e+00,\n",
      "        0.00000000e+00,  0.00000000e+00, -8.74842480e-02, -3.70764360e-02,\n",
      "        9.30970311e-02, -1.17311694e-01,  2.71382153e-01, -7.33033568e-02,\n",
      "        3.03065795e-02,  1.54664263e-01,  8.87977779e-02, -1.58553660e-01,\n",
      "        6.44510835e-02,  2.89856941e-02, -4.57383841e-02,  1.26400460e-02,\n",
      "       -1.58480674e-01,  2.39138737e-01, -1.85889557e-01,  3.04234251e-02,\n",
      "       -9.58021916e-03,  2.49661148e-01, -1.66162461e-01,  3.42575341e-01,\n",
      "       -1.45840198e-01, -4.32741046e-02,  9.69058275e-02,  1.06071115e-01,\n",
      "        4.94621247e-02, -1.36257961e-01,  2.16445565e-01, -8.23899806e-02,\n",
      "       -4.19032872e-02, -1.42478138e-01, -4.78604948e-03,  1.06899746e-01,\n",
      "        7.33042061e-02, -2.06324935e-01, -1.01164468e-01, -5.62047819e-03,\n",
      "        5.62686333e-03, -8.97055715e-02,  3.68033238e-02,  7.40647092e-02,\n",
      "        3.91992666e-02,  2.69342184e-01,  2.80117035e-01,  9.04543251e-02,\n",
      "        6.70236256e-03, -2.10702382e-02,  2.78845996e-01, -3.83227840e-02,\n",
      "       -8.02908912e-02, -2.92142361e-01, -1.24868333e-01, -2.78523564e-01,\n",
      "        2.68425345e-01, -1.28212914e-01, -9.81605649e-02,  3.05672009e-02,\n",
      "        2.73899459e-05,  1.66767299e-01,  1.36003628e-01, -2.23572686e-01,\n",
      "       -1.41752183e-01,  1.06626555e-01,  1.10581920e-01,  2.81739421e-02,\n",
      "       -2.86083579e-01, -6.43195882e-02,  2.65399635e-01,  1.53985340e-02,\n",
      "       -1.02426142e-01, -1.27217099e-01,  1.96214601e-01,  2.99242213e-02,\n",
      "       -2.99196243e-02,  6.25890419e-02,  2.16045789e-02, -1.09413937e-02,\n",
      "       -1.04905374e-01, -3.99111118e-03,  2.75134370e-02, -1.35251299e-01,\n",
      "        1.00498512e-01,  3.45283926e-01,  6.52296022e-02,  3.14933628e-01,\n",
      "       -9.94656086e-02, -2.86911111e-02, -5.07628433e-02, -1.74128190e-01,\n",
      "       -8.84409174e-02,  3.81066576e-02, -1.23654492e-02, -1.81425005e-01,\n",
      "       -2.10856810e-01,  6.55708760e-02, -1.30531371e-01, -1.37573466e-01,\n",
      "        9.37072486e-02, -2.67071743e-02,  4.24907893e-01, -2.61613637e-01,\n",
      "       -1.06729820e-01, -1.66654706e-01, -3.92060634e-03, -4.04221714e-02,\n",
      "       -3.60463858e-01, -1.16658323e-02, -2.19605118e-03,  1.33503054e-03,\n",
      "       -1.31245852e-01,  4.83392142e-02,  2.30609834e-01, -1.98510513e-01,\n",
      "        1.04993163e-02, -3.06177527e-01,  3.60759795e-02, -2.10004345e-01,\n",
      "        2.69532531e-01, -2.60726362e-02, -1.83929518e-01, -2.85900924e-02,\n",
      "       -2.79027849e-01,  7.89660439e-02, -1.63657159e-01, -1.23464568e-02,\n",
      "        9.19955522e-02, -1.07017733e-01])), ('lib', array([ 2.46153846e+00,  0.00000000e+00,  1.94200000e+03,  5.79000000e+02,\n",
      "        4.00000000e+01,  7.00000000e+00,  8.00000000e+00,  0.00000000e+00,\n",
      "        0.00000000e+00,  1.70000000e+01,  4.00000000e+00,  3.00000000e+00,\n",
      "        0.00000000e+00,  0.00000000e+00,  0.00000000e+00,  0.00000000e+00,\n",
      "        0.00000000e+00,  0.00000000e+00, -1.80611923e-01, -2.58924872e-01,\n",
      "       -1.53838977e-01,  1.34891868e-01,  2.14313567e-01, -2.14408830e-01,\n",
      "       -3.11974466e-01, -1.12634771e-01, -1.95702925e-01, -1.07993469e-01,\n",
      "        1.76295768e-02,  2.94686779e-02,  1.92487732e-01, -1.01345144e-02,\n",
      "       -8.66506249e-02, -1.84944225e-03, -3.36536556e-01, -9.93425027e-02,\n",
      "        7.30552301e-02, -1.91545218e-01,  4.08616709e-03,  2.52886921e-01,\n",
      "       -1.80536449e-01,  2.26800233e-01,  1.56760126e-01, -7.95425624e-02,\n",
      "        2.16646612e-01, -2.65671343e-01, -1.36375934e-01,  3.43277752e-02,\n",
      "       -7.04704672e-02, -8.68596807e-02,  1.02366976e-01,  5.37348911e-02,\n",
      "        4.66219485e-02, -1.89677887e-02,  1.51433079e-02, -8.68786573e-02,\n",
      "        7.42190033e-02, -2.52021819e-01,  9.41519067e-02,  1.55247495e-01,\n",
      "       -5.49103841e-02,  1.01637222e-01,  1.43740013e-01, -2.82965042e-02,\n",
      "        4.90685292e-02, -2.03358337e-01,  5.64878769e-02, -1.90073829e-02,\n",
      "       -1.76976842e-04,  4.97041643e-02, -2.15478227e-01, -3.48770134e-02,\n",
      "        4.16468918e-01,  2.54368130e-02,  1.53853744e-01, -1.75875455e-01,\n",
      "       -1.41877517e-01,  3.15108985e-01,  5.26333228e-02, -7.09418356e-02,\n",
      "       -1.30016461e-01, -6.21614270e-02,  9.74335298e-02,  1.56332050e-02,\n",
      "        2.10412443e-01, -7.75492692e-04,  1.20862894e-01, -6.54639024e-03,\n",
      "       -8.33638981e-02,  1.25569716e-01,  1.15367495e-01, -1.87976792e-01,\n",
      "        2.44182318e-01,  7.84418136e-02, -1.82472676e-01, -1.24138631e-01,\n",
      "        6.96880594e-02, -1.46114351e-02,  3.07721853e-01, -3.50720659e-02,\n",
      "        1.62456483e-02, -1.94597319e-01, -8.89809281e-02, -1.36731461e-01,\n",
      "       -2.68359393e-01,  8.24694335e-02, -4.94416170e-02, -7.30015561e-02,\n",
      "       -4.81014997e-02, -2.78977871e-01, -1.83883339e-01,  4.88523096e-02,\n",
      "        1.25206441e-01,  3.04920733e-01, -4.28868132e-03, -3.94185446e-03,\n",
      "        1.26865879e-01, -4.33084294e-02,  1.48251310e-01, -9.96442735e-02,\n",
      "        5.50442822e-02, -1.15761040e-02,  9.98458713e-02, -1.14378467e-01,\n",
      "       -2.93570548e-01,  7.67880753e-02, -3.49267758e-02,  1.21834241e-01,\n",
      "       -4.20904011e-01,  4.03534845e-02,  1.29765749e-01, -1.74515709e-01,\n",
      "        9.70339868e-03,  1.13366596e-01, -1.82884052e-01,  2.46435627e-02,\n",
      "        2.27418602e-01, -2.08007425e-01, -3.40375155e-01,  1.26145735e-01,\n",
      "        1.43975571e-01, -8.78548995e-02,  1.29480409e-02, -1.90314934e-01,\n",
      "       -8.74527544e-02, -2.14935765e-02])), ('lib', array([ 2.11764706e+00,  0.00000000e+00,  4.46000000e+02,  2.00000000e+02,\n",
      "        1.70000000e+01,  1.00000000e+00,  1.00000000e+00,  0.00000000e+00,\n",
      "        0.00000000e+00,  1.30000000e+01,  1.00000000e+00,  1.00000000e+00,\n",
      "        0.00000000e+00,  0.00000000e+00,  0.00000000e+00,  0.00000000e+00,\n",
      "        0.00000000e+00,  0.00000000e+00, -8.09187591e-02, -3.80463392e-01,\n",
      "       -5.86191714e-02,  1.66176066e-01, -8.86794627e-02,  1.64940078e-02,\n",
      "       -2.70978063e-01, -1.24556348e-01,  1.15874201e-01, -2.02922434e-01,\n",
      "        1.72939703e-01,  1.31151184e-01,  2.46823564e-01,  9.66132432e-02,\n",
      "        5.81101552e-02, -1.25636935e-01, -1.96744084e-01,  7.31845051e-02,\n",
      "        7.47346506e-02,  2.80569345e-01, -1.51023254e-01,  1.66432381e-01,\n",
      "       -2.54663497e-01,  1.77029390e-02, -1.64835662e-01, -8.86276662e-02,\n",
      "        1.66243732e-01, -2.21911117e-01, -3.27445686e-01, -7.80659765e-02,\n",
      "        2.22349375e-01, -3.74883384e-01,  1.19843066e-01,  7.23745022e-03,\n",
      "        1.12661766e-02,  1.50696516e-01, -4.76902761e-02,  1.41953828e-03,\n",
      "        1.35676429e-01, -1.99286684e-01,  5.18674441e-02, -1.49109811e-02,\n",
      "       -2.11881325e-01, -7.32463375e-02,  1.77794650e-01, -9.23895389e-02,\n",
      "       -1.37000717e-03, -7.62853026e-02,  1.57389641e-01,  1.24246754e-01,\n",
      "       -4.67278287e-02, -2.02678770e-01, -1.69974878e-01, -4.34555337e-02,\n",
      "        2.30707064e-01,  1.09602012e-01, -3.15597504e-02, -1.54719278e-01,\n",
      "       -9.33069289e-02,  1.23578332e-01,  2.70246208e-01, -1.05944976e-01,\n",
      "       -8.46408531e-02, -6.50426373e-02, -1.61918968e-01, -5.49944490e-02,\n",
      "        1.55674666e-01,  8.93651173e-02, -2.07410678e-02,  3.11291851e-02,\n",
      "       -2.92441193e-02, -1.99574783e-01,  7.97400549e-02,  3.32993492e-02,\n",
      "        1.04544856e-01, -1.67114973e-01,  1.68964546e-02,  5.65322861e-02,\n",
      "       -6.87119365e-02, -5.95452599e-02,  1.16828807e-01,  3.37588131e-01,\n",
      "        1.22459084e-02,  1.27245128e-01, -3.09694469e-01,  1.17560454e-01,\n",
      "       -1.56150190e-02, -5.29351505e-03, -1.04901589e-01,  1.89900711e-01,\n",
      "       -2.23677307e-02, -3.28963995e-02,  5.38515896e-02,  1.98768526e-02,\n",
      "        7.29830712e-02,  8.02204758e-03, -2.38721874e-02,  1.14917964e-01,\n",
      "        6.74420893e-02, -1.34613529e-01, -8.04011710e-03,  6.80353120e-02,\n",
      "       -1.43526733e-01, -1.99324980e-01,  8.53931159e-02, -2.67716080e-01,\n",
      "        1.51944831e-01,  1.55327082e-01, -2.67880052e-01, -2.30929643e-01,\n",
      "       -1.39357477e-01, -1.27366647e-01,  3.38184208e-01,  8.67390931e-02,\n",
      "       -2.16255128e-01, -3.04491986e-02, -3.42055082e-01,  1.06168315e-01,\n",
      "       -1.87490419e-01, -2.12294951e-01, -3.75137985e-01,  5.22157550e-02,\n",
      "       -1.73612341e-01,  2.56611735e-01,  2.18669668e-01, -1.70670539e-01,\n",
      "        4.12833504e-02,  3.31025571e-02])), ('lib', array([ 2.00000000e+00,  0.00000000e+00,  2.12000000e+02,  1.36000000e+02,\n",
      "        1.40000000e+01,  1.00000000e+00,  1.00000000e+00,  0.00000000e+00,\n",
      "        0.00000000e+00,  0.00000000e+00,  0.00000000e+00,  0.00000000e+00,\n",
      "        0.00000000e+00,  0.00000000e+00,  0.00000000e+00,  0.00000000e+00,\n",
      "        0.00000000e+00,  0.00000000e+00, -2.87095100e-01, -1.67359278e-01,\n",
      "        1.72151141e-02,  1.65863648e-01,  1.38263822e-01, -1.15148202e-02,\n",
      "       -1.11285802e-02, -1.80417001e-01, -2.41349518e-01,  1.66860566e-01,\n",
      "        2.62956806e-02,  9.82067883e-02,  2.30111205e-03,  1.13371938e-01,\n",
      "       -1.30471021e-01, -3.10163982e-02,  6.94101630e-03,  1.77409545e-01,\n",
      "        1.84013732e-02,  1.77929148e-01, -1.99314892e-01,  3.18213105e-01,\n",
      "        1.27438843e-01,  4.01905775e-02, -3.05117816e-01, -3.58046107e-02,\n",
      "        2.12461710e-01, -1.52740628e-01,  2.47082636e-02, -7.31966496e-02,\n",
      "       -1.70993477e-01, -2.43927911e-01, -1.25332251e-02,  8.58922452e-02,\n",
      "        1.94343776e-01,  3.44640529e-03, -2.63743158e-02,  1.32441193e-01,\n",
      "        1.07274801e-02,  5.83417639e-02,  7.50006065e-02,  4.55448888e-02,\n",
      "       -7.85993412e-03,  1.08439267e-01,  1.81586668e-01,  1.22189708e-01,\n",
      "        1.58998623e-01,  2.65632756e-02,  1.22482099e-01,  1.42068893e-01,\n",
      "        1.12036951e-01,  6.19263723e-02, -5.19558564e-02,  7.73687586e-02,\n",
      "        1.65127650e-01,  6.95860684e-02,  1.33844048e-01, -7.81785101e-02,\n",
      "        1.16804615e-01,  3.09874833e-01,  3.16678137e-01, -2.94258326e-01,\n",
      "       -1.19340673e-01,  3.36284633e-03, -5.68425581e-02,  2.07647473e-01,\n",
      "        6.69781212e-03,  1.23221599e-01,  1.57526225e-01,  2.09737256e-01,\n",
      "        9.08454433e-02, -5.98670654e-02,  1.20346807e-01,  3.71618522e-03,\n",
      "        1.15921855e-01, -6.08223937e-02, -3.94946188e-01, -8.55334997e-02,\n",
      "        2.96203613e-01, -1.23054743e-01,  2.12574471e-02, -1.88775912e-01,\n",
      "       -1.70719065e-02, -1.61234632e-01, -1.48146570e-01,  1.30335152e-01,\n",
      "       -8.79475102e-02, -2.03833193e-01, -1.07729807e-03, -2.39438549e-01,\n",
      "       -1.45137742e-01, -2.13342488e-01, -5.36386739e-04,  4.91119502e-03,\n",
      "        3.96262258e-01, -1.06551982e-01, -1.89737864e-02, -5.49894832e-02,\n",
      "        6.55170977e-02, -2.19411090e-01,  2.60490865e-01,  1.43580839e-01,\n",
      "       -1.22561537e-01,  1.05317272e-01,  1.93903316e-02, -2.86585629e-01,\n",
      "       -2.72281110e-01, -2.85698753e-02, -4.54149134e-02,  4.67816455e-04,\n",
      "       -7.78227374e-02,  1.21377103e-01,  1.57381579e-01, -6.40984550e-02,\n",
      "       -1.75111249e-01,  1.11498579e-01, -1.59749150e-01, -2.86283027e-02,\n",
      "        7.39851734e-03, -3.53884161e-01, -3.44172090e-01,  1.86975256e-01,\n",
      "       -7.16881501e-03,  1.52796119e-01,  1.84864309e-02, -7.30651170e-02,\n",
      "       -2.31494427e-01, -2.45342314e-01])), ('lib', array([ 2.17391304e+00,  0.00000000e+00,  1.28600000e+03,  4.45000000e+02,\n",
      "        3.20000000e+01,  4.00000000e+00,  4.00000000e+00,  0.00000000e+00,\n",
      "        0.00000000e+00,  0.00000000e+00,  0.00000000e+00,  0.00000000e+00,\n",
      "        0.00000000e+00,  0.00000000e+00,  0.00000000e+00,  0.00000000e+00,\n",
      "        0.00000000e+00,  0.00000000e+00, -8.49457011e-02, -5.64499013e-02,\n",
      "       -2.02824891e-01,  7.33664334e-02,  1.38270240e-02, -1.13797691e-02,\n",
      "        1.09388214e-02, -1.36178643e-01,  6.42935187e-02,  1.73781137e-03,\n",
      "        3.73901590e-03,  3.46615873e-02, -3.57668817e-01,  2.22941592e-01,\n",
      "       -1.87483430e-01,  3.84229496e-02, -2.10332692e-01,  9.20821130e-02,\n",
      "       -3.39317659e-04,  2.26731569e-01, -1.42457098e-01,  1.90919235e-01,\n",
      "       -2.32072219e-01, -9.15305167e-02, -2.10963145e-01, -8.36823694e-03,\n",
      "        1.61747679e-01, -2.35599890e-01, -2.47486860e-01,  8.14604387e-02,\n",
      "       -9.53465700e-02, -4.67610769e-02, -1.29350528e-01, -2.30931910e-03,\n",
      "       -1.72811255e-01, -2.80036740e-02, -1.33195013e-01, -3.34982760e-02,\n",
      "        2.54579466e-02, -2.33336017e-01,  1.24836497e-01,  1.71094134e-01,\n",
      "       -7.78907016e-02,  2.34017093e-02,  1.32160455e-01, -3.68344188e-01,\n",
      "        1.70886770e-01, -1.00070378e-02,  1.62941307e-01,  1.35687068e-01,\n",
      "       -1.01817064e-01, -1.73407555e-01,  1.27366826e-01,  9.57206171e-03,\n",
      "        6.52562082e-02,  1.69791475e-01, -8.78951177e-02, -1.30383953e-01,\n",
      "       -2.02055916e-01,  5.67883961e-02, -1.42290257e-02, -2.93243110e-01,\n",
      "        4.90615368e-02,  1.19109176e-01, -2.50831962e-01, -1.16762385e-01,\n",
      "       -4.69696894e-02, -5.04528508e-02,  5.95460609e-02, -6.82906061e-02,\n",
      "        6.58691600e-02, -2.07077563e-01, -2.43124142e-01,  4.56588045e-02,\n",
      "        1.61584601e-01,  7.90028647e-02,  8.68084133e-02, -1.83867529e-01,\n",
      "        4.44748431e-01,  1.31400421e-01, -3.40781435e-02, -1.26838773e-01,\n",
      "       -2.27115557e-01,  1.62489593e-01, -6.30636439e-02, -1.74497351e-01,\n",
      "        7.63773844e-02,  6.39753565e-02, -1.59946308e-01, -2.12058976e-01,\n",
      "       -1.06945992e-01,  8.80782008e-02,  1.09503105e-01,  8.83424655e-02,\n",
      "        1.57869771e-01, -7.81391114e-02, -4.39959876e-02, -2.85936780e-02,\n",
      "        2.10595027e-01, -1.20622285e-01,  3.62153202e-02, -7.31976703e-02,\n",
      "       -7.70179601e-03,  1.53277308e-01,  1.63632989e-01,  9.36362892e-02,\n",
      "       -3.03628206e-01, -4.43292633e-02, -2.20402673e-01, -9.34243724e-02,\n",
      "       -2.72047609e-01,  1.42500162e-01,  2.11577952e-01,  8.03552382e-03,\n",
      "       -1.53187305e-01, -3.97814661e-02,  1.73443824e-01,  4.43831645e-02,\n",
      "        7.72707984e-02, -2.81033397e-01, -4.80784804e-01,  2.73269296e-01,\n",
      "        2.11499557e-01, -1.20684594e-01, -8.85513723e-02, -8.33137333e-02,\n",
      "        3.75791155e-02,  1.44792095e-01])), ('neutral', array([ 1.84615385e+00,  0.00000000e+00,  1.65000000e+02,  1.10000000e+02,\n",
      "        1.10000000e+01,  0.00000000e+00,  0.00000000e+00,  0.00000000e+00,\n",
      "        0.00000000e+00,  0.00000000e+00,  0.00000000e+00,  0.00000000e+00,\n",
      "        0.00000000e+00,  0.00000000e+00,  0.00000000e+00,  0.00000000e+00,\n",
      "        0.00000000e+00,  0.00000000e+00,  1.28165614e-02, -1.44728169e-01,\n",
      "       -1.33760080e-01,  3.95144010e-03,  8.87327418e-02, -2.18006670e-01,\n",
      "        6.64052665e-02, -4.62567627e-01,  9.50467493e-03, -3.07634950e-01,\n",
      "       -8.50633811e-03,  6.43626461e-03, -1.73981918e-03,  1.19719334e-01,\n",
      "        9.98971052e-03,  1.25554036e-02,  4.66160774e-02,  4.45621535e-02,\n",
      "        1.57942504e-01,  4.93587255e-02, -1.85729384e-01,  2.34614417e-01,\n",
      "       -2.14666650e-01, -3.02428938e-02, -7.13783205e-02,  3.07470858e-02,\n",
      "       -1.09607510e-01, -1.81713700e-01, -1.27527669e-01, -1.60705715e-01,\n",
      "        1.47290617e-01, -2.33018428e-01,  1.87307186e-02,  9.41919088e-02,\n",
      "        2.18547136e-01, -1.16284691e-01, -7.99568743e-02,  1.16291799e-01,\n",
      "        4.66573946e-02, -1.92048803e-01,  2.89640743e-02,  1.56149402e-01,\n",
      "       -1.37859479e-01,  9.51553956e-02,  1.47594750e-01,  1.85203508e-01,\n",
      "        1.56425506e-01, -7.76394084e-02, -1.17791183e-01, -1.25919608e-02,\n",
      "        6.04562759e-02, -9.82361287e-02, -1.54823557e-01, -1.10944271e-01,\n",
      "        3.59070569e-01,  4.02071849e-02,  1.35412231e-01, -9.83721539e-02,\n",
      "        8.38314518e-02, -1.11795306e-01,  2.57107228e-01, -1.93728530e-03,\n",
      "       -5.21424375e-02, -1.23361543e-01, -7.14996383e-02, -1.83229446e-01,\n",
      "        3.52494299e-01, -2.54381616e-02, -6.60984665e-02,  2.93412656e-01,\n",
      "       -2.91451868e-02, -3.79072726e-02,  6.88865706e-02,  1.62257046e-01,\n",
      "        2.05670431e-01,  2.01693594e-01, -3.87716979e-01, -9.88372564e-02,\n",
      "        2.73224473e-01, -1.87725514e-01, -1.00422733e-01,  6.51580840e-02,\n",
      "       -2.19654799e-01,  5.07183224e-02, -1.78950861e-01,  1.81214269e-02,\n",
      "       -6.47213981e-02,  3.94816622e-02, -2.22680375e-01, -2.70602405e-01,\n",
      "       -8.07534754e-02, -4.37963270e-02,  8.20441917e-02, -2.08454300e-02,\n",
      "        2.71717529e-03, -5.44461608e-02, -2.99136430e-01, -1.66589499e-01,\n",
      "        2.68563241e-01, -7.09782168e-02,  8.25522095e-03,  4.04922254e-02,\n",
      "       -2.14008644e-01,  1.63952753e-01,  2.70426273e-01, -2.39069089e-01,\n",
      "       -4.17240858e-01, -3.80092561e-02, -1.76891774e-01, -1.09516889e-01,\n",
      "       -5.65508977e-02,  2.53320664e-01,  1.56365842e-01,  1.20092489e-01,\n",
      "       -1.95028991e-01,  1.22764006e-01, -2.29246318e-01,  1.70690954e-01,\n",
      "        1.34749293e-01,  2.49962620e-02, -4.58404839e-01,  1.31054014e-01,\n",
      "        5.14752492e-02, -9.05258730e-02,  3.79233882e-02,  2.19913647e-02,\n",
      "       -1.46350786e-01, -7.53293857e-02])), ('neutral', array([ 1.84615385e+00,  0.00000000e+00,  1.65000000e+02,  1.10000000e+02,\n",
      "        1.10000000e+01,  0.00000000e+00,  0.00000000e+00,  0.00000000e+00,\n",
      "        0.00000000e+00,  0.00000000e+00,  0.00000000e+00,  0.00000000e+00,\n",
      "        0.00000000e+00,  0.00000000e+00,  0.00000000e+00,  0.00000000e+00,\n",
      "        0.00000000e+00,  0.00000000e+00,  2.22992748e-02, -2.73834914e-01,\n",
      "       -1.39092013e-01,  8.98400992e-02, -8.65249261e-02, -1.60583004e-01,\n",
      "       -4.22017835e-03, -1.90691009e-01, -2.91151111e-03, -2.01723427e-01,\n",
      "        1.66832417e-01,  1.09181307e-01, -2.61891279e-02,  4.04384881e-02,\n",
      "        5.25729358e-02,  1.79243252e-01, -1.12027138e-01, -1.81388170e-01,\n",
      "        7.92828202e-02,  9.64370032e-04, -2.32056212e-02,  5.57409637e-02,\n",
      "       -1.17850967e-01,  1.87956646e-01,  4.81685288e-02, -1.33611560e-01,\n",
      "        1.25592023e-01, -3.07505161e-01, -2.76919216e-01,  1.24503464e-01,\n",
      "        1.81363940e-01, -1.54269084e-01,  5.27850576e-02,  6.44296110e-02,\n",
      "       -2.42873989e-02,  1.37130572e-02,  1.76851973e-01, -9.38277841e-02,\n",
      "       -6.75145239e-02,  1.42744100e-02, -6.45872653e-02,  1.51089817e-01,\n",
      "        7.72250220e-02, -8.90451763e-03,  1.56801924e-01, -1.62204392e-02,\n",
      "       -2.10183099e-01, -6.68691620e-02, -1.07567506e-02, -6.26629964e-02,\n",
      "        2.29438081e-01, -5.72822429e-02, -2.66238805e-02, -4.05662917e-02,\n",
      "        2.45598052e-02,  1.79858685e-01, -1.54544517e-01, -5.61968908e-02,\n",
      "       -1.99422807e-01,  2.85524279e-01,  1.99908823e-01, -2.32974231e-01,\n",
      "       -1.83285102e-01, -1.44786432e-01, -1.38709858e-01,  1.30554393e-01,\n",
      "        4.97404933e-02,  2.28050366e-01,  1.22882299e-01, -1.91093326e-01,\n",
      "       -8.12204555e-02, -1.16674140e-01,  7.22950995e-02,  7.89983720e-02,\n",
      "        8.04094449e-02,  3.56705934e-01, -3.15481305e-01,  2.19558962e-02,\n",
      "        7.63671398e-02, -2.84194108e-02,  6.50829449e-02, -4.33808833e-01,\n",
      "        4.52162847e-02,  1.95305850e-02,  5.67074865e-03,  1.97522603e-02,\n",
      "       -2.73122936e-01, -2.62962490e-01,  6.49545342e-02, -2.83162832e-01,\n",
      "        1.16840132e-01, -2.80897915e-02,  6.38245884e-03, -1.32167250e-01,\n",
      "        1.12857856e-01, -7.23027289e-02, -2.12402433e-01, -2.30327807e-03,\n",
      "       -4.12480123e-02, -7.49562867e-03, -1.45829603e-01,  1.18345752e-01,\n",
      "       -3.62059288e-02,  4.67329770e-01, -3.11123710e-02, -2.42220670e-01,\n",
      "       -3.23958427e-01,  2.25004539e-01, -3.08993012e-01, -1.02797754e-01,\n",
      "        2.43317828e-01,  1.29077867e-01,  1.23999543e-01, -8.71097967e-02,\n",
      "       -1.00652672e-01,  1.73933983e-01,  7.12612420e-02,  1.40073419e-01,\n",
      "        1.52939782e-01, -3.32680553e-01,  1.75944418e-01,  4.84370776e-02,\n",
      "       -1.85110793e-01, -2.61356384e-01,  3.17508169e-02, -2.21836388e-01,\n",
      "       -1.66411828e-02, -2.52615422e-01])), ('neutral', array([ 2.25000000e+00,  0.00000000e+00,  3.44000000e+02,  1.94000000e+02,\n",
      "        1.90000000e+01,  1.00000000e+00,  2.00000000e+00,  0.00000000e+00,\n",
      "        0.00000000e+00,  0.00000000e+00,  0.00000000e+00,  0.00000000e+00,\n",
      "        0.00000000e+00,  0.00000000e+00,  0.00000000e+00,  0.00000000e+00,\n",
      "        0.00000000e+00,  0.00000000e+00, -5.25781214e-02, -2.36080632e-01,\n",
      "       -9.08658803e-02,  7.39328749e-03,  1.52994663e-01, -1.85958952e-01,\n",
      "       -1.22375704e-01, -1.80004805e-01, -3.82679969e-01,  2.82289535e-02,\n",
      "        1.95708245e-01, -4.81089428e-02,  1.79928690e-01,  1.66032719e-03,\n",
      "        1.17474176e-01,  3.06134112e-03, -1.53600618e-01,  2.80629069e-01,\n",
      "        1.19291924e-01,  2.02923730e-01,  5.63003793e-02,  4.37167943e-01,\n",
      "       -2.52585635e-02,  9.59034413e-02,  5.53905033e-02, -1.00590557e-01,\n",
      "        2.08145812e-01,  3.16904299e-02, -2.31280833e-01,  6.95439056e-02,\n",
      "        7.66110867e-02, -1.19703412e-01,  2.88829237e-01, -1.11906804e-01,\n",
      "       -2.25440990e-02, -1.38978601e-01, -1.85861975e-01,  1.58238441e-01,\n",
      "        7.68747851e-02, -2.58044779e-01,  5.90763129e-02,  1.55696332e-01,\n",
      "        1.18697599e-01,  1.14866436e-01,  1.63993105e-01, -3.75980102e-02,\n",
      "        9.05184373e-02, -9.82019007e-02,  3.16228062e-01,  3.40391509e-02,\n",
      "       -2.89652161e-02, -2.20495462e-01, -1.87735185e-01, -3.19546796e-02,\n",
      "        2.31998697e-01,  3.48021300e-03,  4.47806949e-03, -5.80270030e-02,\n",
      "       -1.47365406e-01,  1.31794080e-01,  3.11106056e-01, -1.88918099e-01,\n",
      "        2.82442110e-04, -9.48152989e-02,  6.13352358e-02, -5.16312085e-02,\n",
      "       -3.58267897e-03, -2.21003875e-01,  1.41594395e-01,  7.10479869e-03,\n",
      "       -1.01090588e-01, -1.37670636e-01,  1.20931663e-01, -1.20590515e-01,\n",
      "        1.93005592e-01, -9.53181181e-03, -1.06092999e-02, -2.00137749e-01,\n",
      "        1.41880751e-01, -1.59725115e-01,  1.79422572e-01, -2.61861742e-01,\n",
      "       -2.03049421e-01,  5.64146452e-02, -4.39049751e-01, -5.06166108e-02,\n",
      "       -7.08616003e-02,  8.18586946e-02, -1.62971973e-01, -1.43121123e-01,\n",
      "       -2.24789158e-02,  1.53881475e-01, -5.34601323e-02,  1.14926979e-01,\n",
      "        1.20948106e-01, -4.14918400e-02, -6.09359145e-02,  2.49429774e-02,\n",
      "        7.50970393e-02, -2.19678953e-01,  6.08190894e-02, -9.18881819e-02,\n",
      "       -2.12795138e-01,  2.42949486e-01,  1.98343948e-01,  9.90850329e-02,\n",
      "       -2.45770931e-01,  4.02962416e-02, -2.08609506e-01,  1.43139726e-02,\n",
      "       -1.46617338e-01,  3.70300561e-02,  7.85209239e-02, -1.10191166e-01,\n",
      "       -7.97347426e-02,  4.22865450e-02, -4.53709543e-01,  2.44782846e-02,\n",
      "       -5.29028177e-02, -2.87211627e-01, -3.17704767e-01,  1.74908310e-01,\n",
      "       -1.52797531e-02,  2.57259160e-01, -1.73100419e-02,  4.08298410e-02,\n",
      "       -2.66109884e-01, -8.23329538e-02])), ('neutral', array([ 2.00000000e+00,  0.00000000e+00,  5.61000000e+02,  2.24000000e+02,\n",
      "        1.50000000e+01,  0.00000000e+00,  0.00000000e+00,  0.00000000e+00,\n",
      "        0.00000000e+00,  1.40000000e+01,  1.00000000e+00,  1.00000000e+00,\n",
      "        0.00000000e+00,  0.00000000e+00,  0.00000000e+00,  0.00000000e+00,\n",
      "        0.00000000e+00,  0.00000000e+00,  9.20773596e-02, -2.05278188e-01,\n",
      "       -8.30832031e-03,  1.04051128e-01, -6.76754117e-02, -3.43347229e-02,\n",
      "       -2.89926410e-01, -2.31073350e-01,  1.34846598e-01,  1.63561766e-04,\n",
      "        2.95488030e-01, -3.67198400e-02,  1.11882677e-02, -1.89523716e-02,\n",
      "       -5.08856997e-02,  7.63094649e-02, -1.85238361e-01,  1.34358793e-01,\n",
      "        7.61635676e-02,  1.68463513e-01,  4.74048406e-02, -1.35509118e-01,\n",
      "        5.27278297e-02, -5.29450141e-02, -1.45208882e-02,  2.93285102e-01,\n",
      "        1.94626749e-01, -2.04654887e-01, -1.43680766e-01, -2.31266156e-01,\n",
      "        1.10738687e-01,  5.47537534e-03,  1.22471981e-01, -2.41884768e-01,\n",
      "       -7.85549656e-02, -1.50045335e-01, -1.07018873e-01,  1.16766877e-01,\n",
      "       -7.73022175e-02, -6.36425912e-02,  3.24570090e-01,  1.69661999e-01,\n",
      "       -1.24572441e-01,  1.84332177e-01,  1.18307993e-01, -7.33047202e-02,\n",
      "       -2.97050387e-01, -1.31908476e-01, -2.75241211e-02,  4.24357593e-01,\n",
      "       -8.55766758e-02, -9.95622799e-02, -1.34890964e-02, -1.99141040e-01,\n",
      "        1.93428591e-01,  1.46697974e-02,  1.41668200e-01, -3.27833980e-01,\n",
      "       -7.97445476e-02,  2.31588751e-01,  3.54171894e-03, -1.39705554e-01,\n",
      "       -2.67648935e-01,  2.59036005e-01, -3.41245756e-02, -2.29331449e-01,\n",
      "       -2.23853923e-02,  9.27127823e-02,  2.18236120e-03,  1.91463113e-01,\n",
      "        1.96872037e-02, -3.07963669e-01, -3.10052522e-02,  9.78153646e-02,\n",
      "        2.60219306e-01, -1.11460991e-01, -1.58472061e-01, -1.35037407e-01,\n",
      "       -8.69958177e-02, -1.48422480e-01,  2.47738928e-01, -2.62672484e-01,\n",
      "       -1.45234391e-01,  3.75055224e-01, -1.73155159e-01,  1.79560453e-01,\n",
      "        1.63398236e-01, -1.30976394e-01, -3.15040022e-01, -2.19452128e-01,\n",
      "        6.70303628e-02, -3.23946998e-02, -2.60546476e-01, -1.76525250e-01,\n",
      "       -1.91368088e-01,  3.29133607e-02, -2.18361259e-01, -4.18289527e-02,\n",
      "        1.41517431e-01, -1.03652574e-01, -1.39949188e-01,  2.31209397e-01,\n",
      "       -1.79461658e-01,  5.07956278e-03,  7.37886205e-02,  3.49044055e-02,\n",
      "       -2.04272419e-01,  2.84108579e-01, -3.77551243e-02, -8.30947086e-02,\n",
      "        1.41507313e-01,  2.12385561e-02,  2.29324233e-02, -1.34353057e-01,\n",
      "        8.71713683e-02, -2.69044966e-01,  3.98317166e-02,  6.67942390e-02,\n",
      "       -8.71218443e-02,  1.20360069e-01, -1.22063778e-01,  1.60079077e-01,\n",
      "       -2.46505309e-02,  1.56699806e-01, -5.08137271e-02,  1.11639388e-02,\n",
      "       -2.00502783e-01, -2.73057073e-01])), ('neutral', array([ 2.17647059e+00,  5.94771242e-02,  4.87400000e+03,  1.03800000e+03,\n",
      "        5.00000000e+01,  1.00000000e+01,  1.00000000e+01,  2.00000000e+00,\n",
      "        0.00000000e+00,  0.00000000e+00,  0.00000000e+00,  0.00000000e+00,\n",
      "        0.00000000e+00,  0.00000000e+00,  0.00000000e+00,  0.00000000e+00,\n",
      "        0.00000000e+00,  0.00000000e+00, -2.85014540e-01, -1.24153942e-01,\n",
      "        1.27398208e-01,  1.26181319e-01,  2.31887236e-01, -1.88766941e-01,\n",
      "       -9.48241800e-02, -1.08526893e-01,  3.03292703e-02,  6.01077862e-02,\n",
      "        1.97026044e-01, -1.34291902e-01,  1.14385545e-01,  1.77530125e-01,\n",
      "       -1.43168718e-01,  2.03288957e-01,  7.61869317e-03,  1.44550845e-01,\n",
      "       -4.52415235e-02, -2.26993905e-03, -1.52165234e-01,  1.05085231e-01,\n",
      "       -1.71787485e-01,  1.69202298e-01,  1.60303235e-01, -2.35415876e-01,\n",
      "       -9.70067307e-02, -1.49800822e-01, -2.15253115e-01, -1.02464348e-01,\n",
      "       -2.27269113e-01, -1.15968250e-01,  2.56219208e-02, -1.79798946e-01,\n",
      "        1.21956356e-01, -8.76653790e-02,  7.54262432e-02,  1.02944829e-01,\n",
      "       -1.52668044e-01, -2.59001136e-01,  8.12929869e-02,  1.73796520e-01,\n",
      "       -1.28374085e-01,  1.00474954e-01,  1.94682151e-01,  4.25347835e-02,\n",
      "       -3.47454511e-02,  2.24598378e-01,  1.74868107e-01,  9.23352540e-02,\n",
      "       -6.91244751e-02, -6.69593364e-02, -9.29309875e-02, -9.63221192e-02,\n",
      "        2.18007714e-02,  1.89567134e-01, -2.08383217e-01,  7.53935128e-02,\n",
      "        2.55949169e-01,  2.30472639e-01,  9.73517373e-02, -3.17324132e-01,\n",
      "       -9.48263034e-02,  1.26693025e-01, -8.43398646e-02,  5.11620380e-02,\n",
      "        9.74377990e-02, -4.18671221e-02,  1.59049943e-01,  2.14529820e-02,\n",
      "        1.75139144e-01,  1.50595531e-02, -1.71390072e-01, -1.73455849e-02,\n",
      "        2.14115977e-01,  8.32131803e-02, -7.67598115e-03,  9.82379243e-02,\n",
      "        9.32704732e-02, -1.33213207e-01,  1.95400730e-01,  1.22999549e-01,\n",
      "       -2.14771360e-01,  4.66161547e-03, -9.08580571e-02, -5.00518866e-02,\n",
      "       -6.86799660e-02,  3.28049928e-01, -1.96902782e-01, -1.22538945e-02,\n",
      "        1.57323137e-01,  2.50545517e-02,  3.63162048e-02,  1.60345212e-02,\n",
      "        6.01369813e-02,  3.97360176e-02,  1.32725701e-01,  7.57081509e-02,\n",
      "        2.39240050e-01, -2.50344463e-02,  1.33900881e-01,  8.94316882e-02,\n",
      "        2.07996905e-01, -9.28138420e-02,  1.90583035e-01,  1.32509112e-01,\n",
      "        6.08943589e-02,  2.37047911e-01, -4.92200181e-02, -1.18161991e-01,\n",
      "       -1.69272080e-01, -9.42072552e-03,  1.99986011e-01, -3.11590713e-02,\n",
      "        2.48295456e-01,  1.90632477e-01, -2.33205065e-01, -5.86333163e-02,\n",
      "        7.95289055e-02, -1.61656573e-01, -1.75561696e-01, -1.10102877e-01,\n",
      "        8.49189460e-02, -8.37901887e-03,  2.30845392e-01, -2.58923173e-01,\n",
      "       -2.83663243e-01, -3.12548578e-01])), ('neutral', array([ 2.14285714e+00,  0.00000000e+00,  2.14000000e+02,  1.22000000e+02,\n",
      "        1.40000000e+01,  1.00000000e+00,  1.00000000e+00,  0.00000000e+00,\n",
      "        0.00000000e+00,  1.00000000e+01,  1.00000000e+00,  1.00000000e+00,\n",
      "        0.00000000e+00,  0.00000000e+00,  0.00000000e+00,  0.00000000e+00,\n",
      "        0.00000000e+00,  0.00000000e+00, -8.52730963e-03, -1.76514223e-01,\n",
      "        2.46000767e-01,  3.88609692e-02,  2.71517038e-02, -5.89381419e-02,\n",
      "       -1.84520051e-01, -1.45755664e-01, -1.78088903e-01,  8.00667778e-02,\n",
      "       -1.90364453e-03,  1.19271308e-01,  1.15150183e-01,  1.49816405e-02,\n",
      "        4.40162793e-02, -3.90479043e-02, -1.91695750e-01,  9.01176929e-02,\n",
      "        2.69870698e-01,  8.93275514e-02,  2.18300056e-02,  1.65569540e-02,\n",
      "        2.23098230e-02,  4.14808467e-02,  1.69926152e-01, -2.54072934e-01,\n",
      "       -2.91624129e-01, -1.22832827e-01,  7.60506317e-02,  5.40777389e-03,\n",
      "       -6.00364394e-02, -9.05441716e-02, -9.47669707e-03, -1.90183789e-01,\n",
      "       -4.65558246e-02, -1.50026590e-01, -1.27497897e-01, -7.35000744e-02,\n",
      "        1.42298728e-01,  1.34527355e-01, -3.44382823e-01,  1.97806269e-01,\n",
      "       -1.87328219e-01,  2.05201775e-01,  1.71644703e-01,  3.21084380e-01,\n",
      "        1.48869678e-02, -7.96541274e-02,  6.69131577e-02,  2.20049941e-03,\n",
      "        6.02845065e-02, -1.77240476e-01,  3.11595537e-02,  5.14557734e-02,\n",
      "        2.68035412e-01,  2.25144744e-01,  1.83278978e-01, -1.52415648e-01,\n",
      "        5.35354167e-02,  2.31847148e-02,  2.70846725e-01, -3.45805764e-01,\n",
      "       -3.11011076e-01, -4.20190133e-02,  4.11254242e-02, -9.72928479e-02,\n",
      "        8.98006000e-03, -8.05641934e-02,  4.56698015e-02, -1.10175744e-01,\n",
      "       -5.61791882e-02,  1.34446517e-01,  2.78603453e-02, -1.81933418e-01,\n",
      "        2.56060809e-02,  1.18317734e-02, -2.20441267e-01, -1.65214807e-01,\n",
      "       -7.43978769e-02, -1.91765472e-01,  3.12698483e-01, -4.08813879e-02,\n",
      "        1.69356704e-01, -7.03765824e-02, -2.13215813e-01,  7.82043487e-02,\n",
      "       -1.31272376e-02,  2.20892336e-02, -3.11920106e-01,  2.96143852e-02,\n",
      "       -9.83082727e-02, -3.45925778e-01,  6.71175718e-02,  1.01473890e-01,\n",
      "       -9.59755778e-02, -1.99039206e-01,  2.04289809e-01, -2.46408939e-01,\n",
      "        1.43031776e-01, -1.02101907e-01, -7.81504288e-02,  1.50666475e-01,\n",
      "        3.03590707e-02,  1.29282111e-02,  1.44112721e-01, -5.22021838e-02,\n",
      "       -1.46076307e-02, -1.89761594e-01, -4.58594531e-01, -1.63036305e-02,\n",
      "        1.40346944e-01,  3.09935454e-02,  2.11531863e-01, -8.71694684e-02,\n",
      "        3.05083413e-02,  1.91265479e-01, -3.70638669e-01,  1.54839978e-01,\n",
      "        1.83459848e-01, -1.40987620e-01, -2.56703138e-01,  3.65490794e-01,\n",
      "        1.43528476e-01,  1.11836053e-01,  4.95845415e-02,  3.99661064e-02,\n",
      "        1.85799580e-02, -5.07805645e-02])), ('neutral', array([ 2.55172414e+00,  0.00000000e+00,  2.81300000e+03,  7.07000000e+02,\n",
      "        4.30000000e+01,  7.00000000e+00,  6.00000000e+00,  0.00000000e+00,\n",
      "        0.00000000e+00,  5.70000000e+01,  9.00000000e+00,  9.00000000e+00,\n",
      "        0.00000000e+00,  0.00000000e+00,  0.00000000e+00,  3.00000000e+00,\n",
      "        0.00000000e+00,  0.00000000e+00, -1.35505766e-01, -1.63256437e-01,\n",
      "       -8.06693509e-02, -2.54404191e-02, -5.31012714e-02, -2.06929460e-01,\n",
      "       -2.30600573e-02, -2.72671968e-01, -1.42369434e-01, -1.79778375e-02,\n",
      "        2.26862013e-01,  1.18441202e-01, -6.93552792e-02, -1.21434070e-02,\n",
      "        1.05644889e-01,  1.76290929e-01, -1.82484105e-01,  4.77511138e-02,\n",
      "        3.20907533e-02,  1.18799917e-01, -3.76009047e-02,  1.73735976e-01,\n",
      "       -9.10911933e-02, -3.04942131e-02,  2.53979146e-01, -1.06453173e-01,\n",
      "        5.67284524e-02, -2.42143035e-01, -9.37695242e-03, -6.43535564e-03,\n",
      "        5.46721630e-02, -1.08455732e-01,  4.77476150e-01, -2.43880257e-01,\n",
      "        1.81008503e-01,  4.19111513e-02,  3.50822285e-02, -5.35235740e-03,\n",
      "       -3.23953241e-01, -1.27407044e-01,  1.37004614e-01,  1.84165612e-01,\n",
      "       -9.67995524e-02, -6.68769702e-02,  7.42899925e-02, -1.33764446e-01,\n",
      "       -4.86551924e-03, -5.11042699e-02, -2.36647259e-02, -6.60737827e-02,\n",
      "        7.21317530e-02, -2.25689754e-01, -5.94959669e-02,  1.51824325e-01,\n",
      "        1.39156237e-01,  9.85132605e-02,  1.54660702e-01, -3.12263131e-01,\n",
      "       -1.50398210e-01, -3.83507274e-02,  6.21594936e-02, -2.03204468e-01,\n",
      "       -2.55024314e-01,  3.47562581e-02, -8.85520224e-03, -2.32839197e-01,\n",
      "       -1.72010586e-01,  1.70476141e-03,  3.78619492e-01, -2.88807484e-03,\n",
      "       -3.73842791e-02, -1.53914779e-01, -6.18810505e-02, -2.03846544e-01,\n",
      "        1.81320235e-01,  1.43329650e-01, -2.56045341e-01,  4.70518358e-02,\n",
      "        1.82208806e-01, -1.55671477e-01, -6.21671043e-02, -2.76481926e-01,\n",
      "       -1.19591549e-01,  7.78461918e-02, -5.24585955e-02,  1.72451869e-01,\n",
      "       -4.87185903e-02,  2.45807935e-02, -2.38383021e-02, -1.37944087e-01,\n",
      "        1.14933386e-01,  1.60137415e-01, -2.79086400e-02, -8.33824649e-02,\n",
      "       -4.46389392e-02, -5.36041409e-02,  4.55488078e-03, -1.18172262e-02,\n",
      "       -4.85184789e-02, -2.57609785e-01,  9.75472927e-02, -3.88585150e-01,\n",
      "        2.13891198e-03,  4.97832000e-02,  8.86409283e-02, -1.53151035e-01,\n",
      "       -1.80315718e-01, -1.11880861e-01, -3.57931084e-03, -2.19823986e-01,\n",
      "       -9.65531394e-02,  2.48985484e-01,  1.19428046e-01, -3.54638100e-01,\n",
      "       -1.21222347e-01, -4.98819761e-02, -4.06122878e-02, -1.06576888e-03,\n",
      "       -3.35509956e-01, -2.55086571e-01, -3.34100962e-01,  3.50647360e-01,\n",
      "       -5.04992865e-02,  1.37755111e-01,  1.78456083e-01,  4.24500890e-02,\n",
      "       -1.61651552e-01, -1.39646426e-01])), ('neutral', array([ 1.88235294e+00,  0.00000000e+00,  4.55000000e+02,  2.10000000e+02,\n",
      "        1.50000000e+01,  0.00000000e+00,  0.00000000e+00,  0.00000000e+00,\n",
      "        0.00000000e+00,  0.00000000e+00,  0.00000000e+00,  0.00000000e+00,\n",
      "        0.00000000e+00,  0.00000000e+00,  0.00000000e+00,  0.00000000e+00,\n",
      "        0.00000000e+00,  0.00000000e+00,  8.89386162e-02,  5.77693135e-02,\n",
      "       -4.21081297e-02, -3.98756266e-02,  1.36465162e-01, -2.43919179e-01,\n",
      "       -2.18642429e-01, -9.21746567e-02, -7.42101222e-02, -9.58698094e-02,\n",
      "        2.75757890e-02,  2.52433747e-01,  1.36607841e-01, -5.25155887e-02,\n",
      "       -9.64944586e-02,  1.12306267e-01,  4.46064547e-02,  1.65849715e-01,\n",
      "       -3.77471745e-02,  5.42848855e-02,  3.14822607e-02,  6.66700304e-02,\n",
      "       -2.97664016e-01, -8.34186524e-02, -3.71562541e-02, -1.03231743e-02,\n",
      "        2.74690576e-02, -3.32465589e-01, -8.84596482e-02,  1.12730972e-01,\n",
      "       -3.30384940e-01,  5.23122167e-03,  6.85515851e-02,  3.22424136e-02,\n",
      "        2.55478293e-01,  1.53224180e-02, -1.82921603e-01,  3.70240331e-01,\n",
      "        1.38940080e-03, -1.63228571e-01,  2.71662623e-01,  2.08521262e-01,\n",
      "        2.87192389e-02,  3.55446070e-01,  1.73960641e-01, -6.92418143e-02,\n",
      "        6.64999411e-02, -1.52323330e-02,  1.11270947e-02,  2.82867312e-01,\n",
      "        2.06800867e-02, -1.35310486e-01, -4.35816526e-01,  2.09040537e-01,\n",
      "        3.21855515e-01, -5.81733584e-02, -1.49859637e-01, -4.20211375e-01,\n",
      "        1.75741082e-03,  1.86178654e-01,  2.35511228e-01, -1.36669025e-01,\n",
      "       -2.29878668e-02,  1.91578697e-02, -1.62462443e-01, -3.42559852e-02,\n",
      "       -1.79816946e-01, -8.50142464e-02,  2.39340529e-01, -2.39502415e-02,\n",
      "        2.02566653e-01, -2.75916785e-01, -9.43168327e-02,  8.25276226e-03,\n",
      "        8.80892575e-02,  1.32945478e-01, -1.91919401e-01, -6.54656887e-02,\n",
      "        1.16813563e-01,  1.55171901e-01,  3.06048274e-01,  1.09744124e-01,\n",
      "       -3.06699216e-01, -3.52107338e-03, -5.11534736e-02,  1.91724785e-02,\n",
      "        1.84700057e-01, -1.37357756e-01,  3.22823077e-02, -1.74136326e-01,\n",
      "       -1.32947462e-02, -8.50131437e-02,  6.62139505e-02,  1.46280825e-01,\n",
      "        1.27857834e-01,  1.41865522e-01, -6.14252053e-02, -5.57109639e-02,\n",
      "       -2.60299772e-01, -1.30975887e-01, -2.00254787e-02,  7.63632208e-02,\n",
      "       -1.86677009e-01,  6.39078245e-02,  6.66101873e-02,  1.14259467e-01,\n",
      "        2.10880432e-02,  1.20785860e-02, -8.10295492e-02,  1.03212483e-01,\n",
      "        2.57354155e-02,  1.22978948e-01,  6.19239956e-02, -7.60915130e-02,\n",
      "       -7.10276291e-02,  3.43758732e-01, -6.10738099e-02,  6.06740899e-02,\n",
      "        9.95354056e-02, -2.12331891e-01, -2.86658973e-01,  2.00578690e-01,\n",
      "       -2.39209712e-01,  2.44098276e-01,  2.00397775e-01, -1.99117303e-01,\n",
      "       -2.27985214e-02,  1.52808324e-01])), ('neutral', array([ 2.43478261e+00,  0.00000000e+00,  1.28300000e+03,  4.06000000e+02,\n",
      "        3.10000000e+01,  4.00000000e+00,  6.00000000e+00,  0.00000000e+00,\n",
      "        0.00000000e+00,  2.40000000e+01,  8.00000000e+00,  8.00000000e+00,\n",
      "        0.00000000e+00,  0.00000000e+00,  0.00000000e+00,  1.00000000e+00,\n",
      "        0.00000000e+00,  0.00000000e+00,  8.78894981e-03,  3.96861346e-04,\n",
      "        4.96938005e-02,  2.40135156e-02, -4.32082033e-03, -2.88520396e-01,\n",
      "       -2.16010228e-01, -4.04897660e-01,  4.74631414e-02, -2.92787045e-01,\n",
      "        1.54252768e-01, -8.49031191e-03,  9.57559869e-02,  1.11712962e-01,\n",
      "        5.73512092e-02,  1.75706521e-01,  6.83666691e-02,  3.85231934e-02,\n",
      "        1.59057260e-01,  2.77480721e-01, -3.14294174e-02, -3.89460614e-03,\n",
      "        6.55768216e-02, -6.55214256e-03, -4.81233513e-03, -6.10152669e-02,\n",
      "        8.78739208e-02, -1.24498177e-02, -8.11501965e-02, -1.25028133e-01,\n",
      "       -9.10255611e-02,  2.64288508e-03, -1.46019518e-01, -2.59680420e-01,\n",
      "        3.09636304e-03, -5.61214089e-02, -1.12926378e-03, -5.16164815e-03,\n",
      "        8.59329551e-02,  1.90750100e-02,  3.65734965e-01,  1.22296885e-02,\n",
      "       -2.12311119e-01,  2.93862205e-02, -4.71043102e-02, -2.42361709e-01,\n",
      "       -5.30508161e-02, -1.06979515e-02,  1.58011228e-01,  6.66498542e-02,\n",
      "        5.84191084e-02, -2.08011791e-01, -8.37584808e-02,  3.05495784e-02,\n",
      "        2.21798331e-01,  3.04085374e-01, -1.18744098e-01, -1.62786782e-01,\n",
      "        3.79145257e-02,  2.49637052e-01,  2.95906514e-01, -2.15902850e-01,\n",
      "       -1.47815803e-02, -1.40485346e-01,  4.67798822e-02, -1.58171766e-02,\n",
      "        1.13440357e-01, -2.89065719e-01, -1.57980472e-02,  2.38849223e-01,\n",
      "       -2.91637443e-02, -8.51337835e-02, -2.01502472e-01, -9.61867720e-02,\n",
      "        1.51551455e-01, -7.71561861e-02, -3.40234041e-01, -2.65398532e-01,\n",
      "        1.34979606e-01, -9.48901847e-02,  1.46723017e-01, -1.49960946e-02,\n",
      "       -7.35463724e-02, -4.01075482e-02, -7.73757473e-02,  1.30959019e-01,\n",
      "       -1.03414960e-01, -4.03471403e-02, -1.37295546e-02, -8.16290546e-03,\n",
      "        5.43665327e-02, -2.00218126e-01, -3.28447431e-01, -1.65706113e-01,\n",
      "        1.75380781e-02,  6.57863021e-02,  3.25628673e-03, -2.27571845e-01,\n",
      "        6.93834648e-02, -3.78530502e-01, -2.53333505e-02, -1.91799864e-01,\n",
      "       -1.35761663e-01, -1.63852684e-02,  1.34437516e-01,  2.15184271e-01,\n",
      "       -2.56241709e-01,  1.87868938e-01, -1.25605404e-01, -1.97416082e-01,\n",
      "       -6.53809085e-02,  7.11094737e-02,  2.70683646e-01,  9.98404473e-02,\n",
      "       -3.24138964e-05,  2.76607037e-01, -3.33927095e-01,  8.54129791e-02,\n",
      "        6.49295922e-04,  5.23093902e-02, -1.48314655e-01, -2.34381869e-01,\n",
      "       -6.23219162e-02,  1.80493802e-01,  5.93895316e-02, -2.94875890e-01,\n",
      "       -1.91986889e-01, -1.59596682e-01])), ('neutral', array([ 2.23529412e+00,  0.00000000e+00,  4.52000000e+02,  1.81000000e+02,\n",
      "        1.60000000e+01,  1.00000000e+00,  1.00000000e+00,  0.00000000e+00,\n",
      "        0.00000000e+00,  2.00000000e+01,  4.00000000e+00,  4.00000000e+00,\n",
      "        0.00000000e+00,  0.00000000e+00,  0.00000000e+00,  1.00000000e+00,\n",
      "        0.00000000e+00,  0.00000000e+00, -5.83032891e-02, -2.20619127e-01,\n",
      "       -1.60130873e-01,  5.66235296e-02,  3.66901487e-01, -3.01740915e-01,\n",
      "       -1.04916550e-03, -8.74052756e-03, -2.43986830e-01,  2.16445606e-02,\n",
      "        1.46985605e-01,  1.46776348e-01,  2.67318398e-01,  9.57751297e-04,\n",
      "       -1.50859311e-01, -8.55626091e-02, -1.57209411e-01, -5.62410057e-02,\n",
      "        1.12630881e-01,  2.58809656e-01, -6.12637624e-02,  2.88877517e-01,\n",
      "       -1.03150167e-01,  1.49958909e-01, -1.32960409e-01, -1.08246580e-01,\n",
      "       -7.12849647e-02, -4.56012860e-02, -2.24007279e-01,  1.61909312e-01,\n",
      "       -2.16760620e-01, -2.71678627e-01, -8.13746452e-03, -4.37879771e-01,\n",
      "        2.25894764e-01, -1.71230696e-02, -1.44384876e-01, -3.76385115e-02,\n",
      "       -1.12342387e-01, -1.39463125e-02, -4.65473495e-02,  8.07548463e-02,\n",
      "       -2.78840005e-01,  9.79671255e-02,  3.30822945e-01, -9.08606648e-02,\n",
      "       -4.73703928e-02, -1.95221633e-01,  2.01914504e-01,  3.88377547e-01,\n",
      "       -1.56121209e-01, -7.09130839e-02, -2.94879079e-01, -2.32581086e-02,\n",
      "        1.66679591e-01, -2.03851182e-02, -8.80216956e-02, -8.32121521e-02,\n",
      "        7.50053003e-02,  2.20904022e-01,  4.07016687e-02, -2.90837348e-01,\n",
      "       -1.63506210e-01, -1.26171410e-01,  4.69335727e-02, -1.07525960e-01,\n",
      "        3.05570494e-02, -1.55533880e-01,  1.00228004e-01, -2.59869341e-02,\n",
      "        1.31811574e-01,  1.00612780e-02,  2.21654251e-02, -1.62885115e-01,\n",
      "        5.44230044e-02, -2.79202797e-02,  5.63483126e-02, -2.39982933e-01,\n",
      "        1.63682885e-02, -9.83209014e-02,  6.54226691e-02, -1.21599123e-01,\n",
      "       -2.44341344e-01,  7.53611028e-02, -1.91643208e-01,  6.07605986e-02,\n",
      "        1.19562373e-01,  5.50157502e-02, -1.25474885e-01, -2.87673399e-02,\n",
      "       -2.74071135e-02, -1.42059192e-01,  2.88093160e-03,  3.95379066e-02,\n",
      "        1.90776780e-01, -2.43703797e-01, -6.58297464e-02,  7.80274421e-02,\n",
      "        1.40113413e-01, -3.44010927e-02,  1.19722024e-01, -5.27326837e-02,\n",
      "       -2.62729496e-01,  8.82503614e-02,  1.50027081e-01, -2.03822151e-01,\n",
      "       -2.50604153e-01, -2.82586757e-02, -2.62176812e-01, -7.31194168e-02,\n",
      "       -2.08969057e-01,  1.52973175e-01,  5.65223843e-02, -7.22006783e-02,\n",
      "       -2.41246492e-01,  9.30106733e-03, -1.88422874e-02,  1.17188364e-01,\n",
      "        4.14422825e-02, -1.03260815e-01, -3.26622695e-01,  1.25441015e-01,\n",
      "        5.11903651e-02,  6.73755780e-02,  2.26503178e-01, -2.03205317e-01,\n",
      "        1.37513038e-02, -1.05846025e-01])), ('neutral', array([ 1.81818182e+00,  0.00000000e+00,  8.40000000e+01,  7.20000000e+01,\n",
      "        9.00000000e+00,  0.00000000e+00,  0.00000000e+00,  0.00000000e+00,\n",
      "        0.00000000e+00,  0.00000000e+00,  0.00000000e+00,  0.00000000e+00,\n",
      "        0.00000000e+00,  0.00000000e+00,  0.00000000e+00,  0.00000000e+00,\n",
      "        0.00000000e+00,  0.00000000e+00, -3.52592990e-02, -2.34741315e-01,\n",
      "       -1.69756472e-01, -1.27545804e-01, -2.37192288e-02,  1.58257499e-01,\n",
      "       -2.48724744e-01, -2.65205830e-01, -2.15380624e-01, -2.52436101e-01,\n",
      "        1.00544110e-01, -1.38003245e-01,  2.51291990e-01, -8.30707252e-02,\n",
      "       -4.65805307e-02,  1.18494537e-02, -1.69936270e-01,  1.38088584e-01,\n",
      "        2.76049912e-01,  1.38567582e-01, -1.42346054e-01,  7.20580593e-02,\n",
      "       -1.64947137e-02, -7.09857885e-03,  2.51594514e-01, -5.84904365e-02,\n",
      "       -1.34696484e-01, -1.48923874e-01, -1.67225257e-01, -2.80647755e-01,\n",
      "        2.19794422e-01,  1.99912619e-02,  2.73814619e-01, -2.48502895e-01,\n",
      "       -1.30757615e-01, -1.94329638e-02,  1.92872331e-01,  1.10495165e-02,\n",
      "        5.92918471e-02, -7.80283064e-02,  9.50022265e-02, -2.14254722e-01,\n",
      "       -2.01732993e-01,  2.84918606e-01,  1.87682509e-02,  5.28759789e-04,\n",
      "       -9.57821906e-02,  2.68922418e-01,  1.06782816e-01,  1.97189406e-01,\n",
      "        5.07976720e-03, -2.13900506e-01, -1.01369038e-01, -3.38639259e-01,\n",
      "        2.53088802e-01, -1.63671315e-01,  2.16040295e-03, -1.91074014e-01,\n",
      "        1.13973320e-01,  1.32169902e-01,  3.41576159e-01,  7.16912299e-02,\n",
      "       -1.98014930e-01, -7.09518269e-02,  1.28612384e-01,  2.00122342e-01,\n",
      "        2.85661016e-02, -1.35464832e-01, -2.83845118e-03,  3.04936141e-01,\n",
      "        1.83188021e-01,  5.39504783e-03,  7.88598359e-02, -5.71993832e-03,\n",
      "        2.17455566e-01,  9.19650272e-02, -3.91382337e-01, -3.32980938e-02,\n",
      "       -9.57198143e-02, -1.50587603e-01,  1.35519683e-01,  7.78629184e-02,\n",
      "       -3.77483606e-01,  2.06879929e-01, -8.32514688e-02,  7.28947818e-02,\n",
      "       -1.90228745e-01, -6.37824237e-02, -1.22936003e-01, -8.72311369e-02,\n",
      "       -1.54211521e-01, -8.26836154e-02, -1.03107326e-01, -1.53416663e-01,\n",
      "        1.78708538e-01, -2.93124288e-01,  1.07326783e-01,  6.01743832e-02,\n",
      "        1.55904710e-01, -2.00932045e-02,  7.44756032e-03, -8.29063579e-02,\n",
      "        5.70590794e-02, -2.93594748e-01, -1.05114751e-01,  3.27079836e-03,\n",
      "       -8.94863158e-02, -5.93019649e-02, -8.28018337e-02,  1.57795362e-02,\n",
      "       -2.15732455e-01, -5.04769161e-02, -8.34842958e-03, -8.24483559e-02,\n",
      "        2.24329308e-01,  8.25505108e-02, -2.37736329e-01,  1.95597380e-01,\n",
      "       -1.27164304e-01, -1.75377518e-01, -3.35816562e-01,  3.62038314e-01,\n",
      "        9.41047370e-02, -6.28798902e-02,  6.57128394e-02, -5.20857647e-02,\n",
      "       -8.86735469e-02, -6.61006644e-02])), ('neutral', array([ 2.17391304e+00,  0.00000000e+00,  1.29400000e+03,  4.29000000e+02,\n",
      "        3.60000000e+01,  6.00000000e+00,  6.00000000e+00,  0.00000000e+00,\n",
      "        0.00000000e+00,  0.00000000e+00,  0.00000000e+00,  0.00000000e+00,\n",
      "        0.00000000e+00,  0.00000000e+00,  0.00000000e+00,  0.00000000e+00,\n",
      "        0.00000000e+00,  0.00000000e+00, -5.75930960e-02, -2.76526153e-01,\n",
      "        2.59021491e-01,  6.21558279e-02,  6.61014244e-02, -1.50110321e-02,\n",
      "       -1.08175255e-01,  6.16181567e-02, -4.57288027e-02,  1.93557590e-02,\n",
      "        7.71018770e-03,  4.14308421e-02,  4.87267263e-02,  5.37766404e-02,\n",
      "        3.67800193e-03, -3.22129279e-02, -2.01908842e-01,  1.58628389e-01,\n",
      "        1.66012138e-01,  1.89369127e-01,  1.14653064e-02,  6.43900111e-02,\n",
      "        6.71428442e-02,  3.20075363e-01, -2.81751854e-03, -1.59430161e-01,\n",
      "       -4.16749418e-02, -2.51506925e-01, -3.51526178e-02, -2.73739666e-01,\n",
      "       -6.28947616e-02,  2.89496575e-02,  4.85892370e-02, -4.96293247e-01,\n",
      "       -1.59224086e-02, -4.10146192e-02,  8.76538232e-02,  8.82039603e-04,\n",
      "       -7.35377136e-04,  1.22483768e-01,  6.21783845e-02,  2.41971731e-01,\n",
      "       -1.81238264e-01,  7.15791658e-02,  2.60015815e-01, -1.82448059e-01,\n",
      "       -3.53514962e-02,  3.36439312e-02, -5.33722155e-02,  2.52785683e-01,\n",
      "       -7.26464763e-02, -1.25232816e-01, -9.59972963e-02, -4.09363918e-02,\n",
      "        1.80229142e-01,  7.89350481e-04, -2.69354492e-01,  1.24099612e-01,\n",
      "       -7.72472396e-02,  4.56465006e-01,  7.89579079e-02, -1.93672568e-01,\n",
      "       -1.18390910e-01, -1.92583308e-01,  1.02838844e-01,  1.05178200e-01,\n",
      "       -2.19024625e-02,  4.66922447e-02,  7.30828494e-02, -5.29157072e-02,\n",
      "        1.72316313e-01, -1.69461414e-01,  4.46927287e-02, -5.21467216e-02,\n",
      "        8.53159577e-02,  2.58989275e-01,  2.00470224e-01,  1.94657460e-01,\n",
      "        9.33492854e-02, -2.81971931e-01, -3.07423919e-02, -3.06129843e-01,\n",
      "       -2.58202702e-01,  8.77434015e-02, -6.61333725e-02, -5.49722128e-02,\n",
      "        7.89461434e-02, -2.21292675e-01, -3.04996908e-01, -7.53634796e-02,\n",
      "        1.16701640e-01, -1.24084406e-01, -2.60854885e-02, -2.24924877e-01,\n",
      "        2.25781724e-01, -1.18357956e-01, -3.93739194e-02, -8.42531174e-02,\n",
      "       -2.64282972e-02,  1.04163408e-01,  9.41936225e-02,  5.77169955e-02,\n",
      "       -1.87738955e-01,  1.70619741e-01,  7.46752322e-02, -1.10799715e-01,\n",
      "       -1.75132155e-01,  1.79037035e-01, -1.81566011e-02, -8.05759430e-02,\n",
      "       -3.60760927e-01,  2.40057766e-01,  2.29224756e-01, -8.08116719e-02,\n",
      "       -3.09379399e-01, -1.30453587e-01, -2.37457573e-01,  2.08052304e-02,\n",
      "        3.76296490e-01, -1.59559101e-02, -2.28348762e-01, -2.28045613e-01,\n",
      "       -2.17343509e-01,  2.66749673e-02,  1.54221684e-01, -3.76886055e-02,\n",
      "       -2.65821159e-01,  1.09226875e-01])), ('neutral', array([ 2.33333333e+00,  1.05952381e-01,  1.10000000e+02,  8.60000000e+01,\n",
      "        1.20000000e+01,  1.00000000e+00,  1.00000000e+00,  0.00000000e+00,\n",
      "        0.00000000e+00,  5.00000000e+00,  2.00000000e+00,  2.00000000e+00,\n",
      "        1.00000000e+00,  0.00000000e+00,  0.00000000e+00,  0.00000000e+00,\n",
      "        0.00000000e+00,  0.00000000e+00, -1.44508611e-02, -2.04439417e-01,\n",
      "       -1.48280501e-01,  3.82911339e-02,  1.51437461e-01, -1.75834671e-01,\n",
      "       -5.22086844e-02, -2.25294992e-01, -1.91133425e-01,  4.37116809e-02,\n",
      "        3.08650166e-01,  8.67175832e-02,  9.99311581e-02,  1.20140202e-01,\n",
      "       -1.88141122e-01, -7.00377151e-02, -1.09492131e-01,  8.38233903e-02,\n",
      "       -1.14136063e-01, -2.14763924e-01, -1.69621199e-01,  7.05475211e-02,\n",
      "       -9.41078439e-02, -4.04904522e-02,  1.41879275e-01,  2.23145604e-01,\n",
      "        2.67020404e-01, -2.10652813e-01, -1.96720570e-01,  1.78025499e-01,\n",
      "        5.98331504e-02, -4.86606359e-02,  9.55918580e-02, -7.64666423e-02,\n",
      "        2.40337282e-01,  1.48012012e-01, -1.69764891e-01, -1.52762860e-01,\n",
      "        5.30666746e-02, -1.58173367e-01,  1.07250046e-02, -8.38728920e-02,\n",
      "       -2.26268947e-01,  1.85624912e-01,  3.98421008e-03, -1.25224262e-01,\n",
      "       -2.29142115e-01, -1.61386609e-01,  1.08715869e-01,  2.58649886e-01,\n",
      "       -1.26812890e-01, -3.64299566e-01,  2.34929994e-01, -3.87909077e-02,\n",
      "        1.35045424e-01, -7.04469979e-02,  5.52314445e-02, -1.08810917e-01,\n",
      "        2.70772297e-02, -6.91537326e-03,  1.63999408e-01,  3.70637551e-02,\n",
      "       -9.74768400e-02,  3.93945314e-02, -8.46291855e-02, -5.75081073e-02,\n",
      "        1.40545040e-01, -1.18049540e-01,  3.10804218e-01,  8.98161307e-02,\n",
      "       -2.25193292e-01, -1.15050308e-01,  1.34879738e-01, -4.59609441e-02,\n",
      "        3.77637774e-01,  1.84582487e-01,  1.81806445e-01,  1.36143923e-01,\n",
      "        1.27731621e-01, -1.54261664e-01, -3.05192731e-02,  4.49981540e-02,\n",
      "       -2.08989337e-01,  3.10313076e-01,  4.07564603e-02,  4.29229289e-02,\n",
      "        5.45008481e-02,  1.64109543e-01, -6.58839345e-02, -3.09956856e-02,\n",
      "       -3.35961878e-01, -1.72263607e-01,  5.44786304e-02,  3.78193259e-01,\n",
      "        2.05688953e-01, -9.50969607e-02, -5.99195361e-02, -9.29828882e-02,\n",
      "       -1.54691309e-01, -2.28905633e-01,  1.78706199e-01, -1.58984363e-02,\n",
      "       -1.84244856e-01, -4.89410833e-02,  1.38509989e-01, -1.50871962e-01,\n",
      "       -3.48709404e-01,  3.92763406e-01, -1.07654594e-01, -1.92838505e-01,\n",
      "       -1.14396214e-02,  1.47692904e-01,  6.71399981e-02, -3.03828418e-01,\n",
      "       -1.92361608e-01, -9.26722288e-02, -1.67524904e-01, -4.88114804e-02,\n",
      "       -7.71327922e-03, -7.62129202e-02, -7.26702586e-02, -7.95748159e-02,\n",
      "        1.38585597e-01,  1.05785973e-01,  2.80763298e-01, -1.65353060e-01,\n",
      "        9.13561583e-02,  2.46406943e-02])), ('neutral', array([ 2.12500000e+00,  0.00000000e+00,  3.47000000e+02,  1.88000000e+02,\n",
      "        2.00000000e+01,  2.00000000e+00,  3.00000000e+00,  0.00000000e+00,\n",
      "        0.00000000e+00,  0.00000000e+00,  0.00000000e+00,  0.00000000e+00,\n",
      "        0.00000000e+00,  0.00000000e+00,  0.00000000e+00,  0.00000000e+00,\n",
      "        0.00000000e+00,  0.00000000e+00,  1.32374913e-01, -1.84105515e-01,\n",
      "       -1.92319334e-01, -9.50197652e-02,  8.93887132e-02, -1.01588033e-01,\n",
      "        1.31847024e-01, -1.20873548e-01, -1.00463681e-01, -1.63718328e-01,\n",
      "        2.67551839e-01,  1.87052906e-01,  2.83844699e-03,  8.01238120e-02,\n",
      "       -1.26421943e-01, -1.34075610e-02, -3.44176143e-01,  8.00775141e-02,\n",
      "        1.40859067e-01,  3.20383787e-01, -1.13437735e-01,  3.13140243e-01,\n",
      "       -2.08528817e-01,  2.78628524e-02,  1.46548375e-01, -1.30823955e-01,\n",
      "        4.56277691e-02, -2.31338978e-01, -1.31761044e-01, -3.67697515e-02,\n",
      "       -5.50524006e-03, -1.10370547e-01,  2.08326578e-01,  9.95408818e-02,\n",
      "        7.63249248e-02, -1.16241366e-01,  3.34828049e-01,  3.45206559e-01,\n",
      "       -2.16912907e-02,  3.34206782e-02,  1.60768539e-01,  3.61515209e-02,\n",
      "       -1.82183966e-01,  6.87697083e-02, -1.29399940e-01,  5.78264184e-02,\n",
      "        5.56825195e-03,  9.21484306e-02,  1.18289530e-01, -2.33618319e-02,\n",
      "       -1.18254935e-02, -1.60619602e-01, -1.24911420e-01, -9.79401991e-02,\n",
      "        1.17221646e-01,  1.08528361e-01, -1.87980071e-01, -2.12520272e-01,\n",
      "        1.68062851e-01,  1.94675133e-01,  9.48431194e-02, -2.88670123e-01,\n",
      "        7.86293522e-02, -1.58395469e-01,  1.28739342e-01, -2.86433361e-02,\n",
      "        8.88050199e-02, -1.05099827e-01,  1.31364271e-01,  9.15791690e-02,\n",
      "        2.19410226e-01, -7.06108063e-02, -4.32511941e-02, -2.14222386e-01,\n",
      "        2.58355051e-01,  1.05159590e-02, -3.90360504e-02, -1.23920992e-01,\n",
      "        3.35859865e-01, -3.87846261e-01,  7.30948225e-02, -3.39980759e-02,\n",
      "       -2.70268291e-01,  1.42224371e-01, -1.87098816e-01,  2.25306973e-01,\n",
      "       -2.34447584e-01, -1.63680553e-01, -2.15133861e-01,  5.55349048e-03,\n",
      "       -2.27063950e-02, -2.35667288e-01, -6.00290261e-02, -2.52493676e-02,\n",
      "       -2.88092136e-01,  1.37454063e-01, -2.49474734e-01,  3.95284891e-02,\n",
      "       -2.05967780e-02, -4.86471504e-02,  1.09764896e-01,  2.48278566e-02,\n",
      "       -2.01230153e-01,  1.30784690e-01,  1.75918072e-01, -4.10901457e-02,\n",
      "       -2.75852710e-01, -1.62380055e-01, -2.95589626e-01, -8.40488970e-02,\n",
      "       -8.06783512e-02,  9.44965854e-02,  2.06396803e-01, -6.61285445e-02,\n",
      "       -2.75414169e-01, -1.45829186e-01, -1.93556443e-01, -3.36944275e-02,\n",
      "       -1.27520576e-01, -2.50035346e-01, -6.60128659e-03,  2.03845933e-01,\n",
      "       -2.20603675e-01,  1.27431884e-01,  4.36422862e-02,  3.31859873e-03,\n",
      "       -4.98748571e-02,  3.95492725e-02])), ('neutral', array([ 2.00000000e+00,  0.00000000e+00,  4.45000000e+02,  2.15000000e+02,\n",
      "        1.80000000e+01,  1.00000000e+00,  1.00000000e+00,  0.00000000e+00,\n",
      "        0.00000000e+00,  0.00000000e+00,  0.00000000e+00,  0.00000000e+00,\n",
      "        0.00000000e+00,  0.00000000e+00,  0.00000000e+00,  0.00000000e+00,\n",
      "        0.00000000e+00,  0.00000000e+00, -4.39952254e-01, -1.49843842e-01,\n",
      "       -2.97452342e-02, -1.10754587e-01, -3.38803567e-02, -5.32281138e-02,\n",
      "        1.81900039e-02, -1.36295199e-01, -1.47377759e-01, -3.38824719e-01,\n",
      "        1.05286308e-01, -1.07477326e-02,  8.05921480e-02, -1.28346756e-01,\n",
      "       -5.83530404e-02,  2.20317408e-01, -2.19631538e-01,  2.59094208e-01,\n",
      "        1.12870627e-03,  1.77853569e-01,  5.83125800e-02,  1.53622717e-01,\n",
      "       -6.39218390e-02,  1.81341723e-01,  2.12949038e-01, -2.89291948e-01,\n",
      "       -9.64740217e-02,  1.76632665e-02, -1.54437646e-01, -6.45907745e-02,\n",
      "        1.83017906e-02, -4.35931608e-02, -6.91130832e-02, -1.35696396e-01,\n",
      "        1.37473196e-01, -1.87611356e-01,  9.85987708e-02, -6.56991750e-02,\n",
      "       -4.43852134e-02,  6.63250759e-02, -1.07216397e-02,  2.42256038e-02,\n",
      "       -9.11700577e-02,  1.95335373e-01, -1.35729030e-01,  1.73328277e-02,\n",
      "       -1.84477791e-01, -7.48639554e-02,  4.22417857e-02, -7.58535415e-02,\n",
      "        4.48103026e-02, -9.85228419e-02, -1.66683584e-01,  7.30321482e-02,\n",
      "        1.67185023e-01,  1.07434636e-03, -1.83413938e-01, -2.89031863e-01,\n",
      "        7.89225325e-02,  3.77179682e-02,  1.38660446e-01, -1.42718375e-01,\n",
      "       -8.34348574e-02, -8.85313824e-02, -3.33351977e-02, -2.09117308e-03,\n",
      "        1.50914460e-01,  5.54942004e-02,  5.18497407e-01, -6.24036752e-02,\n",
      "        1.83690153e-02, -4.21973690e-02,  6.56971475e-03, -2.75179446e-01,\n",
      "        7.04876930e-02,  1.72943324e-01, -2.98723847e-01,  1.01349607e-01,\n",
      "        1.37306392e-01, -1.47784457e-01,  4.39277351e-01,  1.70839250e-01,\n",
      "       -3.58258411e-02,  4.87240683e-03, -1.93900466e-01,  3.65804136e-02,\n",
      "       -2.15343893e-01, -1.97273004e-03, -1.58184484e-01,  1.49760976e-01,\n",
      "        1.89884573e-01, -1.72913820e-01, -2.42428765e-01, -1.11531548e-01,\n",
      "       -2.08273996e-02, -2.38561794e-01,  2.64230906e-03, -1.41430348e-01,\n",
      "        5.93143292e-02,  2.93587241e-02,  1.37050778e-01, -1.12343794e-02,\n",
      "        1.69158000e-02, -1.34448320e-01,  2.90213317e-01,  8.00050981e-03,\n",
      "        1.49286181e-01,  7.62313530e-02, -2.47188658e-01,  1.58849031e-01,\n",
      "       -1.50520608e-01, -5.99066503e-02,  2.00657293e-01, -2.41344377e-01,\n",
      "       -2.87081927e-01, -1.32587299e-01, -2.74279922e-01,  9.49259624e-02,\n",
      "        1.68700486e-01, -2.49820679e-01, -3.61199468e-01, -1.82671957e-02,\n",
      "       -2.02270180e-01, -3.26519657e-04,  6.95997775e-02,  1.50711372e-01,\n",
      "       -1.49750322e-01, -1.02229834e-01])), ('neutral', array([ 2.36363636e+00,  3.05361305e-02,  4.39700000e+03,  9.51000000e+02,\n",
      "        5.40000000e+01,  1.10000000e+01,  1.10000000e+01,  1.00000000e+00,\n",
      "        0.00000000e+00,  2.10000000e+01,  5.00000000e+00,  5.00000000e+00,\n",
      "        0.00000000e+00,  0.00000000e+00,  0.00000000e+00,  0.00000000e+00,\n",
      "        0.00000000e+00,  0.00000000e+00, -3.91513631e-02, -2.24815071e-01,\n",
      "       -2.23520204e-01,  3.71815175e-01,  1.36374682e-01, -2.86217123e-01,\n",
      "       -8.95072296e-02, -2.10829958e-01,  2.09763959e-01, -9.59883779e-02,\n",
      "        4.77027521e-02,  8.95613581e-02,  1.14584446e-01,  7.73334727e-02,\n",
      "       -2.98968405e-01,  1.17570125e-01, -6.63601086e-02,  7.32053146e-02,\n",
      "        6.41220808e-02,  1.97383016e-01, -8.92236680e-02,  3.11530918e-01,\n",
      "       -9.66359228e-02,  1.43654376e-01, -1.55800372e-01, -3.53983760e-01,\n",
      "        3.01429063e-01, -2.14759074e-02, -1.19465157e-01, -1.31555051e-01,\n",
      "       -3.08856796e-02,  6.78993762e-02,  5.47055975e-02, -2.93009698e-01,\n",
      "        1.57154724e-01, -2.81422026e-02, -2.24794168e-02,  1.65673926e-01,\n",
      "       -2.00884134e-01, -8.72237310e-02,  1.60748232e-02,  4.58403789e-02,\n",
      "       -7.26849809e-02,  2.07493141e-01,  2.01017112e-01, -2.18659550e-01,\n",
      "       -5.11948280e-02, -1.26277998e-01,  3.93161446e-01,  2.18831107e-01,\n",
      "       -4.57195528e-02, -1.43666849e-01, -2.03183234e-01, -9.33277830e-02,\n",
      "        1.72810000e-03, -4.29160818e-02, -3.13778222e-02, -8.64709318e-02,\n",
      "       -7.49718919e-02,  2.71016419e-01,  2.20816471e-02, -1.42218741e-02,\n",
      "       -3.04147005e-02,  2.17840169e-02,  1.18261911e-02,  2.08340377e-01,\n",
      "       -3.13752703e-02, -1.35504603e-01,  1.05250984e-01,  7.28106573e-02,\n",
      "       -1.81298837e-01, -2.24630177e-01, -9.67901945e-02, -5.07103801e-02,\n",
      "        7.31070414e-02, -5.48652932e-03,  1.77223142e-02, -5.52042462e-02,\n",
      "        2.00116888e-01, -1.15024284e-01,  3.18393596e-02, -2.37747580e-01,\n",
      "       -1.24228343e-01,  8.18155259e-02,  3.50500196e-02,  2.88229529e-02,\n",
      "        2.16804743e-02,  1.70291930e-01, -1.10269569e-01, -3.40506166e-01,\n",
      "       -7.64031634e-02,  1.79599166e-01, -3.16052169e-01,  5.34628779e-02,\n",
      "        1.24583237e-01, -9.57238302e-02, -9.22346637e-02, -2.56125420e-01,\n",
      "        3.57396691e-03, -1.75400138e-01,  1.73981667e-01, -7.02240393e-02,\n",
      "        6.40657097e-02, -5.15332744e-02,  2.90850312e-01, -8.86880234e-02,\n",
      "       -1.36982635e-01,  1.84988797e-01, -2.98812270e-01, -1.41093120e-01,\n",
      "       -9.11428258e-02,  5.28662978e-03, -2.94090901e-02, -6.64273137e-03,\n",
      "       -1.88240394e-01, -3.07329204e-02,  4.43264842e-03, -5.88099379e-03,\n",
      "        1.16425529e-01,  5.28719164e-02, -2.06022143e-01,  1.20217755e-01,\n",
      "       -2.75104996e-02,  7.78361112e-02,  1.12110168e-01, -1.31346941e-01,\n",
      "       -1.66002005e-01, -4.49387655e-02])), ('neutral', array([ 1.84615385e+00,  0.00000000e+00,  1.65000000e+02,  1.10000000e+02,\n",
      "        1.10000000e+01,  0.00000000e+00,  0.00000000e+00,  0.00000000e+00,\n",
      "        0.00000000e+00,  0.00000000e+00,  0.00000000e+00,  0.00000000e+00,\n",
      "        0.00000000e+00,  0.00000000e+00,  0.00000000e+00,  0.00000000e+00,\n",
      "        0.00000000e+00,  0.00000000e+00, -2.02203795e-01, -1.18166231e-01,\n",
      "        1.94585603e-02, -3.60649191e-02,  1.02854684e-01, -2.48789996e-01,\n",
      "       -1.77568406e-01, -1.79325968e-01,  9.26951542e-02, -1.59956828e-01,\n",
      "        2.65672058e-01,  6.73085004e-02,  5.77525310e-02, -8.66790488e-02,\n",
      "       -3.67517467e-03,  5.87207824e-02, -2.69940972e-01, -1.83211244e-03,\n",
      "        1.52711332e-01,  2.86446542e-01, -1.70974120e-01,  2.04573199e-01,\n",
      "       -1.61948204e-02,  2.31090903e-01, -1.38293043e-01, -7.28292838e-02,\n",
      "        2.73128420e-01, -1.46190017e-01, -5.52237667e-02, -2.40569431e-02,\n",
      "        7.66981095e-02, -2.82636732e-01, -8.05589259e-02, -5.23279868e-02,\n",
      "        2.15097934e-01, -8.21871907e-02,  2.13173047e-01,  4.22955513e-01,\n",
      "       -3.55716273e-02, -2.35079542e-01, -1.57835737e-01,  2.93772548e-01,\n",
      "       -2.37390175e-01,  9.74063575e-02,  1.69775262e-01,  1.52118728e-01,\n",
      "       -1.51466653e-01, -5.89338318e-02,  2.91435808e-01,  2.09204644e-01,\n",
      "       -1.08833663e-01, -1.41536966e-01,  9.52300280e-02, -2.41246209e-01,\n",
      "        2.02585980e-01,  5.53628942e-03, -1.58695921e-01, -1.12818129e-01,\n",
      "        5.27632944e-02,  3.07821929e-01,  2.18051776e-01, -2.22628236e-01,\n",
      "       -9.11159813e-02,  9.42102298e-02, -3.18947695e-02,  3.76170464e-02,\n",
      "        1.35575300e-02, -2.14830294e-01,  3.54067124e-02, -1.94324389e-01,\n",
      "        1.80865109e-01, -1.99018523e-01, -4.70271509e-04,  2.47863587e-02,\n",
      "        2.09481567e-01,  8.76091570e-02, -8.56474191e-02, -1.20618850e-01,\n",
      "       -5.05659953e-02, -1.55618072e-01, -5.50334938e-02, -8.15882608e-02,\n",
      "       -3.25522989e-01,  2.18877897e-01, -1.36659384e-01,  5.28182462e-02,\n",
      "       -1.27213905e-02,  7.66271055e-02, -2.46032789e-01, -9.20468345e-02,\n",
      "       -1.37322843e-01,  1.21722460e-01, -2.48200037e-02,  1.11037143e-01,\n",
      "        6.25591576e-02,  1.12034187e-01, -5.28438874e-02, -2.91402284e-02,\n",
      "        9.36048105e-02, -1.52871143e-02,  3.43952715e-01, -3.85697298e-02,\n",
      "       -2.39946842e-01, -2.26621315e-01,  5.76881580e-02, -2.61671003e-02,\n",
      "       -2.11331636e-01, -9.71649662e-02, -1.40355691e-01, -2.14370295e-01,\n",
      "       -1.52556628e-01,  1.00484200e-01,  4.39963937e-02,  1.31689966e-01,\n",
      "       -2.18088031e-01, -2.44369164e-01, -7.07695559e-02,  1.02990471e-01,\n",
      "        2.28486396e-02, -2.81251401e-01, -2.71203607e-01,  3.20880041e-02,\n",
      "       -3.17088589e-02,  1.97894350e-01,  1.14006147e-01, -7.49390349e-02,\n",
      "       -3.47315311e-01, -1.23070374e-01])), ('neutral', array([ 2.35714286e+00,  3.59933036e-02,  2.54200000e+03,  6.29000000e+02,\n",
      "        3.90000000e+01,  7.00000000e+00,  7.00000000e+00,  1.00000000e+00,\n",
      "        0.00000000e+00,  3.40000000e+01,  8.00000000e+00,  8.00000000e+00,\n",
      "        0.00000000e+00,  0.00000000e+00,  0.00000000e+00,  1.00000000e+00,\n",
      "        0.00000000e+00,  0.00000000e+00, -9.98068750e-02, -2.57766068e-01,\n",
      "        4.45673577e-02, -6.51062727e-02, -1.84757903e-01, -8.71087685e-02,\n",
      "        6.07196502e-02, -1.92813113e-01, -6.61557466e-02, -2.02162191e-01,\n",
      "        1.66546181e-01,  5.09761199e-02,  1.79263383e-01, -1.16727069e-01,\n",
      "        1.35613427e-01,  1.29759640e-01, -2.52506047e-01,  9.84781906e-02,\n",
      "        6.26072288e-02,  1.21650055e-01, -6.56060278e-02,  1.62999462e-02,\n",
      "       -3.09955925e-01,  8.67292956e-02, -1.69744745e-01, -3.31316590e-01,\n",
      "        2.09915236e-01, -9.85113829e-02,  2.85152886e-02,  5.22763729e-02,\n",
      "       -1.29018486e-01, -2.28123143e-01,  3.04402381e-01, -5.48710190e-02,\n",
      "        3.05474043e-01, -8.45446363e-02,  2.93371737e-01,  1.11445226e-02,\n",
      "       -9.96198282e-02, -1.02365039e-01,  1.15222171e-01,  3.56178731e-02,\n",
      "        6.18498400e-02, -1.48982592e-02, -1.73752546e-01,  1.49110034e-01,\n",
      "       -2.80159786e-02, -1.07416268e-02,  2.71437407e-01,  2.31611520e-01,\n",
      "       -1.91140268e-02, -1.68130457e-01, -1.43539742e-01,  9.36028585e-02,\n",
      "        1.42843544e-01, -1.52900089e-02, -2.30333224e-01, -2.44740695e-01,\n",
      "        6.30885512e-02,  4.02468033e-02,  1.92347124e-01, -2.69122452e-01,\n",
      "       -8.14887211e-02, -3.12229097e-01, -4.85712290e-02,  8.74016061e-02,\n",
      "       -2.04841923e-02, -5.08432239e-02,  2.16636688e-01,  1.53162554e-01,\n",
      "       -1.75580800e-01, -1.79806933e-01,  2.92653162e-02, -1.48866639e-01,\n",
      "        1.14213936e-01,  1.47636965e-01, -3.79016370e-01, -6.34289756e-02,\n",
      "        2.36016944e-01, -5.40676415e-02,  1.87037647e-01, -9.89113301e-02,\n",
      "       -9.27799270e-02, -3.16444784e-02, -3.28802645e-01,  1.69692129e-01,\n",
      "        1.60099790e-01,  1.30215272e-01, -7.84527585e-02, -1.04530029e-01,\n",
      "       -1.18551768e-01, -2.46511266e-01, -7.99213350e-02,  1.42447084e-01,\n",
      "       -6.06049523e-02, -1.11595176e-01, -1.23917624e-01, -2.67681569e-01,\n",
      "        8.85695685e-03,  1.80233200e-03, -1.75912902e-01,  2.89276019e-02,\n",
      "        1.35711446e-01, -6.31309971e-02,  1.97107494e-02, -7.67600397e-03,\n",
      "       -3.17714252e-02,  3.21090847e-01, -1.23464599e-01, -2.32623339e-01,\n",
      "        4.66656312e-03,  5.25151752e-02,  2.83657640e-01,  2.84477766e-03,\n",
      "       -7.75737837e-02, -2.15087458e-01, -8.83468390e-02, -1.03577718e-01,\n",
      "        2.88280658e-03, -1.92399502e-01, -1.46687821e-01, -2.84054250e-01,\n",
      "        1.85407668e-01,  7.78823271e-02,  2.60309339e-01, -2.98736483e-01,\n",
      "        5.45371026e-02, -1.29093394e-01])), ('neutral', array([ 2.14814815e+00,  3.76984127e-02,  2.25100000e+03,  6.24000000e+02,\n",
      "        3.70000000e+01,  6.00000000e+00,  6.00000000e+00,  1.00000000e+00,\n",
      "        0.00000000e+00,  0.00000000e+00,  0.00000000e+00,  0.00000000e+00,\n",
      "        0.00000000e+00,  0.00000000e+00,  0.00000000e+00,  0.00000000e+00,\n",
      "        0.00000000e+00,  0.00000000e+00,  4.58520874e-02, -2.98546731e-01,\n",
      "       -1.45091131e-01,  7.43691027e-02, -2.21184315e-03, -4.88681607e-02,\n",
      "       -7.56371096e-02,  4.80646528e-02,  3.08608618e-02,  3.97327766e-02,\n",
      "        1.20429665e-01,  1.16027974e-01,  1.52345270e-01,  7.16143772e-02,\n",
      "       -1.64800957e-01, -6.57887831e-02, -1.75667584e-01,  3.08039755e-01,\n",
      "       -1.36354759e-01,  1.54749945e-01,  2.88849860e-01, -2.28181984e-02,\n",
      "       -1.14051536e-01,  6.82806084e-03,  1.01310484e-01,  4.43652458e-02,\n",
      "        3.12479377e-01, -4.45310920e-01,  8.45349208e-02, -1.43246099e-01,\n",
      "       -9.81075838e-02,  5.75938970e-02,  7.92473108e-02, -1.77018493e-01,\n",
      "        1.81665182e-01, -2.71449406e-02, -6.16298802e-02,  8.67859721e-02,\n",
      "       -1.08605988e-01, -1.38420939e-01,  1.58389434e-01,  3.64331394e-01,\n",
      "       -1.54437736e-01,  1.55381396e-01,  1.92061484e-01,  7.08682695e-03,\n",
      "       -4.84905913e-02, -1.34536758e-01, -3.05925123e-02,  2.12146237e-01,\n",
      "        3.13361846e-02, -2.07788527e-01, -1.84449986e-01,  1.71644717e-01,\n",
      "        2.20168799e-01, -5.66581339e-02,  1.19283721e-01, -6.63224608e-02,\n",
      "        2.34763026e-01,  1.96231529e-01,  2.62539268e-01, -1.05423018e-01,\n",
      "       -3.31151515e-01,  9.63798389e-02, -2.50488460e-01,  1.97599977e-01,\n",
      "        1.48237541e-01, -1.47924617e-01,  2.56838184e-02, -1.68768391e-01,\n",
      "        5.15486076e-02, -1.06732115e-01, -1.80859134e-01, -1.02561628e-02,\n",
      "        1.29439011e-01,  6.18281122e-03, -2.33042374e-01,  9.55030229e-03,\n",
      "        5.53220846e-02,  4.56480198e-02,  2.18390793e-01, -1.44349399e-03,\n",
      "        6.29919246e-02,  3.15252066e-01, -2.40020350e-01, -2.61243563e-02,\n",
      "       -2.29846030e-01, -1.34825081e-01, -1.04551427e-01,  1.14663266e-01,\n",
      "       -7.79123306e-02, -2.88291514e-01,  3.54509428e-02,  5.94969988e-02,\n",
      "        1.25068814e-01,  3.78053747e-02, -9.57430229e-02, -2.50018034e-02,\n",
      "        1.23170950e-01, -2.61007369e-01, -1.16482843e-02,  4.62154374e-02,\n",
      "       -8.88341106e-03, -7.80674666e-02, -1.28545851e-01, -2.00115621e-01,\n",
      "       -3.41928005e-01,  2.11945534e-01, -5.47075085e-02, -6.44383207e-02,\n",
      "       -5.54136448e-02,  2.71697998e-01,  1.60468325e-01, -1.18744388e-01,\n",
      "        8.99190530e-02,  7.32058063e-02, -1.65948763e-01,  3.07690389e-02,\n",
      "        5.04024960e-02, -1.17158495e-01, -2.29575589e-01,  2.64651239e-01,\n",
      "       -1.00627281e-01,  1.40080944e-01, -1.73018761e-02,  7.10198423e-03,\n",
      "       -8.30445439e-02, -1.82432458e-01])), ('neutral', array([ 1.90000000e+00,  0.00000000e+00,  8.16000000e+02,  3.06000000e+02,\n",
      "        1.80000000e+01,  0.00000000e+00,  0.00000000e+00,  0.00000000e+00,\n",
      "        0.00000000e+00,  0.00000000e+00,  0.00000000e+00,  0.00000000e+00,\n",
      "        0.00000000e+00,  0.00000000e+00,  0.00000000e+00,  0.00000000e+00,\n",
      "        0.00000000e+00,  0.00000000e+00, -2.68512309e-01, -2.57406920e-01,\n",
      "       -1.87072158e-01,  3.46551627e-01, -3.22867371e-02, -5.19916788e-02,\n",
      "       -9.05249342e-02,  2.05743864e-01,  4.36265841e-02,  5.26599921e-02,\n",
      "        1.34253278e-01,  2.09987193e-01,  1.87047437e-01, -9.19037382e-04,\n",
      "       -2.24090949e-01, -9.99519881e-03,  4.53603379e-02,  2.15512425e-01,\n",
      "        1.56718314e-01,  7.85720646e-02,  1.26071975e-01, -4.28048298e-02,\n",
      "       -3.33623379e-01, -1.79544717e-04,  1.35479599e-01, -1.56798735e-01,\n",
      "        2.53520042e-01, -2.54369259e-01, -1.66767925e-01,  1.48985147e-01,\n",
      "       -3.58731076e-02, -3.23778659e-01,  1.28644658e-02, -1.56991139e-01,\n",
      "       -9.64164361e-02, -1.09157592e-01, -1.81815505e-01, -8.75680428e-03,\n",
      "       -9.94080678e-02, -1.26441061e-01, -8.31681490e-02, -1.10283092e-01,\n",
      "       -4.93668169e-02, -5.44403531e-02,  1.48749635e-01, -1.56495214e-01,\n",
      "       -8.32606480e-02, -8.90292749e-02,  4.91184816e-02,  2.83791907e-02,\n",
      "       -1.80471808e-01,  2.37055302e-01, -1.92916945e-01, -3.13431501e-01,\n",
      "       -1.30312727e-03,  3.14307630e-01,  1.49523452e-01, -2.01825108e-02,\n",
      "        8.04452598e-02,  1.13931082e-01,  5.58429919e-02, -3.61071348e-01,\n",
      "       -2.13740334e-01, -1.52161404e-01, -1.77109525e-01,  2.95764714e-01,\n",
      "       -2.76686121e-02, -8.73608813e-02,  1.18287295e-01,  1.37317538e-01,\n",
      "        1.26539515e-02,  5.13062179e-02, -1.61016494e-01,  1.38344867e-02,\n",
      "        1.42012626e-01,  3.38117987e-01, -4.08126712e-02, -8.59467760e-02,\n",
      "        2.42838085e-01, -1.61785781e-01,  2.63131768e-01,  9.98980273e-03,\n",
      "       -2.51501173e-01, -1.13177951e-02, -1.65433407e-01, -1.05279639e-01,\n",
      "       -5.09362891e-02,  4.48461771e-02, -1.42009020e-01, -1.10465772e-01,\n",
      "       -7.95877427e-02, -3.64335775e-02,  9.66751426e-02,  2.36889020e-01,\n",
      "       -2.66748592e-02,  1.35457039e-01,  1.06837898e-01,  1.31730154e-01,\n",
      "       -1.20871164e-01, -7.39388019e-02,  1.40121460e-01, -5.56969307e-02,\n",
      "       -7.35926330e-02, -1.08808734e-01,  4.74450439e-01, -2.15501264e-01,\n",
      "       -2.04903081e-01,  1.24322720e-01, -8.23886991e-02,  9.44752395e-02,\n",
      "        4.05223034e-02,  1.72921017e-01,  1.00601248e-01, -1.54989317e-01,\n",
      "       -6.91132471e-02,  7.31350407e-02, -1.52767614e-01,  2.49004997e-02,\n",
      "       -2.95755058e-03, -6.36243522e-02, -1.12306602e-01,  3.28644589e-02,\n",
      "       -1.40553012e-01, -5.54685444e-02,  1.18354715e-01, -1.96167305e-01,\n",
      "       -2.34635293e-01,  3.54687199e-02])), ('neutral', array([ 2.23529412e+00,  0.00000000e+00,  4.36000000e+02,  2.07000000e+02,\n",
      "        1.90000000e+01,  1.00000000e+00,  2.00000000e+00,  0.00000000e+00,\n",
      "        0.00000000e+00,  1.10000000e+01,  2.00000000e+00,  2.00000000e+00,\n",
      "        0.00000000e+00,  0.00000000e+00,  0.00000000e+00,  0.00000000e+00,\n",
      "        0.00000000e+00,  0.00000000e+00, -1.25622779e-01,  2.00750642e-02,\n",
      "       -6.02536686e-02,  5.88965192e-02,  2.20711291e-01, -2.20050430e-03,\n",
      "       -2.93378960e-02, -3.65405709e-01, -2.41792619e-01, -1.05075158e-01,\n",
      "       -1.17068151e-02, -3.03995535e-02, -2.45240051e-02, -2.73604929e-01,\n",
      "        1.20087840e-01,  6.29994459e-03, -1.91740677e-01, -8.47997330e-03,\n",
      "        1.67179748e-01,  2.76299596e-01, -4.31753024e-02,  1.01699576e-01,\n",
      "       -1.07445478e-01, -8.23106151e-03, -1.66008815e-01, -2.48470649e-01,\n",
      "        2.66813308e-01, -1.83493420e-01, -2.23072097e-01, -2.94385236e-02,\n",
      "       -1.17258571e-01, -3.85479510e-01,  3.01051256e-03, -1.51244760e-01,\n",
      "        6.24345243e-02, -4.64901850e-02, -4.73640226e-02,  3.01972087e-02,\n",
      "        4.11536098e-02, -2.31376171e-01, -1.04908302e-01,  1.33397594e-01,\n",
      "        3.96901108e-02,  3.61938700e-02,  2.92941213e-01, -3.25068682e-02,\n",
      "        1.01106942e-01, -6.29178286e-02,  2.88833082e-02,  3.14857543e-01,\n",
      "        2.06905648e-01, -9.30411816e-02,  1.79752670e-02, -2.38621533e-01,\n",
      "        4.23858225e-01, -1.04066439e-01,  1.17793813e-01, -1.42953396e-01,\n",
      "        9.33452994e-02,  3.47133785e-01,  3.37127417e-01, -5.56183048e-02,\n",
      "       -1.79782152e-01, -1.06249191e-01, -1.15548387e-01,  7.75368959e-02,\n",
      "        7.28846341e-02, -6.38463944e-02,  5.14602140e-02, -1.85620800e-01,\n",
      "        1.75705716e-01, -2.35862985e-01, -2.28812434e-02, -7.82359671e-03,\n",
      "        2.47765273e-01,  1.92597851e-01,  6.20349906e-02, -1.12710707e-01,\n",
      "        2.16121912e-01, -3.09300542e-01,  2.02650651e-01,  1.82920769e-01,\n",
      "       -1.27682567e-01,  2.75196522e-01, -1.45386875e-01, -5.36708347e-03,\n",
      "       -6.14924319e-02, -7.47981295e-02, -1.31661236e-01, -2.36588478e-01,\n",
      "       -5.43004014e-02, -3.01695261e-02, -1.45819366e-01,  2.93878317e-01,\n",
      "        2.91576958e-03, -1.73502013e-01, -2.46176854e-01,  2.35883370e-01,\n",
      "       -2.85391528e-02, -1.47397175e-01,  1.16836458e-01,  7.91542679e-02,\n",
      "       -1.88992321e-01, -1.19127855e-01,  1.96135104e-01, -7.37697482e-02,\n",
      "       -1.01093784e-01, -9.59471613e-02, -1.97047710e-01,  1.54399490e-02,\n",
      "        2.71252934e-02,  1.97572023e-01, -8.85836557e-02,  1.32979617e-01,\n",
      "       -7.13597238e-02, -9.53086093e-02, -1.63493201e-01, -5.40240891e-02,\n",
      "       -4.66517806e-02, -1.45348370e-01,  1.30428404e-01, -2.86378358e-02,\n",
      "        6.92415461e-02,  9.42549482e-03,  3.09308290e-01, -3.08709383e-01,\n",
      "       -2.43420694e-02, -1.41844973e-01])), ('neutral', array([ 2.00000000e+00,  6.37254902e-02,  4.44000000e+02,  2.18000000e+02,\n",
      "        1.50000000e+01,  1.00000000e+00,  1.00000000e+00,  1.00000000e+00,\n",
      "        0.00000000e+00,  0.00000000e+00,  0.00000000e+00,  0.00000000e+00,\n",
      "        0.00000000e+00,  0.00000000e+00,  0.00000000e+00,  0.00000000e+00,\n",
      "        0.00000000e+00,  0.00000000e+00, -1.85622200e-01, -2.19373912e-01,\n",
      "        1.85912237e-01, -4.87622730e-02,  3.15438539e-01, -1.61224291e-01,\n",
      "        2.62511224e-02, -5.62196597e-02, -3.08437739e-02,  2.52745636e-02,\n",
      "        3.22807699e-01,  2.83962727e-01,  3.30496281e-01,  6.06383272e-02,\n",
      "        2.33718026e-02, -1.19682336e-02, -7.55256638e-02,  3.20912272e-01,\n",
      "       -3.98488753e-02,  1.39194906e-01,  2.43074019e-02,  2.72616409e-02,\n",
      "       -1.18576221e-01,  2.40424108e-02, -1.19442970e-01, -2.42859066e-01,\n",
      "        8.42623860e-02, -2.55978554e-01, -7.54564479e-02,  2.35232320e-02,\n",
      "       -5.25073968e-02, -1.98552758e-01, -3.28656770e-02,  7.53557216e-03,\n",
      "        3.70233543e-02, -3.81243974e-02,  2.54251175e-02,  1.11469425e-01,\n",
      "       -6.10999651e-02,  1.33276314e-01,  1.97477520e-01,  9.23565254e-02,\n",
      "       -2.12694854e-01,  3.23656619e-01, -3.64981382e-03,  8.30415040e-02,\n",
      "        8.10436963e-04, -2.49268830e-01,  1.64052248e-01,  1.69973299e-01,\n",
      "       -8.29597041e-02, -7.80963451e-02, -2.02518269e-01,  8.54514167e-02,\n",
      "        3.34042132e-01,  1.31653279e-01, -2.50622574e-02,  3.98817062e-02,\n",
      "       -3.01861223e-02,  2.01409802e-01,  8.61155912e-02, -1.75716028e-01,\n",
      "        9.83819831e-04, -3.83590721e-02, -2.28831224e-04,  1.22101292e-01,\n",
      "       -9.97449905e-02, -2.96104819e-01,  1.50768831e-01, -1.02620691e-01,\n",
      "       -2.36236796e-01, -1.62264645e-01,  1.80862531e-01, -7.01007945e-03,\n",
      "       -1.35169938e-01,  1.37203157e-01, -1.59055173e-01,  7.23926798e-02,\n",
      "        1.94096163e-01, -1.31806498e-02,  2.41016611e-01,  1.34282466e-02,\n",
      "       -3.77110481e-01,  1.29583105e-01, -2.34612435e-01, -1.33544179e-02,\n",
      "        1.21756466e-02, -8.17853734e-02, -1.42606914e-01, -2.72370845e-01,\n",
      "       -1.05740473e-01, -1.75600395e-01, -2.28712745e-02,  1.02726825e-01,\n",
      "        4.00279053e-02, -1.35434851e-01, -4.12331782e-02, -2.29384556e-01,\n",
      "       -1.02658466e-01, -7.49527588e-02,  1.38782799e-01,  1.08919546e-01,\n",
      "        9.93464887e-02, -5.09509258e-02,  4.99295555e-02, -1.95053682e-01,\n",
      "       -1.51044399e-01,  5.45532778e-02,  1.17987849e-01,  9.94190201e-03,\n",
      "       -4.58990671e-02,  1.57459736e-01,  1.63916662e-01, -1.59132823e-01,\n",
      "        8.79197344e-02, -2.45465845e-01, -1.17384449e-01,  2.23059773e-01,\n",
      "        2.24714234e-01, -3.63697886e-01, -2.70690113e-01,  1.94544882e-01,\n",
      "        5.74144199e-02, -2.93130308e-01,  7.01573193e-02, -2.30946884e-01,\n",
      "       -6.18389584e-02, -1.21004760e-01])), ('neutral', array([ 1.90476190e+00,  0.00000000e+00,  9.69000000e+02,  3.42000000e+02,\n",
      "        1.90000000e+01,  0.00000000e+00,  0.00000000e+00,  0.00000000e+00,\n",
      "        0.00000000e+00,  0.00000000e+00,  0.00000000e+00,  0.00000000e+00,\n",
      "        0.00000000e+00,  0.00000000e+00,  0.00000000e+00,  0.00000000e+00,\n",
      "        0.00000000e+00,  0.00000000e+00, -1.27992287e-01, -1.47283360e-01,\n",
      "       -1.10242218e-01, -5.86643405e-02, -3.49926084e-01, -1.54002443e-01,\n",
      "       -2.12072278e-03,  4.13753390e-02, -1.39256671e-01, -2.74163544e-01,\n",
      "        1.59486368e-01,  6.62603527e-02,  2.56542444e-01, -1.86650515e-01,\n",
      "        8.45352281e-03,  3.44397798e-02, -4.33464861e-03,  3.67813744e-02,\n",
      "        7.02664703e-02,  1.13616697e-01, -2.64981925e-01,  9.01393369e-02,\n",
      "       -2.37694472e-01,  2.05001116e-01,  6.04505241e-02, -1.56824932e-01,\n",
      "       -1.28705323e-01, -9.61210802e-02, -5.93826734e-02, -2.83482939e-01,\n",
      "       -3.30900471e-03, -3.30997020e-01,  1.47528946e-01, -3.97663005e-02,\n",
      "       -1.21041358e-01,  4.35266225e-03,  9.31143202e-03,  1.14527494e-01,\n",
      "       -5.85836805e-02, -2.03002878e-02,  9.79700778e-03,  1.61011785e-01,\n",
      "       -2.78185338e-01, -2.13755034e-02, -8.00746679e-02, -3.18341702e-02,\n",
      "        3.59252803e-02,  1.06818065e-01,  1.10051818e-01,  2.38948002e-01,\n",
      "       -2.02710807e-01,  6.57118484e-02, -1.13056019e-01,  2.21637294e-01,\n",
      "        4.90230136e-02,  1.97774917e-01, -1.17950410e-01, -5.61316535e-02,\n",
      "       -1.68096185e-01,  4.56060804e-02,  7.54120722e-02, -1.22668454e-02,\n",
      "       -4.00995426e-02,  5.10506555e-02,  7.51599222e-02,  1.32405609e-02,\n",
      "        5.13005741e-02, -3.84021074e-01,  5.07115498e-02, -1.63564518e-01,\n",
      "        1.74723770e-02, -1.60270497e-01,  2.29427889e-01, -1.24281406e-01,\n",
      "        6.32236153e-02,  1.33184325e-02, -1.63295150e-01,  1.43460080e-01,\n",
      "        3.26463431e-02, -2.20435902e-01, -4.39734533e-02,  1.00586742e-01,\n",
      "       -4.09683995e-02,  6.43468052e-02, -6.64236024e-02, -1.51360542e-01,\n",
      "       -2.36813929e-02,  1.34173602e-01, -5.09919263e-02, -9.99962091e-02,\n",
      "       -1.12205833e-01, -3.27220172e-01,  2.94188380e-01,  1.31337181e-01,\n",
      "       -1.83873802e-01,  1.26619730e-02, -2.59667099e-01, -3.31316769e-01,\n",
      "        1.50851160e-01, -2.47281209e-01, -1.12292217e-02,  1.73089519e-01,\n",
      "        2.47607708e-01, -1.73503369e-01,  1.83971003e-01, -7.72704706e-02,\n",
      "       -1.56380311e-01, -4.71138321e-02, -2.88204044e-01,  1.96370721e-01,\n",
      "       -2.04765588e-01, -7.74400905e-02, -6.81949705e-02,  2.06159338e-01,\n",
      "        9.72616393e-03, -8.54621008e-02,  9.37501490e-02,  1.39499500e-01,\n",
      "       -1.47657469e-01,  7.72084445e-02, -3.62172961e-01,  4.30883691e-02,\n",
      "       -9.48556289e-02, -1.28957238e-02,  1.50690814e-02, -9.77846533e-02,\n",
      "       -3.09868772e-02,  2.38336474e-02])), ('neutral', array([ 2.30769231e+00,  0.00000000e+00,  1.93700000e+03,  6.06000000e+02,\n",
      "        4.30000000e+01,  7.00000000e+00,  7.00000000e+00,  0.00000000e+00,\n",
      "        0.00000000e+00,  0.00000000e+00,  0.00000000e+00,  0.00000000e+00,\n",
      "        0.00000000e+00,  0.00000000e+00,  0.00000000e+00,  0.00000000e+00,\n",
      "        0.00000000e+00,  0.00000000e+00, -1.42488733e-01,  8.43670890e-02,\n",
      "       -3.28493446e-01,  2.03074649e-01, -2.51758974e-02, -9.69988704e-02,\n",
      "       -1.72245860e-01, -1.19245887e-01, -1.43907815e-01,  9.46076512e-02,\n",
      "        2.99867868e-01, -5.97444028e-02,  1.55094743e-01, -7.82956555e-02,\n",
      "        6.56047240e-02,  1.89545557e-01, -2.69256175e-01, -7.10540824e-03,\n",
      "        3.31071168e-02,  3.04812361e-02, -1.75505221e-01,  2.13871911e-01,\n",
      "       -1.75039455e-01,  2.05611870e-01,  2.46060014e-01, -5.54795898e-02,\n",
      "        1.88768744e-01, -1.32335454e-01, -2.02896461e-01, -3.64944078e-02,\n",
      "        1.50941581e-01, -9.38962996e-02,  6.63708597e-02, -2.12841555e-01,\n",
      "        3.41061801e-02,  4.07271348e-02,  1.71069056e-02,  1.67026967e-01,\n",
      "        6.38241842e-02,  4.03212197e-02, -7.71427229e-02,  1.92371383e-01,\n",
      "       -2.82504112e-01,  2.73943305e-01,  1.66724205e-01, -1.86672196e-01,\n",
      "        3.19750458e-02, -1.25666946e-01,  2.74915516e-01, -1.23318337e-01,\n",
      "       -1.24321297e-01,  5.38860150e-02, -1.14052497e-01, -1.67149410e-01,\n",
      "        1.94379300e-01, -1.44559190e-01, -1.38193607e-01,  8.48055407e-02,\n",
      "        2.32822802e-02,  2.54863948e-01,  2.24226147e-01, -9.78127588e-03,\n",
      "       -6.20765164e-02, -9.09078121e-02,  8.28420976e-04, -2.99464893e-02,\n",
      "        9.57932025e-02, -1.60311505e-01,  3.27119619e-01, -4.86833863e-02,\n",
      "       -1.77274384e-02, -9.13382173e-02, -2.13951498e-01, -7.86446258e-02,\n",
      "        3.95818830e-01,  3.52005422e-01, -2.62665629e-01, -1.66696589e-02,\n",
      "       -2.79408190e-02, -4.05761242e-01,  7.87424445e-02, -6.12012222e-02,\n",
      "       -1.50456009e-02,  6.55740201e-02, -1.51782826e-01, -2.16328390e-02,\n",
      "       -1.73339412e-01, -1.81268364e-01, -1.12783708e-01, -4.46955161e-03,\n",
      "        1.97193071e-01, -1.92882329e-01,  3.82868163e-02,  2.87232012e-03,\n",
      "       -4.29744273e-02, -1.38101459e-01,  5.67011945e-02,  1.17968865e-01,\n",
      "       -3.23488340e-02, -6.58793822e-02, -1.22099936e-01, -1.21998107e-02,\n",
      "       -5.81306219e-02, -4.85568941e-02,  1.83344945e-01,  2.30020750e-02,\n",
      "       -1.88330010e-01,  2.71696411e-02, -1.26449108e-01, -1.95222333e-01,\n",
      "       -6.61259741e-02, -2.15586834e-02,  1.67076990e-01, -7.40611106e-02,\n",
      "       -1.73959389e-01, -7.60035496e-03, -2.19655231e-01, -1.48008525e-01,\n",
      "        1.22915335e-01,  2.53416109e-03, -2.08031610e-01,  2.58207917e-02,\n",
      "        3.69718894e-02, -9.92014408e-02,  1.57585964e-01, -1.88669369e-01,\n",
      "       -2.31132820e-01, -4.91662361e-02])), ('neutral', array([ 1.75000000e+00,  0.00000000e+00,  2.00000000e+01,  3.00000000e+01,\n",
      "        6.00000000e+00,  0.00000000e+00,  0.00000000e+00,  0.00000000e+00,\n",
      "        0.00000000e+00,  0.00000000e+00,  0.00000000e+00,  0.00000000e+00,\n",
      "        0.00000000e+00,  0.00000000e+00,  0.00000000e+00,  0.00000000e+00,\n",
      "        0.00000000e+00,  0.00000000e+00, -8.17173626e-03,  8.71604905e-02,\n",
      "       -8.45209956e-02,  3.41867981e-03, -6.76029995e-02,  8.91732238e-03,\n",
      "       -1.38703929e-02, -1.59651548e-01,  1.59515262e-01, -2.12936297e-01,\n",
      "        1.79479524e-01,  1.50764778e-01,  1.29782055e-02, -3.98542322e-02,\n",
      "       -3.69153023e-02, -7.82372802e-03, -3.45468558e-02,  7.86750913e-02,\n",
      "        3.88823859e-02,  3.51062603e-02, -3.00112423e-02,  7.48257190e-02,\n",
      "       -3.50969821e-01,  1.11544110e-01, -3.73790674e-02,  1.63152744e-03,\n",
      "        1.43585160e-01,  5.55597537e-04, -2.97001712e-02, -1.77936167e-01,\n",
      "       -3.41040432e-01, -2.34875396e-01,  5.57948928e-03, -8.27199407e-03,\n",
      "        1.34198129e-01, -1.67001769e-01,  3.30596924e-01,  2.75119513e-01,\n",
      "       -2.20849589e-02, -1.49096787e-01,  3.28448713e-01,  9.35146436e-02,\n",
      "        6.15738221e-02,  1.14865139e-01,  2.85662919e-01,  2.83118114e-02,\n",
      "       -6.36244239e-03, -2.91615874e-01, -4.03838344e-02,  7.95112848e-02,\n",
      "        2.29772218e-02, -1.26980826e-01,  9.11641121e-02, -1.94550961e-01,\n",
      "        3.22293282e-01, -1.51161566e-01, -2.31308743e-01, -1.23285288e-02,\n",
      "       -1.75384767e-02,  1.25188231e-01,  5.54748327e-02, -1.08467586e-01,\n",
      "       -1.55491471e-01, -6.84641898e-02, -2.14074329e-01,  3.15075815e-02,\n",
      "        2.18673378e-01, -4.20731634e-01, -6.43103495e-02,  3.69854629e-01,\n",
      "        1.95243254e-01, -1.42690793e-01, -7.73718506e-02, -1.15965247e-01,\n",
      "        6.63759038e-02, -1.66332982e-02, -1.50867075e-01,  1.71323940e-01,\n",
      "        1.53485581e-01, -3.06612343e-01, -5.27291037e-02,  1.28959008e-02,\n",
      "       -6.98082671e-02,  2.51084298e-01, -1.04113318e-01,  7.12810382e-02,\n",
      "        2.06733674e-01, -1.26580279e-02, -3.28730583e-01, -2.41066907e-02,\n",
      "       -8.90440047e-02,  6.44504651e-02,  1.22550786e-01, -4.72510085e-02,\n",
      "        3.45403403e-01,  5.53168915e-02, -4.33359325e-01, -1.61914468e-01,\n",
      "        1.42331123e-01, -1.90794051e-01,  1.82239398e-01,  1.97523311e-01,\n",
      "       -2.07706898e-01, -2.05958053e-01,  2.10156649e-01, -4.19637747e-02,\n",
      "        4.35608923e-02, -2.91423183e-02, -1.65222317e-01,  5.40238805e-02,\n",
      "       -3.12521219e-01, -4.85280808e-03,  3.25839996e-04,  2.87801996e-02,\n",
      "        3.26168016e-02,  1.83599532e-01, -8.58409107e-02,  1.32731676e-01,\n",
      "       -3.29752713e-01, -1.77765027e-01,  8.24870542e-02,  2.33040512e-01,\n",
      "        1.47450775e-01,  5.27716763e-02,  8.89475271e-03, -2.88035154e-01,\n",
      "        2.16078702e-02, -1.06606791e-02])), ('neutral', array([ 2.26666667e+00,  0.00000000e+00,  2.71000000e+02,  1.60000000e+02,\n",
      "        1.90000000e+01,  3.00000000e+00,  2.00000000e+00,  0.00000000e+00,\n",
      "        0.00000000e+00,  0.00000000e+00,  0.00000000e+00,  0.00000000e+00,\n",
      "        0.00000000e+00,  0.00000000e+00,  0.00000000e+00,  0.00000000e+00,\n",
      "        0.00000000e+00,  0.00000000e+00, -1.87665746e-01, -1.11016773e-01,\n",
      "       -3.11029226e-01,  7.27484599e-02,  3.35626188e-03, -1.37390137e-01,\n",
      "        4.59996685e-02, -4.25907582e-01,  1.05023168e-01, -9.87162963e-02,\n",
      "        7.01942369e-02,  1.51795328e-01,  2.86120027e-01, -2.58648962e-01,\n",
      "       -9.24176127e-02,  5.40981591e-02,  7.21249729e-02,  2.40451708e-01,\n",
      "        4.96912785e-02,  1.79605812e-01, -8.93362314e-02,  1.32799730e-01,\n",
      "       -1.42754421e-01, -4.82490212e-02,  4.23184708e-02, -6.81101829e-02,\n",
      "       -1.50529847e-01, -7.42266253e-02, -2.53366858e-01,  1.76862866e-01,\n",
      "       -4.76165228e-02,  9.70830116e-03, -1.86441943e-01, -6.46656752e-02,\n",
      "        2.77369797e-01,  7.17643723e-02,  1.89914301e-01,  3.01400304e-01,\n",
      "        1.96689427e-01, -1.20766282e-01,  2.51822025e-01,  1.38516143e-01,\n",
      "       -2.42564365e-01,  1.51989805e-02, -3.28888930e-02, -1.97569549e-01,\n",
      "       -1.94887608e-01,  9.62201282e-02,  2.07769617e-01, -2.48682150e-03,\n",
      "        5.24067916e-02, -1.07505657e-01, -2.39955872e-01, -1.84478864e-01,\n",
      "        7.32708424e-02, -2.09627077e-01, -9.22672153e-02, -2.70403355e-01,\n",
      "       -3.37366462e-01,  1.08695000e-01,  1.63019955e-01, -2.69491732e-01,\n",
      "       -2.56926119e-01,  4.69040163e-02,  1.23601303e-01, -8.80155787e-02,\n",
      "        2.59097070e-01, -1.34697348e-01,  2.63604254e-01,  2.36020312e-01,\n",
      "        1.33776426e-01, -6.58428296e-02, -1.09664865e-01, -8.71601328e-03,\n",
      "       -1.25013236e-02,  1.05525171e-02, -6.94454229e-03, -7.87809193e-02,\n",
      "        9.44116339e-02, -1.96475670e-01,  1.33668557e-01, -7.74825737e-02,\n",
      "       -6.25203624e-02,  2.71245807e-01, -5.71720582e-03,  1.03536174e-01,\n",
      "       -9.14804041e-02, -1.20752685e-01, -1.40867755e-01,  7.05485493e-02,\n",
      "       -4.18432578e-02, -6.84936270e-02,  1.22920051e-01,  4.34781499e-02,\n",
      "       -3.60565074e-02, -1.05078094e-01, -4.19453494e-02,  7.12308586e-02,\n",
      "        6.84582666e-02, -7.92544708e-02,  6.02516420e-02, -1.08279563e-01,\n",
      "       -3.59934755e-02,  2.13049725e-01,  9.66534838e-02, -1.19720221e-01,\n",
      "       -1.03676831e-03,  2.42815644e-01, -3.85618880e-02, -1.17733687e-01,\n",
      "        6.20014556e-02,  2.41233055e-02, -3.22901495e-02, -1.83826670e-01,\n",
      "       -3.06216508e-01, -1.91696119e-02, -2.05087170e-01,  2.61403561e-01,\n",
      "       -2.09570333e-01, -2.99905419e-01, -2.26996094e-01,  7.00193718e-02,\n",
      "        1.22921698e-01,  1.48517027e-01,  1.00609809e-01, -2.59322405e-01,\n",
      "        4.40630950e-02, -3.54964048e-01])), ('neutral', array([ 2.00000000e+00,  0.00000000e+00,  2.76000000e+02,  1.63000000e+02,\n",
      "        1.50000000e+01,  1.00000000e+00,  0.00000000e+00,  0.00000000e+00,\n",
      "        0.00000000e+00,  0.00000000e+00,  0.00000000e+00,  0.00000000e+00,\n",
      "        0.00000000e+00,  0.00000000e+00,  0.00000000e+00,  0.00000000e+00,\n",
      "        0.00000000e+00,  0.00000000e+00, -1.74021021e-01, -7.36306235e-02,\n",
      "       -1.35423675e-01,  1.19734056e-01,  1.49825364e-01, -7.26457164e-02,\n",
      "       -5.43631092e-02, -2.67571062e-01, -4.39404219e-01, -3.54559362e-01,\n",
      "        1.95150860e-02,  1.06807619e-01, -3.70305590e-02, -3.66080925e-02,\n",
      "       -1.49640590e-01,  5.38966153e-03, -3.28133464e-01,  1.83873959e-02,\n",
      "        1.82182968e-01,  2.29573533e-01, -4.36143205e-02,  2.29018539e-01,\n",
      "       -1.31155893e-01,  1.07197233e-01,  1.48640692e-01, -2.47063890e-01,\n",
      "        3.07463594e-02, -1.62377313e-01,  4.87779751e-02,  3.11891418e-02,\n",
      "        1.14055909e-01, -7.70856068e-02,  1.61403760e-01, -2.28339970e-01,\n",
      "        2.83233792e-01, -1.38939977e-01,  1.41053470e-02,  1.56045333e-01,\n",
      "       -1.69277921e-01, -6.76699653e-02, -9.99180377e-02,  2.85039306e-01,\n",
      "        1.11374803e-01,  1.01834498e-01,  2.09645405e-02, -9.29367989e-02,\n",
      "       -2.10118309e-01, -6.11858293e-02,  2.75425941e-01, -1.41459391e-01,\n",
      "        1.85770020e-01, -1.91450775e-01,  7.25365952e-02,  8.26447457e-02,\n",
      "        1.33634225e-01, -5.44956066e-02, -7.78797194e-02, -8.67042542e-02,\n",
      "       -8.16018358e-02,  5.41195758e-02,  1.37789384e-01, -3.96027565e-02,\n",
      "        1.39584646e-01, -3.63332173e-03,  6.19211718e-02,  6.16045035e-02,\n",
      "        1.95901230e-01,  7.20628351e-03,  2.11857006e-01,  1.92321301e-01,\n",
      "       -3.50098200e-02,  8.43225792e-02,  6.42372072e-02, -9.96449813e-02,\n",
      "        1.40658692e-01,  6.70145601e-02, -6.07601134e-03,  8.58167633e-02,\n",
      "        1.64196864e-01, -1.61666766e-01,  1.53496578e-01,  1.85209155e-01,\n",
      "       -7.21232221e-02,  3.65766436e-02, -2.34469488e-01, -2.53809337e-02,\n",
      "        2.04720125e-02,  4.07850519e-02, -3.19365293e-01, -1.70043111e-02,\n",
      "       -4.18385416e-02, -3.38480026e-02, -7.65385702e-02,  1.00862995e-01,\n",
      "        3.60897891e-02,  9.91708189e-02, -8.36305246e-02,  6.91101700e-02,\n",
      "        2.86038488e-01, -8.23207498e-02,  1.64166376e-01,  2.16042280e-01,\n",
      "       -1.08361356e-01, -1.11701198e-01,  3.91327262e-01, -1.65711761e-01,\n",
      "       -7.81407347e-04,  3.56011391e-01, -4.59209234e-01, -1.64262190e-01,\n",
      "       -1.71153292e-01, -1.29259378e-01,  2.96981990e-01, -1.87055051e-01,\n",
      "       -3.10529828e-01, -5.34165353e-02, -1.71619669e-01, -2.08017677e-01,\n",
      "        1.15226666e-02,  8.68228152e-02, -1.60670087e-01,  1.19137891e-01,\n",
      "        5.42417355e-02,  8.17023367e-02,  1.12200521e-01, -2.35088557e-01,\n",
      "        1.07393023e-02, -1.32537916e-01])), ('neutral', array([ 2.47619048e+00,  6.13945578e-02,  9.09000000e+02,  3.56000000e+02,\n",
      "        3.00000000e+01,  7.00000000e+00,  6.00000000e+00,  2.00000000e+00,\n",
      "        1.00000000e+00,  1.40000000e+01,  3.00000000e+00,  2.00000000e+00,\n",
      "        0.00000000e+00,  0.00000000e+00,  0.00000000e+00,  0.00000000e+00,\n",
      "        0.00000000e+00,  0.00000000e+00, -5.76013401e-02, -1.30379185e-01,\n",
      "       -1.50246620e-01, -4.56114225e-02, -8.41068625e-02, -1.70866307e-02,\n",
      "        3.03710457e-02, -9.33214277e-02,  6.97257221e-02,  2.24775914e-03,\n",
      "        2.02568367e-01,  1.38241611e-02, -2.05886252e-02, -2.84918584e-02,\n",
      "       -9.23701599e-02,  8.33015293e-02, -2.79554557e-02, -5.69378138e-02,\n",
      "        1.44302115e-01,  2.58157104e-01, -8.96273032e-02,  2.26191491e-01,\n",
      "        8.52667764e-02,  1.34366244e-01,  1.09107003e-01, -1.23917863e-01,\n",
      "       -2.18268745e-02, -2.82936752e-01, -6.08580187e-02, -1.66875094e-01,\n",
      "       -1.65460944e-01, -1.26275897e-01,  3.41292441e-01, -1.22943453e-01,\n",
      "        5.98286130e-02, -3.65306553e-03,  1.19618885e-01,  3.17495704e-01,\n",
      "       -1.49269193e-01, -2.12764025e-01, -1.81154266e-01,  1.80861428e-01,\n",
      "       -2.16719851e-01,  2.06088722e-01,  2.04699337e-01, -3.17096531e-01,\n",
      "       -4.62774932e-02,  6.82761595e-02,  2.67891556e-01, -4.47403900e-02,\n",
      "        1.40665039e-01, -2.42526099e-01, -1.66696876e-01, -1.24254793e-01,\n",
      "        1.71193272e-01,  6.95620030e-02, -2.12189972e-01,  1.17697485e-01,\n",
      "        1.21595718e-01,  2.11487830e-01,  6.18154854e-02, -2.40193576e-01,\n",
      "       -3.05008650e-01, -1.20661438e-01,  8.17831904e-02,  8.20935592e-02,\n",
      "        4.25464474e-02, -9.74834561e-02,  4.03701872e-01,  5.30659966e-02,\n",
      "       -6.41923323e-02, -2.63105094e-01, -1.30286783e-01, -1.12808943e-01,\n",
      "        4.45828773e-02,  1.65059507e-01, -1.09923378e-01, -2.43035242e-01,\n",
      "        1.09312996e-01,  1.99700408e-02, -1.08536342e-02,  9.51529518e-02,\n",
      "       -1.04605511e-01,  2.23113447e-01,  1.66821688e-01,  1.98768750e-01,\n",
      "        1.01755045e-01, -7.02899992e-02, -1.45104274e-01,  2.08670218e-02,\n",
      "       -5.97050712e-02, -7.60230748e-03,  2.33780771e-01, -6.32446110e-02,\n",
      "       -1.58018991e-01, -2.12463424e-01, -6.12502322e-02,  7.29141459e-02,\n",
      "        1.19956899e-02,  6.40497580e-02,  4.75066761e-03, -1.53064311e-01,\n",
      "        1.05766565e-01, -2.02318102e-01,  2.00746045e-01,  3.40269208e-02,\n",
      "       -2.65250474e-01,  3.36832345e-01, -9.96060744e-02, -4.39051837e-02,\n",
      "        5.21155111e-02, -4.41028997e-02,  8.84972438e-02, -1.61151737e-01,\n",
      "       -1.76614732e-01, -9.04800929e-03, -6.80466369e-02, -1.10557377e-01,\n",
      "       -1.09734640e-01, -2.21350119e-01, -2.63258427e-01, -1.41550288e-01,\n",
      "       -1.84967697e-01,  1.07546940e-01,  7.36895576e-02, -2.04559147e-01,\n",
      "       -3.21862161e-01, -2.89843023e-01])), ('neutral', array([ 2.10000000e+00,  0.00000000e+00,  7.90000000e+02,  3.22000000e+02,\n",
      "        2.40000000e+01,  2.00000000e+00,  2.00000000e+00,  0.00000000e+00,\n",
      "        0.00000000e+00,  0.00000000e+00,  0.00000000e+00,  0.00000000e+00,\n",
      "        0.00000000e+00,  0.00000000e+00,  0.00000000e+00,  0.00000000e+00,\n",
      "        0.00000000e+00,  0.00000000e+00, -1.96969762e-01, -9.86315012e-02,\n",
      "       -1.94124088e-01,  5.84079651e-03,  8.59654695e-02, -1.57437354e-01,\n",
      "       -1.28978491e-01,  5.55470623e-02,  1.87452720e-03, -1.06420383e-01,\n",
      "        1.69062037e-02,  7.82934111e-03,  1.62592083e-01, -1.83320731e-01,\n",
      "       -4.45749350e-02,  3.01622510e-01,  6.50191605e-02,  4.69422080e-02,\n",
      "       -9.46741626e-02,  1.09592944e-01, -2.52121806e-01,  2.37187475e-01,\n",
      "       -2.42556795e-01, -1.52796865e-01, -2.87533879e-01, -1.29461899e-01,\n",
      "        1.29784912e-01, -1.71359316e-01, -7.87841007e-02,  2.12159097e-01,\n",
      "       -1.02911878e-03,  7.12649003e-02,  2.59828478e-01,  1.50486469e-01,\n",
      "       -9.41380560e-02,  1.53117133e-02, -1.91097349e-01,  5.00343479e-02,\n",
      "       -3.53867002e-02, -1.89264253e-01,  4.01540995e-02,  2.53945440e-01,\n",
      "       -1.03831604e-01, -3.55812535e-02,  3.58531773e-01, -6.20586127e-02,\n",
      "       -1.15868703e-01, -1.84898540e-01,  1.68845013e-01,  1.25743940e-01,\n",
      "       -1.02517515e-01, -6.13965988e-02, -1.59248680e-01, -2.68810987e-01,\n",
      "        3.41604687e-02,  8.59638751e-02, -6.25811741e-02, -3.01317513e-01,\n",
      "       -7.54125193e-02,  1.73948497e-01,  1.87770799e-01, -1.98580489e-01,\n",
      "       -1.99215114e-01,  5.35017699e-02, -5.29260337e-02,  5.87829715e-03,\n",
      "        4.24988419e-02, -1.01748019e-01, -4.73235585e-02,  2.61935890e-02,\n",
      "       -1.88955367e-01, -9.45600122e-02, -6.19206168e-02,  1.59059707e-02,\n",
      "        1.64410070e-01,  2.90050209e-02, -1.66615635e-01, -8.01123753e-02,\n",
      "        1.85087413e-01,  2.95757707e-02,  1.70601308e-02, -1.99353948e-01,\n",
      "        1.12581320e-01, -1.16829257e-02, -2.13065505e-01,  9.58941057e-02,\n",
      "        1.39204025e-01,  3.06126475e-02, -2.48592570e-01, -4.15906049e-02,\n",
      "       -1.55315697e-01, -1.49870262e-01, -5.77300526e-02,  1.34233400e-01,\n",
      "        1.90840229e-01,  6.59830645e-02,  2.98923836e-03, -2.98669100e-01,\n",
      "       -3.45820077e-02, -2.28455603e-01,  1.54999301e-01, -8.58650804e-02,\n",
      "        4.36229073e-02, -5.34751676e-02,  1.73891455e-01, -1.49849266e-01,\n",
      "       -1.81320459e-01,  1.16083115e-01,  2.62546409e-02, -1.21418424e-01,\n",
      "        2.91758198e-02,  4.21855301e-01,  5.93152791e-02, -1.70930132e-01,\n",
      "       -2.51124740e-01, -1.95851430e-01, -3.28331478e-02,  1.24162585e-01,\n",
      "        7.58747309e-02, -2.23424122e-01, -3.20127934e-01,  1.69105768e-01,\n",
      "       -3.33968133e-01,  2.67720763e-02,  2.20171869e-01, -1.28180087e-01,\n",
      "        6.35641161e-03, -3.24154794e-01])), ('neutral', array([ 2.00000000e+00,  0.00000000e+00,  5.10000000e+01,  5.80000000e+01,\n",
      "        1.00000000e+01,  0.00000000e+00,  1.00000000e+00,  0.00000000e+00,\n",
      "        0.00000000e+00,  0.00000000e+00,  0.00000000e+00,  0.00000000e+00,\n",
      "        0.00000000e+00,  0.00000000e+00,  0.00000000e+00,  0.00000000e+00,\n",
      "        0.00000000e+00,  0.00000000e+00, -1.63365602e-01, -3.98439497e-01,\n",
      "       -1.83282897e-01,  3.75335440e-02, -9.38385129e-02,  2.36505419e-02,\n",
      "       -6.46549016e-02, -1.45392679e-02, -6.47953227e-02, -8.47203583e-02,\n",
      "        2.24637717e-01,  5.95376529e-02,  5.44135347e-02,  6.48644641e-02,\n",
      "        1.48219794e-01,  1.59463882e-01, -1.23031072e-01,  2.74771959e-01,\n",
      "        1.13924351e-02,  8.79131705e-02,  1.23446546e-01,  6.45845160e-02,\n",
      "       -1.12235680e-01, -1.25751957e-01,  1.63937695e-02, -3.70779186e-01,\n",
      "       -5.55934459e-02, -6.31587356e-02, -3.63388926e-01,  1.04396080e-03,\n",
      "        4.20779996e-02, -2.28588022e-02,  4.02411729e-01,  2.45207474e-02,\n",
      "        2.36764744e-01, -7.51228854e-02,  3.07109565e-01,  7.11903200e-02,\n",
      "        7.74795040e-02, -1.56004682e-01,  2.04012752e-01,  1.35642245e-01,\n",
      "       -3.55916247e-02, -7.60030448e-02, -8.53956789e-02,  2.89982349e-01,\n",
      "        9.88791436e-02,  2.71675047e-02, -1.58077627e-01, -5.44769578e-02,\n",
      "       -4.32866067e-02, -7.17865676e-02,  1.46549329e-01, -2.57362556e-02,\n",
      "       -1.36757568e-01,  2.33954355e-01, -3.54621671e-02, -1.20499298e-01,\n",
      "        1.75890978e-02, -5.24458997e-02,  2.04516798e-01, -3.50581646e-01,\n",
      "       -2.03862995e-01, -1.99015513e-01, -1.40193090e-01, -8.79598111e-02,\n",
      "       -3.55099048e-03, -3.25471103e-01,  2.38588855e-01,  1.54952586e-01,\n",
      "       -2.15171844e-01, -1.69922784e-01,  1.92039385e-01,  1.73103604e-02,\n",
      "        2.19907165e-01,  3.05979443e-03, -1.71273604e-01, -1.02268666e-01,\n",
      "       -6.39378577e-02, -3.03273618e-01, -1.94657070e-03, -2.12961912e-01,\n",
      "       -3.47979456e-01,  1.08234800e-01, -3.48504543e-01, -5.68373762e-02,\n",
      "        2.35418856e-01,  9.91644338e-02,  5.73753193e-03, -1.56163469e-01,\n",
      "        2.56917365e-02, -1.39095739e-01,  1.70078039e-01, -2.52616197e-01,\n",
      "        2.25610420e-01, -1.26894578e-01, -9.42028221e-03,  5.67545258e-02,\n",
      "        2.94402726e-02, -1.61021829e-01, -3.46530192e-02, -1.53127506e-01,\n",
      "       -2.06061862e-02,  2.62591951e-02,  8.30142274e-02,  3.62819247e-02,\n",
      "        6.82057347e-03, -5.66937029e-02,  4.48242053e-02, -9.89793614e-02,\n",
      "       -5.86754158e-02,  3.14849466e-02,  2.39233568e-01,  8.10634792e-02,\n",
      "       -2.03580126e-01,  3.41573983e-01, -1.16607130e-01, -7.66377598e-02,\n",
      "        1.41362958e-02, -2.02109843e-01, -1.95658907e-01,  5.62334666e-03,\n",
      "        6.53871819e-02, -1.74719751e-01,  2.82060474e-01,  9.70135033e-02,\n",
      "       -2.88407773e-01, -1.42955437e-01])), ('neutral', array([ 2.10526316e+00,  0.00000000e+00,  6.81000000e+02,  2.55000000e+02,\n",
      "        1.60000000e+01,  0.00000000e+00,  0.00000000e+00,  0.00000000e+00,\n",
      "        0.00000000e+00,  1.50000000e+01,  1.00000000e+00,  1.00000000e+00,\n",
      "        0.00000000e+00,  0.00000000e+00,  0.00000000e+00,  0.00000000e+00,\n",
      "        0.00000000e+00,  0.00000000e+00, -3.00699957e-02, -1.88735098e-01,\n",
      "       -2.32130080e-01,  4.23866138e-03,  2.19027251e-01,  9.46537107e-02,\n",
      "       -1.77637935e-01, -1.95149451e-01, -1.43591523e-01, -6.72664940e-02,\n",
      "        2.33024508e-01,  1.01963513e-01,  1.44610107e-01, -8.85564387e-02,\n",
      "       -1.78409189e-01,  2.13768095e-01, -1.55301010e-02,  7.79632032e-02,\n",
      "       -1.45360222e-02, -9.21535417e-02, -3.70526314e-01,  2.94685382e-02,\n",
      "       -1.43422559e-01,  1.82646334e-01,  7.77353765e-03, -2.40731239e-02,\n",
      "        8.47462565e-02, -3.71961854e-02, -2.71350890e-01, -2.23057479e-01,\n",
      "        6.83465376e-02, -1.08915403e-01,  2.14904636e-01, -1.77243307e-01,\n",
      "       -2.54178117e-03, -2.26131767e-01,  1.44543678e-01, -1.15743605e-02,\n",
      "        1.71816885e-01, -2.15939701e-01,  1.01927802e-01,  6.98286891e-02,\n",
      "       -7.84958750e-02, -1.40926600e-01,  2.35577241e-01, -2.46336788e-01,\n",
      "       -5.14215268e-02, -2.29373410e-01, -7.18423277e-02,  9.51475725e-02,\n",
      "       -5.68990782e-02, -1.10996142e-01, -3.01008731e-01, -6.79577738e-02,\n",
      "        2.25963145e-01,  3.91041450e-02, -1.06978782e-01, -1.96714506e-01,\n",
      "        1.71325013e-01,  5.41042872e-02,  8.57367367e-02, -2.35002875e-01,\n",
      "        1.37301281e-01,  1.34982346e-02, -9.20512006e-02, -9.22532305e-02,\n",
      "        1.02739083e-02, -8.92548934e-02,  3.76578629e-01,  3.31183895e-02,\n",
      "       -8.60005617e-02,  1.06178075e-01,  1.80563495e-01, -2.99953669e-01,\n",
      "        2.48317733e-01, -2.90619079e-02, -1.33038163e-01,  4.29116003e-03,\n",
      "       -5.60003426e-03, -1.40628055e-01, -1.78547665e-01,  1.71601363e-02,\n",
      "       -1.36813775e-01,  2.77792156e-01, -5.26920781e-02, -5.05562462e-02,\n",
      "       -3.28595638e-01,  2.50884175e-01, -1.99763507e-01, -1.30665764e-01,\n",
      "       -2.06427887e-01, -3.41297314e-02, -1.10769555e-01, -8.84174258e-02,\n",
      "        2.64070015e-02,  5.07254750e-02,  9.33075026e-02,  6.79894984e-02,\n",
      "        1.95519209e-01, -3.18876117e-01,  2.92897001e-02,  1.10682532e-01,\n",
      "       -1.49481639e-01, -1.85153335e-02,  1.67931523e-02,  1.62185013e-01,\n",
      "       -2.30588913e-01, -3.64699923e-02, -1.10344633e-01, -1.70478836e-01,\n",
      "       -1.54767081e-01, -1.63555786e-01,  1.94303960e-01, -1.52373025e-02,\n",
      "       -3.19042265e-01, -7.16955680e-03, -7.46547282e-02,  3.89573097e-01,\n",
      "       -3.12642790e-02,  4.35139760e-02, -8.18233751e-03,  5.11610173e-02,\n",
      "       -7.89967701e-02,  2.31448077e-02,  1.66393653e-01,  1.02515571e-01,\n",
      "        5.86850420e-02,  1.81155458e-01])), ('neutral', array([ 2.00000000e+00,  0.00000000e+00,  9.55000000e+02,  3.51000000e+02,\n",
      "        2.20000000e+01,  1.00000000e+00,  1.00000000e+00,  0.00000000e+00,\n",
      "        0.00000000e+00,  0.00000000e+00,  0.00000000e+00,  0.00000000e+00,\n",
      "        0.00000000e+00,  0.00000000e+00,  0.00000000e+00,  0.00000000e+00,\n",
      "        0.00000000e+00,  0.00000000e+00, -1.73963994e-01,  1.09483667e-01,\n",
      "       -1.37126055e-02, -3.93817462e-02,  2.00632382e-02, -1.21342622e-01,\n",
      "        2.04743847e-01, -1.88816756e-01, -2.43553013e-01, -9.45954621e-02,\n",
      "       -1.81819480e-02,  5.04434854e-02, -1.79467157e-01,  1.47289455e-01,\n",
      "       -1.36059403e-01,  7.34961778e-02, -3.46960306e-01,  5.82982711e-02,\n",
      "        1.93545669e-01,  3.05125326e-01, -9.70822945e-02,  3.08517963e-01,\n",
      "       -2.15414435e-01,  3.56146134e-02,  2.56696492e-01,  3.83082591e-02,\n",
      "        1.78376168e-01, -2.48028394e-02,  1.47203971e-02, -4.48571444e-02,\n",
      "        8.26745406e-02, -8.36795270e-02, -4.89688851e-02, -1.58171296e-01,\n",
      "        1.78749040e-02,  1.88697483e-02, -8.68628845e-02, -1.49396002e-01,\n",
      "        6.10801950e-02, -1.21208318e-01, -9.52145606e-02,  6.57040700e-02,\n",
      "       -2.33179882e-01,  4.10461798e-02,  2.85430521e-01, -2.19519183e-01,\n",
      "        1.55083999e-01,  2.09742878e-02,  8.18134993e-02,  5.48015609e-02,\n",
      "       -2.53669262e-01, -4.17836979e-02, -1.52710095e-01, -1.58509687e-01,\n",
      "        1.52112454e-01,  1.13799892e-01, -9.84855741e-02,  7.42935017e-02,\n",
      "       -3.73007655e-01,  4.23632041e-02,  3.71009231e-01, -2.29665548e-01,\n",
      "       -1.17269330e-01, -3.02927177e-02, -1.08857527e-01, -2.28432566e-01,\n",
      "        1.13179117e-01, -2.02198625e-01,  3.27726960e-01, -9.90591571e-02,\n",
      "       -2.46813998e-01, -2.11036697e-01, -9.81616005e-02, -6.32904544e-02,\n",
      "        2.44163349e-01,  8.76839552e-03, -1.26876712e-01,  1.46889552e-01,\n",
      "        2.15681463e-01, -2.32320413e-01,  2.07014568e-02,  3.57037857e-02,\n",
      "        8.70687738e-02,  1.24881648e-01,  1.37019977e-01, -1.83647811e-01,\n",
      "       -4.60764244e-02,  1.83182180e-01, -2.14814886e-01, -7.68466517e-02,\n",
      "       -1.46795735e-01, -2.61863947e-01, -1.21409401e-01,  8.39743938e-04,\n",
      "        8.68924260e-02, -2.68083680e-02, -2.66930252e-01, -1.67625710e-01,\n",
      "        3.25352371e-01, -3.40327211e-02, -6.78230077e-02,  1.05885364e-01,\n",
      "       -7.50888214e-02, -1.71845600e-01,  3.70344194e-03,  3.43275769e-03,\n",
      "       -4.60301608e-01, -4.14806604e-03, -1.26918405e-01, -8.50237161e-02,\n",
      "       -8.89971778e-02,  2.94557542e-01,  8.45786110e-02, -6.01298399e-02,\n",
      "       -2.04460964e-01,  7.25623295e-02, -1.11092672e-01,  2.78005144e-03,\n",
      "        5.79415588e-03, -3.69235836e-02, -2.87357956e-01,  2.49658488e-02,\n",
      "        8.41072178e-05, -8.02598745e-02,  2.36573979e-01, -1.51719660e-01,\n",
      "       -1.07191794e-01,  1.90030888e-01])), ('neutral', array([ 2.53333333e+00,  6.88888889e-02,  2.58000000e+02,  1.54000000e+02,\n",
      "        2.10000000e+01,  4.00000000e+00,  4.00000000e+00,  1.00000000e+00,\n",
      "        0.00000000e+00,  7.00000000e+00,  3.00000000e+00,  3.00000000e+00,\n",
      "        0.00000000e+00,  0.00000000e+00,  0.00000000e+00,  0.00000000e+00,\n",
      "        0.00000000e+00,  0.00000000e+00,  2.18491047e-03,  2.96482965e-02,\n",
      "       -3.48507971e-01,  6.51724786e-02,  8.12022313e-02, -9.80601087e-02,\n",
      "        1.12290882e-01, -2.30555490e-01, -4.52484079e-02, -1.38459265e-01,\n",
      "        1.54787198e-01,  1.00605777e-02,  9.54279825e-02,  2.49420568e-01,\n",
      "       -1.51029602e-01, -7.51532614e-02, -1.75295487e-01,  9.94172841e-02,\n",
      "       -9.23406854e-02,  1.97310716e-01, -1.11585699e-01,  9.48608816e-02,\n",
      "       -1.23791117e-02,  1.41143039e-01, -6.65943027e-02,  2.10989621e-02,\n",
      "        3.41507457e-02, -2.55175114e-01,  4.34139860e-04, -8.98218676e-02,\n",
      "       -3.94069590e-02, -5.90361319e-02, -1.27458246e-02, -5.40322736e-02,\n",
      "        2.55006820e-01, -7.28985071e-02, -1.39704078e-01,  4.58400659e-02,\n",
      "        3.70931178e-02, -1.50832251e-01, -1.22835949e-01,  2.24397898e-01,\n",
      "       -1.30476967e-01,  1.86711363e-02,  1.85686246e-01, -1.67866766e-01,\n",
      "       -1.55897528e-01, -1.38724014e-01,  2.97495723e-01,  7.53353089e-02,\n",
      "       -1.39498547e-01, -1.05177686e-01, -8.20669830e-02, -3.11869025e-01,\n",
      "        3.43141347e-01, -1.61011796e-02, -7.15592876e-02, -9.54199359e-02,\n",
      "       -3.61269742e-01,  5.85605204e-02,  1.78705260e-01, -9.68386009e-02,\n",
      "       -9.91589278e-02, -8.48690793e-03, -9.02755708e-02, -1.07357576e-01,\n",
      "        6.17962517e-02, -1.19237930e-01,  3.17377508e-01,  2.55027507e-03,\n",
      "       -1.55884132e-01, -1.93686128e-01,  1.38163725e-02,  6.84111267e-02,\n",
      "        2.38225773e-01, -1.74553394e-01, -5.56430854e-02, -9.86824110e-02,\n",
      "       -1.34175234e-02, -1.89391628e-01,  1.39933318e-01,  7.83276483e-02,\n",
      "        1.77102521e-01,  1.06375545e-01, -9.53965709e-02,  1.76085234e-02,\n",
      "       -8.23983084e-03, -1.57000810e-01, -4.28927243e-01, -4.65089753e-02,\n",
      "        1.20049287e-02, -1.41883358e-01,  8.24545994e-02,  1.05860695e-01,\n",
      "        1.94557488e-01, -4.45766561e-02,  1.68146908e-01, -1.05633326e-01,\n",
      "       -5.13336025e-02,  6.67501837e-02,  1.54927060e-01,  8.50125849e-02,\n",
      "       -2.62881279e-01, -1.04582526e-01,  1.20309815e-01, -2.42069349e-01,\n",
      "       -2.40662575e-01,  1.75705254e-01, -3.09322834e-01, -2.87771970e-01,\n",
      "       -1.31578177e-01,  1.71848699e-01,  1.42231971e-01,  1.99253634e-01,\n",
      "       -3.50806326e-01, -1.22502007e-01, -2.68277794e-01, -1.17916949e-01,\n",
      "        1.18089952e-01, -2.45481387e-01, -1.38485521e-01,  1.06054008e-01,\n",
      "       -1.43585682e-01, -6.12914413e-02,  1.82440430e-01, -1.78495064e-01,\n",
      "       -3.61953974e-02, -2.08836466e-01])), ('neutral', array([ 2.06666667e+00,  0.00000000e+00,  3.25400000e+03,  7.46000000e+02,\n",
      "        3.00000000e+01,  1.00000000e+00,  1.00000000e+00,  0.00000000e+00,\n",
      "        0.00000000e+00,  2.60000000e+01,  1.00000000e+00,  1.00000000e+00,\n",
      "        0.00000000e+00,  0.00000000e+00,  0.00000000e+00,  0.00000000e+00,\n",
      "        0.00000000e+00,  0.00000000e+00, -4.87784371e-02, -1.49158776e-01,\n",
      "       -2.28969082e-01,  9.28989798e-02,  1.36666372e-01,  1.76642034e-02,\n",
      "        8.27072710e-02, -1.29651263e-01, -3.20556648e-02, -1.14494689e-01,\n",
      "        2.99499184e-01,  2.91041404e-01,  8.80575925e-02, -2.63685714e-02,\n",
      "        3.39727965e-03,  1.34391099e-01, -1.61336318e-01,  1.54376432e-01,\n",
      "       -6.83289894e-04, -4.13311534e-02, -2.57617116e-01,  1.49508491e-01,\n",
      "       -1.35047868e-01,  1.47380129e-01,  1.46912888e-01, -9.73042846e-02,\n",
      "       -8.39015692e-02, -2.38058567e-01, -1.46435583e-02,  2.82899216e-02,\n",
      "       -4.88788188e-02, -1.29768312e-01,  1.06895000e-01, -2.12255388e-01,\n",
      "        2.43318751e-01, -2.05795038e-02,  4.35881950e-02,  1.02216296e-01,\n",
      "       -1.68924898e-01, -7.02970028e-02,  1.35153577e-01,  3.00279528e-01,\n",
      "       -2.59495795e-01,  5.72869107e-02,  1.08012289e-01, -1.71643421e-01,\n",
      "       -5.75967655e-02,  2.99006879e-01,  2.85270303e-01,  1.35557234e-01,\n",
      "        1.77393109e-02, -1.32426426e-01, -1.85623243e-01, -3.44611406e-01,\n",
      "        1.40489742e-01,  3.93416844e-02, -5.22149354e-03, -2.57885754e-01,\n",
      "       -1.93136066e-01, -2.84919646e-02,  3.94452512e-02, -2.70779163e-01,\n",
      "       -6.32575378e-02,  5.13413397e-04, -1.97188035e-01, -3.37106474e-02,\n",
      "       -1.13930784e-01, -4.48028976e-03,  1.47676483e-01, -5.97946346e-02,\n",
      "       -9.98408496e-02, -3.77388671e-02, -2.38589346e-01, -9.17990729e-02,\n",
      "        4.80912179e-02,  5.47640352e-03, -2.83446740e-02,  6.29033893e-02,\n",
      "        7.18488172e-02, -3.50996517e-02, -8.41012672e-02,  3.52573581e-02,\n",
      "       -3.65621485e-02,  8.67441595e-02, -1.93083376e-01, -8.73750634e-03,\n",
      "       -2.81092137e-01, -1.86028793e-01, -2.75534719e-01, -2.05379333e-02,\n",
      "       -1.97540849e-01, -5.11695296e-02,  3.21285427e-02,  9.06907842e-02,\n",
      "        2.07646519e-01, -2.09327266e-01,  1.00807771e-02, -4.68093567e-02,\n",
      "       -8.96066800e-03, -1.78769678e-01, -7.03364387e-02, -1.09928660e-01,\n",
      "       -3.07702392e-01, -8.07473436e-02,  1.38376743e-01, -1.75911680e-01,\n",
      "       -3.07163715e-01,  9.39131826e-02, -2.81235546e-01, -1.69661671e-01,\n",
      "        5.18372655e-02, -1.78011134e-02,  9.69563201e-02, -1.02140717e-01,\n",
      "       -1.26975492e-01, -2.95123871e-04, -1.23226620e-01, -1.78091247e-02,\n",
      "       -4.18923348e-02, -4.49032970e-02, -3.62484664e-01,  1.88059926e-01,\n",
      "       -9.01571512e-02, -1.26369506e-01,  7.36255422e-02, -2.05337957e-01,\n",
      "       -1.22432202e-01, -2.61371285e-01])), ('neutral', array([ 2.26086957e+00,  4.49275362e-02,  1.26900000e+03,  4.59000000e+02,\n",
      "        3.20000000e+01,  5.00000000e+00,  5.00000000e+00,  1.00000000e+00,\n",
      "        0.00000000e+00,  0.00000000e+00,  0.00000000e+00,  0.00000000e+00,\n",
      "        0.00000000e+00,  0.00000000e+00,  0.00000000e+00,  0.00000000e+00,\n",
      "        0.00000000e+00,  0.00000000e+00, -2.09800541e-01, -1.74241349e-01,\n",
      "       -1.16553470e-01,  1.72593161e-01,  1.25391468e-01, -2.20244840e-01,\n",
      "       -1.39584821e-02, -2.66798437e-01, -2.13512152e-01, -6.04510196e-02,\n",
      "        1.12384088e-01, -8.90522078e-02,  1.61269113e-01, -2.01211706e-01,\n",
      "        1.91366661e-03,  1.04888521e-01, -1.52566686e-01,  1.02200486e-01,\n",
      "        8.31709355e-02,  5.00845090e-02,  7.46708363e-02,  3.48134302e-02,\n",
      "       -2.85139710e-01,  1.04140103e-01,  1.18814729e-01, -1.59036577e-01,\n",
      "        4.54919748e-02, -2.17522949e-01, -3.84228647e-01,  1.25321792e-02,\n",
      "       -5.10996394e-02, -6.93979710e-02,  2.22850859e-01, -1.63474753e-01,\n",
      "        1.28107235e-01, -1.28897250e-01, -5.78741804e-02, -8.04105997e-02,\n",
      "        5.29693030e-02, -1.22476742e-01, -8.88876896e-03,  2.19950005e-01,\n",
      "       -2.01360416e-02,  1.78611293e-01,  1.89446613e-01,  9.65286121e-02,\n",
      "        1.53719038e-01, -1.33623004e-01,  2.17339963e-01,  1.15882203e-01,\n",
      "       -1.50987849e-01, -1.11126408e-01, -2.29731858e-01, -1.03060842e-01,\n",
      "        1.66846544e-01, -1.18310777e-02, -1.27286449e-01, -1.35940984e-01,\n",
      "       -1.30132183e-01,  1.80110782e-01,  1.35919079e-01,  5.06466776e-02,\n",
      "        4.55288496e-03, -1.41037464e-01, -7.87893310e-02,  2.27320671e-01,\n",
      "       -1.29523084e-01, -3.51858884e-01,  7.08285496e-02, -6.85226405e-03,\n",
      "       -5.22805415e-02, -2.27318957e-01, -3.56761664e-01,  2.17432752e-01,\n",
      "        1.65512666e-01,  2.83379138e-01, -6.61747588e-04,  2.74310950e-02,\n",
      "       -8.62080976e-02,  3.34357582e-02,  7.19668567e-02, -1.10696279e-01,\n",
      "       -7.92505071e-02,  1.18169084e-01, -1.57165483e-01, -7.04664364e-02,\n",
      "       -9.13481191e-02, -1.36523828e-01, -3.72270435e-01, -2.77526498e-01,\n",
      "       -1.99238583e-01, -2.30277076e-01,  1.91407144e-01,  2.69672498e-02,\n",
      "       -7.62556344e-02, -2.18980879e-01, -4.58669066e-02, -1.75277695e-01,\n",
      "        2.50636358e-02, -2.95440257e-01,  2.19093841e-02,  1.78628992e-02,\n",
      "       -1.70280561e-01, -1.41018569e-01,  2.28902817e-01, -7.30132386e-02,\n",
      "       -3.59030545e-01, -1.73587333e-02, -1.23348475e-01,  2.02067837e-01,\n",
      "       -1.49976835e-01, -4.18301523e-02,  2.06039041e-01, -2.09134296e-01,\n",
      "       -1.87676653e-01,  8.99396313e-04, -7.59511143e-02,  2.25001037e-01,\n",
      "       -3.93503383e-02, -1.64091274e-01, -2.14384153e-01,  8.07545781e-02,\n",
      "        1.06674343e-01,  1.60907477e-01,  1.13178812e-01, -1.76735505e-01,\n",
      "       -1.73617974e-01, -1.73618257e-01])), ('neutral', array([ 2.16000000e+00,  0.00000000e+00,  1.72100000e+03,  5.37000000e+02,\n",
      "        3.40000000e+01,  4.00000000e+00,  4.00000000e+00,  0.00000000e+00,\n",
      "        0.00000000e+00,  0.00000000e+00,  0.00000000e+00,  0.00000000e+00,\n",
      "        0.00000000e+00,  0.00000000e+00,  0.00000000e+00,  0.00000000e+00,\n",
      "        0.00000000e+00,  0.00000000e+00,  2.61286169e-01, -2.08493605e-01,\n",
      "        1.87668130e-02,  1.56955402e-02,  1.92556992e-01, -6.72469065e-02,\n",
      "       -1.29271746e-01, -5.98393977e-02, -8.20302442e-02, -1.74997002e-01,\n",
      "        1.41333714e-01,  2.85873208e-02,  1.66854098e-01, -9.49799791e-02,\n",
      "       -1.87995657e-02, -4.80718315e-02, -2.11949676e-01, -1.04237735e-01,\n",
      "       -2.03955062e-02,  1.98957488e-01, -2.96102874e-02,  1.76576097e-02,\n",
      "       -1.49730772e-01,  3.14462095e-01, -1.79993883e-01,  3.30533274e-02,\n",
      "        1.61120053e-02, -3.15352648e-01, -9.98884663e-02,  3.38044427e-02,\n",
      "       -7.99484644e-03, -7.70892501e-02,  7.34279007e-02,  1.17577435e-02,\n",
      "        2.84284018e-02, -5.83964512e-02, -1.46652997e-01,  1.07311048e-01,\n",
      "        1.14360116e-01, -3.14972252e-01,  1.05093315e-01,  1.76437587e-01,\n",
      "       -1.37916878e-01,  1.50655746e-01,  4.14091974e-01,  1.55818149e-01,\n",
      "       -1.28441751e-01,  2.95682792e-02, -9.85271037e-02,  1.29555047e-01,\n",
      "        1.55629963e-01, -1.33489773e-01, -1.87360108e-01, -1.82954967e-01,\n",
      "        8.18969011e-02, -1.04045898e-01, -3.27808782e-02, -5.79669066e-02,\n",
      "       -2.35221144e-02, -5.03443107e-02,  1.46411518e-02, -2.24818825e-03,\n",
      "       -4.45063114e-02,  1.81806281e-01, -2.17540249e-01, -2.70686030e-01,\n",
      "       -1.16485441e-02,  3.62812653e-02,  2.65931964e-01,  6.96211122e-03,\n",
      "        8.61805454e-02, -2.14108512e-01,  3.65082026e-02, -2.54323125e-01,\n",
      "       -1.91848353e-02, -2.36228257e-02,  2.13735853e-03,  1.08810768e-01,\n",
      "        1.35190621e-01, -9.13349986e-02,  1.10355951e-02, -4.21742558e-01,\n",
      "        1.42227158e-01,  3.16612244e-01, -2.46090829e-01,  1.70648977e-01,\n",
      "        1.41824521e-02, -6.76957425e-03, -1.45663008e-01,  9.01095718e-02,\n",
      "        3.13147157e-02, -1.44324064e-01,  5.52773364e-02,  3.93641964e-02,\n",
      "        1.44582689e-01, -1.92250669e-01, -2.58890659e-01, -4.67605852e-02,\n",
      "        1.84800372e-01, -3.44734862e-02,  2.90684432e-01, -2.17285454e-01,\n",
      "       -1.73022270e-01, -2.72988044e-02, -2.80687399e-02, -1.24702282e-01,\n",
      "       -2.51999497e-01,  1.31005853e-01, -1.92564934e-01, -2.47875452e-01,\n",
      "       -1.70901969e-01, -1.52557278e-02,  9.35259014e-02, -2.49684472e-02,\n",
      "       -1.69195771e-01, -4.54805531e-02, -1.51037142e-01,  2.57647872e-01,\n",
      "       -1.27550557e-01, -1.82594463e-01, -3.13950986e-01, -6.13513552e-02,\n",
      "       -3.94467562e-02, -8.75378922e-02, -1.49710337e-02, -9.64078233e-02,\n",
      "       -2.24498078e-01, -1.01807319e-01])), ('neutral', array([ 2.48275862e+00,  1.30257673e-01,  2.80400000e+03,  7.33000000e+02,\n",
      "        6.60000000e+01,  2.30000000e+01,  2.30000000e+01,  5.00000000e+00,\n",
      "        0.00000000e+00,  0.00000000e+00,  0.00000000e+00,  0.00000000e+00,\n",
      "        0.00000000e+00,  0.00000000e+00,  0.00000000e+00,  0.00000000e+00,\n",
      "        0.00000000e+00,  0.00000000e+00,  2.46021450e-02, -1.54794931e-01,\n",
      "       -2.26770222e-01,  1.58947200e-01,  9.33803916e-02,  6.57567605e-02,\n",
      "       -1.99096203e-01, -1.56550169e-01,  1.14157036e-01, -1.63120210e-01,\n",
      "        7.91778043e-02,  3.20829332e-01, -1.18683793e-01,  2.44199280e-02,\n",
      "       -7.71608055e-02,  7.45367259e-02, -1.22407958e-01,  1.09695263e-01,\n",
      "       -2.75846291e-02,  3.05542853e-02, -1.22311085e-01, -8.02374780e-02,\n",
      "       -1.34300828e-01,  1.52610645e-01,  2.01515973e-01, -2.47903481e-01,\n",
      "        8.63754898e-02, -1.97177932e-01,  4.67588119e-02, -3.14636678e-01,\n",
      "        3.30125391e-01, -3.04124281e-02,  9.22346339e-02, -1.70628130e-01,\n",
      "       -3.06356419e-02, -1.96053479e-02, -5.77394245e-03, -2.11467579e-01,\n",
      "        4.22448702e-02, -2.13276595e-01,  1.90179721e-01,  9.32930335e-02,\n",
      "       -2.54735172e-01, -1.03563428e-01,  1.88737229e-01,  7.64714181e-02,\n",
      "        2.78653614e-02,  1.52338929e-02,  3.30110043e-01,  1.84966847e-01,\n",
      "       -4.74442728e-02, -4.34488170e-02, -1.77146181e-01, -2.63027757e-01,\n",
      "        7.03145862e-02, -1.13607235e-01, -1.44675538e-01, -1.42299101e-01,\n",
      "       -1.96022660e-01,  2.67181128e-01,  2.66566694e-01, -2.71381557e-01,\n",
      "        1.71025489e-02, -7.38626197e-02, -2.81974941e-01, -1.83076397e-01,\n",
      "        2.35982329e-01, -3.28071490e-02,  2.36588806e-01, -2.40559325e-01,\n",
      "        9.14661959e-02, -1.02732286e-01, -1.94170654e-01, -1.93935428e-02,\n",
      "        2.31938977e-02,  9.65544302e-03, -4.10639606e-02, -1.58751324e-01,\n",
      "       -5.58453687e-02, -2.21667990e-01, -4.44461480e-02, -2.43350595e-01,\n",
      "       -9.81912762e-02,  1.10161863e-01, -2.94770002e-01,  1.18123911e-01,\n",
      "       -7.24123344e-02, -4.08898853e-03, -7.53768682e-02, -2.42602661e-01,\n",
      "       -2.14433558e-02, -2.48638690e-02,  1.40203834e-01,  8.03353861e-02,\n",
      "        9.44666415e-02,  3.49628180e-02,  1.46265015e-01,  6.00760058e-03,\n",
      "       -1.08581915e-01, -5.16093671e-02,  4.89422344e-02,  4.92153987e-02,\n",
      "       -1.27019942e-01,  2.43781134e-01,  5.77596016e-02, -2.36747302e-02,\n",
      "       -2.18454152e-01, -1.33944392e-01, -2.08531827e-01, -2.29508623e-01,\n",
      "       -1.77834146e-02,  1.54376384e-02,  1.20846920e-01,  4.14320938e-02,\n",
      "        2.70122010e-02, -2.64406592e-01, -2.63995409e-01,  1.82278022e-01,\n",
      "        2.87294798e-02, -2.82247543e-01, -1.98623925e-01,  1.09002635e-01,\n",
      "        5.87056391e-02,  5.79629019e-02,  3.07802945e-01, -1.39913008e-01,\n",
      "       -7.83127844e-02, -3.54245901e-02])), ('neutral', array([ 2.12903226e+00,  0.00000000e+00,  3.58300000e+03,  8.67000000e+02,\n",
      "        3.80000000e+01,  3.00000000e+00,  4.00000000e+00,  0.00000000e+00,\n",
      "        0.00000000e+00,  0.00000000e+00,  0.00000000e+00,  0.00000000e+00,\n",
      "        0.00000000e+00,  0.00000000e+00,  0.00000000e+00,  0.00000000e+00,\n",
      "        0.00000000e+00,  0.00000000e+00,  1.55201435e-01, -8.68692473e-02,\n",
      "       -2.37036452e-01, -5.54049611e-02, -7.00051636e-02, -5.09255426e-03,\n",
      "       -7.84068406e-02, -4.06729341e-01, -1.61861200e-02,  7.62200356e-02,\n",
      "       -6.48895055e-02,  2.80301794e-02,  2.60821611e-01,  1.10029683e-01,\n",
      "        1.11712888e-01,  5.13819978e-02, -2.69717485e-01,  2.71226540e-02,\n",
      "        8.37502554e-02,  2.35229224e-01, -2.82455478e-02,  1.40270099e-01,\n",
      "       -1.26318082e-01,  1.95457339e-01, -1.63221940e-01,  3.63344401e-02,\n",
      "        2.02420413e-01, -1.57195538e-01, -1.13260798e-01, -2.01875474e-02,\n",
      "        1.95205405e-01, -8.63468349e-02,  1.89605635e-02, -6.68978244e-02,\n",
      "       -1.45944983e-01,  1.10856846e-01, -1.36802748e-01,  1.31718442e-01,\n",
      "       -5.63822575e-02, -1.41904294e-01, -1.84829836e-03,  9.69865546e-02,\n",
      "       -2.71174341e-01,  2.14110121e-01,  2.99232662e-01, -1.37231663e-01,\n",
      "        8.66377428e-02,  8.66826326e-02,  9.49111804e-02,  2.72566769e-02,\n",
      "        2.69760601e-02, -3.63050550e-01,  5.36683351e-02,  1.45561367e-01,\n",
      "        1.49649099e-01,  1.54657438e-01,  1.84398919e-01, -1.67675421e-01,\n",
      "       -2.51850843e-01,  5.51061094e-01,  1.77050456e-01,  3.26068513e-02,\n",
      "        8.52245167e-02, -2.63604254e-01, -3.68032418e-02, -6.17874265e-02,\n",
      "        1.43539518e-01,  3.19077284e-03,  1.70865342e-01, -7.46157095e-02,\n",
      "        2.22998068e-01, -1.83178499e-01, -6.31015152e-02,  6.11468125e-03,\n",
      "       -2.35272292e-02,  1.30219012e-01, -5.96085265e-02, -1.53796703e-01,\n",
      "        4.36636098e-02,  1.81774899e-01, -1.07912328e-02, -1.29148081e-01,\n",
      "       -1.55997843e-01,  1.06447324e-01, -2.54389077e-01, -2.14806218e-02,\n",
      "        1.31887108e-01, -8.14239308e-02,  8.54243115e-02,  9.06312186e-03,\n",
      "       -1.41104963e-02, -5.16125932e-02, -1.39836863e-01,  1.22148231e-01,\n",
      "        3.57887000e-02, -2.46455278e-02, -7.40192607e-02,  3.33833471e-02,\n",
      "       -9.12434459e-02,  2.94066109e-02,  1.84623584e-01, -1.90749556e-01,\n",
      "       -4.14578527e-01, -2.47994866e-02,  2.84612536e-01,  2.11639479e-01,\n",
      "       -1.08573906e-01,  9.26181972e-02, -1.38234735e-01, -1.76243782e-01,\n",
      "        5.63840270e-02,  3.00308675e-01,  6.15959875e-02,  1.11019991e-01,\n",
      "        5.80559671e-02, -5.93016744e-02, -1.42035156e-01,  2.43495971e-01,\n",
      "        4.37451266e-02, -1.89126462e-01, -1.43651053e-01,  9.43656862e-02,\n",
      "       -1.03460811e-03,  8.39049593e-02,  1.40541092e-01, -1.26159221e-01,\n",
      "       -3.09017569e-01, -3.59650910e-01])), ('neutral', array([ 2.00000000e+00,  0.00000000e+00,  2.78000000e+02,  1.59000000e+02,\n",
      "        1.60000000e+01,  1.00000000e+00,  1.00000000e+00,  0.00000000e+00,\n",
      "        0.00000000e+00,  0.00000000e+00,  0.00000000e+00,  0.00000000e+00,\n",
      "        0.00000000e+00,  0.00000000e+00,  0.00000000e+00,  0.00000000e+00,\n",
      "        0.00000000e+00,  0.00000000e+00, -1.23957388e-01,  5.73267080e-02,\n",
      "        5.13597429e-02, -2.38937568e-02,  2.45497108e-01, -3.24682146e-01,\n",
      "       -1.20404765e-01, -1.35914102e-01,  7.58016249e-03, -2.73602735e-02,\n",
      "        3.26346934e-01,  1.73668399e-01,  5.34926653e-02,  1.67466313e-01,\n",
      "        1.57435656e-01,  1.28767595e-01, -2.36047864e-01,  1.15450583e-01,\n",
      "        2.03052863e-01,  3.09115872e-02,  8.89548510e-02,  1.53402090e-01,\n",
      "        1.01566613e-01,  8.59130099e-02,  1.46471977e-01, -1.13251261e-01,\n",
      "       -1.84835494e-01, -4.85992581e-02, -1.39263555e-01, -5.17090797e-01,\n",
      "       -1.38741970e-01, -3.32206756e-01,  2.75909007e-01,  3.43330111e-03,\n",
      "       -2.60995664e-02,  7.86323249e-02, -7.52283484e-02,  3.18750530e-01,\n",
      "        8.36579874e-03, -2.31463671e-01,  2.58307040e-01,  1.18737049e-01,\n",
      "       -8.78927559e-02, -6.76401109e-02,  1.80070579e-01,  1.36045724e-01,\n",
      "       -2.72964104e-03, -1.76086873e-01, -6.97694272e-02,  4.09889936e-01,\n",
      "       -5.87865897e-02, -5.29179648e-02, -1.91903681e-01, -2.28591278e-01,\n",
      "       -1.29270643e-01,  1.30317220e-02,  7.52647445e-02, -3.97844851e-01,\n",
      "       -8.37053582e-02,  5.68818450e-02,  9.83130708e-02, -1.75149873e-01,\n",
      "       -1.01690121e-01, -3.90913449e-02, -3.87162000e-01, -1.01209193e-01,\n",
      "        2.33985037e-01, -1.19369313e-01, -1.83805645e-01, -5.55489445e-03,\n",
      "       -2.73597240e-01, -3.09432983e-01,  9.31008831e-02,  1.27012804e-01,\n",
      "        8.44483376e-02,  4.17181440e-02, -2.58989278e-02,  1.60052404e-02,\n",
      "        1.29249066e-01, -7.27738887e-02,  3.07428300e-01, -1.78751703e-02,\n",
      "        3.45329605e-02, -4.56646308e-02, -1.47619650e-01, -1.09854303e-02,\n",
      "        9.41787288e-03, -3.33507992e-02, -8.98273736e-02, -1.91082060e-01,\n",
      "       -2.83415336e-02,  3.29939984e-02, -6.59209043e-02,  7.13265687e-02,\n",
      "       -9.26182717e-02, -3.93715203e-02, -8.65011662e-02, -1.92813259e-02,\n",
      "        8.79276916e-02,  1.33917868e-01,  2.14458600e-01,  1.07090272e-01,\n",
      "       -4.25234474e-02, -2.11296812e-01,  1.74595475e-01, -2.90746272e-01,\n",
      "       -1.24192879e-01,  3.61197926e-02, -6.42940030e-02,  9.25955549e-02,\n",
      "       -1.47662103e-01,  2.27049366e-01,  6.95618540e-02, -2.53233582e-01,\n",
      "       -1.93047658e-01, -1.37389481e-01,  6.99766949e-02,  1.67959109e-01,\n",
      "        4.56675403e-02, -1.16098806e-01, -1.54029950e-01,  2.83415973e-01,\n",
      "        2.02354625e-01, -3.02730650e-02,  9.58037078e-02, -2.02170908e-01,\n",
      "        1.64004937e-02, -1.19336709e-01])), ('neutral', array([ 2.41379310e+00,  2.29885057e-02,  2.82600000e+03,  7.22000000e+02,\n",
      "        4.10000000e+01,  5.00000000e+00,  5.00000000e+00,  0.00000000e+00,\n",
      "        1.00000000e+00,  4.40000000e+01,  5.00000000e+00,  5.00000000e+00,\n",
      "        0.00000000e+00,  0.00000000e+00,  0.00000000e+00,  0.00000000e+00,\n",
      "        0.00000000e+00,  0.00000000e+00,  2.20039450e-02,  3.92441712e-02,\n",
      "        1.04877567e-02,  7.84196407e-02, -2.03161150e-01, -3.20353776e-01,\n",
      "        6.53799027e-02, -8.14194977e-02, -1.78580910e-01,  1.39606014e-01,\n",
      "        6.24760985e-02, -1.69944689e-01,  1.24404328e-02, -1.42366841e-01,\n",
      "        1.26662135e-01, -1.16712682e-01,  2.61363829e-03,  1.31192163e-01,\n",
      "       -4.03636433e-02,  7.88867548e-02,  1.66560933e-02,  2.30272457e-01,\n",
      "       -9.52254236e-02, -5.20869866e-02,  2.56450534e-01, -1.44430429e-01,\n",
      "        6.49158135e-02, -1.40660062e-01, -3.85804832e-01,  2.35991157e-03,\n",
      "       -6.39039204e-02, -1.84544966e-01,  5.47132134e-01,  1.15900725e-01,\n",
      "       -2.02008453e-03,  1.09840102e-01, -1.81880668e-01, -2.15530202e-01,\n",
      "        3.51332203e-02, -3.09499025e-01, -9.44740549e-02,  9.89488810e-02,\n",
      "       -1.01389170e-01,  1.44989729e-01,  8.78478885e-02,  2.69510634e-02,\n",
      "       -2.87391812e-01, -1.49297148e-01,  1.22888684e-01, -2.62381658e-02,\n",
      "        1.12032689e-01, -8.68444666e-02, -2.69852161e-01, -2.32011706e-01,\n",
      "        6.38575181e-02, -2.81452178e-03, -3.80578227e-02,  1.29833395e-04,\n",
      "        9.31430142e-03,  2.37422753e-02,  1.70996815e-01,  8.39423835e-02,\n",
      "        8.23681578e-02, -4.23912071e-02, -1.72368228e-01,  2.93137133e-01,\n",
      "        2.89006740e-01, -3.47024411e-01, -7.18761981e-02,  1.79281920e-01,\n",
      "        7.36487983e-03, -2.52311006e-02, -7.90845081e-02, -1.48639828e-01,\n",
      "       -7.39114061e-02,  8.50184485e-02, -7.70609081e-02, -2.09751710e-01,\n",
      "       -1.50728777e-01,  8.21331516e-02, -4.89070714e-02, -5.48199303e-02,\n",
      "        1.24985255e-01, -2.29782194e-01, -8.18888992e-02,  1.32763878e-01,\n",
      "       -3.37288305e-02,  1.87565982e-01, -1.34954497e-01, -2.38203973e-01,\n",
      "        1.09265909e-01, -1.62881821e-01, -1.05638385e-01,  1.39467433e-01,\n",
      "       -5.31050488e-02,  2.00089253e-02,  2.31839582e-01,  2.08685875e-01,\n",
      "       -2.33599991e-02, -2.11769596e-01, -1.14289090e-01,  1.37872592e-01,\n",
      "       -1.24485545e-01, -1.11254388e-02,  3.22674036e-01, -1.99758947e-01,\n",
      "       -3.66037898e-02,  1.17004387e-01, -4.84784096e-02, -1.99042894e-02,\n",
      "       -4.18558568e-02, -2.28903890e-01,  3.84198576e-01, -3.05874087e-02,\n",
      "       -5.42622358e-02, -9.10116173e-03, -1.36592135e-01,  7.64556527e-02,\n",
      "       -2.01344397e-02, -2.85884887e-01, -1.36198681e-02, -1.83009058e-01,\n",
      "        2.91471016e-02,  1.14312761e-01, -1.10821858e-01,  6.03272058e-02,\n",
      "       -1.08664624e-01, -1.27860293e-01])), ('neutral', array([ 2.00000000e+00,  0.00000000e+00,  2.60000000e+03,  6.50000000e+02,\n",
      "        2.60000000e+01,  0.00000000e+00,  0.00000000e+00,  0.00000000e+00,\n",
      "        0.00000000e+00,  0.00000000e+00,  0.00000000e+00,  0.00000000e+00,\n",
      "        0.00000000e+00,  0.00000000e+00,  0.00000000e+00,  0.00000000e+00,\n",
      "        0.00000000e+00,  0.00000000e+00, -2.10370064e-01, -2.16897994e-01,\n",
      "       -1.89950049e-01,  3.15338038e-02, -2.69105434e-02, -4.82438475e-01,\n",
      "       -5.05596995e-02, -6.56847581e-02, -1.23283565e-02, -1.48165092e-01,\n",
      "        1.54084504e-01, -1.39843106e-01,  2.29260102e-01, -1.85676053e-01,\n",
      "       -1.50224730e-01,  2.08171397e-01, -2.00577006e-02,  1.70931388e-02,\n",
      "        2.64501013e-02,  9.99474078e-02, -1.01940908e-01,  3.24765235e-01,\n",
      "        4.69443165e-02,  1.26073793e-01,  2.66605854e-01,  1.65519714e-01,\n",
      "        2.15169042e-01, -9.21386033e-02,  2.02918053e-01, -4.67545949e-02,\n",
      "       -2.87546843e-01, -3.99411237e-03, -6.82965526e-03, -1.59804612e-01,\n",
      "        1.38604641e-01, -5.28578572e-02,  4.08415012e-02,  3.96772334e-03,\n",
      "       -3.70250493e-02,  8.87918100e-02,  8.88153166e-02, -7.17784762e-02,\n",
      "       -3.16387787e-02,  1.75815180e-01,  4.10063893e-01,  1.50154784e-01,\n",
      "       -1.67929739e-01, -2.37900257e-01,  1.50838181e-01,  2.61345774e-01,\n",
      "        1.43731877e-01, -6.42107278e-02, -2.02566057e-01, -2.46629752e-02,\n",
      "       -1.04088992e-01, -6.01502880e-02, -1.79329246e-01, -3.53000909e-01,\n",
      "       -1.56906477e-04, -8.60338379e-03,  6.46930933e-02, -2.61264414e-01,\n",
      "       -1.47282556e-01,  5.05212918e-02,  2.87020635e-02,  6.29390925e-02,\n",
      "       -2.35588402e-02, -1.52423587e-02, -7.82458782e-02,  5.19010238e-02,\n",
      "        8.63001496e-02, -1.70694873e-01,  1.16194867e-01,  9.39644203e-02,\n",
      "        2.14510471e-01,  2.74268627e-01, -1.61334705e-02, -3.42471488e-02,\n",
      "        2.34032609e-02, -4.56138328e-02,  2.00691875e-02, -3.09801996e-01,\n",
      "       -8.61569494e-02,  2.53990591e-01,  3.03949136e-03,  6.09726310e-02,\n",
      "       -6.49476573e-02,  2.03193314e-02, -2.49662772e-01, -2.36675162e-02,\n",
      "       -7.51840277e-03, -5.74049167e-02, -2.10602447e-01,  3.23310420e-02,\n",
      "       -1.48229435e-01, -1.60910919e-01, -2.19550118e-01, -4.86317091e-02,\n",
      "        6.41401708e-02, -7.38385879e-03,  1.82214826e-01, -2.16985121e-03,\n",
      "        5.71492873e-02, -1.08622648e-01, -2.22830579e-01, -2.16705471e-01,\n",
      "       -5.48720777e-01,  7.94981420e-02, -2.55686373e-01,  1.74754520e-03,\n",
      "       -1.42472938e-01,  6.31608292e-02,  1.78714424e-01,  5.21017872e-02,\n",
      "       -6.69455230e-02, -1.26391649e-01, -1.93886422e-02,  9.49005559e-02,\n",
      "        2.20398456e-01, -2.36128837e-01, -1.45272836e-01, -1.52408108e-02,\n",
      "       -9.53964237e-03, -3.68668288e-02,  1.44559577e-01, -2.01258928e-01,\n",
      "       -1.21772714e-01, -1.01626992e-01])), ('neutral', array([ 2.09523810e+00,  0.00000000e+00,  9.56000000e+02,  3.32000000e+02,\n",
      "        2.10000000e+01,  1.00000000e+00,  1.00000000e+00,  0.00000000e+00,\n",
      "        0.00000000e+00,  1.70000000e+01,  1.00000000e+00,  1.00000000e+00,\n",
      "        0.00000000e+00,  0.00000000e+00,  0.00000000e+00,  0.00000000e+00,\n",
      "        0.00000000e+00,  0.00000000e+00, -9.00006443e-02, -1.65766552e-01,\n",
      "       -1.15664661e-01,  2.19215676e-01,  1.53341725e-01, -2.34528735e-01,\n",
      "       -1.84314787e-01,  6.89409599e-02, -1.39852360e-01, -4.66833785e-02,\n",
      "        1.99324101e-01,  1.31716311e-01,  6.12220839e-02,  2.08088487e-01,\n",
      "        1.16803996e-01,  7.50715518e-03,  1.63514190e-03, -3.39314342e-02,\n",
      "        1.37196839e-01,  2.63245165e-01, -1.01299211e-01,  8.29846933e-02,\n",
      "        3.97025459e-02, -7.97346830e-02,  1.36188537e-01, -1.09842658e-01,\n",
      "       -2.07098439e-01, -2.35518053e-01, -8.95659998e-02, -2.37373989e-02,\n",
      "       -2.64316529e-01, -1.74691990e-01,  2.06871912e-01, -1.84659615e-01,\n",
      "       -2.99320891e-02, -6.65490404e-02, -2.47454606e-02,  4.30773288e-01,\n",
      "       -1.29310936e-01, -1.68063477e-01,  2.14659527e-01,  3.05965036e-01,\n",
      "       -1.36381373e-01,  2.95251124e-02,  1.53502673e-01, -1.47449955e-01,\n",
      "       -1.59148052e-01,  6.58190250e-02,  1.50095699e-02, -2.57566512e-01,\n",
      "        2.10336596e-01, -2.64508599e-05,  8.28204900e-02, -1.51457623e-01,\n",
      "        1.81960434e-01, -7.93401152e-02,  2.11424142e-01, -3.48773301e-02,\n",
      "       -3.00055947e-02, -1.43853843e-01,  6.66091777e-03, -3.34633403e-02,\n",
      "        1.27927825e-01,  9.78631899e-02, -3.87299806e-02, -3.30328584e-01,\n",
      "       -2.93188602e-01, -4.38944176e-02,  2.11279005e-01, -1.69824779e-01,\n",
      "        9.79560390e-02, -2.36264728e-02,  9.43413302e-02, -3.73290442e-02,\n",
      "        4.04514372e-02,  3.38001013e-01, -3.06160022e-02,  3.65125954e-01,\n",
      "       -9.73541941e-03, -1.12311512e-01,  5.95331527e-02, -9.29516405e-02,\n",
      "       -1.58224478e-01,  3.17127824e-01, -1.49230212e-01, -1.95987392e-02,\n",
      "       -2.74435934e-02, -3.24000157e-02, -1.42060742e-02,  6.31256169e-03,\n",
      "        1.49443522e-01, -2.19060019e-01, -1.24469705e-01,  1.22148074e-01,\n",
      "       -1.00774346e-02,  8.17794874e-02,  6.83368891e-02, -1.88314766e-01,\n",
      "       -1.38223514e-01, -2.65725195e-01,  7.63122737e-02, -1.46058306e-01,\n",
      "       -1.85887203e-01,  2.42656827e-01, -1.00427628e-01, -1.21946126e-01,\n",
      "       -1.74960107e-01,  1.53770104e-01,  4.90756631e-02,  4.87913899e-02,\n",
      "       -3.62920672e-01,  1.44445688e-01, -3.44728827e-02, -2.66983747e-01,\n",
      "       -1.23818442e-02, -5.87537959e-02, -4.40804362e-02,  5.23322746e-02,\n",
      "        9.93408337e-02, -6.92963526e-02, -2.24333003e-01,  3.21994692e-01,\n",
      "       -1.95592076e-01, -6.35663942e-02,  1.10497430e-01, -2.54559129e-01,\n",
      "       -1.06026754e-01, -1.82714716e-01])), ('neutral', array([ 2.16666667e+00,  0.00000000e+00,  1.14000000e+02,  8.20000000e+01,\n",
      "        1.80000000e+01,  3.00000000e+00,  3.00000000e+00,  0.00000000e+00,\n",
      "        0.00000000e+00,  0.00000000e+00,  0.00000000e+00,  0.00000000e+00,\n",
      "        0.00000000e+00,  0.00000000e+00,  0.00000000e+00,  0.00000000e+00,\n",
      "        0.00000000e+00,  0.00000000e+00, -1.20572627e-01, -8.26499462e-02,\n",
      "        9.34309661e-02,  7.86520690e-02,  1.24735318e-01, -3.16269368e-01,\n",
      "        1.65002588e-02, -3.11290354e-01, -1.20530568e-01, -7.85778165e-02,\n",
      "        2.60343313e-01,  9.95741114e-02, -9.28279757e-03,  2.28002500e-02,\n",
      "       -2.98275538e-02, -1.12180419e-01,  1.49857745e-01,  1.18022829e-01,\n",
      "       -9.44460034e-02,  1.59186125e-01,  2.28530616e-01,  2.78509974e-01,\n",
      "       -1.09715059e-01, -2.19831504e-02,  3.52638036e-01,  1.39710635e-01,\n",
      "        1.08390138e-01, -1.54285636e-02, -7.33774453e-02, -1.09102786e-01,\n",
      "       -2.29224667e-01, -2.84096956e-01,  5.94349839e-02,  9.66167897e-02,\n",
      "        5.72295021e-03, -1.71677321e-01, -8.50006416e-02, -1.62609711e-01,\n",
      "        2.16531428e-03, -1.07480258e-01,  1.72418371e-01,  1.50184408e-01,\n",
      "       -1.10237539e-01,  1.33297473e-01,  4.81530800e-02,  2.62032121e-01,\n",
      "        9.19649005e-02,  1.84431821e-02,  7.85233527e-02,  2.61661589e-01,\n",
      "        4.34606411e-02, -1.21627845e-01,  2.38710865e-02,  1.74916722e-02,\n",
      "        2.43248135e-01, -4.40673120e-02, -2.66756937e-02,  6.97890595e-02,\n",
      "       -5.83077855e-02, -2.44510919e-02,  4.42614764e-01, -1.58069998e-01,\n",
      "       -2.26962537e-01, -1.78536549e-02, -2.58057564e-02,  5.56565402e-03,\n",
      "       -3.22830379e-02, -1.19700231e-01,  2.46084213e-01,  2.22246230e-01,\n",
      "        8.25665295e-02, -7.76207671e-02,  1.58925392e-02, -3.42333227e-01,\n",
      "        1.07215540e-02, -1.50815278e-01, -3.19518834e-01, -3.03599894e-01,\n",
      "        2.51168251e-01, -5.35276197e-02,  1.17191292e-01, -3.11154872e-01,\n",
      "       -8.46896842e-02,  2.01529756e-01,  6.24374859e-02,  5.75079136e-02,\n",
      "        7.11577311e-02,  1.22185230e-01,  2.28823274e-02,  2.01714132e-02,\n",
      "        3.65560013e-03, -7.98712596e-02,  7.38295317e-02,  2.24022061e-01,\n",
      "        1.56330392e-02, -2.36880884e-01, -2.51629412e-01, -1.79985553e-01,\n",
      "        2.65198529e-01, -1.84428040e-02,  1.95533708e-01, -1.00815505e-01,\n",
      "       -1.51545871e-02, -1.44612923e-01,  1.69229180e-01, -1.67072371e-01,\n",
      "       -2.69105226e-01, -7.94321578e-03, -1.37820378e-01,  1.96435973e-02,\n",
      "       -1.99854165e-01, -1.80382952e-02,  1.68579355e-01, -1.15674466e-01,\n",
      "       -1.22956976e-01, -1.00675046e-01, -9.81037468e-02, -1.68624401e-01,\n",
      "       -1.17994629e-01, -3.23427767e-01, -3.87384266e-01,  2.35503942e-01,\n",
      "       -2.22120006e-02, -2.09791318e-01, -1.03546910e-01, -1.37567773e-01,\n",
      "       -1.51840419e-01, -1.92311972e-01])), ('neutral', array([ 2.46153846e+00,  0.00000000e+00,  1.94000000e+03,  5.62000000e+02,\n",
      "        3.90000000e+01,  6.00000000e+00,  6.00000000e+00,  0.00000000e+00,\n",
      "        0.00000000e+00,  3.80000000e+01,  4.00000000e+00,  4.00000000e+00,\n",
      "        0.00000000e+00,  0.00000000e+00,  0.00000000e+00,  1.00000000e+00,\n",
      "        0.00000000e+00,  0.00000000e+00, -1.19467393e-01, -7.24952817e-02,\n",
      "       -2.47751445e-01, -2.43233249e-01,  8.11052322e-02,  2.64521334e-02,\n",
      "       -8.26004297e-02, -5.19320667e-02, -1.93273634e-01, -1.38643637e-01,\n",
      "       -2.57003717e-02,  3.58010858e-01, -9.92170200e-02,  2.37349972e-01,\n",
      "        8.26461054e-03, -3.76770422e-02, -9.97576937e-02,  3.15887034e-01,\n",
      "       -4.19484191e-02,  1.55249760e-01, -1.46677315e-01,  2.01144055e-01,\n",
      "        1.39559507e-01,  1.81029603e-01,  9.18605402e-02,  1.22025475e-01,\n",
      "        1.43461481e-01, -3.43972892e-01,  1.42908543e-01,  1.69458643e-01,\n",
      "       -1.38178408e-01, -2.09555238e-01,  3.35259855e-01, -2.46426433e-01,\n",
      "        8.93941745e-02,  9.65213776e-02,  1.35755196e-01, -8.95676687e-02,\n",
      "       -1.42138600e-01, -6.15429245e-02, -2.27813631e-01,  2.70590276e-01,\n",
      "       -9.30255949e-02,  1.73486635e-01, -1.44982692e-02, -6.07881360e-02,\n",
      "        2.24834830e-01,  8.27025622e-02,  1.93189919e-01,  8.81357715e-02,\n",
      "        1.63551699e-02, -1.62040919e-01, -1.70573816e-01, -8.64198804e-02,\n",
      "        1.07395180e-01,  1.19763158e-01, -1.79688618e-01,  9.01258886e-02,\n",
      "        9.62066725e-02,  1.42773777e-01,  2.51919031e-01, -1.20779879e-01,\n",
      "       -8.22361261e-02,  9.58817303e-02, -9.66412500e-02, -1.03391945e-01,\n",
      "        2.98495628e-02, -1.56146049e-01,  1.07754819e-01, -1.72537312e-01,\n",
      "       -7.07438439e-02, -1.27685443e-02, -2.01425962e-02, -1.09029137e-01,\n",
      "        4.33993489e-02,  1.93657175e-01, -3.04362983e-01,  3.29222053e-01,\n",
      "        1.04843788e-01, -2.99684912e-01,  9.16857868e-02,  5.57216490e-03,\n",
      "        5.62765934e-02, -3.84142250e-02, -1.26851335e-01, -2.99982298e-02,\n",
      "       -3.14793289e-02, -7.00881565e-03, -6.94629103e-02, -5.69522493e-02,\n",
      "       -5.52991703e-02, -1.17103435e-01, -1.36234730e-01,  6.83999807e-02,\n",
      "        1.24599814e-01, -1.13008045e-01, -4.81631644e-02, -2.73680082e-03,\n",
      "        3.45695503e-02, -1.03943355e-01,  7.02542141e-02, -2.00180113e-02,\n",
      "       -2.81702548e-01, -1.71814457e-01,  2.74412543e-01,  1.38665006e-01,\n",
      "       -8.50435942e-02, -9.65304375e-02,  2.75700185e-02, -1.13004059e-01,\n",
      "       -6.68639410e-03,  2.92171180e-01,  3.44791681e-01, -1.38199478e-01,\n",
      "       -1.01251133e-01,  2.71345489e-02, -1.82267632e-02,  9.53568965e-02,\n",
      "        6.00944413e-03, -3.16848420e-02, -3.28987002e-01,  2.00121682e-02,\n",
      "       -1.19340248e-01, -2.02344768e-02,  3.20775658e-01, -1.80022612e-01,\n",
      "       -4.59890872e-01, -1.07137591e-01])), ('neutral', array([ 2.33333333e+00,  0.00000000e+00,  5.43000000e+02,  2.22000000e+02,\n",
      "        1.80000000e+01,  1.00000000e+00,  1.00000000e+00,  0.00000000e+00,\n",
      "        0.00000000e+00,  2.00000000e+01,  5.00000000e+00,  5.00000000e+00,\n",
      "        0.00000000e+00,  0.00000000e+00,  0.00000000e+00,  1.00000000e+00,\n",
      "        0.00000000e+00,  0.00000000e+00, -2.93846309e-01, -7.64878914e-02,\n",
      "        2.66032308e-01,  5.96841201e-02,  2.71264404e-01, -7.79915154e-02,\n",
      "       -6.14606664e-02, -2.75188982e-01, -1.67689502e-01, -1.39038980e-01,\n",
      "       -6.23877607e-02, -1.38896704e-01, -5.79207651e-02,  2.50698090e-01,\n",
      "       -3.77924204e-01,  1.32325161e-02, -8.51917043e-02, -1.10539958e-01,\n",
      "        1.76130041e-01,  1.57721207e-01,  3.44755091e-02,  2.04614982e-01,\n",
      "       -1.68641552e-01, -5.05336896e-02,  1.35791138e-01, -1.25734031e-01,\n",
      "       -2.49114726e-02, -2.10748687e-01, -2.00249210e-01,  7.73894414e-02,\n",
      "       -3.98316309e-02, -1.27819926e-01, -2.06538945e-01, -1.13986194e-01,\n",
      "        3.33688669e-02, -1.31436914e-01, -8.05312209e-03, -3.18606012e-02,\n",
      "        3.35854217e-02, -1.48983628e-01, -9.60741378e-03,  1.95494801e-01,\n",
      "       -2.18481258e-01, -1.04542740e-01,  1.05608866e-01, -5.80816977e-02,\n",
      "       -1.34721147e-02, -8.42060447e-02,  3.21129054e-01, -2.24716038e-01,\n",
      "       -2.85394460e-01, -1.91480175e-01,  1.91294923e-02, -8.02919418e-02,\n",
      "        1.25101566e-01,  9.70149562e-02,  1.32035360e-01, -8.67202505e-02,\n",
      "        3.76401469e-02,  1.52984381e-01,  2.15296596e-01,  7.67889395e-02,\n",
      "        1.61199525e-01,  3.49428236e-01, -2.73264609e-02,  5.11661917e-02,\n",
      "        3.39719690e-02,  8.52147415e-02, -1.03954673e-02, -2.08661165e-02,\n",
      "       -6.49302378e-02,  5.35823107e-02,  3.75343412e-02, -1.56775936e-01,\n",
      "        7.22182095e-02,  2.13175997e-01,  1.06218040e-01, -2.02269569e-01,\n",
      "       -2.86857970e-02, -1.04703479e-01,  2.57671386e-01, -6.85022026e-02,\n",
      "       -9.47827287e-03,  8.14841539e-02, -2.12019518e-01,  1.59852251e-01,\n",
      "        1.23573989e-01, -6.01609275e-02,  1.77383348e-02, -4.47064005e-02,\n",
      "       -2.43803427e-01,  6.73051775e-02,  1.64283514e-01,  2.04461873e-01,\n",
      "       -3.00878678e-02,  7.56810093e-03,  2.49974370e-01,  2.84190588e-02,\n",
      "        7.29528442e-02, -6.44765571e-02,  7.82694370e-02, -2.07644433e-01,\n",
      "       -3.07591617e-01, -1.68288965e-02,  1.17657430e-01, -1.02883533e-01,\n",
      "       -2.23623708e-01,  9.82001796e-02, -1.22613691e-01,  8.64641815e-02,\n",
      "       -8.72972086e-02,  6.88540563e-02,  2.28727698e-01, -7.28560686e-02,\n",
      "       -2.81658381e-01, -2.53188193e-01, -4.08502191e-01,  1.42064244e-01,\n",
      "        4.29771170e-02,  9.56078768e-02, -2.72513688e-01,  2.58533716e-01,\n",
      "        2.02734292e-01, -4.69486378e-02,  1.67013884e-01,  1.88563049e-01,\n",
      "       -2.91146077e-02,  2.29761779e-01])), ('neutral', array([ 2.15384615e+00,  5.76923077e-02,  1.51000000e+02,  1.17000000e+02,\n",
      "        1.50000000e+01,  1.00000000e+00,  1.00000000e+00,  0.00000000e+00,\n",
      "        1.00000000e+00,  0.00000000e+00,  0.00000000e+00,  0.00000000e+00,\n",
      "        0.00000000e+00,  0.00000000e+00,  0.00000000e+00,  0.00000000e+00,\n",
      "        0.00000000e+00,  0.00000000e+00, -1.52095780e-02, -2.00988695e-01,\n",
      "       -7.91637376e-02,  5.02863154e-02,  1.40391827e-01, -1.64764792e-01,\n",
      "       -2.90247928e-02, -2.13500991e-01, -1.80277482e-01, -3.58430356e-01,\n",
      "        1.34462804e-01,  2.26832584e-01, -1.80613190e-01,  6.66198581e-02,\n",
      "        7.43870214e-02,  2.07128242e-01, -3.96404676e-02,  1.67489693e-01,\n",
      "       -1.63960494e-02, -2.02660576e-01, -4.22712509e-03,  2.95024842e-01,\n",
      "       -4.34362842e-03,  1.28063351e-01, -8.55424069e-03, -2.27399051e-01,\n",
      "       -6.93628490e-02, -1.56196300e-02, -2.24388406e-01, -8.20426736e-03,\n",
      "        7.91620929e-03,  1.21578626e-01,  1.29764944e-01, -2.77239382e-01,\n",
      "        3.18859406e-02, -7.79382586e-02,  3.28723967e-01,  2.04286858e-01,\n",
      "       -1.40163247e-02, -9.28739738e-03, -6.70332313e-02,  2.66275257e-01,\n",
      "       -2.83211410e-01,  1.62828371e-01,  1.13796167e-01,  6.91817626e-02,\n",
      "       -1.98442712e-01, -7.71289319e-02,  8.17819592e-03, -5.17573878e-02,\n",
      "       -9.17624831e-02,  1.94435101e-02,  1.14653453e-01, -3.34920973e-01,\n",
      "        3.22622359e-02,  5.20346081e-03, -1.05373055e-01, -1.71981871e-01,\n",
      "       -6.19743429e-02, -1.49956986e-01,  1.21885471e-01, -3.07417333e-01,\n",
      "        4.86222142e-03, -3.54841948e-02,  4.77251410e-02, -1.41463831e-01,\n",
      "       -1.53749198e-01,  5.47849126e-02,  2.51465470e-01,  4.03136052e-02,\n",
      "        5.31493574e-02, -1.91897273e-01,  1.50707111e-01, -9.21268389e-02,\n",
      "       -5.63560277e-02,  1.94181670e-02, -2.70175755e-01, -1.44008875e-01,\n",
      "        1.23545878e-01,  9.49627534e-02, -1.29927797e-02, -2.40551587e-02,\n",
      "       -2.84120351e-01,  2.60467529e-01,  5.13705276e-02,  1.43499132e-02,\n",
      "       -6.64684176e-02, -2.20035419e-01, -7.67930821e-02,  1.10332537e-02,\n",
      "       -1.95991158e-01, -2.34841436e-01,  2.85060727e-03,  1.98477022e-02,\n",
      "        2.89539605e-01, -1.11479685e-01, -1.58741504e-01, -1.56508043e-01,\n",
      "       -2.21027464e-01, -2.12697923e-01,  2.44192749e-01,  2.69360375e-02,\n",
      "       -2.88841128e-01,  1.11085311e-01,  1.25312358e-01, -2.35503316e-01,\n",
      "        9.52755939e-03, -2.07462478e-02, -2.57538348e-01, -7.74079636e-02,\n",
      "       -2.35722184e-01, -5.24631254e-02,  1.27084702e-01, -7.80102909e-02,\n",
      "       -2.63821334e-01,  9.98369325e-03, -9.49713811e-02, -1.16637148e-01,\n",
      "        1.09682746e-01, -2.31496349e-01, -2.29295179e-01,  3.36665422e-01,\n",
      "        2.87170019e-02,  1.54462203e-01,  4.53626275e-01, -7.53017962e-02,\n",
      "       -1.72069222e-01, -2.86252230e-01])), ('neutral', array([ 2.00000000e+00,  0.00000000e+00,  2.76000000e+02,  1.63000000e+02,\n",
      "        1.50000000e+01,  0.00000000e+00,  1.00000000e+00,  0.00000000e+00,\n",
      "        0.00000000e+00,  0.00000000e+00,  0.00000000e+00,  0.00000000e+00,\n",
      "        0.00000000e+00,  0.00000000e+00,  0.00000000e+00,  0.00000000e+00,\n",
      "        0.00000000e+00,  0.00000000e+00, -1.05599258e-02, -1.65241271e-01,\n",
      "        7.71013796e-02,  1.01692714e-01,  5.30468039e-02, -6.67559430e-02,\n",
      "       -7.32676941e-04, -3.12524624e-02, -2.82260358e-01, -1.36596501e-01,\n",
      "        6.91296533e-02,  2.42718652e-01,  1.23760238e-01, -1.87289808e-02,\n",
      "        9.78679061e-02,  1.67744517e-01, -2.68487602e-01,  1.11517511e-01,\n",
      "       -3.80399032e-03,  1.40258834e-01, -1.54879391e-01,  4.39222157e-01,\n",
      "        1.56452134e-02,  2.64072716e-01,  1.44082949e-01, -5.36882356e-02,\n",
      "        3.90028745e-01, -3.18458438e-01, -1.85133666e-01, -8.85921344e-03,\n",
      "        8.64140540e-02, -4.11337018e-02, -1.67760290e-02, -6.70023859e-02,\n",
      "       -4.58490625e-02, -2.54646122e-01,  6.11393265e-02, -1.51652694e-01,\n",
      "        1.11002186e-02, -1.97977841e-01, -2.85880446e-01,  8.28266367e-02,\n",
      "       -9.10391957e-02,  8.63409862e-02,  9.22948718e-02,  2.55325977e-02,\n",
      "       -2.42391020e-01, -1.32293135e-01,  3.79170366e-02, -8.40794947e-03,\n",
      "       -8.59533474e-02, -2.92186230e-01, -1.07388221e-01, -1.45910516e-01,\n",
      "        8.60070661e-02,  4.18732017e-02, -2.40708381e-01,  5.39903007e-02,\n",
      "       -8.91225506e-03,  2.54647970e-01,  1.41385004e-01, -2.33584061e-01,\n",
      "       -1.79982230e-01,  9.26062986e-02, -8.67696106e-02,  6.09308779e-02,\n",
      "       -2.74068546e-02,  9.67985466e-02,  6.60744235e-02,  7.09228292e-02,\n",
      "        2.27929503e-01, -5.12705892e-02,  7.09398240e-02,  1.21618584e-01,\n",
      "        1.96329225e-02,  2.99145542e-02, -1.05736502e-01, -4.54511829e-02,\n",
      "       -9.87297744e-02, -2.18349680e-01,  8.25209096e-02, -1.24320455e-01,\n",
      "       -2.60744631e-01,  1.97736457e-01, -3.08818966e-01,  3.45239304e-02,\n",
      "        2.32662261e-01,  1.64542958e-01, -4.48087692e-01,  1.08832270e-01,\n",
      "       -7.24276751e-02, -8.56149122e-02,  2.18577869e-02,  1.36737570e-01,\n",
      "        7.28901029e-02, -5.49390502e-02, -7.39397928e-02,  8.66096094e-02,\n",
      "       -3.64551996e-03, -9.22479853e-02,  1.27587020e-01, -1.71244323e-01,\n",
      "       -1.52112842e-01, -2.04180717e-01,  1.25394002e-01, -1.39599428e-01,\n",
      "       -9.96127203e-02,  2.83316672e-02, -1.33456916e-01, -1.75137743e-01,\n",
      "       -1.86482698e-01,  1.59962147e-01,  3.26114029e-01, -1.31473303e-01,\n",
      "       -2.55199432e-01, -2.08854116e-02, -2.06427917e-01, -7.73949595e-03,\n",
      "       -7.47695044e-02, -2.07231238e-01, -3.99649292e-01, -3.94055098e-02,\n",
      "        1.71209753e-01, -5.47597073e-02,  1.76115379e-01,  1.58719607e-02,\n",
      "       -1.81196690e-01, -3.02961767e-02])), ('neutral', array([ 1.90476190e+00,  0.00000000e+00,  9.69000000e+02,  3.42000000e+02,\n",
      "        1.90000000e+01,  0.00000000e+00,  0.00000000e+00,  0.00000000e+00,\n",
      "        0.00000000e+00,  0.00000000e+00,  0.00000000e+00,  0.00000000e+00,\n",
      "        0.00000000e+00,  0.00000000e+00,  0.00000000e+00,  0.00000000e+00,\n",
      "        0.00000000e+00,  0.00000000e+00, -2.73492932e-02,  3.37572128e-01,\n",
      "       -3.84740606e-02,  5.56151718e-02,  1.03741087e-01, -3.20626706e-01,\n",
      "        6.03098646e-02, -1.98601738e-01, -6.62236735e-02, -2.47873869e-02,\n",
      "       -2.98093826e-01, -1.81828275e-01,  8.34175423e-02, -1.19006753e-01,\n",
      "       -1.14022024e-01, -5.21215014e-02,  9.00202915e-02,  2.93679666e-02,\n",
      "       -9.64959860e-02,  6.95453733e-02, -9.47150812e-02,  1.25877902e-01,\n",
      "        1.34968415e-01,  4.25553741e-03,  9.62044075e-02, -3.12732399e-01,\n",
      "        1.98678941e-01,  4.54883464e-03, -1.77584529e-01, -4.27857190e-02,\n",
      "        8.86908695e-02, -2.22647145e-01,  1.88666195e-01, -2.28083208e-01,\n",
      "        1.43492892e-01,  2.24600375e-01, -4.48690122e-03,  1.41980276e-01,\n",
      "       -1.55502453e-01, -2.19717681e-01,  1.89633050e-03,  2.68967360e-01,\n",
      "       -3.72484885e-02,  2.45890077e-02,  1.54209509e-01, -1.67081118e-01,\n",
      "        2.23487407e-01,  6.80458639e-03,  2.28111938e-01, -1.33199736e-01,\n",
      "        6.72013387e-02, -7.31150955e-02,  9.51098744e-03,  9.24059972e-02,\n",
      "       -1.29302755e-01,  2.57235635e-02, -7.25597665e-02, -1.35596290e-01,\n",
      "       -2.43868418e-02,  1.59419060e-01, -6.12108782e-02, -1.26964347e-02,\n",
      "       -1.20321296e-01, -2.07992598e-01, -1.16946436e-01,  9.91433486e-02,\n",
      "        1.89599305e-01, -1.21569470e-01,  1.88334137e-01,  6.03688583e-02,\n",
      "        2.70713270e-02, -3.00555676e-01, -2.16492802e-01, -2.94798106e-01,\n",
      "        2.38630489e-01, -7.46763274e-02, -1.12698160e-01, -1.02180362e-01,\n",
      "       -8.79873484e-02, -3.84955436e-01, -7.79074952e-02, -5.15646674e-02,\n",
      "       -1.00649176e-02,  1.38553619e-01, -1.10687912e-01,  6.26317784e-02,\n",
      "       -3.25319678e-01,  5.62092438e-02, -7.94997066e-02, -1.99893117e-01,\n",
      "       -1.14105791e-01, -1.67670846e-02,  1.50888667e-01,  8.04191828e-02,\n",
      "       -7.42447153e-02, -2.35845540e-02, -1.31098434e-01, -2.32125837e-02,\n",
      "       -3.70639801e-01,  1.13029368e-01,  1.00027896e-01,  4.29832600e-02,\n",
      "       -3.05414766e-01,  1.67582318e-01,  1.28587708e-01,  1.96745977e-01,\n",
      "       -2.11271405e-01, -7.18096197e-02, -1.01780802e-01,  5.63852023e-03,\n",
      "       -3.84862497e-02, -1.90486073e-01,  5.42645529e-02,  1.01373389e-01,\n",
      "        1.65458191e-02,  1.26194403e-01, -1.36247918e-01,  6.97050765e-02,\n",
      "        1.38309643e-01, -2.23357156e-01, -4.83823419e-02,  2.25539044e-01,\n",
      "       -4.19190563e-02,  1.59472838e-01,  7.22215325e-02,  1.99359521e-01,\n",
      "       -3.73949647e-01, -8.65982324e-02])), ('neutral', array([ 2.47058824e+00,  8.26330532e-02,  4.15000000e+02,  2.25000000e+02,\n",
      "        1.70000000e+01,  3.00000000e+00,  3.00000000e+00,  2.00000000e+00,\n",
      "        0.00000000e+00,  7.00000000e+00,  4.00000000e+00,  4.00000000e+00,\n",
      "        0.00000000e+00,  0.00000000e+00,  0.00000000e+00,  0.00000000e+00,\n",
      "        0.00000000e+00,  0.00000000e+00,  1.69840157e-02, -3.60073537e-01,\n",
      "       -9.38737839e-02,  4.37469501e-03, -1.96811706e-02,  3.62259895e-02,\n",
      "       -1.01442754e-01, -9.67503563e-02, -9.66684520e-02, -1.91941872e-01,\n",
      "        1.15333676e-01, -1.11658894e-01,  9.26875919e-02, -5.65868393e-02,\n",
      "       -3.26937467e-01,  1.61315389e-02, -1.10751159e-01,  1.19302392e-01,\n",
      "        7.70986378e-02,  3.51602882e-02,  2.79579964e-02,  1.34571493e-01,\n",
      "       -3.26812923e-01,  1.01480290e-01,  3.66562977e-02, -1.84119135e-01,\n",
      "        1.24178350e-03, -2.31563002e-01, -2.66095936e-01,  2.74370704e-02,\n",
      "        2.17513051e-02, -3.00652504e-01,  5.17611578e-02, -1.13217704e-01,\n",
      "        2.39914402e-01, -3.66252125e-03,  2.06863359e-01, -4.26639766e-02,\n",
      "        3.27024832e-02, -4.62897085e-02, -2.97187120e-01, -1.74437314e-02,\n",
      "       -2.47109756e-01,  6.18458316e-02,  2.89487004e-01, -1.18539393e-01,\n",
      "       -8.82167071e-02, -5.03827073e-02,  2.84859519e-02,  3.12328935e-02,\n",
      "        9.45802778e-02,  4.00770344e-02, -6.26960918e-02, -1.85689509e-01,\n",
      "        1.59864962e-01,  5.69372512e-02, -4.75214086e-02, -4.18472625e-02,\n",
      "       -1.65358260e-01,  3.62710536e-01,  1.71687126e-01, -2.77261794e-01,\n",
      "       -1.45970201e-02, -1.10260189e-01, -4.54395749e-02,  3.59132998e-02,\n",
      "        2.72493988e-01, -1.76885366e-01,  1.60183068e-02,  1.32359982e-01,\n",
      "        4.98164333e-02, -2.15906695e-01, -1.58332512e-01, -1.09567262e-01,\n",
      "        1.31545305e-01,  1.47865519e-01,  3.89835089e-02,  9.69359558e-03,\n",
      "       -1.65791288e-02,  1.85696080e-01,  2.92911559e-01, -1.02233775e-01,\n",
      "       -2.15059832e-01, -1.28789442e-02, -2.99315512e-01,  8.61652568e-03,\n",
      "        1.18695654e-01,  1.70452237e-01, -7.61949196e-02,  7.04664085e-03,\n",
      "        2.32011259e-01, -8.48203525e-03,  2.49462396e-01, -9.09632966e-02,\n",
      "       -5.30454144e-03, -8.31444040e-02,  1.43215477e-01, -1.67819560e-01,\n",
      "       -1.22118518e-01, -4.86628227e-02,  6.73270747e-02, -1.00615308e-01,\n",
      "       -2.33054534e-01, -1.12429239e-01,  4.64521758e-02, -7.61165470e-02,\n",
      "       -2.50655144e-01,  2.96580881e-01,  1.21678961e-02, -5.81537783e-02,\n",
      "       -6.25779927e-02, -9.51304659e-02,  2.49385759e-01, -2.71547019e-01,\n",
      "       -3.44026774e-01, -3.25581841e-02,  5.52115925e-02,  1.06590474e-02,\n",
      "        3.25990096e-02, -1.63338944e-01, -4.87240314e-01,  1.56166196e-01,\n",
      "        2.90562748e-04,  9.79671627e-02,  8.88601877e-03, -1.90818906e-01,\n",
      "        1.93665875e-03, -1.27898872e-01])), ('neutral', array([ 2.36363636e+00,  0.00000000e+00,  1.08500000e+03,  3.92000000e+02,\n",
      "        3.30000000e+01,  5.00000000e+00,  5.00000000e+00,  0.00000000e+00,\n",
      "        0.00000000e+00,  1.80000000e+01,  1.00000000e+00,  1.00000000e+00,\n",
      "        0.00000000e+00,  0.00000000e+00,  0.00000000e+00,  0.00000000e+00,\n",
      "        0.00000000e+00,  0.00000000e+00, -2.41923407e-01, -1.05267316e-01,\n",
      "       -1.37964427e-01,  1.45575970e-01, -5.96115477e-02, -3.15969199e-01,\n",
      "        2.34862994e-02, -3.71078759e-01, -1.95516318e-01, -2.08831951e-01,\n",
      "        2.70473808e-01,  1.33065566e-01, -2.49315277e-01,  7.37457424e-02,\n",
      "       -3.75620633e-01, -8.75139385e-02, -6.91947490e-02,  1.30740091e-01,\n",
      "        3.63803096e-02, -2.00079322e-01,  2.32520476e-01,  1.21763028e-01,\n",
      "       -2.67970166e-03, -8.04058909e-02,  1.17241412e-01, -1.97942797e-02,\n",
      "        2.38676369e-01, -2.36640334e-01, -1.04767822e-01, -2.09463865e-01,\n",
      "        2.42482382e-03, -1.93750277e-01,  2.14027941e-01, -2.98438281e-01,\n",
      "        5.96895255e-02, -5.41442595e-02, -1.54729590e-01, -9.70871523e-02,\n",
      "       -5.46201281e-02, -8.10723156e-02,  9.24500972e-02,  1.16953336e-01,\n",
      "       -2.61439264e-01, -4.61247861e-02,  2.10359052e-01,  9.87769812e-02,\n",
      "       -1.04385503e-01, -2.84015954e-01,  1.76209286e-01, -1.99456960e-02,\n",
      "        2.83889677e-02, -1.43972896e-02, -2.95684159e-01,  6.16103970e-02,\n",
      "       -7.58969784e-02,  4.53007892e-02, -1.55578092e-01, -3.85392964e-01,\n",
      "       -1.72654968e-02,  4.86229844e-02,  2.97253393e-02, -5.59667796e-02,\n",
      "       -1.22169308e-01, -3.25903334e-02, -3.77419323e-01, -5.23139909e-02,\n",
      "       -5.90770617e-02, -4.60185111e-02, -3.01111420e-03,  8.25924128e-02,\n",
      "       -1.20824046e-01, -7.13146925e-02, -5.15973493e-02,  3.77799151e-03,\n",
      "        1.44437864e-01,  1.73113391e-01, -1.28143877e-01,  1.88553825e-01,\n",
      "        1.49458393e-01, -2.43645106e-02, -2.04501916e-02,  4.04558182e-02,\n",
      "       -2.10485905e-01,  2.82216780e-02, -4.46626730e-02, -1.43325284e-01,\n",
      "       -2.93613583e-01, -1.48203492e-01, -1.95960492e-01, -1.33976519e-01,\n",
      "       -1.78165734e-01, -1.36544794e-01, -4.89964113e-02,  8.11006427e-02,\n",
      "        4.56107184e-02, -2.25425959e-01, -1.57639027e-01, -1.45906448e-01,\n",
      "       -5.02361283e-02, -9.12205204e-02, -3.04178864e-01,  4.53957506e-02,\n",
      "       -1.08788507e-02, -1.77797019e-01,  4.61711995e-02, -1.75776049e-01,\n",
      "       -1.01578794e-01, -2.18512155e-02,  7.57916179e-03, -1.47375122e-01,\n",
      "       -1.32427230e-01,  4.40426804e-02, -2.48996764e-02, -2.20787019e-01,\n",
      "        1.71605781e-01, -1.14028506e-01, -2.39491481e-02, -6.33495823e-02,\n",
      "        1.93506349e-02, -3.08936089e-01, -1.55436741e-02, -1.36991322e-01,\n",
      "       -1.27919644e-01, -2.48764344e-02,  3.37971747e-02,  2.20127001e-01,\n",
      "       -1.61516830e-01, -2.07600757e-01])), ('con', array([ 2.43478261e+00,  9.42028986e-03,  1.23700000e+03,  4.81000000e+02,\n",
      "        4.00000000e+01,  5.00000000e+00,  7.00000000e+00,  0.00000000e+00,\n",
      "        1.00000000e+00,  0.00000000e+00,  0.00000000e+00,  0.00000000e+00,\n",
      "        0.00000000e+00,  0.00000000e+00,  0.00000000e+00,  0.00000000e+00,\n",
      "        0.00000000e+00,  0.00000000e+00,  5.91804134e-03, -2.93056071e-01,\n",
      "        2.60616302e-01,  9.32212770e-02,  1.21912174e-01, -2.08928317e-01,\n",
      "        9.35611501e-03,  1.95796639e-01, -1.33347869e-01, -1.89141065e-01,\n",
      "       -3.15041691e-02, -1.31590366e-01,  8.75313506e-02, -6.40524775e-02,\n",
      "        1.29445661e-02, -1.11457407e-01, -1.70721188e-01, -1.34557679e-01,\n",
      "       -1.19224126e-02,  6.53078780e-02, -1.34837091e-01, -1.86503723e-01,\n",
      "        2.79233418e-02, -4.84433286e-02, -2.92354985e-03, -2.66248137e-01,\n",
      "        1.42404018e-02,  1.79305106e-01, -2.01888472e-01,  6.11614734e-02,\n",
      "       -2.56384492e-01,  5.75809777e-02, -8.89855698e-02, -7.25238696e-02,\n",
      "        1.30704746e-01, -4.23901118e-02,  1.03380986e-01, -3.35897468e-02,\n",
      "       -1.55174062e-01, -2.02087000e-01, -2.13891454e-02,  1.63989276e-01,\n",
      "       -3.20251733e-01, -1.13748662e-01,  1.38729021e-01, -1.88837200e-01,\n",
      "        2.26137182e-03,  4.91172336e-02,  1.36550531e-01, -1.42441630e-01,\n",
      "       -6.62655942e-03, -2.83016503e-01, -2.51849353e-01, -1.22663297e-01,\n",
      "        1.21971145e-01,  1.79248303e-02, -1.41058296e-01,  1.45644406e-02,\n",
      "       -1.81676112e-02,  1.33910835e-01, -3.57046276e-02, -1.24476783e-01,\n",
      "       -9.85859931e-02, -9.81364697e-02, -1.62209496e-01, -1.47097617e-01,\n",
      "        4.90160026e-02,  1.04648352e-01, -2.38091219e-03,  1.80806741e-01,\n",
      "       -9.22996253e-02, -1.74491435e-01,  1.06199816e-01,  1.28567174e-01,\n",
      "        8.91220476e-03,  1.33082181e-01, -1.78645849e-01,  2.14776620e-01,\n",
      "        3.86645682e-02, -2.34992594e-01, -5.94955385e-02, -1.10099033e-01,\n",
      "       -3.41752648e-01,  1.24861687e-01, -3.66250366e-01,  1.29652306e-01,\n",
      "       -1.67309359e-01, -3.90325184e-03, -9.14174411e-03, -1.05961435e-01,\n",
      "        7.48004913e-02, -7.87671283e-02,  1.07160844e-01, -2.38466915e-02,\n",
      "        7.85651654e-02, -1.78477451e-01,  8.28152597e-02,  9.15971547e-02,\n",
      "       -1.49290025e-01, -1.27138317e-01,  1.23350039e-01,  1.27395913e-01,\n",
      "       -2.13196546e-01,  1.91137254e-01,  1.56416908e-01, -2.71761566e-01,\n",
      "        8.75894129e-02,  7.47414008e-02, -1.19733393e-01, -3.70531917e-01,\n",
      "       -3.10510546e-01,  3.35484482e-02,  3.58588904e-01,  2.03999639e-01,\n",
      "       -1.46755189e-01, -3.25108796e-01,  9.89089683e-02,  1.26259208e-01,\n",
      "        9.68045518e-02, -2.05526859e-01, -2.40729615e-01,  5.08663133e-02,\n",
      "       -2.98362941e-01,  1.85145751e-01,  1.52505308e-01, -1.03946202e-01,\n",
      "        2.59000398e-02, -1.47343308e-01])), ('con', array([ 2.00000000e+00,  0.00000000e+00,  3.65000000e+02,  1.68000000e+02,\n",
      "        1.30000000e+01,  0.00000000e+00,  0.00000000e+00,  0.00000000e+00,\n",
      "        0.00000000e+00,  1.20000000e+01,  1.00000000e+00,  1.00000000e+00,\n",
      "        0.00000000e+00,  0.00000000e+00,  0.00000000e+00,  0.00000000e+00,\n",
      "        0.00000000e+00,  0.00000000e+00, -6.11861534e-02,  1.14987068e-01,\n",
      "       -2.11879145e-02,  1.18006758e-01,  4.14362922e-02, -1.33342996e-01,\n",
      "        1.42478228e-01,  1.04358420e-01, -2.73340017e-01, -2.89291352e-01,\n",
      "       -3.47638763e-02,  1.16701871e-01, -4.78335470e-02, -7.20599666e-02,\n",
      "       -2.69112855e-01,  1.88499734e-01, -3.72089416e-01, -3.30652334e-02,\n",
      "        1.09956987e-01,  3.96291241e-02, -1.36091476e-02,  9.49801579e-02,\n",
      "       -7.69322813e-02,  1.05660856e-01,  1.42725810e-01,  1.22912240e-03,\n",
      "        1.18272156e-01, -5.48660010e-02, -2.57769730e-02,  1.31438047e-01,\n",
      "        5.66145033e-03, -2.80449331e-01, -1.40963942e-02, -9.05473083e-02,\n",
      "       -1.49883687e-01, -5.80887869e-02,  1.74422324e-01, -8.78952891e-02,\n",
      "       -2.19141506e-02, -7.07300846e-03, -1.03933521e-01,  1.11623043e-02,\n",
      "       -7.61948451e-02,  1.69450566e-01,  1.47982538e-01,  3.13496068e-02,\n",
      "        1.19085103e-01, -3.47294137e-02,  1.62035957e-01,  4.54151362e-01,\n",
      "        4.05140361e-03, -1.61351576e-01, -5.57305999e-02, -3.97115722e-02,\n",
      "        4.11156297e-01,  2.32453998e-02, -2.36134008e-01,  6.75756708e-02,\n",
      "       -8.99181962e-02,  2.66598046e-01,  5.03846221e-02, -2.78288335e-01,\n",
      "       -7.56695354e-03, -1.14379264e-01,  1.39187649e-01, -3.00931782e-01,\n",
      "       -3.41371410e-02, -3.53904903e-01,  3.43860507e-01,  9.86582339e-02,\n",
      "        8.30787495e-02, -3.37624192e-01,  2.65692696e-02, -2.84677386e-01,\n",
      "        9.82629806e-02,  2.67452206e-02, -1.41202331e-01, -6.23425432e-02,\n",
      "       -1.04648478e-01, -6.17299117e-02,  1.53415322e-01,  1.64755151e-01,\n",
      "       -2.28800327e-01,  6.07098490e-02, -2.61574686e-01,  7.01757818e-02,\n",
      "       -7.29318708e-02,  3.55925299e-02, -1.05157301e-01,  6.58738837e-02,\n",
      "        7.35899583e-02, -4.44873162e-02, -1.10967286e-01, -1.99394673e-02,\n",
      "        5.54669276e-02, -2.12955311e-01, -1.83882594e-01, -1.17172301e-01,\n",
      "        1.16383471e-01, -1.35050505e-01,  1.53152823e-01, -3.95693034e-02,\n",
      "       -1.46674797e-01, -1.33191973e-01,  1.92969352e-01, -2.22626537e-01,\n",
      "       -1.96234345e-01,  2.69111305e-01, -1.82392105e-01,  9.04456992e-03,\n",
      "       -3.45454186e-01,  4.08522971e-02, -7.40996152e-02,  1.81412175e-01,\n",
      "       -3.10879834e-02, -6.53237849e-02, -2.13106558e-01,  1.49642646e-01,\n",
      "        1.33001044e-01, -2.62090862e-01, -2.98348427e-01, -3.01837586e-02,\n",
      "       -1.84506878e-01, -5.77251688e-02, -1.79545343e-01, -2.43018702e-01,\n",
      "        9.97464731e-03, -1.40188590e-01])), ('con', array([ 2.33333333e+00,  0.00000000e+00,  1.47900000e+03,  4.80000000e+02,\n",
      "        3.30000000e+01,  5.00000000e+00,  5.00000000e+00,  0.00000000e+00,\n",
      "        0.00000000e+00,  1.60000000e+01,  3.00000000e+00,  3.00000000e+00,\n",
      "        0.00000000e+00,  0.00000000e+00,  0.00000000e+00,  0.00000000e+00,\n",
      "        0.00000000e+00,  0.00000000e+00, -3.40245664e-01, -5.72762033e-03,\n",
      "       -2.06414551e-01, -2.84658168e-02,  2.22626060e-01, -4.62169535e-02,\n",
      "       -2.41927177e-01, -1.19944543e-01, -3.13017428e-01, -2.30771869e-01,\n",
      "        1.28432393e-01,  1.63077444e-01,  5.33586070e-02,  7.77853280e-02,\n",
      "       -1.63145572e-01,  1.36615306e-01, -3.87317121e-01,  1.04597904e-01,\n",
      "        1.73499867e-01,  2.22248379e-02,  1.59727201e-01, -1.58002749e-01,\n",
      "        8.43698680e-02,  2.16883764e-01,  1.01539113e-01, -2.16828704e-01,\n",
      "       -4.23787504e-01, -1.44374773e-01, -2.29623735e-01,  4.42977473e-02,\n",
      "        2.93281078e-02, -1.58212826e-01, -5.66844875e-03, -3.93764883e-01,\n",
      "        1.54252484e-01, -6.91455901e-02,  9.41685364e-02,  6.40854007e-04,\n",
      "       -5.95320901e-03, -1.70763105e-01,  5.04378751e-02,  2.32842360e-02,\n",
      "       -1.49022445e-01, -4.90573496e-02,  2.08363160e-01,  5.41987782e-03,\n",
      "        5.92701100e-02, -1.46912867e-02, -1.65472820e-01,  6.80902079e-02,\n",
      "        6.70673028e-02, -1.87630914e-02, -5.03963828e-02,  1.07031755e-01,\n",
      "       -6.93254545e-02, -1.17650451e-02, -9.94382054e-02, -1.14684887e-01,\n",
      "        3.15736234e-02,  6.35834262e-02, -6.06273115e-02, -1.74525604e-01,\n",
      "       -6.27857298e-02, -1.64848477e-01, -2.00851113e-01, -1.25766054e-01,\n",
      "        3.57462205e-02, -1.06000669e-01,  2.32417583e-01,  6.36102855e-02,\n",
      "        4.03131656e-02, -2.65697360e-01, -1.01331040e-01, -1.47722661e-01,\n",
      "        1.64073959e-01,  1.93238690e-01, -1.65667281e-01,  1.29590034e-01,\n",
      "        1.97448302e-02, -1.59902871e-03,  1.66069254e-01,  1.11352265e-01,\n",
      "       -3.99067551e-01,  3.14735472e-02, -1.85876638e-01, -2.82243267e-02,\n",
      "       -6.57217950e-02, -3.44356447e-02, -1.46805018e-01,  1.38200268e-01,\n",
      "       -1.17671760e-02, -7.77918920e-02, -1.52716845e-01, -3.86066549e-02,\n",
      "        2.95541175e-02, -1.99484214e-01,  9.99516547e-02, -5.84888160e-02,\n",
      "        3.88733558e-02, -6.49137199e-02,  1.68022990e-01,  9.21526924e-02,\n",
      "       -1.42214730e-01, -1.18607268e-01,  2.74926245e-01, -1.33161336e-01,\n",
      "       -1.02621824e-01,  3.62309515e-01,  5.33759734e-03, -4.19265106e-02,\n",
      "       -1.80297866e-01,  1.55681809e-02,  7.98169971e-02, -1.23469636e-01,\n",
      "       -2.24018008e-01,  6.62072748e-02, -9.91814733e-02, -2.85094306e-02,\n",
      "       -2.55240887e-01, -1.00851230e-01, -1.90660655e-01,  1.36382297e-01,\n",
      "       -4.11694020e-01,  4.93093506e-02,  8.02065432e-02, -6.27963245e-03,\n",
      "        3.11919581e-02, -1.17017878e-02])), ('con', array([ 2.06666667e+00,  0.00000000e+00,  3.23400000e+03,  7.84000000e+02,\n",
      "        3.60000000e+01,  3.00000000e+00,  3.00000000e+00,  0.00000000e+00,\n",
      "        0.00000000e+00,  0.00000000e+00,  0.00000000e+00,  0.00000000e+00,\n",
      "        0.00000000e+00,  0.00000000e+00,  0.00000000e+00,  0.00000000e+00,\n",
      "        0.00000000e+00,  0.00000000e+00, -4.02597189e-02, -1.13107458e-01,\n",
      "        1.87237374e-02, -1.08834893e-01, -8.21660098e-04, -6.93118423e-02,\n",
      "       -2.29307567e-03, -3.93054672e-02,  2.27436557e-01, -1.62849694e-01,\n",
      "        1.80976301e-01,  4.72606458e-02,  4.05875519e-02, -1.16394036e-01,\n",
      "       -1.09320164e-01,  2.39255026e-01, -1.55306095e-02,  1.44992575e-01,\n",
      "       -6.52296245e-02,  5.19019850e-02,  2.27470443e-01,  3.97954397e-02,\n",
      "       -7.90494829e-02,  2.16213316e-01,  1.21967763e-01, -6.16667606e-02,\n",
      "       -2.38627464e-01, -4.41572890e-02, -1.36705548e-01,  5.97845018e-02,\n",
      "       -8.64701569e-02, -5.89633957e-02, -1.36133088e-02, -4.82184552e-02,\n",
      "       -1.19880982e-01,  3.49051207e-02, -9.69033018e-02,  2.94033647e-01,\n",
      "       -7.73189738e-02,  4.41049505e-03,  1.55209154e-01,  7.81789124e-02,\n",
      "       -2.61383951e-01,  2.37417370e-01, -1.04732789e-01, -3.06786358e-01,\n",
      "       -2.56967366e-01,  7.62297660e-02,  1.56437114e-01, -5.77043444e-02,\n",
      "        5.07720858e-02, -2.91803956e-01, -1.18806466e-01, -9.82409418e-02,\n",
      "        4.90739103e-03, -8.38295147e-02, -1.24145031e-01, -2.42867246e-01,\n",
      "       -3.72937731e-02,  2.01383322e-01,  1.06165439e-01, -3.34684581e-01,\n",
      "       -1.86407745e-01, -1.29713953e-01, -1.60757601e-01, -3.53787057e-02,\n",
      "        7.97105953e-02, -4.05812040e-02,  2.47140139e-01, -1.83719210e-02,\n",
      "        2.81963162e-02, -2.89745718e-01, -1.24849685e-01, -2.09624451e-02,\n",
      "        2.28041098e-01,  3.76076326e-02, -2.16620222e-01,  8.81174356e-02,\n",
      "        1.85360774e-01, -1.83072984e-01,  3.49618167e-01,  2.20741227e-01,\n",
      "       -1.63059950e-01,  2.02152908e-01, -2.83266991e-01, -1.08165359e-02,\n",
      "        1.93261936e-01, -1.30983621e-01,  1.58324279e-02,  5.66980466e-02,\n",
      "       -1.34022504e-01, -2.31919900e-01, -7.60116726e-02,  4.17352468e-02,\n",
      "       -1.77158371e-01, -2.25460261e-01, -5.95250987e-02, -5.27902246e-02,\n",
      "        1.77284345e-01, -1.42542094e-01, -1.45535648e-01, -3.30673121e-02,\n",
      "       -8.62280726e-02,  9.81257390e-03, -3.08014639e-02,  8.72950405e-02,\n",
      "       -4.08164971e-02,  2.65909582e-01, -7.12021906e-03,  8.63234997e-02,\n",
      "       -2.56508499e-01,  8.75015184e-02,  1.74210966e-01,  1.57489136e-01,\n",
      "       -9.24079791e-02, -5.15185595e-02, -2.05366328e-01, -1.33711591e-01,\n",
      "        5.13583608e-02, -1.67585045e-01, -2.35452309e-01,  4.42270786e-02,\n",
      "       -1.39541179e-01,  9.16502625e-02,  1.31504193e-01, -3.70090634e-01,\n",
      "       -2.87563745e-02, -8.42441693e-02])), ('con', array([ 2.53333333e+00,  1.35209235e-01,  3.13400000e+03,  8.03000000e+02,\n",
      "        6.00000000e+01,  1.50000000e+01,  1.70000000e+01,  2.00000000e+00,\n",
      "        1.00000000e+00,  1.70000000e+01,  5.00000000e+00,  5.00000000e+00,\n",
      "        1.00000000e+00,  0.00000000e+00,  0.00000000e+00,  0.00000000e+00,\n",
      "        0.00000000e+00,  0.00000000e+00, -1.82183057e-01, -4.57174629e-02,\n",
      "        2.06531826e-02,  1.33674458e-01,  1.84162304e-01,  2.89330501e-02,\n",
      "       -1.98709592e-03, -8.02528039e-02,  1.35958150e-01,  2.88588181e-02,\n",
      "        2.31733337e-01,  1.27948821e-01, -9.54088792e-02,  5.75651787e-02,\n",
      "        3.84807754e-05,  1.19645759e-01, -2.29825735e-01,  3.99357051e-01,\n",
      "        5.48497261e-03,  1.45769343e-01,  2.02752743e-03,  1.46436468e-01,\n",
      "       -7.94215649e-02,  1.79862045e-03,  2.42432728e-01, -1.33008212e-01,\n",
      "        1.13791503e-01, -1.63880244e-01, -1.39495671e-01, -2.46422619e-01,\n",
      "        6.35902137e-02, -2.58218884e-01,  2.57357240e-01,  1.29906267e-01,\n",
      "       -9.54851042e-03, -1.34111881e-01,  2.78086290e-02,  6.10746890e-02,\n",
      "       -4.41900222e-03, -6.92361966e-02,  3.16062212e-01,  2.42502153e-01,\n",
      "       -1.48189664e-01, -1.57226194e-02, -1.91657409e-01,  1.56862199e-01,\n",
      "        1.02063389e-02, -1.81517489e-02,  2.62176283e-02, -5.34883849e-02,\n",
      "       -7.40586892e-02, -6.31745905e-02, -3.34165365e-01,  3.71558852e-02,\n",
      "        1.53065816e-01, -9.55776572e-02, -7.32885674e-02, -1.20997533e-01,\n",
      "       -2.35593185e-01, -4.04466316e-02,  1.72790512e-01, -7.46621415e-02,\n",
      "       -1.74236760e-01, -5.86761981e-02, -2.64418256e-02, -7.27319345e-02,\n",
      "        1.83477238e-01, -2.26830289e-01,  3.83416235e-01, -2.69347042e-01,\n",
      "       -1.03046410e-01, -2.87302732e-01, -1.70181230e-01, -1.04323914e-02,\n",
      "        1.48277253e-01, -1.37781486e-01, -5.21586128e-02, -2.15362027e-01,\n",
      "        1.18960351e-01, -2.74637371e-01, -1.29510477e-01, -3.78875397e-02,\n",
      "        6.66168402e-04,  1.49562195e-01, -2.52463222e-01, -1.12975165e-01,\n",
      "        5.79032674e-02, -5.78227341e-02, -1.30898254e-02, -1.76262528e-01,\n",
      "        2.32571438e-02, -1.36214957e-01,  1.60786539e-01,  1.72763597e-02,\n",
      "       -2.47026846e-01, -1.31529989e-02,  5.20887859e-02,  2.01724917e-01,\n",
      "        1.69393942e-01, -6.91866204e-02,  2.23602578e-01, -9.50254649e-02,\n",
      "       -2.47514188e-01,  1.37338117e-01,  9.68234055e-03, -2.10685544e-02,\n",
      "        2.78263353e-02, -1.05770491e-03, -3.05826783e-01, -5.00273593e-02,\n",
      "       -1.26270764e-02, -1.35768011e-01,  2.30029523e-01,  9.84619856e-02,\n",
      "       -1.16396643e-01,  4.93150130e-02,  6.87774969e-04, -1.16222724e-01,\n",
      "       -1.82621643e-01, -3.15340936e-01, -2.45136201e-01, -6.11179769e-02,\n",
      "        2.71621868e-02, -6.36719689e-02,  1.63739845e-01,  2.59499047e-02,\n",
      "       -3.76212627e-01,  2.11101845e-01])), ('con', array([ 2.29629630e+00,  0.00000000e+00,  2.22000000e+03,  6.60000000e+02,\n",
      "        3.70000000e+01,  4.00000000e+00,  4.00000000e+00,  0.00000000e+00,\n",
      "        0.00000000e+00,  0.00000000e+00,  0.00000000e+00,  0.00000000e+00,\n",
      "        0.00000000e+00,  0.00000000e+00,  0.00000000e+00,  0.00000000e+00,\n",
      "        0.00000000e+00,  0.00000000e+00, -1.45446360e-01, -4.40994799e-02,\n",
      "       -1.75825283e-01,  1.27659668e-03,  6.00004122e-02, -4.52275984e-02,\n",
      "       -1.69609934e-01, -2.05152526e-01, -2.84875724e-02, -1.73277572e-01,\n",
      "        1.67074621e-01,  4.84745167e-02,  1.08097762e-01,  1.27331078e-01,\n",
      "        1.73649006e-02,  1.56172484e-01, -2.82480270e-01, -2.90403347e-02,\n",
      "        8.11719969e-02,  1.90209970e-01, -1.17837459e-01,  9.26205516e-02,\n",
      "       -2.16611281e-01,  9.03246645e-03, -9.31921601e-02,  3.64151299e-02,\n",
      "        1.84003130e-01, -2.66885877e-01,  4.10467014e-02,  2.45679915e-01,\n",
      "       -1.99484155e-02, -1.93289042e-01, -8.52387473e-02, -2.22799167e-01,\n",
      "        6.43099397e-02,  1.64825618e-01,  2.21932568e-02,  3.44401225e-02,\n",
      "        1.92452371e-01, -1.41338289e-01, -1.25386581e-01,  9.99467894e-02,\n",
      "       -1.71497446e-02, -6.30976446e-03,  1.91793591e-01,  2.13036865e-01,\n",
      "        4.82254103e-02,  1.11960560e-01,  3.75328958e-02,  1.34647936e-01,\n",
      "        1.20924346e-01, -2.67864466e-01, -7.60148838e-02, -4.68500368e-02,\n",
      "        3.51696312e-01,  8.00195709e-02, -1.69232488e-01, -1.56127727e-02,\n",
      "       -2.31306225e-01,  2.80644327e-01, -1.02920793e-01, -1.17114633e-01,\n",
      "       -3.37752104e-01, -2.95019671e-02, -1.12591766e-01,  3.29295576e-01,\n",
      "        1.07484072e-01,  3.11787166e-02, -5.21473400e-02, -2.85724401e-01,\n",
      "       -4.12978604e-02, -1.15983851e-01,  7.19033256e-02,  3.61895747e-02,\n",
      "       -1.85863543e-02,  3.05848777e-01,  4.03064489e-02, -1.49384245e-01,\n",
      "        2.56800741e-01,  1.76333547e-01, -6.93672523e-02, -2.15233475e-01,\n",
      "        1.87826380e-01,  1.59838587e-01, -3.78079489e-02,  9.74918827e-02,\n",
      "       -3.99632640e-02,  4.09628861e-02, -2.05941573e-01, -3.09849888e-01,\n",
      "       -1.15691513e-01, -4.44029011e-02, -1.68917142e-02,  2.33270928e-01,\n",
      "       -7.31546581e-02,  5.68074696e-02, -7.60492980e-02,  6.91423416e-02,\n",
      "        2.31969029e-01, -1.23320170e-01, -1.80928840e-03,  5.83961420e-03,\n",
      "       -1.41763195e-01, -1.23803996e-01,  1.96422994e-01, -7.99371526e-02,\n",
      "        1.03202052e-01, -6.60962164e-02,  1.07402369e-01,  3.61901875e-05,\n",
      "        1.90579802e-01, -5.24810404e-02,  2.55347346e-03, -1.52001157e-01,\n",
      "       -2.89228767e-01, -5.36985025e-02, -3.24731737e-01, -1.60268471e-01,\n",
      "        3.05685461e-01, -3.84140294e-03, -1.09445468e-01,  2.21030526e-02,\n",
      "        4.96249199e-02,  8.27111490e-03,  1.67892247e-01, -1.86915576e-01,\n",
      "        2.27022812e-01, -2.11246267e-01])), ('con', array([ 2.00000000e+00,  0.00000000e+00,  6.81000000e+02,  2.55000000e+02,\n",
      "        1.60000000e+01,  0.00000000e+00,  0.00000000e+00,  0.00000000e+00,\n",
      "        0.00000000e+00,  1.50000000e+01,  1.00000000e+00,  1.00000000e+00,\n",
      "        0.00000000e+00,  0.00000000e+00,  0.00000000e+00,  0.00000000e+00,\n",
      "        0.00000000e+00,  0.00000000e+00, -1.49902537e-01,  4.69055548e-02,\n",
      "       -1.76204234e-01,  3.62823047e-02,  8.73688757e-02, -5.11462539e-02,\n",
      "        9.92965605e-03, -4.50499207e-02, -8.63795727e-02, -3.34753931e-01,\n",
      "        8.18189457e-02,  6.30109236e-02,  1.84491873e-01, -7.58277848e-02,\n",
      "       -8.89396742e-02,  4.23632711e-01, -9.37613100e-03,  2.83671439e-01,\n",
      "        3.70690405e-01, -7.39613771e-02,  3.88035960e-02,  2.25098029e-01,\n",
      "       -9.73429531e-02,  2.31332377e-01,  1.69367686e-01, -5.90937920e-02,\n",
      "        5.13535812e-02, -1.38242036e-01, -6.30344674e-02, -6.35979399e-02,\n",
      "       -1.07228726e-01, -3.24679315e-02,  2.56826371e-01, -2.68578559e-01,\n",
      "        3.67738381e-02, -3.68405074e-01,  2.51317173e-01,  9.51967761e-02,\n",
      "        1.85991406e-01, -2.23259121e-01, -1.03443377e-01, -5.47826514e-02,\n",
      "       -4.74792942e-02, -7.28589436e-03,  1.60131246e-01,  1.35942549e-02,\n",
      "       -1.28107801e-01,  1.14837736e-01,  1.27813801e-01, -1.85404241e-01,\n",
      "       -5.42523526e-02, -2.60503232e-01,  1.66040156e-02, -1.89059272e-01,\n",
      "        9.78622958e-02,  1.62489578e-01, -6.07969053e-02, -2.89552599e-01,\n",
      "       -8.37663561e-03,  1.63042873e-01,  1.03558555e-01, -1.27505004e-01,\n",
      "        6.31780922e-02,  1.09402105e-01, -2.11259529e-01, -9.22457278e-02,\n",
      "        3.67864827e-03, -7.66885504e-02,  1.95853516e-01, -8.31287205e-02,\n",
      "        2.71334723e-02,  1.15375616e-01,  1.50030674e-02, -6.60790801e-02,\n",
      "       -5.84885217e-02,  8.76266360e-02, -9.96349230e-02,  5.20367455e-03,\n",
      "       -2.95045674e-01, -5.06533533e-02, -1.77768350e-01, -1.32437482e-01,\n",
      "       -2.40319028e-01,  9.72642843e-03, -3.42547774e-01, -2.44409349e-02,\n",
      "        8.19474906e-02, -5.59115671e-02, -8.20515230e-02, -3.50860655e-02,\n",
      "        5.29790521e-02, -1.35928765e-01, -1.61568802e-02, -7.01719895e-04,\n",
      "        3.21655184e-01, -1.05336323e-01, -3.88627015e-02, -1.75381839e-01,\n",
      "       -3.29839066e-02,  6.66320622e-02, -1.76357049e-02, -7.69634619e-02,\n",
      "       -6.81562200e-02, -2.78046817e-01,  1.28481805e-01, -1.02900140e-01,\n",
      "       -1.17371194e-01,  1.18436821e-01, -9.81759652e-02,  1.29247114e-01,\n",
      "       -3.88672501e-01,  1.68764859e-01,  3.31528991e-01,  1.55765228e-02,\n",
      "       -7.14476109e-02, -2.01914564e-01, -1.68183282e-01,  1.37689561e-01,\n",
      "       -1.98287386e-02, -6.46638423e-02, -1.10308014e-01, -1.08680576e-02,\n",
      "       -3.69706661e-01,  1.20625511e-01,  2.70072401e-01,  2.56237477e-01,\n",
      "       -2.68106431e-01, -1.58454478e-01])), ('con', array([ 2.14814815e+00,  0.00000000e+00,  2.24000000e+03,  6.45000000e+02,\n",
      "        3.40000000e+01,  3.00000000e+00,  3.00000000e+00,  0.00000000e+00,\n",
      "        0.00000000e+00,  0.00000000e+00,  0.00000000e+00,  0.00000000e+00,\n",
      "        0.00000000e+00,  0.00000000e+00,  0.00000000e+00,  0.00000000e+00,\n",
      "        0.00000000e+00,  0.00000000e+00,  1.29590720e-01, -3.53456855e-01,\n",
      "        6.05767369e-02,  1.27306273e-02, -2.61412300e-02,  1.43276513e-01,\n",
      "        3.98790687e-02, -2.87203997e-01,  1.42587960e-01,  8.89835134e-03,\n",
      "        5.85683845e-02,  1.14274725e-01,  1.66851848e-01,  1.18210360e-01,\n",
      "       -1.21813476e-01, -8.36206079e-02,  1.35343280e-02,  1.25250712e-01,\n",
      "        7.73546323e-02,  9.25155282e-02, -7.46595040e-02,  3.55097115e-01,\n",
      "       -2.61870652e-01,  1.15165688e-01,  8.40978604e-03, -1.58581957e-01,\n",
      "       -2.42311865e-01, -2.94610262e-01,  2.17897236e-01,  7.41057992e-02,\n",
      "       -6.33601565e-03, -9.64399129e-02, -5.54513447e-02,  1.23004369e-01,\n",
      "        2.54627407e-01,  5.05190194e-02,  1.77480772e-01,  1.10564977e-01,\n",
      "        6.27595931e-02, -2.44687125e-01, -5.20321392e-02,  1.82717666e-01,\n",
      "       -1.53285965e-01,  3.38623881e-01,  1.79513708e-01, -5.35209663e-03,\n",
      "        1.02831228e-02, -1.22815162e-01,  1.51175439e-01,  1.91790730e-01,\n",
      "       -1.02406517e-01,  1.44728467e-01, -2.29513973e-01, -2.04835981e-01,\n",
      "        2.01470912e-01,  2.16423273e-02,  2.08163530e-01, -1.40219986e-01,\n",
      "       -3.48715633e-02, -8.60531926e-02,  2.04632133e-01, -3.10639650e-01,\n",
      "        1.62119299e-01,  1.29068092e-01, -6.33818880e-02, -7.96689987e-02,\n",
      "        4.47374433e-02,  2.03922074e-02,  1.33156255e-01,  1.38483018e-01,\n",
      "       -1.40379258e-02, -8.88767093e-02,  1.18420124e-01,  5.73427863e-02,\n",
      "        2.71988623e-02,  5.75957671e-02,  1.59532309e-01, -1.84001982e-01,\n",
      "       -1.35376126e-01,  1.47625849e-01,  1.98027298e-01,  4.94436957e-02,\n",
      "        1.88953243e-02, -3.81759368e-02, -1.99349493e-01, -7.82033242e-03,\n",
      "        1.94245830e-01,  5.69355860e-02, -5.07032722e-02, -1.18697606e-01,\n",
      "       -1.71377778e-01,  1.01378046e-01,  2.30724037e-01, -1.22097962e-01,\n",
      "        6.00026064e-02, -1.56408563e-01, -1.41286617e-02, -8.99010450e-02,\n",
      "        7.13680983e-02, -7.02417418e-02, -2.24133447e-01, -1.33392468e-01,\n",
      "       -1.73813745e-01,  2.84959346e-01, -4.79388759e-02, -3.07710111e-01,\n",
      "       -2.93009490e-01,  3.86467949e-02, -2.66166478e-01, -4.54121679e-02,\n",
      "       -9.26182717e-02,  1.17654711e-01,  3.60481516e-02, -9.53651890e-02,\n",
      "        6.84527084e-02, -5.59875034e-02, -2.65814245e-01, -1.40832245e-01,\n",
      "       -1.40214399e-01, -2.69091427e-01, -2.18857229e-01, -8.51046061e-04,\n",
      "        1.84984893e-01,  2.61721373e-01, -5.24155572e-02, -9.90064442e-02,\n",
      "       -1.03763945e-01, -2.98052371e-01])), ('con', array([ 2.11764706e+00,  0.00000000e+00,  4.88300000e+03,  1.05000000e+03,\n",
      "        4.30000000e+01,  4.00000000e+00,  4.00000000e+00,  0.00000000e+00,\n",
      "        0.00000000e+00,  0.00000000e+00,  0.00000000e+00,  0.00000000e+00,\n",
      "        0.00000000e+00,  0.00000000e+00,  0.00000000e+00,  0.00000000e+00,\n",
      "        0.00000000e+00,  0.00000000e+00, -8.02011937e-02, -1.46760881e-01,\n",
      "        1.80506095e-01,  4.40413430e-02,  6.23736642e-02, -2.04338178e-01,\n",
      "        1.22722900e-02,  7.03170076e-02, -1.53922707e-01, -4.03392650e-02,\n",
      "        1.38419867e-01, -6.40707314e-02,  3.85777742e-01, -2.68551588e-01,\n",
      "        1.45786852e-01,  3.26644868e-01, -1.22916937e-01,  2.34172672e-01,\n",
      "       -4.40028869e-02,  2.03590184e-01,  8.29939395e-02,  9.44440514e-02,\n",
      "        2.77230404e-02, -5.03680669e-02, -1.16062023e-01, -7.77703673e-02,\n",
      "        1.70262694e-01, -2.45097484e-02, -1.78193629e-01, -1.91924289e-01,\n",
      "       -5.41322865e-02,  3.11710802e-03,  1.38136029e-01,  4.41582911e-02,\n",
      "        1.15687534e-01,  1.06955528e-01, -6.53000847e-02, -1.46502182e-01,\n",
      "       -2.11216331e-01, -4.16093431e-02,  1.53694049e-01,  1.33813322e-01,\n",
      "       -9.80955288e-02,  1.02060325e-01, -6.09325357e-02,  1.43462449e-01,\n",
      "       -7.71256238e-02,  1.51586890e-01, -1.08006708e-01,  1.25320882e-01,\n",
      "       -2.40150943e-01,  2.16836914e-01,  6.84101135e-02, -7.31708631e-02,\n",
      "        3.04276168e-01, -8.15971941e-02, -1.45455748e-01, -1.13382563e-01,\n",
      "       -9.00974050e-02,  1.26872631e-02, -1.31833568e-01, -3.01127076e-01,\n",
      "       -1.37730718e-01,  1.13218963e-01,  6.44918755e-02, -8.39195251e-02,\n",
      "        6.76478297e-02,  2.20942333e-01,  8.94018263e-02, -1.04641311e-01,\n",
      "       -4.97654639e-02, -2.30143927e-02,  1.29526213e-01, -2.47127376e-03,\n",
      "        8.56576562e-02,  2.13385135e-01, -9.35213342e-02, -1.04601786e-01,\n",
      "       -1.45944074e-01, -2.86846638e-01,  2.80495346e-01,  9.45484787e-02,\n",
      "       -1.37942299e-01,  2.15527281e-01, -3.28468233e-01,  6.64754957e-02,\n",
      "       -1.01288155e-01,  2.82904468e-02, -2.28817657e-01, -2.00842053e-01,\n",
      "       -1.14615113e-01, -9.33544487e-02,  1.92079410e-01, -1.70027345e-01,\n",
      "       -9.46501940e-02, -2.94680297e-01, -9.78955030e-02, -1.47081926e-01,\n",
      "       -5.64559698e-02, -5.53212836e-02, -9.35858022e-03, -2.95786560e-02,\n",
      "       -1.31379932e-01, -9.02932212e-02,  2.76207253e-02, -4.31044810e-02,\n",
      "       -2.48759106e-01,  1.31562710e-01, -1.33902684e-01, -2.78421700e-01,\n",
      "        1.68977275e-01,  4.65072468e-02,  6.95256144e-02, -1.90502182e-01,\n",
      "       -1.03194779e-02,  2.75307655e-01,  4.89212275e-02,  1.27992168e-01,\n",
      "        2.96304915e-02, -1.06475912e-01, -2.01728061e-01, -5.14581874e-02,\n",
      "        1.35421902e-01,  3.48906629e-02, -9.27015096e-02, -4.21006829e-01,\n",
      "        4.21801396e-02, -2.15669826e-01])), ('con', array([ 1.90476190e+00,  0.00000000e+00,  9.69000000e+02,  3.42000000e+02,\n",
      "        1.90000000e+01,  0.00000000e+00,  0.00000000e+00,  0.00000000e+00,\n",
      "        0.00000000e+00,  0.00000000e+00,  0.00000000e+00,  0.00000000e+00,\n",
      "        0.00000000e+00,  0.00000000e+00,  0.00000000e+00,  0.00000000e+00,\n",
      "        0.00000000e+00,  0.00000000e+00,  6.78580021e-04, -3.44496608e-01,\n",
      "       -2.58624971e-01, -3.08239162e-02,  8.98838416e-03, -4.45636697e-02,\n",
      "        1.32258728e-01, -2.64399946e-01,  1.06994703e-01,  1.00216657e-01,\n",
      "        2.44260818e-01,  5.20866103e-02,  1.43901706e-01,  1.81936845e-01,\n",
      "        3.11600100e-02,  9.68250036e-02, -9.04835165e-02, -2.33549960e-02,\n",
      "        2.87993759e-01,  1.99094802e-01,  1.08641379e-01, -1.78996027e-01,\n",
      "       -1.23989329e-01,  1.70444101e-01, -1.98308349e-01, -5.90316765e-02,\n",
      "        2.57373840e-01, -1.94735363e-01,  7.41310939e-02, -3.08038026e-01,\n",
      "        3.58190089e-02, -1.13758639e-01,  3.23077329e-02, -1.04540974e-01,\n",
      "       -2.42484510e-02,  1.22913055e-01,  2.84653418e-02,  3.32663208e-02,\n",
      "        2.10533947e-01, -1.23102970e-01,  2.26529628e-01,  1.45683080e-01,\n",
      "       -1.11021288e-01,  1.00506835e-01,  4.65213269e-01, -4.20981273e-02,\n",
      "       -9.72568244e-02, -1.10312089e-01,  1.15878128e-01,  2.34524444e-01,\n",
      "       -1.59652773e-02,  6.64726394e-05, -2.19921127e-01, -1.17888041e-01,\n",
      "       -6.08129911e-02,  4.24197763e-02, -3.97529006e-02, -1.62506059e-01,\n",
      "       -1.88201983e-02,  1.94793537e-01,  2.28497107e-02, -1.88736364e-01,\n",
      "       -8.45480040e-02,  5.02543077e-02, -6.85577616e-02, -1.25994101e-01,\n",
      "        6.49760216e-02, -3.64819355e-02,  1.00506684e-02,  1.04972146e-01,\n",
      "       -2.28654876e-01, -1.83655903e-01, -1.43971235e-01, -9.49876849e-03,\n",
      "        7.48612434e-02,  1.46538436e-01, -2.12603696e-02, -2.66262740e-01,\n",
      "        1.03451321e-02, -4.83540222e-02,  1.04246154e-01, -3.03843528e-01,\n",
      "        6.12844750e-02,  1.29929006e-01, -2.49902099e-01,  5.64941950e-02,\n",
      "        9.67253074e-02, -1.73941217e-02,  1.37098841e-02, -6.12718239e-02,\n",
      "       -9.06331185e-03, -4.46971804e-02, -8.80394131e-03,  3.46160799e-01,\n",
      "       -1.14440424e-02, -2.11710900e-01, -2.03658715e-01, -2.46689916e-02,\n",
      "        1.74716279e-01, -8.62303898e-02,  3.67196165e-02, -4.30071354e-03,\n",
      "       -1.69324651e-01, -1.41680613e-01,  1.74496010e-01, -1.83028936e-01,\n",
      "       -1.04628541e-01,  5.48674911e-02, -2.92465895e-01, -5.47320008e-01,\n",
      "        1.59846857e-01,  1.39594048e-01,  5.81685714e-02, -4.47899848e-02,\n",
      "       -2.23625228e-01, -1.64660141e-01, -2.19473764e-01, -9.70490873e-02,\n",
      "       -3.73222269e-02,  7.45784715e-02, -8.45641717e-02, -2.46363673e-02,\n",
      "       -1.02500454e-01,  2.88670301e-01, -4.26556468e-02, -3.49365324e-01,\n",
      "        1.42507153e-02, -2.36943141e-01])), ('con', array([ 1.69230769e+00,  0.00000000e+00,  1.75000000e+02,  1.01000000e+02,\n",
      "        1.00000000e+01,  0.00000000e+00,  0.00000000e+00,  0.00000000e+00,\n",
      "        0.00000000e+00,  0.00000000e+00,  0.00000000e+00,  0.00000000e+00,\n",
      "        0.00000000e+00,  0.00000000e+00,  0.00000000e+00,  0.00000000e+00,\n",
      "        0.00000000e+00,  0.00000000e+00, -1.53067738e-01, -3.35175991e-02,\n",
      "       -8.81406665e-02,  1.85805172e-01, -1.15530379e-01, -3.42901438e-01,\n",
      "       -9.18107182e-02, -1.41048819e-01, -2.69296318e-02, -2.95689777e-02,\n",
      "        2.70707995e-01,  2.90365189e-01,  9.94154718e-03,  1.08055599e-01,\n",
      "       -9.18846056e-02,  9.77025181e-02, -3.12543660e-01, -1.56061379e-02,\n",
      "        6.23560920e-02,  1.82628617e-01, -7.29175657e-02,  1.06042966e-01,\n",
      "       -1.68211311e-01,  2.05522254e-02, -6.78069890e-02, -2.59171128e-01,\n",
      "        9.16727260e-02, -2.84597337e-01, -2.79640496e-01, -4.81560454e-02,\n",
      "       -1.42286330e-01, -2.07088172e-01, -5.09017333e-02, -2.73807853e-01,\n",
      "        1.60528466e-01, -1.35309100e-02,  1.10433564e-01,  2.31962666e-01,\n",
      "        1.18651472e-01, -1.06688261e-01,  4.24392447e-02,  4.66787010e-01,\n",
      "       -5.72244935e-02,  1.27099723e-01, -3.93310599e-02,  6.70994744e-02,\n",
      "        3.64979841e-02,  8.43910873e-02, -5.85257411e-02,  8.73248130e-02,\n",
      "       -1.18459731e-01,  1.74270853e-01, -1.67422578e-01, -1.45489931e-01,\n",
      "        2.26107255e-01, -1.44853324e-01,  4.04587612e-02, -2.09531695e-01,\n",
      "       -8.87428299e-02,  6.05253987e-02,  7.04700500e-02, -3.25754523e-01,\n",
      "       -1.35983929e-01, -1.02483869e-01,  3.69749474e-03, -1.94777563e-01,\n",
      "        1.97998419e-01, -4.74518426e-02,  1.35759398e-01,  1.14446478e-02,\n",
      "       -6.11506738e-02,  8.42922032e-02, -7.98693597e-02,  6.68887123e-02,\n",
      "        3.74866158e-01,  1.37351945e-01, -2.36723155e-01, -8.67206082e-02,\n",
      "        2.91688859e-01, -3.18805650e-02,  3.94217163e-01,  1.94876343e-01,\n",
      "       -1.01386391e-01,  4.38602408e-03, -1.92208067e-01,  1.58184230e-01,\n",
      "        5.38231730e-02,  8.00667405e-02, -1.75421406e-02,  7.53865689e-02,\n",
      "       -2.54352808e-01, -2.21367091e-01,  2.32393593e-01,  1.70783028e-01,\n",
      "        1.25421301e-01,  2.07691461e-01, -3.21522057e-02, -2.10192665e-01,\n",
      "       -2.30692655e-01, -2.53558636e-01,  3.22117001e-01,  5.88223115e-02,\n",
      "        7.35131130e-02, -2.51435637e-02,  1.64064512e-01,  3.98632623e-02,\n",
      "       -2.54901201e-01,  3.29861432e-01, -8.71906281e-02,  1.32707700e-01,\n",
      "       -1.35593772e-01, -5.14168143e-02,  2.62817621e-01,  5.43491803e-02,\n",
      "       -3.28000158e-01,  3.35123092e-02,  9.90481302e-02, -8.11849684e-02,\n",
      "       -8.75110403e-02, -7.72850290e-02, -1.21763982e-01,  8.44619945e-02,\n",
      "       -5.14424667e-02,  4.42344323e-03,  2.26434827e-01, -1.04488328e-01,\n",
      "        2.94201877e-02,  9.95372981e-02])), ('con', array([ 2.20000000e+00,  0.00000000e+00,  7.77000000e+02,  3.30000000e+02,\n",
      "        2.70000000e+01,  3.00000000e+00,  3.00000000e+00,  0.00000000e+00,\n",
      "        0.00000000e+00,  0.00000000e+00,  0.00000000e+00,  0.00000000e+00,\n",
      "        0.00000000e+00,  0.00000000e+00,  0.00000000e+00,  0.00000000e+00,\n",
      "        0.00000000e+00,  0.00000000e+00, -2.04126596e-01, -4.09677289e-02,\n",
      "        2.67628115e-02,  3.60166311e-01,  4.32434119e-02, -3.31055194e-01,\n",
      "        6.96488470e-03, -3.21945459e-01,  1.62278619e-02, -3.92081551e-02,\n",
      "        3.63739073e-01,  4.89410758e-02,  3.11849087e-01, -2.29452513e-02,\n",
      "       -4.56732586e-02,  7.09414482e-02,  3.78800742e-02,  8.76080990e-02,\n",
      "        4.54331189e-03,  3.29921395e-01, -1.57229051e-01,  2.03460559e-01,\n",
      "        1.34389982e-01,  8.74334574e-02,  3.91613133e-02, -8.44166428e-02,\n",
      "       -1.37257785e-01, -1.27775103e-01, -8.25745463e-02, -1.96553618e-02,\n",
      "        9.96426772e-03, -5.13932444e-02,  3.62854190e-02, -2.18948796e-01,\n",
      "        2.81337589e-01, -1.75520375e-01,  2.00494289e-01, -4.13844595e-03,\n",
      "        1.09863088e-01, -1.35695189e-01, -6.99969605e-02,  1.16156891e-01,\n",
      "       -1.31196808e-03,  1.19921668e-02,  9.38237309e-02, -2.50762522e-01,\n",
      "       -1.88373536e-01,  8.24836716e-02,  1.76840872e-01,  1.75335348e-01,\n",
      "       -1.57811537e-01, -1.63067356e-01, -1.74995944e-01, -1.20201975e-01,\n",
      "        1.22189909e-01,  1.58020422e-01, -1.06561542e-01, -8.85692388e-02,\n",
      "       -3.52695584e-01, -3.41179781e-03,  3.71424168e-01, -1.04888164e-01,\n",
      "       -1.43709049e-01, -1.20249442e-05, -1.19231939e-01,  7.43582770e-02,\n",
      "       -5.36522008e-02,  1.54040586e-02,  1.12357520e-01, -2.05889270e-02,\n",
      "       -2.68364608e-01, -7.02511594e-02, -7.24501237e-02, -1.68780699e-01,\n",
      "        2.23394539e-02,  2.24151269e-01, -8.79003033e-02,  1.32815361e-01,\n",
      "        1.88791379e-02, -8.40164572e-02, -2.75492016e-03,  3.72863784e-02,\n",
      "       -2.10262552e-01,  1.35434106e-01, -2.92378813e-01, -4.37765121e-02,\n",
      "       -1.10307805e-01,  3.37907448e-02, -1.93169862e-02,  2.46671706e-01,\n",
      "       -1.60093084e-01, -2.60541644e-02,  1.48505971e-01,  3.24133523e-02,\n",
      "        6.49841949e-02, -2.09506705e-01, -2.50423104e-01, -1.72332764e-01,\n",
      "       -1.73072457e-01, -2.11129844e-01,  1.35273859e-01,  1.53434798e-01,\n",
      "       -3.99473235e-02, -2.39826962e-01,  3.05074811e-01,  8.24168846e-02,\n",
      "       -1.98262319e-01,  2.14068606e-01, -2.59652823e-01, -1.15191117e-01,\n",
      "        2.39787949e-03,  4.07134481e-02,  1.96659714e-01,  1.07625999e-01,\n",
      "       -2.38510504e-01, -2.85957009e-01, -3.53967696e-02,  6.07665107e-02,\n",
      "        1.05777539e-01,  3.28595936e-02, -1.77443385e-01,  8.08800757e-02,\n",
      "       -7.92715102e-02,  2.94993520e-02,  1.10249549e-01, -6.60113245e-02,\n",
      "        1.68808512e-02, -3.66781771e-01])), ('con', array([ 2.05555556e+00,  1.85185185e-02,  5.92900000e+03,  1.16500000e+03,\n",
      "        4.10000000e+01,  2.00000000e+00,  2.00000000e+00,  0.00000000e+00,\n",
      "        1.00000000e+00,  0.00000000e+00,  0.00000000e+00,  0.00000000e+00,\n",
      "        0.00000000e+00,  0.00000000e+00,  0.00000000e+00,  0.00000000e+00,\n",
      "        0.00000000e+00,  0.00000000e+00, -4.83669043e-02, -1.54715151e-01,\n",
      "       -2.26721898e-01, -1.22733757e-01,  1.71712890e-01, -1.20047912e-01,\n",
      "       -2.28612617e-01, -3.83100286e-02, -3.08555424e-01,  2.42809560e-02,\n",
      "        2.57920355e-01, -6.54112175e-02, -2.13644505e-02,  8.49209353e-03,\n",
      "        1.67268649e-01, -1.07419454e-01, -2.41422892e-01,  8.16372856e-02,\n",
      "        5.12805022e-02,  8.52735043e-02, -8.55922922e-02,  6.80824444e-02,\n",
      "       -1.85467452e-01, -2.35752895e-01, -7.53586739e-02,  1.07279472e-01,\n",
      "       -1.49798030e-02, -3.55609387e-01,  6.85981289e-02, -1.01183914e-01,\n",
      "        8.77868198e-03, -2.46132210e-01,  2.08964244e-01, -8.19526911e-02,\n",
      "        1.98379338e-01, -7.66422004e-02,  9.14699063e-02,  3.25123593e-02,\n",
      "       -3.05373110e-02, -1.44081190e-01,  3.25082429e-02,  5.35551365e-03,\n",
      "       -1.32308125e-01,  5.38738146e-02,  1.69127688e-01, -2.19876524e-02,\n",
      "        5.52121783e-03,  3.89641011e-03,  2.34089538e-01,  4.52364609e-02,\n",
      "       -1.35230199e-01, -2.12449998e-01, -8.54834840e-02, -3.79393771e-02,\n",
      "        3.29005644e-02,  7.16774836e-02, -4.87132184e-02, -2.21679375e-01,\n",
      "       -6.48971274e-02,  1.38952136e-01, -7.76033625e-02, -7.53820986e-02,\n",
      "        1.79404933e-02,  1.88586991e-02, -2.90155023e-01, -4.14919630e-02,\n",
      "       -6.57446682e-03, -1.28964573e-01,  2.04094633e-01, -6.55063242e-02,\n",
      "        1.21757612e-01, -2.00935137e-02,  8.22980106e-02, -3.62531394e-02,\n",
      "        4.95813936e-01,  1.75127834e-01, -1.88975319e-01, -3.88618447e-02,\n",
      "        9.56613645e-02, -2.65851840e-02, -1.12385705e-01, -2.12198094e-01,\n",
      "       -1.99892342e-01,  4.46879454e-02, -3.30995649e-01, -1.42101705e-01,\n",
      "       -1.03835888e-01,  1.87263072e-01,  1.78268645e-02, -8.90289545e-02,\n",
      "       -7.15633109e-02,  6.01185709e-02, -3.73604149e-01, -1.99491099e-01,\n",
      "        1.16421200e-01, -9.40586030e-02, -2.09266573e-01,  2.46005668e-03,\n",
      "        1.83855444e-01, -5.50349392e-02,  3.22153009e-02,  9.46483985e-02,\n",
      "       -3.61632854e-01,  1.53516561e-01, -2.62766760e-02, -2.76350141e-01,\n",
      "       -3.48213732e-01,  4.42476124e-02, -3.99759442e-01, -4.41224407e-03,\n",
      "       -3.31235141e-01,  2.60884881e-01,  7.64428228e-02, -1.20523781e-01,\n",
      "       -1.06391292e-02,  1.51199549e-01, -8.56331736e-02,  1.29604191e-02,\n",
      "       -7.00443313e-02, -9.24301296e-02, -3.07068855e-01, -3.09162047e-02,\n",
      "       -6.51860163e-02, -6.79683164e-02, -1.24220736e-02,  4.09442261e-02,\n",
      "       -2.14694574e-01, -2.35054269e-02])), ('con', array([ 2.19354839e+00,  0.00000000e+00,  3.58200000e+03,  8.40000000e+02,\n",
      "        5.30000000e+01,  1.00000000e+01,  1.00000000e+01,  0.00000000e+00,\n",
      "        0.00000000e+00,  0.00000000e+00,  0.00000000e+00,  0.00000000e+00,\n",
      "        0.00000000e+00,  0.00000000e+00,  0.00000000e+00,  0.00000000e+00,\n",
      "        0.00000000e+00,  0.00000000e+00, -1.69865593e-01, -3.01778406e-01,\n",
      "       -2.23474130e-01, -9.19689238e-02,  4.62535694e-02, -2.14240640e-01,\n",
      "       -1.19052052e-01,  1.38039794e-02, -2.72825152e-01, -1.43853828e-01,\n",
      "        1.99415460e-01, -5.36606647e-02,  1.19025916e-01,  3.70501950e-02,\n",
      "       -1.82265878e-01,  3.18791479e-01, -2.79978067e-01,  9.01888758e-02,\n",
      "        7.39281848e-02, -1.21959774e-02,  7.91828781e-02,  2.15055168e-01,\n",
      "       -4.05575596e-02,  6.09173104e-02,  1.76333919e-01,  4.68554460e-02,\n",
      "        1.85258999e-01, -2.61109322e-01, -7.58176446e-02,  1.30258389e-02,\n",
      "        3.03987414e-02, -2.74968952e-01,  1.99377611e-01, -1.12197138e-01,\n",
      "        1.04471684e-01, -6.34149909e-02,  2.05567665e-02, -5.70920715e-03,\n",
      "       -1.93994597e-01,  9.25978366e-03,  7.56328031e-02,  2.48322934e-01,\n",
      "       -5.96224628e-02,  1.22989498e-01,  6.28447831e-02,  1.39275314e-02,\n",
      "       -6.15220666e-02, -6.29048347e-02,  2.33959571e-01,  2.27482021e-01,\n",
      "       -9.46885645e-02, -2.06842393e-01, -6.38801605e-02, -1.40863538e-01,\n",
      "        2.88614452e-01,  4.27584052e-02, -2.36852035e-01,  1.43517982e-02,\n",
      "       -1.83582291e-01,  1.58871561e-01,  1.92455381e-01, -1.36599779e-01,\n",
      "       -2.01303229e-01,  8.52229744e-02,  6.40551001e-02,  9.94815230e-02,\n",
      "       -1.62169382e-01, -9.25298259e-02,  7.39952475e-02,  4.76317406e-02,\n",
      "       -1.81349576e-01, -9.45204645e-02, -5.69186322e-02, -1.12680621e-01,\n",
      "        9.42278430e-02,  5.87113462e-02, -1.64235741e-01, -1.11269422e-01,\n",
      "       -4.67713885e-02, -1.64047390e-01,  1.00979544e-01, -3.09173595e-02,\n",
      "       -3.40683132e-01,  1.00860089e-01, -1.56250000e-01,  5.71423620e-02,\n",
      "        2.19315067e-01,  1.14739314e-01, -1.20639592e-01, -2.67170101e-01,\n",
      "       -8.49765167e-02, -1.21395081e-01,  3.43236104e-02, -5.43896332e-02,\n",
      "        2.67573614e-02, -1.56897247e-01, -1.56182453e-01,  1.89628359e-02,\n",
      "       -2.21769050e-01, -1.25327930e-01,  6.53403699e-02,  3.33027169e-02,\n",
      "       -3.70002799e-02, -2.12405454e-02, -3.77396755e-02, -8.74200240e-02,\n",
      "       -2.73797840e-01,  1.20624885e-01, -1.66104600e-01, -2.09347755e-01,\n",
      "        2.02683024e-02,  2.01618060e-01,  2.04285547e-01,  1.49834827e-01,\n",
      "       -1.14921026e-01, -1.04584962e-01, -1.48457125e-01,  1.53625468e-02,\n",
      "        1.25084221e-01, -1.74046755e-01, -2.94677526e-01,  2.69924290e-02,\n",
      "       -9.35101009e-04,  3.78025919e-02,  2.30466679e-01, -6.81634843e-02,\n",
      "       -1.91763431e-01, -1.43689841e-01])), ('con', array([ 2.00000000e+00,  0.00000000e+00,  2.21000000e+02,  1.20000000e+02,\n",
      "        1.10000000e+01,  0.00000000e+00,  0.00000000e+00,  0.00000000e+00,\n",
      "        0.00000000e+00,  1.00000000e+01,  1.00000000e+00,  1.00000000e+00,\n",
      "        0.00000000e+00,  0.00000000e+00,  0.00000000e+00,  0.00000000e+00,\n",
      "        0.00000000e+00,  0.00000000e+00, -1.81954473e-01, -4.10037994e-01,\n",
      "        8.67938623e-02, -9.11702663e-02,  2.13322621e-02, -8.44496340e-02,\n",
      "       -2.76114792e-01, -3.16925079e-01, -3.32979523e-02,  1.07138999e-01,\n",
      "        1.61000177e-01,  2.90898830e-01,  5.17391972e-02,  8.38771015e-02,\n",
      "       -5.48526570e-02,  2.57887214e-01, -3.53450209e-01,  5.96592613e-02,\n",
      "       -2.97113452e-02,  7.50543326e-02, -1.56562831e-02,  1.01211108e-01,\n",
      "       -5.86327203e-02,  2.27162465e-02, -1.81003287e-02, -1.50057465e-01,\n",
      "        1.06709108e-01, -2.26842329e-01,  1.68644473e-01,  3.58263329e-02,\n",
      "        1.46337673e-01,  8.75341613e-03, -3.28150839e-02, -2.33081549e-01,\n",
      "        2.30231538e-01,  1.13833115e-01, -6.25117645e-02,  2.09456772e-01,\n",
      "       -2.37503767e-01, -3.64784986e-01,  7.56947324e-02,  8.51079151e-02,\n",
      "       -2.13610068e-01,  1.13811791e-01,  2.14557633e-01,  1.59904093e-01,\n",
      "        4.03327160e-02,  1.10619143e-01,  3.28217149e-01,  1.05827175e-01,\n",
      "       -5.07621430e-02, -1.12927720e-01, -1.85451917e-02, -9.20908898e-02,\n",
      "        2.47984931e-01,  3.91410589e-02, -1.53021172e-01,  1.73025839e-02,\n",
      "        1.06910735e-01,  2.14021355e-01,  1.27358422e-01, -6.94427639e-02,\n",
      "       -3.65150310e-02,  6.72998503e-02, -2.31142998e-01,  4.92226854e-02,\n",
      "       -4.60880250e-02, -5.89444041e-02,  7.37319514e-02,  5.34950458e-02,\n",
      "        6.76408559e-02, -2.58350521e-01, -2.51313418e-01, -1.22212507e-02,\n",
      "        9.28175226e-02,  8.08773637e-02, -1.35635227e-01,  1.70477882e-01,\n",
      "       -5.97910630e-03,  1.34233609e-01,  9.62431580e-02, -5.92394173e-02,\n",
      "       -2.24266395e-01,  6.87499568e-02, -4.12137002e-01,  4.24834192e-02,\n",
      "       -2.06515398e-02,  1.31764531e-01, -1.33956894e-01, -1.67596951e-01,\n",
      "       -9.99287665e-02, -7.32708201e-02, -2.06587508e-01, -2.67166235e-02,\n",
      "       -5.91771938e-02, -5.31908870e-02,  2.94239372e-02, -1.61714673e-01,\n",
      "        1.52483433e-02, -1.31441250e-01,  2.83227026e-01, -1.04789078e-01,\n",
      "       -2.91609019e-02,  5.03093004e-02,  2.43884966e-01, -1.57837272e-01,\n",
      "       -1.02484494e-01,  2.76321054e-01, -5.72218299e-02, -1.44988403e-01,\n",
      "       -1.79064363e-01,  2.23718032e-01,  2.19136551e-01, -3.45548429e-02,\n",
      "       -3.06929350e-01,  7.52991661e-02,  8.49062484e-03,  4.87717651e-02,\n",
      "        8.87997970e-02, -1.59841314e-01, -4.58694518e-01,  2.81137805e-02,\n",
      "        2.80487835e-01, -8.77332315e-02, -8.27420317e-03, -2.29513720e-01,\n",
      "       -1.47394732e-01, -2.73402184e-01])), ('con', array([ 2.11111111e+00,  0.00000000e+00,  5.36000000e+02,  2.56000000e+02,\n",
      "        2.10000000e+01,  2.00000000e+00,  1.00000000e+00,  0.00000000e+00,\n",
      "        0.00000000e+00,  0.00000000e+00,  0.00000000e+00,  0.00000000e+00,\n",
      "        0.00000000e+00,  0.00000000e+00,  0.00000000e+00,  0.00000000e+00,\n",
      "        0.00000000e+00,  0.00000000e+00, -1.62161499e-01, -3.57919455e-01,\n",
      "        1.04237713e-01,  1.13648742e-01,  2.36298755e-01, -3.40584308e-01,\n",
      "       -2.11852580e-01, -9.64150950e-02, -1.11801125e-01, -6.77250475e-02,\n",
      "        3.19563523e-02, -4.24277335e-02,  9.45842639e-02,  1.37484014e-01,\n",
      "        1.89735647e-02,  1.44685254e-01, -8.32505524e-02, -9.22146291e-02,\n",
      "       -9.51871797e-02,  1.47975489e-01, -2.76325792e-01,  1.80601284e-01,\n",
      "       -4.52829786e-02,  3.16018262e-03, -7.15597495e-02,  1.22659039e-02,\n",
      "        6.20203046e-03, -1.11404724e-01, -2.27318242e-01,  1.45918339e-01,\n",
      "       -1.73665345e-01,  1.46553842e-02, -8.23182389e-02,  4.80269119e-02,\n",
      "        1.24929272e-01, -8.59537274e-02,  1.96378231e-02, -1.58372577e-02,\n",
      "       -1.33403137e-01, -8.19364935e-02,  2.59448081e-01,  3.73219490e-01,\n",
      "       -1.42485648e-01, -9.72842425e-02,  9.46699549e-03,  1.80413902e-01,\n",
      "        1.09849870e-01, -1.30325362e-01,  1.61772341e-01,  7.67899156e-02,\n",
      "        3.17434445e-02, -1.19855143e-01, -3.85282665e-01, -1.15575537e-01,\n",
      "        2.98297018e-01,  1.00529812e-01, -1.05561845e-01, -5.42850569e-02,\n",
      "        4.85523008e-02,  1.73397228e-01,  1.26184732e-01, -1.11445740e-01,\n",
      "       -1.45446956e-01,  2.62710422e-01, -4.66398150e-02, -1.56340584e-01,\n",
      "        1.61667109e-01, -3.31964374e-01,  9.31655467e-02,  2.66890556e-01,\n",
      "        4.21535373e-02, -1.24685504e-01, -7.87189901e-02, -7.68731236e-02,\n",
      "        1.44747853e-01,  1.49826050e-01, -6.31309971e-02, -8.91991556e-02,\n",
      "       -1.00025192e-01, -3.68547916e-01,  8.57005119e-02, -2.44350359e-01,\n",
      "       -1.19292200e-01,  4.96317074e-02, -1.03093563e-02,  1.14173681e-01,\n",
      "        2.33149100e-02,  1.01531960e-01,  5.30537404e-02,  3.96056958e-02,\n",
      "       -1.29552498e-01, -1.08029515e-01,  1.23886295e-01,  1.43552691e-01,\n",
      "       -3.41098681e-02, -8.00282210e-02, -5.33804558e-02, -1.25118673e-01,\n",
      "        1.93924129e-01, -1.33506283e-01,  2.39746585e-01,  4.22673039e-02,\n",
      "       -2.20435992e-01,  1.08639747e-01,  6.47594035e-02, -1.61158845e-01,\n",
      "       -1.88859671e-01,  2.77271003e-01, -2.52126098e-01, -2.26968646e-01,\n",
      "       -1.94998652e-01,  2.69990414e-01,  1.47022605e-01, -6.43493459e-02,\n",
      "       -3.05362701e-01,  1.31262718e-02, -3.45398225e-02,  2.28285402e-01,\n",
      "       -1.11013219e-01, -1.33616000e-01, -2.56105840e-01, -7.13995248e-02,\n",
      "        6.80989251e-02,  6.25122562e-02,  8.46533105e-02, -2.59415060e-01,\n",
      "       -4.09385711e-02, -2.47688517e-01])), ('con', array([ 2.00000000e+00,  0.00000000e+00,  9.55000000e+02,  3.51000000e+02,\n",
      "        2.20000000e+01,  1.00000000e+00,  1.00000000e+00,  0.00000000e+00,\n",
      "        0.00000000e+00,  0.00000000e+00,  0.00000000e+00,  0.00000000e+00,\n",
      "        0.00000000e+00,  0.00000000e+00,  0.00000000e+00,  0.00000000e+00,\n",
      "        0.00000000e+00,  0.00000000e+00, -2.64214903e-01, -3.41397189e-02,\n",
      "       -4.68469560e-02, -1.28252372e-01,  1.31141916e-02, -1.59069225e-01,\n",
      "       -5.69533147e-02, -1.18468873e-01, -1.53061509e-01, -1.20439634e-01,\n",
      "        5.26291877e-02,  1.39930949e-01,  1.63312569e-01,  1.15859136e-01,\n",
      "       -8.70201662e-02,  1.06749073e-01, -1.29427075e-01,  4.30485932e-04,\n",
      "       -1.09724738e-01,  4.57906444e-03, -2.38075051e-02,  2.42792383e-01,\n",
      "       -1.41173109e-01, -1.49167284e-01,  1.08671166e-01, -3.00411638e-02,\n",
      "        1.64245710e-01,  2.85132639e-02,  2.32066885e-02, -2.29768932e-01,\n",
      "       -1.90672740e-01, -2.39935800e-01,  6.24760501e-02,  4.67767976e-02,\n",
      "        2.21671350e-02, -1.02053052e-02,  5.28112228e-04,  1.55039132e-01,\n",
      "       -1.31273806e-01, -3.19097750e-02,  1.44183397e-01,  1.31706178e-01,\n",
      "       -1.36326253e-01,  3.85885984e-01,  3.68744105e-01, -1.33855477e-01,\n",
      "       -2.05934659e-01, -1.46496907e-01,  3.19125950e-01, -1.09128281e-01,\n",
      "       -6.77598119e-02, -1.57186046e-01, -3.40975434e-01, -6.24958165e-02,\n",
      "        2.57383466e-01,  1.17942028e-01, -2.37004906e-02, -1.59926176e-01,\n",
      "       -8.35746825e-02,  1.47415563e-01,  1.68060720e-01, -1.82800204e-01,\n",
      "       -2.14025408e-01,  2.64979433e-02,  1.31241277e-01,  1.51954502e-01,\n",
      "       -1.60254464e-01,  1.92758953e-03,  1.46718368e-01, -2.15964243e-02,\n",
      "       -1.07897885e-01, -2.01189145e-01,  2.91819781e-01,  2.00417880e-02,\n",
      "        2.63253182e-01,  1.58650074e-02, -2.72693974e-03,  1.02788575e-01,\n",
      "       -2.69975327e-02, -1.52544901e-01,  1.35970237e-02, -1.06903926e-01,\n",
      "       -2.97222614e-01,  1.64672270e-01, -7.78103247e-02, -6.10736571e-02,\n",
      "       -8.30061361e-02,  2.15726271e-02, -2.72476338e-02, -2.90043861e-01,\n",
      "       -6.40795082e-02, -1.80713430e-01, -1.64806858e-01,  1.60523728e-02,\n",
      "       -9.10617039e-02, -1.01438694e-01, -2.07953155e-01, -3.53034765e-01,\n",
      "        8.17251801e-02, -2.17273906e-01, -1.34205997e-01,  2.83019971e-02,\n",
      "       -3.32122147e-01, -4.87290472e-02, -2.81648338e-02, -1.10480510e-01,\n",
      "       -3.07757586e-01,  2.33760431e-01, -4.23731059e-02, -1.61470741e-01,\n",
      "       -1.79295689e-01,  1.31996302e-02,  1.49361625e-01, -3.50541584e-02,\n",
      "        7.95449037e-03, -1.65953368e-01, -3.05600375e-01, -8.70456398e-02,\n",
      "        1.38281956e-01, -7.69269541e-02, -2.84814477e-01, -2.54130691e-01,\n",
      "        6.67183027e-02,  2.62400150e-01,  1.21783301e-01, -9.74376723e-02,\n",
      "       -1.41827986e-01, -5.08087762e-02])), ('con', array([ 2.26666667e+00,  0.00000000e+00,  3.18500000e+03,  8.26000000e+02,\n",
      "        4.00000000e+01,  4.00000000e+00,  5.00000000e+00,  0.00000000e+00,\n",
      "        0.00000000e+00,  0.00000000e+00,  0.00000000e+00,  0.00000000e+00,\n",
      "        0.00000000e+00,  0.00000000e+00,  0.00000000e+00,  0.00000000e+00,\n",
      "        0.00000000e+00,  0.00000000e+00,  3.76764089e-02, -1.64455190e-01,\n",
      "       -1.04002483e-01, -4.80389036e-02,  2.35215485e-01, -1.37456153e-02,\n",
      "       -1.86953053e-01, -7.99081549e-02, -2.84883440e-01, -7.05312937e-03,\n",
      "        2.65990756e-02, -1.20354136e-02, -1.19827107e-01,  1.40207708e-01,\n",
      "       -9.88506526e-02,  1.28028050e-01, -3.06314439e-01,  2.09637672e-01,\n",
      "       -1.50522202e-01,  1.70534164e-01, -5.99090010e-02,  9.53380987e-02,\n",
      "       -2.80937731e-01, -3.09200417e-02,  2.09251586e-02, -5.41987643e-02,\n",
      "        1.55934934e-02, -4.34384227e-01, -4.84849885e-02, -1.43889487e-01,\n",
      "        2.03427542e-02, -1.50095731e-01, -6.95388317e-02, -2.02777594e-01,\n",
      "        9.95741338e-02, -1.94128186e-01,  2.50519276e-01,  1.54661000e-01,\n",
      "       -5.43092228e-02, -3.71731490e-01, -1.27824470e-01,  4.03935164e-02,\n",
      "       -1.15566291e-01,  2.43421674e-01,  2.77499437e-01, -7.51379430e-02,\n",
      "       -1.65907741e-02, -2.29550153e-01,  1.07839577e-01,  1.93821862e-01,\n",
      "        3.83538306e-02,  1.26275308e-02,  4.89500258e-03,  1.00850791e-01,\n",
      "        1.92944184e-01, -1.10992424e-01, -8.71335417e-02, -2.51016289e-01,\n",
      "       -1.70796961e-01,  1.57415584e-01,  6.67290017e-02, -1.77260160e-01,\n",
      "       -1.35489747e-01,  1.35792270e-01, -6.86449409e-02,  2.11173072e-01,\n",
      "        2.88911499e-02, -2.97085438e-02,  2.17020571e-01,  6.37694821e-02,\n",
      "        9.14835483e-02, -9.03589204e-02,  1.15801260e-01, -9.23377499e-02,\n",
      "        2.67295808e-01, -4.67092097e-02, -2.27616042e-01,  1.08862169e-01,\n",
      "        1.88450187e-01, -1.20555177e-01,  2.38090679e-01, -1.30470797e-01,\n",
      "       -7.81059712e-02,  1.16726682e-01, -1.48818448e-01, -2.86308974e-01,\n",
      "       -6.74479902e-02,  1.18243024e-01, -3.33127588e-01,  3.30998078e-02,\n",
      "       -6.94483966e-02,  4.50433306e-02,  3.41577500e-01, -2.54343748e-02,\n",
      "        3.53851706e-01, -6.70523345e-02,  7.26399720e-02, -9.64391083e-02,\n",
      "       -1.33151203e-01,  1.00092903e-01,  1.66171685e-01, -1.22618049e-01,\n",
      "       -2.74745286e-01, -8.37813318e-02,  1.43772457e-02, -1.76427186e-01,\n",
      "       -4.41972315e-02,  7.29957372e-02, -2.81005707e-02,  1.08796537e-01,\n",
      "        1.65539488e-01,  3.79642367e-01,  2.68867940e-01, -1.74249083e-01,\n",
      "       -2.32768908e-01, -1.97206400e-02, -2.40188286e-01, -1.42314527e-02,\n",
      "        1.34615839e-01, -1.89550176e-01,  4.75204829e-03,  1.05988383e-01,\n",
      "       -9.62172747e-02,  4.47452925e-02,  1.52139543e-02,  9.26000625e-02,\n",
      "       -1.32809496e-02, -7.45015591e-02])), ('con', array([ 2.00000000e+00,  0.00000000e+00,  7.80000000e+01,  7.50000000e+01,\n",
      "        1.10000000e+01,  1.00000000e+00,  0.00000000e+00,  0.00000000e+00,\n",
      "        0.00000000e+00,  0.00000000e+00,  0.00000000e+00,  0.00000000e+00,\n",
      "        0.00000000e+00,  0.00000000e+00,  0.00000000e+00,  0.00000000e+00,\n",
      "        0.00000000e+00,  0.00000000e+00, -1.90889224e-01, -1.27051845e-01,\n",
      "        2.92778779e-02, -4.12522331e-02, -1.03514217e-01, -1.38159860e-02,\n",
      "        1.00541726e-01, -1.61820203e-01,  1.08801704e-02, -9.63713303e-02,\n",
      "        2.48942748e-01, -4.17469628e-02,  1.15230687e-01,  3.77999395e-02,\n",
      "        2.00816736e-01,  1.84417397e-01,  3.99477929e-02, -3.27753834e-02,\n",
      "        1.13873109e-02,  2.97341883e-01, -1.50372341e-01, -4.31533530e-03,\n",
      "       -4.55534235e-02,  1.26032114e-01, -1.77433133e-01, -1.70733526e-01,\n",
      "       -3.62526178e-02, -7.18429089e-02, -9.18002874e-02, -1.27360970e-01,\n",
      "       -1.03749342e-01, -1.09060548e-01, -7.86413439e-03, -2.00219676e-01,\n",
      "        2.36439243e-01,  1.92843467e-01,  1.47047013e-01,  1.99907839e-01,\n",
      "        1.26969134e-02, -1.14774331e-01,  2.49557287e-01,  3.08611333e-01,\n",
      "       -3.74028742e-01, -1.21349813e-02,  3.80752459e-02,  1.91774685e-02,\n",
      "       -8.07829723e-02, -1.95774525e-01, -1.91793609e-02,  2.61223346e-01,\n",
      "        3.17333043e-02,  9.44378451e-02, -2.62095660e-01,  3.83224376e-02,\n",
      "        8.03335756e-02,  1.03609718e-01, -9.99893546e-02, -5.57053201e-02,\n",
      "        8.93933252e-02, -1.35902748e-01,  2.81500459e-01, -3.58960241e-01,\n",
      "       -1.11786820e-01,  6.94397837e-02, -1.29731297e-01, -1.09943017e-01,\n",
      "       -1.62468366e-02, -1.86098471e-01,  9.83412713e-02, -1.53086454e-01,\n",
      "        3.23943287e-01, -3.80225688e-01,  1.00319818e-01, -2.82628030e-01,\n",
      "        1.40631184e-01,  7.04763085e-02, -2.85210013e-01, -4.93785255e-02,\n",
      "        3.82828452e-02, -2.54711621e-02,  8.84717181e-02, -5.51195536e-03,\n",
      "       -3.29244375e-01,  8.58566910e-02, -2.19395176e-01,  1.14943301e-02,\n",
      "       -3.72432247e-02, -6.99031949e-02,  7.94874653e-02, -6.84165582e-02,\n",
      "       -3.46796140e-02, -1.79721788e-01, -2.00439498e-01, -2.52249707e-02,\n",
      "        3.68403792e-01, -1.78996369e-01,  1.61007196e-01, -2.03479081e-01,\n",
      "        1.00893125e-01, -1.87523276e-01,  1.38310909e-01, -2.24090070e-01,\n",
      "       -2.45433301e-01, -1.76319096e-03,  1.16512634e-01, -1.33532822e-01,\n",
      "       -1.66335717e-01,  1.32411420e-01, -2.51598716e-01, -4.73591574e-02,\n",
      "       -3.20963174e-01, -1.98083743e-01,  1.73288792e-01,  1.78225338e-01,\n",
      "       -1.36234492e-01,  2.64671415e-01, -2.14368291e-03,  3.26559581e-02,\n",
      "        8.59410875e-03, -1.90223426e-01, -1.50928050e-01,  1.45205125e-01,\n",
      "        4.60719392e-02,  1.54207030e-03,  1.41861275e-01, -2.65966281e-02,\n",
      "       -9.82306972e-02, -9.42559168e-02])), ('con', array([ 2.42105263e+00,  4.67836257e-03,  6.88400000e+03,  1.44900000e+03,\n",
      "        7.20000000e+01,  1.50000000e+01,  1.50000000e+01,  1.00000000e+00,\n",
      "        0.00000000e+00,  0.00000000e+00,  0.00000000e+00,  0.00000000e+00,\n",
      "        0.00000000e+00,  0.00000000e+00,  0.00000000e+00,  0.00000000e+00,\n",
      "        0.00000000e+00,  0.00000000e+00, -2.13583950e-02,  1.40256703e-01,\n",
      "       -9.88448635e-02, -5.73213771e-02,  5.75438291e-02, -9.35905576e-02,\n",
      "       -1.85994223e-01,  8.73313472e-03,  2.01776072e-01, -1.18570410e-01,\n",
      "        4.27853577e-02, -2.73073185e-03,  2.96778142e-01,  6.71083406e-02,\n",
      "       -2.11865127e-01, -1.39372885e-01, -2.99404562e-01,  8.38077813e-02,\n",
      "       -1.88616499e-01,  1.92200541e-01,  9.10869315e-02,  1.02477804e-01,\n",
      "       -1.13246530e-01,  2.96144430e-02,  1.67920530e-01, -2.28802562e-01,\n",
      "        1.01568811e-01, -2.19659165e-01, -2.16855094e-01,  1.00000821e-01,\n",
      "        2.60483831e-01, -1.46142080e-01,  2.06642777e-01, -1.61869720e-01,\n",
      "        1.03331983e-01, -3.27812470e-02, -4.89868745e-02, -5.60971983e-02,\n",
      "       -1.83479011e-01,  1.39063159e-02,  3.73063356e-01,  1.34606257e-01,\n",
      "       -9.44871008e-02,  2.42001265e-01,  8.06927085e-02,  6.99028224e-02,\n",
      "        8.80553424e-02, -1.33331046e-01,  1.64413720e-01,  3.15904766e-01,\n",
      "        4.55008745e-02, -2.22824201e-01,  4.66527492e-02, -1.41528606e-01,\n",
      "       -3.17081250e-02, -1.04916021e-01,  5.04378404e-04, -1.92308232e-01,\n",
      "        6.16017431e-02,  2.41716534e-01,  3.98104757e-01, -1.53823225e-02,\n",
      "       -2.83488750e-01,  1.01328097e-01,  1.03198208e-01,  1.42647251e-01,\n",
      "        3.37606221e-02, -7.97550976e-02,  2.90937275e-01, -4.50141020e-02,\n",
      "       -1.45622253e-01, -2.29355544e-01, -2.39794508e-01, -6.62742555e-02,\n",
      "        1.51447309e-02,  4.38773744e-02,  2.95869093e-02,  4.94224299e-03,\n",
      "        1.30552933e-01, -5.62468357e-02, -3.48822698e-02, -2.52159536e-01,\n",
      "       -9.24688131e-02,  6.65601436e-03, -1.02684528e-01,  1.50079969e-02,\n",
      "       -1.31825909e-01,  4.58104685e-02,  7.73590989e-03, -7.96652734e-02,\n",
      "       -7.99657330e-02, -3.56446533e-03,  9.06432196e-02, -1.37912901e-02,\n",
      "        5.13230972e-02,  1.10583529e-01, -1.81021482e-01,  2.66555130e-01,\n",
      "       -2.51295767e-03, -2.22887158e-01,  2.87039559e-02,  2.94242632e-02,\n",
      "       -6.94795176e-02, -2.51761023e-02,  2.67712593e-01,  1.18805937e-01,\n",
      "       -1.26470730e-01,  1.49430513e-01,  3.99148427e-02, -1.51660919e-01,\n",
      "       -7.40647241e-02, -9.28798392e-02, -4.50164527e-02,  2.31365755e-01,\n",
      "       -1.37027100e-01, -2.91890483e-02, -1.75871417e-01, -1.82101037e-02,\n",
      "        1.84963316e-01, -2.09014043e-01, -3.25839132e-01, -9.19537395e-02,\n",
      "        3.97230983e-02,  9.16314870e-03,  1.08878382e-01, -1.43690348e-01,\n",
      "       -2.12201342e-01, -8.34625065e-02])), ('con', array([ 1.86666667e+00,  0.00000000e+00,  2.86000000e+02,  1.56000000e+02,\n",
      "        1.30000000e+01,  0.00000000e+00,  0.00000000e+00,  0.00000000e+00,\n",
      "        0.00000000e+00,  0.00000000e+00,  0.00000000e+00,  0.00000000e+00,\n",
      "        0.00000000e+00,  0.00000000e+00,  0.00000000e+00,  0.00000000e+00,\n",
      "        0.00000000e+00,  0.00000000e+00, -1.06963851e-01, -2.01012403e-01,\n",
      "       -1.26994494e-02, -1.39871156e-02, -1.65470317e-01,  3.96862589e-02,\n",
      "       -1.09582409e-01, -1.30603477e-01, -4.22886200e-02, -3.28113347e-01,\n",
      "        2.13272914e-01,  2.13367432e-01, -2.71219965e-02, -1.18438303e-01,\n",
      "       -2.08738714e-01, -1.24567531e-01, -1.93922818e-02, -7.15354308e-02,\n",
      "        1.99441642e-01, -1.48726583e-01,  2.34070122e-01,  1.19727157e-01,\n",
      "       -1.91762760e-01, -1.38238203e-02, -7.73054315e-03, -3.48311674e-04,\n",
      "        1.25455707e-01, -2.10163102e-01, -1.66858271e-01, -1.69024989e-01,\n",
      "       -1.51459873e-01, -1.70629025e-01,  2.99308479e-01, -1.31635755e-01,\n",
      "        7.91903362e-02, -2.56841838e-01,  2.18831196e-01,  1.00678742e-01,\n",
      "       -1.52435318e-01,  2.91621778e-02,  3.20687443e-02,  7.34151378e-02,\n",
      "       -1.26291215e-01,  6.18385151e-02,  7.66994655e-02,  1.81972515e-02,\n",
      "        1.34167805e-01, -2.62968630e-01,  1.60619333e-01,  2.93794960e-01,\n",
      "       -1.43255472e-01, -1.44767031e-01, -2.76712999e-02, -1.03129424e-01,\n",
      "        2.74052262e-01, -5.35301901e-02, -4.45517115e-02,  1.26090217e-02,\n",
      "        1.37831300e-01,  1.31660393e-02,  1.21208765e-01, -2.54902363e-01,\n",
      "       -1.20567679e-01, -8.50104913e-02, -1.77336797e-01, -1.00095674e-01,\n",
      "       -1.90396354e-01, -5.63180894e-02,  9.74333212e-02,  2.92105049e-01,\n",
      "        2.20365729e-02, -2.27739468e-01, -2.39432063e-02,  1.08388729e-01,\n",
      "        3.08112383e-01,  2.29287982e-01, -1.44369274e-01, -2.20892485e-02,\n",
      "        1.05954051e-01,  6.07378185e-02,  2.55559623e-01, -7.18104765e-02,\n",
      "       -1.06502667e-01,  2.44922206e-01, -1.92449465e-01,  8.65877718e-02,\n",
      "        6.33735359e-02, -1.16290994e-01,  1.30093396e-01, -1.23996072e-01,\n",
      "       -4.13714759e-02, -7.15610236e-02,  1.51506081e-01,  1.22922726e-01,\n",
      "        8.23943019e-02, -2.41551280e-01, -1.97593004e-01, -2.94893742e-01,\n",
      "        8.59922692e-02, -2.15449765e-01,  7.91654065e-02, -6.61396906e-02,\n",
      "        1.80760343e-02, -1.01833520e-02, -5.63720241e-02, -1.66580930e-01,\n",
      "       -1.75866291e-01, -2.85711195e-02, -2.18320236e-01, -1.86151341e-01,\n",
      "       -2.56296635e-01,  2.24650621e-01,  1.04617357e-01,  1.25333890e-02,\n",
      "       -1.15819752e-01, -1.12894428e-04, -2.66092364e-02, -1.13396108e-01,\n",
      "        2.62957159e-02, -5.03125727e-01, -2.14698732e-01,  1.28664419e-01,\n",
      "       -2.81057209e-01,  4.65781987e-02,  2.75820494e-02, -3.56300473e-01,\n",
      "       -9.61714983e-03, -1.02847539e-01])), ('con', array([ 2.00000000e+00,  0.00000000e+00,  9.70000000e+02,  3.23000000e+02,\n",
      "        1.80000000e+01,  0.00000000e+00,  0.00000000e+00,  0.00000000e+00,\n",
      "        0.00000000e+00,  1.70000000e+01,  1.00000000e+00,  1.00000000e+00,\n",
      "        0.00000000e+00,  0.00000000e+00,  0.00000000e+00,  0.00000000e+00,\n",
      "        0.00000000e+00,  0.00000000e+00, -2.20974863e-01, -1.69448301e-01,\n",
      "       -3.97084653e-02, -2.51212679e-02,  5.33305481e-02,  3.65817035e-03,\n",
      "       -1.01925917e-01, -1.17554441e-01, -7.91587681e-02,  4.82552275e-02,\n",
      "        3.27933207e-02,  3.56832266e-01,  6.23245127e-02,  1.13376923e-01,\n",
      "        1.13436364e-01,  2.68726759e-02, -1.09960720e-01, -7.00777583e-03,\n",
      "        8.66297632e-02,  1.65088087e-01,  1.40317395e-01,  2.55719543e-01,\n",
      "       -2.32270047e-01,  1.28841028e-01, -1.26524508e-01, -1.66192725e-01,\n",
      "        2.56465897e-02, -8.62245113e-02, -1.30555153e-01, -1.41318113e-01,\n",
      "        2.13929102e-01, -1.20623283e-01,  2.56123573e-01, -2.00109690e-01,\n",
      "        1.18076459e-01,  4.32129484e-03,  5.32551222e-02,  2.60949880e-01,\n",
      "        1.59375548e-01,  1.02312274e-01,  2.27578282e-01,  1.43812135e-01,\n",
      "       -1.55197963e-01,  1.35958403e-01,  1.09355889e-01,  1.17735542e-01,\n",
      "        1.85780093e-01, -9.27362666e-02,  4.96307760e-02,  3.33872549e-02,\n",
      "       -2.25051314e-01, -2.19927758e-01, -6.21556528e-02, -1.31980523e-01,\n",
      "        9.48328823e-02, -3.15357506e-01,  6.83218893e-03,  9.82463956e-02,\n",
      "        7.41260126e-02, -3.13412324e-02, -6.29715323e-02, -2.16573969e-01,\n",
      "       -9.85798985e-03,  8.95195082e-02, -2.48106997e-02,  2.18396232e-01,\n",
      "        7.70263970e-02, -1.51825055e-01,  1.57260209e-01,  1.69814348e-01,\n",
      "        5.77696934e-02, -3.97153646e-01,  7.61648417e-02, -1.68485105e-01,\n",
      "        2.37410203e-01,  6.61371499e-02, -2.18359441e-01,  1.31868050e-02,\n",
      "       -8.73000696e-02, -1.76831186e-02,  2.88765609e-01, -2.36288816e-01,\n",
      "       -3.86761837e-02,  1.96998850e-01, -2.05216482e-01, -2.15835571e-02,\n",
      "        2.08435237e-01, -8.00826252e-02, -1.94193274e-01, -1.30727276e-01,\n",
      "        1.35668041e-02, -1.25608593e-01,  1.97331365e-02,  2.13011593e-01,\n",
      "        1.10208578e-01,  4.41449285e-02,  1.48435161e-01,  9.07844678e-02,\n",
      "        1.13805115e-01, -1.60484519e-02,  2.66036063e-01,  2.25127831e-01,\n",
      "       -1.17662236e-01,  1.49601102e-01,  1.61483258e-01, -2.14237049e-01,\n",
      "       -1.85215876e-01, -1.52951241e-01, -1.61530927e-01, -7.91704357e-02,\n",
      "       -6.89253062e-02,  2.91271452e-02,  1.77362502e-01,  1.51601091e-01,\n",
      "       -1.78709239e-01, -1.23778120e-01, -2.04601079e-01,  3.37019283e-03,\n",
      "        4.00354601e-02, -4.41158712e-01, -1.43775254e-01,  2.41493821e-01,\n",
      "       -1.56314522e-01, -1.36395823e-03,  1.64890856e-01,  1.07725356e-02,\n",
      "       -6.55856803e-02, -7.03959092e-02])), ('con', array([ 2.28571429e+00,  3.33333333e-02,  9.15000000e+02,  3.75000000e+02,\n",
      "        3.10000000e+01,  4.00000000e+00,  4.00000000e+00,  0.00000000e+00,\n",
      "        1.00000000e+00,  0.00000000e+00,  0.00000000e+00,  0.00000000e+00,\n",
      "        0.00000000e+00,  0.00000000e+00,  0.00000000e+00,  0.00000000e+00,\n",
      "        0.00000000e+00,  0.00000000e+00, -1.23912148e-01, -8.82634223e-02,\n",
      "       -7.61589557e-02,  4.17997018e-02, -5.19549623e-02, -2.98972040e-01,\n",
      "       -2.74286628e-01, -1.92417324e-01,  2.65308861e-02,  2.46276036e-01,\n",
      "       -8.90574604e-03,  9.27621275e-02,  5.81829995e-02,  5.44061363e-02,\n",
      "        1.59235626e-01,  8.30664858e-02, -1.57587364e-01,  1.57359540e-01,\n",
      "        6.43817112e-02,  5.14507443e-02,  1.89169332e-01,  2.80875057e-01,\n",
      "       -3.67624201e-02, -5.95749430e-02,  5.30195870e-02,  8.09683055e-02,\n",
      "        9.39473659e-02, -4.85351756e-02, -6.24190867e-01, -1.39183074e-01,\n",
      "        2.62518018e-01, -4.94569577e-02, -1.31854052e-02, -6.97739571e-02,\n",
      "        6.69593513e-02, -3.74614894e-02, -1.97710413e-02,  2.05810502e-01,\n",
      "       -1.45179955e-02, -1.21984491e-02,  1.69952273e-01, -1.11631364e-01,\n",
      "       -1.79139495e-01,  2.62218919e-02, -7.97910169e-02, -4.47693504e-02,\n",
      "        5.34237325e-02,  1.55513315e-02,  6.94614053e-02,  2.65636593e-01,\n",
      "        1.41851261e-01, -9.03903022e-02,  8.11873656e-03,  2.15694875e-01,\n",
      "        1.74802929e-01,  1.25526533e-01,  1.08285457e-01,  6.51607895e-03,\n",
      "        1.83993354e-02, -2.14322791e-01,  2.26394877e-01, -3.12066108e-01,\n",
      "       -1.43389255e-01, -6.58973679e-02,  3.63135897e-02,  9.17128921e-02,\n",
      "        4.38316822e-01,  7.03555495e-02,  4.90188189e-02,  1.61741078e-01,\n",
      "        4.90413867e-02, -6.13110326e-02,  2.90878564e-01, -1.73641697e-01,\n",
      "        3.38537306e-01,  6.94670975e-02, -3.04755837e-01, -4.89413254e-02,\n",
      "        3.42241377e-02, -8.61792415e-02,  2.78637648e-01, -5.85320666e-02,\n",
      "        5.64743690e-02,  3.04485997e-03,  1.11333743e-01, -7.67619163e-02,\n",
      "        1.15104519e-01,  4.98519987e-02, -3.31007428e-02, -9.57243086e-04,\n",
      "        1.21165678e-01, -2.94193625e-01,  1.49721339e-01,  3.98120619e-02,\n",
      "       -3.37172449e-02, -9.57957562e-03,  2.95673497e-02, -2.91737597e-02,\n",
      "        6.76208809e-02, -4.29083742e-02,  1.18122762e-03,  1.01459943e-01,\n",
      "        6.07885905e-02, -1.56780079e-01,  1.77130774e-01,  1.19757228e-01,\n",
      "       -6.71438128e-02,  1.83834225e-01, -4.07526761e-01,  1.23242415e-01,\n",
      "       -1.37037234e-02,  4.72771265e-02,  1.83672979e-01,  2.83022314e-01,\n",
      "       -2.58723170e-01, -4.11471874e-02, -6.67539090e-02, -1.08386390e-01,\n",
      "       -2.16484964e-01, -4.48337458e-02, -2.36153170e-01,  2.12193459e-01,\n",
      "       -1.16320103e-01,  3.20581526e-01,  8.75897855e-02,  1.17409468e-01,\n",
      "       -1.35199696e-01,  4.54332791e-02])), ('con', array([ 2.56250000e+00,  6.89765963e-02,  3.86300000e+03,  9.75000000e+02,\n",
      "        6.10000000e+01,  1.40000000e+01,  1.40000000e+01,  2.00000000e+00,\n",
      "        1.00000000e+00,  2.20000000e+01,  4.00000000e+00,  4.00000000e+00,\n",
      "        0.00000000e+00,  0.00000000e+00,  0.00000000e+00,  0.00000000e+00,\n",
      "        0.00000000e+00,  0.00000000e+00, -1.51596352e-01,  1.37550294e-01,\n",
      "       -2.87885278e-01, -1.22746803e-01, -1.00690216e-01, -2.17367094e-02,\n",
      "       -1.26893431e-01, -1.56180561e-01, -2.36130238e-01,  1.31954113e-02,\n",
      "       -4.99726012e-02,  2.55928218e-01,  4.35667485e-02,  1.12109393e-01,\n",
      "       -9.23249647e-02, -3.54926810e-02, -1.71656325e-01,  2.09366277e-01,\n",
      "       -7.32089356e-02, -2.40588576e-01, -3.67081165e-01,  1.20819271e-01,\n",
      "        1.80059925e-01,  4.55091372e-02,  7.52688721e-02, -1.75601378e-01,\n",
      "        7.56956218e-03, -2.08687961e-01,  2.33771876e-02,  7.22410753e-02,\n",
      "       -1.93207189e-01,  4.10714783e-02, -4.25178967e-02, -4.43616696e-02,\n",
      "        2.89519191e-01, -1.38129085e-01, -5.57029322e-02,  5.04146423e-03,\n",
      "        6.01502359e-02, -7.47113749e-02,  4.99658510e-02,  2.55395204e-01,\n",
      "        4.30777073e-02,  4.16506715e-02, -1.06161721e-01,  3.67943570e-02,\n",
      "       -2.29625076e-01,  3.65514234e-02,  1.69673368e-01,  1.83527067e-01,\n",
      "        2.21660346e-01, -1.22112818e-01, -8.82470831e-02,  7.36847371e-02,\n",
      "        2.48504914e-02,  1.77447319e-01, -2.65630513e-01, -7.51021132e-02,\n",
      "       -1.85307488e-01, -1.00513041e-01,  1.24309547e-01, -1.02157913e-01,\n",
      "        3.05478781e-01,  2.76472624e-02,  1.23995952e-01,  2.18282700e-01,\n",
      "       -2.16393713e-02,  3.35907121e-03, -2.36307867e-02, -6.98948000e-03,\n",
      "       -2.02147737e-01,  1.87823832e-01,  2.71685213e-01, -1.09446682e-01,\n",
      "        5.21918908e-02,  2.20833406e-01, -7.87779987e-02,  2.64176935e-01,\n",
      "        1.04635604e-01,  2.28077739e-01,  1.92935973e-01, -4.02334742e-02,\n",
      "       -2.53815353e-01, -7.89355785e-02, -1.09107710e-01, -3.97797339e-02,\n",
      "        1.34015515e-01, -4.04772945e-02,  4.86834310e-02,  1.01451077e-01,\n",
      "       -6.54851049e-02, -2.35862553e-01,  1.35611407e-02,  1.51975945e-01,\n",
      "       -2.84870863e-01, -2.51786411e-01, -1.15600973e-01, -1.23786949e-01,\n",
      "       -1.21575519e-01, -6.04167953e-02,  1.60334662e-01,  1.08673230e-01,\n",
      "        1.60855129e-01, -1.59997463e-01,  1.56433821e-01, -1.79348603e-01,\n",
      "       -2.81461388e-01, -2.36557852e-02, -2.20414683e-01,  7.33627304e-02,\n",
      "       -2.21541628e-01,  1.04616441e-01,  5.95540069e-02, -2.75857270e-01,\n",
      "       -3.24228436e-01, -1.72311261e-01, -1.89482331e-01, -3.64912786e-02,\n",
      "       -4.80408706e-02, -7.40207359e-02,  1.16522871e-01,  1.59389406e-01,\n",
      "       -1.29802078e-01,  3.80737573e-01,  1.99496284e-01, -8.47711265e-02,\n",
      "       -2.00440764e-01,  8.86562988e-02])), ('con', array([ 2.33333333e+00,  1.69642857e-01,  5.37000000e+02,  2.27000000e+02,\n",
      "        2.10000000e+01,  6.00000000e+00,  6.00000000e+00,  3.00000000e+00,\n",
      "        0.00000000e+00,  1.40000000e+01,  1.00000000e+00,  1.00000000e+00,\n",
      "        0.00000000e+00,  0.00000000e+00,  0.00000000e+00,  0.00000000e+00,\n",
      "        0.00000000e+00,  0.00000000e+00, -1.33935988e-01, -3.66217226e-01,\n",
      "        5.05811460e-02,  1.18796311e-01,  8.12514648e-02, -4.52956036e-02,\n",
      "        1.47468541e-02, -1.36226133e-01, -4.17475887e-02, -2.43191689e-01,\n",
      "        1.53475329e-01,  3.36201161e-01,  1.85695112e-01, -1.19794890e-01,\n",
      "       -1.45278350e-01,  1.68296009e-01, -8.43018964e-02,  2.28337452e-01,\n",
      "        7.91463722e-03,  1.09101892e-01, -3.55641032e-03,  1.07587285e-01,\n",
      "       -2.04121068e-01, -2.44095922e-02,  4.29920517e-02, -1.93279549e-01,\n",
      "        1.78779185e-01, -1.18977703e-01, -1.77540496e-01, -1.53158247e-01,\n",
      "        1.50904283e-01,  1.30321179e-02,  8.20476264e-02, -1.00248389e-01,\n",
      "        2.76738822e-01, -1.28740305e-02,  9.44550782e-02,  1.32238239e-01,\n",
      "        2.78713461e-02, -7.58854151e-02, -1.09987400e-01,  1.84268311e-01,\n",
      "       -2.51050770e-01,  5.54573238e-02,  2.07211748e-01, -1.02946125e-01,\n",
      "       -8.95083472e-02, -9.06448662e-02,  3.29012543e-01,  2.70143151e-01,\n",
      "       -6.75772652e-02, -2.34803393e-01, -1.60745859e-01, -1.54508770e-01,\n",
      "        2.19280973e-01, -1.96074829e-01,  1.50280699e-01, -1.86953276e-01,\n",
      "        1.02312446e-01,  6.07983544e-02,  3.35347295e-01, -1.22865222e-01,\n",
      "       -8.15422833e-02,  1.05023190e-01, -3.22030112e-02,  1.02978237e-01,\n",
      "       -1.59803196e-03, -2.64232811e-02,  2.12714136e-01, -5.14515452e-02,\n",
      "        1.16092443e-01, -2.31772035e-01,  7.23250955e-02, -6.66845664e-02,\n",
      "       -2.23579630e-02,  1.31357133e-01, -1.75573558e-01, -1.17467217e-01,\n",
      "       -5.06002605e-02, -2.36162499e-01,  3.13479990e-01, -1.45075470e-01,\n",
      "       -2.57508308e-01,  1.80512756e-01, -1.92358777e-01, -3.34242098e-02,\n",
      "        3.56795043e-02, -2.45432239e-02, -9.30756107e-02, -1.52835295e-01,\n",
      "        6.17422648e-02, -2.09462434e-01, -2.57903412e-02,  4.76929024e-02,\n",
      "        2.84932882e-01, -5.56960590e-02, -1.03560381e-01, -1.54383123e-01,\n",
      "        6.57652225e-03, -1.01503387e-01, -6.93277121e-02, -1.04462013e-01,\n",
      "       -2.04186514e-01, -5.03929742e-02,  1.72440097e-01, -4.03140532e-03,\n",
      "       -2.53037632e-01, -7.74811255e-04, -1.00275733e-01, -2.62565836e-02,\n",
      "       -5.16265631e-02,  2.98034847e-02,  2.18429804e-01,  5.89940883e-02,\n",
      "       -2.09814295e-01,  1.58670828e-01, -3.43005240e-01, -9.83248651e-02,\n",
      "        7.16225132e-02, -2.99906105e-01, -2.51816958e-01,  1.16035819e-01,\n",
      "        9.47223231e-03,  9.26401988e-02,  1.35409325e-01, -2.05124080e-01,\n",
      "       -1.50967076e-01, -3.35987478e-01])), ('con', array([ 2.00000000e+00,  5.15873016e-02,  9.54000000e+02,  3.54000000e+02,\n",
      "        1.90000000e+01,  1.00000000e+00,  1.00000000e+00,  1.00000000e+00,\n",
      "        0.00000000e+00,  0.00000000e+00,  0.00000000e+00,  0.00000000e+00,\n",
      "        0.00000000e+00,  0.00000000e+00,  0.00000000e+00,  0.00000000e+00,\n",
      "        0.00000000e+00,  0.00000000e+00, -2.69679070e-01, -3.80349576e-01,\n",
      "       -3.58234532e-02,  4.13450509e-01,  1.17006212e-01, -1.06367759e-01,\n",
      "       -9.12468061e-02, -7.50227347e-02, -6.44134283e-02, -1.79675743e-01,\n",
      "        3.60481255e-02,  2.69912004e-01,  1.33822456e-01,  4.31538671e-02,\n",
      "       -1.61866248e-01,  4.43369988e-03, -1.56339720e-01,  2.09338248e-01,\n",
      "       -1.10931069e-01,  6.64040819e-02,  7.79159293e-02,  3.06187630e-01,\n",
      "       -2.68736869e-01,  2.00153485e-01,  2.02453732e-02, -3.00372481e-01,\n",
      "        4.69222218e-02, -1.30483493e-01, -1.22328855e-01,  6.95360601e-02,\n",
      "       -2.28875637e-01, -1.86324477e-01,  2.40063027e-01, -7.79699953e-03,\n",
      "        2.54053622e-02, -1.47927955e-01,  1.47460729e-01,  2.27877740e-02,\n",
      "       -1.56937614e-02, -9.16136876e-02, -2.90854871e-02,  1.70369118e-01,\n",
      "        1.87701792e-01,  2.90512085e-01,  2.21961841e-01,  6.53583258e-02,\n",
      "       -3.30604643e-01,  3.30033414e-02,  2.99705509e-02,  1.46117002e-01,\n",
      "       -2.71130174e-01, -7.95448646e-02,  1.07380450e-02, -9.93731394e-02,\n",
      "        8.30922425e-02, -1.59787923e-01, -2.60612726e-01, -1.89677328e-01,\n",
      "        4.45273370e-02,  1.09010488e-01,  3.05690646e-01, -2.21745074e-01,\n",
      "       -1.35633171e-01,  2.71335989e-02, -1.33003160e-01, -5.22403196e-02,\n",
      "       -1.71631768e-01, -1.05618976e-01,  3.57933104e-01, -7.00038970e-02,\n",
      "       -2.01842815e-01, -3.59400287e-02,  7.89049082e-03, -1.09778725e-01,\n",
      "        7.04077110e-02,  2.01213822e-01, -7.33240098e-02, -5.65579953e-03,\n",
      "        1.44107252e-01, -8.06650519e-02,  2.76495785e-01, -1.21410497e-01,\n",
      "        3.85566452e-03, -1.14038521e-02, -5.98280020e-02,  1.47692887e-02,\n",
      "       -1.10059552e-01,  3.04568410e-02, -1.07989430e-01, -5.33371270e-02,\n",
      "       -2.08654851e-01,  1.21624745e-01, -5.71914203e-02, -6.25219196e-02,\n",
      "        8.65345225e-02,  1.72813594e-01,  1.26131130e-02, -3.15762497e-02,\n",
      "        3.48444581e-02,  1.90299019e-01, -1.01728857e-01,  2.78759181e-01,\n",
      "        6.38233125e-02,  1.14631265e-01,  2.47152135e-01, -6.28103018e-02,\n",
      "       -1.99180007e-01,  1.57138377e-01, -1.82690501e-01,  6.03041537e-02,\n",
      "        2.98438631e-02,  9.96632352e-02,  1.58678591e-01, -1.41353428e-01,\n",
      "        5.37234265e-03,  8.45923126e-02, -2.41265953e-01,  1.67898834e-01,\n",
      "        1.25634000e-02, -1.69214115e-01, -4.62608397e-01,  7.74776787e-02,\n",
      "        7.63188377e-02,  2.49640629e-01, -1.08919576e-01, -1.30031750e-01,\n",
      "       -1.60109773e-01, -1.57678708e-01])), ('con', array([ 2.33333333e+00,  0.00000000e+00,  1.15000000e+02,  8.30000000e+01,\n",
      "        1.10000000e+01,  0.00000000e+00,  1.00000000e+00,  0.00000000e+00,\n",
      "        0.00000000e+00,  7.00000000e+00,  2.00000000e+00,  1.00000000e+00,\n",
      "        0.00000000e+00,  0.00000000e+00,  0.00000000e+00,  0.00000000e+00,\n",
      "        0.00000000e+00,  0.00000000e+00, -8.27847421e-02, -2.42378399e-01,\n",
      "       -2.61443816e-02, -1.43149793e-01,  1.37048205e-02, -2.22560167e-01,\n",
      "       -5.22799715e-02,  1.77258804e-01, -3.24152857e-02,  7.18578994e-02,\n",
      "        4.28907126e-01,  3.06163162e-01, -8.62452984e-02,  9.72248986e-02,\n",
      "        7.00910315e-02,  1.85940880e-02, -2.18115076e-01,  4.70990688e-02,\n",
      "       -9.84373242e-02,  2.03498438e-01, -2.19555162e-02,  2.47171819e-02,\n",
      "       -2.09236488e-01,  1.08709954e-01,  4.37371880e-02, -1.05508141e-01,\n",
      "        1.11940494e-02, -1.76176205e-01, -1.09460250e-01, -2.49772951e-01,\n",
      "       -2.42347568e-02, -1.69619128e-01,  1.59178451e-01, -1.69976756e-01,\n",
      "        1.24525324e-01, -1.42996684e-01,  2.51675308e-01,  1.55914664e-01,\n",
      "       -1.29858837e-01, -1.43530935e-01,  7.15459138e-02,  4.55623806e-01,\n",
      "       -1.69013396e-01, -1.07691973e-01, -3.13227810e-02, -1.24315741e-02,\n",
      "       -2.55966276e-01, -1.46931082e-01,  4.20354679e-02,  1.40616462e-01,\n",
      "        9.74525064e-02, -1.32411242e-01, -7.52882361e-02,  4.64446992e-02,\n",
      "        3.20130020e-01, -9.13028866e-02, -6.67868257e-02, -2.92390177e-04,\n",
      "       -1.99695602e-01,  1.77605420e-01,  1.52490735e-01, -2.13301614e-01,\n",
      "       -2.68684983e-01,  1.11495331e-01,  1.36583950e-02, -3.35293084e-01,\n",
      "        1.70934543e-01,  1.33914441e-01,  3.36573794e-02,  1.86582312e-01,\n",
      "        2.29971498e-01,  8.92543718e-02, -1.59876302e-01, -1.19100876e-01,\n",
      "        1.97266504e-01,  7.30018690e-02, -4.46140394e-02,  5.57607710e-02,\n",
      "        6.91438243e-02, -1.63987637e-01,  1.92376092e-01, -1.35982156e-01,\n",
      "       -1.79346517e-01,  7.90841281e-02, -2.37774208e-01,  3.46037485e-02,\n",
      "       -8.85670111e-02,  5.61236516e-02, -2.96320409e-01,  4.27278206e-02,\n",
      "       -2.76515633e-01, -3.33549380e-01, -3.96339782e-02,  1.40217394e-01,\n",
      "       -7.31075555e-02, -1.15344919e-01, -1.17536731e-01, -1.88875467e-01,\n",
      "        1.81769252e-01, -2.20936343e-01,  6.48534372e-02, -1.14512861e-01,\n",
      "       -1.38583452e-01,  1.21752173e-01,  5.38885221e-02, -3.22375223e-02,\n",
      "       -1.57640859e-01, -1.17634825e-01,  3.34614217e-02, -8.18461701e-02,\n",
      "        1.86044857e-01,  1.69591025e-01,  2.46109497e-02, -1.83757439e-01,\n",
      "       -3.57955731e-02, -1.74423397e-01, -1.52875423e-01, -8.84855241e-02,\n",
      "       -1.72294676e-01, -4.61411238e-01, -4.09878969e-01,  4.97453474e-02,\n",
      "        2.73577888e-02, -1.02588385e-02,  8.57457593e-02, -1.74136445e-01,\n",
      "       -1.29453614e-01, -2.14342982e-01])), ('con', array([ 2.08695652e+00,  4.49275362e-02,  1.30100000e+03,  4.37000000e+02,\n",
      "        2.60000000e+01,  3.00000000e+00,  3.00000000e+00,  1.00000000e+00,\n",
      "        0.00000000e+00,  0.00000000e+00,  0.00000000e+00,  0.00000000e+00,\n",
      "        0.00000000e+00,  0.00000000e+00,  0.00000000e+00,  0.00000000e+00,\n",
      "        0.00000000e+00,  0.00000000e+00, -2.90768057e-01, -2.32863411e-01,\n",
      "       -9.10836086e-02,  1.82747006e-01,  1.01993792e-01, -1.20948583e-01,\n",
      "        1.04346946e-01, -1.11495182e-01, -1.12190321e-01, -1.29292905e-01,\n",
      "        1.07594214e-01, -2.87350565e-02,  1.00846671e-01,  1.22040406e-01,\n",
      "        3.89578491e-02,  4.07655872e-02, -4.32293080e-02, -1.68582518e-02,\n",
      "        9.97737646e-02,  1.74723536e-01,  8.82608443e-02,  1.43224271e-02,\n",
      "       -1.63845807e-01,  1.12673849e-01,  2.92287525e-02,  1.62068203e-01,\n",
      "        8.42938274e-02,  6.50684233e-04, -5.07879332e-02,  6.84301704e-02,\n",
      "       -1.32345771e-02, -1.45549431e-01,  3.16683315e-02, -1.00118212e-01,\n",
      "        2.29444653e-02, -1.68943822e-01,  3.48147117e-02,  2.96594620e-01,\n",
      "       -1.32568270e-01, -1.41072497e-01,  1.40240803e-01,  4.61238742e-01,\n",
      "       -2.61654437e-01,  2.50563115e-01, -6.73345244e-03,  2.57739186e-01,\n",
      "       -1.44106392e-02, -7.15142861e-02,  2.38840789e-01,  2.72447437e-01,\n",
      "        1.57641515e-01, -2.62661934e-01, -1.03133721e-02, -1.96983844e-01,\n",
      "        2.98644394e-01, -2.27102056e-01, -8.36690068e-02, -1.87422797e-01,\n",
      "        5.84056675e-02,  1.06450178e-01,  2.14573160e-01, -6.52553663e-02,\n",
      "       -8.10819343e-02,  1.48476467e-01, -1.40804499e-01, -9.30028856e-02,\n",
      "       -6.42621666e-02, -7.20983883e-03,  8.80979598e-02,  7.24769533e-02,\n",
      "        6.39239177e-02, -1.61299616e-01,  2.55643994e-01, -1.28722489e-01,\n",
      "        2.73523510e-01,  2.00887509e-02, -3.46335992e-02, -2.70098038e-02,\n",
      "        4.89547141e-02, -2.53395110e-01,  2.46849045e-01, -1.62857145e-01,\n",
      "       -1.45218089e-01,  3.13536197e-01,  5.02052307e-02,  9.99751464e-02,\n",
      "        4.83233556e-02, -4.26586047e-02, -3.94141376e-02,  1.49435513e-02,\n",
      "       -2.12281242e-01, -1.51748314e-01,  4.01320942e-02,  7.76761910e-03,\n",
      "        9.23078507e-02, -4.27818567e-01, -3.25659253e-02, -5.83485293e-04,\n",
      "       -4.33560507e-03, -1.94360137e-01,  1.26114875e-01, -4.03408818e-02,\n",
      "       -8.41512233e-02,  2.22013891e-02, -1.59683704e-01, -1.37079522e-01,\n",
      "       -1.21905699e-01, -1.25866041e-01, -4.10304397e-01, -1.91020980e-01,\n",
      "       -1.59950614e-01,  1.98573112e-01,  1.52265564e-01, -4.14549746e-02,\n",
      "       -1.45106480e-01,  3.72931035e-03,  8.05777982e-02,  1.08347952e-01,\n",
      "        1.67198211e-01, -1.06710330e-01, -2.11266562e-01,  1.09661937e-01,\n",
      "        6.83914274e-02,  2.98871174e-02,  1.65391549e-01, -8.33434239e-02,\n",
      "       -4.23555300e-02, -2.14794844e-01])), ('con', array([ 2.16000000e+00,  0.00000000e+00,  1.71700000e+03,  5.45000000e+02,\n",
      "        3.20000000e+01,  3.00000000e+00,  3.00000000e+00,  0.00000000e+00,\n",
      "        0.00000000e+00,  0.00000000e+00,  0.00000000e+00,  0.00000000e+00,\n",
      "        0.00000000e+00,  0.00000000e+00,  0.00000000e+00,  0.00000000e+00,\n",
      "        0.00000000e+00,  0.00000000e+00,  7.90835992e-02, -1.05806112e-01,\n",
      "       -3.13566148e-01,  2.09273949e-01,  2.14388758e-01, -3.08054201e-02,\n",
      "       -6.98108450e-02, -3.40802848e-01, -1.46131292e-01, -1.00744843e-01,\n",
      "        1.59926996e-01, -5.35194390e-03,  6.34778067e-02, -6.40488863e-02,\n",
      "       -7.94282407e-02,  1.46963727e-02, -4.63498523e-03,  4.01373655e-02,\n",
      "        1.22863844e-01,  1.73961416e-01, -1.37638018e-01,  7.60966018e-02,\n",
      "       -2.90086120e-01,  4.00277115e-02, -1.51090741e-01, -2.38704346e-02,\n",
      "       -1.19687386e-01, -2.54088372e-01, -2.60637075e-01, -1.63116287e-02,\n",
      "       -7.15242848e-02,  8.20909254e-03, -4.48791590e-03, -9.91450995e-02,\n",
      "       -3.35078500e-02,  8.89722705e-02,  2.02701941e-01,  1.84513405e-01,\n",
      "        9.01405439e-02, -3.10087460e-03, -3.20827425e-03,  6.20245375e-02,\n",
      "       -3.18148792e-01, -1.45262748e-01,  9.68888029e-02, -8.51871297e-02,\n",
      "       -1.65530741e-01, -1.34066209e-01,  3.01916897e-01,  3.44908088e-01,\n",
      "       -1.19925559e-01, -2.82623589e-01,  2.09971797e-03, -2.25014791e-01,\n",
      "        2.22375527e-01,  8.97410884e-02, -1.84864104e-01, -2.58082360e-01,\n",
      "       -2.77482606e-02,  1.97671995e-01,  1.61251888e-01, -2.59586185e-01,\n",
      "       -1.43200189e-01, -9.34488885e-03, -1.62618816e-01, -1.23247623e-01,\n",
      "       -1.26503393e-01,  1.19964696e-01,  1.05241843e-01,  2.16223702e-01,\n",
      "        9.07256380e-02, -1.52761966e-01, -4.82266210e-02, -1.03258349e-01,\n",
      "        1.18549645e-01, -1.53558822e-02,  5.22886962e-03, -1.21674398e-02,\n",
      "        1.92929909e-01, -1.46909252e-01,  8.72529224e-02, -1.71661675e-01,\n",
      "       -1.41999245e-01,  1.05641531e-02, -2.49319464e-01,  6.26118183e-02,\n",
      "       -3.06508876e-02, -2.15807125e-01, -3.57494205e-02,  8.03128034e-02,\n",
      "        1.19614247e-02,  1.46242961e-01, -1.62976965e-01,  1.71725780e-01,\n",
      "       -2.66106855e-02,  2.67208874e-01, -1.04841091e-01, -7.41665810e-03,\n",
      "       -3.31429876e-02,  1.30213827e-01,  7.65738636e-02, -2.18071327e-01,\n",
      "       -2.01677024e-01,  5.19897230e-02,  1.97726309e-01, -1.43059283e-01,\n",
      "        2.81616822e-02, -6.04472607e-02, -2.41963714e-01, -2.59416819e-01,\n",
      "        1.72441155e-01,  4.05380219e-01,  1.72787964e-01, -8.57780054e-02,\n",
      "        1.03181778e-02, -1.50651366e-01,  7.37979368e-04,  1.94590613e-01,\n",
      "        1.48667803e-03, -2.12965667e-01, -1.95459902e-01,  1.93499684e-01,\n",
      "        7.34042823e-02,  1.30742803e-01, -3.04464083e-02, -2.41522007e-02,\n",
      "       -2.71894932e-01, -1.63814485e-01])), ('con', array([ 2.00000000e+00,  0.00000000e+00,  3.54000000e+02,  1.88000000e+02,\n",
      "        1.60000000e+01,  1.00000000e+00,  1.00000000e+00,  0.00000000e+00,\n",
      "        0.00000000e+00,  0.00000000e+00,  0.00000000e+00,  0.00000000e+00,\n",
      "        0.00000000e+00,  0.00000000e+00,  0.00000000e+00,  0.00000000e+00,\n",
      "        0.00000000e+00,  0.00000000e+00, -1.49653077e-01, -9.25211981e-02,\n",
      "       -1.87929422e-01, -1.38549417e-01,  1.51616752e-01,  6.53299540e-02,\n",
      "        5.55819459e-02, -6.77621961e-02,  8.44040215e-02, -1.03062890e-01,\n",
      "       -2.04360094e-02,  6.86110929e-02,  2.75672734e-01, -1.30883530e-01,\n",
      "        1.89076558e-01,  8.39113742e-02, -2.02836052e-01,  1.92726985e-01,\n",
      "        6.71968684e-02,  1.84356213e-01,  1.25195757e-01,  2.02469245e-01,\n",
      "       -5.01118694e-03, -3.09091620e-02,  2.88101256e-01, -1.65252443e-02,\n",
      "       -5.70510179e-02, -2.69733042e-01, -4.29798588e-02, -2.38409445e-01,\n",
      "       -6.56440333e-02, -3.85827541e-01, -1.36008307e-01, -1.36004329e-01,\n",
      "        1.83328122e-01,  1.51925668e-01, -6.18899874e-02,  2.44610664e-02,\n",
      "       -1.13225140e-01,  3.63289192e-02, -1.41035959e-01,  1.47237346e-01,\n",
      "       -1.16246633e-01,  3.84982117e-02,  1.30746633e-01, -3.07264507e-01,\n",
      "        7.63850287e-02, -4.04912010e-02,  9.38462019e-02,  3.77479941e-01,\n",
      "       -3.00665379e-01,  5.15347533e-02,  2.03500018e-02, -3.50893110e-01,\n",
      "        2.56212562e-01, -9.19234976e-02,  2.40164131e-01, -2.25626975e-02,\n",
      "       -2.55355597e-01,  1.57654002e-01, -2.50920299e-02, -1.30146548e-01,\n",
      "        3.84269306e-03,  3.46653238e-02, -9.18152276e-03, -2.04271510e-01,\n",
      "        3.20862919e-01, -6.24280013e-02,  2.39007875e-01, -8.16782657e-03,\n",
      "        1.99070070e-02, -3.38380665e-01, -2.92669654e-01, -5.85396849e-02,\n",
      "        3.41910064e-01,  7.21230656e-02, -7.88298715e-03, -7.50690699e-02,\n",
      "        1.90928236e-01, -2.75497824e-01,  3.49606693e-01,  5.27888387e-02,\n",
      "       -1.56790093e-01,  1.10586099e-01, -2.13791803e-01, -3.23072463e-01,\n",
      "       -1.08171985e-01,  2.13164121e-01, -2.52717659e-02, -1.80390909e-01,\n",
      "       -1.04296915e-01, -1.11991450e-01,  8.20490420e-02,  1.81579933e-01,\n",
      "        3.20492089e-01, -2.18124792e-01, -1.10397235e-01, -1.06081091e-01,\n",
      "        2.33101532e-01, -1.31718814e-01, -5.20416498e-02, -8.51153433e-02,\n",
      "        6.69863448e-02,  6.74611554e-02,  1.48876300e-02,  5.39688542e-02,\n",
      "       -3.36821944e-01, -8.73266533e-02, -1.45225495e-01, -1.82023585e-01,\n",
      "       -7.50496387e-02, -9.34835002e-02, -1.82481900e-01,  6.39896914e-02,\n",
      "       -1.66772828e-01,  3.11189983e-02, -4.92842793e-02, -9.47030485e-02,\n",
      "        3.80364917e-02, -1.19693346e-01, -1.01540640e-01,  2.07908839e-01,\n",
      "        1.42941400e-01,  1.57620177e-01,  9.04407352e-02, -1.80483609e-01,\n",
      "        5.36210760e-02, -1.18695065e-01])), ('con', array([ 2.43478261e+00,  4.92753623e-02,  1.24000000e+03,  4.76000000e+02,\n",
      "        3.90000000e+01,  7.00000000e+00,  7.00000000e+00,  1.00000000e+00,\n",
      "        1.00000000e+00,  0.00000000e+00,  0.00000000e+00,  0.00000000e+00,\n",
      "        0.00000000e+00,  0.00000000e+00,  0.00000000e+00,  0.00000000e+00,\n",
      "        0.00000000e+00,  0.00000000e+00, -2.50838161e-01, -2.74982572e-01,\n",
      "       -2.87322514e-03,  9.10341591e-02, -1.05918467e-01, -4.39270645e-01,\n",
      "       -7.66777843e-02, -1.15591578e-01,  4.41638045e-02, -1.90154314e-01,\n",
      "        1.15308709e-01,  1.75971195e-01,  1.71082795e-01, -1.22872114e-01,\n",
      "       -2.90883273e-01, -6.05503246e-02,  6.15742914e-02,  6.62389472e-02,\n",
      "        1.11466087e-01,  1.44654244e-01, -1.41323969e-01, -6.40713423e-02,\n",
      "       -2.50837635e-02,  5.16241044e-02, -8.99315104e-02,  1.44220656e-03,\n",
      "        2.71667033e-01, -2.42047623e-01,  1.21852465e-01,  9.53017324e-02,\n",
      "       -1.35873165e-02, -1.16378479e-01,  9.73319262e-02, -3.12929928e-01,\n",
      "        1.33972138e-01, -9.28174518e-03,  6.83072284e-02,  1.74739696e-02,\n",
      "       -9.15990677e-03, -3.56102020e-01,  2.13230655e-01,  1.13597661e-01,\n",
      "       -2.22032025e-01,  1.28506392e-01,  3.88854265e-01, -8.43621418e-02,\n",
      "        1.10215181e-02,  3.29467766e-02,  6.91323057e-02,  6.65566474e-02,\n",
      "        2.81134725e-01, -4.73308712e-02, -8.33839774e-02, -1.27949193e-01,\n",
      "        7.59081841e-02,  8.04608241e-02,  2.38851041e-01, -6.82702335e-03,\n",
      "       -2.88705111e-01,  2.83290744e-01,  2.36256391e-01, -1.61908731e-01,\n",
      "       -3.43022011e-02,  1.74499199e-01, -1.75683305e-01,  4.31813374e-02,\n",
      "        9.96949077e-02,  3.51278558e-02,  7.48884678e-02, -1.13270201e-01,\n",
      "        2.77734876e-01, -2.59707179e-02,  1.33769074e-02, -2.70009369e-01,\n",
      "        2.53409147e-01, -8.23826343e-02, -1.26923367e-01,  2.29859650e-02,\n",
      "        1.22358024e-01, -1.22522250e-01, -8.42988491e-02, -1.02309007e-02,\n",
      "       -1.73338622e-01,  3.67784560e-01, -1.42786160e-01, -6.90853894e-02,\n",
      "       -1.04023769e-01, -1.56680811e-02, -3.97752732e-01, -1.27130345e-01,\n",
      "       -1.51201129e-01, -1.27968684e-01, -1.41835898e-01,  3.86238955e-02,\n",
      "        1.94958553e-01, -1.04700588e-01, -9.18397754e-02, -1.68638900e-01,\n",
      "        2.72194427e-02, -2.24754550e-02,  7.57744685e-02, -1.31709993e-01,\n",
      "        1.25167847e-01, -1.31507531e-01,  6.29977733e-02, -1.24769099e-02,\n",
      "       -9.09495875e-02,  2.35247821e-01, -1.47752643e-01, -2.26022638e-02,\n",
      "       -2.00360745e-01,  6.19822228e-03,  1.82265326e-01, -9.86423418e-02,\n",
      "       -6.52470663e-02,  4.81333174e-02, -1.19550131e-01, -2.96689253e-02,\n",
      "       -2.09474321e-02, -1.66636884e-01, -1.77381039e-01,  2.87706494e-01,\n",
      "       -1.09448940e-01,  1.45155132e-01,  1.66556746e-01, -3.01188141e-01,\n",
      "        9.34954956e-02, -1.10097304e-02])), ('con', array([ 2.23529412e+00,  0.00000000e+00,  4.34000000e+02,  2.09000000e+02,\n",
      "        1.90000000e+01,  1.00000000e+00,  2.00000000e+00,  0.00000000e+00,\n",
      "        0.00000000e+00,  1.30000000e+01,  1.00000000e+00,  1.00000000e+00,\n",
      "        0.00000000e+00,  0.00000000e+00,  0.00000000e+00,  0.00000000e+00,\n",
      "        0.00000000e+00,  0.00000000e+00, -1.56352088e-01, -6.92360997e-02,\n",
      "       -8.54736045e-02,  2.51527309e-01,  3.97389755e-02,  4.69637215e-02,\n",
      "       -1.63991988e-01, -3.38800251e-01, -7.19112679e-02,  1.31448194e-01,\n",
      "        8.67759362e-02,  3.49474289e-02,  3.31422314e-02,  3.10215175e-01,\n",
      "       -2.44750112e-01, -4.39632051e-02,  4.23358986e-03, -5.29317446e-02,\n",
      "       -2.69458055e-01,  2.01764226e-01, -2.25629926e-01,  2.76154459e-01,\n",
      "       -1.04207061e-01, -5.91847952e-03, -2.91845441e-01, -1.35773674e-01,\n",
      "        3.14695299e-01, -5.21036014e-02,  1.88794851e-01,  7.38283321e-02,\n",
      "       -2.02230401e-02, -1.25845581e-01,  2.88310144e-02, -3.83376747e-01,\n",
      "        2.05482870e-01,  1.22127756e-01, -5.71457967e-02, -2.80410554e-02,\n",
      "       -6.90541193e-02, -1.90423336e-02, -2.83121560e-02,  1.50418282e-01,\n",
      "       -1.15541369e-02,  1.15767747e-01,  4.42262828e-01,  4.76115085e-02,\n",
      "        2.91865524e-02,  1.02744669e-01,  2.42524132e-01,  4.92991582e-02,\n",
      "       -9.77839008e-02, -2.76890785e-01, -6.88049048e-02, -8.25863108e-02,\n",
      "        7.83062354e-02,  3.33861373e-02, -8.63621384e-02, -1.22639820e-01,\n",
      "       -1.33419812e-01,  1.87528074e-01,  3.15840304e-01, -8.34639817e-02,\n",
      "       -5.32584079e-03,  2.08703894e-02, -8.20351318e-02,  1.56484857e-01,\n",
      "       -4.55591362e-04,  4.23602276e-02,  2.77492374e-01,  7.13839605e-02,\n",
      "        2.48964071e-01,  2.71106660e-02, -1.59178540e-01, -3.68667133e-02,\n",
      "        1.46100566e-01,  2.16580406e-02, -1.46347061e-01,  7.16380328e-02,\n",
      "        2.78475285e-02, -9.78929624e-02,  2.63474584e-01, -1.29922137e-01,\n",
      "       -2.32688785e-01,  3.40922862e-01, -2.41475441e-02,  1.39426827e-01,\n",
      "        1.21694222e-01,  1.10112645e-01, -2.49053854e-02, -2.17085540e-01,\n",
      "       -1.33121789e-01, -4.61525321e-02,  3.77264656e-02,  1.30857497e-01,\n",
      "        2.89135188e-01, -1.22908261e-02,  4.83401082e-02, -7.76513964e-02,\n",
      "       -2.47355863e-01, -7.43994936e-02,  1.91753894e-01, -2.65206993e-01,\n",
      "       -3.11702993e-02,  1.95905909e-01,  5.72842471e-02, -1.13212056e-01,\n",
      "       -3.33164543e-01,  1.07507966e-01, -1.17199428e-01,  1.33523867e-02,\n",
      "       -2.99511105e-01,  2.05412686e-01, -9.93166342e-02,  2.25417279e-02,\n",
      "       -4.66812044e-01, -1.93373919e-01, -1.99044663e-02,  3.15703824e-02,\n",
      "       -4.38833870e-02, -8.91592577e-02, -3.66323233e-01,  1.78775191e-01,\n",
      "        1.33749336e-01,  7.28914142e-02,  6.16461672e-02, -3.49815130e-01,\n",
      "        4.97118868e-02, -2.60989256e-02])), ('con', array([ 2.00000000e+00,  0.00000000e+00,  1.12500000e+03,  3.90000000e+02,\n",
      "        2.30000000e+01,  1.00000000e+00,  1.00000000e+00,  0.00000000e+00,\n",
      "        0.00000000e+00,  0.00000000e+00,  0.00000000e+00,  0.00000000e+00,\n",
      "        0.00000000e+00,  0.00000000e+00,  0.00000000e+00,  0.00000000e+00,\n",
      "        0.00000000e+00,  0.00000000e+00,  1.47032356e-02, -1.99353439e-03,\n",
      "       -9.17757973e-02,  4.06513847e-02, -8.50077346e-02, -2.40010526e-02,\n",
      "        5.18955290e-02, -1.59540564e-01,  4.56173118e-04, -1.06428182e-02,\n",
      "        9.10204872e-02,  8.83078650e-02,  1.07077919e-01, -3.14992219e-02,\n",
      "        1.13603979e-01,  1.08126722e-01, -9.48105156e-02,  5.77642247e-02,\n",
      "       -9.47674140e-02, -1.22637108e-01, -1.04686141e-01,  2.37622440e-01,\n",
      "       -2.21656114e-01,  1.19798958e-01,  1.05981179e-01, -3.26148197e-02,\n",
      "        1.12188704e-01, -3.06201968e-02,  2.30374727e-02,  5.22525841e-03,\n",
      "        2.78966837e-02, -3.23101252e-01,  4.87024225e-02, -9.87334251e-02,\n",
      "        6.80908486e-02, -7.58787096e-02,  1.74538627e-01,  2.20743030e-01,\n",
      "       -3.37471105e-02,  1.45396106e-02, -8.99583623e-02,  1.93425730e-01,\n",
      "       -1.00022338e-01,  8.29426199e-03,  4.16630507e-01,  9.81818363e-02,\n",
      "       -1.04312278e-01, -1.69397339e-01,  6.35729432e-02,  1.87571973e-01,\n",
      "       -4.20107208e-02, -1.58997595e-01, -9.92301479e-02, -1.50204405e-01,\n",
      "        2.97295898e-01, -6.90729097e-02, -1.75289437e-01, -1.77252516e-01,\n",
      "       -8.86296481e-02,  1.72854781e-01,  1.10911012e-01, -2.61124134e-01,\n",
      "       -4.35521007e-01,  1.31138980e-01, -2.77290225e-01, -9.77945477e-02,\n",
      "       -6.72965646e-02, -1.13092743e-01,  1.64969116e-01, -9.39096883e-02,\n",
      "        1.85633227e-01, -1.25396743e-01,  1.21577438e-02, -2.31757805e-01,\n",
      "        2.42990077e-01,  1.81914136e-01, -1.19540624e-01, -8.69495198e-02,\n",
      "        1.83184743e-01, -1.37386680e-01,  7.09260926e-02, -4.37548496e-02,\n",
      "       -1.88275859e-01, -2.12125909e-02, -3.81824017e-01,  2.02550992e-01,\n",
      "       -1.32482409e-01,  7.57719353e-02, -2.23060071e-01, -7.36604407e-02,\n",
      "       -8.86257365e-02, -2.70233303e-01,  5.20320423e-02, -7.71199446e-03,\n",
      "        5.82257994e-02,  2.72017904e-02, -1.50569648e-01, -7.05969781e-02,\n",
      "        3.73154461e-01, -2.95883000e-01, -2.86756735e-02, -3.26407194e-01,\n",
      "       -1.45694137e-01, -6.70360308e-03, -7.02897683e-02, -8.97368714e-02,\n",
      "       -4.12583560e-01, -9.71998796e-02, -2.25145575e-02, -6.92061856e-02,\n",
      "       -5.93718439e-02,  2.07478076e-01,  1.46301493e-01, -4.29194421e-02,\n",
      "       -1.60297051e-01, -2.18839630e-01, -1.88240036e-01, -6.58171698e-02,\n",
      "        1.75911441e-01, -8.19615573e-02, -1.38470858e-01,  2.29379013e-01,\n",
      "        1.25828996e-01, -2.24068388e-01, -6.49750978e-02, -1.79090828e-01,\n",
      "       -2.74260283e-01, -9.58695337e-02])), ('con', array([ 1.89473684e+00,  0.00000000e+00,  6.80000000e+02,  2.72000000e+02,\n",
      "        1.70000000e+01,  0.00000000e+00,  0.00000000e+00,  0.00000000e+00,\n",
      "        0.00000000e+00,  0.00000000e+00,  0.00000000e+00,  0.00000000e+00,\n",
      "        0.00000000e+00,  0.00000000e+00,  0.00000000e+00,  0.00000000e+00,\n",
      "        0.00000000e+00,  0.00000000e+00, -1.04655556e-01,  7.85509273e-02,\n",
      "       -2.45886564e-01,  1.16689421e-01, -1.87739149e-01, -5.08287102e-02,\n",
      "       -1.48073912e-01, -2.12120056e-01, -1.20081611e-01,  5.91229610e-02,\n",
      "        1.75657004e-01,  3.67695153e-01,  5.00734709e-02,  2.82235831e-01,\n",
      "       -1.09274372e-01,  5.44786230e-02, -3.66337061e-01,  2.13159218e-01,\n",
      "       -7.38363527e-03,  9.68014449e-02,  1.77485824e-01,  3.20800781e-01,\n",
      "       -2.43610382e-01, -2.12875769e-01, -5.53330109e-02, -9.27586332e-02,\n",
      "        6.49287924e-02, -2.46899694e-01, -2.95943856e-01,  5.19324914e-02,\n",
      "        4.34872687e-01, -2.80103445e-01,  1.26767263e-01, -3.25579867e-02,\n",
      "        7.80520439e-02, -6.83922833e-03, -8.03213492e-02, -1.30865502e-03,\n",
      "       -2.08583757e-01,  7.41555244e-02,  1.24673404e-01, -3.37417144e-03,\n",
      "       -3.03788275e-01,  1.68467611e-01,  2.06236005e-01,  5.73003851e-02,\n",
      "        4.08163778e-02, -5.02402037e-02,  9.99496356e-02,  3.26432362e-02,\n",
      "        7.38474280e-02, -4.49275002e-02, -1.41581401e-01,  8.38502496e-02,\n",
      "        2.21906126e-01,  3.11887600e-02,  1.27907857e-01, -1.99547485e-01,\n",
      "       -1.06337413e-01,  1.98932484e-01,  1.70206711e-01, -3.36670667e-01,\n",
      "       -7.17839822e-02,  4.23914976e-02, -2.39624470e-01,  1.02958821e-01,\n",
      "        3.00365090e-02,  4.68495041e-02,  2.04886720e-01, -1.16160773e-01,\n",
      "        1.40479088e-01,  2.40321662e-02, -1.05194673e-01, -7.43503273e-02,\n",
      "        2.51756936e-01, -1.11613214e-01,  7.61698857e-02, -6.48028553e-02,\n",
      "        2.26955280e-01, -2.04591900e-01,  1.62464842e-01, -1.97473794e-01,\n",
      "        3.16225775e-02,  1.97006091e-01, -1.42244488e-01,  3.30340564e-01,\n",
      "       -1.63819507e-01,  1.87193826e-01,  5.12809828e-02, -2.98716307e-01,\n",
      "        9.39552020e-03,  8.98686945e-02, -7.48267174e-02,  5.45564033e-02,\n",
      "        1.19537421e-01,  3.05963363e-02, -1.75165966e-01,  1.15959004e-01,\n",
      "       -2.61023603e-02,  4.19351161e-02,  6.51915818e-02, -1.66765358e-02,\n",
      "       -1.09311625e-01, -3.76140960e-02,  2.12965220e-01, -1.39775768e-01,\n",
      "       -1.62765309e-01,  2.51425892e-01, -1.25438020e-01, -7.66706020e-02,\n",
      "       -3.62539925e-02,  6.11773245e-02,  2.40452722e-01,  1.41193449e-01,\n",
      "       -1.82407066e-01, -1.26574328e-02,  8.84746015e-03,  4.22051102e-02,\n",
      "        7.10737258e-02,  1.81127302e-02, -3.04642946e-01,  3.13022196e-01,\n",
      "        1.28358573e-01,  1.19117498e-01,  1.32545188e-01, -1.58696368e-01,\n",
      "       -2.23984629e-01, -3.40132713e-02])), ('con', array([ 2.42105263e+00,  0.00000000e+00,  6.58000000e+02,  2.52000000e+02,\n",
      "        2.10000000e+01,  2.00000000e+00,  2.00000000e+00,  0.00000000e+00,\n",
      "        0.00000000e+00,  3.00000000e+01,  2.00000000e+00,  2.00000000e+00,\n",
      "        0.00000000e+00,  0.00000000e+00,  0.00000000e+00,  0.00000000e+00,\n",
      "        0.00000000e+00,  0.00000000e+00,  2.82579422e-01,  2.24615354e-02,\n",
      "        8.30416381e-02, -2.66484737e-01,  1.70721620e-01,  3.61967199e-02,\n",
      "        4.21811268e-02, -3.16225201e-01, -1.21008739e-01, -2.40268841e-01,\n",
      "       -1.95467919e-02,  1.38966024e-01, -1.77281663e-01, -2.99843132e-01,\n",
      "        5.94303794e-02,  6.14896305e-02,  3.74588929e-02,  3.68378237e-02,\n",
      "        1.21061876e-01,  1.77443922e-01, -1.78586975e-01,  2.02299327e-01,\n",
      "       -1.58200368e-01,  4.09777500e-02, -6.81044161e-02, -2.60000616e-01,\n",
      "        1.57489046e-01, -1.96144179e-01, -1.54520914e-01, -2.78936982e-01,\n",
      "        4.42010649e-02,  6.17913622e-03,  3.29006761e-02, -2.79243380e-01,\n",
      "        6.90065175e-02,  3.37047018e-02, -8.44655856e-02,  3.04666758e-01,\n",
      "       -7.10291117e-02, -3.65830474e-02,  1.34515315e-01,  1.23973384e-01,\n",
      "        8.69395770e-03,  1.62532806e-01,  1.39581397e-01,  9.53917392e-03,\n",
      "        1.11956401e-02, -7.77233690e-02, -4.04256443e-03,  1.81289598e-01,\n",
      "        7.18820617e-02, -3.25374454e-01, -4.09294255e-02,  8.05965140e-02,\n",
      "        2.00556040e-01,  3.76029722e-02, -1.51452959e-01, -1.35512844e-01,\n",
      "        1.78633660e-01, -1.39514059e-01,  3.30088474e-02, -2.01461911e-01,\n",
      "       -9.65392590e-02,  9.55949724e-02,  2.08578765e-01, -8.79333243e-02,\n",
      "        1.53058022e-02, -1.08699128e-01,  2.48908132e-01, -1.42981425e-01,\n",
      "        4.49842960e-02, -2.53200263e-01,  1.00722611e-01, -2.03434397e-02,\n",
      "        3.16841751e-01,  2.11372063e-01, -8.96605998e-02,  1.46345213e-01,\n",
      "        1.75709382e-01, -1.51320487e-01,  2.32172281e-01, -4.41593491e-02,\n",
      "       -1.72316849e-01,  4.05292865e-03, -2.83848941e-01, -1.51576981e-01,\n",
      "       -9.30263102e-02,  9.98273939e-02,  2.96510886e-02, -1.31185308e-01,\n",
      "       -2.45614201e-02,  3.73548567e-02,  2.94575095e-01,  1.59763008e-01,\n",
      "        3.44220959e-02, -2.44413570e-01, -1.47340462e-01,  8.49234462e-02,\n",
      "        6.81225359e-02, -2.48303175e-01,  2.54781067e-01, -1.20723806e-01,\n",
      "       -2.07740963e-01, -3.99291180e-02, -1.00690752e-01, -2.25530695e-02,\n",
      "       -9.11868736e-02, -4.51018997e-02, -9.96362343e-02, -1.02548696e-01,\n",
      "       -6.23619519e-02,  1.10786647e-01,  1.97155982e-01,  1.54729277e-01,\n",
      "       -2.22021550e-01,  1.37121603e-01, -1.63754582e-01, -8.31065774e-02,\n",
      "       -5.04374206e-02, -1.41159713e-01,  6.23598099e-02,  1.90493539e-01,\n",
      "       -6.06992543e-02,  1.40832603e-01,  1.81147873e-01, -1.41339436e-01,\n",
      "        1.34369969e-01, -5.47454320e-02])), ('con', array([ 2.52173913e+00,  5.87761675e-02,  1.24000000e+03,  4.61000000e+02,\n",
      "        3.50000000e+01,  6.00000000e+00,  6.00000000e+00,  1.00000000e+00,\n",
      "        1.00000000e+00,  1.50000000e+01,  3.00000000e+00,  3.00000000e+00,\n",
      "        0.00000000e+00,  0.00000000e+00,  0.00000000e+00,  0.00000000e+00,\n",
      "        0.00000000e+00,  0.00000000e+00, -2.31842905e-01, -9.93409753e-02,\n",
      "        9.49721318e-03,  1.04772657e-01,  4.86938059e-02, -1.13511838e-01,\n",
      "        4.84885229e-03, -4.61908616e-02, -2.58082420e-01, -2.19405785e-01,\n",
      "        1.83049560e-01, -8.51141959e-02, -1.64370686e-01,  9.39161181e-02,\n",
      "       -8.53717607e-03,  4.40532006e-02, -3.22104901e-01,  3.01664114e-01,\n",
      "       -1.32627591e-01,  1.16343744e-01,  3.58546749e-02, -8.78893863e-03,\n",
      "       -1.18254334e-01,  7.97398314e-02,  1.62111893e-01,  4.51165996e-03,\n",
      "       -4.14527915e-02,  5.52118430e-03, -2.53466636e-01,  1.62191316e-01,\n",
      "        3.55486684e-02, -4.87440675e-02,  1.08648077e-01, -1.38552308e-01,\n",
      "        2.76356280e-01,  2.15045869e-01,  1.00120239e-01,  2.05923188e-02,\n",
      "       -2.17025623e-01, -2.16612712e-01, -2.54378673e-02,  1.43195286e-01,\n",
      "       -2.64956336e-02, -2.00047776e-01, -3.52320746e-02, -4.24290560e-02,\n",
      "       -3.38523574e-02,  2.60044605e-01,  1.30705237e-01,  1.90809220e-02,\n",
      "       -1.32743679e-02, -3.30872864e-01, -9.20475051e-02, -1.32045984e-01,\n",
      "        1.95235595e-01,  1.93039924e-01, -1.19234324e-02, -1.20309331e-01,\n",
      "        4.09487113e-02,  1.03491068e-01, -1.23662353e-01, -2.72595286e-01,\n",
      "       -2.30051816e-01,  4.63388339e-02, -1.93513617e-01,  1.27106264e-01,\n",
      "        2.92376608e-01,  3.69042568e-02,  1.98042214e-01,  9.65107325e-03,\n",
      "        1.63600832e-01, -3.12709540e-01, -1.50294602e-01, -1.00112773e-01,\n",
      "        3.04852277e-02, -3.02233137e-02,  4.17524111e-03,  7.51475617e-02,\n",
      "        2.46155396e-01,  3.75758521e-02,  1.10648714e-01, -5.44498861e-02,\n",
      "       -4.88300063e-02,  2.78443038e-01, -1.35659009e-01, -1.72056258e-01,\n",
      "       -7.34473318e-02, -2.15674087e-01,  1.24882720e-01, -6.40724748e-02,\n",
      "        2.31043678e-02, -1.70345217e-01,  1.38458252e-01,  7.26470351e-03,\n",
      "       -3.07671558e-02, -7.20638037e-02, -3.99045832e-02,  1.49325266e-01,\n",
      "        3.63645777e-02,  7.03240633e-02, -1.15902215e-01, -1.00701950e-01,\n",
      "       -8.26521218e-02, -2.37009183e-01,  2.96432585e-01,  3.73553194e-04,\n",
      "        3.96390930e-02,  2.56221652e-01, -2.79738784e-01, -2.97615319e-01,\n",
      "        8.10168404e-03,  3.60762589e-02,  1.50552213e-01, -1.34337574e-01,\n",
      "       -1.15924828e-01, -6.96168393e-02,  4.44627889e-02, -1.06201738e-01,\n",
      "       -2.15454735e-02, -2.53644109e-01, -4.10778224e-01,  1.31695820e-02,\n",
      "       -3.06311175e-02, -1.67733431e-01,  1.29317403e-01,  1.83439199e-02,\n",
      "       -6.89551011e-02, -1.49252668e-01])), ('con', array([ 2.00000000e+00,  0.00000000e+00,  5.47000000e+02,  2.50000000e+02,\n",
      "        1.80000000e+01,  1.00000000e+00,  0.00000000e+00,  0.00000000e+00,\n",
      "        0.00000000e+00,  0.00000000e+00,  0.00000000e+00,  0.00000000e+00,\n",
      "        0.00000000e+00,  0.00000000e+00,  0.00000000e+00,  0.00000000e+00,\n",
      "        0.00000000e+00,  0.00000000e+00,  2.01109529e-01, -3.72323573e-01,\n",
      "       -1.34209380e-01,  7.23036230e-02,  3.98934260e-03, -2.30211332e-01,\n",
      "       -1.30466461e-01, -3.55349928e-02, -4.11946811e-02, -6.55620098e-02,\n",
      "        2.37686500e-01,  3.01338404e-01,  2.01195106e-01,  3.01048458e-02,\n",
      "        1.87490005e-02,  1.31354593e-02, -1.31679550e-01,  5.61945215e-02,\n",
      "       -8.54060799e-02,  3.12485456e-01, -5.91734722e-02,  8.42084289e-02,\n",
      "       -1.95240319e-01, -1.71142787e-01,  3.71520519e-02, -1.18470103e-01,\n",
      "       -6.59759417e-02, -3.81817222e-01, -1.80127606e-01,  1.11073568e-01,\n",
      "        5.77737130e-02, -1.84444860e-01,  1.94920093e-01, -1.77281871e-01,\n",
      "       -5.80577776e-02,  1.42380953e-01, -1.54230073e-01,  1.30024955e-01,\n",
      "       -1.97301000e-01, -1.35143325e-01,  9.91432890e-02,  2.10411444e-01,\n",
      "       -1.29543260e-01,  1.81048334e-01,  2.69962311e-01, -3.10730692e-02,\n",
      "        1.65307432e-01, -6.93461448e-02,  9.64980200e-02, -6.68186843e-02,\n",
      "       -4.46826555e-02, -2.02939972e-01, -8.32113922e-02, -1.54942825e-01,\n",
      "        1.51910540e-02,  6.83671162e-02, -1.35521263e-01, -8.59806538e-02,\n",
      "        3.73572484e-02, -2.06423640e-01,  8.02319497e-02, -1.75964221e-01,\n",
      "       -1.13551661e-01, -3.14521790e-02,  1.10379199e-03, -4.13800143e-02,\n",
      "       -8.34970698e-02, -9.48376730e-02,  2.53235251e-01,  4.12772559e-02,\n",
      "       -7.99222514e-02, -1.11533664e-01, -2.02154741e-01, -2.04340845e-01,\n",
      "        8.54056403e-02, -9.32665467e-02, -3.53777856e-01,  8.31317715e-03,\n",
      "        9.95369479e-02, -3.43243271e-01, -6.78979009e-02, -1.30961528e-02,\n",
      "       -1.57140613e-01,  2.11170912e-01, -2.31259748e-01, -1.58093199e-02,\n",
      "        2.55308039e-02, -5.78830484e-03,  1.76211163e-01, -3.49722989e-02,\n",
      "       -1.77129343e-01,  6.15733080e-02,  1.78139016e-01, -4.32539582e-02,\n",
      "       -1.56823084e-01, -4.74759303e-02,  1.35904681e-02, -8.83257091e-02,\n",
      "       -1.58814058e-01, -2.71731526e-01,  7.73276910e-02, -1.51026532e-01,\n",
      "       -1.30366370e-01, -5.76137118e-02,  6.23633116e-02, -1.93282351e-01,\n",
      "       -1.49314985e-01,  1.09305166e-01, -3.34491692e-02, -2.89843678e-01,\n",
      "       -2.41042838e-01, -3.80697176e-02,  9.78143066e-02,  1.35224149e-01,\n",
      "       -2.28372604e-01,  2.35897806e-02, -9.77118965e-03,  6.50727674e-02,\n",
      "       -5.63871264e-02, -2.44352087e-01, -3.88573766e-01,  1.64135695e-01,\n",
      "        5.98441437e-02,  2.09351242e-01,  2.14311466e-01, -1.26555964e-01,\n",
      "        1.44713111e-02, -1.05047002e-01])), ('con', array([ 2.60869565e+00,  8.82160110e-02,  1.23400000e+03,  4.46000000e+02,\n",
      "        5.60000000e+01,  1.70000000e+01,  1.60000000e+01,  2.00000000e+00,\n",
      "        0.00000000e+00,  0.00000000e+00,  0.00000000e+00,  0.00000000e+00,\n",
      "        0.00000000e+00,  0.00000000e+00,  0.00000000e+00,  0.00000000e+00,\n",
      "        0.00000000e+00,  0.00000000e+00, -1.00544110e-01, -2.80550659e-01,\n",
      "       -1.18803218e-01,  1.87924370e-01,  8.38794634e-02, -2.51369745e-01,\n",
      "       -1.17760330e-01, -1.37475267e-01, -2.03989819e-01, -2.56473690e-01,\n",
      "        2.88348466e-01,  1.96428031e-01,  1.11835003e-01, -2.27812469e-01,\n",
      "       -1.29322037e-02,  1.70171216e-01, -1.92070812e-01,  2.02900872e-01,\n",
      "       -1.04430743e-01,  3.27210128e-01, -1.27485087e-02,  9.82891992e-02,\n",
      "       -1.82902321e-01,  1.70600817e-01, -6.54489398e-02, -1.48758322e-01,\n",
      "        1.67104036e-01,  4.47305813e-02, -1.10274702e-01, -5.28418757e-02,\n",
      "       -2.60784850e-03,  2.57939361e-02,  1.91486806e-01, -1.55060008e-01,\n",
      "       -6.87511861e-02,  2.69004673e-01, -8.06683078e-02, -3.43384594e-02,\n",
      "        3.89475860e-02, -8.76440108e-02, -9.15993601e-02,  2.28001326e-01,\n",
      "       -2.72303909e-01,  1.44450948e-01,  1.47919074e-01,  5.51163107e-02,\n",
      "        4.88564000e-02, -1.20246738e-01,  3.52986574e-01, -8.54112953e-02,\n",
      "       -8.01096410e-02, -2.05362841e-01, -1.14882030e-01, -3.25202979e-02,\n",
      "       -6.81794202e-03,  2.13922426e-01, -2.34232187e-01,  5.16533069e-02,\n",
      "       -5.94890229e-02,  2.93415338e-01, -2.24657403e-03, -3.66694599e-01,\n",
      "       -5.68694025e-02, -1.08876348e-01, -7.72314295e-02, -3.63896303e-02,\n",
      "       -7.72989169e-02, -7.94237331e-02,  1.29757017e-01,  1.14920810e-02,\n",
      "        1.44019172e-01,  5.32570370e-02,  8.83194245e-03, -6.06024861e-02,\n",
      "       -1.49136230e-01,  1.21956289e-01, -2.47865900e-01, -5.66014228e-03,\n",
      "       -9.91547927e-02, -1.59460995e-02, -5.12940176e-02, -1.68087542e-01,\n",
      "       -1.12103119e-01,  9.34634507e-02, -3.13892215e-01, -1.04780560e-02,\n",
      "       -3.26596856e-01,  1.72742456e-01, -1.76432982e-01, -1.26130417e-01,\n",
      "        1.22140668e-01, -8.45980421e-02,  9.50209647e-02,  2.36530125e-01,\n",
      "        7.64543414e-02,  1.06657639e-01, -1.61869243e-01,  1.16806738e-01,\n",
      "        1.46692321e-01,  3.51014063e-02, -1.14850089e-01,  2.47065090e-02,\n",
      "       -1.06159896e-01, -2.53282338e-01,  1.03945002e-01, -7.12889731e-02,\n",
      "       -1.72015309e-01,  1.41593054e-01, -9.62121487e-02,  9.05450583e-02,\n",
      "        3.74623872e-02,  1.25948831e-01,  1.61894381e-01,  1.00536488e-01,\n",
      "       -1.59571022e-01, -4.20903005e-02, -2.89679676e-01,  7.52583742e-02,\n",
      "        8.27106014e-02, -1.00248627e-01, -3.95259589e-01,  3.51186353e-03,\n",
      "       -1.03739552e-01, -5.44615611e-02, -1.40445322e-01, -9.76895615e-02,\n",
      "       -2.38568455e-01, -1.23896994e-01])), ('con', array([ 2.14285714e+00,  0.00000000e+00,  2.53700000e+03,  6.98000000e+02,\n",
      "        3.50000000e+01,  3.00000000e+00,  3.00000000e+00,  0.00000000e+00,\n",
      "        0.00000000e+00,  0.00000000e+00,  0.00000000e+00,  0.00000000e+00,\n",
      "        0.00000000e+00,  0.00000000e+00,  0.00000000e+00,  0.00000000e+00,\n",
      "        0.00000000e+00,  0.00000000e+00, -1.56850889e-01, -1.22407407e-01,\n",
      "       -8.02317411e-02,  2.74824977e-01,  7.09273145e-02, -6.11293614e-02,\n",
      "       -3.63533832e-02, -1.13928132e-02, -3.42986919e-02, -6.02498017e-02,\n",
      "        2.07895845e-01,  8.26195702e-02, -8.45769607e-03,  1.52894348e-01,\n",
      "       -3.57508689e-01,  4.59491499e-02, -2.98694044e-01, -2.32585222e-01,\n",
      "       -1.98121637e-01,  2.96067186e-02, -8.93795043e-02,  3.23803663e-01,\n",
      "       -5.21708503e-02,  1.14253806e-02,  3.98578355e-03, -1.86301768e-02,\n",
      "        1.43755719e-01, -3.99133787e-02,  2.67286450e-02,  4.92507638e-03,\n",
      "       -1.77080527e-01, -5.59094036e-03,  4.16754112e-02,  5.50780371e-02,\n",
      "        3.61384340e-02, -1.40738934e-01, -9.49697345e-02, -1.02974083e-02,\n",
      "       -4.25964147e-02, -6.39716685e-02,  8.03509802e-02,  2.57247128e-02,\n",
      "        6.78959712e-02,  1.43603096e-02, -1.84535980e-01, -1.64275542e-01,\n",
      "       -1.99036598e-01,  2.13159490e-02,  5.66785969e-02, -9.79157463e-02,\n",
      "       -5.19924499e-02, -2.93725997e-01,  8.40640441e-02, -2.21134305e-01,\n",
      "       -4.74312017e-03,  1.82901174e-02, -4.84263599e-02, -2.18047276e-01,\n",
      "       -2.57925510e-01,  2.66054571e-02,  1.06128445e-02,  1.17717579e-01,\n",
      "       -1.53927341e-01,  1.01047091e-01, -5.50563149e-02, -5.34740742e-03,\n",
      "       -1.06936656e-02, -2.12400123e-01, -3.61091346e-02,  4.73506637e-02,\n",
      "        7.50315422e-03, -3.55403244e-01,  2.52308756e-01, -1.90130338e-01,\n",
      "        9.98464078e-02,  2.12805659e-01, -3.05801064e-01, -3.10161561e-01,\n",
      "        4.57519218e-02,  8.45633447e-02,  5.98391555e-02, -6.18635230e-02,\n",
      "       -6.69993162e-02,  2.54048496e-01, -2.21140340e-01, -1.33571818e-01,\n",
      "       -2.89734393e-01,  3.24164659e-01, -3.33502293e-01, -3.12838644e-01,\n",
      "       -2.41671741e-01, -1.58105701e-01, -3.82502340e-02, -7.68605247e-02,\n",
      "        6.20912910e-02, -7.07987174e-02,  6.28676638e-02,  3.33070010e-02,\n",
      "        2.60855287e-01, -1.54146463e-01,  1.32141426e-01, -1.18032478e-01,\n",
      "        8.75547379e-02,  8.96689594e-02,  7.47608095e-02, -3.86353135e-02,\n",
      "       -1.73216790e-01,  6.86285843e-04, -1.78021744e-01,  1.48061374e-02,\n",
      "       -2.13181436e-01,  1.26001820e-01,  3.00435210e-03, -2.45154444e-02,\n",
      "        9.49835777e-02,  1.04772106e-01, -3.30260992e-01,  3.79613526e-02,\n",
      "        6.66150302e-02, -3.76429081e-01, -1.52805999e-01, -1.69266891e-02,\n",
      "       -4.62528691e-02, -2.09783167e-01,  9.48394015e-02, -1.20371580e-01,\n",
      "       -2.44593322e-02,  1.46802947e-01])), ('con', array([ 2.33333333e+00,  0.00000000e+00,  5.16000000e+02,  2.64000000e+02,\n",
      "        2.80000000e+01,  5.00000000e+00,  3.00000000e+00,  0.00000000e+00,\n",
      "        0.00000000e+00,  0.00000000e+00,  0.00000000e+00,  0.00000000e+00,\n",
      "        0.00000000e+00,  0.00000000e+00,  0.00000000e+00,  0.00000000e+00,\n",
      "        0.00000000e+00,  0.00000000e+00, -1.55729786e-01,  7.40910098e-02,\n",
      "       -1.81864187e-01, -9.62393265e-03,  2.11292669e-01, -2.27284759e-01,\n",
      "       -1.40735954e-01, -2.62418658e-01,  2.38747392e-02,  2.74580985e-01,\n",
      "        3.42432499e-01, -1.39820322e-01,  1.74742386e-01, -2.16755986e-01,\n",
      "       -7.32694790e-02,  1.51765347e-01,  5.51112294e-02, -1.61801390e-02,\n",
      "       -5.68089075e-03,  1.38458252e-01, -7.33599067e-03,  2.13677123e-01,\n",
      "       -2.30917767e-01,  8.39306414e-02,  1.38621256e-01,  3.83966714e-02,\n",
      "        6.24602139e-02, -2.77243882e-01,  7.18088225e-02, -1.45836934e-01,\n",
      "        1.62890986e-01, -6.72873557e-02,  8.19595903e-02, -2.84629673e-01,\n",
      "        3.11238617e-01, -5.58500253e-02, -4.47911099e-02, -1.24098426e-02,\n",
      "        1.33235604e-01, -4.61326949e-02, -1.60333663e-02,  1.64961696e-01,\n",
      "       -1.98481947e-01, -6.99121729e-02,  2.37736329e-01,  5.78851774e-02,\n",
      "        3.83116454e-02,  1.13632925e-01,  1.06110491e-01,  3.48112375e-01,\n",
      "        2.76859850e-01,  6.46586865e-02, -3.00091267e-01, -9.30819735e-02,\n",
      "        1.19182132e-01,  5.47932694e-03, -4.98507954e-02, -1.91406552e-02,\n",
      "       -1.17164299e-01,  2.52866775e-01,  2.04707548e-01, -3.30392659e-01,\n",
      "       -1.12957299e-01, -4.44049090e-02, -2.02516437e-01,  1.61562592e-01,\n",
      "       -1.79680571e-01, -1.96152776e-01, -1.28940726e-02, -1.13590814e-01,\n",
      "       -1.05820835e-01,  1.79757327e-01,  6.25081807e-02,  8.87453631e-02,\n",
      "        2.19148606e-01, -4.31851372e-02, -1.35621941e-02,  6.08161055e-02,\n",
      "        7.85086155e-02,  3.88460308e-02,  1.01911038e-01, -2.87033081e-01,\n",
      "        2.24311203e-02,  1.30912945e-01, -1.46464348e-01, -2.57059574e-01,\n",
      "       -4.50740904e-02,  1.41512871e-01, -1.60434209e-02, -9.11101252e-02,\n",
      "       -7.69459642e-03,  4.98925969e-02, -1.50691807e-01,  4.26497385e-02,\n",
      "       -1.39935046e-01, -1.03124708e-01, -2.25693271e-01, -3.36272120e-02,\n",
      "        3.17096263e-01, -1.96432546e-01, -1.68102831e-01, -7.04415292e-02,\n",
      "       -1.35833710e-01,  1.64492860e-01,  1.74081787e-01, -1.81792885e-01,\n",
      "       -2.79807001e-02, -2.17921752e-02, -2.39507988e-01, -2.22784933e-02,\n",
      "       -2.92262226e-01, -1.83128148e-01,  4.58738655e-02, -1.38442293e-01,\n",
      "       -1.78099111e-01, -6.92359433e-02, -1.00052990e-01, -1.56802163e-01,\n",
      "       -1.43397748e-02, -1.68824151e-01, -1.36303619e-01, -7.32866004e-02,\n",
      "        4.64067049e-02,  1.60513490e-01,  2.62344349e-03, -2.30585828e-01,\n",
      "       -8.79591852e-02,  2.04902261e-01])), ('con', array([ 2.64000000e+00,  4.87407407e-02,  1.63800000e+03,  5.73000000e+02,\n",
      "        4.80000000e+01,  8.00000000e+00,  8.00000000e+00,  0.00000000e+00,\n",
      "        2.00000000e+00,  1.70000000e+01,  3.00000000e+00,  3.00000000e+00,\n",
      "        0.00000000e+00,  0.00000000e+00,  0.00000000e+00,  0.00000000e+00,\n",
      "        0.00000000e+00,  0.00000000e+00,  1.12385660e-01,  1.40474677e-01,\n",
      "       -1.04508512e-01,  1.31102162e-03,  6.05574101e-02, -3.11322331e-01,\n",
      "       -3.29446644e-02,  1.08674519e-01, -1.83652312e-01,  1.24889556e-02,\n",
      "       -1.27261691e-02,  4.72440664e-03, -7.93762505e-04,  3.56561631e-01,\n",
      "        2.60114037e-02,  2.76481807e-02, -1.68748379e-01,  9.89244282e-02,\n",
      "        4.20999564e-02,  3.32063675e-01,  4.92604375e-02, -1.28221856e-02,\n",
      "       -6.28824085e-02, -4.74754861e-03,  6.21178448e-02,  6.31069094e-02,\n",
      "        6.86432049e-02,  1.27183676e-01,  7.58683123e-03, -4.99443114e-02,\n",
      "        1.01362638e-01, -2.06265226e-01,  1.02857612e-01, -6.83385357e-02,\n",
      "        1.45248592e-01,  4.52548340e-02, -1.72823712e-01,  2.39328798e-02,\n",
      "        4.07678895e-02, -2.66879529e-01, -1.24220792e-02,  2.03883767e-01,\n",
      "        3.09980065e-02, -1.25877429e-02,  1.49522096e-01,  8.56942758e-02,\n",
      "        3.56689654e-02,  1.38456866e-01, -2.76947324e-03,  2.66854823e-01,\n",
      "        1.40603393e-01, -1.54002607e-01, -1.76419634e-02, -1.20891482e-01,\n",
      "        3.02828997e-01,  1.71551132e-03, -3.28505747e-02, -1.03155412e-01,\n",
      "        4.30877693e-02,  1.49609983e-01,  1.73112173e-02, -1.79199651e-01,\n",
      "       -4.89838794e-02,  6.37728125e-02,  1.79595426e-02, -5.52664846e-02,\n",
      "        2.36598283e-01,  2.54169237e-02,  1.34569541e-01,  1.78720891e-01,\n",
      "       -4.17825999e-03, -6.20214827e-02, -1.89398766e-01, -9.92652103e-02,\n",
      "        1.31480291e-01,  5.56117415e-01, -2.37410769e-01, -2.37558439e-01,\n",
      "       -8.61474946e-02, -6.10728301e-02, -3.99502777e-02,  1.23337351e-01,\n",
      "       -1.20087609e-01, -1.23006277e-01, -6.44516349e-02,  7.40156397e-02,\n",
      "        4.01411876e-02, -8.18360075e-02, -2.36232772e-01,  2.82244626e-02,\n",
      "        5.50841540e-02, -2.78327286e-01,  9.12594646e-02, -1.33898675e-01,\n",
      "        1.24468785e-02, -2.13071242e-01, -1.38770014e-01,  3.08339447e-01,\n",
      "       -1.74779490e-01, -3.54558557e-01,  2.04208374e-01, -8.73563439e-02,\n",
      "       -1.17438875e-01, -8.38171616e-02,  1.83629304e-01, -1.61839724e-01,\n",
      "       -3.29350233e-02,  2.53732651e-01, -2.72614390e-01, -1.28805950e-01,\n",
      "        2.06877008e-01, -9.37333703e-02,  1.83667138e-01, -3.20997357e-01,\n",
      "       -2.06731886e-01,  1.92137688e-01,  4.34897840e-02, -3.54561731e-02,\n",
      "        2.64820959e-02, -6.99293464e-02,  1.15937509e-01,  1.56201258e-01,\n",
      "        8.56420547e-02,  5.51477782e-02,  5.37658297e-02, -3.18445832e-01,\n",
      "       -1.12737985e-02,  1.06666712e-02])), ('con', array([ 2.00000000e+00,  0.00000000e+00,  3.60000000e+01,  3.50000000e+01,\n",
      "        6.00000000e+00,  0.00000000e+00,  0.00000000e+00,  0.00000000e+00,\n",
      "        0.00000000e+00,  5.00000000e+00,  1.00000000e+00,  1.00000000e+00,\n",
      "        0.00000000e+00,  0.00000000e+00,  0.00000000e+00,  0.00000000e+00,\n",
      "        0.00000000e+00,  0.00000000e+00,  4.13529668e-03,  4.15561758e-02,\n",
      "        1.73778981e-02,  1.89959824e-01, -3.43252659e-01,  2.24474043e-01,\n",
      "       -5.40368818e-02, -3.00656319e-01, -1.10322930e-01, -2.36964971e-01,\n",
      "        1.24194967e-02,  2.57758409e-01,  1.38299480e-01,  7.47627541e-02,\n",
      "       -1.49129897e-01, -1.06601551e-01,  1.43256215e-02,  6.76419586e-02,\n",
      "        7.16206059e-02,  1.26971856e-01,  1.25559410e-02, -9.13115144e-02,\n",
      "        1.52789727e-02,  7.93868862e-03,  1.43527519e-04, -2.68172145e-01,\n",
      "        1.67132288e-01, -1.00466862e-01,  6.64986968e-02, -5.06459363e-02,\n",
      "       -4.19801809e-02, -2.67822206e-01,  1.94903731e-01, -1.09333225e-01,\n",
      "       -9.50166136e-02, -1.26549646e-01, -4.67262566e-02,  2.03814264e-03,\n",
      "        1.49694011e-01, -2.62301087e-01, -1.32511869e-01,  3.26942235e-01,\n",
      "       -9.51855406e-02,  9.12812576e-02,  2.30027750e-01,  2.76506305e-01,\n",
      "       -2.25905165e-01, -6.46395385e-02, -9.13219005e-02,  1.83259010e-01,\n",
      "       -2.50361729e-02, -1.33044988e-01, -2.53060699e-01,  1.84470803e-01,\n",
      "        2.39309177e-01,  1.69184823e-02, -1.13379553e-01, -2.53619522e-01,\n",
      "       -1.36042992e-02,  2.43071705e-01,  1.00801587e-01, -2.69971341e-01,\n",
      "       -5.36046214e-02, -3.89972776e-02,  1.94703579e-01, -1.47610083e-01,\n",
      "       -1.78187452e-02, -1.30760893e-01, -4.37976718e-02, -3.01069617e-02,\n",
      "        2.05280900e-01,  2.41259076e-02, -5.33913411e-02,  1.75097704e-01,\n",
      "        1.02896735e-01,  1.41861439e-01, -1.87488228e-01, -1.63206890e-01,\n",
      "       -2.06163108e-01, -2.35156223e-01, -1.10082313e-01, -3.60283554e-01,\n",
      "       -6.41599894e-02,  1.84585750e-02, -4.13359702e-01, -7.84292445e-02,\n",
      "       -2.90766269e-01,  2.17721432e-01, -2.80897487e-02,  7.38220587e-02,\n",
      "       -1.96491256e-02,  2.54730619e-02, -1.02927059e-01, -5.59664108e-02,\n",
      "        1.08162522e-01, -1.66546792e-01, -2.96227932e-01,  2.82420721e-02,\n",
      "        3.97080094e-01,  2.29100697e-02, -6.40968308e-02,  1.50776319e-02,\n",
      "       -3.30989003e-01,  1.86890498e-01, -1.55033857e-01, -2.31383696e-01,\n",
      "       -2.88293868e-01,  2.51488209e-01, -3.28704447e-01, -2.12636694e-01,\n",
      "       -8.36632028e-02, -1.74415275e-01, -3.39174643e-03, -4.42088135e-02,\n",
      "       -1.53726384e-01,  3.44806202e-02, -2.49038786e-01,  2.45458826e-01,\n",
      "        1.92933336e-01, -3.55803847e-01, -8.63006264e-02, -1.56380564e-01,\n",
      "       -2.38325633e-02, -1.65960759e-01, -2.36400530e-01,  1.69160366e-02,\n",
      "       -5.14754355e-02, -1.43762335e-01])), ('con', array([ 1.78947368e+00,  0.00000000e+00,  6.96000000e+02,  2.57000000e+02,\n",
      "        1.60000000e+01,  0.00000000e+00,  0.00000000e+00,  0.00000000e+00,\n",
      "        0.00000000e+00,  0.00000000e+00,  0.00000000e+00,  0.00000000e+00,\n",
      "        0.00000000e+00,  0.00000000e+00,  0.00000000e+00,  0.00000000e+00,\n",
      "        0.00000000e+00,  0.00000000e+00,  3.05868592e-02, -6.45356029e-02,\n",
      "       -1.82885602e-01,  1.13937899e-01,  2.15999305e-01, -1.21428922e-01,\n",
      "       -5.57953119e-02,  1.03113903e-02, -7.31410161e-02, -1.99968800e-01,\n",
      "        2.40949139e-01,  3.03200215e-01,  2.68836796e-01,  2.17845768e-01,\n",
      "       -6.39968738e-02,  1.66535750e-01, -2.21405149e-01, -7.11933300e-02,\n",
      "        7.02998182e-03,  2.17538804e-01, -1.35371745e-01,  1.45384282e-01,\n",
      "       -1.90118909e-01, -7.46742040e-02, -2.54415482e-01, -2.69580692e-01,\n",
      "       -1.35094374e-01, -1.94573000e-01, -2.87084550e-01, -7.55340755e-02,\n",
      "       -1.65209457e-01, -1.44261673e-01,  7.60479718e-02, -9.31171328e-02,\n",
      "        8.84184390e-02, -2.03160390e-01,  1.20702647e-02,  2.71121711e-01,\n",
      "       -1.07330456e-01, -1.64973423e-01,  2.45558247e-01,  7.78610855e-02,\n",
      "        8.16699192e-02,  7.41144046e-02,  3.48224521e-01,  3.90832685e-02,\n",
      "       -3.14337462e-01, -2.39947021e-01,  2.14515120e-01,  1.59255013e-01,\n",
      "        4.68280353e-02, -8.84577408e-02,  3.03003639e-02, -9.52231511e-02,\n",
      "        1.67689756e-01, -2.95936912e-01, -5.95581159e-02, -1.76041517e-02,\n",
      "       -6.58956245e-02, -7.98475146e-02,  2.27154166e-01, -4.16323803e-02,\n",
      "       -3.05380989e-02, -1.68854818e-01, -3.91504727e-02, -2.32400745e-02,\n",
      "        2.00361192e-01, -3.22580598e-02,  1.23617209e-01, -9.02015567e-02,\n",
      "       -7.53924772e-02,  1.51578620e-01,  1.16212957e-01,  2.75373608e-02,\n",
      "        2.35860631e-01, -7.34655932e-02, -4.36143875e-01,  3.42818908e-02,\n",
      "        2.47977704e-01,  3.34915482e-02,  8.65358561e-02,  1.62245095e-01,\n",
      "       -3.09095476e-02,  2.17387736e-01, -1.70451343e-01, -4.81454236e-03,\n",
      "        1.61116347e-02,  1.49474957e-03, -4.46642600e-02, -1.19716689e-01,\n",
      "       -1.48614466e-01, -1.64964154e-01, -2.58077353e-01, -3.08985934e-02,\n",
      "       -9.65970457e-02, -2.05549702e-01,  3.52892056e-02, -1.68730155e-01,\n",
      "       -9.54036936e-02, -2.85479784e-01,  2.09219560e-01,  1.56186208e-01,\n",
      "       -1.34332359e-01, -1.71567462e-02,  1.29409820e-01, -8.72754753e-02,\n",
      "       -1.11286730e-01, -1.31736463e-02, -1.97110340e-01, -1.20241792e-04,\n",
      "       -3.72591964e-03,  2.44909227e-01,  1.97776988e-01, -1.52081490e-01,\n",
      "       -3.17131355e-02,  1.11461423e-01, -2.51462162e-01,  1.15758941e-01,\n",
      "       -1.67882591e-01,  4.71240766e-02, -1.98502034e-01,  1.47462860e-01,\n",
      "        1.56011712e-02, -8.41993615e-02,  8.98968875e-02, -3.24891359e-01,\n",
      "       -2.15033695e-01, -1.11217946e-01])), ('con', array([ 2.00000000e+00,  0.00000000e+00,  9.70000000e+02,  3.23000000e+02,\n",
      "        1.80000000e+01,  0.00000000e+00,  0.00000000e+00,  0.00000000e+00,\n",
      "        0.00000000e+00,  1.70000000e+01,  1.00000000e+00,  1.00000000e+00,\n",
      "        0.00000000e+00,  0.00000000e+00,  0.00000000e+00,  0.00000000e+00,\n",
      "        0.00000000e+00,  0.00000000e+00, -4.11112532e-02, -5.30250035e-02,\n",
      "       -1.03321925e-01,  2.89097458e-01,  1.06862292e-01,  1.56819428e-04,\n",
      "        1.31637305e-01, -1.95156232e-01, -1.18262365e-01, -3.74625385e-01,\n",
      "        2.95265108e-01,  1.30788639e-01,  1.63212895e-01,  2.18396381e-01,\n",
      "       -9.72192883e-02, -4.76340018e-02, -9.61203575e-02,  7.70024210e-02,\n",
      "        1.88080907e-01,  3.41365248e-01,  3.73326093e-02,  6.86062872e-02,\n",
      "        3.34169455e-02,  2.34672770e-01, -6.12431541e-02, -2.00841561e-01,\n",
      "        1.40063226e-01, -2.08704039e-01,  1.76468849e-01, -1.62598595e-01,\n",
      "       -3.57776545e-02, -4.00677733e-02,  2.21729934e-01, -8.75363424e-02,\n",
      "       -1.16016686e-01, -1.63590014e-01,  3.29213589e-01,  8.87308866e-02,\n",
      "        3.01973652e-02, -4.60984051e-01, -1.11083694e-01,  2.36193895e-01,\n",
      "       -1.10178895e-01,  5.41325621e-02,  3.86604443e-02,  2.88724620e-02,\n",
      "        2.45392416e-02,  4.51056473e-02,  2.27824032e-01,  3.33190948e-01,\n",
      "       -7.69094154e-02, -2.09553733e-01,  1.02304351e-02, -2.21391752e-01,\n",
      "        2.74533331e-01,  6.11382276e-02, -1.47501826e-01, -1.93938576e-02,\n",
      "       -1.81259871e-01,  4.59864363e-02, -4.87865228e-03, -6.53433129e-02,\n",
      "       -1.64360061e-01,  1.04163915e-01, -1.82786155e-02, -7.55556077e-02,\n",
      "       -1.85814202e-01, -2.94997413e-02,  2.76954174e-01, -8.37990791e-02,\n",
      "        9.69867781e-02, -1.95360277e-02,  1.34046733e-01, -1.76701784e-01,\n",
      "        1.20614439e-01, -2.29588196e-01,  5.74571192e-02,  1.28628001e-01,\n",
      "       -1.77855253e-01, -1.61943212e-01,  1.23721808e-01, -3.42176370e-02,\n",
      "       -2.61094362e-01,  3.64366509e-02, -1.08432099e-01,  6.51287884e-02,\n",
      "       -1.20228343e-01, -6.04418479e-02,  4.19322550e-02, -1.21992990e-01,\n",
      "       -1.84485823e-01, -8.07981193e-02, -1.86397299e-01,  6.25447044e-03,\n",
      "        8.23600665e-02, -1.43136337e-01,  1.15627363e-01,  1.90573379e-01,\n",
      "        3.24529439e-01, -3.07599187e-01, -9.43168625e-02, -1.85907528e-01,\n",
      "        3.08752526e-02,  1.76405996e-01,  2.11163402e-01,  7.11130947e-02,\n",
      "       -7.04799667e-02, -1.50678381e-01, -9.10822377e-02, -7.99969062e-02,\n",
      "        2.46713571e-02,  4.19236394e-03, -5.00213318e-02, -2.54887491e-01,\n",
      "       -2.31760234e-01, -2.01169208e-01, -9.84450206e-02,  1.39414027e-01,\n",
      "       -5.43336608e-02, -2.06583232e-01, -9.13519487e-02, -2.41124198e-01,\n",
      "        4.52228636e-02,  2.28923395e-01,  2.46214390e-01, -8.37032422e-02,\n",
      "       -3.49365212e-02, -6.61883801e-02])), ('con', array([ 2.27586207e+00,  3.48746082e-02,  2.85500000e+03,  7.16000000e+02,\n",
      "        4.10000000e+01,  7.00000000e+00,  7.00000000e+00,  1.00000000e+00,\n",
      "        0.00000000e+00,  1.90000000e+01,  4.00000000e+00,  4.00000000e+00,\n",
      "        0.00000000e+00,  0.00000000e+00,  0.00000000e+00,  0.00000000e+00,\n",
      "        0.00000000e+00,  0.00000000e+00,  1.30685210e-01, -1.69429868e-01,\n",
      "       -3.53590995e-02, -1.62803177e-02,  4.88769598e-02, -6.40918389e-02,\n",
      "       -9.36521497e-03, -2.08136365e-01, -2.32548431e-01, -1.41120657e-01,\n",
      "        1.45704806e-01, -1.17349382e-02, -8.27363599e-03,  1.50571540e-01,\n",
      "       -1.63020477e-01,  3.16940174e-02, -1.39713436e-01, -1.18471771e-01,\n",
      "       -4.85404097e-02,  1.18344955e-01, -4.10781801e-02, -8.65663141e-02,\n",
      "        4.44563366e-02,  1.87887728e-01,  3.25482264e-02, -9.37667117e-02,\n",
      "        3.58282864e-01, -5.39791323e-02, -1.59429342e-01, -2.61905164e-01,\n",
      "        2.45742872e-01, -4.51306328e-02,  2.63242930e-01, -1.23067074e-01,\n",
      "       -1.14133075e-01, -4.45843935e-02,  1.34635806e-01, -2.16618888e-02,\n",
      "        2.41680332e-02, -2.31791481e-01,  7.90048838e-02,  3.30479056e-01,\n",
      "       -1.34221673e-01,  6.33538887e-02,  1.74277380e-01, -3.59049737e-02,\n",
      "        3.29085700e-02,  4.30603772e-02,  2.19122007e-01,  1.61999762e-01,\n",
      "       -4.79995832e-02, -1.64712444e-01, -1.82109773e-01, -2.15720803e-01,\n",
      "        2.01751038e-01, -6.31716326e-02, -5.84688745e-02, -3.94088440e-02,\n",
      "       -6.53111562e-02,  3.61404300e-01,  1.93402529e-01, -2.38009095e-01,\n",
      "       -1.06024668e-01,  3.14005911e-01,  9.57744494e-02,  2.40355790e-01,\n",
      "        1.19758517e-01, -1.02123439e-01,  1.64218277e-01,  9.20029879e-02,\n",
      "        2.42217585e-01, -3.04798484e-01, -2.91080922e-02, -1.54124111e-01,\n",
      "       -1.30294263e-01,  4.05754969e-02, -3.24577838e-01,  5.08736558e-02,\n",
      "       -7.01781223e-03, -1.61404058e-01, -5.05664200e-02,  2.91520562e-02,\n",
      "       -2.00485125e-01,  9.52356234e-02, -3.13544750e-01,  2.77746525e-02,\n",
      "       -4.46858741e-02, -3.88816893e-02, -1.85231030e-01, -2.71926284e-01,\n",
      "       -1.24721766e-01, -1.31185785e-01, -7.76535124e-02, -8.85267332e-02,\n",
      "        2.66550668e-02,  9.61639807e-02, -8.84493589e-02,  2.33451277e-02,\n",
      "       -2.41268589e-03, -7.15368241e-02,  1.40799299e-01, -2.64112279e-02,\n",
      "       -4.77200374e-02, -1.37558416e-01, -1.99429572e-01, -2.00666726e-01,\n",
      "       -3.76833193e-02, -1.67613849e-02, -2.13046148e-01, -7.08272904e-02,\n",
      "       -1.08198613e-01,  5.22172935e-02,  2.25543290e-01,  2.49944329e-01,\n",
      "       -1.87355012e-01, -1.72984544e-02, -2.19001889e-01,  4.79066074e-02,\n",
      "        2.49807954e-01, -1.09869696e-01, -2.06690669e-01,  6.21818863e-02,\n",
      "        8.96275342e-02,  1.27226144e-01,  2.66216137e-02, -2.01894090e-01,\n",
      "        4.74158078e-02,  8.76356289e-02])), ('con', array([ 2.00000000e+00,  5.20833333e-02,  3.53000000e+02,  1.91000000e+02,\n",
      "        1.30000000e+01,  1.00000000e+00,  1.00000000e+00,  1.00000000e+00,\n",
      "        0.00000000e+00,  0.00000000e+00,  0.00000000e+00,  0.00000000e+00,\n",
      "        0.00000000e+00,  0.00000000e+00,  0.00000000e+00,  0.00000000e+00,\n",
      "        0.00000000e+00,  0.00000000e+00, -3.94634530e-02, -6.42490312e-02,\n",
      "       -1.27957687e-01,  5.13149984e-02,  4.74784449e-02, -1.41488567e-01,\n",
      "        9.46406089e-03, -3.49891394e-01, -2.77168363e-01,  2.35343471e-01,\n",
      "        1.65773705e-01,  4.44257036e-02,  1.89413577e-01,  4.24250681e-03,\n",
      "        9.13463980e-02, -2.59478778e-01, -2.90135086e-01,  2.16463372e-01,\n",
      "        1.31879106e-01,  2.65049160e-01,  2.52970070e-01,  1.76757723e-01,\n",
      "       -2.70242840e-01,  1.31499581e-02,  1.04245715e-01,  1.30013162e-02,\n",
      "        9.43642855e-02, -3.27630699e-01, -2.67092049e-01,  1.37768835e-01,\n",
      "        1.18304521e-01,  1.57341715e-02,  1.34470016e-01, -2.33985469e-01,\n",
      "        1.25024514e-02, -3.29105109e-02,  3.40546936e-01,  2.31239125e-01,\n",
      "       -8.33293237e-03, -1.84965521e-01,  4.66763638e-02,  3.08266133e-01,\n",
      "       -2.05241024e-01,  8.83735120e-02,  2.29728356e-01,  1.08255148e-01,\n",
      "        3.40846255e-02, -9.42870975e-02,  2.20349297e-01,  1.16267689e-01,\n",
      "       -2.05759153e-01, -8.74427706e-02,  3.32090743e-02,  1.42320663e-01,\n",
      "        1.14870802e-01,  4.89500090e-02, -1.09034166e-01, -1.71652496e-01,\n",
      "        1.76504429e-04,  3.49260509e-01, -5.33652231e-02, -2.28237361e-01,\n",
      "        6.65847436e-02, -6.05952479e-02,  8.12014118e-02, -3.47739197e-02,\n",
      "       -5.47889508e-02, -1.11159742e-01,  1.68878973e-01,  7.40788281e-02,\n",
      "       -8.74594413e-03, -3.05635124e-01, -1.37383461e-01,  4.21181768e-02,\n",
      "        1.70530722e-01,  5.01126200e-02, -1.23994164e-02, -8.35646596e-03,\n",
      "        2.20642462e-01,  5.94208986e-02,  1.27136204e-02,  1.66172206e-01,\n",
      "       -2.48059094e-01,  2.43891597e-01, -2.75810119e-02, -1.70562118e-02,\n",
      "       -1.84108779e-01, -1.10778883e-01, -1.88935325e-01, -1.94724217e-01,\n",
      "       -2.18667346e-03,  7.04281181e-02,  2.65464276e-01,  6.97285980e-02,\n",
      "        2.00361848e-01, -1.70273632e-01, -1.50929496e-01, -3.01783025e-01,\n",
      "        1.89931467e-01, -2.46444151e-01,  3.36063802e-01,  9.87786353e-02,\n",
      "       -9.07075927e-02, -2.55586028e-01, -1.74045593e-01, -1.70879647e-01,\n",
      "       -2.63011828e-02,  7.22931996e-02, -2.96970844e-01,  2.08501872e-02,\n",
      "        8.78236443e-03, -2.43845731e-02,  2.13982925e-01, -2.11899132e-02,\n",
      "       -3.34676541e-02,  1.78306341e-01,  7.84571692e-02,  8.70313495e-02,\n",
      "        4.35986891e-02, -8.96785185e-02, -2.77849436e-01, -6.98328093e-02,\n",
      "        1.18297473e-01,  6.83673248e-02,  1.85712263e-01,  5.05335629e-02,\n",
      "       -1.39477849e-01, -1.66303862e-03])), ('con', array([ 1.77777778e+00,  0.00000000e+00,  3.50000000e+01,  4.20000000e+01,\n",
      "        7.00000000e+00,  0.00000000e+00,  0.00000000e+00,  0.00000000e+00,\n",
      "        0.00000000e+00,  0.00000000e+00,  0.00000000e+00,  0.00000000e+00,\n",
      "        0.00000000e+00,  0.00000000e+00,  0.00000000e+00,  0.00000000e+00,\n",
      "        0.00000000e+00,  0.00000000e+00, -1.75670907e-01, -1.80231072e-02,\n",
      "        3.06722652e-02,  1.51145607e-01,  3.24647188e-01, -1.84450913e-02,\n",
      "        1.06733784e-01, -1.46565929e-01,  1.35305420e-01, -1.67350024e-01,\n",
      "        1.70058757e-01, -1.93533435e-01,  1.01342529e-01,  7.15590045e-02,\n",
      "        7.38032460e-02,  1.14392273e-01,  7.04237968e-02,  3.93112630e-01,\n",
      "        1.55704647e-01,  1.18747018e-01,  1.78766936e-01,  3.92260179e-02,\n",
      "       -2.82550007e-01,  5.81207965e-03, -1.28665864e-01, -3.73807997e-02,\n",
      "        2.33619794e-01,  7.37005621e-02,  1.43087506e-01,  2.85201728e-01,\n",
      "       -1.92941783e-03, -1.47479340e-01, -2.13216081e-01,  1.32276058e-01,\n",
      "        2.29567707e-01, -1.49855018e-01, -1.61371473e-02,  2.12188944e-01,\n",
      "       -6.11658953e-02, -2.16207251e-01,  7.85913467e-02,  1.94423988e-01,\n",
      "       -1.40042096e-01, -5.79774939e-02,  2.28091497e-02, -2.47042656e-01,\n",
      "       -9.14648920e-02,  1.01848647e-01, -1.43620208e-01, -1.35132931e-02,\n",
      "       -3.42154317e-02,  4.14235368e-02, -1.40478119e-01, -2.32652918e-01,\n",
      "        2.25604922e-01, -1.30363598e-01,  2.01723292e-01, -1.63305685e-01,\n",
      "        1.53593972e-01, -6.58824965e-02,  4.37795252e-01, -1.72024205e-01,\n",
      "        1.97111979e-01,  1.04483783e-01,  2.86365807e-01,  1.11292452e-01,\n",
      "       -3.55083583e-04, -9.75323915e-02, -1.67284563e-01, -5.98437637e-02,\n",
      "        2.28501838e-02,  9.24728736e-02,  7.55731240e-02, -6.14342615e-02,\n",
      "       -1.87421143e-02, -2.08773762e-01, -3.44162658e-02,  8.99649039e-02,\n",
      "       -1.68836936e-02, -2.80257128e-02,  1.60076931e-01,  7.10887164e-02,\n",
      "       -2.31497616e-01, -6.27964037e-03, -1.15285508e-01,  3.83295794e-03,\n",
      "        2.84276575e-01,  2.56567836e-01, -1.13547206e-01, -1.39498726e-01,\n",
      "       -1.98155642e-01, -1.25615656e-01, -1.18909769e-01,  2.84075052e-01,\n",
      "       -1.15588255e-01, -1.50867790e-01, -1.63792506e-01, -5.70363216e-02,\n",
      "       -2.29437083e-01, -1.55038103e-01,  2.19769571e-02,  1.66852191e-01,\n",
      "       -1.08915761e-01, -1.08259590e-02,  7.27590248e-02, -2.65954643e-01,\n",
      "       -2.10115612e-01,  8.55319649e-02,  8.37332159e-02, -1.69954464e-01,\n",
      "        1.81938279e-02,  1.23708546e-01,  1.67480990e-01,  9.56430938e-03,\n",
      "       -1.77319422e-01,  8.36667344e-02, -1.68515772e-01, -2.20744714e-01,\n",
      "       -7.86397606e-02, -2.86752850e-01, -1.21514030e-01, -2.65940458e-01,\n",
      "        2.60547906e-01,  1.04299791e-01, -1.53949425e-01,  4.65144739e-02,\n",
      "       -1.31406039e-01, -1.10402361e-01])), ('con', array([ 2.08000000e+00,  0.00000000e+00,  1.73300000e+03,  5.36000000e+02,\n",
      "        2.80000000e+01,  2.00000000e+00,  1.00000000e+00,  0.00000000e+00,\n",
      "        0.00000000e+00,  0.00000000e+00,  0.00000000e+00,  0.00000000e+00,\n",
      "        0.00000000e+00,  0.00000000e+00,  0.00000000e+00,  0.00000000e+00,\n",
      "        0.00000000e+00,  0.00000000e+00, -1.47628918e-01,  6.92269877e-02,\n",
      "        8.54783319e-03,  2.22008288e-01,  1.76613733e-01, -8.27499405e-02,\n",
      "       -1.42488508e-02, -2.70280242e-01,  1.01478025e-01, -1.85220718e-01,\n",
      "        1.08573744e-02, -2.14185044e-01,  3.50665957e-01,  6.42938465e-02,\n",
      "        1.26622962e-02,  4.40163583e-01, -4.84502353e-02,  7.54319802e-02,\n",
      "        2.38875940e-01,  1.18961610e-01,  2.29865909e-02,  2.05884770e-01,\n",
      "        1.27679437e-01,  1.00299582e-01,  2.43474782e-01, -1.52167127e-01,\n",
      "        1.95532944e-02, -3.18013787e-01, -9.13217142e-02, -9.91561264e-02,\n",
      "        1.13233924e-01, -7.05704913e-02, -9.44674388e-02, -2.13799715e-01,\n",
      "        2.04954088e-01,  1.51937932e-01, -2.69607715e-02,  2.79771425e-02,\n",
      "        1.30704597e-01, -8.83793533e-02,  2.70676970e-01,  1.75504312e-01,\n",
      "       -1.38817400e-01,  1.26395807e-01,  1.89467356e-01, -1.61785156e-01,\n",
      "       -1.12237304e-01,  2.44633127e-02,  2.51405299e-01,  5.47176227e-02,\n",
      "        2.08044454e-01, -2.15436518e-01, -2.01007694e-01, -8.77874270e-02,\n",
      "        1.98023468e-01,  3.48474123e-02, -1.41720980e-01, -1.59806371e-01,\n",
      "       -2.67255574e-01, -6.89075962e-02,  2.09319234e-01, -1.31828025e-01,\n",
      "        1.58059314e-01,  2.18659103e-01, -9.44129825e-02, -9.02018324e-02,\n",
      "        1.10454619e-01, -1.91819191e-01, -2.24646758e-02,  1.17990300e-01,\n",
      "        2.21867040e-02, -1.39759839e-01, -2.06129514e-02,  1.36275262e-01,\n",
      "        1.12096995e-01,  1.61156282e-01, -1.42590348e-02,  7.60563239e-02,\n",
      "       -1.99359916e-02, -1.16811693e-01,  1.18367694e-01, -7.25883096e-02,\n",
      "       -6.49464279e-02,  3.06766599e-01, -1.83576614e-01,  6.64137304e-02,\n",
      "       -2.46010199e-01, -1.04335591e-01, -1.83319785e-02, -1.67494714e-01,\n",
      "        1.97830439e-01, -1.45960376e-01, -1.65598229e-01,  2.06985384e-01,\n",
      "        1.06999613e-02,  6.34159744e-02,  5.59986793e-02, -2.05367401e-01,\n",
      "       -4.49877456e-02, -6.05573356e-02, -9.92890168e-03,  8.61620009e-02,\n",
      "        1.72069579e-01,  1.51011571e-02,  2.16600478e-01,  2.21436843e-02,\n",
      "       -1.51681185e-01,  4.05303482e-03, -2.64485031e-01,  1.17910482e-01,\n",
      "        5.68808727e-02,  5.60339130e-02,  1.61419272e-01,  1.97945371e-01,\n",
      "       -1.79741576e-01,  2.39707336e-01, -4.18557301e-02,  1.88849822e-01,\n",
      "        8.10319092e-03, -4.68456239e-01, -3.75787504e-02,  1.30203143e-01,\n",
      "        2.14784503e-01,  6.52368069e-02, -8.10560212e-02, -2.93913744e-02,\n",
      "       -4.71950024e-02, -1.00283094e-01])), ('con', array([ 1.80952381e+00,  0.00000000e+00,  9.87000000e+02,  3.25000000e+02,\n",
      "        1.80000000e+01,  0.00000000e+00,  0.00000000e+00,  0.00000000e+00,\n",
      "        0.00000000e+00,  0.00000000e+00,  0.00000000e+00,  0.00000000e+00,\n",
      "        0.00000000e+00,  0.00000000e+00,  0.00000000e+00,  0.00000000e+00,\n",
      "        0.00000000e+00,  0.00000000e+00,  7.43073672e-02, -5.90405278e-02,\n",
      "       -1.76297292e-01,  8.86818692e-02,  1.76697448e-01, -3.42807570e-03,\n",
      "        1.00967094e-01, -3.53930175e-01, -3.44212912e-02,  4.61748056e-02,\n",
      "        4.64562960e-02,  1.26622498e-01,  6.09847121e-02,  9.32831143e-04,\n",
      "       -1.41652981e-02,  6.71772137e-02, -2.53810529e-02,  9.15319398e-02,\n",
      "        2.81399339e-02,  1.24406889e-01, -3.54003906e-01, -5.69102727e-02,\n",
      "       -2.32781574e-01,  4.88204765e-04,  1.00657299e-01, -2.65802532e-01,\n",
      "        1.91080403e-02, -2.85814583e-01, -2.26307377e-01,  5.60189262e-02,\n",
      "       -1.37501895e-01,  3.40275504e-02, -7.53932372e-02, -1.27616420e-01,\n",
      "        5.57084531e-02,  1.57513261e-01,  5.31379506e-02,  1.54523194e-01,\n",
      "       -1.20448083e-01, -1.81802869e-01, -9.94403437e-02,  2.37032473e-01,\n",
      "        7.08858892e-02,  1.58468843e-01,  8.93793702e-02, -4.84893732e-02,\n",
      "       -5.46880439e-02, -1.48730487e-01,  1.38178021e-01,  1.18359186e-01,\n",
      "       -2.51996458e-01, -2.26465002e-01, -1.95645824e-01,  6.56962767e-02,\n",
      "        2.11108804e-01, -1.37957530e-02, -4.18369509e-02, -2.58379668e-01,\n",
      "        8.24232846e-02, -1.18793115e-01,  3.47505957e-01, -5.87354153e-02,\n",
      "        1.13604322e-01, -7.17120171e-02, -9.48377997e-02, -9.63872001e-02,\n",
      "        8.15511197e-02, -1.66317806e-01,  4.01028022e-02, -4.43737619e-02,\n",
      "       -3.08309235e-02, -6.03429265e-02,  5.32867722e-02, -1.51348844e-01,\n",
      "        1.03940330e-01,  7.39077106e-02, -7.82563984e-02, -1.88942552e-02,\n",
      "        1.00522988e-01,  9.65543240e-02, -2.27933843e-02, -7.60811195e-02,\n",
      "       -7.60084167e-02,  1.52636692e-01, -3.61969084e-01, -1.68638110e-01,\n",
      "       -8.90968442e-02, -2.52141245e-02, -2.16700613e-01, -1.40414283e-01,\n",
      "       -1.45116672e-01, -9.20404792e-02,  8.51905644e-02,  3.55027050e-01,\n",
      "       -1.31111965e-01, -1.07200556e-01,  1.63414329e-02,  1.19006008e-01,\n",
      "       -5.33441305e-02,  4.83615510e-02,  1.81647405e-01, -1.34041324e-01,\n",
      "       -2.91609257e-01, -1.16065525e-01, -3.17601720e-03, -2.07392666e-02,\n",
      "       -1.52198434e-01,  1.28207311e-01, -3.29906344e-01, -2.00839892e-01,\n",
      "        2.12875083e-02,  1.42730936e-01,  1.60910815e-01, -1.55525804e-01,\n",
      "       -1.61915958e-01,  1.95069671e-01, -2.66943038e-01,  6.96589127e-02,\n",
      "        9.16729718e-02, -2.83538252e-01, -2.39524022e-01,  1.75936565e-01,\n",
      "        1.63889363e-01,  3.38676959e-01, -2.41798558e-03, -8.75349492e-02,\n",
      "       -1.59130424e-01, -3.32071841e-01])), ('con', array([ 2.34482759e+00,  2.07307061e-02,  2.80800000e+03,  7.75000000e+02,\n",
      "        5.00000000e+01,  1.00000000e+01,  1.00000000e+01,  1.00000000e+00,\n",
      "        0.00000000e+00,  0.00000000e+00,  0.00000000e+00,  0.00000000e+00,\n",
      "        0.00000000e+00,  0.00000000e+00,  0.00000000e+00,  0.00000000e+00,\n",
      "        0.00000000e+00,  0.00000000e+00, -1.11020859e-02, -2.52489656e-01,\n",
      "       -6.59427494e-02,  1.16443805e-01, -8.58482812e-03, -8.74796212e-02,\n",
      "        4.37927060e-02, -2.49669790e-01, -1.64977640e-01,  1.54585615e-01,\n",
      "        1.15379974e-01,  2.06656814e-01,  2.03275457e-01, -3.36763971e-02,\n",
      "       -5.01089990e-02,  7.46791363e-02, -1.43164143e-01,  1.36995286e-01,\n",
      "        1.00498302e-02,  4.47085761e-02, -1.51384324e-01, -1.46567285e-01,\n",
      "        1.58819109e-01,  2.78357528e-02,  1.47711441e-01,  1.27557889e-01,\n",
      "        1.45895138e-01, -3.78727645e-01, -4.10645604e-02, -1.10099055e-01,\n",
      "       -4.05710377e-02, -1.87124118e-01, -5.23196682e-02, -7.53007382e-02,\n",
      "       -9.14294273e-02, -1.17798202e-01,  2.05414712e-01,  3.28892678e-01,\n",
      "        8.66973698e-02, -8.84703547e-02, -5.23822941e-03,  8.05199239e-03,\n",
      "        9.27144885e-02,  3.13269705e-01,  1.80107486e-02, -5.29852659e-02,\n",
      "        1.04296664e-02, -1.09760851e-01,  1.48361430e-01,  1.21700555e-01,\n",
      "        9.46436524e-02, -1.50968105e-01,  1.73981637e-02, -3.16862106e-01,\n",
      "        2.65641510e-01,  8.48590657e-02, -8.01671743e-02, -2.89059170e-02,\n",
      "        1.53209837e-02,  2.54009932e-01,  3.01651299e-01, -2.43895456e-01,\n",
      "        1.17057320e-02,  1.71782643e-01, -8.45006667e-03,  4.88553196e-02,\n",
      "        1.76654711e-01, -3.97632681e-02,  2.41652027e-01,  1.02250077e-01,\n",
      "        1.89952180e-02, -8.54167268e-02, -7.07623689e-03,  2.20477358e-02,\n",
      "       -1.16687775e-01,  1.87426358e-01,  3.15387696e-02,  2.12105513e-01,\n",
      "       -1.05158746e-01, -8.59476775e-02,  1.50341004e-01,  5.81406103e-03,\n",
      "        4.02496895e-03,  1.42142966e-01, -1.89887345e-01, -5.22618853e-02,\n",
      "        5.14346594e-03,  1.39350355e-01, -3.40295345e-01, -1.00015827e-01,\n",
      "       -1.29723296e-01, -1.67553723e-01, -7.32927695e-02, -8.78577158e-02,\n",
      "       -1.58992410e-01,  2.33265688e-03, -1.20985664e-01, -8.14539641e-02,\n",
      "        1.50448203e-01,  7.78420968e-03,  2.13706240e-01, -7.23026842e-02,\n",
      "        1.23127354e-02,  1.61550045e-01, -1.35544345e-01, -8.88322815e-02,\n",
      "       -2.12136641e-01, -5.58908330e-03, -2.58491069e-01, -1.27474675e-02,\n",
      "       -1.17296576e-01,  9.58059803e-02,  1.38037086e-01,  3.02723665e-02,\n",
      "       -3.11501831e-01, -5.71538955e-02, -3.61506879e-01,  1.12752952e-01,\n",
      "        3.06036890e-01, -5.64437024e-02, -1.06914878e-01,  1.15044720e-01,\n",
      "        2.63543069e-01,  1.03530623e-01,  3.08232695e-01, -1.15515567e-01,\n",
      "       -5.97720966e-02, -2.23631859e-01]))]\n"
     ]
    },
    {
     "name": "stdout",
     "output_type": "stream",
     "text": [
      "(150, 2)\n"
     ]
    }
   ],
   "source": [
    "from sklearn import manifold\n",
    "from sklearn.decomposition import PCA\n",
    "\n",
    "print(vectors)\n",
    "pca = PCA(45)\n",
    "X_r = pca.fit(X[18:,:].T).transform(X[18:,:].T)\n",
    "tsne = manifold.TSNE()\n",
    "X_embedded = tsne.fit_transform(X_r)\n",
    "print(X_embedded.shape)"
   ]
  },
  {
   "cell_type": "code",
   "execution_count": 57,
   "metadata": {},
   "outputs": [
    {
     "name": "stderr",
     "output_type": "stream",
     "text": [
      "/home/amanjuna/.local/lib/python3.6/site-packages/IPython/core/display.py:689: UserWarning:\n",
      "\n",
      "Consider using IPython.display.IFrame instead\n",
      "\n"
     ]
    },
    {
     "data": {
      "text/html": [
       "<iframe id=\"igraph\" scrolling=\"no\" style=\"border:none;\" seamless=\"seamless\" src=\"https://plot.ly/~amanjuna/44.embed\" height=\"525px\" width=\"100%\"></iframe>"
      ],
      "text/plain": [
       "<plotly.tools.PlotlyDisplay object>"
      ]
     },
     "execution_count": 57,
     "metadata": {},
     "output_type": "execute_result"
    }
   ],
   "source": [
    "import plotly\n",
    "import plotly.plotly as py\n",
    "import plotly.graph_objs as go\n",
    "from plotly import tools\n",
    "\n",
    "plotly.tools.set_credentials_file(username='amanjuna', api_key='v5RvlMiKGJwt6X5yxmUQ')\n",
    "\n",
    "plots = []\n",
    "for president in set(pres):\n",
    "    occur = [i for i, x in enumerate(pres) if x == president]\n",
    "    plots += [go.Scatter(x = X_embedded[occur,0], y = X_embedded[occur,1], mode='markers', name=president)]\n",
    "fig = go.Figure(data=plots)\n",
    "py.iplot(fig, filename=\"whatever\")"
   ]
  },
  {
   "cell_type": "code",
   "execution_count": null,
   "metadata": {},
   "outputs": [],
   "source": []
  }
 ],
 "metadata": {
  "kernelspec": {
   "display_name": "Python 3",
   "language": "python",
   "name": "python3"
  },
  "language_info": {
   "codemirror_mode": {
    "name": "ipython",
    "version": 3
   },
   "file_extension": ".py",
   "mimetype": "text/x-python",
   "name": "python",
   "nbconvert_exporter": "python",
   "pygments_lexer": "ipython3",
   "version": "3.6.6"
  }
 },
 "nbformat": 4,
 "nbformat_minor": 2
}
