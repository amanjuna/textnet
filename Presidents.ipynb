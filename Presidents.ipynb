{
 "cells": [
  {
   "cell_type": "code",
   "execution_count": 1,
   "metadata": {},
   "outputs": [
    {
     "name": "stdout",
     "output_type": "stream",
     "text": [
      "Embeddings loaded\n"
     ]
    }
   ],
   "source": [
    "import matplotlib.pyplot as mpl\n",
    "from analyze import *\n",
    "from utils import *\n",
    "from TextPOSDirected import TextPOS as GraphGenerator\n",
    "from multiprocessing import Pool\n",
    "\n",
    "N_CORES = 4\n",
    "emb, word2id_dict, id2word_dict  = load_embeddings()"
   ]
  },
  {
   "cell_type": "code",
   "execution_count": 2,
   "metadata": {},
   "outputs": [
    {
     "name": "stdout",
     "output_type": "stream",
     "text": [
      "<function gen_style_vec at 0x7fbdeea982f0>\n"
     ]
    }
   ],
   "source": [
    "print(gen_style_vec)"
   ]
  },
  {
   "cell_type": "code",
   "execution_count": null,
   "metadata": {},
   "outputs": [
    {
     "name": "stdout",
     "output_type": "stream",
     "text": [
      "Unk percentage: 0.012220238912536043\n",
      "Unk percentage: 0.0052323791935980305\n",
      "Unk percentage: 0.0032989690721649486\n",
      "Unk percentage: 0.0055927588490691\n",
      "Unk percentage: 0.0031466331025802393\n",
      "Unk percentage: 0.006648608717064762\n",
      "Unk percentage: 0.004398447606727037\n",
      "Unk percentage: 0.0037926675094816687\n",
      "Unk percentage: 0.0043821209465381246\n",
      "Unk percentage: 0.0008261049153242462\n",
      "Unk percentage: 0.010437575270975512\n",
      "Unk percentage: 0.004485806106052491\n",
      "Unk percentage: 0.00375\n",
      "Unk percentage: 0.007863247863247864\n",
      "Unk percentage: 0.014760147601476014\n",
      "cluster began\n",
      "cluster end\n"
     ]
    },
    {
     "name": "stderr",
     "output_type": "stream",
     "text": [
      "Computing transition probabilities: 100%|██████████| 234/234 [00:00<00:00, 25035.51it/s]\n",
      "/home/amanjuna/.local/lib/python3.6/site-packages/joblib/parallel.py:673: UserWarning: Loky-backed parallel loops cannot be called in a multiprocessing, setting n_jobs=1\n",
      "  **self._backend_args)\n",
      "Generating walks (CPU: 1): 100%|██████████| 3/3 [00:00<00:00, 676.46it/s]\n",
      "Generating walks (CPU: 2): 100%|██████████| 3/3 [00:00<00:00, 970.08it/s]\n",
      "Generating walks (CPU: 3): 100%|██████████| 2/2 [00:00<00:00, 407.12it/s]\n",
      "Generating walks (CPU: 4): 100%|██████████| 2/2 [00:00<00:00, 1040.38it/s]\n"
     ]
    },
    {
     "name": "stdout",
     "output_type": "stream",
     "text": [
      "Unk percentage: 0.007282772476142642\n",
      "Unk percentage: 0.0037369207772795215\n",
      "Unk percentage: 0.006128702757916241\n",
      "cluster began\n",
      "cluster end\n"
     ]
    },
    {
     "name": "stderr",
     "output_type": "stream",
     "text": [
      "Computing transition probabilities: 100%|██████████| 377/377 [00:00<00:00, 12161.61it/s]\n",
      "/home/amanjuna/.local/lib/python3.6/site-packages/joblib/parallel.py:673: UserWarning: Loky-backed parallel loops cannot be called in a multiprocessing, setting n_jobs=1\n",
      "  **self._backend_args)\n",
      "Generating walks (CPU: 1): 100%|██████████| 3/3 [00:00<00:00, 447.93it/s]\n",
      "Generating walks (CPU: 2): 100%|██████████| 3/3 [00:00<00:00, 471.38it/s]\n"
     ]
    },
    {
     "name": "stdout",
     "output_type": "stream",
     "text": [
      "Unk percentage: 0.0011492051331162612\n"
     ]
    },
    {
     "name": "stderr",
     "output_type": "stream",
     "text": [
      "Generating walks (CPU: 3): 100%|██████████| 2/2 [00:00<00:00, 430.98it/s]\n",
      "Generating walks (CPU: 4): 100%|██████████| 2/2 [00:00<00:00, 352.52it/s]\n"
     ]
    },
    {
     "name": "stdout",
     "output_type": "stream",
     "text": [
      "Unk percentage: 0.0016129032258064516\n",
      "Unk percentage: 0.0016129032258064516\n",
      "Unk percentage: 0.004638833664678595\n",
      "Unk percentage: 0.0031545741324921135\n",
      "Unk percentage: 0.0022696323195642307\n",
      "Unk percentage: 0.002053388090349076\n",
      "Unk percentage: 0.0075551151845429775\n",
      "Unk percentage: 0.008880994671403197\n",
      "Unk percentage: 0.004227642276422764\n",
      "Unk percentage: 0.006640381821954763\n",
      "Unk percentage: 0.001839587932303164\n",
      "Unk percentage: 0.0013434841021047917\n",
      "Unk percentage: 0.003885381253035454\n",
      "Unk percentage: 0.002932551319648094\n",
      "Unk percentage: 0.006090279436350609\n",
      "Unk percentage: 0.0014537902388369677\n",
      "Unk percentage: 0.0030865929625680452\n",
      "Unk percentage: 0.0009683666881859264\n",
      "Unk percentage: 0.0077391524993656435\n",
      "Unk percentage: 0.0011267028577281574\n",
      "Unk percentage: 0.006356544351343542\n",
      "Unk percentage: 0.0035460992907801418\n",
      "cluster began\n",
      "cluster end\n"
     ]
    },
    {
     "name": "stderr",
     "output_type": "stream",
     "text": [
      "Computing transition probabilities: 100%|██████████| 331/331 [00:00<00:00, 10778.59it/s]\n",
      "/home/amanjuna/.local/lib/python3.6/site-packages/joblib/parallel.py:673: UserWarning: Loky-backed parallel loops cannot be called in a multiprocessing, setting n_jobs=1\n",
      "  **self._backend_args)\n",
      "Generating walks (CPU: 1): 100%|██████████| 3/3 [00:00<00:00, 283.76it/s]\n",
      "Generating walks (CPU: 2): 100%|██████████| 3/3 [00:00<00:00, 505.91it/s]\n",
      "Generating walks (CPU: 3): 100%|██████████| 2/2 [00:00<00:00, 414.76it/s]\n",
      "Generating walks (CPU: 4): 100%|██████████| 2/2 [00:00<00:00, 494.00it/s]\n"
     ]
    },
    {
     "name": "stdout",
     "output_type": "stream",
     "text": [
      "Unk percentage: 0.0014291547570436914\n",
      "Unk percentage: 0.0005983724269985639\n",
      "Unk percentage: 0.0016884761502743773\n",
      "Unk percentage: 0.0033326798666928055\n",
      "Unk percentage: 0.0021617497456765007\n",
      "Unk percentage: 0.0011960421876698925\n",
      "Unk percentage: 0.0018929150892374256\n",
      "Unk percentage: 0.0016542597187758478\n",
      "Unk percentage: 0.001936108422071636\n",
      "cluster began\n",
      "cluster end\n"
     ]
    },
    {
     "name": "stderr",
     "output_type": "stream",
     "text": [
      "Computing transition probabilities: 100%|██████████| 394/394 [00:00<00:00, 13715.29it/s]\n",
      "/home/amanjuna/.local/lib/python3.6/site-packages/joblib/parallel.py:673: UserWarning: Loky-backed parallel loops cannot be called in a multiprocessing, setting n_jobs=1\n",
      "  **self._backend_args)\n",
      "Generating walks (CPU: 1):   0%|          | 0/3 [00:00<?, ?it/s]"
     ]
    },
    {
     "name": "stdout",
     "output_type": "stream",
     "text": [
      "Unk percentage: 0.008830869648684968\n"
     ]
    },
    {
     "name": "stderr",
     "output_type": "stream",
     "text": [
      "Generating walks (CPU: 1): 100%|██████████| 3/3 [00:00<00:00, 570.76it/s]\n",
      "Generating walks (CPU: 2): 100%|██████████| 3/3 [00:00<00:00, 659.86it/s]\n",
      "Generating walks (CPU: 3): 100%|██████████| 2/2 [00:00<00:00, 401.43it/s]\n",
      "Generating walks (CPU: 4): 100%|██████████| 2/2 [00:00<00:00, 588.39it/s]\n"
     ]
    },
    {
     "name": "stdout",
     "output_type": "stream",
     "text": [
      "Unk percentage: 0.003951319740793425\n",
      "Unk percentage: 0.007042253521126761\n",
      "cluster began\n",
      "cluster end\n"
     ]
    },
    {
     "name": "stderr",
     "output_type": "stream",
     "text": [
      "Computing transition probabilities: 100%|██████████| 140/140 [00:00<00:00, 23215.09it/s]\n",
      "Generating walks (CPU: 1): 100%|██████████| 3/3 [00:00<00:00, 1000.55it/s]\n",
      "Generating walks (CPU: 2): 100%|██████████| 3/3 [00:00<00:00, 1018.94it/s]\n",
      "Generating walks (CPU: 3): 100%|██████████| 2/2 [00:00<00:00, 1475.83it/s]\n",
      "Generating walks (CPU: 4): 100%|██████████| 2/2 [00:00<00:00, 977.92it/s]\n"
     ]
    },
    {
     "name": "stdout",
     "output_type": "stream",
     "text": [
      "Unk percentage: 0.005562913907284768\n",
      "Unk percentage: 0.0029411764705882353\n",
      "Unk percentage: 0.00407134548274525\n",
      "Unk percentage: 0.012377138696760102\n",
      "Unk percentage: 0.0018031013342949874\n",
      "Unk percentage: 0.003003003003003003\n",
      "cluster began\n",
      "cluster end\n"
     ]
    },
    {
     "name": "stderr",
     "output_type": "stream",
     "text": [
      "Computing transition probabilities: 100%|██████████| 257/257 [00:00<00:00, 15620.68it/s]\n",
      "Generating walks (CPU: 1): 100%|██████████| 3/3 [00:00<00:00, 1035.89it/s]\n",
      "Generating walks (CPU: 2): 100%|██████████| 3/3 [00:00<00:00, 909.56it/s]\n",
      "Generating walks (CPU: 3): 100%|██████████| 2/2 [00:00<00:00, 840.71it/s]\n",
      "Generating walks (CPU: 4): 100%|██████████| 2/2 [00:00<00:00, 1031.17it/s]\n"
     ]
    },
    {
     "name": "stdout",
     "output_type": "stream",
     "text": [
      "Unk percentage: 0.004524886877828055\n",
      "cluster began\n",
      "cluster end\n"
     ]
    },
    {
     "name": "stderr",
     "output_type": "stream",
     "text": [
      "Computing transition probabilities: 100%|██████████| 260/260 [00:00<00:00, 14548.60it/s]\n",
      "Generating walks (CPU: 1): 100%|██████████| 3/3 [00:00<00:00, 628.83it/s]\n",
      "Generating walks (CPU: 2): 100%|██████████| 3/3 [00:00<00:00, 596.43it/s]\n",
      "Generating walks (CPU: 3): 100%|██████████| 2/2 [00:00<00:00, 527.72it/s]\n",
      "Generating walks (CPU: 4): 100%|██████████| 2/2 [00:00<00:00, 695.05it/s]\n"
     ]
    },
    {
     "name": "stdout",
     "output_type": "stream",
     "text": [
      "Unk percentage: 0.0016155088852988692\n",
      "Unk percentage: 0.011982570806100218\n",
      "Unk percentage: 0.009102730819245773\n",
      "Unk percentage: 0.007866813025978778\n",
      "Unk percentage: 0.007361671811921159\n",
      "Unk percentage: 0.001284796573875803\n",
      "Unk percentage: 0.001415762151958471\n",
      "Unk percentage: 0.012782159369050857\n",
      "Unk percentage: 0.006316218418907905\n",
      "Unk percentage: 0.013194788058716806\n",
      "Unk percentage: 0.009852216748768473\n",
      "cluster began\n",
      "cluster end\n"
     ]
    },
    {
     "name": "stderr",
     "output_type": "stream",
     "text": [
      "Computing transition probabilities: 100%|██████████| 261/261 [00:00<00:00, 10533.28it/s]\n",
      "Generating walks (CPU: 1):   0%|          | 0/3 [00:00<?, ?it/s]"
     ]
    },
    {
     "name": "stdout",
     "output_type": "stream",
     "text": [
      "Unk percentage: 0.004280243298040099\n"
     ]
    },
    {
     "name": "stderr",
     "output_type": "stream",
     "text": [
      "Generating walks (CPU: 1): 100%|██████████| 3/3 [00:00<00:00, 560.39it/s]\n",
      "Generating walks (CPU: 2): 100%|██████████| 3/3 [00:00<00:00, 653.22it/s]\n",
      "Generating walks (CPU: 3): 100%|██████████| 2/2 [00:00<00:00, 548.74it/s]\n",
      "Generating walks (CPU: 4): 100%|██████████| 2/2 [00:00<00:00, 500.27it/s]\n"
     ]
    },
    {
     "name": "stdout",
     "output_type": "stream",
     "text": [
      "Unk percentage: 0.005149330587023687\n",
      "Unk percentage: 0.0016501650165016502\n",
      "cluster began\n",
      "cluster end\n"
     ]
    },
    {
     "name": "stderr",
     "output_type": "stream",
     "text": [
      "Computing transition probabilities: 100%|██████████| 312/312 [00:00<00:00, 16906.40it/s]\n",
      "Generating walks (CPU: 1): 100%|██████████| 3/3 [00:00<00:00, 533.85it/s]\n",
      "Generating walks (CPU: 2): 100%|██████████| 3/3 [00:00<00:00, 365.75it/s]\n",
      "Generating walks (CPU: 3): 100%|██████████| 2/2 [00:00<00:00, 842.65it/s]\n",
      "Generating walks (CPU: 4): 100%|██████████| 2/2 [00:00<00:00, 615.63it/s]\n"
     ]
    },
    {
     "name": "stdout",
     "output_type": "stream",
     "text": [
      "Unk percentage: 0.0018034265103697023\n",
      "cluster began\n",
      "cluster end\n"
     ]
    },
    {
     "name": "stderr",
     "output_type": "stream",
     "text": [
      "Computing transition probabilities: 100%|██████████| 394/394 [00:00<00:00, 6615.62it/s]\n",
      "Generating walks (CPU: 1): 100%|██████████| 3/3 [00:00<00:00, 177.47it/s]\n",
      "Generating walks (CPU: 2): 100%|██████████| 3/3 [00:00<00:00, 383.68it/s]\n",
      "Generating walks (CPU: 3): 100%|██████████| 2/2 [00:00<00:00, 307.46it/s]\n",
      "Generating walks (CPU: 4): 100%|██████████| 2/2 [00:00<00:00, 327.71it/s]\n"
     ]
    },
    {
     "name": "stdout",
     "output_type": "stream",
     "text": [
      "Unk percentage: 0.004090740052063964\n",
      "Unk percentage: 0.006696428571428571\n",
      "cluster began\n",
      "cluster end\n"
     ]
    },
    {
     "name": "stderr",
     "output_type": "stream",
     "text": [
      "Computing transition probabilities: 100%|██████████| 195/195 [00:00<00:00, 13068.66it/s]\n",
      "Generating walks (CPU: 1): 100%|██████████| 3/3 [00:00<00:00, 1258.79it/s]\n",
      "Generating walks (CPU: 2): 100%|██████████| 3/3 [00:00<00:00, 1137.80it/s]\n",
      "Generating walks (CPU: 3): 100%|██████████| 2/2 [00:00<00:00, 1743.27it/s]\n",
      "Generating walks (CPU: 4): 100%|██████████| 2/2 [00:00<00:00, 1077.12it/s]\n"
     ]
    },
    {
     "name": "stdout",
     "output_type": "stream",
     "text": [
      "Unk percentage: 0.0009832841691248771\n",
      "Unk percentage: 0.007061592781482934\n",
      "Unk percentage: 0.024553571428571428\n",
      "Unk percentage: 0.004201680672268907\n",
      "Unk percentage: 0.006360219716681122\n",
      "Unk percentage: 0.004726456339359565\n",
      "Unk percentage: 0.0019723865877712033\n",
      "cluster began\n",
      "cluster end\n"
     ]
    },
    {
     "name": "stderr",
     "output_type": "stream",
     "text": [
      "\r",
      "Computing transition probabilities:   0%|          | 0/363 [00:00<?, ?it/s]"
     ]
    },
    {
     "name": "stdout",
     "output_type": "stream",
     "text": [
      "Unk percentage: 0.0032076984763432237\n"
     ]
    },
    {
     "name": "stderr",
     "output_type": "stream",
     "text": [
      "Computing transition probabilities: 100%|██████████| 363/363 [00:00<00:00, 10329.19it/s]\n",
      "Generating walks (CPU: 1): 100%|██████████| 3/3 [00:00<00:00, 422.09it/s]\n",
      "Generating walks (CPU: 2): 100%|██████████| 3/3 [00:00<00:00, 368.76it/s]\n",
      "Generating walks (CPU: 3): 100%|██████████| 2/2 [00:00<00:00, 460.71it/s]\n"
     ]
    },
    {
     "name": "stdout",
     "output_type": "stream",
     "text": [
      "Unk percentage: 0.006644518272425249\n"
     ]
    },
    {
     "name": "stderr",
     "output_type": "stream",
     "text": [
      "Generating walks (CPU: 4): 100%|██████████| 2/2 [00:00<00:00, 450.30it/s]\n"
     ]
    },
    {
     "name": "stdout",
     "output_type": "stream",
     "text": [
      "cluster began\n",
      "cluster end\n"
     ]
    },
    {
     "name": "stderr",
     "output_type": "stream",
     "text": [
      "Computing transition probabilities: 100%|██████████| 141/141 [00:00<00:00, 23797.71it/s]\n",
      "Generating walks (CPU: 1): 100%|██████████| 3/3 [00:00<00:00, 1294.54it/s]\n",
      "Generating walks (CPU: 2): 100%|██████████| 3/3 [00:00<00:00, 1335.62it/s]\n",
      "Generating walks (CPU: 3): 100%|██████████| 2/2 [00:00<00:00, 1557.77it/s]\n",
      "Generating walks (CPU: 4): 100%|██████████| 2/2 [00:00<00:00, 808.07it/s]\n"
     ]
    },
    {
     "name": "stdout",
     "output_type": "stream",
     "text": [
      "Unk percentage: 0.002549087151222873\n",
      "Unk percentage: 0.003051881993896236\n",
      "cluster began\n",
      "cluster end\n"
     ]
    },
    {
     "name": "stderr",
     "output_type": "stream",
     "text": [
      "\r",
      "Computing transition probabilities:   0%|          | 0/355 [00:00<?, ?it/s]"
     ]
    },
    {
     "name": "stdout",
     "output_type": "stream",
     "text": [
      "Unk percentage: 0.0009549578226961642\n"
     ]
    },
    {
     "name": "stderr",
     "output_type": "stream",
     "text": [
      "Computing transition probabilities: 100%|██████████| 355/355 [00:00<00:00, 13434.91it/s]\n",
      "Generating walks (CPU: 1): 100%|██████████| 3/3 [00:00<00:00, 480.37it/s]\n",
      "Generating walks (CPU: 2): 100%|██████████| 3/3 [00:00<00:00, 643.17it/s]\n",
      "Generating walks (CPU: 3): 100%|██████████| 2/2 [00:00<00:00, 820.32it/s]\n",
      "Generating walks (CPU: 4): 100%|██████████| 2/2 [00:00<00:00, 499.80it/s]\n"
     ]
    },
    {
     "name": "stdout",
     "output_type": "stream",
     "text": [
      "Unk percentage: 0.000656024491581019\n",
      "Unk percentage: 0.004411764705882353\n",
      "Unk percentage: 0.0006563833278634722\n",
      "Unk percentage: 0.0073200488003253355\n",
      "Unk percentage: 0.006675567423230975\n",
      "Unk percentage: 0.0072602216278181125\n",
      "Unk percentage: 0.0012340600575894694\n",
      "Unk percentage: 0.007863340563991324\n",
      "Unk percentage: 0.0012539184952978057\n",
      "Unk percentage: 0.0019342359767891683\n",
      "Unk percentage: 0.008267568583239383\n",
      "Unk percentage: 0.005190311418685121\n",
      "Unk percentage: 0.0013764624913971094\n",
      "Unk percentage: 0.0012277470841006752\n",
      "Unk percentage: 0.0022624434389140274\n",
      "Unk percentage: 0.00135464643727987\n",
      "Unk percentage: 0.009523809523809525\n",
      "cluster began\n",
      "cluster end\n"
     ]
    },
    {
     "name": "stderr",
     "output_type": "stream",
     "text": [
      "Computing transition probabilities: 100%|██████████| 101/101 [00:00<00:00, 17977.62it/s]\n",
      "Generating walks (CPU: 1): 100%|██████████| 3/3 [00:00<00:00, 1404.50it/s]\n",
      "Generating walks (CPU: 2): 100%|██████████| 3/3 [00:00<00:00, 1017.95it/s]\n",
      "Generating walks (CPU: 3): 100%|██████████| 2/2 [00:00<00:00, 913.29it/s]\n",
      "Generating walks (CPU: 4): 100%|██████████| 2/2 [00:00<00:00, 2049.50it/s]\n"
     ]
    },
    {
     "name": "stdout",
     "output_type": "stream",
     "text": [
      "Unk percentage: 0.001977587343441002\n",
      "Unk percentage: 0.0037712771379064315\n",
      "Unk percentage: 0.0010479983232026828\n",
      "Unk percentage: 0.0009637006103437199\n",
      "Unk percentage: 0.0027220142905750254\n",
      "Unk percentage: 0.005590900327742433\n",
      "Unk percentage: 0.0022471910112359553\n",
      "cluster began\n",
      "cluster end\n"
     ]
    },
    {
     "name": "stderr",
     "output_type": "stream",
     "text": [
      "Computing transition probabilities: 100%|██████████| 347/347 [00:00<00:00, 15473.52it/s]\n",
      "Generating walks (CPU: 1): 100%|██████████| 3/3 [00:00<00:00, 510.07it/s]\n",
      "Generating walks (CPU: 2): 100%|██████████| 3/3 [00:00<00:00, 464.47it/s]\n",
      "Generating walks (CPU: 3): 100%|██████████| 2/2 [00:00<00:00, 354.71it/s]\n",
      "Generating walks (CPU: 4): 100%|██████████| 2/2 [00:00<00:00, 321.30it/s]\n"
     ]
    },
    {
     "name": "stdout",
     "output_type": "stream",
     "text": [
      "Unk percentage: 0.002344207853096308\n",
      "Unk percentage: 0.001630561378989052\n",
      "Unk percentage: 0.0017332387930355314\n",
      "Unk percentage: 0.00550812448361333\n",
      "Unk percentage: 0.009052631578947368\n",
      "Unk percentage: 0.0036413659168150186\n",
      "Unk percentage: 0.0013536379018612521\n",
      "Unk percentage: 0.0025929127052722557\n",
      "Unk percentage: 0.0061777600637704265\n",
      "Unk percentage: 0.004499799116110888\n",
      "Unk percentage: 0.0053475935828877\n",
      "cluster began\n",
      "cluster end\n"
     ]
    },
    {
     "name": "stderr",
     "output_type": "stream",
     "text": [
      "Computing transition probabilities: 100%|██████████| 237/237 [00:00<00:00, 21579.29it/s]\n",
      "Generating walks (CPU: 1): 100%|██████████| 3/3 [00:00<00:00, 709.86it/s]\n",
      "Generating walks (CPU: 2):   0%|          | 0/3 [00:00<?, ?it/s]"
     ]
    },
    {
     "name": "stdout",
     "output_type": "stream",
     "text": [
      "Unk percentage: 0.004098360655737705\n"
     ]
    },
    {
     "name": "stderr",
     "output_type": "stream",
     "text": [
      "Generating walks (CPU: 2): 100%|██████████| 3/3 [00:00<00:00, 326.34it/s]\n",
      "Generating walks (CPU: 3): 100%|██████████| 2/2 [00:00<00:00, 926.41it/s]\n",
      "Generating walks (CPU: 4): 100%|██████████| 2/2 [00:00<00:00, 582.99it/s]\n"
     ]
    },
    {
     "name": "stdout",
     "output_type": "stream",
     "text": [
      "Unk percentage: 0.005361930294906166\n",
      "cluster began\n",
      "cluster end\n"
     ]
    },
    {
     "name": "stderr",
     "output_type": "stream",
     "text": [
      "Computing transition probabilities: 100%|██████████| 188/188 [00:00<00:00, 15091.47it/s]\n",
      "Generating walks (CPU: 1): 100%|██████████| 3/3 [00:00<00:00, 1088.77it/s]\n",
      "Generating walks (CPU: 2): 100%|██████████| 3/3 [00:00<00:00, 1167.03it/s]\n",
      "Generating walks (CPU: 3): 100%|██████████| 2/2 [00:00<00:00, 1103.47it/s]\n",
      "Generating walks (CPU: 4): 100%|██████████| 2/2 [00:00<00:00, 1016.80it/s]\n"
     ]
    },
    {
     "name": "stdout",
     "output_type": "stream",
     "text": [
      "Unk percentage: 0.006872852233676976\n",
      "cluster began\n",
      "cluster end\n"
     ]
    },
    {
     "name": "stderr",
     "output_type": "stream",
     "text": [
      "Computing transition probabilities: 100%|██████████| 257/257 [00:00<00:00, 24940.10it/s]\n",
      "Generating walks (CPU: 1): 100%|██████████| 3/3 [00:00<00:00, 930.96it/s]\n",
      "Generating walks (CPU: 2): 100%|██████████| 3/3 [00:00<00:00, 858.26it/s]\n",
      "Generating walks (CPU: 3): 100%|██████████| 2/2 [00:00<00:00, 1128.56it/s]\n",
      "Generating walks (CPU: 4): 100%|██████████| 2/2 [00:00<00:00, 919.50it/s]\n"
     ]
    },
    {
     "name": "stdout",
     "output_type": "stream",
     "text": [
      "Unk percentage: 0.0021344717182497333\n",
      "Unk percentage: 0.001813647698934482\n",
      "Unk percentage: 0.0015625\n",
      "Unk percentage: 0.0011409013120365088\n",
      "Unk percentage: 0.002277904328018223\n",
      "cluster began\n",
      "cluster end\n"
     ]
    },
    {
     "name": "stderr",
     "output_type": "stream",
     "text": [
      "Computing transition probabilities: 100%|██████████| 341/341 [00:00<00:00, 8733.70it/s]\n",
      "Generating walks (CPU: 1): 100%|██████████| 3/3 [00:00<00:00, 385.94it/s]\n",
      "Generating walks (CPU: 2): 100%|██████████| 3/3 [00:00<00:00, 452.31it/s]\n",
      "Generating walks (CPU: 3): 100%|██████████| 2/2 [00:00<00:00, 334.75it/s]\n",
      "Generating walks (CPU: 4): 100%|██████████| 2/2 [00:00<00:00, 547.74it/s]\n"
     ]
    },
    {
     "name": "stdout",
     "output_type": "stream",
     "text": [
      "Unk percentage: 0.002425712553062462\n",
      "Unk percentage: 0.0038779923931687673\n",
      "Unk percentage: 0.0049261083743842365\n",
      "cluster began\n",
      "cluster end\n"
     ]
    },
    {
     "name": "stderr",
     "output_type": "stream",
     "text": [
      "Computing transition probabilities: 100%|██████████| 282/282 [00:00<00:00, 10755.70it/s]\n",
      "Generating walks (CPU: 1):   0%|          | 0/3 [00:00<?, ?it/s]"
     ]
    },
    {
     "name": "stdout",
     "output_type": "stream",
     "text": [
      "Unk percentage: 0.006265322800326887\n"
     ]
    },
    {
     "name": "stderr",
     "output_type": "stream",
     "text": [
      "Generating walks (CPU: 1): 100%|██████████| 3/3 [00:00<00:00, 438.69it/s]\n",
      "Generating walks (CPU: 2): 100%|██████████| 3/3 [00:00<00:00, 324.11it/s]\n",
      "Generating walks (CPU: 3): 100%|██████████| 2/2 [00:00<00:00, 412.30it/s]\n",
      "Generating walks (CPU: 4): 100%|██████████| 2/2 [00:00<00:00, 303.48it/s]\n"
     ]
    },
    {
     "name": "stdout",
     "output_type": "stream",
     "text": [
      "Unk percentage: 0.0027772063361448263\n",
      "Unk percentage: 0.007782101167315175\n",
      "cluster began\n",
      "cluster end\n"
     ]
    },
    {
     "name": "stderr",
     "output_type": "stream",
     "text": [
      "Computing transition probabilities: 100%|██████████| 182/182 [00:00<00:00, 20691.84it/s]\n",
      "Generating walks (CPU: 1): 100%|██████████| 3/3 [00:00<00:00, 1684.46it/s]\n",
      "Generating walks (CPU: 2): 100%|██████████| 3/3 [00:00<00:00, 1541.83it/s]\n",
      "Generating walks (CPU: 3): 100%|██████████| 2/2 [00:00<00:00, 1546.00it/s]\n",
      "Generating walks (CPU: 4): 100%|██████████| 2/2 [00:00<00:00, 1725.34it/s]\n"
     ]
    },
    {
     "name": "stdout",
     "output_type": "stream",
     "text": [
      "Unk percentage: 0.003592814371257485\n",
      "Unk percentage: 0.0021987686895338612\n",
      "Unk percentage: 0.001834862385321101\n",
      "cluster began\n",
      "cluster end\n"
     ]
    },
    {
     "name": "stderr",
     "output_type": "stream",
     "text": [
      "Computing transition probabilities: 100%|██████████| 368/368 [00:00<00:00, 11563.82it/s]\n",
      "Generating walks (CPU: 1): 100%|██████████| 3/3 [00:00<00:00, 390.96it/s]\n",
      "Generating walks (CPU: 2): 100%|██████████| 3/3 [00:00<00:00, 679.35it/s]\n",
      "Generating walks (CPU: 3): 100%|██████████| 2/2 [00:00<00:00, 446.96it/s]\n",
      "Generating walks (CPU: 4): 100%|██████████| 2/2 [00:00<00:00, 401.60it/s]\n"
     ]
    },
    {
     "name": "stdout",
     "output_type": "stream",
     "text": [
      "Unk percentage: 0.0014204545454545455\n",
      "Unk percentage: 0.00459194322688374\n",
      "Unk percentage: 0.0019695613249776185\n",
      "Unk percentage: 0.0021164021164021165\n",
      "Unk percentage: 0.001652892561983471\n",
      "Unk percentage: 0.002208155454143972\n",
      "Unk percentage: 0.002851033499643621\n",
      "Unk percentage: 0.0032634032634032634\n",
      "Unk percentage: 0.0021253985122210413\n",
      "Unk percentage: 0.004098360655737705\n",
      "cluster began\n",
      "cluster end\n"
     ]
    },
    {
     "name": "stderr",
     "output_type": "stream",
     "text": [
      "Computing transition probabilities: 100%|██████████| 127/127 [00:00<00:00, 13028.66it/s]\n",
      "Generating walks (CPU: 1): 100%|██████████| 3/3 [00:00<00:00, 1060.69it/s]\n",
      "Generating walks (CPU: 2): 100%|██████████| 3/3 [00:00<00:00, 1104.93it/s]\n",
      "Generating walks (CPU: 3): 100%|██████████| 2/2 [00:00<00:00, 719.19it/s]\n",
      "Generating walks (CPU: 4): 100%|██████████| 2/2 [00:00<00:00, 944.66it/s]\n"
     ]
    },
    {
     "name": "stdout",
     "output_type": "stream",
     "text": [
      "Unk percentage: 0.002040122407344441\n",
      "Unk percentage: 0.0030902348578491965\n",
      "Unk percentage: 0.003205128205128205\n",
      "cluster began\n",
      "cluster end\n"
     ]
    },
    {
     "name": "stderr",
     "output_type": "stream",
     "text": [
      "\r",
      "Computing transition probabilities:   0%|          | 0/252 [00:00<?, ?it/s]"
     ]
    },
    {
     "name": "stdout",
     "output_type": "stream",
     "text": [
      "Unk percentage: 0.0023023791250959325\n"
     ]
    },
    {
     "name": "stderr",
     "output_type": "stream",
     "text": [
      "Computing transition probabilities: 100%|██████████| 252/252 [00:00<00:00, 29790.43it/s]\n",
      "Generating walks (CPU: 1): 100%|██████████| 3/3 [00:00<00:00, 947.79it/s]\n",
      "Generating walks (CPU: 2): 100%|██████████| 3/3 [00:00<00:00, 1574.24it/s]\n",
      "Generating walks (CPU: 3): 100%|██████████| 2/2 [00:00<00:00, 974.29it/s]\n",
      "Generating walks (CPU: 4): 100%|██████████| 2/2 [00:00<00:00, 924.16it/s]\n"
     ]
    },
    {
     "name": "stdout",
     "output_type": "stream",
     "text": [
      "Unk percentage: 0.0010554089709762533\n",
      "Unk percentage: 0.0011111111111111111\n",
      "Unk percentage: 0.0032858707557502738\n",
      "Unk percentage: 0.005791505791505791\n",
      "cluster began\n",
      "cluster end\n"
     ]
    },
    {
     "name": "stderr",
     "output_type": "stream",
     "text": [
      "Computing transition probabilities: 100%|██████████| 369/369 [00:00<00:00, 15942.01it/s]\n",
      "Generating walks (CPU: 1): 100%|██████████| 3/3 [00:00<00:00, 675.16it/s]\n",
      "Generating walks (CPU: 2): 100%|██████████| 3/3 [00:00<00:00, 375.15it/s]\n",
      "Generating walks (CPU: 3): 100%|██████████| 2/2 [00:00<00:00, 334.86it/s]\n",
      "Generating walks (CPU: 4): 100%|██████████| 2/2 [00:00<00:00, 374.44it/s]\n"
     ]
    },
    {
     "name": "stdout",
     "output_type": "stream",
     "text": [
      "Unk percentage: 0.009230769230769232\n",
      "cluster began\n",
      "cluster end\n"
     ]
    },
    {
     "name": "stderr",
     "output_type": "stream",
     "text": [
      "Computing transition probabilities: 100%|██████████| 149/149 [00:00<00:00, 18718.96it/s]\n",
      "Generating walks (CPU: 1): 100%|██████████| 3/3 [00:00<00:00, 863.38it/s]\n",
      "Generating walks (CPU: 2): 100%|██████████| 3/3 [00:00<00:00, 1151.02it/s]\n",
      "Generating walks (CPU: 3): 100%|██████████| 2/2 [00:00<00:00, 937.07it/s]\n",
      "Generating walks (CPU: 4): 100%|██████████| 2/2 [00:00<00:00, 1649.68it/s]\n"
     ]
    },
    {
     "name": "stdout",
     "output_type": "stream",
     "text": [
      "Unk percentage: 0.006514657980456026\n",
      "cluster began\n",
      "cluster end\n"
     ]
    },
    {
     "name": "stderr",
     "output_type": "stream",
     "text": [
      "Computing transition probabilities: 100%|██████████| 246/246 [00:00<00:00, 11869.17it/s]\n",
      "Generating walks (CPU: 1): 100%|██████████| 3/3 [00:00<00:00, 707.78it/s]\n",
      "Generating walks (CPU: 2): 100%|██████████| 3/3 [00:00<00:00, 794.13it/s]\n",
      "Generating walks (CPU: 3): 100%|██████████| 2/2 [00:00<00:00, 1290.75it/s]\n",
      "Generating walks (CPU: 4): 100%|██████████| 2/2 [00:00<00:00, 1410.09it/s]\n"
     ]
    },
    {
     "name": "stdout",
     "output_type": "stream",
     "text": [
      "Unk percentage: 0.006884343036978757\n",
      "Unk percentage: 0.004667444574095682\n",
      "cluster began\n",
      "cluster end\n"
     ]
    },
    {
     "name": "stderr",
     "output_type": "stream",
     "text": [
      "Computing transition probabilities: 100%|██████████| 365/365 [00:00<00:00, 11116.35it/s]\n",
      "Generating walks (CPU: 1): 100%|██████████| 3/3 [00:00<00:00, 231.19it/s]\n",
      "Generating walks (CPU: 2): 100%|██████████| 3/3 [00:00<00:00, 268.65it/s]\n",
      "Generating walks (CPU: 3): 100%|██████████| 2/2 [00:00<00:00, 408.09it/s]\n",
      "Generating walks (CPU: 4): 100%|██████████| 2/2 [00:00<00:00, 678.36it/s]\n"
     ]
    },
    {
     "name": "stdout",
     "output_type": "stream",
     "text": [
      "Unk percentage: 0.0036510376633358955\n",
      "Unk percentage: 0.002793296089385475\n",
      "Unk percentage: 0.002551020408163265\n",
      "cluster began\n",
      "cluster end\n"
     ]
    },
    {
     "name": "stderr",
     "output_type": "stream",
     "text": [
      "Computing transition probabilities: 100%|██████████| 311/311 [00:00<00:00, 9510.69it/s]\n",
      "Generating walks (CPU: 1): 100%|██████████| 3/3 [00:00<00:00, 380.48it/s]\n",
      "Generating walks (CPU: 2): 100%|██████████| 3/3 [00:00<00:00, 437.67it/s]\n",
      "Generating walks (CPU: 3): 100%|██████████| 2/2 [00:00<00:00, 397.17it/s]\n",
      "Generating walks (CPU: 4): 100%|██████████| 2/2 [00:00<00:00, 355.54it/s]\n"
     ]
    },
    {
     "name": "stdout",
     "output_type": "stream",
     "text": [
      "Unk percentage: 0.001534526854219949\n",
      "Unk percentage: 0.002482929857231533\n",
      "Unk percentage: 0.0017493986442160508\n",
      "Unk percentage: 0.001885014137606032\n",
      "cluster began\n",
      "cluster end\n"
     ]
    },
    {
     "name": "stderr",
     "output_type": "stream",
     "text": [
      "Computing transition probabilities: 100%|██████████| 377/377 [00:00<00:00, 13988.06it/s]\n",
      "Generating walks (CPU: 1): 100%|██████████| 3/3 [00:00<00:00, 434.16it/s]\n",
      "Generating walks (CPU: 2): 100%|██████████| 3/3 [00:00<00:00, 772.38it/s]\n",
      "Generating walks (CPU: 3): 100%|██████████| 2/2 [00:00<00:00, 412.44it/s]\n",
      "Generating walks (CPU: 4): 100%|██████████| 2/2 [00:00<00:00, 560.36it/s]\n"
     ]
    },
    {
     "name": "stdout",
     "output_type": "stream",
     "text": [
      "Unk percentage: 0.002103049421661409\n",
      "cluster began\n",
      "cluster end\n"
     ]
    },
    {
     "name": "stderr",
     "output_type": "stream",
     "text": [
      "Computing transition probabilities: 100%|██████████| 354/354 [00:00<00:00, 19856.95it/s]\n",
      "Generating walks (CPU: 1): 100%|██████████| 3/3 [00:00<00:00, 782.28it/s]\n",
      "Generating walks (CPU: 2): 100%|██████████| 3/3 [00:00<00:00, 42.61it/s]\n",
      "Generating walks (CPU: 3): 100%|██████████| 2/2 [00:00<00:00, 477.79it/s]\n",
      "Generating walks (CPU: 4): 100%|██████████| 2/2 [00:00<00:00, 480.64it/s]\n"
     ]
    },
    {
     "name": "stdout",
     "output_type": "stream",
     "text": [
      "Unk percentage: 0.013078826440438318\n",
      "Unk percentage: 0.005255527364987314\n",
      "Unk percentage: 0.009847198641765705\n",
      "Unk percentage: 0.007611241217798595\n",
      "Unk percentage: 0.00603090840557859\n",
      "Unk percentage: 0.0033250207813798837\n",
      "Unk percentage: 0.00468448608432075\n",
      "Unk percentage: 0.005012531328320802\n",
      "Unk percentage: 0.008960855211444742\n",
      "Unk percentage: 0.002577319587628866\n",
      "Unk percentage: 0.006331976481230212\n",
      "Unk percentage: 0.0017237664296487825\n",
      "Unk percentage: 0.009585330277141072\n",
      "Unk percentage: 0.006279434850863423\n",
      "Unk percentage: 0.0016741071428571428\n",
      "Unk percentage: 0.0011716461628588166\n",
      "Unk percentage: 0.001349527665317139\n",
      "Unk percentage: 0.002457002457002457\n",
      "Unk percentage: 0.0011799410029498525\n",
      "Unk percentage: 0.0015503875968992248\n",
      "Unk percentage: 0.008518269446312485\n",
      "Unk percentage: 0.010966693744922826\n",
      "Unk percentage: 0.00584668687743612\n",
      "Unk percentage: 0.012325390304026294\n",
      "cluster began\n",
      "cluster end\n"
     ]
    },
    {
     "name": "stderr",
     "output_type": "stream",
     "text": [
      "Computing transition probabilities: 100%|██████████| 398/398 [00:00<00:00, 12439.33it/s]\n",
      "Generating walks (CPU: 1): 100%|██████████| 3/3 [00:00<00:00, 359.14it/s]\n",
      "Generating walks (CPU: 2): 100%|██████████| 3/3 [00:00<00:00, 585.82it/s]\n",
      "Generating walks (CPU: 3): 100%|██████████| 2/2 [00:00<00:00, 536.56it/s]\n",
      "Generating walks (CPU: 4): 100%|██████████| 2/2 [00:00<00:00, 324.88it/s]\n"
     ]
    },
    {
     "name": "stdout",
     "output_type": "stream",
     "text": [
      "Unk percentage: 0.009578024758290412\n",
      "Unk percentage: 0.002984264785675529\n",
      "Unk percentage: 0.0014405762304921968\n",
      "Unk percentage: 0.0011365481409319695\n",
      "Unk percentage: 0.004722448804361825\n",
      "Unk percentage: 0.0018610421836228288\n",
      "Unk percentage: 0.00236833904643191\n",
      "Unk percentage: 0.0034482758620689655\n",
      "cluster began\n",
      "cluster end\n"
     ]
    },
    {
     "name": "stderr",
     "output_type": "stream",
     "text": [
      "Computing transition probabilities: 100%|██████████| 207/207 [00:00<00:00, 12362.01it/s]\n",
      "Generating walks (CPU: 1): 100%|██████████| 3/3 [00:00<00:00, 799.68it/s]\n",
      "Generating walks (CPU: 2): 100%|██████████| 3/3 [00:00<00:00, 866.77it/s]\n",
      "Generating walks (CPU: 3): 100%|██████████| 2/2 [00:00<00:00, 1241.10it/s]\n",
      "Generating walks (CPU: 4): 100%|██████████| 2/2 [00:00<00:00, 820.24it/s]\n"
     ]
    },
    {
     "name": "stdout",
     "output_type": "stream",
     "text": [
      "Unk percentage: 0.0009161704076958314\n",
      "Unk percentage: 0.0037561398439757295\n",
      "Unk percentage: 0.005389126644476145\n",
      "Unk percentage: 0.00040257648953301127\n",
      "Unk percentage: 0.0028095148904289193\n",
      "Unk percentage: 0.006369426751592357\n",
      "cluster began\n",
      "cluster end\n"
     ]
    },
    {
     "name": "stderr",
     "output_type": "stream",
     "text": [
      "Computing transition probabilities: 100%|██████████| 213/213 [00:00<00:00, 16962.29it/s]\n",
      "Generating walks (CPU: 1): 100%|██████████| 3/3 [00:00<00:00, 861.08it/s]\n",
      "Generating walks (CPU: 2): 100%|██████████| 3/3 [00:00<00:00, 1222.35it/s]\n",
      "Generating walks (CPU: 3): 100%|██████████| 2/2 [00:00<00:00, 884.41it/s]\n",
      "Generating walks (CPU: 4): 100%|██████████| 2/2 [00:00<00:00, 1045.70it/s]\n"
     ]
    },
    {
     "name": "stdout",
     "output_type": "stream",
     "text": [
      "Unk percentage: 0.001272264631043257\n",
      "Unk percentage: 0.0009886307464162135\n",
      "Unk percentage: 0.0011945052757316346\n",
      "Unk percentage: 0.0011195700850873264\n",
      "Unk percentage: 0.0014265335235378032\n",
      "Unk percentage: 0.0005247507433968865\n",
      "Unk percentage: 0.0012934518997574779\n",
      "Unk percentage: 0.006211180124223602\n",
      "cluster began\n",
      "cluster end\n"
     ]
    },
    {
     "name": "stderr",
     "output_type": "stream",
     "text": [
      "Computing transition probabilities: 100%|██████████| 158/158 [00:00<00:00, 12770.02it/s]\n",
      "Generating walks (CPU: 1): 100%|██████████| 3/3 [00:00<00:00, 904.01it/s]\n",
      "Generating walks (CPU: 2): 100%|██████████| 3/3 [00:00<00:00, 914.79it/s]\n",
      "Generating walks (CPU: 3): 100%|██████████| 2/2 [00:00<00:00, 899.20it/s]\n",
      "Generating walks (CPU: 4): 100%|██████████| 2/2 [00:00<00:00, 1463.73it/s]\n"
     ]
    },
    {
     "name": "stdout",
     "output_type": "stream",
     "text": [
      "Unk percentage: 0.004968944099378882\n",
      "cluster began\n",
      "cluster end\n"
     ]
    },
    {
     "name": "stderr",
     "output_type": "stream",
     "text": [
      "Computing transition probabilities: 100%|██████████| 323/323 [00:00<00:00, 10996.61it/s]\n",
      "Generating walks (CPU: 1): 100%|██████████| 3/3 [00:00<00:00, 722.57it/s]\n",
      "Generating walks (CPU: 2): 100%|██████████| 3/3 [00:00<00:00, 779.08it/s]\n",
      "Generating walks (CPU: 3): 100%|██████████| 2/2 [00:00<00:00, 557.16it/s]\n",
      "Generating walks (CPU: 4): 100%|██████████| 2/2 [00:00<00:00, 555.35it/s]\n"
     ]
    },
    {
     "name": "stdout",
     "output_type": "stream",
     "text": [
      "Unk percentage: 0.003121488325633662\n",
      "Unk percentage: 0.0014086310667178897\n",
      "Unk percentage: 0.009615384615384616\n",
      "cluster began\n",
      "cluster end\n"
     ]
    },
    {
     "name": "stderr",
     "output_type": "stream",
     "text": [
      "Computing transition probabilities: 100%|██████████| 145/145 [00:00<00:00, 21176.72it/s]\n",
      "Generating walks (CPU: 1): 100%|██████████| 3/3 [00:00<00:00, 1826.52it/s]\n",
      "Generating walks (CPU: 2): 100%|██████████| 3/3 [00:00<00:00, 1171.48it/s]\n",
      "Generating walks (CPU: 3): 100%|██████████| 2/2 [00:00<00:00, 1114.77it/s]\n",
      "Generating walks (CPU: 4): 100%|██████████| 2/2 [00:00<00:00, 995.80it/s]\n"
     ]
    },
    {
     "name": "stdout",
     "output_type": "stream",
     "text": [
      "Unk percentage: 0.003125\n",
      "cluster began\n",
      "cluster end\n"
     ]
    },
    {
     "name": "stderr",
     "output_type": "stream",
     "text": [
      "Computing transition probabilities: 100%|██████████| 263/263 [00:00<00:00, 7970.22it/s]\n",
      "Generating walks (CPU: 1): 100%|██████████| 3/3 [00:00<00:00, 465.91it/s]\n",
      "Generating walks (CPU: 2): 100%|██████████| 3/3 [00:00<00:00, 680.05it/s]\n",
      "Generating walks (CPU: 3): 100%|██████████| 2/2 [00:00<00:00, 464.92it/s]\n",
      "Generating walks (CPU: 4): 100%|██████████| 2/2 [00:00<00:00, 461.17it/s]\n"
     ]
    },
    {
     "name": "stdout",
     "output_type": "stream",
     "text": [
      "Unk percentage: 0.001386138613861386\n",
      "Unk percentage: 0.0029940119760479044\n",
      "cluster began\n",
      "cluster end\n"
     ]
    },
    {
     "name": "stderr",
     "output_type": "stream",
     "text": [
      "Computing transition probabilities: 100%|██████████| 249/249 [00:00<00:00, 14677.77it/s]\n",
      "Generating walks (CPU: 1): 100%|██████████| 3/3 [00:00<00:00, 531.22it/s]\n",
      "Generating walks (CPU: 2): 100%|██████████| 3/3 [00:00<00:00, 824.08it/s]\n",
      "Generating walks (CPU: 3): 100%|██████████| 2/2 [00:00<00:00, 550.25it/s]\n",
      "Generating walks (CPU: 4): 100%|██████████| 2/2 [00:00<00:00, 546.67it/s]\n"
     ]
    },
    {
     "name": "stdout",
     "output_type": "stream",
     "text": [
      "Unk percentage: 0.002243409983174425\n",
      "Unk percentage: 0.0026936026936026937\n",
      "Unk percentage: 0.003636853448275862\n",
      "Unk percentage: 0.0025996533795493936\n",
      "Unk percentage: 0.008771929824561403\n",
      "cluster began\n",
      "cluster end\n"
     ]
    },
    {
     "name": "stderr",
     "output_type": "stream",
     "text": [
      "Computing transition probabilities: 100%|██████████| 163/163 [00:00<00:00, 14737.79it/s]\n",
      "Generating walks (CPU: 1): 100%|██████████| 3/3 [00:00<00:00, 884.00it/s]\n",
      "Generating walks (CPU: 2): 100%|██████████| 3/3 [00:00<00:00, 1497.43it/s]\n",
      "Generating walks (CPU: 3): 100%|██████████| 2/2 [00:00<00:00, 1554.31it/s]\n",
      "Generating walks (CPU: 4): 100%|██████████| 2/2 [00:00<00:00, 823.62it/s]\n"
     ]
    },
    {
     "name": "stdout",
     "output_type": "stream",
     "text": [
      "Unk percentage: 0.004243281471004243\n",
      "cluster began\n",
      "cluster end\n"
     ]
    },
    {
     "name": "stderr",
     "output_type": "stream",
     "text": [
      "Computing transition probabilities: 100%|██████████| 258/258 [00:00<00:00, 16732.85it/s]\n",
      "Generating walks (CPU: 1): 100%|██████████| 3/3 [00:00<00:00, 1067.98it/s]\n",
      "Generating walks (CPU: 2): 100%|██████████| 3/3 [00:00<00:00, 1038.54it/s]\n",
      "Generating walks (CPU: 3): 100%|██████████| 2/2 [00:00<00:00, 1025.13it/s]\n",
      "Generating walks (CPU: 4): 100%|██████████| 2/2 [00:00<00:00, 643.79it/s]\n"
     ]
    },
    {
     "name": "stdout",
     "output_type": "stream",
     "text": [
      "Unk percentage: 0.003487792725460887\n",
      "Unk percentage: 0.0010657193605683837\n",
      "Unk percentage: 0.0008016032064128256\n",
      "Unk percentage: 0.0024813895781637717\n",
      "cluster began\n",
      "cluster end\n"
     ]
    },
    {
     "name": "stderr",
     "output_type": "stream",
     "text": [
      "Computing transition probabilities: 100%|██████████| 280/280 [00:00<00:00, 9568.23it/s]\n",
      "Generating walks (CPU: 1): 100%|██████████| 3/3 [00:00<00:00, 578.66it/s]\n",
      "Generating walks (CPU: 2): 100%|██████████| 3/3 [00:00<00:00, 913.13it/s]\n",
      "Generating walks (CPU: 3): 100%|██████████| 2/2 [00:00<00:00, 629.49it/s]\n",
      "Generating walks (CPU: 4): 100%|██████████| 2/2 [00:00<00:00, 599.10it/s]\n"
     ]
    },
    {
     "name": "stdout",
     "output_type": "stream",
     "text": [
      "Unk percentage: 0.002311604253351826\n",
      "Unk percentage: 0.001541277333590213\n",
      "Unk percentage: 0.0007019514249613927\n",
      "Unk percentage: 0.0010845986984815619\n",
      "Unk percentage: 0.00353045013239188\n",
      "cluster began\n",
      "cluster end\n"
     ]
    },
    {
     "name": "stderr",
     "output_type": "stream",
     "text": [
      "Computing transition probabilities: 100%|██████████| 401/401 [00:00<00:00, 8845.39it/s]\n",
      "Generating walks (CPU: 1): 100%|██████████| 3/3 [00:00<00:00, 556.03it/s]\n",
      "Generating walks (CPU: 2): 100%|██████████| 3/3 [00:00<00:00, 348.98it/s]\n",
      "Generating walks (CPU: 3): 100%|██████████| 2/2 [00:00<00:00, 497.93it/s]\n",
      "Generating walks (CPU: 4): 100%|██████████| 2/2 [00:00<00:00, 382.53it/s]\n"
     ]
    },
    {
     "name": "stdout",
     "output_type": "stream",
     "text": [
      "Unk percentage: 0.004213938411669368\n",
      "Unk percentage: 0.0014577259475218659\n",
      "Unk percentage: 0.0015748031496062992\n",
      "Unk percentage: 0.0007386615452799527\n",
      "Unk percentage: 0.004566758803028482\n",
      "Unk percentage: 0.003977272727272727\n",
      "Unk percentage: 0.001557632398753894\n",
      "Unk percentage: 0.00644122383252818\n",
      "Unk percentage: 0.0016933207902163688\n",
      "Unk percentage: 0.008059516429014259\n",
      "Unk percentage: 0.0008726003490401396\n",
      "Unk percentage: 0.0017053206002728514\n",
      "Unk percentage: 0.0037174721189591076\n",
      "Unk percentage: 0.00267379679144385\n",
      "Unk percentage: 0.013358222014816543\n",
      "cluster began\n",
      "cluster end\n"
     ]
    },
    {
     "name": "stderr",
     "output_type": "stream",
     "text": [
      "Computing transition probabilities: 100%|██████████| 298/298 [00:00<00:00, 16661.81it/s]\n",
      "Generating walks (CPU: 1): 100%|██████████| 3/3 [00:00<00:00, 526.53it/s]\n",
      "Generating walks (CPU: 2): 100%|██████████| 3/3 [00:00<00:00, 1048.75it/s]\n",
      "Generating walks (CPU: 3): 100%|██████████| 2/2 [00:00<00:00, 845.20it/s]\n",
      "Generating walks (CPU: 4): 100%|██████████| 2/2 [00:00<00:00, 964.65it/s]\n"
     ]
    },
    {
     "name": "stdout",
     "output_type": "stream",
     "text": [
      "Unk percentage: 0.0016666666666666668\n",
      "Unk percentage: 0.0005584512285927029\n",
      "Unk percentage: 0.0016175994823681655\n",
      "Unk percentage: 0.0069096245566833804\n",
      "Unk percentage: 0.000819672131147541\n",
      "Unk percentage: 0.0068560235063663075\n",
      "cluster began\n",
      "cluster end\n"
     ]
    },
    {
     "name": "stderr",
     "output_type": "stream",
     "text": [
      "Computing transition probabilities: 100%|██████████| 285/285 [00:00<00:00, 15214.94it/s]\n",
      "Generating walks (CPU: 1): 100%|██████████| 3/3 [00:00<00:00, 1232.29it/s]\n",
      "Generating walks (CPU: 2): 100%|██████████| 3/3 [00:00<00:00, 1228.92it/s]\n",
      "Generating walks (CPU: 3): 100%|██████████| 2/2 [00:00<00:00, 871.00it/s]\n",
      "Generating walks (CPU: 4): 100%|██████████| 2/2 [00:00<00:00, 685.68it/s]\n"
     ]
    },
    {
     "name": "stdout",
     "output_type": "stream",
     "text": [
      "Unk percentage: 0.007103825136612022\n",
      "Unk percentage: 0.00529567519858782\n",
      "Unk percentage: 0.0030837004405286344\n",
      "Unk percentage: 0.00351000351000351\n",
      "Unk percentage: 0.003403356413566483\n",
      "Unk percentage: 0.0032674653804263265\n",
      "Unk percentage: 0.004822182037371911\n",
      "Unk percentage: 0.005219985085756898\n",
      "Unk percentage: 0.0113314447592068\n",
      "cluster began\n",
      "cluster end\n"
     ]
    },
    {
     "name": "stderr",
     "output_type": "stream",
     "text": [
      "Computing transition probabilities: 100%|██████████| 159/159 [00:00<00:00, 24730.93it/s]\n",
      "Generating walks (CPU: 1): 100%|██████████| 3/3 [00:00<00:00, 1357.38it/s]\n",
      "Generating walks (CPU: 2): 100%|██████████| 3/3 [00:00<00:00, 1038.45it/s]\n",
      "Generating walks (CPU: 3): 100%|██████████| 2/2 [00:00<00:00, 890.70it/s]\n",
      "Generating walks (CPU: 4): 100%|██████████| 2/2 [00:00<00:00, 1326.47it/s]\n"
     ]
    },
    {
     "name": "stdout",
     "output_type": "stream",
     "text": [
      "Unk percentage: 0.0018351028968410013\n",
      "Unk percentage: 0.0018365472910927456\n",
      "cluster began\n",
      "cluster end\n"
     ]
    },
    {
     "name": "stderr",
     "output_type": "stream",
     "text": [
      "Computing transition probabilities: 100%|██████████| 393/393 [00:00<00:00, 15376.51it/s]\n",
      "Generating walks (CPU: 1): 100%|██████████| 3/3 [00:00<00:00, 316.50it/s]\n",
      "Generating walks (CPU: 2): 100%|██████████| 3/3 [00:00<00:00, 426.87it/s]\n",
      "Generating walks (CPU: 3): 100%|██████████| 2/2 [00:00<00:00, 258.57it/s]\n",
      "Generating walks (CPU: 4): 100%|██████████| 2/2 [00:00<00:00, 322.65it/s]\n"
     ]
    },
    {
     "name": "stdout",
     "output_type": "stream",
     "text": [
      "Unk percentage: 0.001146131805157593\n",
      "Unk percentage: 0.0021996150673632116\n",
      "Unk percentage: 0.0034252344320287497\n",
      "Unk percentage: 0.0031045570462357244\n",
      "Unk percentage: 0.006064408197406943\n",
      "Unk percentage: 0.010169491525423728\n",
      "cluster began\n",
      "cluster end\n"
     ]
    },
    {
     "name": "stderr",
     "output_type": "stream",
     "text": [
      "Computing transition probabilities: 100%|██████████| 131/131 [00:00<00:00, 17963.64it/s]\n",
      "Generating walks (CPU: 1): 100%|██████████| 3/3 [00:00<00:00, 1102.41it/s]\n",
      "Generating walks (CPU: 2): 100%|██████████| 3/3 [00:00<00:00, 1350.10it/s]\n",
      "Generating walks (CPU: 3): 100%|██████████| 2/2 [00:00<00:00, 1102.46it/s]\n",
      "Generating walks (CPU: 4): 100%|██████████| 2/2 [00:00<00:00, 1109.02it/s]\n"
     ]
    },
    {
     "name": "stdout",
     "output_type": "stream",
     "text": [
      "Unk percentage: 0.005479452054794521\n",
      "cluster began\n",
      "cluster end\n"
     ]
    },
    {
     "name": "stderr",
     "output_type": "stream",
     "text": [
      "Computing transition probabilities: 100%|██████████| 391/391 [00:00<00:00, 13402.96it/s]\n",
      "Generating walks (CPU: 1): 100%|██████████| 3/3 [00:00<00:00, 400.27it/s]\n",
      "Generating walks (CPU: 2): 100%|██████████| 3/3 [00:00<00:00, 552.44it/s]\n",
      "Generating walks (CPU: 3): 100%|██████████| 2/2 [00:00<00:00, 530.05it/s]\n",
      "Generating walks (CPU: 4): 100%|██████████| 2/2 [00:00<00:00, 420.92it/s]\n"
     ]
    },
    {
     "name": "stdout",
     "output_type": "stream",
     "text": [
      "Unk percentage: 0.002894356005788712\n",
      "cluster began\n",
      "cluster end\n"
     ]
    },
    {
     "name": "stderr",
     "output_type": "stream",
     "text": [
      "Computing transition probabilities: 100%|██████████| 278/278 [00:00<00:00, 9151.76it/s]\n",
      "Generating walks (CPU: 1): 100%|██████████| 3/3 [00:00<00:00, 532.50it/s]\n",
      "Generating walks (CPU: 2): 100%|██████████| 3/3 [00:00<00:00, 403.92it/s]\n",
      "Generating walks (CPU: 3): 100%|██████████| 2/2 [00:00<00:00, 361.91it/s]\n",
      "Generating walks (CPU: 4): 100%|██████████| 2/2 [00:00<00:00, 425.32it/s]\n"
     ]
    },
    {
     "name": "stdout",
     "output_type": "stream",
     "text": [
      "Unk percentage: 0.001651073197578426\n",
      "Unk percentage: 0.008998875140607425\n",
      "cluster began\n",
      "cluster end\n"
     ]
    },
    {
     "name": "stderr",
     "output_type": "stream",
     "text": [
      "Computing transition probabilities: 100%|██████████| 340/340 [00:00<00:00, 8763.80it/s]\n",
      "Generating walks (CPU: 1): 100%|██████████| 3/3 [00:00<00:00, 305.03it/s]\n",
      "Generating walks (CPU: 2): 100%|██████████| 3/3 [00:00<00:00, 341.70it/s]\n",
      "Generating walks (CPU: 3): 100%|██████████| 2/2 [00:00<00:00, 337.52it/s]\n",
      "Generating walks (CPU: 4): 100%|██████████| 2/2 [00:00<00:00, 450.30it/s]\n"
     ]
    },
    {
     "name": "stdout",
     "output_type": "stream",
     "text": [
      "Unk percentage: 0.005076142131979695\n",
      "cluster began\n",
      "cluster end\n"
     ]
    },
    {
     "name": "stderr",
     "output_type": "stream",
     "text": [
      "Computing transition probabilities: 100%|██████████| 205/205 [00:00<00:00, 17030.09it/s]\n",
      "Generating walks (CPU: 1): 100%|██████████| 3/3 [00:00<00:00, 870.73it/s]\n",
      "Generating walks (CPU: 2): 100%|██████████| 3/3 [00:00<00:00, 911.01it/s]\n",
      "Generating walks (CPU: 3): 100%|██████████| 2/2 [00:00<00:00, 1444.32it/s]\n",
      "Generating walks (CPU: 4): 100%|██████████| 2/2 [00:00<00:00, 1043.75it/s]\n"
     ]
    },
    {
     "name": "stdout",
     "output_type": "stream",
     "text": [
      "Unk percentage: 0.007042253521126761\n",
      "cluster began\n",
      "cluster end\n"
     ]
    },
    {
     "name": "stderr",
     "output_type": "stream",
     "text": [
      "Computing transition probabilities: 100%|██████████| 132/132 [00:00<00:00, 17880.38it/s]\n",
      "Generating walks (CPU: 1): 100%|██████████| 3/3 [00:00<00:00, 1316.34it/s]\n",
      "Generating walks (CPU: 2): 100%|██████████| 3/3 [00:00<00:00, 1412.86it/s]\n",
      "Generating walks (CPU: 3): 100%|██████████| 2/2 [00:00<00:00, 1328.78it/s]\n",
      "Generating walks (CPU: 4): 100%|██████████| 2/2 [00:00<00:00, 1391.15it/s]\n"
     ]
    },
    {
     "name": "stdout",
     "output_type": "stream",
     "text": [
      "Unk percentage: 0.0053136944159597275\n",
      "Unk percentage: 0.002772002772002772\n",
      "Unk percentage: 0.002457002457002457\n",
      "Unk percentage: 0.0030257186081694403\n",
      "Unk percentage: 0.0040650406504065045\n",
      "cluster began\n",
      "cluster end\n"
     ]
    },
    {
     "name": "stderr",
     "output_type": "stream",
     "text": [
      "Computing transition probabilities: 100%|██████████| 318/318 [00:00<00:00, 16068.58it/s]\n",
      "Generating walks (CPU: 1): 100%|██████████| 3/3 [00:00<00:00, 1049.10it/s]\n",
      "Generating walks (CPU: 2): 100%|██████████| 3/3 [00:00<00:00, 1257.29it/s]\n",
      "Generating walks (CPU: 3): 100%|██████████| 2/2 [00:00<00:00, 825.16it/s]\n",
      "Generating walks (CPU: 4): 100%|██████████| 2/2 [00:00<00:00, 739.15it/s]\n"
     ]
    },
    {
     "name": "stdout",
     "output_type": "stream",
     "text": [
      "Unk percentage: 0.002364394993045897\n",
      "Unk percentage: 0.0009057971014492754\n",
      "Unk percentage: 0.0035236081747709656\n",
      "Unk percentage: 0.0019286403085824494\n",
      "cluster began\n",
      "cluster end\n"
     ]
    },
    {
     "name": "stderr",
     "output_type": "stream",
     "text": [
      "Computing transition probabilities: 100%|██████████| 355/355 [00:00<00:00, 13951.80it/s]\n",
      "Generating walks (CPU: 1): 100%|██████████| 3/3 [00:00<00:00, 270.08it/s]\n",
      "Generating walks (CPU: 2): 100%|██████████| 3/3 [00:00<00:00, 454.40it/s]\n",
      "Generating walks (CPU: 3): 100%|██████████| 2/2 [00:00<00:00, 474.71it/s]\n",
      "Generating walks (CPU: 4): 100%|██████████| 2/2 [00:00<00:00, 455.53it/s]\n"
     ]
    },
    {
     "name": "stdout",
     "output_type": "stream",
     "text": [
      "Unk percentage: 0.002914903620122238\n",
      "Unk percentage: 0.00138217000691085\n",
      "Unk percentage: 0.002203532997906644\n",
      "Unk percentage: 0.00430416068866571\n",
      "cluster began\n",
      "cluster end\n"
     ]
    },
    {
     "name": "stderr",
     "output_type": "stream",
     "text": [
      "Computing transition probabilities: 100%|██████████| 264/264 [00:00<00:00, 12929.36it/s]\n",
      "Generating walks (CPU: 1): 100%|██████████| 3/3 [00:00<00:00, 1056.41it/s]\n",
      "Generating walks (CPU: 2): 100%|██████████| 3/3 [00:00<00:00, 681.74it/s]\n",
      "Generating walks (CPU: 3): 100%|██████████| 2/2 [00:00<00:00, 916.69it/s]\n",
      "Generating walks (CPU: 4): 100%|██████████| 2/2 [00:00<00:00, 526.82it/s]\n"
     ]
    },
    {
     "name": "stdout",
     "output_type": "stream",
     "text": [
      "Unk percentage: 0.003727549983056591\n",
      "Unk percentage: 0.00414020230533992\n",
      "Unk percentage: 0.0072992700729927005\n",
      "Unk percentage: 0.0032254813022880757\n",
      "Unk percentage: 0.0015420200462606013\n",
      "Unk percentage: 0.0033599328013439733\n",
      "Unk percentage: 0.011267605633802818\n",
      "cluster began\n",
      "cluster end\n"
     ]
    },
    {
     "name": "stderr",
     "output_type": "stream",
     "text": [
      "Computing transition probabilities: 100%|██████████| 162/162 [00:00<00:00, 21013.68it/s]\n",
      "Generating walks (CPU: 1): 100%|██████████| 3/3 [00:00<00:00, 1351.55it/s]\n",
      "Generating walks (CPU: 2): 100%|██████████| 3/3 [00:00<00:00, 1380.31it/s]\n",
      "Generating walks (CPU: 3): 100%|██████████| 2/2 [00:00<00:00, 1363.78it/s]\n",
      "Generating walks (CPU: 4): 100%|██████████| 2/2 [00:00<00:00, 1267.35it/s]\n"
     ]
    },
    {
     "name": "stdout",
     "output_type": "stream",
     "text": [
      "Unk percentage: 0.003272804054054054\n",
      "Unk percentage: 0.007443267776096823\n",
      "Unk percentage: 0.004804974561899378\n",
      "Unk percentage: 0.0038684719535783366\n",
      "cluster began\n",
      "cluster end\n"
     ]
    },
    {
     "name": "stderr",
     "output_type": "stream",
     "text": [
      "Computing transition probabilities: 100%|██████████| 382/382 [00:00<00:00, 9994.22it/s]\n",
      "Generating walks (CPU: 1): 100%|██████████| 3/3 [00:00<00:00, 412.49it/s]\n",
      "Generating walks (CPU: 2): 100%|██████████| 3/3 [00:00<00:00, 446.03it/s]\n",
      "Generating walks (CPU: 3): 100%|██████████| 2/2 [00:00<00:00, 414.99it/s]\n",
      "Generating walks (CPU: 4): 100%|██████████| 2/2 [00:00<00:00, 718.45it/s]\n"
     ]
    },
    {
     "name": "stdout",
     "output_type": "stream",
     "text": [
      "Unk percentage: 0.0035842293906810036\n",
      "cluster began\n",
      "cluster end\n"
     ]
    },
    {
     "name": "stderr",
     "output_type": "stream",
     "text": [
      "Computing transition probabilities: 100%|██████████| 239/239 [00:00<00:00, 16555.83it/s]\n",
      "Generating walks (CPU: 1): 100%|██████████| 3/3 [00:00<00:00, 897.37it/s]\n",
      "Generating walks (CPU: 2): 100%|██████████| 3/3 [00:00<00:00, 437.21it/s]\n",
      "Generating walks (CPU: 3): 100%|██████████| 2/2 [00:00<00:00, 1005.11it/s]\n",
      "Generating walks (CPU: 4): 100%|██████████| 2/2 [00:00<00:00, 535.84it/s]\n"
     ]
    },
    {
     "name": "stdout",
     "output_type": "stream",
     "text": [
      "Unk percentage: 0.0012336975678533663\n",
      "Unk percentage: 0.0017641870038224052\n",
      "Unk percentage: 0.001568627450980392\n",
      "Unk percentage: 0.0015625\n",
      "Unk percentage: 0.004507888805409466\n",
      "Unk percentage: 0.002551020408163265\n",
      "Unk percentage: 0.0010559662090813093\n",
      "Unk percentage: 0.0017373175816539264\n",
      "Unk percentage: 0.00199203187250996\n",
      "Unk percentage: 0.001306103063405367\n",
      "Unk percentage: 0.0017857142857142857\n",
      "Unk percentage: 0.006069035276267543\n",
      "Unk percentage: 0.0018957345971563982\n",
      "Unk percentage: 0.0012219959266802445\n",
      "Unk percentage: 0.0005828864537188156\n",
      "Unk percentage: 0.009433962264150943\n",
      "cluster began\n",
      "cluster end\n"
     ]
    },
    {
     "name": "stderr",
     "output_type": "stream",
     "text": [
      "\r",
      "Computing transition probabilities:   0%|          | 0/181 [00:00<?, ?it/s]"
     ]
    },
    {
     "name": "stdout",
     "output_type": "stream",
     "text": [
      "Unk percentage: 0.00319693094629156\n"
     ]
    },
    {
     "name": "stderr",
     "output_type": "stream",
     "text": [
      "Computing transition probabilities: 100%|██████████| 181/181 [00:00<00:00, 19192.26it/s]\n",
      "Generating walks (CPU: 1): 100%|██████████| 3/3 [00:00<00:00, 1121.27it/s]\n",
      "Generating walks (CPU: 2): 100%|██████████| 3/3 [00:00<00:00, 1101.93it/s]\n",
      "Generating walks (CPU: 3): 100%|██████████| 2/2 [00:00<00:00, 894.69it/s]\n",
      "Generating walks (CPU: 4): 100%|██████████| 2/2 [00:00<00:00, 1246.64it/s]\n"
     ]
    },
    {
     "name": "stdout",
     "output_type": "stream",
     "text": [
      "Unk percentage: 0.0014668492079014277\n",
      "Unk percentage: 0.0014353085913471396\n",
      "Unk percentage: 0.0019747235387045812\n",
      "Unk percentage: 0.0009208103130755065\n",
      "Unk percentage: 0.001313119255103259\n",
      "Unk percentage: 0.0005725190839694657\n",
      "Unk percentage: 0.0024449877750611247\n",
      "Unk percentage: 0.005159958720330237\n",
      "Unk percentage: 0.0012493993272465161\n",
      "Unk percentage: 0.0034644385571632364\n",
      "Unk percentage: 0.0032347852253065525\n",
      "Unk percentage: 0.0006201165819174004\n",
      "Unk percentage: 0.0050578034682080926\n",
      "Unk percentage: 0.011987250554323725\n",
      "Unk percentage: 0.0012101653892698668\n",
      "Unk percentage: 0.0041981528127623844\n",
      "Unk percentage: 0.0023086269744835965\n",
      "Unk percentage: 0.010443864229765013\n",
      "Unk percentage: 0.00186219739292365\n",
      "cluster began\n",
      "cluster end\n"
     ]
    },
    {
     "name": "stderr",
     "output_type": "stream",
     "text": [
      "Computing transition probabilities: 100%|██████████| 161/161 [00:00<00:00, 22152.05it/s]\n",
      "Generating walks (CPU: 1): 100%|██████████| 3/3 [00:00<00:00, 1753.72it/s]\n",
      "Generating walks (CPU: 2): 100%|██████████| 3/3 [00:00<00:00, 1337.90it/s]\n"
     ]
    },
    {
     "name": "stdout",
     "output_type": "stream",
     "text": [
      "cluster began\n"
     ]
    },
    {
     "name": "stderr",
     "output_type": "stream",
     "text": [
      "\r",
      "Generating walks (CPU: 3):   0%|          | 0/2 [00:00<?, ?it/s]"
     ]
    },
    {
     "name": "stdout",
     "output_type": "stream",
     "text": [
      "cluster end\n"
     ]
    },
    {
     "name": "stderr",
     "output_type": "stream",
     "text": [
      "Generating walks (CPU: 3): 100%|██████████| 2/2 [00:00<00:00, 852.33it/s]s]\n",
      "Generating walks (CPU: 4): 100%|██████████| 2/2 [00:00<00:00, 1032.57it/s]\n",
      "Computing transition probabilities: 100%|██████████| 379/379 [00:00<00:00, 8153.09it/s]\n",
      "Generating walks (CPU: 1): 100%|██████████| 3/3 [00:00<00:00, 490.07it/s]\n",
      "Generating walks (CPU: 2): 100%|██████████| 3/3 [00:00<00:00, 526.17it/s]\n",
      "Generating walks (CPU: 3): 100%|██████████| 2/2 [00:00<00:00, 266.74it/s]\n",
      "Generating walks (CPU: 4): 100%|██████████| 2/2 [00:00<00:00, 304.61it/s]\n"
     ]
    },
    {
     "name": "stdout",
     "output_type": "stream",
     "text": [
      "Unk percentage: 0.0035971223021582736\n",
      "cluster began\n",
      "cluster end\n"
     ]
    },
    {
     "name": "stderr",
     "output_type": "stream",
     "text": [
      "Computing transition probabilities: 100%|██████████| 258/258 [00:00<00:00, 18371.71it/s]\n",
      "Generating walks (CPU: 1): 100%|██████████| 3/3 [00:00<00:00, 909.63it/s]\n",
      "Generating walks (CPU: 2): 100%|██████████| 3/3 [00:00<00:00, 744.73it/s]\n",
      "Generating walks (CPU: 3): 100%|██████████| 2/2 [00:00<00:00, 694.36it/s]\n",
      "Generating walks (CPU: 4): 100%|██████████| 2/2 [00:00<00:00, 940.22it/s]\n"
     ]
    },
    {
     "name": "stdout",
     "output_type": "stream",
     "text": [
      "Unk percentage: 0.01416791604197901\n",
      "Unk percentage: 0.006144393241167435\n",
      "cluster began\n",
      "cluster end\n"
     ]
    },
    {
     "name": "stderr",
     "output_type": "stream",
     "text": [
      "Computing transition probabilities: 100%|██████████| 272/272 [00:00<00:00, 10317.06it/s]\n",
      "Generating walks (CPU: 1): 100%|██████████| 3/3 [00:00<00:00, 574.93it/s]\n",
      "Generating walks (CPU: 2): 100%|██████████| 3/3 [00:00<00:00, 581.81it/s]\n",
      "Generating walks (CPU: 3): 100%|██████████| 2/2 [00:00<00:00, 554.07it/s]\n",
      "Generating walks (CPU: 4): 100%|██████████| 2/2 [00:00<00:00, 572.33it/s]\n"
     ]
    },
    {
     "name": "stdout",
     "output_type": "stream",
     "text": [
      "Unk percentage: 0.001100715465052284\n",
      "Unk percentage: 0.0009144947416552355\n",
      "Unk percentage: 0.0028368794326241137\n",
      "Unk percentage: 0.003127443315089914\n",
      "Unk percentage: 0.0014160962945480293\n",
      "Unk percentage: 0.0036363636363636364\n",
      "Unk percentage: 0.0027913468248429866\n",
      "cluster began\n",
      "cluster end\n"
     ]
    },
    {
     "name": "stderr",
     "output_type": "stream",
     "text": [
      "Computing transition probabilities: 100%|██████████| 395/395 [00:00<00:00, 10708.88it/s]\n",
      "Generating walks (CPU: 1): 100%|██████████| 3/3 [00:00<00:00, 495.57it/s]\n",
      "Generating walks (CPU: 2): 100%|██████████| 3/3 [00:00<00:00, 297.89it/s]\n",
      "Generating walks (CPU: 3): 100%|██████████| 2/2 [00:00<00:00, 393.19it/s]\n",
      "Generating walks (CPU: 4): 100%|██████████| 2/2 [00:00<00:00, 263.46it/s]\n"
     ]
    },
    {
     "name": "stdout",
     "output_type": "stream",
     "text": [
      "Unk percentage: 0.007934022340536591\n",
      "Unk percentage: 0.004016064257028112\n",
      "cluster began\n",
      "cluster end\n"
     ]
    },
    {
     "name": "stderr",
     "output_type": "stream",
     "text": [
      "Computing transition probabilities: 100%|██████████| 258/258 [00:00<00:00, 15410.13it/s]\n",
      "Generating walks (CPU: 1): 100%|██████████| 3/3 [00:00<00:00, 678.07it/s]\n",
      "Generating walks (CPU: 2): 100%|██████████| 3/3 [00:00<00:00, 683.07it/s]\n",
      "Generating walks (CPU: 3): 100%|██████████| 2/2 [00:00<00:00, 660.26it/s]\n",
      "Generating walks (CPU: 4): 100%|██████████| 2/2 [00:00<00:00, 828.34it/s]\n"
     ]
    },
    {
     "name": "stdout",
     "output_type": "stream",
     "text": [
      "Unk percentage: 0.005338078291814947\n",
      "cluster began\n",
      "cluster end\n"
     ]
    },
    {
     "name": "stderr",
     "output_type": "stream",
     "text": [
      "Computing transition probabilities: 100%|██████████| 230/230 [00:00<00:00, 12517.06it/s]\n",
      "Generating walks (CPU: 1): 100%|██████████| 3/3 [00:00<00:00, 1135.44it/s]\n",
      "Generating walks (CPU: 2): 100%|██████████| 3/3 [00:00<00:00, 815.06it/s]\n",
      "Generating walks (CPU: 3): 100%|██████████| 2/2 [00:00<00:00, 759.42it/s]\n",
      "Generating walks (CPU: 4): 100%|██████████| 2/2 [00:00<00:00, 1128.56it/s]\n"
     ]
    },
    {
     "name": "stdout",
     "output_type": "stream",
     "text": [
      "Unk percentage: 0.007748600947051227\n",
      "Unk percentage: 0.010977210356759337\n",
      "Unk percentage: 0.00468384074941452\n",
      "cluster began\n",
      "cluster end\n"
     ]
    },
    {
     "name": "stderr",
     "output_type": "stream",
     "text": [
      "Computing transition probabilities: 100%|██████████| 227/227 [00:00<00:00, 24827.43it/s]\n",
      "Generating walks (CPU: 1): 100%|██████████| 3/3 [00:00<00:00, 836.74it/s]\n",
      "Generating walks (CPU: 2): 100%|██████████| 3/3 [00:00<00:00, 450.40it/s]\n",
      "Generating walks (CPU: 3): 100%|██████████| 2/2 [00:00<00:00, 1079.34it/s]\n",
      "Generating walks (CPU: 4): 100%|██████████| 2/2 [00:00<00:00, 1393.92it/s]\n"
     ]
    },
    {
     "name": "stdout",
     "output_type": "stream",
     "text": [
      "Unk percentage: 0.0017205781142463868\n",
      "Unk percentage: 0.006157635467980296\n",
      "cluster began\n",
      "cluster end\n"
     ]
    },
    {
     "name": "stderr",
     "output_type": "stream",
     "text": [
      "Computing transition probabilities: 100%|██████████| 314/314 [00:00<00:00, 19278.23it/s]\n",
      "Generating walks (CPU: 1): 100%|██████████| 3/3 [00:00<00:00, 498.02it/s]\n",
      "Generating walks (CPU: 2): 100%|██████████| 3/3 [00:00<00:00, 728.43it/s]\n",
      "Generating walks (CPU: 3): 100%|██████████| 2/2 [00:00<00:00, 483.69it/s]\n",
      "Generating walks (CPU: 4): 100%|██████████| 2/2 [00:00<00:00, 630.53it/s]\n"
     ]
    },
    {
     "name": "stdout",
     "output_type": "stream",
     "text": [
      "Unk percentage: 0.0032876712328767125\n",
      "Unk percentage: 0.0012117540139351712\n",
      "Unk percentage: 0.010063797286368945\n",
      "Unk percentage: 0.00974025974025974\n",
      "cluster began\n",
      "cluster end\n"
     ]
    },
    {
     "name": "stderr",
     "output_type": "stream",
     "text": [
      "Computing transition probabilities: 100%|██████████| 334/334 [00:00<00:00, 7589.77it/s]\n",
      "Generating walks (CPU: 1): 100%|██████████| 3/3 [00:00<00:00, 434.88it/s]\n",
      "Generating walks (CPU: 2): 100%|██████████| 3/3 [00:00<00:00, 698.04it/s]\n",
      "Generating walks (CPU: 3): 100%|██████████| 2/2 [00:00<00:00, 667.09it/s]\n",
      "Generating walks (CPU: 4): 100%|██████████| 2/2 [00:00<00:00, 391.70it/s]\n"
     ]
    },
    {
     "name": "stdout",
     "output_type": "stream",
     "text": [
      "Unk percentage: 0.002080856123662307\n",
      "Unk percentage: 0.002933780385582565\n",
      "Unk percentage: 0.0028685018368476674\n",
      "Unk percentage: 0.008441467838705176\n",
      "Unk percentage: 0.003061849357011635\n",
      "Unk percentage: 0.008021390374331552\n",
      "cluster began\n",
      "cluster end\n"
     ]
    },
    {
     "name": "stderr",
     "output_type": "stream",
     "text": [
      "Computing transition probabilities: 100%|██████████| 180/180 [00:00<00:00, 22003.87it/s]\n",
      "Generating walks (CPU: 1): 100%|██████████| 3/3 [00:00<00:00, 784.62it/s]\n",
      "Generating walks (CPU: 2): 100%|██████████| 3/3 [00:00<00:00, 820.27it/s]\n",
      "Generating walks (CPU: 3): 100%|██████████| 2/2 [00:00<00:00, 1251.28it/s]\n",
      "Generating walks (CPU: 4): 100%|██████████| 2/2 [00:00<00:00, 1215.39it/s]\n"
     ]
    },
    {
     "name": "stdout",
     "output_type": "stream",
     "text": [
      "Unk percentage: 0.005890603085553997\n",
      "Unk percentage: 0.0029282576866764276\n",
      "Unk percentage: 0.0060882800608828\n",
      "cluster began\n",
      "cluster end\n"
     ]
    },
    {
     "name": "stderr",
     "output_type": "stream",
     "text": [
      "Computing transition probabilities: 100%|██████████| 298/298 [00:00<00:00, 10437.95it/s]\n",
      "Generating walks (CPU: 1): 100%|██████████| 3/3 [00:00<00:00, 779.42it/s]\n",
      "Generating walks (CPU: 2): 100%|██████████| 3/3 [00:00<00:00, 563.45it/s]\n",
      "Generating walks (CPU: 3): 100%|██████████| 2/2 [00:00<00:00, 564.47it/s]\n",
      "Generating walks (CPU: 4): 100%|██████████| 2/2 [00:00<00:00, 352.95it/s]\n"
     ]
    },
    {
     "name": "stdout",
     "output_type": "stream",
     "text": [
      "Unk percentage: 0.003355704697986577\n",
      "cluster began\n",
      "cluster end\n"
     ]
    },
    {
     "name": "stderr",
     "output_type": "stream",
     "text": [
      "Computing transition probabilities: 100%|██████████| 295/295 [00:00<00:00, 8328.92it/s]\n",
      "Generating walks (CPU: 1): 100%|██████████| 3/3 [00:00<00:00, 428.14it/s]\n",
      "Generating walks (CPU: 2): 100%|██████████| 3/3 [00:00<00:00, 459.70it/s]\n",
      "Generating walks (CPU: 3): 100%|██████████| 2/2 [00:00<00:00, 545.07it/s]\n",
      "Generating walks (CPU: 4): 100%|██████████| 2/2 [00:00<00:00, 487.14it/s]\n"
     ]
    },
    {
     "name": "stdout",
     "output_type": "stream",
     "text": [
      "Unk percentage: 0.0019559902200488996\n",
      "Unk percentage: 0.013518005540166205\n",
      "Unk percentage: 0.001740341106856944\n",
      "Unk percentage: 0.0010062893081761006\n",
      "Unk percentage: 0.0014005602240896359\n",
      "Unk percentage: 0.015151515151515152\n",
      "cluster began\n",
      "cluster end\n"
     ]
    },
    {
     "name": "stderr",
     "output_type": "stream",
     "text": [
      "Computing transition probabilities: 100%|██████████| 187/187 [00:00<00:00, 13618.34it/s]\n",
      "Generating walks (CPU: 1): 100%|██████████| 3/3 [00:00<00:00, 1181.94it/s]\n",
      "Generating walks (CPU: 2): 100%|██████████| 3/3 [00:00<00:00, 575.90it/s]\n",
      "Generating walks (CPU: 3): 100%|██████████| 2/2 [00:00<00:00, 795.43it/s]\n",
      "Generating walks (CPU: 4): 100%|██████████| 2/2 [00:00<00:00, 682.56it/s]\n"
     ]
    },
    {
     "name": "stdout",
     "output_type": "stream",
     "text": [
      "Unk percentage: 0.002336448598130841\n",
      "Unk percentage: 0.004220803053659253\n",
      "Unk percentage: 0.001984914648670107\n",
      "Unk percentage: 0.007537688442211055\n",
      "cluster began\n",
      "cluster end\n"
     ]
    },
    {
     "name": "stderr",
     "output_type": "stream",
     "text": [
      "\r",
      "Computing transition probabilities:   0%|          | 0/185 [00:00<?, ?it/s]"
     ]
    },
    {
     "name": "stdout",
     "output_type": "stream",
     "text": [
      "Unk percentage: 0.005338672005338672\n"
     ]
    },
    {
     "name": "stderr",
     "output_type": "stream",
     "text": [
      "Computing transition probabilities: 100%|██████████| 185/185 [00:00<00:00, 17712.84it/s]\n",
      "Generating walks (CPU: 1): 100%|██████████| 3/3 [00:00<00:00, 919.74it/s]\n",
      "Generating walks (CPU: 2): 100%|██████████| 3/3 [00:00<00:00, 705.16it/s]\n",
      "Generating walks (CPU: 3): 100%|██████████| 2/2 [00:00<00:00, 406.31it/s]\n",
      "Generating walks (CPU: 4): 100%|██████████| 2/2 [00:00<00:00, 801.74it/s]\n"
     ]
    },
    {
     "name": "stdout",
     "output_type": "stream",
     "text": [
      "Unk percentage: 0.007587253414264037\n",
      "Unk percentage: 0.0013710368466152527\n",
      "Unk percentage: 0.0031876138433515485\n",
      "Unk percentage: 0.0028140477262494374\n",
      "Unk percentage: 0.002661698163428267\n",
      "Unk percentage: 0.004429721505334925\n",
      "Unk percentage: 0.0029128388976025093\n",
      "Unk percentage: 0.002183406113537118\n",
      "cluster began\n",
      "cluster end\n"
     ]
    },
    {
     "name": "stderr",
     "output_type": "stream",
     "text": [
      "Computing transition probabilities: 100%|██████████| 329/329 [00:00<00:00, 14591.43it/s]\n",
      "Generating walks (CPU: 1): 100%|██████████| 3/3 [00:00<00:00, 408.68it/s]\n",
      "Generating walks (CPU: 2): 100%|██████████| 3/3 [00:00<00:00, 514.05it/s]\n",
      "Generating walks (CPU: 3): 100%|██████████| 2/2 [00:00<00:00, 357.51it/s]\n",
      "Generating walks (CPU: 4): 100%|██████████| 2/2 [00:00<00:00, 497.16it/s]\n"
     ]
    },
    {
     "name": "stdout",
     "output_type": "stream",
     "text": [
      "Unk percentage: 0.0015860428231562252\n",
      "Unk percentage: 0.001558325912733749\n",
      "Unk percentage: 0.0016467682173734047\n",
      "Unk percentage: 0.0009380863039399625\n",
      "Unk percentage: 0.001093693036820999\n",
      "Unk percentage: 0.0016578249336870027\n",
      "Unk percentage: 0.003278688524590164\n",
      "cluster began\n",
      "cluster end\n"
     ]
    },
    {
     "name": "stderr",
     "output_type": "stream",
     "text": [
      "Computing transition probabilities: 100%|██████████| 315/315 [00:00<00:00, 9614.29it/s]\n",
      "Generating walks (CPU: 1): 100%|██████████| 3/3 [00:00<00:00, 393.50it/s]\n",
      "Generating walks (CPU: 2): 100%|██████████| 3/3 [00:00<00:00, 432.37it/s]\n",
      "Generating walks (CPU: 3): 100%|██████████| 2/2 [00:00<00:00, 635.89it/s]\n",
      "Generating walks (CPU: 4): 100%|██████████| 2/2 [00:00<00:00, 392.03it/s]\n"
     ]
    },
    {
     "name": "stdout",
     "output_type": "stream",
     "text": [
      "Unk percentage: 0.006094627105052125\n",
      "Unk percentage: 0.0025311115798354778\n",
      "Unk percentage: 0.012448132780082987\n",
      "cluster began\n",
      "cluster end\n"
     ]
    },
    {
     "name": "stderr",
     "output_type": "stream",
     "text": [
      "Computing transition probabilities: 100%|██████████| 122/122 [00:00<00:00, 26337.18it/s]\n",
      "Generating walks (CPU: 1): 100%|██████████| 3/3 [00:00<00:00, 1158.11it/s]\n",
      "Generating walks (CPU: 2): 100%|██████████| 3/3 [00:00<00:00, 1956.60it/s]\n",
      "Generating walks (CPU: 3): 100%|██████████| 2/2 [00:00<00:00, 1090.00it/s]\n",
      "Generating walks (CPU: 4): 100%|██████████| 2/2 [00:00<00:00, 1671.04it/s]\n"
     ]
    },
    {
     "name": "stdout",
     "output_type": "stream",
     "text": [
      "Unk percentage: 0.0013341239252890602\n",
      "Unk percentage: 0.004467414155571128\n",
      "Unk percentage: 0.00716275368085953\n",
      "Unk percentage: 0.006616750827093854\n",
      "Unk percentage: 0.00625\n",
      "cluster began\n",
      "cluster end\n"
     ]
    },
    {
     "name": "stderr",
     "output_type": "stream",
     "text": [
      "Computing transition probabilities: 100%|██████████| 246/246 [00:00<00:00, 31427.58it/s]\n",
      "Generating walks (CPU: 1): 100%|██████████| 3/3 [00:00<00:00, 979.06it/s]\n",
      "Generating walks (CPU: 2): 100%|██████████| 3/3 [00:00<00:00, 946.08it/s]\n",
      "Generating walks (CPU: 3): 100%|██████████| 2/2 [00:00<00:00, 889.19it/s]\n",
      "Generating walks (CPU: 4): 100%|██████████| 2/2 [00:00<00:00, 1053.71it/s]\n"
     ]
    },
    {
     "name": "stdout",
     "output_type": "stream",
     "text": [
      "Unk percentage: 0.001122334455667789\n",
      "Unk percentage: 0.0025561684380465493\n",
      "Unk percentage: 0.0030349013657056147\n",
      "Unk percentage: 0.005140371688414393\n",
      "Unk percentage: 0.004457050243111832\n",
      "Unk percentage: 0.006493506493506494\n",
      "Unk percentage: 0.0030547070258261596\n",
      "Unk percentage: 0.01002004008016032\n",
      "cluster began\n",
      "cluster end\n"
     ]
    },
    {
     "name": "stderr",
     "output_type": "stream",
     "text": [
      "Computing transition probabilities: 100%|██████████| 200/200 [00:00<00:00, 22690.31it/s]\n",
      "Generating walks (CPU: 1): 100%|██████████| 3/3 [00:00<00:00, 1135.85it/s]\n",
      "Generating walks (CPU: 2): 100%|██████████| 3/3 [00:00<00:00, 1578.78it/s]\n",
      "Generating walks (CPU: 3): 100%|██████████| 2/2 [00:00<00:00, 941.91it/s]\n",
      "Generating walks (CPU: 4): 100%|██████████| 2/2 [00:00<00:00, 1380.16it/s]\n"
     ]
    },
    {
     "name": "stdout",
     "output_type": "stream",
     "text": [
      "Unk percentage: 0.006024096385542169\n",
      "cluster began\n",
      "cluster end\n"
     ]
    },
    {
     "name": "stderr",
     "output_type": "stream",
     "text": [
      "Computing transition probabilities: 100%|██████████| 134/134 [00:00<00:00, 20396.91it/s]\n",
      "Generating walks (CPU: 1): 100%|██████████| 3/3 [00:00<00:00, 1424.53it/s]\n",
      "Generating walks (CPU: 2): 100%|██████████| 3/3 [00:00<00:00, 1116.60it/s]\n",
      "Generating walks (CPU: 3): 100%|██████████| 2/2 [00:00<00:00, 722.60it/s]\n",
      "Generating walks (CPU: 4): 100%|██████████| 2/2 [00:00<00:00, 1455.85it/s]\n"
     ]
    },
    {
     "name": "stdout",
     "output_type": "stream",
     "text": [
      "Unk percentage: 0.0027726432532347504\n",
      "cluster began\n",
      "cluster end\n"
     ]
    },
    {
     "name": "stderr",
     "output_type": "stream",
     "text": [
      "Computing transition probabilities: 100%|██████████| 272/272 [00:00<00:00, 19637.00it/s]\n",
      "Generating walks (CPU: 1): 100%|██████████| 3/3 [00:00<00:00, 749.61it/s]\n",
      "Generating walks (CPU: 2): 100%|██████████| 3/3 [00:00<00:00, 783.40it/s]\n",
      "Generating walks (CPU: 3): 100%|██████████| 2/2 [00:00<00:00, 719.68it/s]\n",
      "Generating walks (CPU: 4): 100%|██████████| 2/2 [00:00<00:00, 510.13it/s]\n"
     ]
    },
    {
     "name": "stdout",
     "output_type": "stream",
     "text": [
      "Unk percentage: 0.003257328990228013\n",
      "Unk percentage: 0.003924646781789639\n",
      "Unk percentage: 0.0054005400540054005\n",
      "Unk percentage: 0.009933774834437087\n",
      "cluster began\n",
      "cluster end\n"
     ]
    },
    {
     "name": "stderr",
     "output_type": "stream",
     "text": [
      "Computing transition probabilities: 100%|██████████| 229/229 [00:00<00:00, 22059.57it/s]\n",
      "Generating walks (CPU: 1): 100%|██████████| 3/3 [00:00<00:00, 1353.00it/s]\n",
      "Generating walks (CPU: 2): 100%|██████████| 3/3 [00:00<00:00, 902.00it/s]\n",
      "Generating walks (CPU: 3): 100%|██████████| 2/2 [00:00<00:00, 780.05it/s]\n",
      "Generating walks (CPU: 4): 100%|██████████| 2/2 [00:00<00:00, 1236.89it/s]\n"
     ]
    },
    {
     "name": "stdout",
     "output_type": "stream",
     "text": [
      "Unk percentage: 0.006419400855920114\n",
      "Unk percentage: 0.007994186046511628\n",
      "Unk percentage: 0.004878048780487805\n",
      "cluster began\n",
      "cluster end\n"
     ]
    },
    {
     "name": "stderr",
     "output_type": "stream",
     "text": [
      "Computing transition probabilities: 100%|██████████| 193/193 [00:00<00:00, 18015.73it/s]\n",
      "Generating walks (CPU: 1): 100%|██████████| 3/3 [00:00<00:00, 1314.69it/s]\n",
      "Generating walks (CPU: 2): 100%|██████████| 3/3 [00:00<00:00, 794.33it/s]\n",
      "Generating walks (CPU: 3): 100%|██████████| 2/2 [00:00<00:00, 790.56it/s]\n",
      "Generating walks (CPU: 4): 100%|██████████| 2/2 [00:00<00:00, 562.31it/s]\n"
     ]
    },
    {
     "name": "stdout",
     "output_type": "stream",
     "text": [
      "Unk percentage: 0.0009433962264150943\n",
      "Unk percentage: 0.001006036217303823\n",
      "Unk percentage: 0.005629477993858751\n",
      "Unk percentage: 0.009174311926605505\n",
      "cluster began\n",
      "cluster end\n"
     ]
    },
    {
     "name": "stderr",
     "output_type": "stream",
     "text": [
      "Computing transition probabilities: 100%|██████████| 219/219 [00:00<00:00, 13103.83it/s]\n",
      "Generating walks (CPU: 1): 100%|██████████| 3/3 [00:00<00:00, 1256.53it/s]\n",
      "Generating walks (CPU: 2): 100%|██████████| 3/3 [00:00<00:00, 1226.05it/s]\n",
      "Generating walks (CPU: 3): 100%|██████████| 2/2 [00:00<00:00, 664.81it/s]\n",
      "Generating walks (CPU: 4): 100%|██████████| 2/2 [00:00<00:00, 734.23it/s]\n"
     ]
    },
    {
     "name": "stdout",
     "output_type": "stream",
     "text": [
      "Unk percentage: 0.011363636363636364\n",
      "cluster began\n",
      "cluster end\n"
     ]
    },
    {
     "name": "stderr",
     "output_type": "stream",
     "text": [
      "Computing transition probabilities: 100%|██████████| 164/164 [00:00<00:00, 15524.64it/s]\n",
      "Generating walks (CPU: 1): 100%|██████████| 3/3 [00:00<00:00, 1648.49it/s]\n",
      "Generating walks (CPU: 2): 100%|██████████| 3/3 [00:00<00:00, 1003.02it/s]\n",
      "Generating walks (CPU: 3): 100%|██████████| 2/2 [00:00<00:00, 1444.82it/s]\n",
      "Generating walks (CPU: 4): 100%|██████████| 2/2 [00:00<00:00, 1050.68it/s]\n"
     ]
    },
    {
     "name": "stdout",
     "output_type": "stream",
     "text": [
      "Unk percentage: 0.009925558312655087\n",
      "cluster began\n",
      "cluster end\n"
     ]
    },
    {
     "name": "stderr",
     "output_type": "stream",
     "text": [
      "Computing transition probabilities: 100%|██████████| 304/304 [00:00<00:00, 10470.61it/s]\n",
      "Generating walks (CPU: 1): 100%|██████████| 3/3 [00:00<00:00, 598.79it/s]\n",
      "Generating walks (CPU: 2): 100%|██████████| 3/3 [00:00<00:00, 816.28it/s]\n",
      "Generating walks (CPU: 3): 100%|██████████| 2/2 [00:00<00:00, 591.46it/s]\n",
      "Generating walks (CPU: 4): 100%|██████████| 2/2 [00:00<00:00, 765.80it/s]\n"
     ]
    },
    {
     "name": "stdout",
     "output_type": "stream",
     "text": [
      "Unk percentage: 0.002795248078266946\n",
      "Unk percentage: 0.0030959752321981426\n",
      "Unk percentage: 0.00306044376434583\n",
      "Unk percentage: 0.0036194415718717684\n",
      "Unk percentage: 0.0030911901081916537\n",
      "Unk percentage: 0.004171011470281543\n",
      "cluster began\n",
      "cluster end\n"
     ]
    },
    {
     "name": "stderr",
     "output_type": "stream",
     "text": [
      "Computing transition probabilities: 100%|██████████| 333/333 [00:00<00:00, 14530.68it/s]\n",
      "Generating walks (CPU: 1): 100%|██████████| 3/3 [00:00<00:00, 389.76it/s]\n",
      "Generating walks (CPU: 2): 100%|██████████| 3/3 [00:00<00:00, 639.05it/s]\n",
      "Generating walks (CPU: 3): 100%|██████████| 2/2 [00:00<00:00, 597.22it/s]\n",
      "Generating walks (CPU: 4): 100%|██████████| 2/2 [00:00<00:00, 557.98it/s]\n"
     ]
    },
    {
     "name": "stdout",
     "output_type": "stream",
     "text": [
      "Unk percentage: 0.006695913184022166\n",
      "Unk percentage: 0.0038499928703835734\n",
      "Unk percentage: 0.010778443113772455\n",
      "cluster began\n",
      "cluster end\n"
     ]
    },
    {
     "name": "stderr",
     "output_type": "stream",
     "text": [
      "Computing transition probabilities: 100%|██████████| 317/317 [00:00<00:00, 11275.58it/s]\n",
      "Generating walks (CPU: 1): 100%|██████████| 3/3 [00:00<00:00, 764.22it/s]\n",
      "Generating walks (CPU: 3):   0%|          | 0/2 [00:00<?, ?it/s]3.36it/s]\n",
      "Generating walks (CPU: 3): 100%|██████████| 2/2 [00:00<00:00, 767.84it/s]\n",
      "Generating walks (CPU: 4): 100%|██████████| 2/2 [00:00<00:00, 732.37it/s]\n"
     ]
    },
    {
     "name": "stdout",
     "output_type": "stream",
     "text": [
      "Unk percentage: 0.002368265245707519\n",
      "Unk percentage: 0.0022172949002217295\n",
      "cluster began\n",
      "cluster end\n"
     ]
    },
    {
     "name": "stderr",
     "output_type": "stream",
     "text": [
      "Computing transition probabilities: 100%|██████████| 348/348 [00:00<00:00, 9710.78it/s]\n",
      "Generating walks (CPU: 1): 100%|██████████| 3/3 [00:00<00:00, 640.78it/s]\n",
      "Generating walks (CPU: 2): 100%|██████████| 3/3 [00:00<00:00, 433.13it/s]\n",
      "Generating walks (CPU: 3): 100%|██████████| 2/2 [00:00<00:00, 621.06it/s]\n",
      "Generating walks (CPU: 4): 100%|██████████| 2/2 [00:00<00:00, 599.02it/s]\n"
     ]
    },
    {
     "name": "stdout",
     "output_type": "stream",
     "text": [
      "Unk percentage: 0.002266431629312516\n",
      "Unk percentage: 0.0076430489568271014\n",
      "Unk percentage: 0.00798888502952414\n",
      "Unk percentage: 0.0056130919440271956\n",
      "Unk percentage: 0.0056634304207119745\n",
      "cluster began\n",
      "cluster end\n"
     ]
    },
    {
     "name": "stderr",
     "output_type": "stream",
     "text": [
      "Computing transition probabilities: 100%|██████████| 386/386 [00:00<00:00, 7530.48it/s]\n",
      "Generating walks (CPU: 1): 100%|██████████| 3/3 [00:00<00:00, 493.33it/s]\n",
      "Generating walks (CPU: 2): 100%|██████████| 3/3 [00:00<00:00, 440.69it/s]\n",
      "Generating walks (CPU: 3): 100%|██████████| 2/2 [00:00<00:00, 469.90it/s]\n",
      "Generating walks (CPU: 4): 100%|██████████| 2/2 [00:00<00:00, 255.80it/s]\n"
     ]
    },
    {
     "name": "stdout",
     "output_type": "stream",
     "text": [
      "Unk percentage: 0.005141388174807198\n",
      "Unk percentage: 0.003446115288220551\n",
      "Unk percentage: 0.003943908851884312\n",
      "Unk percentage: 0.004739336492890996\n",
      "cluster began\n",
      "cluster end\n"
     ]
    },
    {
     "name": "stderr",
     "output_type": "stream",
     "text": [
      "Computing transition probabilities: 100%|██████████| 367/367 [00:00<00:00, 14615.96it/s]\n",
      "Generating walks (CPU: 1): 100%|██████████| 3/3 [00:00<00:00, 577.83it/s]\n",
      "Generating walks (CPU: 2): 100%|██████████| 3/3 [00:00<00:00, 395.73it/s]\n",
      "Generating walks (CPU: 3): 100%|██████████| 2/2 [00:00<00:00, 402.18it/s]\n",
      "Generating walks (CPU: 4): 100%|██████████| 2/2 [00:00<00:00, 405.31it/s]\n"
     ]
    },
    {
     "name": "stdout",
     "output_type": "stream",
     "text": [
      "Unk percentage: 0.009302325581395349\n",
      "cluster began\n",
      "cluster end\n"
     ]
    },
    {
     "name": "stderr",
     "output_type": "stream",
     "text": [
      "Computing transition probabilities: 100%|██████████| 189/189 [00:00<00:00, 12114.67it/s]\n",
      "Generating walks (CPU: 1): 100%|██████████| 3/3 [00:00<00:00, 1125.38it/s]\n",
      "Generating walks (CPU: 2): 100%|██████████| 3/3 [00:00<00:00, 837.69it/s]\n",
      "Generating walks (CPU: 3): 100%|██████████| 2/2 [00:00<00:00, 867.22it/s]\n",
      "Generating walks (CPU: 4): 100%|██████████| 2/2 [00:00<00:00, 806.83it/s]\n"
     ]
    },
    {
     "name": "stdout",
     "output_type": "stream",
     "text": [
      "Unk percentage: 0.006085192697768763\n",
      "cluster began\n",
      "cluster end\n"
     ]
    },
    {
     "name": "stderr",
     "output_type": "stream",
     "text": [
      "Computing transition probabilities: 100%|██████████| 209/209 [00:00<00:00, 14781.13it/s]\n",
      "Generating walks (CPU: 1): 100%|██████████| 3/3 [00:00<00:00, 731.99it/s]\n",
      "Generating walks (CPU: 2): 100%|██████████| 3/3 [00:00<00:00, 662.05it/s]\n",
      "Generating walks (CPU: 3): 100%|██████████| 2/2 [00:00<00:00, 765.94it/s]\n",
      "Generating walks (CPU: 4): 100%|██████████| 2/2 [00:00<00:00, 1162.02it/s]\n"
     ]
    },
    {
     "name": "stdout",
     "output_type": "stream",
     "text": [
      "Unk percentage: 0.0022197558268590455\n",
      "Unk percentage: 0.005761458422908246\n",
      "Unk percentage: 0.000735564545788893\n",
      "Unk percentage: 0.0033613445378151263\n",
      "cluster began\n",
      "cluster end\n"
     ]
    },
    {
     "name": "stderr",
     "output_type": "stream",
     "text": [
      "Computing transition probabilities: 100%|██████████| 235/235 [00:00<00:00, 11724.29it/s]\n",
      "Generating walks (CPU: 1): 100%|██████████| 3/3 [00:00<00:00, 1063.19it/s]\n",
      "Generating walks (CPU: 2): 100%|██████████| 3/3 [00:00<00:00, 1228.92it/s]\n",
      "Generating walks (CPU: 3): 100%|██████████| 2/2 [00:00<00:00, 1154.98it/s]\n",
      "Generating walks (CPU: 4): 100%|██████████| 2/2 [00:00<00:00, 633.87it/s]\n"
     ]
    },
    {
     "name": "stdout",
     "output_type": "stream",
     "text": [
      "Unk percentage: 0.0029940119760479044\n",
      "Unk percentage: 0.0022675736961451248\n",
      "cluster began\n",
      "cluster end\n"
     ]
    },
    {
     "name": "stderr",
     "output_type": "stream",
     "text": [
      "Computing transition probabilities: 100%|██████████| 382/382 [00:00<00:00, 12853.78it/s]\n",
      "Generating walks (CPU: 1): 100%|██████████| 3/3 [00:00<00:00, 681.71it/s]\n",
      "Generating walks (CPU: 2): 100%|██████████| 3/3 [00:00<00:00, 482.25it/s]\n",
      "Generating walks (CPU: 3): 100%|██████████| 2/2 [00:00<00:00, 447.11it/s]\n",
      "Generating walks (CPU: 4): 100%|██████████| 2/2 [00:00<00:00, 386.96it/s]\n"
     ]
    },
    {
     "name": "stdout",
     "output_type": "stream",
     "text": [
      "Unk percentage: 0.005457025920873124\n",
      "cluster began\n",
      "cluster end\n"
     ]
    },
    {
     "name": "stderr",
     "output_type": "stream",
     "text": [
      "Computing transition probabilities: 100%|██████████| 293/293 [00:00<00:00, 18018.72it/s]\n",
      "Generating walks (CPU: 1): 100%|██████████| 3/3 [00:00<00:00, 606.61it/s]\n",
      "Generating walks (CPU: 2): 100%|██████████| 3/3 [00:00<00:00, 498.23it/s]\n",
      "Generating walks (CPU: 3): 100%|██████████| 2/2 [00:00<00:00, 601.68it/s]\n",
      "Generating walks (CPU: 4): 100%|██████████| 2/2 [00:00<00:00, 569.68it/s]\n"
     ]
    },
    {
     "name": "stdout",
     "output_type": "stream",
     "text": [
      "Unk percentage: 0.003063993696927252\n",
      "Unk percentage: 0.003108003108003108\n",
      "Unk percentage: 0.0028308563340410475\n",
      "Unk percentage: 0.0040609137055837565\n",
      "cluster began\n",
      "cluster end\n"
     ]
    },
    {
     "name": "stderr",
     "output_type": "stream",
     "text": [
      "Computing transition probabilities: 100%|██████████| 354/354 [00:00<00:00, 7647.41it/s]\n",
      "Generating walks (CPU: 1): 100%|██████████| 3/3 [00:00<00:00, 382.19it/s]\n",
      "Generating walks (CPU: 2): 100%|██████████| 3/3 [00:00<00:00, 384.53it/s]\n",
      "Generating walks (CPU: 3): 100%|██████████| 2/2 [00:00<00:00, 396.12it/s]\n",
      "Generating walks (CPU: 4): 100%|██████████| 2/2 [00:00<00:00, 430.19it/s]\n"
     ]
    },
    {
     "name": "stdout",
     "output_type": "stream",
     "text": [
      "Unk percentage: 0.0019372336303758234\n",
      "Unk percentage: 0.00176444640494045\n",
      "Unk percentage: 0.0111731843575419\n",
      "cluster began\n",
      "cluster end\n"
     ]
    },
    {
     "name": "stderr",
     "output_type": "stream",
     "text": [
      "Computing transition probabilities: 100%|██████████| 106/106 [00:00<00:00, 17472.83it/s]\n",
      "Generating walks (CPU: 1): 100%|██████████| 3/3 [00:00<00:00, 1249.05it/s]\n",
      "Generating walks (CPU: 2): 100%|██████████| 3/3 [00:00<00:00, 1289.63it/s]\n",
      "Generating walks (CPU: 3): 100%|██████████| 2/2 [00:00<00:00, 1177.02it/s]\n",
      "Generating walks (CPU: 4): 100%|██████████| 2/2 [00:00<00:00, 1441.84it/s]\n"
     ]
    },
    {
     "name": "stdout",
     "output_type": "stream",
     "text": [
      "Unk percentage: 0.00646551724137931\n",
      "Unk percentage: 0.003595828838547285\n",
      "Unk percentage: 0.007272727272727273\n",
      "cluster began\n",
      "cluster end\n"
     ]
    },
    {
     "name": "stderr",
     "output_type": "stream",
     "text": [
      "Computing transition probabilities: 100%|██████████| 150/150 [00:00<00:00, 33139.09it/s]\n",
      "Generating walks (CPU: 1): 100%|██████████| 3/3 [00:00<00:00, 1030.96it/s]\n",
      "Generating walks (CPU: 2): 100%|██████████| 3/3 [00:00<00:00, 1187.96it/s]\n",
      "Generating walks (CPU: 3): 100%|██████████| 2/2 [00:00<00:00, 1211.70it/s]\n",
      "Generating walks (CPU: 4): 100%|██████████| 2/2 [00:00<00:00, 1698.10it/s]\n"
     ]
    },
    {
     "name": "stdout",
     "output_type": "stream",
     "text": [
      "Unk percentage: 0.0018267620642411326\n",
      "Unk percentage: 0.012441993409106194\n",
      "Unk percentage: 0.009478672985781991\n",
      "cluster began\n",
      "cluster end\n"
     ]
    },
    {
     "name": "stderr",
     "output_type": "stream",
     "text": [
      "Computing transition probabilities: 100%|██████████| 219/219 [00:00<00:00, 26337.67it/s]\n",
      "Generating walks (CPU: 1): 100%|██████████| 3/3 [00:00<00:00, 887.68it/s]\n",
      "Generating walks (CPU: 2): 100%|██████████| 3/3 [00:00<00:00, 739.87it/s]\n",
      "Generating walks (CPU: 3): 100%|██████████| 2/2 [00:00<00:00, 851.38it/s]\n",
      "Generating walks (CPU: 4): 100%|██████████| 2/2 [00:00<00:00, 935.08it/s]\n"
     ]
    },
    {
     "name": "stdout",
     "output_type": "stream",
     "text": [
      "Unk percentage: 0.003134796238244514\n",
      "cluster began\n",
      "cluster end\n"
     ]
    },
    {
     "name": "stderr",
     "output_type": "stream",
     "text": [
      "Computing transition probabilities: 100%|██████████| 209/209 [00:00<00:00, 27856.29it/s]\n",
      "Generating walks (CPU: 1): 100%|██████████| 3/3 [00:00<00:00, 1104.93it/s]\n",
      "Generating walks (CPU: 2): 100%|██████████| 3/3 [00:00<00:00, 1630.97it/s]\n",
      "Generating walks (CPU: 3): 100%|██████████| 2/2 [00:00<00:00, 1683.45it/s]\n",
      "Generating walks (CPU: 4): 100%|██████████| 2/2 [00:00<00:00, 1030.92it/s]\n"
     ]
    },
    {
     "name": "stdout",
     "output_type": "stream",
     "text": [
      "Unk percentage: 0.0091324200913242\n",
      "cluster began\n",
      "cluster end\n"
     ]
    },
    {
     "name": "stderr",
     "output_type": "stream",
     "text": [
      "Computing transition probabilities: 100%|██████████| 176/176 [00:00<00:00, 19269.56it/s]\n",
      "Generating walks (CPU: 1): 100%|██████████| 3/3 [00:00<00:00, 1853.70it/s]\n",
      "Generating walks (CPU: 2): 100%|██████████| 3/3 [00:00<00:00, 1139.86it/s]\n",
      "Generating walks (CPU: 3): 100%|██████████| 2/2 [00:00<00:00, 1584.55it/s]\n",
      "Generating walks (CPU: 4): 100%|██████████| 2/2 [00:00<00:00, 1184.33it/s]\n"
     ]
    },
    {
     "name": "stdout",
     "output_type": "stream",
     "text": [
      "Unk percentage: 0.003173908284995075\n",
      "Unk percentage: 0.001340033500837521\n",
      "Unk percentage: 0.002720817572499834\n",
      "Unk percentage: 0.0016652789342214821\n",
      "Unk percentage: 0.0012305168170631665\n",
      "Unk percentage: 0.0010471204188481676\n",
      "Unk percentage: 0.002995132909022838\n",
      "Unk percentage: 0.003537735849056604\n",
      "cluster began\n",
      "cluster end\n"
     ]
    },
    {
     "name": "stderr",
     "output_type": "stream",
     "text": [
      "Computing transition probabilities: 100%|██████████| 341/341 [00:00<00:00, 8889.33it/s]\n",
      "Generating walks (CPU: 1): 100%|██████████| 3/3 [00:00<00:00, 412.01it/s]\n",
      "Generating walks (CPU: 2): 100%|██████████| 3/3 [00:00<00:00, 329.02it/s]\n",
      "Generating walks (CPU: 3): 100%|██████████| 2/2 [00:00<00:00, 326.51it/s]\n",
      "Generating walks (CPU: 4): 100%|██████████| 2/2 [00:00<00:00, 489.53it/s]\n"
     ]
    },
    {
     "name": "stdout",
     "output_type": "stream",
     "text": [
      "Unk percentage: 0.004746440169872595\n",
      "Unk percentage: 0.0025412960609911056\n",
      "Unk percentage: 0.00178826895565093\n",
      "Unk percentage: 0.0018070928393946238\n",
      "Unk percentage: 0.0019286403085824494\n",
      "Unk percentage: 0.002280873248615184\n",
      "Unk percentage: 0.0048383290063724336\n",
      "Unk percentage: 0.0015071590052750565\n",
      "Unk percentage: 0.006751687921980495\n",
      "Unk percentage: 0.006666666666666667\n",
      "cluster began\n",
      "cluster end\n"
     ]
    },
    {
     "name": "stderr",
     "output_type": "stream",
     "text": [
      "Computing transition probabilities: 100%|██████████| 208/208 [00:00<00:00, 18056.45it/s]\n",
      "Generating walks (CPU: 1): 100%|██████████| 3/3 [00:00<00:00, 974.81it/s]\n",
      "Generating walks (CPU: 2): 100%|██████████| 3/3 [00:00<00:00, 563.80it/s]\n",
      "Generating walks (CPU: 3): 100%|██████████| 2/2 [00:00<00:00, 1328.99it/s]\n",
      "Generating walks (CPU: 4): 100%|██████████| 2/2 [00:00<00:00, 835.27it/s]\n"
     ]
    },
    {
     "name": "stdout",
     "output_type": "stream",
     "text": [
      "Unk percentage: 0.0025471217524197657\n",
      "Unk percentage: 0.002181818181818182\n",
      "Unk percentage: 0.001403180542563143\n",
      "Unk percentage: 0.00529567519858782\n",
      "Unk percentage: 0.0036659877800407333\n",
      "Unk percentage: 0.004116436342252279\n",
      "Unk percentage: 0.009911894273127754\n",
      "cluster began\n",
      "cluster end\n"
     ]
    },
    {
     "name": "stderr",
     "output_type": "stream",
     "text": [
      "Computing transition probabilities: 100%|██████████| 390/390 [00:00<00:00, 19590.40it/s]\n",
      "Generating walks (CPU: 1): 100%|██████████| 3/3 [00:00<00:00, 1052.61it/s]\n",
      "Generating walks (CPU: 2): 100%|██████████| 3/3 [00:00<00:00, 664.04it/s]\n",
      "Generating walks (CPU: 3): 100%|██████████| 2/2 [00:00<00:00, 1048.84it/s]\n",
      "Generating walks (CPU: 4): 100%|██████████| 2/2 [00:00<00:00, 597.18it/s]\n"
     ]
    },
    {
     "name": "stdout",
     "output_type": "stream",
     "text": [
      "Unk percentage: 0.008426966292134831\n",
      "cluster began\n",
      "cluster end\n"
     ]
    },
    {
     "name": "stderr",
     "output_type": "stream",
     "text": [
      "Computing transition probabilities: 100%|██████████| 158/158 [00:00<00:00, 26835.39it/s]\n",
      "Generating walks (CPU: 1): 100%|██████████| 3/3 [00:00<00:00, 1668.38it/s]\n",
      "Generating walks (CPU: 2): 100%|██████████| 3/3 [00:00<00:00, 1334.92it/s]\n",
      "Generating walks (CPU: 3): 100%|██████████| 2/2 [00:00<00:00, 1149.91it/s]\n",
      "Generating walks (CPU: 4): 100%|██████████| 2/2 [00:00<00:00, 1071.21it/s]\n"
     ]
    },
    {
     "name": "stdout",
     "output_type": "stream",
     "text": [
      "Unk percentage: 0.0014209591474245115\n",
      "Unk percentage: 0.003303890499629155\n",
      "Unk percentage: 0.00700770847932726\n",
      "Unk percentage: 0.004816955684007707\n",
      "cluster began\n",
      "cluster end\n"
     ]
    },
    {
     "name": "stderr",
     "output_type": "stream",
     "text": [
      "Computing transition probabilities: 100%|██████████| 339/339 [00:00<00:00, 11853.65it/s]\n",
      "Generating walks (CPU: 1): 100%|██████████| 3/3 [00:00<00:00, 366.17it/s]\n",
      "Generating walks (CPU: 2): 100%|██████████| 3/3 [00:00<00:00, 340.82it/s]\n",
      "Generating walks (CPU: 3): 100%|██████████| 2/2 [00:00<00:00, 328.86it/s]\n",
      "Generating walks (CPU: 4): 100%|██████████| 2/2 [00:00<00:00, 331.92it/s]\n"
     ]
    },
    {
     "name": "stdout",
     "output_type": "stream",
     "text": [
      "Unk percentage: 0.00558659217877095\n",
      "cluster began\n",
      "cluster end\n"
     ]
    },
    {
     "name": "stderr",
     "output_type": "stream",
     "text": [
      "Computing transition probabilities: 100%|██████████| 156/156 [00:00<00:00, 15421.33it/s]\n",
      "Generating walks (CPU: 1): 100%|██████████| 3/3 [00:00<00:00, 994.62it/s]\n",
      "Generating walks (CPU: 2): 100%|██████████| 3/3 [00:00<00:00, 1055.97it/s]\n",
      "Generating walks (CPU: 3): 100%|██████████| 2/2 [00:00<00:00, 1013.12it/s]\n",
      "Generating walks (CPU: 4): 100%|██████████| 2/2 [00:00<00:00, 1036.14it/s]\n"
     ]
    },
    {
     "name": "stdout",
     "output_type": "stream",
     "text": [
      "Unk percentage: 0.006595218466611707\n",
      "Unk percentage: 0.008746355685131196\n",
      "cluster began\n",
      "cluster end\n"
     ]
    },
    {
     "name": "stderr",
     "output_type": "stream",
     "text": [
      "Computing transition probabilities: 100%|██████████| 157/157 [00:00<00:00, 29820.93it/s]\n",
      "Generating walks (CPU: 1): 100%|██████████| 3/3 [00:00<00:00, 1311.54it/s]\n",
      "Generating walks (CPU: 2): 100%|██████████| 3/3 [00:00<00:00, 1065.81it/s]\n",
      "Generating walks (CPU: 3): 100%|██████████| 2/2 [00:00<00:00, 1112.99it/s]\n",
      "Generating walks (CPU: 4): 100%|██████████| 2/2 [00:00<00:00, 941.69it/s]\n"
     ]
    },
    {
     "name": "stdout",
     "output_type": "stream",
     "text": [
      "Unk percentage: 0.005113221329437546\n",
      "Unk percentage: 0.0028735632183908046\n",
      "Unk percentage: 0.0054446460980036296\n",
      "cluster began\n",
      "cluster end\n"
     ]
    },
    {
     "name": "stderr",
     "output_type": "stream",
     "text": [
      "Computing transition probabilities: 100%|██████████| 344/344 [00:00<00:00, 7744.92it/s]\n",
      "Generating walks (CPU: 1): 100%|██████████| 3/3 [00:00<00:00, 371.08it/s]\n",
      "Generating walks (CPU: 2): 100%|██████████| 3/3 [00:00<00:00, 397.30it/s]\n",
      "Generating walks (CPU: 3): 100%|██████████| 2/2 [00:00<00:00, 407.37it/s]\n",
      "Generating walks (CPU: 4): 100%|██████████| 2/2 [00:00<00:00, 373.46it/s]\n"
     ]
    },
    {
     "name": "stdout",
     "output_type": "stream",
     "text": [
      "Unk percentage: 0.00821740537043028\n",
      "Unk percentage: 0.0033003300330033004\n",
      "cluster began\n",
      "cluster end\n"
     ]
    },
    {
     "name": "stderr",
     "output_type": "stream",
     "text": [
      "Computing transition probabilities: 100%|██████████| 335/335 [00:00<00:00, 14310.80it/s]\n",
      "Generating walks (CPU: 1): 100%|██████████| 3/3 [00:00<00:00, 339.64it/s]\n",
      "Generating walks (CPU: 2): 100%|██████████| 3/3 [00:00<00:00, 580.66it/s]\n",
      "Generating walks (CPU: 3): 100%|██████████| 2/2 [00:00<00:00, 313.45it/s]\n",
      "Generating walks (CPU: 4): 100%|██████████| 2/2 [00:00<00:00, 316.87it/s]\n"
     ]
    },
    {
     "name": "stdout",
     "output_type": "stream",
     "text": [
      "Unk percentage: 0.0022613065326633165\n",
      "Unk percentage: 0.0029800466442083443\n",
      "Unk percentage: 0.0021944632005401754\n",
      "Unk percentage: 0.004573170731707317\n",
      "cluster began\n",
      "cluster end\n"
     ]
    },
    {
     "name": "stderr",
     "output_type": "stream",
     "text": [
      "Computing transition probabilities: 100%|██████████| 274/274 [00:00<00:00, 17251.96it/s]\n",
      "Generating walks (CPU: 1): 100%|██████████| 3/3 [00:00<00:00, 680.41it/s]\n",
      "Generating walks (CPU: 2): 100%|██████████| 3/3 [00:00<00:00, 962.88it/s]\n",
      "Generating walks (CPU: 3): 100%|██████████| 2/2 [00:00<00:00, 1064.81it/s]\n",
      "Generating walks (CPU: 4): 100%|██████████| 2/2 [00:00<00:00, 892.88it/s]\n"
     ]
    },
    {
     "name": "stdout",
     "output_type": "stream",
     "text": [
      "Unk percentage: 0.005477308294209703\n",
      "Unk percentage: 0.0025452488687782806\n",
      "Unk percentage: 0.0031339031339031338\n",
      "Unk percentage: 0.0037907505686125853\n",
      "Unk percentage: 0.014164305949008499\n",
      "cluster began\n",
      "cluster end\n"
     ]
    },
    {
     "name": "stderr",
     "output_type": "stream",
     "text": [
      "Computing transition probabilities: 100%|██████████| 181/181 [00:00<00:00, 16711.11it/s]\n",
      "Generating walks (CPU: 1): 100%|██████████| 3/3 [00:00<00:00, 1342.03it/s]\n",
      "Generating walks (CPU: 2): 100%|██████████| 3/3 [00:00<00:00, 1207.46it/s]\n",
      "Generating walks (CPU: 3): 100%|██████████| 2/2 [00:00<00:00, 1047.79it/s]\n",
      "Generating walks (CPU: 4): 100%|██████████| 2/2 [00:00<00:00, 1409.61it/s]\n"
     ]
    },
    {
     "name": "stdout",
     "output_type": "stream",
     "text": [
      "Unk percentage: 0.003169572107765452\n",
      "Unk percentage: 0.002806361085126286\n",
      "cluster began\n",
      "cluster end\n"
     ]
    },
    {
     "name": "stderr",
     "output_type": "stream",
     "text": [
      "Computing transition probabilities: 100%|██████████| 354/354 [00:00<00:00, 12963.58it/s]\n",
      "Generating walks (CPU: 1): 100%|██████████| 3/3 [00:00<00:00, 301.13it/s]\n",
      "Generating walks (CPU: 2): 100%|██████████| 3/3 [00:00<00:00, 375.30it/s]\n",
      "Generating walks (CPU: 3): 100%|██████████| 2/2 [00:00<00:00, 445.23it/s]\n",
      "Generating walks (CPU: 4): 100%|██████████| 2/2 [00:00<00:00, 336.93it/s]\n"
     ]
    },
    {
     "name": "stdout",
     "output_type": "stream",
     "text": [
      "Unk percentage: 0.002939604489577766\n",
      "Unk percentage: 0.0011560693641618498\n",
      "Unk percentage: 0.0012804097311139564\n",
      "Unk percentage: 0.003528773072747014\n",
      "Unk percentage: 0.0067209055535903785\n",
      "Unk percentage: 0.0016118633139909735\n",
      "Unk percentage: 0.0014545454545454545\n",
      "Unk percentage: 0.009727626459143969\n",
      "cluster began\n",
      "cluster end\n"
     ]
    },
    {
     "name": "stderr",
     "output_type": "stream",
     "text": [
      "Computing transition probabilities: 100%|██████████| 210/210 [00:00<00:00, 18956.29it/s]\n",
      "Generating walks (CPU: 1): 100%|██████████| 3/3 [00:00<00:00, 1577.20it/s]\n",
      "Generating walks (CPU: 2): 100%|██████████| 3/3 [00:00<00:00, 928.08it/s]\n",
      "Generating walks (CPU: 3): 100%|██████████| 2/2 [00:00<00:00, 1202.50it/s]\n",
      "Generating walks (CPU: 4): 100%|██████████| 2/2 [00:00<00:00, 944.66it/s]\n"
     ]
    },
    {
     "name": "stdout",
     "output_type": "stream",
     "text": [
      "Unk percentage: 0.0035052012663952963\n",
      "Unk percentage: 0.0046822742474916385\n",
      "Unk percentage: 0.002564102564102564\n",
      "cluster began\n",
      "cluster end\n"
     ]
    },
    {
     "name": "stderr",
     "output_type": "stream",
     "text": [
      "Computing transition probabilities: 100%|██████████| 282/282 [00:00<00:00, 9860.56it/s]\n",
      "Generating walks (CPU: 1): 100%|██████████| 3/3 [00:00<00:00, 500.20it/s]\n",
      "Generating walks (CPU: 2): 100%|██████████| 3/3 [00:00<00:00, 430.82it/s]\n",
      "Generating walks (CPU: 3): 100%|██████████| 2/2 [00:00<00:00, 811.43it/s]\n",
      "Generating walks (CPU: 4): 100%|██████████| 2/2 [00:00<00:00, 443.87it/s]\n"
     ]
    },
    {
     "name": "stdout",
     "output_type": "stream",
     "text": [
      "Unk percentage: 0.011734028683181226\n",
      "cluster began\n",
      "cluster end\n"
     ]
    },
    {
     "name": "stderr",
     "output_type": "stream",
     "text": [
      "Computing transition probabilities: 100%|██████████| 347/347 [00:00<00:00, 13750.00it/s]\n",
      "Generating walks (CPU: 1): 100%|██████████| 3/3 [00:00<00:00, 596.23it/s]\n",
      "Generating walks (CPU: 2): 100%|██████████| 3/3 [00:00<00:00, 720.22it/s]\n",
      "Generating walks (CPU: 3): 100%|██████████| 2/2 [00:00<00:00, 955.20it/s]\n",
      "Generating walks (CPU: 4): 100%|██████████| 2/2 [00:00<00:00, 574.48it/s]\n"
     ]
    },
    {
     "name": "stdout",
     "output_type": "stream",
     "text": [
      "Unk percentage: 0.00658157159952134\n",
      "Unk percentage: 0.0046452026269421754\n",
      "Unk percentage: 0.002631578947368421\n",
      "Unk percentage: 0.0030737704918032786\n",
      "Unk percentage: 0.0031446540880503146\n",
      "Unk percentage: 0.002531645569620253\n",
      "Unk percentage: 0.004831320283215327\n",
      "Unk percentage: 0.00291970802919708\n",
      "Unk percentage: 0.0072064434082238235\n",
      "Unk percentage: 0.005479452054794521\n",
      "Unk percentage: 0.0020330368487928843\n",
      "Unk percentage: 0.0024238227146814403\n",
      "Unk percentage: 0.001488316713796696\n",
      "Unk percentage: 0.00558659217877095\n",
      "cluster began\n",
      "cluster end\n"
     ]
    },
    {
     "name": "stderr",
     "output_type": "stream",
     "text": [
      "Computing transition probabilities: 100%|██████████| 173/173 [00:00<00:00, 13920.93it/s]\n",
      "Generating walks (CPU: 1): 100%|██████████| 3/3 [00:00<00:00, 896.92it/s]\n",
      "Generating walks (CPU: 2): 100%|██████████| 3/3 [00:00<00:00, 923.18it/s]\n",
      "Generating walks (CPU: 3): 100%|██████████| 2/2 [00:00<00:00, 929.18it/s]\n",
      "Generating walks (CPU: 4): 100%|██████████| 2/2 [00:00<00:00, 898.52it/s]\n"
     ]
    },
    {
     "name": "stdout",
     "output_type": "stream",
     "text": [
      "Unk percentage: 0.002672082086361693\n",
      "Unk percentage: 0.003776803118908382\n",
      "Unk percentage: 0.004113924050632912\n",
      "Unk percentage: 0.004982984929508993\n",
      "Unk percentage: 0.0017123287671232876\n",
      "Unk percentage: 0.0036877688998156115\n",
      "Unk percentage: 0.003115264797507788\n",
      "Unk percentage: 0.00216025137470542\n",
      "Unk percentage: 0.006885155604516662\n",
      "Unk percentage: 0.0013386880856760374\n",
      "Unk percentage: 0.0009552923194497516\n",
      "Unk percentage: 0.004561003420752566\n",
      "cluster began\n",
      "cluster end\n"
     ]
    },
    {
     "name": "stderr",
     "output_type": "stream",
     "text": [
      "Computing transition probabilities: 100%|██████████| 321/321 [00:00<00:00, 8281.08it/s]\n",
      "Generating walks (CPU: 1): 100%|██████████| 3/3 [00:00<00:00, 402.45it/s]\n",
      "Generating walks (CPU: 2): 100%|██████████| 3/3 [00:00<00:00, 665.45it/s]\n",
      "Generating walks (CPU: 3): 100%|██████████| 2/2 [00:00<00:00, 397.96it/s]\n",
      "Generating walks (CPU: 4): 100%|██████████| 2/2 [00:00<00:00, 658.81it/s]\n"
     ]
    },
    {
     "name": "stdout",
     "output_type": "stream",
     "text": [
      "Unk percentage: 0.005787037037037037\n",
      "cluster began\n",
      "cluster end\n"
     ]
    },
    {
     "name": "stderr",
     "output_type": "stream",
     "text": [
      "Computing transition probabilities: 100%|██████████| 368/368 [00:00<00:00, 30118.32it/s]\n",
      "Generating walks (CPU: 1): 100%|██████████| 3/3 [00:00<00:00, 742.92it/s]\n",
      "Generating walks (CPU: 2): 100%|██████████| 3/3 [00:00<00:00, 1025.67it/s]\n",
      "Generating walks (CPU: 3): 100%|██████████| 2/2 [00:00<00:00, 1191.23it/s]\n",
      "Generating walks (CPU: 4): 100%|██████████| 2/2 [00:00<00:00, 684.17it/s]\n"
     ]
    },
    {
     "name": "stdout",
     "output_type": "stream",
     "text": [
      "Unk percentage: 0.0028308563340410475\n",
      "Unk percentage: 0.0024705221785513757\n",
      "Unk percentage: 0.0013147323058943833\n",
      "Unk percentage: 0.0031008924519739826\n",
      "Unk percentage: 0.0021415689810640216\n",
      "Unk percentage: 0.0022366815778771857\n",
      "Unk percentage: 0.0034497628288055198\n",
      "Unk percentage: 0.002529615004935834\n",
      "Unk percentage: 0.005693653659213998\n",
      "Unk percentage: 0.0015353121801432957\n",
      "Unk percentage: 0.004338394793926247\n",
      "cluster began\n",
      "cluster end\n"
     ]
    },
    {
     "name": "stderr",
     "output_type": "stream",
     "text": [
      "Computing transition probabilities: 100%|██████████| 166/166 [00:00<00:00, 35481.55it/s]\n",
      "Generating walks (CPU: 1): 100%|██████████| 3/3 [00:00<00:00, 1970.39it/s]\n",
      "Generating walks (CPU: 2): 100%|██████████| 3/3 [00:00<00:00, 1732.23it/s]\n",
      "Generating walks (CPU: 3): 100%|██████████| 2/2 [00:00<00:00, 1265.82it/s]\n",
      "Generating walks (CPU: 4): 100%|██████████| 2/2 [00:00<00:00, 1956.75it/s]\n"
     ]
    },
    {
     "name": "stdout",
     "output_type": "stream",
     "text": [
      "Unk percentage: 0.005649717514124294\n",
      "cluster began\n",
      "cluster end\n"
     ]
    },
    {
     "name": "stderr",
     "output_type": "stream",
     "text": [
      "Computing transition probabilities: 100%|██████████| 293/293 [00:00<00:00, 12522.48it/s]\n",
      "Generating walks (CPU: 1): 100%|██████████| 3/3 [00:00<00:00, 561.26it/s]\n",
      "Generating walks (CPU: 2): 100%|██████████| 3/3 [00:00<00:00, 423.57it/s]\n",
      "Generating walks (CPU: 3): 100%|██████████| 2/2 [00:00<00:00, 395.04it/s]\n",
      "Generating walks (CPU: 4): 100%|██████████| 2/2 [00:00<00:00, 659.59it/s]\n"
     ]
    },
    {
     "name": "stdout",
     "output_type": "stream",
     "text": [
      "Unk percentage: 0.0011908306043465317\n",
      "Unk percentage: 0.002302820955670697\n",
      "Unk percentage: 0.0018660584698320546\n",
      "Unk percentage: 0.003468208092485549\n",
      "cluster began\n",
      "cluster end\n"
     ]
    },
    {
     "name": "stderr",
     "output_type": "stream",
     "text": [
      "Computing transition probabilities: 100%|██████████| 372/372 [00:00<00:00, 9995.39it/s]\n",
      "Generating walks (CPU: 1): 100%|██████████| 3/3 [00:00<00:00, 306.50it/s]\n",
      "Generating walks (CPU: 2): 100%|██████████| 3/3 [00:00<00:00, 489.09it/s]\n",
      "Generating walks (CPU: 3): 100%|██████████| 2/2 [00:00<00:00, 389.53it/s]\n",
      "Generating walks (CPU: 4): 100%|██████████| 2/2 [00:00<00:00, 303.45it/s]\n"
     ]
    },
    {
     "name": "stdout",
     "output_type": "stream",
     "text": [
      "Unk percentage: 0.005767844268204758\n",
      "Unk percentage: 0.007462686567164179\n",
      "cluster began\n",
      "cluster end\n"
     ]
    },
    {
     "name": "stderr",
     "output_type": "stream",
     "text": [
      "Computing transition probabilities: 100%|██████████| 177/177 [00:00<00:00, 18096.52it/s]\n",
      "Generating walks (CPU: 1): 100%|██████████| 3/3 [00:00<00:00, 1111.37it/s]\n",
      "Generating walks (CPU: 2): 100%|██████████| 3/3 [00:00<00:00, 1235.31it/s]\n",
      "Generating walks (CPU: 3): 100%|██████████| 2/2 [00:00<00:00, 1660.78it/s]\n",
      "Generating walks (CPU: 4): 100%|██████████| 2/2 [00:00<00:00, 1463.47it/s]\n"
     ]
    },
    {
     "name": "stdout",
     "output_type": "stream",
     "text": [
      "Unk percentage: 0.0032626427406199023\n",
      "Unk percentage: 0.005607476635514018\n",
      "Unk percentage: 0.0020013342228152103\n",
      "Unk percentage: 0.0021745883814849334\n",
      "Unk percentage: 0.004807692307692308\n",
      "cluster began\n",
      "cluster end\n"
     ]
    },
    {
     "name": "stderr",
     "output_type": "stream",
     "text": [
      "Computing transition probabilities: 100%|██████████| 191/191 [00:00<00:00, 12617.53it/s]\n",
      "Generating walks (CPU: 1): 100%|██████████| 3/3 [00:00<00:00, 785.79it/s]\n",
      "Generating walks (CPU: 2): 100%|██████████| 3/3 [00:00<00:00, 1028.02it/s]\n",
      "Generating walks (CPU: 3): 100%|██████████| 2/2 [00:00<00:00, 810.89it/s]\n",
      "Generating walks (CPU: 4): 100%|██████████| 2/2 [00:00<00:00, 739.08it/s]\n"
     ]
    },
    {
     "name": "stdout",
     "output_type": "stream",
     "text": [
      "Unk percentage: 0.0036638983878847092\n",
      "Unk percentage: 0.007013201320132013\n",
      "Unk percentage: 0.007267441860465116\n",
      "cluster began\n",
      "cluster end\n"
     ]
    },
    {
     "name": "stderr",
     "output_type": "stream",
     "text": [
      "Computing transition probabilities: 100%|██████████| 302/302 [00:00<00:00, 11164.11it/s]\n",
      "Generating walks (CPU: 1): 100%|██████████| 3/3 [00:00<00:00, 733.78it/s]\n",
      "Generating walks (CPU: 2): 100%|██████████| 3/3 [00:00<00:00, 601.48it/s]\n",
      "Generating walks (CPU: 3): 100%|██████████| 2/2 [00:00<00:00, 497.57it/s]\n",
      "Generating walks (CPU: 4): 100%|██████████| 2/2 [00:00<00:00, 492.93it/s]\n"
     ]
    },
    {
     "name": "stdout",
     "output_type": "stream",
     "text": [
      "Unk percentage: 0.00528169014084507\n",
      "Unk percentage: 0.010014306151645207\n",
      "cluster began\n",
      "cluster end\n"
     ]
    },
    {
     "name": "stderr",
     "output_type": "stream",
     "text": [
      "\r",
      "Computing transition probabilities:   0%|          | 0/291 [00:00<?, ?it/s]"
     ]
    },
    {
     "name": "stdout",
     "output_type": "stream",
     "text": [
      "Unk percentage: 0.00112943302462164\n"
     ]
    },
    {
     "name": "stderr",
     "output_type": "stream",
     "text": [
      "Computing transition probabilities: 100%|██████████| 291/291 [00:00<00:00, 17617.28it/s]\n",
      "Generating walks (CPU: 1): 100%|██████████| 3/3 [00:00<00:00, 1208.97it/s]\n",
      "Generating walks (CPU: 2): 100%|██████████| 3/3 [00:00<00:00, 1071.89it/s]\n",
      "Generating walks (CPU: 3): 100%|██████████| 2/2 [00:00<00:00, 767.70it/s]\n",
      "Generating walks (CPU: 4): 100%|██████████| 2/2 [00:00<00:00, 732.57it/s]\n"
     ]
    },
    {
     "name": "stdout",
     "output_type": "stream",
     "text": [
      "Unk percentage: 0.001092896174863388\n",
      "Unk percentage: 0.00368052999631947\n",
      "Unk percentage: 0.0028146361077603537\n",
      "Unk percentage: 0.0016062413951353832\n",
      "Unk percentage: 0.00199203187250996\n",
      "Unk percentage: 0.0006749915626054674\n",
      "Unk percentage: 0.0009830425165888424\n",
      "Unk percentage: 0.001610305958132045\n",
      "Unk percentage: 0.00211118930330753\n",
      "Unk percentage: 0.003957926697028844\n",
      "Unk percentage: 0.002082248828735034\n",
      "Unk percentage: 0.0019362788241506777\n",
      "Unk percentage: 0.00237558628251203\n",
      "Unk percentage: 0.0026642984014209592\n",
      "Unk percentage: 0.0012322858903265558\n",
      "Unk percentage: 0.00142602495543672\n",
      "Unk percentage: 0.0013192612137203166\n",
      "Unk percentage: 0.002427675500708072\n",
      "Unk percentage: 0.0006879944960440316\n",
      "Unk percentage: 0.0020539152759948653\n",
      "Unk percentage: 0.0024394820791893415\n",
      "Unk percentage: 0.0013507429085997298\n",
      "Unk percentage: 0.0023832221163012394\n",
      "Unk percentage: 0.003234501347708895\n",
      "Unk percentage: 0.0043821209465381246\n",
      "Unk percentage: 0.002080856123662307\n",
      "Unk percentage: 0.014164305949008499\n",
      "cluster began\n",
      "cluster end\n"
     ]
    },
    {
     "name": "stderr",
     "output_type": "stream",
     "text": [
      "Computing transition probabilities: 100%|██████████| 154/154 [00:00<00:00, 22863.72it/s]\n",
      "Generating walks (CPU: 1): 100%|██████████| 3/3 [00:00<00:00, 926.44it/s]\n",
      "Generating walks (CPU: 2): 100%|██████████| 3/3 [00:00<00:00, 681.00it/s]\n",
      "Generating walks (CPU: 3): 100%|██████████| 2/2 [00:00<00:00, 721.48it/s]\n",
      "Generating walks (CPU: 4): 100%|██████████| 2/2 [00:00<00:00, 967.43it/s]\n"
     ]
    },
    {
     "name": "stdout",
     "output_type": "stream",
     "text": [
      "Unk percentage: 0.0020804438280166435\n",
      "Unk percentage: 0.0034465780403741997\n",
      "Unk percentage: 0.004622496147919877\n",
      "cluster began\n",
      "cluster end\n"
     ]
    },
    {
     "name": "stderr",
     "output_type": "stream",
     "text": [
      "Computing transition probabilities: 100%|██████████| 273/273 [00:00<00:00, 21130.97it/s]\n",
      "Generating walks (CPU: 1): 100%|██████████| 3/3 [00:00<00:00, 924.26it/s]\n",
      "Generating walks (CPU: 2): 100%|██████████| 3/3 [00:00<00:00, 898.27it/s]\n",
      "Generating walks (CPU: 3): 100%|██████████| 2/2 [00:00<00:00, 889.75it/s]\n",
      "Generating walks (CPU: 4): 100%|██████████| 2/2 [00:00<00:00, 879.12it/s]\n"
     ]
    },
    {
     "name": "stdout",
     "output_type": "stream",
     "text": [
      "Unk percentage: 0.006423982869379015\n",
      "cluster began\n",
      "cluster end\n"
     ]
    },
    {
     "name": "stderr",
     "output_type": "stream",
     "text": [
      "Computing transition probabilities: 100%|██████████| 228/228 [00:00<00:00, 13653.65it/s]\n",
      "Generating walks (CPU: 1): 100%|██████████| 3/3 [00:00<00:00, 646.90it/s]\n",
      "Generating walks (CPU: 2): 100%|██████████| 3/3 [00:00<00:00, 613.98it/s]\n",
      "Generating walks (CPU: 3): 100%|██████████| 2/2 [00:00<00:00, 587.81it/s]\n",
      "Generating walks (CPU: 4): 100%|██████████| 2/2 [00:00<00:00, 624.29it/s]\n"
     ]
    },
    {
     "name": "stdout",
     "output_type": "stream",
     "text": [
      "Unk percentage: 0.0041841004184100415\n",
      "Unk percentage: 0.0039198606271777\n",
      "Unk percentage: 0.0035822540644805732\n",
      "Unk percentage: 0.002541942043721403\n",
      "Unk percentage: 0.0051813471502590676\n",
      "Unk percentage: 0.004454342984409799\n",
      "cluster began\n",
      "cluster end\n"
     ]
    },
    {
     "name": "stderr",
     "output_type": "stream",
     "text": [
      "Computing transition probabilities: 100%|██████████| 300/300 [00:00<00:00, 17474.08it/s]\n",
      "Generating walks (CPU: 1): 100%|██████████| 3/3 [00:00<00:00, 506.03it/s]\n",
      "Generating walks (CPU: 2): 100%|██████████| 3/3 [00:00<00:00, 561.86it/s]\n",
      "Generating walks (CPU: 3): 100%|██████████| 2/2 [00:00<00:00, 539.70it/s]\n",
      "Generating walks (CPU: 4): 100%|██████████| 2/2 [00:00<00:00, 932.17it/s]\n"
     ]
    },
    {
     "name": "stdout",
     "output_type": "stream",
     "text": [
      "Unk percentage: 0.0010171215460247499\n",
      "Unk percentage: 0.0049521294156487285\n",
      "Unk percentage: 0.008433734939759036\n",
      "cluster began\n",
      "cluster end\n"
     ]
    },
    {
     "name": "stderr",
     "output_type": "stream",
     "text": [
      "Computing transition probabilities: 100%|██████████| 315/315 [00:00<00:00, 13509.68it/s]\n",
      "Generating walks (CPU: 1): 100%|██████████| 3/3 [00:00<00:00, 433.50it/s]\n",
      "Generating walks (CPU: 2): 100%|██████████| 3/3 [00:00<00:00, 629.68it/s]\n",
      "Generating walks (CPU: 3): 100%|██████████| 2/2 [00:00<00:00, 507.75it/s]\n",
      "Generating walks (CPU: 4): 100%|██████████| 2/2 [00:00<00:00, 426.86it/s]\n"
     ]
    },
    {
     "name": "stdout",
     "output_type": "stream",
     "text": [
      "Unk percentage: 0.0022655188038060714\n",
      "Unk percentage: 0.001766264350897851\n",
      "Unk percentage: 0.0024096385542168677\n",
      "Unk percentage: 0.0016787912702853946\n",
      "Unk percentage: 0.002689204763734153\n",
      "Unk percentage: 0.002764722145424385\n",
      "Unk percentage: 0.001088139281828074\n",
      "Unk percentage: 0.0182648401826484\n",
      "Unk percentage: 0.005027652086475616\n",
      "Unk percentage: 0.001146131805157593\n",
      "Unk percentage: 0.002153063221765512\n",
      "Unk percentage: 0.004906333630686887\n",
      "Unk percentage: 0.011235955056179775\n",
      "cluster began\n",
      "cluster end\n"
     ]
    },
    {
     "name": "stderr",
     "output_type": "stream",
     "text": [
      "Computing transition probabilities: 100%|██████████| 89/89 [00:00<00:00, 16664.12it/s]\n",
      "Generating walks (CPU: 1): 100%|██████████| 3/3 [00:00<00:00, 2053.68it/s]\n",
      "Generating walks (CPU: 2): 100%|██████████| 3/3 [00:00<00:00, 1863.86it/s]\n",
      "Generating walks (CPU: 3): 100%|██████████| 2/2 [00:00<00:00, 1003.30it/s]\n",
      "Generating walks (CPU: 4): 100%|██████████| 2/2 [00:00<00:00, 1199.23it/s]\n"
     ]
    },
    {
     "name": "stdout",
     "output_type": "stream",
     "text": [
      "Unk percentage: 0.007281553398058253\n",
      "cluster began\n",
      "cluster end\n"
     ]
    },
    {
     "name": "stderr",
     "output_type": "stream",
     "text": [
      "Computing transition probabilities: 100%|██████████| 199/199 [00:00<00:00, 11933.01it/s]\n",
      "Generating walks (CPU: 1): 100%|██████████| 3/3 [00:00<00:00, 743.58it/s]\n",
      "Generating walks (CPU: 2): 100%|██████████| 3/3 [00:00<00:00, 759.79it/s]\n",
      "Generating walks (CPU: 3): 100%|██████████| 2/2 [00:00<00:00, 776.72it/s]\n",
      "Generating walks (CPU: 4): 100%|██████████| 2/2 [00:00<00:00, 987.71it/s]\n"
     ]
    },
    {
     "name": "stdout",
     "output_type": "stream",
     "text": [
      "Unk percentage: 0.001318217769575534\n",
      "Unk percentage: 0.002857142857142857\n",
      "Unk percentage: 0.0017538731365097924\n",
      "Unk percentage: 0.003377237419790611\n",
      "Unk percentage: 0.0010280133641737343\n",
      "Unk percentage: 0.0033801352054082163\n",
      "Unk percentage: 0.0008939213349225268\n",
      "Unk percentage: 0.0029115341545352742\n",
      "Unk percentage: 0.001827318410232983\n",
      "Unk percentage: 0.004017531044558071\n",
      "Unk percentage: 0.0075294117647058826\n",
      "Unk percentage: 0.002348106838861168\n",
      "Unk percentage: 0.0012300123001230013\n",
      "Unk percentage: 0.0014574224443056423\n",
      "Unk percentage: 0.0022994379151762903\n",
      "Unk percentage: 0.0010542962572482868\n",
      "Unk percentage: 0.003985507246376811\n",
      "Unk percentage: 0.001519756838905775\n",
      "Unk percentage: 0.0018013381369016985\n",
      "Unk percentage: 0.001081665765278529\n",
      "Unk percentage: 0.002883922134102379\n",
      "Unk percentage: 0.0020607934054611026\n",
      "Unk percentage: 0.001707455890722823\n",
      "Unk percentage: 0.0023168259484506225\n",
      "Unk percentage: 0.0018331805682859762\n",
      "Unk percentage: 0.005483549351944167\n",
      "Unk percentage: 0.0032502708559046588\n",
      "Unk percentage: 0.0028735632183908046\n",
      "Unk percentage: 0.003203416978109984\n",
      "cluster began\n",
      "cluster end\n"
     ]
    },
    {
     "name": "stderr",
     "output_type": "stream",
     "text": [
      "Computing transition probabilities: 100%|██████████| 287/287 [00:00<00:00, 10089.64it/s]\n",
      "Generating walks (CPU: 1): 100%|██████████| 3/3 [00:00<00:00, 436.85it/s]\n",
      "Generating walks (CPU: 2): 100%|██████████| 3/3 [00:00<00:00, 711.66it/s]\n",
      "Generating walks (CPU: 3): 100%|██████████| 2/2 [00:00<00:00, 715.69it/s]\n",
      "Generating walks (CPU: 4): 100%|██████████| 2/2 [00:00<00:00, 792.57it/s]\n"
     ]
    },
    {
     "name": "stdout",
     "output_type": "stream",
     "text": [
      "Unk percentage: 0.0017588430721125659\n",
      "Unk percentage: 0.005649717514124294\n",
      "Unk percentage: 0.005221932114882507\n",
      "cluster began\n",
      "cluster end\n"
     ]
    },
    {
     "name": "stderr",
     "output_type": "stream",
     "text": [
      "Computing transition probabilities: 100%|██████████| 343/343 [00:00<00:00, 28036.14it/s]\n",
      "Generating walks (CPU: 1): 100%|██████████| 3/3 [00:00<00:00, 1091.70it/s]\n",
      "Generating walks (CPU: 2): 100%|██████████| 3/3 [00:00<00:00, 1287.91it/s]\n",
      "Generating walks (CPU: 3): 100%|██████████| 2/2 [00:00<00:00, 1379.25it/s]\n",
      "Generating walks (CPU: 4): 100%|██████████| 2/2 [00:00<00:00, 1289.76it/s]\n"
     ]
    },
    {
     "name": "stdout",
     "output_type": "stream",
     "text": [
      "Unk percentage: 0.0050933786078098476\n",
      "cluster began\n",
      "cluster end\n"
     ]
    },
    {
     "name": "stderr",
     "output_type": "stream",
     "text": [
      "Computing transition probabilities: 100%|██████████| 266/266 [00:00<00:00, 17609.50it/s]\n",
      "Generating walks (CPU: 1): 100%|██████████| 3/3 [00:00<00:00, 486.79it/s]\n",
      "Generating walks (CPU: 2): 100%|██████████| 3/3 [00:00<00:00, 795.88it/s]\n",
      "Generating walks (CPU: 3): 100%|██████████| 2/2 [00:00<00:00, 318.39it/s]\n",
      "Generating walks (CPU: 4): 100%|██████████| 2/2 [00:00<00:00, 767.70it/s]\n"
     ]
    },
    {
     "name": "stdout",
     "output_type": "stream",
     "text": [
      "Unk percentage: 0.001941276389225916\n",
      "Unk percentage: 0.009230769230769232\n",
      "cluster began\n",
      "cluster end\n"
     ]
    },
    {
     "name": "stderr",
     "output_type": "stream",
     "text": [
      "Computing transition probabilities: 100%|██████████| 282/282 [00:00<00:00, 24490.00it/s]\n",
      "Generating walks (CPU: 1): 100%|██████████| 3/3 [00:00<00:00, 753.60it/s]\n",
      "Generating walks (CPU: 2): 100%|██████████| 3/3 [00:00<00:00, 601.36it/s]\n",
      "Generating walks (CPU: 3): 100%|██████████| 2/2 [00:00<00:00, 545.42it/s]\n",
      "Generating walks (CPU: 4): 100%|██████████| 2/2 [00:00<00:00, 561.11it/s]\n"
     ]
    },
    {
     "name": "stdout",
     "output_type": "stream",
     "text": [
      "Unk percentage: 0.002028397565922921\n",
      "Unk percentage: 0.0050586157057973345\n",
      "Unk percentage: 0.00477326968973747\n",
      "Unk percentage: 0.0020881670533642693\n",
      "Unk percentage: 0.0019280205655526992\n",
      "Unk percentage: 0.0010312822275696115\n",
      "Unk percentage: 0.008620689655172414\n",
      "cluster began\n",
      "Unk percentage: 0.0014245014245014246\n",
      "cluster end\n"
     ]
    },
    {
     "name": "stderr",
     "output_type": "stream",
     "text": [
      "Computing transition probabilities: 100%|██████████| 132/132 [00:00<00:00, 18795.13it/s]\n",
      "Generating walks (CPU: 1): 100%|██████████| 3/3 [00:00<00:00, 2630.21it/s]\n",
      "Generating walks (CPU: 2): 100%|██████████| 3/3 [00:00<00:00, 1524.83it/s]\n",
      "Generating walks (CPU: 3): 100%|██████████| 2/2 [00:00<00:00, 1029.40it/s]\n",
      "Generating walks (CPU: 4): 100%|██████████| 2/2 [00:00<00:00, 1300.56it/s]\n"
     ]
    },
    {
     "name": "stdout",
     "output_type": "stream",
     "text": [
      "Unk percentage: 0.003702180172768408\n",
      "Unk percentage: 0.0011431837667905116\n",
      "Unk percentage: 0.004839685420447671\n",
      "Unk percentage: 0.0036622145626884965\n",
      "Unk percentage: 0.005434044287460943\n",
      "Unk percentage: 0.0054430655345090355\n",
      "Unk percentage: 0.0034071550255536627\n",
      "Unk percentage: 0.0023231801755291687\n",
      "Unk percentage: 0.002857142857142857\n",
      "cluster began\n",
      "cluster end\n"
     ]
    },
    {
     "name": "stderr",
     "output_type": "stream",
     "text": [
      "Computing transition probabilities: 100%|██████████| 395/395 [00:00<00:00, 14704.58it/s]\n",
      "Generating walks (CPU: 1): 100%|██████████| 3/3 [00:00<00:00, 342.60it/s]\n",
      "Generating walks (CPU: 2): 100%|██████████| 3/3 [00:00<00:00, 470.14it/s]\n",
      "Generating walks (CPU: 3): 100%|██████████| 2/2 [00:00<00:00, 455.01it/s]\n",
      "Generating walks (CPU: 4): 100%|██████████| 2/2 [00:00<00:00, 502.19it/s]\n"
     ]
    },
    {
     "name": "stdout",
     "output_type": "stream",
     "text": [
      "Unk percentage: 0.0017817371937639199\n",
      "Unk percentage: 0.004349176762969867\n",
      "Unk percentage: 0.006771314250538628\n",
      "Unk percentage: 0.003298774740810556\n",
      "Unk percentage: 0.0029679664312762255\n",
      "Unk percentage: 0.0027676298018377062\n",
      "Unk percentage: 0.007667031763417305\n",
      "Unk percentage: 0.0031961646024770275\n",
      "Unk percentage: 0.004521306657624053\n",
      "Unk percentage: 0.0035480349344978166\n",
      "Unk percentage: 0.0014524328249818446\n",
      "Unk percentage: 0.0022688598979013048\n",
      "Unk percentage: 0.004095004095004095\n",
      "Unk percentage: 0.0036325895173845357\n",
      "Unk percentage: 0.002292434964616765\n",
      "Unk percentage: 0.00288704438830747\n",
      "Unk percentage: 0.0033483431474425587\n",
      "Unk percentage: 0.002638522427440633\n",
      "cluster began\n",
      "cluster end\n"
     ]
    },
    {
     "name": "stderr",
     "output_type": "stream",
     "text": [
      "Computing transition probabilities: 100%|██████████| 326/326 [00:00<00:00, 10255.64it/s]\n",
      "Generating walks (CPU: 1): 100%|██████████| 3/3 [00:00<00:00, 741.65it/s]\n",
      "Generating walks (CPU: 2): 100%|██████████| 3/3 [00:00<00:00, 445.57it/s]\n",
      "Generating walks (CPU: 3): 100%|██████████| 2/2 [00:00<00:00, 535.23it/s]\n",
      "Generating walks (CPU: 4): 100%|██████████| 2/2 [00:00<00:00, 536.66it/s]\n"
     ]
    },
    {
     "name": "stdout",
     "output_type": "stream",
     "text": [
      "Unk percentage: 0.0030374154355929865\n",
      "Unk percentage: 0.007214691735898557\n",
      "Unk percentage: 0.008064516129032258\n",
      "cluster began\n",
      "cluster end\n"
     ]
    },
    {
     "name": "stderr",
     "output_type": "stream",
     "text": [
      "Computing transition probabilities: 100%|██████████| 141/141 [00:00<00:00, 19775.19it/s]\n",
      "Generating walks (CPU: 1): 100%|██████████| 3/3 [00:00<00:00, 1835.31it/s]\n",
      "Generating walks (CPU: 2): 100%|██████████| 3/3 [00:00<00:00, 1356.06it/s]\n",
      "Generating walks (CPU: 3): 100%|██████████| 2/2 [00:00<00:00, 1264.49it/s]\n",
      "Generating walks (CPU: 4): 100%|██████████| 2/2 [00:00<00:00, 1278.56it/s]\n"
     ]
    },
    {
     "name": "stdout",
     "output_type": "stream",
     "text": [
      "Unk percentage: 0.005622188905547227\n",
      "Unk percentage: 0.007548069283330685\n",
      "Unk percentage: 0.007288263382759487\n",
      "Unk percentage: 0.006134969325153374\n",
      "cluster began\n",
      "cluster end\n"
     ]
    },
    {
     "name": "stderr",
     "output_type": "stream",
     "text": [
      "Computing transition probabilities: 100%|██████████| 150/150 [00:00<00:00, 24869.38it/s]\n",
      "Generating walks (CPU: 1): 100%|██████████| 3/3 [00:00<00:00, 1088.49it/s]\n",
      "Generating walks (CPU: 2): 100%|██████████| 3/3 [00:00<00:00, 1719.45it/s]\n",
      "Generating walks (CPU: 3): 100%|██████████| 2/2 [00:00<00:00, 1695.01it/s]\n",
      "Generating walks (CPU: 4): 100%|██████████| 2/2 [00:00<00:00, 993.44it/s]\n"
     ]
    },
    {
     "name": "stdout",
     "output_type": "stream",
     "text": [
      "Unk percentage: 0.0014619883040935672\n",
      "Unk percentage: 0.0025020850708924102\n",
      "Unk percentage: 0.0030452988199467074\n",
      "Unk percentage: 0.004105571847507331\n",
      "Unk percentage: 0.003280787388973354\n",
      "Unk percentage: 0.005681818181818182\n",
      "cluster began\n",
      "cluster end\n"
     ]
    },
    {
     "name": "stderr",
     "output_type": "stream",
     "text": [
      "Computing transition probabilities: 100%|██████████| 210/210 [00:00<00:00, 11072.33it/s]\n",
      "Generating walks (CPU: 1): 100%|██████████| 3/3 [00:00<00:00, 904.01it/s]\n",
      "Generating walks (CPU: 2): 100%|██████████| 3/3 [00:00<00:00, 1077.49it/s]\n",
      "Generating walks (CPU: 3): 100%|██████████| 2/2 [00:00<00:00, 685.57it/s]\n",
      "Generating walks (CPU: 4): 100%|██████████| 2/2 [00:00<00:00, 838.27it/s]\n"
     ]
    },
    {
     "name": "stdout",
     "output_type": "stream",
     "text": [
      "Unk percentage: 0.004070556309362279\n",
      "cluster began\n",
      "cluster end\n"
     ]
    },
    {
     "name": "stderr",
     "output_type": "stream",
     "text": [
      "Computing transition probabilities: 100%|██████████| 288/288 [00:00<00:00, 10778.33it/s]\n",
      "Generating walks (CPU: 1): 100%|██████████| 3/3 [00:00<00:00, 692.36it/s]\n",
      "Generating walks (CPU: 2): 100%|██████████| 3/3 [00:00<00:00, 638.53it/s]\n",
      "Generating walks (CPU: 3): 100%|██████████| 2/2 [00:00<00:00, 618.90it/s]\n",
      "Generating walks (CPU: 4): 100%|██████████| 2/2 [00:00<00:00, 616.95it/s]\n"
     ]
    },
    {
     "name": "stdout",
     "output_type": "stream",
     "text": [
      "Unk percentage: 0.0032797291578501903\n",
      "Unk percentage: 0.001145475372279496\n",
      "Unk percentage: 0.0039608966795887405\n",
      "Unk percentage: 0.007601542999773088\n",
      "Unk percentage: 0.001514004542013626\n",
      "Unk percentage: 0.0022702991452991455\n",
      "Unk percentage: 0.002871088142405972\n",
      "Unk percentage: 0.0025996533795493936\n",
      "Unk percentage: 0.0031435243398598885\n",
      "Unk percentage: 0.0010324179227751394\n",
      "Unk percentage: 0.0036488740617180984\n",
      "Unk percentage: 0.00819672131147541\n",
      "cluster began\n",
      "cluster end\n"
     ]
    },
    {
     "name": "stderr",
     "output_type": "stream",
     "text": [
      "Computing transition probabilities: 100%|██████████| 269/269 [00:00<00:00, 22906.66it/s]\n",
      "Generating walks (CPU: 1): 100%|██████████| 3/3 [00:00<00:00, 697.42it/s]\n",
      "Generating walks (CPU: 2): 100%|██████████| 3/3 [00:00<00:00, 673.82it/s]\n",
      "Generating walks (CPU: 3): 100%|██████████| 2/2 [00:00<00:00, 757.64it/s]\n",
      "Generating walks (CPU: 4): 100%|██████████| 2/2 [00:00<00:00, 705.70it/s]\n"
     ]
    }
   ],
   "source": [
    "def vectorize(path):\n",
    "    bag = GraphGenerator(path, emb, word2id_dict, id2word_dict)\n",
    "    G = bag.generate_graph()\n",
    "    if nx.number_of_nodes(G) <= 400:\n",
    "        return gen_style_vec(G)\n",
    "    else:\n",
    "        return None\n",
    "\n",
    "def main():    \n",
    "    presidents = os.listdir('./data/presidential/')\n",
    "    p = Pool(N_CORES)\n",
    "    pres_speeches = []\n",
    "    for president in presidents:\n",
    "        text_files = os.listdir('./data/presidential/' + president)\n",
    "        for speech in text_files:\n",
    "            path = './data/presidential/' + president + '/' + speech\n",
    "            pres_speeches += [(president, path)]\n",
    "    speeches = [x[1] for x in pres_speeches]\n",
    "    return p.map(vectorize, speeches), pres_speeches\n",
    "\n",
    "finished, pres_speeches = main()"
   ]
  },
  {
   "cell_type": "code",
   "execution_count": null,
   "metadata": {},
   "outputs": [],
   "source": [
    "vectors = [(pres, file, finished[i]) for i, (pres, file) in enumerate(pres_speeches) if finished[i] is not None]"
   ]
  },
  {
   "cell_type": "code",
   "execution_count": null,
   "metadata": {},
   "outputs": [],
   "source": [
    "pres = [x[0] for x in vectors]\n",
    "X = np.concatenate([x[2][:,np.newaxis] for x in vectors], axis=1)"
   ]
  },
  {
   "cell_type": "code",
   "execution_count": null,
   "metadata": {},
   "outputs": [],
   "source": [
    "from sklearn import manifold\n",
    "\n",
    "tsne = manifold.TSNE()\n",
    "X_embedded = tsne.fit_transform(X[1:,:].T)\n",
    "print(X_embedded.shape)"
   ]
  },
  {
   "cell_type": "code",
   "execution_count": null,
   "metadata": {},
   "outputs": [],
   "source": [
    "import plotly\n",
    "import plotly.plotly as py\n",
    "import plotly.graph_objs as go\n",
    "from plotly import tools\n",
    "\n",
    "plotly.tools.set_credentials_file(username='amanjuna', api_key='v5RvlMiKGJwt6X5yxmUQ')\n",
    "\n",
    "plots = []\n",
    "for president in set(pres):\n",
    "    occur = [i for i, x in enumerate(pres) if x == president]\n",
    "    plots.append(go.Scatter(x = X_embedded[occur,0], y = X_embedded[occur,1], mode='markers', name=president))\n",
    "fig = go.Figure(data=plots)\n",
    "py.iplot(fig, filename=\"whatever\")"
   ]
  }
 ],
 "metadata": {
  "kernelspec": {
   "display_name": "Python 3",
   "language": "python",
   "name": "python3"
  },
  "language_info": {
   "codemirror_mode": {
    "name": "ipython",
    "version": 3
   },
   "file_extension": ".py",
   "mimetype": "text/x-python",
   "name": "python",
   "nbconvert_exporter": "python",
   "pygments_lexer": "ipython3",
   "version": "3.6.6"
  }
 },
 "nbformat": 4,
 "nbformat_minor": 2
}
