{
 "cells": [
  {
   "cell_type": "code",
   "execution_count": 1,
   "metadata": {},
   "outputs": [
    {
     "name": "stdout",
     "output_type": "stream",
     "text": [
      "Embeddings loaded\n"
     ]
    }
   ],
   "source": [
    "import matplotlib.pyplot as mpl\n",
    "from analyze import *\n",
    "from utils import *\n",
    "from TextPOSDirected import TextPOS as GraphGenerator\n",
    "from multiprocessing import Pool\n",
    "\n",
    "N_CORES = 4\n",
    "emb, word2id_dict, id2word_dict  = load_embeddings()"
   ]
  },
  {
   "cell_type": "code",
   "execution_count": 2,
   "metadata": {},
   "outputs": [
    {
     "name": "stdout",
     "output_type": "stream",
     "text": [
      "<function gen_style_vec at 0x7f285bb502f0>\n"
     ]
    }
   ],
   "source": [
    "print(gen_style_vec)"
   ]
  },
  {
   "cell_type": "code",
   "execution_count": null,
   "metadata": {
    "scrolled": true
   },
   "outputs": [],
   "source": [
    "def vectorize(path):\n",
    "    bag = GraphGenerator(path, emb, word2id_dict, id2word_dict)\n",
    "    G = bag.generate_graph()\n",
    "    if nx.number_of_nodes(G) <= 400:\n",
    "        return gen_style_vec(G)\n",
    "    else:\n",
    "        return None\n",
    "\n",
    "def main():    \n",
    "    presidents = os.listdir('./data/presidential/')\n",
    "    p = Pool(N_CORES)\n",
    "    pres_speeches = []\n",
    "    for president in presidents:\n",
    "        text_files = os.listdir('./data/presidential/' + president)\n",
    "        for speech in text_files:\n",
    "            path = './data/presidential/' + president + '/' + speech\n",
    "            pres_speeches += [(president, path)]\n",
    "    speeches = [x[1] for x in pres_speeches]\n",
    "    return p.map(vectorize, speeches), pres_speeches\n",
    "\n",
    "finished, pres_speeches = main()"
   ]
  },
  {
   "cell_type": "code",
   "execution_count": null,
   "metadata": {},
   "outputs": [],
   "source": [
    "vectors = [(pres, file, finished[i]) for i, (pres, file) in enumerate(pres_speeches) if finished[i] is not None]"
   ]
  },
  {
   "cell_type": "code",
   "execution_count": null,
   "metadata": {},
   "outputs": [],
   "source": [
    "pres = [x[0] for x in vectors]\n",
    "X = np.concatenate([x[2][:,np.newaxis] for x in vectors], axis=1)"
   ]
  },
  {
   "cell_type": "code",
   "execution_count": null,
   "metadata": {},
   "outputs": [],
   "source": [
    "from sklearn import manifold\n",
    "from sklearn.decomposition import PCA\n",
    "\n",
    "pca = PCA(50)\n",
    "X_r = pca.fit(X[1:,:].T).transform(X[1:,:].T)\n",
    "tsne = manifold.TSNE()\n",
    "X_embedded = tsne.fit_transform(X_r)\n",
    "print(X_embedded.shape)"
   ]
  },
  {
   "cell_type": "code",
   "execution_count": null,
   "metadata": {},
   "outputs": [],
   "source": [
    "import plotly\n",
    "import plotly.plotly as py\n",
    "import plotly.graph_objs as go\n",
    "from plotly import tools\n",
    "\n",
    "plotly.tools.set_credentials_file(username='amanjuna', api_key='v5RvlMiKGJwt6X5yxmUQ')\n",
    "\n",
    "plots = []\n",
    "for president in set(pres):\n",
    "    occur = [i for i, x in enumerate(pres) if x == president]\n",
    "    plots.append(go.Scatter(x = X_embedded[occur,0], y = X_embedded[occur,1], mode='markers', name=president))\n",
    "fig = go.Figure(data=plots)\n",
    "py.iplot(fig, filename=\"whatever\")"
   ]
  },
  {
   "cell_type": "code",
   "execution_count": null,
   "metadata": {},
   "outputs": [],
   "source": []
  }
 ],
 "metadata": {
  "kernelspec": {
   "display_name": "Python 3",
   "language": "python",
   "name": "python3"
  },
  "language_info": {
   "codemirror_mode": {
    "name": "ipython",
    "version": 3
   },
   "file_extension": ".py",
   "mimetype": "text/x-python",
   "name": "python",
   "nbconvert_exporter": "python",
   "pygments_lexer": "ipython3",
   "version": "3.6.6"
  }
 },
 "nbformat": 4,
 "nbformat_minor": 2
}
