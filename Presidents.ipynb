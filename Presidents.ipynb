{
 "cells": [
  {
   "cell_type": "code",
   "execution_count": 1,
   "metadata": {},
   "outputs": [
    {
     "name": "stdout",
     "output_type": "stream",
     "text": [
      "Embeddings loaded\n"
     ]
    }
   ],
   "source": [
    "import matplotlib.pyplot as mpl\n",
    "from analyze import *\n",
    "from utils import *\n",
    "from TextBag import TextBag as GraphGenerator\n",
    "from multiprocessing import Pool\n",
    "\n",
    "N_CORES = 8\n",
    "emb, word2id_dict, id2word_dict  = load_embeddings()"
   ]
  },
  {
   "cell_type": "code",
   "execution_count": 2,
   "metadata": {},
   "outputs": [
    {
     "name": "stdout",
     "output_type": "stream",
     "text": [
      "<function gen_style_vec at 0x7f212d94b2f0>\n"
     ]
    }
   ],
   "source": [
    "print(gen_style_vec)"
   ]
  },
  {
   "cell_type": "code",
   "execution_count": 10,
   "metadata": {
    "scrolled": true
   },
   "outputs": [
    {
     "name": "stdout",
     "output_type": "stream",
     "text": [
      "962\n",
      "('mckinley', './data/presidential/mckinley/mckinley_speeches_003.txt')\n"
     ]
    },
    {
     "ename": "TypeError",
     "evalue": "'NoneType' object is not iterable",
     "output_type": "error",
     "traceback": [
      "\u001b[0;31m---------------------------------------------------------------------------\u001b[0m",
      "\u001b[0;31mTypeError\u001b[0m                                 Traceback (most recent call last)",
      "\u001b[0;32m<ipython-input-10-1724dad7de6d>\u001b[0m in \u001b[0;36m<module>\u001b[0;34m\u001b[0m\n\u001b[1;32m     21\u001b[0m     \u001b[0;31m#return p.map(vectorize, speeches), pres_speeches\u001b[0m\u001b[0;34m\u001b[0m\u001b[0;34m\u001b[0m\u001b[0m\n\u001b[1;32m     22\u001b[0m \u001b[0;34m\u001b[0m\u001b[0m\n\u001b[0;32m---> 23\u001b[0;31m \u001b[0mfinished2\u001b[0m\u001b[0;34m,\u001b[0m \u001b[0mpres_speeches2\u001b[0m \u001b[0;34m=\u001b[0m \u001b[0mmain\u001b[0m\u001b[0;34m(\u001b[0m\u001b[0;34m)\u001b[0m\u001b[0;34m\u001b[0m\u001b[0m\n\u001b[0m",
      "\u001b[0;31mTypeError\u001b[0m: 'NoneType' object is not iterable"
     ]
    }
   ],
   "source": [
    "def vectorize(path):\n",
    "    bag = GraphGenerator(path, emb, word2id_dict, id2word_dict)\n",
    "    G = bag.generate_graph()\n",
    "    if nx.number_of_nodes(G) <= 400:\n",
    "        return gen_style_vec(G)\n",
    "    else:\n",
    "        return None\n",
    "\n",
    "def main():    \n",
    "    presidents = os.listdir('./data/presidential/')\n",
    "    p = Pool(N_CORES)\n",
    "    pres_speeches = []\n",
    "    for president in presidents:\n",
    "        text_files = os.listdir('./data/presidential/' + president)\n",
    "        for speech in text_files:\n",
    "            path = './data/presidential/' + president + '/' + speech\n",
    "            pres_speeches += [(president, path)]\n",
    "    speeches = [x[1] for x in pres_speeches]\n",
    "    return p.map(vectorize, speeches), pres_speeches\n",
    "\n",
    "finished, pres_speeches = main()"
   ]
  },
  {
   "cell_type": "code",
   "execution_count": 4,
   "metadata": {},
   "outputs": [],
   "source": [
    "vectors = [(pres, file, finished[i]) for i, (pres, file) in enumerate(pres_speeches) if finished[i] is not None]"
   ]
  },
  {
   "cell_type": "code",
   "execution_count": 5,
   "metadata": {},
   "outputs": [],
   "source": [
    "pres = [x[0] for x in vectors]\n",
    "X = np.concatenate([x[2][:,np.newaxis] for x in vectors], axis=1)"
   ]
  },
  {
   "cell_type": "code",
   "execution_count": 6,
   "metadata": {},
   "outputs": [
    {
     "name": "stdout",
     "output_type": "stream",
     "text": [
      "(214, 2)\n"
     ]
    }
   ],
   "source": [
    "from sklearn import manifold\n",
    "from sklearn.decomposition import PCA\n",
    "\n",
    "pca = PCA(10)\n",
    "X_r = pca.fit(X[19:,:].T).transform(X[19:,:].T)\n",
    "tsne = manifold.TSNE()\n",
    "X_embedded = tsne.fit_transform(X_r)\n",
    "print(X_embedded.shape)"
   ]
  },
  {
   "cell_type": "code",
   "execution_count": 7,
   "metadata": {},
   "outputs": [
    {
     "name": "stderr",
     "output_type": "stream",
     "text": [
      "/home/amanjuna/.local/lib/python3.6/site-packages/IPython/core/display.py:689: UserWarning:\n",
      "\n",
      "Consider using IPython.display.IFrame instead\n",
      "\n"
     ]
    },
    {
     "data": {
      "text/html": [
       "<iframe id=\"igraph\" scrolling=\"no\" style=\"border:none;\" seamless=\"seamless\" src=\"https://plot.ly/~amanjuna/44.embed\" height=\"525px\" width=\"100%\"></iframe>"
      ],
      "text/plain": [
       "<plotly.tools.PlotlyDisplay object>"
      ]
     },
     "execution_count": 7,
     "metadata": {},
     "output_type": "execute_result"
    }
   ],
   "source": [
    "import plotly\n",
    "import plotly.plotly as py\n",
    "import plotly.graph_objs as go\n",
    "from plotly import tools\n",
    "\n",
    "plotly.tools.set_credentials_file(username='amanjuna', api_key='v5RvlMiKGJwt6X5yxmUQ')\n",
    "\n",
    "plots = []\n",
    "for president in set(pres):\n",
    "    occur = [i for i, x in enumerate(pres) if x == president]\n",
    "    plots.append(go.Scatter(x = X_embedded[occur,0], y = X_embedded[occur,1], mode='markers', name=president))\n",
    "fig = go.Figure(data=plots)\n",
    "py.iplot(fig, filename=\"whatever\")"
   ]
  },
  {
   "cell_type": "code",
   "execution_count": null,
   "metadata": {},
   "outputs": [],
   "source": []
  }
 ],
 "metadata": {
  "kernelspec": {
   "display_name": "Python 3",
   "language": "python",
   "name": "python3"
  },
  "language_info": {
   "codemirror_mode": {
    "name": "ipython",
    "version": 3
   },
   "file_extension": ".py",
   "mimetype": "text/x-python",
   "name": "python",
   "nbconvert_exporter": "python",
   "pygments_lexer": "ipython3",
   "version": "3.6.6"
  }
 },
 "nbformat": 4,
 "nbformat_minor": 2
}
