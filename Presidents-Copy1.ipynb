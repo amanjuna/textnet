{
 "cells": [
  {
   "cell_type": "code",
   "execution_count": 1,
   "metadata": {},
   "outputs": [
    {
     "name": "stdout",
     "output_type": "stream",
     "text": [
      "Embeddings loaded\n"
     ]
    }
   ],
   "source": [
    "import matplotlib.pyplot as mpl\n",
    "from analyze import *\n",
    "from utils import *\n",
    "from TextBag import TextBag as GraphGenerator\n",
    "from multiprocessing import Pool\n",
    "import json\n",
    "N_CORES = 4\n",
    "emb, word2id_dict, id2word_dict  = load_embeddings()"
   ]
  },
  {
   "cell_type": "code",
   "execution_count": 2,
   "metadata": {},
   "outputs": [],
   "source": [
    "file = \"./data/abstracts/sample-S2-records\"\n",
    "data = []\n",
    "with open(file, 'r') as f:\n",
    "    for line in f:\n",
    "        data.append(json.loads(line))"
   ]
  },
  {
   "cell_type": "code",
   "execution_count": 3,
   "metadata": {},
   "outputs": [
    {
     "data": {
      "text/plain": [
       "['Decision Making',\n",
       " 'Laboratory Certification Document',\n",
       " 'Organization administrative structures']"
      ]
     },
     "execution_count": 3,
     "metadata": {},
     "output_type": "execute_result"
    }
   ],
   "source": [
    "data[1]['paperAbstract']\n",
    "data[1]['entities']"
   ]
  },
  {
   "cell_type": "code",
   "execution_count": 24,
   "metadata": {},
   "outputs": [
    {
     "name": "stderr",
     "output_type": "stream",
     "text": [
      "/home/amanjuna/.local/lib/python3.6/site-packages/networkx/drawing/nx_pylab.py:611: MatplotlibDeprecationWarning:\n",
      "\n",
      "isinstance(..., numbers.Number)\n",
      "\n",
      "/home/amanjuna/.local/lib/python3.6/site-packages/networkx/drawing/nx_pylab.py:611: MatplotlibDeprecationWarning:\n",
      "\n",
      "isinstance(..., numbers.Number)\n",
      "\n"
     ]
    },
    {
     "name": "stdout",
     "output_type": "stream",
     "text": [
      "['The search for new administrators in complex systems is an important activity. The special requirements of academic organizations, particularly those with health centers, present some unique considerations that can confound this important and difficult process. Typically, national searches attract a sizable candidate list composed of persons with diverse backgrounds and experiences, and a committee is empowered to sort through their qualifications. A critical step in the planning of each search is the development of a process that allows participatory decision making while not requiring too much time. Too often the search becomes an unmanageable activity that confuses the searchers and frustrates the administration. A seven-step process has proven successful for use by committees to attract and sort through written candidate applications, to agree upon a preliminary ranking of candidates and to reach a consensus on a final list of recommendations. The process could be applied in almost any organizational setting.', 'The human N-formyl peptide receptor (FPR) is a key modulator of chemotaxis directing granulocytes toward sites of bacterial infections. FPR is the founding member of a subfamily of G protein-coupled receptors thought to function in inflammatory processes. The other two members, FPR-like (FPRL)1 and FPRL2, have a greatly reduced affinity for bacterial peptides or do not bind them at all, with FPRL2 being considered an orphan receptor so far. In this study we show that a peptide derived from the N-terminal domain of the anti-inflammatory protein annexin 1 (lipocortin 1) can activate all three FPR family members at similar concentrations. The annexin 1 peptide initiates chemotactic responses in human monocytes that express all three FPR family members and also desensitizes the cells toward subsequent stimulation with bacterial peptide agonists. Experiments using HEK 293 cells stably expressing a single FPR family member reveal that all three receptors can be activated and desensitized by the N-terminal annexin 1 peptide. These observations identify the annexin 1 peptide as the first endogenous ligand of FPRL2 and indicate that annexin 1 participates in regulating leukocyte emigration into inflamed tissue by activating and desensitizing different receptors of the FPR family.', 'Serum CA 19-9 (2-3 sialyl Le(a)) is a marker of malignant disorder such as pancreas or gall bladder cancers. It has been reported that sera from patients with interstitial pneumonia show elevated level of CA 19-9. To investigate the relationship between the elevation of serum CA 19-9 (sCA 19-9) and the presence of pulmonary fibrosis, we examined the level of sCA 19-9 in sera from patients with rheumatic diseases with or without interstitial pneumonia (IP). The sCA 19-9 level was determined by enzyme-linked immunosorbent assay (ELISA). Fourteen sera of 129 (10.9%) patients with rheumatic diseases without malignant disorders were positive for sCA 19-9 when normal range was determined as less than 100 U/ml (mean +/- 5 SD), and 26.7% of sera from poly/dermatomyositis (PM/DM) and 11.8% of systemic sclerosis (PSS) were positive for CA 19-9. Whereas only 8.0% of rheumatoid arthritis (RA) was positive. Twelve (28.6%) of 42 rheumatic patients with IP showed positive levels for sCA 19-9 (mean 142.5 +/- 363.0 U/ml), whereas only two (2.3%) of 87 without IP were positive (mean 33.9 +/- 65.8 U/ml; p < 0.05). The correlation between the level of sCA 19-9 and pulmonary diffusing capacity (%DLCO) revealed an inverse correlation in 32 rheumatic patients with IP (r = -0.43, p < 0.05). Furthermore, the elevated sCA 19-9 levels decreased after treatment with corticosteroid and/or cyclophosphamide or cyclosporin A. Therefore, elevation of the level of sCA 19-9 seems to be involved in the pathogenesis of IP and sCA 19-9 will be a useful parameter for IP. It has been reported that the CA 19-9 is produced from the bronchial glands and suggested that during chronic fibrotic process of the lung, the metaplastic change of the bronchial glandular cells occur and the cells produce CA 19-9.', \"The analysis of trichinellosis patients' sera was performed by Western blot against a crude extract of Trichinella spiralis. Eight distinctive bands from 38 to 104 kDa were present in most of the patients' sera as a striking homogeneous response. Some of these characteristic bands were found to be recognized by the serum of infected rodents and of an immunized rabbit in this work, and have also been reported to be recognized by monoclonal and polyclonal antibodies from T. spiralis infected or immunized rats, mice, swine or rabbits. Our data indicate that different animal species as well as humans recognize unique immunodominant epitopes of T. spiralis.\", 'As a result of a large outbreak of measles, measles hemagglutination inhibition (HI) titers were measured in 465 immunized children. Titers of less than 1:4 were found in 14.6% of children immunized at 12 months of age as compared to 5.2% of those immunized at 13 months of age or later. Measles antibody titers were higher in the mothers of seronegative children who had been immunized at 11 or 12 months of age than in the mothers of seroposotive children. Measles HI titers of 1:4 or more were present in 94% of children immunized at 13 months of age or later between 1962 and 1964. The findings suggest that vaccine failure and not waning antibody accounts for the majority of titers of less than 1:4 in immunized children. Reimmunization programs should be considered for those who were immunized before 13 months of age.', 'Since 1954 average orthophosphate and total phosphorus concentrations have increased twenty and eightfold respectively in Lake Sempach. It is demonstrated that the lake is not in steady state with its phosphorus loading and that the net deposition rate of phosphorus is not linearly related to the phosphorus content of the lake. This implies that linear steady state one-box models are unsuitable to describe the phosphorus balance of this lake. Applying a nonlinear dynamic lake model we predict that the defined water quality goals ([P] ⩽30 mg m−3, [O2 ⩾4 mg m−3]) can only be achieved within the next 15 years if the external phosphorus loading is reduced by at least 50% and simultaneously lake-internal measures, such as hypolimnion areation or hypolimnion siphoning are carried into effect.', 'Using a rifampicin-resistant RNA polymerase with altered specificity to different promoters, the D promoter of T7 phage DNA with increased affinity to the mutant enzyme was chosen. This promoter and the T7 A1 promoter with unchanged affinity as well as some nonpromoter DNA fragments were used to compare temperature-induced conformational transitions of RNA polymerase in the course of complex formation. Conformational alterations of RNA polymerase were monitored by the fluorescent label method. It was shown that RNA polymerase undergoes a set of conformational transitions during complex formation with each promoter, some of which were similar by the character of change to spectral parameters of the label (reflecting RPi and, probably, RPo formation). The local structure of complexes formed above 33 degrees C differs for A1 and D. The conformational analysis reveals at least one temperature-dependent stage upon nonspecific interaction of the enzyme with nonpromoter DNA at 13-16 degrees C. Models of functional organization of the enzyme recognizing center and some features of the structure of the promoters which may be essential for their recognition are discussed.', 'Acid extracts of bovine hypothalamus stimulate lipogenic activity in adipose tissue. We employed a rat fat cell bioassay system to determine whether tissue concentrations of the active material vary as a function of spontaneous alterations in energy balance in hibernators and/or the obesity resulting from bilateral electrolytic lesions of the ventromedial area of the hypothalamus in rats. When hypothalamic extracts and partially purified plasma were fractionated using reverse-phase high-pressure liquid chromatography, both the void volume and material eluting 17 min after the start of a 25-min linear methanol gradient enhanced glucose incorporation into total lipid. Activities eluting with these two fractions were positively correlated with one another and were independent of insulin. The results indicate that a hypothalamic lipogenic factor (LHF) is detectable in plasma, that hypothalamic and circulating LHF concentrations vary in a reciprocal manner, and that elevations in plasma LHF concentration are associated with insulin resistance. The data suggest that the central regulation of lipogenesis is at least partially mediated by a hypothalamic humoral factor reaching fat depots via the circulation.', 'We studied native point defects as well as Eu and Dy ion doping in CaS by the simple DFT + Hubbard U method. The electronic properties and formation energies of native point defects and dopants have been discussed. We found the neutral S vacancy has the lowest energy of 0.62 eV under the Ca-rich limit. The Schottky pair is another dominant defect with a cost of 1.51 eV per defect site from S-rich to Ca-rich chemical potential limits. Our calculations on the thermodynamic transition levels confirm the experimental observed intrinsic blue two-peak broad band emissions stimulated by near-infrared range irradiation for undoped CaS. Both Eu and Dy show an energetic favorable trend to be substitutionally doped in the CaS lattice. All of the positive charge states of the Eu ion contribute localized recombination trapping level in the gap while having very deep donor transition levels. The neutral state of Dy contributes to the occupied 4f level localized 1.3 eV below the conduction band edge with very shallow donor type transition level (0/+) of 0.56 eV below the conduction band. All of the positive charge states of Dy have two shallow 5d levels with 0.4 and 0.6 eV below the conduction band. In this work, we further analyzed that the Dy dopant contributed deeper trap levels in the CaS materials that can store the electron carriers with more evenly, wider, and deeper range of levels distributed so that they lengthen the decay-time of the persistent luminescence. The related 980 nm photo-stimulated luminescence is actualized with the help of native defects like VS(0), VS(+), and STK(-) as relay centers for a possible up-converted luminescence. We also summarized a narrow doping limit energy which has been determined as 1.33 eV constantly in CaS independent to different chemical potential limits. This gives a solid theoretical reference for lanthanide ion doping experiments in CaS.', 'The influences of induced alterations in muscle perfusion pressure on the physiological responses to rhythmic exercise in man were investigated. The experiments were carried out in healthy subjects performing leg exercise on a cycle ergometer at light to exhaustive work intensities. Increased muscle perfusion pressure was brought about by exposing the working legs of the supine subject to a subatmospheric pressure of -50 mm Hg (Lower Body Negative Pressure, LBNP), decreased perfusion pressure by instead applying a supraatmospheric pressure of 50 mm Hg (Leg Positive Pressure, LPP). In this way, the perfusion pressure in dynamically exercising large muscle groups could be altered in a controlled fashion. The influences of such manipulation of the perfusion pressure on the physiological adjustments to incremental-load exercise were studied and analysed. The main results and conclusions were as follows: (1) Exercise-induced increases in cardiac output were attenuated by LBNP, an effect caused by curtailment of stroke volume secondary to suction-induced sequestration of blood volume in capacitance vessels not affected by the action of the leg muscle pump. This situation resembles that of dynamic leg exercise in the upright body position. Thus, supine exercise with LBNP at -50 mm Hg seems to be a valid model of upright leg exercise, not only in that it increases perfusion pressure in working muscles but also by causing similar changes in the central circulation as a shift from supine to upright leg exercise. (2) Exercise-induced increases in systolic arterial pressure were markedly exaggerated by LPP, an effect attributable to increased exercise responses in both cardiac output and total peripheral resistance. The exaggerated pressor response supports the notion of a muscle chemoreflex drive in response to flow-restricted exercise tending to reduce the existing flow error. (3) Exercise-induced increases in O2 uptake and blood lactate concentration were both attenuated by LBNP and exaggerated by LPP. The changes in blood lactate levels are attributable to perfusion-pressure dependent variations in muscle blood flow, resulting in opposite changes in the share contributed by anaerobic metabolism to the energy release. Possible explanations for the fact that impaired muscle perfusion was associated with increased O2 uptake at given external work loads are discussed. (4) Exercise-induced responses of the pulmonary ventilation were attenuated by LBNP and markedly exaggerated by LPP.(ABSTRACT TRUNCATED AT 400 WORDS)', 'Ischemic brain is particularly susceptible to free radicals mediated secondary neuronal damage, especially mitochondrial dysfunctions. Chinese Herbal Medicine with antioxidant properties is believed to have potential therapeutic effect. Leonurine, an alkaloid present in Herba Leonuri (HL), has shown biological effects such as antioxidant, anticoagulant, anti-apoptosis and protection against ischemic heart disease. In this study, neuroprotective effects of leonurine against cerebral ischemia/reperfusion-induced mitochondrial dysfunctions in cortex were evaluated. We used transient rat middle cerebral artery occlusion (MCAO) model of brain ischemia. The rats were treated with their respective treatments for 1 week prior to the MCAO. We found that leonurine significantly improved neurological outcome and reduced ischemia/reperfusion (I/R)-induced cerebral infarction 24 h after MCAO. Leonurine decreased reactive oxygen species (ROS) level in mitochondria isolated from ischemic cortex, which was increased by MCAO. Terminal deoxyuridine triphosphate (dUTP) Nick-End Labeling (TUNEL) staining showed anti-apoptotic effect of leonurine on ischemic cortex. Western blot analysis showed a marked decrease in the expression of Bax and an increase of Bcl-2 as a result of leonurine treatment. The attenuation of mitochondrial membrane swelling, restore of mitochondrial membrane potential and content of cytochrome c (Cyt-C) in mitochondria isolated from ischemic cortex could also be observed in leonurine treated group. The findings of this study suggest that leonurine has promising therapeutic effect for ischemic stroke treatment through antioxidant and anti-apoptotic mechanisms.', 'In an effort to develop potent antiplatelet agents, a series of trihydroxychalcones was synthesized and screened in vitro for their inhibitory effects on washed rabbit platelet aggregation induced by arachidonic acid (100 microM) and collagen (10 microg/ml). Of five compounds with potent inhibitory effects on arachidonic acid- and collagen-induced platelet aggregation, compound 4e was found to be the most potent. The structure-activity relationships suggested that antiplatelet activity was governed to a greater extent by the substituent on B ring of the chalcone template, and most of the active compounds had methoxy or dimethoxy groups on B ring.', 'Cost-containment regulations and possible legislative changes in the tax area are creating new environments for the acquisition of nuclear magnetic resonance (NMR) systems. Shared services, management groups, and free-standing clinics are being established. Creativity in financing will be required to assure the cost-effectiveness of NMR services.', 'The aim was to demonstrate the applicability of using mini organ cultures (MOC) of the human parotid gland for indicating DNA damage by nicotine. Macroscopically healthy specimens of human parotid glands (1 mm3) were cultured for 7 d. Morphology was examined after HE and immunohistochemical staining of alpha-amylase. MOC were exposed to 2.0 mM nicotine or 100 microM methyl methane sulfonate (MMS) for 1, 2 and 3 h, followed by a regeneration period of 24 h. DNA damage was assessed by the comet assay. Histological findings demonstrated healthy acinar cells up to 8 days of culture and a strong expression pattern of alpha-amylase. Cells in the centre of mini organs showed a granular cytoplasm starting at day 3. 1-3 h nicotine exposure significantly increased DNA damage as determined by DNA in the tail (DT), with no significant differences with increasing exposure time and only a trend towards decreased values of DT after regeneration. MMS demonstrated a time-dependent increase in DNA damage and distinctly reduced DT values after regeneration. MOC may be used to study DNA damage and repair after repetitive exposure to xenobiotics. They provide additional information for in vitro studies of cells growing in an intact tissue structure.', 'The study was designed to investigate the factors driving the academics to engage in work-related knowledge sharing activity using a conceptual model adapted from Theory of Planned Behaviour (TPB) of Ajzen (1991) and the two affective components (affective commitment and affect-based trust).A descriptive survey research design covering academics in all departments of the five faculties in The Polytechnic, Ibadan was employed.The literature review covered knowledge management KM, knowledge sharing KS and knowledge sharing behaviour KSB. Self-structured questionnaire based on the adapted model were administered as data collection instrument. Completeenumeration survey study was carried out because the total study population was about 346 lecturers and the same copies of questionnaire were distributed to the academics across the five faculties of the polytechnic of which 235 copies were returned. The data was analysed using descriptive and inferential statistics.Academics of The Polytechnic, Ibadan will be willing to share their work-related knowledge if both the factors encouraging and inhibiting sharing of knowledge with their colleagues are adequately addressed.The result shows, on one hand, that perceived behavioural control (.000) and affective commitment (.000) were significant predictors of intention to share knowledge while attitude (.066), subjective norm (.308) and affect-based trust (.694)are not.On the other hand, academics’ intention toshare knowledge (.000) significantly', 'BACKGROUND\\nCholangiocarcinoma (CCA) is the second most common primary hepatic tumor in Germany, with about 3500 new cases per year. In recent years, its prognosis has improved because of wider resections and the establishment of local treatment and chemotherapy in the palliative situation.\\n\\n\\nMETHODS\\nThis review is based on pertinent articles that were retrieved by a selective literature search in the PubMed database with the keywords \"cholangiocarcinoma AND diagnostic OR therapy.\" Articles in English or German published up to January 2014 were considered.\\n\\n\\nRESULTS\\nThe sole curative treatment for CCA is surgery, but 40-85% of all patients have recurrent disease even after radical excision. Because of this high recurrence rate, adjuvant treatments are now under intense discussion. For unresectable CCA without distant metastases, small case series have shown that liver transplantation can yield promising survival rates of over 50% at 5 years. For many patients with CCA, however, only palliative treatments can be offered, including endoscopic clearing of the biliary pathways. Because of the low prevalence of the disease, there have been only a few phase 3 studies of palliative chemotherapy for CCA. On the basis of one positive phase 3 study, chemotherapy with gemcitabine and cisplatin is considered the standard and now plays an established role in palliative care.\\n\\n\\nCONCLUSION\\nCCA presents a special challenge in gastroenterology, oncology, and visceral surgery because of the difficulty in establishing the diagnosis, local complications in the biliary pathways, and a high recurrence rate after resection. Future studies should address not only the role of adjuvant chemotherapy, but also the efficacy of combined local and systemic treatment.', 'We present a Monte Carlo algorithm, which samples free energies of complex systems. Less probable configurations are populated with the help of a multitude of additional Gaussian weights and parallel tempering is used for efficient Monte Carlo moves within phase space. The algorithm is easily parallelized and can be applied to a wide class of problems. We discuss algorithmic performance for the case of low-temperature phase separation in two-dimensional and three-dimensional Ising models, where we determine the magnetic interface tension. Multiple Gaussian modified ensemble simulations, unlike multicanonical ensemble simulations do not require a priori knowledge of the free energy and are of similar efficiency as multicanonical ensemble and Wang-Landau simulations.', 'In skin wounds, the chemokine CXCR3 receptor appears to play a key role in coordinating the switch from regeneration of the ontogenically distinct mesenchymal and epithelial compartments toward maturation. However, because CXCR3 equivalently binds four different ELR-devoid CXC chemokines (ie, PF4/CXCL4, IP-10/CXCL10, MIG/CXCL9, and IP-9/CXCL11), we sought to identify the ligand that coordinates epidermal coverage with the maturation of the underlying superficial dermis. Because CXCL11 (IP-9 or I-TAC) is produced by redifferentiating keratinocytes late in the regenerative phase when re-epithelialization is completed and matrix maturation ensues, we generated mice in which an antisense construct (IP-9AS) eliminated IP-9 expression during the wound-healing process. Both full and partial thickness excisional wounds were created and analyzed histologically throughout a 2-month period. Wound healing was impaired in the IP-9AS mice, with a hypercellular and immature dermis noted even after 60 days. Re-epithelialization was delayed with a deficient delineating basement membrane persisting in mice expressing the IP-9AS construct. Provisional matrix components persisted in the dermis, and the mature basement membrane components laminin V and collagen IV were severely diminished. Interestingly, the inflammatory response was not diminished despite IP-9/I-TAC being chemotactic for such cells. We conclude that IP-9 is a key ligand in the CXCR3 signaling system for wound repair, promoting re-epithelialization and modulating the maturation of the superficial dermis.', 'The nitrilo-triacetate trianion in the title compound, [Zn(2)(C(6)H(6)NO(6))(C(12)H(8)N(2))(3)]NO(3)·6H(2)O, is engaged in N,O,O\\',O\"-chelation to the phenanthroline-chelated Zn(II) unit, giving a distorted octa-hedral geometry for the metal atom. One of the three O atoms of the trianion that is engaged in chelation also binds to the bis-(phenanthroline)-chelated Zn(II) unit, whose five-coordinate geometry is distorted owing to a long Zn⋯O inter-action [2.401\\u2005(2)\\u2005Å]. The dinuclear cations, nitrate anions and uncoordinated water mol-ecules are linked into a three-dimensional network via O-H⋯O hydrogen bonds between water molecules and carboxylate O atoms.', 'We read with great interest the article by Suzuki et al. [1] regarding antegrade selective cerebral perfusion (SCP) with lower body circulatory arrest (LBCA) at moderate body core temperatures of 30–32°C. We agree with the authors that antegrade SCP, utilizing deep hypothermic circulatory arrest (21–27°C) to safeguard the protection of the visceral end-organs and the spinal cord, has become the most efficient neuroprotective strategy during transverse aortic arch repair over the past decades. However, as described by the authors, antegrade SCP is being increasingly utilized in combination with progressively increasing body core temperatures [1], a trend culminating in the advocation of moderate-to-mild temperatures (up to 35°C) and even normothermia [2]. Suzuki et al. report on their technique of total aortic arch repair in a contemporary series of 105 patients using a quadrifurcated Dacron graft. The authors proclaim that they routinely aim for deeper body core temperatures (25°C) to ensure lower body-organ protection when LBCA is expected to exceed a duration of 30 min. However, the authors also state that in ‘almost all cases... the core temperature was still 30–32°C’ with a mean LBCA time of 58 ± 22 min in the reported series [1]. This progressive approach may bear potential risks for the non-perfused organs in case of prolonged operation times—apparently not only in case of unexpected technical problems (as documented by an average of 58 min of LBCA) [3, 4]. The authors also admit that they are not familiar with the safe limits of spinal cord ischaemic tolerance during distal circulatory arrest at mild hypothermia. In fact, the ischaemic tolerance of the spinal cord and the visceral organs has not yet been clearly defined, and is therefore not well recognized in clinical practice. A consensus paper of the EACTS Vascular Domain is currently underway to address this issue. However, with regard to recent experimental data, the safe ischaemic interval for the spinal cord—utilizing the currently available state—of—the—art adjuncts for intraoperative neuroprotection—may be estimated as follows [2, 5]:', 'Purified enzymes were mixed to form a cell-free system that simulated the conditions for removal of hydrogen peroxide within human erythrocytes. Human glutathione peroxidase disposed of hydrogen peroxide (H2O2) at a rate that was only 17% of the rate at which human catalase simultaneously removed hydrogen peroxide. The relative rates observed were in agreement with the relative rates predicted from the kinetic constants of the two enzymes. These results confirm two earlier studies on intact erythrocytes, which refuted the notion that glutathione peroxidase is the primary enzyme for removal of hydrogen peroxide within erythrocytes. The present findings differ from the results with intact cells, however, in showing that glutathione peroxidase accounts for even less than 50% of the removal of hydrogen peroxide. A means is proposed for calculating the relative contribution of glutathione peroxidase and catalase in other cells and species. The present results raise the possibility that the major function of glutathione peroxidase may be the disposal of organic peroxides rather than the removal of hydrogen peroxide.', 'Current approaches to managing spectrum are polarized and inflexible. They underplay the value that license exemption and opportunistic access could deliver. This paper describes how new geolocation database technology could enable the use of hybrid models combining the advantages of licensing with those of license exemption. It considers how such models could help accelerate infrastructure investment for wireless broadband access, as well as facilitating innovation in wireless technology and services.', 'Because of its accessibility, skin has been among the first organs analyzed using DNA microarrays. Skin cancers, melanomas, and basal and squamous cell carcinomas have been intensely investigated because they are very frequent and can be fatal. Psoriasis, one of the most common human inflammatory diseases, has been studied comprehensively using DNA microarrays. In addition, epidermal keratinocytes have been the target of many studies because they respond to a rich variety of inflammatory and immunomodulating cytokines, hormones, vitamins, ultraviolet (UV) light, toxins, and physical injury. Because of the ethical considerations, the effects of harmful or dangerous agents on skin have been studied using artificial skin substitutes. Transcriptional mechanisms that regulate epidermal differentiation and cornification have begun to yield their mysteries, and very exciting recent studies identified the genes specifically expressed in epidermal stem cells. Thus, skin has everything: stem cells, differentiation, signaling, inflammation, diseases, and cancer. All these exciting facets of skin have been explored using DNA microarrays. Researchers in skin biology and dermatology were among the first to implement this technology and we expect that they will continue to generate exciting and useful new knowledge.', 'It is known that the performance of an optimal control strategy obtained from an off-line computation is degraded under the presence of model–plant mismatch. In order to improve the control performance, a hybrid neural network and on-line optimal control strategy are proposed in this study and demonstrated for the control of a fed-batch bioreactor for ethanol fermentation. The information of the optimal feed profile of the fed-batch reactor. The simulation results show that the neural network provides a good estimate of unmeasured variables and the on-line optimal control with the neural network estimator gives a better control performance in terms of the amount of the desired ethanol product, compared with a conventional off-line optimal control method. & 2009 Elsevier B.V. All rights reserved.', 'A 26-year-old male suffering from sudden right lower abdominal pain and lumbago was referred to our hospital. Enhanced computed tomography demonstrated bilateral kidneys and spleen infarctions, and a large tumour was found occupying the aortic arch and thoracic descending aorta. We suspected that these infarctions were due to tumour embolization. The aortic arch and thoracic descending aorta were resected with the tumour and then reconstructed using the L-incision technique. A microscopic examination revealed the presence of an intimal sarcoma. The patient was treated with adjuvant chemotherapy and showed a good postoperative course. Neither recurrence nor metastasis has been observed during the 3 years since the operation.', 'Radiation detector to act as radiation sensor is made by printed circuit board technology for realizing the micro pixel patterns on the large-sized substrate. To improve the radiation sensitively of PWB sensor, it is necessary to enhance the electric discharge properties around pixels under high-voltage condition. We therefore studied the insulating properties of PWB dielectric material experimentally and evaluated PWB sensor structures utilizing simulation technology with the gas amplification process of a recoil electron and read-out signal on sensor electrode. As these results, we could decide about a design and development guideline for a PWB radiation detector products.', 'The title compound, dendocarbin A [systematic name: (1R,5aS,9aS,9bR)-1-hydroxy-6,6,9a-trimethyldodecahydronaphtho[1,2-c]furan-3-one], C15H22O3, is a sesquiterpene lactone isolated from Drimys winteri var chilensis. The monoclinic phase described herein displays an identical molecular structure to the orthorhombic phase that we reported previously [Paz Robles et al. (2014). Acta Cryst. C70, 1007-1010], while varying significantly in chain pitch, and can thus be considered as a borderline case of one-dimensional isostructural polymorphism.', 'Ecological explanations have been put forward to account for the precocious or delayed development of patency in ducts leading to the vomeronasal organ (VNO) in certain mammals. Perinatal function may be related, in part, to the patency or fusion of the vomeronasal and nasopalatine (NPD) ducts. However, few studies have focused on NPD development in primates, which generally have a prolonged period of dependence during infancy. In this study we examined 24 prenatal primates and 13 neonatal primates, and a comparative sample of fetal mice and insectivores. In embryonic and early fetal Microcebus murinus, the NPD was completely fused, whereas in fetuses of later stages the duct was partially fused or completely patent. M. myoxinus of all stages demonstrated some degree of NPD fusion. In all other prenatal primates, the NPD was fused to some extent. Four prenatal insectivores (Tenrec ecaudatus) showed some degree of NPD fusion. In Mus musculus at 19 days gestation, the NPD was patent, although the anatomically separate VNO duct was fused. T. ecaudatus and most of the neonatal primates revealed complete NPD patency. An exception was Saguinus geoffroyi, which exhibited fusion of the NPD near the VNO opening. These observations may relate to differences in perinatal VNO function. The differences noted in our study suggest that M. murinus and M. myoxinus may differ in perinatal VNO functionality and perhaps in related behavior. Observations of neonatal primates suggest that NPD patency may be relatively common at birth and could serve other purposes in addition to being an access route for VNO stimuli.', 'Psoriasis is a chronic recessive disease of unknown etiology, insufficiently explained and with a rather complex pathogenesis. In this paper the role of polymorphonuclear leukocytes, products lipids (arachidonic acid, leukotriene, 12-hydroxyeicosatetraenoic acid and the others) has been considered, as well as some immunological moments and the role of complements and platelet activating factor. It has not been explained up to now which one of these factors has the main role in the psoriatic lesion development. The primary defect in this genetically determined disease is unknown. All the elements listed in the sequence of events have secondary or tertiary significance.', 'I have reported a case of esophageal pseudodiverticulosis, a benign disorder consisting of dysphagia and esophageal stricture. The diagnosis is made by the radiologic findings of multiple outpouchings into the esophageal wall. The disorder appears to be related to abnormal submucosal glands of the esophagus. No coexistent diseases have been found, and except for treatment of the associated esophageal stricture no specific therapy is required.', 'We investigated secular trends in cancer mortality among first-generation Japanese-Brazilians in the state of São Paulo between 1979 and 2001. Results were compared with those for Japanese living in Japan and Brazilians living in the state of São Paulo. We used mortality data for three periods, 1979-1981, 1989-1991, and 1999-2001, and population data from Brazilian censuses in 1980, 1991, and 2000 for Japanese-Brazilians. Available mortality and population data for Japanese living in Japan and Brazilians living in the state of São Paulo corresponding to those for Japanese-Brazilians were obtained. Age-standardized mortality rates for Japanese-Brazilians and standardized mortality ratios based on mortality of Japanese living in Japan in 1980 for the three different periods and populations were calculated. We observed a decreasing trend for stomach cancer and increasing trends for colon, breast and prostate cancer over the 20 years in all three populations. Standardized mortality ratios for stomach cancer in Japanese-Brazilians declined to approximately those of Japanese living in Japan. Although standardized mortality ratios from colon, breast and prostate cancer in Japanese-Brazilians increased over the last 20 years, those for colon cancer were similar to the Japanese living in Japan whereas those for breast and prostate cancer (208 and 423 in 2000, respectively) appeared to be intermediate between those for Japanese living in Japan (152 and 208 in 2000, respectively) and Brazilians living in the state of São Paulo (281 and 536 in 2000, respectively). Standardized mortality ratios for liver and lung cancer increased in Japanese living in Japan over the last 20 years but no increasing trend was observed for Japanese-Brazilians, except for liver cancer in men, and standardized mortality ratios in Japanese-Brazilians seemed to be similar to the Brazilians living in the state of São Paulo. Secular trends in mortality confirm the relative importance of environment in the development of cancer.', 'This paper investigates Wireless Sensor Networks (WSNs) for achieving fault tolerant localization of an event using only binary information from the sensor nodes. In this context, faults occur due to various reasons and are manifested when a node outputs a wrong decision. The main contribution of this paper is to propose the Fault Tolerant Maximum Likelihood (FTML) estimator. FTML is compared against the Centroid (CE) and the classical maximum likelihood (ML) estimators and is shown to be significantly more fault tolerant. Moreover, this paper compares FTML against the SNAP (Subtract on Negative Add on Positive) algorithm and shows that in the presence of faults the two can achieve similar performance; FTML is slightly more accurate while SNAP is computationally less demanding and requires fewer parameters.', \"BACKGROUND\\nLumbar disc prolapse is one of the common causes of low back pain seen in the working population. There are contradictorty reports regarding the clinical significance of various magnetic resonance imaging (MRI) findings observed in these patients. The study was conducted to correlate the abnormalities observed on MRI and clinical features of lumbar disc prolapse.\\n\\n\\nMATERIALS AND METHODS\\n119 clinically diagnosed patients with lumbar disc prolapse were included in the study. Clinical evaluation included pain distribution, neurological symptoms and signs. MR evaluation included grades of disc degeneration, type of herniation, neural foramen compromise, nerve root compression, and miscellaneous findings. These MRI findings were tested for inter- and intraobserver variability. The MRI findings were then correlated with clinical symptoms and the level of disc prolapse as well as neurological signs and symptoms. Statistical analysis included the Kappa coefficient, Odd's ratio, and logistic regression analysis.\\n\\n\\nRESULTS\\nThere were no significant inter- or intraobserver variations for most of MRI findings (Kappa value more than 0.5) except for type of disc herniation which showed a interobserver variation of 0.46 (Kappa value). The clinical level of pain distribution correlated well with the MRI level (Kappa 0.8), but not all disc bulges produced symptoms. Central bulges and disc protrusions with thecal sac compression were mostly asymptomatic, while centrolateral protrusions and extrusions with neural foramen compromise correlated well with the dermatomal distribution of pain. Root compression observed in MRI did not produce neurological symptoms or deficits in all patients but when deficits were present, they correlated well with the presence of root compression in MRI. Multiple level disc herniations with foramen compromise were strongly associated with the presence of neurological signs.\\n\\n\\nCONCLUSIONS\\nThe presence of centrolateral protrusion or extrusion with gross foramen compromise correlates with clinical signs and symptoms very well, while central bulges and disc protrusions correlate poorly with clinical signs and symptoms. The presence of neural foramen compromise is more important in determining the clinical signs and symptoms while type of disc herniation (bulge, protrusion, or extrusion) correlates poorly with clinical signs and symptoms.\", 'The morphometric traits were determined on the sample of 459 marketable size common carp from the four Croatian fish farms. There traits were analyzed by the classical methods in order to determine the influence of population, scaliness, age and sex on the dressing percentage. The obtained results show the existence of different phenotypes of common carps at Croatian farms, primarily, morphometric differences. However, the sygnificant diferences of dressing percentage among the populations were not registered (p>0.05). The significant difference between the dressing percentages of scaled and mirror carps was not detected (p>0.05), what leads to the conclusion that the scaliness does not influence dressing percentage significantly. The age and sex also, dit not show significant influence on dressing percentage. As the carps were sampled in winter the differences in dressing percentage caused by the different maturation of males and females were excluded.', 'DURING the War the introduction of governmental controls has led to many matters being dealt with by an order fixing some quantity, price or other variable where a laissez-faire system would have allowed them to find their own levels. As examples we have rates of foreign exchange, wages and prices. Not only has this fixing occurred in many instances during the War, but a further extension of control or planning in peace will probably lead to even more variables being fixed in this way.', \"Realistic versus stylized depictions of virtual humans in simulated inter-personal situations and their ability to elicit emotional responses in users has been an open question for artists and researchers alike. We empirically evaluated the effects of near visually realistic vs. non-realistic stylized appearance of virtual humans on the emotional response of participants in a medical virtual reality system that was designed to educate users in recognizing the signs and symptoms of patient deterioration. In a between-subjects experiment protocol, participants interacted with one of three different appearances of a virtual patient, namely visually realistic, cartoon-shaded and charcoal-sketch like conditions in a mixed reality simulation. Emotional impact were measured via a combination of quantitative objective measures were gathered using skin Electrodermal Activity (EDA) sensors, and quantitative subjective measures such as the Differential Emotion Survey (DES IV), Positive and Negative Affect Schedule (PANAS), and Social Presence questionnaire. The emotional states of the participants were analyzed across four distinct time steps during which the medical condition of the virtual patient deteriorated (an emotionally stressful interaction), and were contrasted to a baseline affective state. Objective EDA results showed that in all three conditions, male participants exhibited greater levels of arousal as compared to female participants. We found that negative affect levels were significantly lower in the visually realistic condition, as compared to the stylized appearance conditions. Furthermore, in emotional dimensions of interest-excitement, surprise, anger, fear and guilt participants in all conditions responded similarly. However, in social emotional constructs of shyness, presence, perceived personality, and enjoyment-joy, we found that participants responded differently in the visually realistic condition as compared to the cartoon and sketch conditions. Our study suggests that virtual human appearance can affect not only critical emotional reactions in affective inter-oersonal trainina scenarios. but also users' oerceotions of oersonalitv and social characteristic of the virtual interlocutors.\", 'BACKGROUND\\nThe liver is the most common target organ in the metastasis of colorectal cancer (CRC). Synchronous liver metastases may confer a poorer prognosis than metachronous metastases, and genetic alterations and an inflammatory response have also been associated with a poor prognosis in cases of a liver metastasis arising from CRC. However, few studies have examined the relationship between KRAS mutations and inflammatory status in CRC, especially with respect to liver metastases.\\n\\n\\nMETHODS\\nThe effect of the activated mitogen-activated protein kinase pathway and another protein involved in inflammation, C-reactive protein, in liver metastases were examined. We aimed to determine the impact of the CRP-specific single nucleotide polymorphism (SNP) rs7553007 in liver metastasis on the CRC-specific survival (CSS) of patients after colorectal liver metastasectomy.\\n\\n\\nRESULTS\\nWe found no significant differences in genotype distributions and allele frequencies at the CRP SNP rs7553007 between CRC patients with liver metastasis and the control group. CSS rates were low in the subgroup of patients with synchronous metastasis with the A-allele (A/A and A/G) at rs7553007 or mutated KRAS/BRAF in liver metastatic specimens. Furthermore, the CRP SNP rs7553007 (hazard ratio [HR] = 1.101; 95% confidence interval [CI] = 1.011-1.200; P = 0.027) and KRAS/BRAF mutations (HR = 2.377; 95% CI = 1.293-4.368; P = 0.005) remained predictive for the CSS of CRC patients with synchronous liver metastasis in multivariate analysis.\\n\\n\\nCONCLUSIONS\\nBoth the CRP SNP rs7553007 and KRAS/BRAF mutations were independent prognostic factors for CRC patients with synchronous liver metastasis.', 'Phylogenetic microarrays present an attractive strategy to high-throughput interrogation of complex microbial communities. In this work, we present several approaches to optimize the analysis of intestinal microbiota with the recently developed Microbiota Array. First, we determined how 16S rDNA-specific PCR amplification influenced bacterial detection and the consistency of measured abundance values. Bacterial detection improved with an increase in the number of PCR amplification cycles, but 25 cycles were sufficient to achieve the maximum possible detection. A PCR-caused deviation in the measured abundance values was also observed. We also developed two mathematical algorithms that aimed to account for a predicted cross-hybridization of 16S rDNA fragments among different species, and to adjust the measured hybridization signal based on the number of 16S rRNA gene copies per species genome. The 16S rRNA gene copy adjustment indicated that the presence of members of the class Clostridia might be overestimated in some 16S rDNA-based studies. Finally, we show that the examination of total community RNA with phylogenetic microarray can provide estimates of the relative metabolic activity of individual community members. Complementary profiling of genomic DNA and total RNA isolated from the same sample presents an opportunity to assess population structure and activity in the same microbial community.', 'Part-time Medicine IT WAS 8 AM ON TUESDAY MORNING AND I LISTENED TO MY telephone messages in my office. “This is Sharon S.,” the first message played, “calling on Thursday. I think I’m having a urinary infection. Please call me back.” “It’s Sharon S.,” the next message played, “calling on Friday. I’m having a lot of burning when I urinate and wonder if I should be on antibiotics.” With a sinking feeling in my stomach, I quickly dialed Sharon’s number and unfortunately got an answering machine. I apologized for not getting her message sooner, explaining that the clinic was closed for a federal holiday on Thursday, and that Fridays and Mondays were the days that I didn’t work at the clinic. All of these were true statements, but as I recounted them before Sharon’s answering machine they sounded pathetic. I didn’t hear back from Sharon and felt worse. Although I later learned that she’d obtained appropriate treatment from her university health services, I still felt terrible. If Sharon had been less educated or didn’t speak English or was homebound, an untreated urinary tract infection could have progressed to pyelonephritis, even sepsis. Even though my voice mail greeting clearly states which days I’m not in the clinic and that I won’t be getting messages on those days and provides the phone number required for immediate attention, it is not uncommon to find messages with real urgency when I return to the office several days later. It is at these times that being a part-time physician feels as if I’m somehow shirking the Hippocratic Oath. I’m not there for my patients all the time like a physician should. During my “on” days, I work furiously like my colleagues, seeing all of my patients, squeezing in anyone who calls or shows up, supervising residents and students, following up ontest results, returningphonecalls, fillingoutmedical forms, writing letters for disability, housing, school, and work. But on my “off” days, I am officially off. I don’t go to the hospital, don’t check my voice mail, though I do carry my beeper for emergencies. If my patients need medical attention on those days, they have to be seen in our walk-in clinic, or go to the emergency department if it is after hours or on weekends. When this happens, I feel terribly guilty about being a part-timer, but I sometimes wonder whether this guilt is misplaced. Is there anything inherently wrong with working in medicine part-time? Between 10% and 20% of physicians define themselves as “part-time,” and pediatrics leads the pack for specialties conducive to part-time work. Patient trust and satisfaction with part-time physicians appear to be similar to that with full-time physicians. Part-time physicians report less burnout, higher satisfaction, and a greater sense of control than full-time physicians. The small studies that have been done on clinical outcomes suggest that part-time physicians achieve outcomes comparable to those of their full-time counterparts, and might even be more efficient. But, not surprisingly, part-time academic physicians fall behind their full-time colleagues in terms of promotion and tenure. Academic physicians view part-time faculty members as less committed, though they concede that parttimers ought to be considered for promotion and even given extra time, if needed, to achieve tenure. Conventional wisdom has it that most physicians choose part-time work so that they can balance work with family, and that these physicians are women. The statistics largely support this. But should part-time medicine be solely viewed as the hodgepodge mess that is left over when women cut their hours to have children? Perhaps part-time medicine is its own entity. Could the part-time physician be seen as another type of clinician—laboring alongside hospitalists, intensivists, pulmonologists, and nephrologists? Unlike most of my part-time colleagues, I did not become a part-time physician as a result of children. My career “choice” came about with more bureaucratic banality—a New York City budget crisis that caused a hiring freeze just as I was poised to begin my academic career. When the freeze unfroze, there was only a parttime spot available. Working part time had never once crossed my mind when I had envisioned my career, but there it was: a three-day-a-week offer, nothing else. I was single, unemployed, fresh out of residency, with 14 years worth of student loans coming due. I did the only pragmatic thing and snapped it up, hoping that maybe a fulltime position would open up later. What happened next was entirely unplanned and unexpected. With two days available each week, I suddenly had time to devote to my other interests in life—ones that had been decisively extirpated by medical training. I began reading literature—not the medical kind—and was finally able to pursue that nagging desire to write down some of the memorable experiences in medical school and residency. I didn’t plan to become a writer, but having those two days away from medicine allowed me to take writing classes and invest serious energy into this effort. Some time later, the much-coveted full-time position became available. Due to the inequities of how part-timers are', 'The subfractions Fa, Fb, and Fc of crude substance P (SP) preparations made from human and bovine brains were analysed for SP and the COOH-terminal octapeptide of cholecystokinin (CCK-8). The methods were specific radioimmunoassays (RIAs) for SP and CCK-8, and bioassays on isolated organs of the guinea pig: the ileum, the gallbladder and the field-stimulated vas deferens. 1. In bioassays of synthetic peptides the vas deferens reacted specifically to SP and the gallbladder to CCK-8. 2. RIAs and bioassays revealed unequivocally that most of SP-like activity was present in Fb, while Fc contained mainly CCK-8-like activity. Varying results were obtained with Fa. 3. The pharmacologically active principle of Fc is CCK-8 or a closely related peptide. Earlier results concerning the pharmacological and neurochemical properties of Fc must be ascribed to this peptide. In bioassays of synthetic peptides the vas deferens reacted specifically to SP and the gallbladder to CCK-8. RIAs and bioassays revealed unequivocally that most of SP-like activity was present in Fb, while Fc contained mainly CCK-8-like activity. Varying results were obtained with Fa. The pharmacologically active principle of Fc is CCK-8 or a closely related peptide. Earlier results concerning the pharmacological and neurochemical properties of Fc must be ascribed to this peptide.', \"Blood plasma levels of ochratoxin A, a toxic secondary metabolite of several fungal species belonging to the genera Aspergillus and Penicillium, were determined in 168 blood donors from the population of Valencia (Spain) using LC-FLD. In conjunction with blood collection, detailed information on diet was obtained by using a questionnaire that encompassed a wide range of products potentially contaminated with the toxin. The investigation revealed a detection frequency of 100%. Mean level was 1.09 microg OTA/l of plasma and concentrations ranged between 0.15 and 5.71 microg OTA/l of plasma. Men's levels were slightly higher than levels observed in women. Results were analysed by Spearman rank correlation test and Gamma correlation statistic. There was no strong correlation between individual consumption of 26 food groups, described as possibly contaminated with OTA and plasma level of OTA. Multiple regression and factorial regression models were obtained explaining 14.9 and 64.4%, respectively, but they could not explain overall variability. Daily dietary intake of ochratoxin A was calculated on the basis of plasma toxin levels using the Breitholtz and Klassen formulae; for the overall population, mean values were 1.47 +/- 1.25 and 2.16 +/- 1.88 ng/kg bw/day, respectively. All results have been compared with other Spanish data.\", 'Evidence-based medicine (EBM) and patient-centered medicine (PCM) are two movements that have emerged with great force in health systems in recent years. EBM has a population approach, and its primary objective is the generalization and improvement of health outcomes in the average patient. PCM has a personalized approach, focuses on individualization and improving health outcomes in specific patients. While EBM has its conceptual anchor in research, PCM has it in medical care. Despite EBM and PCM being perceived as conflicting movements, the profound changes that are currently taking place in health systems can facilitate the confluence of clinical research and medical care. This article constitutes a reflection on how research methods should approach the individual patient and medical practice should approach future patients. EBM and PCM, like research and medical practice, are two sides of the same coin, which should complement and aid each other. It is difficult to see how one of them can reach its full potential without the other as a continual reference, because PCM should not be practiced without being based on the best available evidence and it is impossible to imagine an EBM whose ultimate goal is disconnected from the individual patient.', 'Studies on hyperactivity have shown the importance of distinguishing hyperactive children according to the pervasiveness of their symptoms. To verify the meaningfulness of this distinction in Attention Deficit Disorders, an epidemiological study was undertaken. Sixteen pervasive-ADD, nine situational-ADD and 28 non-ADD children selected from a general population were compared using different measures. The results show that pervasive-ADD differ from non-ADD children on verbal IQ and reading difficulties and support the distinction of ADD according to the pervasiveness of the symptoms.', 'Quercetin, one of the most abundant dietary flavonoids, is widely present in nature. In this study, the effects of quercetin ingestion on Helicoverpa armigera larvae growth and its sensitivity to lambda-cyhalothrin were assessed. The median lethal concentration (LC50) value of lambda-cyhalothrin to quercetin-fed H. armigera larvae was 2.39-fold higher than the control, suggesting a reduced sensitivity to lambda-cyhalothrin. Piperonyl butoxide (PBO) treatment effectively synergized lambda-cyhalothrin efficacy in quercetin-fed H. armigera larvae with a synergistic ratio of 2.36. Moreover, the growth of H. armigera larvae was inhibited by the quercetin uptake. To understand the reduced sensitivity to lambda-cyhalothrin, we measured the enzymatic activity of cytochrome P450 monooxygenases (P450s), as well as transcriptional responses of three P450s genes in quercetin-fed H. armigera larvae. We found that cytochrome P450 monooxygenases involved in the observed lambda-cyhalothrin tolerance in quercetin-fed H. armigera. After fed on quercetin for 48\\xa0h, 7-ethoxycoumarin-O-deethylase (ECOD) activity was significantly elevated in quercetin-fed H. armigera larvae; meanwhile, the expression level of CYP6B6, CYP6B8 and CYP321A1 was up-regulated. In conclusion, P450s played a crucial role in the metabolic adaptation of H. armigera larvae to its host plant’s secondary metabolites as well as synthetic insecticides. The reduced lambda-cyhalothrin sensitivity in quercetin-fed H. armigera larvae suggested that previous exposure to the host plant-derived quercetin is likely to compromise the efficacy of pyrethroid insecticides.', 'AIM\\nTo evaluate the anti-apoptotic effect of banhasasim-tang (BHSST) on chronic acid reflux esophagitis (CARE) using a rat model.\\n\\n\\nMETHODS\\nA surgically-induced CARE model was established in Sprague-Dawley rats. The modeled rats were divided into a treatment group or untreated group, and given BHSST (1 g/kg body weight per day) or water, respectively, for 15 consecutive days (n = 7 each group). Changes in expression of proteins related to nicotinamide adenine dinucleotide phosphate (NADPH) oxidase and apoptosis were assessed by western blotting. Changes in esophageal pathology were analyzed by gross and histological examinations.\\n\\n\\nRESULTS\\nThe CARE exposure modeled rats showed increased levels of the NADPH oxidase subunit, NOX4 and p47phox in the esophagus. The BHSST treatment completely resolved these CARE-related increases. The CARE rats also showed markers of cytokine stress, including elevated levels of TNF-α and reactive oxygen species as well as of the consequent increase in JNK activation, and subsequent decrease in pro-survival gene expression, such as of Bcl-2. BHSST treatment resolved the CARE-related changes. BHSST also exerted an anti-apoptotic effect, as evidenced by altered expression of the apoptosis-related genes for bax, cytochrome c, and caspase 3. Finally, the BHSST treatment markedly ameliorated the CARE-related esophageal mucosal ulcerations.\\n\\n\\nCONCLUSION\\nIn the rat model of CARE, BHSST can suppress development of esophageal mucosal ulceration via regulation of reactive oxygen species-dependent apoptosis.', 'Therapeutic hypothermia is a robust therapeutic tool in experimental stroke models but its clinical applications are limited. Furthermore, optimal conditions for therapeutic hypothermia, such as, temperature and the initiation and duration of cooling must be individualized. Here, we evaluated the therapeutic effects of delayed local hypothermia, administered for 44 hr after 4 hr of reperfusion in a rat model of transient middle cerebral artery occlusion (tMCAo), using a cooling device that allowed controlled local hypothermia (31 °C) in brain. Histological data revealed that local hypothermia significantly reduced infarct volumes and glial hypertrophic activation. Brain water contents, IgG leakage, and Evans Blue extravasation were notably reduced by local hypothermia. Furthermore, local hypothermia had strong vasculoprotective effects, as determined by immunohistochemistry and Western blot analyses for endothelial barrier antigen (EBA), laminin, aquaporin-4, and tight junction proteins in brain. Our data indicate that delayed/prolonged local hypothermia confers neurovascular protection, reduces brain edema, and inhibits inflammatory glial activation, and suggest that hypothermic conservation of vascular structures and functions account for the therapeutic effects of local hypothermia observed in this model of experimental stroke.', 'BACKGROUND\\nPoor self-rated health has been associated with poorer objective health outcomes across a range of conditions including stroke. Identification of factors associated with poor self-rated health in stroke survivors has received little attention compared to that in other older individuals. This study identifies determinants of self-rated health in older individuals with or without a history of stroke participating in the population-representative MRC Cognitive Function and Aging Study (MRC CFAS).\\n\\n\\nMETHODS\\nThe MRC CFAS is a multicentred longitudinal survey of a population representative sample of people in their 65th year and older at baseline. Baseline interview included questions about functional disability, psychiatric history, independent living status, social interactions, and cognitive function. Multiple logistic regression was used to determine associations between demographic, physical, cognitive, psychological and social factors with poor self-rated health among those with and without stroke.\\n\\n\\nRESULTS\\nAfter excluding those with impaired cognitive function, 776 individuals out of 11,957 reported a stroke. Factors associated with self-rated health were similar between those with or without a stroke in older individuals. Poorer self-rated health in those who had suffered a stroke was associated predominantly with the presence of comorbidity with diabetes (OR 3.5; 95% CI 1.5-8.1) and not \"getting out and about\" (OR 2.6; 95% CI 1.7-4.1) even after adjustment for disability levels and for depression. In those without a stroke the most important determinants were disability (OR 3.9; 95% CI 3.2-4.8) and not \"getting out and about\" (OR 2.9; 95% CI 2.5-3.3). The presence of disability was less strongly associated with poor self-rated health in those with a history of stroke than those without due to a substantially higher reporting of poor self-rated health in the non-disabled stroke group than the non-disabled stroke-free group, while those with disabilities reported poor self-rated health irrespective of stroke status.\\n\\n\\nCONCLUSIONS\\nSelf-rated health is determined by a range of psychological and social factors in addition to disability in older patients with stroke. Addressing social integration and mobility out of the home is an important element of rehabilitation for older people with stroke as well as those without.', 'Prospective characteristics of the next generation of radar is investigated in this paper, combined with future requirement. The demands of the next generation radar for the wide band, high speed, parallelism and high integration are precisely the four prominent respects of photonics. The technological path of future radar could hopefully be interdisciplinary fusion to solve bottleneck problems in the microwave field by means of optical methods, ideas and technical features, namely constructing microwave photonics technology based radar system. One system architecture of multifunctional radar based on the technology of microwave photonics is proposed. Meanwhile, representative techniques such as photonic frequency conversion and photonic beamforming are presented. Some stages of experiment and test results are reported.', 'A minor alkaloid of Colchicum spec iosum Stev. (showy autumn crocus) speciogine [1] is N-o -hyd roxy benzylco lchamine [2]. Continuing a study of the p r o p e r t i e s of specios ine , we turned our at tention to the fact that i ts m a s s spec t rum (MKh-1303 ins t rument , t e m p e r a t u r e 200°C and ionizing vol tage 35 V) in the region of high m a s s number s p rac t i ca l ly coincides with the s p e c t r u m of colchamine (methyldeacetylcolchicine) [3]. In addition to this, the absence under the conditions given of the peak of a mo lecu la r ion with m / e 477 co r responding to spec ios ine apparent ly showed the decomposi t ion of this alkaloid under the conditions of m a s s s p e c t r o m e t r y and its convers ion into colchamine. F u r t h e r m o r e , in ag reemen t with the r e su l t s of o ther authors [2], in the m a s s s p e c t r u m t h e r e is a t r ip le t of ions with m / e 106-108 showing the appea rance of the o-hydroxybenzyl r e s idue of the spec ios ine molecule .', 'The strong coupling constant, αs, is one of the fundamental parameters of QCD. However, its value is not predicted by the theory and has to be determined experimentally. The success of perturbative QCD (pQCD) lies on precise and consistent determinations of the coupling from many diverse phenomena such as τ decays, event shapes, Z decays, etc. At ZEUS, many precise determinations of αs have been performed from a variety of measurements based on jet observables and on structure functions. The procedure to determine αs from jet observables used by ZEUS is based on the αs dependence of the pQCD calculations and takes into account the correlation with the proton parton distribution functions (PDFs). The method consists of performing next-to-leadingorder (NLO) calculations using sets of PDFs for which different values of αs(MZ) were assumed in the fits. A parameterisation of the αs(MZ) dependence of the theory for the given observable is obtained. Finally, a value for αs(MZ) is extracted from the measured cross section using such parameterisation. This procedure handles correctly the complete αsdependence of the NLO calculations (the explicit dependence in the partonic cross section and the implicit dependence from the PDFs) in the fit, while preserving the correlation between αs and the PDFs.', 'This paper mainly focuses on the horizontal comparisons pertinent to the impacts on power flow when three different types of wind power generators, Squirrel Cage Induction Generator (SCIG), Doubly Fed Induction Generator (DFIG) and Permanent Magnet Synchronous Generator (PMSG), are integrated into the existing power grid respectively. In order to discuss the influence, the probabilistic load flow (PLF) considering wind power uncertainty is analyzed in this paper. Whilst to solve the PLF problem with higher precision and less computing time, the traditional Monte Carlo method is improved by using the quasi random sequence instead of simple samples, which is called Quasi Monte Carlo method. The simulations are based on IEEE 14-bus test system and some interesting and useful information can be obtained.', 'Respinomycins A1, A2, B, C and D were revealed to be novel anthracycline antibiotics with molecular formulae of C51H72N2O20, C43H58N2O15, C35H43NO14, C36H45NO14 and C51H70N2O22, respectively. Their structures were determined by means of 1H-1H COSY, 13C-1H COSY and HMBC spectra. The structure of the aglycone of respinomycins was unambiguously determined by LSPD experiments and NOESY. The common skeleton of respinomycins is a new type and is distinguished from that of the nogalamycin group.', 'Availability of magnesium is a matter of concern due to its role in many environmental and biological processes. Diffusive Gradients in Thin Films (DGT) devices can measure Mg availability in situ. This work shows that Mg accumulation in water largely increases when ionic strength (I) decreases. This phenomenon can be explained from (i) the increase of both the association equilibrium (K) and rate (ka,R) constants for the reaction between Mg cations and resin sites, and (ii) the growing contribution of the partitioning of Mg cations at the resin-gel interface, as I decreases. Two theoretical models that take into account electrical interactions among Mg cations, background electrolyte, and resin sites can successfully be used to determine ka,R and K at each I. Both models yield similar ka,R values, which fulfill an expression for the kinetic salt effect. For freshwater (with a typical salinity of 10 mM and circumneutral pH), the binding of Mg is so fast and strong that the simplest perfect-sink DGT expression can be helpful to predict (overestimation lower than 5%) the accumulation in solutions with Mg concentrations up to 1 mM whenever the deployment time is below 9 h. Perfect sink conditions can still be applied for longer times, in systems with either a lower I or a lower Mg concentration.', 'There has been considerable discussion over the last couple of years about the nature of pharmacology as a discipline and the training programmes for pharmacologists. Recently the British Pharmacological Society devoted a whole symposium to this important issue. In the UK in particular, pressure from government has nearly doubled the number of undergraduate students entering the university sector over the last five years, which has put considerable pressure on the teaching of essential practical courses for this experimental discipline. Similar pressures face the teaching of pharmacology in other countries and the situation, discussed here by Clive Page, Morley Sutter and Michael Walker, clearly has implications for academic pharmacology and the pharmaceutical industry. It is intended that the following article will stimulate both dialogue and positive action towards redressing this important problem.', 'Auranofin (AF) is an anti-arthritic drug considered for combined chemotherapy due to its ability to impair the redox homeostasis in tumor cells. In this study, we asked whether AF may in addition radiosensitize tumor cells by targeting thioredoxin reductase (TrxR), a critical enzyme in the antioxidant defense system operating through the reductive protein thioredoxin. Our principal findings in murine 4T1 and EMT6 tumor cells are that AF at 3-10 μM is a potent radiosensitizer in vitro, and that at least two mechanisms are involved in TrxR-mediated radiosensitization. The first one is linked to an oxidative stress, as scavenging of reactive oxygen species (ROS) by N-acetyl cysteine counteracted radiosensitization. We also observed a decrease in mitochondrial oxygen consumption with spared oxygen acting as a radiosensitizer under hypoxic conditions. Overall, radiosensitization was accompanied by ROS overproduction, mitochondrial dysfunction, DNA damage and apoptosis, a common mechanism underlying both cytotoxic and antitumor effects of AF. In tumor-bearing mice, a simultaneous disruption of the thioredoxin and glutathione systems by the combination of AF and buthionine sulfoximine was shown to significantly improve tumor radioresponse. In conclusion, our findings illuminate TrxR in cancer cells as an exploitable radiobiological target and warrant further validation of AF in combination with radiotherapy.', 'In several Drosophila species there is a trait known as \"sex-ratio\": males carrying certain X chromosomes (called \"SR\") produce female biased progenies due to X-Y meiotic drive. In Drosophila mediopunctata this trait has a variable expression due to Y-linked suppressors of sex-ratio expression, among other factors. There are tow types of Y chromosomes (suppressor and nonsuppressor) and two types of SR chromosomes (suppressible and unsuppressible). Sex-ratio expression is suppressed in males with the SRsuppressible/Ysuppressor genotype, whereas the remaining three genotypes produce female biased progenies. Now we have found that approximately 10-20% of the Y chromosomes from two natural populations 1500 km apart are suppressors of sex-ratio expression. Preliminary estimates indicate that Ysuppressor has a meiotic drive advantage of 6% over Ynonsuppressor. This Y polymorphism for a nonneutral trait is unexpected under current population genetics theory. We propose that this polymorphism is stabilized by an equilibrium between meiotic drive and natural selection, resulting from interactions in the population dynamics of X and Y alleles. Numerical simulations showed that this mechanism may stabilize nonneutral Y polymorphisms such as we have found in D. mediopunctata.', 'Multicasting is one of the prominent that is used in the networks for the transmission of data packets. In this scheduling technique, the packets are transferred erratically across the distributed network. The convey of packets randomly across network cases the anonymous users to access the packets. The data packets should be transferred in authorized path to multiple recipients. The main objective of this research work is to transfer packets to the destination through optimized path. It can be achieved using the assorted metaheuristic techniques including genetic algorithm, simulated annealing, honey bee algorithm and many others. We have used Ant Colony Optimization for solving the optimization problem. An authorized and novel technique is proposed to overcome these problems. In the classical or traditional system, they are mainly concentrated on transferring packets between the source and destination and also they are concentrated when the source and destination are under movement, nowadays the mobile devices plays major role in network topology. Multicasting was clearly proved in the classical system by transferring packets from one source to many destinations on a single time. The proposed system is designed to overcome various problems, arises during the multicast packet transfer to the mobile nodes. The proposed system provides an optimized route to the various destinations using the ant algorithm as we discussed above, with the help of this path the packets are transferred to the various destinations. In this multicast scheduling technique, various problems arising during the routing has been overcome by using Ant algorithm whereby the proposed novel technique provides solution for routing for nodes which are static and nodes under movement. Keywords— Multicasting,ACO', 'The multiwave numerical model of magnetron type amplifiers (amplitrons, stabilitrons, forward-wave and backward-wave amplifiers with drift space) is described. This model allows describing the process of &#x201C;working&#x201D; signal amplification and excitation of oscillations side types caused by multiple input and output reflections of high-frequency waves. It is shown that the registration of possible self-excitation of a device allows determining adequately the limits of a region of amplification according to anode current and voltage.']\n"
     ]
    },
    {
     "name": "stderr",
     "output_type": "stream",
     "text": [
      "/home/amanjuna/.local/lib/python3.6/site-packages/networkx/drawing/nx_pylab.py:611: MatplotlibDeprecationWarning:\n",
      "\n",
      "isinstance(..., numbers.Number)\n",
      "\n",
      "/home/amanjuna/.local/lib/python3.6/site-packages/networkx/drawing/nx_pylab.py:611: MatplotlibDeprecationWarning:\n",
      "\n",
      "isinstance(..., numbers.Number)\n",
      "\n"
     ]
    },
    {
     "name": "stdout",
     "output_type": "stream",
     "text": [
      "cluster began\n",
      "cluster began\n",
      "cluster end\n",
      "cluster end\n"
     ]
    },
    {
     "name": "stderr",
     "output_type": "stream",
     "text": [
      "Computing transition probabilities: 100%|██████████| 42/42 [00:00<00:00, 870.23it/s]\n",
      "/home/amanjuna/.local/lib/python3.6/site-packages/joblib/parallel.py:673: UserWarning:\n",
      "\n",
      "Loky-backed parallel loops cannot be called in a multiprocessing, setting n_jobs=1\n",
      "\n",
      "Generating walks (CPU: 1):   0%|          | 0/3 [00:00<?, ?it/s]"
     ]
    },
    {
     "name": "stdout",
     "output_type": "stream",
     "text": [
      "cluster began\n",
      "cluster end\n"
     ]
    },
    {
     "name": "stderr",
     "output_type": "stream",
     "text": [
      "Computing transition probabilities: 100%|██████████| 69/69 [00:00<00:00, 468.47it/s]\n",
      "/home/amanjuna/.local/lib/python3.6/site-packages/joblib/parallel.py:673: UserWarning:\n",
      "\n",
      "Loky-backed parallel loops cannot be called in a multiprocessing, setting n_jobs=1\n",
      "\n",
      "Generating walks (CPU: 1):  67%|██████▋   | 2/3 [00:00<00:00, 13.20it/s], 153.37it/s]"
     ]
    },
    {
     "name": "stdout",
     "output_type": "stream",
     "text": [
      "cluster began\n"
     ]
    },
    {
     "name": "stderr",
     "output_type": "stream",
     "text": [
      "\r",
      "Computing transition probabilities:  48%|████▊     | 49/103 [00:00<00:00, 181.90it/s]"
     ]
    },
    {
     "name": "stdout",
     "output_type": "stream",
     "text": [
      "cluster end\n"
     ]
    },
    {
     "name": "stderr",
     "output_type": "stream",
     "text": [
      "Computing transition probabilities:  91%|█████████▏| 94/103 [00:00<00:00, 183.70it/s]\n",
      "Computing transition probabilities: 100%|██████████| 103/103 [00:00<00:00, 219.74it/s]\n",
      "/home/amanjuna/.local/lib/python3.6/site-packages/joblib/parallel.py:673: UserWarning:\n",
      "\n",
      "Loky-backed parallel loops cannot be called in a multiprocessing, setting n_jobs=1\n",
      "\n",
      "Computing transition probabilities:  23%|██▎       | 39/173 [00:00<00:01, 86.06it/s] \n",
      "Generating walks (CPU: 2):  67%|██████▋   | 2/3 [00:00<00:00,  8.71it/s], 76.09it/s]\n",
      "Computing transition probabilities:  47%|████▋     | 82/173 [00:01<00:01, 77.76it/s]\n",
      "Generating walks (CPU: 4): 100%|██████████| 2/2 [00:00<00:00, 16.94it/s], 80.84it/s]\n",
      "Computing transition probabilities:  60%|██████    | 104/173 [00:01<00:00, 89.85it/s]\n",
      "\n",
      "Computing transition probabilities:  86%|████████▌ | 149/173 [00:01<00:00, 98.05it/s]\n",
      "Computing transition probabilities:  92%|█████████▏| 160/173 [00:01<00:00, 86.96it/s]"
     ]
    },
    {
     "name": "stdout",
     "output_type": "stream",
     "text": [
      "cluster began\n",
      "cluster end\n"
     ]
    },
    {
     "name": "stderr",
     "output_type": "stream",
     "text": [
      "Computing transition probabilities: 100%|██████████| 173/173 [00:02<00:00, 84.44it/s]\n",
      "/home/amanjuna/.local/lib/python3.6/site-packages/joblib/parallel.py:673: UserWarning:\n",
      "\n",
      "Loky-backed parallel loops cannot be called in a multiprocessing, setting n_jobs=1\n",
      "\n",
      "Computing transition probabilities:  30%|███       | 38/126 [00:00<00:00, 155.18it/s]\n",
      "Computing transition probabilities:  63%|██████▎   | 79/126 [00:00<00:00, 161.20it/s]\n",
      "Computing transition probabilities: 100%|██████████| 126/126 [00:00<00:00, 168.79it/s]\n",
      "Generating walks (CPU: 3): 100%|██████████| 2/2 [00:00<00:00,  4.89it/s]"
     ]
    },
    {
     "name": "stdout",
     "output_type": "stream",
     "text": [
      "cluster began\n",
      "cluster end\n"
     ]
    },
    {
     "name": "stderr",
     "output_type": "stream",
     "text": [
      "Computing transition probabilities:  75%|███████▌  | 67/89 [00:00<00:00, 218.61it/s]\n",
      "Computing transition probabilities: 100%|██████████| 89/89 [00:00<00:00, 233.90it/s]\n",
      "Generating walks (CPU: 1):  67%|██████▋   | 2/3 [00:00<00:00,  5.44it/s]\n",
      "Generating walks (CPU: 1): 100%|██████████| 3/3 [00:00<00:00,  4.45it/s]\n",
      "Generating walks (CPU: 2):   0%|          | 0/3 [00:00<?, ?it/s]\n",
      "\n",
      "Generating walks (CPU: 2): 100%|██████████| 3/3 [00:00<00:00,  3.40it/s]"
     ]
    },
    {
     "name": "stdout",
     "output_type": "stream",
     "text": [
      "cluster began\n"
     ]
    },
    {
     "name": "stderr",
     "output_type": "stream",
     "text": [
      "\r",
      "Generating walks (CPU: 2): 100%|██████████| 3/3 [00:00<00:00,  4.86it/s]"
     ]
    },
    {
     "name": "stdout",
     "output_type": "stream",
     "text": [
      "cluster end\n"
     ]
    },
    {
     "name": "stderr",
     "output_type": "stream",
     "text": [
      "Computing transition probabilities:  47%|████▋     | 56/118 [00:00<00:00, 258.91it/s]\n",
      "Generating walks (CPU: 3):   0%|          | 0/2 [00:00<?, ?it/s]\n",
      "Computing transition probabilities: 100%|██████████| 118/118 [00:00<00:00, 189.21it/s]\n",
      "Generating walks (CPU: 3): 100%|██████████| 2/2 [00:00<00:00,  4.22it/s]\n",
      "Generating walks (CPU: 4):   0%|          | 0/2 [00:00<?, ?it/s]\n",
      "Generating walks (CPU: 4): 100%|██████████| 2/2 [00:00<00:00,  6.99it/s]\n",
      "Generating walks (CPU: 4):   0%|          | 0/2 [00:00<?, ?it/s]\n",
      "Generating walks (CPU: 4): 100%|██████████| 2/2 [00:00<00:00,  4.80it/s]\n",
      "Generating walks (CPU: 2):   0%|          | 0/3 [00:00<?, ?it/s]\n",
      "Generating walks (CPU: 4):   0%|          | 0/2 [00:00<?, ?it/s]\n",
      "Generating walks (CPU: 2):  67%|██████▋   | 2/3 [00:00<00:00,  4.87it/s]"
     ]
    },
    {
     "name": "stdout",
     "output_type": "stream",
     "text": [
      "cluster began\n",
      "cluster end\n"
     ]
    },
    {
     "name": "stderr",
     "output_type": "stream",
     "text": [
      "Computing transition probabilities: 100%|██████████| 104/104 [00:00<00:00, 181.56it/s]\n",
      "Generating walks (CPU: 1):   0%|          | 0/3 [00:00<?, ?it/s]\n",
      "Generating walks (CPU: 3):   0%|          | 0/2 [00:00<?, ?it/s]"
     ]
    },
    {
     "name": "stdout",
     "output_type": "stream",
     "text": [
      "cluster began\n",
      "cluster end\n"
     ]
    },
    {
     "name": "stderr",
     "output_type": "stream",
     "text": [
      "Computing transition probabilities:  15%|█▍        | 17/116 [00:00<00:00, 167.19it/s]\n",
      "Computing transition probabilities: 100%|██████████| 116/116 [00:00<00:00, 172.45it/s]\n",
      "Generating walks (CPU: 1):   0%|          | 0/3 [00:00<?, ?it/s]\n",
      "Generating walks (CPU: 4):   0%|          | 0/2 [00:00<?, ?it/s]\n",
      "Generating walks (CPU: 2): 100%|██████████| 3/3 [00:00<00:00,  4.40it/s]\n"
     ]
    },
    {
     "name": "stdout",
     "output_type": "stream",
     "text": [
      "cluster began\n",
      "cluster end\n"
     ]
    },
    {
     "name": "stderr",
     "output_type": "stream",
     "text": [
      "Computing transition probabilities:   7%|▋         | 12/181 [00:00<00:01, 119.39it/s]\n",
      "Generating walks (CPU: 3):   0%|          | 0/2 [00:00<?, ?it/s]\n",
      "Computing transition probabilities:  44%|████▎     | 79/181 [00:00<00:01, 83.76it/s] \n",
      "Computing transition probabilities:  54%|█████▎    | 97/181 [00:01<00:01, 78.96it/s]"
     ]
    },
    {
     "name": "stdout",
     "output_type": "stream",
     "text": [
      "cluster began\n",
      "cluster end\n"
     ]
    },
    {
     "name": "stderr",
     "output_type": "stream",
     "text": [
      "Computing transition probabilities:  65%|██████▌   | 118/181 [00:01<00:00, 81.06it/s]\n",
      "Computing transition probabilities:  38%|███▊      | 54/144 [00:00<00:00, 153.54it/s]\n",
      "Computing transition probabilities: 100%|██████████| 181/181 [00:02<00:00, 75.25it/s]]\n",
      "Computing transition probabilities:  99%|█████████▊| 142/144 [00:01<00:00, 101.17it/s]\n",
      "Computing transition probabilities: 100%|██████████| 144/144 [00:01<00:00, 124.61it/s]\n",
      "Generating walks (CPU: 4): 100%|██████████| 2/2 [00:00<00:00,  5.22it/s]"
     ]
    },
    {
     "name": "stdout",
     "output_type": "stream",
     "text": [
      "cluster began\n",
      "cluster end\n"
     ]
    },
    {
     "name": "stderr",
     "output_type": "stream",
     "text": [
      "Computing transition probabilities:  54%|█████▍    | 62/114 [00:00<00:00, 176.48it/s]\n",
      "Computing transition probabilities: 100%|██████████| 114/114 [00:00<00:00, 176.40it/s]\n",
      "Generating walks (CPU: 1): 100%|██████████| 3/3 [00:01<00:00,  2.09it/s]\n",
      "Generating walks (CPU: 2):   0%|          | 0/3 [00:00<?, ?it/s].28it/s]\n",
      "Generating walks (CPU: 2):  67%|██████▋   | 2/3 [00:00<00:00,  3.62it/s]"
     ]
    },
    {
     "name": "stdout",
     "output_type": "stream",
     "text": [
      "cluster began\n",
      "cluster end\n"
     ]
    },
    {
     "name": "stderr",
     "output_type": "stream",
     "text": [
      "Computing transition probabilities:   0%|          | 0/166 [00:00<?, ?it/s]\n",
      "Computing transition probabilities:  42%|████▏     | 69/166 [00:00<00:01, 87.29it/s]\n",
      "Generating walks (CPU: 3): 100%|██████████| 2/2 [00:00<00:00,  4.17it/s]0, 105.47it/s]\n",
      "Computing transition probabilities:  95%|█████████▌| 158/166 [00:01<00:00, 85.81it/s] \n",
      "Computing transition probabilities: 100%|██████████| 166/166 [00:01<00:00, 98.53it/s]\n",
      "Generating walks (CPU: 1):   0%|          | 0/3 [00:00<?, ?it/s].68it/s]\n",
      "Generating walks (CPU: 4):   0%|          | 0/2 [00:00<?, ?it/s]\n",
      "Generating walks (CPU: 4): 100%|██████████| 2/2 [00:00<00:00,  5.89it/s]\n",
      "\n",
      "Generating walks (CPU: 1): 100%|██████████| 3/3 [00:01<00:00,  2.86it/s]\n",
      "Generating walks (CPU: 4):   0%|          | 0/2 [00:00<?, ?it/s]\n",
      "Generating walks (CPU: 2):  67%|██████▋   | 2/3 [00:00<00:00,  3.35it/s]"
     ]
    },
    {
     "name": "stdout",
     "output_type": "stream",
     "text": [
      "cluster began\n",
      "cluster end\n"
     ]
    },
    {
     "name": "stderr",
     "output_type": "stream",
     "text": [
      "\r",
      "Computing transition probabilities:   0%|          | 0/76 [00:00<?, ?it/s]"
     ]
    },
    {
     "name": "stdout",
     "output_type": "stream",
     "text": [
      "cluster began\n",
      "cluster end\n"
     ]
    },
    {
     "name": "stderr",
     "output_type": "stream",
     "text": [
      "Computing transition probabilities:  58%|█████▊    | 45/78 [00:00<00:00, 443.99it/s]\n",
      "Computing transition probabilities: 100%|██████████| 78/78 [00:00<00:00, 386.18it/s]\n",
      "Computing transition probabilities: 100%|██████████| 76/76 [00:00<00:00, 303.57it/s]\n",
      "Generating walks (CPU: 1): 100%|██████████| 3/3 [00:00<00:00,  4.72it/s]\n",
      "Generating walks (CPU: 2):   0%|          | 0/3 [00:00<?, ?it/s]\n",
      "Generating walks (CPU: 2):  67%|██████▋   | 2/3 [00:00<00:00,  7.63it/s]\n",
      "Generating walks (CPU: 2): 100%|██████████| 3/3 [00:00<00:00,  5.91it/s]"
     ]
    },
    {
     "name": "stdout",
     "output_type": "stream",
     "text": [
      "cluster began\n"
     ]
    },
    {
     "name": "stderr",
     "output_type": "stream",
     "text": [
      "\n",
      "Generating walks (CPU: 3): 100%|██████████| 2/2 [00:00<00:00,  3.64it/s]"
     ]
    },
    {
     "name": "stdout",
     "output_type": "stream",
     "text": [
      "cluster end\n"
     ]
    },
    {
     "name": "stderr",
     "output_type": "stream",
     "text": [
      "Computing transition probabilities:   0%|          | 0/138 [00:00<?, ?it/s]\n",
      "Computing transition probabilities:  54%|█████▍    | 75/138 [00:00<00:00, 175.65it/s]\n",
      "Generating walks (CPU: 4):   0%|          | 0/2 [00:00<?, ?it/s]\n",
      "Computing transition probabilities:  64%|██████▍   | 88/138 [00:00<00:00, 148.75it/s]\n",
      "Computing transition probabilities:  90%|████████▉ | 124/138 [00:00<00:00, 130.26it/s]\n",
      "Computing transition probabilities:  99%|█████████▉| 137/138 [00:00<00:00, 113.92it/s]\n",
      "Computing transition probabilities: 100%|██████████| 138/138 [00:00<00:00, 141.41it/s]\n",
      "Generating walks (CPU: 1):  67%|██████▋   | 2/3 [00:00<00:00,  3.38it/s]\n",
      "Generating walks (CPU: 1): 100%|██████████| 3/3 [00:01<00:00,  2.85it/s]"
     ]
    },
    {
     "name": "stdout",
     "output_type": "stream",
     "text": [
      "cluster began\n",
      "cluster end\n"
     ]
    },
    {
     "name": "stderr",
     "output_type": "stream",
     "text": [
      "Computing transition probabilities:  36%|███▋      | 33/91 [00:00<00:00, 327.81it/s]"
     ]
    },
    {
     "name": "stdout",
     "output_type": "stream",
     "text": [
      "cluster began\n",
      "cluster end\n"
     ]
    },
    {
     "name": "stderr",
     "output_type": "stream",
     "text": [
      "Computing transition probabilities: 100%|██████████| 91/91 [00:00<00:00, 254.82it/s]]\n",
      "Computing transition probabilities:  22%|██▏       | 28/126 [00:00<00:00, 133.10it/s]\n",
      "Computing transition probabilities: 100%|██████████| 126/126 [00:00<00:00, 175.33it/s]\n",
      "Generating walks (CPU: 1): 100%|██████████| 3/3 [00:00<00:00,  5.05it/s]\n",
      "Generating walks (CPU: 2):   0%|          | 0/3 [00:00<?, ?it/s]"
     ]
    },
    {
     "name": "stdout",
     "output_type": "stream",
     "text": [
      "cluster began\n",
      "cluster end\n"
     ]
    },
    {
     "name": "stderr",
     "output_type": "stream",
     "text": [
      "Computing transition probabilities: 100%|██████████| 79/79 [00:00<00:00, 470.18it/s]\n",
      "Generating walks (CPU: 1): 100%|██████████| 3/3 [00:00<00:00,  3.69it/s]\n",
      "Generating walks (CPU: 1): 100%|██████████| 3/3 [00:00<00:00,  6.06it/s]\n",
      "Generating walks (CPU: 3):   0%|          | 0/2 [00:00<?, ?it/s]\n",
      "Generating walks (CPU: 2):   0%|          | 0/3 [00:00<?, ?it/s]\n",
      "Generating walks (CPU: 2): 100%|██████████| 3/3 [00:00<00:00,  5.99it/s]\n",
      "Generating walks (CPU: 4):   0%|          | 0/2 [00:00<?, ?it/s]\n",
      "Generating walks (CPU: 4):   0%|          | 0/2 [00:00<?, ?it/s]\n",
      "Generating walks (CPU: 3): 100%|██████████| 2/2 [00:00<00:00,  7.95it/s]\n",
      "\n",
      "Generating walks (CPU: 4):   0%|          | 0/2 [00:00<?, ?it/s]\n",
      "Generating walks (CPU: 3):   0%|          | 0/2 [00:00<?, ?it/s]\n",
      "Generating walks (CPU: 3): 100%|██████████| 2/2 [00:00<00:00,  3.97it/s]\n",
      "\n",
      "Generating walks (CPU: 4):   0%|          | 0/2 [00:00<?, ?it/s]"
     ]
    },
    {
     "name": "stdout",
     "output_type": "stream",
     "text": [
      "cluster began\n",
      "cluster end\n"
     ]
    },
    {
     "name": "stderr",
     "output_type": "stream",
     "text": [
      "Computing transition probabilities: 100%|██████████| 57/57 [00:00<00:00, 599.68it/s]\n",
      "Generating walks (CPU: 1):  67%|██████▋   | 2/3 [00:00<00:00, 12.35it/s]"
     ]
    },
    {
     "name": "stdout",
     "output_type": "stream",
     "text": [
      "cluster began\n",
      "cluster end\n"
     ]
    },
    {
     "name": "stderr",
     "output_type": "stream",
     "text": [
      "Computing transition probabilities:   0%|          | 0/64 [00:00<?, ?it/s]\n",
      "Computing transition probabilities: 100%|██████████| 64/64 [00:00<00:00, 618.73it/s]\n",
      "Generating walks (CPU: 1):   0%|          | 0/3 [00:00<?, ?it/s]\n",
      "Generating walks (CPU: 1):  67%|██████▋   | 2/3 [00:00<00:00,  7.79it/s]"
     ]
    },
    {
     "name": "stdout",
     "output_type": "stream",
     "text": [
      "cluster began\n",
      "cluster end\n"
     ]
    },
    {
     "name": "stderr",
     "output_type": "stream",
     "text": [
      "Computing transition probabilities: 100%|██████████| 70/70 [00:00<00:00, 484.60it/s]\n",
      "Generating walks (CPU: 1):  67%|██████▋   | 2/3 [00:00<00:00,  8.05it/s]\n",
      "Generating walks (CPU: 2):   0%|          | 0/3 [00:00<?, ?it/s]\n",
      "Generating walks (CPU: 3): 100%|██████████| 2/2 [00:00<00:00, 12.14it/s]\n",
      "Generating walks (CPU: 2): 100%|██████████| 3/3 [00:00<00:00,  6.81it/s]\n",
      "Generating walks (CPU: 4): 100%|██████████| 2/2 [00:00<00:00,  9.05it/s]\n",
      "Generating walks (CPU: 2): 100%|██████████| 3/3 [00:00<00:00,  6.09it/s]"
     ]
    },
    {
     "name": "stdout",
     "output_type": "stream",
     "text": [
      "cluster began\n"
     ]
    },
    {
     "name": "stderr",
     "output_type": "stream",
     "text": [
      "\n"
     ]
    },
    {
     "name": "stdout",
     "output_type": "stream",
     "text": [
      "cluster end\n"
     ]
    },
    {
     "name": "stderr",
     "output_type": "stream",
     "text": [
      "Computing transition probabilities: 100%|██████████| 65/65 [00:00<00:00, 549.65it/s]\n",
      "Generating walks (CPU: 1):   0%|          | 0/3 [00:00<?, ?it/s]\n",
      "\n",
      "Generating walks (CPU: 1): 100%|██████████| 3/3 [00:00<00:00,  6.17it/s]\n",
      "Generating walks (CPU: 2):   0%|          | 0/3 [00:00<?, ?it/s]\n",
      "\n",
      "Generating walks (CPU: 2): 100%|██████████| 3/3 [00:00<00:00,  6.07it/s]\n"
     ]
    },
    {
     "name": "stdout",
     "output_type": "stream",
     "text": [
      "cluster began\n",
      "cluster end\n"
     ]
    },
    {
     "name": "stderr",
     "output_type": "stream",
     "text": [
      "\n",
      "Computing transition probabilities:  60%|█████▉    | 71/119 [00:00<00:00, 162.70it/s]\n",
      "Computing transition probabilities: 100%|██████████| 119/119 [00:00<00:00, 180.00it/s]\n",
      "Generating walks (CPU: 4): 100%|██████████| 2/2 [00:00<00:00,  6.69it/s]"
     ]
    },
    {
     "name": "stdout",
     "output_type": "stream",
     "text": [
      "cluster began\n",
      "cluster end\n"
     ]
    },
    {
     "name": "stderr",
     "output_type": "stream",
     "text": [
      "Computing transition probabilities:  84%|████████▎ | 61/73 [00:00<00:00, 279.94it/s]\n",
      "Computing transition probabilities: 100%|██████████| 73/73 [00:00<00:00, 297.08it/s]\n",
      "Generating walks (CPU: 1): 100%|██████████| 3/3 [00:00<00:00,  3.51it/s]"
     ]
    },
    {
     "name": "stdout",
     "output_type": "stream",
     "text": [
      "cluster began\n",
      "cluster end\n"
     ]
    },
    {
     "name": "stderr",
     "output_type": "stream",
     "text": [
      "Computing transition probabilities: 100%|██████████| 61/61 [00:00<00:00, 456.20it/s]\n",
      "Generating walks (CPU: 1):   0%|          | 0/3 [00:00<?, ?it/s]\n",
      "Generating walks (CPU: 1):  67%|██████▋   | 2/3 [00:00<00:00, 11.10it/s]\n",
      "Generating walks (CPU: 2):  67%|██████▋   | 2/3 [00:00<00:00,  4.80it/s]\n",
      "Generating walks (CPU: 2):  67%|██████▋   | 2/3 [00:00<00:00, 10.34it/s]\n",
      "Generating walks (CPU: 3): 100%|██████████| 2/2 [00:00<00:00,  8.56it/s]"
     ]
    },
    {
     "name": "stdout",
     "output_type": "stream",
     "text": [
      "cluster began\n",
      "cluster end\n"
     ]
    },
    {
     "name": "stderr",
     "output_type": "stream",
     "text": [
      "Computing transition probabilities:   0%|          | 0/181 [00:00<?, ?it/s]\n",
      "Computing transition probabilities:   8%|▊         | 14/181 [00:00<00:01, 132.15it/s]\n",
      "Computing transition probabilities:  12%|█▏        | 21/181 [00:00<00:01, 102.10it/s]\n",
      "Generating walks (CPU: 4): 100%|██████████| 2/2 [00:00<00:00,  6.60it/s], 71.20it/s] \n",
      "Generating walks (CPU: 4): 100%|██████████| 2/2 [00:00<00:00, 10.26it/s], 66.45it/s]\n",
      "Computing transition probabilities:  42%|████▏     | 76/181 [00:00<00:01, 80.01it/s]\n",
      "Computing transition probabilities:  47%|████▋     | 85/181 [00:01<00:01, 74.00it/s]\n",
      "Computing transition probabilities:  94%|█████████▍| 171/181 [00:02<00:00, 68.33it/s]\n",
      "Computing transition probabilities: 100%|██████████| 181/181 [00:02<00:00, 73.99it/s]\n",
      "Generating walks (CPU: 1):   0%|          | 0/3 [00:00<?, ?it/s]"
     ]
    },
    {
     "name": "stdout",
     "output_type": "stream",
     "text": [
      "cluster began\n",
      "cluster end\n"
     ]
    },
    {
     "name": "stderr",
     "output_type": "stream",
     "text": [
      "Computing transition probabilities: 100%|██████████| 45/45 [00:00<00:00, 1014.41it/s]\n",
      "Generating walks (CPU: 1):  67%|██████▋   | 2/3 [00:00<00:00, 12.18it/s]"
     ]
    },
    {
     "name": "stdout",
     "output_type": "stream",
     "text": [
      "cluster began\n",
      "cluster end\n"
     ]
    },
    {
     "name": "stderr",
     "output_type": "stream",
     "text": [
      "Computing transition probabilities:  21%|██▏       | 28/131 [00:00<00:00, 131.67it/s]\n",
      "Computing transition probabilities:  70%|███████   | 92/131 [00:00<00:00, 124.87it/s]\n",
      "Computing transition probabilities: 100%|██████████| 131/131 [00:00<00:00, 133.78it/s]\n",
      "Generating walks (CPU: 1):   0%|          | 0/3 [00:00<?, ?it/s]\n",
      "Generating walks (CPU: 4): 100%|██████████| 2/2 [00:00<00:00, 10.36it/s]\n",
      "Generating walks (CPU: 1):  67%|██████▋   | 2/3 [00:00<00:00,  3.98it/s]"
     ]
    },
    {
     "name": "stdout",
     "output_type": "stream",
     "text": [
      "cluster began\n",
      "cluster end\n"
     ]
    },
    {
     "name": "stderr",
     "output_type": "stream",
     "text": [
      "Computing transition probabilities:  51%|█████     | 36/71 [00:00<00:00, 344.88it/s]\n",
      "Computing transition probabilities: 100%|██████████| 71/71 [00:00<00:00, 351.85it/s]\n",
      "Generating walks (CPU: 1): 100%|██████████| 3/3 [00:00<00:00,  6.09it/s]\n",
      "Generating walks (CPU: 2):  67%|██████▋   | 2/3 [00:00<00:00,  3.14it/s]\n",
      "Generating walks (CPU: 2):  67%|██████▋   | 2/3 [00:00<00:00,  4.23it/s]"
     ]
    },
    {
     "name": "stdout",
     "output_type": "stream",
     "text": [
      "cluster began\n",
      "cluster end\n"
     ]
    },
    {
     "name": "stderr",
     "output_type": "stream",
     "text": [
      "Computing transition probabilities:  50%|████▉     | 50/101 [00:00<00:00, 238.54it/s]\n",
      "Computing transition probabilities: 100%|██████████| 101/101 [00:00<00:00, 287.60it/s]\n",
      "Generating walks (CPU: 1):  67%|██████▋   | 2/3 [00:00<00:00,  5.28it/s]\n",
      "Generating walks (CPU: 3):   0%|          | 0/2 [00:00<?, ?it/s]\n",
      "Generating walks (CPU: 4):   0%|          | 0/2 [00:00<?, ?it/s]\n",
      "Generating walks (CPU: 3): 100%|██████████| 2/2 [00:00<00:00,  4.73it/s]\n",
      "\n",
      "Generating walks (CPU: 3): 100%|██████████| 2/2 [00:00<00:00,  2.93it/s]\n",
      "Generating walks (CPU: 2):  67%|██████▋   | 2/3 [00:00<00:00,  4.73it/s]\n",
      "Generating walks (CPU: 4): 100%|██████████| 2/2 [00:00<00:00,  3.53it/s]\n",
      "Generating walks (CPU: 3):   0%|          | 0/2 [00:00<?, ?it/s]\n",
      "Generating walks (CPU: 3): 100%|██████████| 2/2 [00:00<00:00,  5.66it/s]\n",
      "Generating walks (CPU: 4):   0%|          | 0/2 [00:00<?, ?it/s]"
     ]
    },
    {
     "name": "stdout",
     "output_type": "stream",
     "text": [
      "cluster began\n",
      "cluster end\n"
     ]
    },
    {
     "name": "stderr",
     "output_type": "stream",
     "text": [
      "Computing transition probabilities:   9%|▉         | 12/137 [00:00<00:01, 114.16it/s]\n",
      "Computing transition probabilities:  58%|█████▊    | 79/137 [00:00<00:00, 100.74it/s]\n",
      "Computing transition probabilities: 100%|██████████| 137/137 [00:01<00:00, 121.07it/s]\n",
      "Generating walks (CPU: 1):  67%|██████▋   | 2/3 [00:00<00:00,  3.92it/s]"
     ]
    },
    {
     "name": "stdout",
     "output_type": "stream",
     "text": [
      "cluster began\n",
      "cluster end\n"
     ]
    },
    {
     "name": "stderr",
     "output_type": "stream",
     "text": [
      "Computing transition probabilities: 100%|██████████| 127/127 [00:00<00:00, 164.77it/s]\n",
      "Generating walks (CPU: 1):   0%|          | 0/3 [00:00<?, ?it/s]"
     ]
    },
    {
     "name": "stdout",
     "output_type": "stream",
     "text": [
      "cluster began\n",
      "cluster end\n"
     ]
    },
    {
     "name": "stderr",
     "output_type": "stream",
     "text": [
      "Computing transition probabilities:   0%|          | 0/88 [00:00<?, ?it/s]\n",
      "Computing transition probabilities:  45%|████▌     | 40/88 [00:00<00:00, 389.54it/s]"
     ]
    },
    {
     "name": "stdout",
     "output_type": "stream",
     "text": [
      "cluster began\n"
     ]
    },
    {
     "name": "stderr",
     "output_type": "stream",
     "text": [
      "\r",
      "Computing transition probabilities:  89%|████████▊ | 78/88 [00:00<00:00, 378.56it/s]"
     ]
    },
    {
     "name": "stdout",
     "output_type": "stream",
     "text": [
      "cluster end\n"
     ]
    },
    {
     "name": "stderr",
     "output_type": "stream",
     "text": [
      "Computing transition probabilities: 100%|██████████| 88/88 [00:00<00:00, 354.97it/s]\n",
      "Computing transition probabilities: 100%|██████████| 129/129 [00:00<00:00, 164.84it/s]\n",
      "Generating walks (CPU: 2): 100%|██████████| 3/3 [00:00<00:00,  3.22it/s]\n",
      "Generating walks (CPU: 2):   0%|          | 0/3 [00:00<?, ?it/s]\n",
      "Generating walks (CPU: 1):  67%|██████▋   | 2/3 [00:00<00:00,  4.67it/s]\n",
      "Generating walks (CPU: 3): 100%|██████████| 2/2 [00:00<00:00,  4.64it/s]\n",
      "Generating walks (CPU: 2): 100%|██████████| 3/3 [00:00<00:00,  3.76it/s]\n",
      "Generating walks (CPU: 3): 100%|██████████| 2/2 [00:00<00:00,  5.25it/s]\n",
      "Generating walks (CPU: 3):   0%|          | 0/2 [00:00<?, ?it/s]\n",
      "Generating walks (CPU: 2):   0%|          | 0/3 [00:00<?, ?it/s]\n",
      "Generating walks (CPU: 2):  67%|██████▋   | 2/3 [00:00<00:00,  4.58it/s]\n",
      "\n",
      "\n",
      "Generating walks (CPU: 4): 100%|██████████| 2/2 [00:00<00:00,  4.20it/s]\n",
      "Generating walks (CPU: 3):   0%|          | 0/2 [00:00<?, ?it/s]\n",
      "Generating walks (CPU: 3): 100%|██████████| 2/2 [00:00<00:00,  4.55it/s]\n",
      "Generating walks (CPU: 4): 100%|██████████| 2/2 [00:00<00:00,  4.29it/s]"
     ]
    },
    {
     "name": "stdout",
     "output_type": "stream",
     "text": [
      "cluster began\n",
      "cluster end\n"
     ]
    },
    {
     "name": "stderr",
     "output_type": "stream",
     "text": [
      "\r",
      "Computing transition probabilities:   0%|          | 0/128 [00:00<?, ?it/s]"
     ]
    },
    {
     "name": "stdout",
     "output_type": "stream",
     "text": [
      "cluster began\n",
      "cluster end\n"
     ]
    },
    {
     "name": "stderr",
     "output_type": "stream",
     "text": [
      "Computing transition probabilities:  73%|███████▎  | 59/81 [00:00<00:00, 300.90it/s]]\n",
      "Computing transition probabilities: 100%|██████████| 81/81 [00:00<00:00, 281.66it/s]]\n",
      "Computing transition probabilities: 100%|██████████| 128/128 [00:00<00:00, 162.41it/s]\n",
      "Generating walks (CPU: 1): 100%|██████████| 3/3 [00:00<00:00,  5.02it/s]\n",
      "Generating walks (CPU: 1):  67%|██████▋   | 2/3 [00:00<00:00,  4.36it/s]"
     ]
    },
    {
     "name": "stdout",
     "output_type": "stream",
     "text": [
      "cluster began\n",
      "cluster end\n"
     ]
    },
    {
     "name": "stderr",
     "output_type": "stream",
     "text": [
      "Computing transition probabilities: 100%|██████████| 123/123 [00:00<00:00, 183.73it/s]\n",
      "Generating walks (CPU: 1):   0%|          | 0/3 [00:00<?, ?it/s]\n",
      "Generating walks (CPU: 2):   0%|          | 0/3 [00:00<?, ?it/s]\n",
      "Generating walks (CPU: 2):  67%|██████▋   | 2/3 [00:00<00:00,  4.80it/s]"
     ]
    },
    {
     "name": "stdout",
     "output_type": "stream",
     "text": [
      "cluster began\n"
     ]
    },
    {
     "name": "stderr",
     "output_type": "stream",
     "text": [
      "\n",
      "Generating walks (CPU: 4):   0%|          | 0/2 [00:00<?, ?it/s]"
     ]
    },
    {
     "name": "stdout",
     "output_type": "stream",
     "text": [
      "cluster end\n"
     ]
    },
    {
     "name": "stderr",
     "output_type": "stream",
     "text": [
      "Computing transition probabilities:  69%|██████▉   | 79/114 [00:00<00:00, 175.26it/s]\n",
      "Computing transition probabilities: 100%|██████████| 114/114 [00:00<00:00, 176.86it/s]\n",
      "Generating walks (CPU: 1):   0%|          | 0/3 [00:00<?, ?it/s]\n",
      "Generating walks (CPU: 2):   0%|          | 0/3 [00:00<?, ?it/s]\n",
      "Generating walks (CPU: 2): 100%|██████████| 3/3 [00:00<00:00,  3.52it/s]\n",
      "Generating walks (CPU: 4):   0%|          | 0/2 [00:00<?, ?it/s]\n",
      "Generating walks (CPU: 2):   0%|          | 0/3 [00:00<?, ?it/s]\n",
      "Generating walks (CPU: 3): 100%|██████████| 2/2 [00:00<00:00,  4.95it/s]"
     ]
    },
    {
     "name": "stdout",
     "output_type": "stream",
     "text": [
      "cluster began\n",
      "cluster end\n"
     ]
    },
    {
     "name": "stderr",
     "output_type": "stream",
     "text": [
      "Computing transition probabilities:   0%|          | 0/69 [00:00<?, ?it/s]\n",
      "Computing transition probabilities: 100%|██████████| 69/69 [00:00<00:00, 423.40it/s]\n",
      "Generating walks (CPU: 1):   0%|          | 0/3 [00:00<?, ?it/s]\n",
      "Generating walks (CPU: 1):  67%|██████▋   | 2/3 [00:00<00:00,  6.52it/s]\n",
      "Generating walks (CPU: 3): 100%|██████████| 2/2 [00:00<00:00,  4.75it/s]\n",
      "Generating walks (CPU: 2):   0%|          | 0/3 [00:00<?, ?it/s]\n",
      "\n",
      "Generating walks (CPU: 4): 100%|██████████| 2/2 [00:00<00:00,  4.50it/s]\n",
      "Generating walks (CPU: 3):   0%|          | 0/2 [00:00<?, ?it/s]\n",
      "Generating walks (CPU: 3): 100%|██████████| 2/2 [00:00<00:00,  7.48it/s]\n",
      "Generating walks (CPU: 4):   0%|          | 0/2 [00:00<?, ?it/s]"
     ]
    },
    {
     "name": "stdout",
     "output_type": "stream",
     "text": [
      "cluster began\n",
      "cluster end\n"
     ]
    },
    {
     "name": "stderr",
     "output_type": "stream",
     "text": [
      "Computing transition probabilities:  41%|████▏     | 48/116 [00:00<00:00, 162.29it/s]\n",
      "Computing transition probabilities: 100%|██████████| 116/116 [00:00<00:00, 162.97it/s]\n",
      "Generating walks (CPU: 1):  67%|██████▋   | 2/3 [00:00<00:00,  4.54it/s]"
     ]
    },
    {
     "name": "stdout",
     "output_type": "stream",
     "text": [
      "cluster began\n",
      "cluster end\n"
     ]
    },
    {
     "name": "stderr",
     "output_type": "stream",
     "text": [
      "Computing transition probabilities: 100%|██████████| 80/80 [00:00<00:00, 426.42it/s]\n",
      "Generating walks (CPU: 1):  67%|██████▋   | 2/3 [00:00<00:00,  7.76it/s]"
     ]
    },
    {
     "name": "stdout",
     "output_type": "stream",
     "text": [
      "cluster began\n",
      "cluster end\n"
     ]
    },
    {
     "name": "stderr",
     "output_type": "stream",
     "text": [
      "Computing transition probabilities: 100%|██████████| 56/56 [00:00<00:00, 887.28it/s]\n",
      "Generating walks (CPU: 1):   0%|          | 0/3 [00:00<?, ?it/s]\n",
      "Generating walks (CPU: 1):  67%|██████▋   | 2/3 [00:00<00:00, 10.09it/s]\n",
      "Generating walks (CPU: 2):  67%|██████▋   | 2/3 [00:00<00:00,  4.76it/s]\n",
      "Generating walks (CPU: 2): 100%|██████████| 3/3 [00:00<00:00,  3.52it/s]"
     ]
    },
    {
     "name": "stdout",
     "output_type": "stream",
     "text": [
      "cluster began\n",
      "cluster end\n"
     ]
    },
    {
     "name": "stderr",
     "output_type": "stream",
     "text": [
      "Computing transition probabilities:   0%|          | 0/163 [00:00<?, ?it/s]\n",
      "Computing transition probabilities:   3%|▎         | 5/163 [00:00<00:03, 49.15it/s]\n",
      "Computing transition probabilities:  12%|█▏        | 19/163 [00:00<00:02, 56.62it/s]\n",
      "Generating walks (CPU: 4):   0%|          | 0/2 [00:00<?, ?it/s]\n",
      "Computing transition probabilities:  31%|███▏      | 51/163 [00:00<00:01, 77.45it/s]\n",
      "Computing transition probabilities:  40%|████      | 66/163 [00:00<00:01, 90.51it/s]\n",
      "Computing transition probabilities:  64%|██████▍   | 104/163 [00:01<00:00, 86.59it/s]\n",
      "Computing transition probabilities:  76%|███████▌  | 124/163 [00:01<00:00, 84.22it/s]\n",
      "Computing transition probabilities: 100%|██████████| 163/163 [00:01<00:00, 83.45it/s]\n",
      "Generating walks (CPU: 1):   0%|          | 0/3 [00:00<?, ?it/s]\n",
      "Generating walks (CPU: 1): 100%|██████████| 3/3 [00:01<00:00,  2.49it/s]"
     ]
    },
    {
     "name": "stdout",
     "output_type": "stream",
     "text": [
      "cluster began\n",
      "cluster end\n"
     ]
    },
    {
     "name": "stderr",
     "output_type": "stream",
     "text": [
      "Computing transition probabilities:  81%|████████▏ | 88/108 [00:00<00:00, 194.37it/s]\n",
      "Generating walks (CPU: 2):   0%|          | 0/3 [00:00<?, ?it/s]"
     ]
    },
    {
     "name": "stdout",
     "output_type": "stream",
     "text": [
      "cluster began\n"
     ]
    },
    {
     "name": "stderr",
     "output_type": "stream",
     "text": [
      "\r",
      "Computing transition probabilities:  98%|█████████▊| 106/108 [00:00<00:00, 180.16it/s]"
     ]
    },
    {
     "name": "stdout",
     "output_type": "stream",
     "text": [
      "cluster end\n"
     ]
    },
    {
     "name": "stderr",
     "output_type": "stream",
     "text": [
      "Computing transition probabilities: 100%|██████████| 108/108 [00:00<00:00, 199.64it/s]\n",
      "Computing transition probabilities: 100%|██████████| 95/95 [00:00<00:00, 288.17it/s]\n",
      "Generating walks (CPU: 1): 100%|██████████| 3/3 [00:00<00:00,  5.07it/s]\n",
      "Generating walks (CPU: 2): 100%|██████████| 3/3 [00:01<00:00,  2.51it/s]"
     ]
    },
    {
     "name": "stdout",
     "output_type": "stream",
     "text": [
      "cluster began\n"
     ]
    },
    {
     "name": "stderr",
     "output_type": "stream",
     "text": [
      "\n",
      "Generating walks (CPU: 2):   0%|          | 0/3 [00:00<?, ?it/s]"
     ]
    },
    {
     "name": "stdout",
     "output_type": "stream",
     "text": [
      "cluster end\n"
     ]
    },
    {
     "name": "stderr",
     "output_type": "stream",
     "text": [
      "Computing transition probabilities:  39%|███▉      | 58/148 [00:00<00:00, 139.82it/s]\n",
      "Computing transition probabilities:  81%|████████  | 120/148 [00:00<00:00, 147.29it/s]\n",
      "Generating walks (CPU: 3):   0%|          | 0/2 [00:00<?, ?it/s]\n",
      "Computing transition probabilities: 100%|██████████| 148/148 [00:01<00:00, 131.36it/s]\n",
      "Generating walks (CPU: 3): 100%|██████████| 2/2 [00:00<00:00,  6.07it/s]\n",
      "Generating walks (CPU: 4):   0%|          | 0/2 [00:00<?, ?it/s]\n",
      "Generating walks (CPU: 4):   0%|          | 0/2 [00:00<?, ?it/s]\n",
      "Generating walks (CPU: 4): 100%|██████████| 2/2 [00:00<00:00,  4.76it/s]\n",
      "Generating walks (CPU: 4): 100%|██████████| 2/2 [00:00<00:00,  3.18it/s]\n",
      "\n",
      "Generating walks (CPU: 2):   0%|          | 0/3 [00:00<?, ?it/s]\n",
      "Generating walks (CPU: 2): 100%|██████████| 3/3 [00:01<00:00,  2.60it/s]\n",
      "Generating walks (CPU: 3):   0%|          | 0/2 [00:00<?, ?it/s]"
     ]
    },
    {
     "name": "stdout",
     "output_type": "stream",
     "text": [
      "cluster began\n",
      "cluster end\n"
     ]
    },
    {
     "name": "stderr",
     "output_type": "stream",
     "text": [
      "Computing transition probabilities: 100%|██████████| 107/107 [00:00<00:00, 275.50it/s]\n",
      "Generating walks (CPU: 1):   0%|          | 0/3 [00:00<?, ?it/s]"
     ]
    },
    {
     "name": "stdout",
     "output_type": "stream",
     "text": [
      "cluster began\n",
      "cluster end\n"
     ]
    },
    {
     "name": "stderr",
     "output_type": "stream",
     "text": [
      "Computing transition probabilities:  16%|█▌        | 22/137 [00:00<00:01, 103.52it/s]\n",
      "Computing transition probabilities:  74%|███████▍  | 102/137 [00:00<00:00, 132.93it/s]"
     ]
    },
    {
     "name": "stdout",
     "output_type": "stream",
     "text": [
      "cluster began\n"
     ]
    },
    {
     "name": "stderr",
     "output_type": "stream",
     "text": [
      "\r",
      "Computing transition probabilities:  88%|████████▊ | 121/137 [00:00<00:00, 145.47it/s]"
     ]
    },
    {
     "name": "stdout",
     "output_type": "stream",
     "text": [
      "cluster end\n"
     ]
    },
    {
     "name": "stderr",
     "output_type": "stream",
     "text": [
      "Computing transition probabilities: 100%|██████████| 137/137 [00:01<00:00, 129.29it/s]\n",
      "Computing transition probabilities:  19%|█▉        | 25/131 [00:00<00:00, 124.23it/s]\n",
      "Generating walks (CPU: 2):  67%|██████▋   | 2/3 [00:00<00:00,  5.01it/s], 145.65it/s]\n",
      "Computing transition probabilities: 100%|██████████| 131/131 [00:00<00:00, 132.87it/s]\n",
      "Generating walks (CPU: 1):  67%|██████▋   | 2/3 [00:00<00:00,  4.10it/s]\n",
      "Generating walks (CPU: 3):   0%|          | 0/2 [00:00<?, ?it/s]\n",
      "Generating walks (CPU: 2):  67%|██████▋   | 2/3 [00:00<00:00,  4.52it/s]\n",
      "Generating walks (CPU: 4):   0%|          | 0/2 [00:00<?, ?it/s]\n",
      "Generating walks (CPU: 2):  67%|██████▋   | 2/3 [00:00<00:00,  3.95it/s]\n",
      "\n",
      "Generating walks (CPU: 2): 100%|██████████| 3/3 [00:01<00:00,  2.98it/s]"
     ]
    },
    {
     "name": "stdout",
     "output_type": "stream",
     "text": [
      "cluster began\n",
      "cluster end\n"
     ]
    },
    {
     "name": "stderr",
     "output_type": "stream",
     "text": [
      "Computing transition probabilities:  82%|████████▎ | 66/80 [00:00<00:00, 342.74it/s]\n",
      "Computing transition probabilities: 100%|██████████| 80/80 [00:00<00:00, 313.03it/s]\n",
      "Generating walks (CPU: 1):  67%|██████▋   | 2/3 [00:00<00:00,  7.91it/s]\n",
      "Generating walks (CPU: 1): 100%|██████████| 3/3 [00:00<00:00,  6.14it/s]\n",
      "Generating walks (CPU: 2):   0%|          | 0/3 [00:00<?, ?it/s]\n",
      "Generating walks (CPU: 4): 100%|██████████| 2/2 [00:00<00:00,  4.78it/s]\n",
      "Generating walks (CPU: 2): 100%|██████████| 3/3 [00:00<00:00,  5.96it/s]\n",
      "Generating walks (CPU: 3):   0%|          | 0/2 [00:00<?, ?it/s]\n"
     ]
    },
    {
     "name": "stdout",
     "output_type": "stream",
     "text": [
      "cluster began\n",
      "cluster end\n"
     ]
    },
    {
     "name": "stderr",
     "output_type": "stream",
     "text": [
      "Computing transition probabilities: 100%|██████████| 88/88 [00:00<00:00, 262.01it/s]\n",
      "Generating walks (CPU: 1):   0%|          | 0/3 [00:00<?, ?it/s]\n",
      "Generating walks (CPU: 4): 100%|██████████| 2/2 [00:00<00:00,  7.11it/s]\n",
      "Generating walks (CPU: 1): 100%|██████████| 3/3 [00:00<00:00,  3.96it/s]\n",
      "Generating walks (CPU: 2): 100%|██████████| 3/3 [00:00<00:00,  5.51it/s]\n",
      "Generating walks (CPU: 3):   0%|          | 0/2 [00:00<?, ?it/s]"
     ]
    },
    {
     "name": "stdout",
     "output_type": "stream",
     "text": [
      "cluster began\n",
      "cluster end\n"
     ]
    },
    {
     "name": "stderr",
     "output_type": "stream",
     "text": [
      "Computing transition probabilities:  94%|█████████▎| 88/94 [00:00<00:00, 261.74it/s]"
     ]
    },
    {
     "name": "stdout",
     "output_type": "stream",
     "text": [
      "cluster began\n",
      "cluster end\n"
     ]
    },
    {
     "name": "stderr",
     "output_type": "stream",
     "text": [
      "Computing transition probabilities: 100%|██████████| 94/94 [00:00<00:00, 283.16it/s]\n",
      "Generating walks (CPU: 1):   0%|          | 0/3 [00:00<?, ?it/s]\n",
      "Computing transition probabilities: 100%|██████████| 56/56 [00:00<00:00, 887.89it/s]\n",
      "Generating walks (CPU: 1): 100%|██████████| 3/3 [00:00<00:00,  8.82it/s]\n",
      "Generating walks (CPU: 1): 100%|██████████| 3/3 [00:00<00:00,  4.74it/s]\n",
      "Generating walks (CPU: 2):  67%|██████▋   | 2/3 [00:00<00:00,  9.18it/s]\n",
      "Generating walks (CPU: 2): 100%|██████████| 3/3 [00:00<00:00,  7.10it/s]\n",
      "Generating walks (CPU: 3): 100%|██████████| 2/2 [00:00<00:00, 10.71it/s]\n",
      "Generating walks (CPU: 4): 100%|██████████| 2/2 [00:00<00:00, 10.08it/s]\n",
      "\n",
      "Generating walks (CPU: 3): 100%|██████████| 2/2 [00:00<00:00,  5.99it/s]\n",
      "Generating walks (CPU: 4): 100%|██████████| 2/2 [00:00<00:00,  7.30it/s]\n"
     ]
    },
    {
     "name": "stdout",
     "output_type": "stream",
     "text": [
      "cluster began\n",
      "cluster end\n"
     ]
    },
    {
     "name": "stderr",
     "output_type": "stream",
     "text": [
      "Computing transition probabilities: 100%|██████████| 44/44 [00:00<00:00, 1053.97it/s]\n",
      "Generating walks (CPU: 1): 100%|██████████| 3/3 [00:00<00:00, 11.14it/s]\n",
      "Generating walks (CPU: 2): 100%|██████████| 3/3 [00:00<00:00, 12.25it/s]\n",
      "Generating walks (CPU: 3): 100%|██████████| 2/2 [00:00<00:00, 16.68it/s]\n",
      "Generating walks (CPU: 4): 100%|██████████| 2/2 [00:00<00:00, 16.58it/s]\n"
     ]
    },
    {
     "name": "stdout",
     "output_type": "stream",
     "text": [
      "cluster began\n",
      "cluster end\n"
     ]
    },
    {
     "name": "stderr",
     "output_type": "stream",
     "text": [
      "Computing transition probabilities: 100%|██████████| 119/119 [00:00<00:00, 257.38it/s]\n",
      "Generating walks (CPU: 1): 100%|██████████| 3/3 [00:00<00:00,  4.47it/s]\n",
      "Generating walks (CPU: 2): 100%|██████████| 3/3 [00:00<00:00,  4.12it/s]\n",
      "Generating walks (CPU: 3): 100%|██████████| 2/2 [00:00<00:00,  5.24it/s]\n",
      "Generating walks (CPU: 4): 100%|██████████| 2/2 [00:00<00:00,  5.46it/s]\n"
     ]
    },
    {
     "name": "stdout",
     "output_type": "stream",
     "text": [
      "cluster began\n",
      "cluster end\n"
     ]
    },
    {
     "name": "stderr",
     "output_type": "stream",
     "text": [
      "Computing transition probabilities: 100%|██████████| 105/105 [00:00<00:00, 282.17it/s]\n",
      "Generating walks (CPU: 1): 100%|██████████| 3/3 [00:00<00:00,  4.89it/s]\n",
      "Generating walks (CPU: 2): 100%|██████████| 3/3 [00:00<00:00,  5.17it/s]\n",
      "Generating walks (CPU: 3): 100%|██████████| 2/2 [00:00<00:00,  6.47it/s]\n",
      "Generating walks (CPU: 4): 100%|██████████| 2/2 [00:00<00:00,  6.19it/s]\n"
     ]
    }
   ],
   "source": [
    "def vectorize(path):\n",
    "    bag = GraphGenerator(path, emb, word2id_dict, id2word_dict, is_file=False)\n",
    "    G = bag.generate_graph()\n",
    "    if nx.number_of_nodes(G) <= 400:\n",
    "        return gen_style_vec(G)\n",
    "    else:\n",
    "        return None\n",
    "\n",
    "def main():    \n",
    "    p = Pool(N_CORES)\n",
    "    texts = []\n",
    "    for entry in data:\n",
    "        if entry['paperAbstract'] is not '':\n",
    "            texts += [(entry['title'], entry['journalName'], entry['paperAbstract'])]\n",
    "    text_entries = [x[2] for x in texts]\n",
    "    print(text_entries)\n",
    "    return p.map(vectorize, text_entries), texts\n",
    "\n",
    "finished, texts = main()"
   ]
  },
  {
   "cell_type": "code",
   "execution_count": 25,
   "metadata": {},
   "outputs": [],
   "source": [
    "vectors = [(title, journal, finished[i]) for i, (title, journal, abstract) in enumerate(texts) if finished[i] is not None]"
   ]
  },
  {
   "cell_type": "code",
   "execution_count": 26,
   "metadata": {},
   "outputs": [],
   "source": [
    "pres = [x[1] for x in vectors]\n",
    "X = np.concatenate([x[2][:,np.newaxis] for x in vectors], axis=1)"
   ]
  },
  {
   "cell_type": "code",
   "execution_count": 29,
   "metadata": {},
   "outputs": [
    {
     "name": "stdout",
     "output_type": "stream",
     "text": [
      "['The Journal of reproductive medicine', 'Journal of immunology', \"Nihon Rinsho Men'eki Gakkai kaishi = Japanese journal of clinical immunology\", 'International journal for parasitology', 'JAMA', 'Schweizerische Zeitschrift für Hydrologie', 'Biochimica et biophysica acta', 'The American journal of physiology', 'Inorganic chemistry', 'Acta physiologica Scandinavica. Supplementum', 'Biological & pharmaceutical bulletin', 'Bioorganic & medicinal chemistry letters', 'Applied radiology', 'Toxicology letters', '', 'Deutsches Arzteblatt international', 'Physical review. E, Statistical, nonlinear, and soft matter physics', 'The American journal of pathology', '', 'European journal of cardio-thoracic surgery : official journal of the European Association for Cardio-thoracic Surgery', 'Blood', '2011 IEEE International Symposium on Dynamic Spectrum Access Networks (DySPAN)', 'Omics : a journal of integrative biology', 'Neurocomputing', 'European journal of cardio-thoracic surgery : official journal of the European Association for Cardio-thoracic Surgery', '2015 International Conference on Electronic Packaging and iMAPS All Asia Conference (ICEP-IAAC)', 'Acta crystallographica. Section C, Structural chemistry', 'The anatomical record. Part A, Discoveries in molecular, cellular, and evolutionary biology', 'Lijecnicki vjesnik', 'Southern medical journal', 'European journal of cancer prevention : the official journal of the European Cancer Prevention Organisation', 'IEEE Signal Processing Letters', '', '', 'Nature', 'IEEE Transactions on Visualization and Computer Graphics', '', 'FEMS microbiology ecology', \"Naunyn-Schmiedeberg's Archives of Pharmacology\", 'Food additives & contaminants. Part A, Chemistry, analysis, control, exposure & risk assessment', 'Revista clinica espanola', 'Journal of child psychology and psychiatry, and allied disciplines', 'Journal of Pest Science', '', 'Current neurovascular research', '', '2016 CIE International Conference on Radar (RADAR)', 'Chemistry of Natural Compounds', '', '2014 International Conference on Power System Technology', 'The Journal of antibiotics', 'Analytical chemistry', 'Trends in pharmacological sciences', '', 'Genetics', '', '2013 23rd International Crimean Conference \"Microwave & Telecommunication Technology\"']\n"
     ]
    }
   ],
   "source": [
    "print(pres)"
   ]
  },
  {
   "cell_type": "code",
   "execution_count": 27,
   "metadata": {},
   "outputs": [
    {
     "name": "stdout",
     "output_type": "stream",
     "text": [
      "(57, 2)\n"
     ]
    }
   ],
   "source": [
    "from sklearn import manifold\n",
    "from sklearn.decomposition import PCA\n",
    "\n",
    "pca = PCA(50)\n",
    "X_r = pca.fit(X[1:,:].T).transform(X[1:,:].T)\n",
    "tsne = manifold.TSNE()\n",
    "X_embedded = tsne.fit_transform(X_r)\n",
    "print(X_embedded.shape)"
   ]
  },
  {
   "cell_type": "code",
   "execution_count": 30,
   "metadata": {},
   "outputs": [
    {
     "data": {
      "text/html": [
       "<iframe id=\"igraph\" scrolling=\"no\" style=\"border:none;\" seamless=\"seamless\" src=\"https://plot.ly/~amanjuna/44.embed\" height=\"525px\" width=\"100%\"></iframe>"
      ],
      "text/plain": [
       "<plotly.tools.PlotlyDisplay object>"
      ]
     },
     "execution_count": 30,
     "metadata": {},
     "output_type": "execute_result"
    }
   ],
   "source": [
    "import plotly\n",
    "import plotly.plotly as py\n",
    "import plotly.graph_objs as go\n",
    "from plotly import tools\n",
    "\n",
    "plotly.tools.set_credentials_file(username='amanjuna', api_key='v5RvlMiKGJwt6X5yxmUQ')\n",
    "\n",
    "plots = []\n",
    "for president in set(pres):\n",
    "    occur = [i for i, x in enumerate(pres) if x == president]\n",
    "    plots += [go.Scatter(x = X_embedded[occur,0], y = X_embedded[occur,1], mode='markers', name=president)]\n",
    "fig = go.Figure(data=plots)\n",
    "py.iplot(fig, filename=\"whatever\")"
   ]
  },
  {
   "cell_type": "code",
   "execution_count": null,
   "metadata": {},
   "outputs": [],
   "source": []
  }
 ],
 "metadata": {
  "kernelspec": {
   "display_name": "Python 3",
   "language": "python",
   "name": "python3"
  }
 },
 "nbformat": 4,
 "nbformat_minor": 2
}
